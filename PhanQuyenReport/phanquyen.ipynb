{
 "cells": [
  {
   "cell_type": "code",
   "execution_count": 1,
   "metadata": {},
   "outputs": [
    {
     "name": "stdout",
     "output_type": "stream",
     "text": [
      "Default bq project:  spatial-vision-343005.biteam\n"
     ]
    }
   ],
   "source": [
    "from utils.df_handle import *"
   ]
  },
  {
   "cell_type": "code",
   "execution_count": 2,
   "metadata": {},
   "outputs": [
    {
     "name": "stderr",
     "output_type": "stream",
     "text": [
      "C:\\Users\\Van Quang Duy\\AppData\\Local\\Temp\\ipykernel_16568\\2675974430.py:37: SettingWithCopyWarning: \n",
      "A value is trying to be set on a copy of a slice from a DataFrame.\n",
      "Try using .loc[row_indexer,col_indexer] = value instead\n",
      "\n",
      "See the caveats in the documentation: https://pandas.pydata.org/pandas-docs/stable/user_guide/indexing.html#returning-a-view-versus-a-copy\n",
      "  df_mail['email1'] = df_mail['email'].str.lower()\n"
     ]
    }
   ],
   "source": [
    "#lấy data danh sách report\n",
    "df = pd.read_csv(\"https://docs.google.com/spreadsheets/d/e/2PACX-1vSuXl7AnpSA5j_KrgFO2zhLn8DsD20RVuuG7g6Y7F9y5EbiPHT05ug_m3eh8MBOaMDvNmk-DX4g0igF/pub?gid=1043526978&single=true&output=csv\")\n",
    "cleancols(df)\n",
    "df.columns =lower_col(df)\n",
    "df_aut = pd.melt(df,id_vars=['tenreport', 'linkreport', 'type','id', 'vw'])\n",
    "df_aut=df_aut[~df_aut['value'].isna()]\n",
    "df_aut.rename(columns={'value':'accessgroup'},inplace=True)\n",
    "\n",
    "#lấy data phân quyền detail tách theo phân quyền CA & non CA\n",
    "df_group = pd.read_csv(\"https://docs.google.com/spreadsheets/d/e/2PACX-1vSuXl7AnpSA5j_KrgFO2zhLn8DsD20RVuuG7g6Y7F9y5EbiPHT05ug_m3eh8MBOaMDvNmk-DX4g0igF/pub?gid=2075224509&single=true&output=csv\")\n",
    "cleancols(df_group)\n",
    "df_group.columns=lower_col(df_group)    \n",
    "dk2= df_group['csv_link']!='CA'\n",
    "df_link = df_group[~df_group['csv_link'].isna()]\n",
    "link=df_link['csv_link'][df_link['accessgroupcongtyphongbanlevel']!='CA']\n",
    "ca_link=df_link['csv_link'][df_link['accessgroupcongtyphongbanlevel']=='CA']\n",
    "\n",
    "# #Join phân quyền theo Access Group\n",
    "df0 = pd.DataFrame()\n",
    "for i in link:\n",
    "    df = pd.read_csv(i)\n",
    "    df0 = pd.concat([df0,df])\n",
    "dropdup(df0,3)\n",
    "df0['accessgroup'] = df0['congty']+'-'+df0['phongban']+'-'+df0['chucdanh']\n",
    "full_df = pd.merge(df_aut,df0,how='inner', on='accessgroup')\n",
    "\n",
    "# #Join phân quyền theo chuc danh đối với cấp CA\n",
    "df1 = pd.DataFrame()\n",
    "for i in ca_link:\n",
    "    df = pd.read_csv(i)\n",
    "    df1 = pd.concat([df1,df])\n",
    "full_df_ca = pd.merge(df_aut,df1,how='inner',left_on='accessgroup', right_on='chucdanh')\n",
    "\n",
    "#nối data & inset to BQ\n",
    "full_df = pd.concat([full_df,full_df_ca])\n",
    "df_mail = full_df[['email','tencvbh']]\n",
    "df_mail['email1'] = df_mail['email'].str.lower()\n",
    "df_mail = dropdup(df_mail,3,subset='email1')\n",
    "df_mail['tencvbh1'] =df_mail['tencvbh']\n",
    "df_mail=df_mail[['email','tencvbh1','email1']]\n",
    "full_df = pd.merge(full_df,df_mail,how='left',on='email')\n",
    "full_df.drop(['email','tencvbh'], axis=1,inplace=True)\n",
    "full_df.rename(columns={'email1':'email',\n",
    "                            'tencvbh1':'tencvbh'\n",
    "                            }, inplace=True)\n",
    "\n",
    "\n",
    "full_df['inserted_at']=datetime.now()"
   ]
  },
  {
   "cell_type": "code",
   "execution_count": 8,
   "metadata": {},
   "outputs": [],
   "source": [
    "# full_df.to_clipboard()"
   ]
  },
  {
   "cell_type": "code",
   "execution_count": 3,
   "metadata": {},
   "outputs": [],
   "source": [
    "full_df = dropdup(full_df, 1, subset=['id', 'manv'])"
   ]
  },
  {
   "cell_type": "code",
   "execution_count": 4,
   "metadata": {},
   "outputs": [],
   "source": [
    "bq_values_insert(full_df, \"d_phanquyen_tonghop_sep\",3)"
   ]
  },
  {
   "cell_type": "code",
   "execution_count": null,
   "metadata": {},
   "outputs": [],
   "source": [
    "# SELECT tenreport, id, manv, type, vw FROM `spatial-vision-343005.biteam.d_phanquyen_tonghop_sep`"
   ]
  },
  {
   "cell_type": "code",
   "execution_count": 1,
   "metadata": {},
   "outputs": [],
   "source": [
    "upload_file_to_bucket_with_metadata(blobname=\"public/duy.csv\", file=\"report_users.csv\")"
   ]
  },
  {
   "cell_type": "code",
   "execution_count": 2,
   "metadata": {},
   "outputs": [],
   "source": [
    "client=storage.Client()"
   ]
  },
  {
   "cell_type": "code",
   "execution_count": 22,
   "metadata": {},
   "outputs": [],
   "source": [
    "bucketname='django_media_biteam'\n",
    "blobname=\"public/test1.json\""
   ]
  },
  {
   "cell_type": "code",
   "execution_count": 23,
   "metadata": {},
   "outputs": [],
   "source": [
    "bucket = client.get_bucket(bucketname)\n",
    "blob = bucket.blob(blobname)"
   ]
  },
  {
   "cell_type": "code",
   "execution_count": 24,
   "metadata": {},
   "outputs": [],
   "source": [
    "bucket = client.get_bucket('django_media_biteam')"
   ]
  },
  {
   "cell_type": "code",
   "execution_count": 25,
   "metadata": {},
   "outputs": [],
   "source": [
    "blob = bucket.blob(blobname)"
   ]
  },
  {
   "cell_type": "code",
   "execution_count": 26,
   "metadata": {},
   "outputs": [],
   "source": [
    "blob.cache_control = 'no-cache'"
   ]
  },
  {
   "cell_type": "code",
   "execution_count": 27,
   "metadata": {},
   "outputs": [],
   "source": [
    "metadata = {'Cache-Control': 'no-cache'}\n",
    "blob.metadata = metadata"
   ]
  },
  {
   "cell_type": "code",
   "execution_count": 29,
   "metadata": {},
   "outputs": [],
   "source": [
    "blob.upload_from_filename(\"user_reports1.json\")"
   ]
  },
  {
   "cell_type": "code",
   "execution_count": null,
   "metadata": {},
   "outputs": [],
   "source": []
  }
 ],
 "metadata": {
  "kernelspec": {
   "display_name": "Python 3.8.10 ('venv': venv)",
   "language": "python",
   "name": "python3"
  },
  "language_info": {
   "codemirror_mode": {
    "name": "ipython",
    "version": 3
   },
   "file_extension": ".py",
   "mimetype": "text/x-python",
   "name": "python",
   "nbconvert_exporter": "python",
   "pygments_lexer": "ipython3",
   "version": "3.8.10"
  },
  "orig_nbformat": 4,
  "vscode": {
   "interpreter": {
    "hash": "8fb55849e6741974ce442ee684e971e1b6b22c29ca2b25c3b9069bf531e0354a"
   }
  }
 },
 "nbformat": 4,
 "nbformat_minor": 2
}
