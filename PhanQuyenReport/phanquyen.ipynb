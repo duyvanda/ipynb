{
 "cells": [
  {
   "cell_type": "code",
   "execution_count": 1,
   "metadata": {},
   "outputs": [
    {
     "name": "stdout",
     "output_type": "stream",
     "text": [
      "Default bq project:  spatial-vision-343005.biteam\n"
     ]
    }
   ],
   "source": [
    "from utils.df_handle import *"
   ]
  },
  {
   "cell_type": "code",
   "execution_count": null,
   "metadata": {},
   "outputs": [],
   "source": [
    "import pendulum\n",
    "from airflow import DAG\n",
    "from airflow.operators.dummy_operator import DummyOperator\n",
    "from airflow.operators.python_operator import PythonOperator\n",
    "\n",
    "local_tz = pendulum.timezone(\"Asia/Bangkok\")\n",
    "name='REPORTS'\n",
    "prefix='USER_'\n",
    "path = f'/usr/local/airflow/plugins/{prefix}{name}/'\n",
    "csv_path = '/usr/local/airflow/plugins'+'/'\n",
    "\n",
    "# datenow_min1 = (datetime.now() - timedelta(days=1)).strftime(\"%Y-%m-%d\")\n",
    "\n",
    "dag_params = {\n",
    "    'owner': 'airflow',\n",
    "    \"depends_on_past\": False,\n",
    "    'start_date': datetime(2022, 4, 14, tzinfo=local_tz),\n",
    "    # 'email_on_failure': True,\n",
    "    # 'email_on_retry': False,\n",
    "    # 'email':['duyvq@merapgroup.com', 'vanquangduy10@gmail.com'],\n",
    "    'do_xcom_push': False,\n",
    "    'execution_timeout':timedelta(seconds=300),\n",
    "    'retries': 3,\n",
    "    'retry_delay': timedelta(seconds=10),\n",
    "}\n",
    "\n",
    "dag = DAG(prefix+name,\n",
    "          catchup=False,\n",
    "          default_args=dag_params,\n",
    "          schedule_interval= '@once',\n",
    "          tags=[prefix+name, 'update', 'once']\n",
    ")"
   ]
  },
  {
   "cell_type": "code",
   "execution_count": 49,
   "metadata": {},
   "outputs": [],
   "source": [
    "# df = pd.read_csv(\"https://docs.google.com/spreadsheets/d/e/2PACX-1vSuXl7AnpSA5j_KrgFO2zhLn8DsD20RVuuG7g6Y7F9y5EbiPHT05ug_m3eh8MBOaMDvNmk-DX4g0igF/pub?gid=1043526978&single=true&output=csv\")\n",
    "# cleancols(df)\n",
    "# df.columns =lower_col(df)\n",
    "# df_aut = pd.melt(df,id_vars=['tenreport', 'linkreport', 'type','id', 'vw'])"
   ]
  },
  {
   "cell_type": "code",
   "execution_count": 50,
   "metadata": {},
   "outputs": [],
   "source": [
    "# df_aut.to_clipboard()"
   ]
  },
  {
   "cell_type": "code",
   "execution_count": 51,
   "metadata": {},
   "outputs": [],
   "source": [
    "# df_aut=df_aut[~df_aut['value'].isna()]\n",
    "# df_aut.rename(columns={'value':'accessgroup'},inplace=True)"
   ]
  },
  {
   "cell_type": "code",
   "execution_count": 52,
   "metadata": {},
   "outputs": [],
   "source": [
    "# df_aut.to_clipboard()\n",
    "# df_group = pd.read_csv(\"https://docs.google.com/spreadsheets/d/e/2PACX-1vSuXl7AnpSA5j_KrgFO2zhLn8DsD20RVuuG7g6Y7F9y5EbiPHT05ug_m3eh8MBOaMDvNmk-DX4g0igF/pub?gid=2075224509&single=true&output=csv\")\n",
    "# cleancols(df_group)\n",
    "# df_group.columns=lower_col(df_group)    \n",
    "# dk2= df_group['csv_link']!='CA'\n",
    "# df_link = df_group[~df_group['csv_link'].isna()]\n",
    "# link=df_link['csv_link'][df_link['accessgroupcongtyphongbanlevel']!='CA']"
   ]
  },
  {
   "cell_type": "code",
   "execution_count": 53,
   "metadata": {},
   "outputs": [],
   "source": [
    "# link"
   ]
  },
  {
   "cell_type": "code",
   "execution_count": 54,
   "metadata": {},
   "outputs": [],
   "source": [
    "# df0 = pd.DataFrame()\n",
    "# for i in link:\n",
    "#     df = pd.read_csv(i)\n",
    "#     df0 = pd.concat([df0,df])\n",
    "# dropdup(df0,3)\n",
    "# df0['accessgroup'] = df0['congty']+'-'+df0['phongban']+'-'+df0['chucdanh']\n",
    "# full_df = pd.merge(df_aut,df0,how='inner', on='accessgroup')"
   ]
  },
  {
   "cell_type": "code",
   "execution_count": 55,
   "metadata": {},
   "outputs": [],
   "source": [
    "# full_df.to_clipboard()"
   ]
  },
  {
   "cell_type": "code",
   "execution_count": 2,
   "metadata": {},
   "outputs": [],
   "source": [
    "def main():\n",
    "    #lấy data danh sách report\n",
    "    df = pd.read_csv(\"https://docs.google.com/spreadsheets/d/e/2PACX-1vSuXl7AnpSA5j_KrgFO2zhLn8DsD20RVuuG7g6Y7F9y5EbiPHT05ug_m3eh8MBOaMDvNmk-DX4g0igF/pub?gid=1043526978&single=true&output=csv\")\n",
    "    cleancols(df)\n",
    "    df.columns =lower_col(df)\n",
    "    df_aut = pd.melt(df,id_vars=['tenreport', 'linkreport', 'type','id', 'vw','param'])\n",
    "    df_aut=df_aut[~df_aut['value'].isna()]\n",
    "    df_aut.rename(columns={'value':'accessgroup'},inplace=True)\n",
    "\n",
    "    #lấy data phân quyền detail tách theo phân quyền CA & non CA\n",
    "    df_group = pd.read_csv(\"https://docs.google.com/spreadsheets/d/e/2PACX-1vSuXl7AnpSA5j_KrgFO2zhLn8DsD20RVuuG7g6Y7F9y5EbiPHT05ug_m3eh8MBOaMDvNmk-DX4g0igF/pub?gid=2075224509&single=true&output=csv\")\n",
    "    cleancols(df_group)\n",
    "    df_group.columns=lower_col(df_group)    \n",
    "    dk2= df_group['csv_link']!='CA'\n",
    "    df_link = df_group[~df_group['csv_link'].isna()]\n",
    "    link=df_link['csv_link'][df_link['accessgroupcongtyphongbanlevel']!='CA']\n",
    "    # ca_link=df_link['csv_link'][df_link['accessgroupcongtyphongbanlevel']=='CA']\n",
    "\n",
    "    # #Join phân quyền theo Access Group\n",
    "    df0 = pd.DataFrame()\n",
    "    for i in link:\n",
    "        df = pd.read_csv(i)\n",
    "        df0 = pd.concat([df0,df])\n",
    "    dropdup(df0,3)\n",
    "    df0['accessgroup'] = df0['congty']+'-'+df0['phongban']+'-'+df0['chucdanh']\n",
    "    full_df = pd.merge(df_aut,df0,how='inner', on='accessgroup')\n",
    "\n",
    "    # #Join phân quyền theo chuc danh đối với cấp CA\n",
    "    # df1 = pd.DataFrame()\n",
    "    # for i in ca_link:\n",
    "    #     df = pd.read_csv(i)\n",
    "    #     df1 = pd.concat([df1,df])\n",
    "    # full_df_ca = pd.merge(df_aut,df1,how='inner',left_on='accessgroup', right_on='chucdanh')\n",
    "\n",
    "    #nối data & inset to BQ\n",
    "    # full_df = pd.concat([full_df,full_df_ca])\n",
    "    # df_mail = full_df[['email','tencvbh']]\n",
    "    # df_mail['email1'] = df_mail['email'].str.lower()\n",
    "    # df_mail = dropdup(df_mail,3,subset='email1')\n",
    "    # df_mail['tencvbh1'] =df_mail['tencvbh']\n",
    "    # df_mail=df_mail[['email','tencvbh1','email1']]\n",
    "    # full_df = pd.merge(full_df,df_mail,how='left',on='email')\n",
    "    # full_df.drop(['email','tencvbh'], axis=1,inplace=True)\n",
    "    # full_df.rename(columns={'email1':'email',\n",
    "    #                             'tencvbh1':'tencvbh'\n",
    "    #                             }, inplace=True)\n",
    "\n",
    "\n",
    "    full_df['inserted_at']=datetime.now()\n",
    "\n",
    "    # full_df.to_clipboard()\n",
    "    full_df = dropdup(full_df, 1, subset=['id', 'manv'])\n",
    "    return full_df\n",
    "    # bq_values_insert(full_df, \"d_phanquyen_tonghop_sep\",3)\n",
    "    # SELECT tenreport, id, manv, type, vw FROM `spatial-vision-343005.biteam.d_phanquyen_tonghop_sep`\n",
    "    # full_df[['tenreport','id','manv','type','vw']]\n",
    "    # with open('user_reports.json', 'w', encoding='utf-8') as file:\n",
    "    #     full_df[['tenreport','id','manv','type','vw','param']].to_json(file, force_ascii=True, orient='records')\n",
    "    # upload_file_to_bucket_with_metadata(blobname=\"public/user_reports.json\", file=\"user_reports.json\")"
   ]
  },
  {
   "cell_type": "code",
   "execution_count": 3,
   "metadata": {},
   "outputs": [],
   "source": [
    "full_df = main()"
   ]
  },
  {
   "cell_type": "code",
   "execution_count": 10,
   "metadata": {},
   "outputs": [],
   "source": [
    "# full_df['param'] = 'params={\"df16\":\"include%EE%80%800%EE%80%80IN%EE%80%80TT64O294\"}'"
   ]
  },
  {
   "cell_type": "code",
   "execution_count": 13,
   "metadata": {},
   "outputs": [],
   "source": [
    "with open('user_reports.json', 'w', encoding='utf-8') as file:\n",
    "    full_df[['tenreport','id','manv','type','vw','param']].to_json(file, force_ascii=True, orient='records')"
   ]
  },
  {
   "cell_type": "code",
   "execution_count": 2,
   "metadata": {},
   "outputs": [],
   "source": [
    "# client=storage.Client()\n",
    "# bucketname='django_media_biteam'\n",
    "# blobname=\"public/test1.json\"\n",
    "# bucket = client.get_bucket(bucketname)\n",
    "# blob = bucket.blob(blobname)\n",
    "# bucket = client.get_bucket('django_media_biteam')\n",
    "# blob = bucket.blob(blobname)\n",
    "# blob.cache_control = 'no-cache'\n",
    "# metadata = {'Cache-Control': 'no-cache'}\n",
    "# blob.metadata = metadata\n",
    "# blob.upload_from_filename(\"user_reports1.json\")"
   ]
  },
  {
   "cell_type": "code",
   "execution_count": null,
   "metadata": {},
   "outputs": [],
   "source": [
    "dummy_start = DummyOperator(task_id=\"dummy_start\", dag=dag)\n",
    "\n",
    "main = PythonOperator(task_id=\"main\", python_callable=main, dag=dag)\n",
    "\n",
    "dummy_end = DummyOperator(task_id=\"dummy_end\", dag=dag)\n",
    "\n",
    "dummy_start >> main >> dummy_end"
   ]
  }
 ],
 "metadata": {
  "kernelspec": {
   "display_name": "Python 3.8.10 ('venv': venv)",
   "language": "python",
   "name": "python3"
  },
  "language_info": {
   "codemirror_mode": {
    "name": "ipython",
    "version": 3
   },
   "file_extension": ".py",
   "mimetype": "text/x-python",
   "name": "python",
   "nbconvert_exporter": "python",
   "pygments_lexer": "ipython3",
   "version": "3.8.10"
  },
  "orig_nbformat": 4,
  "vscode": {
   "interpreter": {
    "hash": "8fb55849e6741974ce442ee684e971e1b6b22c29ca2b25c3b9069bf531e0354a"
   }
  }
 },
 "nbformat": 4,
 "nbformat_minor": 2
}
