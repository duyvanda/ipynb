{
 "cells": [
  {
   "cell_type": "code",
   "execution_count": 1,
   "metadata": {},
   "outputs": [
    {
     "name": "stdout",
     "output_type": "stream",
     "text": [
      "Default bq project:  spatial-vision-343005.biteam\n"
     ]
    }
   ],
   "source": [
    "from utils.df_handle import *\n",
    "from requests.structures import CaseInsensitiveDict\n",
    "import requests\n",
    "import json\n",
    "import base64"
   ]
  },
  {
   "cell_type": "code",
   "execution_count": 122,
   "metadata": {},
   "outputs": [
    {
     "name": "stdout",
     "output_type": "stream",
     "text": [
      "43\n",
      "Index(['stt', 'masanphamphanam', 'tensanpham', 'giaidoan',\n",
      "       'thangtruocchuyensang', 'poton', 'podathang', 'pobosung', 'tong',\n",
      "       'phanbothuchien', 'conton', '1', '2', '3', '4', '5', '6', '7', '8', '9',\n",
      "       '10', '11', '12', '13', '14', '15', '16', '17', '18', '19', '20', '21',\n",
      "       '22', '23', '24', '25', '26', '27', '28', '29', '30', '31', 'month'],\n",
      "      dtype='object')\n",
      "43\n",
      "Index(['stt', 'masanphamphanam', 'tensanpham', 'giaidoan',\n",
      "       'thangtruocchuyensang', 'poton', 'podathang', 'pobosung', 'tong',\n",
      "       'phanbothuchien', 'conton', '1', '2', '3', '4', '5', '6', '7', '8', '9',\n",
      "       '10', '11', '12', '13', '14', '15', '16', '17', '18', '19', '20', '21',\n",
      "       '22', '23', '24', '25', '26', '27', '28', '29', '30', '31', 'month'],\n",
      "      dtype='object')\n",
      "43\n",
      "Index(['stt', 'masanphamphanam', 'tensanpham', 'giaidoan',\n",
      "       'thangtruocchuyensang', 'poton', 'podathang', 'pobosung', 'tong',\n",
      "       'phanbothuchien', 'conton', '1', '2', '3', '4', '5', '6', '7', '8', '9',\n",
      "       '10', '11', '12', '13', '14', '15', '16', '17', '18', '19', '20', '21',\n",
      "       '22', '23', '24', '25', '26', '27', '28', '29', '30', '31', 'month'],\n",
      "      dtype='object')\n",
      "43\n",
      "Index(['stt', 'masanphamphanam', 'tensanpham', 'giaidoan',\n",
      "       'thangtruocchuyensang', 'poton', 'podathang', 'pobosung', 'tong',\n",
      "       'phanbothuchien', 'conton', '1', '2', '3', '4', '5', '6', '7', '8', '9',\n",
      "       '10', '11', '12', '13', '14', '15', '16', '17', '18', '19', '20', '21',\n",
      "       '22', '23', '24', '25', '26', '27', '28', '29', '30', '31', 'month'],\n",
      "      dtype='object')\n",
      "43\n",
      "Index(['stt', 'masanphamphanam', 'tensanpham', 'giaidoan',\n",
      "       'thangtruocchuyensang', 'poton', 'podathang', 'pobosung', 'tong',\n",
      "       'phanbothuchien', 'conton', '1', '2', '3', '4', '5', '6', '7', '8', '9',\n",
      "       '10', '11', '12', '13', '14', '15', '16', '17', '18', '19', '20', '21',\n",
      "       '22', '23', '24', '25', '26', '27', '28', '29', '30', '31', 'month'],\n",
      "      dtype='object')\n",
      "43\n",
      "Index(['stt', 'masanphamphanam', 'tensanpham', 'giaidoan',\n",
      "       'thangtruocchuyensang', 'poton', 'podathang', 'pobosung', 'tong',\n",
      "       'phanbothuchien', 'conton', '1', '2', '3', '4', '5', '6', '7', '8', '9',\n",
      "       '10', '11', '12', '13', '14', '15', '16', '17', '18', '19', '20', '21',\n",
      "       '22', '23', '24', '25', '26', '27', '28', '29', '30', '31', 'month'],\n",
      "      dtype='object')\n"
     ]
    }
   ],
   "source": [
    "t7=pd.read_csv(\"https://docs.google.com/spreadsheets/d/e/2PACX-1vRD6M-I1HqZYPnrOeRy3q_RKVzIAml-tItrBDUdPUZcX1KGNGHvYL-7dabjV8Ao1IcNRM01pCrGuOb6/pub?gid=0&single=true&output=csv\")\n",
    "t8=pd.read_csv(\"https://docs.google.com/spreadsheets/d/e/2PACX-1vRD6M-I1HqZYPnrOeRy3q_RKVzIAml-tItrBDUdPUZcX1KGNGHvYL-7dabjV8Ao1IcNRM01pCrGuOb6/pub?gid=1038230106&single=true&output=csv\")\n",
    "t9=pd.read_csv(\"https://docs.google.com/spreadsheets/d/e/2PACX-1vRD6M-I1HqZYPnrOeRy3q_RKVzIAml-tItrBDUdPUZcX1KGNGHvYL-7dabjV8Ao1IcNRM01pCrGuOb6/pub?gid=17231151&single=true&output=csv\")\n",
    "t10=pd.read_csv(\"https://docs.google.com/spreadsheets/d/e/2PACX-1vRD6M-I1HqZYPnrOeRy3q_RKVzIAml-tItrBDUdPUZcX1KGNGHvYL-7dabjV8Ao1IcNRM01pCrGuOb6/pub?gid=523968361&single=true&output=csv\")\n",
    "t11=pd.read_csv(\"https://docs.google.com/spreadsheets/d/e/2PACX-1vRD6M-I1HqZYPnrOeRy3q_RKVzIAml-tItrBDUdPUZcX1KGNGHvYL-7dabjV8Ao1IcNRM01pCrGuOb6/pub?gid=507303559&single=true&output=csv\")\n",
    "t12=pd.read_csv(\"https://docs.google.com/spreadsheets/d/e/2PACX-1vRD6M-I1HqZYPnrOeRy3q_RKVzIAml-tItrBDUdPUZcX1KGNGHvYL-7dabjV8Ao1IcNRM01pCrGuOb6/pub?gid=604997355&single=true&output=csv\")\n",
    "\n",
    "# tonchuanhap=pd.read_csv(\"https://docs.google.com/spreadsheets/d/e/2PACX-1vRyzCqWkMoy_XdBYCO6oirKy6pXwHEjxVKJqBgvmKHXH8dnZ0hl_sOMXxgZkYnl1r2m8tUvz47GPCJZ/pub?gid=0&single=true&output=csv\")\n",
    "# songaynhapkho=pd.read_csv(\"https://docs.google.com/spreadsheets/d/e/2PACX-1vRyzCqWkMoy_XdBYCO6oirKy6pXwHEjxVKJqBgvmKHXH8dnZ0hl_sOMXxgZkYnl1r2m8tUvz47GPCJZ/pub?gid=770086452&single=true&output=csv\")\n",
    "# quycachdh=pd.read_csv(\"https://docs.google.com/spreadsheets/d/e/2PACX-1vRyzCqWkMoy_XdBYCO6oirKy6pXwHEjxVKJqBgvmKHXH8dnZ0hl_sOMXxgZkYnl1r2m8tUvz47GPCJZ/pub?gid=1649408062&single=true&output=csv\")\n",
    "\n",
    "t7['month']='2022-07-01'\n",
    "t8['month']='2022-08-01'\n",
    "t9['month']='2022-09-01'\n",
    "t10['month']='2022-10-01'\n",
    "t11['month']='2022-11-01'\n",
    "t12['month']='2022-12-01'\n",
    "\n",
    "lst = [t7,t8,t9,t10,t11,t12]\n",
    "month_list = lst\n",
    "for i in month_list:\n",
    "    i.columns = cleancols(i)\n",
    "    i.columns = lower_col(i)\n",
    "    print(len(i.columns))\n",
    "    print((i.columns))\n",
    "\n",
    "df=pd.concat(lst)\n",
    "# union_all()\n",
    "# df = union_all([t11,t12])\n",
    "df= df[df['masanphamphanam'].notna()].copy()\n",
    "df_old=df.copy()\n",
    "drop_cols(df, ['stt','giaidoan',\n",
    "    'thangtruocchuyensang', 'poton', 'podathang', 'pobosung', 'tong',\n",
    "    'phanbothuchien','conton'])\n",
    "df = pd.melt(df,id_vars=['masanphamphanam', 'tensanpham','month'])\n",
    "# df= df.apply(lambda x: x.str.replace(',',''))\n",
    "df.value = pd.to_numeric(df.value, errors='coerce')"
   ]
  },
  {
   "cell_type": "code",
   "execution_count": 121,
   "metadata": {},
   "outputs": [],
   "source": [
    "# df.to_clipboard()"
   ]
  },
  {
   "cell_type": "code",
   "execution_count": 123,
   "metadata": {},
   "outputs": [],
   "source": [
    "df1= df[df['value'].notna()].copy()\n",
    "df1= df1[df1['value']!=''].copy()\n",
    "#update 28092022\n",
    "df1.value = pd.to_numeric(df1.value)\n",
    "df1.variable = pd.to_numeric(df1.variable)\n",
    "#endupdate\n",
    "df1[[\"value\",\"variable\"]]= df1[[\"value\",\"variable\"]].astype('int64')\n",
    "df1.rename(columns={'value':'soluong',\n",
    "               }, inplace=True)\n",
    "df1['ngaysx']= pd.to_datetime(pd.DatetimeIndex(df1['month']).year.astype('str')+'-'+ pd.DatetimeIndex(df1['month']).month.astype('str')+'-'+df1['variable'].astype('str'), format=\"%Y-%m-%d\")\n",
    "df1.drop(['variable'],axis=1,inplace=True)\n",
    "\n",
    "#add cot conton\n",
    "df_old= df_old[['masanphamphanam','month','giaidoan',\n",
    "'thangtruocchuyensang', 'poton', 'podathang', 'pobosung', 'tong',\n",
    "'phanbothuchien','conton']].copy()\n",
    "\n",
    "df1['month']=pd.to_datetime(df1['month'], format=\"%Y-%m-%d\")\n",
    "df_old['month']=pd.to_datetime(df_old['month'])\n",
    "df_old=dropdup(df_old,3,subset=['masanphamphanam','month'])\n",
    "df1=pd.merge(df1,df_old,how='left', on=['masanphamphanam','month'])\n",
    "\n",
    "# tonchuanhap['ngayreview']=pd.to_datetime(tonchuanhap['ngayreview'], format=\"%d/%m/%Y\")\n",
    "\n",
    "#datenow_1dago = datetime.now().replace(hour=23,minute=30) - timedelta(days=1)\n",
    "\n",
    "df1['inserted_at'] = datetime.now()\n",
    "# tonchuanhap['inserted_at'] = datetime.now()\n",
    "# songaynhapkho['inserted_at'] = datetime.now()\n",
    "# quycachdh['inserted_at'] = datetime.now()\n",
    "\n",
    "# bq_values_insert(df1,\"d_nm_kehoachsanxuat\",3)\n",
    "# bq_values_insert(tonchuanhap,\"d_nm_tonchuanhap\",3)\n",
    "# bq_values_insert(songaynhapkho,\"d_nm_songaynhapkho\",3)\n",
    "# bq_values_insert(quycachdh,\"d_sc_quycachdh\",3)"
   ]
  },
  {
   "cell_type": "code",
   "execution_count": 125,
   "metadata": {},
   "outputs": [
    {
     "data": {
      "text/plain": [
       "Index(['masanphamphanam', 'tensanpham', 'month', 'soluong', 'ngaysx',\n",
       "       'giaidoan', 'thangtruocchuyensang', 'poton', 'podathang', 'pobosung',\n",
       "       'tong', 'phanbothuchien', 'conton', 'inserted_at'],\n",
       "      dtype='object')"
      ]
     },
     "execution_count": 125,
     "metadata": {},
     "output_type": "execute_result"
    }
   ],
   "source": [
    "df1.columns"
   ]
  },
  {
   "cell_type": "code",
   "execution_count": 126,
   "metadata": {},
   "outputs": [],
   "source": [
    "bq_values_insert(df1,\"d_nm_kehoachsanxuat\",3)"
   ]
  },
  {
   "cell_type": "code",
   "execution_count": 124,
   "metadata": {},
   "outputs": [],
   "source": [
    "df1.to_clipboard()"
   ]
  },
  {
   "cell_type": "code",
   "execution_count": 86,
   "metadata": {},
   "outputs": [],
   "source": [
    "df= df[df['masanphamphanam'].notna()].copy()"
   ]
  },
  {
   "cell_type": "code",
   "execution_count": 89,
   "metadata": {},
   "outputs": [],
   "source": [
    "drop_cols(df, ['stt','giaidoan',\n",
    "    'thangtruocchuyensang', 'poton', 'podathang', 'pobosung', 'tong',\n",
    "    'phanbothuchien','conton'])"
   ]
  },
  {
   "cell_type": "code",
   "execution_count": 103,
   "metadata": {},
   "outputs": [],
   "source": [
    "# df= df.apply(lambda x: x.str.replace(',',''))\n",
    "# df= df.apply(lambda x: x.str.replace('ĐN',''))\n",
    "# df= df.apply(lambda x: x.str.replace('PC',''))\n",
    "# df= df.apply(lambda x: x.str.replace('DV',''))\n",
    "# df= df.apply(lambda x: x.str.replace('BP',''))\n",
    "# df= df.apply(lambda x: x.str.replace('-',''))"
   ]
  },
  {
   "cell_type": "code",
   "execution_count": 93,
   "metadata": {},
   "outputs": [],
   "source": [
    "df = pd.melt(df,id_vars=['masanphamphanam', 'tensanpham','month'])"
   ]
  },
  {
   "cell_type": "code",
   "execution_count": null,
   "metadata": {},
   "outputs": [],
   "source": []
  },
  {
   "cell_type": "code",
   "execution_count": 104,
   "metadata": {},
   "outputs": [],
   "source": [
    "df.to_clipboard()"
   ]
  },
  {
   "cell_type": "code",
   "execution_count": 99,
   "metadata": {},
   "outputs": [],
   "source": []
  },
  {
   "cell_type": "code",
   "execution_count": null,
   "metadata": {},
   "outputs": [],
   "source": []
  },
  {
   "cell_type": "code",
   "execution_count": null,
   "metadata": {},
   "outputs": [],
   "source": [
    "df1= df[df['value'].notna()].copy()\n",
    "\n",
    "df1= df1[df1['value']!=''].copy()\n",
    "#update 28092022\n",
    "df1.value = pd.to_numeric(df1.value)\n",
    "df1.variable = pd.to_numeric(df1.variable)\n",
    "#endupdate\n",
    "df1[[\"value\",\"variable\"]]= df1[[\"value\",\"variable\"]].astype('int64')\n",
    "df1.rename(columns={'value':'soluong',\n",
    "                    }, inplace=True)\n",
    "df1['ngaysx']= pd.to_datetime(pd.DatetimeIndex(df1['month']).year.astype('str')+'-'+ pd.DatetimeIndex(df1['month']).month.astype('str')+'-'+df1['variable'].astype('str'), format=\"%Y-%m-%d\")\n",
    "df1.drop(['variable'],axis=1,inplace=True)\n",
    "\n",
    "#add cot conton\n",
    "df_old= df_old[['masanphamphanam','month','giaidoan',\n",
    "    'thangtruocchuyensang', 'poton', 'podathang', 'pobosung', 'tong',\n",
    "    'phanbothuchien','conton']].copy()\n",
    "\n",
    "df1['month']=pd.to_datetime(df1['month'], format=\"%Y%m%d\")\n",
    "df_old['month']=pd.to_datetime(df_old['month'])\n",
    "df_old=dropdup(df_old,3,subset=['masanphamphanam','month'])\n",
    "df1=pd.merge(df1,df_old,how='left', on=['masanphamphanam','month'])\n",
    "\n",
    "# tonchuanhap['ngayreview']=pd.to_datetime(tonchuanhap['ngayreview'], format=\"%d/%m/%Y\")\n",
    "\n",
    "#datenow_1dago = datetime.now().replace(hour=23,minute=30) - timedelta(days=1)\n",
    "\n",
    "df1['inserted_at'] = datetime.now()\n",
    "# tonchuanhap['inserted_at'] = datetime.now()\n",
    "# songaynhapkho['inserted_at'] = datetime.now()\n",
    "# quycachdh['inserted_at'] = datetime.now()\n",
    "\n",
    "# bq_values_insert(df1,\"d_nm_kehoachsanxuat\",3)"
   ]
  },
  {
   "cell_type": "code",
   "execution_count": 4,
   "metadata": {},
   "outputs": [],
   "source": [
    "dk = df1.masanphamphanam == 'EH110'"
   ]
  },
  {
   "cell_type": "code",
   "execution_count": 5,
   "metadata": {},
   "outputs": [
    {
     "data": {
      "text/html": [
       "<div>\n",
       "<style scoped>\n",
       "    .dataframe tbody tr th:only-of-type {\n",
       "        vertical-align: middle;\n",
       "    }\n",
       "\n",
       "    .dataframe tbody tr th {\n",
       "        vertical-align: top;\n",
       "    }\n",
       "\n",
       "    .dataframe thead th {\n",
       "        text-align: right;\n",
       "    }\n",
       "</style>\n",
       "<table border=\"1\" class=\"dataframe\">\n",
       "  <thead>\n",
       "    <tr style=\"text-align: right;\">\n",
       "      <th></th>\n",
       "      <th>masanphamphanam</th>\n",
       "      <th>tensanpham</th>\n",
       "      <th>month</th>\n",
       "      <th>soluong</th>\n",
       "      <th>ngaysx</th>\n",
       "      <th>giaidoan</th>\n",
       "      <th>thangtruocchuyensang</th>\n",
       "      <th>poton</th>\n",
       "      <th>podathang</th>\n",
       "      <th>pobosung</th>\n",
       "      <th>tong</th>\n",
       "      <th>phanbothuchien</th>\n",
       "      <th>conton</th>\n",
       "      <th>inserted_at</th>\n",
       "    </tr>\n",
       "  </thead>\n",
       "  <tbody>\n",
       "    <tr>\n",
       "      <th>180</th>\n",
       "      <td>EH110</td>\n",
       "      <td>Metoxa</td>\n",
       "      <td>2022-07-01</td>\n",
       "      <td>10000</td>\n",
       "      <td>2022-07-13</td>\n",
       "      <td>PC-PL</td>\n",
       "      <td>NaN</td>\n",
       "      <td>-</td>\n",
       "      <td>10,000</td>\n",
       "      <td>NaN</td>\n",
       "      <td>10,000</td>\n",
       "      <td>10,000</td>\n",
       "      <td>-</td>\n",
       "      <td>2022-10-26 14:49:50.002356</td>\n",
       "    </tr>\n",
       "    <tr>\n",
       "      <th>277</th>\n",
       "      <td>EH110</td>\n",
       "      <td>Metoxa</td>\n",
       "      <td>2022-08-01</td>\n",
       "      <td>10000</td>\n",
       "      <td>2022-08-19</td>\n",
       "      <td>PC-PL</td>\n",
       "      <td>NaN</td>\n",
       "      <td>-</td>\n",
       "      <td>NaN</td>\n",
       "      <td>10,000</td>\n",
       "      <td>10,000</td>\n",
       "      <td>10,000</td>\n",
       "      <td>-</td>\n",
       "      <td>2022-10-26 14:49:50.002356</td>\n",
       "    </tr>\n",
       "  </tbody>\n",
       "</table>\n",
       "</div>"
      ],
      "text/plain": [
       "    masanphamphanam tensanpham      month  soluong     ngaysx giaidoan  \\\n",
       "180           EH110     Metoxa 2022-07-01    10000 2022-07-13    PC-PL   \n",
       "277           EH110     Metoxa 2022-08-01    10000 2022-08-19    PC-PL   \n",
       "\n",
       "     thangtruocchuyensang poton podathang pobosung    tong phanbothuchien  \\\n",
       "180                   NaN     -    10,000      NaN  10,000         10,000   \n",
       "277                   NaN     -       NaN   10,000  10,000         10,000   \n",
       "\n",
       "    conton                inserted_at  \n",
       "180      - 2022-10-26 14:49:50.002356  \n",
       "277      - 2022-10-26 14:49:50.002356  "
      ]
     },
     "execution_count": 5,
     "metadata": {},
     "output_type": "execute_result"
    }
   ],
   "source": [
    "df1"
   ]
  },
  {
   "cell_type": "code",
   "execution_count": 8,
   "metadata": {},
   "outputs": [],
   "source": [
    "dk1 = t11.masanphamphanam == 'EH110'"
   ]
  },
  {
   "cell_type": "code",
   "execution_count": 62,
   "metadata": {},
   "outputs": [],
   "source": [
    "t11=pd.read_csv(\"https://docs.google.com/spreadsheets/d/e/2PACX-1vRD6M-I1HqZYPnrOeRy3q_RKVzIAml-tItrBDUdPUZcX1KGNGHvYL-7dabjV8Ao1IcNRM01pCrGuOb6/pub?gid=507303559&single=true&output=csv\")"
   ]
  },
  {
   "cell_type": "code",
   "execution_count": 63,
   "metadata": {},
   "outputs": [],
   "source": [
    "t11.columns = cleancols(t11)\n",
    "t11.columns = lower_col(t11)"
   ]
  },
  {
   "cell_type": "code",
   "execution_count": 64,
   "metadata": {},
   "outputs": [],
   "source": [
    "t11['month']='2022-11-01'"
   ]
  },
  {
   "cell_type": "code",
   "execution_count": 65,
   "metadata": {},
   "outputs": [],
   "source": [
    "df = t11"
   ]
  },
  {
   "cell_type": "code",
   "execution_count": 66,
   "metadata": {},
   "outputs": [
    {
     "data": {
      "text/plain": [
       "Index(['stt', 'masanphamphanam', 'tensanpham', 'giaidoan',\n",
       "       'thangtruocchuyensang', 'poton', 'podathang', 'pobosung', 'tong',\n",
       "       'phanbothuchien', 'conton', '1', '2', '3', '4', '5', '6', '7', '8', '9',\n",
       "       '10', '11', '12', '13', '14', '15', '16', '17', '18', '19', '20', '21',\n",
       "       '22', '23', '24', '25', '26', '27', '28', '29', '30', 'month'],\n",
       "      dtype='object')"
      ]
     },
     "execution_count": 66,
     "metadata": {},
     "output_type": "execute_result"
    }
   ],
   "source": [
    "df.columns"
   ]
  },
  {
   "cell_type": "code",
   "execution_count": 67,
   "metadata": {},
   "outputs": [],
   "source": [
    "df_old=df.copy()\n",
    "drop_cols(df,['stt','giaidoan',\n",
    "    'thangtruocchuyensang', 'poton', 'podathang', 'pobosung', 'tong',\n",
    "    'phanbothuchien','conton'])\n",
    "df = pd.melt(df,id_vars=['masanphamphanam', 'tensanpham','month'])"
   ]
  },
  {
   "cell_type": "code",
   "execution_count": 68,
   "metadata": {},
   "outputs": [],
   "source": [
    "df.to_clipboard()"
   ]
  },
  {
   "cell_type": "code",
   "execution_count": 42,
   "metadata": {},
   "outputs": [
    {
     "data": {
      "text/html": [
       "<div>\n",
       "<style scoped>\n",
       "    .dataframe tbody tr th:only-of-type {\n",
       "        vertical-align: middle;\n",
       "    }\n",
       "\n",
       "    .dataframe tbody tr th {\n",
       "        vertical-align: top;\n",
       "    }\n",
       "\n",
       "    .dataframe thead th {\n",
       "        text-align: right;\n",
       "    }\n",
       "</style>\n",
       "<table border=\"1\" class=\"dataframe\">\n",
       "  <thead>\n",
       "    <tr style=\"text-align: right;\">\n",
       "      <th></th>\n",
       "      <th>masanphamphanam</th>\n",
       "      <th>tensanpham</th>\n",
       "      <th>month</th>\n",
       "      <th>variable</th>\n",
       "      <th>value</th>\n",
       "    </tr>\n",
       "  </thead>\n",
       "  <tbody>\n",
       "    <tr>\n",
       "      <th>0</th>\n",
       "      <td>NaN</td>\n",
       "      <td>Viên nén</td>\n",
       "      <td>2022-11-01</td>\n",
       "      <td>stt</td>\n",
       "      <td>I</td>\n",
       "    </tr>\n",
       "    <tr>\n",
       "      <th>1</th>\n",
       "      <td>EH093</td>\n",
       "      <td>Efodyl 250mg</td>\n",
       "      <td>2022-11-01</td>\n",
       "      <td>stt</td>\n",
       "      <td>1</td>\n",
       "    </tr>\n",
       "    <tr>\n",
       "      <th>2</th>\n",
       "      <td>EH070</td>\n",
       "      <td>Efodyl 500mg</td>\n",
       "      <td>2022-11-01</td>\n",
       "      <td>stt</td>\n",
       "      <td>2</td>\n",
       "    </tr>\n",
       "    <tr>\n",
       "      <th>3</th>\n",
       "      <td>EH104</td>\n",
       "      <td>Cebest 100mg</td>\n",
       "      <td>2022-11-01</td>\n",
       "      <td>stt</td>\n",
       "      <td>3</td>\n",
       "    </tr>\n",
       "    <tr>\n",
       "      <th>4</th>\n",
       "      <td>EH103</td>\n",
       "      <td>Cebest 200mg</td>\n",
       "      <td>2022-11-01</td>\n",
       "      <td>stt</td>\n",
       "      <td>4</td>\n",
       "    </tr>\n",
       "    <tr>\n",
       "      <th>...</th>\n",
       "      <td>...</td>\n",
       "      <td>...</td>\n",
       "      <td>...</td>\n",
       "      <td>...</td>\n",
       "      <td>...</td>\n",
       "    </tr>\n",
       "    <tr>\n",
       "      <th>3466</th>\n",
       "      <td>EH111</td>\n",
       "      <td>Aquima</td>\n",
       "      <td>2022-11-01</td>\n",
       "      <td>30</td>\n",
       "      <td>PC</td>\n",
       "    </tr>\n",
       "    <tr>\n",
       "      <th>3467</th>\n",
       "      <td>EH115</td>\n",
       "      <td>Ebysta</td>\n",
       "      <td>2022-11-01</td>\n",
       "      <td>30</td>\n",
       "      <td>NaN</td>\n",
       "    </tr>\n",
       "    <tr>\n",
       "      <th>3468</th>\n",
       "      <td>EH124</td>\n",
       "      <td>Amfortgel</td>\n",
       "      <td>2022-11-01</td>\n",
       "      <td>30</td>\n",
       "      <td>NaN</td>\n",
       "    </tr>\n",
       "    <tr>\n",
       "      <th>3469</th>\n",
       "      <td>NaN</td>\n",
       "      <td>Agatop (133ml)</td>\n",
       "      <td>2022-11-01</td>\n",
       "      <td>30</td>\n",
       "      <td>NaN</td>\n",
       "    </tr>\n",
       "    <tr>\n",
       "      <th>3470</th>\n",
       "      <td>NaN</td>\n",
       "      <td>Vadikiddy</td>\n",
       "      <td>2022-11-01</td>\n",
       "      <td>30</td>\n",
       "      <td>NaN</td>\n",
       "    </tr>\n",
       "  </tbody>\n",
       "</table>\n",
       "<p>3471 rows × 5 columns</p>\n",
       "</div>"
      ],
      "text/plain": [
       "     masanphamphanam      tensanpham       month variable value\n",
       "0                NaN        Viên nén  2022-11-01      stt     I\n",
       "1              EH093    Efodyl 250mg  2022-11-01      stt     1\n",
       "2              EH070    Efodyl 500mg  2022-11-01      stt     2\n",
       "3              EH104    Cebest 100mg  2022-11-01      stt     3\n",
       "4              EH103    Cebest 200mg  2022-11-01      stt     4\n",
       "...              ...             ...         ...      ...   ...\n",
       "3466           EH111          Aquima  2022-11-01       30    PC\n",
       "3467           EH115          Ebysta  2022-11-01       30   NaN\n",
       "3468           EH124       Amfortgel  2022-11-01       30   NaN\n",
       "3469             NaN  Agatop (133ml)  2022-11-01       30   NaN\n",
       "3470             NaN       Vadikiddy  2022-11-01       30   NaN\n",
       "\n",
       "[3471 rows x 5 columns]"
      ]
     },
     "execution_count": 42,
     "metadata": {},
     "output_type": "execute_result"
    }
   ],
   "source": [
    "df"
   ]
  },
  {
   "cell_type": "code",
   "execution_count": 32,
   "metadata": {},
   "outputs": [],
   "source": [
    "df.rename(columns={'value':'soluong',\n",
    "                    }, inplace=True)"
   ]
  },
  {
   "cell_type": "code",
   "execution_count": 33,
   "metadata": {},
   "outputs": [
    {
     "data": {
      "text/plain": [
       "Index(['masanphamphanam', 'tensanpham', 'month', 'variable', 'soluong'], dtype='object')"
      ]
     },
     "execution_count": 33,
     "metadata": {},
     "output_type": "execute_result"
    }
   ],
   "source": [
    "df.columns"
   ]
  },
  {
   "cell_type": "code",
   "execution_count": null,
   "metadata": {},
   "outputs": [],
   "source": []
  }
 ],
 "metadata": {
  "kernelspec": {
   "display_name": "Python 3.8.10 ('venv': venv)",
   "language": "python",
   "name": "python3"
  },
  "language_info": {
   "codemirror_mode": {
    "name": "ipython",
    "version": 3
   },
   "file_extension": ".py",
   "mimetype": "text/x-python",
   "name": "python",
   "nbconvert_exporter": "python",
   "pygments_lexer": "ipython3",
   "version": "3.8.10"
  },
  "orig_nbformat": 4,
  "vscode": {
   "interpreter": {
    "hash": "8fb55849e6741974ce442ee684e971e1b6b22c29ca2b25c3b9069bf531e0354a"
   }
  }
 },
 "nbformat": 4,
 "nbformat_minor": 2
}
