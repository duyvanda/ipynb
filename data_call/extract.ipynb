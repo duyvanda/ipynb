{
 "cells": [
  {
   "cell_type": "code",
   "execution_count": 4,
   "metadata": {},
   "outputs": [],
   "source": [
    "from utils.df_handle import *"
   ]
  },
  {
   "cell_type": "code",
   "execution_count": 6,
   "metadata": {},
   "outputs": [],
   "source": [
    "# day_ago = 2\n",
    "# datenow = datetime.now().strftime(\"%Y%m%d\")\n",
    "# datenow_day_ago = ( datetime.now()-timedelta(day_ago) ).strftime(\"%Y%m%d\")\n",
    "# param_1 = f\"'{datenow_day_ago}'\"\n",
    "datenow = datetime.now().strftime(\"%Y%m%d\")\n",
    "param_0 = f\"'20210701'\"\n",
    "param_1 = f\"'20211001'\"\n",
    "param_2 = f\"'20211027'\"\n",
    "# param_2 = f\"'{datenow}'\"\n",
    "param_3 = f\"'{datenow}'\"\n",
    "# param_2 = f\"'20210501'\"\n",
    "# param_3 = f\"'20210930'\""
   ]
  },
  {
   "cell_type": "code",
   "execution_count": 7,
   "metadata": {},
   "outputs": [],
   "source": [
    "# Extract csv\n",
    "\n",
    "wcc = \\\n",
    "f\"\"\"\n",
    "SELECT BranchID,\n",
    "       NumberCICO\n",
    "--INTO #WithOutNumberCICO\n",
    "FROM dbo.AR_SalespersonLocationTrace WITH (NOLOCK)\n",
    "WHERE Type LIKE '%DE%'\n",
    "      OR Type LIKE '%PA%'\n",
    "         AND CAST(UpdateTime AS DATE)\n",
    "      BETWEEN {param_1} AND {param_2};\n",
    "\"\"\"\n",
    "get_ms_csv(wcc, 'WithOutNumberCICO.csv')\n",
    "\n",
    "rd = \\\n",
    "f\"\"\"\n",
    "SELECT \n",
    "CustID, DayofWeek, SalesRouteID, VisitDate, SlsFreq\n",
    "--INTO #T_RouteDet\n",
    "FROM dbo.OM_SalesRouteDet d WITH (NOLOCK)\n",
    "WHERE d.VisitDate\n",
    "BETWEEN {param_1} AND {param_2};\n",
    "\"\"\"\n",
    "get_ms_csv(rd, 'T_RouteDet.csv')\n",
    "\n",
    "srm = \"SELECT BranchID, SalesRouteID, SlsperID, FromDate, ToDate FROM dbo.Vs_SalespersonRoute\"\n",
    "get_ms_csv(srm, 'SRM.csv')\n",
    "\n",
    "slr = \"SELECT CustID, SalesRouteID, StartDate, EndDate FROM dbo.vs_OM_SalesRouteMaster\"\n",
    "get_ms_csv(slr, 'SLR.csv')\n",
    "\n",
    "stl = f\"SELECT BranchID, SlsperID, CustID, UpdateTime, NumberCICO FROM dbo.AR_SalespersonLocationTrace WHERE CAST(UpdateTime AS DATE) BETWEEN {param_1} AND {param_2}\"\n",
    "get_ms_csv(stl, 'STL.csv')\n",
    "\n",
    "pso = f\"\"\"SELECT\n",
    "BranchID, SlsPerID, SalesRouteID, CustID, Crtd_DateTime, InsertFrom, LineAmt\n",
    "FROM dbo.OM_PDASalesOrd WHERE CAST(Crtd_DateTime AS DATE) BETWEEN {param_1} AND {param_2} and Status = 'C' and OrderType = 'IN'\"\"\"\n",
    "get_ms_csv(pso, 'PSO.csv')\n",
    "\n",
    "ts = \"SELECT BranchID, SlsperID, SupID, ASM, RSMID FROM dbo.fr_ListSaleByData('Admin')\"\n",
    "get_ms_csv(ts, 'TSlsperID.csv')\n",
    "# INTO #TSlsperID\n",
    "u = \"\"\"SELECT UserName, FirstName, Position from Users\"\"\"\n",
    "get_ms_csv(u, 'Users.csv')\n",
    "\n",
    "com = \"\"\"SELECT CpnyID, CpnyName from dbo.SYS_Company\"\"\"\n",
    "get_ms_csv(com, 'COM.csv')\n",
    "\n",
    "cu = \"\"\"SELECT CustId, CustName, Channel, ShopType, HCOID, HCOTypeID, ClassId, TerritoryDescr, StateDescr, DistrictDescr, WardDescr from dbo.vs_AR_CustomerInfo\"\"\"\n",
    "get_ms_csv(cu, 'CU.csv')"
   ]
  },
  {
   "cell_type": "code",
   "execution_count": null,
   "metadata": {},
   "outputs": [],
   "source": []
  }
 ],
 "metadata": {
  "interpreter": {
   "hash": "f94d6dad5013d632e8b52fc362848c71d5234e1d7ba23afa22c3a2e55512dabd"
  },
  "kernelspec": {
   "display_name": "Python 3.9.6 64-bit ('venv': venv)",
   "name": "python3"
  },
  "language_info": {
   "codemirror_mode": {
    "name": "ipython",
    "version": 3
   },
   "file_extension": ".py",
   "mimetype": "text/x-python",
   "name": "python",
   "nbconvert_exporter": "python",
   "pygments_lexer": "ipython3",
   "version": "3.9.6"
  },
  "orig_nbformat": 4
 },
 "nbformat": 4,
 "nbformat_minor": 2
}
