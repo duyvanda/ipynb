{
 "cells": [
  {
   "cell_type": "code",
   "execution_count": 2,
   "metadata": {},
   "outputs": [],
   "source": [
    "from utils.df_handle import *"
   ]
  },
  {
   "cell_type": "code",
   "execution_count": 277,
   "metadata": {},
   "outputs": [],
   "source": [
    "# day_ago = 2\n",
    "# datenow = datetime.now().strftime(\"%Y%m%d\")\n",
    "# datenow_day_ago = ( datetime.now()-timedelta(day_ago) ).strftime(\"%Y%m%d\")\n",
    "# param_1 = f\"'{datenow_day_ago}'\"\n",
    "datenow = datetime.now().strftime(\"%Y%m%d\")\n",
    "param_0 = f\"'20210701'\"\n",
    "param_1 = f\"'20211001'\"\n",
    "param_2 = f\"'20211024'\"\n",
    "# param_2 = f\"'{datenow}'\"\n",
    "param_3 = f\"'{datenow}'\"\n",
    "# param_2 = f\"'20210501'\"\n",
    "# param_3 = f\"'20210930'\""
   ]
  },
  {
   "cell_type": "code",
   "execution_count": 278,
   "metadata": {},
   "outputs": [],
   "source": [
    "# Extract csv\n",
    "\n",
    "wcc = \\\n",
    "f\"\"\"\n",
    "SELECT BranchID,\n",
    "       NumberCICO\n",
    "--INTO #WithOutNumberCICO\n",
    "FROM dbo.AR_SalespersonLocationTrace WITH (NOLOCK)\n",
    "WHERE Type LIKE '%DE%'\n",
    "      OR Type LIKE '%PA%'\n",
    "         AND CAST(UpdateTime AS DATE)\n",
    "      BETWEEN {param_1} AND {param_2};\n",
    "\"\"\"\n",
    "get_ms_csv(wcc, 'WithOutNumberCICO.csv')\n",
    "\n",
    "rd = \\\n",
    "f\"\"\"\n",
    "SELECT \n",
    "CustID, SlsFreq, DayofWeek, SalesRouteID, VisitDate\n",
    "--INTO #T_RouteDet\n",
    "FROM dbo.OM_SalesRouteDet d WITH (NOLOCK)\n",
    "WHERE d.VisitDate\n",
    "BETWEEN {param_1} AND {param_2};\n",
    "\"\"\"\n",
    "get_ms_csv(rd, 'T_RouteDet.csv')\n",
    "\n",
    "srm = \"SELECT BranchID, SalesRouteID, SlsperID, FromDate, ToDate FROM dbo.Vs_SalespersonRoute\"\n",
    "get_ms_csv(srm, 'SRM.csv')\n",
    "\n",
    "slr = \"SELECT CustID, SalesRouteID, StartDate, EndDate, SlsFreq FROM dbo.vs_OM_SalesRouteMaster\"\n",
    "get_ms_csv(slr, 'SLR.csv')\n",
    "\n",
    "stl = f\"SELECT BranchID, SlsperID, CustID, UpdateTime, NumberCICO FROM dbo.AR_SalespersonLocationTrace WHERE CAST(UpdateTime AS DATE) BETWEEN {param_1} AND {param_2}\"\n",
    "get_ms_csv(stl, 'STL.csv')\n",
    "\n",
    "pso = f\"\"\"SELECT\n",
    "BranchID, SlsPerID, SalesRouteID, CustID, Crtd_DateTime, InsertFrom, LineAmt\n",
    "FROM dbo.OM_PDASalesOrd WHERE CAST(Crtd_DateTime AS DATE) BETWEEN {param_1} AND {param_2} and Status = 'C' and OrderType = 'IN'\"\"\"\n",
    "get_ms_csv(pso, 'PSO.csv')\n",
    "\n",
    "ts = \"SELECT BranchID, SlsperID, SupID, ASM, RSMID FROM dbo.fr_ListSaleByData('Admin')\"\n",
    "get_ms_csv(ts, 'TSlsperID.csv')\n",
    "# INTO #TSlsperID\n",
    "u = \"\"\"SELECT UserName, FirstName, Position from Users\"\"\"\n",
    "get_ms_csv(u, 'Users.csv')\n",
    "\n",
    "com = \"\"\"SELECT CpnyID, CpnyName from dbo.SYS_Company\"\"\"\n",
    "get_ms_csv(com, 'COM.csv')\n",
    "\n",
    "cu = \"\"\"SELECT CustId, CustName, Channel, ShopType, HCOID, HCOTypeID, ClassId, TerritoryDescr, StateDescr, DistrictDescr, WardDescr from dbo.vs_AR_CustomerInfo\"\"\"\n",
    "get_ms_csv(cu, 'CU.csv')"
   ]
  },
  {
   "cell_type": "code",
   "execution_count": 279,
   "metadata": {},
   "outputs": [],
   "source": [
    "# Get dataframe\n",
    "SRM = pd.read_csv('SRM.csv', dayfirst=True, parse_dates=['FromDate', 'ToDate'])\n",
    "\n",
    "SLR = pd.read_csv('SLR.csv', dayfirst=True, parse_dates=['StartDate', 'EndDate'])\n",
    "\n",
    "RD = pd.read_csv('T_RouteDet.csv')\n",
    "RD.VisitDate = convert_to_datetime(RD.VisitDate)\n",
    "\n",
    "STL = pd.read_csv('STL.csv')\n",
    "STL['UpdateTime']=convert_to_datetime(STL['UpdateTime'])\n",
    "\n",
    "PSO = pd.read_csv('PSO.csv')\n",
    "PSO.Crtd_DateTime = convert_to_datetime(PSO.Crtd_DateTime)\n",
    "\n",
    "WCC = pd.read_csv('WithOutNumberCICO.csv')\n",
    "\n",
    "TS = pd.read_csv('TSlsperID.csv')\n",
    "\n",
    "U = pd.read_csv('Users.csv')\n",
    "\n",
    "COM = pd.read_csv('COM.csv')\n",
    "\n",
    "CU = pd.read_csv('CU.csv')"
   ]
  },
  {
   "cell_type": "code",
   "execution_count": 280,
   "metadata": {},
   "outputs": [
    {
     "data": {
      "text/plain": [
       "Index(['CustID', 'SlsFreq', 'DayofWeek', 'SalesRouteID', 'VisitDate'], dtype='object')"
      ]
     },
     "execution_count": 280,
     "metadata": {},
     "output_type": "execute_result"
    }
   ],
   "source": [
    "RD.columns"
   ]
  },
  {
   "cell_type": "code",
   "execution_count": 281,
   "metadata": {},
   "outputs": [
    {
     "data": {
      "text/plain": [
       "Index(['BranchID', 'SalesRouteID', 'SlsperID', 'FromDate', 'ToDate'], dtype='object')"
      ]
     },
     "execution_count": 281,
     "metadata": {},
     "output_type": "execute_result"
    }
   ],
   "source": [
    "SRM.columns"
   ]
  },
  {
   "cell_type": "code",
   "execution_count": 282,
   "metadata": {},
   "outputs": [
    {
     "data": {
      "text/plain": [
       "Index(['CustID', 'SalesRouteID', 'StartDate', 'EndDate', 'SlsFreq'], dtype='object')"
      ]
     },
     "execution_count": 282,
     "metadata": {},
     "output_type": "execute_result"
    }
   ],
   "source": [
    "SLR.columns"
   ]
  },
  {
   "cell_type": "code",
   "execution_count": 283,
   "metadata": {},
   "outputs": [
    {
     "name": "stdout",
     "output_type": "stream",
     "text": [
      "(6341, 6)\n"
     ]
    }
   ],
   "source": [
    "# Get ET\n",
    "\n",
    "SLR['SalesRouteID'] = SLR['SalesRouteID'].str.upper()\n",
    "RD['SalesRouteID'] = RD['SalesRouteID'].str.upper()\n",
    "\n",
    "T_ExtRoute = RD.merge(SRM.add_prefix('SRM_'), how='inner', left_on=['SalesRouteID'], right_on='SRM_SalesRouteID')\n",
    "T_ExtRoute = df_filter(T_ExtRoute, DayofWeek='Sun')\n",
    "T_ExtRoute=T_ExtRoute[\\\n",
    "    (T_ExtRoute['VisitDate'] >= T_ExtRoute['SRM_FromDate']) & \\\n",
    "    (T_ExtRoute['VisitDate'] <= T_ExtRoute['SRM_ToDate'])]\n",
    "\n",
    "T_ExtRoute = T_ExtRoute.merge(SLR.add_prefix('SLR_'), how='inner', left_on=['SalesRouteID', 'CustID'], right_on=['SLR_SalesRouteID', 'SLR_CustID'])\n",
    "T_ExtRoute=T_ExtRoute[\\\n",
    "    (T_ExtRoute['VisitDate'] >= T_ExtRoute['SLR_StartDate']) & \\\n",
    "    (T_ExtRoute['VisitDate'] <= T_ExtRoute['SLR_EndDate'])]\n",
    "\n",
    "T_ExtRoute = dropdup(T_ExtRoute, 1, ['SRM_BranchID', 'CustID', 'SRM_SlsperID', 'SlsFreq', 'SLR_StartDate', 'SLR_EndDate'])\n",
    "T_ExtRoute = T_ExtRoute[['SRM_BranchID','CustID','SRM_SlsperID','SlsFreq','SLR_StartDate','SLR_EndDate']]\n",
    "T_ExtRoute.columns = ['BranchID', 'CustID', 'SlsperID', 'SlsFreq', 'StartDate','EndDate']\n",
    "print(T_ExtRoute.shape)"
   ]
  },
  {
   "cell_type": "code",
   "execution_count": 284,
   "metadata": {},
   "outputs": [
    {
     "data": {
      "text/plain": [
       "Index(['BranchID', 'CustID', 'SlsperID', 'SlsFreq', 'StartDate', 'EndDate'], dtype='object')"
      ]
     },
     "execution_count": 284,
     "metadata": {},
     "output_type": "execute_result"
    }
   ],
   "source": [
    "T_ExtRoute.columns"
   ]
  },
  {
   "cell_type": "markdown",
   "metadata": {},
   "source": [
    "srm.BranchID,\n",
    "rd.CustID,\n",
    "srm.SlsperID,\n",
    "rd.SlsFreq,\n",
    "StartDate = slr.StartDate,\n",
    "EndDate = slr.EndDate"
   ]
  },
  {
   "cell_type": "code",
   "execution_count": 285,
   "metadata": {},
   "outputs": [
    {
     "data": {
      "text/plain": [
       "(6341, 6)"
      ]
     },
     "execution_count": 285,
     "metadata": {},
     "output_type": "execute_result"
    }
   ],
   "source": [
    "T_ExtRoute.shape\n",
    "# df_filter(T_ExtRoute, SalesRouteID='TDN1_1', DayofWeek='Sun')\n",
    "# df_filter(T_ExtRoute, SalesRouteID='TDN1_1').to_clipboard()\n",
    "# vc(T_ExtRoute, 'SalesRouteID').to_clipboard()\n",
    "# T_ExtRoute.shape\n",
    "# T_ExtRoute.shape\n",
    "# df_SRM.shape\n",
    "# vc(df_T_RouteDet,'DayofWeek')\n",
    "# vc(df_SRM, 'FromDate')"
   ]
  },
  {
   "cell_type": "code",
   "execution_count": 286,
   "metadata": {},
   "outputs": [
    {
     "data": {
      "text/plain": [
       "CustID                  object\n",
       "SlsFreq                 object\n",
       "DayofWeek               object\n",
       "SalesRouteID            object\n",
       "VisitDate       datetime64[ns]\n",
       "dtype: object"
      ]
     },
     "execution_count": 286,
     "metadata": {},
     "output_type": "execute_result"
    }
   ],
   "source": [
    "RD.dtypes"
   ]
  },
  {
   "cell_type": "code",
   "execution_count": 287,
   "metadata": {},
   "outputs": [],
   "source": [
    "# RD.VisitDate = convert_to_datetime(RD.VisitDate)"
   ]
  },
  {
   "cell_type": "code",
   "execution_count": 288,
   "metadata": {},
   "outputs": [],
   "source": [
    "TResult_1 = RD.merge(SRM.add_prefix('SRM_'), how='inner', left_on=['SalesRouteID'], right_on='SRM_SalesRouteID')\n",
    "TResult_1=TResult_1[\\\n",
    "    (TResult_1['DayofWeek'] !='Sun') & \\\n",
    "    (TResult_1['VisitDate'] >= TResult_1['SRM_FromDate']) & \\\n",
    "    (TResult_1['VisitDate'] <= TResult_1['SRM_ToDate'])]\n",
    "lo(6)\n",
    "TResult_1=TResult_1[['SRM_BranchID', 'SRM_SlsperID', 'SalesRouteID', 'SlsFreq', 'CustID', 'VisitDate']]\n",
    "TResult_1['InRoute']=1\n",
    "TResult_1['ExtRoute']=0\n",
    "TResult_1['Visited']=0\n",
    "TResult_1['OrderFromPDA']=0\n",
    "TResult_1['OrdAmtFromPDA']=0\n",
    "TResult_1['OrderFromOther']=0\n",
    "TResult_1['OrdAmtFromOther']=0"
   ]
  },
  {
   "cell_type": "code",
   "execution_count": 289,
   "metadata": {},
   "outputs": [],
   "source": [
    "TResult_1.columns = ['BranchID', 'SlsperID', 'SalesRouteID', 'SlsFreq', 'CustID',\n",
    "       'VisitDate', 'InRoute', 'ExtRoute', 'Visited', 'OrderFromPDA',\n",
    "       'OrdAmtFromPDA', 'OrderFromOther', 'OrdAmtFromOther']"
   ]
  },
  {
   "cell_type": "code",
   "execution_count": 290,
   "metadata": {},
   "outputs": [
    {
     "data": {
      "text/plain": [
       "Index(['BranchID', 'SlsperID', 'SalesRouteID', 'SlsFreq', 'CustID',\n",
       "       'VisitDate', 'InRoute', 'ExtRoute', 'Visited', 'OrderFromPDA',\n",
       "       'OrdAmtFromPDA', 'OrderFromOther', 'OrdAmtFromOther'],\n",
       "      dtype='object')"
      ]
     },
     "execution_count": 290,
     "metadata": {},
     "output_type": "execute_result"
    }
   ],
   "source": [
    "TResult_1.columns"
   ]
  },
  {
   "cell_type": "code",
   "execution_count": 291,
   "metadata": {},
   "outputs": [
    {
     "data": {
      "text/html": [
       "<div>\n",
       "<style scoped>\n",
       "    .dataframe tbody tr th:only-of-type {\n",
       "        vertical-align: middle;\n",
       "    }\n",
       "\n",
       "    .dataframe tbody tr th {\n",
       "        vertical-align: top;\n",
       "    }\n",
       "\n",
       "    .dataframe thead th {\n",
       "        text-align: right;\n",
       "    }\n",
       "</style>\n",
       "<table border=\"1\" class=\"dataframe\">\n",
       "  <thead>\n",
       "    <tr style=\"text-align: right;\">\n",
       "      <th></th>\n",
       "      <th>BranchID</th>\n",
       "      <th>SlsperID</th>\n",
       "      <th>SalesRouteID</th>\n",
       "      <th>SlsFreq</th>\n",
       "      <th>CustID</th>\n",
       "      <th>VisitDate</th>\n",
       "      <th>InRoute</th>\n",
       "      <th>ExtRoute</th>\n",
       "      <th>Visited</th>\n",
       "      <th>OrderFromPDA</th>\n",
       "      <th>OrdAmtFromPDA</th>\n",
       "      <th>OrderFromOther</th>\n",
       "      <th>OrdAmtFromOther</th>\n",
       "    </tr>\n",
       "  </thead>\n",
       "  <tbody>\n",
       "    <tr>\n",
       "      <th>137764</th>\n",
       "      <td>MR0016</td>\n",
       "      <td>MR0678</td>\n",
       "      <td>TMK2_9</td>\n",
       "      <td>F2</td>\n",
       "      <td>000476</td>\n",
       "      <td>2021-10-11</td>\n",
       "      <td>1</td>\n",
       "      <td>0</td>\n",
       "      <td>0</td>\n",
       "      <td>0</td>\n",
       "      <td>0</td>\n",
       "      <td>0</td>\n",
       "      <td>0</td>\n",
       "    </tr>\n",
       "    <tr>\n",
       "      <th>137765</th>\n",
       "      <td>MR0016</td>\n",
       "      <td>MR0678</td>\n",
       "      <td>TMK2_9</td>\n",
       "      <td>A</td>\n",
       "      <td>000831</td>\n",
       "      <td>2021-10-01</td>\n",
       "      <td>1</td>\n",
       "      <td>0</td>\n",
       "      <td>0</td>\n",
       "      <td>0</td>\n",
       "      <td>0</td>\n",
       "      <td>0</td>\n",
       "      <td>0</td>\n",
       "    </tr>\n",
       "    <tr>\n",
       "      <th>137766</th>\n",
       "      <td>MR0016</td>\n",
       "      <td>MR0678</td>\n",
       "      <td>TMK2_9</td>\n",
       "      <td>A</td>\n",
       "      <td>000831</td>\n",
       "      <td>2021-10-02</td>\n",
       "      <td>1</td>\n",
       "      <td>0</td>\n",
       "      <td>0</td>\n",
       "      <td>0</td>\n",
       "      <td>0</td>\n",
       "      <td>0</td>\n",
       "      <td>0</td>\n",
       "    </tr>\n",
       "    <tr>\n",
       "      <th>137767</th>\n",
       "      <td>MR0016</td>\n",
       "      <td>MR0678</td>\n",
       "      <td>TMK2_9</td>\n",
       "      <td>A</td>\n",
       "      <td>000831</td>\n",
       "      <td>2021-10-04</td>\n",
       "      <td>1</td>\n",
       "      <td>0</td>\n",
       "      <td>0</td>\n",
       "      <td>0</td>\n",
       "      <td>0</td>\n",
       "      <td>0</td>\n",
       "      <td>0</td>\n",
       "    </tr>\n",
       "    <tr>\n",
       "      <th>137768</th>\n",
       "      <td>MR0016</td>\n",
       "      <td>MR0678</td>\n",
       "      <td>TMK2_9</td>\n",
       "      <td>A</td>\n",
       "      <td>000831</td>\n",
       "      <td>2021-10-05</td>\n",
       "      <td>1</td>\n",
       "      <td>0</td>\n",
       "      <td>0</td>\n",
       "      <td>0</td>\n",
       "      <td>0</td>\n",
       "      <td>0</td>\n",
       "      <td>0</td>\n",
       "    </tr>\n",
       "    <tr>\n",
       "      <th>...</th>\n",
       "      <td>...</td>\n",
       "      <td>...</td>\n",
       "      <td>...</td>\n",
       "      <td>...</td>\n",
       "      <td>...</td>\n",
       "      <td>...</td>\n",
       "      <td>...</td>\n",
       "      <td>...</td>\n",
       "      <td>...</td>\n",
       "      <td>...</td>\n",
       "      <td>...</td>\n",
       "      <td>...</td>\n",
       "      <td>...</td>\n",
       "    </tr>\n",
       "    <tr>\n",
       "      <th>140500</th>\n",
       "      <td>MR0016</td>\n",
       "      <td>MR0678</td>\n",
       "      <td>TMK2_9</td>\n",
       "      <td>A</td>\n",
       "      <td>P4406-0083</td>\n",
       "      <td>2021-10-19</td>\n",
       "      <td>1</td>\n",
       "      <td>0</td>\n",
       "      <td>0</td>\n",
       "      <td>0</td>\n",
       "      <td>0</td>\n",
       "      <td>0</td>\n",
       "      <td>0</td>\n",
       "    </tr>\n",
       "    <tr>\n",
       "      <th>140501</th>\n",
       "      <td>MR0016</td>\n",
       "      <td>MR0678</td>\n",
       "      <td>TMK2_9</td>\n",
       "      <td>A</td>\n",
       "      <td>P4406-0083</td>\n",
       "      <td>2021-10-20</td>\n",
       "      <td>1</td>\n",
       "      <td>0</td>\n",
       "      <td>0</td>\n",
       "      <td>0</td>\n",
       "      <td>0</td>\n",
       "      <td>0</td>\n",
       "      <td>0</td>\n",
       "    </tr>\n",
       "    <tr>\n",
       "      <th>140502</th>\n",
       "      <td>MR0016</td>\n",
       "      <td>MR0678</td>\n",
       "      <td>TMK2_9</td>\n",
       "      <td>A</td>\n",
       "      <td>P4406-0083</td>\n",
       "      <td>2021-10-21</td>\n",
       "      <td>1</td>\n",
       "      <td>0</td>\n",
       "      <td>0</td>\n",
       "      <td>0</td>\n",
       "      <td>0</td>\n",
       "      <td>0</td>\n",
       "      <td>0</td>\n",
       "    </tr>\n",
       "    <tr>\n",
       "      <th>140503</th>\n",
       "      <td>MR0016</td>\n",
       "      <td>MR0678</td>\n",
       "      <td>TMK2_9</td>\n",
       "      <td>A</td>\n",
       "      <td>P4406-0083</td>\n",
       "      <td>2021-10-22</td>\n",
       "      <td>1</td>\n",
       "      <td>0</td>\n",
       "      <td>0</td>\n",
       "      <td>0</td>\n",
       "      <td>0</td>\n",
       "      <td>0</td>\n",
       "      <td>0</td>\n",
       "    </tr>\n",
       "    <tr>\n",
       "      <th>140504</th>\n",
       "      <td>MR0016</td>\n",
       "      <td>MR0678</td>\n",
       "      <td>TMK2_9</td>\n",
       "      <td>A</td>\n",
       "      <td>P4406-0083</td>\n",
       "      <td>2021-10-23</td>\n",
       "      <td>1</td>\n",
       "      <td>0</td>\n",
       "      <td>0</td>\n",
       "      <td>0</td>\n",
       "      <td>0</td>\n",
       "      <td>0</td>\n",
       "      <td>0</td>\n",
       "    </tr>\n",
       "  </tbody>\n",
       "</table>\n",
       "<p>2741 rows × 13 columns</p>\n",
       "</div>"
      ],
      "text/plain": [
       "       BranchID SlsperID SalesRouteID SlsFreq      CustID  VisitDate  InRoute  \\\n",
       "137764   MR0016   MR0678       TMK2_9      F2      000476 2021-10-11        1   \n",
       "137765   MR0016   MR0678       TMK2_9       A      000831 2021-10-01        1   \n",
       "137766   MR0016   MR0678       TMK2_9       A      000831 2021-10-02        1   \n",
       "137767   MR0016   MR0678       TMK2_9       A      000831 2021-10-04        1   \n",
       "137768   MR0016   MR0678       TMK2_9       A      000831 2021-10-05        1   \n",
       "...         ...      ...          ...     ...         ...        ...      ...   \n",
       "140500   MR0016   MR0678       TMK2_9       A  P4406-0083 2021-10-19        1   \n",
       "140501   MR0016   MR0678       TMK2_9       A  P4406-0083 2021-10-20        1   \n",
       "140502   MR0016   MR0678       TMK2_9       A  P4406-0083 2021-10-21        1   \n",
       "140503   MR0016   MR0678       TMK2_9       A  P4406-0083 2021-10-22        1   \n",
       "140504   MR0016   MR0678       TMK2_9       A  P4406-0083 2021-10-23        1   \n",
       "\n",
       "        ExtRoute  Visited  OrderFromPDA  OrdAmtFromPDA  OrderFromOther  \\\n",
       "137764         0        0             0              0               0   \n",
       "137765         0        0             0              0               0   \n",
       "137766         0        0             0              0               0   \n",
       "137767         0        0             0              0               0   \n",
       "137768         0        0             0              0               0   \n",
       "...          ...      ...           ...            ...             ...   \n",
       "140500         0        0             0              0               0   \n",
       "140501         0        0             0              0               0   \n",
       "140502         0        0             0              0               0   \n",
       "140503         0        0             0              0               0   \n",
       "140504         0        0             0              0               0   \n",
       "\n",
       "        OrdAmtFromOther  \n",
       "137764                0  \n",
       "137765                0  \n",
       "137766                0  \n",
       "137767                0  \n",
       "137768                0  \n",
       "...                 ...  \n",
       "140500                0  \n",
       "140501                0  \n",
       "140502                0  \n",
       "140503                0  \n",
       "140504                0  \n",
       "\n",
       "[2741 rows x 13 columns]"
      ]
     },
     "execution_count": 291,
     "metadata": {},
     "output_type": "execute_result"
    }
   ],
   "source": [
    "df_filter(TResult_1, BranchID='MR0016', SlsperID='MR0678')"
   ]
  },
  {
   "cell_type": "code",
   "execution_count": 292,
   "metadata": {},
   "outputs": [
    {
     "data": {
      "text/plain": [
       "(244123, 13)"
      ]
     },
     "execution_count": 292,
     "metadata": {},
     "output_type": "execute_result"
    }
   ],
   "source": [
    "TResult_1.shape\n",
    "# stl = f\"SELECT BranchID, SlsperID, CustID, UpdateTime, NumberCICO FROM dbo.AR_SalespersonLocationTrace WHERE CAST(UpdateTime AS DATE) BETWEEN {param_1} AND {param_2}\"\n",
    "# get_ms_csv(STL, 'STL.csv')\n",
    "# STL = pd.read_csv('STL.csv')\n",
    "# STL['UpdateTime']=pd.to_datetime(df_STL['UpdateTime'].str[:10], dayfirst=True)\n",
    "# df_STL.shape\n"
   ]
  },
  {
   "cell_type": "code",
   "execution_count": 293,
   "metadata": {},
   "outputs": [
    {
     "name": "stdout",
     "output_type": "stream",
     "text": [
      "(222146, 17)\n",
      "row errors = 0\n",
      "row errors keep = 0\n"
     ]
    }
   ],
   "source": [
    "# Faster performance 2.4s\n",
    "df1 = STL.merge(WCC.add_prefix('WCC_'), how='left', left_on=['BranchID', 'NumberCICO'], right_on=['WCC_BranchID','WCC_NumberCICO'])\n",
    "df2 = df1.merge(SRM.add_prefix('SRM_'), how='inner', left_on=['BranchID','SlsperID'], right_on=['SRM_BranchID','SRM_SlsperID'])\n",
    "df3=df2[\\\n",
    "    (df2['UpdateTime'] >= df2['SRM_FromDate']) & \\\n",
    "    (df2['UpdateTime'] <= df2['SRM_ToDate'])].copy()\n",
    "\n",
    "_RD=RD[RD['DayofWeek']=='Sun'].copy()\n",
    "# _RD['VisitDate']=convert_to_datetime(_RD['VisitDate'])\n",
    "_RD['SalesRouteID'] = _RD['SalesRouteID'].str.upper()\n",
    "# df_filter(_RD, SalesRouteID='THCM_12', CustID='M032201')\n",
    "df3['SRM_SalesRouteID'] = df3['SRM_SalesRouteID'].str.upper()\n",
    "df4 = df3.merge(_RD.add_prefix('RD_'), how='left', left_on=['CustID', 'SRM_SalesRouteID'], right_on=['RD_CustID','RD_SalesRouteID'])\n",
    "print(df4.shape)\n",
    "# df4.columns\n",
    "ctr1=df4.RD_VisitDate<df4.SRM_FromDate\n",
    "ctr2=df4.RD_VisitDate>df4.SRM_ToDate\n",
    "series = df4['RD_SalesRouteID']\n",
    "list_check = df3.columns.to_list()\n",
    "df5 = date_between_handler(df4,ctr1,ctr2,series,list_check)\n",
    "# print(df5.shape)\n",
    "TResult_2=df_na(df5, 'WCC_NumberCICO')\n",
    "# TResult_2.shape\n",
    "TResult_2=TResult_2[['BranchID', 'SlsperID', 'RD_SalesRouteID', 'RD_SlsFreq', 'CustID', 'UpdateTime']]\n",
    "# TResult_2.columns\n",
    "TResult_2['InRoute']=0\n",
    "TResult_2['ExtRoute']=np.where(TResult_2.RD_SalesRouteID.notna(), 1,0)\n",
    "TResult_2['Visited']=1\n",
    "TResult_2['OrderFromPDA']=0\n",
    "TResult_2['OrdAmtFromPDA']=0\n",
    "TResult_2['OrderFromOther']=0\n",
    "TResult_2['OrdAmtFromOther']=0\n",
    "TResult_2 = TResult_2.drop_duplicates()\n",
    "TResult_2.columns=TResult_1.columns"
   ]
  },
  {
   "cell_type": "code",
   "execution_count": 294,
   "metadata": {},
   "outputs": [
    {
     "data": {
      "text/plain": [
       "(14260, 13)"
      ]
     },
     "execution_count": 294,
     "metadata": {},
     "output_type": "execute_result"
    }
   ],
   "source": [
    "TResult_2.shape\n",
    "# list = PSO.columns.tolist()\n",
    "# PSO.columns"
   ]
  },
  {
   "cell_type": "code",
   "execution_count": 295,
   "metadata": {},
   "outputs": [
    {
     "name": "stdout",
     "output_type": "stream",
     "text": [
      "row errors = 117\n",
      "row errors keep = 108\n"
     ]
    }
   ],
   "source": [
    "ET = T_ExtRoute\n",
    "# df1 = PSO.merge(ET.add_prefix('ET_'), how='left', left_on=['BranchID', 'CustID', 'SlsPerID'], right_on=['ET_BranchID', 'ET_CustID', 'ET_SlsperID'])\n",
    "df1 = PSO.merge(SLR.add_prefix('SLR_'), how='inner', left_on=['CustID'], right_on=['SLR_CustID'])\n",
    "ctr1=df1.Crtd_DateTime >= df1['SLR_StartDate']\n",
    "ctr2=df1.Crtd_DateTime <= df1['SLR_EndDate']\n",
    "df2=df1[ctr1 & ctr2].copy()\n",
    "\n",
    "df3 = df2.merge(ET.add_prefix('ET_'), how='left', left_on=['BranchID', 'CustID', 'SlsPerID'], right_on=['ET_BranchID', 'ET_CustID', 'ET_SlsperID'])\n",
    "ctr1 = df3['Crtd_DateTime'] < df3.ET_StartDate\n",
    "ctr2 = df3['Crtd_DateTime'] > df3.ET_EndDate\n",
    "series = df3['ET_BranchID']\n",
    "list_check = df2.columns.tolist()\n",
    "df3 = date_between_handler(df3, ctr1, ctr2, series, list_check)\n",
    "\n",
    "# df2 = df1.merge(SLR.add_prefix('SLR_'), how='inner', left_on=['CustID'], right_on=['SLR_CustID'])\n"
   ]
  },
  {
   "cell_type": "code",
   "execution_count": 296,
   "metadata": {},
   "outputs": [
    {
     "data": {
      "text/plain": [
       "Index(['BranchID', 'SlsPerID', 'SalesRouteID', 'CustID', 'Crtd_DateTime',\n",
       "       'InsertFrom', 'LineAmt', 'SLR_CustID', 'SLR_SalesRouteID',\n",
       "       'SLR_StartDate', 'SLR_EndDate', 'SLR_SlsFreq', 'ET_BranchID',\n",
       "       'ET_CustID', 'ET_SlsperID', 'ET_SlsFreq', 'ET_StartDate', 'ET_EndDate'],\n",
       "      dtype='object')"
      ]
     },
     "execution_count": 296,
     "metadata": {},
     "output_type": "execute_result"
    }
   ],
   "source": [
    "df3.columns"
   ]
  },
  {
   "cell_type": "code",
   "execution_count": 297,
   "metadata": {},
   "outputs": [
    {
     "name": "stdout",
     "output_type": "stream",
     "text": [
      "row errors = 117\n",
      "row errors keep = 108\n"
     ]
    }
   ],
   "source": [
    "ET = T_ExtRoute\n",
    "# df1 = PSO.merge(ET.add_prefix('ET_'), how='left', left_on=['BranchID', 'CustID', 'SlsPerID'], right_on=['ET_BranchID', 'ET_CustID', 'ET_SlsperID'])\n",
    "df1 = PSO.merge(SLR.add_prefix('SLR_'), how='inner', left_on=['CustID'], right_on=['SLR_CustID'])\n",
    "ctr1=df1.Crtd_DateTime >= df1['SLR_StartDate']\n",
    "ctr2=df1.Crtd_DateTime <= df1['SLR_EndDate']\n",
    "df2=df1[ctr1 & ctr2].copy()\n",
    "\n",
    "df3 = df2.merge(ET.add_prefix('ET_'), how='left', left_on=['BranchID', 'CustID', 'SlsPerID'], right_on=['ET_BranchID', 'ET_CustID', 'ET_SlsperID'])\n",
    "ctr1 = df3['Crtd_DateTime'] < df3.ET_StartDate\n",
    "ctr2 = df3['Crtd_DateTime'] > df3.ET_EndDate\n",
    "series = df3['ET_BranchID']\n",
    "list_check = df2.columns.tolist()\n",
    "df3 = date_between_handler(df3, ctr1, ctr2, series, list_check)\n",
    "# df3.shape\n",
    "# df3.columns\n",
    "df3['InRoute']=0\n",
    "df3['ExtRoute']=np.where(df3.ET_BranchID.notna(), 1,0)\n",
    "df3['Visited']=0\n",
    "df3['OrderFromPDA']=np.where(df3['InsertFrom']=='S', 1, 0)\n",
    "df3['OrdAmtFromPDA']=np.where(df3['InsertFrom']=='S', df3.LineAmt, 0)\n",
    "df3['OrderFromOther']=np.where(df3['InsertFrom']!='S', 1, 0)\n",
    "df3['OrdAmtFromOther']=np.where(df3['InsertFrom']!='S', df3.LineAmt, 0)\n",
    "# lo(9)\n",
    "grouplist = ['BranchID', 'SlsPerID', 'SalesRouteID', 'SLR_SlsFreq', 'CustID', 'Crtd_DateTime', 'ExtRoute', 'OrderFromPDA', 'OrderFromOther', 'InRoute', 'Visited']\n",
    "agg_dict = {'OrdAmtFromPDA':np.sum, 'OrdAmtFromOther':np.sum}\n",
    "TResult_3 = pivot(df3, grouplist, agg_dict)\n",
    "TResult_3 = TResult_3[['BranchID', 'SlsPerID', 'SalesRouteID', 'SLR_SlsFreq', 'CustID', 'Crtd_DateTime', 'InRoute', 'ExtRoute', 'Visited', 'OrderFromPDA', 'OrdAmtFromPDA', 'OrderFromOther', 'OrdAmtFromOther']]\n",
    "TResult_3.columns = TResult_1.columns\n",
    "# TResult_1.columns\n",
    "# TResult_3.columns"
   ]
  },
  {
   "cell_type": "code",
   "execution_count": 298,
   "metadata": {},
   "outputs": [
    {
     "data": {
      "text/plain": [
       "(15365, 13)"
      ]
     },
     "execution_count": 298,
     "metadata": {},
     "output_type": "execute_result"
    }
   ],
   "source": [
    "TResult_3.shape"
   ]
  },
  {
   "cell_type": "code",
   "execution_count": 299,
   "metadata": {},
   "outputs": [
    {
     "data": {
      "text/plain": [
       "BranchID                   object\n",
       "SlsperID                   object\n",
       "SalesRouteID               object\n",
       "SlsFreq                    object\n",
       "CustID                     object\n",
       "VisitDate          datetime64[ns]\n",
       "InRoute                     int64\n",
       "ExtRoute                    int64\n",
       "Visited                     int64\n",
       "OrderFromPDA                int64\n",
       "OrdAmtFromPDA               int64\n",
       "OrderFromOther              int64\n",
       "OrdAmtFromOther             int64\n",
       "dtype: object"
      ]
     },
     "execution_count": 299,
     "metadata": {},
     "output_type": "execute_result"
    }
   ],
   "source": [
    "TResult_1.dtypes"
   ]
  },
  {
   "cell_type": "code",
   "execution_count": 300,
   "metadata": {},
   "outputs": [
    {
     "data": {
      "text/plain": [
       "BranchID                   object\n",
       "SlsperID                   object\n",
       "SalesRouteID               object\n",
       "SlsFreq                    object\n",
       "CustID                     object\n",
       "VisitDate          datetime64[ns]\n",
       "InRoute                     int64\n",
       "ExtRoute                    int32\n",
       "Visited                     int64\n",
       "OrderFromPDA                int64\n",
       "OrdAmtFromPDA               int64\n",
       "OrderFromOther              int64\n",
       "OrdAmtFromOther             int64\n",
       "dtype: object"
      ]
     },
     "execution_count": 300,
     "metadata": {},
     "output_type": "execute_result"
    }
   ],
   "source": [
    "TResult_2.dtypes"
   ]
  },
  {
   "cell_type": "code",
   "execution_count": 301,
   "metadata": {},
   "outputs": [
    {
     "data": {
      "text/plain": [
       "BranchID                   object\n",
       "SlsperID                   object\n",
       "SalesRouteID               object\n",
       "SlsFreq                    object\n",
       "CustID                     object\n",
       "VisitDate          datetime64[ns]\n",
       "InRoute                     int64\n",
       "ExtRoute                    int64\n",
       "Visited                     int64\n",
       "OrderFromPDA                int64\n",
       "OrdAmtFromPDA             float64\n",
       "OrderFromOther              int64\n",
       "OrdAmtFromOther           float64\n",
       "dtype: object"
      ]
     },
     "execution_count": 301,
     "metadata": {},
     "output_type": "execute_result"
    }
   ],
   "source": [
    "TResult_3.dtypes"
   ]
  },
  {
   "cell_type": "code",
   "execution_count": 302,
   "metadata": {},
   "outputs": [],
   "source": [
    "TResult_4 = union_all([TResult_1, TResult_2])\n",
    "TResult_4 = union_all([TResult_4, TResult_3])"
   ]
  },
  {
   "cell_type": "code",
   "execution_count": 303,
   "metadata": {},
   "outputs": [
    {
     "data": {
      "text/plain": [
       "BranchID                   object\n",
       "SlsperID                   object\n",
       "SalesRouteID               object\n",
       "SlsFreq                    object\n",
       "CustID                     object\n",
       "VisitDate          datetime64[ns]\n",
       "InRoute                     int64\n",
       "ExtRoute                    int64\n",
       "Visited                     int64\n",
       "OrderFromPDA                int64\n",
       "OrdAmtFromPDA             float64\n",
       "OrderFromOther              int64\n",
       "OrdAmtFromOther           float64\n",
       "dtype: object"
      ]
     },
     "execution_count": 303,
     "metadata": {},
     "output_type": "execute_result"
    }
   ],
   "source": [
    "TResult_4.dtypes"
   ]
  },
  {
   "cell_type": "code",
   "execution_count": 304,
   "metadata": {},
   "outputs": [],
   "source": [
    "df_filter(TResult_4, BranchID='MR0001', SlsperID='MR0499', SalesRouteID='THCM_12', CustID='M0101108', SlsFreq='A').to_clipboard()"
   ]
  },
  {
   "cell_type": "code",
   "execution_count": 305,
   "metadata": {},
   "outputs": [],
   "source": [
    "grouplist = ['BranchID', 'SlsperID', 'SalesRouteID', 'SlsFreq', 'CustID', 'VisitDate']\n",
    "agg_dict = {'InRoute':np.max, 'ExtRoute':np.max, 'Visited':np.max, 'OrderFromPDA':np.max, 'OrdAmtFromPDA':np.max, 'OrderFromOther':np.max, 'OrdAmtFromOther':np.max}\n",
    "TResult = pivot(TResult_4, grouplist, agg_dict)"
   ]
  },
  {
   "cell_type": "code",
   "execution_count": 306,
   "metadata": {},
   "outputs": [
    {
     "data": {
      "text/plain": [
       "(270381, 13)"
      ]
     },
     "execution_count": 306,
     "metadata": {},
     "output_type": "execute_result"
    }
   ],
   "source": [
    "# , 'ExtRoute', 'OrderFromPDA', 'OrderFromOther', 'InRoute', 'Visited'\n",
    "# TResult = \n",
    "TResult.shape"
   ]
  },
  {
   "cell_type": "code",
   "execution_count": 307,
   "metadata": {},
   "outputs": [],
   "source": [
    "# df_filter(TResult, BranchID='MR0001', SlsperID='MR0499', SalesRouteID='THCM_12', CustID='M0101108', SlsFreq='A').to_clipboard()\n",
    "# TResult.to_csv('TResult.csv')\n",
    "# 277995-277484"
   ]
  },
  {
   "cell_type": "code",
   "execution_count": 308,
   "metadata": {},
   "outputs": [
    {
     "data": {
      "text/plain": [
       "Index(['BranchID', 'SlsperID', 'SupID', 'ASM', 'RSMID'], dtype='object')"
      ]
     },
     "execution_count": 308,
     "metadata": {},
     "output_type": "execute_result"
    }
   ],
   "source": [
    "TS.columns"
   ]
  },
  {
   "cell_type": "code",
   "execution_count": 309,
   "metadata": {},
   "outputs": [
    {
     "data": {
      "text/plain": [
       "(270381, 13)"
      ]
     },
     "execution_count": 309,
     "metadata": {},
     "output_type": "execute_result"
    }
   ],
   "source": [
    "TResult.shape"
   ]
  },
  {
   "cell_type": "code",
   "execution_count": 310,
   "metadata": {},
   "outputs": [
    {
     "data": {
      "text/plain": [
       "Index(['UserName', 'FirstName', 'Position'], dtype='object')"
      ]
     },
     "execution_count": 310,
     "metadata": {},
     "output_type": "execute_result"
    }
   ],
   "source": [
    "U.columns"
   ]
  },
  {
   "cell_type": "code",
   "execution_count": 311,
   "metadata": {},
   "outputs": [],
   "source": [
    "df1 = TResult.merge(U.add_prefix('U_'), how='inner', left_on=['SlsperID'], right_on=['U_UserName'])"
   ]
  },
  {
   "cell_type": "code",
   "execution_count": 312,
   "metadata": {},
   "outputs": [],
   "source": [
    "# df1.shape\n",
    "# df1 = TResult.merge(TS, how='left', on=['BranchID' , 'SlsperID'], )\n",
    "# U.columns"
   ]
  },
  {
   "cell_type": "code",
   "execution_count": 313,
   "metadata": {},
   "outputs": [],
   "source": [
    "df2 = TResult.merge(TS, how='left', on=['BranchID' , 'SlsperID'])"
   ]
  },
  {
   "cell_type": "code",
   "execution_count": 314,
   "metadata": {},
   "outputs": [
    {
     "data": {
      "text/plain": [
       "Index(['BranchID', 'SlsperID', 'SalesRouteID', 'SlsFreq', 'CustID',\n",
       "       'VisitDate', 'InRoute', 'ExtRoute', 'Visited', 'OrderFromPDA',\n",
       "       'OrdAmtFromPDA', 'OrderFromOther', 'OrdAmtFromOther', 'SupID', 'ASM',\n",
       "       'RSMID'],\n",
       "      dtype='object')"
      ]
     },
     "execution_count": 314,
     "metadata": {},
     "output_type": "execute_result"
    }
   ],
   "source": [
    "df2.columns"
   ]
  },
  {
   "cell_type": "code",
   "execution_count": 315,
   "metadata": {},
   "outputs": [],
   "source": [
    "df3 = df2.merge(U.add_prefix('sup_'), how='left', left_on='SupID', right_on='sup_UserName')"
   ]
  },
  {
   "cell_type": "code",
   "execution_count": 316,
   "metadata": {},
   "outputs": [],
   "source": [
    "# df2.columns"
   ]
  },
  {
   "cell_type": "code",
   "execution_count": 317,
   "metadata": {},
   "outputs": [],
   "source": [
    "df4 = df3.merge(U.add_prefix('asm_'), how='left', left_on='ASM', right_on='asm_UserName')"
   ]
  },
  {
   "cell_type": "code",
   "execution_count": 318,
   "metadata": {},
   "outputs": [],
   "source": [
    "df5 = df4.merge(U.add_prefix('rsm_'), how='left', left_on='RSMID', right_on='rsm_UserName')"
   ]
  },
  {
   "cell_type": "code",
   "execution_count": 319,
   "metadata": {},
   "outputs": [],
   "source": [
    "df6 = df5.merge(COM.add_prefix('com_'), how='inner', left_on='BranchID', right_on='com_CpnyID')"
   ]
  },
  {
   "cell_type": "code",
   "execution_count": 320,
   "metadata": {},
   "outputs": [
    {
     "data": {
      "text/plain": [
       "Index(['CustId', 'CustName', 'Channel', 'ShopType', 'HCOID', 'HCOTypeID',\n",
       "       'ClassId', 'TerritoryDescr', 'StateDescr', 'DistrictDescr',\n",
       "       'WardDescr'],\n",
       "      dtype='object')"
      ]
     },
     "execution_count": 320,
     "metadata": {},
     "output_type": "execute_result"
    }
   ],
   "source": [
    "CU.columns"
   ]
  },
  {
   "cell_type": "code",
   "execution_count": 321,
   "metadata": {},
   "outputs": [],
   "source": [
    "df7 = df6.merge(CU.add_prefix('cu_'), how='inner', left_on='CustID', right_on='cu_CustId')"
   ]
  },
  {
   "cell_type": "code",
   "execution_count": 323,
   "metadata": {},
   "outputs": [
    {
     "data": {
      "text/plain": [
       "Index(['BranchID', 'SlsperID', 'SalesRouteID', 'SlsFreq', 'CustID',\n",
       "       'VisitDate', 'InRoute', 'ExtRoute', 'Visited', 'OrderFromPDA',\n",
       "       'OrdAmtFromPDA', 'OrderFromOther', 'OrdAmtFromOther', 'SupID', 'ASM',\n",
       "       'RSMID', 'sup_UserName', 'sup_FirstName', 'sup_Position',\n",
       "       'asm_UserName', 'asm_FirstName', 'asm_Position', 'rsm_UserName',\n",
       "       'rsm_FirstName', 'rsm_Position', 'com_CpnyID', 'com_CpnyName',\n",
       "       'cu_CustId', 'cu_CustName', 'cu_Channel', 'cu_ShopType', 'cu_HCOID',\n",
       "       'cu_HCOTypeID', 'cu_ClassId', 'cu_TerritoryDescr', 'cu_StateDescr',\n",
       "       'cu_DistrictDescr', 'cu_WardDescr'],\n",
       "      dtype='object')"
      ]
     },
     "execution_count": 323,
     "metadata": {},
     "output_type": "execute_result"
    }
   ],
   "source": [
    "df7"
   ]
  },
  {
   "cell_type": "code",
   "execution_count": null,
   "metadata": {},
   "outputs": [],
   "source": []
  },
  {
   "cell_type": "code",
   "execution_count": null,
   "metadata": {},
   "outputs": [],
   "source": []
  }
 ],
 "metadata": {
  "interpreter": {
   "hash": "f94d6dad5013d632e8b52fc362848c71d5234e1d7ba23afa22c3a2e55512dabd"
  },
  "kernelspec": {
   "display_name": "Python 3.9.6 64-bit ('venv': venv)",
   "name": "python3"
  },
  "language_info": {
   "codemirror_mode": {
    "name": "ipython",
    "version": 3
   },
   "file_extension": ".py",
   "mimetype": "text/x-python",
   "name": "python",
   "nbconvert_exporter": "python",
   "pygments_lexer": "ipython3",
   "version": "3.9.6"
  },
  "orig_nbformat": 4
 },
 "nbformat": 4,
 "nbformat_minor": 2
}
