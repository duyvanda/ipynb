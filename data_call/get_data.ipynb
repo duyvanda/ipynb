{
 "cells": [
  {
   "cell_type": "code",
   "execution_count": 1,
   "metadata": {},
   "outputs": [],
   "source": [
    "from utils.df_handle import *"
   ]
  },
  {
   "cell_type": "code",
   "execution_count": 2,
   "metadata": {},
   "outputs": [],
   "source": [
    "# pr_OM_PerformanceCall @Fromdate DATE, @Todate DATE"
   ]
  },
  {
   "cell_type": "code",
   "execution_count": 2,
   "metadata": {},
   "outputs": [],
   "source": [
    "param_1 = f\"'20211001'\"\n",
    "param_2 = f\"'20211028'\""
   ]
  },
  {
   "cell_type": "code",
   "execution_count": null,
   "metadata": {},
   "outputs": [],
   "source": [
    "query = f\"EXEC [pr_OM_PerformanceCall ]  @Fromdate={param_1}, @Todate={param_2}\"\n",
    "get_ms_csv(query, 'query.csv')"
   ]
  },
  {
   "cell_type": "code",
   "execution_count": null,
   "metadata": {},
   "outputs": [],
   "source": []
  },
  {
   "cell_type": "code",
   "execution_count": 9,
   "metadata": {},
   "outputs": [
    {
     "data": {
      "text/plain": [
       "Index(['MaCongTyCN', 'CongTyCN', 'NgayChungTu', 'SoDonDatHang', 'SoDonTraHang',\n",
       "       'NgayTraHang', 'HoaDon', 'TrangThai', 'MaKHThue', 'MaKHCu', 'MaVungBH',\n",
       "       'TenVungBH', 'MaKhuVuc', 'TenKhuVuc', 'MaTinhKH', 'TenTinhKH',\n",
       "       'MaKenhKH', 'TenKenhKH', 'MaKenhPhu', 'TenKenhPhu', 'MaHCO', 'TenHCO',\n",
       "       'MaPhanLoaiHCO', 'TenPhanLoaiHCO', 'MaPhanHangHCO', 'TenPhanHangHCO',\n",
       "       'MaSanPham', 'TenSanPhamNB', 'TenSanPhamVietTat', 'SoLo', 'LineRef',\n",
       "       'SoLuong', 'DonGiaCoVAT', 'DoanhSoCoVAT', 'DonGiaChuaVAT',\n",
       "       'DoanhSoChuaVAT', 'NgayDatDon', 'NgayGiaoHang', 'MaNV', 'TenCVBH',\n",
       "       'TenQuanLyTT', 'TenQuanLyKhuVuc', 'TenQuanLyVung', 'MaNVGH',\n",
       "       'NguoiGiaohang', 'TrangThaiGiaoHang', 'DonViGiaoHang',\n",
       "       'TenNhaVanChuyen', 'KieuDonHang', 'phanloaispcl', 'nhomsp',\n",
       "       'khuvucviettat', 'chinhanh', 'newhco', 'inserted_at'],\n",
       "      dtype='object')"
      ]
     },
     "execution_count": 9,
     "metadata": {},
     "output_type": "execute_result"
    }
   ],
   "source": [
    "FINAL.columns"
   ]
  },
  {
   "cell_type": "code",
   "execution_count": 10,
   "metadata": {},
   "outputs": [
    {
     "data": {
      "text/html": [
       "<div>\n",
       "<style scoped>\n",
       "    .dataframe tbody tr th:only-of-type {\n",
       "        vertical-align: middle;\n",
       "    }\n",
       "\n",
       "    .dataframe tbody tr th {\n",
       "        vertical-align: top;\n",
       "    }\n",
       "\n",
       "    .dataframe thead th {\n",
       "        text-align: right;\n",
       "    }\n",
       "</style>\n",
       "<table border=\"1\" class=\"dataframe\">\n",
       "  <thead>\n",
       "    <tr style=\"text-align: right;\">\n",
       "      <th></th>\n",
       "      <th>MaCongTyCN</th>\n",
       "      <th>CongTyCN</th>\n",
       "      <th>NgayChungTu</th>\n",
       "      <th>SoDonDatHang</th>\n",
       "      <th>SoDonTraHang</th>\n",
       "      <th>NgayTraHang</th>\n",
       "      <th>HoaDon</th>\n",
       "      <th>TrangThai</th>\n",
       "      <th>MaKHThue</th>\n",
       "      <th>MaKHCu</th>\n",
       "      <th>...</th>\n",
       "      <th>TrangThaiGiaoHang</th>\n",
       "      <th>DonViGiaoHang</th>\n",
       "      <th>TenNhaVanChuyen</th>\n",
       "      <th>KieuDonHang</th>\n",
       "      <th>phanloaispcl</th>\n",
       "      <th>nhomsp</th>\n",
       "      <th>khuvucviettat</th>\n",
       "      <th>chinhanh</th>\n",
       "      <th>newhco</th>\n",
       "      <th>inserted_at</th>\n",
       "    </tr>\n",
       "  </thead>\n",
       "  <tbody>\n",
       "  </tbody>\n",
       "</table>\n",
       "<p>0 rows × 55 columns</p>\n",
       "</div>"
      ],
      "text/plain": [
       "Empty DataFrame\n",
       "Columns: [MaCongTyCN, CongTyCN, NgayChungTu, SoDonDatHang, SoDonTraHang, NgayTraHang, HoaDon, TrangThai, MaKHThue, MaKHCu, MaVungBH, TenVungBH, MaKhuVuc, TenKhuVuc, MaTinhKH, TenTinhKH, MaKenhKH, TenKenhKH, MaKenhPhu, TenKenhPhu, MaHCO, TenHCO, MaPhanLoaiHCO, TenPhanLoaiHCO, MaPhanHangHCO, TenPhanHangHCO, MaSanPham, TenSanPhamNB, TenSanPhamVietTat, SoLo, LineRef, SoLuong, DonGiaCoVAT, DoanhSoCoVAT, DonGiaChuaVAT, DoanhSoChuaVAT, NgayDatDon, NgayGiaoHang, MaNV, TenCVBH, TenQuanLyTT, TenQuanLyKhuVuc, TenQuanLyVung, MaNVGH, NguoiGiaohang, TrangThaiGiaoHang, DonViGiaoHang, TenNhaVanChuyen, KieuDonHang, phanloaispcl, nhomsp, khuvucviettat, chinhanh, newhco, inserted_at]\n",
       "Index: []\n",
       "\n",
       "[0 rows x 55 columns]"
      ]
     },
     "execution_count": 10,
     "metadata": {},
     "output_type": "execute_result"
    }
   ],
   "source": [
    "FINAL[checkdup(FINAL, 2, ['MaCongTyCN','SoDonDatHang','NgayChungTu','MaSanPham','SoLuong','SoLo','LineRef'])]"
   ]
  },
  {
   "cell_type": "code",
   "execution_count": 13,
   "metadata": {},
   "outputs": [
    {
     "ename": "AttributeError",
     "evalue": "Can only use .str accessor with string values!",
     "output_type": "error",
     "traceback": [
      "\u001b[1;31m---------------------------------------------------------------------------\u001b[0m",
      "\u001b[1;31mAttributeError\u001b[0m                            Traceback (most recent call last)",
      "\u001b[1;32m~\\AppData\\Local\\Temp/ipykernel_13836/3660262299.py\u001b[0m in \u001b[0;36m<module>\u001b[1;34m\u001b[0m\n\u001b[1;32m----> 1\u001b[1;33m \u001b[0mFINAL\u001b[0m\u001b[1;33m[\u001b[0m\u001b[1;34m'NgayChungTu'\u001b[0m\u001b[1;33m]\u001b[0m \u001b[1;33m=\u001b[0m \u001b[0mconvert_to_datetime\u001b[0m\u001b[1;33m(\u001b[0m\u001b[0mFINAL\u001b[0m\u001b[1;33m[\u001b[0m\u001b[1;34m'NgayChungTu'\u001b[0m\u001b[1;33m]\u001b[0m\u001b[1;33m)\u001b[0m\u001b[1;33m\u001b[0m\u001b[1;33m\u001b[0m\u001b[0m\n\u001b[0m\u001b[0;32m      2\u001b[0m \u001b[0mFINAL\u001b[0m\u001b[1;33m[\u001b[0m\u001b[1;34m'NgayTraHang'\u001b[0m\u001b[1;33m]\u001b[0m \u001b[1;33m=\u001b[0m \u001b[0mconvert_to_datetime\u001b[0m\u001b[1;33m(\u001b[0m\u001b[0mFINAL\u001b[0m\u001b[1;33m[\u001b[0m\u001b[1;34m'NgayTraHang'\u001b[0m\u001b[1;33m]\u001b[0m\u001b[1;33m)\u001b[0m\u001b[1;33m\u001b[0m\u001b[1;33m\u001b[0m\u001b[0m\n\u001b[0;32m      3\u001b[0m \u001b[0mFINAL\u001b[0m\u001b[1;33m[\u001b[0m\u001b[1;34m'NgayDatDon'\u001b[0m\u001b[1;33m]\u001b[0m \u001b[1;33m=\u001b[0m \u001b[0mconvert_to_datetime\u001b[0m\u001b[1;33m(\u001b[0m\u001b[0mFINAL\u001b[0m\u001b[1;33m[\u001b[0m\u001b[1;34m'NgayDatDon'\u001b[0m\u001b[1;33m]\u001b[0m\u001b[1;33m)\u001b[0m\u001b[1;33m\u001b[0m\u001b[1;33m\u001b[0m\u001b[0m\n\u001b[0;32m      4\u001b[0m \u001b[0mFINAL\u001b[0m\u001b[1;33m[\u001b[0m\u001b[1;34m'NgayGiaoHang'\u001b[0m\u001b[1;33m]\u001b[0m \u001b[1;33m=\u001b[0m \u001b[0mconvert_to_datetime\u001b[0m\u001b[1;33m(\u001b[0m\u001b[0mFINAL\u001b[0m\u001b[1;33m[\u001b[0m\u001b[1;34m'NgayGiaoHang'\u001b[0m\u001b[1;33m]\u001b[0m\u001b[1;33m)\u001b[0m\u001b[1;33m\u001b[0m\u001b[1;33m\u001b[0m\u001b[0m\n",
      "\u001b[1;32md:\\data_sale\\venv\\lib\\site-packages\\utils\\df_handle.py\u001b[0m in \u001b[0;36mconvert_to_datetime\u001b[1;34m(series)\u001b[0m\n\u001b[0;32m    378\u001b[0m     \u001b[0mseries\u001b[0m\u001b[1;33m=\u001b[0m\u001b[0mpd\u001b[0m\u001b[1;33m.\u001b[0m\u001b[0mto_datetime\u001b[0m\u001b[1;33m(\u001b[0m\u001b[0mseries\u001b[0m\u001b[1;33m.\u001b[0m\u001b[0mstr\u001b[0m\u001b[1;33m[\u001b[0m\u001b[1;33m:\u001b[0m\u001b[1;36m10\u001b[0m\u001b[1;33m]\u001b[0m\u001b[1;33m,\u001b[0m \u001b[0mdayfirst\u001b[0m\u001b[1;33m=\u001b[0m\u001b[1;32mTrue\u001b[0m\u001b[1;33m)\u001b[0m\u001b[1;33m\u001b[0m\u001b[1;33m\u001b[0m\u001b[0m\n\u001b[0;32m    379\u001b[0m     \"\"\"\n\u001b[1;32m--> 380\u001b[1;33m     \u001b[0mseries\u001b[0m\u001b[1;33m=\u001b[0m\u001b[0mpd\u001b[0m\u001b[1;33m.\u001b[0m\u001b[0mto_datetime\u001b[0m\u001b[1;33m(\u001b[0m\u001b[0mseries\u001b[0m\u001b[1;33m.\u001b[0m\u001b[0mstr\u001b[0m\u001b[1;33m[\u001b[0m\u001b[1;33m:\u001b[0m\u001b[1;36m10\u001b[0m\u001b[1;33m]\u001b[0m\u001b[1;33m,\u001b[0m \u001b[0mdayfirst\u001b[0m\u001b[1;33m=\u001b[0m\u001b[1;32mTrue\u001b[0m\u001b[1;33m)\u001b[0m\u001b[1;33m\u001b[0m\u001b[1;33m\u001b[0m\u001b[0m\n\u001b[0m\u001b[0;32m    381\u001b[0m     \u001b[1;32mreturn\u001b[0m \u001b[0mseries\u001b[0m\u001b[1;33m\u001b[0m\u001b[1;33m\u001b[0m\u001b[0m\n\u001b[0;32m    382\u001b[0m \u001b[1;33m\u001b[0m\u001b[0m\n",
      "\u001b[1;32md:\\data_sale\\venv\\lib\\site-packages\\pandas\\core\\generic.py\u001b[0m in \u001b[0;36m__getattr__\u001b[1;34m(self, name)\u001b[0m\n\u001b[0;32m   5485\u001b[0m         ):\n\u001b[0;32m   5486\u001b[0m             \u001b[1;32mreturn\u001b[0m \u001b[0mself\u001b[0m\u001b[1;33m[\u001b[0m\u001b[0mname\u001b[0m\u001b[1;33m]\u001b[0m\u001b[1;33m\u001b[0m\u001b[1;33m\u001b[0m\u001b[0m\n\u001b[1;32m-> 5487\u001b[1;33m         \u001b[1;32mreturn\u001b[0m \u001b[0mobject\u001b[0m\u001b[1;33m.\u001b[0m\u001b[0m__getattribute__\u001b[0m\u001b[1;33m(\u001b[0m\u001b[0mself\u001b[0m\u001b[1;33m,\u001b[0m \u001b[0mname\u001b[0m\u001b[1;33m)\u001b[0m\u001b[1;33m\u001b[0m\u001b[1;33m\u001b[0m\u001b[0m\n\u001b[0m\u001b[0;32m   5488\u001b[0m \u001b[1;33m\u001b[0m\u001b[0m\n\u001b[0;32m   5489\u001b[0m     \u001b[1;32mdef\u001b[0m \u001b[0m__setattr__\u001b[0m\u001b[1;33m(\u001b[0m\u001b[0mself\u001b[0m\u001b[1;33m,\u001b[0m \u001b[0mname\u001b[0m\u001b[1;33m:\u001b[0m \u001b[0mstr\u001b[0m\u001b[1;33m,\u001b[0m \u001b[0mvalue\u001b[0m\u001b[1;33m)\u001b[0m \u001b[1;33m->\u001b[0m \u001b[1;32mNone\u001b[0m\u001b[1;33m:\u001b[0m\u001b[1;33m\u001b[0m\u001b[1;33m\u001b[0m\u001b[0m\n",
      "\u001b[1;32md:\\data_sale\\venv\\lib\\site-packages\\pandas\\core\\accessor.py\u001b[0m in \u001b[0;36m__get__\u001b[1;34m(self, obj, cls)\u001b[0m\n\u001b[0;32m    179\u001b[0m             \u001b[1;31m# we're accessing the attribute of the class, i.e., Dataset.geo\u001b[0m\u001b[1;33m\u001b[0m\u001b[1;33m\u001b[0m\u001b[1;33m\u001b[0m\u001b[0m\n\u001b[0;32m    180\u001b[0m             \u001b[1;32mreturn\u001b[0m \u001b[0mself\u001b[0m\u001b[1;33m.\u001b[0m\u001b[0m_accessor\u001b[0m\u001b[1;33m\u001b[0m\u001b[1;33m\u001b[0m\u001b[0m\n\u001b[1;32m--> 181\u001b[1;33m         \u001b[0maccessor_obj\u001b[0m \u001b[1;33m=\u001b[0m \u001b[0mself\u001b[0m\u001b[1;33m.\u001b[0m\u001b[0m_accessor\u001b[0m\u001b[1;33m(\u001b[0m\u001b[0mobj\u001b[0m\u001b[1;33m)\u001b[0m\u001b[1;33m\u001b[0m\u001b[1;33m\u001b[0m\u001b[0m\n\u001b[0m\u001b[0;32m    182\u001b[0m         \u001b[1;31m# Replace the property with the accessor object. Inspired by:\u001b[0m\u001b[1;33m\u001b[0m\u001b[1;33m\u001b[0m\u001b[1;33m\u001b[0m\u001b[0m\n\u001b[0;32m    183\u001b[0m         \u001b[1;31m# https://www.pydanny.com/cached-property.html\u001b[0m\u001b[1;33m\u001b[0m\u001b[1;33m\u001b[0m\u001b[1;33m\u001b[0m\u001b[0m\n",
      "\u001b[1;32md:\\data_sale\\venv\\lib\\site-packages\\pandas\\core\\strings\\accessor.py\u001b[0m in \u001b[0;36m__init__\u001b[1;34m(self, data)\u001b[0m\n\u001b[0;32m    166\u001b[0m         \u001b[1;32mfrom\u001b[0m \u001b[0mpandas\u001b[0m\u001b[1;33m.\u001b[0m\u001b[0mcore\u001b[0m\u001b[1;33m.\u001b[0m\u001b[0marrays\u001b[0m\u001b[1;33m.\u001b[0m\u001b[0mstring_\u001b[0m \u001b[1;32mimport\u001b[0m \u001b[0mStringDtype\u001b[0m\u001b[1;33m\u001b[0m\u001b[1;33m\u001b[0m\u001b[0m\n\u001b[0;32m    167\u001b[0m \u001b[1;33m\u001b[0m\u001b[0m\n\u001b[1;32m--> 168\u001b[1;33m         \u001b[0mself\u001b[0m\u001b[1;33m.\u001b[0m\u001b[0m_inferred_dtype\u001b[0m \u001b[1;33m=\u001b[0m \u001b[0mself\u001b[0m\u001b[1;33m.\u001b[0m\u001b[0m_validate\u001b[0m\u001b[1;33m(\u001b[0m\u001b[0mdata\u001b[0m\u001b[1;33m)\u001b[0m\u001b[1;33m\u001b[0m\u001b[1;33m\u001b[0m\u001b[0m\n\u001b[0m\u001b[0;32m    169\u001b[0m         \u001b[0mself\u001b[0m\u001b[1;33m.\u001b[0m\u001b[0m_is_categorical\u001b[0m \u001b[1;33m=\u001b[0m \u001b[0mis_categorical_dtype\u001b[0m\u001b[1;33m(\u001b[0m\u001b[0mdata\u001b[0m\u001b[1;33m.\u001b[0m\u001b[0mdtype\u001b[0m\u001b[1;33m)\u001b[0m\u001b[1;33m\u001b[0m\u001b[1;33m\u001b[0m\u001b[0m\n\u001b[0;32m    170\u001b[0m         \u001b[0mself\u001b[0m\u001b[1;33m.\u001b[0m\u001b[0m_is_string\u001b[0m \u001b[1;33m=\u001b[0m \u001b[0misinstance\u001b[0m\u001b[1;33m(\u001b[0m\u001b[0mdata\u001b[0m\u001b[1;33m.\u001b[0m\u001b[0mdtype\u001b[0m\u001b[1;33m,\u001b[0m \u001b[0mStringDtype\u001b[0m\u001b[1;33m)\u001b[0m\u001b[1;33m\u001b[0m\u001b[1;33m\u001b[0m\u001b[0m\n",
      "\u001b[1;32md:\\data_sale\\venv\\lib\\site-packages\\pandas\\core\\strings\\accessor.py\u001b[0m in \u001b[0;36m_validate\u001b[1;34m(data)\u001b[0m\n\u001b[0;32m    223\u001b[0m \u001b[1;33m\u001b[0m\u001b[0m\n\u001b[0;32m    224\u001b[0m         \u001b[1;32mif\u001b[0m \u001b[0minferred_dtype\u001b[0m \u001b[1;32mnot\u001b[0m \u001b[1;32min\u001b[0m \u001b[0mallowed_types\u001b[0m\u001b[1;33m:\u001b[0m\u001b[1;33m\u001b[0m\u001b[1;33m\u001b[0m\u001b[0m\n\u001b[1;32m--> 225\u001b[1;33m             \u001b[1;32mraise\u001b[0m \u001b[0mAttributeError\u001b[0m\u001b[1;33m(\u001b[0m\u001b[1;34m\"Can only use .str accessor with string values!\"\u001b[0m\u001b[1;33m)\u001b[0m\u001b[1;33m\u001b[0m\u001b[1;33m\u001b[0m\u001b[0m\n\u001b[0m\u001b[0;32m    226\u001b[0m         \u001b[1;32mreturn\u001b[0m \u001b[0minferred_dtype\u001b[0m\u001b[1;33m\u001b[0m\u001b[1;33m\u001b[0m\u001b[0m\n\u001b[0;32m    227\u001b[0m \u001b[1;33m\u001b[0m\u001b[0m\n",
      "\u001b[1;31mAttributeError\u001b[0m: Can only use .str accessor with string values!"
     ]
    }
   ],
   "source": [
    "FINAL['NgayChungTu'] = convert_to_datetime(FINAL['NgayChungTu'])\n",
    "FINAL['NgayTraHang'] = convert_to_datetime(FINAL['NgayTraHang'])\n",
    "FINAL['NgayDatDon'] = convert_to_datetime(FINAL['NgayDatDon'])\n",
    "FINAL['NgayGiaoHang'] = convert_to_datetime(FINAL['NgayGiaoHang'])"
   ]
  },
  {
   "cell_type": "code",
   "execution_count": 20,
   "metadata": {},
   "outputs": [],
   "source": [
    "FINAL['NgayTraHang'] = FINAL['NgayTraHang'].fillna(datetime(1900,1,1))\n",
    "FINAL['NgayGiaoHang'] = FINAL['NgayGiaoHang'].fillna(datetime(1900,1,1))"
   ]
  },
  {
   "cell_type": "code",
   "execution_count": 14,
   "metadata": {},
   "outputs": [
    {
     "name": "stdout",
     "output_type": "stream",
     "text": [
      "MaCongTyCN VARCHAR(100) NULL,\n",
      "CongTyCN VARCHAR(100) NULL,\n",
      "NgayChungTu TIMESTAMP NULL,\n",
      "SoDonDatHang VARCHAR(100) NULL,\n",
      "SoDonTraHang VARCHAR(100) NULL,\n",
      "NgayTraHang TIMESTAMP NULL,\n",
      "HoaDon NUMERIC(24) NULL,\n",
      "TrangThai VARCHAR(100) NULL,\n",
      "MaKHThue VARCHAR(100) NULL,\n",
      "MaKHCu VARCHAR(100) NULL,\n",
      "MaVungBH VARCHAR(100) NULL,\n",
      "TenVungBH VARCHAR(100) NULL,\n",
      "MaKhuVuc BIGINT NULL,\n",
      "TenKhuVuc VARCHAR(100) NULL,\n",
      "MaTinhKH BIGINT NULL,\n",
      "TenTinhKH VARCHAR(100) NULL,\n",
      "MaKenhKH VARCHAR(100) NULL,\n",
      "TenKenhKH VARCHAR(100) NULL,\n",
      "MaKenhPhu VARCHAR(100) NULL,\n",
      "TenKenhPhu VARCHAR(100) NULL,\n",
      "MaHCO VARCHAR(100) NULL,\n",
      "TenHCO VARCHAR(100) NULL,\n",
      "MaPhanLoaiHCO VARCHAR(100) NULL,\n",
      "TenPhanLoaiHCO VARCHAR(100) NULL,\n",
      "MaPhanHangHCO VARCHAR(100) NULL,\n",
      "TenPhanHangHCO VARCHAR(100) NULL,\n",
      "MaSanPham VARCHAR(100) NULL,\n",
      "TenSanPhamNB VARCHAR(100) NULL,\n",
      "TenSanPhamVietTat VARCHAR(100) NULL,\n",
      "SoLo VARCHAR(100) NULL,\n",
      "LineRef BIGINT NULL,\n",
      "SoLuong NUMERIC(24) NULL,\n",
      "DonGiaCoVAT NUMERIC(24) NULL,\n",
      "DoanhSoCoVAT NUMERIC(24) NULL,\n",
      "DonGiaChuaVAT NUMERIC(24) NULL,\n",
      "DoanhSoChuaVAT NUMERIC(24) NULL,\n",
      "NgayDatDon TIMESTAMP NULL,\n",
      "NgayGiaoHang TIMESTAMP NULL,\n",
      "MaNV VARCHAR(100) NULL,\n",
      "TenCVBH VARCHAR(100) NULL,\n",
      "TenQuanLyTT VARCHAR(100) NULL,\n",
      "TenQuanLyKhuVuc VARCHAR(100) NULL,\n",
      "TenQuanLyVung VARCHAR(100) NULL,\n",
      "MaNVGH VARCHAR(100) NULL,\n",
      "NguoiGiaohang VARCHAR(100) NULL,\n",
      "TrangThaiGiaoHang VARCHAR(100) NULL,\n",
      "DonViGiaoHang VARCHAR(100) NULL,\n",
      "TenNhaVanChuyen VARCHAR(100) NULL,\n",
      "KieuDonHang VARCHAR(100) NULL,\n",
      "phanloaispcl VARCHAR(100) NULL,\n",
      "nhomsp VARCHAR(100) NULL,\n",
      "khuvucviettat VARCHAR(100) NULL,\n",
      "chinhanh VARCHAR(100) NULL,\n",
      "newhco VARCHAR(100) NULL,\n",
      "inserted_at TIMESTAMP NULL,\n"
     ]
    }
   ],
   "source": [
    "print_df_schema(FINAL)"
   ]
  },
  {
   "cell_type": "code",
   "execution_count": 15,
   "metadata": {},
   "outputs": [
    {
     "data": {
      "text/plain": [
       "['0', '1', '2', '3', '4', '5', '6']"
      ]
     },
     "execution_count": 15,
     "metadata": {},
     "output_type": "execute_result"
    }
   ],
   "source": [
    "lo(7)"
   ]
  },
  {
   "cell_type": "code",
   "execution_count": 16,
   "metadata": {},
   "outputs": [],
   "source": [
    "primary_keys = [\"macongtycn\", \"sodondathang\", \"ngaychungtu\", \"masanpham\",\"soluong\",\"solo\",\"lineref\"]"
   ]
  },
  {
   "cell_type": "code",
   "execution_count": 21,
   "metadata": {},
   "outputs": [
    {
     "name": "stdout",
     "output_type": "stream",
     "text": [
      "INSERT INTO f_sales(MaCongTyCN,CongTyCN,NgayChungTu,SoDonDatHang,SoDonTraHang,NgayTraHang,HoaDon,TrangThai,MaKHThue,MaKHCu,MaVungBH,TenVungBH,MaKhuVuc,TenKhuVuc,MaTinhKH,TenTinhKH,MaKenhKH,TenKenhKH,MaKenhPhu,TenKenhPhu,MaHCO,TenHCO,MaPhanLoaiHCO,TenPhanLoaiHCO,MaPhanHangHCO,TenPhanHangHCO,MaSanPham,TenSanPhamNB,TenSanPhamVietTat,SoLo,LineRef,SoLuong,DonGiaCoVAT,DoanhSoCoVAT,DonGiaChuaVAT,DoanhSoChuaVAT,NgayDatDon,NgayGiaoHang,MaNV,TenCVBH,TenQuanLyTT,TenQuanLyKhuVuc,TenQuanLyVung,MaNVGH,NguoiGiaohang,TrangThaiGiaoHang,DonViGiaoHang,TenNhaVanChuyen,KieuDonHang,phanloaispcl,nhomsp,khuvucviettat,chinhanh,newhco,inserted_at) VALUES %s ON CONFLICT (macongtycn, sodondathang, ngaychungtu, masanpham, soluong, solo, lineref) DO UPDATE SET MaCongTyCN = excluded.MaCongTyCN, CongTyCN = excluded.CongTyCN, NgayChungTu = excluded.NgayChungTu, SoDonDatHang = excluded.SoDonDatHang, SoDonTraHang = excluded.SoDonTraHang, NgayTraHang = excluded.NgayTraHang, HoaDon = excluded.HoaDon, TrangThai = excluded.TrangThai, MaKHThue = excluded.MaKHThue, MaKHCu = excluded.MaKHCu, MaVungBH = excluded.MaVungBH, TenVungBH = excluded.TenVungBH, MaKhuVuc = excluded.MaKhuVuc, TenKhuVuc = excluded.TenKhuVuc, MaTinhKH = excluded.MaTinhKH, TenTinhKH = excluded.TenTinhKH, MaKenhKH = excluded.MaKenhKH, TenKenhKH = excluded.TenKenhKH, MaKenhPhu = excluded.MaKenhPhu, TenKenhPhu = excluded.TenKenhPhu, MaHCO = excluded.MaHCO, TenHCO = excluded.TenHCO, MaPhanLoaiHCO = excluded.MaPhanLoaiHCO, TenPhanLoaiHCO = excluded.TenPhanLoaiHCO, MaPhanHangHCO = excluded.MaPhanHangHCO, TenPhanHangHCO = excluded.TenPhanHangHCO, MaSanPham = excluded.MaSanPham, TenSanPhamNB = excluded.TenSanPhamNB, TenSanPhamVietTat = excluded.TenSanPhamVietTat, SoLo = excluded.SoLo, LineRef = excluded.LineRef, SoLuong = excluded.SoLuong, DonGiaCoVAT = excluded.DonGiaCoVAT, DoanhSoCoVAT = excluded.DoanhSoCoVAT, DonGiaChuaVAT = excluded.DonGiaChuaVAT, DoanhSoChuaVAT = excluded.DoanhSoChuaVAT, NgayDatDon = excluded.NgayDatDon, NgayGiaoHang = excluded.NgayGiaoHang, MaNV = excluded.MaNV, TenCVBH = excluded.TenCVBH, TenQuanLyTT = excluded.TenQuanLyTT, TenQuanLyKhuVuc = excluded.TenQuanLyKhuVuc, TenQuanLyVung = excluded.TenQuanLyVung, MaNVGH = excluded.MaNVGH, NguoiGiaohang = excluded.NguoiGiaohang, TrangThaiGiaoHang = excluded.TrangThaiGiaoHang, DonViGiaoHang = excluded.DonViGiaoHang, TenNhaVanChuyen = excluded.TenNhaVanChuyen, KieuDonHang = excluded.KieuDonHang, phanloaispcl = excluded.phanloaispcl, nhomsp = excluded.nhomsp, khuvucviettat = excluded.khuvucviettat, chinhanh = excluded.chinhanh, newhco = excluded.newhco, inserted_at = excluded.inserted_at\n",
      "Data inserted using execute_values() successfully..\n"
     ]
    }
   ],
   "source": [
    "execute_values_upsert(FINAL, \"f_sales\", primary_keys)"
   ]
  },
  {
   "cell_type": "code",
   "execution_count": 17,
   "metadata": {},
   "outputs": [],
   "source": [
    "df1 = pd.read_csv('query.csv')"
   ]
  },
  {
   "cell_type": "code",
   "execution_count": 18,
   "metadata": {},
   "outputs": [
    {
     "data": {
      "text/plain": [
       "1973"
      ]
     },
     "execution_count": 18,
     "metadata": {},
     "output_type": "execute_result"
    }
   ],
   "source": [
    "df1.ExtRoute.sum()"
   ]
  },
  {
   "cell_type": "code",
   "execution_count": 19,
   "metadata": {},
   "outputs": [
    {
     "name": "stdout",
     "output_type": "stream",
     "text": [
      "312564\n",
      "1973\n",
      "15271\n"
     ]
    }
   ],
   "source": [
    "print(df1.InRoute.sum())\n",
    "print(df1.ExtRoute.sum())\n",
    "print(df1.Visited.sum())"
   ]
  },
  {
   "cell_type": "code",
   "execution_count": 8,
   "metadata": {},
   "outputs": [],
   "source": [
    "df1['VisitDate']=convert_to_datetime(df1['VisitDate'])"
   ]
  },
  {
   "cell_type": "code",
   "execution_count": 21,
   "metadata": {},
   "outputs": [
    {
     "data": {
      "text/plain": [
       "Index(['BranchID', 'CpnyName', 'SlsperID', 'SalesRouteID', 'SlsperName',\n",
       "       'Position', 'SupName', 'ASMName', 'RSMName', 'CustID', 'CustName',\n",
       "       'Channel', 'ShopType', 'HCOID', 'HCOTypeID', 'ClassId',\n",
       "       'TerritoryDescr', 'StateDescr', 'DistrictDescr', 'WardDescr',\n",
       "       'VisitDate', 'InRoute', 'ExtRoute', 'Visited', 'OrderFromPDA',\n",
       "       'OrdAmtFromPDA', 'OrderFromOther', 'OrdAmtFromOther'],\n",
       "      dtype='object')"
      ]
     },
     "execution_count": 21,
     "metadata": {},
     "output_type": "execute_result"
    }
   ],
   "source": [
    "df1.columns"
   ]
  },
  {
   "cell_type": "code",
   "execution_count": 11,
   "metadata": {},
   "outputs": [
    {
     "ename": "ValueError",
     "evalue": "Must specify a fill 'value' or 'method'.",
     "output_type": "error",
     "traceback": [
      "\u001b[1;31m---------------------------------------------------------------------------\u001b[0m",
      "\u001b[1;31mValueError\u001b[0m                                Traceback (most recent call last)",
      "\u001b[1;32m~\\AppData\\Local\\Temp/ipykernel_9808/2276740373.py\u001b[0m in \u001b[0;36m<module>\u001b[1;34m\u001b[0m\n\u001b[1;32m----> 1\u001b[1;33m \u001b[0mdf1\u001b[0m\u001b[1;33m[\u001b[0m\u001b[1;34m'SalesRouteID'\u001b[0m\u001b[1;33m]\u001b[0m \u001b[1;33m=\u001b[0m \u001b[0mdf1\u001b[0m\u001b[1;33m[\u001b[0m\u001b[1;34m'SalesRouteID'\u001b[0m\u001b[1;33m]\u001b[0m\u001b[1;33m.\u001b[0m\u001b[0mfillna\u001b[0m\u001b[1;33m(\u001b[0m\u001b[1;32mNone\u001b[0m\u001b[1;33m)\u001b[0m\u001b[1;33m\u001b[0m\u001b[1;33m\u001b[0m\u001b[0m\n\u001b[0m",
      "\u001b[1;32md:\\data_sale\\venv\\lib\\site-packages\\pandas\\util\\_decorators.py\u001b[0m in \u001b[0;36mwrapper\u001b[1;34m(*args, **kwargs)\u001b[0m\n\u001b[0;32m    309\u001b[0m                     \u001b[0mstacklevel\u001b[0m\u001b[1;33m=\u001b[0m\u001b[0mstacklevel\u001b[0m\u001b[1;33m,\u001b[0m\u001b[1;33m\u001b[0m\u001b[1;33m\u001b[0m\u001b[0m\n\u001b[0;32m    310\u001b[0m                 )\n\u001b[1;32m--> 311\u001b[1;33m             \u001b[1;32mreturn\u001b[0m \u001b[0mfunc\u001b[0m\u001b[1;33m(\u001b[0m\u001b[1;33m*\u001b[0m\u001b[0margs\u001b[0m\u001b[1;33m,\u001b[0m \u001b[1;33m**\u001b[0m\u001b[0mkwargs\u001b[0m\u001b[1;33m)\u001b[0m\u001b[1;33m\u001b[0m\u001b[1;33m\u001b[0m\u001b[0m\n\u001b[0m\u001b[0;32m    312\u001b[0m \u001b[1;33m\u001b[0m\u001b[0m\n\u001b[0;32m    313\u001b[0m         \u001b[1;32mreturn\u001b[0m \u001b[0mwrapper\u001b[0m\u001b[1;33m\u001b[0m\u001b[1;33m\u001b[0m\u001b[0m\n",
      "\u001b[1;32md:\\data_sale\\venv\\lib\\site-packages\\pandas\\core\\series.py\u001b[0m in \u001b[0;36mfillna\u001b[1;34m(self, value, method, axis, inplace, limit, downcast)\u001b[0m\n\u001b[0;32m   4814\u001b[0m         \u001b[0mdowncast\u001b[0m\u001b[1;33m=\u001b[0m\u001b[1;32mNone\u001b[0m\u001b[1;33m,\u001b[0m\u001b[1;33m\u001b[0m\u001b[1;33m\u001b[0m\u001b[0m\n\u001b[0;32m   4815\u001b[0m     ) -> Series | None:\n\u001b[1;32m-> 4816\u001b[1;33m         return super().fillna(\n\u001b[0m\u001b[0;32m   4817\u001b[0m             \u001b[0mvalue\u001b[0m\u001b[1;33m=\u001b[0m\u001b[0mvalue\u001b[0m\u001b[1;33m,\u001b[0m\u001b[1;33m\u001b[0m\u001b[1;33m\u001b[0m\u001b[0m\n\u001b[0;32m   4818\u001b[0m             \u001b[0mmethod\u001b[0m\u001b[1;33m=\u001b[0m\u001b[0mmethod\u001b[0m\u001b[1;33m,\u001b[0m\u001b[1;33m\u001b[0m\u001b[1;33m\u001b[0m\u001b[0m\n",
      "\u001b[1;32md:\\data_sale\\venv\\lib\\site-packages\\pandas\\core\\generic.py\u001b[0m in \u001b[0;36mfillna\u001b[1;34m(self, value, method, axis, inplace, limit, downcast)\u001b[0m\n\u001b[0;32m   6311\u001b[0m         \"\"\"\n\u001b[0;32m   6312\u001b[0m         \u001b[0minplace\u001b[0m \u001b[1;33m=\u001b[0m \u001b[0mvalidate_bool_kwarg\u001b[0m\u001b[1;33m(\u001b[0m\u001b[0minplace\u001b[0m\u001b[1;33m,\u001b[0m \u001b[1;34m\"inplace\"\u001b[0m\u001b[1;33m)\u001b[0m\u001b[1;33m\u001b[0m\u001b[1;33m\u001b[0m\u001b[0m\n\u001b[1;32m-> 6313\u001b[1;33m         \u001b[0mvalue\u001b[0m\u001b[1;33m,\u001b[0m \u001b[0mmethod\u001b[0m \u001b[1;33m=\u001b[0m \u001b[0mvalidate_fillna_kwargs\u001b[0m\u001b[1;33m(\u001b[0m\u001b[0mvalue\u001b[0m\u001b[1;33m,\u001b[0m \u001b[0mmethod\u001b[0m\u001b[1;33m)\u001b[0m\u001b[1;33m\u001b[0m\u001b[1;33m\u001b[0m\u001b[0m\n\u001b[0m\u001b[0;32m   6314\u001b[0m \u001b[1;33m\u001b[0m\u001b[0m\n\u001b[0;32m   6315\u001b[0m         \u001b[0mself\u001b[0m\u001b[1;33m.\u001b[0m\u001b[0m_consolidate_inplace\u001b[0m\u001b[1;33m(\u001b[0m\u001b[1;33m)\u001b[0m\u001b[1;33m\u001b[0m\u001b[1;33m\u001b[0m\u001b[0m\n",
      "\u001b[1;32md:\\data_sale\\venv\\lib\\site-packages\\pandas\\util\\_validators.py\u001b[0m in \u001b[0;36mvalidate_fillna_kwargs\u001b[1;34m(value, method, validate_scalar_dict_value)\u001b[0m\n\u001b[0;32m    368\u001b[0m \u001b[1;33m\u001b[0m\u001b[0m\n\u001b[0;32m    369\u001b[0m     \u001b[1;32mif\u001b[0m \u001b[0mvalue\u001b[0m \u001b[1;32mis\u001b[0m \u001b[1;32mNone\u001b[0m \u001b[1;32mand\u001b[0m \u001b[0mmethod\u001b[0m \u001b[1;32mis\u001b[0m \u001b[1;32mNone\u001b[0m\u001b[1;33m:\u001b[0m\u001b[1;33m\u001b[0m\u001b[1;33m\u001b[0m\u001b[0m\n\u001b[1;32m--> 370\u001b[1;33m         \u001b[1;32mraise\u001b[0m \u001b[0mValueError\u001b[0m\u001b[1;33m(\u001b[0m\u001b[1;34m\"Must specify a fill 'value' or 'method'.\"\u001b[0m\u001b[1;33m)\u001b[0m\u001b[1;33m\u001b[0m\u001b[1;33m\u001b[0m\u001b[0m\n\u001b[0m\u001b[0;32m    371\u001b[0m     \u001b[1;32melif\u001b[0m \u001b[0mvalue\u001b[0m \u001b[1;32mis\u001b[0m \u001b[1;32mNone\u001b[0m \u001b[1;32mand\u001b[0m \u001b[0mmethod\u001b[0m \u001b[1;32mis\u001b[0m \u001b[1;32mnot\u001b[0m \u001b[1;32mNone\u001b[0m\u001b[1;33m:\u001b[0m\u001b[1;33m\u001b[0m\u001b[1;33m\u001b[0m\u001b[0m\n\u001b[0;32m    372\u001b[0m         \u001b[0mmethod\u001b[0m \u001b[1;33m=\u001b[0m \u001b[0mclean_fill_method\u001b[0m\u001b[1;33m(\u001b[0m\u001b[0mmethod\u001b[0m\u001b[1;33m)\u001b[0m\u001b[1;33m\u001b[0m\u001b[1;33m\u001b[0m\u001b[0m\n",
      "\u001b[1;31mValueError\u001b[0m: Must specify a fill 'value' or 'method'."
     ]
    }
   ],
   "source": [
    "df1['SalesRouteID'] = df1['SalesRouteID'].fillna(None)"
   ]
  },
  {
   "cell_type": "code",
   "execution_count": 15,
   "metadata": {},
   "outputs": [
    {
     "data": {
      "text/plain": [
       "31"
      ]
     },
     "execution_count": 15,
     "metadata": {},
     "output_type": "execute_result"
    }
   ],
   "source": [
    "checkdup(df1, 1, subset=['BranchID', 'SlsperID', 'CustID', 'VisitDate']).sum()"
   ]
  },
  {
   "cell_type": "code",
   "execution_count": 13,
   "metadata": {},
   "outputs": [],
   "source": [
    "# print_df_schema(df1)"
   ]
  },
  {
   "cell_type": "code",
   "execution_count": 21,
   "metadata": {},
   "outputs": [
    {
     "data": {
      "text/plain": [
       "['0', '1', '2', '3', '4']"
      ]
     },
     "execution_count": 21,
     "metadata": {},
     "output_type": "execute_result"
    }
   ],
   "source": [
    "lo(5)"
   ]
  },
  {
   "cell_type": "code",
   "execution_count": 16,
   "metadata": {},
   "outputs": [],
   "source": [
    "primary_keys = ['BranchID', 'SlsperID', 'SalesRouteID', 'CustID', 'VisitDate']"
   ]
  },
  {
   "cell_type": "code",
   "execution_count": 17,
   "metadata": {},
   "outputs": [
    {
     "data": {
      "text/plain": [
       "(251709, 28)"
      ]
     },
     "execution_count": 17,
     "metadata": {},
     "output_type": "execute_result"
    }
   ],
   "source": [
    "df1.shape"
   ]
  },
  {
   "cell_type": "code",
   "execution_count": 22,
   "metadata": {},
   "outputs": [
    {
     "data": {
      "text/plain": [
       "251709"
      ]
     },
     "execution_count": 22,
     "metadata": {},
     "output_type": "execute_result"
    }
   ],
   "source": [
    "237457+14252"
   ]
  },
  {
   "cell_type": "code",
   "execution_count": 24,
   "metadata": {},
   "outputs": [
    {
     "data": {
      "text/plain": [
       "BranchID             0\n",
       "CpnyName             0\n",
       "SlsperID             0\n",
       "SalesRouteID       132\n",
       "SlsperName           0\n",
       "Position            16\n",
       "SupName             16\n",
       "ASMName             16\n",
       "RSMName             16\n",
       "CustID               0\n",
       "CustName             0\n",
       "Channel              0\n",
       "ShopType             0\n",
       "HCOID               60\n",
       "HCOTypeID           60\n",
       "ClassId            175\n",
       "TerritoryDescr       0\n",
       "StateDescr           0\n",
       "DistrictDescr        0\n",
       "WardDescr            3\n",
       "VisitDate            0\n",
       "InRoute              0\n",
       "ExtRoute             0\n",
       "Visited              0\n",
       "OrderFromPDA         0\n",
       "OrdAmtFromPDA        0\n",
       "OrderFromOther       0\n",
       "OrdAmtFromOther      0\n",
       "dtype: int64"
      ]
     },
     "execution_count": 24,
     "metadata": {},
     "output_type": "execute_result"
    }
   ],
   "source": [
    "checkna(df1)"
   ]
  },
  {
   "cell_type": "code",
   "execution_count": 25,
   "metadata": {},
   "outputs": [
    {
     "data": {
      "text/html": [
       "<div>\n",
       "<style scoped>\n",
       "    .dataframe tbody tr th:only-of-type {\n",
       "        vertical-align: middle;\n",
       "    }\n",
       "\n",
       "    .dataframe tbody tr th {\n",
       "        vertical-align: top;\n",
       "    }\n",
       "\n",
       "    .dataframe thead th {\n",
       "        text-align: right;\n",
       "    }\n",
       "</style>\n",
       "<table border=\"1\" class=\"dataframe\">\n",
       "  <thead>\n",
       "    <tr style=\"text-align: right;\">\n",
       "      <th></th>\n",
       "      <th>Position</th>\n",
       "      <th>counts</th>\n",
       "    </tr>\n",
       "  </thead>\n",
       "  <tbody>\n",
       "    <tr>\n",
       "      <th>0</th>\n",
       "      <td>MDS</td>\n",
       "      <td>227302</td>\n",
       "    </tr>\n",
       "    <tr>\n",
       "      <th>1</th>\n",
       "      <td>P.BH</td>\n",
       "      <td>24391</td>\n",
       "    </tr>\n",
       "    <tr>\n",
       "      <th>2</th>\n",
       "      <td>NaN</td>\n",
       "      <td>16</td>\n",
       "    </tr>\n",
       "  </tbody>\n",
       "</table>\n",
       "</div>"
      ],
      "text/plain": [
       "  Position  counts\n",
       "0      MDS  227302\n",
       "1     P.BH   24391\n",
       "2      NaN      16"
      ]
     },
     "execution_count": 25,
     "metadata": {},
     "output_type": "execute_result"
    }
   ],
   "source": [
    "vc(df1, 'Position')"
   ]
  },
  {
   "cell_type": "code",
   "execution_count": 23,
   "metadata": {},
   "outputs": [
    {
     "name": "stdout",
     "output_type": "stream",
     "text": [
      "INSERT INTO f_call_performance(BranchID,CpnyName,SlsperID,SalesRouteID,SlsperName,Position,SupName,ASMName,RSMName,CustID,CustName,Channel,ShopType,HCOID,HCOTypeID,ClassId,TerritoryDescr,StateDescr,DistrictDescr,WardDescr,VisitDate,InRoute,ExtRoute,Visited,OrderFromPDA,OrdAmtFromPDA,OrderFromOther,OrdAmtFromOther) VALUES %s ON CONFLICT (BranchID, SlsperID, SalesRouteID, CustID, VisitDate) DO UPDATE SET CpnyName = excluded.CpnyName, SlsperName = excluded.SlsperName, Position = excluded.Position, SupName = excluded.SupName, ASMName = excluded.ASMName, RSMName = excluded.RSMName, CustName = excluded.CustName, Channel = excluded.Channel, ShopType = excluded.ShopType, HCOID = excluded.HCOID, HCOTypeID = excluded.HCOTypeID, ClassId = excluded.ClassId, TerritoryDescr = excluded.TerritoryDescr, StateDescr = excluded.StateDescr, DistrictDescr = excluded.DistrictDescr, WardDescr = excluded.WardDescr, InRoute = excluded.InRoute, ExtRoute = excluded.ExtRoute, Visited = excluded.Visited, OrderFromPDA = excluded.OrderFromPDA, OrdAmtFromPDA = excluded.OrdAmtFromPDA, OrderFromOther = excluded.OrderFromOther, OrdAmtFromOther = excluded.OrdAmtFromOther\n",
      "Data inserted using execute_values() successfully..\n"
     ]
    }
   ],
   "source": [
    "execute_values_upsert(df1, \"f_call_performance\", pk=primary_keys)"
   ]
  },
  {
   "cell_type": "code",
   "execution_count": 14,
   "metadata": {},
   "outputs": [],
   "source": [
    "# df_filter(df1, Position='P.BH').head(1000).to_clipboard()"
   ]
  },
  {
   "cell_type": "code",
   "execution_count": 9,
   "metadata": {},
   "outputs": [],
   "source": [
    "# df1.head(1000).to_clipboard()"
   ]
  },
  {
   "cell_type": "code",
   "execution_count": 12,
   "metadata": {},
   "outputs": [],
   "source": [
    "# vc(df1, 'Position').to_clipboard()"
   ]
  },
  {
   "cell_type": "code",
   "execution_count": null,
   "metadata": {},
   "outputs": [],
   "source": []
  }
 ],
 "metadata": {
  "interpreter": {
   "hash": "f94d6dad5013d632e8b52fc362848c71d5234e1d7ba23afa22c3a2e55512dabd"
  },
  "kernelspec": {
   "display_name": "Python 3.9.6 64-bit ('venv': venv)",
   "name": "python3"
  },
  "language_info": {
   "codemirror_mode": {
    "name": "ipython",
    "version": 3
   },
   "file_extension": ".py",
   "mimetype": "text/x-python",
   "name": "python",
   "nbconvert_exporter": "python",
   "pygments_lexer": "ipython3",
   "version": "3.9.6"
  },
  "orig_nbformat": 4
 },
 "nbformat": 4,
 "nbformat_minor": 2
}
