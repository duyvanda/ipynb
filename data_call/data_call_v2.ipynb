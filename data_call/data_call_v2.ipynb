{
 "cells": [
  {
   "cell_type": "code",
   "execution_count": 54,
   "metadata": {},
   "outputs": [],
   "source": [
    "from utils.df_handle import *"
   ]
  },
  {
   "cell_type": "code",
   "execution_count": 55,
   "metadata": {},
   "outputs": [],
   "source": [
    "# Get dataframe\n",
    "SRM = pd.read_csv('SRM.csv', dayfirst=True, parse_dates=['FromDate', 'ToDate'])\n",
    "\n",
    "SLR = pd.read_csv('SLR.csv', dayfirst=True, parse_dates=['StartDate', 'EndDate'])\n",
    "\n",
    "RD = pd.read_csv('T_RouteDet.csv')\n",
    "RD.VisitDate = convert_to_datetime(RD.VisitDate)\n",
    "\n",
    "STL = pd.read_csv('STL.csv')\n",
    "STL['UpdateTime']=convert_to_datetime(STL['UpdateTime'])\n",
    "\n",
    "PSO = pd.read_csv('PSO.csv')\n",
    "PSO.Crtd_DateTime = convert_to_datetime(PSO.Crtd_DateTime)\n",
    "\n",
    "WCC = pd.read_csv('WithOutNumberCICO.csv')\n",
    "\n",
    "TS = pd.read_csv('TSlsperID.csv')\n",
    "\n",
    "U = pd.read_csv('Users.csv')\n",
    "\n",
    "COM = pd.read_csv('COM.csv')\n",
    "\n",
    "CU = pd.read_csv('CU.csv')"
   ]
  },
  {
   "cell_type": "code",
   "execution_count": 56,
   "metadata": {},
   "outputs": [
    {
     "name": "stdout",
     "output_type": "stream",
     "text": [
      "(6269, 5)\n"
     ]
    }
   ],
   "source": [
    "# Get ET\n",
    "SRM['SalesRouteID'] = SRM['SalesRouteID'].str.upper()\n",
    "SLR['SalesRouteID'] = SLR['SalesRouteID'].str.upper()\n",
    "RD['SalesRouteID'] = RD['SalesRouteID'].str.upper()\n",
    "\n",
    "T_ExtRoute = RD.merge(SRM.add_prefix('SRM_'), how='inner', left_on=['SalesRouteID'], right_on='SRM_SalesRouteID')\n",
    "T_ExtRoute = df_filter(T_ExtRoute, DayofWeek='Sun')\n",
    "T_ExtRoute=T_ExtRoute[\\\n",
    "    (T_ExtRoute['VisitDate'] >= T_ExtRoute['SRM_FromDate']) & \\\n",
    "    (T_ExtRoute['VisitDate'] <= T_ExtRoute['SRM_ToDate'])]\n",
    "\n",
    "T_ExtRoute = T_ExtRoute.merge(SLR.add_prefix('SLR_'), how='inner', left_on=['SalesRouteID', 'CustID'], right_on=['SLR_SalesRouteID', 'SLR_CustID'])\n",
    "T_ExtRoute=T_ExtRoute[\\\n",
    "    (T_ExtRoute['VisitDate'] >= T_ExtRoute['SLR_StartDate']) & \\\n",
    "    (T_ExtRoute['VisitDate'] <= T_ExtRoute['SLR_EndDate'])]\n",
    "\n",
    "T_ExtRoute = dropdup(T_ExtRoute, 1, ['SRM_BranchID', 'CustID', 'SRM_SlsperID', 'SlsFreq', 'SLR_StartDate', 'SLR_EndDate'])\n",
    "T_ExtRoute = T_ExtRoute[['SRM_BranchID','CustID','SRM_SlsperID','SLR_StartDate','SLR_EndDate']]\n",
    "T_ExtRoute.columns = ['BranchID', 'CustID', 'SlsperID', 'StartDate','EndDate']\n",
    "print(T_ExtRoute.shape)"
   ]
  },
  {
   "cell_type": "code",
   "execution_count": 57,
   "metadata": {},
   "outputs": [],
   "source": [
    "RD.drop('SlsFreq', axis=1, inplace=True)"
   ]
  },
  {
   "cell_type": "markdown",
   "metadata": {},
   "source": [
    "<!-- srm.BranchID,\n",
    "rd.CustID,\n",
    "srm.SlsperID,\n",
    "StartDate = slr.StartDate,\n",
    "EndDate = slr.EndDate -->"
   ]
  },
  {
   "cell_type": "code",
   "execution_count": 58,
   "metadata": {},
   "outputs": [],
   "source": [
    "# RD.columns"
   ]
  },
  {
   "cell_type": "code",
   "execution_count": 59,
   "metadata": {},
   "outputs": [],
   "source": [
    "# T_ExtRoute.shape\n",
    "# df_filter(T_ExtRoute, SalesRouteID='TDN1_1', DayofWeek='Sun')\n",
    "# df_filter(T_ExtRoute, SalesRouteID='TDN1_1').to_clipboard()\n",
    "# vc(T_ExtRoute, 'SalesRouteID').to_clipboard()\n",
    "# T_ExtRoute.shape\n",
    "# T_ExtRoute.shape\n",
    "# df_SRM.shape\n",
    "# vc(df_T_RouteDet,'DayofWeek')\n",
    "# vc(df_SRM, 'FromDate')"
   ]
  },
  {
   "cell_type": "code",
   "execution_count": 60,
   "metadata": {},
   "outputs": [],
   "source": [
    "# RD.dtypes"
   ]
  },
  {
   "cell_type": "code",
   "execution_count": 61,
   "metadata": {},
   "outputs": [],
   "source": [
    "# RD.VisitDate = convert_to_datetime(RD.VisitDate)"
   ]
  },
  {
   "cell_type": "code",
   "execution_count": 62,
   "metadata": {},
   "outputs": [],
   "source": [
    "TResult_1 = RD.merge(SRM.add_prefix('SRM_'), how='inner', left_on=['SalesRouteID'], right_on='SRM_SalesRouteID')\n",
    "TResult_1=TResult_1[\\\n",
    "    (TResult_1['DayofWeek'] !='Sun') & \\\n",
    "    (TResult_1['VisitDate'] >= TResult_1['SRM_FromDate']) & \\\n",
    "    (TResult_1['VisitDate'] <= TResult_1['SRM_ToDate'])]\n",
    "lo(6)\n",
    "TResult_1=TResult_1[['SRM_BranchID', 'SRM_SlsperID', 'SalesRouteID', 'CustID', 'VisitDate']]\n",
    "TResult_1['InRoute']=1\n",
    "TResult_1['ExtRoute']=0\n",
    "TResult_1['Visited']=0\n",
    "TResult_1['OrderFromPDA']=0\n",
    "TResult_1['OrdAmtFromPDA']=0\n",
    "TResult_1['OrderFromOther']=0\n",
    "TResult_1['OrdAmtFromOther']=0\n",
    "TResult_1.columns = ['BranchID', 'SlsperID', 'SalesRouteID', 'CustID',\n",
    "       'VisitDate', 'InRoute', 'ExtRoute', 'Visited', 'OrderFromPDA',\n",
    "       'OrdAmtFromPDA', 'OrderFromOther', 'OrdAmtFromOther']"
   ]
  },
  {
   "cell_type": "code",
   "execution_count": 63,
   "metadata": {},
   "outputs": [
    {
     "name": "stdout",
     "output_type": "stream",
     "text": [
      "row errors = 678\n",
      "row errors keep = 82\n",
      "\n"
     ]
    }
   ],
   "source": [
    "# Faster performance 2.4s\n",
    "df1 = STL.merge(WCC.add_prefix('WCC_'), how='left', left_on=['BranchID', 'NumberCICO'], right_on=['WCC_BranchID','WCC_NumberCICO'])\n",
    "df2 = df1.merge(SRM.add_prefix('SRM_'), how='inner', left_on=['BranchID','SlsperID'], right_on=['SRM_BranchID','SRM_SlsperID'])\n",
    "df3=df2[\\\n",
    "    (df2['UpdateTime'] >= df2['SRM_FromDate']) & \\\n",
    "    (df2['UpdateTime'] <= df2['SRM_ToDate'])].copy()\n",
    "\n",
    "\n",
    "ET = T_ExtRoute\n",
    "df4 = df3.merge(ET.add_prefix('ET_'), how='left', left_on=['BranchID', 'CustID', 'SlsperID'], right_on=['ET_BranchID', 'ET_CustID', 'ET_SlsperID'])\n",
    "ctr1 = df4['UpdateTime'] < df4.ET_StartDate\n",
    "ctr2 = df4['UpdateTime'] > df4.ET_EndDate\n",
    "list_check = df3.columns.tolist()\n",
    "df4 = date_between_handler(df4, ctr1, ctr2,'ET_SlsperID', list_check).copy()\n",
    "\n",
    "\n",
    "# print(df5.shape)\n",
    "TResult_2=df_na(df4, 'WCC_NumberCICO').copy()\n",
    "# TResult_2.shape\n",
    "# TResult_2.columns\n",
    "TResult_2['InRoute']=0\n",
    "TResult_2['ExtRoute']=np.where(TResult_2.ET_SlsperID.notna(), 1,0)\n",
    "TResult_2['Visited']=1\n",
    "TResult_2['OrderFromPDA']=0\n",
    "TResult_2['OrdAmtFromPDA']=0\n",
    "TResult_2['OrderFromOther']=0\n",
    "TResult_2['OrdAmtFromOther']=0\n",
    "TResult_2=TResult_2[['BranchID', 'SlsperID', 'SRM_SalesRouteID', 'CustID', 'UpdateTime', 'InRoute', 'ExtRoute', 'Visited', 'OrderFromPDA', 'OrdAmtFromPDA', 'OrderFromOther', 'OrdAmtFromOther']].copy()\n",
    "TResult_2 = TResult_2.drop_duplicates()\n",
    "TResult_2.columns=TResult_1.columns"
   ]
  },
  {
   "cell_type": "code",
   "execution_count": 64,
   "metadata": {},
   "outputs": [],
   "source": [
    "# TResult_2.shape\n",
    "# list = PSO.columns.tolist()\n",
    "# PSO.columns"
   ]
  },
  {
   "cell_type": "code",
   "execution_count": 65,
   "metadata": {},
   "outputs": [],
   "source": [
    "# ET = T_ExtRoute\n",
    "# # df1 = PSO.merge(ET.add_prefix('ET_'), how='left', left_on=['BranchID', 'CustID', 'SlsPerID'], right_on=['ET_BranchID', 'ET_CustID', 'ET_SlsperID'])\n",
    "# df1 = PSO.merge(SLR.add_prefix('SLR_'), how='inner', left_on=['CustID'], right_on=['SLR_CustID'])\n",
    "# ctr1=df1.Crtd_DateTime >= df1['SLR_StartDate']\n",
    "# ctr2=df1.Crtd_DateTime <= df1['SLR_EndDate']\n",
    "# df2=df1[ctr1 & ctr2].copy()\n",
    "\n",
    "# df3 = df2.merge(ET.add_prefix('ET_'), how='left', left_on=['BranchID', 'CustID', 'SlsPerID'], right_on=['ET_BranchID', 'ET_CustID', 'ET_SlsperID'])\n",
    "# ctr1 = df3['Crtd_DateTime'] < df3.ET_StartDate\n",
    "# ctr2 = df3['Crtd_DateTime'] > df3.ET_EndDate\n",
    "# series = df3['ET_BranchID']\n",
    "# list_check = df2.columns.tolist()\n",
    "# df3 = date_between_handler(df3, ctr1, ctr2, series, list_check)\n",
    "\n",
    "# df2 = df1.merge(SLR.add_prefix('SLR_'), how='inner', left_on=['CustID'], right_on=['SLR_CustID'])\n"
   ]
  },
  {
   "cell_type": "code",
   "execution_count": 66,
   "metadata": {},
   "outputs": [
    {
     "name": "stdout",
     "output_type": "stream",
     "text": [
      "row errors = 108\n",
      "row errors keep = 99\n",
      "\n"
     ]
    }
   ],
   "source": [
    "# df3.columns\n",
    "ET = T_ExtRoute\n",
    "# df1 = PSO.merge(ET.add_prefix('ET_'), how='left', left_on=['BranchID', 'CustID', 'SlsPerID'], right_on=['ET_BranchID', 'ET_CustID', 'ET_SlsperID'])\n",
    "df1 = PSO.merge(SLR.add_prefix('SLR_'), how='inner', left_on=['CustID'], right_on=['SLR_CustID'])\n",
    "ctr1=df1.Crtd_DateTime >= df1['SLR_StartDate']\n",
    "ctr2=df1.Crtd_DateTime <= df1['SLR_EndDate']\n",
    "df2=df1[ctr1 & ctr2].copy()\n",
    "\n",
    "df3 = df2.merge(ET.add_prefix('ET_'), how='left', left_on=['BranchID', 'CustID', 'SlsPerID'], right_on=['ET_BranchID', 'ET_CustID', 'ET_SlsperID'])\n",
    "ctr1 = df3['Crtd_DateTime'] < df3.ET_StartDate\n",
    "ctr2 = df3['Crtd_DateTime'] > df3.ET_EndDate\n",
    "list_check = df2.columns.tolist()\n",
    "df3 = date_between_handler(df3, ctr1, ctr2, 'ET_BranchID', list_check)\n",
    "# df3.shape\n",
    "# df3.columns\n",
    "df3['InRoute']=0\n",
    "df3['ExtRoute']=np.where(df3.ET_BranchID.notna(), 1,0)\n",
    "df3['Visited']=0\n",
    "df3['OrderFromPDA']=np.where(df3['InsertFrom']=='S', 1, 0)\n",
    "df3['OrdAmtFromPDA']=np.where(df3['InsertFrom']=='S', df3.LineAmt, 0)\n",
    "df3['OrderFromOther']=np.where(df3['InsertFrom']!='S', 1, 0)\n",
    "df3['OrdAmtFromOther']=np.where(df3['InsertFrom']!='S', df3.LineAmt, 0)\n",
    "# lo(9)\n",
    "grouplist = ['BranchID', 'SlsPerID', 'SalesRouteID', 'CustID', 'Crtd_DateTime', 'ExtRoute', 'OrderFromPDA', 'OrderFromOther', 'InRoute', 'Visited']\n",
    "agg_dict = {'OrdAmtFromPDA':np.sum, 'OrdAmtFromOther':np.sum}\n",
    "TResult_3 = pivot(df3, grouplist, agg_dict)\n",
    "TResult_3 = TResult_3[['BranchID', 'SlsPerID', 'SalesRouteID', 'CustID', 'Crtd_DateTime', 'InRoute', 'ExtRoute', 'Visited', 'OrderFromPDA', 'OrdAmtFromPDA', 'OrderFromOther', 'OrdAmtFromOther']]\n",
    "TResult_3.columns = TResult_1.columns"
   ]
  },
  {
   "cell_type": "code",
   "execution_count": 67,
   "metadata": {},
   "outputs": [
    {
     "data": {
      "text/plain": [
       "(8496, 12)"
      ]
     },
     "execution_count": 67,
     "metadata": {},
     "output_type": "execute_result"
    }
   ],
   "source": [
    "# TResult_3.shape"
   ]
  },
  {
   "cell_type": "code",
   "execution_count": 68,
   "metadata": {},
   "outputs": [
    {
     "data": {
      "text/plain": [
       "1086"
      ]
     },
     "execution_count": 68,
     "metadata": {},
     "output_type": "execute_result"
    }
   ],
   "source": [
    "# TResult_3.ExtRoute.sum()"
   ]
  },
  {
   "cell_type": "code",
   "execution_count": 69,
   "metadata": {},
   "outputs": [],
   "source": [
    "TResult_4 = union_all([TResult_1, TResult_2])\n",
    "TResult_4 = union_all([TResult_4, TResult_3])"
   ]
  },
  {
   "cell_type": "code",
   "execution_count": 70,
   "metadata": {},
   "outputs": [],
   "source": [
    "# TResult_4.dtypes"
   ]
  },
  {
   "cell_type": "code",
   "execution_count": 71,
   "metadata": {},
   "outputs": [],
   "source": [
    "# df_filter(TResult_4, BranchID='MR0001', SlsperID='MR0499', SalesRouteID='THCM_12', CustID='M0101108', ='A').to_clipboard()"
   ]
  },
  {
   "cell_type": "code",
   "execution_count": 72,
   "metadata": {},
   "outputs": [],
   "source": [
    "grouplist = ['BranchID', 'SlsperID', 'SalesRouteID', 'CustID', 'VisitDate']\n",
    "agg_dict = {'InRoute':np.max, 'ExtRoute':np.max, 'Visited':np.max, 'OrderFromPDA':np.max, 'OrdAmtFromPDA':np.max, 'OrderFromOther':np.max, 'OrdAmtFromOther':np.max}\n",
    "TResult = pivot(TResult_4, grouplist, agg_dict)"
   ]
  },
  {
   "cell_type": "code",
   "execution_count": 73,
   "metadata": {},
   "outputs": [],
   "source": [
    "df1 = TResult.merge(U.add_prefix('u_'), how='inner', left_on=['SlsperID'], right_on=['u_UserName'])\n",
    "df2 = df1.merge(TS, how='left', on=['BranchID' , 'SlsperID'])\n",
    "df3 = df2.merge(U.add_prefix('sup_'), how='left', left_on='SupID', right_on='sup_UserName')\n",
    "df4 = df3.merge(U.add_prefix('asm_'), how='left', left_on='ASM', right_on='asm_UserName')\n",
    "df5 = df4.merge(U.add_prefix('rsm_'), how='left', left_on='RSMID', right_on='rsm_UserName')\n",
    "df6 = df5.merge(COM.add_prefix('com_'), how='inner', left_on='BranchID', right_on='com_CpnyID')\n",
    "df7 = df6.merge(CU.add_prefix('cu_'), how='inner', left_on='CustID', right_on='cu_CustId')\n",
    "df7['ExtRoute'] = np.where(df7.InRoute==1, 0, df7['ExtRoute'])\n",
    "df7['u_Position'] = \\\n",
    "    np.where(df7['u_Position'].isin(['S', 'SS', 'AM', 'RM']), \"PBH\", \\\n",
    "    np.where(df7['u_Position'].isin(['D', 'SD', 'AD', 'RD']), \"MDS\", \"CS\"))"
   ]
  },
  {
   "cell_type": "code",
   "execution_count": 74,
   "metadata": {},
   "outputs": [],
   "source": [
    "# for l in df7.columns:\n",
    "#     print(l)"
   ]
  },
  {
   "cell_type": "code",
   "execution_count": null,
   "metadata": {},
   "outputs": [],
   "source": []
  },
  {
   "cell_type": "code",
   "execution_count": 75,
   "metadata": {},
   "outputs": [],
   "source": [
    "# print(TResult_1.ExtRoute.sum())\n",
    "# print(TResult_2.ExtRoute.sum())\n",
    "# print(TResult_3.ExtRoute.sum())"
   ]
  },
  {
   "cell_type": "code",
   "execution_count": 76,
   "metadata": {},
   "outputs": [],
   "source": [
    "# print(df7.InRoute.sum())\n",
    "# print(df7.ExtRoute.sum())\n",
    "# print(df7.Visited.sum())"
   ]
  },
  {
   "cell_type": "code",
   "execution_count": 77,
   "metadata": {},
   "outputs": [],
   "source": [
    "# df_na(df7, 'SalesRouteID')"
   ]
  },
  {
   "cell_type": "code",
   "execution_count": 78,
   "metadata": {},
   "outputs": [],
   "source": [
    "cols_list = \\\n",
    "['BranchID',\n",
    "'com_CpnyName',\n",
    "'SlsperID',\n",
    "'SalesRouteID',\n",
    "'u_FirstName',\n",
    "'u_Position',\n",
    "'sup_FirstName',\n",
    "'asm_FirstName',\n",
    "'rsm_FirstName',\n",
    "'CustID',\n",
    "'cu_CustName',\n",
    "'cu_Channel',\n",
    "'cu_ShopType',\n",
    "'cu_HCOID',\n",
    "'cu_HCOTypeID',\n",
    "'cu_ClassId',\n",
    "'cu_TerritoryDescr',\n",
    "'cu_StateDescr',\n",
    "'cu_DistrictDescr',\n",
    "'cu_WardDescr',\n",
    "'VisitDate',\n",
    "'InRoute',\n",
    "'ExtRoute',\n",
    "'Visited',\n",
    "'OrderFromPDA',\n",
    "'OrdAmtFromPDA',\n",
    "'OrderFromOther',\n",
    "'OrdAmtFromOther'\n",
    "]"
   ]
  },
  {
   "cell_type": "code",
   "execution_count": 84,
   "metadata": {},
   "outputs": [],
   "source": [
    "final = df7[cols_list].copy()"
   ]
  },
  {
   "cell_type": "code",
   "execution_count": 85,
   "metadata": {},
   "outputs": [],
   "source": [
    "final.columns = ['BranchID', 'CpnyName', 'SlsperID', 'SalesRouteID', 'SlsperName',\n",
    "       'Position', 'SupName', 'ASMName', 'RSMName', 'CustID', 'CustName',\n",
    "       'Channel', 'ShopType', 'HCOID', 'HCOTypeID', 'ClassId',\n",
    "       'TerritoryDescr', 'StateDescr', 'DistrictDescr', 'WardDescr',\n",
    "       'VisitDate', 'InRoute', 'ExtRoute', 'Visited', 'OrderFromPDA',\n",
    "       'OrdAmtFromPDA', 'OrderFromOther', 'OrdAmtFromOther']"
   ]
  },
  {
   "cell_type": "code",
   "execution_count": 86,
   "metadata": {},
   "outputs": [],
   "source": [
    "primary_keys = ['BranchID', 'SlsperID', 'SalesRouteID', 'CustID', 'VisitDate']"
   ]
  },
  {
   "cell_type": "code",
   "execution_count": 87,
   "metadata": {},
   "outputs": [],
   "source": [
    "final['inserted_at'] = datetime.now()"
   ]
  },
  {
   "cell_type": "code",
   "execution_count": 88,
   "metadata": {},
   "outputs": [
    {
     "ename": "OperationalError",
     "evalue": "FATAL:  no pg_hba.conf entry for host \"125.235.238.229\", user \"biteam\", database \"biteam\", SSL on\nFATAL:  no pg_hba.conf entry for host \"125.235.238.229\", user \"biteam\", database \"biteam\", SSL off\n",
     "output_type": "error",
     "traceback": [
      "\u001b[1;31m---------------------------------------------------------------------------\u001b[0m",
      "\u001b[1;31mOperationalError\u001b[0m                          Traceback (most recent call last)",
      "\u001b[1;32m~\\AppData\\Local\\Temp/ipykernel_9424/431706971.py\u001b[0m in \u001b[0;36m<module>\u001b[1;34m\u001b[0m\n\u001b[1;32m----> 1\u001b[1;33m \u001b[0mexecute_values_upsert\u001b[0m\u001b[1;33m(\u001b[0m\u001b[0mdf1\u001b[0m\u001b[1;33m,\u001b[0m \u001b[1;34m\"f_call_performance\"\u001b[0m\u001b[1;33m,\u001b[0m \u001b[0mpk\u001b[0m\u001b[1;33m=\u001b[0m\u001b[0mprimary_keys\u001b[0m\u001b[1;33m)\u001b[0m\u001b[1;33m\u001b[0m\u001b[1;33m\u001b[0m\u001b[0m\n\u001b[0m",
      "\u001b[1;32md:\\data_sale\\venv\\lib\\site-packages\\utils\\df_handle.py\u001b[0m in \u001b[0;36mexecute_values_upsert\u001b[1;34m(datafrm, table, pk)\u001b[0m\n\u001b[0;32m    331\u001b[0m \u001b[1;32mdef\u001b[0m \u001b[0mexecute_values_upsert\u001b[0m\u001b[1;33m(\u001b[0m\u001b[0mdatafrm\u001b[0m\u001b[1;33m,\u001b[0m \u001b[0mtable\u001b[0m\u001b[1;33m,\u001b[0m \u001b[0mpk\u001b[0m\u001b[1;33m)\u001b[0m\u001b[1;33m:\u001b[0m\u001b[1;33m\u001b[0m\u001b[1;33m\u001b[0m\u001b[0m\n\u001b[0;32m    332\u001b[0m     \u001b[1;31m# Creating a list of tupples from the dataframe values\u001b[0m\u001b[1;33m\u001b[0m\u001b[1;33m\u001b[0m\u001b[1;33m\u001b[0m\u001b[0m\n\u001b[1;32m--> 333\u001b[1;33m     \u001b[0mconn\u001b[0m \u001b[1;33m=\u001b[0m \u001b[0mget_pg2_conn\u001b[0m\u001b[1;33m(\u001b[0m\u001b[1;33m)\u001b[0m\u001b[1;33m\u001b[0m\u001b[1;33m\u001b[0m\u001b[0m\n\u001b[0m\u001b[0;32m    334\u001b[0m     \u001b[0mtpls\u001b[0m \u001b[1;33m=\u001b[0m \u001b[1;33m[\u001b[0m\u001b[0mtuple\u001b[0m\u001b[1;33m(\u001b[0m\u001b[0mx\u001b[0m\u001b[1;33m)\u001b[0m \u001b[1;32mfor\u001b[0m \u001b[0mx\u001b[0m \u001b[1;32min\u001b[0m \u001b[0mdatafrm\u001b[0m\u001b[1;33m.\u001b[0m\u001b[0mto_numpy\u001b[0m\u001b[1;33m(\u001b[0m\u001b[1;33m)\u001b[0m\u001b[1;33m]\u001b[0m\u001b[1;33m\u001b[0m\u001b[1;33m\u001b[0m\u001b[0m\n\u001b[0;32m    335\u001b[0m     \u001b[1;31m# dataframe columns with Comma-separated\u001b[0m\u001b[1;33m\u001b[0m\u001b[1;33m\u001b[0m\u001b[1;33m\u001b[0m\u001b[0m\n",
      "\u001b[1;32md:\\data_sale\\venv\\lib\\site-packages\\utils\\df_handle.py\u001b[0m in \u001b[0;36mget_pg2_conn\u001b[1;34m()\u001b[0m\n\u001b[0;32m    114\u001b[0m \u001b[1;33m\u001b[0m\u001b[0m\n\u001b[0;32m    115\u001b[0m \u001b[1;32mdef\u001b[0m \u001b[0mget_pg2_conn\u001b[0m\u001b[1;33m(\u001b[0m\u001b[1;33m)\u001b[0m\u001b[1;33m:\u001b[0m\u001b[1;33m\u001b[0m\u001b[1;33m\u001b[0m\u001b[0m\n\u001b[1;32m--> 116\u001b[1;33m     \u001b[1;32mreturn\u001b[0m \u001b[0mpsycopg2\u001b[0m\u001b[1;33m.\u001b[0m\u001b[0mconnect\u001b[0m\u001b[1;33m(\u001b[0m\u001b[1;33m**\u001b[0m\u001b[0mpostgres_conf\u001b[0m\u001b[1;33m)\u001b[0m\u001b[1;33m\u001b[0m\u001b[1;33m\u001b[0m\u001b[0m\n\u001b[0m\u001b[0;32m    117\u001b[0m \u001b[1;33m\u001b[0m\u001b[0m\n\u001b[0;32m    118\u001b[0m \u001b[1;32mdef\u001b[0m \u001b[0minsert_df_to_postgres\u001b[0m\u001b[1;33m(\u001b[0m\u001b[0mtbl_name\u001b[0m\u001b[1;33m,\u001b[0m \u001b[0mdf\u001b[0m\u001b[1;33m,\u001b[0m \u001b[0mprimary_keys\u001b[0m\u001b[1;33m:\u001b[0m \u001b[0mlist\u001b[0m\u001b[1;33m,\u001b[0m \u001b[0mschema\u001b[0m\u001b[1;33m=\u001b[0m\u001b[1;34m\"biteam\"\u001b[0m\u001b[1;33m)\u001b[0m\u001b[1;33m:\u001b[0m\u001b[1;33m\u001b[0m\u001b[1;33m\u001b[0m\u001b[0m\n",
      "\u001b[1;32md:\\data_sale\\venv\\lib\\site-packages\\psycopg2\\__init__.py\u001b[0m in \u001b[0;36mconnect\u001b[1;34m(dsn, connection_factory, cursor_factory, **kwargs)\u001b[0m\n\u001b[0;32m    120\u001b[0m \u001b[1;33m\u001b[0m\u001b[0m\n\u001b[0;32m    121\u001b[0m     \u001b[0mdsn\u001b[0m \u001b[1;33m=\u001b[0m \u001b[0m_ext\u001b[0m\u001b[1;33m.\u001b[0m\u001b[0mmake_dsn\u001b[0m\u001b[1;33m(\u001b[0m\u001b[0mdsn\u001b[0m\u001b[1;33m,\u001b[0m \u001b[1;33m**\u001b[0m\u001b[0mkwargs\u001b[0m\u001b[1;33m)\u001b[0m\u001b[1;33m\u001b[0m\u001b[1;33m\u001b[0m\u001b[0m\n\u001b[1;32m--> 122\u001b[1;33m     \u001b[0mconn\u001b[0m \u001b[1;33m=\u001b[0m \u001b[0m_connect\u001b[0m\u001b[1;33m(\u001b[0m\u001b[0mdsn\u001b[0m\u001b[1;33m,\u001b[0m \u001b[0mconnection_factory\u001b[0m\u001b[1;33m=\u001b[0m\u001b[0mconnection_factory\u001b[0m\u001b[1;33m,\u001b[0m \u001b[1;33m**\u001b[0m\u001b[0mkwasync\u001b[0m\u001b[1;33m)\u001b[0m\u001b[1;33m\u001b[0m\u001b[1;33m\u001b[0m\u001b[0m\n\u001b[0m\u001b[0;32m    123\u001b[0m     \u001b[1;32mif\u001b[0m \u001b[0mcursor_factory\u001b[0m \u001b[1;32mis\u001b[0m \u001b[1;32mnot\u001b[0m \u001b[1;32mNone\u001b[0m\u001b[1;33m:\u001b[0m\u001b[1;33m\u001b[0m\u001b[1;33m\u001b[0m\u001b[0m\n\u001b[0;32m    124\u001b[0m         \u001b[0mconn\u001b[0m\u001b[1;33m.\u001b[0m\u001b[0mcursor_factory\u001b[0m \u001b[1;33m=\u001b[0m \u001b[0mcursor_factory\u001b[0m\u001b[1;33m\u001b[0m\u001b[1;33m\u001b[0m\u001b[0m\n",
      "\u001b[1;31mOperationalError\u001b[0m: FATAL:  no pg_hba.conf entry for host \"125.235.238.229\", user \"biteam\", database \"biteam\", SSL on\nFATAL:  no pg_hba.conf entry for host \"125.235.238.229\", user \"biteam\", database \"biteam\", SSL off\n"
     ]
    }
   ],
   "source": [
    "execute_values_upsert(df1, \"f_call_performance\", pk=primary_keys)"
   ]
  },
  {
   "cell_type": "code",
   "execution_count": null,
   "metadata": {},
   "outputs": [],
   "source": []
  }
 ],
 "metadata": {
  "interpreter": {
   "hash": "f94d6dad5013d632e8b52fc362848c71d5234e1d7ba23afa22c3a2e55512dabd"
  },
  "kernelspec": {
   "display_name": "Python 3.9.6 64-bit ('venv': venv)",
   "name": "python3"
  },
  "language_info": {
   "codemirror_mode": {
    "name": "ipython",
    "version": 3
   },
   "file_extension": ".py",
   "mimetype": "text/x-python",
   "name": "python",
   "nbconvert_exporter": "python",
   "pygments_lexer": "ipython3",
   "version": "3.9.6"
  },
  "orig_nbformat": 4
 },
 "nbformat": 4,
 "nbformat_minor": 2
}
