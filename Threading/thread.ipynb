{
 "cells": [
  {
   "cell_type": "code",
   "execution_count": 5,
   "source": [
    "import pandas as pd"
   ],
   "outputs": [],
   "metadata": {}
  },
  {
   "cell_type": "code",
   "execution_count": 30,
   "source": [
    "files = ['Rawdata1.csv', 'Rawdata2.csv', 'Rawdata3.csv']\r\n",
    "\r\n",
    "def csv_reader(filename):\r\n",
    "    df = pd.read_csv(filename)\r\n",
    "    return df\r\n",
    "\r\n",
    "result = pd.DataFrame(columns=['A','B','C'])\r\n",
    "\r\n",
    "for file in files:\r\n",
    "    result = result.append(csv_reader(file))"
   ],
   "outputs": [],
   "metadata": {}
  },
  {
   "cell_type": "code",
   "execution_count": 31,
   "source": [
    "result.shape"
   ],
   "outputs": [
    {
     "output_type": "execute_result",
     "data": {
      "text/plain": [
       "(511971, 3)"
      ]
     },
     "metadata": {},
     "execution_count": 31
    }
   ],
   "metadata": {}
  },
  {
   "cell_type": "code",
   "execution_count": 22,
   "source": [
    "df2 = pd.DataFrame(columns=['A','B','C'])"
   ],
   "outputs": [],
   "metadata": {}
  },
  {
   "cell_type": "code",
   "execution_count": 23,
   "source": [
    "df = csv_reader('Rawdata1.csv')"
   ],
   "outputs": [],
   "metadata": {}
  },
  {
   "cell_type": "code",
   "execution_count": 14,
   "source": [
    "df.columns"
   ],
   "outputs": [
    {
     "output_type": "execute_result",
     "data": {
      "text/plain": [
       "Index(['A', 'B', 'C'], dtype='object')"
      ]
     },
     "metadata": {},
     "execution_count": 14
    }
   ],
   "metadata": {}
  },
  {
   "cell_type": "code",
   "execution_count": 15,
   "source": [
    "df2.columns"
   ],
   "outputs": [
    {
     "output_type": "execute_result",
     "data": {
      "text/plain": [
       "Index(['A', 'B', 'C'], dtype='object')"
      ]
     },
     "metadata": {},
     "execution_count": 15
    }
   ],
   "metadata": {}
  },
  {
   "cell_type": "code",
   "execution_count": 26,
   "source": [
    "df_list = [df, df2]"
   ],
   "outputs": [],
   "metadata": {}
  },
  {
   "cell_type": "code",
   "execution_count": 27,
   "source": [
    "pd.concat(df_list,ignore_index=True)"
   ],
   "outputs": [
    {
     "output_type": "execute_result",
     "data": {
      "text/html": [
       "<div>\n",
       "<style scoped>\n",
       "    .dataframe tbody tr th:only-of-type {\n",
       "        vertical-align: middle;\n",
       "    }\n",
       "\n",
       "    .dataframe tbody tr th {\n",
       "        vertical-align: top;\n",
       "    }\n",
       "\n",
       "    .dataframe thead th {\n",
       "        text-align: right;\n",
       "    }\n",
       "</style>\n",
       "<table border=\"1\" class=\"dataframe\">\n",
       "  <thead>\n",
       "    <tr style=\"text-align: right;\">\n",
       "      <th></th>\n",
       "      <th>A</th>\n",
       "      <th>B</th>\n",
       "      <th>C</th>\n",
       "    </tr>\n",
       "  </thead>\n",
       "  <tbody>\n",
       "    <tr>\n",
       "      <th>0</th>\n",
       "      <td>04/05/2021</td>\n",
       "      <td>DH052021-00141</td>\n",
       "      <td>04/05/2021</td>\n",
       "    </tr>\n",
       "    <tr>\n",
       "      <th>1</th>\n",
       "      <td>04/05/2021</td>\n",
       "      <td>DH052021-00146</td>\n",
       "      <td>04/05/2021</td>\n",
       "    </tr>\n",
       "    <tr>\n",
       "      <th>2</th>\n",
       "      <td>04/05/2021</td>\n",
       "      <td>DH052021-00146</td>\n",
       "      <td>04/05/2021</td>\n",
       "    </tr>\n",
       "    <tr>\n",
       "      <th>3</th>\n",
       "      <td>04/05/2021</td>\n",
       "      <td>DH052021-00081</td>\n",
       "      <td>04/05/2021</td>\n",
       "    </tr>\n",
       "    <tr>\n",
       "      <th>4</th>\n",
       "      <td>04/05/2021</td>\n",
       "      <td>DH052021-00081</td>\n",
       "      <td>04/05/2021</td>\n",
       "    </tr>\n",
       "    <tr>\n",
       "      <th>...</th>\n",
       "      <td>...</td>\n",
       "      <td>...</td>\n",
       "      <td>...</td>\n",
       "    </tr>\n",
       "    <tr>\n",
       "      <th>170652</th>\n",
       "      <td>12/08/2021</td>\n",
       "      <td>DH082021-01010</td>\n",
       "      <td>12/08/2021</td>\n",
       "    </tr>\n",
       "    <tr>\n",
       "      <th>170653</th>\n",
       "      <td>12/08/2021</td>\n",
       "      <td>DH082021-01010</td>\n",
       "      <td>12/08/2021</td>\n",
       "    </tr>\n",
       "    <tr>\n",
       "      <th>170654</th>\n",
       "      <td>12/08/2021</td>\n",
       "      <td>DH082021-01010</td>\n",
       "      <td>12/08/2021</td>\n",
       "    </tr>\n",
       "    <tr>\n",
       "      <th>170655</th>\n",
       "      <td>12/08/2021</td>\n",
       "      <td>DH082021-01010</td>\n",
       "      <td>12/08/2021</td>\n",
       "    </tr>\n",
       "    <tr>\n",
       "      <th>170656</th>\n",
       "      <td>12/08/2021</td>\n",
       "      <td>DH082021-01010</td>\n",
       "      <td>12/08/2021</td>\n",
       "    </tr>\n",
       "  </tbody>\n",
       "</table>\n",
       "<p>170657 rows × 3 columns</p>\n",
       "</div>"
      ],
      "text/plain": [
       "                 A               B           C\n",
       "0       04/05/2021  DH052021-00141  04/05/2021\n",
       "1       04/05/2021  DH052021-00146  04/05/2021\n",
       "2       04/05/2021  DH052021-00146  04/05/2021\n",
       "3       04/05/2021  DH052021-00081  04/05/2021\n",
       "4       04/05/2021  DH052021-00081  04/05/2021\n",
       "...            ...             ...         ...\n",
       "170652  12/08/2021  DH082021-01010  12/08/2021\n",
       "170653  12/08/2021  DH082021-01010  12/08/2021\n",
       "170654  12/08/2021  DH082021-01010  12/08/2021\n",
       "170655  12/08/2021  DH082021-01010  12/08/2021\n",
       "170656  12/08/2021  DH082021-01010  12/08/2021\n",
       "\n",
       "[170657 rows x 3 columns]"
      ]
     },
     "metadata": {},
     "execution_count": 27
    }
   ],
   "metadata": {}
  },
  {
   "cell_type": "code",
   "execution_count": 21,
   "source": [
    "df2.shape"
   ],
   "outputs": [
    {
     "output_type": "execute_result",
     "data": {
      "text/plain": [
       "(0, 3)"
      ]
     },
     "metadata": {},
     "execution_count": 21
    }
   ],
   "metadata": {}
  },
  {
   "cell_type": "code",
   "execution_count": null,
   "source": [],
   "outputs": [],
   "metadata": {}
  }
 ],
 "metadata": {
  "orig_nbformat": 4,
  "language_info": {
   "name": "python",
   "version": "3.9.6",
   "mimetype": "text/x-python",
   "codemirror_mode": {
    "name": "ipython",
    "version": 3
   },
   "pygments_lexer": "ipython3",
   "nbconvert_exporter": "python",
   "file_extension": ".py"
  },
  "kernelspec": {
   "name": "python3",
   "display_name": "Python 3.9.6 64-bit ('venv': venv)"
  },
  "interpreter": {
   "hash": "f94d6dad5013d632e8b52fc362848c71d5234e1d7ba23afa22c3a2e55512dabd"
  }
 },
 "nbformat": 4,
 "nbformat_minor": 2
}