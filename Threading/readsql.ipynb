{
 "cells": [
  {
   "cell_type": "code",
   "execution_count": 51,
   "source": [
    "import sys\r\n",
    "import os\r\n",
    "from datetime import datetime\r\n",
    "from google.oauth2 import service_account\r\n",
    "from googleapiclient import discovery\r\n",
    "from googleapiclient.http import MediaFileUpload\r\n",
    "from datetime import datetime\r\n",
    "import pandas as pd\r\n",
    "import numpy as np\r\n",
    "import time\r\n",
    "import pyodbc\r\n",
    "print(os.path.dirname(sys.executable))\r\n",
    "server = '115.165.164.234'\r\n",
    "driver = 'SQL Server'\r\n",
    "db1 = 'PhaNam_eSales_PRO'\r\n",
    "tcon = 'no'\r\n",
    "uname = 'duyvq'\r\n",
    "pword = '123VanQuangDuy'\r\n",
    "cnxn = pyodbc.connect(driver='{ODBC Driver 17 for SQL Server}', \r\n",
    "                      host=server, database=db1, trusted_connection=tcon,\r\n",
    "                      user=uname, password=pword)\r\n",
    "query = \"SELECT * from OM_PDASalesOrd\"\r\n",
    "gens = pd.read_sql(query, cnxn)"
   ],
   "outputs": [
    {
     "output_type": "stream",
     "name": "stdout",
     "text": [
      "d:\\data_sale\\venv\\Scripts\n"
     ]
    }
   ],
   "metadata": {}
  },
  {
   "cell_type": "code",
   "execution_count": 54,
   "source": [
    "import time\r\n",
    "import pyodbc\r\n",
    "import pandas as pd\r\n",
    "import concurrent.futures\r\n",
    "\r\n",
    "from pandas.io.parsers import read_csv\r\n",
    "\r\n",
    "t1 = time.perf_counter()\r\n",
    "\r\n",
    "def to_df(df):\r\n",
    "    # df.to_csv(f'note{index}.csv')\r\n",
    "    return df\r\n",
    "\r\n",
    "server = '115.165.164.234'\r\n",
    "driver = 'SQL Server'\r\n",
    "db1 = 'PhaNam_eSales_PRO'\r\n",
    "tcon = 'no'\r\n",
    "uname = 'duyvq'\r\n",
    "pword = '123VanQuangDuy'\r\n",
    "cnxn = pyodbc.connect(driver='{ODBC Driver 17 for SQL Server}', \r\n",
    "                      host=server, database=db1, trusted_connection=tcon,\r\n",
    "                      user=uname, password=pword)\r\n",
    "\r\n",
    "query = \"SELECT * from OM_PDASalesOrd\"\r\n",
    "gens = pd.read_sql(query, cnxn, chunksize=10000)\r\n",
    "\r\n",
    "df = pd.DataFrame()\r\n",
    "\r\n",
    "with concurrent.futures.ThreadPoolExecutor() as executor:\r\n",
    "    results = executor.map(to_df, gens)\r\n",
    "for result in results:\r\n",
    "    df = df.append(result)\r\n",
    "    print(df.shape)\r\n",
    "\r\n",
    "t2 = time.perf_counter()\r\n",
    "print(f'Finished in {t2-t1} seconds')\r\n",
    "cnxn.close"
   ],
   "outputs": [
    {
     "output_type": "stream",
     "name": "stdout",
     "text": [
      "(10000, 135)\n",
      "(20000, 135)\n",
      "(30000, 135)\n",
      "(40000, 135)\n",
      "(50000, 135)\n",
      "(60000, 135)\n",
      "(70000, 135)\n",
      "(80000, 135)\n",
      "(90000, 135)\n",
      "(96776, 135)\n",
      "Finished in 10.544836000000032 seconds\n"
     ]
    },
    {
     "output_type": "execute_result",
     "data": {
      "text/plain": [
       "<function Connection.close>"
      ]
     },
     "metadata": {},
     "execution_count": 54
    }
   ],
   "metadata": {}
  },
  {
   "cell_type": "code",
   "execution_count": null,
   "source": [],
   "outputs": [],
   "metadata": {}
  }
 ],
 "metadata": {
  "orig_nbformat": 4,
  "language_info": {
   "name": "python",
   "version": "3.9.6",
   "mimetype": "text/x-python",
   "codemirror_mode": {
    "name": "ipython",
    "version": 3
   },
   "pygments_lexer": "ipython3",
   "nbconvert_exporter": "python",
   "file_extension": ".py"
  },
  "kernelspec": {
   "name": "python3",
   "display_name": "Python 3.9.6 64-bit ('venv': venv)"
  },
  "interpreter": {
   "hash": "f94d6dad5013d632e8b52fc362848c71d5234e1d7ba23afa22c3a2e55512dabd"
  }
 },
 "nbformat": 4,
 "nbformat_minor": 2
}