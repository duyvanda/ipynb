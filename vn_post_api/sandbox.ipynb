{
 "cells": [
  {
   "cell_type": "code",
   "execution_count": 1,
   "metadata": {},
   "outputs": [
    {
     "name": "stdout",
     "output_type": "stream",
     "text": [
      "Default bq project:  spatial-vision-343005.biteam\n"
     ]
    }
   ],
   "source": [
    "from utils.df_handle import *\n",
    "from requests.structures import CaseInsensitiveDict\n",
    "import requests\n",
    "import json"
   ]
  },
  {
   "cell_type": "code",
   "execution_count": 3,
   "metadata": {},
   "outputs": [],
   "source": [
    "url = \"https://donhang-uat.vnpost.vn/api/api/MobileAuthentication/GetAccessToken\""
   ]
  },
  {
   "cell_type": "code",
   "execution_count": 5,
   "metadata": {},
   "outputs": [],
   "source": [
    "headers = CaseInsensitiveDict()"
   ]
  },
  {
   "cell_type": "code",
   "execution_count": 6,
   "metadata": {},
   "outputs": [],
   "source": [
    "headers['Content-Type'] = 'application/json'"
   ]
  },
  {
   "cell_type": "code",
   "execution_count": 20,
   "metadata": {},
   "outputs": [],
   "source": [
    "headers['h-token'] = \"eyJhbGciOiJSUzI1NiIsInR5cCI6IkpXVCJ9.eyJTb0RpZW5UaG9haSI6IjA5NDMyMTEyMzQiLCJFbWFpbCI6IiIsIk1hQ1JNIjpudWxsLCJFeHBpcmVkVGltZSI6NjQxMTU0OTM4MDEyNTguMjU4LCJSb2xlcyI6Wzk5OSwxMSwxM10sIk5ndW9pRHVuZ0lkIjoiOGFkNWNmZGItZTFkYy00ZWYyLTgyMmUtYzA0NWI3OTkzNGM4IiwiTWFUaW5oVGhhbmgiOiI3MCIsIlRlbk5ndW9pRHVuZyI6IsSQ4buRaSB0w6FjIGNodW5nIiwiTmdheVRhb1Rva2VuIjoiXC9EYXRlKDE2NjQ1MTE4MDEyNTgpXC8iLCJUaW1lTGFzdFJlYWRDb21tZW50IjpudWxsLCJNYUJ1dUN1YyI6bnVsbCwiTWFUaW5oVGhhbmhRdWFuTHkiOm51bGwsIkNSTV9FbXBsb3llZUlkIjpudWxsLCJOZ2F5VGFvVG9rZW5UaW1lU3RhbXAiOjE2NjQ1MTE4MDEyNTgsIklzTG9naW5XaXRoQXBwbGUiOmZhbHNlLCJFbWFpbEFwcGxlIjpudWxsfQ.kV4LBv8-VLWetkDW9TIJRq8P9dhCBlwyCxyh9Z6T3BKMOhywaDC8sWZJ9Y8lsN6PT9viKbFqi7IXPMe5Upmma8xohXu6bZdO0i1AmgdYuRyEsVyyldc3QYBvJj3AapHJ1sqkA7qRGtLmE37SE6JMfgNk54Wa7bCaCObND0TOM8E\""
   ]
  },
  {
   "cell_type": "code",
   "execution_count": 9,
   "metadata": {},
   "outputs": [],
   "source": [
    "data = {\"TenDangNhap\": \"0943211234\", \"MatKhau\": \"0943211234\"}"
   ]
  },
  {
   "cell_type": "code",
   "execution_count": 7,
   "metadata": {},
   "outputs": [],
   "source": [
    "import json"
   ]
  },
  {
   "cell_type": "code",
   "execution_count": 10,
   "metadata": {},
   "outputs": [],
   "source": [
    "json.dumps(data)"
   ]
  },
  {
   "cell_type": "code",
   "execution_count": 11,
   "metadata": {},
   "outputs": [
    {
     "data": {
      "text/plain": [
       "'{\"TenDangNhap\": \"0943211234\", \"MatKhau\": \"0943211234\"}'"
      ]
     },
     "execution_count": 11,
     "metadata": {},
     "output_type": "execute_result"
    }
   ],
   "source": [
    "# data_json"
   ]
  },
  {
   "cell_type": "code",
   "execution_count": 14,
   "metadata": {},
   "outputs": [],
   "source": [
    "res = requests.post(url=url, headers=headers, data=json.dumps(data))\n",
    "res.json()"
   ]
  },
  {
   "cell_type": "code",
   "execution_count": 18,
   "metadata": {},
   "outputs": [],
   "source": [
    "data = \\\n",
    "{\n",
    "\"SenderTel\": \"sample string 1\",\n",
    "\"SenderFullname\": \"sample string 2\",\n",
    "\"SenderAddress\": \"sample string 3\",\n",
    "\"SenderWardId\": \"75470\",\n",
    "\"SenderDistrictId\": \"7540\",\n",
    "\"SenderProvinceId\": \"70\",\n",
    "\"ReceiverTel\": \"sample string 7\",\n",
    "\"ReceiverFullname\": \"sample string 8\",\n",
    "\"ReceiverAddress\": \"sample string 9\",\n",
    "\"ReceiverWardId\": \"75460\",\n",
    "\"ReceiverDistrictId\": \"7540\",\n",
    "\"ReceiverProvinceId\": \"70\",\n",
    "\"ReceiverAddressType\": 1,\n",
    "\"ServiceName\": \"EMS\",\n",
    "\"OrderCode\": \"TESTORDER01234\",\n",
    "\"PackageContent\": \"sample string 15\",\n",
    "\"WeightEvaluation\": 16.1,\n",
    "\"WidthEvaluation\": 1.1,\n",
    "\"LengthEvaluation\": 1.1,\n",
    "\"HeightEvaluation\": 1.1,\n",
    "\"IsPackageViewable\": True,\n",
    "\"CustomerNote\": \"sample string 18\",\n",
    "\"PickupType\": 1,\n",
    "\"CodAmountEvaluation\": 1.0,\n",
    "\"IsReceiverPayFreight\": True,\n",
    "\"OrderAmountEvaluation\": 1.0,\n",
    "\"UseBaoPhat\": True,\n",
    "\"UseHoaDon\": True,\n",
    "\"CustomerCode\": \"0843211234C333345\",\n",
    "\"PickupPoscode\": \"0\"\n",
    "}"
   ]
  },
  {
   "cell_type": "code",
   "execution_count": 23,
   "metadata": {},
   "outputs": [],
   "source": [
    "url_createorder = \"https://donhang-uat.vnpost.vn/api/api/doitac/createorder\""
   ]
  },
  {
   "cell_type": "code",
   "execution_count": 24,
   "metadata": {},
   "outputs": [
    {
     "data": {
      "text/plain": [
       "{'Id': '2a434048-9445-4403-81c5-e91ed5dd5398',\n",
       " 'ItemCode': 'EL026453439VN',\n",
       " 'CustomerId': '8ad5cfdb-e1dc-4ef2-822e-c045b79934c8',\n",
       " 'CustomerCode': '0843211234C333345',\n",
       " 'OrderCode': 'TESTORDER01234',\n",
       " 'OrderStatusId': 20,\n",
       " 'ShippingStatusId': 0,\n",
       " 'PaymentStatusId': 0,\n",
       " 'ServiceId': 1,\n",
       " 'ServiceName': 'EMS',\n",
       " 'SenderFullname': 'sample string 2',\n",
       " 'SenderAddress': 'sample string 3',\n",
       " 'SenderTel': 'sample string 1',\n",
       " 'ReceiverFullname': 'sample string 8',\n",
       " 'ReceiverAddress': 'sample string 9',\n",
       " 'ReceiverTel': 'sample string 7',\n",
       " 'SenderProvinceId': '70',\n",
       " 'SenderDistrictId': '7540',\n",
       " 'ReceiverProvinceId': '70',\n",
       " 'ReceiverDistrictId': '7540',\n",
       " 'ShipperTel': None,\n",
       " 'OrderAmount': None,\n",
       " 'CodAmount': 0.0,\n",
       " 'TotalFreightExcludeVat': 0.0,\n",
       " 'TotalFreightIncludeVat': 0.0,\n",
       " 'VatFreight': 0.0,\n",
       " 'ShippingFreight': 0.0,\n",
       " 'VasFreight': 0.0,\n",
       " 'CodFreight': 0.0,\n",
       " 'FuelFreight': None,\n",
       " 'RegionFreight': None,\n",
       " 'TotalFreightExcludeVatEvaluation': 9360.0,\n",
       " 'TotalFreightIncludeVatEvaluation': 56296.0,\n",
       " 'VatFreightEvaluation': 936.0,\n",
       " 'ShippingFreightEvaluation': 8000.0,\n",
       " 'VasFreightEvaluation': 46000.0,\n",
       " 'CodFreightEvaluation': 13000.0,\n",
       " 'FuelFreightEvaluation': 1360.0,\n",
       " 'RegionFreightEvaluation': 0.0,\n",
       " 'PackageContent': 'sample string 15',\n",
       " 'PickupType': 1,\n",
       " 'IsPackageViewable': True,\n",
       " 'Weight': 0.0,\n",
       " 'WeightConvert': 16.1,\n",
       " 'Width': 0.0,\n",
       " 'Length': 0.0,\n",
       " 'Height': 0.0,\n",
       " 'ValueAddedServiceList': '[{\"IDDichVuCongThem\":3,\"CuocDVCT\":13000.0},{\"IDDichVuCongThem\":1,\"CuocDVCT\":16500.0},{\"IDDichVuCongThem\":4,\"CuocDVCT\":11000.0},{\"IDDichVuCongThem\":2,\"CuocDVCT\":5500.0}]',\n",
       " 'Opt': None,\n",
       " 'AcceptancePoscode': None,\n",
       " 'DestinationPoscode': None,\n",
       " 'DeliveryID': 0,\n",
       " 'ToPOSCode': None,\n",
       " 'CauseCode': None,\n",
       " 'DeliveryTimes': 0,\n",
       " 'DeliveryNote': None,\n",
       " 'CauseName': None,\n",
       " 'InputTime': None,\n",
       " 'IsDeliverable': False,\n",
       " 'IsReturn': False,\n",
       " 'SolutionName': None,\n",
       " 'SolutionCode': None,\n",
       " 'DeliveryTime': None,\n",
       " 'BccpCreateTime': None,\n",
       " 'BccpLastUpdateTime': None,\n",
       " 'PaypostTracedate': None,\n",
       " 'PaypostTransferDate': None,\n",
       " 'PaypostStatus': 0,\n",
       " 'CancelTime': None,\n",
       " 'CancelNotes': None,\n",
       " 'CancelStatus': None,\n",
       " 'CancelStatusDesc': None,\n",
       " 'SendingTime': None,\n",
       " 'VendorId': -16,\n",
       " 'CreateTime': '2022-09-30T11:43:17.463',\n",
       " 'LastUpdateTime': '2022-09-30T11:43:17.37',\n",
       " 'SenderWardId': '75470',\n",
       " 'ReceiverWardId': '75460',\n",
       " 'IsReceiverPayFreight': True,\n",
       " 'DeliveryDateEvaluation': '2022-10-10T09:43:17.62',\n",
       " 'WidthEvaluation': 1.1,\n",
       " 'LengthEvaluation': 1.1,\n",
       " 'HeightEvaluation': 1.1,\n",
       " 'WeightEvaluation': 16.1,\n",
       " 'ServiceDisplayName': 'Chuyển phát nhanh',\n",
       " 'CustomerNote': 'sample string 18',\n",
       " 'CodAmountEvaluation': 56297.0,\n",
       " 'OrderAmountEvaluation': 1.0,\n",
       " 'OriginalCodAmountEvaluation': 1.0,\n",
       " 'OldCustomerCode': None,\n",
       " 'OldAcceptancePoscode': None,\n",
       " 'OldToPOSCode': None,\n",
       " 'OldReceiverTel': None,\n",
       " 'BatchCode': None,\n",
       " 'CodAmountNotForBatch': None,\n",
       " 'SenderAddressType': None,\n",
       " 'ReceiverAddressType': 1,\n",
       " 'AdditionalDatas': '{\"MaDichVuBccp\":\"EMS\",\"OrderCodeInBatch\":null,\"IsBatchOrder\":null,\"LstOrderDetailRequest\":null,\"IsCodAmountChung\":null,\"ReceiverVpostCode\":null,\"SenderVpostCode\":null,\"IsSyncDateFromPaypost\":null,\"OrderStatusIdWhenSyncFromPaypost\":null,\"HubCodeOfReceiver\":null,\"HubCodeOfSender\":null}',\n",
       " 'SoLanIn': None,\n",
       " 'CancelledOrderFeeType': None,\n",
       " 'CancelledOrderFeeEvaluation': None,\n",
       " 'CancelledOrderFee': None,\n",
       " 'ReceiverPayFeeEvaluation': None,\n",
       " 'ReceiverPayFee': None}"
      ]
     },
     "execution_count": 24,
     "metadata": {},
     "output_type": "execute_result"
    }
   ],
   "source": [
    "res = requests.post(url=url_createorder, headers=headers, data=json.dumps(data))\n",
    "res.json()"
   ]
  },
  {
   "cell_type": "code",
   "execution_count": 2,
   "metadata": {},
   "outputs": [
    {
     "data": {
      "text/plain": [
       "True"
      ]
     },
     "execution_count": 2,
     "metadata": {},
     "output_type": "execute_result"
    }
   ],
   "source": [
    "check_exist_ms(f\" select count(*) from OM_Receipt where BranchID+ReportID = 'MR0001PBNH09202200511' \")"
   ]
  }
 ],
 "metadata": {
  "kernelspec": {
   "display_name": "Python 3.8.10 ('venv': venv)",
   "language": "python",
   "name": "python3"
  },
  "language_info": {
   "codemirror_mode": {
    "name": "ipython",
    "version": 3
   },
   "file_extension": ".py",
   "mimetype": "text/x-python",
   "name": "python",
   "nbconvert_exporter": "python",
   "pygments_lexer": "ipython3",
   "version": "3.8.10"
  },
  "orig_nbformat": 4,
  "vscode": {
   "interpreter": {
    "hash": "8fb55849e6741974ce442ee684e971e1b6b22c29ca2b25c3b9069bf531e0354a"
   }
  }
 },
 "nbformat": 4,
 "nbformat_minor": 2
}
