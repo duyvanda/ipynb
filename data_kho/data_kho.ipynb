{
 "cells": [
  {
   "cell_type": "code",
   "execution_count": 1,
   "metadata": {},
   "outputs": [],
   "source": [
    "from openpyxl import load_workbook"
   ]
  },
  {
   "cell_type": "code",
   "execution_count": 2,
   "metadata": {},
   "outputs": [],
   "source": [
    "from utils.df_handle import *"
   ]
  },
  {
   "cell_type": "code",
   "execution_count": 3,
   "metadata": {},
   "outputs": [],
   "source": [
    "# cdf = pd.read_excel(\"data.xlsx\", sheet_name=None).values()"
   ]
  },
  {
   "cell_type": "code",
   "execution_count": 4,
   "metadata": {},
   "outputs": [],
   "source": [
    "wb = load_workbook(\"data0702.xlsx\", read_only=True, keep_links=False)"
   ]
  },
  {
   "cell_type": "code",
   "execution_count": 5,
   "metadata": {},
   "outputs": [],
   "source": [
    "# wb.close()"
   ]
  },
  {
   "cell_type": "code",
   "execution_count": 6,
   "metadata": {},
   "outputs": [],
   "source": [
    "lst = wb.sheetnames"
   ]
  },
  {
   "cell_type": "code",
   "execution_count": 7,
   "metadata": {},
   "outputs": [
    {
     "data": {
      "text/plain": [
       "['25.01', '26.01', '28.01']"
      ]
     },
     "execution_count": 7,
     "metadata": {},
     "output_type": "execute_result"
    }
   ],
   "source": [
    "lst"
   ]
  },
  {
   "cell_type": "code",
   "execution_count": 8,
   "metadata": {},
   "outputs": [],
   "source": [
    "wb.close()"
   ]
  },
  {
   "cell_type": "code",
   "execution_count": 9,
   "metadata": {},
   "outputs": [],
   "source": [
    "df = pd.read_excel(\"data0702.xlsx\", sheet_name='25.01').head(0)"
   ]
  },
  {
   "cell_type": "code",
   "execution_count": 10,
   "metadata": {},
   "outputs": [],
   "source": [
    "# _df = pd.read_excel(\"data.xlsx\", sheet_name='01.12')"
   ]
  },
  {
   "cell_type": "code",
   "execution_count": 11,
   "metadata": {},
   "outputs": [],
   "source": [
    "# _df[_df.Date.isna()]"
   ]
  },
  {
   "cell_type": "code",
   "execution_count": 12,
   "metadata": {},
   "outputs": [],
   "source": [
    "for sheetname in lst:\n",
    "    _df = pd.read_excel(\"data0702.xlsx\", sheet_name=sheetname)\n",
    "    df = df.append(_df, ignore_index=True)\n"
   ]
  },
  {
   "cell_type": "code",
   "execution_count": 13,
   "metadata": {},
   "outputs": [],
   "source": [
    "df.columns = cleancols(df)\n",
    "df.columns = lower_col(df)"
   ]
  },
  {
   "cell_type": "code",
   "execution_count": 14,
   "metadata": {},
   "outputs": [],
   "source": [
    "# df.head(100).to_clipboard()"
   ]
  },
  {
   "cell_type": "code",
   "execution_count": 15,
   "metadata": {},
   "outputs": [],
   "source": [
    "dk = df.dvt.notna()"
   ]
  },
  {
   "cell_type": "code",
   "execution_count": 16,
   "metadata": {},
   "outputs": [
    {
     "data": {
      "text/plain": [
       "(259, 79)"
      ]
     },
     "execution_count": 16,
     "metadata": {},
     "output_type": "execute_result"
    }
   ],
   "source": [
    "df.shape"
   ]
  },
  {
   "cell_type": "code",
   "execution_count": 17,
   "metadata": {},
   "outputs": [],
   "source": [
    "df1 = df[dk].copy()"
   ]
  },
  {
   "cell_type": "code",
   "execution_count": 18,
   "metadata": {},
   "outputs": [
    {
     "data": {
      "text/plain": [
       "(259, 79)"
      ]
     },
     "execution_count": 18,
     "metadata": {},
     "output_type": "execute_result"
    }
   ],
   "source": [
    "df.shape"
   ]
  },
  {
   "cell_type": "code",
   "execution_count": 19,
   "metadata": {},
   "outputs": [],
   "source": [
    "# df1[df1.date.isna()]"
   ]
  },
  {
   "cell_type": "code",
   "execution_count": 20,
   "metadata": {},
   "outputs": [],
   "source": [
    "# _df = pd.DataFrame(df1.columns)"
   ]
  },
  {
   "cell_type": "code",
   "execution_count": 21,
   "metadata": {},
   "outputs": [],
   "source": [
    "# _df.to_clipboard()"
   ]
  },
  {
   "cell_type": "code",
   "execution_count": 22,
   "metadata": {},
   "outputs": [],
   "source": [
    "df1.khohanoi = 'HN'\n",
    "df1.khonghean = 'NA'\n",
    "df1.khohcm = 'HCM'\n",
    "df1.khodongnai = 'DNAI'\n",
    "df1.khocantho = 'CT'\n",
    "df1.khokhanhhoa = 'KH'\n",
    "df1.khodanang = 'DNANG'\n",
    "df1.khonhamay = 'NHAMAY'"
   ]
  },
  {
   "cell_type": "code",
   "execution_count": 23,
   "metadata": {},
   "outputs": [],
   "source": [
    "# drop_cols(df1, ['mtv'])"
   ]
  },
  {
   "cell_type": "code",
   "execution_count": 24,
   "metadata": {},
   "outputs": [
    {
     "data": {
      "text/plain": [
       "Index(['date', 'maso', 'tenhang', 'dvt', 'khohanoi', 'khocn', 'hcm', 'mtv',\n",
       "       'treohdaochuarahd', 'cong', 'diduong', 'tongcong', 'dsbqngay',\n",
       "       'tgnhanngay', 'tgbanngay', 'khonghean', 'khocn1', 'hcm1', 'mtv1',\n",
       "       'treohdaochuarahd1', 'cong1', 'diduong1', 'tongcong1', 'dsbqngay1',\n",
       "       'tgnhanngay1', 'tgbanngay1', 'khohcm', 'khohcm1', 'khovime',\n",
       "       'khoguimrxuly', 'treohdaochuarahd2', 'cong2', 'diduong2', 'tongcong2',\n",
       "       'dsbqngay2', 'tgnhanngay2', 'tgbanngay2', 'khodongnai', 'khocn2',\n",
       "       'hcm2', 'treohdaochuarahd3', 'cong3', 'diduong3', 'tongcong3',\n",
       "       'dsbqngay3', 'tgnhanngay3', 'tgbanngay3', 'khocantho', 'khocn3', 'hcm3',\n",
       "       'treohdaochuarahd4', 'cong4', 'diduong4', 'tongcong4', 'dsbqngay4',\n",
       "       'tgnhanngay4', 'tgbanngay4', 'khokhanhhoa', 'khocn4', 'hcm4',\n",
       "       'treohdaochuarahd5', 'cong5', 'diduong5', 'tongcong5', 'dsbqngay5',\n",
       "       'tgnhanngay5', 'tgbanngay5', 'khodanang', 'khocn5', 'hcm5',\n",
       "       'treohdaochuarahd6', 'cong6', 'diduong6', 'tongcong6', 'dsbqngay6',\n",
       "       'tgnhanngay6', 'tgbanngay6', 'khonhamay', 'tonkhonm'],\n",
       "      dtype='object')"
      ]
     },
     "execution_count": 24,
     "metadata": {},
     "output_type": "execute_result"
    }
   ],
   "source": [
    "df1.columns"
   ]
  },
  {
   "cell_type": "code",
   "execution_count": 25,
   "metadata": {},
   "outputs": [],
   "source": [
    "df1_hn = df1[['date', 'maso', 'tenhang', 'dvt','khohanoi', 'khocn', 'hcm','treohdaochuarahd','diduong']].copy()\n",
    "df1_hn['tonmerap'] = 0\n",
    "df1_hn['tonvime'] = 0\n",
    "df1_hn.rename(columns={'khohanoi':'chinhanh'}, inplace=True)"
   ]
  },
  {
   "cell_type": "code",
   "execution_count": 26,
   "metadata": {},
   "outputs": [],
   "source": [
    "df1_na = df1[['date', 'maso', 'tenhang', 'dvt','khonghean', 'khocn1', 'hcm1','treohdaochuarahd1','diduong1']].copy()\n",
    "df1_na['tonmerap'] = 0\n",
    "df1_na['tonvime'] = 0\n",
    "df1_na.columns = ['date', 'maso', 'tenhang', 'dvt', 'chinhanh', 'khocn', 'hcm','treohdaochuarahd', 'diduong', 'tonmerap', 'tonvime']"
   ]
  },
  {
   "cell_type": "code",
   "execution_count": 27,
   "metadata": {},
   "outputs": [],
   "source": [
    "df1_hcm = df1[['date', 'maso', 'tenhang', 'dvt','khohcm', 'khohcm1', 'khovime', 'khoguimrxuly','treohdaochuarahd2','diduong2']].copy()\n",
    "df1_hcm['hcm'] = 0\n",
    "df1_hcm = df1_hcm[['date', 'maso', 'tenhang', 'dvt', 'khohcm', 'khohcm1', 'hcm', 'treohdaochuarahd2', 'diduong2', 'khoguimrxuly', 'khovime']]\n",
    "df1_hcm.columns = ['date', 'maso', 'tenhang', 'dvt', 'chinhanh', 'khocn', 'hcm','treohdaochuarahd', 'diduong', 'tonmerap', 'tonvime']"
   ]
  },
  {
   "cell_type": "code",
   "execution_count": 28,
   "metadata": {},
   "outputs": [],
   "source": [
    "df1_dnai = df1[['date', 'maso', 'tenhang', 'dvt','khodongnai', 'khocn2', 'hcm2','treohdaochuarahd3','diduong3']].copy()\n",
    "df1_dnai['tonmerap'] = 0\n",
    "df1_dnai['tonvime'] = 0\n",
    "df1_dnai.columns = ['date', 'maso', 'tenhang', 'dvt', 'chinhanh', 'khocn', 'hcm','treohdaochuarahd', 'diduong', 'tonmerap', 'tonvime']"
   ]
  },
  {
   "cell_type": "code",
   "execution_count": 29,
   "metadata": {},
   "outputs": [],
   "source": [
    "df1_ct = df1[['date', 'maso', 'tenhang', 'dvt','khocantho', 'khocn3', 'hcm3','treohdaochuarahd4','diduong4']].copy()\n",
    "df1_ct['tonmerap'] = 0\n",
    "df1_ct['tonvime'] = 0\n",
    "df1_ct.columns = ['date', 'maso', 'tenhang', 'dvt', 'chinhanh', 'khocn', 'hcm','treohdaochuarahd', 'diduong', 'tonmerap', 'tonvime']"
   ]
  },
  {
   "cell_type": "code",
   "execution_count": 30,
   "metadata": {},
   "outputs": [],
   "source": [
    "df1_kh = df1[['date', 'maso', 'tenhang', 'dvt','khokhanhhoa', 'khocn4', 'hcm4','treohdaochuarahd5','diduong5']].copy()\n",
    "df1_kh['tonmerap'] = 0\n",
    "df1_kh['tonvime'] = 0\n",
    "df1_kh.columns = ['date', 'maso', 'tenhang', 'dvt', 'chinhanh', 'khocn', 'hcm','treohdaochuarahd', 'diduong', 'tonmerap', 'tonvime']"
   ]
  },
  {
   "cell_type": "code",
   "execution_count": 31,
   "metadata": {},
   "outputs": [],
   "source": [
    "df1_dnang = df1[['date', 'maso', 'tenhang', 'dvt','khodanang', 'khocn5', 'hcm5','treohdaochuarahd6','diduong6']].copy()\n",
    "df1_dnang['tonmerap'] = 0\n",
    "df1_dnang['tonvime'] = 0\n",
    "df1_dnang.columns = ['date', 'maso', 'tenhang', 'dvt', 'chinhanh', 'khocn', 'hcm','treohdaochuarahd', 'diduong', 'tonmerap', 'tonvime']"
   ]
  },
  {
   "cell_type": "code",
   "execution_count": 32,
   "metadata": {},
   "outputs": [],
   "source": [
    "df1_nhamay = df1[['date', 'maso', 'tenhang', 'dvt','khonhamay', 'tonkhonm']].copy()\n",
    "df1_nhamay['khocn'] = 0\n",
    "df1_nhamay['hcm'] = 0\n",
    "df1_nhamay['treohdaochuarahd'] = 0\n",
    "df1_nhamay['diduong'] = 0\n",
    "df1_nhamay['tonmerap'] = 0\n",
    "df1_nhamay['tonvime'] = 0"
   ]
  },
  {
   "cell_type": "code",
   "execution_count": 33,
   "metadata": {},
   "outputs": [
    {
     "data": {
      "text/plain": [
       "Index(['date', 'maso', 'tenhang', 'dvt', 'khonhamay', 'tonkhonm', 'khocn',\n",
       "       'hcm', 'treohdaochuarahd', 'diduong', 'tonmerap', 'tonvime'],\n",
       "      dtype='object')"
      ]
     },
     "execution_count": 33,
     "metadata": {},
     "output_type": "execute_result"
    }
   ],
   "source": [
    "df1_nhamay.columns"
   ]
  },
  {
   "cell_type": "code",
   "execution_count": 34,
   "metadata": {},
   "outputs": [],
   "source": [
    "df1_nhamay = df1[['date', 'maso', 'tenhang', 'dvt','khonhamay', 'tonkhonm']].copy()\n",
    "df1_nhamay['khocn'] = 0\n",
    "df1_nhamay['hcm'] = 0\n",
    "df1_nhamay['treohdaochuarahd'] = 0\n",
    "df1_nhamay['diduong'] = 0\n",
    "df1_nhamay['tonmerap'] = 0\n",
    "df1_nhamay['tonvime'] = 0\n",
    "df1_nhamay = df1_nhamay[['date', 'maso', 'tenhang', 'dvt', 'khonhamay', 'khocn', 'hcm', 'treohdaochuarahd', 'diduong', 'tonmerap', 'tonvime', 'tonkhonm']]\n",
    "df1_nhamay.columns = ['date', 'maso', 'tenhang', 'dvt', 'chinhanh', 'khocn', 'hcm', 'treohdaochuarahd', 'diduong', 'tonmerap', 'tonvime', 'tonkhonm']"
   ]
  },
  {
   "cell_type": "code",
   "execution_count": 35,
   "metadata": {},
   "outputs": [],
   "source": [
    "# df1_nhamay.khocn.sum()"
   ]
  },
  {
   "cell_type": "code",
   "execution_count": 36,
   "metadata": {},
   "outputs": [],
   "source": [
    "df1_all = df1_hn.append(df1_na).append(df1_hcm).append(df1_dnai).append(df1_ct).append(df1_kh).append(df1_dnang)"
   ]
  },
  {
   "cell_type": "code",
   "execution_count": 37,
   "metadata": {},
   "outputs": [],
   "source": [
    "df1_all['tonkhonm'] = 0"
   ]
  },
  {
   "cell_type": "code",
   "execution_count": 38,
   "metadata": {},
   "outputs": [],
   "source": [
    "df1_all.khocn = pd.to_numeric(df1_all.khocn)"
   ]
  },
  {
   "cell_type": "code",
   "execution_count": 39,
   "metadata": {},
   "outputs": [],
   "source": [
    "# vc(df1_all,['chinhanh'])"
   ]
  },
  {
   "cell_type": "code",
   "execution_count": 40,
   "metadata": {},
   "outputs": [],
   "source": [
    "df1_all2 = df1_all.append(df1_nhamay)"
   ]
  },
  {
   "cell_type": "code",
   "execution_count": 41,
   "metadata": {},
   "outputs": [],
   "source": [
    "df1_all2.columns = ['created_date', 'masanpham', 'tensanpham', 'donvi', 'chinhanh', 'toncn', 'tonhcm', 'tonao', 'tonhangdiduong', 'tonmerap', 'tonvime', 'tonnmtp']"
   ]
  },
  {
   "cell_type": "code",
   "execution_count": 42,
   "metadata": {},
   "outputs": [
    {
     "data": {
      "text/plain": [
       "0"
      ]
     },
     "execution_count": 42,
     "metadata": {},
     "output_type": "execute_result"
    }
   ],
   "source": [
    "checkdup(df1_all2, 1, ['created_date','masanpham','chinhanh']).sum()"
   ]
  },
  {
   "cell_type": "code",
   "execution_count": 43,
   "metadata": {},
   "outputs": [
    {
     "data": {
      "text/plain": [
       "Index(['created_date', 'masanpham', 'tensanpham', 'donvi', 'chinhanh', 'toncn',\n",
       "       'tonhcm', 'tonao', 'tonhangdiduong', 'tonmerap', 'tonvime', 'tonnmtp'],\n",
       "      dtype='object')"
      ]
     },
     "execution_count": 43,
     "metadata": {},
     "output_type": "execute_result"
    }
   ],
   "source": [
    "df1_all2.columns"
   ]
  },
  {
   "cell_type": "code",
   "execution_count": 44,
   "metadata": {},
   "outputs": [
    {
     "data": {
      "text/plain": [
       "(1928, 12)"
      ]
     },
     "execution_count": 44,
     "metadata": {},
     "output_type": "execute_result"
    }
   ],
   "source": [
    "df1_all2.shape"
   ]
  },
  {
   "cell_type": "code",
   "execution_count": 45,
   "metadata": {},
   "outputs": [
    {
     "name": "stdout",
     "output_type": "stream",
     "text": [
      "INSERT INTO f_sc_daily_invt(created_date,masanpham,tensanpham,donvi,chinhanh,toncn,tonhcm,tonao,tonhangdiduong,tonmerap,tonvime,tonnmtp) VALUES %s ON CONFLICT (created_date, masanpham, chinhanh) DO UPDATE SET tensanpham = excluded.tensanpham, donvi = excluded.donvi, toncn = excluded.toncn, tonhcm = excluded.tonhcm, tonao = excluded.tonao, tonhangdiduong = excluded.tonhangdiduong, tonmerap = excluded.tonmerap, tonvime = excluded.tonvime, tonnmtp = excluded.tonnmtp\n",
      "Data inserted using execute_values() successfully..\n"
     ]
    }
   ],
   "source": [
    "execute_values_upsert(df1_all2, \"f_sc_daily_invt\", [\"created_date\", \"masanpham\", \"chinhanh\"])"
   ]
  },
  {
   "cell_type": "code",
   "execution_count": null,
   "metadata": {},
   "outputs": [],
   "source": []
  }
 ],
 "metadata": {
  "interpreter": {
   "hash": "f94d6dad5013d632e8b52fc362848c71d5234e1d7ba23afa22c3a2e55512dabd"
  },
  "kernelspec": {
   "display_name": "Python 3.9.6 64-bit ('venv': venv)",
   "language": "python",
   "name": "python3"
  },
  "language_info": {
   "codemirror_mode": {
    "name": "ipython",
    "version": 3
   },
   "file_extension": ".py",
   "mimetype": "text/x-python",
   "name": "python",
   "nbconvert_exporter": "python",
   "pygments_lexer": "ipython3",
   "version": "3.9.6"
  },
  "orig_nbformat": 4
 },
 "nbformat": 4,
 "nbformat_minor": 2
}
