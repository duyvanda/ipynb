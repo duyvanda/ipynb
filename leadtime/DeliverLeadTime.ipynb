{
 "cells": [
  {
   "cell_type": "code",
   "execution_count": 3,
   "metadata": {},
   "outputs": [
    {
     "name": "stdout",
     "output_type": "stream",
     "text": [
      "Default bq project:  spatial-vision-343005.biteam\n"
     ]
    }
   ],
   "source": [
    "from utils.df_handle import *"
   ]
  },
  {
   "cell_type": "code",
   "execution_count": null,
   "metadata": {},
   "outputs": [],
   "source": [
    "import pendulum\n",
    "from airflow import DAG\n",
    "from airflow.operators.dummy_operator import DummyOperator\n",
    "from airflow.operators.python_operator import PythonOperator\n",
    "\n",
    "local_tz = pendulum.timezone(\"Asia/Bangkok\")\n",
    "\n",
    "name='DeliverLeadTime'\n",
    "prefix='DMS_'\n",
    "csv_path = '/usr/local/airflow/plugins'+'/'\n",
    "\n",
    "dag_params = {\n",
    "    'owner': 'airflow',\n",
    "    \"depends_on_past\": False,\n",
    "    'start_date': datetime(2022, 5, 5, tzinfo=local_tz),\n",
    "    'email_on_failure': True,\n",
    "    'email_on_retry': False,\n",
    "    'email':['duyvq@merapgroup.com', 'vanquangduy10@gmail.com'],\n",
    "    'do_xcom_push': False,\n",
    "    'execution_timeout':timedelta(seconds=300)\n",
    "    # 'retries': 3,\n",
    "    # 'retry_delay': timedelta(minutes=10),\n",
    "}\n",
    "\n",
    "dag = DAG(prefix+name,\n",
    "          catchup=False,\n",
    "          default_args=dag_params,\n",
    "          schedule_interval= '5 * * * *',\n",
    "          tags=[prefix+name, 'Daily', '60mins']\n",
    ")"
   ]
  },
  {
   "cell_type": "code",
   "execution_count": 1,
   "metadata": {},
   "outputs": [],
   "source": [
    "# old 0405022\n",
    "# sql1 = \\\n",
    "# \"\"\"\n",
    "# select\n",
    "# a.BranchID,\n",
    "# a.OrderNbr,\n",
    "# case when d.DeliveryUnit = 'CW' then N'Chành Xe'\n",
    "# when d.DeliveryUnit = 'PN' then N'Pha Nam' end dvvc,\n",
    "# a.SlsperID as manvgh,\n",
    "# [Status] = 'Đã Giao Hàng',\n",
    "# b.CustID,\n",
    "# e.Crtd_DateTime as post_time,\n",
    "# e.LUpd_DateTime as approve_time,\n",
    "# f.LUpd_DateTime as invoice_time,\n",
    "# a.Crtd_DateTime as booked_time,\n",
    "# ready_to_ship_time = a.Crtd_DateTime,\n",
    "# a.LUpd_DateTime as delivered_time,\n",
    "# datediff(minute, e.Crtd_DateTime, e.LUpd_DateTime) as leadtime_t0_minute,\n",
    "# datediff(minute, e.LUpd_DateTime, f.LUpd_DateTime) as leadtime_t1_minute,\n",
    "# datediff(minute, f.LUpd_DateTime, a.Crtd_DateTime) as leadtime_t2_minute,\n",
    "# datediff(minute, a.Crtd_DateTime, a.Crtd_DateTime) as leadtime_t3_minute,\n",
    "# datediff(minute, a.Crtd_DateTime, a.LUpd_DateTime) as leadtime_t4_minute,\n",
    "# datediff(minute, e.Crtd_DateTime, a.LUpd_DateTime) as leadtime_full_minute\n",
    "\n",
    "# from OM_Delivery a\n",
    "# --split ra theo nhieu sku va hd\n",
    "# LEFT JOIN OM_SalesOrd b ON\n",
    "# a.BranchID = b.BranchID and\n",
    "# a.OrderNbr = b.OrigOrderNbr\n",
    "# LEFT JOIN OM_Issuebookdet c ON\n",
    "# a.BranchID = c.BranchID and\n",
    "# a.OrderNbr = c.OrderNbr\n",
    "# LEFT JOIN OM_Issuebook d ON\n",
    "# c.BranchID = d.BranchID and\n",
    "# c.BatNbr = d.BatNbr\n",
    "# LEFT JOIN OM_PDASalesOrd e ON\n",
    "# a.BranchID = b.BranchID and\n",
    "# a.OrderNbr = e.OrderNbr\n",
    "# LEFT JOIN OM_Invoice f on\n",
    "# b.BranchID = f.BranchID and\n",
    "# b.InvcNbr = f.InvcNbr and\n",
    "# b.InvcNote = f.InvcNote and\n",
    "# b.ARRefNbr = f.RefNbr\n",
    "# where a.Status = 'C'\n",
    "# and Cast(a.Crtd_DateTime as date) >= '2022-04-01'\n",
    "# and datediff(minute, e.LUpd_DateTime, f.LUpd_DateTime) >= 0\n",
    "# \"\"\""
   ]
  },
  {
   "cell_type": "code",
   "execution_count": 4,
   "metadata": {},
   "outputs": [],
   "source": []
  },
  {
   "cell_type": "code",
   "execution_count": 13,
   "metadata": {},
   "outputs": [],
   "source": [
    "# bq_sql"
   ]
  },
  {
   "cell_type": "code",
   "execution_count": 12,
   "metadata": {},
   "outputs": [],
   "source": [
    "execute_bq_query(bq_sql)"
   ]
  },
  {
   "cell_type": "code",
   "execution_count": 1,
   "metadata": {},
   "outputs": [],
   "source": [
    "# New 04052022\n",
    "sql = \\\n",
    "f\"\"\"\n",
    "select\n",
    "a.BranchID,\n",
    "a.OrderNbr,\n",
    "case when d.DeliveryUnit = 'CW' then N'Chành Xe'\n",
    "when d.DeliveryUnit = 'PN' then N'Pha Nam' end dvvc,\n",
    "a.SlsperID as manvgh,\n",
    "[Status] = 'Đã Giao Hàng',\n",
    "b.CustID,\n",
    "b.InvcNbr,\n",
    "b.InvcNote,\n",
    "e.Remark,\n",
    "e.Crtd_DateTime as post_time,\n",
    "e.Crtd_User as post_user,\n",
    "g.ErrorMessage as pending_reason,\n",
    "e.LUpd_DateTime as approve_time,\n",
    "e.LUpd_User as approve_user,\n",
    "f.LUpd_DateTime as invoice_time,\n",
    "f.LUpd_User as invoice_user,\n",
    "a.Crtd_DateTime as booked_time,\n",
    "a.Crtd_User as booked_user,\n",
    "ready_to_ship_time = a.Crtd_DateTime,\n",
    "a.Crtd_User as rts_user,\n",
    "a.LUpd_DateTime as delivered_time,\n",
    "a.SlsperID as delivered_user,\n",
    "datediff(minute, e.Crtd_DateTime, e.LUpd_DateTime) as leadtime_t0_minute,\n",
    "datediff(minute, e.LUpd_DateTime, f.LUpd_DateTime) as leadtime_t1_minute,\n",
    "datediff(minute, f.LUpd_DateTime, a.Crtd_DateTime) as leadtime_t2_minute,\n",
    "datediff(minute, a.Crtd_DateTime, a.Crtd_DateTime) as leadtime_t3_minute,\n",
    "datediff(minute, a.Crtd_DateTime, a.LUpd_DateTime) as leadtime_t4_minute,\n",
    "datediff(minute, e.Crtd_DateTime, a.LUpd_DateTime) as leadtime_full_minute\n",
    "\n",
    "from OM_Delivery a\n",
    "--split ra theo nhieu sku va hd\n",
    "LEFT JOIN OM_SalesOrd b ON\n",
    "a.BranchID = b.BranchID and\n",
    "a.OrderNbr = b.OrigOrderNbr\n",
    "LEFT JOIN OM_Issuebookdet c ON\n",
    "a.BranchID = c.BranchID and\n",
    "a.OrderNbr = c.OrderNbr\n",
    "LEFT JOIN OM_Issuebook d ON\n",
    "c.BranchID = d.BranchID and\n",
    "c.BatNbr = d.BatNbr\n",
    "LEFT JOIN OM_PDASalesOrd e ON\n",
    "a.BranchID = b.BranchID and\n",
    "a.OrderNbr = e.OrderNbr\n",
    "LEFT JOIN OM_Invoice f on\n",
    "b.BranchID = f.BranchID and\n",
    "b.InvcNbr = f.InvcNbr and\n",
    "b.InvcNote = f.InvcNote and\n",
    "b.ARRefNbr = f.RefNbr\n",
    "LEFT JOIN API_HistoryOM205 g ON\n",
    "a.BranchID = g.BranchID and\n",
    "a.OrderNbr = g.OrderNbr\n",
    "and g.Status = 'E'\n",
    "where a.Status = 'C'\n",
    "and Cast(a.LUpd_DateTime as date) >= '{datenow_mns1}'\n",
    "--and Cast(a.Crtd_DateTime as date) >= '2022-04-01'\n",
    "and datediff(minute, e.LUpd_DateTime, f.LUpd_DateTime) >= 0\n",
    "Order By a.LUpd_DateTime DESC\n",
    "\"\"\""
   ]
  },
  {
   "cell_type": "code",
   "execution_count": 4,
   "metadata": {},
   "outputs": [],
   "source": [
    "df = get_ms_df(sql)"
   ]
  },
  {
   "cell_type": "code",
   "execution_count": null,
   "metadata": {},
   "outputs": [],
   "source": [
    "datenow_mns1 = (datetime.now() - timedelta(days=1)).strftime(\"%Y-%m-%d\")\n",
    "# datenow_mns1\n",
    "bq_sql = f\"delete from `spatial-vision-343005.biteam.f_mds_leadtime` where date(delivered_time) >= '{datenow_mns1}'\""
   ]
  },
  {
   "cell_type": "code",
   "execution_count": 9,
   "metadata": {},
   "outputs": [
    {
     "name": "stderr",
     "output_type": "stream",
     "text": [
      "1it [00:05,  5.92s/it]\n"
     ]
    }
   ],
   "source": [
    "bq_values_insert(df,\"f_mds_leadtime\",2)"
   ]
  },
  {
   "cell_type": "code",
   "execution_count": 6,
   "metadata": {},
   "outputs": [],
   "source": [
    "# DROP TABLE IF EXISTS biteam.f_mds_leadtime;\n",
    "# CREATE TABLE biteam.f_mds_leadtime LIKE biteam.f_mds_leadtime_temp1\n",
    "# PARTITION BY DATE(delivered_time)"
   ]
  },
  {
   "cell_type": "code",
   "execution_count": null,
   "metadata": {},
   "outputs": [],
   "source": [
    "dummy_start = DummyOperator(task_id=\"dummy_start\", dag=dag)\n",
    "\n",
    "insert = PythonOperator(task_id=\"insert\", python_callable=insert, dag=dag)\n",
    "\n",
    "dummy_start >> insert"
   ]
  }
 ],
 "metadata": {
  "interpreter": {
   "hash": "f94d6dad5013d632e8b52fc362848c71d5234e1d7ba23afa22c3a2e55512dabd"
  },
  "kernelspec": {
   "display_name": "Python 3.9.6 ('venv': venv)",
   "language": "python",
   "name": "python3"
  },
  "language_info": {
   "codemirror_mode": {
    "name": "ipython",
    "version": 3
   },
   "file_extension": ".py",
   "mimetype": "text/x-python",
   "name": "python",
   "nbconvert_exporter": "python",
   "pygments_lexer": "ipython3",
   "version": "3.9.6"
  },
  "orig_nbformat": 4
 },
 "nbformat": 4,
 "nbformat_minor": 2
}
