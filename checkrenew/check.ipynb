{
 "cells": [
  {
   "cell_type": "code",
   "execution_count": 1,
   "metadata": {},
   "outputs": [],
   "source": [
    "from utils.df_handle import *"
   ]
  },
  {
   "cell_type": "code",
   "execution_count": 3,
   "metadata": {},
   "outputs": [],
   "source": [
    "HANH = pd.read_csv('Hanh (1).csv')\n",
    "HANH.columns = cleancols(HANH)\n",
    "HANH.columns = lower_col(HANH)\n",
    "HANH.columns\n",
    "HANH = HANH[['machinhanhcty','madonhang','date','dunocuoiky']]"
   ]
  },
  {
   "cell_type": "code",
   "execution_count": 9,
   "metadata": {},
   "outputs": [],
   "source": [
    "Renew = pd.read_csv('Renew (1).csv')\n",
    "Renew.columns = cleancols(Renew)\n",
    "Renew.columns = lower_col(Renew)\n",
    "Renew.columns\n",
    "Renew = Renew[['machinhanhcty','madonhang','date','dunocuoiky']]"
   ]
  },
  {
   "cell_type": "code",
   "execution_count": 12,
   "metadata": {},
   "outputs": [],
   "source": [
    "Renew = pivot(Renew, ['machinhanhcty','madonhang','date'], {'dunocuoiky':np.sum})\n",
    "HANH = pivot(HANH, ['machinhanhcty','madonhang','date'], {'dunocuoiky':np.sum})"
   ]
  },
  {
   "cell_type": "code",
   "execution_count": 17,
   "metadata": {},
   "outputs": [],
   "source": [
    "dfs_diff(HANH, Renew).to_excel(\"lech1801.xlsx\", index=True)"
   ]
  },
  {
   "cell_type": "code",
   "execution_count": 15,
   "metadata": {},
   "outputs": [
    {
     "data": {
      "text/plain": [
       "(138404, 4)"
      ]
     },
     "execution_count": 15,
     "metadata": {},
     "output_type": "execute_result"
    }
   ],
   "source": [
    "HANH.shape"
   ]
  },
  {
   "cell_type": "code",
   "execution_count": null,
   "metadata": {},
   "outputs": [],
   "source": []
  }
 ],
 "metadata": {
  "interpreter": {
   "hash": "f94d6dad5013d632e8b52fc362848c71d5234e1d7ba23afa22c3a2e55512dabd"
  },
  "kernelspec": {
   "display_name": "Python 3.9.6 64-bit ('venv': venv)",
   "language": "python",
   "name": "python3"
  },
  "language_info": {
   "codemirror_mode": {
    "name": "ipython",
    "version": 3
   },
   "file_extension": ".py",
   "mimetype": "text/x-python",
   "name": "python",
   "nbconvert_exporter": "python",
   "pygments_lexer": "ipython3",
   "version": "3.9.6"
  },
  "orig_nbformat": 4
 },
 "nbformat": 4,
 "nbformat_minor": 2
}
