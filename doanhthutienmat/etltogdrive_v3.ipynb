{
 "cells": [
  {
   "cell_type": "code",
   "execution_count": 27,
   "metadata": {},
   "outputs": [
    {
     "name": "stdout",
     "output_type": "stream",
     "text": [
      "d:\\data_sale\\venv\\Scripts\n"
     ]
    }
   ],
   "source": [
    "import sys\n",
    "import os\n",
    "from datetime import datetime\n",
    "from google.oauth2 import service_account\n",
    "from googleapiclient import discovery\n",
    "from googleapiclient.http import MediaFileUpload\n",
    "from datetime import datetime\n",
    "from utils.df_handle import *\n",
    "import pandas as pd\n",
    "import numpy as np\n",
    "import time\n",
    "import pyodbc\n",
    "print(os.path.dirname(sys.executable))"
   ]
  },
  {
   "cell_type": "code",
   "execution_count": 28,
   "metadata": {},
   "outputs": [],
   "source": [
    "server = '115.165.164.234'\n",
    "driver = 'SQL Server'\n",
    "db1 = 'PhaNam_eSales_PRO'\n",
    "tcon = 'no'\n",
    "uname = 'duyvq'\n",
    "pword = '123VanQuangDuy'\n",
    "# cnxn = pyodbc.connect(driver='{ODBC Driver 17 for SQL Server}', \n",
    "#                       host=server, database=db1, trusted_connection=tcon,\n",
    "#                       user=uname, password=pword)\n",
    "# cursor = cnxn.cursor()\n",
    "# df1 = pd.read_sql(query, cnxn, parse_dates={\"DateOfOrder\": {\"dayfirst\": True}})"
   ]
  },
  {
   "cell_type": "code",
   "execution_count": 29,
   "metadata": {},
   "outputs": [],
   "source": [
    "datenow = datetime.now().strftime(\"%Y%m%d\")\n",
    "param_1 = f\"'20161130'\"\n",
    "param_2 = f\"'20210930'\"\n",
    "param_3 = f\"'{datenow}'\""
   ]
  },
  {
   "cell_type": "code",
   "execution_count": 30,
   "metadata": {},
   "outputs": [
    {
     "name": "stdout",
     "output_type": "stream",
     "text": [
      "126.51818561553955\n"
     ]
    }
   ],
   "source": [
    "cnxn = pyodbc.connect(driver='{ODBC Driver 17 for SQL Server}', \n",
    "                      host=server, database=db1, trusted_connection=tcon,\n",
    "                      user=uname, password=pword)\n",
    "query = f\"EXEC [pr_AR_TrackingDebtConfirm]  @Fromdate={param_1}, @Todate={param_2}\"\n",
    "start=time.time()\n",
    "df1 = pd.read_sql(query, cnxn, parse_dates={\"DateOfOrder\": {\"dayfirst\": True}, \"DueDate\": {\"dayfirst\": True}})\n",
    "df1.to_csv('doanhthutienmat_data1.csv', index = False)\n",
    "end=time.time()\n",
    "duration=end-start\n",
    "print(duration)\n",
    "cnxn.close()"
   ]
  },
  {
   "cell_type": "code",
   "execution_count": 53,
   "metadata": {},
   "outputs": [],
   "source": [
    "df1 = pd.read_csv('doanhthutienmat_data1.csv', dayfirst=True, parse_dates=['DateOfOrder', 'DueDate'])"
   ]
  },
  {
   "cell_type": "code",
   "execution_count": 54,
   "metadata": {},
   "outputs": [
    {
     "name": "stdout",
     "output_type": "stream",
     "text": [
      "185727532348.0\n"
     ]
    }
   ],
   "source": [
    "print(df1['OrdAmtRelease'].sum())"
   ]
  },
  {
   "cell_type": "code",
   "execution_count": 55,
   "metadata": {},
   "outputs": [],
   "source": [
    "df_vptt = pd.read_csv('pvtt.csv')\n",
    "df1 = df1.merge(df_vptt, how = 'left', left_on='State', right_on='tinh',suffixes=('_left', '_right'), validate=\"m:1\")"
   ]
  },
  {
   "cell_type": "code",
   "execution_count": 56,
   "metadata": {},
   "outputs": [
    {
     "data": {
      "text/plain": [
       "TRẠM             114178\n",
       "VP TRỰC THUỘC     78107\n",
       "Name: vptt, dtype: int64"
      ]
     },
     "execution_count": 56,
     "metadata": {},
     "output_type": "execute_result"
    }
   ],
   "source": [
    "df1['vptt'].value_counts(dropna=False)"
   ]
  },
  {
   "cell_type": "code",
   "execution_count": 57,
   "metadata": {},
   "outputs": [
    {
     "data": {
      "text/plain": [
       "Series([], Name: State, dtype: object)"
      ]
     },
     "execution_count": 57,
     "metadata": {},
     "output_type": "execute_result"
    }
   ],
   "source": [
    "df1['State'][df1['vptt'].isna()]"
   ]
  },
  {
   "cell_type": "code",
   "execution_count": 58,
   "metadata": {},
   "outputs": [
    {
     "data": {
      "text/html": [
       "<div>\n",
       "<style scoped>\n",
       "    .dataframe tbody tr th:only-of-type {\n",
       "        vertical-align: middle;\n",
       "    }\n",
       "\n",
       "    .dataframe tbody tr th {\n",
       "        vertical-align: top;\n",
       "    }\n",
       "\n",
       "    .dataframe thead th {\n",
       "        text-align: right;\n",
       "    }\n",
       "</style>\n",
       "<table border=\"1\" class=\"dataframe\">\n",
       "  <thead>\n",
       "    <tr style=\"text-align: right;\">\n",
       "      <th></th>\n",
       "      <th>State</th>\n",
       "      <th>vptt</th>\n",
       "    </tr>\n",
       "  </thead>\n",
       "  <tbody>\n",
       "    <tr>\n",
       "      <th>0</th>\n",
       "      <td>False</td>\n",
       "      <td>False</td>\n",
       "    </tr>\n",
       "    <tr>\n",
       "      <th>1</th>\n",
       "      <td>False</td>\n",
       "      <td>False</td>\n",
       "    </tr>\n",
       "    <tr>\n",
       "      <th>2</th>\n",
       "      <td>False</td>\n",
       "      <td>False</td>\n",
       "    </tr>\n",
       "    <tr>\n",
       "      <th>3</th>\n",
       "      <td>False</td>\n",
       "      <td>False</td>\n",
       "    </tr>\n",
       "    <tr>\n",
       "      <th>4</th>\n",
       "      <td>False</td>\n",
       "      <td>False</td>\n",
       "    </tr>\n",
       "    <tr>\n",
       "      <th>...</th>\n",
       "      <td>...</td>\n",
       "      <td>...</td>\n",
       "    </tr>\n",
       "    <tr>\n",
       "      <th>192280</th>\n",
       "      <td>False</td>\n",
       "      <td>False</td>\n",
       "    </tr>\n",
       "    <tr>\n",
       "      <th>192281</th>\n",
       "      <td>False</td>\n",
       "      <td>False</td>\n",
       "    </tr>\n",
       "    <tr>\n",
       "      <th>192282</th>\n",
       "      <td>False</td>\n",
       "      <td>False</td>\n",
       "    </tr>\n",
       "    <tr>\n",
       "      <th>192283</th>\n",
       "      <td>False</td>\n",
       "      <td>False</td>\n",
       "    </tr>\n",
       "    <tr>\n",
       "      <th>192284</th>\n",
       "      <td>False</td>\n",
       "      <td>False</td>\n",
       "    </tr>\n",
       "  </tbody>\n",
       "</table>\n",
       "<p>192285 rows × 2 columns</p>\n",
       "</div>"
      ],
      "text/plain": [
       "        State   vptt\n",
       "0       False  False\n",
       "1       False  False\n",
       "2       False  False\n",
       "3       False  False\n",
       "4       False  False\n",
       "...       ...    ...\n",
       "192280  False  False\n",
       "192281  False  False\n",
       "192282  False  False\n",
       "192283  False  False\n",
       "192284  False  False\n",
       "\n",
       "[192285 rows x 2 columns]"
      ]
     },
     "execution_count": 58,
     "metadata": {},
     "output_type": "execute_result"
    }
   ],
   "source": [
    "df1[['State','vptt']].isna()"
   ]
  },
  {
   "cell_type": "code",
   "execution_count": 59,
   "metadata": {},
   "outputs": [
    {
     "data": {
      "text/plain": [
       "DateOfOrder    datetime64[ns]\n",
       "DueDate        datetime64[ns]\n",
       "dtype: object"
      ]
     },
     "execution_count": 59,
     "metadata": {},
     "output_type": "execute_result"
    }
   ],
   "source": [
    "df1[['DateOfOrder', 'DueDate']].dtypes"
   ]
  },
  {
   "cell_type": "code",
   "execution_count": 60,
   "metadata": {},
   "outputs": [
    {
     "data": {
      "text/plain": [
       "Nguyễn Hoàng Nguyên    23789\n",
       "Nguyễn Phước Hòa       20400\n",
       "Lâm Mạnh Quyền         18611\n",
       "Nguyễn Hoàng Mạnh      18400\n",
       "Nguyễn Văn Tiến        17417\n",
       "Nguyễn Tùng Lâm        15787\n",
       "Trương Tới             15645\n",
       "Nguyễn Minh Thảo       15166\n",
       "Vũ Đình Thắng          13225\n",
       "Nguyễn Thái Bảo        11619\n",
       "Phan Việt Khải         10756\n",
       "Lê Tấn Hải              5088\n",
       "Nguyễn Chí Tâm          3979\n",
       "Nguyễn Xuân Kiệt        1861\n",
       "NaN                      355\n",
       "Nguyễn Thị Hằng          113\n",
       "Hoàng Trung Thành         28\n",
       "Nguyễn Thành Hiệp         28\n",
       "Lâm Văn Cảnh              13\n",
       "Lương Trịnh Thắng          5\n",
       "Name: SupName, dtype: int64"
      ]
     },
     "execution_count": 60,
     "metadata": {},
     "output_type": "execute_result"
    }
   ],
   "source": [
    "df1.SupName.value_counts(dropna=False)"
   ]
  },
  {
   "cell_type": "code",
   "execution_count": 61,
   "metadata": {},
   "outputs": [],
   "source": [
    "groupbylist = [\n",
    "    'OrderNbr', \n",
    "    'BranchID', \n",
    "    'Position', \n",
    "    'SlsperID', \n",
    "    'SupName', \n",
    "    'ASMName', \n",
    "    'RSMName', \n",
    "    'DateOfOrder', \n",
    "    'DueDate','SlsperName', \n",
    "    'Terms', \n",
    "    'PaymentsForm',\n",
    "    'TermsType',\n",
    "    'Territory', \n",
    "    'State', \n",
    "    'vptt', \n",
    "    'DeliveryUnit',\n",
    "    'SubChannel'\n",
    "    ]"
   ]
  },
  {
   "cell_type": "code",
   "execution_count": 62,
   "metadata": {},
   "outputs": [],
   "source": [
    "aggregate_dict = {\n",
    "'OpeiningOrderAmt':np.sum,\n",
    "'OrdAmtRelease':np.sum,\n",
    "'DeliveredOrderAmt':np.sum,\n",
    "'ReturnOrdAmt': np.sum,\n",
    "'DebConfirmAmt': np.sum,\n",
    "'DebConfirmAmtRelease': np.sum,\n",
    "#DonHang8\n",
    "'CountOpeningOrder':np.sum,\n",
    "'CountOrdRelease': np.sum,\n",
    "'DeliveredOrder':np.sum,\n",
    "'CountReturnOrd': np.sum,\n",
    "'CountDebtConfirm': np.sum,\n",
    "'CountDebtConfirmRelease':np.sum\n",
    "}"
   ]
  },
  {
   "cell_type": "code",
   "execution_count": 63,
   "metadata": {},
   "outputs": [],
   "source": [
    "df2 = df1.groupby(groupbylist, dropna=False).aggregate(aggregate_dict).reset_index()"
   ]
  },
  {
   "cell_type": "code",
   "execution_count": 64,
   "metadata": {},
   "outputs": [
    {
     "name": "stdout",
     "output_type": "stream",
     "text": [
      "False\n"
     ]
    }
   ],
   "source": [
    "print(df2['OrdAmtRelease'].sum()==185823616294)"
   ]
  },
  {
   "cell_type": "code",
   "execution_count": 65,
   "metadata": {},
   "outputs": [
    {
     "data": {
      "text/plain": [
       "0      2017-01-18\n",
       "1      2017-01-18\n",
       "2      2017-01-18\n",
       "67     2017-02-23\n",
       "3194   2017-05-25\n",
       "Name: DateOfOrder, dtype: datetime64[ns]"
      ]
     },
     "execution_count": 65,
     "metadata": {},
     "output_type": "execute_result"
    }
   ],
   "source": [
    "df2['DateOfOrder'].nsmallest(5)"
   ]
  },
  {
   "cell_type": "code",
   "execution_count": 66,
   "metadata": {},
   "outputs": [
    {
     "data": {
      "text/plain": [
       "Index(['OrderNbr', 'BranchID', 'Position', 'SlsperID', 'SupName', 'ASMName',\n",
       "       'RSMName', 'DateOfOrder', 'DueDate', 'SlsperName', 'Terms',\n",
       "       'PaymentsForm', 'TermsType', 'Territory', 'State', 'vptt',\n",
       "       'DeliveryUnit', 'SubChannel', 'OpeiningOrderAmt', 'OrdAmtRelease',\n",
       "       'DeliveredOrderAmt', 'ReturnOrdAmt', 'DebConfirmAmt',\n",
       "       'DebConfirmAmtRelease', 'CountOpeningOrder', 'CountOrdRelease',\n",
       "       'DeliveredOrder', 'CountReturnOrd', 'CountDebtConfirm',\n",
       "       'CountDebtConfirmRelease'],\n",
       "      dtype='object')"
      ]
     },
     "execution_count": 66,
     "metadata": {},
     "output_type": "execute_result"
    }
   ],
   "source": [
    "df2.columns"
   ]
  },
  {
   "cell_type": "code",
   "execution_count": 67,
   "metadata": {},
   "outputs": [],
   "source": [
    "rename_dict ={\n",
    "# Doanh So\n",
    "'OpeiningOrderAmt': 'tiennodauky',\n",
    "'OrdAmtRelease':'tienchotso',\n",
    "'DeliveredOrderAmt':'tiengiaothanhcong',\n",
    "'ReturnOrdAmt':'tienhuydon',\n",
    "'DebConfirmAmt':'tienlenbangke',\n",
    "'DebConfirmAmtRelease':'tienthuquyxacnhan',\n",
    "# Don Hang\n",
    "'CountOpeningOrder': 'dondauky',\n",
    "'CountOrdRelease':'donchotso',\n",
    "'DeliveredOrder':'dongiaothanhcong',\n",
    "'CountReturnOrd':'donhuy',\n",
    "'CountDebtConfirm':'donlenbangke',\n",
    "'CountDebtConfirmRelease':'donthuquyxacnhan'\n",
    "}\n",
    "df2.rename(columns=rename_dict, inplace=True)"
   ]
  },
  {
   "cell_type": "code",
   "execution_count": 79,
   "metadata": {},
   "outputs": [],
   "source": [
    "df2b = df2[df2['tiennodauky'] > 0]"
   ]
  },
  {
   "cell_type": "code",
   "execution_count": 80,
   "metadata": {},
   "outputs": [
    {
     "data": {
      "text/plain": [
       "1044   2021-04-29\n",
       "1065   2021-04-29\n",
       "1112   2021-04-29\n",
       "1147   2021-04-29\n",
       "1148   2021-04-29\n",
       "1214   2021-04-29\n",
       "1265   2021-04-29\n",
       "1413   2021-04-29\n",
       "1428   2021-04-29\n",
       "1473   2021-04-29\n",
       "Name: DateOfOrder, dtype: datetime64[ns]"
      ]
     },
     "execution_count": 80,
     "metadata": {},
     "output_type": "execute_result"
    }
   ],
   "source": [
    "df2b['DateOfOrder'].nlargest(10)"
   ]
  },
  {
   "cell_type": "code",
   "execution_count": 69,
   "metadata": {},
   "outputs": [],
   "source": [
    "df2['tiennocongty'] = df2['tiennodauky'] + df2['tienchotso'].values - df2['tienhuydon'].values - df2['tienthuquyxacnhan'].values\n",
    "# df2['tiennocongty'] = np.where(df2['chitietnocongty']>0, df2['chitietnocongty'].values, 0)\n",
    "# df2['chitietdonnocongty'] = df2['dondauky'] + df2['donchotso'] - df2['donthuquyxacnhan'] - df2['donhuy']\n",
    "# df2['donnocongty_old'] = df2.apply(lambda x: x['chitietdonnocongty'] if x['chitietdonnocongty']>0 else 0, axis=1)\n",
    "df2['donnocongty'] = np.where(df2['tiennocongty'].values > 0, 1, 0)\n",
    "\n",
    "df2['donchuagiao'] = df2['donchotso'] - df2['dongiaothanhcong'] - df2['donhuy']\n",
    "df2['tiendonchuagiao'] = df2['tienchotso'] - df2['tiengiaothanhcong'] - df2['tienhuydon']\n",
    "\n",
    "date_now_at_midnight = datetime.now().replace(hour=0, minute=0, second=0, microsecond=0)\n",
    "df2['OverDueDate'] = np.where(df2['DueDate'].values >= np.datetime64(date_now_at_midnight), True, False)\n",
    "# df2['OverDueDate'].value_counts()\n",
    "df2['nodenhan'] = np.where(df2['OverDueDate'].values, df2['tiennocongty'].values, 0)\n",
    "df2['nochuadenhan'] = np.where(df2['OverDueDate'].values != True, df2['tiennocongty'].values, 0)"
   ]
  },
  {
   "cell_type": "code",
   "execution_count": 72,
   "metadata": {},
   "outputs": [
    {
     "data": {
      "text/plain": [
       "array(['Cho nợ', 'Thanh Toán Ngay'], dtype=object)"
      ]
     },
     "execution_count": 72,
     "metadata": {},
     "output_type": "execute_result"
    }
   ],
   "source": [
    "un(df2, 'TermsType')"
   ]
  },
  {
   "cell_type": "code",
   "execution_count": 75,
   "metadata": {},
   "outputs": [],
   "source": [
    "df2a = df_filter(df2, Position='LOG', TermsType='Thanh Toán Ngay', PaymentsForm='CK')"
   ]
  },
  {
   "cell_type": "code",
   "execution_count": 78,
   "metadata": {},
   "outputs": [
    {
     "name": "stdout",
     "output_type": "stream",
     "text": [
      "187719399.0\n",
      "187719399.0\n",
      "160840399.0\n",
      "0.0\n"
     ]
    }
   ],
   "source": [
    "print(df2a['tienchotso'].sum())\n",
    "print(df2a['tienthuquyxacnhan'].sum())\n",
    "print(df2a['tiengiaothanhcong'].sum())\n",
    "print(df2a['tienhuydon'].sum())"
   ]
  },
  {
   "cell_type": "code",
   "execution_count": 48,
   "metadata": {},
   "outputs": [
    {
     "name": "stdout",
     "output_type": "stream",
     "text": [
      "OrderNbr\n",
      "BranchID\n",
      "Position\n",
      "SlsperID\n",
      "SupName\n",
      "ASMName\n",
      "RSMName\n",
      "DateOfOrder\n",
      "DueDate\n",
      "SlsperName\n",
      "Terms\n",
      "PaymentsForm\n",
      "TermsType\n",
      "Territory\n",
      "State\n",
      "vptt\n",
      "DeliveryUnit\n",
      "SubChannel\n",
      "tiennodauky\n",
      "tienchotso\n",
      "tiengiaothanhcong\n",
      "tienhuydon\n",
      "tienlenbangke\n",
      "tienthuquyxacnhan\n",
      "dondauky\n",
      "donchotso\n",
      "dongiaothanhcong\n",
      "donhuy\n",
      "donlenbangke\n",
      "donthuquyxacnhan\n",
      "tiennocongty\n",
      "donnocongty\n",
      "donchuagiao\n",
      "tiendonchuagiao\n",
      "OverDueDate\n",
      "nodenhan\n",
      "nochuadenhan\n"
     ]
    }
   ],
   "source": [
    "for l in df2.columns:\n",
    "    print(l)"
   ]
  },
  {
   "cell_type": "code",
   "execution_count": 49,
   "metadata": {},
   "outputs": [],
   "source": [
    "col_list = [\n",
    "    'OrderN',\n",
    "    'BranchID',\n",
    "    'Position',\n",
    "    'SlsperID',\n",
    "    'Tên Quản Lý',\n",
    "    'Tên Quản Lý Khu Vực',\n",
    "    'Tên Quản Lý Vùng',\n",
    "    'Ngày Tạo Đơn',\n",
    "    'Ngày Đến Hạn',\n",
    "    #9\n",
    "    'MDS',\n",
    "    'Terms',\n",
    "    'PaymentsForm',\n",
    "    'Hạn Thanh Toán',\n",
    "    'Khu Vực',\n",
    "    'Tỉnh',\n",
    "    'Phân Vùng Dịch Vụ',\n",
    "    'Đơn Vị Giao Hàng',\n",
    "    'Kênh Phụ',\n",
    "    #15\n",
    "    'Tiền Nợ Đầu Kỳ',\n",
    "    'Tiền Chốt Sổ',\n",
    "    'Tiền Giao Thành Công',\n",
    "    'Tiền Hủy Đơn',\n",
    "    'Tiền Lên Bảng Kê',\n",
    "    'Tiền Thủ Quỹ Xác Nhận',\n",
    "    #21\n",
    "    'Đơn Nợ Đầu Kỳ',\n",
    "    'Đơn Chốt Sổ',\n",
    "    'Đơn Giao Thành Công',\n",
    "    'Don Huy',\n",
    "    'Đơn Lên Bảng Kê',\n",
    "    'Đơn Thủ Quỹ Xác Nhận',\n",
    "    #27\n",
    "    'Dư Nợ Cuối Kỳ',\n",
    "    'Đơn Nợ Công Ty',\n",
    "    'Đơn Chưa Giao',\n",
    "    'Tiền Đơn Chưa Giao',\n",
    "    'OverDueDate',\n",
    "    'Nợ Đến Hạn',\n",
    "    'Nợ Chưa Đến Hạn'\n",
    "# tiennocongty\n",
    "# donnocongty\n",
    "# donchuagiao\n",
    "# tiendonchuagiao\n",
    "# OverDueDate\n",
    "# nodenhan\n",
    "# nochuadenhan\n",
    "]"
   ]
  },
  {
   "cell_type": "code",
   "execution_count": 50,
   "metadata": {},
   "outputs": [
    {
     "data": {
      "text/plain": [
       "Index(['OrderNbr', 'BranchID', 'Position', 'SlsperID', 'SupName', 'ASMName',\n",
       "       'RSMName', 'DateOfOrder', 'DueDate', 'SlsperName', 'Terms',\n",
       "       'PaymentsForm', 'TermsType', 'Territory', 'State', 'vptt',\n",
       "       'DeliveryUnit', 'SubChannel', 'tiennodauky', 'tienchotso',\n",
       "       'tiengiaothanhcong', 'tienhuydon', 'tienlenbangke', 'tienthuquyxacnhan',\n",
       "       'dondauky', 'donchotso', 'dongiaothanhcong', 'donhuy', 'donlenbangke',\n",
       "       'donthuquyxacnhan', 'tiennocongty', 'donnocongty', 'donchuagiao',\n",
       "       'tiendonchuagiao', 'OverDueDate', 'nodenhan', 'nochuadenhan'],\n",
       "      dtype='object')"
      ]
     },
     "execution_count": 50,
     "metadata": {},
     "output_type": "execute_result"
    }
   ],
   "source": [
    "df2.columns"
   ]
  },
  {
   "cell_type": "code",
   "execution_count": 51,
   "metadata": {},
   "outputs": [],
   "source": [
    "df2.columns = col_list\n",
    "df2.to_csv('doanhthutienmat_data.csv', index=False)"
   ]
  },
  {
   "cell_type": "code",
   "execution_count": null,
   "metadata": {},
   "outputs": [],
   "source": [
    "# Google Sheet connection\n",
    "scopes = ['https://www.googleapis.com/auth/spreadsheets', 'https://www.googleapis.com/auth/drive',\n",
    "          'https://www.googleapis.com/auth/drive.file']\n",
    "jsonfile = 'D:/data_sale/datateam1599968716114-6f9f144b4262.json'\n",
    "credentials = service_account.Credentials.from_service_account_file(jsonfile, scopes=scopes)\n",
    "service = discovery.build('drive', 'v3', credentials=credentials)\n",
    "#spreadsheets_id = '1qEwviiJcAtvWCLvc-5AXOgidaeHMsi2RWWIKiUehabI'\n",
    "folder_id = '12iN7KEKpgT4QhIfaLNB5shQ4g5x-VUoY'\n",
    "file_name = 'doanhthutienmat_data.csv'\n",
    "file_type = 'text/csv'\n",
    "file_body={'name':file_name,'addParents':[folder_id]}\n",
    "query = f\"parents = '{folder_id}'\"\n",
    "files = service.files().list(q=query).execute()\n",
    "fileid  = files['files'][0]['id']\n",
    "\n",
    "media = MediaFileUpload('{0}'.format(file_name), mimetype=file_type)\n",
    "updated_file = service.files().update(fileId=fileid, body=file_body, media_body=media)\n",
    "updated_file.execute()"
   ]
  }
 ],
 "metadata": {
  "interpreter": {
   "hash": "f94d6dad5013d632e8b52fc362848c71d5234e1d7ba23afa22c3a2e55512dabd"
  },
  "kernelspec": {
   "display_name": "Python 3.9.6 64-bit ('venv': venv)",
   "name": "python3"
  },
  "language_info": {
   "codemirror_mode": {
    "name": "ipython",
    "version": 3
   },
   "file_extension": ".py",
   "mimetype": "text/x-python",
   "name": "python",
   "nbconvert_exporter": "python",
   "pygments_lexer": "ipython3",
   "version": "3.9.6"
  }
 },
 "nbformat": 4,
 "nbformat_minor": 2
}
