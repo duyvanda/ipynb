{
 "cells": [
  {
   "cell_type": "code",
   "execution_count": 1,
   "metadata": {},
   "outputs": [],
   "source": [
    "from utils.df_handle import *"
   ]
  },
  {
   "cell_type": "code",
   "execution_count": 2,
   "metadata": {},
   "outputs": [],
   "source": [
    "# day_ago = 2\n",
    "datenow = datetime.now().strftime(\"%Y%m%d\")\n",
    "# datenow_day_ago = ( datetime.now()-timedelta(day_ago) ).strftime(\"%Y%m%d\")\n",
    "# param_1 = f\"'{datenow_day_ago}'\"\n",
    "param_2 = f\"'20161130'\"\n",
    "# param_4 = f\"'20211027'\"\n",
    "param_3 = f\"'{datenow}'\""
   ]
  },
  {
   "cell_type": "code",
   "execution_count": 3,
   "metadata": {},
   "outputs": [
    {
     "name": "stdout",
     "output_type": "stream",
     "text": [
      "OK\n"
     ]
    }
   ],
   "source": [
    "if datetime.now().hour in {8,9,10,11,12,13,14,15,16,17,18,22}:\n",
    "    print (\"OK\")"
   ]
  },
  {
   "cell_type": "code",
   "execution_count": 4,
   "metadata": {},
   "outputs": [],
   "source": [
    "# pr_AR_RawdataTrackingDebtConfirm_Renew 825"
   ]
  },
  {
   "cell_type": "code",
   "execution_count": 5,
   "metadata": {},
   "outputs": [],
   "source": [
    "# query = f\"EXEC [pr_AR_RawdataTrackingDebtConfirm_Renew] @RPTID=825\"\n",
    "# start=time.time()\n",
    "# df1 = get_ms_df(sql=query)\n",
    "# end=time.time()\n",
    "# duration=end-start\n",
    "# print(duration)"
   ]
  },
  {
   "cell_type": "code",
   "execution_count": null,
   "metadata": {},
   "outputs": [],
   "source": [
    "# df1['']"
   ]
  },
  {
   "cell_type": "code",
   "execution_count": 17,
   "metadata": {},
   "outputs": [
    {
     "data": {
      "text/plain": [
       "Index(['Mã Chi Nhánh/Cty', 'Tên Chi Nhánh/Cty', 'Quản Lý MDS', 'Mã Nhân Viên',\n",
       "       'Tên Nhân Viên', 'Vai Trò', 'Hình Thức Thanh Toán', 'Hạn Thanh Toán',\n",
       "       'Ngày Nghiệp Vụ', 'Mã Đơn Hàng', 'Số Hóa Đơn', 'Ký Hiệu Hóa Đơn',\n",
       "       'Ngày Đơn Hàng', 'Ngày', 'Tháng', 'Năm', 'Đơn Vị Giao Hàng',\n",
       "       'Thời Gian Giao Hàng (HH:MM)', 'Thời Hạn Thanh Toán', 'Ngày Đến Hạn',\n",
       "       'Mã Khách Hàng', 'Tên Khách Hàng', 'Mã Kênh', 'Mã Kênh Phụ', 'Khu Vực',\n",
       "       'Số Nhà Và Tên Đường', 'Phường/Xã', 'Quận/Huyện', 'Tỉnh/Thành',\n",
       "       'Người Liên Hệ', 'Số Điện Thoại', 'Số Điện Thoại (KH Thuế)',\n",
       "       'Đầu Kỳ (ĐH)', 'Đầu Kỳ (Số Tiền)', 'Chốt Sổ (ĐH)', 'Chốt sổ (Số Tiền)',\n",
       "       'Giao Thành Công (ĐH)', 'Giao Thành Công (Số Tiền)',\n",
       "       'Hủy Hóa Đơn - Trả Hàng (ĐH)', 'Hủy Hóa Đơn - Trả Hàng (Số Tiền)',\n",
       "       'Xác Nhận Thu Nợ (Số Tiền)', 'Lý Do Không Thu Nợ Được',\n",
       "       'Tạo Bảng Kê (ĐH)', 'Tạo Bảng Kê (Số Tiền)', 'Xác Nhận TT Công Nợ (ĐH)',\n",
       "       'Xác Nhận TT Công Nợ (Số Tiền)', 'Dư Nợ Cuối Kỳ', 'Phân Vùng Dịch Vụ',\n",
       "       'Phụ Trách Nợ'],\n",
       "      dtype='object')"
      ]
     },
     "execution_count": 17,
     "metadata": {},
     "output_type": "execute_result"
    }
   ],
   "source": [
    "df1.columns"
   ]
  },
  {
   "cell_type": "code",
   "execution_count": 36,
   "metadata": {},
   "outputs": [],
   "source": [
    "ctr1 = df1['Phụ Trách Nợ'] == 'MDS'"
   ]
  },
  {
   "cell_type": "code",
   "execution_count": 37,
   "metadata": {},
   "outputs": [
    {
     "data": {
      "text/plain": [
       "0         False\n",
       "1         False\n",
       "2         False\n",
       "3         False\n",
       "4         False\n",
       "          ...  \n",
       "269762     True\n",
       "269763     True\n",
       "269764     True\n",
       "269765    False\n",
       "269766    False\n",
       "Name: Phụ Trách Nợ, Length: 269767, dtype: bool"
      ]
     },
     "execution_count": 37,
     "metadata": {},
     "output_type": "execute_result"
    }
   ],
   "source": [
    "ctr1"
   ]
  },
  {
   "cell_type": "code",
   "execution_count": 38,
   "metadata": {},
   "outputs": [],
   "source": [
    "df2 = df1[ctr1]"
   ]
  },
  {
   "cell_type": "code",
   "execution_count": 21,
   "metadata": {},
   "outputs": [
    {
     "data": {
      "text/plain": [
       "5260954970.0"
      ]
     },
     "execution_count": 21,
     "metadata": {},
     "output_type": "execute_result"
    }
   ],
   "source": [
    "df2['Dư Nợ Cuối Kỳ'].sum()"
   ]
  },
  {
   "cell_type": "code",
   "execution_count": null,
   "metadata": {},
   "outputs": [],
   "source": [
    "# ctr2 = df1['Thời Hạn Thanh Toán'].isin(['Thu tiền ngay không có VP PN','Thu tiền ngay có VP PN','Gối 1 Đơn Hàng (trong 30 ngày)'])"
   ]
  },
  {
   "cell_type": "code",
   "execution_count": 6,
   "metadata": {},
   "outputs": [
    {
     "name": "stdout",
     "output_type": "stream",
     "text": [
      "27.77555513381958\n"
     ]
    }
   ],
   "source": [
    "query = f\"EXEC [pr_AR_TrackingDebtConfirm] @Fromdate={param_2}, @Todate={param_3}\"\n",
    "start=time.time()\n",
    "df1 = get_ms_df(sql=query, parse_dates={\"DateOfOrder\": {\"dayfirst\": True}, \"DueDate\": {\"dayfirst\": True}, \"OrderDate\": {\"dayfirst\": True}})\n",
    "# df1.to_csv('doanhthutienmat_data1.csv', index = False)\n",
    "end=time.time()\n",
    "duration=end-start\n",
    "print(duration)"
   ]
  },
  {
   "cell_type": "code",
   "execution_count": 7,
   "metadata": {},
   "outputs": [],
   "source": [
    "# ctr1 = df1['DebtInCharge'] == 'MDS'"
   ]
  },
  {
   "cell_type": "code",
   "execution_count": 8,
   "metadata": {},
   "outputs": [],
   "source": [
    "# df2 = df1[ctr1]"
   ]
  },
  {
   "cell_type": "code",
   "execution_count": 9,
   "metadata": {},
   "outputs": [],
   "source": [
    "# df2.columns"
   ]
  },
  {
   "cell_type": "code",
   "execution_count": 98,
   "metadata": {},
   "outputs": [],
   "source": [
    "# Handle Hanh input"
   ]
  },
  {
   "cell_type": "code",
   "execution_count": 99,
   "metadata": {},
   "outputs": [],
   "source": [
    "HANH_URL = 'https://docs.google.com/spreadsheets/d/e/2PACX-1vTbIG2vkBwwtWCfZL7m5IE0Wq0F9UwZ7-KhzPgBgLObMb2C43ANH79rgGDeyQXa4C48thAbTCavUxuI/pub?gid=0&single=true&output=csv'\n",
    "HANH_csv = pd.read_csv(HANH_URL)\n",
    "HANH_csv['madh_cn'] = HANH_csv['MA CN'] + HANH_csv['MA DH']\n",
    "df1['madh_cn'] = df1.BranchID + df1.OrderNbr"
   ]
  },
  {
   "cell_type": "code",
   "execution_count": 106,
   "metadata": {},
   "outputs": [],
   "source": [
    "ctr1 = HANH_csv['Due Date'].notna()\n",
    "df1['DueDate2'] = df1['DueDate']\n",
    "df1['DueDate'] = df1['madh_cn'].map(df_to_dict( HANH_csv[['madh_cn','Due Date']][ctr1] ))\n",
    "df1['DueDate']=pd.to_datetime(df1['DueDate'], dayfirst=True)\n",
    "df1['DueDate'].fillna(df1['DueDate2'], inplace=True)\n",
    "drop_cols(df1, ['DueDate2'])"
   ]
  },
  {
   "cell_type": "code",
   "execution_count": 121,
   "metadata": {},
   "outputs": [],
   "source": [
    "x = df1['madh_cn']\n",
    "ctr2 = HANH_csv['THTT'].notna()\n",
    "set2 = set(HANH_csv[ctr2]['madh_cn'].unique())\n",
    "dict2 = df_to_dict( HANH_csv[['madh_cn','THTT']][ctr2] )\n",
    "# THTT = Terms\n",
    "df1['Terms'] = np.where(x.isin(set2), x.map( dict2 ), df1['Terms'] )"
   ]
  },
  {
   "cell_type": "code",
   "execution_count": 135,
   "metadata": {},
   "outputs": [],
   "source": [
    "ctr3 = HANH_csv['HAN THANH TOAN'].notna()\n",
    "set3 = set(HANH_csv[ctr3]['madh_cn'].unique())\n",
    "dict3 = df_to_dict( HANH_csv[['madh_cn','HAN THANH TOAN']][ctr3] )\n",
    "# Hanh thanh toan = TermType\n",
    "df1['TermsType'] = np.where(x.isin(set3), x.map( dict3 ), df1['TermsType'] )"
   ]
  },
  {
   "cell_type": "code",
   "execution_count": 136,
   "metadata": {},
   "outputs": [],
   "source": [
    "ctr3 = HANH_csv['HTTH'].notna()\n",
    "set3 = set(HANH_csv[ctr3]['madh_cn'].unique())\n",
    "dict3 = df_to_dict( HANH_csv[['madh_cn','HTTH']][ctr3] )\n",
    "# HTTH = PaymentsForm\n",
    "df1['PaymentsForm'] = np.where(x.isin(set3), x.map( dict3 ), df1['PaymentsForm'] )"
   ]
  },
  {
   "cell_type": "code",
   "execution_count": 137,
   "metadata": {},
   "outputs": [],
   "source": [
    "ctr3 = HANH_csv['BEN PHU TRACH NO'].notna()\n",
    "set3 = set(HANH_csv[ctr3]['madh_cn'].unique())\n",
    "dict3 = df_to_dict( HANH_csv[['madh_cn','BEN PHU TRACH NO']][ctr3] )\n",
    "# Ben Phu Trach No = DebtInCharge\n",
    "df1['DebtInCharge'] = np.where(x.isin(set3), x.map( dict3 ), df1['DebtInCharge'] )"
   ]
  },
  {
   "cell_type": "code",
   "execution_count": 138,
   "metadata": {},
   "outputs": [],
   "source": [
    "ctr3 = HANH_csv['MA NV'].notna()\n",
    "set3 = set(HANH_csv[ctr3]['madh_cn'].unique())\n",
    "dict3 = df_to_dict( HANH_csv[['madh_cn','MA NV']][ctr3] )\n",
    "# MA NV = SlsperID\n",
    "df1['SlsperID'] = np.where(x.isin(set3), x.map( dict3 ), df1['SlsperID'] )"
   ]
  },
  {
   "cell_type": "code",
   "execution_count": 140,
   "metadata": {},
   "outputs": [],
   "source": [
    "drop_cols(df1, ['madh_cn'])\n",
    "del(HANH_csv)"
   ]
  },
  {
   "cell_type": "code",
   "execution_count": 7,
   "metadata": {},
   "outputs": [],
   "source": [
    "# df_filter(df1, BranchID='MR0001', OrderNbr='DH112021-01987')"
   ]
  },
  {
   "cell_type": "code",
   "execution_count": 51,
   "metadata": {},
   "outputs": [],
   "source": [
    "# df1.columns = [x.lower() for x in df1.columns]"
   ]
  },
  {
   "cell_type": "code",
   "execution_count": 53,
   "metadata": {},
   "outputs": [
    {
     "data": {
      "text/html": [
       "<div>\n",
       "<style scoped>\n",
       "    .dataframe tbody tr th:only-of-type {\n",
       "        vertical-align: middle;\n",
       "    }\n",
       "\n",
       "    .dataframe tbody tr th {\n",
       "        vertical-align: top;\n",
       "    }\n",
       "\n",
       "    .dataframe thead th {\n",
       "        text-align: right;\n",
       "    }\n",
       "</style>\n",
       "<table border=\"1\" class=\"dataframe\">\n",
       "  <thead>\n",
       "    <tr style=\"text-align: right;\">\n",
       "      <th></th>\n",
       "      <th>branchid</th>\n",
       "      <th>branchname</th>\n",
       "      <th>supname</th>\n",
       "      <th>asmname</th>\n",
       "      <th>rsmname</th>\n",
       "      <th>slsperid</th>\n",
       "      <th>slspername</th>\n",
       "      <th>position</th>\n",
       "      <th>debtincharge</th>\n",
       "      <th>paymentsform</th>\n",
       "      <th>...</th>\n",
       "      <th>deliveredorder</th>\n",
       "      <th>deliveredorderamt</th>\n",
       "      <th>countreturnord</th>\n",
       "      <th>returnordamt</th>\n",
       "      <th>confirmamt</th>\n",
       "      <th>reasonnopay</th>\n",
       "      <th>countdebtconfirm</th>\n",
       "      <th>debtconfirmamt</th>\n",
       "      <th>countdebtconfirmrelease</th>\n",
       "      <th>debtconfirmamtrelease</th>\n",
       "    </tr>\n",
       "  </thead>\n",
       "  <tbody>\n",
       "  </tbody>\n",
       "</table>\n",
       "<p>0 rows × 44 columns</p>\n",
       "</div>"
      ],
      "text/plain": [
       "Empty DataFrame\n",
       "Columns: [branchid, branchname, supname, asmname, rsmname, slsperid, slspername, position, debtincharge, paymentsform, termstype, orderdate, ordernbr, dateoforder, deliveryunit, deliverytime, terms, duedate, custid, custname, channels, subchannel, territory, streets, ward, district, state, attn, phone, phonecustinvc, countopeningorder, openingorderamt, countordrelease, ordamtrelease, deliveredorder, deliveredorderamt, countreturnord, returnordamt, confirmamt, reasonnopay, countdebtconfirm, debtconfirmamt, countdebtconfirmrelease, debtconfirmamtrelease]\n",
       "Index: []\n",
       "\n",
       "[0 rows x 44 columns]"
      ]
     },
     "execution_count": 53,
     "metadata": {},
     "output_type": "execute_result"
    }
   ],
   "source": [
    "# df1[checkdup(df1, 2, ['ordernbr', 'branchid', 'dateoforder', 'duedate', 'orderdate'])]"
   ]
  },
  {
   "cell_type": "code",
   "execution_count": 16,
   "metadata": {},
   "outputs": [],
   "source": [
    "# df_filter(df1, OrderNbr='DH062021-00112', BranchID='MR0012').to_clipboard()"
   ]
  },
  {
   "cell_type": "code",
   "execution_count": 11,
   "metadata": {},
   "outputs": [],
   "source": [
    "# df1 = df_filter(df1,OrderNbr='DH062021-00112',BranchID='MR0012')"
   ]
  },
  {
   "cell_type": "code",
   "execution_count": 12,
   "metadata": {},
   "outputs": [],
   "source": [
    "# df1.to_clipboard()"
   ]
  },
  {
   "cell_type": "code",
   "execution_count": 23,
   "metadata": {},
   "outputs": [],
   "source": [
    "# df1.to_clipboard()"
   ]
  },
  {
   "cell_type": "code",
   "execution_count": 24,
   "metadata": {},
   "outputs": [],
   "source": [
    "# query = f\"SELECT BranchID, OrderNbr, InvcNbr, InvcNote, DateOfOrder, DueDate, CustID FROM AR_RawdataTrackingDebtConfirm_BL WHERE Terms=N'Gối 1 Đơn Hàng (trong 30 ngày)'\"\n",
    "# df1 = get_ms_df(sql=query, parse_dates={\"DateOfOrder\": {\"dayfirst\": True}, \"DueDate\": {\"dayfirst\": True}})\n",
    "# df1a=df1.copy()"
   ]
  },
  {
   "cell_type": "code",
   "execution_count": 25,
   "metadata": {},
   "outputs": [],
   "source": [
    "# df1a.columns"
   ]
  },
  {
   "cell_type": "code",
   "execution_count": 118,
   "metadata": {},
   "outputs": [],
   "source": [
    "# df1a = df_filter(df1a,CustID='TN80E088')"
   ]
  },
  {
   "cell_type": "code",
   "execution_count": 119,
   "metadata": {},
   "outputs": [],
   "source": [
    "# df1a.shape\n",
    "# df1a.sort_values(['DateOfOrder', 'OrderNbr'], axis=0, ascending = (True, True), inplace=True)"
   ]
  },
  {
   "cell_type": "code",
   "execution_count": 120,
   "metadata": {},
   "outputs": [],
   "source": [
    "# df1a.DueDate = df1a.DateOfOrder+timedelta(30)"
   ]
  },
  {
   "cell_type": "code",
   "execution_count": 121,
   "metadata": {},
   "outputs": [],
   "source": [
    "# df1a.to_clipboard()"
   ]
  },
  {
   "cell_type": "code",
   "execution_count": 122,
   "metadata": {},
   "outputs": [],
   "source": [
    "# df1b = df1a[['BranchID','CustID', 'OrderNbr']].copy()\n",
    "# df1b.drop_duplicates(keep='first', inplace=True)\n",
    "# df1b.to_clipboard()\n",
    "# df1b['cum_count'] = df1b.groupby(['BranchID','CustID']).cumcount()\n",
    "# df1a = df1a.merge(df1b, how='left', on=['BranchID','CustID', 'OrderNbr'])\n",
    "# df1a['cum_count_plus1'] = df1a['cum_count']+1\n",
    "\n",
    "# # df1a.to_clipboard()\n",
    "# df1b = df1a[['BranchID', 'CustID', 'cum_count', 'OrderNbr', 'DateOfOrder']].drop_duplicates(keep='first')\n",
    "# df1b.to_csv('df1b.csv')\n",
    "# df1a = df1a.merge(df1b.add_prefix('y_'), how='left', left_on=['BranchID', 'CustID', 'cum_count_plus1'], right_on=['y_BranchID','y_CustID','y_cum_count'])\n",
    "# # df1a.to_clipboard()\n",
    "# df1a.y_DateOfOrder.fillna(df1a.DueDate, inplace=True)\n",
    "# df1a.DueDate = np.where(df1a.DueDate>df1a.y_DateOfOrder, df1a.y_DateOfOrder, df1a.DateOfOrder+timedelta(30))\n",
    "# df1a.to_clipboard()"
   ]
  },
  {
   "cell_type": "code",
   "execution_count": null,
   "metadata": {},
   "outputs": [],
   "source": [
    "datenow = datetime.now().strftime(\"%Y%m%d\")\n",
    "print(datenow)"
   ]
  },
  {
   "cell_type": "code",
   "execution_count": null,
   "metadata": {},
   "outputs": [],
   "source": [
    "datenow = datetime.now().strftime(\"%Y%m%d\")\n",
    "query = f\"EXEC pr_AR_RawdataTrackingDebtConfirm_BL 2,'{datenow}','{datenow}','';\"\n",
    "commit_ms_sql(query)\n",
    "query = f\"SELECT BranchID, OrderNbr, DateOfOrder, CustID, sum(DebtBalance) as DebtBalance FROM AR_RawdataTrackingDebtConfirm_BL WHERE Terms=N'Gối 1 Đơn Hàng (trong 30 ngày)' GROUP BY BranchID, OrderNbr, DateOfOrder, CustID\"\n",
    "df1 = get_ms_df(sql=query, parse_dates={\"DateOfOrder\": {\"dayfirst\": True}, \"DueDate\": {\"dayfirst\": True}})\n",
    "df1['DueDate'] = df1.DateOfOrder+timedelta(30)\n",
    "df1.sort_values(['DateOfOrder', 'OrderNbr'], axis=0, ascending = (True, True), inplace=True)\n",
    "# CASE 1\n",
    "ctr1 = df1['DebtBalance'] > 0\n",
    "df1a=df1[ctr1].copy()\n",
    "# Convert DateOfOrder2, next value same or continuous\n",
    "df1a['group'] = df1a.groupby(['BranchID','CustID'])['DateOfOrder'].diff().gt(pd.to_timedelta('1d'))\n",
    "df1a['group'] = df1a.groupby(['BranchID','CustID'])['group'].cumsum()\n",
    "df1a2 = df1a.groupby(['BranchID','CustID', 'group'], as_index=False).agg({'DateOfOrder': np.max})\n",
    "df1a = df1a.merge(df1a2, how = 'left', on=['BranchID','CustID','group'], suffixes=('_ori', ''), validate=\"m:1\")\n",
    "drop_cols(df1a, ['group'])\n",
    "del(df1a2)\n",
    "# Calculate based on DateOfOrder2\n",
    "df1b = df1a[['BranchID','CustID', 'DateOfOrder']].copy()\n",
    "df1b.drop_duplicates(keep='first', inplace=True)\n",
    "df1b['cum_count'] = df1b.groupby(['BranchID','CustID']).cumcount()\n",
    "df1a = df1a.merge(df1b, how='left', on=['BranchID','CustID', 'DateOfOrder'])\n",
    "df1a['cum_count_plus1'] = df1a['cum_count']+1\n",
    "df1b = df1a[['BranchID', 'CustID', 'cum_count', 'OrderNbr', 'DateOfOrder']].drop_duplicates(keep='first')\n",
    "df1a = df1a.merge(df1b.add_prefix('y_'), how='left', left_on=['BranchID', 'CustID', 'cum_count_plus1'], right_on=['y_BranchID','y_CustID','y_cum_count'])\n",
    "df1a.y_DateOfOrder.fillna(df1a.DueDate, inplace=True)\n",
    "df1a.DueDate = np.where(df1a.DueDate>df1a.y_DateOfOrder, df1a.y_DateOfOrder, df1a.DueDate)\n",
    "#\n",
    "drop_cols(df1a, ['DateOfOrder'])\n",
    "df1a.rename(columns={\"DateOfOrder_ori\": \"DateOfOrder\"}, inplace=True)\n",
    "#\n",
    "cols_list = df1.columns\n",
    "df1a = df1a[cols_list]\n",
    "df1a.drop_duplicates(keep='first', inplace=True)\n",
    "# CASE 2\n",
    "df1c=df1[~ctr1].copy()\n",
    "df1c.drop_duplicates(keep='first', inplace=True)\n",
    "# Merge\n",
    "df1d = union_all([df1a, df1c])\n",
    "drop_cols(df1d, ['DebtBalance'])\n",
    "del(df1)\n",
    "update_sql = \\\n",
    "\"\"\"\n",
    "UPDATE d SET d.DueDate=t.DueDate\n",
    "FROM  dbo.AR_RawdataTrackingDebtConfirm_BL d\n",
    "INNER JOIN #tempt1 t ON t.BranchID = d.BranchID AND t.OrderNbr = d.OrderNbr\n",
    "\"\"\"\n",
    "insert_to_ms_and_update(df1d, '#tempt1', update_sql)"
   ]
  },
  {
   "cell_type": "code",
   "execution_count": null,
   "metadata": {},
   "outputs": [],
   "source": []
  },
  {
   "cell_type": "code",
   "execution_count": 5,
   "metadata": {},
   "outputs": [],
   "source": [
    "# drop_sql = \\\n",
    "# \"\"\"\n",
    "# DROP TABLE IF EXISTS #tempt1;\n",
    "# \"\"\"\n",
    "# commit_ms_sql(drop_sql)"
   ]
  },
  {
   "cell_type": "code",
   "execution_count": 6,
   "metadata": {},
   "outputs": [],
   "source": [
    "# get_ms_csv(\"select * from #tempt\", \"tempt.csv\")"
   ]
  },
  {
   "cell_type": "code",
   "execution_count": 7,
   "metadata": {},
   "outputs": [],
   "source": [
    "# df1a.to_csv('output.csv')"
   ]
  },
  {
   "cell_type": "code",
   "execution_count": 8,
   "metadata": {},
   "outputs": [],
   "source": [
    "# Update 29/10\n",
    "# ctr1 = df1.Terms == 'Gối 1 Đơn Hàng (trong 30 ngày)'\n",
    "# df1a=df1[ctr1].copy()\n",
    "# df1a.sort_values('DateOfOrder', axis=0, ascending = True, inplace=True)\n",
    "# df1b = df1a[['BranchID','CustID','OrderNbr']].copy()\n",
    "# df1b.drop_duplicates(keep='first', inplace=True)\n",
    "# df1b['cum_count'] = df1b.groupby(['BranchID','CustID']).cumcount()\n",
    "# df1a = df1a.merge(df1b, how='left', on=['BranchID','CustID', 'OrderNbr'])\n",
    "# df1a['cum_count_plus1'] = df1a['cum_count']+1\n",
    "# df1a = df1a.merge(df1a[['BranchID', 'CustID', 'cum_count', 'OrderNbr', 'DateOfOrder']].drop_duplicates(keep='first').add_prefix('y_'), how='left', left_on=['BranchID', 'CustID', 'cum_count_plus1', 'OrderNbr'], right_on=['y_BranchID','y_CustID','y_cum_count', 'y_OrderNbr'])\n",
    "# df1a.y_DateOfOrder.fillna(df1a.DueDate, inplace=True)\n",
    "# df1a.DueDate = np.where(df1a.DueDate>df1a.y_DateOfOrder, df1a.y_DateOfOrder, df1a.DueDate)\n",
    "# cols_list = df1.columns\n",
    "# df1a = df1a[cols_list]\n",
    "# df1 = df1[~ctr1].append(df1a)\n",
    "# del(df1a)\n",
    "# del(df1b)"
   ]
  },
  {
   "cell_type": "code",
   "execution_count": 9,
   "metadata": {},
   "outputs": [],
   "source": [
    "# df1.shape"
   ]
  },
  {
   "cell_type": "code",
   "execution_count": 10,
   "metadata": {},
   "outputs": [],
   "source": [
    "# df1a[['BranchID', 'CustID', 'cum_count', 'OrderNbr', 'DateOfOrder']].drop_duplicates(keep='first')"
   ]
  },
  {
   "cell_type": "code",
   "execution_count": 11,
   "metadata": {},
   "outputs": [],
   "source": [
    "# checkdup(df2,1,['BranchID', 'CustID', 'DueDate', 'OrderNbr']).sum()"
   ]
  },
  {
   "cell_type": "code",
   "execution_count": 12,
   "metadata": {},
   "outputs": [],
   "source": [
    "# sys.getsizeof(df2)/(1024*1024)"
   ]
  },
  {
   "cell_type": "code",
   "execution_count": 13,
   "metadata": {},
   "outputs": [],
   "source": [
    "# df_filter(df1, OrderNbr='DH102021-01793', BranchID='MR0010').to_clipboard()"
   ]
  },
  {
   "cell_type": "code",
   "execution_count": 14,
   "metadata": {},
   "outputs": [],
   "source": [
    "# df1.dtypes"
   ]
  },
  {
   "cell_type": "code",
   "execution_count": 15,
   "metadata": {},
   "outputs": [],
   "source": [
    "# df_filter(df1, BranchID='MR0010', OrderNbr='DH012021-06151').to_clipboard()"
   ]
  },
  {
   "cell_type": "code",
   "execution_count": 16,
   "metadata": {},
   "outputs": [],
   "source": [
    "# df1.columns"
   ]
  },
  {
   "cell_type": "code",
   "execution_count": 139,
   "metadata": {},
   "outputs": [],
   "source": [
    "# df1[checkdup(df1, 2, ['BranchID','OrderDate','OrderNbr','DateOfOrder','DueDate'])]"
   ]
  },
  {
   "cell_type": "code",
   "execution_count": 5,
   "metadata": {},
   "outputs": [],
   "source": [
    "# ctr1 = df1.DateOfOrder >= datetime(2021, 8,1)\n",
    "# ctr2 = df1.DateOfOrder <= datetime(2021, 8,31)"
   ]
  },
  {
   "cell_type": "code",
   "execution_count": 6,
   "metadata": {},
   "outputs": [],
   "source": [
    "# df2 = df1[ctr1&ctr2]"
   ]
  },
  {
   "cell_type": "code",
   "execution_count": 7,
   "metadata": {},
   "outputs": [],
   "source": [
    "# df3 = df2[['DateOfOrder', 'OrderDate']].copy()"
   ]
  },
  {
   "cell_type": "code",
   "execution_count": 8,
   "metadata": {},
   "outputs": [],
   "source": [
    "# df3.head()"
   ]
  },
  {
   "cell_type": "code",
   "execution_count": 9,
   "metadata": {},
   "outputs": [],
   "source": [
    "# df3.OrderDate.nbytes/(1024*1024)"
   ]
  },
  {
   "cell_type": "code",
   "execution_count": 10,
   "metadata": {},
   "outputs": [],
   "source": [
    "# df_filter(df1, CustID='TN80E088').to_clipboard()"
   ]
  },
  {
   "cell_type": "code",
   "execution_count": 11,
   "metadata": {},
   "outputs": [],
   "source": [
    "# df1.to_csv('csv1.csv')"
   ]
  },
  {
   "cell_type": "code",
   "execution_count": 35,
   "metadata": {},
   "outputs": [],
   "source": [
    "# df_nhansu = get_ps_df(\"select * from d_nhan_su\")\n",
    "# df_nhansu['qlkhuvuc'] = df_nhansu['qlkhuvuc'].str.strip()\n",
    "# df_nhansu[['manvcrscrss','qlkhuvuc']].copy().drop_duplicates(inplace=True)\n",
    "# df1a\n",
    "# df1a.head()\n",
    "# df_nhansu_asm = dropdup(df_nhansu[['manvcrscrss','qlkhuvuc']], 1)\n",
    "# df_nhansu_asm.head()\n",
    "# nhansu_asm_dict = df_to_dict(df_nhansu_asm)"
   ]
  },
  {
   "cell_type": "code",
   "execution_count": 10,
   "metadata": {},
   "outputs": [],
   "source": [
    "df_nhansu = get_ps_df(\"select * from d_nhan_su\")\n",
    "df_nhansu['qlkhuvuc'] = df_nhansu['qlkhuvuc'].str.strip()\n",
    "df_nhansu_asm = dropdup(df_nhansu[['manvcrscrss','qlkhuvuc']], 1)\n",
    "nhansu_asm_dict = df_to_dict(df_nhansu_asm)\n",
    "df_phu_trach_no_cs_theo_tinh = get_ps_df(\"SELECT * from d_phu_trach_no_cs_theo_tinh\")\n",
    "# df_phu_trach_no_cs_theo_tinh.columns\n",
    "phu_trach_no_cs_theo_tinh_dict = df_to_dict(df_phu_trach_no_cs_theo_tinh)\n",
    "df1['ASMName'] = np.where(df1['DebtInCharge']=='MDS', df1['SlsperID'].map(nhansu_asm_dict).fillna('Lương Trịnh Thắng (KN)'), df1['State'].map(phu_trach_no_cs_theo_tinh_dict))\n",
    "# df1['InChargeName'] =  np.where(df1['DebtInCharge']=='MDS', df1['SlsperName'], df1['ASMName'])\n",
    "# list_cs = df_phu_trach_no_cs_theo_refcustid['refcustid'].to_list()"
   ]
  },
  {
   "cell_type": "code",
   "execution_count": 11,
   "metadata": {},
   "outputs": [],
   "source": [
    "# ((df1['RefCustId'].isin(list_cs)) & (df1['DebtInCharge']=='CS'))"
   ]
  },
  {
   "cell_type": "code",
   "execution_count": 12,
   "metadata": {},
   "outputs": [],
   "source": [
    "ma_kh_cu_dict = get_ms_df(\"SELECT CustId, RefCustID from AR_Customer\").set_index('CustId').to_dict()['RefCustID']\n",
    "df1['RefCustId'] = df1['CustID'].map(ma_kh_cu_dict)\n",
    "df_phu_trach_no_cs_theo_refcustid = get_ps_df(\"select * from d_phu_trach_no_cs_theo_refcustid\")\n",
    "phu_trach_no_cs_theo_refcustid_dict = get_ps_df(\"select * from d_phu_trach_no_cs_theo_refcustid\").set_index('refcustid').to_dict()['inchargename']\n",
    "list_cs = df_phu_trach_no_cs_theo_refcustid['refcustid'].to_list()\n",
    "df1['ASMName_CS'] = df1['RefCustId'].map(phu_trach_no_cs_theo_refcustid_dict)\n",
    "df1['ASMName'] = np.where( ((df1['RefCustId'].isin(list_cs)) & (df1['DebtInCharge']=='CS')), df1['ASMName_CS'], df1['ASMName'])"
   ]
  },
  {
   "cell_type": "code",
   "execution_count": 13,
   "metadata": {},
   "outputs": [],
   "source": [
    "df_nhansu_sup = dropdup(df_nhansu[['manvcrscrss','quanlytructiep']], 1)"
   ]
  },
  {
   "cell_type": "code",
   "execution_count": 14,
   "metadata": {},
   "outputs": [],
   "source": [
    "df_nhansu_sup['quanlytructiep'] = df_nhansu_sup['quanlytructiep'].str.strip()"
   ]
  },
  {
   "cell_type": "code",
   "execution_count": 15,
   "metadata": {},
   "outputs": [],
   "source": [
    "# df_to_dict(df_nhansu_sup)"
   ]
  },
  {
   "cell_type": "code",
   "execution_count": 16,
   "metadata": {},
   "outputs": [],
   "source": [
    "df1['SupName'] = df1['SupName'].map( df_to_dict(df_nhansu_sup) ).fillna(df1['ASMName'])"
   ]
  },
  {
   "cell_type": "code",
   "execution_count": 17,
   "metadata": {},
   "outputs": [],
   "source": [
    "df_nhansu_rsm = dropdup(df_nhansu[['manvcrscrss','qlvung']], 1)"
   ]
  },
  {
   "cell_type": "code",
   "execution_count": 18,
   "metadata": {},
   "outputs": [],
   "source": [
    "df_nhansu_rsm['qlvung'] = df_nhansu_rsm['qlvung'].str.strip()"
   ]
  },
  {
   "cell_type": "code",
   "execution_count": 19,
   "metadata": {},
   "outputs": [],
   "source": [
    "df1['SupName'] = df1['SupName'].map( df_to_dict(df_nhansu_sup) ).fillna(df1['ASMName'])"
   ]
  },
  {
   "cell_type": "code",
   "execution_count": 20,
   "metadata": {},
   "outputs": [],
   "source": [
    "df1['RSMName'] = df1['RSMName'].map( df_to_dict(df_nhansu_rsm) ).fillna(df1['ASMName'])"
   ]
  },
  {
   "cell_type": "code",
   "execution_count": 21,
   "metadata": {},
   "outputs": [],
   "source": [
    "# ma_kh_cu_dict = get_ms_df(\"SELECT CustId, RefCustID from AR_Customer\").set_index('CustId').to_dict()['RefCustID']\n",
    "# df1['RefCustId'] = df1['CustID'].map(ma_kh_cu_dict)"
   ]
  },
  {
   "cell_type": "code",
   "execution_count": 22,
   "metadata": {},
   "outputs": [],
   "source": [
    "# df_phu_trach_no_cs_theo_refcustid = get_ps_df(\"select * from phu_trach_no_cs_theo_refcustid\")\n",
    "# phu_trach_no_cs_theo_refcustid_dict = get_ps_df(\"select * from phu_trach_no_cs_theo_refcustid\").set_index('refcustid').to_dict()['inchargename']\n",
    "# list_cs = df_phu_trach_no_cs_theo_refcustid['refcustid'].to_list()\n",
    "# df1['ASMName_CS'] = df1['RefCustId'].map(phu_trach_no_cs_theo_refcustid_dict)\n",
    "# df1['ASMName'] = np.where(df1['RefCustId'].isin(list_cs), df1['ASMName_CS'], df1['ASMName'])"
   ]
  },
  {
   "cell_type": "code",
   "execution_count": 23,
   "metadata": {},
   "outputs": [],
   "source": [
    "df1['InChargeName'] =  np.where(df1['DebtInCharge']=='MDS', df1['SlsperName'], df1['ASMName'])"
   ]
  },
  {
   "cell_type": "code",
   "execution_count": 24,
   "metadata": {},
   "outputs": [],
   "source": [
    "# vc(df1, 'ASMName')"
   ]
  },
  {
   "cell_type": "code",
   "execution_count": 25,
   "metadata": {},
   "outputs": [],
   "source": [
    "df_vptt = get_ps_df(\"select * from d_vptt\")\n",
    "df1 = df1.merge(df_vptt, how = 'left', left_on='State', right_on='tinh', suffixes=('_left', '_right'), validate=\"m:1\")"
   ]
  },
  {
   "cell_type": "code",
   "execution_count": 26,
   "metadata": {},
   "outputs": [],
   "source": [
    "df_mkv_viet_tat = get_ps_df(\"select * from d_mkv_viet_tat\").set_index('tenkhuvuc')"
   ]
  },
  {
   "cell_type": "code",
   "execution_count": 27,
   "metadata": {},
   "outputs": [],
   "source": [
    "khuvuc_dict = df_mkv_viet_tat.to_dict()['khuvuc']\n",
    "df1['Territory'] = df1['Territory'].map(khuvuc_dict)"
   ]
  },
  {
   "cell_type": "code",
   "execution_count": 28,
   "metadata": {},
   "outputs": [],
   "source": [
    "df1['Position'] = np.where(df1['DebtInCharge']==\"CS\", \"CS\", df1['Position'])"
   ]
  },
  {
   "cell_type": "code",
   "execution_count": 29,
   "metadata": {},
   "outputs": [],
   "source": [
    "# df1.dtypes"
   ]
  },
  {
   "cell_type": "code",
   "execution_count": 30,
   "metadata": {},
   "outputs": [],
   "source": [
    "# df1['Action_MY'] = df1['OrderDate'].dt.month.astype('str')+df1['OrderDate'].dt.year.astype('str')"
   ]
  },
  {
   "cell_type": "code",
   "execution_count": 31,
   "metadata": {},
   "outputs": [],
   "source": [
    "# df1['Order_MY'] = df1['DateOfOrder'].dt.month.astype('str')+df1['DateOfOrder'].dt.year.astype('str')"
   ]
  },
  {
   "cell_type": "code",
   "execution_count": 32,
   "metadata": {},
   "outputs": [],
   "source": [
    "# df1['ReturnOrdAmt_InMonth'] = np.where( df1['Order_MY']==df1['Action_MY'], df1['ReturnOrdAmt'], 0)\n",
    "# df1['DebConfirmAmtRelease_InMonth'] = np.where( df1['Order_MY']==df1['Action_MY'], df1['DebConfirmAmtRelease'], 0)"
   ]
  },
  {
   "cell_type": "code",
   "execution_count": 33,
   "metadata": {},
   "outputs": [
    {
     "data": {
      "text/html": [
       "<div>\n",
       "<style scoped>\n",
       "    .dataframe tbody tr th:only-of-type {\n",
       "        vertical-align: middle;\n",
       "    }\n",
       "\n",
       "    .dataframe tbody tr th {\n",
       "        vertical-align: top;\n",
       "    }\n",
       "\n",
       "    .dataframe thead th {\n",
       "        text-align: right;\n",
       "    }\n",
       "</style>\n",
       "<table border=\"1\" class=\"dataframe\">\n",
       "  <thead>\n",
       "    <tr style=\"text-align: right;\">\n",
       "      <th></th>\n",
       "      <th>BranchID</th>\n",
       "      <th>BranchName</th>\n",
       "      <th>SupName</th>\n",
       "      <th>ASMName</th>\n",
       "      <th>RSMName</th>\n",
       "      <th>SlsperID</th>\n",
       "      <th>SlsperName</th>\n",
       "      <th>Position</th>\n",
       "      <th>DebtInCharge</th>\n",
       "      <th>PaymentsForm</th>\n",
       "      <th>...</th>\n",
       "      <th>ReasonNoPay</th>\n",
       "      <th>CountDebtConfirm</th>\n",
       "      <th>DebtConfirmAmt</th>\n",
       "      <th>CountDebtConfirmRelease</th>\n",
       "      <th>DebtConfirmAmtRelease</th>\n",
       "      <th>RefCustId</th>\n",
       "      <th>ASMName_CS</th>\n",
       "      <th>InChargeName</th>\n",
       "      <th>tinh</th>\n",
       "      <th>vptt</th>\n",
       "    </tr>\n",
       "  </thead>\n",
       "  <tbody>\n",
       "  </tbody>\n",
       "</table>\n",
       "<p>0 rows × 49 columns</p>\n",
       "</div>"
      ],
      "text/plain": [
       "Empty DataFrame\n",
       "Columns: [BranchID, BranchName, SupName, ASMName, RSMName, SlsperID, SlsperName, Position, DebtInCharge, PaymentsForm, TermsType, OrderDate, OrderNbr, DateOfOrder, DeliveryUnit, DeliveryTime, Terms, DueDate, CustID, CustName, Channels, SubChannel, Territory, Streets, Ward, District, State, Attn, Phone, PhoneCustInvc, CountOpeningOrder, OpeningOrderAmt, CountOrdRelease, OrdAmtRelease, DeliveredOrder, DeliveredOrderAmt, CountReturnOrd, ReturnOrdAmt, ConfirmAmt, ReasonNoPay, CountDebtConfirm, DebtConfirmAmt, CountDebtConfirmRelease, DebtConfirmAmtRelease, RefCustId, ASMName_CS, InChargeName, tinh, vptt]\n",
       "Index: []\n",
       "\n",
       "[0 rows x 49 columns]"
      ]
     },
     "execution_count": 33,
     "metadata": {},
     "output_type": "execute_result"
    }
   ],
   "source": [
    "df1[checkdup(df1, 2, ['BranchID','OrderDate','OrderNbr','DateOfOrder','DueDate'])]"
   ]
  },
  {
   "cell_type": "code",
   "execution_count": 34,
   "metadata": {},
   "outputs": [],
   "source": [
    "groupbylist = [\n",
    "    'OrderNbr', \n",
    "    'BranchID', \n",
    "    'Position',\n",
    "    'SlsperID', \n",
    "    'SupName', \n",
    "    'ASMName', \n",
    "    'RSMName', \n",
    "    'DateOfOrder', \n",
    "    'DueDate',\n",
    "    'CustID',\n",
    "    'RefCustId',\n",
    "    'CustName',\n",
    "    'SlsperName',\n",
    "    'InChargeName',\n",
    "    'DebtInCharge',\n",
    "    'Terms', \n",
    "    'PaymentsForm',\n",
    "    'TermsType',\n",
    "    'Territory', \n",
    "    'State', \n",
    "    'vptt', \n",
    "    'DeliveryUnit',\n",
    "    'Channels',\n",
    "    'SubChannel'\n",
    "    ]"
   ]
  },
  {
   "cell_type": "code",
   "execution_count": 35,
   "metadata": {},
   "outputs": [],
   "source": [
    "aggregate_dict = {\n",
    "'OrderDate': np.max,\n",
    "#Group by tien\n",
    "'OpeningOrderAmt':np.sum,\n",
    "'OrdAmtRelease':np.sum,\n",
    "'DeliveredOrderAmt':np.sum,\n",
    "'ReturnOrdAmt': np.sum,\n",
    "'DebtConfirmAmt': np.sum,\n",
    "'DebtConfirmAmtRelease': np.sum,\n",
    "# Huy & Xac Nhan In Month\n",
    "# 'ReturnOrdAmt_InMonth': np.sum,\n",
    "# 'DebConfirmAmtRelease_InMonth': np.sum,\n",
    "\n",
    "#DonHang8\n",
    "'CountOpeningOrder':np.sum,\n",
    "'CountOrdRelease': np.sum,\n",
    "'DeliveredOrder':np.sum,\n",
    "'CountReturnOrd': np.sum,\n",
    "'CountDebtConfirm': np.sum,\n",
    "'CountDebtConfirmRelease':np.sum\n",
    "}"
   ]
  },
  {
   "cell_type": "code",
   "execution_count": 51,
   "metadata": {},
   "outputs": [],
   "source": [
    "df2 = pivot(df1, groupbylist, aggregate_dict)"
   ]
  },
  {
   "cell_type": "code",
   "execution_count": 52,
   "metadata": {},
   "outputs": [],
   "source": [
    "# df2.columns = [x.lower() for x in df2.columns]"
   ]
  },
  {
   "cell_type": "code",
   "execution_count": 53,
   "metadata": {},
   "outputs": [],
   "source": [
    "# df2[checkdup(df2, 2, ['BranchID','OrderDate','OrderNbr','DateOfOrder','DueDate'])]"
   ]
  },
  {
   "cell_type": "code",
   "execution_count": 54,
   "metadata": {},
   "outputs": [],
   "source": [
    "# df2.columns"
   ]
  },
  {
   "cell_type": "code",
   "execution_count": 55,
   "metadata": {},
   "outputs": [],
   "source": [
    "rename_dict ={\n",
    "# Doanh So\n",
    "'OpeningOrderAmt': 'tiennodauky',\n",
    "'OrdAmtRelease':'tienchotso',\n",
    "'DeliveredOrderAmt':'tiengiaothanhcong',\n",
    "'ReturnOrdAmt':'tienhuydon',\n",
    "'DebtConfirmAmt':'tienlenbangke',\n",
    "'DebtConfirmAmtRelease':'tienthuquyxacnhan',\n",
    "# Huy & Xac Nhan In Month\n",
    "# 'ReturnOrdAmt_InMonth': 'tienhuydon_inmonth',\n",
    "# 'DebConfirmAmtRelease_InMonth': 'tienthuquyxacnhan_inmonth',\n",
    "# Don Hang\n",
    "'CountOpeningOrder': 'dondauky',\n",
    "'CountOrdRelease':'donchotso',\n",
    "'DeliveredOrder':'dongiaothanhcong',\n",
    "'CountReturnOrd':'donhuy',\n",
    "'CountDebtConfirm':'donlenbangke',\n",
    "'CountDebtConfirmRelease':'donthuquyxacnhan'\n",
    "}\n",
    "df2.rename(columns=rename_dict, inplace=True)"
   ]
  },
  {
   "cell_type": "code",
   "execution_count": 56,
   "metadata": {},
   "outputs": [],
   "source": [
    "# df2.to_clipboard()"
   ]
  },
  {
   "cell_type": "code",
   "execution_count": 57,
   "metadata": {},
   "outputs": [],
   "source": [
    "# df2.columns"
   ]
  },
  {
   "cell_type": "code",
   "execution_count": 58,
   "metadata": {},
   "outputs": [
    {
     "data": {
      "text/plain": [
       "Index(['OrderNbr', 'BranchID', 'Position', 'SlsperID', 'SupName', 'ASMName',\n",
       "       'RSMName', 'DateOfOrder', 'DueDate', 'CustID', 'RefCustId', 'CustName',\n",
       "       'SlsperName', 'InChargeName', 'DebtInCharge', 'Terms', 'PaymentsForm',\n",
       "       'TermsType', 'Territory', 'State', 'vptt', 'DeliveryUnit', 'Channels',\n",
       "       'SubChannel', 'OrderDate', 'tiennodauky', 'tienchotso',\n",
       "       'tiengiaothanhcong', 'tienhuydon', 'tienlenbangke', 'tienthuquyxacnhan',\n",
       "       'dondauky', 'donchotso', 'dongiaothanhcong', 'donhuy', 'donlenbangke',\n",
       "       'donthuquyxacnhan'],\n",
       "      dtype='object')"
      ]
     },
     "execution_count": 58,
     "metadata": {},
     "output_type": "execute_result"
    }
   ],
   "source": [
    "df2.columns"
   ]
  },
  {
   "cell_type": "code",
   "execution_count": 59,
   "metadata": {},
   "outputs": [],
   "source": [
    "# update 04/11\n",
    "ctr1 = df2['DeliveryUnit']=='Nhà vận chuyển'\n",
    "ctr2 = df2['donhuy']==0\n",
    "df2['dongiaothanhcong'] = np.where(ctr1&ctr2, 1, df2['dongiaothanhcong'])"
   ]
  },
  {
   "cell_type": "code",
   "execution_count": 60,
   "metadata": {},
   "outputs": [],
   "source": [
    "# update 05/11\n",
    "ctr1 = df2['DeliveryUnit']=='Nhà vận chuyển'\n",
    "ctr2 = df2['tienhuydon']==0\n",
    "df2['tiengiaothanhcong'] = np.where(ctr1&ctr2, df2['tienchotso'], df2['tiengiaothanhcong'])"
   ]
  },
  {
   "cell_type": "code",
   "execution_count": 61,
   "metadata": {},
   "outputs": [],
   "source": [
    "df2['tiennocongty'] = df2['tiennodauky'] + df2['tienchotso'].values - df2['tienhuydon'].values - df2['tienthuquyxacnhan'].values\n",
    "# df2['tiennocongty'] = np.where(df2['chitietnocongty']>0, df2['chitietnocongty'].values, 0)\n",
    "# df2['chitietdonnocongty'] = df2['dondauky'] + df2['donchotso'] - df2['donthuquyxacnhan'] - df2['donhuy']\n",
    "# df2['donnocongty_old'] = df2.apply(lambda x: x['chitietdonnocongty'] if x['chitietdonnocongty']>0 else 0, axis=1)\n",
    "df2['donnocongty'] = np.where(df2['tiennocongty'].values > 0, 1, 0)\n",
    "\n",
    "df2['donchuagiao'] = df2['donchotso'] - df2['dongiaothanhcong'] - df2['donhuy']\n",
    "df2['tiendonchuagiao'] = df2['tienchotso'] - df2['tiengiaothanhcong'] - df2['tienhuydon']\n",
    "\n",
    "# date_now_at_midnight = datetime.now().replace(hour=0, minute=0, second=0, microsecond=0)\n",
    "# df2['OverDueDate'] = np.where(df2['DueDate'].values <= np.datetime64(date_now_at_midnight), True, False)\n",
    "# # df2['OverDueDate'].value_counts()\n",
    "# df2['nodenhan'] = np.where(df2['OverDueDate'].values, df2['tiennocongty'].values, 0)\n",
    "# df2['nochuadenhan'] = np.where(df2['OverDueDate'].values != True, df2['tiennocongty'].values, 0)"
   ]
  },
  {
   "cell_type": "code",
   "execution_count": 62,
   "metadata": {},
   "outputs": [],
   "source": [
    "# df2.to_clipboard()"
   ]
  },
  {
   "cell_type": "code",
   "execution_count": 63,
   "metadata": {},
   "outputs": [],
   "source": [
    "# df2[checkdup(df2, 2, ['BranchID','OrderNbr'])]"
   ]
  },
  {
   "cell_type": "code",
   "execution_count": 64,
   "metadata": {},
   "outputs": [],
   "source": [
    "# ctr1 = df2['DeliveryUnit']=='Nhà vận chuyển'"
   ]
  },
  {
   "cell_type": "code",
   "execution_count": 65,
   "metadata": {},
   "outputs": [],
   "source": [
    "# df3 = df2[ctr1]"
   ]
  },
  {
   "cell_type": "code",
   "execution_count": 67,
   "metadata": {},
   "outputs": [
    {
     "data": {
      "text/plain": [
       "0"
      ]
     },
     "execution_count": 67,
     "metadata": {},
     "output_type": "execute_result"
    }
   ],
   "source": [
    "df2.duplicated().sum()"
   ]
  },
  {
   "cell_type": "code",
   "execution_count": 44,
   "metadata": {},
   "outputs": [
    {
     "data": {
      "text/plain": [
       "Index(['ordernbr', 'branchid', 'position', 'slsperid', 'supname', 'asmname',\n",
       "       'rsmname', 'dateoforder', 'duedate', 'custid', 'refcustid', 'custname',\n",
       "       'slspername', 'inchargename', 'debtincharge', 'terms', 'paymentsform',\n",
       "       'termstype', 'territory', 'state', 'vptt', 'deliveryunit', 'channels',\n",
       "       'subchannel', 'orderdate', 'openingorderamt', 'ordamtrelease',\n",
       "       'deliveredorderamt', 'returnordamt', 'debtconfirmamt',\n",
       "       'debtconfirmamtrelease', 'countopeningorder', 'countordrelease',\n",
       "       'deliveredorder', 'countreturnord', 'countdebtconfirm',\n",
       "       'countdebtconfirmrelease'],\n",
       "      dtype='object')"
      ]
     },
     "execution_count": 44,
     "metadata": {},
     "output_type": "execute_result"
    }
   ],
   "source": [
    "df2.columns"
   ]
  },
  {
   "cell_type": "code",
   "execution_count": 45,
   "metadata": {},
   "outputs": [],
   "source": [
    "# df3.tiendonchuagiao.sum()"
   ]
  },
  {
   "cell_type": "code",
   "execution_count": 46,
   "metadata": {},
   "outputs": [],
   "source": [
    "df2.columns = [x.lower() for x in df2.columns]"
   ]
  },
  {
   "cell_type": "code",
   "execution_count": 47,
   "metadata": {},
   "outputs": [],
   "source": [
    "# df2[checkdup(df2, 2, ['ordernbr', 'branchid', 'dateoforder', 'duedate'])].to_clipboard()"
   ]
  },
  {
   "cell_type": "code",
   "execution_count": 48,
   "metadata": {},
   "outputs": [],
   "source": [
    "df2.columns = [x.lower() for x in df2.columns]\n",
    "trangthaigiaohangdict = {'C':'Đã giao hàng', 'H':'Chưa Xác Nhận', 'D':'KH Không Nhận', 'A':'Đã Xác Nhận', 'R':'Từ Chối Giao Hàng', 'E':'Không Tiếp Tục Giao Hàng'}\n",
    "# get_ms_csv(DELI, 'DELI.csv')\n",
    "DELI=pd.read_csv('DELI.csv', usecols=['BranchID', 'OrderNbr', 'Status'])\n",
    "DELI['BranchID_OrderNbr'] = DELI['BranchID']+DELI['OrderNbr']\n",
    "# DELI.columns\n",
    "DELI = DELI[['BranchID_OrderNbr','Status']]\n",
    "# df2.columns\n",
    "df2['trangthaigiaohang'] = (df2['branchid']+df2['ordernbr']).map(df_to_dict(DELI)).map(trangthaigiaohangdict)\n",
    "# vc(df2,'deliveryunit')"
   ]
  },
  {
   "cell_type": "code",
   "execution_count": 50,
   "metadata": {},
   "outputs": [],
   "source": [
    "# df2=df2[['ordernbr', 'branchid', 'dateoforder', 'duedate', 'tienhuydon_inmonth','tienthuquyxacnhan_inmonth']]"
   ]
  },
  {
   "cell_type": "code",
   "execution_count": 51,
   "metadata": {},
   "outputs": [],
   "source": [
    "primary_keys=['ordernbr', 'branchid', 'dateoforder', 'duedate']"
   ]
  },
  {
   "cell_type": "code",
   "execution_count": 52,
   "metadata": {},
   "outputs": [],
   "source": [
    "df2['inserted_at'] = datetime.now()"
   ]
  },
  {
   "cell_type": "code",
   "execution_count": 54,
   "metadata": {},
   "outputs": [
    {
     "data": {
      "text/html": [
       "<div>\n",
       "<style scoped>\n",
       "    .dataframe tbody tr th:only-of-type {\n",
       "        vertical-align: middle;\n",
       "    }\n",
       "\n",
       "    .dataframe tbody tr th {\n",
       "        vertical-align: top;\n",
       "    }\n",
       "\n",
       "    .dataframe thead th {\n",
       "        text-align: right;\n",
       "    }\n",
       "</style>\n",
       "<table border=\"1\" class=\"dataframe\">\n",
       "  <thead>\n",
       "    <tr style=\"text-align: right;\">\n",
       "      <th></th>\n",
       "      <th>ordernbr</th>\n",
       "      <th>branchid</th>\n",
       "      <th>position</th>\n",
       "      <th>slsperid</th>\n",
       "      <th>supname</th>\n",
       "      <th>asmname</th>\n",
       "      <th>rsmname</th>\n",
       "      <th>dateoforder</th>\n",
       "      <th>duedate</th>\n",
       "      <th>custid</th>\n",
       "      <th>...</th>\n",
       "      <th>tienlenbangke</th>\n",
       "      <th>tienthuquyxacnhan</th>\n",
       "      <th>dondauky</th>\n",
       "      <th>donchotso</th>\n",
       "      <th>dongiaothanhcong</th>\n",
       "      <th>donhuy</th>\n",
       "      <th>donlenbangke</th>\n",
       "      <th>donthuquyxacnhan</th>\n",
       "      <th>trangthaigiaohang</th>\n",
       "      <th>inserted_at</th>\n",
       "    </tr>\n",
       "  </thead>\n",
       "  <tbody>\n",
       "    <tr>\n",
       "      <th>0</th>\n",
       "      <td>DH012017-12644</td>\n",
       "      <td>MR0003</td>\n",
       "      <td>CS</td>\n",
       "      <td>MR2168</td>\n",
       "      <td>Lương Tấn Khả</td>\n",
       "      <td>Lương Tấn Khả</td>\n",
       "      <td>Lương Tấn Khả</td>\n",
       "      <td>2017-01-18</td>\n",
       "      <td>2017-04-18</td>\n",
       "      <td>TD42I014</td>\n",
       "      <td>...</td>\n",
       "      <td>0.0</td>\n",
       "      <td>0.0</td>\n",
       "      <td>1</td>\n",
       "      <td>0</td>\n",
       "      <td>0</td>\n",
       "      <td>0</td>\n",
       "      <td>0</td>\n",
       "      <td>0</td>\n",
       "      <td>NaN</td>\n",
       "      <td>2021-11-11 15:28:41.303347</td>\n",
       "    </tr>\n",
       "    <tr>\n",
       "      <th>1</th>\n",
       "      <td>DH012017-13345</td>\n",
       "      <td>MR0001</td>\n",
       "      <td>CS</td>\n",
       "      <td>MR0456</td>\n",
       "      <td>Lương Tấn Khả</td>\n",
       "      <td>Lương Tấn Khả</td>\n",
       "      <td>Lương Tấn Khả</td>\n",
       "      <td>2017-01-18</td>\n",
       "      <td>2017-04-18</td>\n",
       "      <td>N02209270</td>\n",
       "      <td>...</td>\n",
       "      <td>0.0</td>\n",
       "      <td>0.0</td>\n",
       "      <td>1</td>\n",
       "      <td>0</td>\n",
       "      <td>0</td>\n",
       "      <td>0</td>\n",
       "      <td>0</td>\n",
       "      <td>0</td>\n",
       "      <td>NaN</td>\n",
       "      <td>2021-11-11 15:28:41.303347</td>\n",
       "    </tr>\n",
       "    <tr>\n",
       "      <th>2</th>\n",
       "      <td>DH012017-13346</td>\n",
       "      <td>MR0001</td>\n",
       "      <td>CS</td>\n",
       "      <td>MR0456</td>\n",
       "      <td>Lương Tấn Khả</td>\n",
       "      <td>Lương Tấn Khả</td>\n",
       "      <td>Lương Tấn Khả</td>\n",
       "      <td>2017-01-18</td>\n",
       "      <td>2017-04-18</td>\n",
       "      <td>N02209270</td>\n",
       "      <td>...</td>\n",
       "      <td>0.0</td>\n",
       "      <td>0.0</td>\n",
       "      <td>1</td>\n",
       "      <td>0</td>\n",
       "      <td>0</td>\n",
       "      <td>0</td>\n",
       "      <td>0</td>\n",
       "      <td>0</td>\n",
       "      <td>NaN</td>\n",
       "      <td>2021-11-11 15:28:41.303347</td>\n",
       "    </tr>\n",
       "    <tr>\n",
       "      <th>3</th>\n",
       "      <td>DH012017-13360</td>\n",
       "      <td>MR0001</td>\n",
       "      <td>CS</td>\n",
       "      <td>MR0456</td>\n",
       "      <td>Lương Tấn Khả</td>\n",
       "      <td>Lương Tấn Khả</td>\n",
       "      <td>Lương Tấn Khả</td>\n",
       "      <td>2017-01-18</td>\n",
       "      <td>2017-04-18</td>\n",
       "      <td>N02209270</td>\n",
       "      <td>...</td>\n",
       "      <td>0.0</td>\n",
       "      <td>0.0</td>\n",
       "      <td>1</td>\n",
       "      <td>0</td>\n",
       "      <td>0</td>\n",
       "      <td>0</td>\n",
       "      <td>0</td>\n",
       "      <td>0</td>\n",
       "      <td>NaN</td>\n",
       "      <td>2021-11-11 15:28:41.303347</td>\n",
       "    </tr>\n",
       "    <tr>\n",
       "      <th>4</th>\n",
       "      <td>DH012019-05622</td>\n",
       "      <td>MR0003</td>\n",
       "      <td>CS</td>\n",
       "      <td>MR2168</td>\n",
       "      <td>Lê Thị Mai Phương</td>\n",
       "      <td>Lê Thị Mai Phương</td>\n",
       "      <td>Lê Thị Mai Phương</td>\n",
       "      <td>2019-01-10</td>\n",
       "      <td>2019-04-10</td>\n",
       "      <td>TD30I028</td>\n",
       "      <td>...</td>\n",
       "      <td>0.0</td>\n",
       "      <td>0.0</td>\n",
       "      <td>1</td>\n",
       "      <td>0</td>\n",
       "      <td>0</td>\n",
       "      <td>0</td>\n",
       "      <td>0</td>\n",
       "      <td>0</td>\n",
       "      <td>NaN</td>\n",
       "      <td>2021-11-11 15:28:41.303347</td>\n",
       "    </tr>\n",
       "    <tr>\n",
       "      <th>...</th>\n",
       "      <td>...</td>\n",
       "      <td>...</td>\n",
       "      <td>...</td>\n",
       "      <td>...</td>\n",
       "      <td>...</td>\n",
       "      <td>...</td>\n",
       "      <td>...</td>\n",
       "      <td>...</td>\n",
       "      <td>...</td>\n",
       "      <td>...</td>\n",
       "      <td>...</td>\n",
       "      <td>...</td>\n",
       "      <td>...</td>\n",
       "      <td>...</td>\n",
       "      <td>...</td>\n",
       "      <td>...</td>\n",
       "      <td>...</td>\n",
       "      <td>...</td>\n",
       "      <td>...</td>\n",
       "      <td>...</td>\n",
       "      <td>...</td>\n",
       "    </tr>\n",
       "    <tr>\n",
       "      <th>106596</th>\n",
       "      <td>DH122020-39619</td>\n",
       "      <td>MR0013</td>\n",
       "      <td>CS</td>\n",
       "      <td>MR1768</td>\n",
       "      <td>Đinh Thị Ngọc Mẫn</td>\n",
       "      <td>Đinh Thị Ngọc Mẫn</td>\n",
       "      <td>Đinh Thị Ngọc Mẫn</td>\n",
       "      <td>2020-12-30</td>\n",
       "      <td>2021-03-30</td>\n",
       "      <td>N0110332</td>\n",
       "      <td>...</td>\n",
       "      <td>7400000.0</td>\n",
       "      <td>7400000.0</td>\n",
       "      <td>1</td>\n",
       "      <td>0</td>\n",
       "      <td>0</td>\n",
       "      <td>0</td>\n",
       "      <td>1</td>\n",
       "      <td>1</td>\n",
       "      <td>NaN</td>\n",
       "      <td>2021-11-11 15:28:41.303347</td>\n",
       "    </tr>\n",
       "    <tr>\n",
       "      <th>106597</th>\n",
       "      <td>DH122020-39846</td>\n",
       "      <td>MR0010</td>\n",
       "      <td>CS</td>\n",
       "      <td>MR2000</td>\n",
       "      <td>Lê Thị Mai Phương</td>\n",
       "      <td>Lê Thị Mai Phương</td>\n",
       "      <td>Lê Thị Mai Phương</td>\n",
       "      <td>2020-12-30</td>\n",
       "      <td>2021-03-30</td>\n",
       "      <td>HH04E001</td>\n",
       "      <td>...</td>\n",
       "      <td>3700001.0</td>\n",
       "      <td>3700001.0</td>\n",
       "      <td>1</td>\n",
       "      <td>0</td>\n",
       "      <td>0</td>\n",
       "      <td>0</td>\n",
       "      <td>1</td>\n",
       "      <td>1</td>\n",
       "      <td>NaN</td>\n",
       "      <td>2021-11-11 15:28:41.303347</td>\n",
       "    </tr>\n",
       "    <tr>\n",
       "      <th>106598</th>\n",
       "      <td>DH122020-39876</td>\n",
       "      <td>MR0001</td>\n",
       "      <td>CS</td>\n",
       "      <td>MR2081</td>\n",
       "      <td>Lương Tấn Khả</td>\n",
       "      <td>Lương Tấn Khả</td>\n",
       "      <td>Lương Tấn Khả</td>\n",
       "      <td>2020-12-30</td>\n",
       "      <td>2021-03-30</td>\n",
       "      <td>TN90I018</td>\n",
       "      <td>...</td>\n",
       "      <td>0.0</td>\n",
       "      <td>0.0</td>\n",
       "      <td>1</td>\n",
       "      <td>0</td>\n",
       "      <td>0</td>\n",
       "      <td>0</td>\n",
       "      <td>0</td>\n",
       "      <td>0</td>\n",
       "      <td>NaN</td>\n",
       "      <td>2021-11-11 15:28:41.303347</td>\n",
       "    </tr>\n",
       "    <tr>\n",
       "      <th>106599</th>\n",
       "      <td>DH122020-40762</td>\n",
       "      <td>MR0001</td>\n",
       "      <td>CS</td>\n",
       "      <td>MR0246</td>\n",
       "      <td>Phạm Thị Cẩm Tú</td>\n",
       "      <td>Phạm Thị Cẩm Tú</td>\n",
       "      <td>Phạm Thị Cẩm Tú</td>\n",
       "      <td>2020-12-31</td>\n",
       "      <td>2021-03-31</td>\n",
       "      <td>M100902</td>\n",
       "      <td>...</td>\n",
       "      <td>1920000.0</td>\n",
       "      <td>1920000.0</td>\n",
       "      <td>1</td>\n",
       "      <td>0</td>\n",
       "      <td>0</td>\n",
       "      <td>0</td>\n",
       "      <td>1</td>\n",
       "      <td>1</td>\n",
       "      <td>NaN</td>\n",
       "      <td>2021-11-11 15:28:41.303347</td>\n",
       "    </tr>\n",
       "    <tr>\n",
       "      <th>106600</th>\n",
       "      <td>DH122020-40763</td>\n",
       "      <td>MR0001</td>\n",
       "      <td>CS</td>\n",
       "      <td>MR0246</td>\n",
       "      <td>Phạm Thị Cẩm Tú</td>\n",
       "      <td>Phạm Thị Cẩm Tú</td>\n",
       "      <td>Phạm Thị Cẩm Tú</td>\n",
       "      <td>2020-12-31</td>\n",
       "      <td>2021-01-30</td>\n",
       "      <td>M100903</td>\n",
       "      <td>...</td>\n",
       "      <td>1800000.0</td>\n",
       "      <td>1800000.0</td>\n",
       "      <td>1</td>\n",
       "      <td>0</td>\n",
       "      <td>0</td>\n",
       "      <td>0</td>\n",
       "      <td>1</td>\n",
       "      <td>1</td>\n",
       "      <td>NaN</td>\n",
       "      <td>2021-11-11 15:28:41.303347</td>\n",
       "    </tr>\n",
       "  </tbody>\n",
       "</table>\n",
       "<p>106600 rows × 39 columns</p>\n",
       "</div>"
      ],
      "text/plain": [
       "              ordernbr branchid position slsperid            supname  \\\n",
       "0       DH012017-12644   MR0003       CS   MR2168      Lương Tấn Khả   \n",
       "1       DH012017-13345   MR0001       CS   MR0456      Lương Tấn Khả   \n",
       "2       DH012017-13346   MR0001       CS   MR0456      Lương Tấn Khả   \n",
       "3       DH012017-13360   MR0001       CS   MR0456      Lương Tấn Khả   \n",
       "4       DH012019-05622   MR0003       CS   MR2168  Lê Thị Mai Phương   \n",
       "...                ...      ...      ...      ...                ...   \n",
       "106596  DH122020-39619   MR0013       CS   MR1768  Đinh Thị Ngọc Mẫn   \n",
       "106597  DH122020-39846   MR0010       CS   MR2000  Lê Thị Mai Phương   \n",
       "106598  DH122020-39876   MR0001       CS   MR2081      Lương Tấn Khả   \n",
       "106599  DH122020-40762   MR0001       CS   MR0246    Phạm Thị Cẩm Tú   \n",
       "106600  DH122020-40763   MR0001       CS   MR0246    Phạm Thị Cẩm Tú   \n",
       "\n",
       "                  asmname            rsmname dateoforder    duedate  \\\n",
       "0           Lương Tấn Khả      Lương Tấn Khả  2017-01-18 2017-04-18   \n",
       "1           Lương Tấn Khả      Lương Tấn Khả  2017-01-18 2017-04-18   \n",
       "2           Lương Tấn Khả      Lương Tấn Khả  2017-01-18 2017-04-18   \n",
       "3           Lương Tấn Khả      Lương Tấn Khả  2017-01-18 2017-04-18   \n",
       "4       Lê Thị Mai Phương  Lê Thị Mai Phương  2019-01-10 2019-04-10   \n",
       "...                   ...                ...         ...        ...   \n",
       "106596  Đinh Thị Ngọc Mẫn  Đinh Thị Ngọc Mẫn  2020-12-30 2021-03-30   \n",
       "106597  Lê Thị Mai Phương  Lê Thị Mai Phương  2020-12-30 2021-03-30   \n",
       "106598      Lương Tấn Khả      Lương Tấn Khả  2020-12-30 2021-03-30   \n",
       "106599    Phạm Thị Cẩm Tú    Phạm Thị Cẩm Tú  2020-12-31 2021-03-31   \n",
       "106600    Phạm Thị Cẩm Tú    Phạm Thị Cẩm Tú  2020-12-31 2021-01-30   \n",
       "\n",
       "           custid  ... tienlenbangke tienthuquyxacnhan dondauky donchotso  \\\n",
       "0        TD42I014  ...           0.0               0.0        1         0   \n",
       "1       N02209270  ...           0.0               0.0        1         0   \n",
       "2       N02209270  ...           0.0               0.0        1         0   \n",
       "3       N02209270  ...           0.0               0.0        1         0   \n",
       "4        TD30I028  ...           0.0               0.0        1         0   \n",
       "...           ...  ...           ...               ...      ...       ...   \n",
       "106596   N0110332  ...     7400000.0         7400000.0        1         0   \n",
       "106597   HH04E001  ...     3700001.0         3700001.0        1         0   \n",
       "106598   TN90I018  ...           0.0               0.0        1         0   \n",
       "106599    M100902  ...     1920000.0         1920000.0        1         0   \n",
       "106600    M100903  ...     1800000.0         1800000.0        1         0   \n",
       "\n",
       "       dongiaothanhcong donhuy donlenbangke donthuquyxacnhan  \\\n",
       "0                     0      0            0                0   \n",
       "1                     0      0            0                0   \n",
       "2                     0      0            0                0   \n",
       "3                     0      0            0                0   \n",
       "4                     0      0            0                0   \n",
       "...                 ...    ...          ...              ...   \n",
       "106596                0      0            1                1   \n",
       "106597                0      0            1                1   \n",
       "106598                0      0            0                0   \n",
       "106599                0      0            1                1   \n",
       "106600                0      0            1                1   \n",
       "\n",
       "       trangthaigiaohang                inserted_at  \n",
       "0                    NaN 2021-11-11 15:28:41.303347  \n",
       "1                    NaN 2021-11-11 15:28:41.303347  \n",
       "2                    NaN 2021-11-11 15:28:41.303347  \n",
       "3                    NaN 2021-11-11 15:28:41.303347  \n",
       "4                    NaN 2021-11-11 15:28:41.303347  \n",
       "...                  ...                        ...  \n",
       "106596               NaN 2021-11-11 15:28:41.303347  \n",
       "106597               NaN 2021-11-11 15:28:41.303347  \n",
       "106598               NaN 2021-11-11 15:28:41.303347  \n",
       "106599               NaN 2021-11-11 15:28:41.303347  \n",
       "106600               NaN 2021-11-11 15:28:41.303347  \n",
       "\n",
       "[106600 rows x 39 columns]"
      ]
     },
     "execution_count": 54,
     "metadata": {},
     "output_type": "execute_result"
    }
   ],
   "source": [
    "dropdup(df2,1,['ordernbr', 'branchid', 'dateoforder', 'duedate'])"
   ]
  },
  {
   "cell_type": "code",
   "execution_count": 56,
   "metadata": {},
   "outputs": [
    {
     "data": {
      "text/html": [
       "<div>\n",
       "<style scoped>\n",
       "    .dataframe tbody tr th:only-of-type {\n",
       "        vertical-align: middle;\n",
       "    }\n",
       "\n",
       "    .dataframe tbody tr th {\n",
       "        vertical-align: top;\n",
       "    }\n",
       "\n",
       "    .dataframe thead th {\n",
       "        text-align: right;\n",
       "    }\n",
       "</style>\n",
       "<table border=\"1\" class=\"dataframe\">\n",
       "  <thead>\n",
       "    <tr style=\"text-align: right;\">\n",
       "      <th></th>\n",
       "      <th>ordernbr</th>\n",
       "      <th>branchid</th>\n",
       "      <th>position</th>\n",
       "      <th>slsperid</th>\n",
       "      <th>supname</th>\n",
       "      <th>asmname</th>\n",
       "      <th>rsmname</th>\n",
       "      <th>dateoforder</th>\n",
       "      <th>duedate</th>\n",
       "      <th>custid</th>\n",
       "      <th>...</th>\n",
       "      <th>tienlenbangke</th>\n",
       "      <th>tienthuquyxacnhan</th>\n",
       "      <th>dondauky</th>\n",
       "      <th>donchotso</th>\n",
       "      <th>dongiaothanhcong</th>\n",
       "      <th>donhuy</th>\n",
       "      <th>donlenbangke</th>\n",
       "      <th>donthuquyxacnhan</th>\n",
       "      <th>trangthaigiaohang</th>\n",
       "      <th>inserted_at</th>\n",
       "    </tr>\n",
       "  </thead>\n",
       "  <tbody>\n",
       "    <tr>\n",
       "      <th>105655</th>\n",
       "      <td>DH112021-01987</td>\n",
       "      <td>MR0001</td>\n",
       "      <td>CS</td>\n",
       "      <td>MR2081</td>\n",
       "      <td>Lê Thị Mai Phương</td>\n",
       "      <td>Lê Thị Mai Phương</td>\n",
       "      <td>Lê Thị Mai Phương</td>\n",
       "      <td>2021-11-10</td>\n",
       "      <td>2022-02-08</td>\n",
       "      <td>TN90I048</td>\n",
       "      <td>...</td>\n",
       "      <td>0.0</td>\n",
       "      <td>0.0</td>\n",
       "      <td>0</td>\n",
       "      <td>1</td>\n",
       "      <td>0</td>\n",
       "      <td>0</td>\n",
       "      <td>0</td>\n",
       "      <td>0</td>\n",
       "      <td>NaN</td>\n",
       "      <td>2021-11-11 15:28:41.303347</td>\n",
       "    </tr>\n",
       "    <tr>\n",
       "      <th>105656</th>\n",
       "      <td>DH112021-01987</td>\n",
       "      <td>MR0001</td>\n",
       "      <td>CS</td>\n",
       "      <td>MR2081</td>\n",
       "      <td>Lê Thị Mai Phương</td>\n",
       "      <td>Lê Thị Mai Phương</td>\n",
       "      <td>Lê Thị Mai Phương</td>\n",
       "      <td>2021-11-10</td>\n",
       "      <td>2022-02-08</td>\n",
       "      <td>TN90I048</td>\n",
       "      <td>...</td>\n",
       "      <td>0.0</td>\n",
       "      <td>0.0</td>\n",
       "      <td>0</td>\n",
       "      <td>0</td>\n",
       "      <td>1</td>\n",
       "      <td>0</td>\n",
       "      <td>0</td>\n",
       "      <td>0</td>\n",
       "      <td>NaN</td>\n",
       "      <td>2021-11-11 15:28:41.303347</td>\n",
       "    </tr>\n",
       "  </tbody>\n",
       "</table>\n",
       "<p>2 rows × 39 columns</p>\n",
       "</div>"
      ],
      "text/plain": [
       "              ordernbr branchid position slsperid            supname  \\\n",
       "105655  DH112021-01987   MR0001       CS   MR2081  Lê Thị Mai Phương   \n",
       "105656  DH112021-01987   MR0001       CS   MR2081  Lê Thị Mai Phương   \n",
       "\n",
       "                  asmname            rsmname dateoforder    duedate    custid  \\\n",
       "105655  Lê Thị Mai Phương  Lê Thị Mai Phương  2021-11-10 2022-02-08  TN90I048   \n",
       "105656  Lê Thị Mai Phương  Lê Thị Mai Phương  2021-11-10 2022-02-08  TN90I048   \n",
       "\n",
       "        ... tienlenbangke tienthuquyxacnhan dondauky donchotso  \\\n",
       "105655  ...           0.0               0.0        0         1   \n",
       "105656  ...           0.0               0.0        0         0   \n",
       "\n",
       "       dongiaothanhcong donhuy donlenbangke donthuquyxacnhan  \\\n",
       "105655                0      0            0                0   \n",
       "105656                1      0            0                0   \n",
       "\n",
       "       trangthaigiaohang                inserted_at  \n",
       "105655               NaN 2021-11-11 15:28:41.303347  \n",
       "105656               NaN 2021-11-11 15:28:41.303347  \n",
       "\n",
       "[2 rows x 39 columns]"
      ]
     },
     "execution_count": 56,
     "metadata": {},
     "output_type": "execute_result"
    }
   ],
   "source": [
    "df2[checkdup(df2, 2, ['ordernbr', 'branchid', 'dateoforder', 'duedate'])]"
   ]
  },
  {
   "cell_type": "code",
   "execution_count": 60,
   "metadata": {},
   "outputs": [],
   "source": [
    "# rows = [tuple(x) for x in df2.to_numpy()]"
   ]
  },
  {
   "cell_type": "code",
   "execution_count": 61,
   "metadata": {},
   "outputs": [],
   "source": [
    "# from datetime import datetime\n",
    "# import pandas as pd\n",
    "# import numpy as np\n",
    "# import psycopg2.extras as extras\n",
    "# from psycopg2 import OperationalError, errorcodes, errors\n",
    "# import psycopg2\n",
    "# from utils.df_handle import *"
   ]
  },
  {
   "cell_type": "code",
   "execution_count": 62,
   "metadata": {},
   "outputs": [],
   "source": [
    "# conn = get_pg2_conn()"
   ]
  },
  {
   "cell_type": "code",
   "execution_count": 63,
   "metadata": {},
   "outputs": [],
   "source": []
  },
  {
   "cell_type": "code",
   "execution_count": 64,
   "metadata": {},
   "outputs": [],
   "source": [
    "df2.to_csv('df2.csv')"
   ]
  },
  {
   "cell_type": "code",
   "execution_count": null,
   "metadata": {},
   "outputs": [],
   "source": [
    "# TRUNCATE TABLE invoices CASCADE;"
   ]
  },
  {
   "cell_type": "code",
   "execution_count": null,
   "metadata": {},
   "outputs": [],
   "source": [
    "commit_psql(\"truncate table f_tracking_debt cascade;\")"
   ]
  },
  {
   "cell_type": "code",
   "execution_count": 49,
   "metadata": {},
   "outputs": [
    {
     "name": "stdout",
     "output_type": "stream",
     "text": [
      "INSERT INTO f_tracking_debt(ordernbr,branchid,position,slsperid,supname,asmname,rsmname,dateoforder,duedate,custid,refcustid,custname,slspername,inchargename,debtincharge,terms,paymentsform,termstype,territory,state,vptt,deliveryunit,channels,subchannel,orderdate,tiennodauky,tienchotso,tiengiaothanhcong,tienhuydon,tienlenbangke,tienthuquyxacnhan,dondauky,donchotso,dongiaothanhcong,donhuy,donlenbangke,donthuquyxacnhan,tiennocongty,donnocongty,donchuagiao,tiendonchuagiao,trangthaigiaohang,inserted_at) VALUES %s ON CONFLICT (ordernbr, branchid, dateoforder, duedate) DO UPDATE SET position = excluded.position, slsperid = excluded.slsperid, supname = excluded.supname, asmname = excluded.asmname, rsmname = excluded.rsmname, custid = excluded.custid, refcustid = excluded.refcustid, custname = excluded.custname, slspername = excluded.slspername, inchargename = excluded.inchargename, debtincharge = excluded.debtincharge, terms = excluded.terms, paymentsform = excluded.paymentsform, termstype = excluded.termstype, territory = excluded.territory, state = excluded.state, vptt = excluded.vptt, deliveryunit = excluded.deliveryunit, channels = excluded.channels, subchannel = excluded.subchannel, orderdate = excluded.orderdate, tiennodauky = excluded.tiennodauky, tienchotso = excluded.tienchotso, tiengiaothanhcong = excluded.tiengiaothanhcong, tienhuydon = excluded.tienhuydon, tienlenbangke = excluded.tienlenbangke, tienthuquyxacnhan = excluded.tienthuquyxacnhan, dondauky = excluded.dondauky, donchotso = excluded.donchotso, dongiaothanhcong = excluded.dongiaothanhcong, donhuy = excluded.donhuy, donlenbangke = excluded.donlenbangke, donthuquyxacnhan = excluded.donthuquyxacnhan, tiennocongty = excluded.tiennocongty, donnocongty = excluded.donnocongty, donchuagiao = excluded.donchuagiao, tiendonchuagiao = excluded.tiendonchuagiao, trangthaigiaohang = excluded.trangthaigiaohang, inserted_at = excluded.inserted_at\n",
      "Data inserted using execute_values() successfully..\n"
     ]
    }
   ],
   "source": [
    "execute_values_upsert(df2, 'f_tracking_debt', pk=primary_keys)"
   ]
  },
  {
   "cell_type": "code",
   "execution_count": 46,
   "metadata": {},
   "outputs": [
    {
     "name": "stdout",
     "output_type": "stream",
     "text": [
      "Loaded %s rows into %s so far 1000 f_tracking_debt\n",
      "Loaded %s rows into %s so far 2000 f_tracking_debt\n",
      "Loaded %s rows into %s so far 3000 f_tracking_debt\n",
      "Loaded %s rows into %s so far 4000 f_tracking_debt\n",
      "Loaded %s rows into %s so far 5000 f_tracking_debt\n",
      "Loaded %s rows into %s so far 6000 f_tracking_debt\n",
      "Loaded %s rows into %s so far 7000 f_tracking_debt\n",
      "Loaded %s rows into %s so far 8000 f_tracking_debt\n",
      "Loaded %s rows into %s so far 9000 f_tracking_debt\n",
      "Loaded %s rows into %s so far 10000 f_tracking_debt\n",
      "Loaded %s rows into %s so far 11000 f_tracking_debt\n",
      "Loaded %s rows into %s so far 12000 f_tracking_debt\n",
      "Loaded %s rows into %s so far 13000 f_tracking_debt\n",
      "Loaded %s rows into %s so far 14000 f_tracking_debt\n",
      "Loaded %s rows into %s so far 15000 f_tracking_debt\n",
      "Loaded %s rows into %s so far 16000 f_tracking_debt\n",
      "Loaded %s rows into %s so far 17000 f_tracking_debt\n",
      "Loaded %s rows into %s so far 18000 f_tracking_debt\n",
      "Loaded %s rows into %s so far 19000 f_tracking_debt\n",
      "Loaded %s rows into %s so far 20000 f_tracking_debt\n",
      "Loaded %s rows into %s so far 21000 f_tracking_debt\n",
      "Loaded %s rows into %s so far 22000 f_tracking_debt\n",
      "Loaded %s rows into %s so far 23000 f_tracking_debt\n",
      "Loaded %s rows into %s so far 24000 f_tracking_debt\n",
      "Loaded %s rows into %s so far 25000 f_tracking_debt\n",
      "Loaded %s rows into %s so far 26000 f_tracking_debt\n",
      "Loaded %s rows into %s so far 27000 f_tracking_debt\n",
      "Loaded %s rows into %s so far 28000 f_tracking_debt\n",
      "Loaded %s rows into %s so far 29000 f_tracking_debt\n",
      "Loaded %s rows into %s so far 30000 f_tracking_debt\n",
      "Loaded %s rows into %s so far 31000 f_tracking_debt\n",
      "Loaded %s rows into %s so far 32000 f_tracking_debt\n",
      "Loaded %s rows into %s so far 33000 f_tracking_debt\n",
      "Loaded %s rows into %s so far 34000 f_tracking_debt\n",
      "Loaded %s rows into %s so far 35000 f_tracking_debt\n",
      "Loaded %s rows into %s so far 36000 f_tracking_debt\n",
      "Loaded %s rows into %s so far 37000 f_tracking_debt\n",
      "Loaded %s rows into %s so far 38000 f_tracking_debt\n",
      "Loaded %s rows into %s so far 39000 f_tracking_debt\n",
      "Loaded %s rows into %s so far 40000 f_tracking_debt\n",
      "Loaded %s rows into %s so far 41000 f_tracking_debt\n",
      "Loaded %s rows into %s so far 42000 f_tracking_debt\n",
      "Loaded %s rows into %s so far 43000 f_tracking_debt\n",
      "Loaded %s rows into %s so far 44000 f_tracking_debt\n",
      "Loaded %s rows into %s so far 45000 f_tracking_debt\n",
      "Loaded %s rows into %s so far 46000 f_tracking_debt\n",
      "Loaded %s rows into %s so far 47000 f_tracking_debt\n",
      "Loaded %s rows into %s so far 48000 f_tracking_debt\n",
      "Loaded %s rows into %s so far 49000 f_tracking_debt\n",
      "Loaded %s rows into %s so far 50000 f_tracking_debt\n",
      "Loaded %s rows into %s so far 51000 f_tracking_debt\n",
      "Loaded %s rows into %s so far 52000 f_tracking_debt\n",
      "Loaded %s rows into %s so far 53000 f_tracking_debt\n",
      "Loaded %s rows into %s so far 54000 f_tracking_debt\n",
      "Loaded %s rows into %s so far 55000 f_tracking_debt\n",
      "Loaded %s rows into %s so far 56000 f_tracking_debt\n",
      "Loaded %s rows into %s so far 57000 f_tracking_debt\n",
      "Loaded %s rows into %s so far 58000 f_tracking_debt\n",
      "Loaded %s rows into %s so far 59000 f_tracking_debt\n",
      "Loaded %s rows into %s so far 60000 f_tracking_debt\n",
      "Loaded %s rows into %s so far 61000 f_tracking_debt\n",
      "Loaded %s rows into %s so far 62000 f_tracking_debt\n",
      "Loaded %s rows into %s so far 63000 f_tracking_debt\n",
      "Loaded %s rows into %s so far 64000 f_tracking_debt\n",
      "Loaded %s rows into %s so far 65000 f_tracking_debt\n",
      "Loaded %s rows into %s so far 66000 f_tracking_debt\n",
      "Loaded %s rows into %s so far 67000 f_tracking_debt\n",
      "Loaded %s rows into %s so far 68000 f_tracking_debt\n",
      "Loaded %s rows into %s so far 69000 f_tracking_debt\n",
      "Loaded %s rows into %s so far 70000 f_tracking_debt\n",
      "Loaded %s rows into %s so far 71000 f_tracking_debt\n",
      "Loaded %s rows into %s so far 72000 f_tracking_debt\n",
      "Loaded %s rows into %s so far 73000 f_tracking_debt\n",
      "Loaded %s rows into %s so far 74000 f_tracking_debt\n",
      "Loaded %s rows into %s so far 75000 f_tracking_debt\n",
      "Loaded %s rows into %s so far 76000 f_tracking_debt\n",
      "Loaded %s rows into %s so far 77000 f_tracking_debt\n",
      "Loaded %s rows into %s so far 78000 f_tracking_debt\n",
      "Loaded %s rows into %s so far 79000 f_tracking_debt\n",
      "Loaded %s rows into %s so far 80000 f_tracking_debt\n",
      "Loaded %s rows into %s so far 81000 f_tracking_debt\n",
      "Loaded %s rows into %s so far 82000 f_tracking_debt\n",
      "Loaded %s rows into %s so far 83000 f_tracking_debt\n",
      "Loaded %s rows into %s so far 84000 f_tracking_debt\n",
      "Loaded %s rows into %s so far 85000 f_tracking_debt\n",
      "Loaded %s rows into %s so far 86000 f_tracking_debt\n",
      "Loaded %s rows into %s so far 87000 f_tracking_debt\n",
      "Loaded %s rows into %s so far 88000 f_tracking_debt\n",
      "Loaded %s rows into %s so far 89000 f_tracking_debt\n",
      "Loaded %s rows into %s so far 90000 f_tracking_debt\n",
      "Loaded %s rows into %s so far 91000 f_tracking_debt\n",
      "Loaded %s rows into %s so far 92000 f_tracking_debt\n",
      "Loaded %s rows into %s so far 93000 f_tracking_debt\n",
      "Done loading. Loaded a total of %s rows 93047\n"
     ]
    }
   ],
   "source": [
    "# insert_rows_psql(table='f_tracking_debt', rows=rows, replace=True, target_fields=[x.lower() for x in df2.columns], replace_index=primary_keys)"
   ]
  },
  {
   "cell_type": "code",
   "execution_count": 40,
   "metadata": {},
   "outputs": [],
   "source": [
    "# insert_df_to_postgres(tbl_name=\"f_tracking_debt\", df=df2, primary_keys=primary_keys)"
   ]
  },
  {
   "cell_type": "code",
   "execution_count": 41,
   "metadata": {},
   "outputs": [],
   "source": [
    "# df2.to_clipboard()"
   ]
  },
  {
   "cell_type": "code",
   "execution_count": null,
   "metadata": {},
   "outputs": [],
   "source": []
  }
 ],
 "metadata": {
  "interpreter": {
   "hash": "f94d6dad5013d632e8b52fc362848c71d5234e1d7ba23afa22c3a2e55512dabd"
  },
  "kernelspec": {
   "display_name": "Python 3.9.6 64-bit ('venv': venv)",
   "name": "python3"
  },
  "language_info": {
   "codemirror_mode": {
    "name": "ipython",
    "version": 3
   },
   "file_extension": ".py",
   "mimetype": "text/x-python",
   "name": "python",
   "nbconvert_exporter": "python",
   "pygments_lexer": "ipython3",
   "version": "3.9.6"
  }
 },
 "nbformat": 4,
 "nbformat_minor": 2
}
