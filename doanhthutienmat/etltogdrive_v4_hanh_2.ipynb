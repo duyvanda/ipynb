{
 "cells": [
  {
   "cell_type": "code",
   "execution_count": 6,
   "source": [
    "import sys\r\n",
    "import os\r\n",
    "from datetime import datetime\r\n",
    "from datetime import datetime\r\n",
    "import pandas as pd\r\n",
    "import numpy as np\r\n",
    "print(os.path.dirname(sys.executable))\r\n",
    "df1 = pd.read_csv('doanhthutienmat_data3.csv', dayfirst=True, parse_dates=['DateOfOrder', 'DueDate'])\r\n",
    "df1['OrdAmtRelease'].sum()\r\n",
    "df_vptt = pd.read_csv('pvtt.csv')\r\n",
    "df1 = df1.merge(df_vptt, how = 'left', left_on='State', right_on='tinh',suffixes=('_left', '_right'), validate=\"m:1\")\r\n",
    "df_nhommds = pd.read_csv('nhommds.csv')\r\n",
    "df1 = df1.merge(df_nhommds, how = 'left', left_on='SlsperName', right_on='hovatenmds',suffixes=('_left', '_right'), validate=\"m:1\")\r\n",
    "# df1.SupName.str.contains('Phan Việt Khải').sum()\r\n",
    "values = {\"hovatenmds\": \"unknow\", \"hotenmds\": \"unknow\", \"nhom\": \"unknow\"}\r\n",
    "df1.fillna(value=values)\r\n",
    "df1['just_date'] = df1['DateOfOrder'].dt.day\r\n",
    "df1['just_month'] = df1['DateOfOrder'].dt.month\r\n",
    "df1['just_year'] = df1['DateOfOrder'].dt.year\r\n",
    "date_now_at_midnight = datetime.now().replace(hour=0, minute=0, second=0, microsecond=0)\r\n",
    "df1['OverDueDate'] = np.where(df1['DueDate'].values >= np.datetime64(date_now_at_midnight), True, False)\r\n",
    "rename_dict ={\r\n",
    "# Doanh So\r\n",
    "'OpeiningOrderAmt': 'tiennodauky',\r\n",
    "'OrdAmtRelease':'tienchotso',\r\n",
    "'DeliveredOrderAmt':'tiengiaothanhcong',\r\n",
    "'ReturnOrdAmt':'tienhuydon',\r\n",
    "'DebConfirmAmt':'tienlenbangke',\r\n",
    "'DebConfirmAmtRelease':'tienthuquyxacnhan',\r\n",
    "# Don Hang\r\n",
    "'CountOpeningOrder': 'dondauky',\r\n",
    "'CountOrdRelease':'donchotso',\r\n",
    "'DeliveredOrder':'dongiaothanhcong',\r\n",
    "'CountReturnOrd':'donhuy',\r\n",
    "'CountDebtConfirm':'donlenbangke',\r\n",
    "'CountDebtConfirmRelease':'donthuquyxacnhan'\r\n",
    "}\r\n",
    "df1.rename(columns=rename_dict, inplace=True)\r\n",
    "df1['chitietnocongty'] = df1['tiennodauky'] + df1['tienchotso'].values - df1['tienhuydon'].values - df1['tienthuquyxacnhan'].values\r\n",
    "df1['nodenhan'] = np.where(df1['OverDueDate'].values, df1['chitietnocongty'].values, 0)\r\n",
    "df1['nochuadenhan'] = np.where(df1['OverDueDate'].values != True, df1['chitietnocongty'].values, 0)\r\n",
    "df1['donchuagiao'] = df1['tienchotso'] - df1['tiengiaothanhcong'] - df1['tienhuydon']\r\n",
    "df1['tiendonchuagiao'] = df1['donchotso'] - df1['dongiaothanhcong'] - df1['donhuy']\r\n",
    "df1.to_csv('output.csv', index=False)"
   ],
   "outputs": [
    {
     "output_type": "stream",
     "name": "stdout",
     "text": [
      "d:\\data_sale\\venv\\Scripts\n"
     ]
    }
   ],
   "metadata": {}
  },
  {
   "cell_type": "code",
   "execution_count": null,
   "source": [],
   "outputs": [],
   "metadata": {}
  }
 ],
 "metadata": {
  "interpreter": {
   "hash": "f94d6dad5013d632e8b52fc362848c71d5234e1d7ba23afa22c3a2e55512dabd"
  },
  "kernelspec": {
   "name": "python3",
   "display_name": "Python 3.9.6 64-bit ('venv': venv)"
  },
  "language_info": {
   "codemirror_mode": {
    "name": "ipython",
    "version": 3
   },
   "file_extension": ".py",
   "mimetype": "text/x-python",
   "name": "python",
   "nbconvert_exporter": "python",
   "pygments_lexer": "ipython3",
   "version": "3.9.6"
  }
 },
 "nbformat": 4,
 "nbformat_minor": 2
}