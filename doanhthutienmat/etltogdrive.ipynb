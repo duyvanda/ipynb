{
 "cells": [
  {
   "cell_type": "code",
   "execution_count": 86,
   "source": [
    "import sys\r\n",
    "import os\r\n",
    "from datetime import datetime\r\n",
    "from google.oauth2 import service_account\r\n",
    "from googleapiclient import discovery\r\n",
    "from googleapiclient.http import MediaFileUpload\r\n",
    "from datetime import datetime\r\n",
    "import pandas as pd\r\n",
    "import numpy as np\r\n",
    "import time\r\n",
    "import pyodbc\r\n",
    "print(os.path.dirname(sys.executable))"
   ],
   "outputs": [
    {
     "output_type": "stream",
     "name": "stdout",
     "text": [
      "d:\\data_sale\\venv\\Scripts\n"
     ]
    }
   ],
   "metadata": {}
  },
  {
   "cell_type": "code",
   "execution_count": 87,
   "source": [
    "server = '115.165.164.234'\r\n",
    "driver = 'SQL Server'\r\n",
    "db1 = 'PhaNam_eSales_PRO'\r\n",
    "tcon = 'no'\r\n",
    "uname = 'duyvq'\r\n",
    "pword = '123VanQuangDuy'\r\n",
    "cnxn = pyodbc.connect(driver='{ODBC Driver 17 for SQL Server}', \r\n",
    "                      host=server, database=db1, trusted_connection=tcon,\r\n",
    "                      user=uname, password=pword)\r\n",
    "cursor = cnxn.cursor()"
   ],
   "outputs": [],
   "metadata": {}
  },
  {
   "cell_type": "code",
   "execution_count": 88,
   "source": [
    "datenow = datetime.now().strftime(\"%Y%m%d\")\r\n",
    "param_1 = f\"'20161213'\"\r\n",
    "param_2 = f\"'{datenow}'\""
   ],
   "outputs": [],
   "metadata": {}
  },
  {
   "cell_type": "code",
   "execution_count": 89,
   "source": [
    "query = f\"EXEC [pr_AR_TrackingDebtConfirm]  @Fromdate={param_1}, @Todate={param_2}\"\r\n",
    "start=time.time()\r\n",
    "df1 = pd.read_sql(query, cnxn, parse_dates=['DateOfOrder'])\r\n",
    "df1.to_csv('doanhthutienmat_data1.csv', index = False)\r\n",
    "end=time.time()\r\n",
    "duration=end-start\r\n",
    "print(duration)\r\n",
    "cnxn.close()"
   ],
   "outputs": [
    {
     "output_type": "stream",
     "name": "stdout",
     "text": [
      "10.027944087982178\n"
     ]
    }
   ],
   "metadata": {}
  },
  {
   "cell_type": "code",
   "execution_count": 90,
   "source": [
    "df1 = pd.read_csv('doanhthutienmat_data1.csv', dayfirst=True, parse_dates=['DateOfOrder'])"
   ],
   "outputs": [],
   "metadata": {}
  },
  {
   "cell_type": "code",
   "execution_count": 91,
   "source": [
    "df1['OldData'] = np.where(df1['DateOfOrder'].values < np.datetime64(datetime(2021, 5, 1)), True, False)\r\n",
    "# df1['OldData'] = df1['DateOfOrder'].apply(lambda x: True if x < datetime.strptime('01/05/2021', \"%d/%m/%Y\") else False)"
   ],
   "outputs": [],
   "metadata": {}
  },
  {
   "cell_type": "code",
   "execution_count": 92,
   "source": [
    "# def mapping_amt_release(OldData,OpeiningOrderAmt,OrdAmtRelease):\r\n",
    "#     if OldData == True:\r\n",
    "#         return OpeiningOrderAmt\r\n",
    "#     else:\r\n",
    "#         return OrdAmtRelease\r\n",
    "df1['OrdAmtRelease2'] = np.where(df1['OldData'].values, df1['OpeiningOrderAmt'].values, df1['OrdAmtRelease'].values)\r\n",
    "df1['CountOrdRelease2'] = np.where(df1['OldData'].values, df1['CountOpeningOrder'].values, df1['CountOrdRelease'].values)\r\n",
    "# df1['OrdAmtRelease2'] = df1.apply(lambda x: mapping_amt_release(x['OldData'], x['OpeiningOrderAmt'],x['OrdAmtRelease']),axis=1)\r\n",
    "# df1['CountOrdRelease2'] = df1.apply(lambda x: mapping_amt_release(x['OldData'], x['CountOpeningOrder'],x['CountOrdRelease']),axis=1)\r\n",
    "print(df1['OrdAmtRelease2'].sum())"
   ],
   "outputs": [
    {
     "output_type": "stream",
     "name": "stdout",
     "text": [
      "183207942908.0\n"
     ]
    }
   ],
   "metadata": {}
  },
  {
   "cell_type": "code",
   "execution_count": 93,
   "source": [
    "df1.columns"
   ],
   "outputs": [
    {
     "output_type": "execute_result",
     "data": {
      "text/plain": [
       "Index(['BranchID', 'SlsperID', 'Position', 'SlsName', 'PaymentsForm', 'Terms',\n",
       "       'OrderDate', 'OrderNbr', 'DateOfOrder', 'CountOpeningOrder',\n",
       "       'OpeiningOrderAmt', 'CountOrdRelease', 'OrdAmtRelease',\n",
       "       'DeliveredOrder', 'DeliveredOrderAmt', 'CountReturnOrd', 'ReturnOrdAmt',\n",
       "       'CountDebtConfirm', 'DebConfirmAmt', 'CountDebtConfirmRelease',\n",
       "       'DebConfirmAmtRelease', 'OldData', 'OrdAmtRelease2',\n",
       "       'CountOrdRelease2'],\n",
       "      dtype='object')"
      ]
     },
     "metadata": {},
     "execution_count": 93
    }
   ],
   "metadata": {}
  },
  {
   "cell_type": "code",
   "execution_count": 94,
   "source": [
    "import numpy as np # linear algebra\r\n",
    "import pandas as pd"
   ],
   "outputs": [],
   "metadata": {}
  },
  {
   "cell_type": "code",
   "execution_count": 95,
   "source": [
    "groupbylist = ['BranchID', 'Position', 'SlsperID', 'DateOfOrder','SlsName', 'Terms', 'PaymentsForm']"
   ],
   "outputs": [],
   "metadata": {}
  },
  {
   "cell_type": "code",
   "execution_count": 96,
   "source": [
    "aggregate_dict = {\r\n",
    "'OrdAmtRelease2':np.sum, 'DeliveredOrderAmt':np.sum, 'ReturnOrdAmt': np.sum,\r\n",
    "'DebConfirmAmt': np.sum, 'DebConfirmAmtRelease': np.sum, 'CountReturnOrd': np.sum,\r\n",
    "'CountOrdRelease2': np.sum, 'DeliveredOrder':np.sum,\r\n",
    "'CountDebtConfirm': np.sum, 'CountDebtConfirmRelease':np.sum\r\n",
    "}"
   ],
   "outputs": [],
   "metadata": {}
  },
  {
   "cell_type": "code",
   "execution_count": 97,
   "source": [
    "df2 = df1.groupby(groupbylist).aggregate(aggregate_dict)\r\n",
    "df2.head()"
   ],
   "outputs": [
    {
     "output_type": "execute_result",
     "data": {
      "text/html": [
       "<div>\n",
       "<style scoped>\n",
       "    .dataframe tbody tr th:only-of-type {\n",
       "        vertical-align: middle;\n",
       "    }\n",
       "\n",
       "    .dataframe tbody tr th {\n",
       "        vertical-align: top;\n",
       "    }\n",
       "\n",
       "    .dataframe thead th {\n",
       "        text-align: right;\n",
       "    }\n",
       "</style>\n",
       "<table border=\"1\" class=\"dataframe\">\n",
       "  <thead>\n",
       "    <tr style=\"text-align: right;\">\n",
       "      <th></th>\n",
       "      <th></th>\n",
       "      <th></th>\n",
       "      <th></th>\n",
       "      <th></th>\n",
       "      <th></th>\n",
       "      <th></th>\n",
       "      <th>OrdAmtRelease2</th>\n",
       "      <th>DeliveredOrderAmt</th>\n",
       "      <th>ReturnOrdAmt</th>\n",
       "      <th>DebConfirmAmt</th>\n",
       "      <th>DebConfirmAmtRelease</th>\n",
       "      <th>CountReturnOrd</th>\n",
       "      <th>CountOrdRelease2</th>\n",
       "      <th>DeliveredOrder</th>\n",
       "      <th>CountDebtConfirm</th>\n",
       "      <th>CountDebtConfirmRelease</th>\n",
       "    </tr>\n",
       "    <tr>\n",
       "      <th>BranchID</th>\n",
       "      <th>Position</th>\n",
       "      <th>SlsperID</th>\n",
       "      <th>DateOfOrder</th>\n",
       "      <th>SlsName</th>\n",
       "      <th>Terms</th>\n",
       "      <th>PaymentsForm</th>\n",
       "      <th></th>\n",
       "      <th></th>\n",
       "      <th></th>\n",
       "      <th></th>\n",
       "      <th></th>\n",
       "      <th></th>\n",
       "      <th></th>\n",
       "      <th></th>\n",
       "      <th></th>\n",
       "      <th></th>\n",
       "    </tr>\n",
       "  </thead>\n",
       "  <tbody>\n",
       "    <tr>\n",
       "      <th rowspan=\"5\" valign=\"top\">MR0001</th>\n",
       "      <th rowspan=\"5\" valign=\"top\">LOG</th>\n",
       "      <th rowspan=\"5\" valign=\"top\">MR0025</th>\n",
       "      <th>2021-03-08</th>\n",
       "      <th>Phạm Ngọc Trường</th>\n",
       "      <th>Debt</th>\n",
       "      <th>TM</th>\n",
       "      <td>0.0</td>\n",
       "      <td>0.0</td>\n",
       "      <td>0.0</td>\n",
       "      <td>2100011.0</td>\n",
       "      <td>2100011.0</td>\n",
       "      <td>0</td>\n",
       "      <td>0</td>\n",
       "      <td>0</td>\n",
       "      <td>1</td>\n",
       "      <td>1</td>\n",
       "    </tr>\n",
       "    <tr>\n",
       "      <th>2021-03-10</th>\n",
       "      <th>Phạm Ngọc Trường</th>\n",
       "      <th>Debt</th>\n",
       "      <th>TM</th>\n",
       "      <td>900008.0</td>\n",
       "      <td>0.0</td>\n",
       "      <td>0.0</td>\n",
       "      <td>900008.0</td>\n",
       "      <td>900008.0</td>\n",
       "      <td>0</td>\n",
       "      <td>1</td>\n",
       "      <td>0</td>\n",
       "      <td>1</td>\n",
       "      <td>1</td>\n",
       "    </tr>\n",
       "    <tr>\n",
       "      <th>2021-03-11</th>\n",
       "      <th>Phạm Ngọc Trường</th>\n",
       "      <th>Debt</th>\n",
       "      <th>CK</th>\n",
       "      <td>1590000.0</td>\n",
       "      <td>0.0</td>\n",
       "      <td>0.0</td>\n",
       "      <td>1590000.0</td>\n",
       "      <td>1590000.0</td>\n",
       "      <td>0</td>\n",
       "      <td>1</td>\n",
       "      <td>0</td>\n",
       "      <td>1</td>\n",
       "      <td>1</td>\n",
       "    </tr>\n",
       "    <tr>\n",
       "      <th>2021-03-12</th>\n",
       "      <th>Phạm Ngọc Trường</th>\n",
       "      <th>Debt</th>\n",
       "      <th>TM</th>\n",
       "      <td>900008.0</td>\n",
       "      <td>0.0</td>\n",
       "      <td>0.0</td>\n",
       "      <td>900008.0</td>\n",
       "      <td>900008.0</td>\n",
       "      <td>0</td>\n",
       "      <td>1</td>\n",
       "      <td>0</td>\n",
       "      <td>1</td>\n",
       "      <td>1</td>\n",
       "    </tr>\n",
       "    <tr>\n",
       "      <th>2021-03-15</th>\n",
       "      <th>Phạm Ngọc Trường</th>\n",
       "      <th>Debt</th>\n",
       "      <th>TM</th>\n",
       "      <td>1200003.0</td>\n",
       "      <td>0.0</td>\n",
       "      <td>0.0</td>\n",
       "      <td>1200003.0</td>\n",
       "      <td>1200003.0</td>\n",
       "      <td>0</td>\n",
       "      <td>1</td>\n",
       "      <td>0</td>\n",
       "      <td>1</td>\n",
       "      <td>1</td>\n",
       "    </tr>\n",
       "  </tbody>\n",
       "</table>\n",
       "</div>"
      ],
      "text/plain": [
       "                                                                            OrdAmtRelease2  \\\n",
       "BranchID Position SlsperID DateOfOrder SlsName          Terms PaymentsForm                   \n",
       "MR0001   LOG      MR0025   2021-03-08  Phạm Ngọc Trường Debt  TM                       0.0   \n",
       "                           2021-03-10  Phạm Ngọc Trường Debt  TM                  900008.0   \n",
       "                           2021-03-11  Phạm Ngọc Trường Debt  CK                 1590000.0   \n",
       "                           2021-03-12  Phạm Ngọc Trường Debt  TM                  900008.0   \n",
       "                           2021-03-15  Phạm Ngọc Trường Debt  TM                 1200003.0   \n",
       "\n",
       "                                                                            DeliveredOrderAmt  \\\n",
       "BranchID Position SlsperID DateOfOrder SlsName          Terms PaymentsForm                      \n",
       "MR0001   LOG      MR0025   2021-03-08  Phạm Ngọc Trường Debt  TM                          0.0   \n",
       "                           2021-03-10  Phạm Ngọc Trường Debt  TM                          0.0   \n",
       "                           2021-03-11  Phạm Ngọc Trường Debt  CK                          0.0   \n",
       "                           2021-03-12  Phạm Ngọc Trường Debt  TM                          0.0   \n",
       "                           2021-03-15  Phạm Ngọc Trường Debt  TM                          0.0   \n",
       "\n",
       "                                                                            ReturnOrdAmt  \\\n",
       "BranchID Position SlsperID DateOfOrder SlsName          Terms PaymentsForm                 \n",
       "MR0001   LOG      MR0025   2021-03-08  Phạm Ngọc Trường Debt  TM                     0.0   \n",
       "                           2021-03-10  Phạm Ngọc Trường Debt  TM                     0.0   \n",
       "                           2021-03-11  Phạm Ngọc Trường Debt  CK                     0.0   \n",
       "                           2021-03-12  Phạm Ngọc Trường Debt  TM                     0.0   \n",
       "                           2021-03-15  Phạm Ngọc Trường Debt  TM                     0.0   \n",
       "\n",
       "                                                                            DebConfirmAmt  \\\n",
       "BranchID Position SlsperID DateOfOrder SlsName          Terms PaymentsForm                  \n",
       "MR0001   LOG      MR0025   2021-03-08  Phạm Ngọc Trường Debt  TM                2100011.0   \n",
       "                           2021-03-10  Phạm Ngọc Trường Debt  TM                 900008.0   \n",
       "                           2021-03-11  Phạm Ngọc Trường Debt  CK                1590000.0   \n",
       "                           2021-03-12  Phạm Ngọc Trường Debt  TM                 900008.0   \n",
       "                           2021-03-15  Phạm Ngọc Trường Debt  TM                1200003.0   \n",
       "\n",
       "                                                                            DebConfirmAmtRelease  \\\n",
       "BranchID Position SlsperID DateOfOrder SlsName          Terms PaymentsForm                         \n",
       "MR0001   LOG      MR0025   2021-03-08  Phạm Ngọc Trường Debt  TM                       2100011.0   \n",
       "                           2021-03-10  Phạm Ngọc Trường Debt  TM                        900008.0   \n",
       "                           2021-03-11  Phạm Ngọc Trường Debt  CK                       1590000.0   \n",
       "                           2021-03-12  Phạm Ngọc Trường Debt  TM                        900008.0   \n",
       "                           2021-03-15  Phạm Ngọc Trường Debt  TM                       1200003.0   \n",
       "\n",
       "                                                                            CountReturnOrd  \\\n",
       "BranchID Position SlsperID DateOfOrder SlsName          Terms PaymentsForm                   \n",
       "MR0001   LOG      MR0025   2021-03-08  Phạm Ngọc Trường Debt  TM                         0   \n",
       "                           2021-03-10  Phạm Ngọc Trường Debt  TM                         0   \n",
       "                           2021-03-11  Phạm Ngọc Trường Debt  CK                         0   \n",
       "                           2021-03-12  Phạm Ngọc Trường Debt  TM                         0   \n",
       "                           2021-03-15  Phạm Ngọc Trường Debt  TM                         0   \n",
       "\n",
       "                                                                            CountOrdRelease2  \\\n",
       "BranchID Position SlsperID DateOfOrder SlsName          Terms PaymentsForm                     \n",
       "MR0001   LOG      MR0025   2021-03-08  Phạm Ngọc Trường Debt  TM                           0   \n",
       "                           2021-03-10  Phạm Ngọc Trường Debt  TM                           1   \n",
       "                           2021-03-11  Phạm Ngọc Trường Debt  CK                           1   \n",
       "                           2021-03-12  Phạm Ngọc Trường Debt  TM                           1   \n",
       "                           2021-03-15  Phạm Ngọc Trường Debt  TM                           1   \n",
       "\n",
       "                                                                            DeliveredOrder  \\\n",
       "BranchID Position SlsperID DateOfOrder SlsName          Terms PaymentsForm                   \n",
       "MR0001   LOG      MR0025   2021-03-08  Phạm Ngọc Trường Debt  TM                         0   \n",
       "                           2021-03-10  Phạm Ngọc Trường Debt  TM                         0   \n",
       "                           2021-03-11  Phạm Ngọc Trường Debt  CK                         0   \n",
       "                           2021-03-12  Phạm Ngọc Trường Debt  TM                         0   \n",
       "                           2021-03-15  Phạm Ngọc Trường Debt  TM                         0   \n",
       "\n",
       "                                                                            CountDebtConfirm  \\\n",
       "BranchID Position SlsperID DateOfOrder SlsName          Terms PaymentsForm                     \n",
       "MR0001   LOG      MR0025   2021-03-08  Phạm Ngọc Trường Debt  TM                           1   \n",
       "                           2021-03-10  Phạm Ngọc Trường Debt  TM                           1   \n",
       "                           2021-03-11  Phạm Ngọc Trường Debt  CK                           1   \n",
       "                           2021-03-12  Phạm Ngọc Trường Debt  TM                           1   \n",
       "                           2021-03-15  Phạm Ngọc Trường Debt  TM                           1   \n",
       "\n",
       "                                                                            CountDebtConfirmRelease  \n",
       "BranchID Position SlsperID DateOfOrder SlsName          Terms PaymentsForm                           \n",
       "MR0001   LOG      MR0025   2021-03-08  Phạm Ngọc Trường Debt  TM                                  1  \n",
       "                           2021-03-10  Phạm Ngọc Trường Debt  TM                                  1  \n",
       "                           2021-03-11  Phạm Ngọc Trường Debt  CK                                  1  \n",
       "                           2021-03-12  Phạm Ngọc Trường Debt  TM                                  1  \n",
       "                           2021-03-15  Phạm Ngọc Trường Debt  TM                                  1  "
      ]
     },
     "metadata": {},
     "execution_count": 97
    }
   ],
   "metadata": {}
  },
  {
   "cell_type": "code",
   "execution_count": 98,
   "source": [
    "df2 = df2.reset_index()"
   ],
   "outputs": [],
   "metadata": {}
  },
  {
   "cell_type": "code",
   "execution_count": 99,
   "source": [
    "# https://datatofish.com/if-condition-in-pandas-dataframe/"
   ],
   "outputs": [],
   "metadata": {}
  },
  {
   "cell_type": "code",
   "execution_count": 100,
   "source": [
    "df2.head()"
   ],
   "outputs": [
    {
     "output_type": "execute_result",
     "data": {
      "text/html": [
       "<div>\n",
       "<style scoped>\n",
       "    .dataframe tbody tr th:only-of-type {\n",
       "        vertical-align: middle;\n",
       "    }\n",
       "\n",
       "    .dataframe tbody tr th {\n",
       "        vertical-align: top;\n",
       "    }\n",
       "\n",
       "    .dataframe thead th {\n",
       "        text-align: right;\n",
       "    }\n",
       "</style>\n",
       "<table border=\"1\" class=\"dataframe\">\n",
       "  <thead>\n",
       "    <tr style=\"text-align: right;\">\n",
       "      <th></th>\n",
       "      <th>BranchID</th>\n",
       "      <th>Position</th>\n",
       "      <th>SlsperID</th>\n",
       "      <th>DateOfOrder</th>\n",
       "      <th>SlsName</th>\n",
       "      <th>Terms</th>\n",
       "      <th>PaymentsForm</th>\n",
       "      <th>OrdAmtRelease2</th>\n",
       "      <th>DeliveredOrderAmt</th>\n",
       "      <th>ReturnOrdAmt</th>\n",
       "      <th>DebConfirmAmt</th>\n",
       "      <th>DebConfirmAmtRelease</th>\n",
       "      <th>CountReturnOrd</th>\n",
       "      <th>CountOrdRelease2</th>\n",
       "      <th>DeliveredOrder</th>\n",
       "      <th>CountDebtConfirm</th>\n",
       "      <th>CountDebtConfirmRelease</th>\n",
       "    </tr>\n",
       "  </thead>\n",
       "  <tbody>\n",
       "    <tr>\n",
       "      <th>0</th>\n",
       "      <td>MR0001</td>\n",
       "      <td>LOG</td>\n",
       "      <td>MR0025</td>\n",
       "      <td>2021-03-08</td>\n",
       "      <td>Phạm Ngọc Trường</td>\n",
       "      <td>Debt</td>\n",
       "      <td>TM</td>\n",
       "      <td>0.0</td>\n",
       "      <td>0.0</td>\n",
       "      <td>0.0</td>\n",
       "      <td>2100011.0</td>\n",
       "      <td>2100011.0</td>\n",
       "      <td>0</td>\n",
       "      <td>0</td>\n",
       "      <td>0</td>\n",
       "      <td>1</td>\n",
       "      <td>1</td>\n",
       "    </tr>\n",
       "    <tr>\n",
       "      <th>1</th>\n",
       "      <td>MR0001</td>\n",
       "      <td>LOG</td>\n",
       "      <td>MR0025</td>\n",
       "      <td>2021-03-10</td>\n",
       "      <td>Phạm Ngọc Trường</td>\n",
       "      <td>Debt</td>\n",
       "      <td>TM</td>\n",
       "      <td>900008.0</td>\n",
       "      <td>0.0</td>\n",
       "      <td>0.0</td>\n",
       "      <td>900008.0</td>\n",
       "      <td>900008.0</td>\n",
       "      <td>0</td>\n",
       "      <td>1</td>\n",
       "      <td>0</td>\n",
       "      <td>1</td>\n",
       "      <td>1</td>\n",
       "    </tr>\n",
       "    <tr>\n",
       "      <th>2</th>\n",
       "      <td>MR0001</td>\n",
       "      <td>LOG</td>\n",
       "      <td>MR0025</td>\n",
       "      <td>2021-03-11</td>\n",
       "      <td>Phạm Ngọc Trường</td>\n",
       "      <td>Debt</td>\n",
       "      <td>CK</td>\n",
       "      <td>1590000.0</td>\n",
       "      <td>0.0</td>\n",
       "      <td>0.0</td>\n",
       "      <td>1590000.0</td>\n",
       "      <td>1590000.0</td>\n",
       "      <td>0</td>\n",
       "      <td>1</td>\n",
       "      <td>0</td>\n",
       "      <td>1</td>\n",
       "      <td>1</td>\n",
       "    </tr>\n",
       "    <tr>\n",
       "      <th>3</th>\n",
       "      <td>MR0001</td>\n",
       "      <td>LOG</td>\n",
       "      <td>MR0025</td>\n",
       "      <td>2021-03-12</td>\n",
       "      <td>Phạm Ngọc Trường</td>\n",
       "      <td>Debt</td>\n",
       "      <td>TM</td>\n",
       "      <td>900008.0</td>\n",
       "      <td>0.0</td>\n",
       "      <td>0.0</td>\n",
       "      <td>900008.0</td>\n",
       "      <td>900008.0</td>\n",
       "      <td>0</td>\n",
       "      <td>1</td>\n",
       "      <td>0</td>\n",
       "      <td>1</td>\n",
       "      <td>1</td>\n",
       "    </tr>\n",
       "    <tr>\n",
       "      <th>4</th>\n",
       "      <td>MR0001</td>\n",
       "      <td>LOG</td>\n",
       "      <td>MR0025</td>\n",
       "      <td>2021-03-15</td>\n",
       "      <td>Phạm Ngọc Trường</td>\n",
       "      <td>Debt</td>\n",
       "      <td>TM</td>\n",
       "      <td>1200003.0</td>\n",
       "      <td>0.0</td>\n",
       "      <td>0.0</td>\n",
       "      <td>1200003.0</td>\n",
       "      <td>1200003.0</td>\n",
       "      <td>0</td>\n",
       "      <td>1</td>\n",
       "      <td>0</td>\n",
       "      <td>1</td>\n",
       "      <td>1</td>\n",
       "    </tr>\n",
       "  </tbody>\n",
       "</table>\n",
       "</div>"
      ],
      "text/plain": [
       "  BranchID Position SlsperID DateOfOrder           SlsName Terms PaymentsForm  \\\n",
       "0   MR0001      LOG   MR0025  2021-03-08  Phạm Ngọc Trường  Debt           TM   \n",
       "1   MR0001      LOG   MR0025  2021-03-10  Phạm Ngọc Trường  Debt           TM   \n",
       "2   MR0001      LOG   MR0025  2021-03-11  Phạm Ngọc Trường  Debt           CK   \n",
       "3   MR0001      LOG   MR0025  2021-03-12  Phạm Ngọc Trường  Debt           TM   \n",
       "4   MR0001      LOG   MR0025  2021-03-15  Phạm Ngọc Trường  Debt           TM   \n",
       "\n",
       "   OrdAmtRelease2  DeliveredOrderAmt  ReturnOrdAmt  DebConfirmAmt  \\\n",
       "0             0.0                0.0           0.0      2100011.0   \n",
       "1        900008.0                0.0           0.0       900008.0   \n",
       "2       1590000.0                0.0           0.0      1590000.0   \n",
       "3        900008.0                0.0           0.0       900008.0   \n",
       "4       1200003.0                0.0           0.0      1200003.0   \n",
       "\n",
       "   DebConfirmAmtRelease  CountReturnOrd  CountOrdRelease2  DeliveredOrder  \\\n",
       "0             2100011.0               0                 0               0   \n",
       "1              900008.0               0                 1               0   \n",
       "2             1590000.0               0                 1               0   \n",
       "3              900008.0               0                 1               0   \n",
       "4             1200003.0               0                 1               0   \n",
       "\n",
       "   CountDebtConfirm  CountDebtConfirmRelease  \n",
       "0                 1                        1  \n",
       "1                 1                        1  \n",
       "2                 1                        1  \n",
       "3                 1                        1  \n",
       "4                 1                        1  "
      ]
     },
     "metadata": {},
     "execution_count": 100
    }
   ],
   "metadata": {}
  },
  {
   "cell_type": "code",
   "execution_count": 101,
   "source": [
    "df2['tienchotso'] = np.where(df2['PaymentsForm'].values=='TM', df2['OrdAmtRelease2'].values, 0)\r\n",
    "df2['tiengiaothanhcong'] = np.where(df2['PaymentsForm'].values=='TM', df2['DeliveredOrderAmt'].values, 0)\r\n",
    "df2['tienhuydon'] = np.where(df2['PaymentsForm'].values=='TM', df2['ReturnOrdAmt'].values, 0)\r\n",
    "df2['tienlenbangke'] = np.where(df2['PaymentsForm'].values=='TM', df2['DebConfirmAmt'].values, 0)\r\n",
    "df2['tienthuquyxacnhan'] = np.where(df2['PaymentsForm'].values=='TM', df2['DebConfirmAmtRelease'].values, 0)\r\n",
    "df2['chitietnocongty'] = df2['tienchotso'].values - df2['tienhuydon'].values - df2['tienthuquyxacnhan'].values\r\n",
    "df2['tiennocongty'] = np.where(df2['chitietnocongty']>0, df2['chitietnocongty'].values, 0)\r\n",
    "# df2['tienchotso'] = df2.apply(lambda x: x['OrdAmtRelease2'] if x['PaymentsForm']=='TM' else 0, axis=1)\r\n",
    "# df2['tiengiaothanhcong'] = df2.apply(lambda x: x['DeliveredOrderAmt'] if x['PaymentsForm']=='TM' else 0, axis=1)\r\n",
    "# df2['tienhuydon'] = df2.apply(lambda x: x['ReturnOrdAmt'] if x['PaymentsForm']=='TM' else 0, axis=1)\r\n",
    "# df2['tienlenbangke'] = df2.apply(lambda x: x['DebConfirmAmt'] if x['PaymentsForm']=='TM' else 0, axis=1)\r\n",
    "# df2['tienthuquyxacnhan'] = df2.apply(lambda x: x['DebConfirmAmtRelease'] if x['PaymentsForm']=='TM' else 0, axis=1)\r\n",
    "# df2['chitietnocongty'] = df2['tienchotso'] - df2['tienhuydon'] - df2['tienthuquyxacnhan']\r\n",
    "# df2['tiennocongty'] = df2.apply(lambda x: x['chitietnocongty'] if x['chitietnocongty']>0 else 0, axis=1)"
   ],
   "outputs": [],
   "metadata": {}
  },
  {
   "cell_type": "code",
   "execution_count": 102,
   "source": [
    "rename_dict ={'CountOrdRelease2':'donchotso', 'DeliveredOrder':'dongiaothanhcong', 'CountReturnOrd':'donhuy',\r\n",
    "'CountDebtConfirm':'donlenbangke', 'CountDebtConfirmRelease':'donthuquyxacnhan'\r\n",
    "}"
   ],
   "outputs": [],
   "metadata": {}
  },
  {
   "cell_type": "code",
   "execution_count": 103,
   "source": [
    "df2.rename(columns=rename_dict, inplace=True)"
   ],
   "outputs": [],
   "metadata": {}
  },
  {
   "cell_type": "code",
   "execution_count": 104,
   "source": [
    "# df2['donchotso'] = df2.apply(lambda x: x['CountOrdRelease2'], axis=1)\r\n",
    "# df2['dongiaothanhcong'] = df2.apply(lambda x: x['DeliveredOrder'] if x['PaymentsForm']=='TM' else 0, axis=1)\r\n",
    "# df2['donlenbangke'] = df2.apply(lambda x: x['CountDebtConfirm'] if x['PaymentsForm']=='TM' else 0, axis=1)\r\n",
    "# df2['donthuquyxacnhan'] = df2.apply(lambda x: x['CountDebtConfirmRelease'] if x['PaymentsForm']=='TM' else 0, axis=1)\r\n",
    "df2['chitietdonnocongty'] = df2['donchotso'] - df2['donthuquyxacnhan'] - df2['donhuy']\r\n",
    "df2['donnocongty'] = df2.apply(lambda x: x['chitietdonnocongty'] if x['chitietdonnocongty']>0 else 0, axis=1)"
   ],
   "outputs": [],
   "metadata": {}
  },
  {
   "cell_type": "code",
   "execution_count": 105,
   "source": [
    "df2.columns"
   ],
   "outputs": [
    {
     "output_type": "execute_result",
     "data": {
      "text/plain": [
       "Index(['BranchID', 'Position', 'SlsperID', 'DateOfOrder', 'SlsName', 'Terms',\n",
       "       'PaymentsForm', 'OrdAmtRelease2', 'DeliveredOrderAmt', 'ReturnOrdAmt',\n",
       "       'DebConfirmAmt', 'DebConfirmAmtRelease', 'donhuy', 'donchotso',\n",
       "       'dongiaothanhcong', 'donlenbangke', 'donthuquyxacnhan', 'tienchotso',\n",
       "       'tiengiaothanhcong', 'tienhuydon', 'tienlenbangke', 'tienthuquyxacnhan',\n",
       "       'chitietnocongty', 'tiennocongty', 'chitietdonnocongty', 'donnocongty'],\n",
       "      dtype='object')"
      ]
     },
     "metadata": {},
     "execution_count": 105
    }
   ],
   "metadata": {}
  },
  {
   "cell_type": "code",
   "execution_count": 106,
   "source": [
    "col_list = ['BranchID', 'Position', 'SlsperID', 'Ngày Tạo Đơn', 'MDS', 'Terms',\r\n",
    "       'PaymentsForm', 'Sum of OrdAmtRelease', 'Sum of DeliveredOrderAmt',\r\n",
    "       'Sum of ReturnOrdAmt', 'Sum of DebConfirmAmt',\r\n",
    "       'Sum of DebConfirmAmtRelease', 'Don Huy', 'Đơn Chốt Sổ', 'Đơn Giao Thành Công',\r\n",
    "       'Đơn Lên Bảng Kê', 'Đơn Thủ Quỹ Xác Nhận', 'Tiền Chốt Sổ',\r\n",
    "       'Tiền Giao Thành Công', 'Tiền Hủy Đơn', 'Tiền Lên Bảng Kê',\r\n",
    "       'Tiền Thủ Quỹ Xác Nhận', 'Chi Tiết Tiền Nợ Công Ty', 'Tiền Nợ Công Ty',\r\n",
    "       'Chi Tiết Đơn Nợ Công Ty', 'Đơn Nợ Công Ty']"
   ],
   "outputs": [],
   "metadata": {}
  },
  {
   "cell_type": "code",
   "execution_count": 107,
   "source": [
    "df2.columns = col_list\r\n",
    "df2.to_csv('doanhthutienmat_data.csv', index=False)"
   ],
   "outputs": [],
   "metadata": {}
  },
  {
   "cell_type": "code",
   "execution_count": 108,
   "source": [
    "# Google Sheet connection\r\n",
    "scopes = ['https://www.googleapis.com/auth/spreadsheets', 'https://www.googleapis.com/auth/drive',\r\n",
    "          'https://www.googleapis.com/auth/drive.file']\r\n",
    "jsonfile = 'D:/data_sale/datateam1599968716114-6f9f144b4262.json'\r\n",
    "credentials = service_account.Credentials.from_service_account_file(jsonfile, scopes=scopes)\r\n",
    "service = discovery.build('drive', 'v3', credentials=credentials)"
   ],
   "outputs": [],
   "metadata": {}
  },
  {
   "cell_type": "code",
   "execution_count": 109,
   "source": [
    "#spreadsheets_id = '1qEwviiJcAtvWCLvc-5AXOgidaeHMsi2RWWIKiUehabI'\r\n",
    "folder_id = '12iN7KEKpgT4QhIfaLNB5shQ4g5x-VUoY'\r\n",
    "file_name = 'doanhthutienmat_data.csv'\r\n",
    "file_type = 'text/csv'\r\n",
    "file_body={'name':file_name,'addParents':[folder_id]}\r\n",
    "query = f\"parents = '{folder_id}'\"\r\n",
    "files = service.files().list(q=query).execute()\r\n",
    "fileid  = files['files'][0]['id']\r\n",
    "\r\n",
    "media = MediaFileUpload('{0}'.format(file_name), mimetype=file_type)\r\n",
    "updated_file = service.files().update(fileId=fileid, body=file_body, media_body=media)\r\n",
    "updated_file.execute()"
   ],
   "outputs": [
    {
     "output_type": "execute_result",
     "data": {
      "text/plain": [
       "{'kind': 'drive#file',\n",
       " 'id': '1TUYHJ_xqTU_L57TOsBKllgjWXF_ZkMkn',\n",
       " 'name': 'doanhthutienmat_data.csv',\n",
       " 'mimeType': 'text/csv'}"
      ]
     },
     "metadata": {},
     "execution_count": 109
    }
   ],
   "metadata": {}
  },
  {
   "cell_type": "code",
   "execution_count": null,
   "source": [],
   "outputs": [],
   "metadata": {}
  }
 ],
 "metadata": {
  "interpreter": {
   "hash": "f94d6dad5013d632e8b52fc362848c71d5234e1d7ba23afa22c3a2e55512dabd"
  },
  "kernelspec": {
   "name": "python3",
   "display_name": "Python 3.9.6 64-bit ('venv': venv)"
  },
  "language_info": {
   "codemirror_mode": {
    "name": "ipython",
    "version": 3
   },
   "file_extension": ".py",
   "mimetype": "text/x-python",
   "name": "python",
   "nbconvert_exporter": "python",
   "pygments_lexer": "ipython3",
   "version": "3.9.6"
  }
 },
 "nbformat": 4,
 "nbformat_minor": 2
}