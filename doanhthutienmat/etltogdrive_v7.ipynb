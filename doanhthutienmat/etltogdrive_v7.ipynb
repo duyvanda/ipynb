{
 "cells": [
  {
   "cell_type": "code",
   "execution_count": 1,
   "metadata": {},
   "outputs": [
    {
     "name": "stdout",
     "output_type": "stream",
     "text": [
      "Default bq project:  spatial-vision-343005.biteam\n"
     ]
    }
   ],
   "source": [
    "from utils.df_handle import *"
   ]
  },
  {
   "cell_type": "code",
   "execution_count": 2,
   "metadata": {},
   "outputs": [],
   "source": [
    "df=pd.read_csv(\"D:/software/ecommerce/backend/base/testdata.csv\")"
   ]
  },
  {
   "cell_type": "code",
   "execution_count": 5,
   "metadata": {},
   "outputs": [],
   "source": [
    "import json"
   ]
  },
  {
   "cell_type": "code",
   "execution_count": 6,
   "metadata": {},
   "outputs": [
    {
     "data": {
      "text/plain": [
       "'[{\"name\":\"Duy\",\"soluong\":10,\"brand\":\"d\"},{\"name\":\"Huy\",\"soluong\":20,\"brand\":\"h\"}]'"
      ]
     },
     "execution_count": 6,
     "metadata": {},
     "output_type": "execute_result"
    }
   ],
   "source": [
    "df.to_json(orient=\"records\")"
   ]
  },
  {
   "cell_type": "code",
   "execution_count": 8,
   "metadata": {},
   "outputs": [],
   "source": [
    "parsed = json.loads(df.to_json(orient=\"records\"))"
   ]
  },
  {
   "cell_type": "code",
   "execution_count": 14,
   "metadata": {},
   "outputs": [
    {
     "data": {
      "text/plain": [
       "'<table border=\"1\" class=\"dataframe\">\\n  <thead>\\n    <tr style=\"text-align: right;\">\\n      <th></th>\\n      <th>name</th>\\n      <th>soluong</th>\\n      <th>brand</th>\\n    </tr>\\n  </thead>\\n  <tbody>\\n    <tr>\\n      <th>0</th>\\n      <td>Duy</td>\\n      <td>10</td>\\n      <td>d</td>\\n    </tr>\\n    <tr>\\n      <th>1</th>\\n      <td>Huy</td>\\n      <td>20</td>\\n      <td>h</td>\\n    </tr>\\n  </tbody>\\n</table>'"
      ]
     },
     "execution_count": 14,
     "metadata": {},
     "output_type": "execute_result"
    }
   ],
   "source": [
    "df.to_html()"
   ]
  },
  {
   "cell_type": "code",
   "execution_count": null,
   "metadata": {},
   "outputs": [],
   "source": []
  },
  {
   "cell_type": "code",
   "execution_count": 3,
   "metadata": {},
   "outputs": [],
   "source": [
    "deli = pd.read_csv('DELI.csv', usecols=['BranchID', 'OrderNbr', 'SlsperID'])"
   ]
  },
  {
   "cell_type": "code",
   "execution_count": 4,
   "metadata": {},
   "outputs": [
    {
     "data": {
      "text/plain": [
       "Index(['BranchID', 'SlsperID', 'OrderNbr'], dtype='object')"
      ]
     },
     "execution_count": 4,
     "metadata": {},
     "output_type": "execute_result"
    }
   ],
   "source": [
    "deli.columns"
   ]
  },
  {
   "cell_type": "code",
   "execution_count": 2,
   "metadata": {},
   "outputs": [],
   "source": [
    "datenow = datetime.now().strftime(\"%Y%m%d\")\n",
    "param_2 = f\"'20161130'\"\n",
    "param_3 = f\"'{datenow}'\""
   ]
  },
  {
   "cell_type": "code",
   "execution_count": 3,
   "metadata": {},
   "outputs": [
    {
     "name": "stdout",
     "output_type": "stream",
     "text": [
      "OK\n"
     ]
    }
   ],
   "source": [
    "if datetime.now().hour in {8,9,10,11,12,13,14,15,16,17,18,22}:\n",
    "    print (\"OK\")"
   ]
  },
  {
   "cell_type": "code",
   "execution_count": 4,
   "metadata": {},
   "outputs": [
    {
     "name": "stdout",
     "output_type": "stream",
     "text": [
      "47.875386238098145\n"
     ]
    }
   ],
   "source": [
    "query = f\"EXEC [pr_AR_TrackingDebtConfirm] @Fromdate={param_2}, @Todate={param_3}\"\n",
    "start=time.time()\n",
    "df1 = get_ms_df(sql=query, parse_dates={\"DateOfOrder\": {\"dayfirst\": True}, \"DueDate\": {\"dayfirst\": True}, \"OrderDate\": {\"dayfirst\": True}})\n",
    "# df1.to_csv('doanhthutienmat_data1.csv', index = False)\n",
    "end=time.time()\n",
    "duration=end-start\n",
    "print(duration)"
   ]
  },
  {
   "cell_type": "code",
   "execution_count": null,
   "metadata": {},
   "outputs": [],
   "source": [
    "datenow = datetime.now().strftime(\"%Y%m%d\")\n",
    "print(datenow)"
   ]
  },
  {
   "cell_type": "code",
   "execution_count": 10,
   "metadata": {},
   "outputs": [],
   "source": [
    "df_nhansu = get_ps_df(\"select * from d_nhan_su\")\n",
    "df_nhansu['qlkhuvuc'] = df_nhansu['qlkhuvuc'].str.strip()\n",
    "df_nhansu_asm = dropdup(df_nhansu[['manvcrscrss','qlkhuvuc']], 1)\n",
    "nhansu_asm_dict = df_to_dict(df_nhansu_asm)\n",
    "df_phu_trach_no_cs_theo_tinh = get_ps_df(\"SELECT * from d_phu_trach_no_cs_theo_tinh\")\n",
    "phu_trach_no_cs_theo_tinh_dict = df_to_dict(df_phu_trach_no_cs_theo_tinh)\n",
    "df1['ASMName'] = np.where(df1['DebtInCharge']=='MDS', df1['SlsperID'].map(nhansu_asm_dict).fillna('Lương Trịnh Thắng (KN)'), df1['State'].map(phu_trach_no_cs_theo_tinh_dict))"
   ]
  },
  {
   "cell_type": "code",
   "execution_count": 11,
   "metadata": {},
   "outputs": [],
   "source": [
    "# ((df1['RefCustId'].isin(list_cs)) & (df1['DebtInCharge']=='CS'))"
   ]
  },
  {
   "cell_type": "code",
   "execution_count": 12,
   "metadata": {},
   "outputs": [],
   "source": [
    "ma_kh_cu_dict = get_ms_df(\"SELECT CustId, RefCustID from AR_Customer\").set_index('CustId').to_dict()['RefCustID']\n",
    "df1['RefCustId'] = df1['CustID'].map(ma_kh_cu_dict)\n",
    "df_phu_trach_no_cs_theo_refcustid = get_ps_df(\"select * from d_phu_trach_no_cs_theo_refcustid\")\n",
    "phu_trach_no_cs_theo_refcustid_dict = get_ps_df(\"select * from d_phu_trach_no_cs_theo_refcustid\").set_index('refcustid').to_dict()['inchargename']\n",
    "list_cs = df_phu_trach_no_cs_theo_refcustid['refcustid'].to_list()\n",
    "df1['ASMName_CS'] = df1['RefCustId'].map(phu_trach_no_cs_theo_refcustid_dict)\n",
    "df1['ASMName'] = np.where( ((df1['RefCustId'].isin(list_cs)) & (df1['DebtInCharge']=='CS')), df1['ASMName_CS'], df1['ASMName'])"
   ]
  },
  {
   "cell_type": "code",
   "execution_count": 13,
   "metadata": {},
   "outputs": [],
   "source": [
    "df_nhansu_sup = dropdup(df_nhansu[['manvcrscrss','quanlytructiep']], 1)\n",
    "df_nhansu_sup['quanlytructiep'] = df_nhansu_sup['quanlytructiep'].str.strip()\n",
    "df1['SupName'] = df1['SupName'].map( df_to_dict(df_nhansu_sup) ).fillna(df1['ASMName'])\n",
    "df_nhansu_rsm = dropdup(df_nhansu[['manvcrscrss','qlvung']], 1)\n",
    "df_nhansu_rsm['qlvung'] = df_nhansu_rsm['qlvung'].str.strip()\n",
    "df1['SupName'] = df1['SupName'].map( df_to_dict(df_nhansu_sup) ).fillna(df1['ASMName'])\n",
    "df1['RSMName'] = df1['RSMName'].map( df_to_dict(df_nhansu_rsm) ).fillna(df1['ASMName'])\n",
    "df1['InChargeName'] =  np.where(df1['DebtInCharge']=='MDS', df1['SlsperName'], df1['ASMName'])\n",
    "df_vptt = get_ps_df(\"select * from d_vptt\")\n",
    "df1 = df1.merge(df_vptt, how = 'left', left_on='State', right_on='tinh', suffixes=('_left', '_right'), validate=\"m:1\")\n",
    "df_mkv_viet_tat = get_ps_df(\"select * from d_mkv_viet_tat\").set_index('tenkhuvuc')\n",
    "khuvuc_dict = df_mkv_viet_tat.to_dict()['khuvuc']\n",
    "df1['Territory'] = df1['Territory'].map(khuvuc_dict)\n",
    "df1['Position'] = np.where(df1['DebtInCharge']==\"CS\", \"CS\", df1['Position'])\n",
    "df1[checkdup(df1, 2, ['BranchID','OrderDate','OrderNbr','DateOfOrder','DueDate'])]"
   ]
  },
  {
   "cell_type": "code",
   "execution_count": 34,
   "metadata": {},
   "outputs": [],
   "source": [
    "groupbylist = [\n",
    "    'OrderNbr', \n",
    "    'BranchID', \n",
    "    'Position',\n",
    "    'SlsperID', \n",
    "    'SupName', \n",
    "    'ASMName', \n",
    "    'RSMName', \n",
    "    'DateOfOrder', \n",
    "    'DueDate',\n",
    "    'CustID',\n",
    "    'RefCustId',\n",
    "    'CustName',\n",
    "    'SlsperName',\n",
    "    'InChargeName',\n",
    "    'DebtInCharge',\n",
    "    'Terms', \n",
    "    'PaymentsForm',\n",
    "    'TermsType',\n",
    "    'Territory', \n",
    "    'State', \n",
    "    'vptt', \n",
    "    'DeliveryUnit',\n",
    "    'Channels',\n",
    "    'SubChannel'\n",
    "    ]"
   ]
  },
  {
   "cell_type": "code",
   "execution_count": 35,
   "metadata": {},
   "outputs": [],
   "source": [
    "aggregate_dict = {\n",
    "'OrderDate': np.max,\n",
    "#Group by tien\n",
    "'OpeningOrderAmt':np.sum,\n",
    "'OrdAmtRelease':np.sum,\n",
    "'DeliveredOrderAmt':np.sum,\n",
    "'ReturnOrdAmt': np.sum,\n",
    "'DebtConfirmAmt': np.sum,\n",
    "'DebtConfirmAmtRelease': np.sum,\n",
    "# Huy & Xac Nhan In Month\n",
    "# 'ReturnOrdAmt_InMonth': np.sum,\n",
    "# 'DebConfirmAmtRelease_InMonth': np.sum,\n",
    "\n",
    "#DonHang8\n",
    "'CountOpeningOrder':np.sum,\n",
    "'CountOrdRelease': np.sum,\n",
    "'DeliveredOrder':np.sum,\n",
    "'CountReturnOrd': np.sum,\n",
    "'CountDebtConfirm': np.sum,\n",
    "'CountDebtConfirmRelease':np.sum\n",
    "}"
   ]
  },
  {
   "cell_type": "code",
   "execution_count": 51,
   "metadata": {},
   "outputs": [],
   "source": [
    "df2 = pivot(df1, groupbylist, aggregate_dict)"
   ]
  },
  {
   "cell_type": "code",
   "execution_count": 55,
   "metadata": {},
   "outputs": [],
   "source": [
    "rename_dict ={\n",
    "# Doanh So\n",
    "'OpeningOrderAmt': 'tiennodauky',\n",
    "'OrdAmtRelease':'tienchotso',\n",
    "'DeliveredOrderAmt':'tiengiaothanhcong',\n",
    "'ReturnOrdAmt':'tienhuydon',\n",
    "'DebtConfirmAmt':'tienlenbangke',\n",
    "'DebtConfirmAmtRelease':'tienthuquyxacnhan',\n",
    "# Huy & Xac Nhan In Month\n",
    "# 'ReturnOrdAmt_InMonth': 'tienhuydon_inmonth',\n",
    "# 'DebConfirmAmtRelease_InMonth': 'tienthuquyxacnhan_inmonth',\n",
    "# Don Hang\n",
    "'CountOpeningOrder': 'dondauky',\n",
    "'CountOrdRelease':'donchotso',\n",
    "'DeliveredOrder':'dongiaothanhcong',\n",
    "'CountReturnOrd':'donhuy',\n",
    "'CountDebtConfirm':'donlenbangke',\n",
    "'CountDebtConfirmRelease':'donthuquyxacnhan'\n",
    "}\n",
    "df2.rename(columns=rename_dict, inplace=True)\n",
    "ctr1 = df2['DeliveryUnit']=='Nhà vận chuyển'\n",
    "ctr2 = df2['donhuy']==0\n",
    "df2['dongiaothanhcong'] = np.where(ctr1&ctr2, 1, df2['dongiaothanhcong'])\n",
    "ctr1 = df2['DeliveryUnit']=='Nhà vận chuyển'\n",
    "ctr2 = df2['tienhuydon']==0\n",
    "df2['tiengiaothanhcong'] = np.where(ctr1&ctr2, df2['tienchotso'], df2['tiengiaothanhcong'])\n",
    "df2['tiennocongty'] = df2['tiennodauky'] + df2['tienchotso'].values - df2['tienhuydon'].values - df2['tienthuquyxacnhan'].values\n",
    "df2['donnocongty'] = np.where(df2['tiennocongty'].values > 0, 1, 0)\n",
    "df2['donchuagiao'] = df2['donchotso'] - df2['dongiaothanhcong'] - df2['donhuy']\n",
    "df2['tiendonchuagiao'] = df2['tienchotso'] - df2['tiengiaothanhcong'] - df2['tienhuydon']"
   ]
  },
  {
   "cell_type": "code",
   "execution_count": 44,
   "metadata": {},
   "outputs": [
    {
     "data": {
      "text/plain": [
       "Index(['ordernbr', 'branchid', 'position', 'slsperid', 'supname', 'asmname',\n",
       "       'rsmname', 'dateoforder', 'duedate', 'custid', 'refcustid', 'custname',\n",
       "       'slspername', 'inchargename', 'debtincharge', 'terms', 'paymentsform',\n",
       "       'termstype', 'territory', 'state', 'vptt', 'deliveryunit', 'channels',\n",
       "       'subchannel', 'orderdate', 'openingorderamt', 'ordamtrelease',\n",
       "       'deliveredorderamt', 'returnordamt', 'debtconfirmamt',\n",
       "       'debtconfirmamtrelease', 'countopeningorder', 'countordrelease',\n",
       "       'deliveredorder', 'countreturnord', 'countdebtconfirm',\n",
       "       'countdebtconfirmrelease'],\n",
       "      dtype='object')"
      ]
     },
     "execution_count": 44,
     "metadata": {},
     "output_type": "execute_result"
    }
   ],
   "source": [
    "# df2.columns"
   ]
  },
  {
   "cell_type": "code",
   "execution_count": 45,
   "metadata": {},
   "outputs": [],
   "source": [
    "# df3.tiendonchuagiao.sum()"
   ]
  },
  {
   "cell_type": "code",
   "execution_count": 46,
   "metadata": {},
   "outputs": [],
   "source": [
    "# df2.columns = [x.lower() for x in df2.columns]"
   ]
  },
  {
   "cell_type": "code",
   "execution_count": 47,
   "metadata": {},
   "outputs": [],
   "source": [
    "# df2[checkdup(df2, 2, ['ordernbr', 'branchid', 'dateoforder', 'duedate'])].to_clipboard()"
   ]
  },
  {
   "cell_type": "code",
   "execution_count": 48,
   "metadata": {},
   "outputs": [],
   "source": [
    "# df2.columns = [x.lower() for x in df2.columns]\n",
    "trangthaigiaohangdict = {'C':'Đã giao hàng', 'H':'Chưa Xác Nhận', 'D':'KH Không Nhận', 'A':'Đã Xác Nhận', 'R':'Từ Chối Giao Hàng', 'E':'Không Tiếp Tục Giao Hàng'}\n",
    "# get_ms_csv(DELI, 'DELI.csv')\n",
    "DELI=pd.read_csv('DELI.csv', usecols=['BranchID', 'OrderNbr', 'Status'])\n",
    "DELI['BranchID_OrderNbr'] = DELI['BranchID']+DELI['OrderNbr']\n",
    "# DELI.columns\n",
    "DELI = DELI[['BranchID_OrderNbr','Status']]\n",
    "# df2.columns\n",
    "df2['trangthaigiaohang'] = (df2['branchid']+df2['ordernbr']).map(df_to_dict(DELI)).map(trangthaigiaohangdict)\n",
    "# vc(df2,'deliveryunit')\n",
    "\n",
    "# update 21/02\n",
    "dk1 = df2.DeliveryUnit.isna()\n",
    "dk2 = df2.DateOfOrder < datetime(2021,5,1)\n",
    "df2.trangthaigiaohang = np.where( dk1 & dk2, 'Đã giao hàng', df2.trangthaigiaohang)\n",
    "df2.deli_last_updated = np.where( dk1 & dk2, df2.DateOfOrder, df2.deli_last_updated)\n",
    "\n",
    "dk1 = df2.DeliveryUnit == 'Nhà vận chuyển'\n",
    "df2.trangthaigiaohang = np.where( dk1, 'Giao NVC', df2.trangthaigiaohang)\n",
    "df2.deli_last_updated = np.where( dk1, df2.DateOfOrder, df2.deli_last_updated)\n",
    "\n",
    "# 10/02/2022 UPDATE\n",
    "DELI=pd.read_csv(csv_path+'DELI.csv', usecols=['BranchID', 'OrderNbr', 'SlsperID'])\n",
    "DELI.columns = ['BranchID','OrderNbr','manvgh']\n",
    "df2.merge(DELI, on = ['BranchID','OrderNbr'], how = 'left')"
   ]
  },
  {
   "cell_type": "code",
   "execution_count": 50,
   "metadata": {},
   "outputs": [],
   "source": [
    "# df2=df2[['ordernbr', 'branchid', 'dateoforder', 'duedate', 'tienhuydon_inmonth','tienthuquyxacnhan_inmonth']]"
   ]
  },
  {
   "cell_type": "code",
   "execution_count": 51,
   "metadata": {},
   "outputs": [],
   "source": [
    "primary_keys=['ordernbr', 'branchid', 'dateoforder', 'duedate']"
   ]
  },
  {
   "cell_type": "code",
   "execution_count": 52,
   "metadata": {},
   "outputs": [],
   "source": [
    "df2['inserted_at'] = datetime.now()"
   ]
  },
  {
   "cell_type": "code",
   "execution_count": 54,
   "metadata": {},
   "outputs": [
    {
     "data": {
      "text/html": [
       "<div>\n",
       "<style scoped>\n",
       "    .dataframe tbody tr th:only-of-type {\n",
       "        vertical-align: middle;\n",
       "    }\n",
       "\n",
       "    .dataframe tbody tr th {\n",
       "        vertical-align: top;\n",
       "    }\n",
       "\n",
       "    .dataframe thead th {\n",
       "        text-align: right;\n",
       "    }\n",
       "</style>\n",
       "<table border=\"1\" class=\"dataframe\">\n",
       "  <thead>\n",
       "    <tr style=\"text-align: right;\">\n",
       "      <th></th>\n",
       "      <th>ordernbr</th>\n",
       "      <th>branchid</th>\n",
       "      <th>position</th>\n",
       "      <th>slsperid</th>\n",
       "      <th>supname</th>\n",
       "      <th>asmname</th>\n",
       "      <th>rsmname</th>\n",
       "      <th>dateoforder</th>\n",
       "      <th>duedate</th>\n",
       "      <th>custid</th>\n",
       "      <th>...</th>\n",
       "      <th>tienlenbangke</th>\n",
       "      <th>tienthuquyxacnhan</th>\n",
       "      <th>dondauky</th>\n",
       "      <th>donchotso</th>\n",
       "      <th>dongiaothanhcong</th>\n",
       "      <th>donhuy</th>\n",
       "      <th>donlenbangke</th>\n",
       "      <th>donthuquyxacnhan</th>\n",
       "      <th>trangthaigiaohang</th>\n",
       "      <th>inserted_at</th>\n",
       "    </tr>\n",
       "  </thead>\n",
       "  <tbody>\n",
       "    <tr>\n",
       "      <th>0</th>\n",
       "      <td>DH012017-12644</td>\n",
       "      <td>MR0003</td>\n",
       "      <td>CS</td>\n",
       "      <td>MR2168</td>\n",
       "      <td>Lương Tấn Khả</td>\n",
       "      <td>Lương Tấn Khả</td>\n",
       "      <td>Lương Tấn Khả</td>\n",
       "      <td>2017-01-18</td>\n",
       "      <td>2017-04-18</td>\n",
       "      <td>TD42I014</td>\n",
       "      <td>...</td>\n",
       "      <td>0.0</td>\n",
       "      <td>0.0</td>\n",
       "      <td>1</td>\n",
       "      <td>0</td>\n",
       "      <td>0</td>\n",
       "      <td>0</td>\n",
       "      <td>0</td>\n",
       "      <td>0</td>\n",
       "      <td>NaN</td>\n",
       "      <td>2021-11-11 15:28:41.303347</td>\n",
       "    </tr>\n",
       "    <tr>\n",
       "      <th>1</th>\n",
       "      <td>DH012017-13345</td>\n",
       "      <td>MR0001</td>\n",
       "      <td>CS</td>\n",
       "      <td>MR0456</td>\n",
       "      <td>Lương Tấn Khả</td>\n",
       "      <td>Lương Tấn Khả</td>\n",
       "      <td>Lương Tấn Khả</td>\n",
       "      <td>2017-01-18</td>\n",
       "      <td>2017-04-18</td>\n",
       "      <td>N02209270</td>\n",
       "      <td>...</td>\n",
       "      <td>0.0</td>\n",
       "      <td>0.0</td>\n",
       "      <td>1</td>\n",
       "      <td>0</td>\n",
       "      <td>0</td>\n",
       "      <td>0</td>\n",
       "      <td>0</td>\n",
       "      <td>0</td>\n",
       "      <td>NaN</td>\n",
       "      <td>2021-11-11 15:28:41.303347</td>\n",
       "    </tr>\n",
       "    <tr>\n",
       "      <th>2</th>\n",
       "      <td>DH012017-13346</td>\n",
       "      <td>MR0001</td>\n",
       "      <td>CS</td>\n",
       "      <td>MR0456</td>\n",
       "      <td>Lương Tấn Khả</td>\n",
       "      <td>Lương Tấn Khả</td>\n",
       "      <td>Lương Tấn Khả</td>\n",
       "      <td>2017-01-18</td>\n",
       "      <td>2017-04-18</td>\n",
       "      <td>N02209270</td>\n",
       "      <td>...</td>\n",
       "      <td>0.0</td>\n",
       "      <td>0.0</td>\n",
       "      <td>1</td>\n",
       "      <td>0</td>\n",
       "      <td>0</td>\n",
       "      <td>0</td>\n",
       "      <td>0</td>\n",
       "      <td>0</td>\n",
       "      <td>NaN</td>\n",
       "      <td>2021-11-11 15:28:41.303347</td>\n",
       "    </tr>\n",
       "    <tr>\n",
       "      <th>3</th>\n",
       "      <td>DH012017-13360</td>\n",
       "      <td>MR0001</td>\n",
       "      <td>CS</td>\n",
       "      <td>MR0456</td>\n",
       "      <td>Lương Tấn Khả</td>\n",
       "      <td>Lương Tấn Khả</td>\n",
       "      <td>Lương Tấn Khả</td>\n",
       "      <td>2017-01-18</td>\n",
       "      <td>2017-04-18</td>\n",
       "      <td>N02209270</td>\n",
       "      <td>...</td>\n",
       "      <td>0.0</td>\n",
       "      <td>0.0</td>\n",
       "      <td>1</td>\n",
       "      <td>0</td>\n",
       "      <td>0</td>\n",
       "      <td>0</td>\n",
       "      <td>0</td>\n",
       "      <td>0</td>\n",
       "      <td>NaN</td>\n",
       "      <td>2021-11-11 15:28:41.303347</td>\n",
       "    </tr>\n",
       "    <tr>\n",
       "      <th>4</th>\n",
       "      <td>DH012019-05622</td>\n",
       "      <td>MR0003</td>\n",
       "      <td>CS</td>\n",
       "      <td>MR2168</td>\n",
       "      <td>Lê Thị Mai Phương</td>\n",
       "      <td>Lê Thị Mai Phương</td>\n",
       "      <td>Lê Thị Mai Phương</td>\n",
       "      <td>2019-01-10</td>\n",
       "      <td>2019-04-10</td>\n",
       "      <td>TD30I028</td>\n",
       "      <td>...</td>\n",
       "      <td>0.0</td>\n",
       "      <td>0.0</td>\n",
       "      <td>1</td>\n",
       "      <td>0</td>\n",
       "      <td>0</td>\n",
       "      <td>0</td>\n",
       "      <td>0</td>\n",
       "      <td>0</td>\n",
       "      <td>NaN</td>\n",
       "      <td>2021-11-11 15:28:41.303347</td>\n",
       "    </tr>\n",
       "    <tr>\n",
       "      <th>...</th>\n",
       "      <td>...</td>\n",
       "      <td>...</td>\n",
       "      <td>...</td>\n",
       "      <td>...</td>\n",
       "      <td>...</td>\n",
       "      <td>...</td>\n",
       "      <td>...</td>\n",
       "      <td>...</td>\n",
       "      <td>...</td>\n",
       "      <td>...</td>\n",
       "      <td>...</td>\n",
       "      <td>...</td>\n",
       "      <td>...</td>\n",
       "      <td>...</td>\n",
       "      <td>...</td>\n",
       "      <td>...</td>\n",
       "      <td>...</td>\n",
       "      <td>...</td>\n",
       "      <td>...</td>\n",
       "      <td>...</td>\n",
       "      <td>...</td>\n",
       "    </tr>\n",
       "    <tr>\n",
       "      <th>106596</th>\n",
       "      <td>DH122020-39619</td>\n",
       "      <td>MR0013</td>\n",
       "      <td>CS</td>\n",
       "      <td>MR1768</td>\n",
       "      <td>Đinh Thị Ngọc Mẫn</td>\n",
       "      <td>Đinh Thị Ngọc Mẫn</td>\n",
       "      <td>Đinh Thị Ngọc Mẫn</td>\n",
       "      <td>2020-12-30</td>\n",
       "      <td>2021-03-30</td>\n",
       "      <td>N0110332</td>\n",
       "      <td>...</td>\n",
       "      <td>7400000.0</td>\n",
       "      <td>7400000.0</td>\n",
       "      <td>1</td>\n",
       "      <td>0</td>\n",
       "      <td>0</td>\n",
       "      <td>0</td>\n",
       "      <td>1</td>\n",
       "      <td>1</td>\n",
       "      <td>NaN</td>\n",
       "      <td>2021-11-11 15:28:41.303347</td>\n",
       "    </tr>\n",
       "    <tr>\n",
       "      <th>106597</th>\n",
       "      <td>DH122020-39846</td>\n",
       "      <td>MR0010</td>\n",
       "      <td>CS</td>\n",
       "      <td>MR2000</td>\n",
       "      <td>Lê Thị Mai Phương</td>\n",
       "      <td>Lê Thị Mai Phương</td>\n",
       "      <td>Lê Thị Mai Phương</td>\n",
       "      <td>2020-12-30</td>\n",
       "      <td>2021-03-30</td>\n",
       "      <td>HH04E001</td>\n",
       "      <td>...</td>\n",
       "      <td>3700001.0</td>\n",
       "      <td>3700001.0</td>\n",
       "      <td>1</td>\n",
       "      <td>0</td>\n",
       "      <td>0</td>\n",
       "      <td>0</td>\n",
       "      <td>1</td>\n",
       "      <td>1</td>\n",
       "      <td>NaN</td>\n",
       "      <td>2021-11-11 15:28:41.303347</td>\n",
       "    </tr>\n",
       "    <tr>\n",
       "      <th>106598</th>\n",
       "      <td>DH122020-39876</td>\n",
       "      <td>MR0001</td>\n",
       "      <td>CS</td>\n",
       "      <td>MR2081</td>\n",
       "      <td>Lương Tấn Khả</td>\n",
       "      <td>Lương Tấn Khả</td>\n",
       "      <td>Lương Tấn Khả</td>\n",
       "      <td>2020-12-30</td>\n",
       "      <td>2021-03-30</td>\n",
       "      <td>TN90I018</td>\n",
       "      <td>...</td>\n",
       "      <td>0.0</td>\n",
       "      <td>0.0</td>\n",
       "      <td>1</td>\n",
       "      <td>0</td>\n",
       "      <td>0</td>\n",
       "      <td>0</td>\n",
       "      <td>0</td>\n",
       "      <td>0</td>\n",
       "      <td>NaN</td>\n",
       "      <td>2021-11-11 15:28:41.303347</td>\n",
       "    </tr>\n",
       "    <tr>\n",
       "      <th>106599</th>\n",
       "      <td>DH122020-40762</td>\n",
       "      <td>MR0001</td>\n",
       "      <td>CS</td>\n",
       "      <td>MR0246</td>\n",
       "      <td>Phạm Thị Cẩm Tú</td>\n",
       "      <td>Phạm Thị Cẩm Tú</td>\n",
       "      <td>Phạm Thị Cẩm Tú</td>\n",
       "      <td>2020-12-31</td>\n",
       "      <td>2021-03-31</td>\n",
       "      <td>M100902</td>\n",
       "      <td>...</td>\n",
       "      <td>1920000.0</td>\n",
       "      <td>1920000.0</td>\n",
       "      <td>1</td>\n",
       "      <td>0</td>\n",
       "      <td>0</td>\n",
       "      <td>0</td>\n",
       "      <td>1</td>\n",
       "      <td>1</td>\n",
       "      <td>NaN</td>\n",
       "      <td>2021-11-11 15:28:41.303347</td>\n",
       "    </tr>\n",
       "    <tr>\n",
       "      <th>106600</th>\n",
       "      <td>DH122020-40763</td>\n",
       "      <td>MR0001</td>\n",
       "      <td>CS</td>\n",
       "      <td>MR0246</td>\n",
       "      <td>Phạm Thị Cẩm Tú</td>\n",
       "      <td>Phạm Thị Cẩm Tú</td>\n",
       "      <td>Phạm Thị Cẩm Tú</td>\n",
       "      <td>2020-12-31</td>\n",
       "      <td>2021-01-30</td>\n",
       "      <td>M100903</td>\n",
       "      <td>...</td>\n",
       "      <td>1800000.0</td>\n",
       "      <td>1800000.0</td>\n",
       "      <td>1</td>\n",
       "      <td>0</td>\n",
       "      <td>0</td>\n",
       "      <td>0</td>\n",
       "      <td>1</td>\n",
       "      <td>1</td>\n",
       "      <td>NaN</td>\n",
       "      <td>2021-11-11 15:28:41.303347</td>\n",
       "    </tr>\n",
       "  </tbody>\n",
       "</table>\n",
       "<p>106600 rows × 39 columns</p>\n",
       "</div>"
      ],
      "text/plain": [
       "              ordernbr branchid position slsperid            supname  \\\n",
       "0       DH012017-12644   MR0003       CS   MR2168      Lương Tấn Khả   \n",
       "1       DH012017-13345   MR0001       CS   MR0456      Lương Tấn Khả   \n",
       "2       DH012017-13346   MR0001       CS   MR0456      Lương Tấn Khả   \n",
       "3       DH012017-13360   MR0001       CS   MR0456      Lương Tấn Khả   \n",
       "4       DH012019-05622   MR0003       CS   MR2168  Lê Thị Mai Phương   \n",
       "...                ...      ...      ...      ...                ...   \n",
       "106596  DH122020-39619   MR0013       CS   MR1768  Đinh Thị Ngọc Mẫn   \n",
       "106597  DH122020-39846   MR0010       CS   MR2000  Lê Thị Mai Phương   \n",
       "106598  DH122020-39876   MR0001       CS   MR2081      Lương Tấn Khả   \n",
       "106599  DH122020-40762   MR0001       CS   MR0246    Phạm Thị Cẩm Tú   \n",
       "106600  DH122020-40763   MR0001       CS   MR0246    Phạm Thị Cẩm Tú   \n",
       "\n",
       "                  asmname            rsmname dateoforder    duedate  \\\n",
       "0           Lương Tấn Khả      Lương Tấn Khả  2017-01-18 2017-04-18   \n",
       "1           Lương Tấn Khả      Lương Tấn Khả  2017-01-18 2017-04-18   \n",
       "2           Lương Tấn Khả      Lương Tấn Khả  2017-01-18 2017-04-18   \n",
       "3           Lương Tấn Khả      Lương Tấn Khả  2017-01-18 2017-04-18   \n",
       "4       Lê Thị Mai Phương  Lê Thị Mai Phương  2019-01-10 2019-04-10   \n",
       "...                   ...                ...         ...        ...   \n",
       "106596  Đinh Thị Ngọc Mẫn  Đinh Thị Ngọc Mẫn  2020-12-30 2021-03-30   \n",
       "106597  Lê Thị Mai Phương  Lê Thị Mai Phương  2020-12-30 2021-03-30   \n",
       "106598      Lương Tấn Khả      Lương Tấn Khả  2020-12-30 2021-03-30   \n",
       "106599    Phạm Thị Cẩm Tú    Phạm Thị Cẩm Tú  2020-12-31 2021-03-31   \n",
       "106600    Phạm Thị Cẩm Tú    Phạm Thị Cẩm Tú  2020-12-31 2021-01-30   \n",
       "\n",
       "           custid  ... tienlenbangke tienthuquyxacnhan dondauky donchotso  \\\n",
       "0        TD42I014  ...           0.0               0.0        1         0   \n",
       "1       N02209270  ...           0.0               0.0        1         0   \n",
       "2       N02209270  ...           0.0               0.0        1         0   \n",
       "3       N02209270  ...           0.0               0.0        1         0   \n",
       "4        TD30I028  ...           0.0               0.0        1         0   \n",
       "...           ...  ...           ...               ...      ...       ...   \n",
       "106596   N0110332  ...     7400000.0         7400000.0        1         0   \n",
       "106597   HH04E001  ...     3700001.0         3700001.0        1         0   \n",
       "106598   TN90I018  ...           0.0               0.0        1         0   \n",
       "106599    M100902  ...     1920000.0         1920000.0        1         0   \n",
       "106600    M100903  ...     1800000.0         1800000.0        1         0   \n",
       "\n",
       "       dongiaothanhcong donhuy donlenbangke donthuquyxacnhan  \\\n",
       "0                     0      0            0                0   \n",
       "1                     0      0            0                0   \n",
       "2                     0      0            0                0   \n",
       "3                     0      0            0                0   \n",
       "4                     0      0            0                0   \n",
       "...                 ...    ...          ...              ...   \n",
       "106596                0      0            1                1   \n",
       "106597                0      0            1                1   \n",
       "106598                0      0            0                0   \n",
       "106599                0      0            1                1   \n",
       "106600                0      0            1                1   \n",
       "\n",
       "       trangthaigiaohang                inserted_at  \n",
       "0                    NaN 2021-11-11 15:28:41.303347  \n",
       "1                    NaN 2021-11-11 15:28:41.303347  \n",
       "2                    NaN 2021-11-11 15:28:41.303347  \n",
       "3                    NaN 2021-11-11 15:28:41.303347  \n",
       "4                    NaN 2021-11-11 15:28:41.303347  \n",
       "...                  ...                        ...  \n",
       "106596               NaN 2021-11-11 15:28:41.303347  \n",
       "106597               NaN 2021-11-11 15:28:41.303347  \n",
       "106598               NaN 2021-11-11 15:28:41.303347  \n",
       "106599               NaN 2021-11-11 15:28:41.303347  \n",
       "106600               NaN 2021-11-11 15:28:41.303347  \n",
       "\n",
       "[106600 rows x 39 columns]"
      ]
     },
     "execution_count": 54,
     "metadata": {},
     "output_type": "execute_result"
    }
   ],
   "source": [
    "dropdup(df2,1,['ordernbr', 'branchid', 'dateoforder', 'duedate'])"
   ]
  },
  {
   "cell_type": "code",
   "execution_count": 56,
   "metadata": {},
   "outputs": [
    {
     "data": {
      "text/html": [
       "<div>\n",
       "<style scoped>\n",
       "    .dataframe tbody tr th:only-of-type {\n",
       "        vertical-align: middle;\n",
       "    }\n",
       "\n",
       "    .dataframe tbody tr th {\n",
       "        vertical-align: top;\n",
       "    }\n",
       "\n",
       "    .dataframe thead th {\n",
       "        text-align: right;\n",
       "    }\n",
       "</style>\n",
       "<table border=\"1\" class=\"dataframe\">\n",
       "  <thead>\n",
       "    <tr style=\"text-align: right;\">\n",
       "      <th></th>\n",
       "      <th>ordernbr</th>\n",
       "      <th>branchid</th>\n",
       "      <th>position</th>\n",
       "      <th>slsperid</th>\n",
       "      <th>supname</th>\n",
       "      <th>asmname</th>\n",
       "      <th>rsmname</th>\n",
       "      <th>dateoforder</th>\n",
       "      <th>duedate</th>\n",
       "      <th>custid</th>\n",
       "      <th>...</th>\n",
       "      <th>tienlenbangke</th>\n",
       "      <th>tienthuquyxacnhan</th>\n",
       "      <th>dondauky</th>\n",
       "      <th>donchotso</th>\n",
       "      <th>dongiaothanhcong</th>\n",
       "      <th>donhuy</th>\n",
       "      <th>donlenbangke</th>\n",
       "      <th>donthuquyxacnhan</th>\n",
       "      <th>trangthaigiaohang</th>\n",
       "      <th>inserted_at</th>\n",
       "    </tr>\n",
       "  </thead>\n",
       "  <tbody>\n",
       "    <tr>\n",
       "      <th>105655</th>\n",
       "      <td>DH112021-01987</td>\n",
       "      <td>MR0001</td>\n",
       "      <td>CS</td>\n",
       "      <td>MR2081</td>\n",
       "      <td>Lê Thị Mai Phương</td>\n",
       "      <td>Lê Thị Mai Phương</td>\n",
       "      <td>Lê Thị Mai Phương</td>\n",
       "      <td>2021-11-10</td>\n",
       "      <td>2022-02-08</td>\n",
       "      <td>TN90I048</td>\n",
       "      <td>...</td>\n",
       "      <td>0.0</td>\n",
       "      <td>0.0</td>\n",
       "      <td>0</td>\n",
       "      <td>1</td>\n",
       "      <td>0</td>\n",
       "      <td>0</td>\n",
       "      <td>0</td>\n",
       "      <td>0</td>\n",
       "      <td>NaN</td>\n",
       "      <td>2021-11-11 15:28:41.303347</td>\n",
       "    </tr>\n",
       "    <tr>\n",
       "      <th>105656</th>\n",
       "      <td>DH112021-01987</td>\n",
       "      <td>MR0001</td>\n",
       "      <td>CS</td>\n",
       "      <td>MR2081</td>\n",
       "      <td>Lê Thị Mai Phương</td>\n",
       "      <td>Lê Thị Mai Phương</td>\n",
       "      <td>Lê Thị Mai Phương</td>\n",
       "      <td>2021-11-10</td>\n",
       "      <td>2022-02-08</td>\n",
       "      <td>TN90I048</td>\n",
       "      <td>...</td>\n",
       "      <td>0.0</td>\n",
       "      <td>0.0</td>\n",
       "      <td>0</td>\n",
       "      <td>0</td>\n",
       "      <td>1</td>\n",
       "      <td>0</td>\n",
       "      <td>0</td>\n",
       "      <td>0</td>\n",
       "      <td>NaN</td>\n",
       "      <td>2021-11-11 15:28:41.303347</td>\n",
       "    </tr>\n",
       "  </tbody>\n",
       "</table>\n",
       "<p>2 rows × 39 columns</p>\n",
       "</div>"
      ],
      "text/plain": [
       "              ordernbr branchid position slsperid            supname  \\\n",
       "105655  DH112021-01987   MR0001       CS   MR2081  Lê Thị Mai Phương   \n",
       "105656  DH112021-01987   MR0001       CS   MR2081  Lê Thị Mai Phương   \n",
       "\n",
       "                  asmname            rsmname dateoforder    duedate    custid  \\\n",
       "105655  Lê Thị Mai Phương  Lê Thị Mai Phương  2021-11-10 2022-02-08  TN90I048   \n",
       "105656  Lê Thị Mai Phương  Lê Thị Mai Phương  2021-11-10 2022-02-08  TN90I048   \n",
       "\n",
       "        ... tienlenbangke tienthuquyxacnhan dondauky donchotso  \\\n",
       "105655  ...           0.0               0.0        0         1   \n",
       "105656  ...           0.0               0.0        0         0   \n",
       "\n",
       "       dongiaothanhcong donhuy donlenbangke donthuquyxacnhan  \\\n",
       "105655                0      0            0                0   \n",
       "105656                1      0            0                0   \n",
       "\n",
       "       trangthaigiaohang                inserted_at  \n",
       "105655               NaN 2021-11-11 15:28:41.303347  \n",
       "105656               NaN 2021-11-11 15:28:41.303347  \n",
       "\n",
       "[2 rows x 39 columns]"
      ]
     },
     "execution_count": 56,
     "metadata": {},
     "output_type": "execute_result"
    }
   ],
   "source": [
    "df2[checkdup(df2, 2, ['ordernbr', 'branchid', 'dateoforder', 'duedate'])]"
   ]
  },
  {
   "cell_type": "code",
   "execution_count": null,
   "metadata": {},
   "outputs": [],
   "source": [
    "commit_psql(\"truncate table f_tracking_debt cascade;\")"
   ]
  },
  {
   "cell_type": "code",
   "execution_count": null,
   "metadata": {},
   "outputs": [],
   "source": [
    "execute_values_upsert(df2, 'f_tracking_debt', pk=primary_keys)"
   ]
  }
 ],
 "metadata": {
  "interpreter": {
   "hash": "f94d6dad5013d632e8b52fc362848c71d5234e1d7ba23afa22c3a2e55512dabd"
  },
  "kernelspec": {
   "display_name": "Python 3.9.6 64-bit ('venv': venv)",
   "name": "python3"
  },
  "language_info": {
   "codemirror_mode": {
    "name": "ipython",
    "version": 3
   },
   "file_extension": ".py",
   "mimetype": "text/x-python",
   "name": "python",
   "nbconvert_exporter": "python",
   "pygments_lexer": "ipython3",
   "version": "3.9.6"
  }
 },
 "nbformat": 4,
 "nbformat_minor": 2
}
