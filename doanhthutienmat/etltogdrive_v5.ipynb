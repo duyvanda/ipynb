{
 "cells": [
  {
   "cell_type": "code",
   "execution_count": 1,
   "metadata": {},
   "outputs": [
    {
     "name": "stdout",
     "output_type": "stream",
     "text": [
      "d:\\data_sale\\venv\\Scripts\n"
     ]
    }
   ],
   "source": [
    "import sys\n",
    "import os\n",
    "from datetime import datetime\n",
    "from datetime import datetime\n",
    "from utils.df_handle import *\n",
    "import pandas as pd\n",
    "import numpy as np\n",
    "import time\n",
    "print(os.path.dirname(sys.executable))"
   ]
  },
  {
   "cell_type": "code",
   "execution_count": 2,
   "metadata": {},
   "outputs": [],
   "source": [
    "datenow = datetime.now().strftime(\"%Y%m%d\")\n",
    "param_1 = f\"'20161130'\"\n",
    "param_2 = f\"'20211012'\"\n",
    "param_3 = f\"'{datenow}'\""
   ]
  },
  {
   "cell_type": "code",
   "execution_count": 3,
   "metadata": {},
   "outputs": [
    {
     "name": "stdout",
     "output_type": "stream",
     "text": [
      "45.72133731842041\n"
     ]
    }
   ],
   "source": [
    "query = f\"EXEC [pr_AR_TrackingDebtConfirm]  @Fromdate={param_1}, @Todate={param_3}\"\n",
    "start=time.time()\n",
    "df1 = get_ms_df(sql=query, parse_dates={\"DateOfOrder\": {\"dayfirst\": True}, \"DueDate\": {\"dayfirst\": True}})\n",
    "# df1.to_csv('doanhthutienmat_data1.csv', index = False)\n",
    "end=time.time()\n",
    "duration=end-start\n",
    "print(duration)"
   ]
  },
  {
   "cell_type": "code",
   "execution_count": 9,
   "metadata": {},
   "outputs": [
    {
     "data": {
      "text/plain": [
       "Index(['BranchID', 'BranchName', 'SupName', 'ASMName', 'RSMName', 'SlsperID',\n",
       "       'SlsperName', 'Position', 'DebtInCharge', 'PaymentsForm', 'TermsType',\n",
       "       'OrderDate', 'OrderNbr', 'DateOfOrder', 'DeliveryUnit', 'DeliveryTime',\n",
       "       'Terms', 'DueDate', 'CustID', 'CustName', 'Channels', 'SubChannel',\n",
       "       'Territory', 'Streets', 'Ward', 'District', 'State', 'Attn', 'Phone',\n",
       "       'PhoneCustInvc', 'CountOpeningOrder', 'OpeiningOrderAmt',\n",
       "       'CountOrdRelease', 'OrdAmtRelease', 'DeliveredOrder',\n",
       "       'DeliveredOrderAmt', 'CountReturnOrd', 'ReturnOrdAmt', 'ConfirmAmt',\n",
       "       'ReasonNoPay', 'CountDebtConfirm', 'DebConfirmAmt',\n",
       "       'CountDebtConfirmRelease', 'DebConfirmAmtRelease'],\n",
       "      dtype='object')"
      ]
     },
     "execution_count": 9,
     "metadata": {},
     "output_type": "execute_result"
    }
   ],
   "source": [
    "df1.columns"
   ]
  },
  {
   "cell_type": "code",
   "execution_count": 10,
   "metadata": {},
   "outputs": [
    {
     "data": {
      "text/html": [
       "<div>\n",
       "<style scoped>\n",
       "    .dataframe tbody tr th:only-of-type {\n",
       "        vertical-align: middle;\n",
       "    }\n",
       "\n",
       "    .dataframe tbody tr th {\n",
       "        vertical-align: top;\n",
       "    }\n",
       "\n",
       "    .dataframe thead th {\n",
       "        text-align: right;\n",
       "    }\n",
       "</style>\n",
       "<table border=\"1\" class=\"dataframe\">\n",
       "  <thead>\n",
       "    <tr style=\"text-align: right;\">\n",
       "      <th></th>\n",
       "      <th>BranchID</th>\n",
       "      <th>BranchName</th>\n",
       "      <th>SupName</th>\n",
       "      <th>ASMName</th>\n",
       "      <th>RSMName</th>\n",
       "      <th>SlsperID</th>\n",
       "      <th>SlsperName</th>\n",
       "      <th>Position</th>\n",
       "      <th>DebtInCharge</th>\n",
       "      <th>PaymentsForm</th>\n",
       "      <th>...</th>\n",
       "      <th>DeliveredOrder</th>\n",
       "      <th>DeliveredOrderAmt</th>\n",
       "      <th>CountReturnOrd</th>\n",
       "      <th>ReturnOrdAmt</th>\n",
       "      <th>ConfirmAmt</th>\n",
       "      <th>ReasonNoPay</th>\n",
       "      <th>CountDebtConfirm</th>\n",
       "      <th>DebConfirmAmt</th>\n",
       "      <th>CountDebtConfirmRelease</th>\n",
       "      <th>DebConfirmAmtRelease</th>\n",
       "    </tr>\n",
       "  </thead>\n",
       "  <tbody>\n",
       "  </tbody>\n",
       "</table>\n",
       "<p>0 rows × 44 columns</p>\n",
       "</div>"
      ],
      "text/plain": [
       "Empty DataFrame\n",
       "Columns: [BranchID, BranchName, SupName, ASMName, RSMName, SlsperID, SlsperName, Position, DebtInCharge, PaymentsForm, TermsType, OrderDate, OrderNbr, DateOfOrder, DeliveryUnit, DeliveryTime, Terms, DueDate, CustID, CustName, Channels, SubChannel, Territory, Streets, Ward, District, State, Attn, Phone, PhoneCustInvc, CountOpeningOrder, OpeiningOrderAmt, CountOrdRelease, OrdAmtRelease, DeliveredOrder, DeliveredOrderAmt, CountReturnOrd, ReturnOrdAmt, ConfirmAmt, ReasonNoPay, CountDebtConfirm, DebConfirmAmt, CountDebtConfirmRelease, DebConfirmAmtRelease]\n",
       "Index: []\n",
       "\n",
       "[0 rows x 44 columns]"
      ]
     },
     "execution_count": 10,
     "metadata": {},
     "output_type": "execute_result"
    }
   ],
   "source": [
    "df1[checkdup(df1, 2, ['BranchID','OrderDate','OrderNbr','DateOfOrder','DueDate'])]"
   ]
  },
  {
   "cell_type": "code",
   "execution_count": 11,
   "metadata": {},
   "outputs": [
    {
     "data": {
      "text/html": [
       "<div>\n",
       "<style scoped>\n",
       "    .dataframe tbody tr th:only-of-type {\n",
       "        vertical-align: middle;\n",
       "    }\n",
       "\n",
       "    .dataframe tbody tr th {\n",
       "        vertical-align: top;\n",
       "    }\n",
       "\n",
       "    .dataframe thead th {\n",
       "        text-align: right;\n",
       "    }\n",
       "</style>\n",
       "<table border=\"1\" class=\"dataframe\">\n",
       "  <thead>\n",
       "    <tr style=\"text-align: right;\">\n",
       "      <th></th>\n",
       "      <th>DebtInCharge</th>\n",
       "      <th>counts</th>\n",
       "    </tr>\n",
       "  </thead>\n",
       "  <tbody>\n",
       "    <tr>\n",
       "      <th>0</th>\n",
       "      <td>MDS</td>\n",
       "      <td>196847</td>\n",
       "    </tr>\n",
       "    <tr>\n",
       "      <th>1</th>\n",
       "      <td>CS</td>\n",
       "      <td>28884</td>\n",
       "    </tr>\n",
       "  </tbody>\n",
       "</table>\n",
       "</div>"
      ],
      "text/plain": [
       "  DebtInCharge  counts\n",
       "0          MDS  196847\n",
       "1           CS   28884"
      ]
     },
     "execution_count": 11,
     "metadata": {},
     "output_type": "execute_result"
    }
   ],
   "source": [
    "vc(df1, 'DebtInCharge')"
   ]
  },
  {
   "cell_type": "code",
   "execution_count": 14,
   "metadata": {},
   "outputs": [],
   "source": [
    "df1[['BranchID', 'OrderNbr', 'CustID', 'CustName']].to_clipboard()"
   ]
  },
  {
   "cell_type": "code",
   "execution_count": 15,
   "metadata": {},
   "outputs": [
    {
     "name": "stdout",
     "output_type": "stream",
     "text": [
      "314483832278.0\n"
     ]
    }
   ],
   "source": [
    "print(df1['OrdAmtRelease'].sum())"
   ]
  },
  {
   "cell_type": "code",
   "execution_count": 17,
   "metadata": {},
   "outputs": [],
   "source": [
    "df_vptt = get_ps_df(sql=\"select * from vptt\")"
   ]
  },
  {
   "cell_type": "code",
   "execution_count": null,
   "metadata": {},
   "outputs": [],
   "source": [
    "df_vptt = pd.read_csv('pvtt.csv')\n",
    "df1 = df1.merge(df_vptt, how = 'left', left_on='State', right_on='tinh',suffixes=('_left', '_right'), validate=\"m:1\")"
   ]
  },
  {
   "cell_type": "code",
   "execution_count": null,
   "metadata": {},
   "outputs": [
    {
     "ename": "NameError",
     "evalue": "name 'get_ps_df' is not defined",
     "output_type": "error",
     "traceback": [
      "\u001b[1;31m---------------------------------------------------------------------------\u001b[0m",
      "\u001b[1;31mNameError\u001b[0m                                 Traceback (most recent call last)",
      "\u001b[1;32m~\\AppData\\Local\\Temp/ipykernel_14260/1076019428.py\u001b[0m in \u001b[0;36m<module>\u001b[1;34m\u001b[0m\n\u001b[1;32m----> 1\u001b[1;33m \u001b[0mdf_mkv_viet_tat\u001b[0m \u001b[1;33m=\u001b[0m \u001b[0mget_ps_df\u001b[0m\u001b[1;33m(\u001b[0m\u001b[1;34m\"select * from mkv_viet_tat\"\u001b[0m\u001b[1;33m)\u001b[0m\u001b[1;33m\u001b[0m\u001b[1;33m\u001b[0m\u001b[0m\n\u001b[0m",
      "\u001b[1;31mNameError\u001b[0m: name 'get_ps_df' is not defined"
     ]
    }
   ],
   "source": [
    "df_mkv_viet_tat = get_ps_df(\"select * from mkv_viet_tat\")"
   ]
  },
  {
   "cell_type": "code",
   "execution_count": 71,
   "metadata": {},
   "outputs": [
    {
     "data": {
      "text/plain": [
       "TRẠM             133349\n",
       "VP TRỰC THUỘC     91011\n",
       "Name: vptt, dtype: int64"
      ]
     },
     "execution_count": 71,
     "metadata": {},
     "output_type": "execute_result"
    }
   ],
   "source": [
    "df1['vptt'].value_counts(dropna=False)"
   ]
  },
  {
   "cell_type": "code",
   "execution_count": 72,
   "metadata": {},
   "outputs": [
    {
     "data": {
      "text/plain": [
       "Series([], Name: State, dtype: object)"
      ]
     },
     "execution_count": 72,
     "metadata": {},
     "output_type": "execute_result"
    }
   ],
   "source": [
    "df1['State'][df1['vptt'].isna()]"
   ]
  },
  {
   "cell_type": "code",
   "execution_count": 73,
   "metadata": {},
   "outputs": [
    {
     "data": {
      "text/html": [
       "<div>\n",
       "<style scoped>\n",
       "    .dataframe tbody tr th:only-of-type {\n",
       "        vertical-align: middle;\n",
       "    }\n",
       "\n",
       "    .dataframe tbody tr th {\n",
       "        vertical-align: top;\n",
       "    }\n",
       "\n",
       "    .dataframe thead th {\n",
       "        text-align: right;\n",
       "    }\n",
       "</style>\n",
       "<table border=\"1\" class=\"dataframe\">\n",
       "  <thead>\n",
       "    <tr style=\"text-align: right;\">\n",
       "      <th></th>\n",
       "      <th>State</th>\n",
       "      <th>vptt</th>\n",
       "    </tr>\n",
       "  </thead>\n",
       "  <tbody>\n",
       "    <tr>\n",
       "      <th>0</th>\n",
       "      <td>False</td>\n",
       "      <td>False</td>\n",
       "    </tr>\n",
       "    <tr>\n",
       "      <th>1</th>\n",
       "      <td>False</td>\n",
       "      <td>False</td>\n",
       "    </tr>\n",
       "    <tr>\n",
       "      <th>2</th>\n",
       "      <td>False</td>\n",
       "      <td>False</td>\n",
       "    </tr>\n",
       "    <tr>\n",
       "      <th>3</th>\n",
       "      <td>False</td>\n",
       "      <td>False</td>\n",
       "    </tr>\n",
       "    <tr>\n",
       "      <th>4</th>\n",
       "      <td>False</td>\n",
       "      <td>False</td>\n",
       "    </tr>\n",
       "    <tr>\n",
       "      <th>...</th>\n",
       "      <td>...</td>\n",
       "      <td>...</td>\n",
       "    </tr>\n",
       "    <tr>\n",
       "      <th>224355</th>\n",
       "      <td>False</td>\n",
       "      <td>False</td>\n",
       "    </tr>\n",
       "    <tr>\n",
       "      <th>224356</th>\n",
       "      <td>False</td>\n",
       "      <td>False</td>\n",
       "    </tr>\n",
       "    <tr>\n",
       "      <th>224357</th>\n",
       "      <td>False</td>\n",
       "      <td>False</td>\n",
       "    </tr>\n",
       "    <tr>\n",
       "      <th>224358</th>\n",
       "      <td>False</td>\n",
       "      <td>False</td>\n",
       "    </tr>\n",
       "    <tr>\n",
       "      <th>224359</th>\n",
       "      <td>False</td>\n",
       "      <td>False</td>\n",
       "    </tr>\n",
       "  </tbody>\n",
       "</table>\n",
       "<p>224360 rows × 2 columns</p>\n",
       "</div>"
      ],
      "text/plain": [
       "        State   vptt\n",
       "0       False  False\n",
       "1       False  False\n",
       "2       False  False\n",
       "3       False  False\n",
       "4       False  False\n",
       "...       ...    ...\n",
       "224355  False  False\n",
       "224356  False  False\n",
       "224357  False  False\n",
       "224358  False  False\n",
       "224359  False  False\n",
       "\n",
       "[224360 rows x 2 columns]"
      ]
     },
     "execution_count": 73,
     "metadata": {},
     "output_type": "execute_result"
    }
   ],
   "source": [
    "df1[['State','vptt']].isna()"
   ]
  },
  {
   "cell_type": "code",
   "execution_count": 74,
   "metadata": {},
   "outputs": [
    {
     "data": {
      "text/plain": [
       "DateOfOrder    datetime64[ns]\n",
       "DueDate        datetime64[ns]\n",
       "dtype: object"
      ]
     },
     "execution_count": 74,
     "metadata": {},
     "output_type": "execute_result"
    }
   ],
   "source": [
    "df1[['DateOfOrder', 'DueDate']].dtypes"
   ]
  },
  {
   "cell_type": "code",
   "execution_count": 75,
   "metadata": {},
   "outputs": [
    {
     "data": {
      "text/plain": [
       "Nguyễn Hoàng Nguyên    27171\n",
       "Lâm Mạnh Quyền         23242\n",
       "Nguyễn Phước Hòa       22797\n",
       "Nguyễn Hoàng Mạnh      22626\n",
       "Nguyễn Văn Tiến        18518\n",
       "Trương Tới             18330\n",
       "Nguyễn Minh Thảo       18320\n",
       "Nguyễn Tùng Lâm        17833\n",
       "Vũ Đình Thắng          14936\n",
       "Nguyễn Thái Bảo        14428\n",
       "Phan Việt Khải         11890\n",
       "Lê Tấn Hải              5587\n",
       "Nguyễn Chí Tâm          4456\n",
       "Nguyễn Xuân Kiệt        2053\n",
       "                         931\n",
       "Lâm Văn Cảnh             366\n",
       "Mai Thị Thanh Phúc       353\n",
       "Nguyễn Thị Hằng          302\n",
       "Nguyễn Thành Hiệp        171\n",
       "Hoàng Trung Thành         37\n",
       "Lương Trịnh Thắng          7\n",
       "Trần Quang Thịnh           4\n",
       "Trần Gia Vĩnh              2\n",
       "Name: SupName, dtype: int64"
      ]
     },
     "execution_count": 75,
     "metadata": {},
     "output_type": "execute_result"
    }
   ],
   "source": [
    "df1.SupName.value_counts(dropna=False)"
   ]
  },
  {
   "cell_type": "code",
   "execution_count": 76,
   "metadata": {},
   "outputs": [],
   "source": [
    "groupbylist = [\n",
    "    'OrderNbr', \n",
    "    'BranchID', \n",
    "    'Position', \n",
    "    'SlsperID', \n",
    "    'SupName', \n",
    "    'ASMName', \n",
    "    'RSMName', \n",
    "    'DateOfOrder', \n",
    "    'DueDate',\n",
    "    'SlsperName',\n",
    "    'DebtInCharge',\n",
    "    'Terms', \n",
    "    'PaymentsForm',\n",
    "    'TermsType',\n",
    "    'Territory', \n",
    "    'State', \n",
    "    'vptt', \n",
    "    'DeliveryUnit',\n",
    "    'SubChannel'\n",
    "    ]"
   ]
  },
  {
   "cell_type": "code",
   "execution_count": 77,
   "metadata": {},
   "outputs": [],
   "source": [
    "aggregate_dict = {\n",
    "'OpeiningOrderAmt':np.sum,\n",
    "'OrdAmtRelease':np.sum,\n",
    "'DeliveredOrderAmt':np.sum,\n",
    "'ReturnOrdAmt': np.sum,\n",
    "'DebConfirmAmt': np.sum,\n",
    "'DebConfirmAmtRelease': np.sum,\n",
    "#DonHang8\n",
    "'CountOpeningOrder':np.sum,\n",
    "'CountOrdRelease': np.sum,\n",
    "'DeliveredOrder':np.sum,\n",
    "'CountReturnOrd': np.sum,\n",
    "'CountDebtConfirm': np.sum,\n",
    "'CountDebtConfirmRelease':np.sum\n",
    "}"
   ]
  },
  {
   "cell_type": "code",
   "execution_count": 87,
   "metadata": {},
   "outputs": [],
   "source": [
    "df2 = df1.groupby(groupbylist, dropna=False).aggregate(aggregate_dict).reset_index()"
   ]
  },
  {
   "cell_type": "code",
   "execution_count": 88,
   "metadata": {},
   "outputs": [
    {
     "name": "stdout",
     "output_type": "stream",
     "text": [
      "False\n"
     ]
    }
   ],
   "source": [
    "print(df2['OrdAmtRelease'].sum()==185823616294)"
   ]
  },
  {
   "cell_type": "code",
   "execution_count": 89,
   "metadata": {},
   "outputs": [
    {
     "data": {
      "text/plain": [
       "90688   2016-12-13\n",
       "90689   2016-12-14\n",
       "90690   2016-12-28\n",
       "0       2017-01-18\n",
       "1       2017-01-18\n",
       "Name: DateOfOrder, dtype: datetime64[ns]"
      ]
     },
     "execution_count": 89,
     "metadata": {},
     "output_type": "execute_result"
    }
   ],
   "source": [
    "df2['DateOfOrder'].nsmallest(5)"
   ]
  },
  {
   "cell_type": "code",
   "execution_count": 90,
   "metadata": {},
   "outputs": [
    {
     "data": {
      "text/plain": [
       "Index(['OrderNbr', 'BranchID', 'Position', 'SlsperID', 'SupName', 'ASMName',\n",
       "       'RSMName', 'DateOfOrder', 'DueDate', 'SlsperName', 'DebtInCharge',\n",
       "       'Terms', 'PaymentsForm', 'TermsType', 'Territory', 'State', 'vptt',\n",
       "       'DeliveryUnit', 'SubChannel', 'OpeiningOrderAmt', 'OrdAmtRelease',\n",
       "       'DeliveredOrderAmt', 'ReturnOrdAmt', 'DebConfirmAmt',\n",
       "       'DebConfirmAmtRelease', 'CountOpeningOrder', 'CountOrdRelease',\n",
       "       'DeliveredOrder', 'CountReturnOrd', 'CountDebtConfirm',\n",
       "       'CountDebtConfirmRelease'],\n",
       "      dtype='object')"
      ]
     },
     "execution_count": 90,
     "metadata": {},
     "output_type": "execute_result"
    }
   ],
   "source": [
    "df2.columns"
   ]
  },
  {
   "cell_type": "code",
   "execution_count": 91,
   "metadata": {},
   "outputs": [],
   "source": [
    "rename_dict ={\n",
    "# Doanh So\n",
    "'OpeiningOrderAmt': 'tiennodauky',\n",
    "'OrdAmtRelease':'tienchotso',\n",
    "'DeliveredOrderAmt':'tiengiaothanhcong',\n",
    "'ReturnOrdAmt':'tienhuydon',\n",
    "'DebConfirmAmt':'tienlenbangke',\n",
    "'DebConfirmAmtRelease':'tienthuquyxacnhan',\n",
    "# Don Hang\n",
    "'CountOpeningOrder': 'dondauky',\n",
    "'CountOrdRelease':'donchotso',\n",
    "'DeliveredOrder':'dongiaothanhcong',\n",
    "'CountReturnOrd':'donhuy',\n",
    "'CountDebtConfirm':'donlenbangke',\n",
    "'CountDebtConfirmRelease':'donthuquyxacnhan'\n",
    "}\n",
    "df2.rename(columns=rename_dict, inplace=True)"
   ]
  },
  {
   "cell_type": "code",
   "execution_count": 92,
   "metadata": {},
   "outputs": [],
   "source": [
    "df2['tiennocongty'] = df2['tiennodauky'] + df2['tienchotso'].values - df2['tienhuydon'].values - df2['tienthuquyxacnhan'].values\n",
    "# df2['tiennocongty'] = np.where(df2['chitietnocongty']>0, df2['chitietnocongty'].values, 0)\n",
    "# df2['chitietdonnocongty'] = df2['dondauky'] + df2['donchotso'] - df2['donthuquyxacnhan'] - df2['donhuy']\n",
    "# df2['donnocongty_old'] = df2.apply(lambda x: x['chitietdonnocongty'] if x['chitietdonnocongty']>0 else 0, axis=1)\n",
    "df2['donnocongty'] = np.where(df2['tiennocongty'].values > 0, 1, 0)\n",
    "\n",
    "df2['donchuagiao'] = df2['donchotso'] - df2['dongiaothanhcong'] - df2['donhuy']\n",
    "df2['tiendonchuagiao'] = df2['tienchotso'] - df2['tiengiaothanhcong'] - df2['tienhuydon']\n",
    "\n",
    "date_now_at_midnight = datetime.now().replace(hour=0, minute=0, second=0, microsecond=0)\n",
    "df2['OverDueDate'] = np.where(df2['DueDate'].values <= np.datetime64(date_now_at_midnight), True, False)\n",
    "# df2['OverDueDate'].value_counts()\n",
    "df2['nodenhan'] = np.where(df2['OverDueDate'].values, df2['tiennocongty'].values, 0)\n",
    "df2['nochuadenhan'] = np.where(df2['OverDueDate'].values != True, df2['tiennocongty'].values, 0)"
   ]
  },
  {
   "cell_type": "code",
   "execution_count": 93,
   "metadata": {},
   "outputs": [],
   "source": [
    "df2[df2['OverDueDate']].to_clipboard()"
   ]
  },
  {
   "cell_type": "code",
   "execution_count": 94,
   "metadata": {},
   "outputs": [
    {
     "data": {
      "text/plain": [
       "array(['Cho nợ', 'Thanh Toán Ngay'], dtype=object)"
      ]
     },
     "execution_count": 94,
     "metadata": {},
     "output_type": "execute_result"
    }
   ],
   "source": [
    "un(df2, 'TermsType')"
   ]
  },
  {
   "cell_type": "code",
   "execution_count": 95,
   "metadata": {},
   "outputs": [
    {
     "data": {
      "text/html": [
       "<div>\n",
       "<style scoped>\n",
       "    .dataframe tbody tr th:only-of-type {\n",
       "        vertical-align: middle;\n",
       "    }\n",
       "\n",
       "    .dataframe tbody tr th {\n",
       "        vertical-align: top;\n",
       "    }\n",
       "\n",
       "    .dataframe thead th {\n",
       "        text-align: right;\n",
       "    }\n",
       "</style>\n",
       "<table border=\"1\" class=\"dataframe\">\n",
       "  <thead>\n",
       "    <tr style=\"text-align: right;\">\n",
       "      <th></th>\n",
       "      <th>OrderNbr</th>\n",
       "      <th>BranchID</th>\n",
       "      <th>Position</th>\n",
       "      <th>SlsperID</th>\n",
       "      <th>SupName</th>\n",
       "      <th>ASMName</th>\n",
       "      <th>RSMName</th>\n",
       "      <th>DateOfOrder</th>\n",
       "      <th>DueDate</th>\n",
       "      <th>SlsperName</th>\n",
       "      <th>...</th>\n",
       "      <th>donhuy</th>\n",
       "      <th>donlenbangke</th>\n",
       "      <th>donthuquyxacnhan</th>\n",
       "      <th>tiennocongty</th>\n",
       "      <th>donnocongty</th>\n",
       "      <th>donchuagiao</th>\n",
       "      <th>tiendonchuagiao</th>\n",
       "      <th>OverDueDate</th>\n",
       "      <th>nodenhan</th>\n",
       "      <th>nochuadenhan</th>\n",
       "    </tr>\n",
       "  </thead>\n",
       "  <tbody>\n",
       "  </tbody>\n",
       "</table>\n",
       "<p>0 rows × 38 columns</p>\n",
       "</div>"
      ],
      "text/plain": [
       "Empty DataFrame\n",
       "Columns: [OrderNbr, BranchID, Position, SlsperID, SupName, ASMName, RSMName, DateOfOrder, DueDate, SlsperName, DebtInCharge, Terms, PaymentsForm, TermsType, Territory, State, vptt, DeliveryUnit, SubChannel, tiennodauky, tienchotso, tiengiaothanhcong, tienhuydon, tienlenbangke, tienthuquyxacnhan, dondauky, donchotso, dongiaothanhcong, donhuy, donlenbangke, donthuquyxacnhan, tiennocongty, donnocongty, donchuagiao, tiendonchuagiao, OverDueDate, nodenhan, nochuadenhan]\n",
       "Index: []\n",
       "\n",
       "[0 rows x 38 columns]"
      ]
     },
     "execution_count": 95,
     "metadata": {},
     "output_type": "execute_result"
    }
   ],
   "source": [
    "df2[checkdup(df2, 2, ['BranchID','OrderNbr','DateOfOrder','DueDate'])]"
   ]
  },
  {
   "cell_type": "code",
   "execution_count": 50,
   "metadata": {},
   "outputs": [
    {
     "name": "stdout",
     "output_type": "stream",
     "text": [
      "OrderNbr VARCHAR(100) NULL,\n",
      "BranchID VARCHAR(100) NULL,\n",
      "Position VARCHAR(100) NULL,\n",
      "SlsperID VARCHAR(100) NULL,\n",
      "SupName VARCHAR(100) NULL,\n",
      "ASMName VARCHAR(100) NULL,\n",
      "RSMName VARCHAR(100) NULL,\n",
      "DateOfOrder TIMESTAMP NULL,\n",
      "DueDate TIMESTAMP NULL,\n",
      "SlsperName VARCHAR(100) NULL,\n",
      "DebtInCharge VARCHAR(100) NULL,\n",
      "Terms VARCHAR(100) NULL,\n",
      "PaymentsForm VARCHAR(100) NULL,\n",
      "TermsType VARCHAR(100) NULL,\n",
      "Territory VARCHAR(100) NULL,\n",
      "State VARCHAR(100) NULL,\n",
      "vptt VARCHAR(100) NULL,\n",
      "DeliveryUnit VARCHAR(100) NULL,\n",
      "SubChannel VARCHAR(100) NULL,\n",
      "tiennodauky NUMERIC(24) NULL,\n",
      "tienchotso NUMERIC(24) NULL,\n",
      "tiengiaothanhcong NUMERIC(24) NULL,\n",
      "tienhuydon NUMERIC(24) NULL,\n",
      "tienlenbangke NUMERIC(24) NULL,\n",
      "tienthuquyxacnhan NUMERIC(24) NULL,\n",
      "dondauky BIGINT NULL,\n",
      "donchotso BIGINT NULL,\n",
      "dongiaothanhcong BIGINT NULL,\n",
      "donhuy BIGINT NULL,\n",
      "donlenbangke BIGINT NULL,\n",
      "donthuquyxacnhan BIGINT NULL,\n",
      "tiennocongty NUMERIC(24) NULL,\n",
      "donnocongty BIGINT NULL,\n",
      "donchuagiao BIGINT NULL,\n",
      "tiendonchuagiao NUMERIC(24) NULL,\n",
      "OverDueDate BOOLEAN NULL,\n",
      "nodenhan NUMERIC(24) NULL,\n",
      "nochuadenhan NUMERIC(24) NULL,\n"
     ]
    }
   ],
   "source": [
    "print_df_schema(df2)"
   ]
  },
  {
   "cell_type": "code",
   "execution_count": 4,
   "metadata": {},
   "outputs": [],
   "source": [
    "postgres_conf = {\"host\": \"171.235.26.161\",\"port\": 5432,\"user\": \"biteam\",\"password\": \"123biteam\",\"database\": \"biteam\"}"
   ]
  },
  {
   "cell_type": "code",
   "execution_count": 6,
   "metadata": {},
   "outputs": [],
   "source": [
    "x = [x.lower() for x in df_vptt.columns]\n",
    "df_vptt.columns = x"
   ]
  },
  {
   "cell_type": "code",
   "execution_count": 55,
   "metadata": {},
   "outputs": [],
   "source": [
    "df3=df2.head(5)"
   ]
  },
  {
   "cell_type": "code",
   "execution_count": 7,
   "metadata": {},
   "outputs": [],
   "source": [
    "insert_df_to_postgres(\n",
    "postgres_conf, tbl_name=\"vptt\",\n",
    "df=df_vptt, primary_keys=['tinh'], schema=\"biteam\")"
   ]
  },
  {
   "cell_type": "code",
   "execution_count": 98,
   "metadata": {},
   "outputs": [],
   "source": [
    "insert_df_to_postgres(\n",
    "postgres_conf, tbl_name=\"trackingdebt_2\",\n",
    "df=df_vptt, primary_keys=['ordernbr', 'branchid', 'dateoforder', 'duedate'], schema=\"biteam\")"
   ]
  },
  {
   "cell_type": "code",
   "execution_count": null,
   "metadata": {},
   "outputs": [],
   "source": []
  }
 ],
 "metadata": {
  "interpreter": {
   "hash": "f94d6dad5013d632e8b52fc362848c71d5234e1d7ba23afa22c3a2e55512dabd"
  },
  "kernelspec": {
   "display_name": "Python 3.9.6 64-bit ('venv': venv)",
   "name": "python3"
  },
  "language_info": {
   "codemirror_mode": {
    "name": "ipython",
    "version": 3
   },
   "file_extension": ".py",
   "mimetype": "text/x-python",
   "name": "python",
   "nbconvert_exporter": "python",
   "pygments_lexer": "ipython3",
   "version": "3.9.6"
  }
 },
 "nbformat": 4,
 "nbformat_minor": 2
}
