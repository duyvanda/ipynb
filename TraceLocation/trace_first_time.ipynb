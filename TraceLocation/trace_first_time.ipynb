{
 "cells": [
  {
   "cell_type": "code",
   "execution_count": 2,
   "metadata": {},
   "outputs": [],
   "source": [
    "from utils.df_handle import *"
   ]
  },
  {
   "cell_type": "code",
   "execution_count": 3,
   "metadata": {},
   "outputs": [],
   "source": [
    "datenow = datetime.now().strftime(\"%Y-%m-%d\")\n",
    "datenow_mns1 = (datetime.now() - timedelta(days=1)).strftime(\"%Y-%m-%d\")\n",
    "fdom = datetime.now().replace(day=1).strftime(\"%Y%m%d\")"
   ]
  },
  {
   "cell_type": "code",
   "execution_count": 4,
   "metadata": {},
   "outputs": [
    {
     "data": {
      "text/plain": [
       "'2022-03-28'"
      ]
     },
     "execution_count": 4,
     "metadata": {},
     "output_type": "execute_result"
    }
   ],
   "source": [
    "datenow_mns1"
   ]
  },
  {
   "cell_type": "code",
   "execution_count": 5,
   "metadata": {},
   "outputs": [],
   "source": [
    "sql = \\\n",
    "f\"\"\"\n",
    "WITH T1 as\n",
    "(\n",
    "SELECT\n",
    "BranchID,\n",
    "SlsperID,\n",
    "Lat,\n",
    "Lng,\n",
    "CustID,\n",
    "Type as Typ,\n",
    "NumberCICO,\n",
    "UpdateTime as CheckInUpdateTime\n",
    "from dbo.AR_SalespersonLocationTrace \n",
    "where CAST (UpdateTime as DATE) >= '{datenow_mns1}'\n",
    "and CAST (UpdateTime as DATE) <= '{datenow_mns1}'\n",
    "and Type = 'IO'\n",
    "--ORDER BY UpdateTime ASC\n",
    ")\n",
    "\n",
    "--select top 100 SUBSTRING(Type,1,2), Type from dbo.AR_SalespersonLocationTrace where CAST (UpdateTime as DATE) = '2022-03-25'\n",
    ", T2 as\n",
    "(\n",
    "SELECT\n",
    "BranchID,\n",
    "SlsperID,\n",
    "SUBSTRING(Type,3,20) as DeOrderNbr,\n",
    "UpdateTime as DE_UpdateTime,\n",
    "NumberCICO\n",
    "from\n",
    "dbo.AR_SalespersonLocationTrace\n",
    "where CAST (UpdateTime as DATE) >= '{datenow_mns1}'\n",
    "and CAST (UpdateTime as DATE) <= '{datenow_mns1}'\n",
    "and SUBSTRING(Type,1,2) = 'DE'\n",
    ")\n",
    "\n",
    "Select\n",
    "T1.BranchID,\n",
    "T1.SlsperID,\n",
    "Lat,\n",
    "Lng,\n",
    "CustID,\n",
    "Typ,\n",
    "T1.NumberCICO,\n",
    "CheckInUpdateTime,\n",
    "DeOrderNbr,\n",
    "DE_UpdateTime\n",
    "from T1\n",
    "LEFT JOIN T2 ON\n",
    "T1.NumberCICO = T2.NumberCICO\n",
    "and T1.BranchID = T2.BranchID\n",
    "and T1.SlsperID = T1.SlsperID\n",
    "ORDER BY CheckInUpdateTime ASC\n",
    "\"\"\""
   ]
  },
  {
   "cell_type": "code",
   "execution_count": 12,
   "metadata": {},
   "outputs": [],
   "source": [
    "TRACE = get_ms_df(sql)"
   ]
  },
  {
   "cell_type": "code",
   "execution_count": 5,
   "metadata": {},
   "outputs": [],
   "source": [
    "conn = get_conn()"
   ]
  },
  {
   "cell_type": "code",
   "execution_count": 7,
   "metadata": {},
   "outputs": [],
   "source": [
    "TRACE.columns = lower_col(TRACE)"
   ]
  },
  {
   "cell_type": "code",
   "execution_count": 8,
   "metadata": {},
   "outputs": [],
   "source": [
    "TRACE.to_sql(name=\"d_trace_location\", con=conn, index=False, if_exists='replace')"
   ]
  },
  {
   "cell_type": "code",
   "execution_count": 14,
   "metadata": {},
   "outputs": [],
   "source": [
    "TRACE.DeOrderNbr = np.where(TRACE.DeOrderNbr.isna(), None, TRACE.DeOrderNbr)\n",
    "# TRACE.DE_UpdateTime = np.where(TRACE.DE_UpdateTime.isna(), None, TRACE.DE_UpdateTime)"
   ]
  },
  {
   "cell_type": "code",
   "execution_count": 16,
   "metadata": {},
   "outputs": [],
   "source": [
    "TRACE.DE_UpdateTime = np.where(TRACE.DE_UpdateTime.isna(), None, TRACE.DE_UpdateTime)"
   ]
  },
  {
   "cell_type": "code",
   "execution_count": 19,
   "metadata": {},
   "outputs": [],
   "source": [
    "TRACE.DE_UpdateTime = pd.to_datetime(TRACE.DE_UpdateTime, dayfirst=True)"
   ]
  },
  {
   "cell_type": "code",
   "execution_count": 22,
   "metadata": {},
   "outputs": [],
   "source": [
    "TRACE.DE_UpdateTime.fillna(datetime(1900,1,1), inplace=True)"
   ]
  },
  {
   "cell_type": "code",
   "execution_count": 34,
   "metadata": {},
   "outputs": [
    {
     "name": "stdout",
     "output_type": "stream",
     "text": [
      "Data inserted using execute_values() successfully..\n"
     ]
    }
   ],
   "source": [
    "execute_values_insert(TRACE, \"d_trace_location\")"
   ]
  },
  {
   "cell_type": "code",
   "execution_count": 31,
   "metadata": {},
   "outputs": [
    {
     "data": {
      "text/plain": [
       "Index(['BranchID', 'SlsperID', 'Lat', 'Lng', 'CustID', 'Typ', 'NumberCICO',\n",
       "       'CheckInUpdateTime', 'DeOrderNbr', 'DE_UpdateTime'],\n",
       "      dtype='object')"
      ]
     },
     "execution_count": 31,
     "metadata": {},
     "output_type": "execute_result"
    }
   ],
   "source": [
    "TRACE.columns"
   ]
  },
  {
   "cell_type": "code",
   "execution_count": 33,
   "metadata": {},
   "outputs": [
    {
     "data": {
      "text/plain": [
       "13"
      ]
     },
     "execution_count": 33,
     "metadata": {},
     "output_type": "execute_result"
    }
   ],
   "source": [
    "max(TRACE.CustID.str.len())"
   ]
  },
  {
   "cell_type": "code",
   "execution_count": null,
   "metadata": {},
   "outputs": [],
   "source": []
  }
 ],
 "metadata": {
  "interpreter": {
   "hash": "f94d6dad5013d632e8b52fc362848c71d5234e1d7ba23afa22c3a2e55512dabd"
  },
  "kernelspec": {
   "display_name": "Python 3.9.6 ('venv': venv)",
   "language": "python",
   "name": "python3"
  },
  "language_info": {
   "codemirror_mode": {
    "name": "ipython",
    "version": 3
   },
   "file_extension": ".py",
   "mimetype": "text/x-python",
   "name": "python",
   "nbconvert_exporter": "python",
   "pygments_lexer": "ipython3",
   "version": "3.9.6"
  },
  "orig_nbformat": 4
 },
 "nbformat": 4,
 "nbformat_minor": 2
}
