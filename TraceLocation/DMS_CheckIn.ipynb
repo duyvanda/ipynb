{
 "cells": [
  {
   "cell_type": "code",
   "execution_count": null,
   "metadata": {},
   "outputs": [],
   "source": [
    "import pendulum\n",
    "from airflow import DAG\n",
    "from airflow.operators.dummy_operator import DummyOperator\n",
    "from airflow.operators.python_operator import PythonOperator\n",
    "\n",
    "local_tz = pendulum.timezone(\"Asia/Bangkok\")\n",
    "\n",
    "name='TraceLocation'\n",
    "prefix='DMS_'\n",
    "csv_path = '/usr/local/airflow/plugins'+'/'\n",
    "\n",
    "dag_params = {\n",
    "    'owner': 'airflow',\n",
    "    \"depends_on_past\": False,\n",
    "    'start_date': datetime(2022, 5, 10, tzinfo=local_tz),\n",
    "    'email_on_failure': True,\n",
    "    'email_on_retry': False,\n",
    "    'email':['duyvq@merapgroup.com', 'vanquangduy10@gmail.com'],\n",
    "    'do_xcom_push': False,\n",
    "    'execution_timeout':timedelta(seconds=300)\n",
    "    # 'retries': 3,\n",
    "    # 'retry_delay': timedelta(minutes=10),\n",
    "}\n",
    "\n",
    "dag = DAG(prefix+name,\n",
    "          catchup=False,\n",
    "          default_args=dag_params,\n",
    "          schedule_interval= '5 * * * *',\n",
    "          tags=[prefix+name, 'Daily', '60mins']\n",
    ")"
   ]
  },
  {
   "cell_type": "code",
   "execution_count": 1,
   "metadata": {},
   "outputs": [
    {
     "name": "stdout",
     "output_type": "stream",
     "text": [
      "Default bq project:  spatial-vision-343005.biteam\n"
     ]
    }
   ],
   "source": [
    "from utils.df_handle import *"
   ]
  },
  {
   "cell_type": "code",
   "execution_count": null,
   "metadata": {},
   "outputs": [],
   "source": [
    "datenow = datetime.now().strftime(\"%Y-%m-%d\")\n",
    "datenow_mns1 = (datetime.now() - timedelta(days=1)).strftime(\"%Y-%m-%d\")\n",
    "fdom = datetime.now().replace(day=1).strftime(\"%Y%m%d\")"
   ]
  },
  {
   "cell_type": "code",
   "execution_count": null,
   "metadata": {},
   "outputs": [],
   "source": [
    "sql = \\\n",
    "f\"\"\"\n",
    "DECLARE @from DATE = '{datenow_mns1}'\n",
    "DECLARE @to DATE = '{datenow_mns1}'\n",
    "\n",
    "SELECT\n",
    "BranchID,\n",
    "SlsperID,\n",
    "Lat,\n",
    "Lng,\n",
    "CustID,\n",
    "Type as Typ,\n",
    "CheckType = 'IO',\n",
    "NumberCICO,\n",
    "UpdateTime\n",
    "from dbo.AR_SalespersonLocationTrace \n",
    "where CAST (UpdateTime as DATE) >= @from\n",
    "and CAST (UpdateTime as DATE) <= @to\n",
    "and [Type] = 'IO'\n",
    "\n",
    "UNION ALL\n",
    "\n",
    "SELECT\n",
    "BranchID,\n",
    "SlsperID,\n",
    "Lat,\n",
    "Lng,\n",
    "CustID,\n",
    "Type as Typ,\n",
    "CheckType = 'OO',\n",
    "NumberCICO,\n",
    "UpdateTime\n",
    "from dbo.AR_SalespersonLocationTrace \n",
    "where CAST (UpdateTime as DATE) >= @from\n",
    "and CAST (UpdateTime as DATE) <= @to\n",
    "and [Type] = 'OO'\n",
    "\n",
    "UNION ALL\n",
    "\n",
    "SELECT\n",
    "BranchID,\n",
    "SlsperID,\n",
    "Lat,\n",
    "Lng,\n",
    "CustID,\n",
    "Type,\n",
    "CheckType = 'MaxAction',\n",
    "a.NumberCICO,\n",
    "UpdateTime\n",
    "from dbo.AR_SalespersonLocationTrace a\n",
    "INNER JOIN\n",
    "(\n",
    "SELECT\n",
    "NumberCICO,\n",
    "max(UpdateTime) as MaxUpdateTime\n",
    "from dbo.AR_SalespersonLocationTrace a\n",
    "where CAST (UpdateTime as DATE) >= @from\n",
    "and CAST (UpdateTime as DATE) <= @to\n",
    "and [Type] not in ('OO','IO')\n",
    "group by NumberCICO\n",
    ") b\n",
    "ON a.NumberCICO = b.NumberCICO\n",
    "and a.UpdateTime = MaxUpdateTime\n",
    "where CAST (UpdateTime as DATE) >= @from\n",
    "and CAST (UpdateTime as DATE) <= @to\n",
    "and [Type] not in ('OO','IO')\n",
    "\"\"\"\n",
    "TRACE = get_ms_df(sql)\n",
    "\n",
    "try:\n",
    "    assert TRACE.shape[0] > 0\n",
    "    bq_values_insert(TRACE, \"d_checkin\", 2)\n",
    "except AssertionError:\n",
    "    print(\"There is no data\")"
   ]
  },
  {
   "cell_type": "code",
   "execution_count": null,
   "metadata": {},
   "outputs": [],
   "source": [
    "dummy_start = DummyOperator(task_id=\"dummy_start\", dag=dag)\n",
    "\n",
    "insert = PythonOperator(task_id=\"insert\", python_callable=insert, dag=dag)\n",
    "\n",
    "dummy_start >> insert"
   ]
  }
 ],
 "metadata": {
  "kernelspec": {
   "display_name": "Python 3.8.10 ('venv': venv)",
   "language": "python",
   "name": "python3"
  },
  "language_info": {
   "codemirror_mode": {
    "name": "ipython",
    "version": 3
   },
   "file_extension": ".py",
   "mimetype": "text/x-python",
   "name": "python",
   "nbconvert_exporter": "python",
   "pygments_lexer": "ipython3",
   "version": "3.8.10"
  },
  "orig_nbformat": 4,
  "vscode": {
   "interpreter": {
    "hash": "8fb55849e6741974ce442ee684e971e1b6b22c29ca2b25c3b9069bf531e0354a"
   }
  }
 },
 "nbformat": 4,
 "nbformat_minor": 2
}
