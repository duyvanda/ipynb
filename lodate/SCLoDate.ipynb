{
 "cells": [
  {
   "cell_type": "code",
   "execution_count": 1,
   "metadata": {},
   "outputs": [
    {
     "name": "stdout",
     "output_type": "stream",
     "text": [
      "Default bq project:  spatial-vision-343005.biteam\n"
     ]
    }
   ],
   "source": [
    "from utils.df_handle import *"
   ]
  },
  {
   "cell_type": "code",
   "execution_count": null,
   "metadata": {},
   "outputs": [],
   "source": [
    "import pendulum\n",
    "from airflow import DAG\n",
    "from airflow.operators.dummy_operator import DummyOperator\n",
    "from airflow.operators.python_operator import PythonOperator\n",
    "\n",
    "local_tz = pendulum.timezone(\"Asia/Bangkok\")\n",
    "name='LoDate'\n",
    "prefix='SC_'\n",
    "path = f'/usr/local/airflow/plugins/{prefix}{name}/'\n",
    "\n",
    "# datenow_min1 = (datetime.now() - timedelta(days=1)).strftime(\"%Y-%m-%d\")\n",
    "\n",
    "dag_params = {\n",
    "    'owner': 'airflow',\n",
    "    \"depends_on_past\": False,\n",
    "    'start_date': datetime(2022, 4, 14, tzinfo=local_tz),\n",
    "    'email_on_failure': True,\n",
    "    'email_on_retry': False,\n",
    "    'email':['duyvq@merapgroup.com', 'vanquangduy10@gmail.com'],\n",
    "    'do_xcom_push': False,\n",
    "    'execution_timeout':timedelta(seconds=300)\n",
    "    # 'retries': 3,\n",
    "    # 'retry_delay': timedelta(minutes=10),\n",
    "}\n",
    "\n",
    "dag = DAG(prefix+name,\n",
    "          catchup=False,\n",
    "          default_args=dag_params,\n",
    "          schedule_interval= '0 1 * * *',\n",
    "          tags=[prefix+name, 'Sync', 'at0']\n",
    ")"
   ]
  },
  {
   "cell_type": "code",
   "execution_count": 4,
   "metadata": {},
   "outputs": [],
   "source": [
    "sql = \\\n",
    "\"\"\"\n",
    "SELECT\n",
    "d.BranchID as BranchID,\n",
    "d.BatNbr,\n",
    "p.PONbr,\n",
    "p.Descr,\n",
    "d.InvtID,\n",
    "SiteID=d.SiteID,\n",
    "s.Name,\n",
    "d.TranDate,\n",
    "d.Crtd_DateTime,\n",
    "--d.JrnlType,\n",
    "--d.TranType,\n",
    "--T.TranType as ltTranType,\n",
    "LotSerNbr=isnull(t.LotSerNbr,'')\n",
    ",ExpDate=isnull(t.ExpDate,''),\n",
    "Qty = d.CnvFact * d.InvtMult * isnull(T.Qty,d.Qty)\n",
    "--NhapKhac=0,\n",
    "--QuyCach=dbo.fr_OM_GetCnvFact(d.InvtID)\n",
    "FROM dbo.IN_Trans d WITH(NOLOCK)                   \n",
    "INNER JOIN dbo.IN_LotTrans T WITH(NOLOCK) ON T.BranchID = D.BranchID AND t.BatNbr = d.BatNbr  AND t.RefNbr = d.RefNbr AND t.INTranLineRef = d.LineRef AND t.InvtID = d.InvtID\n",
    "INNER JOIN dbo.IN_Site s ON d.SiteID = s.SiteId\n",
    "INNER JOIN PO_Receipt p on p.BranchID = d.BranchID and p.BatNbr = d.BatNbr\n",
    "--WHERE CAST(d.TranDate AS DATE) BETWEEN CAST('20210501' AS DATE) AND CAST('20220627' AS DATE)\n",
    "AND d.JrnlType  IN ('PO')\n",
    "AND d.TranType IN ('RC') AND t.Qty >0          \n",
    "AND d.Rlsed  =  1       \n",
    "AND d.InvtMult>0\n",
    "\"\"\""
   ]
  },
  {
   "cell_type": "code",
   "execution_count": 5,
   "metadata": {},
   "outputs": [
    {
     "name": "stderr",
     "output_type": "stream",
     "text": [
      "1it [00:05,  5.36s/it]\n"
     ]
    }
   ],
   "source": [
    "df = get_ms_df(sql)\n",
    "bq_values_insert(df, \"d_sc_lodate\", 3)"
   ]
  },
  {
   "cell_type": "code",
   "execution_count": 7,
   "metadata": {},
   "outputs": [
    {
     "data": {
      "text/html": [
       "<div>\n",
       "<style scoped>\n",
       "    .dataframe tbody tr th:only-of-type {\n",
       "        vertical-align: middle;\n",
       "    }\n",
       "\n",
       "    .dataframe tbody tr th {\n",
       "        vertical-align: top;\n",
       "    }\n",
       "\n",
       "    .dataframe thead th {\n",
       "        text-align: right;\n",
       "    }\n",
       "</style>\n",
       "<table border=\"1\" class=\"dataframe\">\n",
       "  <thead>\n",
       "    <tr style=\"text-align: right;\">\n",
       "      <th></th>\n",
       "      <th>branchid</th>\n",
       "      <th>batnbr</th>\n",
       "      <th>ponbr</th>\n",
       "      <th>descr</th>\n",
       "      <th>invtid</th>\n",
       "      <th>siteid</th>\n",
       "      <th>name</th>\n",
       "      <th>trandate</th>\n",
       "      <th>crtd_datetime</th>\n",
       "      <th>lotsernbr</th>\n",
       "      <th>expdate</th>\n",
       "      <th>qty</th>\n",
       "    </tr>\n",
       "  </thead>\n",
       "  <tbody>\n",
       "    <tr>\n",
       "      <th>0</th>\n",
       "      <td>MR0001</td>\n",
       "      <td>IN21807226</td>\n",
       "      <td>MR0001210727001</td>\n",
       "      <td></td>\n",
       "      <td>OH051</td>\n",
       "      <td>WH0001</td>\n",
       "      <td>Kho bán hàng Dược Pha Nam</td>\n",
       "      <td>2021-08-09</td>\n",
       "      <td>2021-08-09 10:02:42.720</td>\n",
       "      <td>0150721</td>\n",
       "      <td>2023-07-25</td>\n",
       "      <td>18000.0</td>\n",
       "    </tr>\n",
       "    <tr>\n",
       "      <th>1</th>\n",
       "      <td>MR0001</td>\n",
       "      <td>IN21807985</td>\n",
       "      <td>MR0001210727002</td>\n",
       "      <td></td>\n",
       "      <td>OH023</td>\n",
       "      <td>WH0001</td>\n",
       "      <td>Kho bán hàng Dược Pha Nam</td>\n",
       "      <td>2021-08-10</td>\n",
       "      <td>2021-08-10 15:51:30.403</td>\n",
       "      <td>0030621</td>\n",
       "      <td>2023-06-06</td>\n",
       "      <td>2100.0</td>\n",
       "    </tr>\n",
       "    <tr>\n",
       "      <th>2</th>\n",
       "      <td>MR0001</td>\n",
       "      <td>IN21807985</td>\n",
       "      <td>MR0001210727002</td>\n",
       "      <td></td>\n",
       "      <td>EH086</td>\n",
       "      <td>WH0001</td>\n",
       "      <td>Kho bán hàng Dược Pha Nam</td>\n",
       "      <td>2021-08-10</td>\n",
       "      <td>2021-08-10 15:51:30.417</td>\n",
       "      <td>0070721</td>\n",
       "      <td>2023-07-12</td>\n",
       "      <td>5000.0</td>\n",
       "    </tr>\n",
       "    <tr>\n",
       "      <th>3</th>\n",
       "      <td>MR0001</td>\n",
       "      <td>IN21807985</td>\n",
       "      <td>MR0001210727002</td>\n",
       "      <td></td>\n",
       "      <td>EH087</td>\n",
       "      <td>WH0001</td>\n",
       "      <td>Kho bán hàng Dược Pha Nam</td>\n",
       "      <td>2021-08-10</td>\n",
       "      <td>2021-08-10 15:51:30.433</td>\n",
       "      <td>0040621</td>\n",
       "      <td>2024-06-21</td>\n",
       "      <td>400.0</td>\n",
       "    </tr>\n",
       "    <tr>\n",
       "      <th>4</th>\n",
       "      <td>MR0001</td>\n",
       "      <td>IN21807985</td>\n",
       "      <td>MR0001210727002</td>\n",
       "      <td></td>\n",
       "      <td>EH087</td>\n",
       "      <td>WH0001</td>\n",
       "      <td>Kho bán hàng Dược Pha Nam</td>\n",
       "      <td>2021-08-10</td>\n",
       "      <td>2021-08-10 15:51:30.433</td>\n",
       "      <td>0050621</td>\n",
       "      <td>2024-06-22</td>\n",
       "      <td>2600.0</td>\n",
       "    </tr>\n",
       "  </tbody>\n",
       "</table>\n",
       "</div>"
      ],
      "text/plain": [
       "  branchid      batnbr            ponbr descr invtid  siteid  \\\n",
       "0   MR0001  IN21807226  MR0001210727001        OH051  WH0001   \n",
       "1   MR0001  IN21807985  MR0001210727002        OH023  WH0001   \n",
       "2   MR0001  IN21807985  MR0001210727002        EH086  WH0001   \n",
       "3   MR0001  IN21807985  MR0001210727002        EH087  WH0001   \n",
       "4   MR0001  IN21807985  MR0001210727002        EH087  WH0001   \n",
       "\n",
       "                        name   trandate           crtd_datetime lotsernbr  \\\n",
       "0  Kho bán hàng Dược Pha Nam 2021-08-09 2021-08-09 10:02:42.720   0150721   \n",
       "1  Kho bán hàng Dược Pha Nam 2021-08-10 2021-08-10 15:51:30.403   0030621   \n",
       "2  Kho bán hàng Dược Pha Nam 2021-08-10 2021-08-10 15:51:30.417   0070721   \n",
       "3  Kho bán hàng Dược Pha Nam 2021-08-10 2021-08-10 15:51:30.433   0040621   \n",
       "4  Kho bán hàng Dược Pha Nam 2021-08-10 2021-08-10 15:51:30.433   0050621   \n",
       "\n",
       "     expdate      qty  \n",
       "0 2023-07-25  18000.0  \n",
       "1 2023-06-06   2100.0  \n",
       "2 2023-07-12   5000.0  \n",
       "3 2024-06-21    400.0  \n",
       "4 2024-06-22   2600.0  "
      ]
     },
     "execution_count": 7,
     "metadata": {},
     "output_type": "execute_result"
    }
   ],
   "source": [
    "df.head()"
   ]
  },
  {
   "cell_type": "code",
   "execution_count": null,
   "metadata": {},
   "outputs": [],
   "source": [
    "def insert():\n",
    "    print(sql)\n",
    "\n",
    "def update():\n",
    "    df = get_ms_df(sql)\n",
    "    bq_values_insert(df, \"d_sc_lodate\", 3)\n",
    "\n",
    "\n",
    "dummy_start = DummyOperator(task_id=\"dummy_start\", dag=dag)\n",
    "\n",
    "insert = PythonOperator(task_id=\"insert\", python_callable=insert, dag=dag)\n",
    "\n",
    "update = PythonOperator(task_id=\"update\", python_callable=update, dag=dag)\n",
    "\n",
    "dummy_start >> insert >> update"
   ]
  }
 ],
 "metadata": {
  "kernelspec": {
   "display_name": "Python 3.9.6 ('venv': venv)",
   "language": "python",
   "name": "python3"
  },
  "language_info": {
   "codemirror_mode": {
    "name": "ipython",
    "version": 3
   },
   "file_extension": ".py",
   "mimetype": "text/x-python",
   "name": "python",
   "nbconvert_exporter": "python",
   "pygments_lexer": "ipython3",
   "version": "3.9.6"
  },
  "orig_nbformat": 4,
  "vscode": {
   "interpreter": {
    "hash": "dff776f8cf9899793f9a0f4d147d4ee0e914dc3f9ff7764d86dd5f5383f5f250"
   }
  }
 },
 "nbformat": 4,
 "nbformat_minor": 2
}
