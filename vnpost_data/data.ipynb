{
 "cells": [
  {
   "cell_type": "code",
   "execution_count": null,
   "metadata": {},
   "outputs": [],
   "source": []
  }
 ],
 "metadata": {
  "kernelspec": {
   "display_name": "Python 3.8.10 64-bit (microsoft store)",
   "language": "python",
   "name": "python3"
  },
  "language_info": {
   "name": "python",
   "version": "3.8.10"
  },
  "orig_nbformat": 4,
  "vscode": {
   "interpreter": {
    "hash": "ae046f0f4aaf937add1ffb96ebeb54aebc750e8892a469245ff8a0fb852c2f0c"
   }
  }
 },
 "nbformat": 4,
 "nbformat_minor": 2
}
