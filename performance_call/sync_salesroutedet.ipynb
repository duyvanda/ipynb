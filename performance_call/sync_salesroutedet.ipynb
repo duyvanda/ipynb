{
 "cells": [
  {
   "cell_type": "code",
   "execution_count": 1,
   "metadata": {},
   "outputs": [
    {
     "name": "stdout",
     "output_type": "stream",
     "text": [
      "Default bq project:  spatial-vision-343005.biteam\n"
     ]
    }
   ],
   "source": [
    "from utils.df_handle import *"
   ]
  },
  {
   "cell_type": "code",
   "execution_count": null,
   "metadata": {},
   "outputs": [],
   "source": [
    "from os import getcwd\n",
    "import pendulum\n",
    "from airflow import DAG\n",
    "from airflow.operators.dummy_operator import DummyOperator\n",
    "from airflow.operators.python_operator import PythonOperator\n",
    "\n",
    "local_tz = pendulum.timezone(\"Asia/Bangkok\")\n",
    "\n",
    "name='SALESROUTEDET'\n",
    "prefix='SYNC_'\n",
    "# csv_path = '/usr/local/airflow/plugins'+'/'+f'{prefix}{name}/'\n",
    "csv_path = getcwd() + \"\\\\\"\n",
    "dag_params = {\n",
    "    'owner': 'airflow',\n",
    "    \"depends_on_past\": False,\n",
    "    'start_date': datetime(2022, 5, 10, tzinfo=local_tz),\n",
    "    # 'email_on_failure': True,\n",
    "    # 'email_on_retry': False,\n",
    "    # 'email':['duyvq@merapgroup.com', 'vanquangduy10@gmail.com'],\n",
    "    'do_xcom_push': False,\n",
    "    'execution_timeout':timedelta(seconds=300)\n",
    "    # 'retries': 3,\n",
    "    # 'retry_delay': timedelta(minutes=10),\n",
    "}\n",
    "\n",
    "dag = DAG(prefix+name,\n",
    "          catchup=False,\n",
    "          default_args=dag_params,\n",
    "          schedule_interval= '0 6-23 * * *',\n",
    "          tags=[prefix+name, 'Sync', '60mins']\n",
    ")"
   ]
  },
  {
   "cell_type": "code",
   "execution_count": 4,
   "metadata": {},
   "outputs": [],
   "source": [
    "# from_tb = \"AR_AdjustDetail\"\n",
    "# from_tb2 = \"OM_DeliReportDet\"\n",
    "# table_name = \"sync_dms_salesroutedet\"\n",
    "# table_temp = \"sync_dms_salesroutedet_temp\""
   ]
  },
  {
   "cell_type": "code",
   "execution_count": 5,
   "metadata": {},
   "outputs": [
    {
     "name": "stderr",
     "output_type": "stream",
     "text": [
      "1it [00:06,  6.22s/it]\n"
     ]
    }
   ],
   "source": [
    "# df = get_ms_df(sql)\n",
    "# df['inserted_at'] = datetime.now()\n",
    "# bq_values_insert(df, f\"{table_temp}\", 3)"
   ]
  },
  {
   "cell_type": "code",
   "execution_count": 6,
   "metadata": {},
   "outputs": [],
   "source": [
    "# sql = \\\n",
    "# f\"\"\"\n",
    "# DROP TABLE IF EXISTS biteam.{table_name};\n",
    "# CREATE TABLE biteam.{table_name} LIKE biteam.{table_temp}\n",
    "# PARTITION BY DATE(visitdate)\n",
    "# CLUSTER BY branchid,slsperid,salesrouteid\n",
    "# \"\"\"\n",
    "# execute_bq_query(sql)"
   ]
  },
  {
   "cell_type": "code",
   "execution_count": 8,
   "metadata": {},
   "outputs": [],
   "source": [
    "# df = get_ms_df(sql)\n",
    "# df.shape\n",
    "# bq_values_insert(df, f\"{table_name}\", 2)"
   ]
  },
  {
   "cell_type": "code",
   "execution_count": 11,
   "metadata": {},
   "outputs": [
    {
     "data": {
      "text/plain": [
       "25"
      ]
     },
     "execution_count": 11,
     "metadata": {},
     "output_type": "execute_result"
    }
   ],
   "source": [
    "# datetime.now().day"
   ]
  },
  {
   "cell_type": "code",
   "execution_count": 54,
   "metadata": {},
   "outputs": [],
   "source": [
    "csv_path = os.getcwd() + \"\\\\\""
   ]
  },
  {
   "cell_type": "code",
   "execution_count": 56,
   "metadata": {},
   "outputs": [],
   "source": [
    "datetime.now().month\n",
    "datetime.now().year\n",
    "df = pd.read_csv(csv_path+\"datetime1.csv\")\n",
    "# df.dtypes\n",
    "df['m'] = datetime.now().month\n",
    "df['y'] = datetime.now().year\n",
    "dk1 = df.month == df.m\n",
    "dk2= df.year == df.y\n",
    "df = df[dk1&dk2]\n",
    "df.fdom.to_list()\n",
    "\n",
    "fdom = df.fdom.to_list()[0]\n",
    "ldom = df.ldom.to_list()[0]\n",
    "# fdom"
   ]
  },
  {
   "cell_type": "code",
   "execution_count": 58,
   "metadata": {},
   "outputs": [],
   "source": [
    "# fdom"
   ]
  },
  {
   "cell_type": "code",
   "execution_count": null,
   "metadata": {},
   "outputs": [],
   "source": [
    "sql = \\\n",
    "f\"\"\"\n",
    "DECLARE @from DATE = {fdom}\n",
    "DECLARE @to DATE = {ldom}\n",
    "select\n",
    "vsr.BranchID,\n",
    "vsr.SlsperID,\n",
    "srd.SalesRouteID,\n",
    "sr.Descr,\n",
    "srd.CustID,\n",
    "srd.VisitDate,\n",
    "srd.DayofWeek,\n",
    "srd.SlsFreq,\n",
    "srd.SlsFreqType,\n",
    "srd.WeekofVisit,\n",
    "srd.WeekNbr,\n",
    "srd.Crtd_Datetime,\n",
    "srd.Crtd_Prog,\n",
    "srd.Crtd_User,\n",
    "srd.LUpd_Datetime,\n",
    "srd.LUpd_Prog,\n",
    "srd.LUpd_User,\n",
    "slr.DelRouteDet,\n",
    "inserted_at = getdate()\n",
    "from OM_SalesRouteDet srd\n",
    "INNER JOIN OM_SalesRoute sr ON\n",
    "srd.SalesRouteID = sr.SalesRouteID and\n",
    "sr.RouteType in ('B','C','D')\n",
    "INNER JOIN dbo.Vs_SalespersonRoute vsr WITH (NOLOCK)\n",
    "ON srd.SalesRouteID = vsr.SalesRouteID\n",
    "AND srd.VisitDate BETWEEN vsr.FromDate AND vsr.ToDate\n",
    "INNER JOIN dbo.vs_OM_SalesRouteMaster slr WITH (NOLOCK)\n",
    "ON slr.CustID = srd.CustID\n",
    "AND slr.SalesRouteID = srd.SalesRouteID\n",
    "AND srd.VisitDate BETWEEN slr.StartDate AND slr.EndDate\n",
    "where cast (srd.VisitDate as date) >= @from and cast (srd.VisitDate as date) <= @to\n",
    "\"\"\""
   ]
  },
  {
   "cell_type": "code",
   "execution_count": 3,
   "metadata": {},
   "outputs": [],
   "source": [
    "sql = \\\n",
    "\"\"\"\n",
    "DECLARE @from DATE = '2022-01-01'\n",
    "DECLARE @to DATE = '2022-07-31'\n",
    "select\n",
    "DISTINCT\n",
    "REPLACE(CONCAT(vsr.BranchID, vsr.SlsperID,srd.SalesRouteID,srd.CustID,CONVERT(varchar, srd.VisitDate, 12)),':','') as pk,\n",
    "vsr.BranchID,\n",
    "vsr.SlsperID,\n",
    "srd.SalesRouteID,\n",
    "sr.Descr,\n",
    "srd.CustID,\n",
    "srd.VisitDate,\n",
    "srd.DayofWeek,\n",
    "srd.SlsFreq,\n",
    "srd.SlsFreqType,\n",
    "srd.WeekofVisit,\n",
    "srd.WeekNbr,\n",
    "srd.Crtd_Datetime,\n",
    "srd.Crtd_Prog,\n",
    "srd.Crtd_User,\n",
    "srd.LUpd_Datetime,\n",
    "srd.LUpd_Prog,\n",
    "srd.LUpd_User,\n",
    "slr.DelRouteDet,\n",
    "inserted_at = getdate()\n",
    "from OM_SalesRouteDet srd\n",
    "INNER JOIN OM_SalesRoute sr ON\n",
    "srd.SalesRouteID = sr.SalesRouteID and\n",
    "sr.RouteType in ('B','C','D')\n",
    "INNER JOIN dbo.Vs_SalespersonRoute vsr WITH (NOLOCK)\n",
    "ON srd.SalesRouteID = vsr.SalesRouteID\n",
    "AND srd.VisitDate BETWEEN vsr.FromDate AND vsr.ToDate\n",
    "INNER JOIN dbo.vs_OM_SalesRouteMaster slr WITH (NOLOCK)\n",
    "ON slr.CustID = srd.CustID\n",
    "AND slr.SalesRouteID = srd.SalesRouteID\n",
    "AND slr.DelRouteDet = 0\n",
    "AND slr.SlsFreq = srd.SlsFreq\n",
    "AND srd.VisitDate BETWEEN slr.StartDate AND slr.EndDate\n",
    "where cast (srd.VisitDate as date) >= @from and cast (srd.VisitDate as date) <= @to\n",
    "--and vsr.SlsperID = 'MR2584'\n",
    "--and vsr.SlsperID = 'MR2584' and srd.SalesRouteID='MCP_BINHPHUOC2' and cast (srd.VisitDate as date) = '2022-08-08' and srd.CustID = 'P0810-0164'\n",
    "\n",
    "\"\"\""
   ]
  },
  {
   "cell_type": "code",
   "execution_count": 4,
   "metadata": {},
   "outputs": [],
   "source": [
    "df = get_ms_df(sql)"
   ]
  },
  {
   "cell_type": "code",
   "execution_count": 8,
   "metadata": {},
   "outputs": [],
   "source": [
    "# df.shape"
   ]
  },
  {
   "cell_type": "code",
   "execution_count": 6,
   "metadata": {},
   "outputs": [],
   "source": [
    "table_name = \"sync_dms_salesroutedet\"\n",
    "table_temp = \"sync_dms_salesroutedet_temp\""
   ]
  },
  {
   "cell_type": "code",
   "execution_count": 7,
   "metadata": {},
   "outputs": [
    {
     "name": "stderr",
     "output_type": "stream",
     "text": [
      "1it [00:23, 23.17s/it]\n"
     ]
    }
   ],
   "source": [
    "bq_values_insert(df, f\"{table_name}\", 2)"
   ]
  },
  {
   "cell_type": "code",
   "execution_count": null,
   "metadata": {},
   "outputs": [],
   "source": []
  }
 ],
 "metadata": {
  "kernelspec": {
   "display_name": "Python 3.9.6 ('venv': venv)",
   "language": "python",
   "name": "python3"
  },
  "language_info": {
   "codemirror_mode": {
    "name": "ipython",
    "version": 3
   },
   "file_extension": ".py",
   "mimetype": "text/x-python",
   "name": "python",
   "nbconvert_exporter": "python",
   "pygments_lexer": "ipython3",
   "version": "3.9.6"
  },
  "orig_nbformat": 4,
  "vscode": {
   "interpreter": {
    "hash": "dff776f8cf9899793f9a0f4d147d4ee0e914dc3f9ff7764d86dd5f5383f5f250"
   }
  }
 },
 "nbformat": 4,
 "nbformat_minor": 2
}
