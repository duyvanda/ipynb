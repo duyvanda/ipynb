{
 "cells": [
  {
   "cell_type": "code",
   "execution_count": 1,
   "metadata": {},
   "outputs": [
    {
     "name": "stdout",
     "output_type": "stream",
     "text": [
      "Default bq project:  spatial-vision-343005.biteam\n"
     ]
    }
   ],
   "source": [
    "from utils.df_handle import *"
   ]
  },
  {
   "cell_type": "markdown",
   "metadata": {},
   "source": [
    "import pendulum\n",
    "from airflow import DAG\n",
    "from airflow.operators.dummy_operator import DummyOperator\n",
    "from airflow.operators.python_operator import PythonOperator\n",
    "from airflow.providers.tableau.operators.tableau_refresh_workbook import TableauRefreshWorkbookOperator\n",
    "from airflow.providers.postgres.hooks.postgres import PostgresHook\n",
    "from airflow.providers.microsoft.mssql.hooks.mssql import MsSqlHook\n",
    "\n",
    "\n",
    "local_tz = pendulum.timezone(\"Asia/Bangkok\")\n",
    "\n",
    "name='WorkPlan'\n",
    "prefix='ETC_'\n",
    "csv_path = '/usr/local/airflow/plugins'+'/'\n",
    "path = '/usr/local/airflow/dags/files/csv_congno/'\n",
    "pk_path = '/usr/local/airflow/plugins/Debt_DataDoanhThuPickles/'\n",
    "\n",
    "dag_params = {\n",
    "    'owner': 'airflow',\n",
    "    \"depends_on_past\": False,\n",
    "    'start_date': datetime(2021, 10, 1, tzinfo=local_tz),\n",
    "    # 'email_on_failure': True,\n",
    "    # 'email_on_retry': False,\n",
    "    # 'email':['duyvq@merapgroup.com', 'vanquangduy10@gmail.com'],\n",
    "    'do_xcom_push': False,\n",
    "    'execution_timeout':timedelta(seconds=600)\n",
    "    # 'retries': 3,\n",
    "    # 'retry_delay': timedelta(minutes=10),\n",
    "}\n",
    "\n",
    "dag = DAG(prefix+name,\n",
    "          catchup=False,\n",
    "          default_args=dag_params,\n",
    "          schedule_interval= '@daily',\n",
    "          tags=[prefix+name, @daily]\n",
    ")"
   ]
  },
  {
   "cell_type": "code",
   "execution_count": 121,
   "metadata": {},
   "outputs": [],
   "source": [
    "m = datetime.now().month\n",
    "nm = m+1 if m != 12 else 1\n",
    "y = datetime.now().year\n",
    "ny = datetime.now().year if m != 12 else y+1\n",
    "# str(m) + str(y)\n",
    "fdom = datetime(y, m, 1)\n",
    "ldom = datetime(ny, nm, 1) - timedelta(days=1)\n",
    "fdom = fdom.strftime(\"%Y-%m-%d\")\n",
    "ldom = ldom.strftime(\"%Y-%m-%d\")\n",
    "my = str(m) + str(y)\n",
    "\n",
    "def extract_dms():\n",
    "    ETC_WorkingResult = get_ms_df(f\"\"\"exec [pr_ETC_WorkingResult_BI] '{fdom}', '{ldom}'\"\"\")\n",
    "    ETC_WorkingPlan = get_ms_df(f\"\"\"exec [pr_ETC_WorkingPlan_BI] '{fdom}', '{ldom}' \"\"\")\n",
    "    ETC_WorkingResult.to_pickle(\"ETC_WorkingResult.pk\")\n",
    "    ETC_WorkingPlan.to_pickle(\"ETC_WorkingPlan.pk\")\n",
    "\n",
    "\n",
    "def insert():\n",
    "    ETC_WorkingResult = pd.read_pickle(\"ETC_WorkingResult.pk\")\n",
    "    ETC_WorkingPlan = pd.read_pickle(\"ETC_WorkingPlan.pk\")\n",
    "\n",
    "    ETC_WorkingResult.VisitDate =  pd.to_datetime(ETC_WorkingResult.VisitDate)\n",
    "    ETC_WorkingResult['my'] = my\n",
    "    ETC_WorkingResult['inserted_at'] = datetime.now()\n",
    "    execute_bq_query(f\"\"\" DELETE FROM `spatial-vision-343005.biteam.sync_dms_etc_workingresult` where my = '{my}' \"\"\")\n",
    "    bq_values_insert(ETC_WorkingResult, \"sync_dms_etc_workingresult\", 3)\n",
    "    \n",
    "    ETC_WorkingPlan['my'] = str(m) + str(y)\n",
    "    ETC_WorkingPlan['inserted_at'] = datetime.now()\n",
    "    execute_bq_query(f\"\"\" DELETE FROM `spatial-vision-343005.biteam.sync_dms_etc_workingplan` where my = '{my}' \"\"\")\n",
    "    bq_values_insert(ETC_WorkingPlan, \"sync_dms_etc_workingplan\", 3)"
   ]
  },
  {
   "cell_type": "code",
   "execution_count": 122,
   "metadata": {},
   "outputs": [],
   "source": [
    "extract_dms()"
   ]
  },
  {
   "cell_type": "code",
   "execution_count": 123,
   "metadata": {},
   "outputs": [],
   "source": [
    "insert()"
   ]
  },
  {
   "cell_type": "code",
   "execution_count": null,
   "metadata": {},
   "outputs": [],
   "source": [
    "dummy_start = DummyOperator(task_id=\"dummy_start\", dag=dag)\n",
    "\n",
    "extract_dms = PythonOperator(task_id=\"extract_dms\", python_callable=extract_dms, dag=dag)\n",
    "\n",
    "insert = PythonOperator(task_id=\"insert\", python_callable=insert, dag=dag)\n",
    "\n",
    "dummy_start >> extract_dms >> insert"
   ]
  }
 ],
 "metadata": {
  "kernelspec": {
   "display_name": "Python 3.8.10 ('env': venv)",
   "language": "python",
   "name": "python3"
  },
  "language_info": {
   "codemirror_mode": {
    "name": "ipython",
    "version": 3
   },
   "file_extension": ".py",
   "mimetype": "text/x-python",
   "name": "python",
   "nbconvert_exporter": "python",
   "pygments_lexer": "ipython3",
   "version": "3.8.10"
  },
  "orig_nbformat": 4,
  "vscode": {
   "interpreter": {
    "hash": "e3e62c236e1a80b91bd28884dfef8ca4e8a5f2f97e25c469797e512f6e958bfc"
   }
  }
 },
 "nbformat": 4,
 "nbformat_minor": 2
}
