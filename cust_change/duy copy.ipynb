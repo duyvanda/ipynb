{
 "cells": [
  {
   "cell_type": "code",
   "execution_count": 1,
   "metadata": {},
   "outputs": [
    {
     "name": "stdout",
     "output_type": "stream",
     "text": [
      "Default bq project:  spatial-vision-343005.biteam\n"
     ]
    }
   ],
   "source": [
    "from utils.df_handle import *"
   ]
  },
  {
   "cell_type": "code",
   "execution_count": 3,
   "metadata": {},
   "outputs": [],
   "source": [
    "datenow_1day_ago = ( datetime.now()-timedelta(1) ).strftime(\"%Y-%m-%d\")"
   ]
  },
  {
   "cell_type": "code",
   "execution_count": 5,
   "metadata": {},
   "outputs": [],
   "source": [
    "# datenow_1day_ago"
   ]
  },
  {
   "cell_type": "code",
   "execution_count": 2,
   "metadata": {},
   "outputs": [],
   "source": [
    "#notebook setting to display all the rowns and columns to have better clearity on the data.\n",
    "\n",
    "pd.set_option('display.max_rows', 1000)\n",
    "pd.set_option('display.max_columns', 1000)\n",
    "pd.set_option('display.width', 1000)\n",
    "pd.set_option('display.expand_frame_repr', False)"
   ]
  },
  {
   "cell_type": "code",
   "execution_count": 5,
   "metadata": {},
   "outputs": [],
   "source": [
    "sql = \\\n",
    "\"\"\"\n",
    "With #InvoiceCount as\n",
    "(\n",
    "SELECT * FROM\n",
    "(\n",
    "SELECT custInvoice.CustID, Invoice.TaxID, ROW_NUMBER()\n",
    "OVER (PARTITION BY CustID ORDER BY (SELECT NULL)) AS RowNum\n",
    "FROM    AR_Customer_InvoiceCustomer custInvoice WITH(NOLOCK) \n",
    "INNER JOIN AR_CustomerInvoice Invoice WITH(NOLOCK) ON Invoice.CustIDInvoice = custInvoice.CustIDInvoice  \n",
    "where Active = 1\n",
    ") t\n",
    "WHERE t.RowNum=1\n",
    ")\n",
    "\n",
    "select\n",
    "ch.Version,\n",
    "1 as version_id,\n",
    "ch.CustID,\n",
    "ch.BranchID,\n",
    "isnull(ss.Descr, 'UnKnow') as SalesSystem,\n",
    "ch.Channel,\n",
    "ch.ShopType,\n",
    "ch.HCOID,\n",
    "ch.HCOType,\n",
    "isnull(ch.ClassID, 'UnKnow') as ClassID,\n",
    "CheckTerm = CASE ch.CheckTerm WHEN N'N' THEN N'Không Kiểm Tra' WHEN N'D' THEN N'Kiểm Tra Nợ Quá Hạn' ELSE 'UnKnow' END,\n",
    "ch.LUpd_Datetime,\n",
    "ch.LUpd_User,\n",
    "cust.Crtd_Datetime,\n",
    "cust.Crtd_User,\n",
    "isnull(ch.CustName, 'UnKnow') as CustName,\n",
    "isnull(ch.Addr1, 'UnKnow') as Addr1,\n",
    "isnull(ch.Attn, 'UnKnow') as Attn,\n",
    "isnull(cou.Descr, 'UnKnow') as Country,\n",
    "isnull(si.Descr, 'UnKnow') as State,\n",
    "isnull(di.Name, 'UnKnow') as District,\n",
    "isnull(w.name, 'UnKnow') as Ward,\n",
    "isnull(ch.EMailAddr, 'UnKnow') as EMailAddr,\n",
    "isnull(ch.Fax, 'UnKnow') as Fax,\n",
    "isnull(ch.Phone, 'UnKnow') as Phone,\n",
    "isnull(ch.SlsperId, 'UnKnow') as SlsperId,\n",
    "--isnull(ch.Status, 'UnKnow') as Status,\n",
    "Status = CASE\n",
    "            WHEN ch.Status = 'A' THEN\n",
    "                N'Đang Hoạt Động'\n",
    "            WHEN ch.Status = 'I' THEN\n",
    "                N'Ngưng Hoạt Động'\n",
    "            WHEN ch.Status = 'H' THEN\n",
    "                N'Chờ Xử Lý'\n",
    "\t\t\tELSE 'UnKnow'\n",
    "        END,\n",
    "isnull(ch.Terms, 'UnKnow') as Terms,\n",
    "isnull(t.Descr, 'UnKnow') as Territory,\n",
    "isnull(ch.Zip, 'UnKnow') as Zip,\n",
    "ISNULL(convert(varchar,ch.EstablishDate,23 ),'1900-01-01') as EstablishDate,\n",
    "isnull(ch.RefCustID, 'UnKnow') as RefCustID,\n",
    "isnull(ch.InActive, 'UnKnow') as InActive,\n",
    "isnull(ch.BusinessName, 'UnKnow') as BusinessName,\n",
    "isnull(ch.Market, 'UnKnow') as Market,\n",
    "isnull(ch.BillMarket, 'UnKnow') as BillMarket,\n",
    "isnull(ch.OriCustID, 'UnKnow') as OriCustID,\n",
    "isnull(ch.GeneralCustID, 'UnKnow') as GeneralCustID,\n",
    "isnull(pay.Descr, 'UnKnow') as PaymentsForm,\n",
    "isnull(mag.Descr, 'UnKnow') as GenOrders,\n",
    "isnull(ex.Descr, 'UnKnow') as BatchExpForm,\n",
    "isnull(ch.CustIdPublic, 'UnKnow') as CustIdPublic,\n",
    "isnull(ch.ShoperID, 'UnKnow') as ShoperID,\n",
    "isnull(cast (ch.IsAgency as nvarchar), 'UnKnow') as IsAgency,\n",
    "isnull(ch.AgencyID, 'UnKnow') as AgencyID,\n",
    "isnull(tc.Descr, 'UnKnow') as TaxDeclaration,\n",
    "isnull(act.Descr, 'UnKnow') as StockSales,\n",
    "isnull(ch.BusinessScope, 'UnKnow') as BusinessScope,\n",
    "isnull(ch.LegalName, 'UnKnow') as LegalName,\n",
    "ISNULL(convert(varchar,ch.LegalDate,23 ),'1900-01-01') as LegalDate,\n",
    "isnull(ch.ChargeReceive, 'UnKnow') as ChargeReceive,\n",
    "isnull(ch.ChargePayment, 'UnKnow') as ChargePayment,\n",
    "isnull(ch.ChargePhar, 'UnKnow') as ChargePhar,\n",
    "cast (CustInvoice1.TaxID as nvarchar) as TaxRegNbr,\n",
    "YEAR(cust.Crtd_Datetime) as Year_Created,\n",
    "YEAR(ch.LUpd_Datetime) as Year_Updated,\n",
    "ch.Addr2, --NO\n",
    "ch.BillAddr1,--NO\n",
    "ch.BillAddr2,--NO\n",
    "ch.BillAttn,--NO\n",
    "ch.BillCity,--NO\n",
    "ch.BillCountry,--NO\n",
    "ch.BillFax,--NO\n",
    "ch.BillName,--NO\n",
    "ch.BillPhone,--NO\n",
    "ch.BillSalut,--NO\n",
    "ch.BillState,--NO\n",
    "ch.BillZip,--NO\n",
    "ch.City,--NO\n",
    "ch.CrLmt,--NO\n",
    "ch.CrRule,--NO\n",
    "ch.CustFillPriority,--NO\n",
    "ch.CustType,--NO\n",
    "ch.DeliveryID,--NO\n",
    "ch.DflSaleRouteID,--NO\n",
    "ch.DfltShipToId,--NO\n",
    "ch.EmpNum,--NO\n",
    "ch.ExpiryDate,--NO\n",
    "ch.Exported,--NO\n",
    "ch.GracePer,--NO\n",
    "ch.LTTContractNbr,--NO\n",
    "ch.NodeID,--NO\n",
    "ch.NodeLevel,--NO\n",
    "ch.ParentRecordID,--NO\n",
    "ch.PriceClassID,--NO\n",
    "ch.Salut,--NO\n",
    "ch.SiteId,--NO\n",
    "ch.SupID,--NO\n",
    "ch.TaxDflt,--NO\n",
    "ch.TaxID00,--NO\n",
    "ch.TaxID01,--NO\n",
    "ch.TaxID02,--NO\n",
    "ch.TaxID03,--NO\n",
    "ch.TaxLocId,--NO\n",
    "ch.TradeDisc,--NO\n",
    "ch.Location,--NO\n",
    "ch.Area,--NO\n",
    "ch.GiftExchange,--NO\n",
    "ch.HasPG,--NO\n",
    "ch.Birthdate,--NO\n",
    "ch.SellProduct,--NO\n",
    "ch.SearchName,--NO\n",
    "ch.Classification,--NO\n",
    "ch.Chain,--NO\n",
    "ch.DeliveryUnit,--NO\n",
    "ch.SalesProvince,--NO\n",
    "ch.BusinessPic,--NO\n",
    "ch.ProfilePic,--NO\n",
    "ch.SubTerritory,--NO\n",
    "ch.PhotoCode,--NO\n",
    "ch.AllowEdit,--NO\n",
    "ch.BillWard,--NO\n",
    "ch.BillDistrict,--NO\n",
    "ch.PPCPassword,--NO\n",
    "ch.StandID,--NO\n",
    "ch.BrandID,--NO\n",
    "ch.DisplayID,--NO\n",
    "ch.SizeID,--NO\n",
    "ch.TypeCabinets,--NO\n",
    "ch.OUnit,--NO\n",
    "ch.Mobile,--NO\n",
    "ch.LocationCheckType,--NO\n",
    "ch.VendorID,--NO\n",
    "ch.BuyerID,--NO\n",
    "ch.BillTerritory,--NO\n",
    "ch.ToDate,--NO\n",
    "ch.Limit,--NO\n",
    "ch.Account--NO\n",
    "from AR_HistoryCustClassID ch\n",
    "INNER JOIN dbo.AR_Customer cust WITH (NOLOCK) ON ch.CustID=cust.CustId\n",
    "LEFT JOIN dbo.AR_MasterAutoGenOrder mag WITH (NOLOCK)\n",
    "ON ch.GenOrders = mag.Code\n",
    "LEFT JOIN dbo.AR_MasterBatchExpForm ex WITH (NOLOCK)\n",
    "ON ch.BatchExpForm = ex.Code\n",
    "LEFT JOIN dbo.SI_District di WITH (NOLOCK)\n",
    "ON ch.District = di.District\n",
    "AND ch.State = di.State\n",
    "LEFT JOIN dbo.SI_Ward w WITH (NOLOCK)\n",
    "ON w.Ward = ch.Ward\n",
    "AND w.State = ch.State\n",
    "AND w.District = ch.District\n",
    "LEFT JOIN dbo.SI_State si WITH (NOLOCK)\n",
    "ON si.State = ch.State\n",
    "LEFT JOIN SI_Country cou WITH(NOLOCK) ON cou.CountryID = ch.Country\n",
    "LEFT JOIN SI_Territory t WITH(NOLOCK) ON t.Territory = ch.Territory\n",
    "LEFT JOIN dbo.AR_TaxDeclaration tc ON ch.TaxDeclaration=tc.Code\n",
    "LEFT JOIN dbo.AR_StockSales act ON act.Code=ch.StockSales\n",
    "LEFT JOIN AR_MasterPayments pay WITH(NOLOCK) ON pay.Code = ch.PaymentsForm\n",
    "LEFT JOIN dbo.SYS_SalesSystem ss WITH (NOLOCK) ON ch.SalesSystem = ss.Code\n",
    "LEFT JOIN #InvoiceCount  CustInvoice1 WITH(NOLOCK) ON CustInvoice1.CustID = ch.CustId \n",
    "where cast(ch.LUpd_Datetime as date) <= '2022-12-31' order by LUpd_Datetime asc\n",
    "\"\"\""
   ]
  },
  {
   "cell_type": "code",
   "execution_count": 6,
   "metadata": {},
   "outputs": [],
   "source": [
    "df = get_ms_df(sql)"
   ]
  },
  {
   "cell_type": "code",
   "execution_count": 5,
   "metadata": {},
   "outputs": [],
   "source": [
    "# df.head().to_clipboard()"
   ]
  },
  {
   "cell_type": "code",
   "execution_count": 6,
   "metadata": {},
   "outputs": [],
   "source": [
    "lv_df = get_bq_df(\"\"\"select custid, max(version_id) as lv from biteam.d_master_custhis group by 1\"\"\")"
   ]
  },
  {
   "cell_type": "code",
   "execution_count": 7,
   "metadata": {},
   "outputs": [],
   "source": [
    "lv_df['lv'] = pd.to_numeric(lv_df['lv'])"
   ]
  },
  {
   "cell_type": "code",
   "execution_count": 8,
   "metadata": {},
   "outputs": [],
   "source": [
    "# lv_df['lv']"
   ]
  },
  {
   "cell_type": "code",
   "execution_count": 9,
   "metadata": {},
   "outputs": [],
   "source": [
    "# for i in df.index:\n",
    "#     print(i+1)"
   ]
  },
  {
   "cell_type": "code",
   "execution_count": 10,
   "metadata": {},
   "outputs": [],
   "source": [
    "df.columns = lower_col(df)"
   ]
  },
  {
   "cell_type": "code",
   "execution_count": 11,
   "metadata": {},
   "outputs": [],
   "source": [
    "df['cum_count'] = df.groupby(['custid']).cumcount()"
   ]
  },
  {
   "cell_type": "code",
   "execution_count": 12,
   "metadata": {},
   "outputs": [],
   "source": [
    "df['cum_count'] = df['cum_count'] + 1"
   ]
  },
  {
   "cell_type": "code",
   "execution_count": 13,
   "metadata": {},
   "outputs": [],
   "source": [
    "# lv_df[lv_df['custid']=='001733'].head()"
   ]
  },
  {
   "cell_type": "code",
   "execution_count": 14,
   "metadata": {},
   "outputs": [],
   "source": [
    "# df['row_num'] = df.index+1"
   ]
  },
  {
   "cell_type": "code",
   "execution_count": 15,
   "metadata": {},
   "outputs": [],
   "source": [
    "# df.columns = lower_col(df)"
   ]
  },
  {
   "cell_type": "code",
   "execution_count": 16,
   "metadata": {},
   "outputs": [],
   "source": [
    "df2 = df.merge(lv_df, on='custid', how='left')"
   ]
  },
  {
   "cell_type": "code",
   "execution_count": 17,
   "metadata": {},
   "outputs": [],
   "source": [
    "df2['lv'].fillna(0, inplace=True)"
   ]
  },
  {
   "cell_type": "code",
   "execution_count": 18,
   "metadata": {},
   "outputs": [],
   "source": [
    "# vc(df2, ['lv'])"
   ]
  },
  {
   "cell_type": "code",
   "execution_count": 19,
   "metadata": {},
   "outputs": [],
   "source": [
    "# df2[['custid','cum_count','lv']]"
   ]
  },
  {
   "cell_type": "code",
   "execution_count": 20,
   "metadata": {},
   "outputs": [],
   "source": [
    "df2['version_id'] = df2['cum_count'] + df2['lv']"
   ]
  },
  {
   "cell_type": "code",
   "execution_count": 21,
   "metadata": {},
   "outputs": [],
   "source": [
    "drop_cols(df2, ['cum_count','lv'])"
   ]
  },
  {
   "cell_type": "code",
   "execution_count": 9,
   "metadata": {},
   "outputs": [],
   "source": [
    "df = dropdup(df, 1, ['CustID'])"
   ]
  },
  {
   "cell_type": "code",
   "execution_count": 10,
   "metadata": {},
   "outputs": [
    {
     "data": {
      "text/plain": [
       "(34817, 128)"
      ]
     },
     "execution_count": 10,
     "metadata": {},
     "output_type": "execute_result"
    }
   ],
   "source": [
    "df.shape"
   ]
  },
  {
   "cell_type": "code",
   "execution_count": 11,
   "metadata": {},
   "outputs": [
    {
     "name": "stderr",
     "output_type": "stream",
     "text": [
      "d:\\ipython_file\\venv\\lib\\site-packages\\pandas\\core\\generic.py:5516: SettingWithCopyWarning: \n",
      "A value is trying to be set on a copy of a slice from a DataFrame.\n",
      "Try using .loc[row_indexer,col_indexer] = value instead\n",
      "\n",
      "See the caveats in the documentation: https://pandas.pydata.org/pandas-docs/stable/user_guide/indexing.html#returning-a-view-versus-a-copy\n",
      "  self[name] = value\n"
     ]
    }
   ],
   "source": [
    "df.columns = lower_col(df)\n",
    "df.custfillpriority = df.custfillpriority.astype(np.float64)\n",
    "df.empnum = df.empnum.astype(np.float64)\n",
    "df.exported = df.exported.astype(np.float64)\n",
    "df.graceper = df.graceper.astype(np.float64)\n",
    "df.nodelevel = df.nodelevel.astype(np.float64)\n",
    "df.parentrecordid = df.parentrecordid.astype(np.float64)\n",
    "df.allowedit = df.allowedit.astype(np.float64)\n",
    "df.isagency = df.isagency.astype('str')\n",
    "df.slsperid = df.slsperid.astype('str')\n",
    "\n",
    "# df.legaldate = df.legaldate.astype('str')"
   ]
  },
  {
   "cell_type": "code",
   "execution_count": 12,
   "metadata": {},
   "outputs": [
    {
     "name": "stderr",
     "output_type": "stream",
     "text": [
      "C:\\Users\\Duy Van Quang\\AppData\\Local\\Temp\\ipykernel_9012\\3182767719.py:1: SettingWithCopyWarning: \n",
      "A value is trying to be set on a copy of a slice from a DataFrame.\n",
      "Try using .loc[row_indexer,col_indexer] = value instead\n",
      "\n",
      "See the caveats in the documentation: https://pandas.pydata.org/pandas-docs/stable/user_guide/indexing.html#returning-a-view-versus-a-copy\n",
      "  df['version_id'] = df['version_id'].astype(np.int64)\n"
     ]
    }
   ],
   "source": [
    "df['version_id'] = df['version_id'].astype(np.int64)"
   ]
  },
  {
   "cell_type": "code",
   "execution_count": 7,
   "metadata": {},
   "outputs": [
    {
     "ename": "NameError",
     "evalue": "name 'df2' is not defined",
     "output_type": "error",
     "traceback": [
      "\u001b[1;31m---------------------------------------------------------------------------\u001b[0m",
      "\u001b[1;31mNameError\u001b[0m                                 Traceback (most recent call last)",
      "Cell \u001b[1;32mIn [7], line 1\u001b[0m\n\u001b[1;32m----> 1\u001b[0m df2\u001b[39m.\u001b[39mcustfillpriority \u001b[39m=\u001b[39m df2\u001b[39m.\u001b[39mcustfillpriority\u001b[39m.\u001b[39mastype(np\u001b[39m.\u001b[39mfloat64)\n\u001b[0;32m      2\u001b[0m df2\u001b[39m.\u001b[39mempnum \u001b[39m=\u001b[39m df2\u001b[39m.\u001b[39mempnum\u001b[39m.\u001b[39mastype(np\u001b[39m.\u001b[39mfloat64)\n\u001b[0;32m      3\u001b[0m df2\u001b[39m.\u001b[39mexported \u001b[39m=\u001b[39m df2\u001b[39m.\u001b[39mexported\u001b[39m.\u001b[39mastype(np\u001b[39m.\u001b[39mfloat64)\n",
      "\u001b[1;31mNameError\u001b[0m: name 'df2' is not defined"
     ]
    }
   ],
   "source": [
    "df2.custfillpriority = df2.custfillpriority.astype(np.float64)\n",
    "df2.empnum = df2.empnum.astype(np.float64)\n",
    "df2.exported = df2.exported.astype(np.float64)\n",
    "df2.graceper = df2.graceper.astype(np.float64)\n",
    "df2.nodelevel = df2.nodelevel.astype(np.float64)\n",
    "df2.parentrecordid = df2.parentrecordid.astype(np.float64)\n",
    "df2.allowedit = df2.allowedit.astype(np.float64)\n",
    "df2.isagency = df2.isagency.astype('str')\n",
    "df2.slsperid = df2.slsperid.astype('str')\n",
    "df2['version_id'] = df2['version_id'].astype(np.int64)\n",
    "# df.legaldate = df.legaldate.astype('str')"
   ]
  },
  {
   "cell_type": "code",
   "execution_count": 24,
   "metadata": {},
   "outputs": [],
   "source": []
  },
  {
   "cell_type": "code",
   "execution_count": 25,
   "metadata": {},
   "outputs": [],
   "source": [
    "# df2.dtypes"
   ]
  },
  {
   "cell_type": "code",
   "execution_count": 14,
   "metadata": {},
   "outputs": [],
   "source": [
    "bq_values_insert(df, \"d_master_custhis\", 2)"
   ]
  },
  {
   "cell_type": "code",
   "execution_count": null,
   "metadata": {},
   "outputs": [],
   "source": [
    "execute_sql = \\\n",
    "f\"\"\"\n",
    "DECLARE CHANGED_DATE DATE DEFAULT '2023-01-04';\n",
    "INSERT INTO biteam.d_tracking_cust_changes\n",
    "select * from \n",
    "\n",
    "(\n",
    "with cur_version as\n",
    "(\n",
    "  select\n",
    "  custid,\n",
    "  version_id,\n",
    "  version_id -1 as version_lv,\n",
    "  lupd_datetime,\n",
    "  lupd_user,\n",
    "  case \n",
    "  when CHR(32) = new_value then \"Unknow\" \n",
    "  when new_value is null then \"Unknow\"  else new_value end as new_value,\n",
    "  changetype\n",
    "  from biteam.d_master_custhis\n",
    "  UNPIVOT (new_value for changetype in (branchid, salessystem, channel, shoptype, hcoid, hcotype, classid, checkterm, custname, addr1, attn, country, district, emailaddr, fax, phone, slsperid, state, status, terms, territory, zip, establishdate, refcustid, inactive, ward, businessname, market, billmarket, oricustid, generalcustid, paymentsform, genorders, batchexpform, custidpublic, shoperid, isagency, agencyid, taxdeclaration, stocksales, businessscope, legalname, legaldate, chargereceive, chargepayment, chargephar))\n",
    "  where date(lupd_datetime) = CHANGED_DATE and version_id > 1\n",
    "  -- and custid = '001733'\n",
    "\n",
    ")\n",
    ",\n",
    "las_version as\n",
    "(\n",
    "select\n",
    "custid,\n",
    "version_id,\n",
    "-- version_id -1 as version_lv,\n",
    "-- lupd_datetime,\n",
    "  case \n",
    "  when CHR(32) = old_value then \"Unknow\" \n",
    "  when old_value is null then \"Unknow\"  else old_value end as old_value,\n",
    "changetype\n",
    "from biteam.d_master_custhis\n",
    "UNPIVOT (old_value for changetype in (branchid, salessystem, channel, shoptype, hcoid, hcotype, classid, checkterm, custname, addr1, attn, country, district, emailaddr, fax, phone, slsperid, state, status, terms, territory, zip, establishdate, refcustid, inactive, ward, businessname, market, billmarket, oricustid, generalcustid, paymentsform, genorders, batchexpform, custidpublic, shoperid, isagency, agencyid, taxdeclaration, stocksales, businessscope, legalname, legaldate, chargereceive, chargepayment, chargephar))\n",
    "-- where custid = '001733'\n",
    ")\n",
    "\n",
    "select\n",
    "cur.*,\n",
    "old_value,\n",
    "from \n",
    "cur_version cur\n",
    "left join las_version las\n",
    "ON cur.custid = las.custid\n",
    "AND cur.version_lv = las.version_id\n",
    "AND cur.changetype = las.changetype\n",
    "where new_value != old_value\n",
    ")\n",
    "\"\"\""
   ]
  }
 ],
 "metadata": {
  "kernelspec": {
   "display_name": "venv",
   "language": "python",
   "name": "python3"
  },
  "language_info": {
   "codemirror_mode": {
    "name": "ipython",
    "version": 3
   },
   "file_extension": ".py",
   "mimetype": "text/x-python",
   "name": "python",
   "nbconvert_exporter": "python",
   "pygments_lexer": "ipython3",
   "version": "3.8.10"
  },
  "orig_nbformat": 4,
  "vscode": {
   "interpreter": {
    "hash": "8fb55849e6741974ce442ee684e971e1b6b22c29ca2b25c3b9069bf531e0354a"
   }
  }
 },
 "nbformat": 4,
 "nbformat_minor": 2
}
