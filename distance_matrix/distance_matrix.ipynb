{
 "cells": [
  {
   "cell_type": "code",
   "execution_count": 973,
   "metadata": {},
   "outputs": [],
   "source": [
    "# Docs - https://docs.goong.io/rest/api-key/"
   ]
  },
  {
   "cell_type": "code",
   "execution_count": 974,
   "metadata": {},
   "outputs": [],
   "source": [
    "# import requests"
   ]
  },
  {
   "cell_type": "code",
   "execution_count": 975,
   "metadata": {},
   "outputs": [],
   "source": [
    "# from utils.df_handle import *"
   ]
  },
  {
   "cell_type": "code",
   "execution_count": 976,
   "metadata": {},
   "outputs": [],
   "source": [
    "sql = \\\n",
    "\"\"\"\n",
    "SELECT\n",
    "BranchID,\n",
    "SlsperID,\n",
    "Lat,\n",
    "Lng,\n",
    "UpdateTime as checkinupdatetime,\n",
    "CAST(UpdateTime as date) as checkindate,\n",
    "CustID,\n",
    "NumberCICO\n",
    "from dbo.AR_SalespersonLocationTrace where CAST(UpdateTime as date) >= '2022-04-01' and SlsperID = 'MR0624'\n",
    "and Type = 'IO'\n",
    "\"\"\""
   ]
  },
  {
   "cell_type": "code",
   "execution_count": 977,
   "metadata": {},
   "outputs": [],
   "source": [
    "# df1 = get_ms_df(sql)"
   ]
  },
  {
   "cell_type": "code",
   "execution_count": 978,
   "metadata": {},
   "outputs": [],
   "source": [
    "# cleancols(df1)"
   ]
  },
  {
   "cell_type": "code",
   "execution_count": 979,
   "metadata": {},
   "outputs": [],
   "source": [
    "# df1.columns = lower_col(df1)"
   ]
  },
  {
   "cell_type": "code",
   "execution_count": 980,
   "metadata": {},
   "outputs": [],
   "source": [
    "# df['date']=df.checkinupdatetime.dt.date"
   ]
  },
  {
   "cell_type": "code",
   "execution_count": 981,
   "metadata": {},
   "outputs": [],
   "source": [
    "# df1['checkindate'] = pd.to_datetime(df1['checkindate'])"
   ]
  },
  {
   "cell_type": "code",
   "execution_count": 982,
   "metadata": {},
   "outputs": [
    {
     "data": {
      "text/plain": [
       "array(['2022-04-01T00:00:00.000000000', '2022-04-03T00:00:00.000000000',\n",
       "       '2022-04-04T00:00:00.000000000', '2022-04-05T00:00:00.000000000',\n",
       "       '2022-04-06T00:00:00.000000000', '2022-04-07T00:00:00.000000000',\n",
       "       '2022-04-08T00:00:00.000000000', '2022-04-11T00:00:00.000000000',\n",
       "       '2022-04-12T00:00:00.000000000', '2022-04-13T00:00:00.000000000',\n",
       "       '2022-04-14T00:00:00.000000000', '2022-04-15T00:00:00.000000000',\n",
       "       '2022-04-16T00:00:00.000000000', '2022-04-18T00:00:00.000000000',\n",
       "       '2022-04-19T00:00:00.000000000', '2022-04-20T00:00:00.000000000',\n",
       "       '2022-04-21T00:00:00.000000000', '2022-04-22T00:00:00.000000000',\n",
       "       '2022-04-23T00:00:00.000000000', '2022-04-24T00:00:00.000000000',\n",
       "       '2022-04-25T00:00:00.000000000', '2022-04-26T00:00:00.000000000'],\n",
       "      dtype='datetime64[ns]')"
      ]
     },
     "execution_count": 982,
     "metadata": {},
     "output_type": "execute_result"
    }
   ],
   "source": [
    "df1['checkindate'].unique()"
   ]
  },
  {
   "cell_type": "code",
   "execution_count": 1034,
   "metadata": {},
   "outputs": [
    {
     "data": {
      "text/html": [
       "<div>\n",
       "<style scoped>\n",
       "    .dataframe tbody tr th:only-of-type {\n",
       "        vertical-align: middle;\n",
       "    }\n",
       "\n",
       "    .dataframe tbody tr th {\n",
       "        vertical-align: top;\n",
       "    }\n",
       "\n",
       "    .dataframe thead th {\n",
       "        text-align: right;\n",
       "    }\n",
       "</style>\n",
       "<table border=\"1\" class=\"dataframe\">\n",
       "  <thead>\n",
       "    <tr style=\"text-align: right;\">\n",
       "      <th></th>\n",
       "      <th>branchid</th>\n",
       "      <th>slsperid</th>\n",
       "      <th>checkinupdatetime</th>\n",
       "      <th>checkindate</th>\n",
       "      <th>custid</th>\n",
       "      <th>numbercico</th>\n",
       "      <th>coord</th>\n",
       "      <th>coord_to</th>\n",
       "      <th>custid_to</th>\n",
       "      <th>numbercico_to</th>\n",
       "    </tr>\n",
       "  </thead>\n",
       "  <tbody>\n",
       "  </tbody>\n",
       "</table>\n",
       "</div>"
      ],
      "text/plain": [
       "Empty DataFrame\n",
       "Columns: [branchid, slsperid, checkinupdatetime, checkindate, custid, numbercico, coord, coord_to, custid_to, numbercico_to]\n",
       "Index: []"
      ]
     },
     "execution_count": 1034,
     "metadata": {},
     "output_type": "execute_result"
    }
   ],
   "source": [
    "df.head()"
   ]
  },
  {
   "cell_type": "code",
   "execution_count": null,
   "metadata": {},
   "outputs": [],
   "source": []
  },
  {
   "cell_type": "code",
   "execution_count": 1035,
   "metadata": {},
   "outputs": [
    {
     "name": "stdout",
     "output_type": "stream",
     "text": [
      "co dong data (13, 8)\n"
     ]
    },
    {
     "name": "stderr",
     "output_type": "stream",
     "text": [
      "1it [00:18, 18.04s/it]\n"
     ]
    }
   ],
   "source": [
    "for i in ['2022-04-25']:\n",
    "    dk1 = df1['checkindate'] == pd.Timestamp(i)\n",
    "    df = df1[dk1].copy()\n",
    "    df.shape\n",
    "    print(\"co dong data\", df.shape)\n",
    "    # df.head()\n",
    "    # df['concat'] = str(df['lat'])+','+str(df['lng'])\n",
    "    # df['lat'] = df['lat'].astype(str)\n",
    "    # df['lng'] = df['lng'].astype(str)\n",
    "    # df.to_clipboard()\n",
    "    # df['lat'] = df['lat'].astype(str)\n",
    "    # df['lng'] = df['lng'].astype(str)\n",
    "    df['coord'] = df['lat'].astype('str') +','+ df['lng'].astype('str')\n",
    "    # output_str = ''\n",
    "    df['coord_to'] = df['coord'].shift(-1)\n",
    "    df['custid_to'] = df['custid'].shift(-1)\n",
    "    df['numbercico_to'] = df['numbercico'].shift(-1)\n",
    "    df = df[df.coord_to.notna()]\n",
    "    drop_cols(df, ['lat', 'lng'])\n",
    "    # output_str = ''\n",
    "    origin_str = ''\n",
    "    for strr in df['coord'].tolist():\n",
    "        origin_str = origin_str +'|'+strr\n",
    "    origin_str = origin_str[1:]\n",
    "    # origin_str\n",
    "    des_str = ''\n",
    "    for strr in df['coord_to'].tolist():\n",
    "        des_str = des_str +'|'+strr\n",
    "    des_str = des_str[1:]\n",
    "    # des_str\n",
    "    # df['lat'].astype('object')+','+df['lng'].astype('object')\n",
    "    # df.to_clipboard()\n",
    "    url = \\\n",
    "    f\"https://rsapi.goong.io/DistanceMatrix?api_key=leSoeVGgIBHmZ2FZjsmQGIoYa27ZT4ErYvMN8bxF&vehicle=car&origins={origin_str}&destinations={des_str}\"\n",
    "    response = requests.request(\"GET\", url)\n",
    "    response.json()\n",
    "    df.head()\n",
    "    df.shape[0]\n",
    "    # response.json()['rows'][11]['elements'][11]\n",
    "    result_lists = []\n",
    "    for i in range(df.shape[0]):\n",
    "        rs = response.json()['rows'][i]['elements'][i]\n",
    "        result_lists.append(rs)\n",
    "    result_lists\n",
    "    df_rs = pd.DataFrame(result_lists)\n",
    "    df_rs.shape\n",
    "    distance_df = pd.DataFrame(df_rs['distance'].tolist(), index=df_rs.index)\n",
    "    distance_df.columns = ['distance_text','distance_value']\n",
    "    duration_df = pd.DataFrame(df_rs['duration'].tolist(), index=df_rs.index)\n",
    "    duration_df.columns = ['duration_text','duration_value']\n",
    "    distance_df\n",
    "    df.reset_index(inplace=True, drop=True)\n",
    "    df2 = pd.concat([df, distance_df], axis=1)\n",
    "    # df2.head()\n",
    "    df3 = pd.concat([df2, duration_df], axis=1)\n",
    "    # drop_cols(df3, ['lat', 'lng'])\n",
    "    df3.head()\n",
    "    bq_values_insert(df3, \"f_mds_distance_matrix\", 2)"
   ]
  },
  {
   "cell_type": "code",
   "execution_count": null,
   "metadata": {},
   "outputs": [],
   "source": [
    "# Ngay 24, co 1 diem check in thoi, code chua chay duoc"
   ]
  }
 ],
 "metadata": {
  "interpreter": {
   "hash": "f94d6dad5013d632e8b52fc362848c71d5234e1d7ba23afa22c3a2e55512dabd"
  },
  "kernelspec": {
   "display_name": "Python 3.9.6 ('venv': venv)",
   "language": "python",
   "name": "python3"
  },
  "language_info": {
   "codemirror_mode": {
    "name": "ipython",
    "version": 3
   },
   "file_extension": ".py",
   "mimetype": "text/x-python",
   "name": "python",
   "nbconvert_exporter": "python",
   "pygments_lexer": "ipython3",
   "version": "3.9.6"
  },
  "orig_nbformat": 4
 },
 "nbformat": 4,
 "nbformat_minor": 2
}
