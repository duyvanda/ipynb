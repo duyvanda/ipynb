{
 "cells": [
  {
   "cell_type": "code",
   "execution_count": 1,
   "metadata": {},
   "outputs": [
    {
     "name": "stdout",
     "output_type": "stream",
     "text": [
      "Default bq project:  spatial-vision-343005.biteam\n"
     ]
    }
   ],
   "source": [
    "from utils.df_handle import *"
   ]
  },
  {
   "cell_type": "code",
   "execution_count": 2,
   "metadata": {},
   "outputs": [],
   "source": [
    "df = pd.read_pickle(\"20221109_df6.pickle\")"
   ]
  },
  {
   "cell_type": "code",
   "execution_count": 3,
   "metadata": {},
   "outputs": [],
   "source": [
    "df.songaynhan = df.songaynhan.astype('float')"
   ]
  },
  {
   "cell_type": "code",
   "execution_count": 7,
   "metadata": {},
   "outputs": [
    {
     "data": {
      "text/html": [
       "<div>\n",
       "<style scoped>\n",
       "    .dataframe tbody tr th:only-of-type {\n",
       "        vertical-align: middle;\n",
       "    }\n",
       "\n",
       "    .dataframe tbody tr th {\n",
       "        vertical-align: top;\n",
       "    }\n",
       "\n",
       "    .dataframe thead th {\n",
       "        text-align: right;\n",
       "    }\n",
       "</style>\n",
       "<table border=\"1\" class=\"dataframe\">\n",
       "  <thead>\n",
       "    <tr style=\"text-align: right;\">\n",
       "      <th></th>\n",
       "      <th>masanpham</th>\n",
       "      <th>tensanpham</th>\n",
       "      <th>donvi</th>\n",
       "      <th>chinhanh</th>\n",
       "      <th>songaynhan</th>\n",
       "      <th>tonao</th>\n",
       "      <th>tonhangdiduong</th>\n",
       "      <th>toncn</th>\n",
       "      <th>tonhcm</th>\n",
       "      <th>tonmerap</th>\n",
       "      <th>...</th>\n",
       "      <th>tonece</th>\n",
       "      <th>tonnmtp</th>\n",
       "      <th>tonnmbt</th>\n",
       "      <th>tonnmhh</th>\n",
       "      <th>tonnmpo</th>\n",
       "      <th>tonnmno</th>\n",
       "      <th>soluong</th>\n",
       "      <th>avg_3m</th>\n",
       "      <th>created_date</th>\n",
       "      <th>inserted_at2</th>\n",
       "    </tr>\n",
       "  </thead>\n",
       "  <tbody>\n",
       "    <tr>\n",
       "      <th>0</th>\n",
       "      <td>EH065</td>\n",
       "      <td>Mecefix-B.E 250mg</td>\n",
       "      <td>HOP</td>\n",
       "      <td>CT</td>\n",
       "      <td>7.0</td>\n",
       "      <td>0.0</td>\n",
       "      <td>0.0</td>\n",
       "      <td>611.0</td>\n",
       "      <td>0.0</td>\n",
       "      <td>0.0</td>\n",
       "      <td>...</td>\n",
       "      <td>0.0</td>\n",
       "      <td>0.0</td>\n",
       "      <td>0.0</td>\n",
       "      <td>0.0</td>\n",
       "      <td>0.0</td>\n",
       "      <td>0.0</td>\n",
       "      <td>247.0</td>\n",
       "      <td>3.0</td>\n",
       "      <td>2022-11-09</td>\n",
       "      <td>2022-11-09 23:45:34.286599</td>\n",
       "    </tr>\n",
       "    <tr>\n",
       "      <th>1</th>\n",
       "      <td>EH065</td>\n",
       "      <td>Mecefix-B.E 250mg</td>\n",
       "      <td>HOP</td>\n",
       "      <td>DNAI</td>\n",
       "      <td>6.0</td>\n",
       "      <td>-1.0</td>\n",
       "      <td>0.0</td>\n",
       "      <td>991.0</td>\n",
       "      <td>20.0</td>\n",
       "      <td>0.0</td>\n",
       "      <td>...</td>\n",
       "      <td>0.0</td>\n",
       "      <td>0.0</td>\n",
       "      <td>0.0</td>\n",
       "      <td>0.0</td>\n",
       "      <td>0.0</td>\n",
       "      <td>0.0</td>\n",
       "      <td>872.0</td>\n",
       "      <td>11.0</td>\n",
       "      <td>2022-11-09</td>\n",
       "      <td>2022-11-09 23:45:34.286599</td>\n",
       "    </tr>\n",
       "    <tr>\n",
       "      <th>2</th>\n",
       "      <td>EH065</td>\n",
       "      <td>Mecefix-B.E 250mg</td>\n",
       "      <td>HOP</td>\n",
       "      <td>DNANG</td>\n",
       "      <td>5.0</td>\n",
       "      <td>-35.0</td>\n",
       "      <td>0.0</td>\n",
       "      <td>369.0</td>\n",
       "      <td>1350.0</td>\n",
       "      <td>0.0</td>\n",
       "      <td>...</td>\n",
       "      <td>0.0</td>\n",
       "      <td>0.0</td>\n",
       "      <td>0.0</td>\n",
       "      <td>0.0</td>\n",
       "      <td>0.0</td>\n",
       "      <td>0.0</td>\n",
       "      <td>2797.0</td>\n",
       "      <td>36.0</td>\n",
       "      <td>2022-11-09</td>\n",
       "      <td>2022-11-09 23:45:34.286599</td>\n",
       "    </tr>\n",
       "    <tr>\n",
       "      <th>3</th>\n",
       "      <td>EH065</td>\n",
       "      <td>Mecefix-B.E 250mg</td>\n",
       "      <td>HOP</td>\n",
       "      <td>HCM</td>\n",
       "      <td>6.0</td>\n",
       "      <td>0.0</td>\n",
       "      <td>960.0</td>\n",
       "      <td>731.0</td>\n",
       "      <td>0.0</td>\n",
       "      <td>0.0</td>\n",
       "      <td>...</td>\n",
       "      <td>0.0</td>\n",
       "      <td>0.0</td>\n",
       "      <td>0.0</td>\n",
       "      <td>0.0</td>\n",
       "      <td>0.0</td>\n",
       "      <td>0.0</td>\n",
       "      <td>6184.0</td>\n",
       "      <td>80.0</td>\n",
       "      <td>2022-11-09</td>\n",
       "      <td>2022-11-09 23:45:34.286599</td>\n",
       "    </tr>\n",
       "    <tr>\n",
       "      <th>4</th>\n",
       "      <td>EH065</td>\n",
       "      <td>Mecefix-B.E 250mg</td>\n",
       "      <td>HOP</td>\n",
       "      <td>HN</td>\n",
       "      <td>1.0</td>\n",
       "      <td>-12.0</td>\n",
       "      <td>0.0</td>\n",
       "      <td>141.0</td>\n",
       "      <td>140.0</td>\n",
       "      <td>0.0</td>\n",
       "      <td>...</td>\n",
       "      <td>0.0</td>\n",
       "      <td>0.0</td>\n",
       "      <td>0.0</td>\n",
       "      <td>0.0</td>\n",
       "      <td>0.0</td>\n",
       "      <td>0.0</td>\n",
       "      <td>1086.0</td>\n",
       "      <td>14.0</td>\n",
       "      <td>2022-11-09</td>\n",
       "      <td>2022-11-09 23:45:34.286599</td>\n",
       "    </tr>\n",
       "  </tbody>\n",
       "</table>\n",
       "<p>5 rows × 23 columns</p>\n",
       "</div>"
      ],
      "text/plain": [
       "  masanpham         tensanpham donvi chinhanh  songaynhan  tonao  \\\n",
       "0     EH065  Mecefix-B.E 250mg   HOP       CT         7.0    0.0   \n",
       "1     EH065  Mecefix-B.E 250mg   HOP     DNAI         6.0   -1.0   \n",
       "2     EH065  Mecefix-B.E 250mg   HOP    DNANG         5.0  -35.0   \n",
       "3     EH065  Mecefix-B.E 250mg   HOP      HCM         6.0    0.0   \n",
       "4     EH065  Mecefix-B.E 250mg   HOP       HN         1.0  -12.0   \n",
       "\n",
       "   tonhangdiduong  toncn  tonhcm  tonmerap  ...  tonece  tonnmtp  tonnmbt  \\\n",
       "0             0.0  611.0     0.0       0.0  ...     0.0      0.0      0.0   \n",
       "1             0.0  991.0    20.0       0.0  ...     0.0      0.0      0.0   \n",
       "2             0.0  369.0  1350.0       0.0  ...     0.0      0.0      0.0   \n",
       "3           960.0  731.0     0.0       0.0  ...     0.0      0.0      0.0   \n",
       "4             0.0  141.0   140.0       0.0  ...     0.0      0.0      0.0   \n",
       "\n",
       "   tonnmhh  tonnmpo  tonnmno  soluong  avg_3m  created_date  \\\n",
       "0      0.0      0.0      0.0    247.0     3.0    2022-11-09   \n",
       "1      0.0      0.0      0.0    872.0    11.0    2022-11-09   \n",
       "2      0.0      0.0      0.0   2797.0    36.0    2022-11-09   \n",
       "3      0.0      0.0      0.0   6184.0    80.0    2022-11-09   \n",
       "4      0.0      0.0      0.0   1086.0    14.0    2022-11-09   \n",
       "\n",
       "                inserted_at2  \n",
       "0 2022-11-09 23:45:34.286599  \n",
       "1 2022-11-09 23:45:34.286599  \n",
       "2 2022-11-09 23:45:34.286599  \n",
       "3 2022-11-09 23:45:34.286599  \n",
       "4 2022-11-09 23:45:34.286599  \n",
       "\n",
       "[5 rows x 23 columns]"
      ]
     },
     "execution_count": 7,
     "metadata": {},
     "output_type": "execute_result"
    }
   ],
   "source": [
    "df.head()"
   ]
  },
  {
   "cell_type": "code",
   "execution_count": 6,
   "metadata": {},
   "outputs": [],
   "source": [
    "bq_values_insert(df, \"f_sc_daily_invt\", 2)"
   ]
  },
  {
   "cell_type": "code",
   "execution_count": 13,
   "metadata": {},
   "outputs": [
    {
     "data": {
      "text/plain": [
       "pandas.core.frame.DataFrame"
      ]
     },
     "execution_count": 13,
     "metadata": {},
     "output_type": "execute_result"
    }
   ],
   "source": []
  },
  {
   "cell_type": "code",
   "execution_count": null,
   "metadata": {},
   "outputs": [],
   "source": []
  }
 ],
 "metadata": {
  "kernelspec": {
   "display_name": "Python 3.8.10 ('env': venv)",
   "language": "python",
   "name": "python3"
  },
  "language_info": {
   "codemirror_mode": {
    "name": "ipython",
    "version": 3
   },
   "file_extension": ".py",
   "mimetype": "text/x-python",
   "name": "python",
   "nbconvert_exporter": "python",
   "pygments_lexer": "ipython3",
   "version": "3.8.10"
  },
  "orig_nbformat": 4,
  "vscode": {
   "interpreter": {
    "hash": "e3e62c236e1a80b91bd28884dfef8ca4e8a5f2f97e25c469797e512f6e958bfc"
   }
  }
 },
 "nbformat": 4,
 "nbformat_minor": 2
}
