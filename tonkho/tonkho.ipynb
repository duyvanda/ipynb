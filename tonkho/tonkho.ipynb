{
 "cells": [
  {
   "cell_type": "code",
   "execution_count": 1,
   "metadata": {},
   "outputs": [],
   "source": [
    "# SELECT * from IN_Site master data siteid(MaKho)\n",
    "# IN_Inventory master data InvtID"
   ]
  },
  {
   "cell_type": "code",
   "execution_count": 2,
   "metadata": {},
   "outputs": [
    {
     "name": "stdout",
     "output_type": "stream",
     "text": [
      "Default bq project:  spatial-vision-343005.biteam\n"
     ]
    }
   ],
   "source": [
    "from utils.df_handle import *"
   ]
  },
  {
   "cell_type": "code",
   "execution_count": 3,
   "metadata": {},
   "outputs": [],
   "source": [
    "# datetime.now() + timedelta(days=-1)"
   ]
  },
  {
   "cell_type": "code",
   "execution_count": 3,
   "metadata": {},
   "outputs": [
    {
     "data": {
      "text/plain": [
       "4"
      ]
     },
     "execution_count": 3,
     "metadata": {},
     "output_type": "execute_result"
    }
   ],
   "source": [
    "datetime.now().weekday() == 0"
   ]
  },
  {
   "cell_type": "code",
   "execution_count": 3,
   "metadata": {},
   "outputs": [],
   "source": [
    "x = 2 if datetime.now().weekday() == 5 else 1\n",
    "csv_path = '/usr/local/airflow/plugins'+'/'\n",
    "datenow = datetime.now().strftime(\"%Y%m%d\")\n",
    "datenow_add1 = (datetime.now() + timedelta(days=x)).strftime(\"%Y%m%d\")\n",
    "fdom = datetime.now().replace(day=1).strftime(\"%Y%m%d\")"
   ]
  },
  {
   "cell_type": "code",
   "execution_count": 4,
   "metadata": {},
   "outputs": [],
   "source": [
    "datenow = datetime.now().strftime(\"%Y%m%d\")\n",
    "datenow_add1 = (datetime.now() + timedelta(days=1)).strftime(\"%Y%m%d\")\n",
    "fdom = datetime.now().replace(day=1).strftime(\"%Y%m%d\")"
   ]
  },
  {
   "cell_type": "code",
   "execution_count": 3,
   "metadata": {},
   "outputs": [],
   "source": [
    "# datenow_add1"
   ]
  },
  {
   "cell_type": "code",
   "execution_count": 84,
   "metadata": {},
   "outputs": [],
   "source": [
    "# datenow = '20220211'\n",
    "# datenow_add1 = '20220211'"
   ]
  },
  {
   "cell_type": "code",
   "execution_count": 4,
   "metadata": {},
   "outputs": [],
   "source": [
    "# Xu ly data XNT\n",
    "query = f\"EXEC pr_IN_RawdataXNTByLot_BI '{datenow}', '{datenow_add1}'\"\n",
    "df1 = get_ms_df(sql=query)"
   ]
  },
  {
   "cell_type": "code",
   "execution_count": 5,
   "metadata": {},
   "outputs": [
    {
     "data": {
      "text/plain": [
       "BranchID                                      object\n",
       "BranchName                                    object\n",
       "SiteID                                        object\n",
       "Tên Kho                                       object\n",
       "Class                                         object\n",
       "InvtID                                        object\n",
       "Tên Sản Phẩm                                  object\n",
       "Tên SP Viết Tắt                               object\n",
       "StkUnit                                       object\n",
       "Quy Cách Đóng Gói                             object\n",
       "Quy Cách Thùng                                object\n",
       "LotSerNbr                                     object\n",
       "ExpDate                               datetime64[ns]\n",
       "Số Tháng Còn Lại                              object\n",
       "Tồn Đầu                                      float64\n",
       "Nhập (Mua Hàng)                              float64\n",
       "Nhập Khác (Nhập,Chuyển,Điều Chỉnh)           float64\n",
       "Xuất (Bán)                                   float64\n",
       "Nhập Trả                                     float64\n",
       "Xuất Khác (Xuất,Chuyển,Điều Chỉnh)           float64\n",
       "ĐCBB Xuất                                    float64\n",
       "ĐCBB Nhập                                    float64\n",
       "Tồn Cuối                                     float64\n",
       "SL Treo Hóa Đơn Ảo                           float64\n",
       "SL Treo Chưa Tạo Hóa Đơn                     float64\n",
       "Tồn Cuối Sổ Sách                             float64\n",
       "Giá Bán                                      float64\n",
       "TT Tồn Cuối                                  float64\n",
       "dtype: object"
      ]
     },
     "execution_count": 5,
     "metadata": {},
     "output_type": "execute_result"
    }
   ],
   "source": [
    "df1.dtypes"
   ]
  },
  {
   "cell_type": "code",
   "execution_count": 6,
   "metadata": {},
   "outputs": [],
   "source": [
    "df1.columns = cleancols(df1)\n",
    "df1.columns = lower_col(df1)"
   ]
  },
  {
   "cell_type": "code",
   "execution_count": 7,
   "metadata": {},
   "outputs": [],
   "source": [
    "df1.to_csv(f'{datenow}_'+'pr_IN_RawdataXNTByLot_BI.csv')"
   ]
  },
  {
   "cell_type": "code",
   "execution_count": 3,
   "metadata": {},
   "outputs": [],
   "source": [
    "df1 = pd.read_csv('20220212_pr_IN_RawdataXNTByLot_BI.csv')"
   ]
  },
  {
   "cell_type": "code",
   "execution_count": 4,
   "metadata": {},
   "outputs": [],
   "source": [
    "df1 = df1[['siteid', 'invtid',\n",
    "       'tensanpham', 'stkunit', 'toncuoi',\n",
    "       'sltreohoadonao', 'sltreochuataohoadon']].copy()"
   ]
  },
  {
   "cell_type": "code",
   "execution_count": 5,
   "metadata": {},
   "outputs": [
    {
     "data": {
      "text/plain": [
       "siteid                  object\n",
       "invtid                  object\n",
       "tensanpham              object\n",
       "stkunit                 object\n",
       "toncuoi                float64\n",
       "sltreohoadonao         float64\n",
       "sltreochuataohoadon    float64\n",
       "dtype: object"
      ]
     },
     "execution_count": 5,
     "metadata": {},
     "output_type": "execute_result"
    }
   ],
   "source": [
    "# df1.dtypes"
   ]
  },
  {
   "cell_type": "code",
   "execution_count": 6,
   "metadata": {},
   "outputs": [],
   "source": [
    "# Loai bo ton co chu V\n",
    "dk1 = df1['invtid'].str[0] != \"V\"\n",
    "df1 = df1[dk1]"
   ]
  },
  {
   "cell_type": "code",
   "execution_count": 7,
   "metadata": {},
   "outputs": [],
   "source": [
    "df1['tonao'] = df1.sltreohoadonao + df1.sltreochuataohoadon"
   ]
  },
  {
   "cell_type": "code",
   "execution_count": 8,
   "metadata": {},
   "outputs": [],
   "source": [
    "drop_cols(df1, ['sltreohoadonao','sltreochuataohoadon'])"
   ]
  },
  {
   "cell_type": "code",
   "execution_count": 9,
   "metadata": {},
   "outputs": [],
   "source": [
    "df1['datatype'] = 'xnt'"
   ]
  },
  {
   "cell_type": "code",
   "execution_count": 10,
   "metadata": {},
   "outputs": [],
   "source": [
    "df1.columns = ['makho', 'masanpham', 'tensanpham', 'donvi', 'toncuoi', 'tonao', 'datatype']"
   ]
  },
  {
   "cell_type": "code",
   "execution_count": 11,
   "metadata": {},
   "outputs": [],
   "source": [
    "# Xu ly data GDK\n",
    "query2 = f\"EXEC pr_IN_RawdataTransaction_BI '{fdom}','{datenow}'\"\n",
    "df2 = get_ms_df(sql=query2)"
   ]
  },
  {
   "cell_type": "code",
   "execution_count": 12,
   "metadata": {},
   "outputs": [],
   "source": [
    "df2.columns = cleancols(df2)\n",
    "df2.columns = lower_col(df2)"
   ]
  },
  {
   "cell_type": "code",
   "execution_count": 13,
   "metadata": {},
   "outputs": [],
   "source": [
    "df2.to_csv(f'{datenow}_'+'pr_IN_RawdataTransaction_BI.csv')"
   ]
  },
  {
   "cell_type": "code",
   "execution_count": 11,
   "metadata": {},
   "outputs": [],
   "source": [
    "df2 = pd.read_csv('20220212_pr_IN_RawdataTransaction_BI.csv')"
   ]
  },
  {
   "cell_type": "code",
   "execution_count": 16,
   "metadata": {},
   "outputs": [
    {
     "data": {
      "text/plain": [
       "makho          object\n",
       "masanpham      object\n",
       "tensanpham     object\n",
       "donvi          object\n",
       "soluong       float64\n",
       "dtype: object"
      ]
     },
     "execution_count": 16,
     "metadata": {},
     "output_type": "execute_result"
    }
   ],
   "source": [
    "df2.dtypes"
   ]
  },
  {
   "cell_type": "code",
   "execution_count": 13,
   "metadata": {},
   "outputs": [],
   "source": [
    "# Dieu kien Cho Xy Ly & Nhap Mua Hang\n",
    "dk1 = df2['trangthai'] == 'Chờ Xử Lý'\n",
    "dk2 = df2['nghiepvu'] == 'Nhập Mua Hàng'\n",
    "df2 = df2[dk1&dk2]"
   ]
  },
  {
   "cell_type": "code",
   "execution_count": 14,
   "metadata": {},
   "outputs": [],
   "source": [
    "lst = ['makho','masanpham','tensanpham','donvi','soluong']"
   ]
  },
  {
   "cell_type": "code",
   "execution_count": 15,
   "metadata": {},
   "outputs": [],
   "source": [
    "df2 = df2[lst]"
   ]
  },
  {
   "cell_type": "code",
   "execution_count": 21,
   "metadata": {},
   "outputs": [],
   "source": [
    "# df2.dtypes"
   ]
  },
  {
   "cell_type": "code",
   "execution_count": 17,
   "metadata": {},
   "outputs": [],
   "source": [
    "df2['tonao'] = 0\n",
    "df2['datatype'] = 'gdk'"
   ]
  },
  {
   "cell_type": "code",
   "execution_count": 18,
   "metadata": {},
   "outputs": [],
   "source": [
    "# df2.to_clipboard()"
   ]
  },
  {
   "cell_type": "code",
   "execution_count": 24,
   "metadata": {},
   "outputs": [],
   "source": [
    "# Map new data 27/12, add HDD tu bao cao HDD\n",
    "query2a = f\"EXEC pr_IN_PXKKVCNB_BI '{fdom}','{datenow}'\"\n",
    "_df = get_ms_df(sql=query2a)\n",
    "_df.columns = cleancols(_df)\n",
    "_df.columns = lower_col(_df)\n",
    "_df.to_csv(f'{datenow}_'+'pr_IN_PXKKVCNB_BI.csv')"
   ]
  },
  {
   "cell_type": "code",
   "execution_count": 25,
   "metadata": {},
   "outputs": [],
   "source": [
    "# _df.columns"
   ]
  },
  {
   "cell_type": "code",
   "execution_count": 24,
   "metadata": {},
   "outputs": [],
   "source": [
    "_df = pd.read_csv('20220212_pr_IN_PXKKVCNB_BI.csv')"
   ]
  },
  {
   "cell_type": "code",
   "execution_count": 25,
   "metadata": {},
   "outputs": [],
   "source": [
    "_df.soluong =  pd.to_numeric(_df.soluong)"
   ]
  },
  {
   "cell_type": "code",
   "execution_count": 26,
   "metadata": {},
   "outputs": [],
   "source": [
    "# lst = ['makhoden','masanpham','tensanpham','donvi','soluong']\n",
    "# _df = _df[lst]\n",
    "# lst = ['makho','masanpham','tensanpham','donvi','soluong']\n",
    "# _df.columns = lst"
   ]
  },
  {
   "cell_type": "code",
   "execution_count": 22,
   "metadata": {},
   "outputs": [],
   "source": []
  },
  {
   "cell_type": "code",
   "execution_count": 23,
   "metadata": {},
   "outputs": [
    {
     "data": {
      "text/plain": [
       "makho         object\n",
       "masanpham     object\n",
       "tensanpham    object\n",
       "donvi         object\n",
       "soluong        int64\n",
       "dtype: object"
      ]
     },
     "execution_count": 23,
     "metadata": {},
     "output_type": "execute_result"
    }
   ],
   "source": [
    "# _df.dtypes"
   ]
  },
  {
   "cell_type": "code",
   "execution_count": 27,
   "metadata": {},
   "outputs": [],
   "source": [
    "lst = ['makhoden','masanpham','tensanpham','donvi','soluong']\n",
    "_df = _df[lst]\n",
    "lst = ['makho','masanpham','tensanpham','donvi','soluong']\n",
    "_df.columns = lst\n",
    "_df['tonao'] = 0\n",
    "_df['datatype'] = 'gdk'\n",
    "\n",
    "df2 = union_all([df2, _df])\n",
    "df2 = pivot(df2, ['makho','masanpham','tensanpham','donvi','datatype'], {'soluong':np.sum, 'tonao':np.sum})\n",
    "lst = ['makho','masanpham','tensanpham','donvi','soluong','tonao','datatype']\n",
    "df2 = df2[lst]\n",
    "# df2 = df2.merge(_df, how='left', on=['makho','masanpham'])\n",
    "# del(_df)\n",
    "# df2['soluonghdd'].fillna(0, inplace=True)\n",
    "# df2['soluong'] = df2['soluong'] + df2['soluonghdd']\n",
    "# drop_cols(df2,['soluonghdd'])\n",
    "df2.columns = ['makho', 'masanpham', 'tensanpham', 'donvi', 'toncuoi', 'tonao','datatype']"
   ]
  },
  {
   "cell_type": "code",
   "execution_count": 28,
   "metadata": {},
   "outputs": [],
   "source": [
    "df3 = union_all([df1,df2])"
   ]
  },
  {
   "cell_type": "code",
   "execution_count": 29,
   "metadata": {},
   "outputs": [],
   "source": [
    "# df3.to_csv(\"df3_26012022.csv\", index=False)"
   ]
  },
  {
   "cell_type": "code",
   "execution_count": 30,
   "metadata": {},
   "outputs": [],
   "source": [
    "dfsc = get_ps_df(\"select makho, hangdiduong,chinhanh,phanloaicn,songaynhan from d_sc_kho_chi_nhanh\")"
   ]
  },
  {
   "cell_type": "code",
   "execution_count": 31,
   "metadata": {},
   "outputs": [],
   "source": [
    "df4 = df3.merge(dfsc, how=\"left\", on=\"makho\")"
   ]
  },
  {
   "cell_type": "code",
   "execution_count": 32,
   "metadata": {},
   "outputs": [],
   "source": [
    "dk1 = df4['phanloaicn'].notna()"
   ]
  },
  {
   "cell_type": "code",
   "execution_count": 33,
   "metadata": {},
   "outputs": [],
   "source": [
    "df4 = df4[dk1].copy()"
   ]
  },
  {
   "cell_type": "code",
   "execution_count": 34,
   "metadata": {},
   "outputs": [],
   "source": [
    "dk1 = df4['datatype']=='gdk'"
   ]
  },
  {
   "cell_type": "code",
   "execution_count": 35,
   "metadata": {},
   "outputs": [],
   "source": [
    "df4['phanloaicn'] = np.where(dk1, \"HDD\", df4['phanloaicn'])"
   ]
  },
  {
   "cell_type": "code",
   "execution_count": 36,
   "metadata": {},
   "outputs": [],
   "source": [
    "dk0 = df4['phanloaicn'] == 'HDD'\n",
    "dk1 = df4['phanloaicn'] == \"CN\"\n",
    "dk2 = df4['phanloaicn'] == \"HCM\"\n",
    "dk3 = df4['phanloaicn'] == \"MERAP\"\n",
    "dk4 = df4['phanloaicn'] == \"VIME\"\n",
    "\n",
    "\n",
    "df4['tonhangdiduong'] = np.where(dk0, df4['toncuoi'], 0)\n",
    "df4['toncn'] = np.where(dk1, df4['toncuoi'], 0)\n",
    "df4['tonhcm'] = np.where(dk2, df4['toncuoi'], 0)\n",
    "df4['tonmerap'] = np.where(dk3, df4['toncuoi'], 0)\n",
    "df4['tonvime'] = np.where(dk4, df4['toncuoi'], 0)"
   ]
  },
  {
   "cell_type": "code",
   "execution_count": 37,
   "metadata": {},
   "outputs": [],
   "source": [
    "grouplst = ['masanpham', 'tensanpham', 'donvi', 'chinhanh', 'songaynhan']\n",
    "agg_dict = \\\n",
    "{\n",
    "'tonao':np.sum,\n",
    "'tonhangdiduong':np.sum,\n",
    "'toncn':np.sum,\n",
    "'tonhcm':np.sum,\n",
    "'tonmerap':np.sum,\n",
    "'tonvime':np.sum\n",
    "}"
   ]
  },
  {
   "cell_type": "code",
   "execution_count": 38,
   "metadata": {},
   "outputs": [],
   "source": [
    "df4.donvi = np.where(df4.donvi == 'Hộp', 'HOP', df4.donvi)\n",
    "df4.donvi = np.where(df4.donvi == 'Cái', 'CAI', df4.donvi)"
   ]
  },
  {
   "cell_type": "code",
   "execution_count": 39,
   "metadata": {},
   "outputs": [],
   "source": [
    "df5 = pivot(df4, grouplst, agg_dict)"
   ]
  },
  {
   "cell_type": "code",
   "execution_count": 40,
   "metadata": {},
   "outputs": [],
   "source": [
    "# df5.head()"
   ]
  },
  {
   "cell_type": "code",
   "execution_count": 42,
   "metadata": {},
   "outputs": [],
   "source": [
    "df5.to_csv(f\"{datenow}_df5.csv\", index=False)"
   ]
  },
  {
   "cell_type": "code",
   "execution_count": 43,
   "metadata": {},
   "outputs": [],
   "source": [
    "# df5.dtypes"
   ]
  },
  {
   "cell_type": "code",
   "execution_count": 4,
   "metadata": {},
   "outputs": [],
   "source": [
    "assert checkdup(df5,1,['masanpham','chinhanh']).sum() == 0, \"MSP & Chi Nhanh khong duoc trung\""
   ]
  },
  {
   "cell_type": "code",
   "execution_count": 2,
   "metadata": {},
   "outputs": [],
   "source": [
    "df5 = pd.read_csv(\"20220914_DF5.csv\")\n",
    "df5.chinhanh.fillna(\"NA\", inplace=True)"
   ]
  },
  {
   "cell_type": "code",
   "execution_count": 4,
   "metadata": {},
   "outputs": [],
   "source": [
    "# df5.dtypes"
   ]
  },
  {
   "cell_type": "code",
   "execution_count": 5,
   "metadata": {},
   "outputs": [],
   "source": [
    "# vc(df5,\"chinhanh\")"
   ]
  },
  {
   "cell_type": "code",
   "execution_count": 6,
   "metadata": {},
   "outputs": [],
   "source": [
    "# df5.tonhangdiduong.sum()"
   ]
  },
  {
   "cell_type": "code",
   "execution_count": 7,
   "metadata": {},
   "outputs": [],
   "source": [
    "# Map new data 13/01\n",
    "HDDURL = 'https://docs.google.com/spreadsheets/d/e/2PACX-1vTlHJ6SB5QNdaHdEaJlRnU7nKcLI2Haj6YlebHtqMvJ-GKsmAZWRvWa5j5dKBY8INF2vSd1fSJlTrXs/pub?gid=0&single=true&output=csv'\n",
    "_df = pd.read_csv(HDDURL, dayfirst=True, parse_dates=['Ngay(dd/mm/yyyy)'])\n",
    "lst = ['ngay','masanpham', 'tensanpham', 'soluonghdd1', 'chinhanh', 'solo', 'exdate', 'soluonghdd']\n",
    "# lst = ['ngay','masanpham', 'tensanpham', 'chinhanh','soluonghdd1','soluonghdd']\n",
    "_df.columns = lst\n",
    "_df = _df[_df.masanpham.notna()]\n",
    "_df.chinhanh.fillna(\"NA\", inplace=True)\n",
    "drop_cols(_df,['ngay','soluonghdd1', 'solo', 'exdate'])\n",
    "_df = pivot(_df, ['masanpham', 'chinhanh'], {'soluonghdd':np.sum})\n",
    "\n",
    "# Update 11/02/2022\n",
    "df5_dict = df5[['masanpham','tensanpham','donvi']].copy()\n",
    "df5_dict.drop_duplicates(inplace=True)\n",
    "_df = _df.merge(df5_dict, how='left', on='masanpham')\n",
    "# Update 11/02/2022\n",
    "df5_dict = df5[['chinhanh','songaynhan']].copy()\n",
    "df5_dict.drop_duplicates(inplace=True)\n",
    "_df = _df.merge(df5_dict, how='left', on='chinhanh')\n",
    "\n",
    "_df['tonao'] = 0\n",
    "_df['toncn'] = 0\n",
    "_df['tonhcm'] = 0\n",
    "_df['tonmerap'] = 0\n",
    "_df['tonvime'] = 0\n",
    "_df['toncn_huy'] = 0\n",
    "_df['tonhcm_huy'] = 0\n",
    "\n",
    "_df.columns = ['masanpham','chinhanh','tonhangdiduong','tensanpham','donvi','songaynhan','tonao','toncn','tonhcm','tonmerap','tonvime', 'toncn_huy', 'tonhcm_huy']\n",
    "_df = _df[['masanpham', 'tensanpham', 'donvi', 'chinhanh', 'songaynhan', 'tonao', 'tonhangdiduong', 'toncn', 'tonhcm', 'tonmerap', 'tonvime', 'toncn_huy', 'tonhcm_huy']]\n",
    "df5 = union_all([df5, _df])\n",
    "df5 = pivot(df5, ['masanpham', 'tensanpham', 'donvi', 'chinhanh', 'songaynhan'], {'tonao':np.sum, 'tonhangdiduong':np.sum, 'toncn':np.sum, 'tonhcm':np.sum, 'tonmerap':np.sum, 'tonvime':np.sum, 'toncn_huy':np.sum, 'tonhcm_huy':np.sum})"
   ]
  },
  {
   "cell_type": "code",
   "execution_count": 8,
   "metadata": {},
   "outputs": [],
   "source": [
    "# df5.tonhangdiduong.sum()"
   ]
  },
  {
   "cell_type": "code",
   "execution_count": 9,
   "metadata": {},
   "outputs": [],
   "source": [
    "# df5[checkdup(df5,2,['masanpham','chinhanh'])]"
   ]
  },
  {
   "cell_type": "code",
   "execution_count": 10,
   "metadata": {},
   "outputs": [],
   "source": [
    "assert checkdup(df5,1,['masanpham','chinhanh']).sum() == 0, \"MSP & Chi Nhanh khong duoc trung\""
   ]
  },
  {
   "cell_type": "code",
   "execution_count": 11,
   "metadata": {},
   "outputs": [],
   "source": [
    "NMURLTP = 'https://docs.google.com/spreadsheets/d/e/2PACX-1vRvmeMXGwa-2u-cCQmDRyXs__a8oLfcZk9yLyq1LupmdsvzulMVlxHublEJAKszBY-zmnl_Wm1KNnvZ/pub?gid=0&single=true&output=csv'\n",
    "nmtp = pd.read_csv(NMURLTP)\n",
    "# nmtp.columns = nmtp.iloc[0]\n",
    "headers = nmtp.iloc[0]\n",
    "nmtp  = pd.DataFrame(nmtp.values[1:], columns=headers)\n",
    "nmtp.columns = cleancols(nmtp)\n",
    "nmtp.columns = lower_col(nmtp)\n",
    "dk1 = nmtp.ten_phanam.notna()\n",
    "nmtp = nmtp[dk1].copy()\n",
    "nmtp = nmtp[['ten_phanam','convert']].copy()\n",
    "nmtp.convert = pd.to_numeric(nmtp.convert)\n",
    "dk2 = nmtp.convert != 0\n",
    "nmtp = nmtp[dk2].copy()\n",
    "nmtp['datatype'] = 'TP'"
   ]
  },
  {
   "cell_type": "code",
   "execution_count": 12,
   "metadata": {},
   "outputs": [],
   "source": [
    "# nmtp.convert.sum()"
   ]
  },
  {
   "cell_type": "code",
   "execution_count": 13,
   "metadata": {},
   "outputs": [],
   "source": [
    "NMURLBT = 'https://docs.google.com/spreadsheets/d/e/2PACX-1vRvmeMXGwa-2u-cCQmDRyXs__a8oLfcZk9yLyq1LupmdsvzulMVlxHublEJAKszBY-zmnl_Wm1KNnvZ/pub?gid=869914713&single=true&output=csv'\n",
    "nmbt = pd.read_csv(NMURLBT)\n",
    "nmbt.columns = [1,2,3,4,5,6,7,8,9,10,11,12,13,14,15]\n",
    "nmbt = nmbt[[14,15]].copy()\n",
    "nmbt.columns = ['ten_phanam', 'convert']\n",
    "dk1 = nmbt.ten_phanam.notna()\n",
    "nmbt = nmbt[dk1].copy()\n",
    "nmbt.convert = pd.to_numeric(nmbt.convert)\n",
    "dk2 = nmbt.convert != 0\n",
    "nmbt = nmbt[dk2].copy()\n",
    "nmbt['datatype'] = 'BT'"
   ]
  },
  {
   "cell_type": "code",
   "execution_count": 14,
   "metadata": {},
   "outputs": [],
   "source": [
    "NMURLHH = 'https://docs.google.com/spreadsheets/d/e/2PACX-1vRvmeMXGwa-2u-cCQmDRyXs__a8oLfcZk9yLyq1LupmdsvzulMVlxHublEJAKszBY-zmnl_Wm1KNnvZ/pub?gid=1577909815&single=true&output=csv'\n",
    "nmhh = pd.read_csv(NMURLHH)\n",
    "nmhh.columns = [1,2,3,4,5,6,7,8,9,10,11,12,13,14,15]\n",
    "nmhh = nmhh[[14,15]].copy()\n",
    "nmhh.columns = ['ten_phanam', 'convert']\n",
    "dk1 = nmhh.ten_phanam.notna()\n",
    "nmhh = nmhh[dk1].copy()\n",
    "nmhh.convert = pd.to_numeric(nmhh.convert)\n",
    "dk2 = nmhh.convert != 0\n",
    "nmhh = nmhh[dk2].copy()\n",
    "nmhh['datatype'] = 'HH'"
   ]
  },
  {
   "cell_type": "code",
   "execution_count": 15,
   "metadata": {},
   "outputs": [],
   "source": [
    "NM = union_all([nmtp,nmbt,nmhh])\n",
    "NM.columns = ['invtid','soluong','datatype']\n",
    "# dfnmid = get_ps_df(\"SELECT nhamayid, invtid FROM d_sc_invtid WHERE nhamayid NOTNULL\")\n",
    "# dfnmid = pd.read_csv('datacodenm.csv')\n",
    "# NM = NM.merge(dfnmid, how='left', on='nhamayid')\n",
    "# assert NM.invtid.isna().sum() == 0, \"NEW NM SKU FOUND\"\n",
    "# del(dfnmid)\n",
    "# NM = NM[NM.invtid.notna()]\n",
    "NM = pivot(NM, ['invtid', 'datatype'], {'soluong':np.sum})"
   ]
  },
  {
   "cell_type": "code",
   "execution_count": 16,
   "metadata": {},
   "outputs": [],
   "source": [
    "df5_dict = df5[['masanpham','tensanpham','donvi']].copy()\n",
    "df5_dict.drop_duplicates(inplace=True)"
   ]
  },
  {
   "cell_type": "code",
   "execution_count": 17,
   "metadata": {},
   "outputs": [],
   "source": [
    "NM.columns = ['masanpham', 'datatype', 'soluong']"
   ]
  },
  {
   "cell_type": "code",
   "execution_count": 18,
   "metadata": {},
   "outputs": [],
   "source": [
    "# ADDING Ton Theo PO & NM no PO\n",
    "THEOPO_URL = 'https://docs.google.com/spreadsheets/d/e/2PACX-1vRvmeMXGwa-2u-cCQmDRyXs__a8oLfcZk9yLyq1LupmdsvzulMVlxHublEJAKszBY-zmnl_Wm1KNnvZ/pub?gid=574959890&single=true&output=csv'\n",
    "nmtheopo = pd.read_csv(THEOPO_URL)"
   ]
  },
  {
   "cell_type": "code",
   "execution_count": 19,
   "metadata": {},
   "outputs": [],
   "source": [
    "nmtheopo.columns = cleancols(nmtheopo)\n",
    "nmtheopo.columns = lower_col(nmtheopo)"
   ]
  },
  {
   "cell_type": "code",
   "execution_count": 20,
   "metadata": {},
   "outputs": [],
   "source": [
    "nmtheopo.columns = ['mapn','dummy','nmnopo','tontheopo']"
   ]
  },
  {
   "cell_type": "code",
   "execution_count": 21,
   "metadata": {},
   "outputs": [],
   "source": [
    "nmpo = nmtheopo[['mapn','tontheopo']].copy()\n",
    "nmpo['datatype'] = 'PO'\n",
    "nmpo = nmpo[['mapn', 'datatype', 'tontheopo']]\n",
    "nmpo.columns = ['masanpham', 'datatype', 'soluong']"
   ]
  },
  {
   "cell_type": "code",
   "execution_count": 22,
   "metadata": {},
   "outputs": [],
   "source": [
    "nmno = nmtheopo[['mapn','nmnopo']].copy()\n",
    "nmno['datatype'] = 'NO'\n",
    "nmno = nmno[['mapn', 'datatype', 'nmnopo']]\n",
    "nmno.columns = ['masanpham', 'datatype', 'soluong']"
   ]
  },
  {
   "cell_type": "code",
   "execution_count": 23,
   "metadata": {},
   "outputs": [],
   "source": [
    "NM = union_all([NM,nmpo,nmno])"
   ]
  },
  {
   "cell_type": "code",
   "execution_count": 24,
   "metadata": {},
   "outputs": [],
   "source": [
    "# NM.to_clipboard()"
   ]
  },
  {
   "cell_type": "code",
   "execution_count": 25,
   "metadata": {},
   "outputs": [],
   "source": [
    "NM = NM.merge(df5_dict, how='left', on='masanpham')"
   ]
  },
  {
   "cell_type": "code",
   "execution_count": 26,
   "metadata": {},
   "outputs": [],
   "source": [
    "NM['chinhanh'] = 'NM'"
   ]
  },
  {
   "cell_type": "code",
   "execution_count": 27,
   "metadata": {},
   "outputs": [],
   "source": [
    "dk1 = NM['datatype'] == \"TP\"\n",
    "dk2 = NM['datatype'] == \"BT\"\n",
    "dk3 = NM['datatype'] == \"HH\"\n",
    "dk4 = NM['datatype'] == \"PO\"\n",
    "dk5 = NM['datatype'] == \"NO\"\n",
    "\n",
    "NM['tonnmtp'] = np.where(dk1, NM['soluong'], 0)\n",
    "NM['tonnmbt'] = np.where(dk2, NM['soluong'], 0)\n",
    "NM['tonnmhh'] = np.where(dk3, NM['soluong'], 0)\n",
    "NM['tonnmpo'] = np.where(dk4, NM['soluong'], 0)\n",
    "NM['tonnmno'] = np.where(dk5, NM['soluong'], 0)"
   ]
  },
  {
   "cell_type": "code",
   "execution_count": 28,
   "metadata": {},
   "outputs": [],
   "source": [
    "grouplst = ['masanpham', 'tensanpham', 'donvi', 'chinhanh']\n",
    "agg_dict = \\\n",
    "{\n",
    "'tonnmtp':np.sum,\n",
    "'tonnmbt':np.sum,\n",
    "'tonnmhh':np.sum,\n",
    "'tonnmpo':np.sum,\n",
    "'tonnmno':np.sum\n",
    "}"
   ]
  },
  {
   "cell_type": "code",
   "execution_count": 29,
   "metadata": {},
   "outputs": [],
   "source": [
    "NM = pivot(NM, grouplst, agg_dict)"
   ]
  },
  {
   "cell_type": "code",
   "execution_count": 30,
   "metadata": {},
   "outputs": [],
   "source": [
    "NM['songaynhan'] = 0\n",
    "NM['tonao'] = 0\n",
    "NM['tonhangdiduong'] = 0\n",
    "NM['toncn'] = 0\n",
    "NM['tonhcm'] = 0\n",
    "NM['tonmerap'] = 0\n",
    "NM['tonvime'] = 0"
   ]
  },
  {
   "cell_type": "code",
   "execution_count": 31,
   "metadata": {},
   "outputs": [],
   "source": [
    "NM = NM[['masanpham', 'tensanpham', 'donvi', 'chinhanh', 'songaynhan', 'tonao', 'tonhangdiduong', 'toncn', 'tonhcm',\n",
    "       'tonmerap', 'tonvime', 'tonnmtp', 'tonnmbt', 'tonnmhh', 'tonnmpo', 'tonnmno']]"
   ]
  },
  {
   "cell_type": "code",
   "execution_count": 32,
   "metadata": {},
   "outputs": [],
   "source": [
    "# NM.to_clipboard()"
   ]
  },
  {
   "cell_type": "code",
   "execution_count": 33,
   "metadata": {},
   "outputs": [],
   "source": [
    "df5['tonnmtp'] = 0\n",
    "df5['tonnmbt'] = 0\n",
    "df5['tonnmhh'] = 0\n",
    "df5['tonnmpo'] = 0\n",
    "df5['tonnmno'] = 0"
   ]
  },
  {
   "cell_type": "code",
   "execution_count": 34,
   "metadata": {},
   "outputs": [],
   "source": [
    "# union ton NM va ton DMS\n",
    "df5 = union_all([df5, NM])"
   ]
  },
  {
   "cell_type": "code",
   "execution_count": 35,
   "metadata": {},
   "outputs": [],
   "source": [
    "# df5.head()"
   ]
  },
  {
   "cell_type": "code",
   "execution_count": 38,
   "metadata": {},
   "outputs": [],
   "source": [
    "cur_day = datetime.now().day\n",
    "cur_month = datetime.now().month\n",
    "cur_year = datetime.now().year\n",
    "\n",
    "def get_3m_ago(cur_month=datetime.now().month, cur_year=datetime.now().year):\n",
    "    if cur_month - 3 < 0:\n",
    "        return [cur_month + 12 - 3, cur_year -1]\n",
    "    if cur_month - 3 == 0:\n",
    "        return [12, cur_year -1]\n",
    "    else:\n",
    "        return [cur_month - 3, cur_year]\n",
    "\n",
    "\n",
    "lst = get_3m_ago()\n",
    "start_date = datetime(lst[1], lst[0], cur_day).strftime(\"%Y%m%d\")\n",
    "# start_date\n",
    "query = f\"EXEC [pr_OM_RawdataSellOutPayroll_BI_v1] @Fromdate='{start_date}', @Todate='{datenow}'\"\n",
    "SALES = get_ms_df(sql=query)\n",
    "SALES.columns = cleancols(SALES)\n",
    "SALES.columns = lower_col(SALES)\n",
    "\n",
    "SALES = SALES[['masanpham', 'soluong', 'makho']]\n",
    "dfsc = get_ps_df(\"select makho,chinhanh from d_sc_kho_chi_nhanh\")\n",
    "dfsc.columns = ['makho','chinhanh_sc']\n",
    "SALES = SALES.merge(dfsc, how=\"left\", on=\"makho\")\n",
    "# SALES.head()\n",
    "del(dfsc)\n",
    "days = len(pd.date_range(start_date, datetime.now()))-13\n",
    "SALES = pivot(SALES, ['masanpham', \"chinhanh_sc\"], {\"soluong\":np.sum})\n",
    "SALES['avg_3m'] = round(SALES['soluong']/days,0)\n",
    "# drop_cols(SALES, 'soluong')\n",
    "SALES.columns = ['masanpham','chinhanh','soluong','avg_3m']"
   ]
  },
  {
   "cell_type": "code",
   "execution_count": 36,
   "metadata": {},
   "outputs": [],
   "source": [
    "SALES = pd.read_csv(\"20220528_SALES.csv\")\n",
    "SALES.chinhanh.fillna(\"NA\", inplace=True)"
   ]
  },
  {
   "cell_type": "code",
   "execution_count": 37,
   "metadata": {},
   "outputs": [
    {
     "data": {
      "text/plain": [
       "masanpham     object\n",
       "chinhanh      object\n",
       "soluong      float64\n",
       "avg_3m       float64\n",
       "dtype: object"
      ]
     },
     "execution_count": 37,
     "metadata": {},
     "output_type": "execute_result"
    }
   ],
   "source": [
    "SALES.dtypes"
   ]
  },
  {
   "cell_type": "code",
   "execution_count": 38,
   "metadata": {},
   "outputs": [],
   "source": [
    "df6 = df5.merge(SALES, how = \"left\", on=['masanpham','chinhanh'])"
   ]
  },
  {
   "cell_type": "code",
   "execution_count": 39,
   "metadata": {},
   "outputs": [],
   "source": [
    "df6.soluong.fillna(0, inplace=True)\n",
    "df6.avg_3m.fillna(0, inplace=True)"
   ]
  },
  {
   "cell_type": "code",
   "execution_count": 40,
   "metadata": {},
   "outputs": [],
   "source": [
    "df6['created_date'] = datetime(2022,5,31)\n",
    "# df6['created_date'] = datetime.now().replace(hour=0, minute=0, second=0, microsecond=0)"
   ]
  },
  {
   "cell_type": "code",
   "execution_count": 41,
   "metadata": {},
   "outputs": [],
   "source": [
    "assert checkdup(df6,1,['masanpham','chinhanh']).sum() == 0, \"MSP & Chi Nhanh khong duoc trung\""
   ]
  },
  {
   "cell_type": "code",
   "execution_count": 42,
   "metadata": {},
   "outputs": [
    {
     "name": "stdout",
     "output_type": "stream",
     "text": [
      "Data inserted using execute_values() successfully..\n"
     ]
    }
   ],
   "source": [
    "execute_values_insert(df6,'f_sc_daily_invt')"
   ]
  },
  {
   "cell_type": "code",
   "execution_count": 43,
   "metadata": {},
   "outputs": [],
   "source": [
    "# print(float(\"1, 3\"))"
   ]
  },
  {
   "cell_type": "code",
   "execution_count": 44,
   "metadata": {},
   "outputs": [
    {
     "name": "stderr",
     "output_type": "stream",
     "text": [
      "1it [00:04,  4.09s/it]\n"
     ]
    }
   ],
   "source": [
    "bq_values_insert(df6, \"f_sc_daily_invt\", 2)"
   ]
  },
  {
   "cell_type": "code",
   "execution_count": 7,
   "metadata": {},
   "outputs": [],
   "source": [
    "bsql = \\\n",
    "\"\"\"\n",
    "with sales as \n",
    "(select masanpham,soluong,makho\n",
    "from biteam.f_sales\n",
    "where date(ngaychungtu)>=date_sub(current_date(),interval 3 month))\n",
    ",\n",
    "dfsc as \n",
    "(\n",
    "select distinct makho,chinhanh chinhanh_sc\n",
    "from biteam.d_sc_kho_chi_nhanh\n",
    ")\n",
    "\n",
    "select t1.masanpham, t2.chinhanh_sc as chinhanh,sum(t1.soluong) soluong,round(sum(t1.soluong)/(90-13),0) as avg_3m\n",
    "from sales t1\n",
    "left join dfsc t2 on t1.makho=t2.makho\n",
    "group by 1,2\n",
    "\"\"\""
   ]
  },
  {
   "cell_type": "code",
   "execution_count": 8,
   "metadata": {},
   "outputs": [],
   "source": [
    "SALES = get_bq_df(bsql)"
   ]
  },
  {
   "cell_type": "code",
   "execution_count": 9,
   "metadata": {},
   "outputs": [
    {
     "data": {
      "text/plain": [
       "masanpham     object\n",
       "chinhanh      object\n",
       "soluong      float64\n",
       "avg_3m       float64\n",
       "dtype: object"
      ]
     },
     "execution_count": 9,
     "metadata": {},
     "output_type": "execute_result"
    }
   ],
   "source": [
    "SALES.dtypes"
   ]
  }
 ],
 "metadata": {
  "kernelspec": {
   "display_name": "Python 3.8.10 ('venv': venv)",
   "language": "python",
   "name": "python3"
  },
  "language_info": {
   "codemirror_mode": {
    "name": "ipython",
    "version": 3
   },
   "file_extension": ".py",
   "mimetype": "text/x-python",
   "name": "python",
   "nbconvert_exporter": "python",
   "pygments_lexer": "ipython3",
   "version": "3.8.10"
  },
  "orig_nbformat": 4,
  "vscode": {
   "interpreter": {
    "hash": "8fb55849e6741974ce442ee684e971e1b6b22c29ca2b25c3b9069bf531e0354a"
   }
  }
 },
 "nbformat": 4,
 "nbformat_minor": 2
}
