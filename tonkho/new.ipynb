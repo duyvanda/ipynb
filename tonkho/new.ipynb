{
 "cells": [
  {
   "cell_type": "code",
   "execution_count": 15,
   "metadata": {},
   "outputs": [],
   "source": [
    "from utils.df_handle import *"
   ]
  },
  {
   "cell_type": "code",
   "execution_count": 16,
   "metadata": {},
   "outputs": [],
   "source": [
    "df = pd.read_csv(\"Mapping Tồn Kho 06092022 - BI.csv\")"
   ]
  },
  {
   "cell_type": "code",
   "execution_count": 17,
   "metadata": {},
   "outputs": [],
   "source": [
    "df.chinhanh.fillna(\"NA\", inplace=True)"
   ]
  },
  {
   "cell_type": "code",
   "execution_count": 18,
   "metadata": {},
   "outputs": [],
   "source": [
    "bq_values_insert(df, \"d_sc_kho_chi_nhanh\", 3)"
   ]
  },
  {
   "cell_type": "code",
   "execution_count": 21,
   "metadata": {},
   "outputs": [],
   "source": [
    "df = pd.read_pickle(\"20221103_DF5_Dup.pickle\")"
   ]
  },
  {
   "cell_type": "code",
   "execution_count": 22,
   "metadata": {},
   "outputs": [
    {
     "data": {
      "text/html": [
       "<div>\n",
       "<style scoped>\n",
       "    .dataframe tbody tr th:only-of-type {\n",
       "        vertical-align: middle;\n",
       "    }\n",
       "\n",
       "    .dataframe tbody tr th {\n",
       "        vertical-align: top;\n",
       "    }\n",
       "\n",
       "    .dataframe thead th {\n",
       "        text-align: right;\n",
       "    }\n",
       "</style>\n",
       "<table border=\"1\" class=\"dataframe\">\n",
       "  <thead>\n",
       "    <tr style=\"text-align: right;\">\n",
       "      <th></th>\n",
       "      <th>masanpham</th>\n",
       "      <th>tensanpham</th>\n",
       "      <th>donvi</th>\n",
       "      <th>chinhanh</th>\n",
       "      <th>songaynhan</th>\n",
       "      <th>tonao</th>\n",
       "      <th>tonhangdiduong</th>\n",
       "      <th>toncn</th>\n",
       "      <th>tonhcm</th>\n",
       "      <th>tonmerap</th>\n",
       "      <th>tonvime</th>\n",
       "      <th>toncn_huy</th>\n",
       "      <th>tonhcm_huy</th>\n",
       "      <th>tonece</th>\n",
       "    </tr>\n",
       "  </thead>\n",
       "  <tbody>\n",
       "    <tr>\n",
       "      <th>335</th>\n",
       "      <td>OH049</td>\n",
       "      <td>Xisat 15ml</td>\n",
       "      <td>HOP</td>\n",
       "      <td>HCM</td>\n",
       "      <td>2.0</td>\n",
       "      <td>0.0</td>\n",
       "      <td>0.0</td>\n",
       "      <td>0.0</td>\n",
       "      <td>0.0</td>\n",
       "      <td>0.0</td>\n",
       "      <td>0.0</td>\n",
       "      <td>0.0</td>\n",
       "      <td>0.0</td>\n",
       "      <td>244.0</td>\n",
       "    </tr>\n",
       "    <tr>\n",
       "      <th>336</th>\n",
       "      <td>OH049</td>\n",
       "      <td>Xisat 15ml</td>\n",
       "      <td>HOP</td>\n",
       "      <td>HCM</td>\n",
       "      <td>6.0</td>\n",
       "      <td>-106.0</td>\n",
       "      <td>0.0</td>\n",
       "      <td>6873.0</td>\n",
       "      <td>0.0</td>\n",
       "      <td>0.0</td>\n",
       "      <td>0.0</td>\n",
       "      <td>0.0</td>\n",
       "      <td>0.0</td>\n",
       "      <td>0.0</td>\n",
       "    </tr>\n",
       "    <tr>\n",
       "      <th>343</th>\n",
       "      <td>OH050</td>\n",
       "      <td>Xisat Viêm Mũi 75ml</td>\n",
       "      <td>HOP</td>\n",
       "      <td>HCM</td>\n",
       "      <td>2.0</td>\n",
       "      <td>0.0</td>\n",
       "      <td>0.0</td>\n",
       "      <td>0.0</td>\n",
       "      <td>0.0</td>\n",
       "      <td>0.0</td>\n",
       "      <td>0.0</td>\n",
       "      <td>0.0</td>\n",
       "      <td>0.0</td>\n",
       "      <td>230.0</td>\n",
       "    </tr>\n",
       "    <tr>\n",
       "      <th>344</th>\n",
       "      <td>OH050</td>\n",
       "      <td>Xisat Viêm Mũi 75ml</td>\n",
       "      <td>HOP</td>\n",
       "      <td>HCM</td>\n",
       "      <td>6.0</td>\n",
       "      <td>-2866.0</td>\n",
       "      <td>4000.0</td>\n",
       "      <td>5983.0</td>\n",
       "      <td>0.0</td>\n",
       "      <td>0.0</td>\n",
       "      <td>0.0</td>\n",
       "      <td>0.0</td>\n",
       "      <td>0.0</td>\n",
       "      <td>0.0</td>\n",
       "    </tr>\n",
       "    <tr>\n",
       "      <th>351</th>\n",
       "      <td>OH051</td>\n",
       "      <td>Xisat Hàng Ngày 75ml (Xanh)</td>\n",
       "      <td>HOP</td>\n",
       "      <td>HCM</td>\n",
       "      <td>2.0</td>\n",
       "      <td>0.0</td>\n",
       "      <td>0.0</td>\n",
       "      <td>0.0</td>\n",
       "      <td>0.0</td>\n",
       "      <td>0.0</td>\n",
       "      <td>0.0</td>\n",
       "      <td>0.0</td>\n",
       "      <td>0.0</td>\n",
       "      <td>313.0</td>\n",
       "    </tr>\n",
       "  </tbody>\n",
       "</table>\n",
       "</div>"
      ],
      "text/plain": [
       "    masanpham                   tensanpham donvi chinhanh  songaynhan   tonao  \\\n",
       "335     OH049                   Xisat 15ml   HOP      HCM         2.0     0.0   \n",
       "336     OH049                   Xisat 15ml   HOP      HCM         6.0  -106.0   \n",
       "343     OH050          Xisat Viêm Mũi 75ml   HOP      HCM         2.0     0.0   \n",
       "344     OH050          Xisat Viêm Mũi 75ml   HOP      HCM         6.0 -2866.0   \n",
       "351     OH051  Xisat Hàng Ngày 75ml (Xanh)   HOP      HCM         2.0     0.0   \n",
       "\n",
       "     tonhangdiduong   toncn  tonhcm  tonmerap  tonvime  toncn_huy  tonhcm_huy  \\\n",
       "335             0.0     0.0     0.0       0.0      0.0        0.0         0.0   \n",
       "336             0.0  6873.0     0.0       0.0      0.0        0.0         0.0   \n",
       "343             0.0     0.0     0.0       0.0      0.0        0.0         0.0   \n",
       "344          4000.0  5983.0     0.0       0.0      0.0        0.0         0.0   \n",
       "351             0.0     0.0     0.0       0.0      0.0        0.0         0.0   \n",
       "\n",
       "     tonece  \n",
       "335   244.0  \n",
       "336     0.0  \n",
       "343   230.0  \n",
       "344     0.0  \n",
       "351   313.0  "
      ]
     },
     "execution_count": 22,
     "metadata": {},
     "output_type": "execute_result"
    }
   ],
   "source": [
    "df.head()"
   ]
  },
  {
   "cell_type": "code",
   "execution_count": null,
   "metadata": {},
   "outputs": [],
   "source": []
  }
 ],
 "metadata": {
  "kernelspec": {
   "display_name": "Python 3.8.10 ('env': venv)",
   "language": "python",
   "name": "python3"
  },
  "language_info": {
   "codemirror_mode": {
    "name": "ipython",
    "version": 3
   },
   "file_extension": ".py",
   "mimetype": "text/x-python",
   "name": "python",
   "nbconvert_exporter": "python",
   "pygments_lexer": "ipython3",
   "version": "3.8.10"
  },
  "orig_nbformat": 4,
  "vscode": {
   "interpreter": {
    "hash": "e3e62c236e1a80b91bd28884dfef8ca4e8a5f2f97e25c469797e512f6e958bfc"
   }
  }
 },
 "nbformat": 4,
 "nbformat_minor": 2
}
