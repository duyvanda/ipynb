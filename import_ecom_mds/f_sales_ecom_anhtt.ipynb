{
 "cells": [
  {
   "cell_type": "code",
   "execution_count": null,
   "metadata": {},
   "outputs": [],
   "source": [
    "from utils.df_handle import *"
   ]
  },
  {
   "cell_type": "code",
   "execution_count": null,
   "metadata": {},
   "outputs": [],
   "source": [
    "import pendulum\n",
    "from airflow import DAG\n",
    "from airflow.operators.dummy_operator import DummyOperator\n",
    "from airflow.operators.python_operator import PythonOperator\n",
    "import requests\n",
    "from requests.structures import CaseInsensitiveDict\n",
    "# from openpyxl import Workbook, load_workbook\n",
    "from datetime import datetime  \n",
    "from datetime import timedelta \n",
    "\n",
    "local_tz = pendulum.timezone(\"Asia/Bangkok\")\n",
    "name='SalesEcom'\n",
    "prefix='Anhtt_'\n",
    "path = f'/usr/local/airflow/plugins/{prefix}{name}/'\n",
    "\n",
    "# datenow_min1 = (datetime.now() - timedelta(days=1)).strftime(\"%Y-%m-%d\")\n",
    "\n",
    "dag_params = {\n",
    "    'owner': 'phuonght2',\n",
    "    \"depends_on_past\": False,\n",
    "    'start_date': datetime(2022, 7, 15, tzinfo=local_tz),\n",
    "    # 'email_on_failure': True,\n",
    "    # 'email_on_retry': False,\n",
    "    # 'email':['duyvq@merapgroup.com', 'vanquangduy10@gmail.com'],\n",
    "    'do_xcom_push': False,\n",
    "    'execution_timeout':timedelta(seconds=300)\n",
    "    # 'retries': 3,\n",
    "    # 'retry_delay': timedelta(minutes=10),\n",
    "}\n",
    "\n",
    "dag = DAG(prefix+name,\n",
    "          catchup=False,\n",
    "          default_args=dag_params,\n",
    "          schedule_interval= '0 17,18,19,20 * * *',\n",
    "          tags=[prefix+name, 'Daily', 'at17']\n",
    ")"
   ]
  },
  {
   "cell_type": "code",
   "execution_count": 1,
   "metadata": {},
   "outputs": [
    {
     "name": "stdout",
     "output_type": "stream",
     "text": [
      "Default bq project:  spatial-vision-343005.biteam\n"
     ]
    }
   ],
   "source": [
    "# from utils.df_handle import *\n",
    "def update():\n",
    "    df=pd.read_csv(\"https://docs.google.com/spreadsheets/d/e/2PACX-1vQgGhbZQhIW_JmDnfp352nGDMhNpetFCbB_qU_Q-0BLuNv-fRxoDjHQDJU6u2r5y3nynlhDU070Bs4E/pub?gid=0&single=true&output=csv\", skiprows=1)\n",
    "    df.columns = lower_col(df)\n",
    "    df.columns = cleancols(df)\n",
    "    df.columns\n",
    "    df = df[['madonhang', 'mdsmdcrs']]\n",
    "    df['manv'] = df.mdsmdcrs.str.strip().str[0:6]\n",
    "    drop_cols(df, 'mdsmdcrs')\n",
    "    df['inserted_at'] = datetime.now()\n",
    "    bq_values_insert(df, \"f_sales_ecom_anhtt\", 3)\n"
   ]
  },
  {
   "cell_type": "code",
   "execution_count": null,
   "metadata": {},
   "outputs": [],
   "source": [
    "# Dont Execute this\n",
    "dummy_start = DummyOperator(task_id=\"dummy_start\", dag=dag)\n",
    "\n",
    "update = PythonOperator(task_id=\"update\", python_callable=update, dag=dag)\n",
    "\n",
    "\n",
    "dummy_start >> update"
   ]
  }
 ],
 "metadata": {
  "kernelspec": {
   "display_name": "Python 3.8.10 64-bit (microsoft store)",
   "language": "python",
   "name": "python3"
  },
  "language_info": {
   "codemirror_mode": {
    "name": "ipython",
    "version": 3
   },
   "file_extension": ".py",
   "mimetype": "text/x-python",
   "name": "python",
   "nbconvert_exporter": "python",
   "pygments_lexer": "ipython3",
   "version": "3.8.10"
  },
  "orig_nbformat": 4,
  "vscode": {
   "interpreter": {
    "hash": "c058d42f3be18782caf6f1b1d7e3fdeba1061274271aeb65ea3715bb8dadbe22"
   }
  }
 },
 "nbformat": 4,
 "nbformat_minor": 2
}
