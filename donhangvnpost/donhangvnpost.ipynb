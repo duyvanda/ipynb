{
 "cells": [
  {
   "cell_type": "code",
   "execution_count": 2,
   "metadata": {},
   "outputs": [
    {
     "name": "stdout",
     "output_type": "stream",
     "text": [
      "Default bq project:  spatial-vision-343005.biteam\n"
     ]
    }
   ],
   "source": [
    "from utils.df_handle import *\n",
    "from requests.structures import CaseInsensitiveDict\n",
    "import requests\n",
    "import json"
   ]
  },
  {
   "cell_type": "code",
   "execution_count": 32,
   "metadata": {},
   "outputs": [],
   "source": [
    "def insert():\n",
    "    datenow_1day_ago = ( datetime.now()-timedelta(1) ).strftime(\"%Y-%m-%d\")\n",
    "    datenow_2day_ago = ( datetime.now()-timedelta(2) ).strftime(\"%Y-%m-%d\")\n",
    "    datenow = datetime.now().strftime(\"%Y-%m-%d\")\n",
    "    print(datenow_1day_ago)\n",
    "    print(datenow_2day_ago)\n",
    "    print(datenow)\n",
    "    # datenow_2day_ago\n",
    "    # datenow\n",
    "    date_lst = []\n",
    "    date_lst.append(datenow_2day_ago)\n",
    "    date_lst.append(datenow_1day_ago)\n",
    "    # date_lst\n",
    "    for i in date_lst:\n",
    "        print(i)\n",
    "        y = int(i.split(\"-\")[0])\n",
    "        m = int(i.split(\"-\")[1])\n",
    "        d = int(i.split(\"-\")[2])\n",
    "        data = {\n",
    "        \"year\":y,\n",
    "        \"month\":m,\n",
    "        \"day\":d\n",
    "        }\n",
    "        url = \"\"\"https://birest-6ey4kecoka-as.a.run.app/api/getvnporders/\"\"\"\n",
    "        resp = requests.post(url, json=data)\n",
    "        # resp.json()\n",
    "        df = pd.DataFrame(resp.json())\n",
    "        if df.shape[0] > 0:\n",
    "            col_list = [\n",
    "            'ReceiverWardId',\n",
    "            'ReceiverFullname',\n",
    "            'SERVER_TIMESTAMP',\n",
    "            'CustomerNote',\n",
    "            'SenderDistrictId',\n",
    "            'OrderCode',\n",
    "            'SenderProvinceId',\n",
    "            'PickupType',\n",
    "            'ItemCode',\n",
    "            'CustomerCode',\n",
    "            'ReceiverDistrictId',\n",
    "            'ReceiverAddress',\n",
    "            'CustomerId',\n",
    "            'ReceiverTel',\n",
    "            'SenderTel',\n",
    "            'ServiceName',\n",
    "            'SenderWardId',\n",
    "            'SenderFullname',\n",
    "            'ReceiverProvinceId',\n",
    "            'Id',\n",
    "            'SenderAddress'\n",
    "            ]\n",
    "            df.SERVER_TIMESTAMP = pd.to_datetime(df.SERVER_TIMESTAMP)\n",
    "            df.CreateTime = pd.to_datetime(df.CreateTime)\n",
    "            df.DeliveryDateEvaluation = pd.to_datetime(df.DeliveryDateEvaluation)\n",
    "            execute_bq_query(f\"\"\"DELETE FROM `spatial-vision-343005.biteam.d_vnpost_postedorders` WHERE DATE(server_timestamp) = \"{i}\" \"\"\")\n",
    "            bq_values_insert(df[col_list], \"d_vnpost_postedorders\", 2)\n",
    "            print(\"done\")\n",
    "        else:\n",
    "            print(\"nodata\")\n",
    "            pass"
   ]
  },
  {
   "cell_type": "code",
   "execution_count": null,
   "metadata": {},
   "outputs": [],
   "source": []
  }
 ],
 "metadata": {
  "kernelspec": {
   "display_name": "venv",
   "language": "python",
   "name": "python3"
  },
  "language_info": {
   "codemirror_mode": {
    "name": "ipython",
    "version": 3
   },
   "file_extension": ".py",
   "mimetype": "text/x-python",
   "name": "python",
   "nbconvert_exporter": "python",
   "pygments_lexer": "ipython3",
   "version": "3.8.10 (tags/v3.8.10:3d8993a, May  3 2021, 11:48:03) [MSC v.1928 64 bit (AMD64)]"
  },
  "orig_nbformat": 4,
  "vscode": {
   "interpreter": {
    "hash": "8fb55849e6741974ce442ee684e971e1b6b22c29ca2b25c3b9069bf531e0354a"
   }
  }
 },
 "nbformat": 4,
 "nbformat_minor": 2
}
