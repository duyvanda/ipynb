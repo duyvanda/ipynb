{
 "cells": [
  {
   "cell_type": "code",
   "execution_count": 1,
   "metadata": {},
   "outputs": [
    {
     "name": "stdout",
     "output_type": "stream",
     "text": [
      "Default bq project:  spatial-vision-343005.biteam\n"
     ]
    }
   ],
   "source": [
    "from utils.df_handle import *\n",
    "from requests.structures import CaseInsensitiveDict\n",
    "import requests\n",
    "import json\n",
    "import base64"
   ]
  },
  {
   "cell_type": "code",
   "execution_count": 8,
   "metadata": {},
   "outputs": [],
   "source": [
    "csv_path = 'excelfile.xlsx'"
   ]
  },
  {
   "cell_type": "code",
   "execution_count": 2,
   "metadata": {},
   "outputs": [],
   "source": [
    "data = json.dumps({\n",
    "    \"KeySearch\": \"\",\n",
    "    \"CreateTimeStart\": \"2022-10-18T00:00:00.000Z\",\n",
    "    \"CreateTimeEnd\": \"2022-12-31T23:59:59.000Z\",\n",
    "    \"LstItemCode\": [],\n",
    "    \"PageIndex\": 0,\n",
    "    \"PageSize\": 5\n",
    "})"
   ]
  },
  {
   "cell_type": "code",
   "execution_count": 3,
   "metadata": {},
   "outputs": [],
   "source": [
    "url = \"https://donhang.vnpost.vn/api/api/CustomerOrder/ReportOfCustomer\"\n",
    "headers = CaseInsensitiveDict()\n",
    "headers['authority'] = 'donhang.vnpost.vn'\n",
    "headers['accept'] = 'application/json'\n",
    "headers['h-token'] = 'eyJhbGciOiJSUzI1NiIsInR5cCI6IkpXVCJ9.eyJTb0RpZW5UaG9haSI6IjAyNDM3ODY4MDIwIiwiRW1haWwiOiIiLCJNYUNSTSI6IjExMDAxQTA0MDAwMDEzMDAwIiwiRXhwaXJlZFRpbWUiOjY0MTE3NzQ0NTc5ODE2LjYsIlJvbGVzIjpbOTk5LDExLDRdLCJOZ3VvaUR1bmdJZCI6Ijk4ZDk5NjhiLTZjNTMtNDBhMi1hNjdiLTU0OTIyNWI1ZTA4YiIsIk1hVGluaFRoYW5oIjoiMTAiLCJUZW5OZ3VvaUR1bmciOiJDdHkgRMaw4bujYyBwaOG6qW0gUGhhIE5hbSAtIENOIEjDoCBO4buZaSIsIk5nYXlUYW9Ub2tlbiI6IlwvRGF0ZSgxNjY2NzYyNTc5ODE2KVwvIiwiVGltZUxhc3RSZWFkQ29tbWVudCI6bnVsbCwiTWFCdXVDdWMiOm51bGwsIk1hVGluaFRoYW5oUXVhbkx5IjpudWxsLCJDUk1fRW1wbG95ZWVJZCI6bnVsbCwiTmdheVRhb1Rva2VuVGltZVN0YW1wIjoxNjY2NzYyNTc5ODE2LCJJc0xvZ2luV2l0aEFwcGxlIjpmYWxzZSwiRW1haWxBcHBsZSI6bnVsbH0.eAtTrPNF1YhjcAV5jnZoG6TBBDEwwfioZjgXlLVFNQQ0ioWbYsAk87DMyCqCmEDdv5tNEZCRqtlwlLQD248ZHuphM6UUZN0rw0TKL5sPkEftbxcZzbFsGoKGq05gZooNFfscGmvHdyxUTqkx3XzZDosRst8ipeRvnTGvZ7W_Y76BZYUnpb5dMxgQT4XHwue243n4HKlIEyLe-vpDCsQ3UD_xNfMetzTzQ7eHWX-EpsFUfSEOYCFxcTkP4VmEePLqQI8b3rivZZ3HYQbTYY8PcmRMFRYew5VJFzyRsdKCYjllzSx3tsZejy1XlrmDu9lyPlY81ctOjxiqecPnpU6yTA'\n",
    "headers['content-type'] = 'application/json;charset=UTF-8'\n",
    "headers['user-agent'] = 'Mozilla/5.0 (Windows NT 10.0; Win64; x64) AppleWebKit/537.36 (KHTML, like Gecko) Chrome/103.0.0.0 Safari/537.36'\n",
    "resp = requests.post(url, headers=headers, data=data)"
   ]
  },
  {
   "cell_type": "code",
   "execution_count": 4,
   "metadata": {},
   "outputs": [],
   "source": [
    "data = resp.json()['FileData']"
   ]
  },
  {
   "cell_type": "code",
   "execution_count": 5,
   "metadata": {},
   "outputs": [],
   "source": [
    "with open('excelfile.xlsx', 'wb') as f:\n",
    "    f.write(base64.b64decode(data))"
   ]
  },
  {
   "cell_type": "code",
   "execution_count": 6,
   "metadata": {},
   "outputs": [],
   "source": [
    "lst_cols = \\\n",
    "[\n",
    "'STT',\n",
    "'Mã ĐH',\n",
    "'Số hiệu',\n",
    "'Mã CRM',\n",
    "'Ngày tạo',\n",
    "'Ngày nhận gửi',\n",
    "'Họ tên gửi 0',\n",
    "'Điện thoại gửi 0',\n",
    "'Số nhà, đường phố, thôn xóm… 0',\n",
    "'Phường xã 0',\n",
    "'Quận huyện 0',\n",
    "'Tỉnh thành 0',\n",
    "'Họ tên nhận',\n",
    "'Điện thoại nhận',\n",
    "'Số nhà, đường phố, thôn xóm…',\n",
    "'Phường xã',\n",
    "'Quận huyện',\n",
    "'Tỉnh thành',\n",
    "'Ngày giờ phát',\n",
    "'Nội dung hàng',\n",
    "'Số lô',\n",
    "'Giá trị khai giá (vnđ)',\n",
    "'Ngày trả tiền',\n",
    "'Tiền COD (vnđ)',\n",
    "'Tiền COD gốc (vnđ)',\n",
    "'Trọng lượng (gr)',\n",
    "'Chiều dài',\n",
    "'Chiều rộng',\n",
    "'Chiều cao',\n",
    "'Cước chính (vnđ)',\n",
    "'Cước DVCT (vnđ)',\n",
    "'Cước COD (vnđ)',\n",
    "'Tổng cước (vnđ)',\n",
    "'Trạng thái',\n",
    "'Lý do phát không thành công',\n",
    "]"
   ]
  },
  {
   "cell_type": "code",
   "execution_count": 9,
   "metadata": {},
   "outputs": [],
   "source": [
    "df = pd.read_excel(csv_path, skiprows=3, names=lst_cols)"
   ]
  },
  {
   "cell_type": "code",
   "execution_count": 10,
   "metadata": {},
   "outputs": [],
   "source": [
    "# df."
   ]
  },
  {
   "cell_type": "code",
   "execution_count": 11,
   "metadata": {},
   "outputs": [],
   "source": [
    "df.columns = cleancols(df)\n",
    "df.columns = lower_col(df)"
   ]
  },
  {
   "cell_type": "code",
   "execution_count": 12,
   "metadata": {},
   "outputs": [],
   "source": [
    "df['branchid'] = df.madh.str.strip().str[0:6]\n",
    "df['bbnh'] = df.madh.str.strip().str[6:21]\n",
    "df['kien'] = df.madh.str.strip().str[21:]"
   ]
  },
  {
   "cell_type": "code",
   "execution_count": 13,
   "metadata": {},
   "outputs": [],
   "source": [
    "# df['kien']"
   ]
  },
  {
   "cell_type": "code",
   "execution_count": 14,
   "metadata": {},
   "outputs": [],
   "source": [
    "# 'PBNH10202200401'"
   ]
  },
  {
   "cell_type": "code",
   "execution_count": 15,
   "metadata": {},
   "outputs": [],
   "source": [
    "# len('PBNH10202200388')"
   ]
  },
  {
   "cell_type": "code",
   "execution_count": 16,
   "metadata": {},
   "outputs": [],
   "source": [
    "df['chinhanh'] = 'HN'\n",
    "df['inserted_at'] = datetime.now()"
   ]
  },
  {
   "cell_type": "code",
   "execution_count": 17,
   "metadata": {},
   "outputs": [],
   "source": [
    "df.ngaytao = pd.to_datetime(df.ngaytao)\n",
    "df.ngaygiophat = pd.to_datetime(df.ngaygiophat)"
   ]
  },
  {
   "cell_type": "code",
   "execution_count": 18,
   "metadata": {},
   "outputs": [],
   "source": [
    "bq_values_insert(df, \"d_crawl_vnpost\", 3)"
   ]
  }
 ],
 "metadata": {
  "kernelspec": {
   "display_name": "Python 3.8.10 ('venv': venv)",
   "language": "python",
   "name": "python3"
  },
  "language_info": {
   "codemirror_mode": {
    "name": "ipython",
    "version": 3
   },
   "file_extension": ".py",
   "mimetype": "text/x-python",
   "name": "python",
   "nbconvert_exporter": "python",
   "pygments_lexer": "ipython3",
   "version": "3.8.10"
  },
  "orig_nbformat": 4,
  "vscode": {
   "interpreter": {
    "hash": "8fb55849e6741974ce442ee684e971e1b6b22c29ca2b25c3b9069bf531e0354a"
   }
  }
 },
 "nbformat": 4,
 "nbformat_minor": 2
}
