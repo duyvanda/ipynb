{
 "cells": [
  {
   "cell_type": "code",
   "execution_count": 1,
   "metadata": {},
   "outputs": [
    {
     "name": "stdout",
     "output_type": "stream",
     "text": [
      "Default bq project:  spatial-vision-343005.biteam\n"
     ]
    }
   ],
   "source": [
    "from utils.df_handle import *"
   ]
  },
  {
   "cell_type": "code",
   "execution_count": 4,
   "metadata": {},
   "outputs": [],
   "source": [
    "import requests"
   ]
  },
  {
   "cell_type": "code",
   "execution_count": 8,
   "metadata": {},
   "outputs": [],
   "source": [
    "res = requests.get(\"https://birest-6ey4kecoka-as.a.run.app/api/getallusers/\")"
   ]
  },
  {
   "cell_type": "code",
   "execution_count": 9,
   "metadata": {},
   "outputs": [
    {
     "data": {
      "text/plain": [
       "[{'key': 'bodmerap@89*', 'manv': 'MR0001', 'trangthaihoatdong': 1},\n",
       " {'key': 'bodmerap@89*', 'manv': 'MR0002', 'trangthaihoatdong': 1},\n",
       " {'manv': 'MR0003', 'key': 'bodmerap@89*', 'trangthaihoatdong': 1},\n",
       " {'manv': 'MR0004', 'key': 'bodmerap@89*', 'trangthaihoatdong': 1},\n",
       " {'trangthaihoatdong': 1, 'manv': 'MR0008', 'key': 'thanglt0906@gmail.com'},\n",
       " {'trangthaihoatdong': 1, 'manv': 'MR0023', 'key': 'bodmerap@89*'},\n",
       " {'trangthaihoatdong': 1, 'key': '203hangdtt@gmail.com', 'manv': 'MR0027'},\n",
       " {'trangthaihoatdong': 1, 'manv': 'MR0041', 'key': 'haquocvinh@gmail.com'},\n",
       " {'key': 'camtu.phanam@gmail.com', 'manv': 'MR0047', 'trangthaihoatdong': 1},\n",
       " {'trangthaihoatdong': 1, 'manv': 'MR0055', 'key': 'phanthibinhkhe@gmail.com'},\n",
       " {'manv': 'MR0081',\n",
       "  'trangthaihoatdong': 1,\n",
       "  'key': 'nguyenthochien2015@gmail.com'},\n",
       " {'key': 'ngovu0310@gmail.com', 'trangthaihoatdong': 1, 'manv': 'MR0123'},\n",
       " {'trangthaihoatdong': 1, 'key': 'thuynga2006@gmail.com', 'manv': 'MR0264'},\n",
       " {'key': 'hongthuymerap@gmail.com', 'trangthaihoatdong': 1, 'manv': 'MR0292'},\n",
       " {'manv': 'MR0338', 'key': 'lethuong342012@gmail.com', 'trangthaihoatdong': 1},\n",
       " {'trangthaihoatdong': 1,\n",
       "  'key': 'nguyenhoangvien11@gmail.com',\n",
       "  'manv': 'MR0485'},\n",
       " {'trangthaihoatdong': 1, 'manv': 'MR0512', 'key': 'daotanhieukt@gmail.com'},\n",
       " {'trangthaihoatdong': 1, 'key': 'canh.oseven@gmail.com', 'manv': 'MR0538'},\n",
       " {'manv': 'MR0539', 'trangthaihoatdong': 1, 'key': 'tamkt1984@gmail.com'},\n",
       " {'manv': 'MR0572', 'key': 'trantam0717@gmail.com', 'trangthaihoatdong': 1},\n",
       " {'key': 'mylinhng.mr@gmail.com', 'manv': 'MR0636', 'trangthaihoatdong': 1},\n",
       " {'trangthaihoatdong': 1, 'manv': 'MR0654', 'key': 'mynga0510@gmail.com'},\n",
       " {'manv': 'MR0771',\n",
       "  'trangthaihoatdong': 1,\n",
       "  'key': 'nguyenhoangnguyen1611@gmail.com'},\n",
       " {'trangthaihoatdong': 1,\n",
       "  'key': 'ctphanamkhanhhoa@gmail.com',\n",
       "  'manv': 'MR0781'},\n",
       " {'manv': 'MR0887', 'key': 'tnquang75@gmail.com', 'trangthaihoatdong': 1},\n",
       " {'trangthaihoatdong': 1, 'key': 'vantiendhho6@gmail.com', 'manv': 'MR0948'},\n",
       " {'key': 'thaibao050579@gmail.com', 'manv': 'MR0965', 'trangthaihoatdong': 1},\n",
       " {'trangthaihoatdong': 1,\n",
       "  'key': 'phuoc.tan.nguyen82@gmail.com',\n",
       "  'manv': 'MR0980'},\n",
       " {'manv': 'MR1119', 'trangthaihoatdong': 1, 'key': 'bt.hongphuc@gmail.com'},\n",
       " {'manv': 'MR1137', 'trangthaihoatdong': 1, 'key': 'happyvu76@gmail.com'},\n",
       " {'trangthaihoatdong': 1, 'key': 'dinhthicuc@gmail.com', 'manv': 'MR1178'},\n",
       " {'key': 'nguyenthingocdiep84@gmail.com',\n",
       "  'manv': 'MR1214',\n",
       "  'trangthaihoatdong': 1},\n",
       " {'manv': 'MR1320', 'key': 'anhchien@gmail.com', 'trangthaihoatdong': 1},\n",
       " {'manv': 'MR1340', 'trangthaihoatdong': 1, 'key': 'dannyitlk@gmail.com'},\n",
       " {'manv': 'MR1340_3PL', 'trangthaihoatdong': 1, 'key': 'dannyitlk@gmail.com'},\n",
       " {'manv': 'MR1388', 'trangthaihoatdong': 1, 'key': 'phankhai0105@gmail.com'},\n",
       " {'manv': 'MR1527', 'trangthaihoatdong': 1, 'key': 'hoangmanh3983@gmail.com'},\n",
       " {'key': 'thanhtri.bt94@gmail.com', 'trangthaihoatdong': 1, 'manv': 'MR1582'},\n",
       " {'manv': 'MR1609', 'trangthaihoatdong': 1, 'key': 'minhtd3@gmail.com'},\n",
       " {'manv': 'MR1610', 'key': 'hoaphanam2022@gmail.com', 'trangthaihoatdong': 1},\n",
       " {'manv': 'MR1616', 'key': 'tiennguyendba@gmail.com', 'trangthaihoatdong': 1},\n",
       " {'manv': 'MR1642', 'trangthaihoatdong': 1, 'key': 'dailammoc0888@gmail.com'},\n",
       " {'key': 'thanhhoang.pharma@gmail.com',\n",
       "  'manv': 'MR1650',\n",
       "  'trangthaihoatdong': 1},\n",
       " {'trangthaihoatdong': 0, 'key': 'thanhhpha@gmail.com', 'manv': 'MR1654'},\n",
       " {'trangthaihoatdong': 1, 'manv': 'MR1681', 'key': 'toanbs1972@gmail.com'},\n",
       " {'trangthaihoatdong': 1, 'key': 'ngocmankt@gmail.com', 'manv': 'MR1682'},\n",
       " {'manv': 'MR1925', 'trangthaihoatdong': 1, 'key': 'fullhouse.qnvh@gmail.com'},\n",
       " {'manv': 'MR1986', 'trangthaihoatdong': 1, 'key': 'lieumerap@gmail.com'},\n",
       " {'trangthaihoatdong': 1, 'key': 'thang111982@gmail.com', 'manv': 'MR2007'},\n",
       " {'key': 'datduong1979@gmail.com', 'trangthaihoatdong': 1, 'manv': 'MR2046'},\n",
       " {'trangthaihoatdong': 1, 'key': 'hathuong44@gmail.com', 'manv': 'MR2086'},\n",
       " {'manv': 'MR2311', 'trangthaihoatdong': 1, 'key': 'huyen07k3@gmail.com'},\n",
       " {'key': 'maiphuong.png@gmail.com', 'trangthaihoatdong': 1, 'manv': 'MR2313'},\n",
       " {'trangthaihoatdong': 1, 'manv': 'MR2319', 'key': 'nthhue1982@gmail.com'},\n",
       " {'manv': 'MR2417', 'key': 'lebaohuy@gmail.com', 'trangthaihoatdong': 1},\n",
       " {'key': 'phanam@it', 'manv': 'MR2433', 'trangthaihoatdong': 1},\n",
       " {'manv': 'MR2439',\n",
       "  'key': 'nguyenminhthao1606@gmail.com',\n",
       "  'trangthaihoatdong': 0},\n",
       " {'key': 'thanhpharm04@gmail.com', 'trangthaihoatdong': 1, 'manv': 'MR2458'},\n",
       " {'manv': 'MR2479', 'key': 'dangtuyethanh@gmail.com', 'trangthaihoatdong': 1},\n",
       " {'trangthaihoatdong': 1, 'key': 'tam.phanam@gmail.com', 'manv': 'MR2502'},\n",
       " {'trangthaihoatdong': 1, 'manv': 'MR2540', 'key': 'hanatran1982@gmail.com'},\n",
       " {'manv': 'MR2547', 'trangthaihoatdong': 1, 'key': 'anhtranit1994@gmail.com'},\n",
       " {'trangthaihoatdong': 1, 'manv': 'MR2551', 'key': 'tunglamanh6789@gmail.com'},\n",
       " {'manv': 'MR2566', 'trangthaihoatdong': 1, 'key': 'hobao.hoang@gmail.com'},\n",
       " {'manv': 'MR2568', 'key': 'bodmerap@89*', 'trangthaihoatdong': 1},\n",
       " {'trangthaihoatdong': 1,\n",
       "  'key': 'dieuthuy.sistar@gmail.com',\n",
       "  'manv': 'MR2587'},\n",
       " {'trangthaihoatdong': 1, 'key': 'thanh37np@gmail.com', 'manv': 'MR2613'},\n",
       " {'key': 'samhoang116@gmail.com', 'manv': 'MR2616', 'trangthaihoatdong': 1},\n",
       " {'key': 'tringuyen0089@gmail.com', 'trangthaihoatdong': 1, 'manv': 'MR2618'},\n",
       " {'key': 'acebis225@gmail.com', 'trangthaihoatdong': 1, 'manv': 'acebis225'},\n",
       " {'trangthaihoatdong': 1, 'key': 'anhthai@gmail.com', 'manv': 'anhthai'},\n",
       " {'key': 'thinhduoc@gmail.com', 'trangthaihoatdong': 1, 'manv': 'anhthinh'},\n",
       " {'trangthaihoatdong': 1, 'key': 'hungcv603@gmail.com', 'manv': 'hungcv603'},\n",
       " {'key': 'namnh608@gmail.com', 'trangthaihoatdong': 1, 'manv': 'nam608'},\n",
       " {'trangthaihoatdong': 1, 'manv': 'namnh608', 'key': 'namnh608@gmail.com'},\n",
       " {'key': 'phamminhthu294@gmail.com',\n",
       "  'trangthaihoatdong': 1,\n",
       "  'manv': 'phamminhthu294'},\n",
       " {'key': 'phungxuanle1987@gmail.com',\n",
       "  'trangthaihoatdong': 1,\n",
       "  'manv': 'phungxuanle1987'},\n",
       " {'manv': 'thinhduoc',\n",
       "  'trangthaihoatdong': 0,\n",
       "  'key': '1234567890a1ccccccccccc'}]"
      ]
     },
     "execution_count": 9,
     "metadata": {},
     "output_type": "execute_result"
    }
   ],
   "source": [
    "res.json()"
   ]
  },
  {
   "cell_type": "code",
   "execution_count": 6,
   "metadata": {},
   "outputs": [],
   "source": [
    "df = pd.read_json(\"https://storage.googleapis.com/django_media_biteam/public/user_reports.json\")"
   ]
  },
  {
   "cell_type": "code",
   "execution_count": 19,
   "metadata": {},
   "outputs": [],
   "source": [
    "df.to_clipboard()"
   ]
  },
  {
   "cell_type": "code",
   "execution_count": 11,
   "metadata": {},
   "outputs": [],
   "source": [
    "df1 = pd.DataFrame.from_dict(res.json())"
   ]
  },
  {
   "cell_type": "code",
   "execution_count": 18,
   "metadata": {},
   "outputs": [],
   "source": [
    "df1.to_clipboard()"
   ]
  },
  {
   "cell_type": "code",
   "execution_count": 16,
   "metadata": {},
   "outputs": [],
   "source": [
    "lst = \\\n",
    "[\n",
    "'MR0008',\n",
    "'MR0027',\n",
    "'MR0041',\n",
    "'MR0047',\n",
    "'MR0055',\n",
    "'MR0081',\n",
    "'MR0123',\n",
    "'MR0264',\n",
    "'MR0292',\n",
    "'MR0338',\n",
    "'MR0485',\n",
    "'MR0512',\n",
    "'MR0538',\n",
    "'MR0539',\n",
    "'MR0572',\n",
    "'MR0636',\n",
    "'MR0654',\n",
    "'MR0771',\n",
    "'MR0781',\n",
    "'MR0887',\n",
    "'MR0948',\n",
    "'MR0965',\n",
    "'MR0980',\n",
    "'MR1119',\n",
    "'MR1137',\n",
    "'MR1178',\n",
    "'MR1214',\n",
    "'MR1320',\n",
    "'MR1340',\n",
    "'MR1340_3PL',\n",
    "'MR1388',\n",
    "'MR1527',\n",
    "'MR1582',\n",
    "'MR1609',\n",
    "'MR1610',\n",
    "'MR1616',\n",
    "'MR1642',\n",
    "'MR1650',\n",
    "'MR1654',\n",
    "'MR1681',\n",
    "'MR1682',\n",
    "'MR1925',\n",
    "'MR1986',\n",
    "'MR2007',\n",
    "'MR2046',\n",
    "'MR2086',\n",
    "'MR2311',\n",
    "'MR2313',\n",
    "'MR2319',\n",
    "'MR2417',\n",
    "'MR2433',\n",
    "'MR2439',\n",
    "'MR2458',\n",
    "'MR2479',\n",
    "'MR2502',\n",
    "'MR2540',\n",
    "'MR2547',\n",
    "'MR2551',\n",
    "'MR2566',\n",
    "'MR2587',\n",
    "'MR2613',\n",
    "'MR2616',\n",
    "'MR2618',\n",
    "'acebis225',\n",
    "'anhthai',\n",
    "'anhthinh',\n",
    "'hungcv603',\n",
    "'nam608',\n",
    "'namnh608',\n",
    "'phamminhthu294',\n",
    "'phungxuanle1987',\n",
    "'thinhduoc',\n",
    "]"
   ]
  },
  {
   "cell_type": "code",
   "execution_count": 17,
   "metadata": {},
   "outputs": [],
   "source": [
    "for i in lst:\n",
    "    requests.post(f\"https://birest-6ey4kecoka-as.a.run.app/api/deleteoneuser/{i}\")"
   ]
  },
  {
   "cell_type": "code",
   "execution_count": null,
   "metadata": {},
   "outputs": [],
   "source": []
  }
 ],
 "metadata": {
  "kernelspec": {
   "display_name": "Python 3.8.10 ('env': venv)",
   "language": "python",
   "name": "python3"
  },
  "language_info": {
   "codemirror_mode": {
    "name": "ipython",
    "version": 3
   },
   "file_extension": ".py",
   "mimetype": "text/x-python",
   "name": "python",
   "nbconvert_exporter": "python",
   "pygments_lexer": "ipython3",
   "version": "3.8.10"
  },
  "orig_nbformat": 4,
  "vscode": {
   "interpreter": {
    "hash": "e3e62c236e1a80b91bd28884dfef8ca4e8a5f2f97e25c469797e512f6e958bfc"
   }
  }
 },
 "nbformat": 4,
 "nbformat_minor": 2
}
