{
 "cells": [
  {
   "cell_type": "code",
   "execution_count": 1,
   "metadata": {},
   "outputs": [],
   "source": [
    "from dateutil.relativedelta import relativedelta\n",
    "from utils.df_handle import *"
   ]
  },
  {
   "cell_type": "code",
   "execution_count": 12,
   "metadata": {},
   "outputs": [],
   "source": [
    "# now = datetime.now().replace(day=1)"
   ]
  },
  {
   "cell_type": "code",
   "execution_count": 13,
   "metadata": {},
   "outputs": [
    {
     "data": {
      "text/plain": [
       "datetime.datetime(2021, 10, 1, 15, 4, 57, 289721)"
      ]
     },
     "execution_count": 13,
     "metadata": {},
     "output_type": "execute_result"
    }
   ],
   "source": [
    "# now"
   ]
  },
  {
   "cell_type": "code",
   "execution_count": null,
   "metadata": {},
   "outputs": [],
   "source": [
    "# now+relativedelta(months=+6)"
   ]
  },
  {
   "cell_type": "code",
   "execution_count": 2,
   "metadata": {},
   "outputs": [],
   "source": [
    "name=''\n",
    "prefix=''\n",
    "csv_path='D:\\data_sale\\ipython_file\\debug_sales_pr'+name+prefix+'\\\\'"
   ]
  },
  {
   "cell_type": "code",
   "execution_count": 3,
   "metadata": {},
   "outputs": [
    {
     "data": {
      "text/plain": [
       "'D:\\\\data_sale\\\\ipython_file\\\\debug_sales_pr\\\\'"
      ]
     },
     "execution_count": 3,
     "metadata": {},
     "output_type": "execute_result"
    }
   ],
   "source": [
    "csv_path"
   ]
  },
  {
   "cell_type": "code",
   "execution_count": 4,
   "metadata": {},
   "outputs": [],
   "source": [
    "# start=time.perf_counter()\n",
    "# end=time.perf_counter()"
   ]
  },
  {
   "cell_type": "code",
   "execution_count": 5,
   "metadata": {},
   "outputs": [],
   "source": [
    "# query = f\"EXEC [pr_OM_RawdataSellOutPayroll_BI]  @Fromdate='20210701', @Todate='20210731'\"\n",
    "# start=time.perf_counter()\n",
    "# df1 = get_ms_df(sql=query)\n",
    "# # df1.to_csv('doanhthutienmat_data1.csv', index = False)\n",
    "# end=time.perf_counter()\n",
    "# duration=end-start\n",
    "# print(duration)"
   ]
  },
  {
   "cell_type": "code",
   "execution_count": 6,
   "metadata": {},
   "outputs": [],
   "source": [
    "# df1.shape"
   ]
  },
  {
   "cell_type": "code",
   "execution_count": 7,
   "metadata": {},
   "outputs": [],
   "source": [
    "# server = '115.165.164.234'\n",
    "# driver = 'SQL Server'\n",
    "# db1 = 'PhaNam_eSales_PRO'\n",
    "# tcon = 'no'\n",
    "# uname = 'duyvq'\n",
    "# pword = '123VanQuangDuy'\n",
    "# cnxn = pyodbc.connect(driver='{ODBC Driver 17 for SQL Server}', \n",
    "#                       host=server, database=db1, trusted_connection=tcon,\n",
    "#                       user=uname, password=pword)\n",
    "# cursor = cnxn.cursor()"
   ]
  },
  {
   "cell_type": "code",
   "execution_count": 9,
   "metadata": {},
   "outputs": [],
   "source": [
    "# day_ago = 2\n",
    "# datenow = datetime.now().strftime(\"%Y%m%d\")\n",
    "# datenow_day_ago = ( datetime.now()-timedelta(day_ago) ).strftime(\"%Y%m%d\")\n",
    "# param_1 = f\"'{datenow_day_ago}'\"\n",
    "datenow = datetime.now().strftime(\"%Y%m%d\")\n",
    "param_2 = f\"'{datenow}'\"\n",
    "param_3 = f\"'{datenow}'\"\n",
    "# param_2 = f\"'20210501'\"\n",
    "# param_3 = f\"'20210930'\"\n"
   ]
  },
  {
   "cell_type": "code",
   "execution_count": 356,
   "metadata": {},
   "outputs": [
    {
     "name": "stdout",
     "output_type": "stream",
     "text": [
      "'20210930'\n"
     ]
    }
   ],
   "source": [
    "print(param_3)"
   ]
  },
  {
   "cell_type": "code",
   "execution_count": 10,
   "metadata": {},
   "outputs": [],
   "source": [
    "ORD = \\\n",
    "f\"\"\"\n",
    "SELECT\n",
    "BranchID,\n",
    "OrderNbr,\n",
    "MaCT,\n",
    "SlsperID,\n",
    "OrderDate,\n",
    "ReturnOrder,\n",
    "ReturnOrderdate,\n",
    "InvtID,\n",
    "Lotsernbr,\n",
    "ExpDate,\n",
    "Status,\n",
    "CustID,\n",
    "VATAmount,\n",
    "BeforeVATAmount,\n",
    "AfterVATAmount,\n",
    "Crtd_User,\n",
    "Crtd_DateTime,\n",
    "ContractID,\n",
    "DeliveryID,\n",
    "ShipDate,\n",
    "OrdAmt,\n",
    "OrdQty,\n",
    "InvcNbr,\n",
    "InvcNote,\n",
    "ChietKhau,\n",
    "a.OrderType,\n",
    "ContractNbr,\n",
    "SlsPrice,\n",
    "BeforeVATPrice,\n",
    "FreeItem,\n",
    "LineRef,\n",
    "ReasonCode, \n",
    "a.SupID,\n",
    "a.ASM,\n",
    "a.RSM  \n",
    "FROM\n",
    "(\n",
    "SELECT so.BranchID,\n",
    "CASE\n",
    "    WHEN so.OrigOrderNbr <> '' THEN so.OrigOrderNbr\n",
    "    ELSE so.OrderNbr\n",
    "END AS OrderNbr,\n",
    "MaCT = so.OrderNbr,\n",
    "so.SlsperID,\n",
    "so.OrderDate,\n",
    "ReturnOrder = ISNULL(a1.OrigOrderNbr, ''),\n",
    "ReturnOrderdate = ISNULL(a1.OrderDate, '19000101'),\n",
    "CASE\n",
    "    WHEN ISNULL(so.status, '') = '' THEN\n",
    "        (\n",
    "        CASE\n",
    "            WHEN a.Status = 'C' THEN\n",
    "                N'Đã Duyệt Đơn Hàng'\n",
    "            WHEN a.Status = 'H' THEN\n",
    "                N'Chờ Xử Lý'\n",
    "            WHEN a.Status = 'E' THEN\n",
    "                N'Đóng Đơn Hàng'\n",
    "            WHEN a.Status = 'V' THEN\n",
    "                N'Hủy Đơn Hàng'\n",
    "        END\n",
    "        )\n",
    "    ELSE\n",
    "            (\n",
    "            CASE\n",
    "                WHEN so.status = 'C' THEN\n",
    "                    N'Đã Phát Hành'\n",
    "                WHEN so.status = 'I' THEN\n",
    "                    N'Tạo Hóa Đơn'\n",
    "                WHEN so.status = 'N' THEN\n",
    "                    N'Tạo Hóa Đơn'\n",
    "                WHEN so.status = 'H' THEN\n",
    "                    N'Chờ Xử Lý'\n",
    "                WHEN so.status = 'E' THEN\n",
    "                    N'Đóng Đơn Hàng'\n",
    "                WHEN so.status = 'V' THEN\n",
    "                    N'Hủy Hóa Đơn'\n",
    "            END\n",
    "            )\n",
    "    END AS status,\n",
    "so.CustID,\n",
    "so.InvtID,\n",
    "Lotsernbr = so.Lotsernbr,\n",
    "ExpDate = so.ExpDate,\n",
    "VATAmount = SUM(so.VATAmount),\n",
    "BeforeVATAmount = SUM(so.BeforeVATAmount),\n",
    "AfterVATAmount = SUM(so.AfterVATAmount),\n",
    "so.Crtd_User,\n",
    "so.Crtd_DateTime,\n",
    "so.ContractID,\n",
    "so.DeliveryID,\n",
    "so.ShipDate,\n",
    "OrdAmt = ISNULL(so.OrdAmt, 0),\n",
    "OrdQty = so.Qty,\n",
    "InvcNbr = ISNULL(so.InvcNbr, ''),\n",
    "InvcNote = ISNULL(so.InvcNote, ''),\n",
    "so.LineRef,\n",
    "ChietKhau = SUM(so.ChietKhau),\n",
    "so.OrderType,\n",
    "ContractNbr = ISNULL(ctr.ContractNbr, ''),\n",
    "so.SlsPrice,\n",
    "so.BeforeVATPrice,\n",
    "so.FreeItem,\n",
    "CASE\n",
    "    WHEN a.ReasonCode <> '' THEN a.ReasonCode\n",
    "    ELSE so.ReasonCode\n",
    "END AS ReasonCode,\n",
    "so.SupID,\n",
    "so.ASM,\n",
    "so.RSM\n",
    "FROM\n",
    "    (\n",
    "    SELECT DISTINCT\n",
    "    o.BranchID,\n",
    "    o.OrderDate,\n",
    "    o.CustID,\n",
    "    OrigOrderNbr = o.OrigOrderNbr,\n",
    "    o.OrderNbr,\n",
    "    o.Crtd_User,\n",
    "    o.Crtd_DateTime,\n",
    "    status = MIN(o.Status),\n",
    "    o.ContractID,\n",
    "    o.OrdAmt,\n",
    "    o.InvcNbr,\n",
    "    o.InvcNote,\n",
    "    b.SlsperID,\n",
    "    b.InvtID,\n",
    "    b.FreeItem,\n",
    "    Qty = SUM(ISNULL(l.Qty, b.LineQty)),\n",
    "    Lotsernbr = ISNULL(l.LotSerNbr, ''),\n",
    "    a.DeliveryID,\n",
    "    a.ShipDate,\n",
    "    ExpDate = CAST(ISNULL(l.ExpDate, '') AS VARCHAR(20)),\n",
    "    ChietKhau = (o.OrdDiscAmt + o.VolDiscAmt),\n",
    "    SUM(\n",
    "    CASE\n",
    "        WHEN b.FreeItem = 1 THEN 0\n",
    "        ELSE\n",
    "            (CASE\n",
    "                    WHEN oo.ARDocType IN ( 'IN', 'DM', 'CS' ) THEN 1\n",
    "                    WHEN oo.ARDocType IN ( 'NA' ) THEN 0\n",
    "                    ELSE -1\n",
    "            END) * b.BeforeVATAmount\n",
    "        END\n",
    "    ) AS BeforeVATAmount,\n",
    "\n",
    "    SUM(\n",
    "    CASE\n",
    "        WHEN b.FreeItem = 1 THEN 0\n",
    "        ELSE\n",
    "            (CASE\n",
    "                WHEN oo.ARDocType IN ( 'IN', 'DM', 'CS' ) THEN 1\n",
    "                WHEN oo.ARDocType IN ( 'NA' ) THEN 0\n",
    "                ELSE -1\n",
    "            END ) * b.AfterVATAmount\n",
    "    END\n",
    "    ) AS AfterVATAmount,\n",
    "\n",
    "    SUM(\n",
    "    CASE\n",
    "        WHEN b.FreeItem = 1 THEN 0\n",
    "        ELSE\n",
    "            (CASE\n",
    "                WHEN oo.ARDocType IN ( 'IN', 'DM', 'CS' ) THEN 1\n",
    "                WHEN oo.ARDocType IN ( 'NA' ) THEN 0\n",
    "                ELSE -1\n",
    "            END) * b.VATAmount\n",
    "    END\n",
    "    ) AS VATAmount,\n",
    "    b.SlsPrice,\n",
    "    BeforeVATPrice = ROUND(b.BeforeVATPrice, 0),\n",
    "    o.OrderType,\n",
    "    ReasonCode = o.ReasonCode,\n",
    "    b.LineRef,\n",
    "    b.SupID,\n",
    "    b.ASM,\n",
    "    b.RSM\n",
    "    FROM dbo.OM_SalesOrd o WITH (NOLOCK)\n",
    "    INNER JOIN OM_SalesOrdDet b WITH (NOLOCK) ON \n",
    "    o.BranchID = b.BranchID AND\n",
    "    o.OrderNbr = b.OrderNbr\n",
    "    LEFT JOIN OM_LotTrans l WITH (NOLOCK) ON\n",
    "    l.BranchID = b.BranchID AND\n",
    "    l.OrderNbr = b.OrderNbr AND\n",
    "    l.OMLineRef = b.LineRef\n",
    "    INNER JOIN dbo.OM_OrderType oo WITH (NOLOCK) ON\n",
    "    oo.OrderType = o.OrderType\n",
    "    AND ARDocType IN ( 'IN', 'DM', 'CS', 'CM' )\n",
    "    LEFT JOIN dbo.OM_PDASalesOrd a WITH (NOLOCK) ON\n",
    "    o.BranchID = a.BranchID AND\n",
    "    o.OrigOrderNbr = a.OrderNbr\n",
    "    WHERE (o.Status = 'C')\n",
    "    AND CAST(o.OrderDate AS DATE)\n",
    "    BETWEEN {param_2} AND {param_3}\n",
    "    AND o.SalesOrderType <> 'RP' --  and o.invcnbr='0086713'\n",
    "    -- AND oity.OrderNbr IS NULL\n",
    "    GROUP BY ISNULL(l.LotSerNbr, ''),\n",
    "    CAST(ISNULL(l.ExpDate, '') AS VARCHAR(20)),\n",
    "    (o.OrdDiscAmt + o.VolDiscAmt),\n",
    "    ROUND(b.BeforeVATPrice, 0),\n",
    "    o.BranchID,\n",
    "    o.OrderDate,\n",
    "    o.CustID,\n",
    "    o.OrigOrderNbr,\n",
    "    o.OrderNbr,\n",
    "    o.Crtd_User,\n",
    "    o.Crtd_DateTime,\n",
    "    o.ContractID,\n",
    "    o.OrdAmt,\n",
    "    o.InvcNbr,\n",
    "    o.InvcNote,\n",
    "    b.SlsperID,\n",
    "    b.InvtID,\n",
    "    b.FreeItem,\n",
    "    a.DeliveryID,\n",
    "    a.ShipDate,\n",
    "    b.SlsPrice,\n",
    "    o.OrderType,\n",
    "    o.ReasonCode,\n",
    "    b.LineRef,\n",
    "    b.SupID,\n",
    "    b.ASM,\n",
    "    b.RSM\n",
    "    UNION ALL\n",
    "    SELECT DISTINCT\n",
    "    o.BranchID,\n",
    "    a.OrderDate,\n",
    "    o.CustID,\n",
    "    OrigOrderNbr = a.OrigOrderNbr,\n",
    "    o.OrderNbr,\n",
    "    o.Crtd_User,\n",
    "    o.Crtd_DateTime,\n",
    "    status = MIN(o.Status),\n",
    "    o.ContractID,\n",
    "    o.OrdAmt,\n",
    "    o.InvcNbr,\n",
    "    o.InvcNote,\n",
    "    b.SlsperID,\n",
    "    b.InvtID,\n",
    "    b.FreeItem,\n",
    "    Qty = SUM(ISNULL(l.Qty, b.LineQty)),\n",
    "    Lotsernbr = ISNULL(l.LotSerNbr, ''),\n",
    "    a.DeliveryID,\n",
    "    a.ShipDate,\n",
    "    ExpDate = CAST(ISNULL(l.ExpDate, '') AS VARCHAR(20)),\n",
    "    ChietKhau = (o.OrdDiscAmt + o.VolDiscAmt),\n",
    "    SUM(\n",
    "    CASE\n",
    "        WHEN b.FreeItem = 1 THEN 0\n",
    "        ELSE\n",
    "            (CASE\n",
    "                    WHEN oo.ARDocType IN ( 'IN', 'DM', 'CS' ) THEN 1\n",
    "                    WHEN oo.ARDocType IN ( 'NA' ) THEN 0\n",
    "                    ELSE -1\n",
    "            END) * b.BeforeVATAmount\n",
    "        END\n",
    "    ) AS BeforeVATAmount,\n",
    "\n",
    "    SUM(\n",
    "    CASE\n",
    "        WHEN b.FreeItem = 1 THEN 0\n",
    "        ELSE\n",
    "            (CASE\n",
    "                WHEN oo.ARDocType IN ( 'IN', 'DM', 'CS' ) THEN 1\n",
    "                WHEN oo.ARDocType IN ( 'NA' ) THEN 0\n",
    "                ELSE -1\n",
    "            END ) * b.AfterVATAmount\n",
    "    END\n",
    "    ) AS AfterVATAmount,\n",
    "\n",
    "    SUM(\n",
    "    CASE\n",
    "        WHEN b.FreeItem = 1 THEN 0\n",
    "        ELSE\n",
    "            (CASE\n",
    "                WHEN oo.ARDocType IN ( 'IN', 'DM', 'CS' ) THEN 1\n",
    "                WHEN oo.ARDocType IN ( 'NA' ) THEN 0\n",
    "                ELSE -1\n",
    "            END) * b.VATAmount\n",
    "    END\n",
    "    ) AS VATAmount,\n",
    "    b.SlsPrice,\n",
    "    BeforeVATPrice = ROUND(b.BeforeVATPrice, 0),\n",
    "    o.OrderType,\n",
    "    ReasonCode = o.ReasonCode,\n",
    "    b.LineRef,\n",
    "    b.SupID,\n",
    "    b.ASM,\n",
    "    b.RSM\n",
    "    FROM dbo.OM_SalesOrd o WITH (NOLOCK)\n",
    "    INNER JOIN OM_SalesOrdDet b WITH (NOLOCK) ON\n",
    "    o.BranchID = b.BranchID AND\n",
    "    o.OrderNbr = b.OrderNbr\n",
    "    LEFT JOIN OM_LotTrans l WITH (NOLOCK) ON\n",
    "    l.BranchID = b.BranchID AND\n",
    "    l.OrderNbr = b.OrderNbr AND\n",
    "    l.OMLineRef = b.LineRef\n",
    "    INNER JOIN dbo.OM_OrderType oo WITH (NOLOCK) ON\n",
    "    oo.OrderType = o.OrderType AND\n",
    "    ARDocType IN ( 'IN', 'DM', 'CS', 'CM' )\n",
    "    INNER JOIN dbo.OM_SalesOrd a WITH (NOLOCK) ON\n",
    "    o.BranchID = a.BranchID AND\n",
    "    o.OrigOrderNbr = a.OrderNbr\n",
    "    WHERE (o.Status = 'C')\n",
    "    AND CAST(a.OrderDate AS DATE)\n",
    "    BETWEEN {param_2} AND {param_3}\n",
    "    AND o.SalesOrderType = 'RP' --  and o.invcnbr='0086713'\n",
    "    GROUP BY ISNULL(l.LotSerNbr, ''),\n",
    "    CAST(ISNULL(l.ExpDate, '') AS VARCHAR(20)),\n",
    "    (o.OrdDiscAmt + o.VolDiscAmt),\n",
    "    ROUND(b.BeforeVATPrice, 0),\n",
    "    o.BranchID,\n",
    "    a.OrderDate,\n",
    "    o.CustID,\n",
    "    a.OrigOrderNbr,\n",
    "    o.OrderNbr,\n",
    "    o.Crtd_User,\n",
    "    o.Crtd_DateTime,\n",
    "    o.ContractID,\n",
    "    o.OrdAmt,\n",
    "    o.InvcNbr,\n",
    "    o.InvcNote,\n",
    "    b.SlsperID,\n",
    "    b.InvtID,\n",
    "    b.FreeItem,\n",
    "    a.DeliveryID,\n",
    "    a.ShipDate,\n",
    "    b.SlsPrice,\n",
    "    o.OrderType,\n",
    "    o.ReasonCode,\n",
    "    b.LineRef,\n",
    "    b.SupID,\n",
    "    b.ASM,\n",
    "    b.RSM\n",
    "    ) so\n",
    "LEFT JOIN dbo.OM_PDASalesOrd a WITH (NOLOCK) ON\n",
    "so.BranchID = a.BranchID AND\n",
    "so.OrigOrderNbr = a.OrderNbr\n",
    "LEFT JOIN dbo.OM_SalesOrd a1 WITH (NOLOCK) ON\n",
    "a.BranchID = a1.BranchID AND\n",
    "a.OriOrderNbrUp = a1.OrderNbr\n",
    "LEFT JOIN OM_OriginalContract ctr WITH (NOLOCK) ON\n",
    "so.ContractID = ctr.ContractID\n",
    "GROUP BY\n",
    "CASE\n",
    "    WHEN so.OrigOrderNbr <> '' THEN so.OrigOrderNbr\n",
    "    ELSE so.OrderNbr\n",
    "END,\n",
    "ISNULL(a1.OrigOrderNbr, ''),\n",
    "ISNULL(a1.OrderDate, '19000101'),\n",
    "CASE\n",
    "    WHEN ISNULL(so.status, '') = '' THEN\n",
    "        (CASE\n",
    "            WHEN a.Status = 'C' THEN\n",
    "            N'Đã Duyệt Đơn Hàng'\n",
    "            WHEN a.Status = 'H' THEN\n",
    "            N'Chờ Xử Lý'\n",
    "            WHEN a.Status = 'E' THEN\n",
    "            N'Đóng Đơn Hàng'\n",
    "            WHEN a.Status = 'V' THEN\n",
    "            N'Hủy Đơn Hàng'\n",
    "        END)\n",
    "    ELSE\n",
    "        (CASE\n",
    "            WHEN so.status = 'C' THEN\n",
    "            N'Đã Phát Hành'\n",
    "            WHEN so.status = 'I' THEN\n",
    "            N'Tạo Hóa Đơn'\n",
    "            WHEN so.status = 'N' THEN\n",
    "            N'Tạo Hóa Đơn'\n",
    "            WHEN so.status = 'H' THEN\n",
    "            N'Chờ Xử Lý'\n",
    "            WHEN so.status = 'E' THEN\n",
    "            N'Đóng Đơn Hàng'\n",
    "            WHEN so.status = 'V' THEN\n",
    "            N'Hủy Hóa Đơn'\n",
    "        END\n",
    ")\n",
    "END,\n",
    "ISNULL(so.OrdAmt, 0),\n",
    "ISNULL(so.InvcNbr, ''),\n",
    "ISNULL(so.InvcNote, ''),\n",
    "ISNULL(ctr.ContractNbr, ''),\n",
    "CASE\n",
    "    WHEN a.ReasonCode <> '' THEN a.ReasonCode\n",
    "    ELSE so.ReasonCode\n",
    "END,\n",
    "so.BranchID,\n",
    "so.OrderNbr,\n",
    "so.SlsperID,\n",
    "so.OrderDate,\n",
    "so.CustID,\n",
    "so.InvtID,\n",
    "so.Lotsernbr,\n",
    "so.ExpDate,\n",
    "so.Crtd_User,\n",
    "so.Crtd_DateTime,\n",
    "so.ContractID,\n",
    "so.DeliveryID,\n",
    "so.ShipDate,\n",
    "so.Qty,\n",
    "so.LineRef,\n",
    "so.OrderType,\n",
    "so.SlsPrice,\n",
    "so.BeforeVATPrice,\n",
    "so.FreeItem,\n",
    "so.SupID,\n",
    "so.ASM,\n",
    "so.RSM\n",
    ") a\n",
    "\"\"\""
   ]
  },
  {
   "cell_type": "code",
   "execution_count": 11,
   "metadata": {},
   "outputs": [],
   "source": [
    "# ORD = pd.read_sql(ORD, cnxn)\n"
   ]
  },
  {
   "cell_type": "code",
   "execution_count": 12,
   "metadata": {},
   "outputs": [],
   "source": [
    "\n",
    "DATARETURNIO = f\"\"\"\n",
    "SELECT o.BranchID,\n",
    "o.OrigOrderNbr,\n",
    "o.OrderNbr\n",
    "FROM OM_SalesOrd o WITH (NOLOCK)\n",
    "INNER JOIN OM_SalesOrd o1 WITH (NOLOCK)\n",
    "ON o.BranchID = o1.BranchID\n",
    "AND o.InvcNbr = o1.InvcNbr\n",
    "AND o.InvcNote = o1.InvcNote\n",
    "AND o1.OrderType = 'IO'\n",
    "WHERE o.OrderDate\n",
    "BETWEEN {param_2} AND {param_3}\n",
    "AND o.OrderDate >= '20210501'\n",
    "AND o.OrderType IN ( 'CO', 'EP' )\n",
    "AND o.Status = 'C';\n",
    "\"\"\""
   ]
  },
  {
   "cell_type": "code",
   "execution_count": 13,
   "metadata": {},
   "outputs": [],
   "source": [
    "# DATARETURNIO = pd.read_sql(DATARETURNIO, cnxn)\n"
   ]
  },
  {
   "cell_type": "code",
   "execution_count": 14,
   "metadata": {},
   "outputs": [],
   "source": [
    "# DATARETURNIO.head()"
   ]
  },
  {
   "cell_type": "code",
   "execution_count": 15,
   "metadata": {},
   "outputs": [],
   "source": [
    "# ORD.head()"
   ]
  },
  {
   "cell_type": "code",
   "execution_count": 16,
   "metadata": {},
   "outputs": [],
   "source": [
    "# ORD.shape"
   ]
  },
  {
   "cell_type": "code",
   "execution_count": 17,
   "metadata": {},
   "outputs": [],
   "source": [
    "# vc(ORD,'OrderType')"
   ]
  },
  {
   "cell_type": "code",
   "execution_count": 18,
   "metadata": {},
   "outputs": [],
   "source": [
    "# ORD.shape"
   ]
  },
  {
   "cell_type": "code",
   "execution_count": 19,
   "metadata": {},
   "outputs": [],
   "source": [
    "# ORD = ORD.merge(DATARETURNIO, how = 'inner', left_on=['BranchID', 'OrderNbr'], right_on=['BranchID', 'OrderNbr'], suffixes=('_ORD', '_DATARETURNIO'))"
   ]
  },
  {
   "cell_type": "code",
   "execution_count": 20,
   "metadata": {},
   "outputs": [],
   "source": [
    "DELI = \"\"\"\n",
    "SELECT DISTINCT\n",
    "a.BranchID,\n",
    "a.BatNbr,\n",
    "a.SlsperID,\n",
    "a.Status,\n",
    "a.OrderNbr,\n",
    "ShipDate = ISNULL(c.ShipDate, a.Crtd_DateTime)\n",
    "-- INTO #Deli\n",
    "FROM OM_Delivery a WITH (NOLOCK)\n",
    "\n",
    "--INNER JOIN #Sales d ON \n",
    "--d.BranchID = a.BranchID AND\n",
    "--d.OrderNbr = a.OrderNbr\n",
    "INNER JOIN\n",
    "(\n",
    "SELECT\n",
    "de.BranchID,\n",
    "de.BatNbr,\n",
    "de.OrderNbr,\n",
    "Sequence = MAX(Sequence)\n",
    "FROM dbo.OM_Delivery de\n",
    "-- INNER JOIN #Sales d\n",
    "-- ON d.BranchID = de.BranchID\n",
    "-- AND d.OrderNbr = de.OrderNbr\n",
    "GROUP BY \n",
    "de.BranchID,\n",
    "de.BatNbr,\n",
    "de.OrderNbr\n",
    ") b ON\n",
    "b.BatNbr = a.BatNbr AND \n",
    "b.BranchID = a.BranchID AND \n",
    "b.Sequence = a.Sequence AND \n",
    "b.OrderNbr = a.OrderNbr\n",
    "LEFT JOIN\n",
    "(\n",
    "SELECT de.BranchID,\n",
    "de.BatNbr,\n",
    "de.OrderNbr,\n",
    "ShipDate = MAX(ShipDate)\n",
    "FROM dbo.OM_DeliHistory de\n",
    "-- INNER JOIN #Sales d ON\n",
    "-- d.BranchID = de.BranchID AND\n",
    "-- d.OrderNbr = de.OrderNbr\n",
    "GROUP BY\n",
    "de.BranchID,\n",
    "de.BatNbr,\n",
    "de.OrderNbr\n",
    ") c ON\n",
    "c.BatNbr = a.BatNbr AND\n",
    "c.BranchID = a.BranchID AND\n",
    "c.OrderNbr = a.OrderNbr;\n",
    "\"\"\""
   ]
  },
  {
   "cell_type": "code",
   "execution_count": 21,
   "metadata": {},
   "outputs": [],
   "source": [
    "# DELI = pd.read_sql(DELI, cnxn)\n"
   ]
  },
  {
   "cell_type": "code",
   "execution_count": 22,
   "metadata": {},
   "outputs": [],
   "source": [
    "# vc(DELI, ['ShipDate'])"
   ]
  },
  {
   "cell_type": "code",
   "execution_count": 23,
   "metadata": {},
   "outputs": [],
   "source": [
    "BOOK =\"\"\"\n",
    "SELECT DISTINCT\n",
    "ib.BranchID,\n",
    "ib.SlsperID,\n",
    "ib.BatNbr,\n",
    "ibe.OrderNbr,\n",
    "Name = FirstName,\n",
    "trs.Descr,\n",
    "DeliveryUnitName = ISNULL(d.DeliveryUnitName, ''),\n",
    "TruckDescr = ISNULL(tr.Descr, '')\n",
    "FROM OM_IssueBook ib WITH (NOLOCK)\n",
    "LEFT JOIN OM_IssueBookDet ibe WITH (NOLOCK) ON\n",
    "ibe.BranchID = ib.BranchID AND\n",
    "ibe.BatNbr = ib.BatNbr\n",
    "--INNER JOIN  OM_SalesOrd s  WITH(NOLOCK)  on s.BranchID = ibe.BranchID AND s.OrigOrderNbr = ibe.OrderNbr\n",
    "INNER JOIN Users u WITH (NOLOCK) ON\n",
    "u.UserName = ib.SlsperID\n",
    "INNER JOIN AR_Transporter trs WITH (NOLOCK) ON\n",
    "trs.Code = ib.DeliveryUnit\n",
    "LEFT JOIN dbo.OM_ReceiptDet b WITH (NOLOCK) ON\n",
    "b.BranchID = ibe.BranchID AND\n",
    "b.OrderNbr = ibe.OrderNbr\n",
    "LEFT JOIN dbo.OM_Receipt a WITH (NOLOCK) ON\n",
    "b.ReportID = a.ReportID\n",
    "LEFT JOIN OM_Truck tr WITH (NOLOCK) ON\n",
    "a.TruckID = tr.Code AND\n",
    "tr.BranchID = a.BranchID\n",
    "LEFT JOIN dbo.OM_DeliReportDet de WITH (NOLOCK) ON\n",
    "de.BranchID = ibe.BranchID AND\n",
    "de.OrderNbr = ibe.OrderNbr\n",
    "LEFT JOIN dbo.OM_DeliReport da WITH (NOLOCK) ON\n",
    "da.ReportID = de.ReportID AND\n",
    "de.BranchID = da.BranchID\n",
    "LEFT JOIN dbo.AR_DeliveryUnit d WITH (NOLOCK) ON\n",
    "da.DeliveryUnit = d.DeliveryUnitID AND\n",
    "d.BranchID = da.BranchID;\n",
    "\"\"\""
   ]
  },
  {
   "cell_type": "code",
   "execution_count": 24,
   "metadata": {},
   "outputs": [],
   "source": [
    "# BOOK = pd.read_sql(BOOK, cnxn)\n"
   ]
  },
  {
   "cell_type": "code",
   "execution_count": 25,
   "metadata": {},
   "outputs": [],
   "source": [
    "CUSTOMER = \\\n",
    "\"\"\"\n",
    "SELECT DISTINCT\n",
    "       c.CustId,\n",
    "       c.CustName,\n",
    "       c.BranchID,\n",
    "       c.RefCustID,\n",
    "       PubCustID = pc.PubCust,\n",
    "       PubCustName = pc.CustName,\n",
    "       c.TaxRegNbr,\n",
    "       c.Attn,\n",
    "       te.Zone,\n",
    "       ZoneDescr = z.Descr,\n",
    "       c.Territory,\n",
    "       TerritoryDescr = te.Descr,\n",
    "       c.State,\n",
    "       StateDescr = st.Descr,\n",
    "       c.SalesSystem,\n",
    "       SalesSystemDescr = st.Descr,\n",
    "       c.Channel,\n",
    "       ChannelDescr = ch.Descr,\n",
    "       c.ShopType,\n",
    "       ShopTypeDescr = sh.Descr,\n",
    "       c.HCOID,\n",
    "       hc.HCOName,\n",
    "       c.HCOTypeID,\n",
    "       ht.HCOTypeName,\n",
    "       c.ClassId,\n",
    "       ClassDescr = cu.Descr,\n",
    "       c.Terms,\n",
    "       TermDescr = tm.Descr,\n",
    "       c.ShoperID,\n",
    "       c.GenOrders,\n",
    "       GenOrdersDescr = g.Descr,\n",
    "       c.BatchExpForm,\n",
    "       BatchExpFormDescr = f.Descr,\n",
    "       c.CheckTerm,\n",
    "       CheckTermDescr = ct.Descr,\n",
    "       c.PaymentsForm,\n",
    "       PaymentsFormDescr = mp.Descr,\n",
    "       c.Account,\n",
    "       a.AcctName,                                                                 --CustAddress = c.Addr1 ,\n",
    "       c.District,\n",
    "       DistrictDescr = di.Name,\n",
    "       c.Ward,\n",
    "       WardDescr = w.Name,\n",
    "       c.Phone,\n",
    "       c.Limit,\n",
    "       inv.CustIDInvoice,\n",
    "       ci.CustNameInvoice,\n",
    "       ci.TaxID,                                                                   --- Ngochb them\n",
    "       CustInvoiceAddr = ci.ApartNumber + CASE WHEN ISNULL(ci.StreetName,'') ='' THEN '' ELSE ISNULL(' ' + ci.StreetName, '') end --- + Tên Đường\n",
    "                         + ISNULL(', ' + NULLIF(wa.Name, ''), '') --- + phường Xã\n",
    "                         + ISNULL(', ' + NULLIF(ISNULL(Dis.[Name], ''), ''), '') ---- + Quận Huyện\n",
    "                         + ISNULL(', ' + NULLIF(ISNULL(   CASE\n",
    "                                                              WHEN Sta.Code = '1' THEN\n",
    "                                                                  Sta.[Descr]\n",
    "                                                              ELSE\n",
    "                                                                  CASE\n",
    "                                                                      WHEN Sta.State = '28' THEN\n",
    "                                                                          N'Thành phố '\n",
    "                                                                      ELSE\n",
    "                                                                          N'Tỉnh '\n",
    "                                                                  END + Sta.[Descr]\n",
    "                                                          END,\n",
    "                                                          ''\n",
    "                                                      ), ''),\n",
    "                                  ''\n",
    "                                 ) ---- + Tỉnh/Thành Phố\n",
    "                         + ISNULL(', ' + NULLIF(ISNULL(stc.[Descr], ''), ''), ''), ---- + Đất Nước\n",
    "       CustAddress = ISNULL(c.Addr1 + ', ', '') --+ ISNULL(c.Addr2 + ', ', '')\n",
    "                     + ISNULL(w.Name + ', ', '') + ISNULL(di.Name + ', ', '') + CASE c.State\n",
    "                                                                                    WHEN '13' THEN\n",
    "                                                                                        ''\n",
    "                                                                                    WHEN '15' THEN\n",
    "                                                                                        ''\n",
    "                                                                                    WHEN '24' THEN\n",
    "                                                                                        ''\n",
    "                                                                                    WHEN '30' THEN\n",
    "                                                                                        ''\n",
    "                                                                                    WHEN '28' THEN\n",
    "                                                                                        N'Thành Phố' + ' '\n",
    "                                                                                    ELSE\n",
    "                                                                                        N'Tỉnh' + ' '\n",
    "                                                                                END + ISNULL(st.Descr, '')\n",
    "--c.Addr1\t-- + ISNULL(' ' + ci.StreetName, '') --- + Tên Đường\n",
    "--\t\t\t\t\t\t\t+ ISNULL(', ' + NULLIF(w.Name,''), '') --- + phường Xã\n",
    "--\t\t\t\t\t\t\t+ ISNULL(', ' + NULLIF(ISNULL(Di.[Name], ''),''), '') ---- + Quận Huyện\n",
    "--\t\t\t\t\t\t\t+ ISNULL(', ' + NULLIF(ISNULL(St.[Descr], ''),''), '') ---- + Tỉnh/Thành Phố\n",
    "FROM dbo.AR_Customer c WITH (NOLOCK)\n",
    "    LEFT JOIN dbo.SI_Territory te WITH (NOLOCK)\n",
    "        ON te.Territory = c.Territory\n",
    "    LEFT JOIN dbo.AR_HCO hc WITH (NOLOCK)\n",
    "        ON hc.HCOID = c.HCOID\n",
    "    LEFT JOIN dbo.AR_HCOType ht WITH (NOLOCK)\n",
    "        ON ht.HCOTypeID = c.HCOTypeID\n",
    "    LEFT JOIN dbo.AR_PublicCust pc WITH (NOLOCK)\n",
    "        ON pc.PubCust = c.CustIdPublic\n",
    "    LEFT JOIN dbo.AR_Channel ch WITH (NOLOCK)\n",
    "        ON c.Channel = ch.Code\n",
    "    LEFT JOIN dbo.AR_ShopType sh WITH (NOLOCK)\n",
    "        ON sh.Code = c.ShopType\n",
    "    LEFT JOIN dbo.SI_Terms tm WITH (NOLOCK)\n",
    "        ON tm.TermsID = c.Terms\n",
    "    LEFT JOIN dbo.AR_MasterAutoGenOrder g WITH (NOLOCK)\n",
    "        ON g.Code = c.GenOrders\n",
    "    LEFT JOIN dbo.AR_MasterBatchExpForm f WITH (NOLOCK)\n",
    "        ON f.Code = c.BatchExpForm\n",
    "    LEFT JOIN dbo.AR_MasterCheckTerm ct WITH (NOLOCK)\n",
    "        ON ct.Code = c.CheckTerm\n",
    "    LEFT JOIN dbo.AR_MasterPayments mp WITH (NOLOCK)\n",
    "        ON mp.Code = c.PaymentsForm\n",
    "    LEFT JOIN dbo.CA_Account a WITH (NOLOCK)\n",
    "        ON a.AcctNbr = c.Account\n",
    "           AND a.BranchID = c.BranchID\n",
    "    LEFT JOIN dbo.AR_CustClass cu WITH (NOLOCK)\n",
    "        ON cu.ClassId = c.ClassId\n",
    "    LEFT JOIN dbo.SYS_SalesSystem sy WITH (NOLOCK)\n",
    "        ON c.SalesSystem = sy.Code\n",
    "    LEFT JOIN dbo.SI_Zone z WITH (NOLOCK)\n",
    "        ON z.Code = te.Zone\n",
    "    LEFT JOIN dbo.SI_State st WITH (NOLOCK)\n",
    "        ON st.State = c.State\n",
    "    LEFT JOIN dbo.SI_District di WITH (NOLOCK)\n",
    "        ON c.District = di.District\n",
    "           AND di.State = st.State\n",
    "    LEFT JOIN dbo.SI_Ward w WITH (NOLOCK)\n",
    "        ON w.Ward = c.Ward\n",
    "           AND w.District = di.District\n",
    "           AND di.State = st.State\n",
    "    LEFT JOIN dbo.AR_Customer_InvoiceCustomer inv WITH (NOLOCK)\n",
    "        ON inv.CustID = c.CustId\n",
    "           AND inv.Active = 1 --PhucPM thêm KH XHĐ \n",
    "    LEFT JOIN dbo.AR_CustomerInvoice ci WITH (NOLOCK)\n",
    "        ON ci.CustIDInvoice = inv.CustIDInvoice --PhucPM thêm KH XHĐ \n",
    "    LEFT JOIN SI_Ward wa WITH (NOLOCK)\n",
    "        ON ci.Ward = wa.Ward\n",
    "           AND ci.DistrictID = wa.District\n",
    "           AND ci.[State] = wa.[State]\n",
    "    LEFT JOIN SI_District Dis WITH (NOLOCK)\n",
    "        ON ci.DistrictID = Dis.District\n",
    "           AND ci.[State] = Dis.[State]\n",
    "    LEFT JOIN SI_State Sta WITH (NOLOCK)\n",
    "        ON ci.[State] = Sta.[State]\n",
    "    LEFT JOIN SI_Country stc WITH (NOLOCK)\n",
    "        ON stc.CountryID = Sta.Country;\n",
    "\"\"\""
   ]
  },
  {
   "cell_type": "code",
   "execution_count": 26,
   "metadata": {},
   "outputs": [],
   "source": [
    "# CUSTOMER = pd.read_sql(CUSTOMER, cnxn)"
   ]
  },
  {
   "cell_type": "code",
   "execution_count": 27,
   "metadata": {},
   "outputs": [],
   "source": [
    "IN_INVENTORY = \"\"\"\n",
    "SELECT\n",
    "InvtID,\n",
    "Descr,\n",
    "Descr1\n",
    "FROM dbo.IN_Inventory;\n",
    "\"\"\""
   ]
  },
  {
   "cell_type": "code",
   "execution_count": 28,
   "metadata": {},
   "outputs": [],
   "source": [
    "# IN_INVENTORY = pd.read_sql(IN_INVENTORY, cnxn)"
   ]
  },
  {
   "cell_type": "code",
   "execution_count": 29,
   "metadata": {},
   "outputs": [],
   "source": [
    "USERS = \"\"\"\n",
    "SELECT *\n",
    "FROM dbo.Users;\n",
    "\"\"\""
   ]
  },
  {
   "cell_type": "code",
   "execution_count": 30,
   "metadata": {},
   "outputs": [],
   "source": [
    "# USERS = pd.read_sql(USERS, cnxn)"
   ]
  },
  {
   "cell_type": "code",
   "execution_count": 31,
   "metadata": {},
   "outputs": [],
   "source": [
    "COMPANY = \"\"\"\n",
    "SELECT\n",
    "CpnyID,\n",
    "CpnyName\n",
    "FROM dbo.SYS_Company;\n",
    "\"\"\""
   ]
  },
  {
   "cell_type": "code",
   "execution_count": 32,
   "metadata": {},
   "outputs": [],
   "source": [
    "# COMPANY = pd.read_sql(COMPANY, cnxn)"
   ]
  },
  {
   "cell_type": "code",
   "execution_count": 33,
   "metadata": {},
   "outputs": [],
   "source": [
    "ORDERTYPE = \"\"\"\n",
    "select\n",
    "OrderType,\n",
    "ARDocType\n",
    "FROM OM_OrderType\n",
    "\"\"\"\n",
    "# ORDERTYPE = pd.read_sql(ORDERTYPE, cnxn)"
   ]
  },
  {
   "cell_type": "code",
   "execution_count": 34,
   "metadata": {},
   "outputs": [],
   "source": [
    "get_ms_csv(ORDERTYPE, csv_path+'ORDERTYPE.csv')\n",
    "get_ms_csv(COMPANY, csv_path+'COMPANY.csv')\n",
    "get_ms_csv(USERS, csv_path+'USERS.csv')\n",
    "get_ms_csv(IN_INVENTORY, csv_path+'IN_INVENTORY.csv')\n",
    "get_ms_csv(CUSTOMER, csv_path+'CUSTOMER.csv')\n",
    "get_ms_csv(BOOK, csv_path+'BOOK.csv')\n",
    "get_ms_csv(DELI, csv_path+'DELI.csv')\n",
    "get_ms_csv(DATARETURNIO, csv_path+'DATARETURNIO.csv')\n",
    "get_ms_csv(ORD, csv_path+'ORD.csv')"
   ]
  },
  {
   "cell_type": "code",
   "execution_count": 35,
   "metadata": {},
   "outputs": [],
   "source": [
    "# DELI.columns"
   ]
  },
  {
   "cell_type": "code",
   "execution_count": 36,
   "metadata": {},
   "outputs": [],
   "source": [
    "# DELI['ShipDate']"
   ]
  },
  {
   "cell_type": "code",
   "execution_count": 37,
   "metadata": {},
   "outputs": [],
   "source": [
    "ORD=pd.read_csv(csv_path+'ORD.csv', )\n",
    "DATARETURNIO=pd.read_csv(csv_path+'DATARETURNIO.csv')\n",
    "DELI=pd.read_csv(csv_path+'DELI.csv')\n",
    "BOOK=pd.read_csv(csv_path+'BOOK.csv')\n",
    "CUSTOMER=pd.read_csv(csv_path+'CUSTOMER.csv')\n",
    "IN_INVENTORY=pd.read_csv(csv_path+'IN_INVENTORY.csv')\n",
    "USERS=pd.read_csv(csv_path+'USERS.csv')\n",
    "COMPANY=pd.read_csv(csv_path+'COMPANY.csv')\n",
    "ORDERTYPE=pd.read_csv(csv_path+'ORDERTYPE.csv')"
   ]
  },
  {
   "cell_type": "code",
   "execution_count": 76,
   "metadata": {},
   "outputs": [],
   "source": [
    "ORD['ReturnOrder'] = ORD['ReturnOrder'].astype('str')"
   ]
  },
  {
   "cell_type": "code",
   "execution_count": 39,
   "metadata": {},
   "outputs": [],
   "source": [
    "# ORD.shape"
   ]
  },
  {
   "cell_type": "code",
   "execution_count": 40,
   "metadata": {},
   "outputs": [],
   "source": [
    "ORD = ORD[ORD['OrderType'] != 'IO']"
   ]
  },
  {
   "cell_type": "code",
   "execution_count": 41,
   "metadata": {},
   "outputs": [],
   "source": [
    "# ORD.OrderDate"
   ]
  },
  {
   "cell_type": "code",
   "execution_count": 42,
   "metadata": {},
   "outputs": [],
   "source": [
    "FINAL = ORD.merge(DELI.add_prefix('DELI_'), how = 'left', left_on=['BranchID', 'OrderNbr'], right_on=['DELI_BranchID', 'DELI_OrderNbr'])"
   ]
  },
  {
   "cell_type": "code",
   "execution_count": 43,
   "metadata": {},
   "outputs": [],
   "source": [
    "# ORD.shape"
   ]
  },
  {
   "cell_type": "code",
   "execution_count": 44,
   "metadata": {},
   "outputs": [],
   "source": [
    "# FINAL.shape"
   ]
  },
  {
   "cell_type": "code",
   "execution_count": 45,
   "metadata": {},
   "outputs": [],
   "source": [
    "# FINAL.columns"
   ]
  },
  {
   "cell_type": "code",
   "execution_count": 46,
   "metadata": {},
   "outputs": [],
   "source": [
    "FINAL = FINAL.merge(USERS[['UserName','FirstName']].add_prefix('SUP_'), how='left', left_on='SupID', right_on=['SUP_UserName'])"
   ]
  },
  {
   "cell_type": "code",
   "execution_count": 47,
   "metadata": {},
   "outputs": [],
   "source": [
    "# FINAL.columns"
   ]
  },
  {
   "cell_type": "code",
   "execution_count": 48,
   "metadata": {},
   "outputs": [],
   "source": [
    "FINAL = FINAL.merge(USERS[['UserName','FirstName']].add_prefix('ASM_'), how='left', left_on='ASM', right_on=['ASM_UserName'])"
   ]
  },
  {
   "cell_type": "code",
   "execution_count": 49,
   "metadata": {},
   "outputs": [],
   "source": [
    "FINAL = FINAL.merge(USERS[['UserName','FirstName']].add_prefix('RSM_'), how='left', left_on='RSM', right_on=['RSM_UserName'])"
   ]
  },
  {
   "cell_type": "code",
   "execution_count": 50,
   "metadata": {},
   "outputs": [],
   "source": [
    "# FINAL.columns"
   ]
  },
  {
   "cell_type": "code",
   "execution_count": 51,
   "metadata": {},
   "outputs": [],
   "source": [
    "FINAL = FINAL.merge(USERS[['UserName','FirstName']].add_prefix('SA_'), how='left', left_on='SlsperID', right_on=['SA_UserName'])"
   ]
  },
  {
   "cell_type": "code",
   "execution_count": 52,
   "metadata": {},
   "outputs": [],
   "source": [
    "# FINAL.columns"
   ]
  },
  {
   "cell_type": "code",
   "execution_count": 53,
   "metadata": {},
   "outputs": [],
   "source": [
    "# BOOK.columns"
   ]
  },
  {
   "cell_type": "code",
   "execution_count": 54,
   "metadata": {},
   "outputs": [],
   "source": [
    "BOOK=BOOK[['BranchID', 'OrderNbr', 'SlsperID','Name','Descr','DeliveryUnitName']]"
   ]
  },
  {
   "cell_type": "code",
   "execution_count": 55,
   "metadata": {},
   "outputs": [],
   "source": [
    "FINAL = FINAL.merge(BOOK.add_prefix('BOOK_'), how='left', left_on=['BranchID','OrderNbr'], right_on=['BOOK_BranchID','BOOK_OrderNbr'])"
   ]
  },
  {
   "cell_type": "code",
   "execution_count": 56,
   "metadata": {},
   "outputs": [],
   "source": [
    "# FINAL.columns"
   ]
  },
  {
   "cell_type": "code",
   "execution_count": 57,
   "metadata": {},
   "outputs": [],
   "source": [
    "# FINAL_3 = FINAL[['BranchID','OrderNbr']]"
   ]
  },
  {
   "cell_type": "code",
   "execution_count": 58,
   "metadata": {},
   "outputs": [],
   "source": [
    "# FINAL_3.to_clipboard()"
   ]
  },
  {
   "cell_type": "code",
   "execution_count": 59,
   "metadata": {},
   "outputs": [],
   "source": [
    "# FINAL_2 = FINAL[['BranchID','ReturnOrder']]"
   ]
  },
  {
   "cell_type": "code",
   "execution_count": 60,
   "metadata": {},
   "outputs": [],
   "source": [
    "# FINAL_2.to_clipboard()"
   ]
  },
  {
   "cell_type": "code",
   "execution_count": 61,
   "metadata": {},
   "outputs": [],
   "source": [
    "# BOOK_2 = FINAL[['BranchID','OrderNbr']]"
   ]
  },
  {
   "cell_type": "code",
   "execution_count": 62,
   "metadata": {},
   "outputs": [],
   "source": [
    "BOOK = df_notna(BOOK, 'OrderNbr')"
   ]
  },
  {
   "cell_type": "code",
   "execution_count": 63,
   "metadata": {},
   "outputs": [],
   "source": [
    "# FINAL_3 = FINAL_2.merge(BOOK.add_prefix('BOOK_RT_'), how='left', left_on=['BranchID','ReturnOrder'], right_on=['BOOK_RT_BranchID','BOOK_RT_OrderNbr'])"
   ]
  },
  {
   "cell_type": "code",
   "execution_count": 64,
   "metadata": {},
   "outputs": [],
   "source": [
    "# FAIL"
   ]
  },
  {
   "cell_type": "code",
   "execution_count": 72,
   "metadata": {},
   "outputs": [
    {
     "data": {
      "text/plain": [
       "Index(['BranchID', 'OrderNbr', 'MaCT', 'SlsperID', 'OrderDate', 'ReturnOrder',\n",
       "       'ReturnOrderdate', 'InvtID', 'Lotsernbr', 'ExpDate', 'Status', 'CustID',\n",
       "       'VATAmount', 'BeforeVATAmount', 'AfterVATAmount', 'Crtd_User',\n",
       "       'Crtd_DateTime', 'ContractID', 'DeliveryID', 'ShipDate', 'OrdAmt',\n",
       "       'OrdQty', 'InvcNbr', 'InvcNote', 'ChietKhau', 'OrderType',\n",
       "       'ContractNbr', 'SlsPrice', 'BeforeVATPrice', 'FreeItem', 'LineRef',\n",
       "       'ReasonCode', 'SupID', 'ASM', 'RSM', 'DELI_BranchID', 'DELI_BatNbr',\n",
       "       'DELI_SlsperID', 'DELI_Status', 'DELI_OrderNbr', 'DELI_ShipDate',\n",
       "       'SUP_UserName', 'SUP_FirstName', 'ASM_UserName', 'ASM_FirstName',\n",
       "       'RSM_UserName', 'RSM_FirstName', 'SA_UserName', 'SA_FirstName',\n",
       "       'BOOK_BranchID', 'BOOK_OrderNbr', 'BOOK_SlsperID', 'BOOK_Name',\n",
       "       'BOOK_Descr', 'BOOK_DeliveryUnitName'],\n",
       "      dtype='object')"
      ]
     },
     "execution_count": 72,
     "metadata": {},
     "output_type": "execute_result"
    }
   ],
   "source": [
    "FINAL.columns"
   ]
  },
  {
   "cell_type": "code",
   "execution_count": null,
   "metadata": {},
   "outputs": [],
   "source": []
  },
  {
   "cell_type": "code",
   "execution_count": 73,
   "metadata": {},
   "outputs": [
    {
     "data": {
      "text/html": [
       "<div>\n",
       "<style scoped>\n",
       "    .dataframe tbody tr th:only-of-type {\n",
       "        vertical-align: middle;\n",
       "    }\n",
       "\n",
       "    .dataframe tbody tr th {\n",
       "        vertical-align: top;\n",
       "    }\n",
       "\n",
       "    .dataframe thead th {\n",
       "        text-align: right;\n",
       "    }\n",
       "</style>\n",
       "<table border=\"1\" class=\"dataframe\">\n",
       "  <thead>\n",
       "    <tr style=\"text-align: right;\">\n",
       "      <th></th>\n",
       "      <th>ReturnOrder</th>\n",
       "      <th>counts</th>\n",
       "    </tr>\n",
       "  </thead>\n",
       "  <tbody>\n",
       "    <tr>\n",
       "      <th>0</th>\n",
       "      <td>NaN</td>\n",
       "      <td>714</td>\n",
       "    </tr>\n",
       "  </tbody>\n",
       "</table>\n",
       "</div>"
      ],
      "text/plain": [
       "   ReturnOrder  counts\n",
       "0          NaN     714"
      ]
     },
     "execution_count": 73,
     "metadata": {},
     "output_type": "execute_result"
    }
   ],
   "source": [
    "vc(FINAL, 'ReturnOrder')"
   ]
  },
  {
   "cell_type": "code",
   "execution_count": 75,
   "metadata": {},
   "outputs": [],
   "source": [
    "FINAL = FINAL.merge(BOOK.add_prefix('BOOK_RT_'), how='left', left_on=['BranchID','ReturnOrder'], right_on=['BOOK_RT_BranchID','BOOK_RT_OrderNbr'])"
   ]
  },
  {
   "cell_type": "code",
   "execution_count": 31,
   "metadata": {},
   "outputs": [
    {
     "data": {
      "text/plain": [
       "Index(['BranchID', 'OrderNbr', 'MaCT', 'SlsperID', 'OrderDate', 'ReturnOrder',\n",
       "       'ReturnOrderdate', 'InvtID', 'Lotsernbr', 'ExpDate', 'Status', 'CustID',\n",
       "       'VATAmount', 'BeforeVATAmount', 'AfterVATAmount', 'Crtd_User',\n",
       "       'Crtd_DateTime', 'ContractID', 'DeliveryID', 'ShipDate', 'OrdAmt',\n",
       "       'OrdQty', 'InvcNbr', 'InvcNote', 'ChietKhau', 'OrderType',\n",
       "       'ContractNbr', 'SlsPrice', 'BeforeVATPrice', 'FreeItem', 'LineRef',\n",
       "       'ReasonCode', 'SupID', 'ASM', 'RSM', 'DELI_BranchID', 'DELI_BatNbr',\n",
       "       'DELI_SlsperID', 'DELI_Status', 'DELI_OrderNbr', 'DELI_ShipDate',\n",
       "       'SUP_UserName', 'SUP_FirstName', 'ASM_UserName', 'ASM_FirstName',\n",
       "       'RSM_UserName', 'RSM_FirstName', 'SA_UserName', 'SA_FirstName',\n",
       "       'BOOK_BranchID', 'BOOK_OrderNbr', 'BOOK_SlsperID', 'BOOK_Name',\n",
       "       'BOOK_Descr', 'BOOK_DeliveryUnitName', 'BOOK_RT_BranchID',\n",
       "       'BOOK_RT_OrderNbr', 'BOOK_RT_SlsperID', 'BOOK_RT_Name', 'BOOK_RT_Descr',\n",
       "       'BOOK_RT_DeliveryUnitName'],\n",
       "      dtype='object')"
      ]
     },
     "execution_count": 31,
     "metadata": {},
     "output_type": "execute_result"
    }
   ],
   "source": [
    "# FINAL.columns"
   ]
  },
  {
   "cell_type": "code",
   "execution_count": 32,
   "metadata": {},
   "outputs": [],
   "source": [
    "# FINAL[['BranchID','ReturnOrder','BOOK_RT_BranchID','BOOK_RT_OrderNbr']].to_clipboard()"
   ]
  },
  {
   "cell_type": "code",
   "execution_count": 33,
   "metadata": {},
   "outputs": [],
   "source": [
    "# FINAL.shape"
   ]
  },
  {
   "cell_type": "code",
   "execution_count": 34,
   "metadata": {},
   "outputs": [],
   "source": [
    "# FINAL.columns"
   ]
  },
  {
   "cell_type": "code",
   "execution_count": 35,
   "metadata": {},
   "outputs": [],
   "source": [
    "FINAL = FINAL.merge(CUSTOMER.add_prefix('CUSTOMER_'), how='left', left_on=['CustID'], right_on='CUSTOMER_CustId')"
   ]
  },
  {
   "cell_type": "code",
   "execution_count": 36,
   "metadata": {},
   "outputs": [],
   "source": [
    "FINAL = FINAL.merge(COMPANY.add_prefix('COMPANY_'), how='left', left_on=['BranchID'], right_on='COMPANY_CpnyID')"
   ]
  },
  {
   "cell_type": "code",
   "execution_count": 37,
   "metadata": {},
   "outputs": [
    {
     "data": {
      "text/plain": [
       "Index(['BranchID', 'OrderNbr', 'MaCT', 'SlsperID', 'OrderDate', 'ReturnOrder',\n",
       "       'ReturnOrderdate', 'InvtID', 'Lotsernbr', 'ExpDate',\n",
       "       ...\n",
       "       'CUSTOMER_WardDescr', 'CUSTOMER_Phone', 'CUSTOMER_Limit',\n",
       "       'CUSTOMER_CustIDInvoice', 'CUSTOMER_CustNameInvoice', 'CUSTOMER_TaxID',\n",
       "       'CUSTOMER_CustInvoiceAddr', 'CUSTOMER_CustAddress', 'COMPANY_CpnyID',\n",
       "       'COMPANY_CpnyName'],\n",
       "      dtype='object', length=113)"
      ]
     },
     "execution_count": 37,
     "metadata": {},
     "output_type": "execute_result"
    }
   ],
   "source": [
    "# FINAL.columns"
   ]
  },
  {
   "cell_type": "code",
   "execution_count": 38,
   "metadata": {},
   "outputs": [],
   "source": [
    "FINAL = FINAL.merge(IN_INVENTORY.add_prefix('INVT_'), how='inner', left_on=['InvtID'], right_on='INVT_InvtID')"
   ]
  },
  {
   "cell_type": "code",
   "execution_count": 39,
   "metadata": {},
   "outputs": [],
   "source": [
    "FINAL = FINAL.merge(ORDERTYPE.add_prefix('ORDERTYPE_'), how='inner', left_on=['OrderType'], right_on='ORDERTYPE_OrderType')"
   ]
  },
  {
   "cell_type": "code",
   "execution_count": 40,
   "metadata": {},
   "outputs": [],
   "source": [
    "unwanted_cols = [\n",
    "'MaCT',\n",
    "'ExpDate',\n",
    "'CustID',\n",
    "'VATAmount',\n",
    "'BeforeVATAmount',\n",
    "'AfterVATAmount',\n",
    "'Crtd_User',\n",
    "'ContractID',\n",
    "'DeliveryID',\n",
    "'ShipDate',\n",
    "'OrdAmt',\n",
    "'InvcNote',\n",
    "'ChietKhau',\n",
    "'ContractNbr',\n",
    "# 'LineRef',\n",
    "'ReasonCode',\n",
    "'SupID',\n",
    "'ASM',\n",
    "'RSM',\n",
    "'DELI_BranchID',\n",
    "'DELI_BatNbr',\n",
    "'DELI_SlsperID',\n",
    "'DELI_OrderNbr',\n",
    "'SUP_UserName',\n",
    "'ASM_UserName',\n",
    "'RSM_UserName',\n",
    "'SA_UserName',\n",
    "'BOOK_BranchID',\n",
    "'BOOK_OrderNbr',\n",
    "'BOOK_RT_BranchID',\n",
    "'BOOK_RT_OrderNbr',\n",
    "'CUSTOMER_CustId',\n",
    "'CUSTOMER_CustName',\n",
    "'CUSTOMER_BranchID',\n",
    "'CUSTOMER_PubCustID',\n",
    "'CUSTOMER_PubCustName',\n",
    "'CUSTOMER_TaxRegNbr',\n",
    "'CUSTOMER_Attn',\n",
    "'CUSTOMER_SalesSystem',\n",
    "'CUSTOMER_SalesSystemDescr',\n",
    "'CUSTOMER_ClassId',\n",
    "'CUSTOMER_ClassDescr',\n",
    "'CUSTOMER_Terms',\n",
    "'CUSTOMER_TermDescr',\n",
    "'CUSTOMER_ShoperID',\n",
    "'CUSTOMER_GenOrders',\n",
    "'CUSTOMER_GenOrdersDescr',\n",
    "'CUSTOMER_BatchExpForm',\n",
    "'CUSTOMER_BatchExpFormDescr',\n",
    "'CUSTOMER_CheckTerm',\n",
    "'CUSTOMER_CheckTermDescr',\n",
    "'CUSTOMER_PaymentsForm',\n",
    "'CUSTOMER_PaymentsFormDescr',\n",
    "'CUSTOMER_Account',\n",
    "'CUSTOMER_AcctName',\n",
    "'CUSTOMER_District',\n",
    "'CUSTOMER_DistrictDescr',\n",
    "'CUSTOMER_Ward',\n",
    "'CUSTOMER_WardDescr',\n",
    "'CUSTOMER_Phone',\n",
    "'CUSTOMER_Limit',\n",
    "'CUSTOMER_CustIDInvoice',\n",
    "'CUSTOMER_CustNameInvoice',\n",
    "'CUSTOMER_TaxID',\n",
    "'CUSTOMER_CustInvoiceAddr',\n",
    "'CUSTOMER_CustAddress',\n",
    "'COMPANY_CpnyID',\n",
    "'COMPANY_CpnyName',\n",
    "'INVT_InvtID',\n",
    "'ORDERTYPE_OrderType'\n",
    "]"
   ]
  },
  {
   "cell_type": "code",
   "execution_count": 41,
   "metadata": {},
   "outputs": [],
   "source": [
    "cols = FINAL.columns\n",
    "cols = [ele for ele in cols if ele not in unwanted_cols]\n",
    "FINAL=FINAL[cols]"
   ]
  },
  {
   "cell_type": "code",
   "execution_count": 42,
   "metadata": {},
   "outputs": [
    {
     "data": {
      "text/plain": [
       "Index(['BranchID', 'OrderNbr', 'SlsperID', 'OrderDate', 'ReturnOrder',\n",
       "       'ReturnOrderdate', 'InvtID', 'Lotsernbr', 'Status', 'Crtd_DateTime',\n",
       "       'OrdQty', 'InvcNbr', 'OrderType', 'SlsPrice', 'BeforeVATPrice',\n",
       "       'FreeItem', 'LineRef', 'DELI_Status', 'DELI_ShipDate', 'SUP_FirstName',\n",
       "       'ASM_FirstName', 'RSM_FirstName', 'SA_FirstName', 'BOOK_SlsperID',\n",
       "       'BOOK_Name', 'BOOK_Descr', 'BOOK_DeliveryUnitName', 'BOOK_RT_SlsperID',\n",
       "       'BOOK_RT_Name', 'BOOK_RT_Descr', 'BOOK_RT_DeliveryUnitName',\n",
       "       'CUSTOMER_RefCustID', 'CUSTOMER_Zone', 'CUSTOMER_ZoneDescr',\n",
       "       'CUSTOMER_Territory', 'CUSTOMER_TerritoryDescr', 'CUSTOMER_State',\n",
       "       'CUSTOMER_StateDescr', 'CUSTOMER_Channel', 'CUSTOMER_ChannelDescr',\n",
       "       'CUSTOMER_ShopType', 'CUSTOMER_ShopTypeDescr', 'CUSTOMER_HCOID',\n",
       "       'CUSTOMER_HCOName', 'CUSTOMER_HCOTypeID', 'CUSTOMER_HCOTypeName',\n",
       "       'INVT_Descr', 'INVT_Descr1', 'ORDERTYPE_ARDocType'],\n",
       "      dtype='object')"
      ]
     },
     "execution_count": 42,
     "metadata": {},
     "output_type": "execute_result"
    }
   ],
   "source": [
    "# FINAL.columns"
   ]
  },
  {
   "cell_type": "code",
   "execution_count": 43,
   "metadata": {},
   "outputs": [],
   "source": [
    "cols =[\n",
    "'MaCongTyCN',\n",
    "'SoDonDatHang',\n",
    "'MaNV',\n",
    "'NgayChungTu',\n",
    "'SoDonTraHang',\n",
    "'NgayTraHang',\n",
    "'MaSanPham',\n",
    "'SoLo',\n",
    "'TrangThai',\n",
    "'NgayTaoDon',\n",
    "'SoLuong',\n",
    "'HoaDon',\n",
    "'KieuDonHang',\n",
    "'DonGiaCoVAT',\n",
    "'DonGiaChuaVAT',\n",
    "'FreeItem',\n",
    "'LineRef',\n",
    "'TrangThaiGiaoHang',\n",
    "'NgayGiaoHang',\n",
    "'TenQuanLyTT',\n",
    "'TenQuanLyKhuVuc',\n",
    "'TenQuanLyVung',\n",
    "'TenCVBH',\n",
    "'MaNVGH',\n",
    "'NguoiGiaoHang',\n",
    "'DonViGiaoHang',\n",
    "'TenNhaVanChuyen',\n",
    "'RT_MaNVGH',\n",
    "'RT_NguoiGiaoHang',\n",
    "'RT_DonViGiaoHang',\n",
    "'RT_TenNhaVanChuyen',\n",
    "'MaKHCu',\n",
    "'MaVungBH',\n",
    "'TenVungBH',\n",
    "'MaKhuVuc',\n",
    "'TenKhuVuc',\n",
    "'MaTinhKH',\n",
    "'TenTinhKH',\n",
    "'MaKenhKH',\n",
    "'TenKenhKH',\n",
    "'MaKenhPhu',\n",
    "'TenKenhPhu',\n",
    "'MaHCO',\n",
    "'TenHCO',\n",
    "'MaPhanLoaiHCO',\n",
    "'TenPhanLoaiHCO',\n",
    "'TenSanPhamNoiBo',\n",
    "'TenSanPhamVietTat',\n",
    "'ARDocType'\n",
    "]"
   ]
  },
  {
   "cell_type": "code",
   "execution_count": 44,
   "metadata": {},
   "outputs": [],
   "source": [
    "FINAL.columns = cols"
   ]
  },
  {
   "cell_type": "code",
   "execution_count": 45,
   "metadata": {},
   "outputs": [],
   "source": [
    "# FINAL.head()"
   ]
  },
  {
   "cell_type": "code",
   "execution_count": 46,
   "metadata": {},
   "outputs": [],
   "source": [
    "FINAL['TenSanPhamVietTat'] = np.where(FINAL['TenSanPhamVietTat'].str.contains(r'^\\s*$', regex=True), FINAL['TenSanPhamNoiBo'], FINAL['TenSanPhamVietTat'])"
   ]
  },
  {
   "cell_type": "code",
   "execution_count": 47,
   "metadata": {},
   "outputs": [
    {
     "data": {
      "text/plain": [
       "Index(['MaCongTyCN', 'SoDonDatHang', 'MaNV', 'NgayChungTu', 'SoDonTraHang',\n",
       "       'NgayTraHang', 'MaSanPham', 'SoLo', 'TrangThai', 'NgayTaoDon',\n",
       "       'SoLuong', 'HoaDon', 'KieuDonHang', 'DonGiaCoVAT', 'DonGiaChuaVAT',\n",
       "       'FreeItem', 'LineRef', 'TrangThaiGiaoHang', 'NgayGiaoHang',\n",
       "       'TenQuanLyTT', 'TenQuanLyKhuVuc', 'TenQuanLyVung', 'TenCVBH', 'MaNVGH',\n",
       "       'NguoiGiaoHang', 'DonViGiaoHang', 'TenNhaVanChuyen', 'RT_MaNVGH',\n",
       "       'RT_NguoiGiaoHang', 'RT_DonViGiaoHang', 'RT_TenNhaVanChuyen', 'MaKHCu',\n",
       "       'MaVungBH', 'TenVungBH', 'MaKhuVuc', 'TenKhuVuc', 'MaTinhKH',\n",
       "       'TenTinhKH', 'MaKenhKH', 'TenKenhKH', 'MaKenhPhu', 'TenKenhPhu',\n",
       "       'MaHCO', 'TenHCO', 'MaPhanLoaiHCO', 'TenPhanLoaiHCO', 'TenSanPhamNoiBo',\n",
       "       'TenSanPhamVietTat', 'ARDocType'],\n",
       "      dtype='object')"
      ]
     },
     "execution_count": 47,
     "metadata": {},
     "output_type": "execute_result"
    }
   ],
   "source": [
    "# FINAL.columns"
   ]
  },
  {
   "cell_type": "code",
   "execution_count": 48,
   "metadata": {},
   "outputs": [],
   "source": [
    "FINAL['SoLuong'] = np.where(FINAL['ARDocType'].isin(['IN', 'DM', 'CS']), 1 * FINAL['SoLuong'], -1 * FINAL['SoLuong'])"
   ]
  },
  {
   "cell_type": "code",
   "execution_count": 49,
   "metadata": {},
   "outputs": [],
   "source": [
    "FINAL['DoanhSoChuaVAT'] = np.where(FINAL['FreeItem'], 0, FINAL['SoLuong']*FINAL['DonGiaChuaVAT'])"
   ]
  },
  {
   "cell_type": "code",
   "execution_count": 51,
   "metadata": {},
   "outputs": [],
   "source": [
    "# FINAL['DoanhSoChuaVAT'].sum()"
   ]
  },
  {
   "cell_type": "code",
   "execution_count": 52,
   "metadata": {},
   "outputs": [],
   "source": [
    "# vc(FINAL, ['MaNVGH']).to_clipboard()"
   ]
  },
  {
   "cell_type": "code",
   "execution_count": 53,
   "metadata": {},
   "outputs": [],
   "source": [
    "FINAL['MaNVGH'] = np.where(FINAL['MaNVGH'].str.contains(r'^\\s*$', regex=True), FINAL['RT_MaNVGH'], FINAL['MaNVGH'])\n",
    "FINAL['NguoiGiaoHang'] = np.where(FINAL['NguoiGiaoHang'].str.contains(r'^\\s*$', regex=True), FINAL['RT_NguoiGiaoHang'], FINAL['NguoiGiaoHang'])\n",
    "FINAL['DonViGiaoHang'] = np.where(FINAL['DonViGiaoHang'].str.contains(r'^\\s*$', regex=True), FINAL['RT_DonViGiaoHang'], FINAL['DonViGiaoHang'])\n",
    "FINAL['TenNhaVanChuyen'] = np.where(FINAL['TenNhaVanChuyen'].str.contains(r'^\\s*$', regex=True), FINAL['RT_TenNhaVanChuyen'], FINAL['TenNhaVanChuyen'])"
   ]
  },
  {
   "cell_type": "code",
   "execution_count": 54,
   "metadata": {},
   "outputs": [],
   "source": [
    "unwanted_cols = ['BOOK_RT_SlsperID',\n",
    "'BOOK_RT_Name',\n",
    "'BOOK_RT_Descr',\n",
    "'BOOK_RT_DeliveryUnitName',\n",
    "'RT_MaNVGH',\n",
    "'RT_NguoiGiaoHang',\n",
    "'RT_DonViGiaoHang',\n",
    "'RT_TenNhaVanChuyen'\n",
    "]"
   ]
  },
  {
   "cell_type": "code",
   "execution_count": 55,
   "metadata": {},
   "outputs": [],
   "source": [
    "cols = FINAL.columns\n",
    "cols = [ele for ele in cols if ele not in unwanted_cols]\n",
    "FINAL=FINAL[cols]"
   ]
  },
  {
   "cell_type": "code",
   "execution_count": 56,
   "metadata": {},
   "outputs": [],
   "source": [
    "# DATARETURNIO.head()"
   ]
  },
  {
   "cell_type": "code",
   "execution_count": 57,
   "metadata": {},
   "outputs": [],
   "source": [
    "set_DATARETURNIO = set(DATARETURNIO['BranchID']+DATARETURNIO['OrigOrderNbr'])"
   ]
  },
  {
   "cell_type": "code",
   "execution_count": 58,
   "metadata": {},
   "outputs": [
    {
     "data": {
      "text/plain": [
       "{'MR0001CO072021-00001', 'MR0015CO062021-00001', 'MR0016CO062021-00001'}"
      ]
     },
     "execution_count": 58,
     "metadata": {},
     "output_type": "execute_result"
    }
   ],
   "source": [
    "# set_DATARETURNIO"
   ]
  },
  {
   "cell_type": "code",
   "execution_count": 59,
   "metadata": {},
   "outputs": [],
   "source": [
    "# set(DATARETURNIO['BO'])"
   ]
  },
  {
   "cell_type": "code",
   "execution_count": 60,
   "metadata": {},
   "outputs": [],
   "source": [
    "# FINAL = (FINAL['MaCongTyCN']+FINAL['SoDonDatHang']).isin(set_DATARETURNIO)"
   ]
  },
  {
   "cell_type": "code",
   "execution_count": 61,
   "metadata": {},
   "outputs": [],
   "source": [
    "df_in_set = (FINAL['MaCongTyCN']+FINAL['SoDonDatHang']).isin(set_DATARETURNIO)"
   ]
  },
  {
   "cell_type": "code",
   "execution_count": 62,
   "metadata": {},
   "outputs": [
    {
     "data": {
      "text/plain": [
       "4"
      ]
     },
     "execution_count": 62,
     "metadata": {},
     "output_type": "execute_result"
    }
   ],
   "source": [
    "# df_in_set.sum()"
   ]
  },
  {
   "cell_type": "code",
   "execution_count": 63,
   "metadata": {},
   "outputs": [],
   "source": [
    "# df_in_set"
   ]
  },
  {
   "cell_type": "code",
   "execution_count": 64,
   "metadata": {},
   "outputs": [],
   "source": [
    "FINAL = FINAL[~df_in_set]"
   ]
  },
  {
   "cell_type": "code",
   "execution_count": 65,
   "metadata": {},
   "outputs": [
    {
     "data": {
      "text/plain": [
       "Index(['MaCongTyCN', 'SoDonDatHang', 'MaNV', 'NgayChungTu', 'SoDonTraHang',\n",
       "       'NgayTraHang', 'MaSanPham', 'SoLo', 'TrangThai', 'NgayTaoDon',\n",
       "       'SoLuong', 'HoaDon', 'KieuDonHang', 'DonGiaCoVAT', 'DonGiaChuaVAT',\n",
       "       'FreeItem', 'LineRef', 'TrangThaiGiaoHang', 'NgayGiaoHang',\n",
       "       'TenQuanLyTT', 'TenQuanLyKhuVuc', 'TenQuanLyVung', 'TenCVBH', 'MaNVGH',\n",
       "       'NguoiGiaoHang', 'DonViGiaoHang', 'TenNhaVanChuyen', 'MaKHCu',\n",
       "       'MaVungBH', 'TenVungBH', 'MaKhuVuc', 'TenKhuVuc', 'MaTinhKH',\n",
       "       'TenTinhKH', 'MaKenhKH', 'TenKenhKH', 'MaKenhPhu', 'TenKenhPhu',\n",
       "       'MaHCO', 'TenHCO', 'MaPhanLoaiHCO', 'TenPhanLoaiHCO', 'TenSanPhamNoiBo',\n",
       "       'TenSanPhamVietTat', 'ARDocType', 'DoanhSoChuaVAT'],\n",
       "      dtype='object')"
      ]
     },
     "execution_count": 65,
     "metadata": {},
     "output_type": "execute_result"
    }
   ],
   "source": [
    "# FINAL.columns"
   ]
  },
  {
   "cell_type": "code",
   "execution_count": 66,
   "metadata": {},
   "outputs": [],
   "source": [
    "# FINAL['NgayGiaoHang'] = FINAL['NgayGiaoHang'].str[:10]"
   ]
  },
  {
   "cell_type": "code",
   "execution_count": 67,
   "metadata": {},
   "outputs": [],
   "source": [
    "# vc(FINAL, 'NgayGiaoHang_2').to_clipboard()"
   ]
  },
  {
   "cell_type": "code",
   "execution_count": 68,
   "metadata": {},
   "outputs": [],
   "source": [
    "FINAL['NgayGiaoHang']=pd.to_datetime(FINAL['NgayGiaoHang'].str[:10], dayfirst=True).fillna(datetime(1900,1,1))\n",
    "FINAL['NgayChungTu']=pd.to_datetime(FINAL['NgayChungTu'].str[:10], dayfirst=True)"
   ]
  },
  {
   "cell_type": "code",
   "execution_count": 69,
   "metadata": {},
   "outputs": [],
   "source": [
    "# FINAL.to_clipboard()"
   ]
  },
  {
   "cell_type": "code",
   "execution_count": 70,
   "metadata": {},
   "outputs": [],
   "source": [
    "# FINAL['DoanhSoChuaVAT'].sum()"
   ]
  },
  {
   "cell_type": "code",
   "execution_count": 71,
   "metadata": {},
   "outputs": [
    {
     "data": {
      "text/plain": [
       "Index(['MaCongTyCN', 'SoDonDatHang', 'MaNV', 'NgayChungTu', 'SoDonTraHang',\n",
       "       'NgayTraHang', 'MaSanPham', 'SoLo', 'TrangThai', 'NgayTaoDon',\n",
       "       'SoLuong', 'HoaDon', 'KieuDonHang', 'DonGiaCoVAT', 'DonGiaChuaVAT',\n",
       "       'FreeItem', 'LineRef', 'TrangThaiGiaoHang', 'NgayGiaoHang',\n",
       "       'TenQuanLyTT', 'TenQuanLyKhuVuc', 'TenQuanLyVung', 'TenCVBH', 'MaNVGH',\n",
       "       'NguoiGiaoHang', 'DonViGiaoHang', 'TenNhaVanChuyen', 'MaKHCu',\n",
       "       'MaVungBH', 'TenVungBH', 'MaKhuVuc', 'TenKhuVuc', 'MaTinhKH',\n",
       "       'TenTinhKH', 'MaKenhKH', 'TenKenhKH', 'MaKenhPhu', 'TenKenhPhu',\n",
       "       'MaHCO', 'TenHCO', 'MaPhanLoaiHCO', 'TenPhanLoaiHCO', 'TenSanPhamNoiBo',\n",
       "       'TenSanPhamVietTat', 'ARDocType', 'DoanhSoChuaVAT'],\n",
       "      dtype='object')"
      ]
     },
     "execution_count": 71,
     "metadata": {},
     "output_type": "execute_result"
    }
   ],
   "source": [
    "# FINAL.columns"
   ]
  },
  {
   "cell_type": "code",
   "execution_count": 72,
   "metadata": {},
   "outputs": [],
   "source": [
    "FINAL['inserted_at'] = datetime.now()"
   ]
  },
  {
   "cell_type": "code",
   "execution_count": 78,
   "metadata": {},
   "outputs": [],
   "source": [
    "FINAL['phanloaispcl'] = FINAL['MaSanPham'].map(\n",
    "    df_to_dict(get_ps_df(\"select masanpham, phanloai from d_nhom_sp where nhomsp='SPCL'\"))\n",
    ").fillna('Khác')\n",
    "FINAL['nhomsp'] = FINAL['MaSanPham'].map(\n",
    "    df_to_dict(get_ps_df(\"select masanpham, nhomsp from d_nhom_sp where nhomsp IN ('SPCL', 'SP MOI') \"))\n",
    ").fillna('Khác')\n",
    "FINAL['khuvucviettat'] = FINAL['TenKhuVuc'].map(\n",
    "    df_to_dict(get_ps_df(\"select * from d_mkv_viet_tat\"))\n",
    ")\n",
    "FINAL['chinhanh'] = FINAL['MaCongTyCN'].map(\n",
    "    df_to_dict(get_ps_df(\"select * from d_chi_nhanh\"))\n",
    ")\n",
    "FINAL['newhco'] = (FINAL['MaKenhPhu']+FINAL['MaPhanLoaiHCO']).map(\n",
    "    df_to_dict(get_ps_df(\"SELECT concat(makenhphu, maphanloaihco) as concat, new_mahco FROM d_pl_hco\"))\n",
    ")"
   ]
  },
  {
   "cell_type": "code",
   "execution_count": 91,
   "metadata": {},
   "outputs": [
    {
     "data": {
      "text/plain": [
       "MaCongTyCN                0\n",
       "SoDonDatHang              0\n",
       "MaNV                      1\n",
       "NgayChungTu               0\n",
       "SoDonTraHang         310962\n",
       "NgayTraHang               0\n",
       "MaSanPham                 0\n",
       "SoLo                      0\n",
       "TrangThai                 0\n",
       "NgayTaoDon                0\n",
       "SoLuong                   0\n",
       "HoaDon                   10\n",
       "KieuDonHang               0\n",
       "DonGiaCoVAT               0\n",
       "DonGiaChuaVAT             0\n",
       "FreeItem                  0\n",
       "LineRef                   0\n",
       "TrangThaiGiaoHang      4569\n",
       "NgayGiaoHang           4569\n",
       "TenQuanLyTT             170\n",
       "TenQuanLyKhuVuc       16993\n",
       "TenQuanLyVung         16993\n",
       "TenCVBH                  20\n",
       "MaNVGH                  149\n",
       "NguoiGiaoHang           149\n",
       "DonViGiaoHang           149\n",
       "TenNhaVanChuyen      130004\n",
       "MaKHCu                    0\n",
       "MaVungBH                  0\n",
       "TenVungBH                 0\n",
       "MaKhuVuc                  0\n",
       "TenKhuVuc                 0\n",
       "MaTinhKH                  0\n",
       "TenTinhKH                 0\n",
       "MaKenhKH                  0\n",
       "TenKenhKH                 0\n",
       "MaKenhPhu                 0\n",
       "TenKenhPhu                0\n",
       "MaHCO                     4\n",
       "TenHCO                    6\n",
       "MaPhanLoaiHCO             4\n",
       "TenPhanLoaiHCO         2922\n",
       "TenSanPhamNoiBo           0\n",
       "TenSanPhamVietTat         0\n",
       "ARDocType                 0\n",
       "DoanhSoChuaVAT            0\n",
       "inserted_at               0\n",
       "phanloaispcl              0\n",
       "nhomsp                    0\n",
       "khuvucviettat             0\n",
       "chinhanh                  0\n",
       "newhco                  142\n",
       "dtype: int64"
      ]
     },
     "execution_count": 91,
     "metadata": {},
     "output_type": "execute_result"
    }
   ],
   "source": [
    "# checkna(FINAL)"
   ]
  },
  {
   "cell_type": "code",
   "execution_count": 90,
   "metadata": {},
   "outputs": [
    {
     "data": {
      "text/html": [
       "<div>\n",
       "<style scoped>\n",
       "    .dataframe tbody tr th:only-of-type {\n",
       "        vertical-align: middle;\n",
       "    }\n",
       "\n",
       "    .dataframe tbody tr th {\n",
       "        vertical-align: top;\n",
       "    }\n",
       "\n",
       "    .dataframe thead th {\n",
       "        text-align: right;\n",
       "    }\n",
       "</style>\n",
       "<table border=\"1\" class=\"dataframe\">\n",
       "  <thead>\n",
       "    <tr style=\"text-align: right;\">\n",
       "      <th></th>\n",
       "      <th>SoDonTraHang</th>\n",
       "      <th>counts</th>\n",
       "    </tr>\n",
       "  </thead>\n",
       "  <tbody>\n",
       "    <tr>\n",
       "      <th>0</th>\n",
       "      <td>NaN</td>\n",
       "      <td>310962</td>\n",
       "    </tr>\n",
       "    <tr>\n",
       "      <th>1</th>\n",
       "      <td>DH082021-05854</td>\n",
       "      <td>17</td>\n",
       "    </tr>\n",
       "    <tr>\n",
       "      <th>2</th>\n",
       "      <td>DH052021-01224</td>\n",
       "      <td>13</td>\n",
       "    </tr>\n",
       "    <tr>\n",
       "      <th>3</th>\n",
       "      <td>DH062021-03550</td>\n",
       "      <td>11</td>\n",
       "    </tr>\n",
       "    <tr>\n",
       "      <th>4</th>\n",
       "      <td>DH092021-00347</td>\n",
       "      <td>11</td>\n",
       "    </tr>\n",
       "    <tr>\n",
       "      <th>...</th>\n",
       "      <td>...</td>\n",
       "      <td>...</td>\n",
       "    </tr>\n",
       "    <tr>\n",
       "      <th>346</th>\n",
       "      <td>DH092021-00019</td>\n",
       "      <td>1</td>\n",
       "    </tr>\n",
       "    <tr>\n",
       "      <th>347</th>\n",
       "      <td>DH062021-00287</td>\n",
       "      <td>1</td>\n",
       "    </tr>\n",
       "    <tr>\n",
       "      <th>348</th>\n",
       "      <td>DH082021-00389</td>\n",
       "      <td>1</td>\n",
       "    </tr>\n",
       "    <tr>\n",
       "      <th>349</th>\n",
       "      <td>DH082021-06796</td>\n",
       "      <td>1</td>\n",
       "    </tr>\n",
       "    <tr>\n",
       "      <th>350</th>\n",
       "      <td>DH082021-03832</td>\n",
       "      <td>1</td>\n",
       "    </tr>\n",
       "  </tbody>\n",
       "</table>\n",
       "<p>351 rows × 2 columns</p>\n",
       "</div>"
      ],
      "text/plain": [
       "       SoDonTraHang  counts\n",
       "0               NaN  310962\n",
       "1    DH082021-05854      17\n",
       "2    DH052021-01224      13\n",
       "3    DH062021-03550      11\n",
       "4    DH092021-00347      11\n",
       "..              ...     ...\n",
       "346  DH092021-00019       1\n",
       "347  DH062021-00287       1\n",
       "348  DH082021-00389       1\n",
       "349  DH082021-06796       1\n",
       "350  DH082021-03832       1\n",
       "\n",
       "[351 rows x 2 columns]"
      ]
     },
     "execution_count": 90,
     "metadata": {},
     "output_type": "execute_result"
    }
   ],
   "source": [
    "vc(FINAL, 'SoDonTraHang')"
   ]
  },
  {
   "cell_type": "code",
   "execution_count": 89,
   "metadata": {},
   "outputs": [
    {
     "data": {
      "text/html": [
       "<div>\n",
       "<style scoped>\n",
       "    .dataframe tbody tr th:only-of-type {\n",
       "        vertical-align: middle;\n",
       "    }\n",
       "\n",
       "    .dataframe tbody tr th {\n",
       "        vertical-align: top;\n",
       "    }\n",
       "\n",
       "    .dataframe thead th {\n",
       "        text-align: right;\n",
       "    }\n",
       "</style>\n",
       "<table border=\"1\" class=\"dataframe\">\n",
       "  <thead>\n",
       "    <tr style=\"text-align: right;\">\n",
       "      <th></th>\n",
       "      <th>newhco</th>\n",
       "      <th>counts</th>\n",
       "    </tr>\n",
       "  </thead>\n",
       "  <tbody>\n",
       "    <tr>\n",
       "      <th>0</th>\n",
       "      <td>NTL</td>\n",
       "      <td>266690</td>\n",
       "    </tr>\n",
       "    <tr>\n",
       "      <th>1</th>\n",
       "      <td>PKC</td>\n",
       "      <td>11301</td>\n",
       "    </tr>\n",
       "    <tr>\n",
       "      <th>2</th>\n",
       "      <td>PKK</td>\n",
       "      <td>8560</td>\n",
       "    </tr>\n",
       "    <tr>\n",
       "      <th>3</th>\n",
       "      <td>PKDK</td>\n",
       "      <td>6474</td>\n",
       "    </tr>\n",
       "    <tr>\n",
       "      <th>4</th>\n",
       "      <td>NN</td>\n",
       "      <td>6411</td>\n",
       "    </tr>\n",
       "    <tr>\n",
       "      <th>5</th>\n",
       "      <td>TN</td>\n",
       "      <td>4094</td>\n",
       "    </tr>\n",
       "    <tr>\n",
       "      <th>6</th>\n",
       "      <td>SI</td>\n",
       "      <td>3092</td>\n",
       "    </tr>\n",
       "    <tr>\n",
       "      <th>7</th>\n",
       "      <td>NTXQBV</td>\n",
       "      <td>1549</td>\n",
       "    </tr>\n",
       "    <tr>\n",
       "      <th>8</th>\n",
       "      <td>PKCK</td>\n",
       "      <td>1202</td>\n",
       "    </tr>\n",
       "    <tr>\n",
       "      <th>9</th>\n",
       "      <td>CHUOI</td>\n",
       "      <td>1166</td>\n",
       "    </tr>\n",
       "    <tr>\n",
       "      <th>10</th>\n",
       "      <td>DLPP3</td>\n",
       "      <td>1132</td>\n",
       "    </tr>\n",
       "    <tr>\n",
       "      <th>11</th>\n",
       "      <td>DLPP2</td>\n",
       "      <td>271</td>\n",
       "    </tr>\n",
       "    <tr>\n",
       "      <th>12</th>\n",
       "      <td>NaN</td>\n",
       "      <td>142</td>\n",
       "    </tr>\n",
       "    <tr>\n",
       "      <th>13</th>\n",
       "      <td>DLPP1</td>\n",
       "      <td>33</td>\n",
       "    </tr>\n",
       "  </tbody>\n",
       "</table>\n",
       "</div>"
      ],
      "text/plain": [
       "    newhco  counts\n",
       "0      NTL  266690\n",
       "1      PKC   11301\n",
       "2      PKK    8560\n",
       "3     PKDK    6474\n",
       "4       NN    6411\n",
       "5       TN    4094\n",
       "6       SI    3092\n",
       "7   NTXQBV    1549\n",
       "8     PKCK    1202\n",
       "9    CHUOI    1166\n",
       "10   DLPP3    1132\n",
       "11   DLPP2     271\n",
       "12     NaN     142\n",
       "13   DLPP1      33"
      ]
     },
     "execution_count": 89,
     "metadata": {},
     "output_type": "execute_result"
    }
   ],
   "source": [
    "# vc(FINAL, 'newhco')"
   ]
  },
  {
   "cell_type": "code",
   "execution_count": 533,
   "metadata": {},
   "outputs": [
    {
     "data": {
      "text/plain": [
       "(286559, 46)"
      ]
     },
     "execution_count": 533,
     "metadata": {},
     "output_type": "execute_result"
    }
   ],
   "source": [
    "# FINAL.shape"
   ]
  },
  {
   "cell_type": "code",
   "execution_count": 534,
   "metadata": {},
   "outputs": [
    {
     "data": {
      "text/plain": [
       "282839065179.0"
      ]
     },
     "execution_count": 534,
     "metadata": {},
     "output_type": "execute_result"
    }
   ],
   "source": [
    "# FINAL['DoanhSoChuaVAT'].sum()"
   ]
  },
  {
   "cell_type": "code",
   "execution_count": 537,
   "metadata": {},
   "outputs": [
    {
     "data": {
      "text/plain": [
       "0"
      ]
     },
     "execution_count": 537,
     "metadata": {},
     "output_type": "execute_result"
    }
   ],
   "source": [
    "checkdup(FINAL, 1, ['MaCongTyCN','SoDonDatHang','NgayChungTu','MaSanPham','SoLuong','SoLo','LineRef']).sum()"
   ]
  },
  {
   "cell_type": "code",
   "execution_count": null,
   "metadata": {},
   "outputs": [],
   "source": [
    "# print_df_schema(FINAL)"
   ]
  },
  {
   "cell_type": "code",
   "execution_count": 455,
   "metadata": {},
   "outputs": [],
   "source": [
    "# FINAL['NgayChungTu'] = FINAL['NgayChungTu'].str[:10]"
   ]
  },
  {
   "cell_type": "code",
   "execution_count": 456,
   "metadata": {},
   "outputs": [],
   "source": [
    "# FINAL['NgayChungTu'].head()"
   ]
  },
  {
   "cell_type": "code",
   "execution_count": 457,
   "metadata": {},
   "outputs": [],
   "source": [
    "# FINAL['NgayChungTu_2']=pd.to_datetime(FINAL['NgayChungTu'], dayfirst=True)"
   ]
  },
  {
   "cell_type": "code",
   "execution_count": 458,
   "metadata": {},
   "outputs": [],
   "source": [
    "# FINAL['NgayChungTu_2'].head()"
   ]
  },
  {
   "cell_type": "code",
   "execution_count": 459,
   "metadata": {},
   "outputs": [],
   "source": [
    "# raw_usecols_list = [' Ngày Chứng Từ', ' Mã Công Ty/CN', ' Số Đơn Đặt Hàng', ' Mã Sản Phẩm', ' Số Lô', ' Số Lượng', ' Đơn Giá (Chưa VAT)', ' Số Đơn Trả Hàng', ' Doanh Số (Chưa VAT)']\n",
    "# raw_usecols_list = [' Ngày Chứng Từ', ' Mã Công Ty/CN', ' Số Đơn Đặt Hàng', ' Mã Sản Phẩm', ' Số Lượng', ' Đơn Giá (Chưa VAT)', ' Số Đơn Trả Hàng', ' Doanh Số (Chưa VAT)']\n",
    "# df1 = pd.read_csv('Rawdata_t7.csv', usecols=raw_usecols_list, nrows=None, dayfirst=True, parse_dates=[' Ngày Chứng Từ'])\n",
    "# print(df1.shape)"
   ]
  },
  {
   "cell_type": "code",
   "execution_count": 460,
   "metadata": {},
   "outputs": [],
   "source": [
    "# df1.columns=cleancols(df1)\n",
    "# df1.drop_duplicates(keep='first', inplace=True)\n",
    "# df1.shape"
   ]
  },
  {
   "cell_type": "code",
   "execution_count": 461,
   "metadata": {},
   "outputs": [],
   "source": [
    "# df1['NgayChungTu'].head()\n",
    "# df1_c = df1[['MaCongTyCN','NgayChungTu', '']]\n",
    "# lo(9)\n",
    "# FINAL.columns\n",
    "# final_c = FINAL[['MaCongTyCN', 'NgayChungTu',  'SoDonDatHang', 'SoDonTraHang', 'MaSanPham', 'SoLuong', 'DonGiaChuaVAT', 'DoanhSoChuaVAT']].copy()\n",
    "# final_c['SoLuong'] = final_c['SoLuong'].astype('int64')\n",
    "# final_c['DonGiaChuaVAT'] = final_c['DonGiaChuaVAT'].astype('int64')\n",
    "# final_c['DoanhSoChuaVAT'] = final_c['SoLuong'].astype('int64')\n",
    "# final_c.dtypes\n",
    "# final_d = final_c[['MaCongTyCN', 'SoDonDatHang','MaSanPham']]\n",
    "# final_d = dropdup(final_d,1)\n",
    "# df1_d = df1[['MaCongTyCN', 'SoDonDatHang','MaSanPham']]\n",
    "# df1_d = dropdup(df1_d,1)\n",
    "# dfs_diff(final_d, df1_d)\n",
    "# set_DATARETURNIO\n",
    "# df_filter(ORD, BranchID='MR0001', OrderNbr='CO072021-00001').to_clipboard()\n"
   ]
  },
  {
   "cell_type": "code",
   "execution_count": 557,
   "metadata": {},
   "outputs": [],
   "source": [
    "primary_keys = ['macongtycn','sodondathang','ngaychungtu','masanpham','soluong','solo','lineref']"
   ]
  },
  {
   "cell_type": "code",
   "execution_count": 558,
   "metadata": {},
   "outputs": [
    {
     "name": "stdout",
     "output_type": "stream",
     "text": [
      "macongtycn\n",
      "sodondathang\n",
      "ngaychungtu\n",
      "masanpham\n",
      "soluong\n",
      "solo\n",
      "lineref\n"
     ]
    }
   ],
   "source": [
    "# for l in pk_list:\n",
    "#     print(l)"
   ]
  },
  {
   "cell_type": "code",
   "execution_count": 560,
   "metadata": {},
   "outputs": [],
   "source": [
    "# FINAL2 =FINAL.head()"
   ]
  },
  {
   "cell_type": "code",
   "execution_count": 561,
   "metadata": {},
   "outputs": [],
   "source": [
    "# insert_df_to_postgres(\"f_sales\", FINAL2, pk_list)"
   ]
  },
  {
   "cell_type": "code",
   "execution_count": null,
   "metadata": {},
   "outputs": [],
   "source": [
    "execute_values_upsert(FINAL, 'f_sales', primary_keys)"
   ]
  }
 ],
 "metadata": {
  "interpreter": {
   "hash": "f94d6dad5013d632e8b52fc362848c71d5234e1d7ba23afa22c3a2e55512dabd"
  },
  "kernelspec": {
   "display_name": "Python 3.9.6 64-bit ('venv': venv)",
   "name": "python3"
  },
  "language_info": {
   "codemirror_mode": {
    "name": "ipython",
    "version": 3
   },
   "file_extension": ".py",
   "mimetype": "text/x-python",
   "name": "python",
   "nbconvert_exporter": "python",
   "pygments_lexer": "ipython3",
   "version": "3.9.6"
  },
  "orig_nbformat": 4
 },
 "nbformat": 4,
 "nbformat_minor": 2
}
