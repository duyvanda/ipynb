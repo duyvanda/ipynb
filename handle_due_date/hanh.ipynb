{
 "cells": [
  {
   "cell_type": "code",
   "execution_count": 2,
   "metadata": {},
   "outputs": [],
   "source": [
    "from utils.df_handle import *"
   ]
  },
  {
   "cell_type": "code",
   "execution_count": 7,
   "metadata": {},
   "outputs": [],
   "source": [
    "df1 = pd.read_csv('hanh_csv.csv', parse_dates=['DateOfOrder'], dayfirst=True)"
   ]
  },
  {
   "cell_type": "code",
   "execution_count": 8,
   "metadata": {},
   "outputs": [
    {
     "data": {
      "text/plain": [
       "BranchID               object\n",
       "OrderNbr               object\n",
       "CustID                 object\n",
       "DateOfOrder    datetime64[ns]\n",
       "dtype: object"
      ]
     },
     "execution_count": 8,
     "metadata": {},
     "output_type": "execute_result"
    }
   ],
   "source": [
    "df1.dtypes"
   ]
  },
  {
   "cell_type": "code",
   "execution_count": 9,
   "metadata": {},
   "outputs": [
    {
     "data": {
      "text/plain": [
       "0    2021-01-01\n",
       "1    2021-01-01\n",
       "2    2021-01-02\n",
       "3    2021-01-03\n",
       "4    2021-01-03\n",
       "5    2021-01-04\n",
       "6    2021-01-05\n",
       "7    2021-01-10\n",
       "8    2021-01-13\n",
       "9    2021-01-14\n",
       "10   2021-01-20\n",
       "Name: DateOfOrder, dtype: datetime64[ns]"
      ]
     },
     "execution_count": 9,
     "metadata": {},
     "output_type": "execute_result"
    }
   ],
   "source": [
    "df1.DateOfOrder"
   ]
  },
  {
   "cell_type": "code",
   "execution_count": 12,
   "metadata": {},
   "outputs": [],
   "source": [
    "df1a=df1.copy()\n",
    "# df1a.shape\n",
    "df1b = df1a[['BranchID','CustID', 'DateOfOrder']].copy()\n",
    "df1b.drop_duplicates(keep='first', inplace=True)\n",
    "# df1b.shape\n",
    "df1b['cum_count'] = df1b.groupby(['BranchID','CustID']).cumcount()\n",
    "df1a = df1a.merge(df1b, how='left', on=['BranchID','CustID', 'DateOfOrder'])\n",
    "df1a['cum_count_plus1'] = df1a['cum_count']+1\n",
    "df1b = df1a[['BranchID', 'CustID', 'cum_count', 'OrderNbr', 'DateOfOrder']].drop_duplicates(keep='first')\n",
    "# df1b.to_csv('df1b.csv')\n",
    "df1a = df1a.merge(df1b.add_prefix('y_'), how='left', left_on=['BranchID', 'CustID', 'cum_count_plus1'], right_on=['y_BranchID','y_CustID','y_cum_count'])\n",
    "df1a.y_DateOfOrder.fillna(df1a.DueDate, inplace=True)\n",
    "df1a.DueDate = np.where(df1a.DueDate>df1a.y_DateOfOrder, df1a.y_DateOfOrder, df1a.DueDate)"
   ]
  },
  {
   "cell_type": "code",
   "execution_count": 13,
   "metadata": {},
   "outputs": [
    {
     "data": {
      "text/html": [
       "<div>\n",
       "<style scoped>\n",
       "    .dataframe tbody tr th:only-of-type {\n",
       "        vertical-align: middle;\n",
       "    }\n",
       "\n",
       "    .dataframe tbody tr th {\n",
       "        vertical-align: top;\n",
       "    }\n",
       "\n",
       "    .dataframe thead th {\n",
       "        text-align: right;\n",
       "    }\n",
       "</style>\n",
       "<table border=\"1\" class=\"dataframe\">\n",
       "  <thead>\n",
       "    <tr style=\"text-align: right;\">\n",
       "      <th></th>\n",
       "      <th>BranchID</th>\n",
       "      <th>OrderNbr</th>\n",
       "      <th>CustID</th>\n",
       "      <th>DateOfOrder</th>\n",
       "      <th>DueDate</th>\n",
       "      <th>cum_count</th>\n",
       "      <th>cum_count_plus1</th>\n",
       "      <th>y_BranchID</th>\n",
       "      <th>y_CustID</th>\n",
       "      <th>y_cum_count</th>\n",
       "      <th>y_OrderNbr</th>\n",
       "      <th>y_DateOfOrder</th>\n",
       "    </tr>\n",
       "  </thead>\n",
       "  <tbody>\n",
       "    <tr>\n",
       "      <th>0</th>\n",
       "      <td>HCM</td>\n",
       "      <td>A</td>\n",
       "      <td>A1</td>\n",
       "      <td>2021-01-01</td>\n",
       "      <td>2021-01-02</td>\n",
       "      <td>0</td>\n",
       "      <td>1</td>\n",
       "      <td>HCM</td>\n",
       "      <td>A1</td>\n",
       "      <td>1.0</td>\n",
       "      <td>B</td>\n",
       "      <td>2021-01-02</td>\n",
       "    </tr>\n",
       "    <tr>\n",
       "      <th>1</th>\n",
       "      <td>HCM</td>\n",
       "      <td>A1</td>\n",
       "      <td>A1</td>\n",
       "      <td>2021-01-01</td>\n",
       "      <td>2021-01-02</td>\n",
       "      <td>0</td>\n",
       "      <td>1</td>\n",
       "      <td>HCM</td>\n",
       "      <td>A1</td>\n",
       "      <td>1.0</td>\n",
       "      <td>B</td>\n",
       "      <td>2021-01-02</td>\n",
       "    </tr>\n",
       "    <tr>\n",
       "      <th>2</th>\n",
       "      <td>HCM</td>\n",
       "      <td>B</td>\n",
       "      <td>A1</td>\n",
       "      <td>2021-01-02</td>\n",
       "      <td>2021-01-03</td>\n",
       "      <td>1</td>\n",
       "      <td>2</td>\n",
       "      <td>HCM</td>\n",
       "      <td>A1</td>\n",
       "      <td>2.0</td>\n",
       "      <td>C</td>\n",
       "      <td>2021-01-03</td>\n",
       "    </tr>\n",
       "    <tr>\n",
       "      <th>3</th>\n",
       "      <td>HCM</td>\n",
       "      <td>B</td>\n",
       "      <td>A1</td>\n",
       "      <td>2021-01-02</td>\n",
       "      <td>2021-01-03</td>\n",
       "      <td>1</td>\n",
       "      <td>2</td>\n",
       "      <td>HCM</td>\n",
       "      <td>A1</td>\n",
       "      <td>2.0</td>\n",
       "      <td>C1</td>\n",
       "      <td>2021-01-03</td>\n",
       "    </tr>\n",
       "    <tr>\n",
       "      <th>4</th>\n",
       "      <td>HCM</td>\n",
       "      <td>C</td>\n",
       "      <td>A1</td>\n",
       "      <td>2021-01-03</td>\n",
       "      <td>2021-01-04</td>\n",
       "      <td>2</td>\n",
       "      <td>3</td>\n",
       "      <td>HCM</td>\n",
       "      <td>A1</td>\n",
       "      <td>3.0</td>\n",
       "      <td>E</td>\n",
       "      <td>2021-01-04</td>\n",
       "    </tr>\n",
       "    <tr>\n",
       "      <th>5</th>\n",
       "      <td>HCM</td>\n",
       "      <td>C1</td>\n",
       "      <td>A1</td>\n",
       "      <td>2021-01-03</td>\n",
       "      <td>2021-01-04</td>\n",
       "      <td>2</td>\n",
       "      <td>3</td>\n",
       "      <td>HCM</td>\n",
       "      <td>A1</td>\n",
       "      <td>3.0</td>\n",
       "      <td>E</td>\n",
       "      <td>2021-01-04</td>\n",
       "    </tr>\n",
       "    <tr>\n",
       "      <th>6</th>\n",
       "      <td>HCM</td>\n",
       "      <td>E</td>\n",
       "      <td>A1</td>\n",
       "      <td>2021-01-04</td>\n",
       "      <td>2021-01-05</td>\n",
       "      <td>3</td>\n",
       "      <td>4</td>\n",
       "      <td>HCM</td>\n",
       "      <td>A1</td>\n",
       "      <td>4.0</td>\n",
       "      <td>F</td>\n",
       "      <td>2021-01-05</td>\n",
       "    </tr>\n",
       "    <tr>\n",
       "      <th>7</th>\n",
       "      <td>HCM</td>\n",
       "      <td>F</td>\n",
       "      <td>A1</td>\n",
       "      <td>2021-01-05</td>\n",
       "      <td>2021-01-10</td>\n",
       "      <td>4</td>\n",
       "      <td>5</td>\n",
       "      <td>HCM</td>\n",
       "      <td>A1</td>\n",
       "      <td>5.0</td>\n",
       "      <td>G</td>\n",
       "      <td>2021-01-10</td>\n",
       "    </tr>\n",
       "    <tr>\n",
       "      <th>8</th>\n",
       "      <td>HCM</td>\n",
       "      <td>G</td>\n",
       "      <td>A1</td>\n",
       "      <td>2021-01-10</td>\n",
       "      <td>2021-01-13</td>\n",
       "      <td>5</td>\n",
       "      <td>6</td>\n",
       "      <td>HCM</td>\n",
       "      <td>A1</td>\n",
       "      <td>6.0</td>\n",
       "      <td>J</td>\n",
       "      <td>2021-01-13</td>\n",
       "    </tr>\n",
       "    <tr>\n",
       "      <th>9</th>\n",
       "      <td>HCM</td>\n",
       "      <td>J</td>\n",
       "      <td>A1</td>\n",
       "      <td>2021-01-13</td>\n",
       "      <td>2021-01-14</td>\n",
       "      <td>6</td>\n",
       "      <td>7</td>\n",
       "      <td>HCM</td>\n",
       "      <td>A1</td>\n",
       "      <td>7.0</td>\n",
       "      <td>K</td>\n",
       "      <td>2021-01-14</td>\n",
       "    </tr>\n",
       "    <tr>\n",
       "      <th>10</th>\n",
       "      <td>HCM</td>\n",
       "      <td>K</td>\n",
       "      <td>A1</td>\n",
       "      <td>2021-01-14</td>\n",
       "      <td>2021-01-20</td>\n",
       "      <td>7</td>\n",
       "      <td>8</td>\n",
       "      <td>HCM</td>\n",
       "      <td>A1</td>\n",
       "      <td>8.0</td>\n",
       "      <td>L</td>\n",
       "      <td>2021-01-20</td>\n",
       "    </tr>\n",
       "    <tr>\n",
       "      <th>11</th>\n",
       "      <td>HCM</td>\n",
       "      <td>L</td>\n",
       "      <td>A1</td>\n",
       "      <td>2021-01-20</td>\n",
       "      <td>2021-02-19</td>\n",
       "      <td>8</td>\n",
       "      <td>9</td>\n",
       "      <td>NaN</td>\n",
       "      <td>NaN</td>\n",
       "      <td>NaN</td>\n",
       "      <td>NaN</td>\n",
       "      <td>2021-02-19</td>\n",
       "    </tr>\n",
       "  </tbody>\n",
       "</table>\n",
       "</div>"
      ],
      "text/plain": [
       "   BranchID OrderNbr CustID DateOfOrder    DueDate  cum_count  \\\n",
       "0       HCM        A     A1  2021-01-01 2021-01-02          0   \n",
       "1       HCM       A1     A1  2021-01-01 2021-01-02          0   \n",
       "2       HCM        B     A1  2021-01-02 2021-01-03          1   \n",
       "3       HCM        B     A1  2021-01-02 2021-01-03          1   \n",
       "4       HCM        C     A1  2021-01-03 2021-01-04          2   \n",
       "5       HCM       C1     A1  2021-01-03 2021-01-04          2   \n",
       "6       HCM        E     A1  2021-01-04 2021-01-05          3   \n",
       "7       HCM        F     A1  2021-01-05 2021-01-10          4   \n",
       "8       HCM        G     A1  2021-01-10 2021-01-13          5   \n",
       "9       HCM        J     A1  2021-01-13 2021-01-14          6   \n",
       "10      HCM        K     A1  2021-01-14 2021-01-20          7   \n",
       "11      HCM        L     A1  2021-01-20 2021-02-19          8   \n",
       "\n",
       "    cum_count_plus1 y_BranchID y_CustID  y_cum_count y_OrderNbr y_DateOfOrder  \n",
       "0                 1        HCM       A1          1.0          B    2021-01-02  \n",
       "1                 1        HCM       A1          1.0          B    2021-01-02  \n",
       "2                 2        HCM       A1          2.0          C    2021-01-03  \n",
       "3                 2        HCM       A1          2.0         C1    2021-01-03  \n",
       "4                 3        HCM       A1          3.0          E    2021-01-04  \n",
       "5                 3        HCM       A1          3.0          E    2021-01-04  \n",
       "6                 4        HCM       A1          4.0          F    2021-01-05  \n",
       "7                 5        HCM       A1          5.0          G    2021-01-10  \n",
       "8                 6        HCM       A1          6.0          J    2021-01-13  \n",
       "9                 7        HCM       A1          7.0          K    2021-01-14  \n",
       "10                8        HCM       A1          8.0          L    2021-01-20  \n",
       "11                9        NaN      NaN          NaN        NaN    2021-02-19  "
      ]
     },
     "execution_count": 13,
     "metadata": {},
     "output_type": "execute_result"
    }
   ],
   "source": [
    "df1a.head(100)"
   ]
  },
  {
   "cell_type": "code",
   "execution_count": 12,
   "metadata": {},
   "outputs": [],
   "source": [
    "arr2  = [1, 1, 2, 2, 3, 5,6, 9, 9, 10]"
   ]
  },
  {
   "cell_type": "code",
   "execution_count": 14,
   "metadata": {},
   "outputs": [
    {
     "name": "stdout",
     "output_type": "stream",
     "text": [
      "1 1 OK\n",
      "1 2 OK\n",
      "2 2 OK\n",
      "2 3 OK\n",
      "3 5 Not OK\n",
      "5 6 OK\n",
      "6 9 Not OK\n",
      "9 9 OK\n",
      "9 10 OK\n"
     ]
    }
   ],
   "source": [
    "for x,y in zip(arr2,arr2[1:]):\n",
    "    if x==y or y-x==1:\n",
    "        print(x, y, \"OK\")\n",
    "    else:\n",
    "        print(x, y, \"Not OK\")"
   ]
  },
  {
   "cell_type": "code",
   "execution_count": 55,
   "metadata": {},
   "outputs": [],
   "source": [
    "df = pd.read_excel('Grouping.xlsx')"
   ]
  },
  {
   "cell_type": "code",
   "execution_count": 49,
   "metadata": {},
   "outputs": [
    {
     "data": {
      "text/html": [
       "<div>\n",
       "<style scoped>\n",
       "    .dataframe tbody tr th:only-of-type {\n",
       "        vertical-align: middle;\n",
       "    }\n",
       "\n",
       "    .dataframe tbody tr th {\n",
       "        vertical-align: top;\n",
       "    }\n",
       "\n",
       "    .dataframe thead th {\n",
       "        text-align: right;\n",
       "    }\n",
       "</style>\n",
       "<table border=\"1\" class=\"dataframe\">\n",
       "  <thead>\n",
       "    <tr style=\"text-align: right;\">\n",
       "      <th></th>\n",
       "      <th>Brand</th>\n",
       "      <th>Date</th>\n",
       "    </tr>\n",
       "  </thead>\n",
       "  <tbody>\n",
       "    <tr>\n",
       "      <th>0</th>\n",
       "      <td>A</td>\n",
       "      <td>2021-01-01</td>\n",
       "    </tr>\n",
       "    <tr>\n",
       "      <th>1</th>\n",
       "      <td>A</td>\n",
       "      <td>2021-01-01</td>\n",
       "    </tr>\n",
       "    <tr>\n",
       "      <th>2</th>\n",
       "      <td>A</td>\n",
       "      <td>2021-01-02</td>\n",
       "    </tr>\n",
       "    <tr>\n",
       "      <th>3</th>\n",
       "      <td>A</td>\n",
       "      <td>2021-01-03</td>\n",
       "    </tr>\n",
       "    <tr>\n",
       "      <th>4</th>\n",
       "      <td>A</td>\n",
       "      <td>2021-01-04</td>\n",
       "    </tr>\n",
       "  </tbody>\n",
       "</table>\n",
       "</div>"
      ],
      "text/plain": [
       "  Brand       Date\n",
       "0     A 2021-01-01\n",
       "1     A 2021-01-01\n",
       "2     A 2021-01-02\n",
       "3     A 2021-01-03\n",
       "4     A 2021-01-04"
      ]
     },
     "execution_count": 49,
     "metadata": {},
     "output_type": "execute_result"
    }
   ],
   "source": [
    "df.head()"
   ]
  },
  {
   "cell_type": "code",
   "execution_count": 50,
   "metadata": {},
   "outputs": [],
   "source": [
    "df['Date'] = pd.to_datetime(df['Date'], dayfirst=True)"
   ]
  },
  {
   "cell_type": "code",
   "execution_count": 51,
   "metadata": {},
   "outputs": [
    {
     "data": {
      "text/html": [
       "<div>\n",
       "<style scoped>\n",
       "    .dataframe tbody tr th:only-of-type {\n",
       "        vertical-align: middle;\n",
       "    }\n",
       "\n",
       "    .dataframe tbody tr th {\n",
       "        vertical-align: top;\n",
       "    }\n",
       "\n",
       "    .dataframe thead th {\n",
       "        text-align: right;\n",
       "    }\n",
       "</style>\n",
       "<table border=\"1\" class=\"dataframe\">\n",
       "  <thead>\n",
       "    <tr style=\"text-align: right;\">\n",
       "      <th></th>\n",
       "      <th>Brand</th>\n",
       "      <th>Date</th>\n",
       "    </tr>\n",
       "  </thead>\n",
       "  <tbody>\n",
       "    <tr>\n",
       "      <th>0</th>\n",
       "      <td>A</td>\n",
       "      <td>2021-01-01</td>\n",
       "    </tr>\n",
       "    <tr>\n",
       "      <th>1</th>\n",
       "      <td>A</td>\n",
       "      <td>2021-01-01</td>\n",
       "    </tr>\n",
       "    <tr>\n",
       "      <th>2</th>\n",
       "      <td>A</td>\n",
       "      <td>2021-01-02</td>\n",
       "    </tr>\n",
       "    <tr>\n",
       "      <th>3</th>\n",
       "      <td>A</td>\n",
       "      <td>2021-01-03</td>\n",
       "    </tr>\n",
       "    <tr>\n",
       "      <th>4</th>\n",
       "      <td>A</td>\n",
       "      <td>2021-01-04</td>\n",
       "    </tr>\n",
       "    <tr>\n",
       "      <th>5</th>\n",
       "      <td>A</td>\n",
       "      <td>2021-01-05</td>\n",
       "    </tr>\n",
       "    <tr>\n",
       "      <th>6</th>\n",
       "      <td>A</td>\n",
       "      <td>2021-01-10</td>\n",
       "    </tr>\n",
       "    <tr>\n",
       "      <th>7</th>\n",
       "      <td>A</td>\n",
       "      <td>2021-01-13</td>\n",
       "    </tr>\n",
       "    <tr>\n",
       "      <th>8</th>\n",
       "      <td>A</td>\n",
       "      <td>2021-01-14</td>\n",
       "    </tr>\n",
       "    <tr>\n",
       "      <th>9</th>\n",
       "      <td>A</td>\n",
       "      <td>2021-01-20</td>\n",
       "    </tr>\n",
       "    <tr>\n",
       "      <th>10</th>\n",
       "      <td>B</td>\n",
       "      <td>2020-01-21</td>\n",
       "    </tr>\n",
       "    <tr>\n",
       "      <th>11</th>\n",
       "      <td>B</td>\n",
       "      <td>2020-01-22</td>\n",
       "    </tr>\n",
       "    <tr>\n",
       "      <th>12</th>\n",
       "      <td>B</td>\n",
       "      <td>2020-01-24</td>\n",
       "    </tr>\n",
       "    <tr>\n",
       "      <th>13</th>\n",
       "      <td>B</td>\n",
       "      <td>2020-01-27</td>\n",
       "    </tr>\n",
       "    <tr>\n",
       "      <th>14</th>\n",
       "      <td>B</td>\n",
       "      <td>2020-01-28</td>\n",
       "    </tr>\n",
       "  </tbody>\n",
       "</table>\n",
       "</div>"
      ],
      "text/plain": [
       "   Brand       Date\n",
       "0      A 2021-01-01\n",
       "1      A 2021-01-01\n",
       "2      A 2021-01-02\n",
       "3      A 2021-01-03\n",
       "4      A 2021-01-04\n",
       "5      A 2021-01-05\n",
       "6      A 2021-01-10\n",
       "7      A 2021-01-13\n",
       "8      A 2021-01-14\n",
       "9      A 2021-01-20\n",
       "10     B 2020-01-21\n",
       "11     B 2020-01-22\n",
       "12     B 2020-01-24\n",
       "13     B 2020-01-27\n",
       "14     B 2020-01-28"
      ]
     },
     "execution_count": 51,
     "metadata": {},
     "output_type": "execute_result"
    }
   ],
   "source": [
    "df"
   ]
  },
  {
   "cell_type": "code",
   "execution_count": 52,
   "metadata": {},
   "outputs": [],
   "source": [
    "df['group'] = df['Date'].diff().gt(pd.to_timedelta('1d'))"
   ]
  },
  {
   "cell_type": "code",
   "execution_count": 53,
   "metadata": {},
   "outputs": [
    {
     "data": {
      "text/plain": [
       "0     False\n",
       "1     False\n",
       "2     False\n",
       "3     False\n",
       "4     False\n",
       "5     False\n",
       "6      True\n",
       "7      True\n",
       "8     False\n",
       "9      True\n",
       "10    False\n",
       "11    False\n",
       "12     True\n",
       "13     True\n",
       "14    False\n",
       "Name: group, dtype: bool"
      ]
     },
     "execution_count": 53,
     "metadata": {},
     "output_type": "execute_result"
    }
   ],
   "source": [
    "df['group']"
   ]
  },
  {
   "cell_type": "code",
   "execution_count": 54,
   "metadata": {},
   "outputs": [
    {
     "data": {
      "text/plain": [
       "0     0\n",
       "1     0\n",
       "2     0\n",
       "3     0\n",
       "4     0\n",
       "5     0\n",
       "6     1\n",
       "7     2\n",
       "8     2\n",
       "9     3\n",
       "10    3\n",
       "11    3\n",
       "12    4\n",
       "13    5\n",
       "14    5\n",
       "Name: group, dtype: int32"
      ]
     },
     "execution_count": 54,
     "metadata": {},
     "output_type": "execute_result"
    }
   ],
   "source": [
    "df['group'].cumsum()"
   ]
  },
  {
   "cell_type": "code",
   "execution_count": null,
   "metadata": {},
   "outputs": [],
   "source": [
    "df.groupby(['YES']).cumcount()"
   ]
  },
  {
   "cell_type": "code",
   "execution_count": 35,
   "metadata": {},
   "outputs": [
    {
     "data": {
      "text/plain": [
       "0    0\n",
       "1    0\n",
       "2    0\n",
       "3    0\n",
       "4    0\n",
       "5    0\n",
       "6    1\n",
       "7    2\n",
       "8    2\n",
       "9    3\n",
       "Name: group, dtype: int32"
      ]
     },
     "execution_count": 35,
     "metadata": {},
     "output_type": "execute_result"
    }
   ],
   "source": [
    "df['group'].cumsum()"
   ]
  },
  {
   "cell_type": "code",
   "execution_count": 27,
   "metadata": {},
   "outputs": [],
   "source": [
    "df1 = pd.read_excel('Grouping1.xlsx')"
   ]
  },
  {
   "cell_type": "code",
   "execution_count": null,
   "metadata": {},
   "outputs": [],
   "source": [
    "df1['YES'].cumcount()"
   ]
  },
  {
   "cell_type": "code",
   "execution_count": 32,
   "metadata": {},
   "outputs": [
    {
     "data": {
      "text/plain": [
       "0    0\n",
       "1    1\n",
       "2    2\n",
       "3    3\n",
       "4    4\n",
       "5    5\n",
       "6    0\n",
       "7    6\n",
       "8    7\n",
       "9    1\n",
       "dtype: int64"
      ]
     },
     "execution_count": 32,
     "metadata": {},
     "output_type": "execute_result"
    }
   ],
   "source": [
    "df1.groupby(['YES']).cumcount()"
   ]
  },
  {
   "cell_type": "code",
   "execution_count": 38,
   "metadata": {},
   "outputs": [],
   "source": [
    "s = pd.Series([0, 0, 0, 1, 1,0])"
   ]
  },
  {
   "cell_type": "code",
   "execution_count": 39,
   "metadata": {},
   "outputs": [
    {
     "data": {
      "text/plain": [
       "0    0\n",
       "1    0\n",
       "2    0\n",
       "3    1\n",
       "4    2\n",
       "5    2\n",
       "dtype: int64"
      ]
     },
     "execution_count": 39,
     "metadata": {},
     "output_type": "execute_result"
    }
   ],
   "source": [
    "s.cumsum()"
   ]
  },
  {
   "cell_type": "code",
   "execution_count": 40,
   "metadata": {},
   "outputs": [],
   "source": [
    "s1 = pd.Series([False, False, False, True, True,False])"
   ]
  },
  {
   "cell_type": "code",
   "execution_count": 41,
   "metadata": {},
   "outputs": [
    {
     "data": {
      "text/plain": [
       "0    0\n",
       "1    0\n",
       "2    0\n",
       "3    1\n",
       "4    2\n",
       "5    2\n",
       "dtype: int32"
      ]
     },
     "execution_count": 41,
     "metadata": {},
     "output_type": "execute_result"
    }
   ],
   "source": [
    "s1.cumsum()"
   ]
  },
  {
   "cell_type": "code",
   "execution_count": 62,
   "metadata": {},
   "outputs": [],
   "source": [
    "gk = df.groupby('Brand')['Date']"
   ]
  },
  {
   "cell_type": "code",
   "execution_count": 74,
   "metadata": {},
   "outputs": [
    {
     "ename": "TypeError",
     "evalue": "'PrettyDict' object is not callable",
     "output_type": "error",
     "traceback": [
      "\u001b[1;31m---------------------------------------------------------------------------\u001b[0m",
      "\u001b[1;31mTypeError\u001b[0m                                 Traceback (most recent call last)",
      "\u001b[1;32m~\\AppData\\Local\\Temp/ipykernel_20284/4002925856.py\u001b[0m in \u001b[0;36m<module>\u001b[1;34m\u001b[0m\n\u001b[1;32m----> 1\u001b[1;33m \u001b[0mgk\u001b[0m\u001b[1;33m.\u001b[0m\u001b[0mgroups\u001b[0m\u001b[1;33m(\u001b[0m\u001b[1;33m)\u001b[0m\u001b[1;33m\u001b[0m\u001b[1;33m\u001b[0m\u001b[0m\n\u001b[0m",
      "\u001b[1;31mTypeError\u001b[0m: 'PrettyDict' object is not callable"
     ]
    }
   ],
   "source": [
    "gk.groups()"
   ]
  },
  {
   "cell_type": "code",
   "execution_count": 3,
   "metadata": {},
   "outputs": [],
   "source": [
    "df = pd.DataFrame({'A' : ['foo', 'bar', 'foo', 'bar',\n",
    "                          'foo', 'bar'],\n",
    "                   'B' : ['one', 'one', 'two', 'three',\n",
    "                          'two', 'two'],\n",
    "                   'C' : [1, 5, 5, 2, 5, 5],\n",
    "                   'D' : [2.0, 5., 8., 1., 2., 9.]})"
   ]
  },
  {
   "cell_type": "code",
   "execution_count": 9,
   "metadata": {},
   "outputs": [
    {
     "data": {
      "text/html": [
       "<div>\n",
       "<style scoped>\n",
       "    .dataframe tbody tr th:only-of-type {\n",
       "        vertical-align: middle;\n",
       "    }\n",
       "\n",
       "    .dataframe tbody tr th {\n",
       "        vertical-align: top;\n",
       "    }\n",
       "\n",
       "    .dataframe thead th {\n",
       "        text-align: right;\n",
       "    }\n",
       "</style>\n",
       "<table border=\"1\" class=\"dataframe\">\n",
       "  <thead>\n",
       "    <tr style=\"text-align: right;\">\n",
       "      <th></th>\n",
       "      <th>A</th>\n",
       "      <th>B</th>\n",
       "      <th>C</th>\n",
       "      <th>D</th>\n",
       "    </tr>\n",
       "  </thead>\n",
       "  <tbody>\n",
       "    <tr>\n",
       "      <th>0</th>\n",
       "      <td>foo</td>\n",
       "      <td>one</td>\n",
       "      <td>1</td>\n",
       "      <td>2.0</td>\n",
       "    </tr>\n",
       "    <tr>\n",
       "      <th>1</th>\n",
       "      <td>bar</td>\n",
       "      <td>one</td>\n",
       "      <td>5</td>\n",
       "      <td>5.0</td>\n",
       "    </tr>\n",
       "    <tr>\n",
       "      <th>2</th>\n",
       "      <td>foo</td>\n",
       "      <td>two</td>\n",
       "      <td>5</td>\n",
       "      <td>8.0</td>\n",
       "    </tr>\n",
       "    <tr>\n",
       "      <th>3</th>\n",
       "      <td>bar</td>\n",
       "      <td>three</td>\n",
       "      <td>2</td>\n",
       "      <td>1.0</td>\n",
       "    </tr>\n",
       "    <tr>\n",
       "      <th>4</th>\n",
       "      <td>foo</td>\n",
       "      <td>two</td>\n",
       "      <td>5</td>\n",
       "      <td>2.0</td>\n",
       "    </tr>\n",
       "    <tr>\n",
       "      <th>5</th>\n",
       "      <td>bar</td>\n",
       "      <td>two</td>\n",
       "      <td>5</td>\n",
       "      <td>9.0</td>\n",
       "    </tr>\n",
       "  </tbody>\n",
       "</table>\n",
       "</div>"
      ],
      "text/plain": [
       "     A      B  C    D\n",
       "0  foo    one  1  2.0\n",
       "1  bar    one  5  5.0\n",
       "2  foo    two  5  8.0\n",
       "3  bar  three  2  1.0\n",
       "4  foo    two  5  2.0\n",
       "5  bar    two  5  9.0"
      ]
     },
     "execution_count": 9,
     "metadata": {},
     "output_type": "execute_result"
    }
   ],
   "source": [
    "df"
   ]
  },
  {
   "cell_type": "code",
   "execution_count": 4,
   "metadata": {},
   "outputs": [],
   "source": [
    "gb=df.groupby(['A','B'])"
   ]
  },
  {
   "cell_type": "code",
   "execution_count": 8,
   "metadata": {},
   "outputs": [
    {
     "name": "stdout",
     "output_type": "stream",
     "text": [
      "('bar', 'one')\n",
      "     A    B  C    D\n",
      "1  bar  one  5  5.0\n",
      "('bar', 'three')\n",
      "     A      B  C    D\n",
      "3  bar  three  2  1.0\n",
      "('bar', 'two')\n",
      "     A    B  C    D\n",
      "5  bar  two  5  9.0\n",
      "('foo', 'one')\n",
      "     A    B  C    D\n",
      "0  foo  one  1  2.0\n",
      "('foo', 'two')\n",
      "     A    B  C    D\n",
      "2  foo  two  5  8.0\n",
      "4  foo  two  5  2.0\n"
     ]
    }
   ],
   "source": [
    "for A, A_df in gb:\n",
    "    print(A)\n",
    "    print(A_df)"
   ]
  },
  {
   "cell_type": "code",
   "execution_count": 112,
   "metadata": {},
   "outputs": [],
   "source": [
    "df['no_csum'] = df.groupby(['A'])['C'].cumsum()"
   ]
  },
  {
   "cell_type": "code",
   "execution_count": 113,
   "metadata": {},
   "outputs": [
    {
     "data": {
      "text/html": [
       "<div>\n",
       "<style scoped>\n",
       "    .dataframe tbody tr th:only-of-type {\n",
       "        vertical-align: middle;\n",
       "    }\n",
       "\n",
       "    .dataframe tbody tr th {\n",
       "        vertical-align: top;\n",
       "    }\n",
       "\n",
       "    .dataframe thead th {\n",
       "        text-align: right;\n",
       "    }\n",
       "</style>\n",
       "<table border=\"1\" class=\"dataframe\">\n",
       "  <thead>\n",
       "    <tr style=\"text-align: right;\">\n",
       "      <th></th>\n",
       "      <th>A</th>\n",
       "      <th>B</th>\n",
       "      <th>C</th>\n",
       "      <th>D</th>\n",
       "      <th>no_csum</th>\n",
       "    </tr>\n",
       "  </thead>\n",
       "  <tbody>\n",
       "    <tr>\n",
       "      <th>0</th>\n",
       "      <td>foo</td>\n",
       "      <td>one</td>\n",
       "      <td>1</td>\n",
       "      <td>2.0</td>\n",
       "      <td>1</td>\n",
       "    </tr>\n",
       "    <tr>\n",
       "      <th>1</th>\n",
       "      <td>bar</td>\n",
       "      <td>one</td>\n",
       "      <td>5</td>\n",
       "      <td>5.0</td>\n",
       "      <td>5</td>\n",
       "    </tr>\n",
       "    <tr>\n",
       "      <th>2</th>\n",
       "      <td>foo</td>\n",
       "      <td>two</td>\n",
       "      <td>5</td>\n",
       "      <td>8.0</td>\n",
       "      <td>6</td>\n",
       "    </tr>\n",
       "    <tr>\n",
       "      <th>3</th>\n",
       "      <td>bar</td>\n",
       "      <td>three</td>\n",
       "      <td>2</td>\n",
       "      <td>1.0</td>\n",
       "      <td>7</td>\n",
       "    </tr>\n",
       "    <tr>\n",
       "      <th>4</th>\n",
       "      <td>foo</td>\n",
       "      <td>two</td>\n",
       "      <td>5</td>\n",
       "      <td>2.0</td>\n",
       "      <td>11</td>\n",
       "    </tr>\n",
       "    <tr>\n",
       "      <th>5</th>\n",
       "      <td>bar</td>\n",
       "      <td>two</td>\n",
       "      <td>5</td>\n",
       "      <td>9.0</td>\n",
       "      <td>12</td>\n",
       "    </tr>\n",
       "  </tbody>\n",
       "</table>\n",
       "</div>"
      ],
      "text/plain": [
       "     A      B  C    D  no_csum\n",
       "0  foo    one  1  2.0        1\n",
       "1  bar    one  5  5.0        5\n",
       "2  foo    two  5  8.0        6\n",
       "3  bar  three  2  1.0        7\n",
       "4  foo    two  5  2.0       11\n",
       "5  bar    two  5  9.0       12"
      ]
     },
     "execution_count": 113,
     "metadata": {},
     "output_type": "execute_result"
    }
   ],
   "source": [
    "df"
   ]
  },
  {
   "cell_type": "code",
   "execution_count": 109,
   "metadata": {},
   "outputs": [],
   "source": [
    "gb = df.groupby(['A'], as_index=False)"
   ]
  },
  {
   "cell_type": "code",
   "execution_count": 110,
   "metadata": {},
   "outputs": [
    {
     "data": {
      "text/html": [
       "<div>\n",
       "<style scoped>\n",
       "    .dataframe tbody tr th:only-of-type {\n",
       "        vertical-align: middle;\n",
       "    }\n",
       "\n",
       "    .dataframe tbody tr th {\n",
       "        vertical-align: top;\n",
       "    }\n",
       "\n",
       "    .dataframe thead th {\n",
       "        text-align: right;\n",
       "    }\n",
       "</style>\n",
       "<table border=\"1\" class=\"dataframe\">\n",
       "  <thead>\n",
       "    <tr style=\"text-align: right;\">\n",
       "      <th></th>\n",
       "      <th>C</th>\n",
       "    </tr>\n",
       "  </thead>\n",
       "  <tbody>\n",
       "    <tr>\n",
       "      <th>0</th>\n",
       "      <td>1</td>\n",
       "    </tr>\n",
       "    <tr>\n",
       "      <th>1</th>\n",
       "      <td>5</td>\n",
       "    </tr>\n",
       "    <tr>\n",
       "      <th>2</th>\n",
       "      <td>6</td>\n",
       "    </tr>\n",
       "    <tr>\n",
       "      <th>3</th>\n",
       "      <td>7</td>\n",
       "    </tr>\n",
       "    <tr>\n",
       "      <th>4</th>\n",
       "      <td>11</td>\n",
       "    </tr>\n",
       "    <tr>\n",
       "      <th>5</th>\n",
       "      <td>12</td>\n",
       "    </tr>\n",
       "  </tbody>\n",
       "</table>\n",
       "</div>"
      ],
      "text/plain": [
       "    C\n",
       "0   1\n",
       "1   5\n",
       "2   6\n",
       "3   7\n",
       "4  11\n",
       "5  12"
      ]
     },
     "execution_count": 110,
     "metadata": {},
     "output_type": "execute_result"
    }
   ],
   "source": [
    "gb['C'].cumsum()"
   ]
  },
  {
   "cell_type": "code",
   "execution_count": 82,
   "metadata": {},
   "outputs": [
    {
     "data": {
      "text/plain": [
       "A\n",
       "bar    5\n",
       "foo    1\n",
       "Name: C, dtype: int64"
      ]
     },
     "execution_count": 82,
     "metadata": {},
     "output_type": "execute_result"
    }
   ],
   "source": [
    "gb['C'].first()"
   ]
  },
  {
   "cell_type": "code",
   "execution_count": 97,
   "metadata": {},
   "outputs": [
    {
     "data": {
      "text/plain": [
       "1     5\n",
       "3     7\n",
       "5    12\n",
       "Name: C, dtype: int64"
      ]
     },
     "execution_count": 97,
     "metadata": {},
     "output_type": "execute_result"
    }
   ],
   "source": [
    "gb['C'].get_group(name='bar').cumsum()"
   ]
  },
  {
   "cell_type": "code",
   "execution_count": 99,
   "metadata": {},
   "outputs": [
    {
     "data": {
      "text/plain": [
       "dict_keys(['bar', 'foo'])"
      ]
     },
     "execution_count": 99,
     "metadata": {},
     "output_type": "execute_result"
    }
   ],
   "source": [
    "gb.groups.keys()"
   ]
  },
  {
   "cell_type": "code",
   "execution_count": 40,
   "metadata": {},
   "outputs": [],
   "source": [
    "df1a = pd.read_excel('ngaydenhan.xlsx')\n",
    "df1a['group'] = df1a.groupby(['BranchID','CustID'])['DateOfOrder'].diff().gt(pd.to_timedelta('1d'))\n",
    "df1a['group'] = df1a.groupby(['BranchID','CustID'])['group'].cumsum()\n",
    "df1a2 = df1a.groupby(['BranchID','CustID', 'group'], as_index=False).agg({'DateOfOrder': np.max})\n",
    "df1a = df1a.merge(df1a2, how = 'left', on=['BranchID','CustID','group'], suffixes=('_ori', ''), validate=\"m:1\")\n",
    "drop_cols(df1a, ['group'])\n",
    "del(df1a2)"
   ]
  },
  {
   "cell_type": "code",
   "execution_count": 55,
   "metadata": {},
   "outputs": [],
   "source": [
    "df['DueDate'] = df.DateOfOrder+timedelta(30)\n",
    "df1a=df.copy()"
   ]
  },
  {
   "cell_type": "code",
   "execution_count": 56,
   "metadata": {},
   "outputs": [],
   "source": [
    "df1b = df1a[['BranchID','CustID', 'DateOfOrder']].copy()\n",
    "df1b.drop_duplicates(keep='first', inplace=True)\n",
    "df1b['cum_count'] = df1b.groupby(['BranchID','CustID']).cumcount()\n",
    "df1a = df1a.merge(df1b, how='left', on=['BranchID','CustID', 'DateOfOrder'])\n",
    "df1a['cum_count_plus1'] = df1a['cum_count']+1\n",
    "df1b = df1a[['BranchID', 'CustID', 'cum_count', 'DateOfOrder']].drop_duplicates(keep='first')\n",
    "df1a = df1a.merge(df1b.add_prefix('y_'), how='left', left_on=['BranchID', 'CustID', 'cum_count_plus1'], right_on=['y_BranchID','y_CustID','y_cum_count'])\n",
    "df1a.y_DateOfOrder.fillna(df1a.DueDate, inplace=True)\n",
    "df1a.DueDate = np.where(df1a.DueDate>df1a.y_DateOfOrder, df1a.y_DateOfOrder, df1a.DueDate)"
   ]
  },
  {
   "cell_type": "code",
   "execution_count": 58,
   "metadata": {},
   "outputs": [],
   "source": [
    "drop_cols(df1a, ['DateOfOrder'])\n",
    "df1a.rename(columns={\"DateOfOrder_ori\": \"DateOfOrder\"}, inplace=True)"
   ]
  },
  {
   "cell_type": "code",
   "execution_count": 60,
   "metadata": {},
   "outputs": [
    {
     "data": {
      "text/html": [
       "<div>\n",
       "<style scoped>\n",
       "    .dataframe tbody tr th:only-of-type {\n",
       "        vertical-align: middle;\n",
       "    }\n",
       "\n",
       "    .dataframe tbody tr th {\n",
       "        vertical-align: top;\n",
       "    }\n",
       "\n",
       "    .dataframe thead th {\n",
       "        text-align: right;\n",
       "    }\n",
       "</style>\n",
       "<table border=\"1\" class=\"dataframe\">\n",
       "  <thead>\n",
       "    <tr style=\"text-align: right;\">\n",
       "      <th></th>\n",
       "      <th>BranchID</th>\n",
       "      <th>CustID</th>\n",
       "      <th>DateOfOrder</th>\n",
       "      <th>DueDate</th>\n",
       "      <th>cum_count</th>\n",
       "      <th>cum_count_plus1</th>\n",
       "      <th>y_BranchID</th>\n",
       "      <th>y_CustID</th>\n",
       "      <th>y_cum_count</th>\n",
       "      <th>y_DateOfOrder</th>\n",
       "    </tr>\n",
       "  </thead>\n",
       "  <tbody>\n",
       "    <tr>\n",
       "      <th>0</th>\n",
       "      <td>CN1</td>\n",
       "      <td>A1</td>\n",
       "      <td>2021-01-01</td>\n",
       "      <td>2021-01-10</td>\n",
       "      <td>0</td>\n",
       "      <td>1</td>\n",
       "      <td>CN1</td>\n",
       "      <td>A1</td>\n",
       "      <td>1.0</td>\n",
       "      <td>2021-01-10</td>\n",
       "    </tr>\n",
       "    <tr>\n",
       "      <th>1</th>\n",
       "      <td>CN1</td>\n",
       "      <td>A1</td>\n",
       "      <td>2021-01-01</td>\n",
       "      <td>2021-01-10</td>\n",
       "      <td>0</td>\n",
       "      <td>1</td>\n",
       "      <td>CN1</td>\n",
       "      <td>A1</td>\n",
       "      <td>1.0</td>\n",
       "      <td>2021-01-10</td>\n",
       "    </tr>\n",
       "    <tr>\n",
       "      <th>2</th>\n",
       "      <td>CN1</td>\n",
       "      <td>A1</td>\n",
       "      <td>2021-01-02</td>\n",
       "      <td>2021-01-10</td>\n",
       "      <td>0</td>\n",
       "      <td>1</td>\n",
       "      <td>CN1</td>\n",
       "      <td>A1</td>\n",
       "      <td>1.0</td>\n",
       "      <td>2021-01-10</td>\n",
       "    </tr>\n",
       "    <tr>\n",
       "      <th>3</th>\n",
       "      <td>CN1</td>\n",
       "      <td>A1</td>\n",
       "      <td>2021-01-03</td>\n",
       "      <td>2021-01-10</td>\n",
       "      <td>0</td>\n",
       "      <td>1</td>\n",
       "      <td>CN1</td>\n",
       "      <td>A1</td>\n",
       "      <td>1.0</td>\n",
       "      <td>2021-01-10</td>\n",
       "    </tr>\n",
       "    <tr>\n",
       "      <th>4</th>\n",
       "      <td>CN1</td>\n",
       "      <td>A1</td>\n",
       "      <td>2021-01-04</td>\n",
       "      <td>2021-01-10</td>\n",
       "      <td>0</td>\n",
       "      <td>1</td>\n",
       "      <td>CN1</td>\n",
       "      <td>A1</td>\n",
       "      <td>1.0</td>\n",
       "      <td>2021-01-10</td>\n",
       "    </tr>\n",
       "    <tr>\n",
       "      <th>5</th>\n",
       "      <td>CN1</td>\n",
       "      <td>A1</td>\n",
       "      <td>2021-01-05</td>\n",
       "      <td>2021-01-10</td>\n",
       "      <td>0</td>\n",
       "      <td>1</td>\n",
       "      <td>CN1</td>\n",
       "      <td>A1</td>\n",
       "      <td>1.0</td>\n",
       "      <td>2021-01-10</td>\n",
       "    </tr>\n",
       "    <tr>\n",
       "      <th>6</th>\n",
       "      <td>CN1</td>\n",
       "      <td>A1</td>\n",
       "      <td>2021-01-10</td>\n",
       "      <td>2021-01-14</td>\n",
       "      <td>1</td>\n",
       "      <td>2</td>\n",
       "      <td>CN1</td>\n",
       "      <td>A1</td>\n",
       "      <td>2.0</td>\n",
       "      <td>2021-01-14</td>\n",
       "    </tr>\n",
       "    <tr>\n",
       "      <th>7</th>\n",
       "      <td>CN1</td>\n",
       "      <td>A1</td>\n",
       "      <td>2021-01-13</td>\n",
       "      <td>2021-01-20</td>\n",
       "      <td>2</td>\n",
       "      <td>3</td>\n",
       "      <td>CN1</td>\n",
       "      <td>A1</td>\n",
       "      <td>3.0</td>\n",
       "      <td>2021-01-20</td>\n",
       "    </tr>\n",
       "    <tr>\n",
       "      <th>8</th>\n",
       "      <td>CN1</td>\n",
       "      <td>A1</td>\n",
       "      <td>2021-01-14</td>\n",
       "      <td>2021-01-20</td>\n",
       "      <td>2</td>\n",
       "      <td>3</td>\n",
       "      <td>CN1</td>\n",
       "      <td>A1</td>\n",
       "      <td>3.0</td>\n",
       "      <td>2021-01-20</td>\n",
       "    </tr>\n",
       "    <tr>\n",
       "      <th>9</th>\n",
       "      <td>CN1</td>\n",
       "      <td>A1</td>\n",
       "      <td>2021-01-20</td>\n",
       "      <td>2021-02-19</td>\n",
       "      <td>3</td>\n",
       "      <td>4</td>\n",
       "      <td>NaN</td>\n",
       "      <td>NaN</td>\n",
       "      <td>NaN</td>\n",
       "      <td>2021-02-19</td>\n",
       "    </tr>\n",
       "    <tr>\n",
       "      <th>10</th>\n",
       "      <td>CN2</td>\n",
       "      <td>B1</td>\n",
       "      <td>2021-01-01</td>\n",
       "      <td>2021-01-10</td>\n",
       "      <td>0</td>\n",
       "      <td>1</td>\n",
       "      <td>CN2</td>\n",
       "      <td>B1</td>\n",
       "      <td>1.0</td>\n",
       "      <td>2021-01-10</td>\n",
       "    </tr>\n",
       "    <tr>\n",
       "      <th>11</th>\n",
       "      <td>CN2</td>\n",
       "      <td>B1</td>\n",
       "      <td>2021-01-01</td>\n",
       "      <td>2021-01-10</td>\n",
       "      <td>0</td>\n",
       "      <td>1</td>\n",
       "      <td>CN2</td>\n",
       "      <td>B1</td>\n",
       "      <td>1.0</td>\n",
       "      <td>2021-01-10</td>\n",
       "    </tr>\n",
       "    <tr>\n",
       "      <th>12</th>\n",
       "      <td>CN2</td>\n",
       "      <td>B1</td>\n",
       "      <td>2021-01-02</td>\n",
       "      <td>2021-01-10</td>\n",
       "      <td>0</td>\n",
       "      <td>1</td>\n",
       "      <td>CN2</td>\n",
       "      <td>B1</td>\n",
       "      <td>1.0</td>\n",
       "      <td>2021-01-10</td>\n",
       "    </tr>\n",
       "    <tr>\n",
       "      <th>13</th>\n",
       "      <td>CN2</td>\n",
       "      <td>B1</td>\n",
       "      <td>2021-01-10</td>\n",
       "      <td>2021-02-09</td>\n",
       "      <td>1</td>\n",
       "      <td>2</td>\n",
       "      <td>NaN</td>\n",
       "      <td>NaN</td>\n",
       "      <td>NaN</td>\n",
       "      <td>2021-02-09</td>\n",
       "    </tr>\n",
       "    <tr>\n",
       "      <th>14</th>\n",
       "      <td>CN2</td>\n",
       "      <td>B1</td>\n",
       "      <td>2021-01-10</td>\n",
       "      <td>2021-02-09</td>\n",
       "      <td>1</td>\n",
       "      <td>2</td>\n",
       "      <td>NaN</td>\n",
       "      <td>NaN</td>\n",
       "      <td>NaN</td>\n",
       "      <td>2021-02-09</td>\n",
       "    </tr>\n",
       "  </tbody>\n",
       "</table>\n",
       "</div>"
      ],
      "text/plain": [
       "   BranchID CustID DateOfOrder    DueDate  cum_count  cum_count_plus1  \\\n",
       "0       CN1     A1  2021-01-01 2021-01-10          0                1   \n",
       "1       CN1     A1  2021-01-01 2021-01-10          0                1   \n",
       "2       CN1     A1  2021-01-02 2021-01-10          0                1   \n",
       "3       CN1     A1  2021-01-03 2021-01-10          0                1   \n",
       "4       CN1     A1  2021-01-04 2021-01-10          0                1   \n",
       "5       CN1     A1  2021-01-05 2021-01-10          0                1   \n",
       "6       CN1     A1  2021-01-10 2021-01-14          1                2   \n",
       "7       CN1     A1  2021-01-13 2021-01-20          2                3   \n",
       "8       CN1     A1  2021-01-14 2021-01-20          2                3   \n",
       "9       CN1     A1  2021-01-20 2021-02-19          3                4   \n",
       "10      CN2     B1  2021-01-01 2021-01-10          0                1   \n",
       "11      CN2     B1  2021-01-01 2021-01-10          0                1   \n",
       "12      CN2     B1  2021-01-02 2021-01-10          0                1   \n",
       "13      CN2     B1  2021-01-10 2021-02-09          1                2   \n",
       "14      CN2     B1  2021-01-10 2021-02-09          1                2   \n",
       "\n",
       "   y_BranchID y_CustID  y_cum_count y_DateOfOrder  \n",
       "0         CN1       A1          1.0    2021-01-10  \n",
       "1         CN1       A1          1.0    2021-01-10  \n",
       "2         CN1       A1          1.0    2021-01-10  \n",
       "3         CN1       A1          1.0    2021-01-10  \n",
       "4         CN1       A1          1.0    2021-01-10  \n",
       "5         CN1       A1          1.0    2021-01-10  \n",
       "6         CN1       A1          2.0    2021-01-14  \n",
       "7         CN1       A1          3.0    2021-01-20  \n",
       "8         CN1       A1          3.0    2021-01-20  \n",
       "9         NaN      NaN          NaN    2021-02-19  \n",
       "10        CN2       B1          1.0    2021-01-10  \n",
       "11        CN2       B1          1.0    2021-01-10  \n",
       "12        CN2       B1          1.0    2021-01-10  \n",
       "13        NaN      NaN          NaN    2021-02-09  \n",
       "14        NaN      NaN          NaN    2021-02-09  "
      ]
     },
     "execution_count": 60,
     "metadata": {},
     "output_type": "execute_result"
    }
   ],
   "source": [
    "df1a"
   ]
  },
  {
   "cell_type": "code",
   "execution_count": null,
   "metadata": {},
   "outputs": [],
   "source": []
  }
 ],
 "metadata": {
  "interpreter": {
   "hash": "f94d6dad5013d632e8b52fc362848c71d5234e1d7ba23afa22c3a2e55512dabd"
  },
  "kernelspec": {
   "display_name": "Python 3.9.6 64-bit ('venv': venv)",
   "language": "python",
   "name": "python3"
  },
  "language_info": {
   "codemirror_mode": {
    "name": "ipython",
    "version": 3
   },
   "file_extension": ".py",
   "mimetype": "text/x-python",
   "name": "python",
   "nbconvert_exporter": "python",
   "pygments_lexer": "ipython3",
   "version": "3.9.6"
  },
  "orig_nbformat": 4
 },
 "nbformat": 4,
 "nbformat_minor": 2
}
