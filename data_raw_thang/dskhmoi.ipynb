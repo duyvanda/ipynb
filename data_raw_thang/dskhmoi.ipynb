{
 "cells": [
  {
   "cell_type": "code",
   "execution_count": 2,
   "metadata": {},
   "outputs": [
    {
     "name": "stdout",
     "output_type": "stream",
     "text": [
      "Default bq project:  spatial-vision-343005.biteam\n"
     ]
    }
   ],
   "source": [
    "from utils.df_handle import *"
   ]
  },
  {
   "cell_type": "code",
   "execution_count": 6,
   "metadata": {},
   "outputs": [],
   "source": [
    "day_ago = 6\n",
    "datenow = datetime.now().strftime(\"%Y-%m-%d\")\n",
    "datenow_day_ago = ( datetime.now()-timedelta(day_ago) ).strftime(\"%Y-%m-%d\")\n",
    "# param_1 = f\"'{datenow_day_ago}'\"\n",
    "param_2 = f'2022-02-01'\n",
    "param_3 = f\"'{datenow}'\"\n",
    "# param_4 = f\"'20211109'\""
   ]
  },
  {
   "cell_type": "code",
   "execution_count": 7,
   "metadata": {},
   "outputs": [],
   "source": [
    "query = f\"EXEC [PR_AR_PDACustNew_BI] @Fromdate='{param_2}', @Todate={param_3}\""
   ]
  },
  {
   "cell_type": "code",
   "execution_count": 8,
   "metadata": {},
   "outputs": [],
   "source": [
    "df = get_ms_df(sql=query)"
   ]
  },
  {
   "cell_type": "code",
   "execution_count": 11,
   "metadata": {},
   "outputs": [],
   "source": [
    "df.columns = lower_col(df)\n",
    "df.columns = cleancols(df)"
   ]
  },
  {
   "cell_type": "code",
   "execution_count": 16,
   "metadata": {},
   "outputs": [
    {
     "data": {
      "text/plain": [
       "Index(['startdate', 'enddate', 'branchid', 'branchname', 'custid',\n",
       "       'pdacustcode', 'custname', 'phone', 'slsperid', 'slsname', 'route',\n",
       "       'address', 'status', 'createdate', 'approvedate', 'logcomid',\n",
       "       'logcomname', 'logcomaddr', 'logcomtel', 'supid', 'firstname',\n",
       "       'classid', 'classname', 'email', 'fax', 'crtd_datetime', 'crtd_user'],\n",
       "      dtype='object')"
      ]
     },
     "execution_count": 16,
     "metadata": {},
     "output_type": "execute_result"
    }
   ],
   "source": [
    "df.columns"
   ]
  },
  {
   "cell_type": "code",
   "execution_count": 17,
   "metadata": {},
   "outputs": [],
   "source": [
    "df = df[['slsperid','custid','status','createdate','approvedate','crtd_user']].copy()"
   ]
  },
  {
   "cell_type": "code",
   "execution_count": 19,
   "metadata": {},
   "outputs": [],
   "source": [
    "df.columns = ['slsperid', 'custid', 'status', 'crtd_date', 'approve_date','crtd_user']"
   ]
  },
  {
   "cell_type": "code",
   "execution_count": 23,
   "metadata": {},
   "outputs": [],
   "source": [
    "df = df[df.approve_date.notna()].copy()"
   ]
  },
  {
   "cell_type": "code",
   "execution_count": 24,
   "metadata": {},
   "outputs": [],
   "source": [
    "bq_values_insert(df, \"d_manual_dskhmoi\", 3)"
   ]
  },
  {
   "cell_type": "code",
   "execution_count": null,
   "metadata": {},
   "outputs": [],
   "source": [
    "# PR_AR_PDACustNew_BI @FromDate date, @Todate date"
   ]
  },
  {
   "cell_type": "code",
   "execution_count": 5,
   "metadata": {},
   "outputs": [],
   "source": [
    "# excel = pd.read_excel(\"dskhmoi.xlsx\", dtype={'custid':'str'})"
   ]
  },
  {
   "cell_type": "code",
   "execution_count": 6,
   "metadata": {},
   "outputs": [],
   "source": [
    "# excel.head()"
   ]
  },
  {
   "cell_type": "code",
   "execution_count": 7,
   "metadata": {},
   "outputs": [],
   "source": [
    "# excel.crtd_date = pd.to_datetime(excel.crtd_date)\n",
    "# excel.approve_date = pd.to_datetime(excel.approve_date)"
   ]
  },
  {
   "cell_type": "code",
   "execution_count": 8,
   "metadata": {},
   "outputs": [],
   "source": [
    "bq_values_insert(excel , \"d_manual_dskhmoi\", 3)"
   ]
  },
  {
   "cell_type": "code",
   "execution_count": null,
   "metadata": {},
   "outputs": [],
   "source": []
  }
 ],
 "metadata": {
  "kernelspec": {
   "display_name": "Python 3.8.10 ('venv': venv)",
   "language": "python",
   "name": "python3"
  },
  "language_info": {
   "codemirror_mode": {
    "name": "ipython",
    "version": 3
   },
   "file_extension": ".py",
   "mimetype": "text/x-python",
   "name": "python",
   "nbconvert_exporter": "python",
   "pygments_lexer": "ipython3",
   "version": "3.8.10"
  },
  "orig_nbformat": 4,
  "vscode": {
   "interpreter": {
    "hash": "8fb55849e6741974ce442ee684e971e1b6b22c29ca2b25c3b9069bf531e0354a"
   }
  }
 },
 "nbformat": 4,
 "nbformat_minor": 2
}
