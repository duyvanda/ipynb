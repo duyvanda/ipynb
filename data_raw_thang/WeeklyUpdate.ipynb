{
 "cells": [
  {
   "cell_type": "code",
   "execution_count": 2,
   "metadata": {},
   "outputs": [],
   "source": [
    "# import os, pyodbc, time, unidecode\n",
    "from utils.df_handle import *"
   ]
  },
  {
   "cell_type": "code",
   "execution_count": 3,
   "metadata": {},
   "outputs": [],
   "source": [
    "# day_ago = 2\n",
    "datenow = datetime.now().strftime(\"%Y%m%d\")\n",
    "# datenow_day_ago = ( datetime.now()-timedelta(day_ago) ).strftime(\"%Y%m%d\")\n",
    "# param_1 = f\"'{datenow_day_ago}'\"\n",
    "param_2 = f\"'20210901'\"\n",
    "param_3 = f\"'{datenow}'\"\n",
    "param_4 = f\"'20211109'\"\n"
   ]
  },
  {
   "cell_type": "code",
   "execution_count": 4,
   "metadata": {},
   "outputs": [],
   "source": [
    "query = f\"EXEC [pr_OM_RawdataSellOutPayroll_BI_v1] @Fromdate={param_3}, @Todate={param_3}\""
   ]
  },
  {
   "cell_type": "code",
   "execution_count": 5,
   "metadata": {},
   "outputs": [],
   "source": [
    "FINAL = get_ms_df(sql=query)"
   ]
  },
  {
   "cell_type": "code",
   "execution_count": 16,
   "metadata": {},
   "outputs": [
    {
     "data": {
      "text/plain": [
       "True"
      ]
     },
     "execution_count": 16,
     "metadata": {},
     "output_type": "execute_result"
    }
   ],
   "source": [
    "if FINAL.shape[0] != 0:\n",
    "    print('do it')\n",
    "else:\n",
    "    print('not do it')\n"
   ]
  },
  {
   "cell_type": "code",
   "execution_count": 30,
   "metadata": {},
   "outputs": [],
   "source": [
    "# df1['Nhãn Hàng'].to_clipboard()"
   ]
  },
  {
   "cell_type": "code",
   "execution_count": 31,
   "metadata": {},
   "outputs": [],
   "source": [
    "# FINAL.columns = cleancols(FINAL)"
   ]
  },
  {
   "cell_type": "code",
   "execution_count": 32,
   "metadata": {},
   "outputs": [],
   "source": [
    "# FINAL.columns"
   ]
  },
  {
   "cell_type": "code",
   "execution_count": 33,
   "metadata": {},
   "outputs": [],
   "source": [
    "# get_ps_df(\"select masanpham, nhomsp from d_nhom_sp where nhomsp='PHA NAM'\")"
   ]
  },
  {
   "cell_type": "code",
   "execution_count": 12,
   "metadata": {},
   "outputs": [
    {
     "data": {
      "text/plain": [
       "0"
      ]
     },
     "execution_count": 12,
     "metadata": {},
     "output_type": "execute_result"
    }
   ],
   "source": [
    "# FINAL.NgayChungTu.shape[0]"
   ]
  },
  {
   "cell_type": "code",
   "execution_count": null,
   "metadata": {},
   "outputs": [],
   "source": [
    "# query = f\"EXEC [pr_OM_RawdataSellOutPayroll_BI_v1] @Fromdate={param_1}, @Todate={param_2}\"\n",
    "# get_ms_csv(query, 'sales_2.csv')\n",
    "# FINAL1 = pd.read_csv('sales_2.csv')\n",
    "# FINAL = pd.read_csv('sales.csv')\n",
    "FINAL.columns = cleancols(FINAL)\n",
    "# FINAL.columns\n",
    "# FINAL.DoanhSoChuaVAT.sum()\n",
    "FINAL.NgayGiaoHang.fillna(datetime(1900, 1, 1), inplace=True)\n",
    "\n",
    "FINAL['phanloaispcl'] = FINAL['MaSanPham'].map(\n",
    "    df_to_dict(get_ps_df(\"select masanpham, phanloai from d_nhom_sp where nhomsp='SPCL'\"))\n",
    ").fillna('Khác')\n",
    "\n",
    "FINAL['nhomsp'] = FINAL['MaSanPham'].map(\n",
    "    df_to_dict(get_ps_df(\"select masanpham, nhomsp from d_nhom_sp where nhomsp IN ('SPCL', 'SP MOI') \"))\n",
    ").fillna('Khác')\n",
    "\n",
    "FINAL['khuvucviettat'] = FINAL['TenKhuVuc'].map(\n",
    "    df_to_dict(get_ps_df(\"select * from d_mkv_viet_tat\"))\n",
    ")\n",
    "\n",
    "FINAL['chinhanh'] = FINAL['MaCongTyCN'].map(\n",
    "    df_to_dict(get_ps_df(\"select * from d_chi_nhanh\"))\n",
    ")\n",
    "\n",
    "FINAL['newhco'] = (FINAL['MaKenhPhu']+FINAL['MaPhanLoaiHCO']).map(\n",
    "    df_to_dict(get_ps_df(\"SELECT concat(makenhphu, maphanloaihco) as concat, new_mahco FROM d_pl_hco\"))\n",
    ")\n",
    "\n",
    "FINAL['phanam'] = FINAL['MaSanPham'].map(\n",
    "    df_to_dict(get_ps_df(\"select masanpham, nhomsp from d_nhom_sp where nhomsp='PHA NAM'\"))).fillna('Merap')\n",
    "\n",
    "FINAL['thang'] = FINAL['NgayChungTu'] + pd.offsets.Day() - pd.offsets.MonthBegin()\n",
    "\n",
    "FINAL['inserted_at'] = datetime.now()"
   ]
  },
  {
   "cell_type": "code",
   "execution_count": 35,
   "metadata": {},
   "outputs": [],
   "source": [
    "# FINAL.NgayGiaoHang.fillna(datetime(1900, 1, 1), inplace=True)"
   ]
  },
  {
   "cell_type": "code",
   "execution_count": 36,
   "metadata": {},
   "outputs": [],
   "source": [
    "# vc(FINAL, 'NgayGiaoHang').to_clipboard()"
   ]
  },
  {
   "cell_type": "code",
   "execution_count": 37,
   "metadata": {},
   "outputs": [],
   "source": [
    "# FINAL.dtypes"
   ]
  },
  {
   "cell_type": "code",
   "execution_count": 38,
   "metadata": {},
   "outputs": [],
   "source": [
    "# FINAL.columns = lower_col(FINAL)"
   ]
  },
  {
   "cell_type": "code",
   "execution_count": 39,
   "metadata": {},
   "outputs": [
    {
     "data": {
      "text/plain": [
       "Index(['MaCongTyCN', 'CongTyCN', 'NgayChungTu', 'SoDonDatHang', 'SoDonTraHang',\n",
       "       'NgayTraHang', 'HoaDon', 'TrangThai', 'MaKHThue', 'MaKHCu',\n",
       "       'TenKhachHang', 'TenVungBH', 'TenKhuVuc', 'TenTinhKH', 'MaKenhKH',\n",
       "       'TenKenhKH', 'MaKenhPhu', 'TenKenhPhu', 'MaHCO', 'TenHCO',\n",
       "       'MaPhanLoaiHCO', 'TenPhanLoaiHCO', 'MaPhanHangHCO', 'TenPhanHangHCO',\n",
       "       'NhanHang', 'MaSanPham', 'TenSanPhamNB', 'TenSanPhamVietTat', 'SoLo',\n",
       "       'LineRef', 'SoLuong', 'DonGiaCoVAT', 'DoanhSoCoVAT', 'DonGiaChuaVAT',\n",
       "       'DoanhSoChuaVAT', 'NgayDatDon', 'NgayGiaoHang', 'MaNV', 'TenCVBH',\n",
       "       'TenQuanLyTT', 'TenQuanLyKhuVuc', 'TenQuanLyVung', 'MaNVGH',\n",
       "       'NguoiGiaohang', 'TrangThaiGiaoHang', 'DonViGiaoHang',\n",
       "       'TenNhaVanChuyen', 'KieuDonHang', 'phanloaispcl', 'nhomsp',\n",
       "       'khuvucviettat', 'chinhanh', 'newhco', 'phanam', 'thang',\n",
       "       'inserted_at'],\n",
       "      dtype='object')"
      ]
     },
     "execution_count": 39,
     "metadata": {},
     "output_type": "execute_result"
    }
   ],
   "source": [
    "FINAL.columns"
   ]
  },
  {
   "cell_type": "code",
   "execution_count": 40,
   "metadata": {},
   "outputs": [],
   "source": [
    "pk = ['macongtycn', 'ngaychungtu', 'sodondathang', 'masanpham', 'solo', 'lineref', 'soluong']"
   ]
  },
  {
   "cell_type": "code",
   "execution_count": 41,
   "metadata": {},
   "outputs": [],
   "source": [
    "# df_filter(FINAL, sodondathang='OO102021-00001').to_clipboard()"
   ]
  },
  {
   "cell_type": "code",
   "execution_count": 42,
   "metadata": {},
   "outputs": [
    {
     "name": "stdout",
     "output_type": "stream",
     "text": [
      "INSERT INTO f_sales(MaCongTyCN,CongTyCN,NgayChungTu,SoDonDatHang,SoDonTraHang,NgayTraHang,HoaDon,TrangThai,MaKHThue,MaKHCu,TenKhachHang,TenVungBH,TenKhuVuc,TenTinhKH,MaKenhKH,TenKenhKH,MaKenhPhu,TenKenhPhu,MaHCO,TenHCO,MaPhanLoaiHCO,TenPhanLoaiHCO,MaPhanHangHCO,TenPhanHangHCO,NhanHang,MaSanPham,TenSanPhamNB,TenSanPhamVietTat,SoLo,LineRef,SoLuong,DonGiaCoVAT,DoanhSoCoVAT,DonGiaChuaVAT,DoanhSoChuaVAT,NgayDatDon,NgayGiaoHang,MaNV,TenCVBH,TenQuanLyTT,TenQuanLyKhuVuc,TenQuanLyVung,MaNVGH,NguoiGiaohang,TrangThaiGiaoHang,DonViGiaoHang,TenNhaVanChuyen,KieuDonHang,phanloaispcl,nhomsp,khuvucviettat,chinhanh,newhco,phanam,thang,inserted_at) VALUES %s ON CONFLICT (macongtycn, ngaychungtu, sodondathang, masanpham, solo, lineref, soluong) DO UPDATE SET MaCongTyCN = excluded.MaCongTyCN, CongTyCN = excluded.CongTyCN, NgayChungTu = excluded.NgayChungTu, SoDonDatHang = excluded.SoDonDatHang, SoDonTraHang = excluded.SoDonTraHang, NgayTraHang = excluded.NgayTraHang, HoaDon = excluded.HoaDon, TrangThai = excluded.TrangThai, MaKHThue = excluded.MaKHThue, MaKHCu = excluded.MaKHCu, TenKhachHang = excluded.TenKhachHang, TenVungBH = excluded.TenVungBH, TenKhuVuc = excluded.TenKhuVuc, TenTinhKH = excluded.TenTinhKH, MaKenhKH = excluded.MaKenhKH, TenKenhKH = excluded.TenKenhKH, MaKenhPhu = excluded.MaKenhPhu, TenKenhPhu = excluded.TenKenhPhu, MaHCO = excluded.MaHCO, TenHCO = excluded.TenHCO, MaPhanLoaiHCO = excluded.MaPhanLoaiHCO, TenPhanLoaiHCO = excluded.TenPhanLoaiHCO, MaPhanHangHCO = excluded.MaPhanHangHCO, TenPhanHangHCO = excluded.TenPhanHangHCO, NhanHang = excluded.NhanHang, MaSanPham = excluded.MaSanPham, TenSanPhamNB = excluded.TenSanPhamNB, TenSanPhamVietTat = excluded.TenSanPhamVietTat, SoLo = excluded.SoLo, LineRef = excluded.LineRef, SoLuong = excluded.SoLuong, DonGiaCoVAT = excluded.DonGiaCoVAT, DoanhSoCoVAT = excluded.DoanhSoCoVAT, DonGiaChuaVAT = excluded.DonGiaChuaVAT, DoanhSoChuaVAT = excluded.DoanhSoChuaVAT, NgayDatDon = excluded.NgayDatDon, NgayGiaoHang = excluded.NgayGiaoHang, MaNV = excluded.MaNV, TenCVBH = excluded.TenCVBH, TenQuanLyTT = excluded.TenQuanLyTT, TenQuanLyKhuVuc = excluded.TenQuanLyKhuVuc, TenQuanLyVung = excluded.TenQuanLyVung, MaNVGH = excluded.MaNVGH, NguoiGiaohang = excluded.NguoiGiaohang, TrangThaiGiaoHang = excluded.TrangThaiGiaoHang, DonViGiaoHang = excluded.DonViGiaoHang, TenNhaVanChuyen = excluded.TenNhaVanChuyen, KieuDonHang = excluded.KieuDonHang, phanloaispcl = excluded.phanloaispcl, nhomsp = excluded.nhomsp, khuvucviettat = excluded.khuvucviettat, chinhanh = excluded.chinhanh, newhco = excluded.newhco, phanam = excluded.phanam, thang = excluded.thang, inserted_at = excluded.inserted_at\n",
      "Data inserted using execute_values() successfully..\n"
     ]
    }
   ],
   "source": [
    "execute_values_upsert(FINAL, 'f_sales', pk=pk)"
   ]
  },
  {
   "cell_type": "code",
   "execution_count": 39,
   "metadata": {},
   "outputs": [],
   "source": [
    "# FINAL2 = FINAL.head()"
   ]
  },
  {
   "cell_type": "code",
   "execution_count": 40,
   "metadata": {},
   "outputs": [],
   "source": [
    "# FINAL2.to_csv('FINAL.csv')"
   ]
  },
  {
   "cell_type": "code",
   "execution_count": 24,
   "metadata": {},
   "outputs": [],
   "source": [
    "############# ENDDDDDDDDDDD #################"
   ]
  }
 ],
 "metadata": {
  "kernelspec": {
   "display_name": "Python 3.8.10 ('venv': venv)",
   "language": "python",
   "name": "python3"
  },
  "language_info": {
   "codemirror_mode": {
    "name": "ipython",
    "version": 3
   },
   "file_extension": ".py",
   "mimetype": "text/x-python",
   "name": "python",
   "nbconvert_exporter": "python",
   "pygments_lexer": "ipython3",
   "version": "3.8.10"
  },
  "orig_nbformat": 4,
  "vscode": {
   "interpreter": {
    "hash": "8fb55849e6741974ce442ee684e971e1b6b22c29ca2b25c3b9069bf531e0354a"
   }
  }
 },
 "nbformat": 4,
 "nbformat_minor": 2
}
