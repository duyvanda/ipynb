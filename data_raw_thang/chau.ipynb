{
 "cells": [
  {
   "cell_type": "code",
   "execution_count": 1,
   "metadata": {},
   "outputs": [],
   "source": [
    "from utils.df_handle import *"
   ]
  },
  {
   "cell_type": "code",
   "execution_count": 3,
   "metadata": {},
   "outputs": [],
   "source": [
    "# df1 = pd.read_csv('baocao.csv')"
   ]
  },
  {
   "cell_type": "code",
   "execution_count": 6,
   "metadata": {},
   "outputs": [],
   "source": [
    "# ctr1 = df1['Thành tiền'] != 0"
   ]
  },
  {
   "cell_type": "code",
   "execution_count": 7,
   "metadata": {},
   "outputs": [],
   "source": [
    "# df2 = df1[ctr1]"
   ]
  },
  {
   "cell_type": "code",
   "execution_count": 8,
   "metadata": {},
   "outputs": [],
   "source": [
    "# df2.to_excel('baocao.xlsx')"
   ]
  },
  {
   "cell_type": "code",
   "execution_count": 10,
   "metadata": {},
   "outputs": [
    {
     "data": {
      "text/plain": [
       "(441052, 26)"
      ]
     },
     "execution_count": 10,
     "metadata": {},
     "output_type": "execute_result"
    }
   ],
   "source": [
    "# df1.shape"
   ]
  },
  {
   "cell_type": "code",
   "execution_count": 9,
   "metadata": {},
   "outputs": [
    {
     "data": {
      "text/plain": [
       "(363318, 26)"
      ]
     },
     "execution_count": 9,
     "metadata": {},
     "output_type": "execute_result"
    }
   ],
   "source": [
    "# df2.shape"
   ]
  },
  {
   "cell_type": "code",
   "execution_count": null,
   "metadata": {},
   "outputs": [],
   "source": [
    "df1 = pd.read_csv('0511_Data.csv')"
   ]
  },
  {
   "cell_type": "code",
   "execution_count": 48,
   "metadata": {},
   "outputs": [],
   "source": [
    "df1.columns = cleancols(df1)\n",
    "df1.columns = lower_col(df1)"
   ]
  },
  {
   "cell_type": "code",
   "execution_count": 50,
   "metadata": {},
   "outputs": [
    {
     "data": {
      "text/plain": [
       "Index(['nam', 'quy', 'thang', 'mien', 'khuvuc', 'tinh', 'kenh', 'kenhphu',\n",
       "       'phanloaihco', 'yttn', 'tentathcotenme', 'madlpp', 'tendlpp', 'mahco',\n",
       "       'tenhco', 'mahcp', 'tenhcp', 'masp', 'tensp', 'tentatsp',\n",
       "       'dongiatruocvat', 'dongiasauvat', 'soluong', 'thanhtientruocvat',\n",
       "       'thanhtiensauvat', 'thanhtientruocvat1000d', 'macrsscrs', 'crsscrs',\n",
       "       'acrmcrm', 'scrmcrm', 'ncrm', 'tenspchienluoc', 'nhomsp'],\n",
       "      dtype='object')"
      ]
     },
     "execution_count": 50,
     "metadata": {},
     "output_type": "execute_result"
    }
   ],
   "source": [
    "df1.columns"
   ]
  },
  {
   "cell_type": "code",
   "execution_count": 51,
   "metadata": {},
   "outputs": [],
   "source": [
    "df1.thang = pd.to_datetime(df1.thang, dayfirst=True)"
   ]
  },
  {
   "cell_type": "code",
   "execution_count": 52,
   "metadata": {},
   "outputs": [],
   "source": [
    "drop_cols(df1, ['nam','quy','thanhtientruocvat1000d','mien'])"
   ]
  },
  {
   "cell_type": "code",
   "execution_count": 53,
   "metadata": {},
   "outputs": [
    {
     "data": {
      "text/plain": [
       "Index(['thang', 'khuvuc', 'tinh', 'kenh', 'kenhphu', 'phanloaihco', 'yttn',\n",
       "       'tentathcotenme', 'madlpp', 'tendlpp', 'mahco', 'tenhco', 'mahcp',\n",
       "       'tenhcp', 'masp', 'tensp', 'tentatsp', 'dongiatruocvat', 'dongiasauvat',\n",
       "       'soluong', 'thanhtientruocvat', 'thanhtiensauvat', 'macrsscrs',\n",
       "       'crsscrs', 'acrmcrm', 'scrmcrm', 'ncrm', 'tenspchienluoc', 'nhomsp'],\n",
       "      dtype='object')"
      ]
     },
     "execution_count": 53,
     "metadata": {},
     "output_type": "execute_result"
    }
   ],
   "source": [
    "df1.columns"
   ]
  },
  {
   "cell_type": "code",
   "execution_count": 54,
   "metadata": {},
   "outputs": [],
   "source": [
    "# df1.head(100).to_clipboard()"
   ]
  },
  {
   "cell_type": "code",
   "execution_count": 55,
   "metadata": {},
   "outputs": [],
   "source": [
    "# df1.drop(labels=['nam','quy','thanhtientruocvat1000d'], axis=1, inplace=True)"
   ]
  },
  {
   "cell_type": "code",
   "execution_count": 2,
   "metadata": {},
   "outputs": [],
   "source": [
    "cols_list = \\\n",
    "[\n",
    "'thang',\n",
    "'khuvucviettat',\n",
    "'tentinhkh',\n",
    "'makenhkh',\n",
    "'makenhphu',\n",
    "'newhco',\n",
    "'yttn',\n",
    "'tentathcotenme',\n",
    "'madlpp',\n",
    "'tendlpp',\n",
    "'makhcu',\n",
    "'tenkhachhang',\n",
    "'mahcp',\n",
    "'tenhcp',\n",
    "'masanpham',\n",
    "'tensanphamnb',\n",
    "'tensanphamviettat',\n",
    "'dongiachuavat',\n",
    "'dongiacovat',\n",
    "'soluong',\n",
    "'doanhsochuavat',\n",
    "'doanhsotruocvat',\n",
    "'manv',\n",
    "'tencvbh',\n",
    "'tenquanlytt',\n",
    "'tenquanlykhuvuc',\n",
    "'tenquanlyvung',\n",
    "'phanloaispcl',\n",
    "'nhomsp'\n",
    "]"
   ]
  },
  {
   "cell_type": "code",
   "execution_count": 57,
   "metadata": {},
   "outputs": [],
   "source": [
    "df1.columns = cols_list"
   ]
  },
  {
   "cell_type": "code",
   "execution_count": 58,
   "metadata": {},
   "outputs": [
    {
     "data": {
      "text/plain": [
       "Index(['thang', 'tenkhuvucviettat', 'tentinhkh', 'makenhkh', 'makenhphu',\n",
       "       'newhco', 'yttn', 'tentathcotenme', 'madlpp', 'tendlpp', 'makhcu',\n",
       "       'tenkhachhang', 'mahcp', 'tenhcp', 'masanpham', 'tensanphamnb',\n",
       "       'tensanphamviettat', 'dongiachuavat', 'dongiacovat', 'soluong',\n",
       "       'doanhsochuavat', 'doanhsotruocvat', 'manv', 'tencvbh', 'tenquanlytt',\n",
       "       'tenquanlykhuvuc', 'tenquanlyvung', 'phanloaispcl', 'nhomsp'],\n",
       "      dtype='object')"
      ]
     },
     "execution_count": 58,
     "metadata": {},
     "output_type": "execute_result"
    }
   ],
   "source": [
    "df1.columns"
   ]
  },
  {
   "cell_type": "code",
   "execution_count": 59,
   "metadata": {},
   "outputs": [],
   "source": [
    "ctr1 = df1['thang'] == datetime(2021,1,1)"
   ]
  },
  {
   "cell_type": "code",
   "execution_count": 60,
   "metadata": {},
   "outputs": [],
   "source": [
    "# df1['madlpp'] = df1['madlpp'].replace('0', np.NaN, inplace=True)"
   ]
  },
  {
   "cell_type": "code",
   "execution_count": 61,
   "metadata": {},
   "outputs": [],
   "source": [
    "# vc(df1, 'madlpp')"
   ]
  },
  {
   "cell_type": "code",
   "execution_count": 62,
   "metadata": {},
   "outputs": [],
   "source": [
    "# df1['madlpp'] = df1['madlpp'].replace('0', np.NaN, inplace=True)"
   ]
  },
  {
   "cell_type": "code",
   "execution_count": 63,
   "metadata": {},
   "outputs": [],
   "source": [
    "df2 = df1['madlpp']\n",
    "df2.replace('0', np.NaN, inplace=True)\n",
    "df1['madlpp'] = df2\n",
    "df2 = df1['tendlpp']\n",
    "df2.replace('0', np.NaN, inplace=True)\n",
    "df1['tendlpp'] = df2\n",
    "del(df2)"
   ]
  },
  {
   "cell_type": "code",
   "execution_count": 79,
   "metadata": {},
   "outputs": [],
   "source": [
    "df1['tenhcp'].replace(\"KHÔNG PHÂN CTV\", \"0. Ko CTV\", inplace=True)\n",
    "df1['mahcp'].replace(\"KHÔNG PHÂN CTV\", \"0. Ko CTV\", inplace=True)"
   ]
  },
  {
   "cell_type": "code",
   "execution_count": null,
   "metadata": {},
   "outputs": [],
   "source": [
    "df1['tenquanlykhuvuc'].replace(\"Nguyễn Thọ Chiến (KN)\", \"Nguyễn Thọ Chiến\", inplace=True)\n",
    "df1['tenquanlykhuvuc'].replace(\"Dương Tấn Bửu (KN)\", \"Dương Tấn Bửu\", inplace=True)"
   ]
  },
  {
   "cell_type": "code",
   "execution_count": 80,
   "metadata": {},
   "outputs": [],
   "source": [
    "# vc(df1, \"mahcp\").to_clipboard()"
   ]
  },
  {
   "cell_type": "code",
   "execution_count": 81,
   "metadata": {},
   "outputs": [],
   "source": [
    "# df1[df1.duplicated(keep=False, subset=['thang','newhco','tenkhachhang','masanpham','soluong','mahcp','tencvbh'])].to_clipboard()"
   ]
  },
  {
   "cell_type": "code",
   "execution_count": 82,
   "metadata": {},
   "outputs": [],
   "source": [
    "# ctr2 = df1['mahco'] == 'N0580210401'\n",
    "# df3 = df1[ctr1]\n",
    "# df3.shape\n",
    "# df3.to_clipboard()\n",
    "# df1[df1.duplicated(keep=False)].to_clipboard()\n",
    "# df3[df3.duplicated(keep=False, subset=['thang','mahco','masp','soluong','mahcp','crsscrs'])].to_clipboard()\n",
    "# df1[df1.duplicated(keep=False, subset=['thang','mahco','tenhco','masp','soluong','mahcp','crsscrs'])].shape\n",
    "# print_df_schema(df1)\n",
    "# df2 = df1[['thang','mahco','masp','soluong','mahcp']].copy()\n",
    "# df2[checkdup(df2,2)].to_clipboard()\n",
    "# df_filter(df1, mahco='N0110707', masp='OH053').to_clipboard()"
   ]
  },
  {
   "cell_type": "code",
   "execution_count": 83,
   "metadata": {},
   "outputs": [],
   "source": [
    "df2 = df1[['makhcu','tenkhachhang']].copy()\n",
    "df2.drop_duplicates(inplace=True, keep='first')\n",
    "# df_to_dict(df2)\n",
    "df1['tenkhachhang'] = df1['makhcu'].map(df_to_dict(df2))\n",
    "del(df2)\n",
    "df1.doanhsochuavat.sum()\n",
    "# print_df_schema(df1)"
   ]
  },
  {
   "cell_type": "code",
   "execution_count": 91,
   "metadata": {},
   "outputs": [],
   "source": [
    "grouplist = \\\n",
    "    ['thang', 'tenkhuvucviettat', 'tentinhkh', 'makenhkh', 'makenhphu',\n",
    "       'newhco', 'yttn', 'tentathcotenme', 'madlpp', 'tendlpp', 'makhcu',\n",
    "       'tenkhachhang', 'mahcp', 'tenhcp', 'masanpham', 'tensanphamnb',\n",
    "       'tensanphamviettat', 'manv', 'tencvbh', 'tenquanlytt',\n",
    "       'tenquanlykhuvuc', 'tenquanlyvung', 'phanloaispcl', 'nhomsp']\n",
    "agg_dict = \\\n",
    "{\n",
    "    'dongiachuavat':np.sum, 'dongiacovat':np.sum, 'soluong':np.sum,\n",
    "       'doanhsochuavat':np.sum, 'doanhsotruocvat':np.sum\n",
    "}\n",
    "df2 =  pivot(df1, grouplist, agg_dict)\n",
    "df2.duplicated().sum()"
   ]
  },
  {
   "cell_type": "code",
   "execution_count": 102,
   "metadata": {},
   "outputs": [
    {
     "data": {
      "text/html": [
       "<div>\n",
       "<style scoped>\n",
       "    .dataframe tbody tr th:only-of-type {\n",
       "        vertical-align: middle;\n",
       "    }\n",
       "\n",
       "    .dataframe tbody tr th {\n",
       "        vertical-align: top;\n",
       "    }\n",
       "\n",
       "    .dataframe thead th {\n",
       "        text-align: right;\n",
       "    }\n",
       "</style>\n",
       "<table border=\"1\" class=\"dataframe\">\n",
       "  <thead>\n",
       "    <tr style=\"text-align: right;\">\n",
       "      <th></th>\n",
       "      <th>thang</th>\n",
       "      <th>tenkhuvucviettat</th>\n",
       "      <th>tentinhkh</th>\n",
       "      <th>makenhkh</th>\n",
       "      <th>makenhphu</th>\n",
       "      <th>newhco</th>\n",
       "      <th>yttn</th>\n",
       "      <th>tentathcotenme</th>\n",
       "      <th>madlpp</th>\n",
       "      <th>tendlpp</th>\n",
       "      <th>...</th>\n",
       "      <th>tenquanlytt</th>\n",
       "      <th>tenquanlykhuvuc</th>\n",
       "      <th>tenquanlyvung</th>\n",
       "      <th>phanloaispcl</th>\n",
       "      <th>nhomsp</th>\n",
       "      <th>dongiachuavat</th>\n",
       "      <th>dongiacovat</th>\n",
       "      <th>soluong</th>\n",
       "      <th>doanhsochuavat</th>\n",
       "      <th>doanhsotruocvat</th>\n",
       "    </tr>\n",
       "  </thead>\n",
       "  <tbody>\n",
       "  </tbody>\n",
       "</table>\n",
       "<p>0 rows × 29 columns</p>\n",
       "</div>"
      ],
      "text/plain": [
       "Empty DataFrame\n",
       "Columns: [thang, tenkhuvucviettat, tentinhkh, makenhkh, makenhphu, newhco, yttn, tentathcotenme, madlpp, tendlpp, makhcu, tenkhachhang, mahcp, tenhcp, masanpham, tensanphamnb, tensanphamviettat, manv, tencvbh, tenquanlytt, tenquanlykhuvuc, tenquanlyvung, phanloaispcl, nhomsp, dongiachuavat, dongiacovat, soluong, doanhsochuavat, doanhsotruocvat]\n",
       "Index: []\n",
       "\n",
       "[0 rows x 29 columns]"
      ]
     },
     "execution_count": 102,
     "metadata": {},
     "output_type": "execute_result"
    }
   ],
   "source": [
    "df2[df2.duplicated(keep=False, subset=['thang','newhco','makhcu','masanpham','soluong','mahcp','tencvbh'])]"
   ]
  },
  {
   "cell_type": "code",
   "execution_count": 56,
   "metadata": {},
   "outputs": [],
   "source": [
    "# df2.doanhsochuavat.sum()"
   ]
  },
  {
   "cell_type": "code",
   "execution_count": 106,
   "metadata": {},
   "outputs": [
    {
     "name": "stdout",
     "output_type": "stream",
     "text": [
      "thang TIMESTAMP NULL,\n",
      "tenkhuvucviettat VARCHAR(100) NULL,\n",
      "tentinhkh VARCHAR(100) NULL,\n",
      "makenhkh VARCHAR(100) NULL,\n",
      "makenhphu VARCHAR(100) NULL,\n",
      "newhco VARCHAR(100) NULL,\n",
      "yttn VARCHAR(100) NULL,\n",
      "tentathcotenme VARCHAR(100) NULL,\n",
      "madlpp VARCHAR(100) NULL,\n",
      "tendlpp VARCHAR(100) NULL,\n",
      "makhcu VARCHAR(100) NULL,\n",
      "tenkhachhang VARCHAR(100) NULL,\n",
      "mahcp VARCHAR(100) NULL,\n",
      "tenhcp VARCHAR(100) NULL,\n",
      "masanpham VARCHAR(100) NULL,\n",
      "tensanphamnb VARCHAR(100) NULL,\n",
      "tensanphamviettat VARCHAR(100) NULL,\n",
      "manv VARCHAR(100) NULL,\n",
      "tencvbh VARCHAR(100) NULL,\n",
      "tenquanlytt VARCHAR(100) NULL,\n",
      "tenquanlykhuvuc VARCHAR(100) NULL,\n",
      "tenquanlyvung VARCHAR(100) NULL,\n",
      "phanloaispcl VARCHAR(100) NULL,\n",
      "nhomsp VARCHAR(100) NULL,\n",
      "dongiachuavat NUMERIC(24) NULL,\n",
      "dongiacovat BIGINT NULL,\n",
      "soluong NUMERIC(24) NULL,\n",
      "doanhsochuavat NUMERIC(24) NULL,\n",
      "doanhsotruocvat BIGINT NULL,\n"
     ]
    }
   ],
   "source": [
    "print_df_schema(df2)"
   ]
  },
  {
   "cell_type": "code",
   "execution_count": 107,
   "metadata": {},
   "outputs": [
    {
     "name": "stdout",
     "output_type": "stream",
     "text": [
      "Data inserted using execute_values() successfully..\n"
     ]
    }
   ],
   "source": [
    "execute_values_insert(df2, \"f_monthly_sales\")"
   ]
  },
  {
   "cell_type": "code",
   "execution_count": 108,
   "metadata": {},
   "outputs": [
    {
     "data": {
      "text/plain": [
       "(318923, 29)"
      ]
     },
     "execution_count": 108,
     "metadata": {},
     "output_type": "execute_result"
    }
   ],
   "source": [
    "df2.shape"
   ]
  },
  {
   "cell_type": "code",
   "execution_count": 1,
   "metadata": {},
   "outputs": [],
   "source": [
    "# clean makenhphu, makenhkh (INS **, CLC **)"
   ]
  },
  {
   "cell_type": "code",
   "execution_count": 59,
   "metadata": {},
   "outputs": [],
   "source": [
    "# DATA 2020"
   ]
  },
  {
   "cell_type": "code",
   "execution_count": 3,
   "metadata": {},
   "outputs": [
    {
     "name": "stderr",
     "output_type": "stream",
     "text": [
      "d:\\data_sale\\venv\\lib\\site-packages\\IPython\\core\\interactiveshell.py:3441: DtypeWarning: Columns (9,10,15,16) have mixed types.Specify dtype option on import or set low_memory=False.\n",
      "  exec(code_obj, self.user_global_ns, self.user_ns)\n"
     ]
    }
   ],
   "source": [
    "df2 = pd.read_csv('Data2020.csv')"
   ]
  },
  {
   "cell_type": "code",
   "execution_count": 4,
   "metadata": {},
   "outputs": [
    {
     "data": {
      "text/plain": [
       "Index(['NĂM', 'QUÍ', 'THÁNG', 'MIỀN', 'KHU VỰC', 'TỈNH/\\nĐỊA BÀN', 'KÊNH',\n",
       "       'KÊNH PHỤ - DATA', 'PL HCO', 'YTTN', 'TEN KH - TAT', 'Mã ĐLPP',\n",
       "       'TÊN ĐLPP', 'Mã HCO', 'Tên HCO', 'Mã HCPs', 'Tên HCPs', 'MÃ SP',\n",
       "       'TÊN SẢN PHẨM', 'TÊN TẮT SP', 'ĐƠN GIÁ TRƯỚC VAT', 'ĐƠN GIÁ SAU VAT',\n",
       "       'SL', 'THÀNH TIỀN - TRƯỚC VAT', 'THÀNH TIỀN - SAU VAT',\n",
       "       'THÀNH TIỀN - TÍNH LƯƠNG', 'MÃ TDV', 'CRS/ CRSS', 'A.CRM/ CRM',\n",
       "       'S.CRM/ CRM*', 'N.CRM', 'TÊN SP CHIẾN LƯỢC', 'NHÓM SP'],\n",
       "      dtype='object')"
      ]
     },
     "execution_count": 4,
     "metadata": {},
     "output_type": "execute_result"
    }
   ],
   "source": [
    "df2.columns"
   ]
  },
  {
   "cell_type": "code",
   "execution_count": 5,
   "metadata": {},
   "outputs": [],
   "source": [
    "df2.columns = cleancols(df2)\n",
    "df2.columns = lower_col(df2)"
   ]
  },
  {
   "cell_type": "code",
   "execution_count": 6,
   "metadata": {},
   "outputs": [
    {
     "data": {
      "text/plain": [
       "Index(['nam', 'qui', 'thang', 'mien', 'khuvuc', 'tinhdiaban', 'kenh',\n",
       "       'kenhphudata', 'plhco', 'yttn', 'tenkhtat', 'madlpp', 'tendlpp',\n",
       "       'mahco', 'tenhco', 'mahcps', 'tenhcps', 'masp', 'tensanpham',\n",
       "       'tentatsp', 'dongiatruocvat', 'dongiasauvat', 'sl', 'thanhtientruocvat',\n",
       "       'thanhtiensauvat', 'thanhtientinhluong', 'matdv', 'crscrss', 'acrmcrm',\n",
       "       'scrmcrm', 'ncrm', 'tenspchienluoc', 'nhomsp'],\n",
       "      dtype='object')"
      ]
     },
     "execution_count": 6,
     "metadata": {},
     "output_type": "execute_result"
    }
   ],
   "source": [
    "df2.columns"
   ]
  },
  {
   "cell_type": "code",
   "execution_count": 7,
   "metadata": {},
   "outputs": [],
   "source": [
    "df2.thang = pd.to_datetime(df2.thang, dayfirst=True)"
   ]
  },
  {
   "cell_type": "code",
   "execution_count": 8,
   "metadata": {},
   "outputs": [],
   "source": [
    "drop_cols(df2, ['nam','qui','thanhtientinhluong','mien'])"
   ]
  },
  {
   "cell_type": "code",
   "execution_count": 9,
   "metadata": {},
   "outputs": [],
   "source": [
    "df2.columns = cols_list"
   ]
  },
  {
   "cell_type": "code",
   "execution_count": 10,
   "metadata": {},
   "outputs": [],
   "source": [
    "df2['phanloaispcl'] = np.where(df2['phanloaispcl'].isin(['CEBEST','NMNT','MPTL','MDR','Tiêu hóa','XPL','Khác']), df2['phanloaispcl'], 'Khác')\n",
    "df2['nhomsp'] = np.where(df2['nhomsp'].isin(['Khác','SP còn lại']), 'Khác', df2['nhomsp'])\n",
    "df2['nhomsp'] = np.where(df2['nhomsp'].isin(['Chiến lược','SPCL']), 'SPCL', df2['nhomsp'])\n",
    "df2['nhomsp'] = np.where(df2['nhomsp'].isin(['SP mới','Sp mới']), 'SP MOI', df2['nhomsp'])\n",
    "df2.nhomsp.fillna('Khác', inplace=True)"
   ]
  },
  {
   "cell_type": "code",
   "execution_count": 15,
   "metadata": {},
   "outputs": [
    {
     "data": {
      "text/html": [
       "<div>\n",
       "<style scoped>\n",
       "    .dataframe tbody tr th:only-of-type {\n",
       "        vertical-align: middle;\n",
       "    }\n",
       "\n",
       "    .dataframe tbody tr th {\n",
       "        vertical-align: top;\n",
       "    }\n",
       "\n",
       "    .dataframe thead th {\n",
       "        text-align: right;\n",
       "    }\n",
       "</style>\n",
       "<table border=\"1\" class=\"dataframe\">\n",
       "  <thead>\n",
       "    <tr style=\"text-align: right;\">\n",
       "      <th></th>\n",
       "      <th>nhomsp</th>\n",
       "      <th>counts</th>\n",
       "    </tr>\n",
       "  </thead>\n",
       "  <tbody>\n",
       "    <tr>\n",
       "      <th>0</th>\n",
       "      <td>Khác</td>\n",
       "      <td>298803</td>\n",
       "    </tr>\n",
       "    <tr>\n",
       "      <th>1</th>\n",
       "      <td>SPCL</td>\n",
       "      <td>97889</td>\n",
       "    </tr>\n",
       "    <tr>\n",
       "      <th>2</th>\n",
       "      <td>SP MOI</td>\n",
       "      <td>43108</td>\n",
       "    </tr>\n",
       "  </tbody>\n",
       "</table>\n",
       "</div>"
      ],
      "text/plain": [
       "   nhomsp  counts\n",
       "0    Khác  298803\n",
       "1    SPCL   97889\n",
       "2  SP MOI   43108"
      ]
     },
     "execution_count": 15,
     "metadata": {},
     "output_type": "execute_result"
    }
   ],
   "source": [
    "vc(df2, 'nhomsp')"
   ]
  },
  {
   "cell_type": "code",
   "execution_count": 16,
   "metadata": {},
   "outputs": [
    {
     "data": {
      "text/html": [
       "<div>\n",
       "<style scoped>\n",
       "    .dataframe tbody tr th:only-of-type {\n",
       "        vertical-align: middle;\n",
       "    }\n",
       "\n",
       "    .dataframe tbody tr th {\n",
       "        vertical-align: top;\n",
       "    }\n",
       "\n",
       "    .dataframe thead th {\n",
       "        text-align: right;\n",
       "    }\n",
       "</style>\n",
       "<table border=\"1\" class=\"dataframe\">\n",
       "  <thead>\n",
       "    <tr style=\"text-align: right;\">\n",
       "      <th></th>\n",
       "      <th>tenquanlykhuvuc</th>\n",
       "      <th>counts</th>\n",
       "    </tr>\n",
       "  </thead>\n",
       "  <tbody>\n",
       "    <tr>\n",
       "      <th>0</th>\n",
       "      <td>NGUYEN HOANG VIEN</td>\n",
       "      <td>316189</td>\n",
       "    </tr>\n",
       "    <tr>\n",
       "      <th>1</th>\n",
       "      <td>DUONG TAN BUU (KN)</td>\n",
       "      <td>53308</td>\n",
       "    </tr>\n",
       "    <tr>\n",
       "      <th>2</th>\n",
       "      <td>NGO TIEN VU</td>\n",
       "      <td>11857</td>\n",
       "    </tr>\n",
       "    <tr>\n",
       "      <th>3</th>\n",
       "      <td>HOANG TRUNG THANH</td>\n",
       "      <td>9284</td>\n",
       "    </tr>\n",
       "    <tr>\n",
       "      <th>4</th>\n",
       "      <td>TRAN CHI TAM</td>\n",
       "      <td>8982</td>\n",
       "    </tr>\n",
       "    <tr>\n",
       "      <th>5</th>\n",
       "      <td>DAO TAN HIEU</td>\n",
       "      <td>7219</td>\n",
       "    </tr>\n",
       "    <tr>\n",
       "      <th>6</th>\n",
       "      <td>NGUYEN THI DUNG</td>\n",
       "      <td>5518</td>\n",
       "    </tr>\n",
       "    <tr>\n",
       "      <th>7</th>\n",
       "      <td>LAM VAN CANH</td>\n",
       "      <td>5431</td>\n",
       "    </tr>\n",
       "    <tr>\n",
       "      <th>8</th>\n",
       "      <td>VO THI KIM LIEN</td>\n",
       "      <td>5254</td>\n",
       "    </tr>\n",
       "    <tr>\n",
       "      <th>9</th>\n",
       "      <td>LE DUC CHAU</td>\n",
       "      <td>5206</td>\n",
       "    </tr>\n",
       "    <tr>\n",
       "      <th>10</th>\n",
       "      <td>DUONG TAN BUU</td>\n",
       "      <td>4553</td>\n",
       "    </tr>\n",
       "    <tr>\n",
       "      <th>11</th>\n",
       "      <td>PHAN THI BINH KHE</td>\n",
       "      <td>3703</td>\n",
       "    </tr>\n",
       "    <tr>\n",
       "      <th>12</th>\n",
       "      <td>NGUYEN THO CHIEN (KN)</td>\n",
       "      <td>2209</td>\n",
       "    </tr>\n",
       "    <tr>\n",
       "      <th>13</th>\n",
       "      <td>NGUYEN THI DUNG CRM</td>\n",
       "      <td>1087</td>\n",
       "    </tr>\n",
       "  </tbody>\n",
       "</table>\n",
       "</div>"
      ],
      "text/plain": [
       "          tenquanlykhuvuc  counts\n",
       "0       NGUYEN HOANG VIEN  316189\n",
       "1      DUONG TAN BUU (KN)   53308\n",
       "2             NGO TIEN VU   11857\n",
       "3       HOANG TRUNG THANH    9284\n",
       "4            TRAN CHI TAM    8982\n",
       "5            DAO TAN HIEU    7219\n",
       "6         NGUYEN THI DUNG    5518\n",
       "7            LAM VAN CANH    5431\n",
       "8         VO THI KIM LIEN    5254\n",
       "9             LE DUC CHAU    5206\n",
       "10          DUONG TAN BUU    4553\n",
       "11      PHAN THI BINH KHE    3703\n",
       "12  NGUYEN THO CHIEN (KN)    2209\n",
       "13    NGUYEN THI DUNG CRM    1087"
      ]
     },
     "execution_count": 16,
     "metadata": {},
     "output_type": "execute_result"
    }
   ],
   "source": [
    "vc(df2, 'tenquanlykhuvuc')"
   ]
  },
  {
   "cell_type": "code",
   "execution_count": 17,
   "metadata": {},
   "outputs": [
    {
     "data": {
      "text/html": [
       "<div>\n",
       "<style scoped>\n",
       "    .dataframe tbody tr th:only-of-type {\n",
       "        vertical-align: middle;\n",
       "    }\n",
       "\n",
       "    .dataframe tbody tr th {\n",
       "        vertical-align: top;\n",
       "    }\n",
       "\n",
       "    .dataframe thead th {\n",
       "        text-align: right;\n",
       "    }\n",
       "</style>\n",
       "<table border=\"1\" class=\"dataframe\">\n",
       "  <thead>\n",
       "    <tr style=\"text-align: right;\">\n",
       "      <th></th>\n",
       "      <th>tenquanlyvung</th>\n",
       "      <th>counts</th>\n",
       "    </tr>\n",
       "  </thead>\n",
       "  <tbody>\n",
       "    <tr>\n",
       "      <th>0</th>\n",
       "      <td>DUONG TAN BUU</td>\n",
       "      <td>423203</td>\n",
       "    </tr>\n",
       "    <tr>\n",
       "      <th>1</th>\n",
       "      <td>NGUYEN THO CHIEN</td>\n",
       "      <td>16597</td>\n",
       "    </tr>\n",
       "  </tbody>\n",
       "</table>\n",
       "</div>"
      ],
      "text/plain": [
       "      tenquanlyvung  counts\n",
       "0     DUONG TAN BUU  423203\n",
       "1  NGUYEN THO CHIEN   16597"
      ]
     },
     "execution_count": 17,
     "metadata": {},
     "output_type": "execute_result"
    }
   ],
   "source": [
    "vc(df2, 'tenquanlyvung')"
   ]
  },
  {
   "cell_type": "code",
   "execution_count": 18,
   "metadata": {},
   "outputs": [],
   "source": [
    "df2['tenquanlykhuvuc'].replace(\"DUONG TAN BUU (KN)\", \"DUONG TAN BUU\", inplace=True)\n",
    "df2['tenquanlykhuvuc'].replace(\"NGUYEN THO CHIEN (KN)\", \"NGUYEN THO CHIEN\", inplace=True)"
   ]
  },
  {
   "cell_type": "code",
   "execution_count": 19,
   "metadata": {},
   "outputs": [
    {
     "data": {
      "text/html": [
       "<div>\n",
       "<style scoped>\n",
       "    .dataframe tbody tr th:only-of-type {\n",
       "        vertical-align: middle;\n",
       "    }\n",
       "\n",
       "    .dataframe tbody tr th {\n",
       "        vertical-align: top;\n",
       "    }\n",
       "\n",
       "    .dataframe thead th {\n",
       "        text-align: right;\n",
       "    }\n",
       "</style>\n",
       "<table border=\"1\" class=\"dataframe\">\n",
       "  <thead>\n",
       "    <tr style=\"text-align: right;\">\n",
       "      <th></th>\n",
       "      <th>makenhkh</th>\n",
       "      <th>counts</th>\n",
       "    </tr>\n",
       "  </thead>\n",
       "  <tbody>\n",
       "    <tr>\n",
       "      <th>0</th>\n",
       "      <td>OTC</td>\n",
       "      <td>367028</td>\n",
       "    </tr>\n",
       "    <tr>\n",
       "      <th>1</th>\n",
       "      <td>CLC</td>\n",
       "      <td>56175</td>\n",
       "    </tr>\n",
       "    <tr>\n",
       "      <th>2</th>\n",
       "      <td>INS</td>\n",
       "      <td>16597</td>\n",
       "    </tr>\n",
       "  </tbody>\n",
       "</table>\n",
       "</div>"
      ],
      "text/plain": [
       "  makenhkh  counts\n",
       "0      OTC  367028\n",
       "1      CLC   56175\n",
       "2      INS   16597"
      ]
     },
     "execution_count": 19,
     "metadata": {},
     "output_type": "execute_result"
    }
   ],
   "source": [
    "vc(df2, 'makenhkh')"
   ]
  },
  {
   "cell_type": "code",
   "execution_count": 20,
   "metadata": {},
   "outputs": [],
   "source": [
    "df3 = df2[['makhcu','tenkhachhang']].copy()\n",
    "df3.drop_duplicates(inplace=True, keep='first')\n",
    "# df_to_dict(df3)\n",
    "df2['tenkhachhang'] = df2['makhcu'].map(df_to_dict(df3))\n",
    "del(df3)\n",
    "# df2.doanhsochuavat.sum()\n",
    "# print_df_schema(df2)"
   ]
  },
  {
   "cell_type": "code",
   "execution_count": 21,
   "metadata": {},
   "outputs": [
    {
     "data": {
      "text/plain": [
       "0"
      ]
     },
     "execution_count": 21,
     "metadata": {},
     "output_type": "execute_result"
    }
   ],
   "source": [
    "grouplist = \\\n",
    "    ['thang', 'khuvucviettat', 'tentinhkh', 'makenhkh', 'makenhphu',\n",
    "       'newhco', 'yttn', 'tentathcotenme', 'madlpp', 'tendlpp', 'makhcu',\n",
    "       'tenkhachhang', 'mahcp', 'tenhcp', 'masanpham', 'tensanphamnb',\n",
    "       'tensanphamviettat', 'manv', 'tencvbh', 'tenquanlytt',\n",
    "       'tenquanlykhuvuc', 'tenquanlyvung', 'phanloaispcl', 'nhomsp']\n",
    "agg_dict = \\\n",
    "{\n",
    "    'dongiachuavat':np.sum, 'dongiacovat':np.sum, 'soluong':np.sum,\n",
    "       'doanhsochuavat':np.sum, 'doanhsotruocvat':np.sum\n",
    "}\n",
    "df3 =  pivot(df2, grouplist, agg_dict)\n",
    "df3.duplicated().sum()"
   ]
  },
  {
   "cell_type": "code",
   "execution_count": 22,
   "metadata": {},
   "outputs": [],
   "source": [
    "df3['inserted_at'] = datetime(2020,12,31)\n",
    "execute_values_insert(df3, \"f_monthly_sales\")"
   ]
  },
  {
   "cell_type": "code",
   "execution_count": 2,
   "metadata": {},
   "outputs": [
    {
     "name": "stderr",
     "output_type": "stream",
     "text": [
      "d:\\data_sale\\venv\\lib\\site-packages\\IPython\\core\\interactiveshell.py:3441: DtypeWarning: Columns (8,9,10,15,16,26,31,32) have mixed types.Specify dtype option on import or set low_memory=False.\n",
      "  exec(code_obj, self.user_global_ns, self.user_ns)\n"
     ]
    }
   ],
   "source": [
    "df2 = pd.read_csv('Data2019.csv')"
   ]
  },
  {
   "cell_type": "code",
   "execution_count": 3,
   "metadata": {},
   "outputs": [],
   "source": [
    "df2.columns = cleancols(df2)\n",
    "df2.columns = lower_col(df2)"
   ]
  },
  {
   "cell_type": "code",
   "execution_count": 4,
   "metadata": {},
   "outputs": [
    {
     "data": {
      "text/plain": [
       "Index(['nam', 'quy', 'thang', 'mien', 'khuvuc', 'tinh', 'kenh', 'kenhphu',\n",
       "       'phanloaihco', 'yttnnn', 'tentatkh', 'madlpp', 'tendlpp', 'mahco',\n",
       "       'tenhco', 'mahcp', 'tenhcp', 'masp', 'tensp', 'tentatsp',\n",
       "       'dongiatruocvat', 'dongiasauvat', 'soluong', 'thanhtientruocvat',\n",
       "       'thanhtiensauvat', 'thanhtientinhluong', 'macrscrss', 'crscrss',\n",
       "       'acrmcrm', 'scrmcrm', 'ncrmncrd', 'tennhomspcl', 'tennhomsp'],\n",
       "      dtype='object')"
      ]
     },
     "execution_count": 4,
     "metadata": {},
     "output_type": "execute_result"
    }
   ],
   "source": [
    "df2.columns"
   ]
  },
  {
   "cell_type": "code",
   "execution_count": 5,
   "metadata": {},
   "outputs": [],
   "source": [
    "drop_cols(df2, ['nam','quy','thanhtientinhluong','mien'])"
   ]
  },
  {
   "cell_type": "code",
   "execution_count": 6,
   "metadata": {},
   "outputs": [
    {
     "data": {
      "text/plain": [
       "Index(['thang', 'khuvuc', 'tinh', 'kenh', 'kenhphu', 'phanloaihco', 'yttnnn',\n",
       "       'tentatkh', 'madlpp', 'tendlpp', 'mahco', 'tenhco', 'mahcp', 'tenhcp',\n",
       "       'masp', 'tensp', 'tentatsp', 'dongiatruocvat', 'dongiasauvat',\n",
       "       'soluong', 'thanhtientruocvat', 'thanhtiensauvat', 'macrscrss',\n",
       "       'crscrss', 'acrmcrm', 'scrmcrm', 'ncrmncrd', 'tennhomspcl',\n",
       "       'tennhomsp'],\n",
       "      dtype='object')"
      ]
     },
     "execution_count": 6,
     "metadata": {},
     "output_type": "execute_result"
    }
   ],
   "source": [
    "df2.columns"
   ]
  },
  {
   "cell_type": "code",
   "execution_count": 7,
   "metadata": {},
   "outputs": [],
   "source": [
    "cols_list = \\\n",
    "[\n",
    "'thang',\n",
    "'khuvucviettat',\n",
    "'tentinhkh',\n",
    "'makenhkh',\n",
    "'makenhphu',\n",
    "'newhco',\n",
    "'yttn',\n",
    "'tentathcotenme',\n",
    "'madlpp',\n",
    "'tendlpp',\n",
    "'makhcu',\n",
    "'tenkhachhang',\n",
    "'mahcp',\n",
    "'tenhcp',\n",
    "'masanpham',\n",
    "'tensanphamnb',\n",
    "'tensanphamviettat',\n",
    "'dongiachuavat',\n",
    "'dongiacovat',\n",
    "'soluong',\n",
    "'doanhsochuavat',\n",
    "'doanhsotruocvat',\n",
    "'manv',\n",
    "'tencvbh',\n",
    "'tenquanlytt',\n",
    "'tenquanlykhuvuc',\n",
    "'tenquanlyvung',\n",
    "'phanloaispcl',\n",
    "'nhomsp'\n",
    "]"
   ]
  },
  {
   "cell_type": "code",
   "execution_count": 8,
   "metadata": {},
   "outputs": [],
   "source": [
    "df2.columns = cols_list"
   ]
  },
  {
   "cell_type": "code",
   "execution_count": 9,
   "metadata": {},
   "outputs": [
    {
     "data": {
      "text/plain": [
       "Index(['thang', 'khuvucviettat', 'tentinhkh', 'makenhkh', 'makenhphu',\n",
       "       'newhco', 'yttn', 'tentathcotenme', 'madlpp', 'tendlpp', 'makhcu',\n",
       "       'tenkhachhang', 'mahcp', 'tenhcp', 'masanpham', 'tensanphamnb',\n",
       "       'tensanphamviettat', 'dongiachuavat', 'dongiacovat', 'soluong',\n",
       "       'doanhsochuavat', 'doanhsotruocvat', 'manv', 'tencvbh', 'tenquanlytt',\n",
       "       'tenquanlykhuvuc', 'tenquanlyvung', 'phanloaispcl', 'nhomsp'],\n",
       "      dtype='object')"
      ]
     },
     "execution_count": 9,
     "metadata": {},
     "output_type": "execute_result"
    }
   ],
   "source": [
    "df2.columns"
   ]
  },
  {
   "cell_type": "code",
   "execution_count": 18,
   "metadata": {},
   "outputs": [
    {
     "data": {
      "text/html": [
       "<div>\n",
       "<style scoped>\n",
       "    .dataframe tbody tr th:only-of-type {\n",
       "        vertical-align: middle;\n",
       "    }\n",
       "\n",
       "    .dataframe tbody tr th {\n",
       "        vertical-align: top;\n",
       "    }\n",
       "\n",
       "    .dataframe thead th {\n",
       "        text-align: right;\n",
       "    }\n",
       "</style>\n",
       "<table border=\"1\" class=\"dataframe\">\n",
       "  <thead>\n",
       "    <tr style=\"text-align: right;\">\n",
       "      <th></th>\n",
       "      <th>phanloaispcl</th>\n",
       "      <th>counts</th>\n",
       "    </tr>\n",
       "  </thead>\n",
       "  <tbody>\n",
       "    <tr>\n",
       "      <th>0</th>\n",
       "      <td>Khác</td>\n",
       "      <td>502314</td>\n",
       "    </tr>\n",
       "    <tr>\n",
       "      <th>1</th>\n",
       "      <td>XPL</td>\n",
       "      <td>12975</td>\n",
       "    </tr>\n",
       "    <tr>\n",
       "      <th>2</th>\n",
       "      <td>MDR</td>\n",
       "      <td>8151</td>\n",
       "    </tr>\n",
       "    <tr>\n",
       "      <th>3</th>\n",
       "      <td>CEBEST</td>\n",
       "      <td>4501</td>\n",
       "    </tr>\n",
       "    <tr>\n",
       "      <th>4</th>\n",
       "      <td>NMNT</td>\n",
       "      <td>3146</td>\n",
       "    </tr>\n",
       "  </tbody>\n",
       "</table>\n",
       "</div>"
      ],
      "text/plain": [
       "  phanloaispcl  counts\n",
       "0         Khác  502314\n",
       "1          XPL   12975\n",
       "2          MDR    8151\n",
       "3       CEBEST    4501\n",
       "4         NMNT    3146"
      ]
     },
     "execution_count": 18,
     "metadata": {},
     "output_type": "execute_result"
    }
   ],
   "source": [
    "vc(df2, 'phanloaispcl')"
   ]
  },
  {
   "cell_type": "code",
   "execution_count": 15,
   "metadata": {},
   "outputs": [],
   "source": [
    "df2['phanloaispcl'].fillna('Khác', inplace=True)"
   ]
  },
  {
   "cell_type": "code",
   "execution_count": 17,
   "metadata": {},
   "outputs": [],
   "source": [
    "df2['phanloaispcl'].replace(\"Mắt\", \"NMNT\", inplace=True)\n",
    "df2['phanloaispcl'].replace(\"CBT\", \"CEBEST\", inplace=True)"
   ]
  },
  {
   "cell_type": "code",
   "execution_count": 22,
   "metadata": {},
   "outputs": [
    {
     "data": {
      "text/html": [
       "<div>\n",
       "<style scoped>\n",
       "    .dataframe tbody tr th:only-of-type {\n",
       "        vertical-align: middle;\n",
       "    }\n",
       "\n",
       "    .dataframe tbody tr th {\n",
       "        vertical-align: top;\n",
       "    }\n",
       "\n",
       "    .dataframe thead th {\n",
       "        text-align: right;\n",
       "    }\n",
       "</style>\n",
       "<table border=\"1\" class=\"dataframe\">\n",
       "  <thead>\n",
       "    <tr style=\"text-align: right;\">\n",
       "      <th></th>\n",
       "      <th>nhomsp</th>\n",
       "      <th>counts</th>\n",
       "    </tr>\n",
       "  </thead>\n",
       "  <tbody>\n",
       "    <tr>\n",
       "      <th>0</th>\n",
       "      <td>Khác</td>\n",
       "      <td>502314</td>\n",
       "    </tr>\n",
       "    <tr>\n",
       "      <th>1</th>\n",
       "      <td>SPCL</td>\n",
       "      <td>28773</td>\n",
       "    </tr>\n",
       "  </tbody>\n",
       "</table>\n",
       "</div>"
      ],
      "text/plain": [
       "  nhomsp  counts\n",
       "0   Khác  502314\n",
       "1   SPCL   28773"
      ]
     },
     "execution_count": 22,
     "metadata": {},
     "output_type": "execute_result"
    }
   ],
   "source": [
    "vc(df2, 'nhomsp')"
   ]
  },
  {
   "cell_type": "code",
   "execution_count": 20,
   "metadata": {},
   "outputs": [],
   "source": [
    "df2['nhomsp'].fillna('Khác', inplace=True)"
   ]
  },
  {
   "cell_type": "code",
   "execution_count": 24,
   "metadata": {},
   "outputs": [
    {
     "data": {
      "text/html": [
       "<div>\n",
       "<style scoped>\n",
       "    .dataframe tbody tr th:only-of-type {\n",
       "        vertical-align: middle;\n",
       "    }\n",
       "\n",
       "    .dataframe tbody tr th {\n",
       "        vertical-align: top;\n",
       "    }\n",
       "\n",
       "    .dataframe thead th {\n",
       "        text-align: right;\n",
       "    }\n",
       "</style>\n",
       "<table border=\"1\" class=\"dataframe\">\n",
       "  <thead>\n",
       "    <tr style=\"text-align: right;\">\n",
       "      <th></th>\n",
       "      <th>makenhkh</th>\n",
       "      <th>counts</th>\n",
       "    </tr>\n",
       "  </thead>\n",
       "  <tbody>\n",
       "    <tr>\n",
       "      <th>0</th>\n",
       "      <td>OTC</td>\n",
       "      <td>325513</td>\n",
       "    </tr>\n",
       "    <tr>\n",
       "      <th>1</th>\n",
       "      <td>MDS</td>\n",
       "      <td>108551</td>\n",
       "    </tr>\n",
       "    <tr>\n",
       "      <th>2</th>\n",
       "      <td>CLC</td>\n",
       "      <td>78904</td>\n",
       "    </tr>\n",
       "    <tr>\n",
       "      <th>3</th>\n",
       "      <td>INS</td>\n",
       "      <td>18119</td>\n",
       "    </tr>\n",
       "  </tbody>\n",
       "</table>\n",
       "</div>"
      ],
      "text/plain": [
       "  makenhkh  counts\n",
       "0      OTC  325513\n",
       "1      MDS  108551\n",
       "2      CLC   78904\n",
       "3      INS   18119"
      ]
     },
     "execution_count": 24,
     "metadata": {},
     "output_type": "execute_result"
    }
   ],
   "source": [
    "vc(df2, 'makenhkh')"
   ]
  },
  {
   "cell_type": "code",
   "execution_count": 34,
   "metadata": {},
   "outputs": [
    {
     "data": {
      "text/html": [
       "<div>\n",
       "<style scoped>\n",
       "    .dataframe tbody tr th:only-of-type {\n",
       "        vertical-align: middle;\n",
       "    }\n",
       "\n",
       "    .dataframe tbody tr th {\n",
       "        vertical-align: top;\n",
       "    }\n",
       "\n",
       "    .dataframe thead th {\n",
       "        text-align: right;\n",
       "    }\n",
       "</style>\n",
       "<table border=\"1\" class=\"dataframe\">\n",
       "  <thead>\n",
       "    <tr style=\"text-align: right;\">\n",
       "      <th></th>\n",
       "      <th>makenhphu</th>\n",
       "      <th>counts</th>\n",
       "    </tr>\n",
       "  </thead>\n",
       "  <tbody>\n",
       "    <tr>\n",
       "      <th>10</th>\n",
       "      <td>CHUOI</td>\n",
       "      <td>826</td>\n",
       "    </tr>\n",
       "    <tr>\n",
       "      <th>2</th>\n",
       "      <td>CLC1</td>\n",
       "      <td>39441</td>\n",
       "    </tr>\n",
       "    <tr>\n",
       "      <th>3</th>\n",
       "      <td>CLC2</td>\n",
       "      <td>21609</td>\n",
       "    </tr>\n",
       "    <tr>\n",
       "      <th>4</th>\n",
       "      <td>CLC3</td>\n",
       "      <td>17854</td>\n",
       "    </tr>\n",
       "    <tr>\n",
       "      <th>8</th>\n",
       "      <td>DLPP</td>\n",
       "      <td>2159</td>\n",
       "    </tr>\n",
       "    <tr>\n",
       "      <th>5</th>\n",
       "      <td>INS1</td>\n",
       "      <td>13692</td>\n",
       "    </tr>\n",
       "    <tr>\n",
       "      <th>7</th>\n",
       "      <td>INS2</td>\n",
       "      <td>2444</td>\n",
       "    </tr>\n",
       "    <tr>\n",
       "      <th>9</th>\n",
       "      <td>INS3</td>\n",
       "      <td>1983</td>\n",
       "    </tr>\n",
       "    <tr>\n",
       "      <th>0</th>\n",
       "      <td>NT</td>\n",
       "      <td>372156</td>\n",
       "    </tr>\n",
       "    <tr>\n",
       "      <th>1</th>\n",
       "      <td>PK</td>\n",
       "      <td>56195</td>\n",
       "    </tr>\n",
       "    <tr>\n",
       "      <th>6</th>\n",
       "      <td>SI</td>\n",
       "      <td>2728</td>\n",
       "    </tr>\n",
       "  </tbody>\n",
       "</table>\n",
       "</div>"
      ],
      "text/plain": [
       "   makenhphu  counts\n",
       "10     CHUOI     826\n",
       "2       CLC1   39441\n",
       "3       CLC2   21609\n",
       "4       CLC3   17854\n",
       "8       DLPP    2159\n",
       "5       INS1   13692\n",
       "7       INS2    2444\n",
       "9       INS3    1983\n",
       "0         NT  372156\n",
       "1         PK   56195\n",
       "6         SI    2728"
      ]
     },
     "execution_count": 34,
     "metadata": {},
     "output_type": "execute_result"
    }
   ],
   "source": [
    "vc(df2, 'makenhphu').sort_values('makenhphu')"
   ]
  },
  {
   "cell_type": "code",
   "execution_count": 25,
   "metadata": {},
   "outputs": [],
   "source": [
    "df2['makenhphu'] = np.where(df2['makenhphu'].isin(['NTL','NTC','NTXQBV']), 'NT', df2['makenhphu'])\n",
    "df2['makenhphu'] = np.where(df2['makenhphu'].isin(['PKK','PKDK','PKC']), 'PK', df2['makenhphu'])"
   ]
  },
  {
   "cell_type": "code",
   "execution_count": 27,
   "metadata": {},
   "outputs": [],
   "source": [
    "# df2['makenhphu']"
   ]
  },
  {
   "cell_type": "code",
   "execution_count": 14,
   "metadata": {},
   "outputs": [
    {
     "data": {
      "text/html": [
       "<div>\n",
       "<style scoped>\n",
       "    .dataframe tbody tr th:only-of-type {\n",
       "        vertical-align: middle;\n",
       "    }\n",
       "\n",
       "    .dataframe tbody tr th {\n",
       "        vertical-align: top;\n",
       "    }\n",
       "\n",
       "    .dataframe thead th {\n",
       "        text-align: right;\n",
       "    }\n",
       "</style>\n",
       "<table border=\"1\" class=\"dataframe\">\n",
       "  <thead>\n",
       "    <tr style=\"text-align: right;\">\n",
       "      <th></th>\n",
       "      <th>tenquanlykhuvuc</th>\n",
       "      <th>counts</th>\n",
       "    </tr>\n",
       "  </thead>\n",
       "  <tbody>\n",
       "    <tr>\n",
       "      <th>0</th>\n",
       "      <td>DAO TAN HIEU</td>\n",
       "      <td>119507</td>\n",
       "    </tr>\n",
       "    <tr>\n",
       "      <th>1</th>\n",
       "      <td>NGUYEN HOANG VIEN</td>\n",
       "      <td>91273</td>\n",
       "    </tr>\n",
       "    <tr>\n",
       "      <th>2</th>\n",
       "      <td>HOANG TRUNG THANH</td>\n",
       "      <td>78052</td>\n",
       "    </tr>\n",
       "    <tr>\n",
       "      <th>3</th>\n",
       "      <td>NGO TIEN VU</td>\n",
       "      <td>73766</td>\n",
       "    </tr>\n",
       "    <tr>\n",
       "      <th>4</th>\n",
       "      <td>TRAN CHI TAM</td>\n",
       "      <td>64432</td>\n",
       "    </tr>\n",
       "    <tr>\n",
       "      <th>5</th>\n",
       "      <td>NGUYEN THI DUNG</td>\n",
       "      <td>31413</td>\n",
       "    </tr>\n",
       "    <tr>\n",
       "      <th>6</th>\n",
       "      <td>LE DUC CHAU</td>\n",
       "      <td>31076</td>\n",
       "    </tr>\n",
       "    <tr>\n",
       "      <th>7</th>\n",
       "      <td>DUONG TAN BUU (KN)</td>\n",
       "      <td>17560</td>\n",
       "    </tr>\n",
       "    <tr>\n",
       "      <th>8</th>\n",
       "      <td>VO THI KIM LIEN</td>\n",
       "      <td>6378</td>\n",
       "    </tr>\n",
       "    <tr>\n",
       "      <th>9</th>\n",
       "      <td>DUONG TAN BUU</td>\n",
       "      <td>5889</td>\n",
       "    </tr>\n",
       "    <tr>\n",
       "      <th>10</th>\n",
       "      <td>LAM VAN CANH</td>\n",
       "      <td>5810</td>\n",
       "    </tr>\n",
       "    <tr>\n",
       "      <th>11</th>\n",
       "      <td>PHAN THI BINH KHE</td>\n",
       "      <td>3371</td>\n",
       "    </tr>\n",
       "    <tr>\n",
       "      <th>12</th>\n",
       "      <td>NGUYEN THO CHIEN (KN)</td>\n",
       "      <td>2560</td>\n",
       "    </tr>\n",
       "  </tbody>\n",
       "</table>\n",
       "</div>"
      ],
      "text/plain": [
       "          tenquanlykhuvuc  counts\n",
       "0            DAO TAN HIEU  119507\n",
       "1       NGUYEN HOANG VIEN   91273\n",
       "2       HOANG TRUNG THANH   78052\n",
       "3             NGO TIEN VU   73766\n",
       "4            TRAN CHI TAM   64432\n",
       "5         NGUYEN THI DUNG   31413\n",
       "6             LE DUC CHAU   31076\n",
       "7      DUONG TAN BUU (KN)   17560\n",
       "8         VO THI KIM LIEN    6378\n",
       "9           DUONG TAN BUU    5889\n",
       "10           LAM VAN CANH    5810\n",
       "11      PHAN THI BINH KHE    3371\n",
       "12  NGUYEN THO CHIEN (KN)    2560"
      ]
     },
     "execution_count": 14,
     "metadata": {},
     "output_type": "execute_result"
    }
   ],
   "source": [
    "vc(df2, 'tenquanlykhuvuc')"
   ]
  },
  {
   "cell_type": "code",
   "execution_count": 35,
   "metadata": {},
   "outputs": [],
   "source": [
    "df2['tenquanlykhuvuc'].replace(\"DUONG TAN BUU (KN)\", \"DUONG TAN BUU\", inplace=True)\n",
    "df2['tenquanlykhuvuc'].replace(\"NGUYEN THO CHIEN (KN)\", \"NGUYEN THO CHIEN\", inplace=True)"
   ]
  },
  {
   "cell_type": "code",
   "execution_count": 36,
   "metadata": {},
   "outputs": [],
   "source": [
    "df3 = df2[['makhcu','tenkhachhang']].copy()\n",
    "df3.drop_duplicates(inplace=True, keep='first')\n",
    "# df_to_dict(df3)\n",
    "df2['tenkhachhang'] = df2['makhcu'].map(df_to_dict(df3))\n",
    "del(df3)\n",
    "# df2.doanhsochuavat.sum()\n",
    "# print_df_schema(df2)"
   ]
  },
  {
   "cell_type": "code",
   "execution_count": 37,
   "metadata": {},
   "outputs": [
    {
     "data": {
      "text/plain": [
       "0"
      ]
     },
     "execution_count": 37,
     "metadata": {},
     "output_type": "execute_result"
    }
   ],
   "source": [
    "grouplist = \\\n",
    "    ['thang', 'khuvucviettat', 'tentinhkh', 'makenhkh', 'makenhphu',\n",
    "       'newhco', 'yttn', 'tentathcotenme', 'madlpp', 'tendlpp', 'makhcu',\n",
    "       'tenkhachhang', 'mahcp', 'tenhcp', 'masanpham', 'tensanphamnb',\n",
    "       'tensanphamviettat', 'manv', 'tencvbh', 'tenquanlytt',\n",
    "       'tenquanlykhuvuc', 'tenquanlyvung', 'phanloaispcl', 'nhomsp']\n",
    "agg_dict = \\\n",
    "{\n",
    "    'dongiachuavat':np.sum, 'dongiacovat':np.sum, 'soluong':np.sum,\n",
    "       'doanhsochuavat':np.sum, 'doanhsotruocvat':np.sum\n",
    "}\n",
    "df3 =  pivot(df2, grouplist, agg_dict)\n",
    "df3.duplicated().sum()"
   ]
  },
  {
   "cell_type": "code",
   "execution_count": 38,
   "metadata": {},
   "outputs": [
    {
     "name": "stdout",
     "output_type": "stream",
     "text": [
      "Data inserted using execute_values() successfully..\n"
     ]
    }
   ],
   "source": [
    "df3['inserted_at'] = datetime(2019,12,31)\n",
    "execute_values_insert(df3, \"f_monthly_sales\")"
   ]
  },
  {
   "cell_type": "code",
   "execution_count": null,
   "metadata": {},
   "outputs": [],
   "source": []
  }
 ],
 "metadata": {
  "kernelspec": {
   "display_name": "Python 3.8.10 ('venv': venv)",
   "language": "python",
   "name": "python3"
  },
  "language_info": {
   "codemirror_mode": {
    "name": "ipython",
    "version": 3
   },
   "file_extension": ".py",
   "mimetype": "text/x-python",
   "name": "python",
   "nbconvert_exporter": "python",
   "pygments_lexer": "ipython3",
   "version": "3.8.10 (tags/v3.8.10:3d8993a, May  3 2021, 11:48:03) [MSC v.1928 64 bit (AMD64)]"
  },
  "orig_nbformat": 4,
  "vscode": {
   "interpreter": {
    "hash": "8fb55849e6741974ce442ee684e971e1b6b22c29ca2b25c3b9069bf531e0354a"
   }
  }
 },
 "nbformat": 4,
 "nbformat_minor": 2
}
