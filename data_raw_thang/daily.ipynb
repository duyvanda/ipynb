{
 "cells": [
  {
   "cell_type": "code",
   "execution_count": 1,
   "metadata": {},
   "outputs": [
    {
     "name": "stdout",
     "output_type": "stream",
     "text": [
      "Default bq project:  spatial-vision-343005.biteam\n"
     ]
    }
   ],
   "source": [
    "# import os, pyodbc, time, unidecode\n",
    "from utils.df_handle import *"
   ]
  },
  {
   "cell_type": "code",
   "execution_count": 2,
   "metadata": {},
   "outputs": [],
   "source": [
    "# day_ago = 2\n",
    "datenow = datetime.now().strftime(\"%Y%m%d\")\n",
    "# datenow_day_ago = ( datetime.now()-timedelta(day_ago) ).strftime(\"%Y%m%d\")\n",
    "# param_1 = f\"'{datenow_day_ago}'\"\n",
    "param_2 = f\"'20220401'\"\n",
    "param_3 = f\"'{datenow}'\"\n",
    "param_4 = f\"'20220405'\"\n",
    "\n",
    "query = f\"EXEC [pr_OM_RawdataSellOutPayroll_BI_v1] @Fromdate={param_3}, @Todate={param_3}\"\n",
    "FINAL = get_ms_df(sql=query)"
   ]
  },
  {
   "cell_type": "code",
   "execution_count": 3,
   "metadata": {},
   "outputs": [
    {
     "data": {
      "text/plain": [
       "Mã Công Ty/CN                    object\n",
       "Công Ty/CN                       object\n",
       "Ngày Chứng Từ            datetime64[ns]\n",
       "Số Đơn Đặt Hàng                  object\n",
       "MaHD                             object\n",
       "Số Đơn Trả Hàng                  object\n",
       "Ngày Trả Hàng                    object\n",
       "Hóa Đơn                          object\n",
       "Trạng Thái                       object\n",
       "Mã KH DMS                        object\n",
       "Mã KH Cũ                         object\n",
       "Tên Khách Hàng                   object\n",
       "THTT                             object\n",
       "PMT                              object\n",
       "Tên Vùng BH                      object\n",
       "Tên Khu Vực                      object\n",
       "Tên Tỉnh KH                      object\n",
       "Tên Quận/HUyện                   object\n",
       "Mã Kênh KH                       object\n",
       "Tên Kênh KH                      object\n",
       "Mã Kênh Phụ                      object\n",
       "Tên Kênh Phụ                     object\n",
       "Mã HCO                           object\n",
       "Tên HCO                          object\n",
       "Mã Phân Loại HCO                 object\n",
       "Tên Phân Loại HCO                object\n",
       "Mã Phân Hạng HCO                 object\n",
       "Tên Phân Hạng HCO                object\n",
       "Nhãn Hàng                        object\n",
       "Mã Sản Phẩm                      object\n",
       "Tên Sản Phẩm NB                  object\n",
       "Tên Sản Phẩm Viết Tắt            object\n",
       "Số Lô                            object\n",
       "LineRef                          object\n",
       "Số Lượng                        float64\n",
       "Đơn Giá (Có VAT)                float64\n",
       "Doanh Số (Có VAT)               float64\n",
       "Đơn Giá (Chưa VAT)              float64\n",
       "Doanh Số (Chưa VAT)             float64\n",
       "Ngày Đặt Đon             datetime64[ns]\n",
       "Ngày Giao Hàng                   object\n",
       "Mã NV                            object\n",
       "Tên CVBH                         object\n",
       "Tên Quản Lý TT                   object\n",
       "Tên Quản Lý Khu Vực              object\n",
       "Tên Quản Lý Vùng                 object\n",
       "Mã NVGH                          object\n",
       "Người Giao hàng                  object\n",
       "Trạng Thái Giao Hàng             object\n",
       "Đơn Vị Giao Hàng                 object\n",
       "Tên Nhà Vận Chuyển               object\n",
       "Kiểu Đơn Hàng                    object\n",
       "Mã Kho                           object\n",
       "Tên Kho                          object\n",
       "dtype: object"
      ]
     },
     "execution_count": 3,
     "metadata": {},
     "output_type": "execute_result"
    }
   ],
   "source": [
    "FINAL.dtypes"
   ]
  },
  {
   "cell_type": "code",
   "execution_count": 7,
   "metadata": {},
   "outputs": [],
   "source": [
    "FINAL.columns = cleancols(FINAL)\n",
    "\n",
    "if str(FINAL.NgayGiaoHang.dtypes) == 'object' : FINAL.NgayGiaoHang = pd.to_datetime(FINAL.NgayGiaoHang, dayfirst=True)\n",
    "\n",
    "if str(FINAL.NgayTraHang.dtypes) == 'object' : FINAL.NgayTraHang = pd.to_datetime(FINAL.NgayTraHang, dayfirst=True)\n",
    "\n",
    "FINAL.NgayGiaoHang.fillna(datetime(1900, 1, 1), inplace=True)\n",
    "\n",
    "FINAL['phanloaispcl'] = FINAL['MaSanPham'].map(\n",
    "    df_to_dict(get_ps_df(\"select masanpham, phanloai from d_nhom_sp where nhomsp='SPCL'\"))\n",
    ").fillna('Khác')\n",
    "\n",
    "FINAL['nhomsp'] = FINAL['MaSanPham'].map(\n",
    "    df_to_dict(get_ps_df(\"select masanpham, nhomsp from d_nhom_sp where nhomsp IN ('SPCL', 'SP MOI') \"))\n",
    ").fillna('Khác')\n",
    "\n",
    "FINAL['khuvucviettat'] = FINAL['TenKhuVuc'].map(\n",
    "    df_to_dict(get_ps_df(\"select * from d_mkv_viet_tat\"))\n",
    ")\n",
    "\n",
    "FINAL['chinhanh'] = FINAL['MaCongTyCN'].map(\n",
    "    df_to_dict(get_ps_df(\"select * from d_chi_nhanh\"))\n",
    ")\n",
    "\n",
    "FINAL['newhco'] = (FINAL['MaKenhPhu']+FINAL['MaPhanLoaiHCO']).map(\n",
    "    df_to_dict(get_ps_df(\"SELECT concat(makenhphu, maphanloaihco) as concat, new_mahco FROM d_pl_hco\"))\n",
    ")\n",
    "\n",
    "FINAL['phanam'] = FINAL['MaSanPham'].map(\n",
    "    df_to_dict(get_ps_df(\"select masanpham, nhomsp from d_nhom_sp where nhomsp='PHA NAM'\"))).fillna('Merap')\n",
    "\n",
    "FINAL['thang'] = FINAL['NgayChungTu'] + pd.offsets.Day() - pd.offsets.MonthBegin()\n",
    "\n",
    "FINAL['inserted_at'] = datetime.now()\n",
    "\n",
    "FINAL['PMT'] = np.where(FINAL['PMT'].isin(['B','C']),'TM','CK')\n",
    "\n",
    "# BQ first\n",
    "\n",
    "datenow_ = datetime.now().strftime(\"%Y-%m-%d\")"
   ]
  },
  {
   "cell_type": "code",
   "execution_count": 8,
   "metadata": {},
   "outputs": [],
   "source": [
    "FINAL.columns = lower_col(FINAL)"
   ]
  },
  {
   "cell_type": "code",
   "execution_count": 9,
   "metadata": {},
   "outputs": [],
   "source": [
    "pk = ['macongtycn', 'ngaychungtu', 'sodondathang', 'masanpham', 'solo', 'lineref', 'soluong']"
   ]
  },
  {
   "cell_type": "code",
   "execution_count": 10,
   "metadata": {},
   "outputs": [],
   "source": [
    "# FINAL.columns"
   ]
  },
  {
   "cell_type": "code",
   "execution_count": 13,
   "metadata": {},
   "outputs": [],
   "source": [
    "FINAL[checkdup(FINAL, 2, subset=pk)].to_clipboard()"
   ]
  },
  {
   "cell_type": "code",
   "execution_count": 13,
   "metadata": {},
   "outputs": [],
   "source": [
    "if FINAL.shape[0] != 0 :\n",
    "\n",
    "FINAL.columns = cleancols(FINAL)\n",
    "\n",
    "if str(FINAL.NgayGiaoHang.dtypes) == 'object' : FINAL.NgayGiaoHang = pd.to_datetime(FINAL.NgayGiaoHang, dayfirst=True)\n",
    "\n",
    "if str(FINAL.NgayTraHang.dtypes) == 'object' : FINAL.NgayTraHang = pd.to_datetime(FINAL.NgayTraHang, dayfirst=True)\n",
    "\n",
    "FINAL.NgayGiaoHang.fillna(datetime(1900, 1, 1), inplace=True)\n",
    "\n",
    "FINAL['phanloaispcl'] = FINAL['MaSanPham'].map(\n",
    "    df_to_dict(get_ps_df(\"select masanpham, phanloai from d_nhom_sp where nhomsp='SPCL'\"))\n",
    ").fillna('Khác')\n",
    "\n",
    "FINAL['nhomsp'] = FINAL['MaSanPham'].map(\n",
    "    df_to_dict(get_ps_df(\"select masanpham, nhomsp from d_nhom_sp where nhomsp IN ('SPCL', 'SP MOI') \"))\n",
    ").fillna('Khác')\n",
    "\n",
    "FINAL['khuvucviettat'] = FINAL['TenKhuVuc'].map(\n",
    "    df_to_dict(get_ps_df(\"select * from d_mkv_viet_tat\"))\n",
    ")\n",
    "\n",
    "FINAL['chinhanh'] = FINAL['MaCongTyCN'].map(\n",
    "    df_to_dict(get_ps_df(\"select * from d_chi_nhanh\"))\n",
    ")\n",
    "\n",
    "FINAL['newhco'] = (FINAL['MaKenhPhu']+FINAL['MaPhanLoaiHCO']).map(\n",
    "    df_to_dict(get_ps_df(\"SELECT concat(makenhphu, maphanloaihco) as concat, new_mahco FROM d_pl_hco\"))\n",
    ")\n",
    "\n",
    "FINAL['phanam'] = FINAL['MaSanPham'].map(\n",
    "    df_to_dict(get_ps_df(\"select masanpham, nhomsp from d_nhom_sp where nhomsp='PHA NAM'\"))).fillna('Merap')\n",
    "\n",
    "FINAL['thang'] = FINAL['NgayChungTu'] + pd.offsets.Day() - pd.offsets.MonthBegin()\n",
    "\n",
    "FINAL['inserted_at'] = datetime.now()\n",
    "\n",
    "FINAL['PMT'] = np.where(FINAL['PMT'].isin(['B','C']),'TM','CK')\n",
    "\n",
    "# BQ first\n",
    "\n",
    "datenow_ = datetime.now().strftime(\"%Y-%m-%d\")\n",
    "\n",
    "        sql =\\\n",
    "        f\"\"\"\n",
    "        DELETE FROM biteam.f_sales where DATE(ngaychungtu)='{datenow_}'\n",
    "        \"\"\"\n",
    "        execute_bq_query(sql)\n",
    "\n",
    "        bq_values_insert(FINAL, \"f_sales\", 2)\n",
    "\n",
    "        pk = ['macongtycn', 'ngaychungtu', 'sodondathang', 'masanpham', 'solo', 'lineref', 'soluong']\n",
    "\n",
    "        execute_values_upsert(FINAL, 'f_sales', pk=pk)\n",
    "else:\n",
    "    print('Not now')"
   ]
  },
  {
   "cell_type": "code",
   "execution_count": 14,
   "metadata": {},
   "outputs": [],
   "source": [
    "# FINAL['inserted_at'] = datetime(2021,5,31)"
   ]
  },
  {
   "cell_type": "code",
   "execution_count": 15,
   "metadata": {},
   "outputs": [],
   "source": [
    "# pk = ['macongtycn', 'ngaychungtu', 'sodondathang', 'masanpham', 'solo', 'lineref', 'soluong']"
   ]
  },
  {
   "cell_type": "code",
   "execution_count": null,
   "metadata": {},
   "outputs": [],
   "source": []
  },
  {
   "cell_type": "code",
   "execution_count": 16,
   "metadata": {},
   "outputs": [
    {
     "name": "stderr",
     "output_type": "stream",
     "text": [
      "1it [00:12, 12.84s/it]\n"
     ]
    }
   ],
   "source": [
    "bq_values_insert(FINAL, \"f_sales\", 2)"
   ]
  },
  {
   "cell_type": "code",
   "execution_count": 3,
   "metadata": {},
   "outputs": [],
   "source": [
    "datenow = datetime.now().strftime(\"%Y-%m-%d\")"
   ]
  },
  {
   "cell_type": "code",
   "execution_count": 4,
   "metadata": {},
   "outputs": [
    {
     "data": {
      "text/plain": [
       "'2022-04-05'"
      ]
     },
     "execution_count": 4,
     "metadata": {},
     "output_type": "execute_result"
    }
   ],
   "source": [
    "datenow"
   ]
  },
  {
   "cell_type": "code",
   "execution_count": 7,
   "metadata": {},
   "outputs": [],
   "source": [
    "sql =\\\n",
    "f\"\"\"\n",
    "DELETE FROM biteam.f_sales where DATE(ngaychungtu)='{datenow}'\n",
    "\"\"\""
   ]
  },
  {
   "cell_type": "code",
   "execution_count": 8,
   "metadata": {},
   "outputs": [],
   "source": [
    "execute_bq_query(sql)"
   ]
  },
  {
   "cell_type": "code",
   "execution_count": 10,
   "metadata": {},
   "outputs": [],
   "source": [
    "# df = get_bq_df(\"SELECT * FROM `spatial-vision-343005.biteam.f_sales` WHERE DATE(ngaychungtu) = '2022-04-05'\")"
   ]
  },
  {
   "cell_type": "code",
   "execution_count": 11,
   "metadata": {},
   "outputs": [],
   "source": [
    "# df.inserted_at.head()"
   ]
  },
  {
   "cell_type": "code",
   "execution_count": 25,
   "metadata": {},
   "outputs": [
    {
     "name": "stdout",
     "output_type": "stream",
     "text": [
      "INSERT INTO f_sales(MaCongTyCN,CongTyCN,NgayChungTu,SoDonDatHang,MaHD,SoDonTraHang,NgayTraHang,HoaDon,TrangThai,MaKHDMS,MaKHCu,TenKhachHang,THTT,PMT,TenVungBH,TenKhuVuc,TenTinhKH,TenQuanHUyen,MaKenhKH,TenKenhKH,MaKenhPhu,TenKenhPhu,MaHCO,TenHCO,MaPhanLoaiHCO,TenPhanLoaiHCO,MaPhanHangHCO,TenPhanHangHCO,NhanHang,MaSanPham,TenSanPhamNB,TenSanPhamVietTat,SoLo,LineRef,SoLuong,DonGiaCoVAT,DoanhSoCoVAT,DonGiaChuaVAT,DoanhSoChuaVAT,NgayDatDon,NgayGiaoHang,MaNV,TenCVBH,TenQuanLyTT,TenQuanLyKhuVuc,TenQuanLyVung,MaNVGH,NguoiGiaohang,TrangThaiGiaoHang,DonViGiaoHang,TenNhaVanChuyen,KieuDonHang,MaKho,TenKho,phanloaispcl,nhomsp,khuvucviettat,chinhanh,newhco,phanam,thang,inserted_at) VALUES %s ON CONFLICT (macongtycn, ngaychungtu, sodondathang, masanpham, solo, lineref, soluong) DO UPDATE SET MaCongTyCN = excluded.MaCongTyCN, CongTyCN = excluded.CongTyCN, NgayChungTu = excluded.NgayChungTu, SoDonDatHang = excluded.SoDonDatHang, MaHD = excluded.MaHD, SoDonTraHang = excluded.SoDonTraHang, NgayTraHang = excluded.NgayTraHang, HoaDon = excluded.HoaDon, TrangThai = excluded.TrangThai, MaKHDMS = excluded.MaKHDMS, MaKHCu = excluded.MaKHCu, TenKhachHang = excluded.TenKhachHang, THTT = excluded.THTT, PMT = excluded.PMT, TenVungBH = excluded.TenVungBH, TenKhuVuc = excluded.TenKhuVuc, TenTinhKH = excluded.TenTinhKH, TenQuanHUyen = excluded.TenQuanHUyen, MaKenhKH = excluded.MaKenhKH, TenKenhKH = excluded.TenKenhKH, MaKenhPhu = excluded.MaKenhPhu, TenKenhPhu = excluded.TenKenhPhu, MaHCO = excluded.MaHCO, TenHCO = excluded.TenHCO, MaPhanLoaiHCO = excluded.MaPhanLoaiHCO, TenPhanLoaiHCO = excluded.TenPhanLoaiHCO, MaPhanHangHCO = excluded.MaPhanHangHCO, TenPhanHangHCO = excluded.TenPhanHangHCO, NhanHang = excluded.NhanHang, MaSanPham = excluded.MaSanPham, TenSanPhamNB = excluded.TenSanPhamNB, TenSanPhamVietTat = excluded.TenSanPhamVietTat, SoLo = excluded.SoLo, LineRef = excluded.LineRef, SoLuong = excluded.SoLuong, DonGiaCoVAT = excluded.DonGiaCoVAT, DoanhSoCoVAT = excluded.DoanhSoCoVAT, DonGiaChuaVAT = excluded.DonGiaChuaVAT, DoanhSoChuaVAT = excluded.DoanhSoChuaVAT, NgayDatDon = excluded.NgayDatDon, NgayGiaoHang = excluded.NgayGiaoHang, MaNV = excluded.MaNV, TenCVBH = excluded.TenCVBH, TenQuanLyTT = excluded.TenQuanLyTT, TenQuanLyKhuVuc = excluded.TenQuanLyKhuVuc, TenQuanLyVung = excluded.TenQuanLyVung, MaNVGH = excluded.MaNVGH, NguoiGiaohang = excluded.NguoiGiaohang, TrangThaiGiaoHang = excluded.TrangThaiGiaoHang, DonViGiaoHang = excluded.DonViGiaoHang, TenNhaVanChuyen = excluded.TenNhaVanChuyen, KieuDonHang = excluded.KieuDonHang, MaKho = excluded.MaKho, TenKho = excluded.TenKho, phanloaispcl = excluded.phanloaispcl, nhomsp = excluded.nhomsp, khuvucviettat = excluded.khuvucviettat, chinhanh = excluded.chinhanh, newhco = excluded.newhco, phanam = excluded.phanam, thang = excluded.thang, inserted_at = excluded.inserted_at\n",
      "Data inserted using execute_values() successfully..\n"
     ]
    }
   ],
   "source": [
    "FINAL['inserted_at'] = datetime(2021,5,31)\n",
    "\n",
    "# pk = ['macongtycn', 'ngaychungtu', 'sodondathang', 'masanpham', 'solo', 'lineref', 'soluong']\n",
    "\n",
    "execute_values_upsert(FINAL, 'f_sales', pk=pk)"
   ]
  },
  {
   "cell_type": "code",
   "execution_count": 4,
   "metadata": {},
   "outputs": [
    {
     "name": "stdout",
     "output_type": "stream",
     "text": [
      "INSERT INTO f_sales(MaCongTyCN,CongTyCN,NgayChungTu,SoDonDatHang,SoDonTraHang,NgayTraHang,HoaDon,TrangThai,MaKHThue,MaKHCu,TenKhachHang,TenVungBH,TenKhuVuc,TenTinhKH,TenQuanHUyen,MaKenhKH,TenKenhKH,MaKenhPhu,TenKenhPhu,MaHCO,TenHCO,MaPhanLoaiHCO,TenPhanLoaiHCO,MaPhanHangHCO,TenPhanHangHCO,NhanHang,MaSanPham,TenSanPhamNB,TenSanPhamVietTat,SoLo,LineRef,SoLuong,DonGiaCoVAT,DoanhSoCoVAT,DonGiaChuaVAT,DoanhSoChuaVAT,NgayDatDon,NgayGiaoHang,MaNV,TenCVBH,TenQuanLyTT,TenQuanLyKhuVuc,TenQuanLyVung,MaNVGH,NguoiGiaohang,TrangThaiGiaoHang,DonViGiaoHang,TenNhaVanChuyen,KieuDonHang,MaKho,TenKho,phanloaispcl,nhomsp,khuvucviettat,chinhanh,newhco,phanam,thang,inserted_at) VALUES %s ON CONFLICT (macongtycn, ngaychungtu, sodondathang, masanpham, solo, lineref, soluong) DO UPDATE SET MaCongTyCN = excluded.MaCongTyCN, CongTyCN = excluded.CongTyCN, NgayChungTu = excluded.NgayChungTu, SoDonDatHang = excluded.SoDonDatHang, SoDonTraHang = excluded.SoDonTraHang, NgayTraHang = excluded.NgayTraHang, HoaDon = excluded.HoaDon, TrangThai = excluded.TrangThai, MaKHThue = excluded.MaKHThue, MaKHCu = excluded.MaKHCu, TenKhachHang = excluded.TenKhachHang, TenVungBH = excluded.TenVungBH, TenKhuVuc = excluded.TenKhuVuc, TenTinhKH = excluded.TenTinhKH, TenQuanHUyen = excluded.TenQuanHUyen, MaKenhKH = excluded.MaKenhKH, TenKenhKH = excluded.TenKenhKH, MaKenhPhu = excluded.MaKenhPhu, TenKenhPhu = excluded.TenKenhPhu, MaHCO = excluded.MaHCO, TenHCO = excluded.TenHCO, MaPhanLoaiHCO = excluded.MaPhanLoaiHCO, TenPhanLoaiHCO = excluded.TenPhanLoaiHCO, MaPhanHangHCO = excluded.MaPhanHangHCO, TenPhanHangHCO = excluded.TenPhanHangHCO, NhanHang = excluded.NhanHang, MaSanPham = excluded.MaSanPham, TenSanPhamNB = excluded.TenSanPhamNB, TenSanPhamVietTat = excluded.TenSanPhamVietTat, SoLo = excluded.SoLo, LineRef = excluded.LineRef, SoLuong = excluded.SoLuong, DonGiaCoVAT = excluded.DonGiaCoVAT, DoanhSoCoVAT = excluded.DoanhSoCoVAT, DonGiaChuaVAT = excluded.DonGiaChuaVAT, DoanhSoChuaVAT = excluded.DoanhSoChuaVAT, NgayDatDon = excluded.NgayDatDon, NgayGiaoHang = excluded.NgayGiaoHang, MaNV = excluded.MaNV, TenCVBH = excluded.TenCVBH, TenQuanLyTT = excluded.TenQuanLyTT, TenQuanLyKhuVuc = excluded.TenQuanLyKhuVuc, TenQuanLyVung = excluded.TenQuanLyVung, MaNVGH = excluded.MaNVGH, NguoiGiaohang = excluded.NguoiGiaohang, TrangThaiGiaoHang = excluded.TrangThaiGiaoHang, DonViGiaoHang = excluded.DonViGiaoHang, TenNhaVanChuyen = excluded.TenNhaVanChuyen, KieuDonHang = excluded.KieuDonHang, MaKho = excluded.MaKho, TenKho = excluded.TenKho, phanloaispcl = excluded.phanloaispcl, nhomsp = excluded.nhomsp, khuvucviettat = excluded.khuvucviettat, chinhanh = excluded.chinhanh, newhco = excluded.newhco, phanam = excluded.phanam, thang = excluded.thang, inserted_at = excluded.inserted_at\n",
      "Data inserted using execute_values() successfully..\n"
     ]
    }
   ],
   "source": [
    "FINAL.columns = cleancols(FINAL)\n",
    "\n",
    "FINAL.NgayGiaoHang.fillna(datetime(1900, 1, 1), inplace=True)\n",
    "\n",
    "FINAL['phanloaispcl'] = FINAL['MaSanPham'].map(\n",
    "    df_to_dict(get_ps_df(\"select masanpham, phanloai from d_nhom_sp where nhomsp='SPCL'\"))\n",
    ").fillna('Khác')\n",
    "\n",
    "FINAL['nhomsp'] = FINAL['MaSanPham'].map(\n",
    "    df_to_dict(get_ps_df(\"select masanpham, nhomsp from d_nhom_sp where nhomsp IN ('SPCL', 'SP MOI') \"))\n",
    ").fillna('Khác')\n",
    "\n",
    "FINAL['khuvucviettat'] = FINAL['TenKhuVuc'].map(\n",
    "    df_to_dict(get_ps_df(\"select * from d_mkv_viet_tat\"))\n",
    ")\n",
    "\n",
    "FINAL['chinhanh'] = FINAL['MaCongTyCN'].map(\n",
    "    df_to_dict(get_ps_df(\"select * from d_chi_nhanh\"))\n",
    ")\n",
    "\n",
    "FINAL['newhco'] = (FINAL['MaKenhPhu']+FINAL['MaPhanLoaiHCO']).map(\n",
    "    df_to_dict(get_ps_df(\"SELECT concat(makenhphu, maphanloaihco) as concat, new_mahco FROM d_pl_hco\"))\n",
    ")\n",
    "\n",
    "FINAL['phanam'] = FINAL['MaSanPham'].map(\n",
    "    df_to_dict(get_ps_df(\"select masanpham, nhomsp from d_nhom_sp where nhomsp='PHA NAM'\"))).fillna('Merap')\n",
    "\n",
    "FINAL['thang'] = FINAL['NgayChungTu'] + pd.offsets.Day() - pd.offsets.MonthBegin()\n",
    "\n",
    "FINAL['inserted_at'] = datetime(2022,2,7)\n",
    "\n",
    "pk = ['macongtycn', 'ngaychungtu', 'sodondathang', 'masanpham', 'solo', 'lineref', 'soluong']\n",
    "\n",
    "execute_values_upsert(FINAL, 'f_sales', pk=pk)"
   ]
  },
  {
   "cell_type": "code",
   "execution_count": 6,
   "metadata": {},
   "outputs": [],
   "source": [
    "# FINAL.NgayGiaoHang.fillna(datetime(1900, 1, 1), inplace=True)"
   ]
  },
  {
   "cell_type": "code",
   "execution_count": 7,
   "metadata": {},
   "outputs": [],
   "source": [
    "# vc(FINAL, 'NgayGiaoHang').to_clipboard()"
   ]
  },
  {
   "cell_type": "code",
   "execution_count": 8,
   "metadata": {},
   "outputs": [],
   "source": [
    "# FINAL.dtypes"
   ]
  },
  {
   "cell_type": "code",
   "execution_count": 9,
   "metadata": {},
   "outputs": [],
   "source": [
    "# FINAL.columns = lower_col(FINAL)"
   ]
  },
  {
   "cell_type": "code",
   "execution_count": 11,
   "metadata": {},
   "outputs": [
    {
     "data": {
      "text/plain": [
       "Index(['MaCongTyCN', 'CongTyCN', 'NgayChungTu', 'SoDonDatHang', 'SoDonTraHang',\n",
       "       'NgayTraHang', 'HoaDon', 'TrangThai', 'MaKHThue', 'MaKHCu',\n",
       "       'TenKhachHang', 'TenVungBH', 'TenKhuVuc', 'TenTinhKH', 'TenQuanHUyen',\n",
       "       'MaKenhKH', 'TenKenhKH', 'MaKenhPhu', 'TenKenhPhu', 'MaHCO', 'TenHCO',\n",
       "       'MaPhanLoaiHCO', 'TenPhanLoaiHCO', 'MaPhanHangHCO', 'TenPhanHangHCO',\n",
       "       'NhanHang', 'MaSanPham', 'TenSanPhamNB', 'TenSanPhamVietTat', 'SoLo',\n",
       "       'LineRef', 'SoLuong', 'DonGiaCoVAT', 'DoanhSoCoVAT', 'DonGiaChuaVAT',\n",
       "       'DoanhSoChuaVAT', 'NgayDatDon', 'NgayGiaoHang', 'MaNV', 'TenCVBH',\n",
       "       'TenQuanLyTT', 'TenQuanLyKhuVuc', 'TenQuanLyVung', 'MaNVGH',\n",
       "       'NguoiGiaohang', 'TrangThaiGiaoHang', 'DonViGiaoHang',\n",
       "       'TenNhaVanChuyen', 'KieuDonHang', 'MaKho', 'TenKho', 'phanloaispcl',\n",
       "       'nhomsp', 'khuvucviettat', 'chinhanh', 'newhco', 'phanam', 'thang',\n",
       "       'inserted_at'],\n",
       "      dtype='object')"
      ]
     },
     "execution_count": 11,
     "metadata": {},
     "output_type": "execute_result"
    }
   ],
   "source": [
    "FINAL.columns"
   ]
  },
  {
   "cell_type": "code",
   "execution_count": 10,
   "metadata": {},
   "outputs": [
    {
     "data": {
      "text/plain": [
       "Index(['MaCongTyCN', 'CongTyCN', 'NgayChungTu', 'SoDonDatHang', 'SoDonTraHang',\n",
       "       'NgayTraHang', 'HoaDon', 'TrangThai', 'MaKHThue', 'MaKHCu',\n",
       "       'TenKhachHang', 'TenVungBH', 'TenKhuVuc', 'TenTinhKH', 'MaKenhKH',\n",
       "       'TenKenhKH', 'MaKenhPhu', 'TenKenhPhu', 'MaHCO', 'TenHCO',\n",
       "       'MaPhanLoaiHCO', 'TenPhanLoaiHCO', 'MaPhanHangHCO', 'TenPhanHangHCO',\n",
       "       'NhanHang', 'MaSanPham', 'TenSanPhamNB', 'TenSanPhamVietTat', 'SoLo',\n",
       "       'LineRef', 'SoLuong', 'DonGiaCoVAT', 'DoanhSoCoVAT', 'DonGiaChuaVAT',\n",
       "       'DoanhSoChuaVAT', 'NgayDatDon', 'NgayGiaoHang', 'MaNV', 'TenCVBH',\n",
       "       'TenQuanLyTT', 'TenQuanLyKhuVuc', 'TenQuanLyVung', 'MaNVGH',\n",
       "       'NguoiGiaohang', 'TrangThaiGiaoHang', 'DonViGiaoHang',\n",
       "       'TenNhaVanChuyen', 'KieuDonHang', 'MaKho', 'TenKho', 'phanloaispcl',\n",
       "       'nhomsp', 'khuvucviettat', 'chinhanh', 'newhco', 'phanam', 'thang',\n",
       "       'inserted_at'],\n",
       "      dtype='object')"
      ]
     },
     "execution_count": 10,
     "metadata": {},
     "output_type": "execute_result"
    }
   ],
   "source": [
    "FINAL.columns"
   ]
  },
  {
   "cell_type": "code",
   "execution_count": 11,
   "metadata": {},
   "outputs": [],
   "source": [
    "pk = ['macongtycn', 'ngaychungtu', 'sodondathang', 'masanpham', 'solo', 'lineref', 'soluong']"
   ]
  },
  {
   "cell_type": "code",
   "execution_count": 12,
   "metadata": {},
   "outputs": [],
   "source": [
    "# df_filter(FINAL, sodondathang='OO102021-00001').to_clipboard()"
   ]
  },
  {
   "cell_type": "code",
   "execution_count": 13,
   "metadata": {},
   "outputs": [
    {
     "name": "stdout",
     "output_type": "stream",
     "text": [
      "INSERT INTO f_sales(MaCongTyCN,CongTyCN,NgayChungTu,SoDonDatHang,SoDonTraHang,NgayTraHang,HoaDon,TrangThai,MaKHThue,MaKHCu,TenKhachHang,TenVungBH,TenKhuVuc,TenTinhKH,MaKenhKH,TenKenhKH,MaKenhPhu,TenKenhPhu,MaHCO,TenHCO,MaPhanLoaiHCO,TenPhanLoaiHCO,MaPhanHangHCO,TenPhanHangHCO,NhanHang,MaSanPham,TenSanPhamNB,TenSanPhamVietTat,SoLo,LineRef,SoLuong,DonGiaCoVAT,DoanhSoCoVAT,DonGiaChuaVAT,DoanhSoChuaVAT,NgayDatDon,NgayGiaoHang,MaNV,TenCVBH,TenQuanLyTT,TenQuanLyKhuVuc,TenQuanLyVung,MaNVGH,NguoiGiaohang,TrangThaiGiaoHang,DonViGiaoHang,TenNhaVanChuyen,KieuDonHang,MaKho,TenKho,phanloaispcl,nhomsp,khuvucviettat,chinhanh,newhco,phanam,thang,inserted_at) VALUES %s ON CONFLICT (macongtycn, ngaychungtu, sodondathang, masanpham, solo, lineref, soluong) DO UPDATE SET MaCongTyCN = excluded.MaCongTyCN, CongTyCN = excluded.CongTyCN, NgayChungTu = excluded.NgayChungTu, SoDonDatHang = excluded.SoDonDatHang, SoDonTraHang = excluded.SoDonTraHang, NgayTraHang = excluded.NgayTraHang, HoaDon = excluded.HoaDon, TrangThai = excluded.TrangThai, MaKHThue = excluded.MaKHThue, MaKHCu = excluded.MaKHCu, TenKhachHang = excluded.TenKhachHang, TenVungBH = excluded.TenVungBH, TenKhuVuc = excluded.TenKhuVuc, TenTinhKH = excluded.TenTinhKH, MaKenhKH = excluded.MaKenhKH, TenKenhKH = excluded.TenKenhKH, MaKenhPhu = excluded.MaKenhPhu, TenKenhPhu = excluded.TenKenhPhu, MaHCO = excluded.MaHCO, TenHCO = excluded.TenHCO, MaPhanLoaiHCO = excluded.MaPhanLoaiHCO, TenPhanLoaiHCO = excluded.TenPhanLoaiHCO, MaPhanHangHCO = excluded.MaPhanHangHCO, TenPhanHangHCO = excluded.TenPhanHangHCO, NhanHang = excluded.NhanHang, MaSanPham = excluded.MaSanPham, TenSanPhamNB = excluded.TenSanPhamNB, TenSanPhamVietTat = excluded.TenSanPhamVietTat, SoLo = excluded.SoLo, LineRef = excluded.LineRef, SoLuong = excluded.SoLuong, DonGiaCoVAT = excluded.DonGiaCoVAT, DoanhSoCoVAT = excluded.DoanhSoCoVAT, DonGiaChuaVAT = excluded.DonGiaChuaVAT, DoanhSoChuaVAT = excluded.DoanhSoChuaVAT, NgayDatDon = excluded.NgayDatDon, NgayGiaoHang = excluded.NgayGiaoHang, MaNV = excluded.MaNV, TenCVBH = excluded.TenCVBH, TenQuanLyTT = excluded.TenQuanLyTT, TenQuanLyKhuVuc = excluded.TenQuanLyKhuVuc, TenQuanLyVung = excluded.TenQuanLyVung, MaNVGH = excluded.MaNVGH, NguoiGiaohang = excluded.NguoiGiaohang, TrangThaiGiaoHang = excluded.TrangThaiGiaoHang, DonViGiaoHang = excluded.DonViGiaoHang, TenNhaVanChuyen = excluded.TenNhaVanChuyen, KieuDonHang = excluded.KieuDonHang, MaKho = excluded.MaKho, TenKho = excluded.TenKho, phanloaispcl = excluded.phanloaispcl, nhomsp = excluded.nhomsp, khuvucviettat = excluded.khuvucviettat, chinhanh = excluded.chinhanh, newhco = excluded.newhco, phanam = excluded.phanam, thang = excluded.thang, inserted_at = excluded.inserted_at\n",
      "Data inserted using execute_values() successfully..\n"
     ]
    }
   ],
   "source": [
    "execute_values_upsert(FINAL, 'f_sales', pk=pk)"
   ]
  },
  {
   "cell_type": "code",
   "execution_count": 39,
   "metadata": {},
   "outputs": [],
   "source": [
    "# FINAL2 = FINAL.head()"
   ]
  },
  {
   "cell_type": "code",
   "execution_count": 40,
   "metadata": {},
   "outputs": [],
   "source": [
    "# FINAL2.to_csv('FINAL.csv')"
   ]
  },
  {
   "cell_type": "code",
   "execution_count": 24,
   "metadata": {},
   "outputs": [],
   "source": [
    "############# ENDDDDDDDDDDD #################"
   ]
  },
  {
   "cell_type": "code",
   "execution_count": 2,
   "metadata": {},
   "outputs": [],
   "source": [
    "df_nhansu = pd.read_csv('datanhansu.csv')"
   ]
  },
  {
   "cell_type": "code",
   "execution_count": 3,
   "metadata": {},
   "outputs": [],
   "source": [
    "df_nhansu.columns = cleancols(df_nhansu)"
   ]
  },
  {
   "cell_type": "code",
   "execution_count": 4,
   "metadata": {},
   "outputs": [
    {
     "name": "stdout",
     "output_type": "stream",
     "text": [
      "STT BIGINT NULL,\n",
      "PHONG VARCHAR(100) NULL,\n",
      "BP VARCHAR(100) NULL,\n",
      "MaNVCRSCRSS VARCHAR(100) NULL,\n",
      "HOTEN VARCHAR(100) NULL,\n",
      "HOTENKHONGDAU VARCHAR(100) NULL,\n",
      "CHUCDANH VARCHAR(100) NULL,\n",
      "TINHTRANG VARCHAR(100) NULL,\n",
      "Ngayvaocongty VARCHAR(100) NULL,\n",
      "KV VARCHAR(100) NULL,\n",
      "SDT VARCHAR(100) NULL,\n",
      "EMAIL VARCHAR(100) NULL,\n",
      "MANVQLTT VARCHAR(100) NULL,\n",
      "QUANLYTRUCTIEP VARCHAR(100) NULL,\n",
      "MANVQLV VARCHAR(100) NULL,\n",
      "QLKHUVUC VARCHAR(100) NULL,\n",
      "MANVQLV1 VARCHAR(100) NULL,\n",
      "QLVUNG VARCHAR(100) NULL,\n"
     ]
    }
   ],
   "source": [
    "print_df_schema(df_nhansu)"
   ]
  },
  {
   "cell_type": "code",
   "execution_count": 10,
   "metadata": {},
   "outputs": [
    {
     "data": {
      "text/plain": [
       "Index(['STT', 'PHONG', 'BP', 'MaNVCRSCRSS', 'HOTEN', 'HOTENKHONGDAU',\n",
       "       'CHUCDANH', 'TINHTRANG', 'Ngayvaocongty', 'KV', 'SDT', 'EMAIL',\n",
       "       'MANVQLTT', 'QUANLYTRUCTIEP', 'MANVQLV', 'QLKHUVUC', 'MANVQLV.1',\n",
       "       'QLVUNG'],\n",
       "      dtype='object')"
      ]
     },
     "execution_count": 10,
     "metadata": {},
     "output_type": "execute_result"
    }
   ],
   "source": [
    "df_nhansu.columns"
   ]
  },
  {
   "cell_type": "code",
   "execution_count": 5,
   "metadata": {},
   "outputs": [],
   "source": [
    "insert_df_to_postgres(\n",
    "postgres_conf, tbl_name=\"nhansu\",\n",
    "df=df_nhansu, primary_keys=['manvcrscrss'], schema=\"biteam\")"
   ]
  },
  {
   "cell_type": "code",
   "execution_count": 2,
   "metadata": {},
   "outputs": [],
   "source": [
    "# df_dict = pd.read_csv('ten_tat_mkv.csv', index_col='TenKhuVuc')\n",
    "df_mkv_viet_tat = pd.read_csv('ten_tat_mkv.csv')"
   ]
  },
  {
   "cell_type": "code",
   "execution_count": 3,
   "metadata": {},
   "outputs": [
    {
     "name": "stdout",
     "output_type": "stream",
     "text": [
      "TenKhuVuc VARCHAR(100) NULL,\n",
      "KhuVuc VARCHAR(100) NULL,\n"
     ]
    }
   ],
   "source": [
    "print_df_schema(df_mkv_viet_tat)"
   ]
  },
  {
   "cell_type": "code",
   "execution_count": 7,
   "metadata": {},
   "outputs": [],
   "source": [
    "x = [x.lower() for x in df_mkv_viet_tat.columns]\n",
    "df_mkv_viet_tat.columns = x\n",
    "insert_df_to_postgres(df=df_mkv_viet_tat, postgres_conf=postgres_conf, tbl_name='mkv_viet_tat',schema=\"biteam\", primary_keys=['tenkhuvuc'])"
   ]
  },
  {
   "cell_type": "code",
   "execution_count": 1,
   "metadata": {},
   "outputs": [
    {
     "name": "stdout",
     "output_type": "stream",
     "text": [
      "start program 2021-10-08 12:32:26.251163\n",
      "current location d:\\data_sale\\ipython_file\\data_raw_thang\n",
      "Load df from server 2021-10-08 12:32:26.362819\n"
     ]
    }
   ],
   "source": [
    "t1 = time.perf_counter()\n",
    "now = datetime.now()\n",
    "print('start program %s' % now)\n",
    "print('current location %s' % os.getcwd())\n",
    "\n",
    "# Server config\n",
    "server = '115.165.164.234'\n",
    "driver = 'SQL Server'\n",
    "db1 = 'PhaNam_eSales_PRO'\n",
    "tcon = 'no'\n",
    "uname = 'duyvq'\n",
    "pword = '123VanQuangDuy'\n",
    "cnxn = pyodbc.connect(driver='{ODBC Driver 17 for SQL Server}',\n",
    "                      host=server, database=db1, trusted_connection=tcon,\n",
    "                      user=uname, password=pword)\n",
    "cursor = cnxn.cursor()\n",
    "\n",
    "# Load df from server\n",
    "print('Load df from server', datetime.now())\n",
    "datenow = datetime.now().strftime(\"%Y%m%d\")\n",
    "param_1 = f\"'20210901'\"\n",
    "param_2 = f\"'20210930'\"\n",
    "query = f\"EXEC [pr_OM_RawdataSellOutPayroll_BI] @Fromdate={param_1}, @Todate={param_2}\"\n",
    "PATH = \"D:\\\\data_sale\\\\ipython_file\\\\data_raw_thang\\\\\"\n",
    "DATAPATH = PATH + \"data\\\\\"\n",
    "FILE = f\"data\\\\raw_data_old_{param_2}.csv\"\n",
    "\n",
    "# df1 = pd.read_sql(query, cnxn)\n",
    "cursor.close()\n",
    "cnxn.close()\n",
    "# df1.to_csv(PATH + FILE)"
   ]
  },
  {
   "cell_type": "code",
   "execution_count": 4,
   "metadata": {},
   "outputs": [
    {
     "ename": "NameError",
     "evalue": "name 'param_2' is not defined",
     "output_type": "error",
     "traceback": [
      "\u001b[1;31m---------------------------------------------------------------------------\u001b[0m",
      "\u001b[1;31mNameError\u001b[0m                                 Traceback (most recent call last)",
      "\u001b[1;32m~\\AppData\\Local\\Temp/ipykernel_13484/1019611363.py\u001b[0m in \u001b[0;36m<module>\u001b[1;34m\u001b[0m\n\u001b[0;32m      1\u001b[0m \u001b[0mPATH\u001b[0m \u001b[1;33m=\u001b[0m \u001b[1;34m\"D:\\\\data_sale\\\\ipython_file\\\\data_raw_thang\\\\\"\u001b[0m\u001b[1;33m\u001b[0m\u001b[1;33m\u001b[0m\u001b[0m\n\u001b[0;32m      2\u001b[0m \u001b[0mDATAPATH\u001b[0m \u001b[1;33m=\u001b[0m \u001b[0mPATH\u001b[0m \u001b[1;33m+\u001b[0m \u001b[1;34m\"data\\\\\"\u001b[0m\u001b[1;33m\u001b[0m\u001b[1;33m\u001b[0m\u001b[0m\n\u001b[1;32m----> 3\u001b[1;33m \u001b[0mFILE\u001b[0m \u001b[1;33m=\u001b[0m \u001b[1;34mf\"data\\\\raw_data_old_{param_2}.csv\"\u001b[0m\u001b[1;33m\u001b[0m\u001b[1;33m\u001b[0m\u001b[0m\n\u001b[0m",
      "\u001b[1;31mNameError\u001b[0m: name 'param_2' is not defined"
     ]
    }
   ],
   "source": [
    "PATH = \"D:\\\\data_sale\\\\ipython_file\\\\data_raw_thang\\\\\"\n",
    "DATAPATH = PATH + \"data\\\\\"\n",
    "FILE = f\"data\\\\raw_data_old_{param_2}.csv\""
   ]
  },
  {
   "cell_type": "code",
   "execution_count": 5,
   "metadata": {},
   "outputs": [
    {
     "name": "stderr",
     "output_type": "stream",
     "text": [
      "C:\\Users\\DELL\\AppData\\Local\\Temp/ipykernel_13484/4228445815.py:5: DtypeWarning: Columns (5,58) have mixed types.Specify dtype option on import or set low_memory=False.\n",
      "  df = csv_reader(DATAPATH+'raw_data_old_20210930.csv')\n"
     ]
    }
   ],
   "source": [
    "def csv_reader(filename):\n",
    "    df_from_csv = pd.read_csv(filename, parse_dates=['Ngày Chứng Từ'], dayfirst=True,\n",
    "                              dtype={'Hóa Đơn':'str'})\n",
    "    return df_from_csv\n",
    "df = csv_reader(DATAPATH+'raw_data_old_20210930.csv')\n",
    "df.columns = cleancols(df)"
   ]
  },
  {
   "cell_type": "code",
   "execution_count": 6,
   "metadata": {},
   "outputs": [],
   "source": [
    "df_mdh_dvvc = df[['MaCongTyCN','SoDonDatHang', 'DonViGiaoHang']].copy()\n",
    "df_mdh_dvvc['MaCongTyCN_SoDonDatHang'] = df['MaCongTyCN']+df['SoDonDatHang']\n",
    "df_mdh_dvvc_2 = df_mdh_dvvc[['MaCongTyCN_SoDonDatHang', 'DonViGiaoHang']]\n",
    "df_mdh_dvvc_2 = dropdup(df_mdh_dvvc_2,1)\n",
    "mdh_dvvc_dict= df_mdh_dvvc_2.set_index('MaCongTyCN_SoDonDatHang').to_dict()['DonViGiaoHang']\n",
    "x = df['DonViGiaoHang']\n",
    "df['DonViGiaoHang'] = np.where(x.isna(), (df['MaCongTyCN']+df['SoDonDatHang']).map(mdh_dvvc_dict),x)"
   ]
  },
  {
   "cell_type": "code",
   "execution_count": 13,
   "metadata": {},
   "outputs": [
    {
     "name": "stdout",
     "output_type": "stream",
     "text": [
      "Done merging\n",
      "Transforming df 2021-10-28 16:06:17.707622\n",
      "61014\n",
      "Google Sheet connection & join data 2021-10-28 16:06:17.832142\n",
      "61014\n",
      "finally imported sales data 2021-10-28 16:06:25.409195\n",
      "Finished in 7.702465800000027 seconds\n"
     ]
    }
   ],
   "source": [
    "t1 = time.perf_counter()\n",
    "\n",
    "print(\"Done merging\")\n",
    "# Transforming df\n",
    "print('Transforming df', datetime.now())\n",
    "df.replace(np.nan, '', inplace=True)\n",
    "print(df.shape[0])\n",
    "\n",
    "df_dict = pd.read_csv('ten_tat_mkv.csv', index_col='TenKhuVuc')\n",
    "khuvuc_dict = df_dict.to_dict()['KhuVuc']\n",
    "\n",
    "df['TenKhuVucVietTat'] = df['TenKhuVuc'].map(khuvuc_dict)\n",
    "\n",
    "# Google Sheet connection\n",
    "print('Google Sheet connection & join data', datetime.now())\n",
    "scopes = ['https://www.googleapis.com/auth/spreadsheets', 'https://www.googleapis.com/auth/drive',\n",
    "          'https://www.googleapis.com/auth/drive.file']\n",
    "jsonfile = 'D:\\\\data_sale\\\\datateam1599968716114-6f9f144b4262.json'\n",
    "credentials = service_account.Credentials.from_service_account_file(jsonfile, scopes=scopes)\n",
    "service = discovery.build('drive', 'v3', credentials=credentials)\n",
    "# df_product\n",
    "url_product='https://drive.google.com/file/d/15ClbdtRJhqF6bIDNgRLqI1wAytIoPWWR/view?usp=sharing'\n",
    "file_id_product=url_product.split('/')[-2]\n",
    "dwn_url_product='https://drive.google.com/uc?id=' + file_id_product\n",
    "df_product = pd.read_csv(dwn_url_product)\n",
    "df = df.merge(df_product[[' Mã Sản Phẩm',' Ngành Hàng']], how = 'left',left_on='MaSanPham', right_on=' Mã Sản Phẩm',suffixes=('_left', '_right'), validate=\"m:1\")\n",
    "\n",
    "\n",
    "# df spcl_mapping -> Phan Loai\n",
    "url_spcl = 'https://drive.google.com/file/d/190OCbFpxOT2KCjwhjC5nSbdcmA7ScbdW/view?usp=sharing'\n",
    "file_id_spcl=url_spcl.split('/')[-2]\n",
    "dwn_url_spcl = 'https://drive.google.com/uc?id=' + file_id_spcl\n",
    "df_spcl = pd.read_csv(dwn_url_spcl)\n",
    "df = df.merge(df_spcl, how='left', left_on='MaSanPham', right_on='MaSanPham',suffixes=('_left', '_right'), validate=\"m:1\")\n",
    "df.rename(columns={'PhanLoai': 'Nhom SPCL'}, inplace=True)\n",
    "\n",
    "# MA HCO 2\n",
    "df['MaKenhPhu_MaHCO'] = df['MaKenhPhu']+df['MaPhanLoaiHCO']\n",
    "url_phanloaihco = 'https://drive.google.com/file/d/1lLdheM4T5Rp5Ht4SMjxAtm4v61wwx9Xr/view?usp=sharing'\n",
    "file_id_phanloaihco=url_phanloaihco.split('/')[-2]\n",
    "dwn_url_phanloaihco = 'https://drive.google.com/uc?id=' + file_id_phanloaihco\n",
    "df_phanloaihco = pd.read_csv(dwn_url_phanloaihco)\n",
    "df = df.merge(df_phanloaihco[['ConCat','Ma HCO 2']], how='left', left_on='MaKenhPhu_MaHCO', right_on='ConCat',suffixes=('_left', '_right'), validate=\"m:1\")\n",
    "df.rename(columns={'Ma HCO 2': 'PL HCO'}, inplace=True)\n",
    "\n",
    "# df_clean_data\n",
    "df = df[df['MaSanPham'].str[:1] != 'V']\n",
    "df = df[df['MaKenhKH'] != 'NB']\n",
    "df['SDDH-CN'] = df['SoDonDatHang']+'.'+df['MaCongTyCN']\n",
    "\n",
    "print(df.shape[0])\n",
    "\n",
    "# NhomSPCL\n",
    "x = np.array(df['MaSanPham'])\n",
    "spcl_inlist = ['EH111',\t'EH086', 'EH104', 'EH106', 'EH103', 'EH109', 'EH115', 'EH094', 'EH092', 'EH102', 'EH116',\n",
    "               'EH087', 'EH108', 'EH091', 'EH112', 'EH101', 'EH117', 'VITOL 0.10%', 'EH125', 'EH124', 'OH082']\n",
    "spm_inlist = [' EH115 ', 'OH072', 'OH076']\n",
    "condlist = [np.isin(x, spcl_inlist), np.isin(x, spm_inlist)]\n",
    "choicelist = ['SPCL', 'SP MOI']\n",
    "default = 'KHAC'\n",
    "df['NhomSP'] = np.select(condlist, choicelist, default=default)\n",
    "\n",
    "# MaMien(B/N)\n",
    "x = np.array(df['MaVungBH'])\n",
    "condlist = [np.isin(x, ['BB', 'HN'])]\n",
    "choicelist = ['MB']\n",
    "default = 'MN'\n",
    "df['MaMien(B/N)'] = np.select(condlist, choicelist, default=default)\n",
    "\n",
    "df1 = df['MaNVGH'].copy()\n",
    "df1.replace(r'^\\s*$', np.nan, regex=True, inplace=True)\n",
    "df['MaNVGH'] = df1\n",
    "\n",
    "df['NVBH_Ao'] = np.where(df['MaNV'].isin(['MA001', 'MA002', 'QUYNHPTA']), 0, 1)\n",
    "df['NVGH_Ao'] = np.where(df['MaNVGH'].isna(), 0, 1)\n",
    "\n",
    "df['DoanhSoBanHangChuaVAT'] = df['DoanhSoChuaVAT'] * df['NVBH_Ao']\n",
    "df['DoanhSoGiaoHangChuaVAT'] = df['DoanhSoChuaVAT'] * df['NVGH_Ao']\n",
    "\n",
    "df['SoKH'] = np.where(checkdup(df,1, 'MaKHCu'),0,1)\n",
    "df['SoDH'] = np.where(checkdup(df,1, 'SDDH-CN'),0,1)\n",
    "\n",
    "\n",
    "# Merap/Phanam\n",
    "phanam_inlist = ['EH072', 'OH057', 'OH032', 'OH047','OH016','OH058','OH060','OH061',\n",
    "          'OH062','OH063','OH064','OH065','OH070','OH069','OH066','OH068','OH067','EH105','OH071','OH079','OH081']\n",
    "\n",
    "x = np.array(df['MaSanPham'])\n",
    "condlist = [np.isin(x, phanam_inlist)]\n",
    "choicelist = ['Pha Nam']\n",
    "default = 'Merap'\n",
    "df['Merap/PhaNam'] = np.select(condlist, choicelist, default=default)\n",
    "\n",
    "#VanPhong\n",
    "df['ChiNhanh'] = df['CongTyCN'].str.split(' ').apply(lambda x: x[-2:]).apply(lambda x: ''+' '.join(x))\n",
    "\n",
    "cols = df.columns\n",
    "unwanted_cols = {'DiaChiKH','SoHopDong','MaKenhPhu_MaHCO','ConCat',' Mã Sản Phẩm', ' Ngành Hàng','Unnamed0','MaKHThue','TenKHThue','DiaChiKHThue','MaSoThue','MaKhuVuc','MaTinhKH','MaQuan/HUyen','MaPhanHangHCO','TenPhanHangHCO','TenSanPhamNB'}\n",
    "cols = [ele for ele in cols if ele not in unwanted_cols]\n",
    "\n",
    "df=df[cols]\n",
    "\n",
    "#df to csv\n",
    "df.to_csv(\"raw_data.csv\", index=False)\n",
    "\n",
    "\n",
    "now_final = datetime.now()\n",
    "print(\"finally imported sales data %s\" % now_final)\n",
    "t2 = time.perf_counter()\n",
    "print(f'Finished in {t2-t1} seconds')"
   ]
  },
  {
   "cell_type": "code",
   "execution_count": null,
   "metadata": {},
   "outputs": [],
   "source": []
  }
 ],
 "metadata": {
  "kernelspec": {
   "display_name": "Python 3.8.10 ('venv': venv)",
   "language": "python",
   "name": "python3"
  },
  "language_info": {
   "codemirror_mode": {
    "name": "ipython",
    "version": 3
   },
   "file_extension": ".py",
   "mimetype": "text/x-python",
   "name": "python",
   "nbconvert_exporter": "python",
   "pygments_lexer": "ipython3",
   "version": "3.8.10"
  },
  "orig_nbformat": 4,
  "vscode": {
   "interpreter": {
    "hash": "8fb55849e6741974ce442ee684e971e1b6b22c29ca2b25c3b9069bf531e0354a"
   }
  }
 },
 "nbformat": 4,
 "nbformat_minor": 2
}
