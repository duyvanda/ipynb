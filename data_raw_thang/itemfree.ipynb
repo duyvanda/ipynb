{
 "cells": [
  {
   "cell_type": "code",
   "execution_count": 1,
   "metadata": {},
   "outputs": [],
   "source": [
    "# import os, pyodbc, time, unidecode\n",
    "from utils.df_handle import *"
   ]
  },
  {
   "cell_type": "code",
   "execution_count": 2,
   "metadata": {},
   "outputs": [],
   "source": [
    "# day_ago = 2\n",
    "datenow = datetime.now().strftime(\"%Y%m%d\")\n",
    "# datenow_day_ago = ( datetime.now()-timedelta(day_ago) ).strftime(\"%Y%m%d\")\n",
    "# param_1 = f\"'{datenow_day_ago}'\"\n",
    "param_2 = f\"'20210501'\"\n",
    "param_3 = f\"'{datenow}'\"\n",
    "param_4 = f\"'20210531'\""
   ]
  },
  {
   "cell_type": "code",
   "execution_count": 3,
   "metadata": {},
   "outputs": [],
   "source": [
    "query = f\"EXEC [pr_OM_RawdataSellOutPayroll_BI_v2] @Fromdate={param_2}, @Todate={param_4}\"\n",
    "ITEM = get_ms_df(sql=query)"
   ]
  },
  {
   "cell_type": "code",
   "execution_count": 4,
   "metadata": {},
   "outputs": [
    {
     "data": {
      "text/html": [
       "<div>\n",
       "<style scoped>\n",
       "    .dataframe tbody tr th:only-of-type {\n",
       "        vertical-align: middle;\n",
       "    }\n",
       "\n",
       "    .dataframe tbody tr th {\n",
       "        vertical-align: top;\n",
       "    }\n",
       "\n",
       "    .dataframe thead th {\n",
       "        text-align: right;\n",
       "    }\n",
       "</style>\n",
       "<table border=\"1\" class=\"dataframe\">\n",
       "  <thead>\n",
       "    <tr style=\"text-align: right;\">\n",
       "      <th></th>\n",
       "      <th>BranchID</th>\n",
       "      <th>OrderNbr</th>\n",
       "      <th>FreeItemID</th>\n",
       "      <th>FreeItemQty</th>\n",
       "      <th>TypeDiscount</th>\n",
       "      <th>DiscAmt</th>\n",
       "      <th>DiscPct</th>\n",
       "      <th>DiscIDPN</th>\n",
       "      <th>DiscID</th>\n",
       "      <th>DiscSeq</th>\n",
       "      <th>SOLineRef</th>\n",
       "      <th>Descr</th>\n",
       "    </tr>\n",
       "  </thead>\n",
       "  <tbody>\n",
       "    <tr>\n",
       "      <th>0</th>\n",
       "      <td>MR0001</td>\n",
       "      <td>HD052021-00272</td>\n",
       "      <td>OH031</td>\n",
       "      <td>15.0</td>\n",
       "      <td>PR</td>\n",
       "      <td>0.0</td>\n",
       "      <td>0.0</td>\n",
       "      <td>CTKM2104OTC-SO10CPA</td>\n",
       "      <td>GCS</td>\n",
       "      <td>CTKM0031</td>\n",
       "      <td>00012</td>\n",
       "      <td>MR- CT Giỏ hàng chiến lược OTC Quý 2</td>\n",
       "    </tr>\n",
       "    <tr>\n",
       "      <th>1</th>\n",
       "      <td>MR0001</td>\n",
       "      <td>HD052021-00463</td>\n",
       "      <td>OH031</td>\n",
       "      <td>15.0</td>\n",
       "      <td>PR</td>\n",
       "      <td>0.0</td>\n",
       "      <td>0.0</td>\n",
       "      <td>CTKM2104OTC-SO10CPA</td>\n",
       "      <td>GCS</td>\n",
       "      <td>CTKM0031</td>\n",
       "      <td>00012</td>\n",
       "      <td>MR- CT Giỏ hàng chiến lược OTC Quý 2</td>\n",
       "    </tr>\n",
       "    <tr>\n",
       "      <th>2</th>\n",
       "      <td>MR0001</td>\n",
       "      <td>HD052021-00468</td>\n",
       "      <td>OH031</td>\n",
       "      <td>4.0</td>\n",
       "      <td>PR</td>\n",
       "      <td>0.0</td>\n",
       "      <td>0.0</td>\n",
       "      <td>CTKM2104OTC-SO10CPA</td>\n",
       "      <td>GCS</td>\n",
       "      <td>CTKM0031</td>\n",
       "      <td>00016</td>\n",
       "      <td>MR- CT Giỏ hàng chiến lược OTC Quý 2</td>\n",
       "    </tr>\n",
       "    <tr>\n",
       "      <th>3</th>\n",
       "      <td>MR0001</td>\n",
       "      <td>HD052021-00475</td>\n",
       "      <td>OH031</td>\n",
       "      <td>1.0</td>\n",
       "      <td>PR</td>\n",
       "      <td>0.0</td>\n",
       "      <td>0.0</td>\n",
       "      <td>CTKM2104OTC-SO10CPA</td>\n",
       "      <td>GCS</td>\n",
       "      <td>CTKM0031</td>\n",
       "      <td>00010</td>\n",
       "      <td>MR- CT Giỏ hàng chiến lược OTC Quý 2</td>\n",
       "    </tr>\n",
       "    <tr>\n",
       "      <th>4</th>\n",
       "      <td>MR0001</td>\n",
       "      <td>HD052021-00492</td>\n",
       "      <td>OH031</td>\n",
       "      <td>2.0</td>\n",
       "      <td>PR</td>\n",
       "      <td>0.0</td>\n",
       "      <td>0.0</td>\n",
       "      <td>CTKM2104OTC-SO10CPA</td>\n",
       "      <td>GCS</td>\n",
       "      <td>CTKM0031</td>\n",
       "      <td>00012</td>\n",
       "      <td>MR- CT Giỏ hàng chiến lược OTC Quý 2</td>\n",
       "    </tr>\n",
       "  </tbody>\n",
       "</table>\n",
       "</div>"
      ],
      "text/plain": [
       "  BranchID        OrderNbr FreeItemID  FreeItemQty TypeDiscount  DiscAmt  \\\n",
       "0   MR0001  HD052021-00272      OH031         15.0           PR      0.0   \n",
       "1   MR0001  HD052021-00463      OH031         15.0           PR      0.0   \n",
       "2   MR0001  HD052021-00468      OH031          4.0           PR      0.0   \n",
       "3   MR0001  HD052021-00475      OH031          1.0           PR      0.0   \n",
       "4   MR0001  HD052021-00492      OH031          2.0           PR      0.0   \n",
       "\n",
       "   DiscPct             DiscIDPN DiscID   DiscSeq SOLineRef  \\\n",
       "0      0.0  CTKM2104OTC-SO10CPA    GCS  CTKM0031     00012   \n",
       "1      0.0  CTKM2104OTC-SO10CPA    GCS  CTKM0031     00012   \n",
       "2      0.0  CTKM2104OTC-SO10CPA    GCS  CTKM0031     00016   \n",
       "3      0.0  CTKM2104OTC-SO10CPA    GCS  CTKM0031     00010   \n",
       "4      0.0  CTKM2104OTC-SO10CPA    GCS  CTKM0031     00012   \n",
       "\n",
       "                                  Descr  \n",
       "0  MR- CT Giỏ hàng chiến lược OTC Quý 2  \n",
       "1  MR- CT Giỏ hàng chiến lược OTC Quý 2  \n",
       "2  MR- CT Giỏ hàng chiến lược OTC Quý 2  \n",
       "3  MR- CT Giỏ hàng chiến lược OTC Quý 2  \n",
       "4  MR- CT Giỏ hàng chiến lược OTC Quý 2  "
      ]
     },
     "execution_count": 4,
     "metadata": {},
     "output_type": "execute_result"
    }
   ],
   "source": [
    "ITEM.head()"
   ]
  },
  {
   "cell_type": "code",
   "execution_count": null,
   "metadata": {},
   "outputs": [],
   "source": []
  }
 ],
 "metadata": {
  "kernelspec": {
   "display_name": "Python 3.8.10 ('venv': venv)",
   "language": "python",
   "name": "python3"
  },
  "language_info": {
   "codemirror_mode": {
    "name": "ipython",
    "version": 3
   },
   "file_extension": ".py",
   "mimetype": "text/x-python",
   "name": "python",
   "nbconvert_exporter": "python",
   "pygments_lexer": "ipython3",
   "version": "3.8.10"
  },
  "orig_nbformat": 4,
  "vscode": {
   "interpreter": {
    "hash": "8fb55849e6741974ce442ee684e971e1b6b22c29ca2b25c3b9069bf531e0354a"
   }
  }
 },
 "nbformat": 4,
 "nbformat_minor": 2
}
