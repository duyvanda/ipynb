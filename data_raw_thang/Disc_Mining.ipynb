{
 "cells": [
  {
   "cell_type": "code",
   "execution_count": 1,
   "metadata": {},
   "outputs": [
    {
     "name": "stdout",
     "output_type": "stream",
     "text": [
      "Default bq project:  spatial-vision-343005.biteam\n"
     ]
    }
   ],
   "source": [
    "# import os, pyodbc, time, unidecode\n",
    "from utils.df_handle import *"
   ]
  },
  {
   "cell_type": "code",
   "execution_count": 250,
   "metadata": {},
   "outputs": [],
   "source": [
    "sql =\\\n",
    "\"\"\"\n",
    "select BranchID, sq.DiscID, sq.DiscSeq, sq.Descr, sq.DiscIDPN, OrderNbr, LineRef, SOLineRef, \n",
    "case when GroupRefLineRef = '' then SOLineRef else GroupRefLineRef end as GroupRefLineRef,\n",
    "dis.Crtd_DateTime,\n",
    "dis.LUpd_DateTime\n",
    "from OM_OrdDisc dis\n",
    "INNER JOIN dbo.OM_DiscSeq sq WITH (NOLOCK)\n",
    "ON sq.DiscID = dis.DiscID\n",
    "AND sq.DiscSeq = dis.DiscSeq\n",
    "where CAST(dis.Crtd_DateTime as date)>= '2021-05-01'  and cast (dis.Crtd_DateTime as date)<= '2021-05-31'\n",
    "\"\"\""
   ]
  },
  {
   "cell_type": "code",
   "execution_count": 253,
   "metadata": {},
   "outputs": [],
   "source": [
    "df = get_ms_df(sql)"
   ]
  },
  {
   "cell_type": "code",
   "execution_count": 254,
   "metadata": {},
   "outputs": [],
   "source": [
    "# df.to_clipboard()"
   ]
  },
  {
   "cell_type": "code",
   "execution_count": 255,
   "metadata": {},
   "outputs": [],
   "source": [
    "df = pd.concat([df.GroupRefLineRef.str.split(\",\", expand=True), df], axis=1)"
   ]
  },
  {
   "cell_type": "code",
   "execution_count": 256,
   "metadata": {},
   "outputs": [],
   "source": [
    "# df.shape"
   ]
  },
  {
   "cell_type": "code",
   "execution_count": 257,
   "metadata": {},
   "outputs": [],
   "source": [
    "# df1 = df.head(200).copy()"
   ]
  },
  {
   "cell_type": "code",
   "execution_count": 258,
   "metadata": {},
   "outputs": [],
   "source": [
    "df_aut = pd.melt(df,id_vars=['BranchID', 'DiscID', 'DiscSeq','Descr', 'DiscIDPN', 'OrderNbr', 'LineRef', 'SOLineRef', 'GroupRefLineRef', 'Crtd_DateTime', 'LUpd_DateTime'], value_name='GLineRef')"
   ]
  },
  {
   "cell_type": "code",
   "execution_count": 259,
   "metadata": {},
   "outputs": [
    {
     "data": {
      "text/plain": [
       "(215514, 13)"
      ]
     },
     "execution_count": 259,
     "metadata": {},
     "output_type": "execute_result"
    }
   ],
   "source": [
    "df_aut.shape"
   ]
  },
  {
   "cell_type": "code",
   "execution_count": 260,
   "metadata": {},
   "outputs": [],
   "source": [
    "df=df_aut[df_aut['GLineRef'].notna()].copy()"
   ]
  },
  {
   "cell_type": "code",
   "execution_count": 262,
   "metadata": {},
   "outputs": [],
   "source": [
    "# df.isna().sum()"
   ]
  },
  {
   "cell_type": "code",
   "execution_count": 263,
   "metadata": {},
   "outputs": [],
   "source": [
    "# df_aut.to_clipboard()"
   ]
  },
  {
   "cell_type": "code",
   "execution_count": 264,
   "metadata": {},
   "outputs": [],
   "source": [
    "df['key1'] = df.BranchID.astype(str)+\"-\"+df.OrderNbr.astype(str)+\"-\"+df.GLineRef.astype(str)\n",
    "df['key2'] = df.BranchID.astype(str)+\"-\"+df.OrderNbr.astype(str)+\"-\"+df.GLineRef.astype(str)+\"-\"+df.DiscIDPN.astype(str)"
   ]
  },
  {
   "cell_type": "code",
   "execution_count": 211,
   "metadata": {},
   "outputs": [],
   "source": [
    "# drop_cols(df_aut, ['variable'])"
   ]
  },
  {
   "cell_type": "code",
   "execution_count": 212,
   "metadata": {},
   "outputs": [],
   "source": [
    "# df['key'].isna().sum()"
   ]
  },
  {
   "cell_type": "code",
   "execution_count": 265,
   "metadata": {},
   "outputs": [],
   "source": [
    "df = dropdup(df,1, ['key2'])"
   ]
  },
  {
   "cell_type": "code",
   "execution_count": null,
   "metadata": {},
   "outputs": [],
   "source": []
  },
  {
   "cell_type": "code",
   "execution_count": 215,
   "metadata": {},
   "outputs": [],
   "source": [
    "# df_up=df[checkdup(df, 2, subset=['key1'])]\n",
    "# df_aut.to_clipboard()"
   ]
  },
  {
   "cell_type": "code",
   "execution_count": 272,
   "metadata": {},
   "outputs": [],
   "source": [
    "df1 = df[['key1', 'DiscIDPN']]\n",
    "df2 = df[['key1', 'Descr']]"
   ]
  },
  {
   "cell_type": "code",
   "execution_count": 273,
   "metadata": {},
   "outputs": [],
   "source": [
    "df3=df1.groupby(['key1'])['DiscIDPN'].apply(list).reset_index(name='DiscIDPN')"
   ]
  },
  {
   "cell_type": "code",
   "execution_count": 275,
   "metadata": {},
   "outputs": [],
   "source": [
    "df4=df2.groupby(['key1'])['Descr'].apply(list).reset_index(name='Descr')"
   ]
  },
  {
   "cell_type": "code",
   "execution_count": 277,
   "metadata": {},
   "outputs": [
    {
     "data": {
      "text/html": [
       "<div>\n",
       "<style scoped>\n",
       "    .dataframe tbody tr th:only-of-type {\n",
       "        vertical-align: middle;\n",
       "    }\n",
       "\n",
       "    .dataframe tbody tr th {\n",
       "        vertical-align: top;\n",
       "    }\n",
       "\n",
       "    .dataframe thead th {\n",
       "        text-align: right;\n",
       "    }\n",
       "</style>\n",
       "<table border=\"1\" class=\"dataframe\">\n",
       "  <thead>\n",
       "    <tr style=\"text-align: right;\">\n",
       "      <th></th>\n",
       "      <th>key1</th>\n",
       "      <th>Descr</th>\n",
       "    </tr>\n",
       "  </thead>\n",
       "  <tbody>\n",
       "    <tr>\n",
       "      <th>0</th>\n",
       "      <td>MR0001-CO052021-00006-00001</td>\n",
       "      <td>[MR- CT hỗ trợ bán hàng CLC3]</td>\n",
       "    </tr>\n",
       "    <tr>\n",
       "      <th>1</th>\n",
       "      <td>MR0001-CO052021-00012-00001</td>\n",
       "      <td>[MR- CT hỗ trợ bán hàng PKK]</td>\n",
       "    </tr>\n",
       "    <tr>\n",
       "      <th>2</th>\n",
       "      <td>MR0001-CO052021-00014-00001</td>\n",
       "      <td>[MR- CT Giỏ hàng chiến lược OTC Quý 2]</td>\n",
       "    </tr>\n",
       "    <tr>\n",
       "      <th>3</th>\n",
       "      <td>MR0001-CO052021-00016-00001</td>\n",
       "      <td>[MR- CT Giỏ hàng chiến lược OTC Quý 2]</td>\n",
       "    </tr>\n",
       "    <tr>\n",
       "      <th>4</th>\n",
       "      <td>MR0001-CO052021-00016-00002</td>\n",
       "      <td>[MR- CT Giỏ hàng chiến lược OTC Quý 2]</td>\n",
       "    </tr>\n",
       "    <tr>\n",
       "      <th>...</th>\n",
       "      <td>...</td>\n",
       "      <td>...</td>\n",
       "    </tr>\n",
       "    <tr>\n",
       "      <th>30850</th>\n",
       "      <td>MR0016-RP052021-00001-00003</td>\n",
       "      <td>[MR- CT Giỏ hàng chiến lược OTC Quý 2]</td>\n",
       "    </tr>\n",
       "    <tr>\n",
       "      <th>30851</th>\n",
       "      <td>MR0016-RP052021-00001-00004</td>\n",
       "      <td>[MR- CT Giỏ hàng chiến lược OTC Quý 2]</td>\n",
       "    </tr>\n",
       "    <tr>\n",
       "      <th>30852</th>\n",
       "      <td>MR0016-RP052021-00001-00005</td>\n",
       "      <td>[MR- CT Giỏ hàng chiến lược OTC Quý 2]</td>\n",
       "    </tr>\n",
       "    <tr>\n",
       "      <th>30853</th>\n",
       "      <td>MR0016-RP052021-00001-00006</td>\n",
       "      <td>[MR- CT Giỏ hàng chiến lược OTC Quý 2]</td>\n",
       "    </tr>\n",
       "    <tr>\n",
       "      <th>30854</th>\n",
       "      <td>MR0016-RP052021-00001-00007</td>\n",
       "      <td>[MR- CT Giỏ hàng chiến lược OTC Quý 2]</td>\n",
       "    </tr>\n",
       "  </tbody>\n",
       "</table>\n",
       "<p>30855 rows × 2 columns</p>\n",
       "</div>"
      ],
      "text/plain": [
       "                              key1                                   Descr\n",
       "0      MR0001-CO052021-00006-00001           [MR- CT hỗ trợ bán hàng CLC3]\n",
       "1      MR0001-CO052021-00012-00001            [MR- CT hỗ trợ bán hàng PKK]\n",
       "2      MR0001-CO052021-00014-00001  [MR- CT Giỏ hàng chiến lược OTC Quý 2]\n",
       "3      MR0001-CO052021-00016-00001  [MR- CT Giỏ hàng chiến lược OTC Quý 2]\n",
       "4      MR0001-CO052021-00016-00002  [MR- CT Giỏ hàng chiến lược OTC Quý 2]\n",
       "...                            ...                                     ...\n",
       "30850  MR0016-RP052021-00001-00003  [MR- CT Giỏ hàng chiến lược OTC Quý 2]\n",
       "30851  MR0016-RP052021-00001-00004  [MR- CT Giỏ hàng chiến lược OTC Quý 2]\n",
       "30852  MR0016-RP052021-00001-00005  [MR- CT Giỏ hàng chiến lược OTC Quý 2]\n",
       "30853  MR0016-RP052021-00001-00006  [MR- CT Giỏ hàng chiến lược OTC Quý 2]\n",
       "30854  MR0016-RP052021-00001-00007  [MR- CT Giỏ hàng chiến lược OTC Quý 2]\n",
       "\n",
       "[30855 rows x 2 columns]"
      ]
     },
     "execution_count": 277,
     "metadata": {},
     "output_type": "execute_result"
    }
   ],
   "source": [
    "df4"
   ]
  },
  {
   "cell_type": "code",
   "execution_count": 268,
   "metadata": {},
   "outputs": [
    {
     "data": {
      "text/html": [
       "<div>\n",
       "<style scoped>\n",
       "    .dataframe tbody tr th:only-of-type {\n",
       "        vertical-align: middle;\n",
       "    }\n",
       "\n",
       "    .dataframe tbody tr th {\n",
       "        vertical-align: top;\n",
       "    }\n",
       "\n",
       "    .dataframe thead th {\n",
       "        text-align: right;\n",
       "    }\n",
       "</style>\n",
       "<table border=\"1\" class=\"dataframe\">\n",
       "  <thead>\n",
       "    <tr style=\"text-align: right;\">\n",
       "      <th></th>\n",
       "      <th>DiscIDPN</th>\n",
       "    </tr>\n",
       "    <tr>\n",
       "      <th>key1</th>\n",
       "      <th></th>\n",
       "    </tr>\n",
       "  </thead>\n",
       "  <tbody>\n",
       "    <tr>\n",
       "      <th>MR0001-CO052021-00006-00001</th>\n",
       "      <td>[C, S, B, H, 2, 1, 0, 2, C, L, C, 3, -, 0, 5, ...</td>\n",
       "    </tr>\n",
       "    <tr>\n",
       "      <th>MR0001-CO052021-00012-00001</th>\n",
       "      <td>[C, S, B, H, 2, 1, 0, 2, P, K, K, -, 0, 6, Q, ...</td>\n",
       "    </tr>\n",
       "    <tr>\n",
       "      <th>MR0001-CO052021-00014-00001</th>\n",
       "      <td>[C, T, K, M, 2, 1, 0, 4, O, T, C, -, S, O, 1, ...</td>\n",
       "    </tr>\n",
       "    <tr>\n",
       "      <th>MR0001-CO052021-00016-00001</th>\n",
       "      <td>[C, T, K, M, 2, 1, 0, 4, O, T, C, -, S, O, 1, ...</td>\n",
       "    </tr>\n",
       "    <tr>\n",
       "      <th>MR0001-CO052021-00016-00002</th>\n",
       "      <td>[C, T, K, M, 2, 1, 0, 4, O, T, C, -, S, O, 1, ...</td>\n",
       "    </tr>\n",
       "  </tbody>\n",
       "</table>\n",
       "</div>"
      ],
      "text/plain": [
       "                                                                      DiscIDPN\n",
       "key1                                                                          \n",
       "MR0001-CO052021-00006-00001  [C, S, B, H, 2, 1, 0, 2, C, L, C, 3, -, 0, 5, ...\n",
       "MR0001-CO052021-00012-00001  [C, S, B, H, 2, 1, 0, 2, P, K, K, -, 0, 6, Q, ...\n",
       "MR0001-CO052021-00014-00001  [C, T, K, M, 2, 1, 0, 4, O, T, C, -, S, O, 1, ...\n",
       "MR0001-CO052021-00016-00001  [C, T, K, M, 2, 1, 0, 4, O, T, C, -, S, O, 1, ...\n",
       "MR0001-CO052021-00016-00002  [C, T, K, M, 2, 1, 0, 4, O, T, C, -, S, O, 1, ..."
      ]
     },
     "execution_count": 268,
     "metadata": {},
     "output_type": "execute_result"
    }
   ],
   "source": [
    "df2.head()"
   ]
  },
  {
   "cell_type": "code",
   "execution_count": 242,
   "metadata": {},
   "outputs": [],
   "source": [
    "df2['DiscIDPN1'] = df2['DiscIDPN'].apply(lambda x:x[0])"
   ]
  },
  {
   "cell_type": "code",
   "execution_count": 247,
   "metadata": {},
   "outputs": [],
   "source": [
    "df2['DiscIDPN2'] = df2['DiscIDPN'].apply(lambda x:x[1] if(len(x) > 1) else None)\n",
    "df2['DiscIDPN3'] = df2['DiscIDPN'].apply(lambda x:x[2] if(len(x) > 2) else None)"
   ]
  },
  {
   "cell_type": "code",
   "execution_count": 248,
   "metadata": {},
   "outputs": [],
   "source": [
    "df2.to_clipboard()"
   ]
  },
  {
   "cell_type": "code",
   "execution_count": 217,
   "metadata": {},
   "outputs": [],
   "source": [
    "vc(df_up, 'key1').to_clipboard()"
   ]
  },
  {
   "cell_type": "code",
   "execution_count": 14,
   "metadata": {},
   "outputs": [],
   "source": [
    "df.to_excel(\"excel.xlsx\")"
   ]
  },
  {
   "cell_type": "code",
   "execution_count": 2,
   "metadata": {},
   "outputs": [],
   "source": [
    "# day_ago = 2\n",
    "datenow = datetime.now().strftime(\"%Y%m%d\")\n",
    "# datenow_day_ago = ( datetime.now()-timedelta(day_ago) ).strftime(\"%Y%m%d\")\n",
    "# param_1 = f\"'{datenow_day_ago}'\"\n",
    "param_2 = f\"'20220301'\"\n",
    "param_3 = f\"'{datenow}'\"\n",
    "param_4 = f\"'20220331'\"\n"
   ]
  },
  {
   "cell_type": "code",
   "execution_count": 3,
   "metadata": {},
   "outputs": [],
   "source": [
    "thang = 'T3'"
   ]
  },
  {
   "cell_type": "code",
   "execution_count": 2,
   "metadata": {},
   "outputs": [],
   "source": [
    "query = \"EXEC [pr_OM_RawdataSellOutPayroll_BI_v1] @Fromdate='20220416', @Todate='20220416'\"\n",
    "FINAL = get_ms_df(sql=query)"
   ]
  },
  {
   "cell_type": "code",
   "execution_count": 3,
   "metadata": {},
   "outputs": [
    {
     "data": {
      "text/plain": [
       "(1454, 54)"
      ]
     },
     "execution_count": 3,
     "metadata": {},
     "output_type": "execute_result"
    }
   ],
   "source": [
    "FINAL.shape"
   ]
  },
  {
   "cell_type": "code",
   "execution_count": 5,
   "metadata": {},
   "outputs": [],
   "source": [
    "FINAL.columns = cleancols(FINAL)"
   ]
  },
  {
   "cell_type": "code",
   "execution_count": 6,
   "metadata": {},
   "outputs": [],
   "source": [
    "# FINAL.SoLuong.sum()"
   ]
  },
  {
   "cell_type": "code",
   "execution_count": 7,
   "metadata": {},
   "outputs": [
    {
     "name": "stdout",
     "output_type": "stream",
     "text": [
      "do it\n"
     ]
    }
   ],
   "source": [
    "if FINAL.shape[0] != 0:\n",
    "    print('do it')\n",
    "else:\n",
    "    print('not do it')"
   ]
  },
  {
   "cell_type": "code",
   "execution_count": 8,
   "metadata": {},
   "outputs": [],
   "source": [
    "# dk = FINAL.SoDonDatHang == 'DH3-0222-02307'"
   ]
  },
  {
   "cell_type": "code",
   "execution_count": 9,
   "metadata": {},
   "outputs": [],
   "source": [
    "# FINAL[dk].to_clipboard()"
   ]
  },
  {
   "cell_type": "code",
   "execution_count": 10,
   "metadata": {},
   "outputs": [],
   "source": [
    "# lst = ['MaCongTyCN','SoDonDatHang','MaSanPham','SoLo','SoLuong','DonGiaChuaVAT','DoanhSoChuaVAT']"
   ]
  },
  {
   "cell_type": "code",
   "execution_count": 11,
   "metadata": {},
   "outputs": [],
   "source": [
    "# FINAL[lst].to_clipboard()"
   ]
  },
  {
   "cell_type": "code",
   "execution_count": 12,
   "metadata": {},
   "outputs": [],
   "source": [
    "query = f\"EXEC [pr_OM_RawdataSellOutPayroll_BI_FreeItem] @Fromdate={param_2}, @Todate={param_4}\"\n",
    "ITEM = get_ms_df(sql=query)"
   ]
  },
  {
   "cell_type": "code",
   "execution_count": 13,
   "metadata": {},
   "outputs": [],
   "source": [
    "# FINAL.columns"
   ]
  },
  {
   "cell_type": "code",
   "execution_count": 14,
   "metadata": {},
   "outputs": [],
   "source": [
    "left_on=['MaCongTyCN','LineRef','MaHD']\n",
    "right_on = ['BranchID','SOLineRef','OrderNbr']\n",
    "# ITEM.columns"
   ]
  },
  {
   "cell_type": "code",
   "execution_count": 15,
   "metadata": {},
   "outputs": [],
   "source": [
    "FINAL2 = FINAL.merge(ITEM, left_on=left_on, right_on=right_on, how='left')"
   ]
  },
  {
   "cell_type": "code",
   "execution_count": 16,
   "metadata": {},
   "outputs": [],
   "source": [
    "# FINAL2.to_csv(\"FINAL2.csv\", index=False)"
   ]
  },
  {
   "cell_type": "code",
   "execution_count": 17,
   "metadata": {},
   "outputs": [],
   "source": [
    "query = f\"EXEC [pr_OM_RawdataSellOutPayroll_BI_FreeAmount] @Fromdate={param_2}, @Todate={param_4}\"\n",
    "AMOUNT = get_ms_df(sql=query)"
   ]
  },
  {
   "cell_type": "code",
   "execution_count": 18,
   "metadata": {},
   "outputs": [],
   "source": [
    "AMOUNT.columns = ['amt_'+str(e) for e in AMOUNT.columns]"
   ]
  },
  {
   "cell_type": "code",
   "execution_count": 19,
   "metadata": {},
   "outputs": [],
   "source": [
    "# AMOUNT.columns"
   ]
  },
  {
   "cell_type": "code",
   "execution_count": 20,
   "metadata": {},
   "outputs": [],
   "source": [
    "left_on=['MaCongTyCN','LineRef','MaHD']\n",
    "right_on = ['amt_BranchID','amt_LineRef','amt_OrderNbr']\n",
    "how='left'"
   ]
  },
  {
   "cell_type": "code",
   "execution_count": 21,
   "metadata": {},
   "outputs": [],
   "source": [
    "FINAL3 = FINAL2.merge(AMOUNT, left_on=left_on, right_on=right_on, how=how)"
   ]
  },
  {
   "cell_type": "code",
   "execution_count": 22,
   "metadata": {},
   "outputs": [],
   "source": [
    "# FINAL3.to_csv(\"FINAL3.csv\", index=False)"
   ]
  },
  {
   "cell_type": "code",
   "execution_count": 23,
   "metadata": {},
   "outputs": [],
   "source": [
    "lst = [\n",
    "'MaCongTyCN', 'CongTyCN', 'NgayChungTu', 'SoDonDatHang',\n",
    "'MaKHDMS', 'TenKhachHang', 'TenTinhKH',\n",
    "'TenQuanHUyen', 'MaKenhKH', 'MaKenhPhu', 'MaSanPham', 'TenSanPhamNB',\n",
    "'TenSanPhamVietTat', 'SoLuong', 'DonGiaCoVAT',\n",
    "'DoanhSoCoVAT', 'DonGiaChuaVAT', 'DoanhSoChuaVAT', \n",
    "'NgayGiaoHang', 'MaNV', 'TenCVBH', 'TenQuanLyTT', 'TenQuanLyKhuVuc',\n",
    "'TenQuanLyVung', 'MaNVGH', 'NguoiGiaohang', 'TrangThaiGiaoHang',\n",
    "'DonViGiaoHang', 'TenNhaVanChuyen', 'KieuDonHang', 'FreeItemID', 'FreeItemQty', 'TypeDiscount',\n",
    "'DiscAmt', 'DiscPct', 'DiscIDPN', 'DiscID', 'DiscSeq',\n",
    "'Descr', 'amt_InvtID',\n",
    "'amt_FreeItemQty', 'amt_TypeDiscount', 'amt_DiscAmt',\n",
    "'amt_DiscPct', 'amt_DiscIDPN', 'amt_DiscID', 'amt_DiscSeq',\n",
    "'amt_Descr'\n",
    "]"
   ]
  },
  {
   "cell_type": "code",
   "execution_count": 24,
   "metadata": {},
   "outputs": [],
   "source": [
    "FINAL3 = FINAL3[lst].copy()"
   ]
  },
  {
   "cell_type": "code",
   "execution_count": 25,
   "metadata": {},
   "outputs": [],
   "source": [
    "FINAL3.FreeItemID.fillna('',inplace=True)\n",
    "FINAL3.amt_InvtID.fillna('',inplace=True)"
   ]
  },
  {
   "cell_type": "code",
   "execution_count": 26,
   "metadata": {},
   "outputs": [],
   "source": [
    "FINAL3['FreeItemID']=FINAL3.FreeItemID + FINAL3.amt_InvtID\n",
    "FINAL3.FreeItemQty.fillna(0,inplace=True)\n",
    "FINAL3.amt_FreeItemQty.fillna(0,inplace=True)\n",
    "FINAL3['FreeItemQty']=FINAL3.FreeItemQty + FINAL3.amt_FreeItemQty"
   ]
  },
  {
   "cell_type": "code",
   "execution_count": 27,
   "metadata": {},
   "outputs": [],
   "source": [
    "FINAL3.TypeDiscount.fillna('',inplace=True)\n",
    "FINAL3.amt_TypeDiscount.fillna('',inplace=True)\n",
    "FINAL3['TypeDiscount']=FINAL3.TypeDiscount + FINAL3.amt_TypeDiscount"
   ]
  },
  {
   "cell_type": "code",
   "execution_count": 28,
   "metadata": {},
   "outputs": [],
   "source": [
    "FINAL3.DiscID.fillna('',inplace=True)\n",
    "FINAL3.amt_DiscID.fillna('',inplace=True)\n",
    "FINAL3['DiscID']=FINAL3.DiscID + FINAL3.amt_DiscID"
   ]
  },
  {
   "cell_type": "code",
   "execution_count": 29,
   "metadata": {},
   "outputs": [],
   "source": [
    "FINAL3.DiscSeq.fillna('',inplace=True)\n",
    "FINAL3.amt_DiscSeq.fillna('',inplace=True)\n",
    "FINAL3['DiscSeq']=FINAL3.DiscSeq + FINAL3.amt_DiscSeq"
   ]
  },
  {
   "cell_type": "code",
   "execution_count": 30,
   "metadata": {},
   "outputs": [],
   "source": [
    "FINAL3.Descr.fillna('',inplace=True)\n",
    "FINAL3.amt_Descr.fillna('',inplace=True)\n",
    "FINAL3['Descr']=FINAL3.Descr + FINAL3.amt_Descr"
   ]
  },
  {
   "cell_type": "code",
   "execution_count": 31,
   "metadata": {},
   "outputs": [],
   "source": [
    "FINAL3.DiscAmt.fillna(0,inplace=True)\n",
    "FINAL3.amt_DiscAmt.fillna(0,inplace=True)\n",
    "FINAL3['DiscAmt']=FINAL3.DiscAmt + FINAL3.amt_DiscAmt"
   ]
  },
  {
   "cell_type": "code",
   "execution_count": 32,
   "metadata": {},
   "outputs": [],
   "source": [
    "FINAL3.DiscPct.fillna(0,inplace=True)\n",
    "FINAL3.amt_DiscPct.fillna(0,inplace=True)\n",
    "FINAL3['DiscPct']=FINAL3.DiscPct + FINAL3.amt_DiscPct"
   ]
  },
  {
   "cell_type": "code",
   "execution_count": 33,
   "metadata": {},
   "outputs": [],
   "source": [
    "FINAL3.DiscIDPN.fillna('',inplace=True)\n",
    "FINAL3.amt_DiscIDPN.fillna('',inplace=True)\n",
    "FINAL3['DiscIDPN']=FINAL3.DiscIDPN + FINAL3.amt_DiscIDPN"
   ]
  },
  {
   "cell_type": "code",
   "execution_count": 34,
   "metadata": {},
   "outputs": [],
   "source": [
    "lst = \\\n",
    "    ['MaCongTyCN', 'CongTyCN', 'NgayChungTu', 'SoDonDatHang', 'MaKHDMS',\n",
    "       'TenKhachHang', 'TenTinhKH', 'TenQuanHUyen', 'MaKenhKH', 'MaKenhPhu',\n",
    "       'MaSanPham', 'TenSanPhamNB', 'TenSanPhamVietTat', 'SoLuong',\n",
    "       'DonGiaCoVAT', 'DoanhSoCoVAT', 'DonGiaChuaVAT', 'DoanhSoChuaVAT',\n",
    "       'NgayGiaoHang', 'MaNV', 'TenCVBH', 'TenQuanLyTT', 'TenQuanLyKhuVuc',\n",
    "       'TenQuanLyVung', 'MaNVGH', 'NguoiGiaohang', 'TrangThaiGiaoHang',\n",
    "       'DonViGiaoHang', 'TenNhaVanChuyen', 'KieuDonHang', 'FreeItemID',\n",
    "       'FreeItemQty', 'TypeDiscount', 'DiscAmt', 'DiscPct', 'DiscIDPN',\n",
    "       'DiscID', 'DiscSeq', 'Descr']"
   ]
  },
  {
   "cell_type": "code",
   "execution_count": 35,
   "metadata": {},
   "outputs": [],
   "source": [
    "FINAL3 = FINAL3[lst].copy()"
   ]
  },
  {
   "cell_type": "code",
   "execution_count": 36,
   "metadata": {},
   "outputs": [],
   "source": [
    "FINAL3['DiscFreeItemAmt'] = np.where(FINAL3['FreeItemQty'] == 0, 0, FINAL3['SoLuong'] * FINAL3['DonGiaChuaVAT'])"
   ]
  },
  {
   "cell_type": "code",
   "execution_count": 37,
   "metadata": {},
   "outputs": [],
   "source": [
    "# FINAL3.to_csv(f\"FINAL3_{thang}_Detail.csv\", index=False)"
   ]
  },
  {
   "cell_type": "code",
   "execution_count": 38,
   "metadata": {},
   "outputs": [],
   "source": [
    "# FINAL3 = pivot(FINAL3, ['MaKHDMS','TenKhachHang','TenTinhKH','MaKenhKH','MaKenhPhu','MaSanPham','TenSanPhamNB','MaNV','TenCVBH'], {'SoLuong':np.sum,'DoanhSoChuaVAT':np.sum,'DiscAmt':np.sum, 'DiscFreeItemAmt':np.sum})"
   ]
  },
  {
   "cell_type": "code",
   "execution_count": 39,
   "metadata": {},
   "outputs": [],
   "source": [
    "FINAL3['Thang'] = thang"
   ]
  },
  {
   "cell_type": "code",
   "execution_count": 120,
   "metadata": {},
   "outputs": [],
   "source": [
    "# FINAL3.ngaychungtu"
   ]
  },
  {
   "cell_type": "code",
   "execution_count": 40,
   "metadata": {},
   "outputs": [
    {
     "name": "stdout",
     "output_type": "stream",
     "text": [
      "Data inserted using execute_values() successfully..\n"
     ]
    }
   ],
   "source": [
    "execute_values_insert(FINAL3, \"f_temp_sales_with_promo\")"
   ]
  },
  {
   "cell_type": "code",
   "execution_count": 4,
   "metadata": {},
   "outputs": [],
   "source": [
    "sql = \\\n",
    "'''\n",
    "select BranchID, CustID, SUM(Amt) as Total_Amt, CAST(a.Crtd_DateTime as DATE) as CreateDate from OM_SalesOrdAccumulate AS a\n",
    "INNER JOIN OM_Accumulated AS b ON\n",
    "a.AccumulateID = b.AccumulateID\n",
    "and b.FromDate >= '2022-01-01'\n",
    "WHERE a.Crtd_DateTime > '2022-01-01' and a.Crtd_DateTime <= '2022-03-31'\n",
    "GROUP BY BranchID, CustID, CAST (a.Crtd_DateTime as DATE)\n",
    "'''"
   ]
  },
  {
   "cell_type": "code",
   "execution_count": 5,
   "metadata": {},
   "outputs": [],
   "source": [
    "AC = get_ms_df(sql=sql)"
   ]
  },
  {
   "cell_type": "code",
   "execution_count": 7,
   "metadata": {},
   "outputs": [
    {
     "name": "stdout",
     "output_type": "stream",
     "text": [
      "Data inserted using execute_values() successfully..\n"
     ]
    }
   ],
   "source": [
    "execute_values_insert(AC, \"f_temp_ac_promo\")"
   ]
  },
  {
   "cell_type": "code",
   "execution_count": 357,
   "metadata": {},
   "outputs": [],
   "source": [
    "FINAL3.to_csv(f\"FINAL3_{thang}.csv\", index=False)"
   ]
  },
  {
   "cell_type": "code",
   "execution_count": 122,
   "metadata": {},
   "outputs": [],
   "source": [
    "# query = f\"EXEC [pr_OM_RawdataSellOutPayroll_BI_v1] @Fromdate={param_1}, @Todate={param_2}\"\n",
    "# get_ms_csv(query, 'sales_2.csv')\n",
    "# FINAL1 = pd.read_csv('sales_2.csv')\n",
    "# FINAL = pd.read_csv('sales.csv')\n",
    "FINAL.columns = cleancols(FINAL)\n",
    "# FINAL.columns\n",
    "# FINAL.DoanhSoChuaVAT.sum()\n",
    "if str(FINAL.NgayGiaoHang.dtypes) == 'object' : FINAL.NgayGiaoHang = pd.to_datetime(FINAL.NgayGiaoHang, dayfirst=True)\n",
    "if str(FINAL.NgayTraHang.dtypes) == 'object' : FINAL.NgayTraHang = pd.to_datetime(FINAL.NgayTraHang, dayfirst=True)\n",
    "FINAL.NgayGiaoHang.fillna(datetime(1900, 1, 1), inplace=True)\n",
    "\n",
    "FINAL['phanloaispcl'] = FINAL['MaSanPham'].map(\n",
    "    df_to_dict(get_ps_df(\"select masanpham, phanloai from d_nhom_sp where nhomsp='SPCL'\"))\n",
    ").fillna('Khác')\n",
    "\n",
    "FINAL['nhomsp'] = FINAL['MaSanPham'].map(\n",
    "    df_to_dict(get_ps_df(\"select masanpham, nhomsp from d_nhom_sp where nhomsp IN ('SPCL', 'SP MOI') \"))\n",
    ").fillna('Khác')\n",
    "\n",
    "FINAL['khuvucviettat'] = FINAL['TenKhuVuc'].map(\n",
    "    df_to_dict(get_ps_df(\"select * from d_mkv_viet_tat\"))\n",
    ")\n",
    "\n",
    "FINAL['chinhanh'] = FINAL['MaCongTyCN'].map(\n",
    "    df_to_dict(get_ps_df(\"select * from d_chi_nhanh\"))\n",
    ")\n",
    "\n",
    "FINAL['newhco'] = (FINAL['MaKenhPhu']+FINAL['MaPhanLoaiHCO']).map(\n",
    "    df_to_dict(get_ps_df(\"SELECT concat(makenhphu, maphanloaihco) as concat, new_mahco FROM d_pl_hco\"))\n",
    ")\n",
    "\n",
    "FINAL['phanam'] = FINAL['MaSanPham'].map(\n",
    "    df_to_dict(get_ps_df(\"select masanpham, nhomsp from d_nhom_sp where nhomsp='PHA NAM'\"))).fillna('Merap')\n",
    "\n",
    "FINAL['thang'] = FINAL['NgayChungTu'] + pd.offsets.Day() - pd.offsets.MonthBegin()\n",
    "\n",
    "FINAL['inserted_at'] = datetime.now()"
   ]
  },
  {
   "cell_type": "code",
   "execution_count": 12,
   "metadata": {},
   "outputs": [],
   "source": [
    "FINAL.columns = cleancols(FINAL)\n",
    "FINAL.columns = lower_col(FINAL)"
   ]
  },
  {
   "cell_type": "code",
   "execution_count": 13,
   "metadata": {},
   "outputs": [],
   "source": [
    "pk = ['macongtycn', 'ngaychungtu', 'sodondathang', 'masanpham', 'solo', 'lineref', 'soluong']"
   ]
  },
  {
   "cell_type": "code",
   "execution_count": 14,
   "metadata": {},
   "outputs": [],
   "source": [
    "FINAL[checkdup(FINAL,2,pk)].to_clipboard()"
   ]
  },
  {
   "cell_type": "code",
   "execution_count": 9,
   "metadata": {},
   "outputs": [
    {
     "name": "stdout",
     "output_type": "stream",
     "text": [
      "INSERT INTO f_sales(MaCongTyCN,CongTyCN,NgayChungTu,SoDonDatHang,MaHD,SoDonTraHang,NgayTraHang,HoaDon,TrangThai,MaKHThue,MaKHCu,TenKhachHang,TenVungBH,TenKhuVuc,TenTinhKH,TenQuanHUyen,MaKenhKH,TenKenhKH,MaKenhPhu,TenKenhPhu,MaHCO,TenHCO,MaPhanLoaiHCO,TenPhanLoaiHCO,MaPhanHangHCO,TenPhanHangHCO,NhanHang,MaSanPham,TenSanPhamNB,TenSanPhamVietTat,SoLo,LineRef,SoLuong,DonGiaCoVAT,DoanhSoCoVAT,DonGiaChuaVAT,DoanhSoChuaVAT,NgayDatDon,NgayGiaoHang,MaNV,TenCVBH,TenQuanLyTT,TenQuanLyKhuVuc,TenQuanLyVung,MaNVGH,NguoiGiaohang,TrangThaiGiaoHang,DonViGiaoHang,TenNhaVanChuyen,KieuDonHang,MaKho,TenKho,phanloaispcl,nhomsp,khuvucviettat,chinhanh,newhco,phanam,thang,inserted_at) VALUES %s ON CONFLICT (macongtycn, ngaychungtu, sodondathang, masanpham, solo, lineref, soluong) DO UPDATE SET MaCongTyCN = excluded.MaCongTyCN, CongTyCN = excluded.CongTyCN, NgayChungTu = excluded.NgayChungTu, SoDonDatHang = excluded.SoDonDatHang, MaHD = excluded.MaHD, SoDonTraHang = excluded.SoDonTraHang, NgayTraHang = excluded.NgayTraHang, HoaDon = excluded.HoaDon, TrangThai = excluded.TrangThai, MaKHThue = excluded.MaKHThue, MaKHCu = excluded.MaKHCu, TenKhachHang = excluded.TenKhachHang, TenVungBH = excluded.TenVungBH, TenKhuVuc = excluded.TenKhuVuc, TenTinhKH = excluded.TenTinhKH, TenQuanHUyen = excluded.TenQuanHUyen, MaKenhKH = excluded.MaKenhKH, TenKenhKH = excluded.TenKenhKH, MaKenhPhu = excluded.MaKenhPhu, TenKenhPhu = excluded.TenKenhPhu, MaHCO = excluded.MaHCO, TenHCO = excluded.TenHCO, MaPhanLoaiHCO = excluded.MaPhanLoaiHCO, TenPhanLoaiHCO = excluded.TenPhanLoaiHCO, MaPhanHangHCO = excluded.MaPhanHangHCO, TenPhanHangHCO = excluded.TenPhanHangHCO, NhanHang = excluded.NhanHang, MaSanPham = excluded.MaSanPham, TenSanPhamNB = excluded.TenSanPhamNB, TenSanPhamVietTat = excluded.TenSanPhamVietTat, SoLo = excluded.SoLo, LineRef = excluded.LineRef, SoLuong = excluded.SoLuong, DonGiaCoVAT = excluded.DonGiaCoVAT, DoanhSoCoVAT = excluded.DoanhSoCoVAT, DonGiaChuaVAT = excluded.DonGiaChuaVAT, DoanhSoChuaVAT = excluded.DoanhSoChuaVAT, NgayDatDon = excluded.NgayDatDon, NgayGiaoHang = excluded.NgayGiaoHang, MaNV = excluded.MaNV, TenCVBH = excluded.TenCVBH, TenQuanLyTT = excluded.TenQuanLyTT, TenQuanLyKhuVuc = excluded.TenQuanLyKhuVuc, TenQuanLyVung = excluded.TenQuanLyVung, MaNVGH = excluded.MaNVGH, NguoiGiaohang = excluded.NguoiGiaohang, TrangThaiGiaoHang = excluded.TrangThaiGiaoHang, DonViGiaoHang = excluded.DonViGiaoHang, TenNhaVanChuyen = excluded.TenNhaVanChuyen, KieuDonHang = excluded.KieuDonHang, MaKho = excluded.MaKho, TenKho = excluded.TenKho, phanloaispcl = excluded.phanloaispcl, nhomsp = excluded.nhomsp, khuvucviettat = excluded.khuvucviettat, chinhanh = excluded.chinhanh, newhco = excluded.newhco, phanam = excluded.phanam, thang = excluded.thang, inserted_at = excluded.inserted_at\n",
      "Data inserted using execute_values() successfully..\n"
     ]
    }
   ],
   "source": [
    "# FINAL['inserted_at'] = datetime(2022,1,26)\n",
    "\n",
    "pk = ['macongtycn', 'ngaychungtu', 'sodondathang', 'masanpham', 'solo', 'lineref', 'soluong']\n",
    "\n",
    "execute_values_upsert(FINAL, 'f_sales', pk=pk)"
   ]
  },
  {
   "cell_type": "code",
   "execution_count": 4,
   "metadata": {},
   "outputs": [
    {
     "name": "stdout",
     "output_type": "stream",
     "text": [
      "INSERT INTO f_sales(MaCongTyCN,CongTyCN,NgayChungTu,SoDonDatHang,SoDonTraHang,NgayTraHang,HoaDon,TrangThai,MaKHThue,MaKHCu,TenKhachHang,TenVungBH,TenKhuVuc,TenTinhKH,TenQuanHUyen,MaKenhKH,TenKenhKH,MaKenhPhu,TenKenhPhu,MaHCO,TenHCO,MaPhanLoaiHCO,TenPhanLoaiHCO,MaPhanHangHCO,TenPhanHangHCO,NhanHang,MaSanPham,TenSanPhamNB,TenSanPhamVietTat,SoLo,LineRef,SoLuong,DonGiaCoVAT,DoanhSoCoVAT,DonGiaChuaVAT,DoanhSoChuaVAT,NgayDatDon,NgayGiaoHang,MaNV,TenCVBH,TenQuanLyTT,TenQuanLyKhuVuc,TenQuanLyVung,MaNVGH,NguoiGiaohang,TrangThaiGiaoHang,DonViGiaoHang,TenNhaVanChuyen,KieuDonHang,MaKho,TenKho,phanloaispcl,nhomsp,khuvucviettat,chinhanh,newhco,phanam,thang,inserted_at) VALUES %s ON CONFLICT (macongtycn, ngaychungtu, sodondathang, masanpham, solo, lineref, soluong) DO UPDATE SET MaCongTyCN = excluded.MaCongTyCN, CongTyCN = excluded.CongTyCN, NgayChungTu = excluded.NgayChungTu, SoDonDatHang = excluded.SoDonDatHang, SoDonTraHang = excluded.SoDonTraHang, NgayTraHang = excluded.NgayTraHang, HoaDon = excluded.HoaDon, TrangThai = excluded.TrangThai, MaKHThue = excluded.MaKHThue, MaKHCu = excluded.MaKHCu, TenKhachHang = excluded.TenKhachHang, TenVungBH = excluded.TenVungBH, TenKhuVuc = excluded.TenKhuVuc, TenTinhKH = excluded.TenTinhKH, TenQuanHUyen = excluded.TenQuanHUyen, MaKenhKH = excluded.MaKenhKH, TenKenhKH = excluded.TenKenhKH, MaKenhPhu = excluded.MaKenhPhu, TenKenhPhu = excluded.TenKenhPhu, MaHCO = excluded.MaHCO, TenHCO = excluded.TenHCO, MaPhanLoaiHCO = excluded.MaPhanLoaiHCO, TenPhanLoaiHCO = excluded.TenPhanLoaiHCO, MaPhanHangHCO = excluded.MaPhanHangHCO, TenPhanHangHCO = excluded.TenPhanHangHCO, NhanHang = excluded.NhanHang, MaSanPham = excluded.MaSanPham, TenSanPhamNB = excluded.TenSanPhamNB, TenSanPhamVietTat = excluded.TenSanPhamVietTat, SoLo = excluded.SoLo, LineRef = excluded.LineRef, SoLuong = excluded.SoLuong, DonGiaCoVAT = excluded.DonGiaCoVAT, DoanhSoCoVAT = excluded.DoanhSoCoVAT, DonGiaChuaVAT = excluded.DonGiaChuaVAT, DoanhSoChuaVAT = excluded.DoanhSoChuaVAT, NgayDatDon = excluded.NgayDatDon, NgayGiaoHang = excluded.NgayGiaoHang, MaNV = excluded.MaNV, TenCVBH = excluded.TenCVBH, TenQuanLyTT = excluded.TenQuanLyTT, TenQuanLyKhuVuc = excluded.TenQuanLyKhuVuc, TenQuanLyVung = excluded.TenQuanLyVung, MaNVGH = excluded.MaNVGH, NguoiGiaohang = excluded.NguoiGiaohang, TrangThaiGiaoHang = excluded.TrangThaiGiaoHang, DonViGiaoHang = excluded.DonViGiaoHang, TenNhaVanChuyen = excluded.TenNhaVanChuyen, KieuDonHang = excluded.KieuDonHang, MaKho = excluded.MaKho, TenKho = excluded.TenKho, phanloaispcl = excluded.phanloaispcl, nhomsp = excluded.nhomsp, khuvucviettat = excluded.khuvucviettat, chinhanh = excluded.chinhanh, newhco = excluded.newhco, phanam = excluded.phanam, thang = excluded.thang, inserted_at = excluded.inserted_at\n",
      "Data inserted using execute_values() successfully..\n"
     ]
    }
   ],
   "source": [
    "FINAL.columns = cleancols(FINAL)\n",
    "\n",
    "FINAL.NgayGiaoHang.fillna(datetime(1900, 1, 1), inplace=True)\n",
    "\n",
    "FINAL['phanloaispcl'] = FINAL['MaSanPham'].map(\n",
    "    df_to_dict(get_ps_df(\"select masanpham, phanloai from d_nhom_sp where nhomsp='SPCL'\"))\n",
    ").fillna('Khác')\n",
    "\n",
    "FINAL['nhomsp'] = FINAL['MaSanPham'].map(\n",
    "    df_to_dict(get_ps_df(\"select masanpham, nhomsp from d_nhom_sp where nhomsp IN ('SPCL', 'SP MOI') \"))\n",
    ").fillna('Khác')\n",
    "\n",
    "FINAL['khuvucviettat'] = FINAL['TenKhuVuc'].map(\n",
    "    df_to_dict(get_ps_df(\"select * from d_mkv_viet_tat\"))\n",
    ")\n",
    "\n",
    "FINAL['chinhanh'] = FINAL['MaCongTyCN'].map(\n",
    "    df_to_dict(get_ps_df(\"select * from d_chi_nhanh\"))\n",
    ")\n",
    "\n",
    "FINAL['newhco'] = (FINAL['MaKenhPhu']+FINAL['MaPhanLoaiHCO']).map(\n",
    "    df_to_dict(get_ps_df(\"SELECT concat(makenhphu, maphanloaihco) as concat, new_mahco FROM d_pl_hco\"))\n",
    ")\n",
    "\n",
    "FINAL['phanam'] = FINAL['MaSanPham'].map(\n",
    "    df_to_dict(get_ps_df(\"select masanpham, nhomsp from d_nhom_sp where nhomsp='PHA NAM'\"))).fillna('Merap')\n",
    "\n",
    "FINAL['thang'] = FINAL['NgayChungTu'] + pd.offsets.Day() - pd.offsets.MonthBegin()\n",
    "\n",
    "FINAL['inserted_at'] = datetime(2022,2,7)\n",
    "\n",
    "pk = ['macongtycn', 'ngaychungtu', 'sodondathang', 'masanpham', 'solo', 'lineref', 'soluong']\n",
    "\n",
    "execute_values_upsert(FINAL, 'f_sales', pk=pk)"
   ]
  },
  {
   "cell_type": "code",
   "execution_count": 6,
   "metadata": {},
   "outputs": [],
   "source": [
    "# FINAL.NgayGiaoHang.fillna(datetime(1900, 1, 1), inplace=True)"
   ]
  },
  {
   "cell_type": "code",
   "execution_count": 7,
   "metadata": {},
   "outputs": [],
   "source": [
    "# vc(FINAL, 'NgayGiaoHang').to_clipboard()"
   ]
  },
  {
   "cell_type": "code",
   "execution_count": 8,
   "metadata": {},
   "outputs": [],
   "source": [
    "# FINAL.dtypes"
   ]
  },
  {
   "cell_type": "code",
   "execution_count": 9,
   "metadata": {},
   "outputs": [],
   "source": [
    "# FINAL.columns = lower_col(FINAL)"
   ]
  },
  {
   "cell_type": "code",
   "execution_count": 11,
   "metadata": {},
   "outputs": [
    {
     "data": {
      "text/plain": [
       "Index(['MaCongTyCN', 'CongTyCN', 'NgayChungTu', 'SoDonDatHang', 'SoDonTraHang',\n",
       "       'NgayTraHang', 'HoaDon', 'TrangThai', 'MaKHThue', 'MaKHCu',\n",
       "       'TenKhachHang', 'TenVungBH', 'TenKhuVuc', 'TenTinhKH', 'TenQuanHUyen',\n",
       "       'MaKenhKH', 'TenKenhKH', 'MaKenhPhu', 'TenKenhPhu', 'MaHCO', 'TenHCO',\n",
       "       'MaPhanLoaiHCO', 'TenPhanLoaiHCO', 'MaPhanHangHCO', 'TenPhanHangHCO',\n",
       "       'NhanHang', 'MaSanPham', 'TenSanPhamNB', 'TenSanPhamVietTat', 'SoLo',\n",
       "       'LineRef', 'SoLuong', 'DonGiaCoVAT', 'DoanhSoCoVAT', 'DonGiaChuaVAT',\n",
       "       'DoanhSoChuaVAT', 'NgayDatDon', 'NgayGiaoHang', 'MaNV', 'TenCVBH',\n",
       "       'TenQuanLyTT', 'TenQuanLyKhuVuc', 'TenQuanLyVung', 'MaNVGH',\n",
       "       'NguoiGiaohang', 'TrangThaiGiaoHang', 'DonViGiaoHang',\n",
       "       'TenNhaVanChuyen', 'KieuDonHang', 'MaKho', 'TenKho', 'phanloaispcl',\n",
       "       'nhomsp', 'khuvucviettat', 'chinhanh', 'newhco', 'phanam', 'thang',\n",
       "       'inserted_at'],\n",
       "      dtype='object')"
      ]
     },
     "execution_count": 11,
     "metadata": {},
     "output_type": "execute_result"
    }
   ],
   "source": [
    "FINAL.columns"
   ]
  },
  {
   "cell_type": "code",
   "execution_count": 10,
   "metadata": {},
   "outputs": [
    {
     "data": {
      "text/plain": [
       "Index(['MaCongTyCN', 'CongTyCN', 'NgayChungTu', 'SoDonDatHang', 'SoDonTraHang',\n",
       "       'NgayTraHang', 'HoaDon', 'TrangThai', 'MaKHThue', 'MaKHCu',\n",
       "       'TenKhachHang', 'TenVungBH', 'TenKhuVuc', 'TenTinhKH', 'MaKenhKH',\n",
       "       'TenKenhKH', 'MaKenhPhu', 'TenKenhPhu', 'MaHCO', 'TenHCO',\n",
       "       'MaPhanLoaiHCO', 'TenPhanLoaiHCO', 'MaPhanHangHCO', 'TenPhanHangHCO',\n",
       "       'NhanHang', 'MaSanPham', 'TenSanPhamNB', 'TenSanPhamVietTat', 'SoLo',\n",
       "       'LineRef', 'SoLuong', 'DonGiaCoVAT', 'DoanhSoCoVAT', 'DonGiaChuaVAT',\n",
       "       'DoanhSoChuaVAT', 'NgayDatDon', 'NgayGiaoHang', 'MaNV', 'TenCVBH',\n",
       "       'TenQuanLyTT', 'TenQuanLyKhuVuc', 'TenQuanLyVung', 'MaNVGH',\n",
       "       'NguoiGiaohang', 'TrangThaiGiaoHang', 'DonViGiaoHang',\n",
       "       'TenNhaVanChuyen', 'KieuDonHang', 'MaKho', 'TenKho', 'phanloaispcl',\n",
       "       'nhomsp', 'khuvucviettat', 'chinhanh', 'newhco', 'phanam', 'thang',\n",
       "       'inserted_at'],\n",
       "      dtype='object')"
      ]
     },
     "execution_count": 10,
     "metadata": {},
     "output_type": "execute_result"
    }
   ],
   "source": [
    "FINAL.columns"
   ]
  },
  {
   "cell_type": "code",
   "execution_count": 11,
   "metadata": {},
   "outputs": [],
   "source": [
    "pk = ['macongtycn', 'ngaychungtu', 'sodondathang', 'masanpham', 'solo', 'lineref', 'soluong']"
   ]
  },
  {
   "cell_type": "code",
   "execution_count": 12,
   "metadata": {},
   "outputs": [],
   "source": [
    "# df_filter(FINAL, sodondathang='OO102021-00001').to_clipboard()"
   ]
  },
  {
   "cell_type": "code",
   "execution_count": null,
   "metadata": {},
   "outputs": [],
   "source": []
  },
  {
   "cell_type": "code",
   "execution_count": 13,
   "metadata": {},
   "outputs": [
    {
     "name": "stdout",
     "output_type": "stream",
     "text": [
      "INSERT INTO f_sales(MaCongTyCN,CongTyCN,NgayChungTu,SoDonDatHang,SoDonTraHang,NgayTraHang,HoaDon,TrangThai,MaKHThue,MaKHCu,TenKhachHang,TenVungBH,TenKhuVuc,TenTinhKH,MaKenhKH,TenKenhKH,MaKenhPhu,TenKenhPhu,MaHCO,TenHCO,MaPhanLoaiHCO,TenPhanLoaiHCO,MaPhanHangHCO,TenPhanHangHCO,NhanHang,MaSanPham,TenSanPhamNB,TenSanPhamVietTat,SoLo,LineRef,SoLuong,DonGiaCoVAT,DoanhSoCoVAT,DonGiaChuaVAT,DoanhSoChuaVAT,NgayDatDon,NgayGiaoHang,MaNV,TenCVBH,TenQuanLyTT,TenQuanLyKhuVuc,TenQuanLyVung,MaNVGH,NguoiGiaohang,TrangThaiGiaoHang,DonViGiaoHang,TenNhaVanChuyen,KieuDonHang,MaKho,TenKho,phanloaispcl,nhomsp,khuvucviettat,chinhanh,newhco,phanam,thang,inserted_at) VALUES %s ON CONFLICT (macongtycn, ngaychungtu, sodondathang, masanpham, solo, lineref, soluong) DO UPDATE SET MaCongTyCN = excluded.MaCongTyCN, CongTyCN = excluded.CongTyCN, NgayChungTu = excluded.NgayChungTu, SoDonDatHang = excluded.SoDonDatHang, SoDonTraHang = excluded.SoDonTraHang, NgayTraHang = excluded.NgayTraHang, HoaDon = excluded.HoaDon, TrangThai = excluded.TrangThai, MaKHThue = excluded.MaKHThue, MaKHCu = excluded.MaKHCu, TenKhachHang = excluded.TenKhachHang, TenVungBH = excluded.TenVungBH, TenKhuVuc = excluded.TenKhuVuc, TenTinhKH = excluded.TenTinhKH, MaKenhKH = excluded.MaKenhKH, TenKenhKH = excluded.TenKenhKH, MaKenhPhu = excluded.MaKenhPhu, TenKenhPhu = excluded.TenKenhPhu, MaHCO = excluded.MaHCO, TenHCO = excluded.TenHCO, MaPhanLoaiHCO = excluded.MaPhanLoaiHCO, TenPhanLoaiHCO = excluded.TenPhanLoaiHCO, MaPhanHangHCO = excluded.MaPhanHangHCO, TenPhanHangHCO = excluded.TenPhanHangHCO, NhanHang = excluded.NhanHang, MaSanPham = excluded.MaSanPham, TenSanPhamNB = excluded.TenSanPhamNB, TenSanPhamVietTat = excluded.TenSanPhamVietTat, SoLo = excluded.SoLo, LineRef = excluded.LineRef, SoLuong = excluded.SoLuong, DonGiaCoVAT = excluded.DonGiaCoVAT, DoanhSoCoVAT = excluded.DoanhSoCoVAT, DonGiaChuaVAT = excluded.DonGiaChuaVAT, DoanhSoChuaVAT = excluded.DoanhSoChuaVAT, NgayDatDon = excluded.NgayDatDon, NgayGiaoHang = excluded.NgayGiaoHang, MaNV = excluded.MaNV, TenCVBH = excluded.TenCVBH, TenQuanLyTT = excluded.TenQuanLyTT, TenQuanLyKhuVuc = excluded.TenQuanLyKhuVuc, TenQuanLyVung = excluded.TenQuanLyVung, MaNVGH = excluded.MaNVGH, NguoiGiaohang = excluded.NguoiGiaohang, TrangThaiGiaoHang = excluded.TrangThaiGiaoHang, DonViGiaoHang = excluded.DonViGiaoHang, TenNhaVanChuyen = excluded.TenNhaVanChuyen, KieuDonHang = excluded.KieuDonHang, MaKho = excluded.MaKho, TenKho = excluded.TenKho, phanloaispcl = excluded.phanloaispcl, nhomsp = excluded.nhomsp, khuvucviettat = excluded.khuvucviettat, chinhanh = excluded.chinhanh, newhco = excluded.newhco, phanam = excluded.phanam, thang = excluded.thang, inserted_at = excluded.inserted_at\n",
      "Data inserted using execute_values() successfully..\n"
     ]
    }
   ],
   "source": [
    "execute_values_upsert(FINAL, 'f_sales', pk=pk)"
   ]
  },
  {
   "cell_type": "code",
   "execution_count": 39,
   "metadata": {},
   "outputs": [],
   "source": [
    "# FINAL2 = FINAL.head()"
   ]
  },
  {
   "cell_type": "code",
   "execution_count": 40,
   "metadata": {},
   "outputs": [],
   "source": [
    "# FINAL2.to_csv('FINAL.csv')"
   ]
  },
  {
   "cell_type": "code",
   "execution_count": 24,
   "metadata": {},
   "outputs": [],
   "source": [
    "############# ENDDDDDDDDDDD #################"
   ]
  },
  {
   "cell_type": "code",
   "execution_count": 2,
   "metadata": {},
   "outputs": [],
   "source": [
    "df_nhansu = pd.read_csv('datanhansu.csv')"
   ]
  },
  {
   "cell_type": "code",
   "execution_count": 3,
   "metadata": {},
   "outputs": [],
   "source": [
    "df_nhansu.columns = cleancols(df_nhansu)"
   ]
  },
  {
   "cell_type": "code",
   "execution_count": 4,
   "metadata": {},
   "outputs": [
    {
     "name": "stdout",
     "output_type": "stream",
     "text": [
      "STT BIGINT NULL,\n",
      "PHONG VARCHAR(100) NULL,\n",
      "BP VARCHAR(100) NULL,\n",
      "MaNVCRSCRSS VARCHAR(100) NULL,\n",
      "HOTEN VARCHAR(100) NULL,\n",
      "HOTENKHONGDAU VARCHAR(100) NULL,\n",
      "CHUCDANH VARCHAR(100) NULL,\n",
      "TINHTRANG VARCHAR(100) NULL,\n",
      "Ngayvaocongty VARCHAR(100) NULL,\n",
      "KV VARCHAR(100) NULL,\n",
      "SDT VARCHAR(100) NULL,\n",
      "EMAIL VARCHAR(100) NULL,\n",
      "MANVQLTT VARCHAR(100) NULL,\n",
      "QUANLYTRUCTIEP VARCHAR(100) NULL,\n",
      "MANVQLV VARCHAR(100) NULL,\n",
      "QLKHUVUC VARCHAR(100) NULL,\n",
      "MANVQLV1 VARCHAR(100) NULL,\n",
      "QLVUNG VARCHAR(100) NULL,\n"
     ]
    }
   ],
   "source": [
    "print_df_schema(df_nhansu)"
   ]
  },
  {
   "cell_type": "code",
   "execution_count": 10,
   "metadata": {},
   "outputs": [
    {
     "data": {
      "text/plain": [
       "Index(['STT', 'PHONG', 'BP', 'MaNVCRSCRSS', 'HOTEN', 'HOTENKHONGDAU',\n",
       "       'CHUCDANH', 'TINHTRANG', 'Ngayvaocongty', 'KV', 'SDT', 'EMAIL',\n",
       "       'MANVQLTT', 'QUANLYTRUCTIEP', 'MANVQLV', 'QLKHUVUC', 'MANVQLV.1',\n",
       "       'QLVUNG'],\n",
       "      dtype='object')"
      ]
     },
     "execution_count": 10,
     "metadata": {},
     "output_type": "execute_result"
    }
   ],
   "source": [
    "df_nhansu.columns"
   ]
  },
  {
   "cell_type": "code",
   "execution_count": 5,
   "metadata": {},
   "outputs": [],
   "source": [
    "insert_df_to_postgres(\n",
    "postgres_conf, tbl_name=\"nhansu\",\n",
    "df=df_nhansu, primary_keys=['manvcrscrss'], schema=\"biteam\")"
   ]
  },
  {
   "cell_type": "code",
   "execution_count": 2,
   "metadata": {},
   "outputs": [],
   "source": [
    "# df_dict = pd.read_csv('ten_tat_mkv.csv', index_col='TenKhuVuc')\n",
    "df_mkv_viet_tat = pd.read_csv('ten_tat_mkv.csv')"
   ]
  },
  {
   "cell_type": "code",
   "execution_count": 3,
   "metadata": {},
   "outputs": [
    {
     "name": "stdout",
     "output_type": "stream",
     "text": [
      "TenKhuVuc VARCHAR(100) NULL,\n",
      "KhuVuc VARCHAR(100) NULL,\n"
     ]
    }
   ],
   "source": [
    "print_df_schema(df_mkv_viet_tat)"
   ]
  },
  {
   "cell_type": "code",
   "execution_count": 7,
   "metadata": {},
   "outputs": [],
   "source": [
    "x = [x.lower() for x in df_mkv_viet_tat.columns]\n",
    "df_mkv_viet_tat.columns = x\n",
    "insert_df_to_postgres(df=df_mkv_viet_tat, postgres_conf=postgres_conf, tbl_name='mkv_viet_tat',schema=\"biteam\", primary_keys=['tenkhuvuc'])"
   ]
  },
  {
   "cell_type": "code",
   "execution_count": 1,
   "metadata": {},
   "outputs": [
    {
     "name": "stdout",
     "output_type": "stream",
     "text": [
      "start program 2021-10-08 12:32:26.251163\n",
      "current location d:\\data_sale\\ipython_file\\data_raw_thang\n",
      "Load df from server 2021-10-08 12:32:26.362819\n"
     ]
    }
   ],
   "source": [
    "t1 = time.perf_counter()\n",
    "now = datetime.now()\n",
    "print('start program %s' % now)\n",
    "print('current location %s' % os.getcwd())\n",
    "\n",
    "# Server config\n",
    "server = '115.165.164.234'\n",
    "driver = 'SQL Server'\n",
    "db1 = 'PhaNam_eSales_PRO'\n",
    "tcon = 'no'\n",
    "uname = 'duyvq'\n",
    "pword = '123VanQuangDuy'\n",
    "cnxn = pyodbc.connect(driver='{ODBC Driver 17 for SQL Server}',\n",
    "                      host=server, database=db1, trusted_connection=tcon,\n",
    "                      user=uname, password=pword)\n",
    "cursor = cnxn.cursor()\n",
    "\n",
    "# Load df from server\n",
    "print('Load df from server', datetime.now())\n",
    "datenow = datetime.now().strftime(\"%Y%m%d\")\n",
    "param_1 = f\"'20210901'\"\n",
    "param_2 = f\"'20210930'\"\n",
    "query = f\"EXEC [pr_OM_RawdataSellOutPayroll_BI] @Fromdate={param_1}, @Todate={param_2}\"\n",
    "PATH = \"D:\\\\data_sale\\\\ipython_file\\\\data_raw_thang\\\\\"\n",
    "DATAPATH = PATH + \"data\\\\\"\n",
    "FILE = f\"data\\\\raw_data_old_{param_2}.csv\"\n",
    "\n",
    "# df1 = pd.read_sql(query, cnxn)\n",
    "cursor.close()\n",
    "cnxn.close()\n",
    "# df1.to_csv(PATH + FILE)"
   ]
  },
  {
   "cell_type": "code",
   "execution_count": 4,
   "metadata": {},
   "outputs": [
    {
     "ename": "NameError",
     "evalue": "name 'param_2' is not defined",
     "output_type": "error",
     "traceback": [
      "\u001b[1;31m---------------------------------------------------------------------------\u001b[0m",
      "\u001b[1;31mNameError\u001b[0m                                 Traceback (most recent call last)",
      "\u001b[1;32m~\\AppData\\Local\\Temp/ipykernel_13484/1019611363.py\u001b[0m in \u001b[0;36m<module>\u001b[1;34m\u001b[0m\n\u001b[0;32m      1\u001b[0m \u001b[0mPATH\u001b[0m \u001b[1;33m=\u001b[0m \u001b[1;34m\"D:\\\\data_sale\\\\ipython_file\\\\data_raw_thang\\\\\"\u001b[0m\u001b[1;33m\u001b[0m\u001b[1;33m\u001b[0m\u001b[0m\n\u001b[0;32m      2\u001b[0m \u001b[0mDATAPATH\u001b[0m \u001b[1;33m=\u001b[0m \u001b[0mPATH\u001b[0m \u001b[1;33m+\u001b[0m \u001b[1;34m\"data\\\\\"\u001b[0m\u001b[1;33m\u001b[0m\u001b[1;33m\u001b[0m\u001b[0m\n\u001b[1;32m----> 3\u001b[1;33m \u001b[0mFILE\u001b[0m \u001b[1;33m=\u001b[0m \u001b[1;34mf\"data\\\\raw_data_old_{param_2}.csv\"\u001b[0m\u001b[1;33m\u001b[0m\u001b[1;33m\u001b[0m\u001b[0m\n\u001b[0m",
      "\u001b[1;31mNameError\u001b[0m: name 'param_2' is not defined"
     ]
    }
   ],
   "source": [
    "PATH = \"D:\\\\data_sale\\\\ipython_file\\\\data_raw_thang\\\\\"\n",
    "DATAPATH = PATH + \"data\\\\\"\n",
    "FILE = f\"data\\\\raw_data_old_{param_2}.csv\""
   ]
  },
  {
   "cell_type": "code",
   "execution_count": 5,
   "metadata": {},
   "outputs": [
    {
     "name": "stderr",
     "output_type": "stream",
     "text": [
      "C:\\Users\\DELL\\AppData\\Local\\Temp/ipykernel_13484/4228445815.py:5: DtypeWarning: Columns (5,58) have mixed types.Specify dtype option on import or set low_memory=False.\n",
      "  df = csv_reader(DATAPATH+'raw_data_old_20210930.csv')\n"
     ]
    }
   ],
   "source": [
    "def csv_reader(filename):\n",
    "    df_from_csv = pd.read_csv(filename, parse_dates=['Ngày Chứng Từ'], dayfirst=True,\n",
    "                              dtype={'Hóa Đơn':'str'})\n",
    "    return df_from_csv\n",
    "df = csv_reader(DATAPATH+'raw_data_old_20210930.csv')\n",
    "df.columns = cleancols(df)"
   ]
  },
  {
   "cell_type": "code",
   "execution_count": 6,
   "metadata": {},
   "outputs": [],
   "source": [
    "df_mdh_dvvc = df[['MaCongTyCN','SoDonDatHang', 'DonViGiaoHang']].copy()\n",
    "df_mdh_dvvc['MaCongTyCN_SoDonDatHang'] = df['MaCongTyCN']+df['SoDonDatHang']\n",
    "df_mdh_dvvc_2 = df_mdh_dvvc[['MaCongTyCN_SoDonDatHang', 'DonViGiaoHang']]\n",
    "df_mdh_dvvc_2 = dropdup(df_mdh_dvvc_2,1)\n",
    "mdh_dvvc_dict= df_mdh_dvvc_2.set_index('MaCongTyCN_SoDonDatHang').to_dict()['DonViGiaoHang']\n",
    "x = df['DonViGiaoHang']\n",
    "df['DonViGiaoHang'] = np.where(x.isna(), (df['MaCongTyCN']+df['SoDonDatHang']).map(mdh_dvvc_dict),x)"
   ]
  },
  {
   "cell_type": "code",
   "execution_count": 13,
   "metadata": {},
   "outputs": [
    {
     "name": "stdout",
     "output_type": "stream",
     "text": [
      "Done merging\n",
      "Transforming df 2021-10-28 16:06:17.707622\n",
      "61014\n",
      "Google Sheet connection & join data 2021-10-28 16:06:17.832142\n",
      "61014\n",
      "finally imported sales data 2021-10-28 16:06:25.409195\n",
      "Finished in 7.702465800000027 seconds\n"
     ]
    }
   ],
   "source": [
    "t1 = time.perf_counter()\n",
    "\n",
    "print(\"Done merging\")\n",
    "# Transforming df\n",
    "print('Transforming df', datetime.now())\n",
    "df.replace(np.nan, '', inplace=True)\n",
    "print(df.shape[0])\n",
    "\n",
    "df_dict = pd.read_csv('ten_tat_mkv.csv', index_col='TenKhuVuc')\n",
    "khuvuc_dict = df_dict.to_dict()['KhuVuc']\n",
    "\n",
    "df['TenKhuVucVietTat'] = df['TenKhuVuc'].map(khuvuc_dict)\n",
    "\n",
    "# Google Sheet connection\n",
    "print('Google Sheet connection & join data', datetime.now())\n",
    "scopes = ['https://www.googleapis.com/auth/spreadsheets', 'https://www.googleapis.com/auth/drive',\n",
    "          'https://www.googleapis.com/auth/drive.file']\n",
    "jsonfile = 'D:\\\\data_sale\\\\datateam1599968716114-6f9f144b4262.json'\n",
    "credentials = service_account.Credentials.from_service_account_file(jsonfile, scopes=scopes)\n",
    "service = discovery.build('drive', 'v3', credentials=credentials)\n",
    "# df_product\n",
    "url_product='https://drive.google.com/file/d/15ClbdtRJhqF6bIDNgRLqI1wAytIoPWWR/view?usp=sharing'\n",
    "file_id_product=url_product.split('/')[-2]\n",
    "dwn_url_product='https://drive.google.com/uc?id=' + file_id_product\n",
    "df_product = pd.read_csv(dwn_url_product)\n",
    "df = df.merge(df_product[[' Mã Sản Phẩm',' Ngành Hàng']], how = 'left',left_on='MaSanPham', right_on=' Mã Sản Phẩm',suffixes=('_left', '_right'), validate=\"m:1\")\n",
    "\n",
    "\n",
    "# df spcl_mapping -> Phan Loai\n",
    "url_spcl = 'https://drive.google.com/file/d/190OCbFpxOT2KCjwhjC5nSbdcmA7ScbdW/view?usp=sharing'\n",
    "file_id_spcl=url_spcl.split('/')[-2]\n",
    "dwn_url_spcl = 'https://drive.google.com/uc?id=' + file_id_spcl\n",
    "df_spcl = pd.read_csv(dwn_url_spcl)\n",
    "df = df.merge(df_spcl, how='left', left_on='MaSanPham', right_on='MaSanPham',suffixes=('_left', '_right'), validate=\"m:1\")\n",
    "df.rename(columns={'PhanLoai': 'Nhom SPCL'}, inplace=True)\n",
    "\n",
    "# MA HCO 2\n",
    "df['MaKenhPhu_MaHCO'] = df['MaKenhPhu']+df['MaPhanLoaiHCO']\n",
    "url_phanloaihco = 'https://drive.google.com/file/d/1lLdheM4T5Rp5Ht4SMjxAtm4v61wwx9Xr/view?usp=sharing'\n",
    "file_id_phanloaihco=url_phanloaihco.split('/')[-2]\n",
    "dwn_url_phanloaihco = 'https://drive.google.com/uc?id=' + file_id_phanloaihco\n",
    "df_phanloaihco = pd.read_csv(dwn_url_phanloaihco)\n",
    "df = df.merge(df_phanloaihco[['ConCat','Ma HCO 2']], how='left', left_on='MaKenhPhu_MaHCO', right_on='ConCat',suffixes=('_left', '_right'), validate=\"m:1\")\n",
    "df.rename(columns={'Ma HCO 2': 'PL HCO'}, inplace=True)\n",
    "\n",
    "# df_clean_data\n",
    "df = df[df['MaSanPham'].str[:1] != 'V']\n",
    "df = df[df['MaKenhKH'] != 'NB']\n",
    "df['SDDH-CN'] = df['SoDonDatHang']+'.'+df['MaCongTyCN']\n",
    "\n",
    "print(df.shape[0])\n",
    "\n",
    "# NhomSPCL\n",
    "x = np.array(df['MaSanPham'])\n",
    "spcl_inlist = ['EH111',\t'EH086', 'EH104', 'EH106', 'EH103', 'EH109', 'EH115', 'EH094', 'EH092', 'EH102', 'EH116',\n",
    "               'EH087', 'EH108', 'EH091', 'EH112', 'EH101', 'EH117', 'VITOL 0.10%', 'EH125', 'EH124', 'OH082']\n",
    "spm_inlist = [' EH115 ', 'OH072', 'OH076']\n",
    "condlist = [np.isin(x, spcl_inlist), np.isin(x, spm_inlist)]\n",
    "choicelist = ['SPCL', 'SP MOI']\n",
    "default = 'KHAC'\n",
    "df['NhomSP'] = np.select(condlist, choicelist, default=default)\n",
    "\n",
    "# MaMien(B/N)\n",
    "x = np.array(df['MaVungBH'])\n",
    "condlist = [np.isin(x, ['BB', 'HN'])]\n",
    "choicelist = ['MB']\n",
    "default = 'MN'\n",
    "df['MaMien(B/N)'] = np.select(condlist, choicelist, default=default)\n",
    "\n",
    "df1 = df['MaNVGH'].copy()\n",
    "df1.replace(r'^\\s*$', np.nan, regex=True, inplace=True)\n",
    "df['MaNVGH'] = df1\n",
    "\n",
    "df['NVBH_Ao'] = np.where(df['MaNV'].isin(['MA001', 'MA002', 'QUYNHPTA']), 0, 1)\n",
    "df['NVGH_Ao'] = np.where(df['MaNVGH'].isna(), 0, 1)\n",
    "\n",
    "df['DoanhSoBanHangChuaVAT'] = df['DoanhSoChuaVAT'] * df['NVBH_Ao']\n",
    "df['DoanhSoGiaoHangChuaVAT'] = df['DoanhSoChuaVAT'] * df['NVGH_Ao']\n",
    "\n",
    "df['SoKH'] = np.where(checkdup(df,1, 'MaKHCu'),0,1)\n",
    "df['SoDH'] = np.where(checkdup(df,1, 'SDDH-CN'),0,1)\n",
    "\n",
    "\n",
    "# Merap/Phanam\n",
    "phanam_inlist = ['EH072', 'OH057', 'OH032', 'OH047','OH016','OH058','OH060','OH061',\n",
    "          'OH062','OH063','OH064','OH065','OH070','OH069','OH066','OH068','OH067','EH105','OH071','OH079','OH081']\n",
    "\n",
    "x = np.array(df['MaSanPham'])\n",
    "condlist = [np.isin(x, phanam_inlist)]\n",
    "choicelist = ['Pha Nam']\n",
    "default = 'Merap'\n",
    "df['Merap/PhaNam'] = np.select(condlist, choicelist, default=default)\n",
    "\n",
    "#VanPhong\n",
    "df['ChiNhanh'] = df['CongTyCN'].str.split(' ').apply(lambda x: x[-2:]).apply(lambda x: ''+' '.join(x))\n",
    "\n",
    "cols = df.columns\n",
    "unwanted_cols = {'DiaChiKH','SoHopDong','MaKenhPhu_MaHCO','ConCat',' Mã Sản Phẩm', ' Ngành Hàng','Unnamed0','MaKHThue','TenKHThue','DiaChiKHThue','MaSoThue','MaKhuVuc','MaTinhKH','MaQuan/HUyen','MaPhanHangHCO','TenPhanHangHCO','TenSanPhamNB'}\n",
    "cols = [ele for ele in cols if ele not in unwanted_cols]\n",
    "\n",
    "df=df[cols]\n",
    "\n",
    "#df to csv\n",
    "df.to_csv(\"raw_data.csv\", index=False)\n",
    "\n",
    "\n",
    "now_final = datetime.now()\n",
    "print(\"finally imported sales data %s\" % now_final)\n",
    "t2 = time.perf_counter()\n",
    "print(f'Finished in {t2-t1} seconds')"
   ]
  },
  {
   "cell_type": "code",
   "execution_count": 2,
   "metadata": {},
   "outputs": [],
   "source": [
    "sql = \\\n",
    "\"\"\"\n",
    "SELECT dc.Descr as GeneralPR, \n",
    "ds.DiscID,\n",
    "ds.DiscSeq,\n",
    "ds.Descr,\n",
    "ds.TypeDiscount,\n",
    "ds.DiscIDPN,\n",
    "ds.ContentInvoice,\n",
    "ds.AccumulateID,\n",
    "ds.ExcludePromo,\n",
    "ds.DiscFor,\n",
    "ds.DiscClass,\n",
    "db.BreakAmt,\n",
    "db.BreakQty,\n",
    "db.DiscAmt,\n",
    "db.Descr as DetailDescr\n",
    "\n",
    "FROM dbo.OM_DiscSeq ds\n",
    "LEFT JOIN  dbo.OM_Discount dc ON\n",
    "ds.DiscID = dc.DiscID\n",
    "LEFT JOIN  dbo.OM_DiscBreak db ON\n",
    "ds.DiscID = db.DiscID\n",
    "and ds.DiscSeq = db.DiscSeq\n",
    "\"\"\""
   ]
  },
  {
   "cell_type": "code",
   "execution_count": 3,
   "metadata": {},
   "outputs": [],
   "source": [
    "df = get_ms_df(sql)"
   ]
  },
  {
   "cell_type": "code",
   "execution_count": 5,
   "metadata": {},
   "outputs": [
    {
     "name": "stderr",
     "output_type": "stream",
     "text": [
      "1it [00:03,  3.08s/it]\n"
     ]
    }
   ],
   "source": [
    "bq_values_insert(df, \"d_schemeinfo\",1)"
   ]
  },
  {
   "cell_type": "code",
   "execution_count": null,
   "metadata": {},
   "outputs": [],
   "source": [
    "# f_temp_sales_with_promo\n",
    "# d_accumulated\n",
    "# d_accumulatedregis\n",
    "# d_schemeinfo\n",
    "# các bảng cần schedule"
   ]
  },
  {
   "cell_type": "code",
   "execution_count": null,
   "metadata": {},
   "outputs": [],
   "source": []
  }
 ],
 "metadata": {
  "kernelspec": {
   "display_name": "Python 3.8.10 ('venv': venv)",
   "language": "python",
   "name": "python3"
  },
  "language_info": {
   "codemirror_mode": {
    "name": "ipython",
    "version": 3
   },
   "file_extension": ".py",
   "mimetype": "text/x-python",
   "name": "python",
   "nbconvert_exporter": "python",
   "pygments_lexer": "ipython3",
   "version": "3.8.10"
  },
  "orig_nbformat": 4,
  "vscode": {
   "interpreter": {
    "hash": "8fb55849e6741974ce442ee684e971e1b6b22c29ca2b25c3b9069bf531e0354a"
   }
  }
 },
 "nbformat": 4,
 "nbformat_minor": 2
}
