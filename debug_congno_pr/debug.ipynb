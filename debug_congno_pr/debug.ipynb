{
 "cells": [
  {
   "cell_type": "code",
   "execution_count": 1,
   "metadata": {},
   "outputs": [
    {
     "name": "stdout",
     "output_type": "stream",
     "text": [
      "Default bq project:  spatial-vision-343005.biteam\n"
     ]
    }
   ],
   "source": [
    "from utils.df_handle import *"
   ]
  },
  {
   "cell_type": "code",
   "execution_count": 8,
   "metadata": {},
   "outputs": [],
   "source": [
    "df2 = pd.read_pickle('2022-11-14_F_TrackingDebt_BI.pk')"
   ]
  },
  {
   "cell_type": "code",
   "execution_count": 9,
   "metadata": {},
   "outputs": [
    {
     "data": {
      "text/plain": [
       "0   2022-01-06 14:18:05.303\n",
       "1   2022-01-04 19:52:15.797\n",
       "2   2022-01-04 14:45:35.837\n",
       "3   2022-01-04 17:18:51.723\n",
       "4   2022-01-04 10:31:53.747\n",
       "Name: deli_last_updated, dtype: datetime64[ns]"
      ]
     },
     "execution_count": 9,
     "metadata": {},
     "output_type": "execute_result"
    }
   ],
   "source": [
    "df2.deli_last_updated.head()"
   ]
  },
  {
   "cell_type": "code",
   "execution_count": 10,
   "metadata": {},
   "outputs": [],
   "source": [
    "dk = df2.tiennocongty > 1000\n",
    "df2 = df2[dk].copy()\n",
    "# df2.DateOfOrder\n",
    "# df2.DueDate = convert_to_datetime(df2.DueDate)\n",
    "# df2.deli_last_updated = pd.to_datetime(df2.deli_last_updated, dayfirst=True)"
   ]
  },
  {
   "cell_type": "code",
   "execution_count": null,
   "metadata": {},
   "outputs": [],
   "source": []
  }
 ],
 "metadata": {
  "kernelspec": {
   "display_name": "Python 3.8.10 ('env': venv)",
   "language": "python",
   "name": "python3"
  },
  "language_info": {
   "codemirror_mode": {
    "name": "ipython",
    "version": 3
   },
   "file_extension": ".py",
   "mimetype": "text/x-python",
   "name": "python",
   "nbconvert_exporter": "python",
   "pygments_lexer": "ipython3",
   "version": "3.8.10"
  },
  "orig_nbformat": 4,
  "vscode": {
   "interpreter": {
    "hash": "e3e62c236e1a80b91bd28884dfef8ca4e8a5f2f97e25c469797e512f6e958bfc"
   }
  }
 },
 "nbformat": 4,
 "nbformat_minor": 2
}
