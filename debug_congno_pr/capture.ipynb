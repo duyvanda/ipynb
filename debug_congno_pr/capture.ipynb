{
 "cells": [
  {
   "cell_type": "code",
   "execution_count": 1,
   "metadata": {},
   "outputs": [],
   "source": [
    "from utils.df_handle import *"
   ]
  },
  {
   "cell_type": "code",
   "execution_count": 2,
   "metadata": {},
   "outputs": [],
   "source": [
    "capture_sql = \\\n",
    "\"\"\"\n",
    "SELECT terms,no_toi_han,updated_at,sum(tiennocongty)  as tiennocongty from (\n",
    "\tSELECT a.branchid,a.ordernbr,a.slsperid,a.slspername,c.tenquanlytt,c.tenquanlyvung,c.tenquanlykhuvuc,a.supname,a.asmname,a.dateoforder as ngaydatdon,\n",
    "\tCase when deli_last_updated ='1900-01-01 00:00:00' then now() -interval '1day' else deli_last_updated end\n",
    "\tas ngaygiaohang, a.custid,a.custname,b.tinh,a.terms,a.inchargename,a.tienchotso,a.tiengiaothanhcong,a.tiennocongty,a.tienthuquyxacnhan,a.duedate,\n",
    "\tCase when trangthaigiaohang ='NaN' then 'Chưa Xác Nhận' else a.trangthaigiaohang end as trangthaigiaohang,\n",
    "\tCase when trim(f.tencvbh) = trim(c.tenquanlykhuvuc) then f.email else 'nhanvt92@gmail.com'end as email_mng,\n",
    "\tCase when trim(e.tencvbh) = trim(c.tenquanlytt) then e.email else 'bimerap.main@gmail.com' end as email_sup,\n",
    "\tCase when trim(d.tencvbh) = trim(a.slspername) then d.email else 'bimerap.main@gmail.com' end as email_staff,\n",
    "\t\n",
    "\tCase \n",
    "\t\t\twhen a.terms = 'Gối 1 Đơn Hàng (trong 30 ngày)' then date(duedate)\n",
    "\t\t\twhen trangthaigiaohang ='Đã giao hàng'  then date(a.deli_last_updated)  + interval '1 day' \t\t\n",
    "\t    when trangthaigiaohang not in ('Đã giao hàng') and a.terms in ('Thu tiền ngay không có VP PN','Gối Đầu 30 Pha Nam' )\n",
    "\tthen date(dateoforder) + interval'2 day' \n",
    "\t\t\twhen trangthaigiaohang not in ('Đã giao hàng') and a.terms in ('Thu tiền ngay có VP PN')\n",
    "\tthen date(dateoforder) + interval '1 day' \n",
    "\n",
    "\telse now() \n",
    "\tend as ngaytoihan1,\n",
    "\tCase when \n",
    "\t( a.terms = 'Gối 1 Đơn Hàng (trong 30 ngày)' and date(duedate) <= date (now()) )\n",
    "\tor\n",
    "\t( a.trangthaigiaohang = 'Đã giao hàng'  and date(a.deli_last_updated)  + interval '1 day' <= date(now()) and a.terms not in ( 'Gối 1 Đơn Hàng (trong 30 ngày)' ) )\n",
    "\t\n",
    "\tor ( trangthaigiaohang not in ('Đã giao hàng') and a.terms in ('Thu tiền ngay không có VP PN','Gối Đầu 30 Pha Nam')\n",
    "\tand date(dateoforder) + interval'2 day' <= date(now() ) ) \n",
    "\n",
    "\tor (trangthaigiaohang not in ('Đã giao hàng') and a.terms in ('Thu tiền ngay có VP PN')\n",
    "\tand date(dateoforder) + interval '1 day' <= date(now()) )\n",
    "\t\n",
    "\tthen 'Đã tới hạn' else 'Chưa tới hạn' end as no_toi_han,\n",
    "\ta.inserted_at  as updated_at\n",
    "\n",
    "\tfrom f_tracking_debt a\n",
    "\tLEFT JOIN d_kh b on a.custid = b.custid\n",
    "\tLEFT JOIN d_users c on c.manv =a.slsperid\n",
    "\tLEFT JOIN d_takeorder_phanquyenstaff d on trim(d.tencvbh) = trim(a.slspername)\n",
    "\tLEFT JOIN d_takeorder_phanquyenstaff e on trim(e.tencvbh) = trim(c.tenquanlytt)\n",
    "\tLEFT JOIN d_takeorder_phanquyenstaff f on trim(f.tencvbh) = trim(c.tenquanlykhuvuc)\n",
    "\twhere \n",
    "\t(terms in ('Thu tiền ngay có VP PN','Thu tiền ngay không có VP PN','Gối 1 Đơn Hàng (trong 30 ngày)','Gối Đầu 30 Pha Nam')  \n",
    "\t--and a.paymentsform ='TM'--\n",
    "\tand debtincharge ='MDS'  and tiennocongty > 1000 and a.slsperid <> 'GH001') \n",
    "\t) a\n",
    "\tGROUP BY\n",
    "terms,no_toi_han,updated_at\n",
    "\"\"\""
   ]
  },
  {
   "cell_type": "code",
   "execution_count": 3,
   "metadata": {},
   "outputs": [],
   "source": [
    "df = get_ps_df(capture_sql)"
   ]
  },
  {
   "cell_type": "code",
   "execution_count": 4,
   "metadata": {},
   "outputs": [],
   "source": [
    "df.updated_at = datetime.now()"
   ]
  },
  {
   "cell_type": "code",
   "execution_count": 5,
   "metadata": {},
   "outputs": [
    {
     "data": {
      "text/plain": [
       "Index(['terms', 'no_toi_han', 'updated_at', 'tiennocongty'], dtype='object')"
      ]
     },
     "execution_count": 5,
     "metadata": {},
     "output_type": "execute_result"
    }
   ],
   "source": [
    "df.columns"
   ]
  },
  {
   "cell_type": "code",
   "execution_count": 6,
   "metadata": {},
   "outputs": [],
   "source": [
    "df.tiennocongty = df.tiennocongty*1.1"
   ]
  },
  {
   "cell_type": "code",
   "execution_count": 7,
   "metadata": {},
   "outputs": [],
   "source": [
    "pk = ['terms','no_toi_han','updated_at']"
   ]
  },
  {
   "cell_type": "code",
   "execution_count": 8,
   "metadata": {},
   "outputs": [
    {
     "name": "stdout",
     "output_type": "stream",
     "text": [
      "INSERT INTO f_daily_capture_notoihan(terms,no_toi_han,updated_at,tiennocongty) VALUES %s ON CONFLICT (terms, no_toi_han, updated_at) DO UPDATE SET tiennocongty = excluded.tiennocongty\n",
      "Data inserted using execute_values() successfully..\n"
     ]
    }
   ],
   "source": [
    "execute_values_upsert(df, \"f_daily_capture_notoihan\",pk)"
   ]
  },
  {
   "cell_type": "code",
   "execution_count": null,
   "metadata": {},
   "outputs": [],
   "source": []
  }
 ],
 "metadata": {
  "interpreter": {
   "hash": "8860c5a2a70cad65c4a4f551bdb0e44edb7c75fe3e6ee64cbfce63c1c9f89b27"
  },
  "kernelspec": {
   "display_name": "Python 3.9.10 64-bit (windows store)",
   "language": "python",
   "name": "python3"
  },
  "language_info": {
   "codemirror_mode": {
    "name": "ipython",
    "version": 3
   },
   "file_extension": ".py",
   "mimetype": "text/x-python",
   "name": "python",
   "nbconvert_exporter": "python",
   "pygments_lexer": "ipython3",
   "version": "3.9.6"
  },
  "orig_nbformat": 4
 },
 "nbformat": 4,
 "nbformat_minor": 2
}
