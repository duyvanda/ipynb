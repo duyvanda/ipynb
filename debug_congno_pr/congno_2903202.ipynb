{
 "cells": [
  {
   "cell_type": "code",
   "execution_count": 1,
   "metadata": {},
   "outputs": [],
   "source": [
    "from utils.df_handle import *"
   ]
  },
  {
   "cell_type": "code",
   "execution_count": 3,
   "metadata": {},
   "outputs": [],
   "source": [
    "Fromdate = '20160101'\n",
    "Todate = '20220301'"
   ]
  },
  {
   "cell_type": "code",
   "execution_count": 4,
   "metadata": {},
   "outputs": [],
   "source": [
    "WithOutOrderNbr_sql = \\\n",
    "f\"\"\"\n",
    "SELECT co.BranchID,\n",
    "       COOrDer = co.OrderNbr,\n",
    "       INOrderNbr = ino.OrderNbr,\n",
    "       OrigOrderNbr = ino.OrigOrderNbr\n",
    "-- INTO #WithOutOrderNbr\n",
    "FROM dbo.OM_SalesOrd co WITH (NOLOCK)\n",
    "    INNER JOIN dbo.OM_SalesOrd ino WITH (NOLOCK)\n",
    "        ON ino.BranchID = co.BranchID\n",
    "           AND co.InvcNbr = ino.InvcNbr\n",
    "           AND co.InvcNote = ino.InvcNote\n",
    "           AND ino.OrderDate = co.OrderDate\n",
    "    -- INNER JOIN #TBranchID b WITH (NOLOCK)\n",
    "        -- ON co.BranchID = b.BranchID\n",
    "WHERE co.OrderType IN ( 'CO', 'HK' )\n",
    "      AND ino.OrderType IN ( 'IN', 'IO', 'EP', 'NP' )\n",
    "      AND co.Status = 'C'\n",
    "      AND CAST(co.OrderDate AS DATE)\n",
    "      BETWEEN '{Fromdate}' AND '{Todate}';\n",
    "\"\"\""
   ]
  },
  {
   "cell_type": "code",
   "execution_count": 5,
   "metadata": {},
   "outputs": [],
   "source": [
    "WithOutOrderNbr = get_ms_df(WithOutOrderNbr_sql)"
   ]
  },
  {
   "cell_type": "code",
   "execution_count": 9,
   "metadata": {},
   "outputs": [],
   "source": [
    "# WithOutOrderNbr.to_clipboard()"
   ]
  },
  {
   "cell_type": "code",
   "execution_count": 10,
   "metadata": {},
   "outputs": [],
   "source": [
    "ReturnOrder_sql = \\\n",
    "\"\"\"\n",
    "SELECT co.BranchID,\n",
    "       ReturnDate = co.OrderDate,\n",
    "       ino.OrderDate,\n",
    "       COOrDer = co.OrderNbr,\n",
    "       INOrderNbr = ino.OrderNbr,\n",
    "       OrigOrderNbr = ino.OrigOrderNbr\n",
    "-- INTO #ReturnOrder\n",
    "FROM dbo.OM_SalesOrd co WITH (NOLOCK)\n",
    "    INNER JOIN dbo.OM_SalesOrd ino WITH (NOLOCK)\n",
    "        ON ino.BranchID = co.BranchID\n",
    "           AND co.InvcNbr = ino.InvcNbr\n",
    "           AND co.InvcNote = ino.InvcNote\n",
    "           AND ino.OrderDate <> co.OrderDate\n",
    "    -- INNER JOIN #TBranchID b WITH (NOLOCK)\n",
    "    --     ON co.BranchID = b.BranchID\n",
    "WHERE co.OrderType IN ( 'CO', 'HK' )\n",
    "      AND ino.OrderType IN ( 'IN', 'IO', 'EP', 'NP' )\n",
    "      AND co.Status = 'C'\n",
    "\"\"\""
   ]
  },
  {
   "cell_type": "code",
   "execution_count": 11,
   "metadata": {},
   "outputs": [],
   "source": [
    "ReturnOrder = get_ms_df(ReturnOrder_sql)"
   ]
  },
  {
   "cell_type": "code",
   "execution_count": 12,
   "metadata": {},
   "outputs": [],
   "source": [
    "UNION1_sql = \\\n",
    "f\"\"\"\n",
    "SELECT ord.BranchID,\n",
    "        deb.SlsperID,\n",
    "        ord.OrderNbr,\n",
    "        OMOrder = sod.OrderNbr,\n",
    "        DeliveryUnit = '',\n",
    "        sod.CustID,\n",
    "        sod.InvoiceCustID,\n",
    "        do.InvcNbr,\n",
    "        do.InvcNote,\n",
    "        sod.Version,\n",
    "        OrderDate = CAST(do.DocDate AS DATE),\n",
    "        DateOfOrder = CAST(sod.OrderDate AS DATE),\n",
    "        DeliveryTime = '',\n",
    "        TermsID = do.Terms,\n",
    "        DueDate = CASE\n",
    "                        WHEN do.Terms = 'O1' THEN\n",
    "                            DATEADD(DAY, 30, do.DocDate)\n",
    "                        ELSE\n",
    "                            do.DueDate\n",
    "                    END,\n",
    "        OpeiningOrderAmt = do.OrigDocAmt,\n",
    "        OrdAmtRelease = 0,\n",
    "        DeliveredOrderAmt = 0,\n",
    "        ReturnOrdAmt = 0,\n",
    "        ReceiveAmt = 0,\n",
    "        Reason = '',\n",
    "        DebConfirmAmt = 0,\n",
    "        DebConfirmAmtRelease = 0,\n",
    "        sod.PaymentsForm\n",
    "FROM dbo.OM_PDASalesOrd ord WITH (NOLOCK)\n",
    "    INNER JOIN dbo.OM_SalesOrd sod WITH (NOLOCK)\n",
    "        ON sod.BranchID = ord.BranchID\n",
    "            AND sod.OrigOrderNbr = ord.OrderNbr\n",
    "    INNER JOIN dbo.OM_DebtAllocateDet deb\n",
    "        ON deb.BranchID = ord.BranchID\n",
    "            AND deb.OrderNbr = ord.OrderNbr\n",
    "            AND sod.ARBatNbr = deb.ARBatNbr\n",
    "    INNER JOIN dbo.AR_Doc do\n",
    "        ON sod.BranchID = do.BranchID\n",
    "            AND sod.ARBatNbr = do.BatNbr\n",
    "            AND sod.ARRefNbr = do.RefNbr\n",
    "    INNER JOIN Batch b WITH (NOLOCK)\n",
    "        ON do.BranchID = b.BranchID\n",
    "            AND do.BatNbr = b.BatNbr\n",
    "            AND b.Module = 'AR'\n",
    "    -- LEFT JOIN #WithOutOrderNbr woo WITH (NOLOCK)\n",
    "    --     ON woo.BranchID = ord.BranchID\n",
    "    --        AND woo.OrigOrderNbr = ord.OrderNbr\n",
    "    -- LEFT JOIN #TSlsperID ts WITH (NOLOCK)\n",
    "    --     ON ts.BranchID = deb.BranchID\n",
    "    --        AND ts.SlsperID = deb.SlsperID\n",
    "WHERE CAST(do.DocDate AS DATE)\n",
    "        BETWEEN '{Fromdate}' AND '{Todate}'\n",
    "        AND sod.Status = 'C'\n",
    "    --   AND woo.OrigOrderNbr IS NULL\n",
    "        AND CAST(sod.OrderDate AS DATE) < '20210501'\n",
    "\"\"\"\n",
    "UNION1 = get_ms_df(UNION1_sql)"
   ]
  },
  {
   "cell_type": "code",
   "execution_count": 13,
   "metadata": {},
   "outputs": [],
   "source": [
    "lst = UNION1.columns\n",
    "UNION1 = UNION1.merge(WithOutOrderNbr, how='left', left_on=['BranchID','OrderNbr'], right_on=['BranchID','OrigOrderNbr'])\n",
    "# UNION1.columns\n",
    "UNION1 = UNION1[UNION1.COOrDer.isna()]\n",
    "UNION1 = UNION1[lst]"
   ]
  },
  {
   "cell_type": "code",
   "execution_count": 14,
   "metadata": {},
   "outputs": [],
   "source": [
    "# UNION1.shape"
   ]
  },
  {
   "cell_type": "code",
   "execution_count": 15,
   "metadata": {},
   "outputs": [],
   "source": [
    "UNION2_sql = \\\n",
    "f\"\"\"\n",
    "SELECT\n",
    "d.BranchID,\n",
    "i.SlsperID,\n",
    "d.OrderNbr,\n",
    "OMOrder = sod.OrderNbr,\n",
    "DeliveryUnit = ISNULL(i.DeliveryUnit, ''),\n",
    "sod.CustID,\n",
    "sod.InvoiceCustID,\n",
    "do.InvcNbr,\n",
    "do.InvcNote,\n",
    "sod.Version,\n",
    "OrderDate = IIF(CAST(i.IssueDate AS DATE) < CAST(sod.OrderDate AS DATE),\n",
    "            CAST(sod.OrderDate AS DATE),\n",
    "            CAST(i.IssueDate AS DATE)),\n",
    "DateOfOrder = CAST(sod.OrderDate AS DATE),\n",
    "DeliveryTime = '',\n",
    "TermsID = do.Terms,\n",
    "DueDate = CASE\n",
    "            WHEN do.Terms = 'O1' THEN\n",
    "                DATEADD(DAY, 30, do.DocDate)\n",
    "            ELSE\n",
    "                do.DueDate\n",
    "        END,\n",
    "OpeiningOrderAmt = 0,\n",
    "OrdAmtRelease = do.OrigDocAmt,\n",
    "DeliveredOrderAmt = 0,\n",
    "ReturnOrdAmt = 0,\n",
    "ReceiveAmt = 0,\n",
    "Reason = '',\n",
    "DebConfirmAmt = 0,\n",
    "DebConfirmAmtRelease = 0,\n",
    "sod.PaymentsForm\n",
    "FROM dbo.OM_IssueBook i WITH (NOLOCK)\n",
    "INNER JOIN dbo.OM_IssueBookDet d WITH (NOLOCK)\n",
    "ON d.BatNbr = i.BatNbr\n",
    "AND d.BranchID = i.BranchID\n",
    "INNER JOIN dbo.OM_PDASalesOrd ord WITH (NOLOCK)\n",
    "ON ord.BranchID = d.BranchID\n",
    "AND ord.OrderNbr = d.OrderNbr\n",
    "AND ord.OrderType IN ('CO','DI','DM','DP','IN','IR','LO','OO','UP') -- Duy ADDED\n",
    "INNER JOIN dbo.OM_SalesOrd sod WITH (NOLOCK)\n",
    "ON sod.BranchID = ord.BranchID\n",
    "AND sod.OrigOrderNbr = ord.OrderNbr\n",
    "-- INNER JOIN #TOrderType ot WITH (NOLOCK)\n",
    "--     ON ot.OrderType = ord.OrderType\n",
    "INNER JOIN dbo.OM_DebtAllocateDet deb WITH (NOLOCK)\n",
    "ON deb.BranchID = d.BranchID\n",
    "AND deb.OrderNbr = d.OrderNbr\n",
    "AND sod.ARBatNbr = deb.ARBatNbr\n",
    "INNER JOIN dbo.AR_Doc do WITH (NOLOCK)\n",
    "ON sod.BranchID = do.BranchID\n",
    "AND sod.ARBatNbr = do.BatNbr\n",
    "AND sod.ARRefNbr = do.RefNbr\n",
    "INNER JOIN Batch b WITH (NOLOCK)\n",
    "ON do.BranchID = b.BranchID\n",
    "AND do.BatNbr = b.BatNbr\n",
    "AND b.Module = 'AR'\n",
    "-- INNER JOIN #TBranchID br WITH (NOLOCK)\n",
    "--     ON i.BranchID = br.BranchID\n",
    "-- LEFT JOIN #TSlsperID ts WITH (NOLOCK)\n",
    "--     ON ts.BranchID = i.BranchID\n",
    "--        AND ts.SlsperID = i.SlsperID\n",
    "-- LEFT JOIN #WithOutOrderNbr woo WITH (NOLOCK)\n",
    "--     ON woo.BranchID = ord.BranchID\n",
    "--        AND woo.OrigOrderNbr = ord.OrderNbr\n",
    "WHERE CAST(i.IssueDate AS DATE)\n",
    "BETWEEN '{Fromdate}' AND '{Todate}'\n",
    "AND i.Status = 'C'\n",
    "AND sod.Status = 'C'\n",
    "--   AND woo.OrigOrderNbr IS NULL\n",
    "\"\"\"\n",
    "UNION2 = get_ms_df(UNION2_sql)"
   ]
  },
  {
   "cell_type": "code",
   "execution_count": 16,
   "metadata": {},
   "outputs": [],
   "source": [
    "lst = UNION2.columns\n",
    "UNION2 = UNION2.merge(WithOutOrderNbr, how='left', left_on=['BranchID','OrderNbr'], right_on=['BranchID','OrigOrderNbr'])\n",
    "# UNION2.columns\n",
    "UNION2 = UNION2[UNION2.COOrDer.isna()]\n",
    "UNION2 = UNION2[lst]"
   ]
  },
  {
   "cell_type": "code",
   "execution_count": 17,
   "metadata": {},
   "outputs": [],
   "source": [
    "# UNION2.shape"
   ]
  },
  {
   "cell_type": "code",
   "execution_count": 18,
   "metadata": {},
   "outputs": [],
   "source": [
    "UNION3_sql = \\\n",
    "f\"\"\"\n",
    "SELECT\n",
    "b.BranchID,\n",
    "b.SlsperID,\n",
    "d.OrderNbr,\n",
    "OMOrder = sod.OrderNbr,\n",
    "DeliveryUnit = ISNULL(b.DeliveryUnit, ''),\n",
    "sod.CustID,\n",
    "sod.InvoiceCustID,\n",
    "do.InvcNbr,\n",
    "do.InvcNote,\n",
    "sod.Version,\n",
    "OrderDate = CAST(dl.LUpd_DateTime AS DATE),\n",
    "DateOfOrder = CAST(sod.OrderDate AS DATE),\n",
    "DeliveryTime = CAST((DATEDIFF(MINUTE, dl.Crtd_DateTime, dl.LUpd_DateTime)\n",
    "                    - DATEDIFF(MINUTE, dl.Crtd_DateTime, dl.LUpd_DateTime) % 60\n",
    "                    ) / 60 AS VARCHAR(8)) + ':'\n",
    "                + RIGHT('0' + CAST(DATEDIFF(MINUTE, dl.Crtd_DateTime, dl.LUpd_DateTime) % 60 AS VARCHAR(2)), 2),\n",
    "TermsID = do.Terms,\n",
    "DueDate = CASE\n",
    "                WHEN do.Terms = 'O1' THEN\n",
    "                    DATEADD(DAY, 30, do.DocDate)\n",
    "                ELSE\n",
    "                    do.DueDate\n",
    "            END,\n",
    "OpeiningOrderAmt = 0,\n",
    "OrdAmtRelease = 0,\n",
    "DeliveredOrderAmt = do.OrigDocAmt,\n",
    "ReturnOrdAmt = 0,\n",
    "ReceiveAmt = 0,\n",
    "Reason = '',\n",
    "DebConfirmAmt = 0,\n",
    "DebConfirmAmtRelease = 0,\n",
    "sod.PaymentsForm\n",
    "FROM dbo.OM_IssueBook b WITH (NOLOCK)\n",
    "INNER JOIN dbo.OM_IssueBookDet d WITH (NOLOCK)\n",
    "ON d.BranchID = b.BranchID\n",
    "    AND d.BatNbr = b.BatNbr\n",
    "INNER JOIN dbo.OM_PDASalesOrd o WITH (NOLOCK)\n",
    "ON o.BranchID = b.BranchID\n",
    "AND o.OrderNbr = d.OrderNbr\n",
    "AND o.OrderType IN ('CO','DI','DM','DP','IN','IR','LO','OO','UP') -- Duy ADDED\n",
    "INNER JOIN dbo.OM_SalesOrd sod WITH (NOLOCK)\n",
    "ON sod.BranchID = o.BranchID\n",
    "    AND sod.OrigOrderNbr = o.OrderNbr\n",
    "-- INNER JOIN #TOrderType ot WITH (NOLOCK)\n",
    "-- ON ot.OrderType = o.OrderType\n",
    "INNER JOIN dbo.OM_Delivery dl WITH (NOLOCK)\n",
    "ON dl.BranchID = d.BranchID\n",
    "    AND dl.OrderNbr = d.OrderNbr\n",
    "    AND dl.Status = 'C'\n",
    "INNER JOIN dbo.OM_DebtAllocateDet deb WITH (NOLOCK)\n",
    "ON deb.BranchID = dl.BranchID\n",
    "    AND deb.OrderNbr = dl.OrderNbr\n",
    "    AND deb.ARBatNbr = sod.ARBatNbr\n",
    "    AND dl.Status = 'C'\n",
    "INNER JOIN dbo.AR_Doc do WITH (NOLOCK)\n",
    "ON sod.BranchID = do.BranchID\n",
    "    AND sod.ARBatNbr = do.BatNbr\n",
    "    AND sod.ARRefNbr = do.RefNbr\n",
    "INNER JOIN Batch ba WITH (NOLOCK)\n",
    "ON do.BranchID = ba.BranchID\n",
    "    AND do.BatNbr = ba.BatNbr\n",
    "    AND ba.Module = 'AR'\n",
    "-- INNER JOIN #TBranchID br WITH (NOLOCK)\n",
    "-- ON b.BranchID = br.BranchID\n",
    "-- LEFT JOIN #TSlsperID ts WITH (NOLOCK)\n",
    "-- ON ts.BranchID = b.BranchID\n",
    "--     AND ts.SlsperID = b.SlsperID\n",
    "-- LEFT JOIN #WithOutOrderNbr woo WITH (NOLOCK)\n",
    "-- ON woo.BranchID = o.BranchID\n",
    "--     AND woo.OrigOrderNbr = o.OrderNbr\n",
    "-- LEFT JOIN #ReturnOrder rod WITH (NOLOCK)\n",
    "-- ON rod.BranchID = o.BranchID\n",
    "--     AND rod.OrigOrderNbr = o.OrderNbr\n",
    "WHERE b.Status = 'C'\n",
    "AND CAST(dl.LUpd_DateTime AS DATE)\n",
    "BETWEEN '{Fromdate}' AND '{Todate}'\n",
    "AND sod.Status = 'C'\n",
    "-- AND woo.OrigOrderNbr IS NULL\n",
    "-- AND rod.OrigOrderNbr IS NULL\n",
    "\"\"\"\n",
    "UNION3 = get_ms_df(UNION3_sql)"
   ]
  },
  {
   "cell_type": "code",
   "execution_count": 19,
   "metadata": {},
   "outputs": [],
   "source": [
    "lst = UNION3.columns\n",
    "UNION3 = UNION3.merge(WithOutOrderNbr, how='left', left_on=['BranchID','OrderNbr'], right_on=['BranchID','OrigOrderNbr'])\n",
    "# UNION3.columns\n",
    "UNION3 = UNION3[UNION3.OrigOrderNbr.isna()]\n",
    "UNION3 = UNION3[lst]\n",
    "\n",
    "lst = UNION3.columns\n",
    "UNION3 = UNION3.merge(ReturnOrder, how='left', left_on=['BranchID','OrderNbr'], right_on=['BranchID','OrigOrderNbr'], suffixes=['','y'])\n",
    "# UNION3.columns\n",
    "UNION3 = UNION3[UNION3.OrigOrderNbr.isna()]\n",
    "UNION3 = UNION3[lst]"
   ]
  },
  {
   "cell_type": "code",
   "execution_count": 20,
   "metadata": {},
   "outputs": [],
   "source": [
    "# UNION3.shape"
   ]
  },
  {
   "cell_type": "code",
   "execution_count": 21,
   "metadata": {},
   "outputs": [],
   "source": [
    "UNION4_sql = \\\n",
    "f\"\"\"\n",
    "SELECT\n",
    "b.BranchID,\n",
    "b.SlsperID,\n",
    "d.OrderNbr,\n",
    "OMOrder = sod.OrderNbr,\n",
    "DeliveryUnit = ISNULL(b.DeliveryUnit, ''),\n",
    "sod.CustID,\n",
    "sod.InvoiceCustID,\n",
    "do.InvcNbr,\n",
    "do.InvcNote,\n",
    "sod.Version,\n",
    "OrderDate = CAST(dbc.CreateDate AS DATE),\n",
    "DateOfOrder = CAST(sod.OrderDate AS DATE),\n",
    "DeliveryTime = '',\n",
    "TermsID = do.Terms,\n",
    "DueDate = CASE\n",
    "                WHEN do.Terms = 'O1' THEN\n",
    "                    DATEADD(DAY, 30, do.DocDate)\n",
    "                ELSE\n",
    "                    do.DueDate\n",
    "            END,\n",
    "OpeiningOrderAmt = 0,\n",
    "OrdAmtRelease = 0,\n",
    "DeliveredOrderAmt = 0,\n",
    "ReturnOrdAmt = 0,\n",
    "ReceiveAmt = dbc.ReceiveAmt,\n",
    "Reason = ISNULL(ors.Descr, ''),\n",
    "DebConfirmAmt = 0,\n",
    "DebConfirmAmtRelease = 0,\n",
    "sod.PaymentsForm\n",
    "FROM dbo.OM_IssueBook b WITH (NOLOCK)\n",
    "INNER JOIN dbo.OM_IssueBookDet d WITH (NOLOCK)\n",
    "ON d.BranchID = b.BranchID\n",
    "    AND d.BatNbr = b.BatNbr\n",
    "INNER JOIN dbo.OM_PDASalesOrd o WITH (NOLOCK)\n",
    "ON o.BranchID = b.BranchID\n",
    "AND o.OrderNbr = d.OrderNbr\n",
    "AND o.OrderType IN ('CO','DI','DM','DP','IN','IR','LO','OO','UP') -- Duy ADDED\n",
    "-- LEFT JOIN #ReturnOrder rod WITH (NOLOCK)\n",
    "-- ON rod.BranchID = o.BranchID\n",
    "--     AND rod.OrigOrderNbr = o.OrderNbr\n",
    "-- INNER JOIN #TOrderType ot WITH (NOLOCK)\n",
    "-- ON ot.OrderType = o.OrderType\n",
    "INNER JOIN dbo.OM_Delivery dl WITH (NOLOCK)\n",
    "ON dl.BranchID = d.BranchID\n",
    "    AND dl.OrderNbr = d.OrderNbr\n",
    "    AND dl.Status = 'C'\n",
    "INNER JOIN dbo.OM_SalesOrd sod WITH (NOLOCK)\n",
    "ON sod.BranchID = o.BranchID\n",
    "AND sod.OrigOrderNbr = o.OrderNbr\n",
    "INNER JOIN dbo.OM_DebtAllocateDet deb WITH (NOLOCK)\n",
    "ON deb.BranchID = dl.BranchID\n",
    "    AND deb.OrderNbr = dl.OrderNbr\n",
    "    AND dl.Status = 'C'\n",
    "    AND sod.ARBatNbr = deb.ARBatNbr\n",
    "INNER JOIN dbo.AR_Doc do WITH (NOLOCK)\n",
    "ON sod.BranchID = do.BranchID\n",
    "    AND sod.ARBatNbr = do.BatNbr\n",
    "    AND sod.ARRefNbr = do.RefNbr\n",
    "INNER JOIN Batch ba WITH (NOLOCK)\n",
    "ON do.BranchID = ba.BranchID\n",
    "    AND do.BatNbr = ba.BatNbr\n",
    "    AND ba.Module = 'AR'\n",
    "INNER JOIN dbo.PPC_DebtConfirm dbc WITH (NOLOCK)\n",
    "ON dbc.InvcNbr = do.InvcNbr\n",
    "    AND dbc.InvcNote = do.InvcNote\n",
    "    AND dbc.BranchID = do.BranchID\n",
    "    AND dbc.DocBatNbr = do.BatNbr\n",
    "    AND dbc.DocRefNbr = do.RefNbr\n",
    "LEFT JOIN OM_ReasonCodePPC ors WITH (NOLOCK)\n",
    "ON dbc.Reason = ors.Code\n",
    "    AND ors.Type = 'DEBTNOTPAY'\n",
    "-- INNER JOIN #TBranchID br WITH (NOLOCK)\n",
    "-- ON b.BranchID = br.BranchID\n",
    "-- LEFT JOIN #TSlsperID ts WITH (NOLOCK)\n",
    "-- ON ts.BranchID = b.BranchID\n",
    "--     AND ts.SlsperID = b.SlsperID\n",
    "-- LEFT JOIN #WithOutOrderNbr woo WITH (NOLOCK)\n",
    "-- ON woo.BranchID = o.BranchID\n",
    "--     AND woo.OrigOrderNbr = o.OrderNbr\n",
    "WHERE b.Status = 'C'\n",
    "AND CAST(dbc.CreateDate AS DATE)\n",
    "BETWEEN '{Fromdate}' AND '{Todate}'\n",
    "AND sod.Status = 'C'\n",
    "-- AND woo.OrigOrderNbr IS NULL\n",
    "-- AND rod.OrigOrderNbr IS NULL\n",
    "\"\"\"\n",
    "UNION4 = get_ms_df(UNION4_sql)"
   ]
  },
  {
   "cell_type": "code",
   "execution_count": 22,
   "metadata": {},
   "outputs": [],
   "source": [
    "lst = UNION4.columns\n",
    "UNION4 = UNION4.merge(WithOutOrderNbr, how='left', left_on=['BranchID','OrderNbr'], right_on=['BranchID','OrigOrderNbr'])\n",
    "UNION4 = UNION4[UNION4.OrigOrderNbr.isna()]\n",
    "UNION4 = UNION4[lst]\n",
    "\n",
    "lst = UNION4.columns\n",
    "UNION4 = UNION4.merge(ReturnOrder, how='left', left_on=['BranchID','OrderNbr'], right_on=['BranchID','OrigOrderNbr'], suffixes=['','y'])\n",
    "UNION4 = UNION4[UNION4.OrigOrderNbr.isna()]\n",
    "UNION4 = UNION4[lst]"
   ]
  },
  {
   "cell_type": "code",
   "execution_count": 23,
   "metadata": {},
   "outputs": [],
   "source": [
    "# UNION4.shape"
   ]
  },
  {
   "cell_type": "code",
   "execution_count": 24,
   "metadata": {},
   "outputs": [],
   "source": [
    "UNION5_sql = \\\n",
    "f\"\"\"\n",
    "SELECT \n",
    "d.BranchID,\n",
    "SlsperID = ISNULL(ib.SlsperID, deb.SlsperID),\n",
    "OrderNbr = d.OrigOrderNbr,\n",
    "OMOrder = sod.OrderNbr,\n",
    "DeliveryUnit = ISNULL(ib.DeliveryUnit, ''),\n",
    "sod.CustID,\n",
    "sod.InvoiceCustID,\n",
    "do.InvcNbr,\n",
    "do.InvcNote,\n",
    "sod.Version,\n",
    "OrderDate = CAST(d.ReturnDate AS DATE),\n",
    "DateOfOrder = CAST(sod.OrderDate AS DATE),\n",
    "DeliveryTime = '',\n",
    "TermsID = do.Terms,\n",
    "DueDate = CASE\n",
    "                WHEN do.Terms = 'O1' THEN\n",
    "                    DATEADD(DAY, 30, do.DocDate)\n",
    "                ELSE\n",
    "                    do.DueDate\n",
    "            END,\n",
    "OpeiningOrderAmt = 0,\n",
    "OrdAmtRelease = 0,\n",
    "DeliveredOrderAmt = 0,\n",
    "ReturnOrdAmt = do.OrigDocAmt,\n",
    "ReceiveAmt = 0,\n",
    "Reason = '',\n",
    "DebConfirmAmt = 0,\n",
    "DebConfirmAmtRelease = 0,\n",
    "sod.PaymentsForm\n",
    "FROM\n",
    "(\n",
    "SELECT co.BranchID,\n",
    "       ReturnDate = co.OrderDate,\n",
    "       ino.OrderDate,\n",
    "       COOrDer = co.OrderNbr,\n",
    "       INOrderNbr = ino.OrderNbr,\n",
    "       OrigOrderNbr = ino.OrigOrderNbr\n",
    "-- INTO #ReturnOrder\n",
    "FROM dbo.OM_SalesOrd co WITH (NOLOCK)\n",
    "    INNER JOIN dbo.OM_SalesOrd ino WITH (NOLOCK)\n",
    "        ON ino.BranchID = co.BranchID\n",
    "           AND co.InvcNbr = ino.InvcNbr\n",
    "           AND co.InvcNote = ino.InvcNote\n",
    "           AND ino.OrderDate <> co.OrderDate\n",
    "    -- INNER JOIN #TBranchID b WITH (NOLOCK)\n",
    "    --     ON co.BranchID = b.BranchID\n",
    "WHERE co.OrderType IN ( 'CO', 'HK' )\n",
    "      AND ino.OrderType IN ( 'IN', 'IO', 'EP', 'NP' )\n",
    "      AND co.Status = 'C'\n",
    ") as d\n",
    "INNER JOIN dbo.OM_PDASalesOrd ord WITH (NOLOCK)\n",
    "ON ord.BranchID = d.BranchID\n",
    "AND ord.OrderNbr = d.OrigOrderNbr\n",
    "AND ord.OrderType IN ('CO','DI','DM','DP','IN','IR','LO','OO','UP') -- Duy ADDED\n",
    "INNER JOIN dbo.OM_SalesOrd sod WITH (NOLOCK)\n",
    "ON sod.BranchID = ord.BranchID\n",
    "    AND sod.OrigOrderNbr = ord.OrderNbr\n",
    "    AND sod.OrderNbr = d.INOrderNbr\n",
    "-- INNER JOIN #TOrderType ot WITH (NOLOCK)\n",
    "--     ON ot.OrderType = ord.OrderType\n",
    "INNER JOIN dbo.OM_DebtAllocateDet deb WITH (NOLOCK)\n",
    "ON deb.BranchID = d.BranchID\n",
    "    AND deb.OrderNbr = d.OrigOrderNbr\n",
    "    AND deb.ARBatNbr = sod.ARBatNbr\n",
    "LEFT JOIN dbo.OM_IssueBookDet bd WITH (NOLOCK)\n",
    "ON bd.BranchID = deb.BranchID\n",
    "    AND bd.OrderNbr = deb.OrderNbr\n",
    "LEFT JOIN dbo.OM_IssueBook ib WITH (NOLOCK)\n",
    "ON ib.BranchID = bd.BranchID\n",
    "    AND ib.BatNbr = bd.BatNbr\n",
    "INNER JOIN dbo.AR_Doc do WITH (NOLOCK)\n",
    "ON sod.BranchID = do.BranchID\n",
    "    AND sod.ARBatNbr = do.BatNbr\n",
    "    AND sod.ARRefNbr = do.RefNbr\n",
    "INNER JOIN Batch b WITH (NOLOCK)\n",
    "ON do.BranchID = b.BranchID\n",
    "    AND do.BatNbr = b.BatNbr\n",
    "    AND b.Module = 'AR'\n",
    "-- INNER JOIN #TBranchID br WITH (NOLOCK)\n",
    "--     ON d.BranchID = br.BranchID\n",
    "-- LEFT JOIN #TSlsperID ts WITH (NOLOCK)\n",
    "--     ON ts.BranchID = deb.BranchID\n",
    "--        AND ts.SlsperID = deb.SlsperID\n",
    "-- LEFT JOIN #WithOutOrderNbr woo WITH (NOLOCK)\n",
    "--     ON woo.BranchID = ord.BranchID\n",
    "--        AND woo.OrigOrderNbr = ord.OrderNbr\n",
    "WHERE CAST(d.ReturnDate AS DATE)\n",
    "BETWEEN '{Fromdate}' AND '{Todate}'\n",
    "AND sod.Status = 'C'\n",
    "--   AND woo.OrigOrderNbr IS NULL\n",
    "\"\"\"\n",
    "UNION5 = get_ms_df(UNION5_sql)"
   ]
  },
  {
   "cell_type": "code",
   "execution_count": 25,
   "metadata": {},
   "outputs": [],
   "source": [
    "lst = UNION5.columns\n",
    "UNION5 = UNION5.merge(WithOutOrderNbr, how='left', left_on=['BranchID','OrderNbr'], right_on=['BranchID','OrigOrderNbr'])\n",
    "UNION5 = UNION5[UNION5.OrigOrderNbr.isna()]\n",
    "UNION5 = UNION5[lst]"
   ]
  },
  {
   "cell_type": "code",
   "execution_count": 26,
   "metadata": {},
   "outputs": [],
   "source": [
    "# UNION5.shape"
   ]
  },
  {
   "cell_type": "code",
   "execution_count": 27,
   "metadata": {},
   "outputs": [],
   "source": [
    "UNION6_sql = \\\n",
    "f\"\"\"\n",
    "SELECT a.BranchID,\n",
    "           SlsperID = ISNULL(ib.SlsperID, deb.SlsperID),\n",
    "           deb.OrderNbr,\n",
    "           ord.OrderNbr as OrderNbr2,\n",
    "           OMOrder = ord.OrderNbr,\n",
    "           DeliveryUnit = ISNULL(ib.DeliveryUnit, ''),\n",
    "           ord.CustID,\n",
    "           ord.InvoiceCustID,\n",
    "           do.InvcNbr,\n",
    "           do.InvcNote,\n",
    "           ord.Version,\n",
    "           OrderDate = CAST(a.Crtd_DateTime AS DATE),\n",
    "           DateOfOrder = CAST(ord.OrderDate AS DATE),\n",
    "           DeliveryTime = '',\n",
    "           TermsID = do.Terms,\n",
    "           DueDate = CASE\n",
    "                         WHEN do.Terms = 'O1' THEN\n",
    "                             DATEADD(DAY, 30, do.DocDate)\n",
    "                         ELSE\n",
    "                             do.DueDate\n",
    "                     END,\n",
    "           --CountOpeningOrder=0,\n",
    "           OpeiningOrderAmt = 0,\n",
    "           --CountOrdRelease = 0,\n",
    "           OrdAmtRelease = 0,\n",
    "           --CountDelivered = 0,\n",
    "           DeliveredOrderAmt = 0,\n",
    "           --CountReturnOrd = 0,\n",
    "           ReturnOrdAmt = 0,\n",
    "           ReceiveAmt = 0,\n",
    "           Reason = '',\n",
    "           --CountDebtConfirm = 1,\n",
    "           DebConfirmAmt = CASE\n",
    "                               WHEN aDetail.AccountID IS NOT NULL\n",
    "                                    AND aDetail.AccountID = '711' THEN\n",
    "                                   0\n",
    "                               ELSE\n",
    "                                   ISNULL(aDetail.Amt, a.AdjAmt)\n",
    "                           END,\n",
    "           --CountDebtConfirmRelease = 0,\n",
    "           DebConfirmAmtRelease = 0,\n",
    "           ord.PaymentsForm\n",
    "    --SELECT *\n",
    "    FROM OM_SalesOrd ord\n",
    "        INNER JOIN dbo.OM_DebtAllocateDet deb WITH (NOLOCK)\n",
    "            ON deb.BranchID = ord.BranchID\n",
    "               AND deb.OrderNbr = ord.OrigOrderNbr\n",
    "               AND deb.ARBatNbr = ord.ARBatNbr\n",
    "        LEFT JOIN dbo.OM_IssueBookDet bd WITH (NOLOCK)\n",
    "            ON bd.BranchID = deb.BranchID\n",
    "               AND bd.OrderNbr = deb.OrderNbr\n",
    "        LEFT JOIN dbo.OM_IssueBook ib WITH (NOLOCK)\n",
    "            ON ib.BranchID = bd.BranchID\n",
    "               AND ib.BatNbr = bd.BatNbr\n",
    "        -- LEFT JOIN #ReturnOrder rto WITH (NOLOCK)\n",
    "        --     ON rto.BranchID = ord.BranchID\n",
    "            --    AND rto.INOrderNbr = ord.OrderNbr\n",
    "        INNER JOIN dbo.AR_Doc do WITH (NOLOCK)\n",
    "            ON ord.BranchID = do.BranchID\n",
    "               AND ord.ARBatNbr = do.BatNbr\n",
    "               AND ord.ARRefNbr = do.RefNbr\n",
    "        INNER JOIN dbo.AR_Adjust a WITH (NOLOCK)\n",
    "            ON a.AdjdBatNbr = ord.ARBatNbr\n",
    "               AND a.AdjdRefNbr = ord.ARRefNbr\n",
    "               AND a.BranchID = ord.BranchID\n",
    "               AND ISNULL(a.Reversal, '') = ''\n",
    "        LEFT JOIN dbo.AR_AdjustDetail aDetail WITH (NOLOCK)\n",
    "            ON aDetail.BranchID = a.BranchID\n",
    "               AND aDetail.BatNbr = a.BatNbr\n",
    "               AND aDetail.AdjgBatNbr = a.AdjgBatNbr\n",
    "               AND aDetail.AdjgRefNbr = a.AdjgRefNbr\n",
    "               AND aDetail.AdjdBatNbr = a.AdjdBatNbr\n",
    "               AND aDetail.AdjdRefNbr = a.AdjdRefNbr\n",
    "        INNER JOIN AR_Doc b WITH (NOLOCK)\n",
    "            ON b.BranchID = a.BranchID\n",
    "               AND b.BatNbr = a.AdjgBatNbr\n",
    "               AND b.RefNbr = a.AdjgRefNbr\n",
    "        INNER JOIN dbo.Batch ba WITH (NOLOCK)\n",
    "            ON a.BranchID = ba.BranchID\n",
    "               AND a.BatNbr = ba.BatNbr\n",
    "               AND ba.Module = 'AR'\n",
    "        INNER JOIN Batch bac WITH (NOLOCK)\n",
    "            ON do.BranchID = bac.BranchID\n",
    "               AND do.BatNbr = bac.BatNbr\n",
    "               AND bac.Module = 'AR'\n",
    "        --  --INNER JOIN dbo.OM_PDASalesOrd sod WITH (NOLOCK)\n",
    "        --  --    ON sod.BranchID = deb.BranchID\n",
    "        --  --       AND sod.OrderNbr = deb.OrderNbr\n",
    "        -- INNER JOIN #TOrderType ot WITH (NOLOCK)\n",
    "        --     ON ot.OrderType = ord.OrderType\n",
    "        -- LEFT JOIN #WithOutOrderNbr woo WITH (NOLOCK)\n",
    "        --     ON woo.BranchID = ord.BranchID\n",
    "        --        AND woo.OrigOrderNbr = ord.OrigOrderNbr\n",
    "    WHERE CAST(a.Crtd_DateTime AS DATE)\n",
    "          BETWEEN '{Fromdate}' AND '{Todate}'\n",
    "          AND ord.Status = 'C'\n",
    "          AND ba.Status <> 'V'\n",
    "          AND ord.OrderType IN ('CO','DI','DM','DP','IN','IR','LO','OO','UP') -- Duy ADDED\n",
    "        --   AND woo.OrigOrderNbr IS NULL\n",
    "        --   AND rto.INOrderNbr IS NULL\n",
    "\"\"\"\n",
    "UNION6 = get_ms_df(UNION6_sql)"
   ]
  },
  {
   "cell_type": "code",
   "execution_count": 28,
   "metadata": {},
   "outputs": [],
   "source": [
    "lst = UNION6.columns\n",
    "UNION6 = UNION6.merge(WithOutOrderNbr, how='left', left_on=['BranchID','OrderNbr'], right_on=['BranchID','OrigOrderNbr'])\n",
    "UNION6 = UNION6[UNION6.OrigOrderNbr.isna()]\n",
    "UNION6 = UNION6[lst]\n",
    "\n",
    "lst = UNION6.columns\n",
    "UNION6 = UNION6.merge(ReturnOrder, how='left', left_on=['BranchID','OrderNbr2'], right_on=['BranchID','INOrderNbr'], suffixes=['','y'])\n",
    "UNION6 = UNION6[UNION6.INOrderNbr.isna()]\n",
    "UNION6 = UNION6[lst]\n",
    "drop_cols(UNION6,['OrderNbr2'])"
   ]
  },
  {
   "cell_type": "code",
   "execution_count": 29,
   "metadata": {},
   "outputs": [],
   "source": [
    "# UNION6.shape"
   ]
  },
  {
   "cell_type": "code",
   "execution_count": 30,
   "metadata": {},
   "outputs": [],
   "source": [
    "# UNION6.to_csv(\"csv.csv\", index=False)"
   ]
  },
  {
   "cell_type": "code",
   "execution_count": 31,
   "metadata": {},
   "outputs": [],
   "source": [
    "UNION7_sql = \\\n",
    "f\"\"\"\n",
    "SELECT \n",
    "a.BranchID,\n",
    "SlsperID = ISNULL(ib.SlsperID, deb.SlsperID),\n",
    "sod.OrderNbr,\n",
    "ord.OrderNbr as OrderNbr2,\n",
    "OMOrder = ord.OrderNbr,\n",
    "DeliveryUnit = ISNULL(ib.DeliveryUnit, ''),\n",
    "ord.CustID,\n",
    "ord.InvoiceCustID,\n",
    "do.InvcNbr,\n",
    "do.InvcNote,\n",
    "ord.Version,\n",
    "OrderDate = CAST(a.AdjgDocDate AS DATE),\n",
    "DateOfOrder = CAST(ord.OrderDate AS DATE),\n",
    "DeliveryTime = '',\n",
    "TermsID = do.Terms,\n",
    "DueDate = CASE\n",
    "                WHEN do.Terms = 'O1' THEN\n",
    "                    DATEADD(DAY, 30, do.DocDate)\n",
    "                ELSE\n",
    "                    do.DueDate\n",
    "            END,\n",
    "OpeiningOrderAmt = 0,\n",
    "OrdAmtRelease = 0,\n",
    "DeliveredOrderAmt = 0,\n",
    "ReturnOrdAmt = 0,\n",
    "ReceiveAmt = 0,\n",
    "Reason = '',\n",
    "DebConfirmAmt = 0,\n",
    "DebConfirmAmtRelease = CASE\n",
    "                    WHEN aDetail.AccountID IS NOT NULL\n",
    "                        AND aDetail.AccountID = '711' THEN\n",
    "                        0\n",
    "                    ELSE\n",
    "                        ISNULL(aDetail.Amt, a.AdjAmt)\n",
    "                END,\n",
    "ord.PaymentsForm\n",
    "FROM OM_SalesOrd ord\n",
    "INNER JOIN dbo.OM_DebtAllocateDet deb WITH (NOLOCK)\n",
    "ON deb.BranchID = ord.BranchID\n",
    "    AND deb.OrderNbr = ord.OrigOrderNbr\n",
    "    AND deb.ARBatNbr = ord.ARBatNbr\n",
    "LEFT JOIN dbo.OM_IssueBookDet bd WITH (NOLOCK)\n",
    "ON bd.BranchID = deb.BranchID\n",
    "    AND bd.OrderNbr = deb.OrderNbr\n",
    "LEFT JOIN dbo.OM_IssueBook ib WITH (NOLOCK)\n",
    "ON ib.BranchID = bd.BranchID\n",
    "    AND ib.BatNbr = bd.BatNbr\n",
    "-- LEFT JOIN #ReturnOrder rto WITH (NOLOCK)\n",
    "-- ON rto.BranchID = ord.BranchID\n",
    "--     AND rto.INOrderNbr = ord.OrderNbr\n",
    "INNER JOIN dbo.AR_Doc do WITH (NOLOCK)\n",
    "ON ord.BranchID = do.BranchID\n",
    "    AND ord.ARBatNbr = do.BatNbr\n",
    "    AND ord.ARRefNbr = do.RefNbr\n",
    "INNER JOIN dbo.AR_Adjust a WITH (NOLOCK)\n",
    "ON a.AdjdBatNbr = ord.ARBatNbr\n",
    "    AND a.AdjdRefNbr = ord.ARRefNbr\n",
    "    AND a.BranchID = ord.BranchID\n",
    "    AND ISNULL(a.Reversal, '') = ''\n",
    "LEFT JOIN dbo.AR_AdjustDetail aDetail WITH (NOLOCK)\n",
    "ON aDetail.BranchID = a.BranchID\n",
    "    AND aDetail.BatNbr = a.BatNbr\n",
    "    AND aDetail.AdjgBatNbr = a.AdjgBatNbr\n",
    "    AND aDetail.AdjgRefNbr = a.AdjgRefNbr\n",
    "    AND aDetail.AdjdBatNbr = a.AdjdBatNbr\n",
    "    AND aDetail.AdjdRefNbr = a.AdjdRefNbr\n",
    "INNER JOIN AR_Doc b WITH (NOLOCK)\n",
    "ON b.BranchID = a.BranchID\n",
    "    AND b.BatNbr = a.AdjgBatNbr\n",
    "    AND b.RefNbr = a.AdjgRefNbr\n",
    "INNER JOIN dbo.Batch ba WITH (NOLOCK)\n",
    "ON a.BranchID = ba.BranchID\n",
    "    AND a.BatNbr = ba.BatNbr\n",
    "    AND ba.Module = 'AR'\n",
    "INNER JOIN dbo.OM_PDASalesOrd sod WITH (NOLOCK)\n",
    "ON sod.BranchID = deb.BranchID\n",
    "    AND sod.OrderNbr = deb.OrderNbr\n",
    "INNER JOIN Batch bac WITH (NOLOCK)\n",
    "ON do.BranchID = bac.BranchID\n",
    "    AND do.BatNbr = bac.BatNbr\n",
    "    AND bac.Module = 'AR'\n",
    "-- INNER JOIN #TOrderType ot WITH (NOLOCK)\n",
    "-- ON ot.OrderType = sod.OrderType\n",
    "-- INNER JOIN #TBranchID br WITH (NOLOCK)\n",
    "-- ON deb.BranchID = br.BranchID\n",
    "-- LEFT JOIN #TSlsperID ts WITH (NOLOCK)\n",
    "-- ON ts.BranchID = deb.BranchID\n",
    "--     AND ts.SlsperID = deb.SlsperID\n",
    "-- LEFT JOIN #WithOutOrderNbr woo WITH (NOLOCK)\n",
    "-- ON woo.BranchID = sod.BranchID\n",
    "    -- AND woo.OrigOrderNbr = sod.OrderNbr\n",
    "WHERE CAST(a.AdjgDocDate AS DATE)\n",
    "BETWEEN '{Fromdate}' AND '{Todate}'\n",
    "AND ba.Status = 'C'\n",
    "AND ord.Status = 'C'\n",
    "AND ord.OrderType IN ('CO','DI','DM','DP','IN','IR','LO','OO','UP') -- Duy ADDED\n",
    "-- AND woo.OrigOrderNbr IS NULL\n",
    "-- AND rto.INOrderNbr IS NULL\n",
    "\"\"\"\n",
    "UNION7 = get_ms_df(UNION7_sql)"
   ]
  },
  {
   "cell_type": "code",
   "execution_count": 32,
   "metadata": {},
   "outputs": [],
   "source": [
    "lst = UNION7.columns\n",
    "UNION7 = UNION7.merge(WithOutOrderNbr, how='left', left_on=['BranchID','OrderNbr'], right_on=['BranchID','OrigOrderNbr'])\n",
    "UNION7 = UNION7[UNION7.OrigOrderNbr.isna()]\n",
    "UNION7 = UNION7[lst]\n",
    "\n",
    "lst = UNION7.columns\n",
    "UNION7 = UNION7.merge(ReturnOrder, how='left', left_on=['BranchID','OrderNbr2'], right_on=['BranchID','INOrderNbr'], suffixes=['','y'])\n",
    "UNION7 = UNION7[UNION7.INOrderNbr.isna()]\n",
    "UNION7 = UNION7[lst]\n",
    "drop_cols(UNION7,['OrderNbr2'])"
   ]
  },
  {
   "cell_type": "code",
   "execution_count": 33,
   "metadata": {},
   "outputs": [],
   "source": [
    "# UNION7.shape"
   ]
  },
  {
   "cell_type": "code",
   "execution_count": 34,
   "metadata": {},
   "outputs": [],
   "source": [
    "TOrder = union_all([UNION1,UNION2,UNION3,UNION4,UNION5,UNION6,UNION7])"
   ]
  },
  {
   "cell_type": "code",
   "execution_count": 35,
   "metadata": {},
   "outputs": [],
   "source": [
    "# UNION1.dtypes"
   ]
  },
  {
   "cell_type": "code",
   "execution_count": 36,
   "metadata": {},
   "outputs": [],
   "source": [
    "lst = ['BranchID','OrderNbr','OMOrder','PaymentsForm','TermsID','CustID','InvoiceCustID','Version']"
   ]
  },
  {
   "cell_type": "code",
   "execution_count": 37,
   "metadata": {},
   "outputs": [],
   "source": [
    "TCustomer = TOrder[lst].copy()"
   ]
  },
  {
   "cell_type": "code",
   "execution_count": 38,
   "metadata": {},
   "outputs": [],
   "source": [
    "# vc(TCustomer, 'PaymentsForm')"
   ]
  },
  {
   "cell_type": "code",
   "execution_count": 39,
   "metadata": {},
   "outputs": [],
   "source": [
    "TCustomer.PaymentsForm = np.where(TCustomer.PaymentsForm.isin(['B','C']),'TM','CK')"
   ]
  },
  {
   "cell_type": "code",
   "execution_count": 40,
   "metadata": {},
   "outputs": [],
   "source": [
    "# vc(TCustomer, 'PaymentsForm')"
   ]
  },
  {
   "cell_type": "code",
   "execution_count": 41,
   "metadata": {},
   "outputs": [],
   "source": [
    "c_sql = \\\n",
    "\"\"\"\n",
    "SELECT \n",
    "CustId as CustID,\n",
    "CustName,\n",
    "Channel,\n",
    "ShopType,\n",
    "Territory,\n",
    "Addr1,\n",
    "Ward,\n",
    "District,\n",
    "State,\n",
    "Attn,\n",
    "Phone\n",
    "from AR_Customer\n",
    "\"\"\"\n",
    "c = get_ms_df(c_sql)"
   ]
  },
  {
   "cell_type": "code",
   "execution_count": 42,
   "metadata": {},
   "outputs": [],
   "source": [
    "cl_sql = \\\n",
    "\"\"\"\n",
    "SELECT \n",
    "Version,\n",
    "CustName,\n",
    "Channel,\n",
    "ShopType,\n",
    "Territory,\n",
    "Addr1,\n",
    "Ward,\n",
    "District,\n",
    "State,\n",
    "Attn,\n",
    "Phone\n",
    "from AR_HistoryCustClassID\n",
    "\"\"\"\n",
    "cl = get_ms_df(cl_sql)"
   ]
  },
  {
   "cell_type": "code",
   "execution_count": 43,
   "metadata": {},
   "outputs": [],
   "source": [
    "# TCustomer.shape"
   ]
  },
  {
   "cell_type": "code",
   "execution_count": 44,
   "metadata": {},
   "outputs": [],
   "source": [
    "# cl.columns"
   ]
  },
  {
   "cell_type": "code",
   "execution_count": 45,
   "metadata": {},
   "outputs": [],
   "source": [
    "TCustomer1 = TCustomer.merge(cl, how = 'left', on=['Version'])"
   ]
  },
  {
   "cell_type": "code",
   "execution_count": 46,
   "metadata": {},
   "outputs": [],
   "source": [
    "# TCustomer1.shape"
   ]
  },
  {
   "cell_type": "code",
   "execution_count": 47,
   "metadata": {},
   "outputs": [],
   "source": [
    "lst = TCustomer1.columns"
   ]
  },
  {
   "cell_type": "code",
   "execution_count": 48,
   "metadata": {},
   "outputs": [],
   "source": [
    "TCustomer2 = TCustomer1.merge(c, how = 'inner', on=['CustID'], suffixes=['','_c'])"
   ]
  },
  {
   "cell_type": "code",
   "execution_count": 49,
   "metadata": {},
   "outputs": [],
   "source": [
    "TCustomer2.CustName.fillna(TCustomer2.CustName_c, inplace=True)"
   ]
  },
  {
   "cell_type": "code",
   "execution_count": 50,
   "metadata": {},
   "outputs": [],
   "source": [
    "TCustomer2.Channel.fillna(TCustomer2.Channel_c, inplace=True)"
   ]
  },
  {
   "cell_type": "code",
   "execution_count": 51,
   "metadata": {},
   "outputs": [],
   "source": [
    "TCustomer2.ShopType.fillna(TCustomer2.ShopType_c, inplace=True)"
   ]
  },
  {
   "cell_type": "code",
   "execution_count": 52,
   "metadata": {},
   "outputs": [],
   "source": [
    "TCustomer2.Territory.fillna(TCustomer2.Territory_c, inplace=True)"
   ]
  },
  {
   "cell_type": "code",
   "execution_count": 53,
   "metadata": {},
   "outputs": [],
   "source": [
    "TCustomer2.Addr1.fillna(TCustomer2.Addr1_c, inplace=True)"
   ]
  },
  {
   "cell_type": "code",
   "execution_count": 54,
   "metadata": {},
   "outputs": [],
   "source": [
    "TCustomer2.Ward.fillna(TCustomer2.Ward_c, inplace=True)"
   ]
  },
  {
   "cell_type": "code",
   "execution_count": 55,
   "metadata": {},
   "outputs": [],
   "source": [
    "TCustomer2.District.fillna(TCustomer2.District_c, inplace=True)"
   ]
  },
  {
   "cell_type": "code",
   "execution_count": 56,
   "metadata": {},
   "outputs": [],
   "source": [
    "TCustomer2.State.fillna(TCustomer2.State_c, inplace=True)"
   ]
  },
  {
   "cell_type": "code",
   "execution_count": 57,
   "metadata": {},
   "outputs": [],
   "source": [
    "TCustomer2.Attn.fillna(TCustomer2.Attn_c, inplace=True)"
   ]
  },
  {
   "cell_type": "code",
   "execution_count": 58,
   "metadata": {},
   "outputs": [],
   "source": [
    "TCustomer2.Phone.fillna(TCustomer2.Phone_c, inplace=True)"
   ]
  },
  {
   "cell_type": "code",
   "execution_count": 59,
   "metadata": {},
   "outputs": [],
   "source": [
    "TCustomer2 = TCustomer2[lst]"
   ]
  },
  {
   "cell_type": "code",
   "execution_count": 60,
   "metadata": {},
   "outputs": [],
   "source": [
    "aci_sql = \\\n",
    "\"\"\"\n",
    "SELECT\n",
    "CustIDInvoice as InvoiceCustID,\n",
    "Phone as PhoneCustInvc\n",
    "from AR_CustomerInvoice\n",
    "\"\"\"\n",
    "aci = get_ms_df(aci_sql)"
   ]
  },
  {
   "cell_type": "code",
   "execution_count": 61,
   "metadata": {},
   "outputs": [],
   "source": [
    "TCustomer3 = TCustomer2.merge(aci, how = 'left', on=['InvoiceCustID'])"
   ]
  },
  {
   "cell_type": "code",
   "execution_count": 62,
   "metadata": {},
   "outputs": [],
   "source": [
    "# TCustomer3.columns"
   ]
  },
  {
   "cell_type": "code",
   "execution_count": 63,
   "metadata": {},
   "outputs": [],
   "source": [
    "TCustomer = TCustomer3"
   ]
  },
  {
   "cell_type": "code",
   "execution_count": 64,
   "metadata": {},
   "outputs": [],
   "source": [
    "del(TCustomer1)\n",
    "del(TCustomer2)\n",
    "del(TCustomer3)"
   ]
  },
  {
   "cell_type": "code",
   "execution_count": 65,
   "metadata": {},
   "outputs": [],
   "source": [
    "# TCustomer.shape"
   ]
  },
  {
   "cell_type": "code",
   "execution_count": 66,
   "metadata": {},
   "outputs": [],
   "source": [
    "TCustomer.drop_duplicates(inplace=True)"
   ]
  },
  {
   "cell_type": "code",
   "execution_count": 67,
   "metadata": {},
   "outputs": [],
   "source": [
    "# TCustomer.shape"
   ]
  },
  {
   "cell_type": "code",
   "execution_count": 68,
   "metadata": {},
   "outputs": [],
   "source": [
    "# Output"
   ]
  },
  {
   "cell_type": "code",
   "execution_count": 69,
   "metadata": {},
   "outputs": [],
   "source": [
    "o = TOrder.copy()\n",
    "# del(TOrder)"
   ]
  },
  {
   "cell_type": "code",
   "execution_count": 70,
   "metadata": {},
   "outputs": [],
   "source": [
    "# o.dtypes"
   ]
  },
  {
   "cell_type": "code",
   "execution_count": 71,
   "metadata": {},
   "outputs": [],
   "source": [
    "tc = TCustomer.copy()\n",
    "# del(TCustomer)"
   ]
  },
  {
   "cell_type": "code",
   "execution_count": 72,
   "metadata": {},
   "outputs": [],
   "source": [
    "sys_sql = \"\"\"select CpnyID as BranchID, CpnyName from SYS_Company\"\"\"\n",
    "sys = get_ms_df(sys_sql)"
   ]
  },
  {
   "cell_type": "code",
   "execution_count": 73,
   "metadata": {},
   "outputs": [],
   "source": [
    "# o.columns"
   ]
  },
  {
   "cell_type": "code",
   "execution_count": 74,
   "metadata": {},
   "outputs": [],
   "source": [
    "o = o.merge(sys, how = \"inner\", on=\"BranchID\")"
   ]
  },
  {
   "cell_type": "code",
   "execution_count": 75,
   "metadata": {},
   "outputs": [],
   "source": [
    "u_sql = \"\"\"\n",
    "select Username as SlsperID, FirstName,\n",
    "Position =\n",
    "CASE\n",
    "WHEN u.UserTypes LIKE '%LOG%' THEN'LOG'\n",
    "WHEN u.Position IN ( 'D', 'SD', 'AD', 'RD' ) AND u.UserTypes NOT LIKE '%LOG%' THEN 'MDS'\n",
    "WHEN u.UserTypes LIKE '%CS%' THEN 'CS' \n",
    "WHEN u.Position IN ( 'S', 'SS', 'AM', 'RM' ) THEN 'P.BH' \n",
    "ELSE u.Position END\n",
    " \n",
    "from Users as u\"\"\"\n",
    "u = get_ms_df(u_sql)"
   ]
  },
  {
   "cell_type": "code",
   "execution_count": 76,
   "metadata": {},
   "outputs": [],
   "source": [
    "o = o.merge(u, how = \"inner\", on=\"SlsperID\")"
   ]
  },
  {
   "cell_type": "code",
   "execution_count": 77,
   "metadata": {},
   "outputs": [],
   "source": [
    "o = o.merge(tc, how = \"inner\", on=[\"BranchID\",\"OMOrder\",\"OrderNbr\"], suffixes=['',\"_tc\"])"
   ]
  },
  {
   "cell_type": "code",
   "execution_count": 78,
   "metadata": {},
   "outputs": [],
   "source": [
    "ste_sql = \"\"\"select Descr as Territory_Name, Territory from SI_Territory\"\"\"\n",
    "ste = get_ms_df(ste_sql)"
   ]
  },
  {
   "cell_type": "code",
   "execution_count": 79,
   "metadata": {},
   "outputs": [],
   "source": [
    "o = o.merge(ste, how = \"inner\", on=[\"Territory\"], suffixes=['',\"_ste\"])"
   ]
  },
  {
   "cell_type": "code",
   "execution_count": 80,
   "metadata": {},
   "outputs": [],
   "source": [
    "sta_sql = \"\"\"select Descr as State_Name, State from SI_State\"\"\"\n",
    "sta = get_ms_df(sta_sql)"
   ]
  },
  {
   "cell_type": "code",
   "execution_count": 81,
   "metadata": {},
   "outputs": [],
   "source": [
    "o = o.merge(sta, how = \"inner\", on=[\"State\"], suffixes=['',\"_sta\"])"
   ]
  },
  {
   "cell_type": "code",
   "execution_count": 82,
   "metadata": {},
   "outputs": [],
   "source": [
    "sd_sql = \"\"\"select Name as District_Name, District, State from SI_District\"\"\"\n",
    "sd = get_ms_df(sd_sql)"
   ]
  },
  {
   "cell_type": "code",
   "execution_count": 83,
   "metadata": {},
   "outputs": [],
   "source": [
    "o = o.merge(sd, how = \"inner\", on=[\"District\",\"State\"], suffixes=['',\"_sd\"])"
   ]
  },
  {
   "cell_type": "code",
   "execution_count": 84,
   "metadata": {},
   "outputs": [],
   "source": [
    "sw_sql = \"\"\"select Name as Ward_Name, Ward, State, District from SI_Ward\"\"\"\n",
    "sw = get_ms_df(sw_sql)"
   ]
  },
  {
   "cell_type": "code",
   "execution_count": 85,
   "metadata": {},
   "outputs": [],
   "source": [
    "o = o.merge(sw, how = \"left\", on=[\"Ward\", \"State\",\"District\"], suffixes=['',\"_sw\"])"
   ]
  },
  {
   "cell_type": "code",
   "execution_count": 86,
   "metadata": {},
   "outputs": [],
   "source": [
    "atr_sql = \"\"\"select Code as DeliveryUnit, Descr as DeliveryUnit_Name from AR_Transporter\"\"\"\n",
    "atr = get_ms_df(atr_sql)"
   ]
  },
  {
   "cell_type": "code",
   "execution_count": 87,
   "metadata": {},
   "outputs": [],
   "source": [
    "o = o.merge(atr, how = \"left\", on=[\"DeliveryUnit\"], suffixes=['',\"_atr\"])"
   ]
  },
  {
   "cell_type": "code",
   "execution_count": 88,
   "metadata": {},
   "outputs": [],
   "source": [
    "ts_sql = \"\"\"SELECT SlsperID, BranchID, SupID, ASM, RSMID FROM dbo.fr_ListSaleByData('MR2523');\"\"\"\n",
    "ts = get_ms_df(ts_sql)"
   ]
  },
  {
   "cell_type": "code",
   "execution_count": 89,
   "metadata": {},
   "outputs": [],
   "source": [
    "o = o.merge(ts, how = \"left\", on=[\"SlsperID\",\"BranchID\"], suffixes=['',\"_ts\"])"
   ]
  },
  {
   "cell_type": "code",
   "execution_count": 90,
   "metadata": {},
   "outputs": [],
   "source": [
    "uu_sql = \"\"\"SELECT FirstName as SupName, UserName as SupID FROM Users\"\"\"\n",
    "uu = get_ms_df(uu_sql)"
   ]
  },
  {
   "cell_type": "code",
   "execution_count": 91,
   "metadata": {},
   "outputs": [],
   "source": [
    "o = o.merge(uu, how = \"left\", on=[\"SupID\"], suffixes=['',\"_uu\"])"
   ]
  },
  {
   "cell_type": "code",
   "execution_count": 92,
   "metadata": {},
   "outputs": [],
   "source": [
    "asm_sql = \"\"\"SELECT FirstName as ASMName, UserName as ASM FROM Users\"\"\"\n",
    "asm = get_ms_df(asm_sql)"
   ]
  },
  {
   "cell_type": "code",
   "execution_count": 93,
   "metadata": {},
   "outputs": [],
   "source": [
    "o = o.merge(asm, how = \"left\", on=[\"ASM\"], suffixes=['',\"_asm\"])"
   ]
  },
  {
   "cell_type": "code",
   "execution_count": 94,
   "metadata": {},
   "outputs": [],
   "source": [
    "rsm_sql = \"\"\"SELECT FirstName as RSMName, UserName as RSMID FROM Users\"\"\"\n",
    "rsm = get_ms_df(rsm_sql)"
   ]
  },
  {
   "cell_type": "code",
   "execution_count": 95,
   "metadata": {},
   "outputs": [],
   "source": [
    "o = o.merge(rsm, how = \"left\", on=[\"RSMID\"], suffixes=['',\"_rsm\"])"
   ]
  },
  {
   "cell_type": "code",
   "execution_count": 96,
   "metadata": {},
   "outputs": [],
   "source": [
    "st_sql = \"\"\"SELECT DueType, DueIntrv, TermsID as TermsID_tc FROM SI_Terms\"\"\"\n",
    "st = get_ms_df(st_sql)"
   ]
  },
  {
   "cell_type": "code",
   "execution_count": 97,
   "metadata": {},
   "outputs": [],
   "source": [
    "o = o.merge(st, how = \"left\", on=[\"TermsID_tc\"], suffixes=['',\"_st\"])"
   ]
  },
  {
   "cell_type": "code",
   "execution_count": 98,
   "metadata": {},
   "outputs": [],
   "source": [
    "stt_sql = \"\"\"SELECT Descr as Terms, TermsID FROM SI_Terms\"\"\"\n",
    "stt = get_ms_df(stt_sql)"
   ]
  },
  {
   "cell_type": "code",
   "execution_count": 99,
   "metadata": {},
   "outputs": [],
   "source": [
    "o = o.merge(stt, how = \"left\", on=[\"TermsID\"], suffixes=['',\"_stt\"])"
   ]
  },
  {
   "cell_type": "code",
   "execution_count": 103,
   "metadata": {},
   "outputs": [],
   "source": [
    "# vc(o, \"PaymentsForm_tc\")"
   ]
  },
  {
   "cell_type": "code",
   "execution_count": 104,
   "metadata": {},
   "outputs": [],
   "source": [
    "# vc(o, \"TermsID\")"
   ]
  },
  {
   "cell_type": "code",
   "execution_count": 105,
   "metadata": {},
   "outputs": [],
   "source": [
    "# vc(g, \"TermsID\")"
   ]
  },
  {
   "cell_type": "code",
   "execution_count": 106,
   "metadata": {},
   "outputs": [],
   "source": [
    "g = pd.read_csv(\"gdo.csv\")"
   ]
  },
  {
   "cell_type": "code",
   "execution_count": 107,
   "metadata": {},
   "outputs": [],
   "source": [
    "o = o.merge(g, how = \"left\", on=[\"TermsID\", \"PaymentsForm_tc\"], suffixes=['',\"_g\"])"
   ]
  },
  {
   "cell_type": "code",
   "execution_count": 109,
   "metadata": {},
   "outputs": [],
   "source": [
    "o.DebtInCharge.fillna(\"CS\", inplace=True)"
   ]
  },
  {
   "cell_type": "code",
   "execution_count": 110,
   "metadata": {},
   "outputs": [],
   "source": [
    "lst = [\n",
    "\"BranchID\",\n",
    "\"SlsperID\",\n",
    "\"OrderNbr\",\n",
    "\"CustID\",\n",
    "\"OrderDate\",\n",
    "\"DateOfOrder\",\n",
    "\"DeliveryTime\",\n",
    "\"TermsID\",\n",
    "\"DueDate\",\n",
    "\"CpnyName\",\n",
    "\"FirstName\",\n",
    "\"Position\",\n",
    "\"PaymentsForm_tc\",\n",
    "\"InvoiceCustID_tc\",\n",
    "\"CustName\",\n",
    "\"Channel\",\n",
    "\"ShopType\",\n",
    "\"Addr1\",\n",
    "\"Attn\",\n",
    "\"Phone\",\n",
    "\"Territory_Name\",\n",
    "\"State_Name\",\n",
    "\"District_Name\",\n",
    "\"Ward_Name\",\n",
    "\"DeliveryUnit_Name\",\n",
    "\"SupName\",\n",
    "\"ASMName\",\n",
    "\"RSMName\",\n",
    "\"DueType\",\n",
    "\"DueIntrv\",\n",
    "\"Terms\",\n",
    "\"DebtInCharge\",\n",
    "\"OpeiningOrderAmt\",\n",
    "\"OrdAmtRelease\",\n",
    "\"DeliveredOrderAmt\",\n",
    "\"ReturnOrdAmt\",\n",
    "\"ReceiveAmt\",\n",
    "\"Reason\",\n",
    "\"DebConfirmAmt\",\n",
    "\"DebConfirmAmtRelease\",\n",
    "]"
   ]
  },
  {
   "cell_type": "code",
   "execution_count": 111,
   "metadata": {},
   "outputs": [],
   "source": [
    "o = o[lst]"
   ]
  },
  {
   "cell_type": "code",
   "execution_count": 112,
   "metadata": {},
   "outputs": [],
   "source": [
    "lst = [\n",
    "\"BranchID\",\n",
    "\"SlsperID\",\n",
    "\"OrderNbr\",\n",
    "\"CustID\",\n",
    "\"OrderDate\",\n",
    "\"DateOfOrder\",\n",
    "\"DeliveryTime\",\n",
    "\"TermsID\",\n",
    "\"DueDate\",\n",
    "\"CpnyName\",\n",
    "\"FirstName\",\n",
    "\"Position\",\n",
    "\"PaymentsForm\",\n",
    "\"InvoiceCustID\",\n",
    "\"CustName\",\n",
    "\"Channel\",\n",
    "\"ShopType\",\n",
    "\"StreetName\",\n",
    "\"Attn\",\n",
    "\"Phone\",\n",
    "\"Territory\",\n",
    "\"State\",\n",
    "\"District\",\n",
    "\"Ward\",\n",
    "\"DeliveryUnit\",\n",
    "\"SupName\",\n",
    "\"ASMName\",\n",
    "\"RSMName\",\n",
    "\"DueType\",\n",
    "\"DueIntrv\",\n",
    "\"Terms\",\n",
    "\"DebtInCharge\",\n",
    "\"OpeiningOrderAmt\",\n",
    "\"OrdAmtRelease\",\n",
    "\"DeliveredOrderAmt\",\n",
    "\"ReturnOrdAmt\",\n",
    "\"ReceiveAmt\",\n",
    "\"Reason\",\n",
    "\"DebConfirmAmt\",\n",
    "\"DebConfirmAmtRelease\",\n",
    "]"
   ]
  },
  {
   "cell_type": "code",
   "execution_count": 113,
   "metadata": {},
   "outputs": [],
   "source": [
    "o.columns = lst"
   ]
  },
  {
   "cell_type": "code",
   "execution_count": 114,
   "metadata": {},
   "outputs": [],
   "source": [
    "# o.dtypes"
   ]
  },
  {
   "cell_type": "code",
   "execution_count": 115,
   "metadata": {},
   "outputs": [],
   "source": [
    "dk1 = o.DueType == \"D\"\n",
    "dk2 = o.DueIntrv.isin([1.0, 2.0])"
   ]
  },
  {
   "cell_type": "code",
   "execution_count": 116,
   "metadata": {},
   "outputs": [],
   "source": [
    "# vc(o, \"DueIntrv\")"
   ]
  },
  {
   "cell_type": "code",
   "execution_count": 117,
   "metadata": {},
   "outputs": [],
   "source": [
    "o['TermsType'] = np.where(dk1&dk2, \"Thanh Toán Ngay\", \"Cho nợ\")"
   ]
  },
  {
   "cell_type": "code",
   "execution_count": 118,
   "metadata": {},
   "outputs": [],
   "source": [
    "drop_cols(o, ['DueType','DueIntrv'])"
   ]
  },
  {
   "cell_type": "code",
   "execution_count": 119,
   "metadata": {},
   "outputs": [],
   "source": [
    "o.Terms.fillna(o.TermsID,inplace=True)"
   ]
  },
  {
   "cell_type": "code",
   "execution_count": 120,
   "metadata": {},
   "outputs": [],
   "source": [
    "drop_cols(o, ['TermsID'])"
   ]
  },
  {
   "cell_type": "code",
   "execution_count": 121,
   "metadata": {},
   "outputs": [],
   "source": [
    "# o.columns"
   ]
  },
  {
   "cell_type": "code",
   "execution_count": 122,
   "metadata": {},
   "outputs": [],
   "source": [
    "# vc(o,\"PaymentsForm\")"
   ]
  },
  {
   "cell_type": "code",
   "execution_count": 123,
   "metadata": {},
   "outputs": [],
   "source": [
    "# o['DebtBalance'] = o.OpeiningOrderAmt + o.OrdAmtRelease - o.ReturnOrdAmt - o.DebConfirmAmtRelease"
   ]
  },
  {
   "cell_type": "code",
   "execution_count": 124,
   "metadata": {},
   "outputs": [],
   "source": [
    "# o['DebtBalance'].sum()"
   ]
  },
  {
   "cell_type": "code",
   "execution_count": 125,
   "metadata": {},
   "outputs": [],
   "source": [
    "wsc = pd.read_csv(\"wsc.csv\")"
   ]
  },
  {
   "cell_type": "code",
   "execution_count": 126,
   "metadata": {},
   "outputs": [],
   "source": [
    "# wsc.head()"
   ]
  },
  {
   "cell_type": "code",
   "execution_count": 127,
   "metadata": {},
   "outputs": [],
   "source": [
    "o = o.merge(wsc, how = \"left\", on=[\"PaymentsForm\",\"ShopType\"], suffixes=['',\"_wsc\"])\n",
    "dk = o.No_Count.isna()\n",
    "o = o[dk].copy()\n",
    "# o['DebtBalance'].sum()"
   ]
  },
  {
   "cell_type": "code",
   "execution_count": 128,
   "metadata": {},
   "outputs": [],
   "source": [
    "drop_cols(o, \"No_Count\")"
   ]
  },
  {
   "cell_type": "code",
   "execution_count": 129,
   "metadata": {},
   "outputs": [],
   "source": [
    "group_lst = \\\n",
    "[\n",
    "\"BranchID\",\n",
    "\"SlsperID\",\n",
    "\"OrderNbr\",\n",
    "\"CustID\",\n",
    "\"OrderDate\",\n",
    "\"DateOfOrder\",\n",
    "\"DueDate\",\n",
    "\"CpnyName\",\n",
    "\"FirstName\",\n",
    "\"Position\",\n",
    "\"PaymentsForm\",\n",
    "\"InvoiceCustID\",\n",
    "\"CustName\",\n",
    "\"Channel\",\n",
    "\"ShopType\",\n",
    "\"StreetName\",\n",
    "\"Attn\",\n",
    "\"Phone\",\n",
    "\"Territory\",\n",
    "\"State\",\n",
    "\"District\",\n",
    "\"Ward\",\n",
    "\"DeliveryUnit\",\n",
    "\"SupName\",\n",
    "\"ASMName\",\n",
    "\"RSMName\",\n",
    "\"Terms\",\n",
    "\"DebtInCharge\",\n",
    "\"TermsType\",\n",
    "]"
   ]
  },
  {
   "cell_type": "code",
   "execution_count": 130,
   "metadata": {},
   "outputs": [],
   "source": [
    "group_dict = \\\n",
    "{\n",
    "# \"DeliveryTime\":np.max,\n",
    "# \"Reason\":np.max,\n",
    "\"OpeiningOrderAmt\":np.sum,\n",
    "\"OrdAmtRelease\":np.sum,\n",
    "\"DeliveredOrderAmt\":np.sum,\n",
    "\"ReturnOrdAmt\":np.sum,\n",
    "\"ReceiveAmt\":np.sum,\n",
    "\"DebConfirmAmt\":np.sum,\n",
    "\"DebConfirmAmtRelease\":np.sum\n",
    "}"
   ]
  },
  {
   "cell_type": "code",
   "execution_count": 131,
   "metadata": {},
   "outputs": [],
   "source": [
    "o = pivot(o, group_lst, group_dict)"
   ]
  },
  {
   "cell_type": "code",
   "execution_count": 132,
   "metadata": {},
   "outputs": [],
   "source": [
    "o['DeliveryTime'] = \"\"\n",
    "o['Reason'] = \"\""
   ]
  },
  {
   "cell_type": "code",
   "execution_count": 133,
   "metadata": {},
   "outputs": [],
   "source": [
    "o[\"CountOpeningOrder\"] = np.where(o.OpeiningOrderAmt>0,1,0)\n",
    "o[\"CountOrdRelease\"] = np.where(o.OrdAmtRelease>0,1,0)\n",
    "o[\"DeliveredOrder\"] = np.where(o.DeliveredOrderAmt>0,1,0)\n",
    "o[\"CountReturnOrd\"] = np.where(o.ReturnOrdAmt>0,1,0)\n",
    "o[\"ConfirmAmt\"] = np.where(o.ReceiveAmt>0,1,0)\n",
    "o[\"CountDebtConfirm\"] = np.where(o.DebConfirmAmt>0,1,0)\n",
    "o[\"CountDebtConfirmRelease\"] = np.where(o.DebConfirmAmtRelease>0,1,0)"
   ]
  },
  {
   "cell_type": "code",
   "execution_count": 134,
   "metadata": {},
   "outputs": [],
   "source": [
    "# o['DebtBalance'] = o.OpeiningOrderAmt + o.OrdAmtRelease - o.ReturnOrdAmt - o.DebConfirmAmtRelease\n",
    "# o = o.merge(wsc, how = \"left\", on=[\"PaymentsForm\",\"ShopType\"], suffixes=['',\"_wsc\"])\n",
    "# dk = o.No_Count.isna()\n",
    "# o1 = o[dk].copy()\n",
    "# drop_cols(o, \"DebtBalance\")\n",
    "# o1['DebtBalance'].sum()"
   ]
  },
  {
   "cell_type": "code",
   "execution_count": 135,
   "metadata": {},
   "outputs": [],
   "source": [
    "# o.columns"
   ]
  },
  {
   "cell_type": "code",
   "execution_count": 136,
   "metadata": {},
   "outputs": [],
   "source": [
    "drop_cols(o, \"InvoiceCustID\")"
   ]
  },
  {
   "cell_type": "code",
   "execution_count": 137,
   "metadata": {},
   "outputs": [],
   "source": [
    "col_lst_rename = \\\n",
    "[\n",
    "\"BranchID\",\n",
    "\"SlsperID\",\n",
    "\"OrderNbr\",\n",
    "\"CustID\",\n",
    "\"OrderDate\",\n",
    "\"DateOfOrder\",\n",
    "\"DueDate\",\n",
    "\"BranchName\",\n",
    "\"SlsperName\",\n",
    "\"Position\",\n",
    "\"PaymentsForm\",\n",
    "\"CustName\",\n",
    "\"Channels\",\n",
    "\"SubChannel\",\n",
    "\"Streets\",\n",
    "\"Attn\",\n",
    "\"Phone\",\n",
    "\"Territory\",\n",
    "\"State\",\n",
    "\"District\",\n",
    "\"Ward\",\n",
    "\"DeliveryUnit\",\n",
    "\"SupName\",\n",
    "\"ASMName\",\n",
    "\"RSMName\",\n",
    "\"Terms\",\n",
    "\"DebtInCharge\",\n",
    "\"TermsType\",\n",
    "\"OpeningOrderAmt\",\n",
    "\"OrdAmtRelease\",\n",
    "\"DeliveredOrderAmt\",\n",
    "\"ReturnOrdAmt\",\n",
    "\"ConfirmAmt\",\n",
    "\"DebtConfirmAmt\",\n",
    "\"DebtConfirmAmtRelease\",\n",
    "\"DeliveryTime\",\n",
    "\"ReasonNoPay\",\n",
    "\"CountOpeningOrder\",\n",
    "\"CountOrdRelease\",\n",
    "\"DeliveredOrder\",\n",
    "\"CountReturnOrd\",\n",
    "\"ConfirmAmt\",\n",
    "\"CountDebtConfirm\",\n",
    "\"CountDebtConfirmRelease\"\n",
    "]"
   ]
  },
  {
   "cell_type": "code",
   "execution_count": 138,
   "metadata": {},
   "outputs": [],
   "source": [
    "o.columns = col_lst_rename"
   ]
  },
  {
   "cell_type": "code",
   "execution_count": 139,
   "metadata": {},
   "outputs": [],
   "source": [
    "o.DateOfOrder = pd.to_datetime(o.DateOfOrder, dayfirst=True)\n",
    "o.OrderDate = pd.to_datetime(o.OrderDate, dayfirst=True)"
   ]
  },
  {
   "cell_type": "code",
   "execution_count": 140,
   "metadata": {},
   "outputs": [],
   "source": [
    "pn_sql = \\\n",
    "\"\"\"\n",
    "select DISTINCT\n",
    "\n",
    "a.OrigOrderNbr,\n",
    "a.BranchID,\n",
    "b.InvtID\n",
    "\n",
    "from OM_SalesOrd a\n",
    "INNER JOIN OM_SalesOrdDet b ON\n",
    "a.BranchID = b.BranchID AND\n",
    "a.OrderNbr = b.OrderNbr\n",
    "\n",
    "INNER JOIN dbo.AR_Doc d ON\n",
    "d.BranchID = a.BranchID AND\n",
    "d.BatNbr=a.ARBatNbr AND\n",
    "a.ARRefNbr=d.RefNbr AND\n",
    "d.Terms = 'O1'\n",
    "\n",
    "WHERE a.OrderType IN ('CO','DI','DM','DP','IN','IR','LO','OO','UP')\n",
    "\"\"\"\n",
    "df_pn = get_ms_df(pn_sql)\n",
    "sp_lst = ['EH072','EH105','OH016','OH047','OH057','OH071','OH079','OH081']\n",
    "dk1 = df_pn['InvtID'].isin(sp_lst)\n",
    "df_pn['PN'] = np.where(dk1, \"PNM\", \"MRP\")\n",
    "\n",
    "df_pn = df_pn[['OrigOrderNbr','BranchID','PN']].copy()\n",
    "df_pn.drop_duplicates(inplace=True)\n",
    "df_pn['count'] = np.where(df_pn['PN']=='PNM', 2 ,1)\n",
    "\n",
    "df_pn = pivot(df_pn, ['OrigOrderNbr','BranchID'], {'count':np.sum})\n",
    "dk1 = df_pn['count'] == 2\n",
    "df_pn = df_pn[dk1].copy()\n",
    "df_pn.columns = [\"OrderNbr\",\"BranchID\",\"count\"]\n",
    "o = o.merge(df_pn, how='left', on=[\"OrderNbr\",\"BranchID\"]).copy()\n",
    "dk1 = o['count'].notna()\n",
    "o.Terms = np.where(dk1, \"Gối Đầu 30 Pha Nam\", o.Terms)\n",
    "drop_cols(o, ['count'])"
   ]
  },
  {
   "cell_type": "code",
   "execution_count": 141,
   "metadata": {},
   "outputs": [],
   "source": [
    "o['DebtBalance'] = o.OpeningOrderAmt + o.OrdAmtRelease - o.ReturnOrdAmt - o.DebtConfirmAmtRelease"
   ]
  },
  {
   "cell_type": "code",
   "execution_count": 187,
   "metadata": {},
   "outputs": [],
   "source": [
    "df1 = o[[\"BranchID\",\"OrderNbr\",\"DateOfOrder\",\"CustID\",\"Terms\",\"DebtBalance\"]].copy()\n",
    "\n",
    "# vc(df1, \"Terms\")\n",
    "\n",
    "dk = df1.Terms == \"Gối 1 Đơn Hàng (trong 30 ngày)\"\n",
    "\n",
    "df1 = df1[dk].copy()\n",
    "\n",
    "# df1.shape\n",
    "\n",
    "df1 = pivot(df1, [\"BranchID\",\"OrderNbr\",\"DateOfOrder\",\"CustID\"], {\"DebtBalance\":np.sum})\n",
    "\n",
    "ctr1 = df1['DebtBalance'] > 1000\n",
    "df1 = df1[ctr1].copy()\n",
    "\n",
    "df1['DueDate'] = df1.DateOfOrder+timedelta(30)\n",
    "\n",
    "df1.sort_values(['DateOfOrder', 'OrderNbr'], axis=0, ascending = (True, True), inplace=True)\n",
    "\n",
    "df1a=df1.copy()"
   ]
  },
  {
   "cell_type": "code",
   "execution_count": 202,
   "metadata": {},
   "outputs": [],
   "source": [
    "# df1a.shape"
   ]
  },
  {
   "cell_type": "code",
   "execution_count": 189,
   "metadata": {},
   "outputs": [],
   "source": [
    "#STEP 1\n",
    "df1c = df1a[['BranchID','OrderNbr','DateOfOrder','CustID']].copy()"
   ]
  },
  {
   "cell_type": "code",
   "execution_count": 190,
   "metadata": {},
   "outputs": [],
   "source": [
    "# STEP 2\n",
    "df1d = pivot(df1c, ['BranchID','DateOfOrder','CustID'], {'OrderNbr':np.min})"
   ]
  },
  {
   "cell_type": "code",
   "execution_count": 191,
   "metadata": {},
   "outputs": [],
   "source": [
    "# STEP 3\n",
    "df1e = df1c.merge(df1d, how='left', on=['BranchID','DateOfOrder','CustID'], suffixes=['_ori',''])"
   ]
  },
  {
   "cell_type": "code",
   "execution_count": 201,
   "metadata": {},
   "outputs": [],
   "source": [
    "del(df1c)\n",
    "del(df1d)\n",
    "del(df1e)"
   ]
  },
  {
   "cell_type": "code",
   "execution_count": 193,
   "metadata": {},
   "outputs": [],
   "source": [
    "df1a = dropdup(df1a, 1,subset=['BranchID','DateOfOrder','CustID']).copy()"
   ]
  },
  {
   "cell_type": "code",
   "execution_count": 200,
   "metadata": {},
   "outputs": [],
   "source": [
    "# df1a.shape"
   ]
  },
  {
   "cell_type": "code",
   "execution_count": 195,
   "metadata": {},
   "outputs": [],
   "source": [
    "df1a['group'] = df1a.groupby(['BranchID','CustID'])['DateOfOrder'].diff().gt(pd.to_timedelta('1d'))\n",
    "\n",
    "df1a['group'] = df1a.groupby(['BranchID','CustID'])['group'].cumsum()\n",
    "\n",
    "df1a['count'] = 1\n",
    "\n",
    "df1a['cum_count'] = df1a.groupby(['BranchID','CustID','group'])['count'].cumsum()\n",
    "\n",
    "df_ccg = pd.read_csv(\"cumcountgroup.csv\")\n",
    "\n",
    "df1a['ccg'] = df1a['cum_count'].map(df_to_dict(df_ccg))\n",
    "\n",
    "df1a['group'] = df1a['group'].apply(str) + df1a['ccg']\n",
    "\n",
    "drop_cols(df1a, ['count', 'cum_count','ccg'])\n",
    "\n",
    "df1a2 = df1a.groupby(['BranchID','CustID', 'group'], as_index=False).agg({'DateOfOrder': np.min})\n",
    "df1a = df1a.merge(df1a2, how = 'left', on=['BranchID','CustID','group'], suffixes=('_ori', ''), validate=\"m:1\")\n",
    "# drop_cols(df1a, ['group'])\n",
    "del(df1a2)\n",
    "\n",
    "# df1a.head()\n",
    "\n",
    "# df1a.to_clipboard()\n",
    "\n",
    "df1b = df1a[['BranchID','CustID', 'DateOfOrder','group']].copy()\n",
    "df1b.drop_duplicates(keep='first', inplace=True)\n",
    "df1b['cum_count'] = df1b.groupby(['BranchID','CustID']).cumcount()\n",
    "drop_cols(df1b, ['DateOfOrder'])\n",
    "\n",
    "df1a = df1a.merge(df1b, how='left', on=['BranchID','CustID', 'group'])\n",
    "\n",
    "drop_cols(df1a, ['group'])\n",
    "\n",
    "df1a['cum_count_plus1'] = df1a['cum_count']+1\n",
    "df1b = df1a[['BranchID', 'CustID', 'cum_count', 'DateOfOrder']].drop_duplicates(keep='first')\n",
    "df1a = df1a.merge(df1b.add_prefix('y_'), how='left', left_on=['BranchID', 'CustID', 'cum_count_plus1'], right_on=['y_BranchID','y_CustID','y_cum_count'])\n",
    "df1a.y_DateOfOrder.fillna(df1a.DueDate, inplace=True)\n",
    "\n",
    "df1a.DueDate = np.where(df1a.DueDate>df1a.y_DateOfOrder, df1a.y_DateOfOrder, df1a.DueDate)\n",
    "\n",
    "drop_cols(df1a, ['DateOfOrder'])\n",
    "df1a.rename(columns={\"DateOfOrder_ori\": \"DateOfOrder\"}, inplace=True)\n",
    "\n",
    "lst = ['BranchID', 'CustID', 'OrderNbr', 'DateOfOrder', 'DebtBalance', 'DueDate']\n",
    "\n",
    "df1a = df1a[lst]\n",
    "\n",
    "df1a.drop_duplicates(keep='first', inplace=True)\n",
    "\n",
    "# End 2302"
   ]
  },
  {
   "cell_type": "code",
   "execution_count": 196,
   "metadata": {},
   "outputs": [],
   "source": [
    "df1f = df1e.merge(df1a, how = 'left', on=['BranchID', 'CustID', 'OrderNbr', 'DateOfOrder'])"
   ]
  },
  {
   "cell_type": "code",
   "execution_count": 198,
   "metadata": {},
   "outputs": [],
   "source": [
    "drop_cols(df1f, ['OrderNbr'])\n",
    "df1f.rename(columns={\"OrderNbr_ori\": \"OrderNbr\"}, inplace=True)\n",
    "df1f.drop_duplicates(keep='first', inplace=True)\n"
   ]
  },
  {
   "cell_type": "code",
   "execution_count": 199,
   "metadata": {},
   "outputs": [],
   "source": [
    "# df1a.to_clipboard()"
   ]
  },
  {
   "cell_type": "code",
   "execution_count": 142,
   "metadata": {},
   "outputs": [],
   "source": [
    "o = o.merge(df1a, how = \"left\", on=[\"BranchID\",\"OrderNbr\",\"DateOfOrder\",\"CustID\"], suffixes=['',\"_y\"])\n",
    "drop_cols(o, ['DebtBalance','DebtBalance_y'])\n",
    "o.DueDate = np.where(o.DueDate_y.isna(), o.DueDate, o.DueDate_y)\n",
    "drop_cols(o, ['DueDate_y'])"
   ]
  },
  {
   "cell_type": "code",
   "execution_count": 143,
   "metadata": {},
   "outputs": [],
   "source": [
    "# o.DueDate.head()"
   ]
  },
  {
   "cell_type": "code",
   "execution_count": 172,
   "metadata": {},
   "outputs": [],
   "source": [
    "df1 = o.copy()\n",
    "# df1.DateOfOrder = pd.to_datetime(df1.DateOfOrder, dayfirst=True)\n",
    "# df1.OrderDate = pd.to_datetime(df1.DateOfOrder, dayfirst=True)\n",
    "# df1.DueDate = pd.to_datetime(df1.DateOfOrder, dayfirst=True)"
   ]
  },
  {
   "cell_type": "code",
   "execution_count": 181,
   "metadata": {},
   "outputs": [],
   "source": [
    "df_nhansu = get_ps_df(\"select * from d_nhan_su\")\n",
    "df_nhansu['qlkhuvuc'] = df_nhansu['qlkhuvuc'].str.strip()\n",
    "df_nhansu_asm = dropdup(df_nhansu[['manvcrscrss','qlkhuvuc']], 1)\n",
    "nhansu_asm_dict = df_to_dict(df_nhansu_asm)\n",
    "df_phu_trach_no_cs_theo_tinh = get_ps_df(\"SELECT * from d_phu_trach_no_cs_theo_tinh\")\n",
    "phu_trach_no_cs_theo_tinh_dict = df_to_dict(df_phu_trach_no_cs_theo_tinh)\n",
    "df1['ASMName'] = np.where(df1['DebtInCharge']=='MDS', df1['SlsperID'].map(nhansu_asm_dict).fillna('Lương Trịnh Thắng (KN)'), df1['State'].map(phu_trach_no_cs_theo_tinh_dict))"
   ]
  },
  {
   "cell_type": "code",
   "execution_count": 182,
   "metadata": {},
   "outputs": [],
   "source": [
    "ma_kh_cu_dict = get_ms_df(\"SELECT CustId, RefCustID from AR_Customer\").set_index('CustId').to_dict()['RefCustID']\n",
    "df1['RefCustId'] = df1['CustID'].map(ma_kh_cu_dict)\n",
    "df_phu_trach_no_cs_theo_refcustid = get_ps_df(\"select * from d_phu_trach_no_cs_theo_refcustid\")\n",
    "phu_trach_no_cs_theo_refcustid_dict = get_ps_df(\"select * from d_phu_trach_no_cs_theo_refcustid\").set_index('refcustid').to_dict()['inchargename']\n",
    "list_cs = df_phu_trach_no_cs_theo_refcustid['refcustid'].to_list()\n",
    "df1['ASMName_CS'] = df1['RefCustId'].map(phu_trach_no_cs_theo_refcustid_dict)\n",
    "df1['ASMName'] = np.where( ((df1['RefCustId'].isin(list_cs)) & (df1['DebtInCharge']=='CS')), df1['ASMName_CS'], df1['ASMName'])"
   ]
  },
  {
   "cell_type": "code",
   "execution_count": 183,
   "metadata": {},
   "outputs": [],
   "source": [
    "df_nhansu_sup = dropdup(df_nhansu[['manvcrscrss','quanlytructiep']], 1)\n",
    "df_nhansu_sup['quanlytructiep'] = df_nhansu_sup['quanlytructiep'].str.strip()\n",
    "df1['SupName'] = df1['SupName'].map( df_to_dict(df_nhansu_sup) ).fillna(df1['ASMName'])\n",
    "df_nhansu_rsm = dropdup(df_nhansu[['manvcrscrss','qlvung']], 1)\n",
    "df_nhansu_rsm['qlvung'] = df_nhansu_rsm['qlvung'].str.strip()\n",
    "df1['SupName'] = df1['SupName'].map( df_to_dict(df_nhansu_sup) ).fillna(df1['ASMName'])\n",
    "df1['RSMName'] = df1['RSMName'].map( df_to_dict(df_nhansu_rsm) ).fillna(df1['ASMName'])\n",
    "df1['InChargeName'] =  np.where(df1['DebtInCharge']=='MDS', df1['SlsperName'], df1['ASMName'])\n",
    "df_vptt = get_ps_df(\"select * from d_vptt\")\n",
    "df1 = df1.merge(df_vptt, how = 'left', left_on='State', right_on='tinh', suffixes=('_left', '_right'), validate=\"m:1\")\n",
    "df_mkv_viet_tat = get_ps_df(\"select * from d_mkv_viet_tat\").set_index('tenkhuvuc')\n",
    "khuvuc_dict = df_mkv_viet_tat.to_dict()['khuvuc']\n",
    "df1['Territory'] = df1['Territory'].map(khuvuc_dict)\n",
    "df1['Position'] = np.where(df1['DebtInCharge']==\"CS\", \"CS\", df1['Position'])\n",
    "# df1[checkdup(df1, 2, ['BranchID','OrderDate','OrderNbr','DateOfOrder','DueDate'])]"
   ]
  },
  {
   "cell_type": "code",
   "execution_count": 184,
   "metadata": {},
   "outputs": [],
   "source": [
    "groupbylist = [\n",
    "    'OrderNbr', \n",
    "    'BranchID', \n",
    "    'Position',\n",
    "    'SlsperID', \n",
    "    'SupName', \n",
    "    'ASMName', \n",
    "    'RSMName', \n",
    "    'DateOfOrder', \n",
    "    'DueDate',\n",
    "    'CustID',\n",
    "    'RefCustId',\n",
    "    'CustName',\n",
    "    'SlsperName',\n",
    "    'InChargeName',\n",
    "    'DebtInCharge',\n",
    "    'Terms', \n",
    "    'PaymentsForm',\n",
    "    'TermsType',\n",
    "    'Territory', \n",
    "    'State', \n",
    "    'vptt', \n",
    "    'DeliveryUnit',\n",
    "    'Channels',\n",
    "    'SubChannel'\n",
    "    ]\n",
    "\n",
    "aggregate_dict = {\n",
    "'OrderDate': np.max,\n",
    "#Group by tien\n",
    "'OpeningOrderAmt':np.sum,\n",
    "'OrdAmtRelease':np.sum,\n",
    "'DeliveredOrderAmt':np.sum,\n",
    "'ReturnOrdAmt': np.sum,\n",
    "'DebtConfirmAmt': np.sum,\n",
    "'DebtConfirmAmtRelease': np.sum,\n",
    "# Huy & Xac Nhan In Month\n",
    "# 'ReturnOrdAmt_InMonth': np.sum,\n",
    "# 'DebConfirmAmtRelease_InMonth': np.sum,\n",
    "\n",
    "#DonHang8\n",
    "'CountOpeningOrder':np.sum,\n",
    "'CountOrdRelease': np.sum,\n",
    "'DeliveredOrder':np.sum,\n",
    "'CountReturnOrd': np.sum,\n",
    "'CountDebtConfirm': np.sum,\n",
    "'CountDebtConfirmRelease':np.sum\n",
    "}"
   ]
  },
  {
   "cell_type": "code",
   "execution_count": 185,
   "metadata": {},
   "outputs": [],
   "source": [
    "# df1.dtypes"
   ]
  },
  {
   "cell_type": "code",
   "execution_count": 199,
   "metadata": {},
   "outputs": [],
   "source": [
    "df2 = pivot(df1, groupbylist, aggregate_dict).copy()"
   ]
  },
  {
   "cell_type": "code",
   "execution_count": 232,
   "metadata": {},
   "outputs": [],
   "source": [
    "# df2.OrdAmtRelease = pd.to_numeric(df2.OrdAmtRelease)\n",
    "# df2.DebtConfirmAmtRelease = df2.DebtConfirmAmtRelease.astype(\"int64\")\n",
    "# df2.OrdAmtRelease = df2.OrdAmtRelease.astype(\"int64\")\n",
    "# df2.OrdAmtRelease.head()\n",
    "# df2.DebtConfirmAmtRelease.head()\n",
    "# round(df2.OrdAmtRelease,0) - round(df2.DebtConfirmAmtRelease,0)\n",
    "# df2[\"OrdAmtRelease\"] - df2[\"DebtConfirmAmtRelease\"]\n",
    "# df4 = pd.read_csv(\"test.csv\")\n",
    "# df4.num1\n",
    "# df4.num2"
   ]
  },
  {
   "cell_type": "code",
   "execution_count": 162,
   "metadata": {},
   "outputs": [],
   "source": [
    "# df2['DebtBalance'] = df2.OpeningOrderAmt + df2.OrdAmtRelease - df2.ReturnOrdAmt - df2.DebtConfirmAmtRelease\n",
    "# df2 = df2.merge(wsc, how = \"left\", on=[\"PaymentsForm\",\"SubChannel\"], suffixes=['',\"_wsc\"])\n",
    "# dk = df2.No_Count.isna()\n",
    "# o1 = df2[dk].copy()\n",
    "# drop_cols(df2, \"DebtBalance\")\n",
    "# o1['DebtBalance'].sum()"
   ]
  },
  {
   "cell_type": "code",
   "execution_count": 163,
   "metadata": {},
   "outputs": [],
   "source": [
    "rename_dict ={\n",
    "# Doanh So\n",
    "'OpeningOrderAmt': 'tiennodauky',\n",
    "'OrdAmtRelease':'tienchotso',\n",
    "'DeliveredOrderAmt':'tiengiaothanhcong',\n",
    "'ReturnOrdAmt':'tienhuydon',\n",
    "'DebtConfirmAmt':'tienlenbangke',\n",
    "'DebtConfirmAmtRelease':'tienthuquyxacnhan',\n",
    "# Huy & Xac Nhan In Month\n",
    "# 'ReturnOrdAmt_InMonth': 'tienhuydon_inmonth',\n",
    "# 'DebConfirmAmtRelease_InMonth': 'tienthuquyxacnhan_inmonth',\n",
    "# Don Hang\n",
    "'CountOpeningOrder': 'dondauky',\n",
    "'CountOrdRelease':'donchotso',\n",
    "'DeliveredOrder':'dongiaothanhcong',\n",
    "'CountReturnOrd':'donhuy',\n",
    "'CountDebtConfirm':'donlenbangke',\n",
    "'CountDebtConfirmRelease':'donthuquyxacnhan'\n",
    "}\n",
    "df2.rename(columns=rename_dict, inplace=True)"
   ]
  },
  {
   "cell_type": "code",
   "execution_count": 171,
   "metadata": {},
   "outputs": [
    {
     "data": {
      "text/html": [
       "<div>\n",
       "<style scoped>\n",
       "    .dataframe tbody tr th:only-of-type {\n",
       "        vertical-align: middle;\n",
       "    }\n",
       "\n",
       "    .dataframe tbody tr th {\n",
       "        vertical-align: top;\n",
       "    }\n",
       "\n",
       "    .dataframe thead th {\n",
       "        text-align: right;\n",
       "    }\n",
       "</style>\n",
       "<table border=\"1\" class=\"dataframe\">\n",
       "  <thead>\n",
       "    <tr style=\"text-align: right;\">\n",
       "      <th></th>\n",
       "      <th>OrderNbr</th>\n",
       "      <th>BranchID</th>\n",
       "      <th>Position</th>\n",
       "      <th>SlsperID</th>\n",
       "      <th>SupName</th>\n",
       "      <th>ASMName</th>\n",
       "      <th>RSMName</th>\n",
       "      <th>DateOfOrder</th>\n",
       "      <th>DueDate</th>\n",
       "      <th>CustID</th>\n",
       "      <th>...</th>\n",
       "      <th>dondauky</th>\n",
       "      <th>donchotso</th>\n",
       "      <th>dongiaothanhcong</th>\n",
       "      <th>donhuy</th>\n",
       "      <th>donlenbangke</th>\n",
       "      <th>donthuquyxacnhan</th>\n",
       "      <th>tiennocongty</th>\n",
       "      <th>donnocongty</th>\n",
       "      <th>donchuagiao</th>\n",
       "      <th>tiendonchuagiao</th>\n",
       "    </tr>\n",
       "  </thead>\n",
       "  <tbody>\n",
       "    <tr>\n",
       "      <th>0</th>\n",
       "      <td>DH052021-01940</td>\n",
       "      <td>MR0010</td>\n",
       "      <td>MDS</td>\n",
       "      <td>MR0892KN</td>\n",
       "      <td>Lương Trịnh Thắng (KN)</td>\n",
       "      <td>Lương Trịnh Thắng (KN)</td>\n",
       "      <td>Lương Trịnh Thắng (KN)</td>\n",
       "      <td>2021-05-25</td>\n",
       "      <td>2021-05-28</td>\n",
       "      <td>TN73O386</td>\n",
       "      <td>...</td>\n",
       "      <td>0</td>\n",
       "      <td>1</td>\n",
       "      <td>1</td>\n",
       "      <td>0</td>\n",
       "      <td>2</td>\n",
       "      <td>2</td>\n",
       "      <td>60.0</td>\n",
       "      <td>1</td>\n",
       "      <td>0</td>\n",
       "      <td>0.0</td>\n",
       "    </tr>\n",
       "  </tbody>\n",
       "</table>\n",
       "<p>1 rows × 41 columns</p>\n",
       "</div>"
      ],
      "text/plain": [
       "         OrderNbr BranchID Position  SlsperID                 SupName  \\\n",
       "0  DH052021-01940   MR0010      MDS  MR0892KN  Lương Trịnh Thắng (KN)   \n",
       "\n",
       "                  ASMName                 RSMName DateOfOrder    DueDate  \\\n",
       "0  Lương Trịnh Thắng (KN)  Lương Trịnh Thắng (KN)  2021-05-25 2021-05-28   \n",
       "\n",
       "     CustID  ... dondauky donchotso dongiaothanhcong donhuy donlenbangke  \\\n",
       "0  TN73O386  ...        0         1                1      0            2   \n",
       "\n",
       "  donthuquyxacnhan tiennocongty donnocongty donchuagiao tiendonchuagiao  \n",
       "0                2         60.0           1           0             0.0  \n",
       "\n",
       "[1 rows x 41 columns]"
      ]
     },
     "execution_count": 171,
     "metadata": {},
     "output_type": "execute_result"
    }
   ],
   "source": [
    "df2.head()"
   ]
  },
  {
   "cell_type": "code",
   "execution_count": 169,
   "metadata": {},
   "outputs": [],
   "source": [
    "ctr1 = df2['DeliveryUnit']=='Nhà vận chuyển'\n",
    "ctr2 = df2['donhuy']==0\n",
    "df2['dongiaothanhcong'] = np.where(ctr1&ctr2, 1, df2['dongiaothanhcong'])\n",
    "ctr1 = df2['DeliveryUnit']=='Nhà vận chuyển'\n",
    "ctr2 = df2['tienhuydon']==0\n",
    "df2['tiengiaothanhcong'] = np.where(ctr1&ctr2, df2['tienchotso'], df2['tiengiaothanhcong'])\n",
    "df2['tiennocongty'] = df2['tiennodauky'] + df2['tienchotso'] - df2['tienhuydon'] - df2['tienthuquyxacnhan']\n",
    "df2['donnocongty'] = np.where(df2['tiennocongty'].values > 0, 1, 0)\n",
    "df2['donchuagiao'] = df2['donchotso'] - df2['dongiaothanhcong'] - df2['donhuy']\n",
    "df2['tiendonchuagiao'] = df2['tienchotso'] - df2['tiengiaothanhcong'] - df2['tienhuydon']"
   ]
  },
  {
   "cell_type": "code",
   "execution_count": 166,
   "metadata": {},
   "outputs": [],
   "source": [
    "rename_dict ={\n",
    "# Doanh So\n",
    "'OpeningOrderAmt': 'tiennodauky',\n",
    "'OrdAmtRelease':'tienchotso',\n",
    "'DeliveredOrderAmt':'tiengiaothanhcong',\n",
    "'ReturnOrdAmt':'tienhuydon',\n",
    "'DebtConfirmAmt':'tienlenbangke',\n",
    "'DebtConfirmAmtRelease':'tienthuquyxacnhan',\n",
    "# Huy & Xac Nhan In Month\n",
    "# 'ReturnOrdAmt_InMonth': 'tienhuydon_inmonth',\n",
    "# 'DebConfirmAmtRelease_InMonth': 'tienthuquyxacnhan_inmonth',\n",
    "# Don Hang\n",
    "'CountOpeningOrder': 'dondauky',\n",
    "'CountOrdRelease':'donchotso',\n",
    "'DeliveredOrder':'dongiaothanhcong',\n",
    "'CountReturnOrd':'donhuy',\n",
    "'CountDebtConfirm':'donlenbangke',\n",
    "'CountDebtConfirmRelease':'donthuquyxacnhan'\n",
    "}\n",
    "df2.rename(columns=rename_dict, inplace=True)\n",
    "ctr1 = df2['DeliveryUnit']=='Nhà vận chuyển'\n",
    "ctr2 = df2['donhuy']==0\n",
    "df2['dongiaothanhcong'] = np.where(ctr1&ctr2, 1, df2['dongiaothanhcong'])\n",
    "ctr1 = df2['DeliveryUnit']=='Nhà vận chuyển'\n",
    "ctr2 = df2['tienhuydon']==0\n",
    "df2['tiengiaothanhcong'] = np.where(ctr1&ctr2, df2['tienchotso'], df2['tiengiaothanhcong'])\n",
    "df2['tiennocongty'] = df2['tiennodauky'] + df2['tienchotso'].values - df2['tienhuydon'].values - df2['tienthuquyxacnhan'].values\n",
    "df2['donnocongty'] = np.where(df2['tiennocongty'].values > 0, 1, 0)\n",
    "df2['donchuagiao'] = df2['donchotso'] - df2['dongiaothanhcong'] - df2['donhuy']\n",
    "df2['tiendonchuagiao'] = df2['tienchotso'] - df2['tiengiaothanhcong'] - df2['tienhuydon']"
   ]
  },
  {
   "cell_type": "code",
   "execution_count": 167,
   "metadata": {},
   "outputs": [],
   "source": [
    "# df2['DebtBalance'] = df2['tiennodauky'] + df2['tienchotso'].values - df2['tienhuydon'].values - df2['tienthuquyxacnhan'].values\n",
    "# df2 = df2.merge(wsc, how = \"left\", on=[\"PaymentsForm\",\"SubChannel\"], suffixes=['',\"_wsc\"])\n",
    "# dk = df2.No_Count.isna()\n",
    "# o1 = df2[dk].copy()\n",
    "# # drop_cols(df2, \"DebtBalance\")\n",
    "# o1['DebtBalance'].sum()"
   ]
  },
  {
   "cell_type": "code",
   "execution_count": 168,
   "metadata": {},
   "outputs": [],
   "source": [
    "# df2.columns = [x.lower() for x in df2.columns]"
   ]
  },
  {
   "cell_type": "code",
   "execution_count": 169,
   "metadata": {},
   "outputs": [],
   "source": [
    "# df2[['OrderNbr','BranchID','PaymentsForm','SubChannel','No_Count','tiennocongty','DebtBalance']].to_csv(\"csv.csv\", index=False)"
   ]
  },
  {
   "cell_type": "code",
   "execution_count": 172,
   "metadata": {},
   "outputs": [
    {
     "data": {
      "text/plain": [
       "Index(['OrderNbr', 'BranchID', 'Position', 'SlsperID', 'SupName', 'ASMName',\n",
       "       'RSMName', 'DateOfOrder', 'DueDate', 'CustID', 'RefCustId', 'CustName',\n",
       "       'SlsperName', 'InChargeName', 'DebtInCharge', 'Terms', 'PaymentsForm',\n",
       "       'TermsType', 'Territory', 'State', 'vptt', 'DeliveryUnit', 'Channels',\n",
       "       'SubChannel', 'OrderDate', 'tiennodauky', 'tienchotso',\n",
       "       'tiengiaothanhcong', 'tienhuydon', 'tienlenbangke', 'tienthuquyxacnhan',\n",
       "       'dondauky', 'donchotso', 'dongiaothanhcong', 'donhuy', 'donlenbangke',\n",
       "       'donthuquyxacnhan', 'tiennocongty', 'donnocongty', 'donchuagiao',\n",
       "       'tiendonchuagiao'],\n",
       "      dtype='object')"
      ]
     },
     "execution_count": 172,
     "metadata": {},
     "output_type": "execute_result"
    }
   ],
   "source": [
    "df2.columns"
   ]
  },
  {
   "cell_type": "code",
   "execution_count": 176,
   "metadata": {},
   "outputs": [],
   "source": [
    "# df2.columns = [x.lower() for x in df2.columns]\n",
    "trangthaigiaohangdict = {'C':'Đã giao hàng', 'H':'Chưa Xác Nhận', 'D':'KH Không Nhận', 'A':'Đã Xác Nhận', 'R':'Từ Chối Giao Hàng', 'E':'Không Tiếp Tục Giao Hàng'}\n",
    "# get_ms_csv(DELI, 'DELI.csv')\n",
    "DELI=pd.read_csv('DELI.csv', usecols=['BranchID', 'OrderNbr', 'Status'])\n",
    "DELI['BranchID_OrderNbr'] = DELI['BranchID']+DELI['OrderNbr']\n",
    "# DELI.columns\n",
    "DELI = DELI[['BranchID_OrderNbr','Status']]\n",
    "# df2.columns\n",
    "df2['trangthaigiaohang'] = (df2['BranchID']+df2['OrderNbr']).map(df_to_dict(DELI)).map(trangthaigiaohangdict)\n",
    "# vc(df2,'deliveryunit')\n",
    "\n",
    "\n",
    "# 10/02/2022 UPDATE\n",
    "DELI=pd.read_csv('DELI.csv', usecols=['BranchID', 'OrderNbr', 'SlsperID'])\n",
    "DELI.columns = ['BranchID','manvgh','OrderNbr']\n",
    "df3 = df2.merge(DELI, on = ['BranchID','OrderNbr'], how = 'left')"
   ]
  },
  {
   "cell_type": "code",
   "execution_count": 3,
   "metadata": {},
   "outputs": [],
   "source": [
    "df2 = pd.read_csv(\"20220313_F_TrackingDebt_BI.csv\")"
   ]
  },
  {
   "cell_type": "code",
   "execution_count": null,
   "metadata": {},
   "outputs": [],
   "source": [
    "dk = df2.tiennocongty > 1000"
   ]
  },
  {
   "cell_type": "code",
   "execution_count": null,
   "metadata": {},
   "outputs": [],
   "source": [
    "df2 = df2[dk].copy()"
   ]
  },
  {
   "cell_type": "code",
   "execution_count": 4,
   "metadata": {},
   "outputs": [
    {
     "data": {
      "text/plain": [
       "Unnamed: 0             int64\n",
       "OrderNbr              object\n",
       "BranchID              object\n",
       "Position              object\n",
       "SlsperID              object\n",
       "SupName               object\n",
       "ASMName               object\n",
       "RSMName               object\n",
       "DateOfOrder           object\n",
       "DueDate               object\n",
       "CustID                object\n",
       "RefCustId             object\n",
       "CustName              object\n",
       "SlsperName            object\n",
       "InChargeName          object\n",
       "DebtInCharge          object\n",
       "Terms                 object\n",
       "PaymentsForm          object\n",
       "TermsType             object\n",
       "Territory             object\n",
       "State                 object\n",
       "vptt                  object\n",
       "DeliveryUnit          object\n",
       "Channels              object\n",
       "SubChannel            object\n",
       "OrderDate             object\n",
       "tiennodauky          float64\n",
       "tienchotso           float64\n",
       "tiengiaothanhcong    float64\n",
       "tienhuydon           float64\n",
       "tienlenbangke        float64\n",
       "tienthuquyxacnhan    float64\n",
       "dondauky               int64\n",
       "donchotso              int64\n",
       "dongiaothanhcong       int64\n",
       "donhuy                 int64\n",
       "donlenbangke           int64\n",
       "donthuquyxacnhan       int64\n",
       "manvgh                object\n",
       "trangthaigiaohang     object\n",
       "deli_last_updated     object\n",
       "tiennocongty         float64\n",
       "donnocongty            int64\n",
       "donchuagiao            int64\n",
       "tiendonchuagiao      float64\n",
       "inserted_at           object\n",
       "dtype: object"
      ]
     },
     "execution_count": 4,
     "metadata": {},
     "output_type": "execute_result"
    }
   ],
   "source": [
    "df2.dtypes"
   ]
  },
  {
   "cell_type": "code",
   "execution_count": 17,
   "metadata": {},
   "outputs": [],
   "source": [
    "df2.DateOfOrder = convert_to_datetime(df2.DateOfOrder)"
   ]
  },
  {
   "cell_type": "code",
   "execution_count": 18,
   "metadata": {},
   "outputs": [
    {
     "data": {
      "text/plain": [
       "0        2022-01-05\n",
       "1        2022-01-04\n",
       "2        2022-01-04\n",
       "3        2022-01-04\n",
       "4        2022-01-04\n",
       "            ...    \n",
       "181266   2022-03-12\n",
       "181267   2022-03-12\n",
       "181268   2022-03-12\n",
       "181269   2022-03-12\n",
       "181270   2022-03-12\n",
       "Name: DateOfOrder, Length: 181271, dtype: datetime64[ns]"
      ]
     },
     "execution_count": 18,
     "metadata": {},
     "output_type": "execute_result"
    }
   ],
   "source": [
    "df2.DateOfOrder"
   ]
  },
  {
   "cell_type": "code",
   "execution_count": 14,
   "metadata": {},
   "outputs": [],
   "source": [
    "df2.deli_last_updated = pd.to_datetime(df2.deli_last_updated, dayfirst=True)"
   ]
  },
  {
   "cell_type": "code",
   "execution_count": 15,
   "metadata": {},
   "outputs": [
    {
     "data": {
      "text/plain": [
       "0   2022-01-06 14:18:05.303\n",
       "1   2022-01-04 19:52:15.797\n",
       "2   2022-01-04 14:45:35.837\n",
       "3   2022-01-04 17:18:51.723\n",
       "4   2022-01-04 10:31:53.747\n",
       "Name: deli_last_updated, dtype: datetime64[ns]"
      ]
     },
     "execution_count": 15,
     "metadata": {},
     "output_type": "execute_result"
    }
   ],
   "source": [
    "df2.deli_last_updated.head()"
   ]
  },
  {
   "cell_type": "code",
   "execution_count": 8,
   "metadata": {},
   "outputs": [
    {
     "data": {
      "text/plain": [
       "(7810, 46)"
      ]
     },
     "execution_count": 8,
     "metadata": {},
     "output_type": "execute_result"
    }
   ],
   "source": [
    "df2[dk].shape"
   ]
  },
  {
   "cell_type": "code",
   "execution_count": 2,
   "metadata": {},
   "outputs": [],
   "source": [
    "# df2.shape"
   ]
  },
  {
   "cell_type": "code",
   "execution_count": null,
   "metadata": {},
   "outputs": [],
   "source": []
  }
 ],
 "metadata": {
  "interpreter": {
   "hash": "f94d6dad5013d632e8b52fc362848c71d5234e1d7ba23afa22c3a2e55512dabd"
  },
  "kernelspec": {
   "display_name": "Python 3.9.6 64-bit ('venv': venv)",
   "language": "python",
   "name": "python3"
  },
  "language_info": {
   "codemirror_mode": {
    "name": "ipython",
    "version": 3
   },
   "file_extension": ".py",
   "mimetype": "text/x-python",
   "name": "python",
   "nbconvert_exporter": "python",
   "pygments_lexer": "ipython3",
   "version": "3.9.6"
  },
  "orig_nbformat": 4
 },
 "nbformat": 4,
 "nbformat_minor": 2
}
