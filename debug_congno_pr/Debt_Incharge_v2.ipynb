{
 "cells": [
  {
   "cell_type": "code",
   "execution_count": 44,
   "metadata": {},
   "outputs": [],
   "source": [
    "from utils.df_handle import *"
   ]
  },
  {
   "cell_type": "code",
   "execution_count": 45,
   "metadata": {},
   "outputs": [],
   "source": [
    "df1=get_ps_df(\"select * from f_tracking_debt\")"
   ]
  },
  {
   "cell_type": "code",
   "execution_count": 46,
   "metadata": {},
   "outputs": [],
   "source": [
    "# vc(df1, 'termstype')"
   ]
  },
  {
   "cell_type": "code",
   "execution_count": 47,
   "metadata": {},
   "outputs": [],
   "source": [
    "# vc(df1, 'subchannel')"
   ]
  },
  {
   "cell_type": "code",
   "execution_count": 48,
   "metadata": {},
   "outputs": [],
   "source": [
    "# dkk=df1.subchannel == 'CHUOI'\n",
    "# dkb=df1.termstype == 'Cho nợ'\n",
    "# vc(df1[dkk], 'paymentsform')"
   ]
  },
  {
   "cell_type": "code",
   "execution_count": 49,
   "metadata": {},
   "outputs": [],
   "source": [
    "dk1 = df1.subchannel.isin([\"NT\",\"PK\",\"SI\"])\n",
    "dk2 = df1.paymentsform == \"TM\"\n",
    "# dka = df1.terms.isin( [\"Gối Đầu 30 Pha Nam\",\"Thu tiền ngay không có VP PN\",\"Thu tiền ngay có VP PN\",\"Gối 1 Đơn Hàng (trong 30 ngày)\"] )\n",
    "dkfinal1 = dk1&dk2\n",
    "dk3 = df1.subchannel == 'CHUOI'\n",
    "dk4 = df1.termstype == \"Thanh Toán Ngay\"\n",
    "dk5 = df1.paymentsform == \"TM\"\n",
    "dkfinal2 = dk3&dk4&dk5\n",
    "dk6 = df1.subchannel.isin([\"INS1\",\"INS2\",\"INS3\"])\n",
    "df1['debtincharge_v2']=np.where(dkfinal1 | dkfinal2, \"MDS\", \\\n",
    "    np.where(dk6, \"INS\", \"CS\"))"
   ]
  },
  {
   "cell_type": "code",
   "execution_count": 1,
   "metadata": {},
   "outputs": [],
   "source": [
    "# dkfinal1.sum()"
   ]
  },
  {
   "cell_type": "code",
   "execution_count": 33,
   "metadata": {},
   "outputs": [],
   "source": [
    "# dkfinal2.sum()"
   ]
  },
  {
   "cell_type": "code",
   "execution_count": 34,
   "metadata": {},
   "outputs": [
    {
     "data": {
      "text/html": [
       "<div>\n",
       "<style scoped>\n",
       "    .dataframe tbody tr th:only-of-type {\n",
       "        vertical-align: middle;\n",
       "    }\n",
       "\n",
       "    .dataframe tbody tr th {\n",
       "        vertical-align: top;\n",
       "    }\n",
       "\n",
       "    .dataframe thead th {\n",
       "        text-align: right;\n",
       "    }\n",
       "</style>\n",
       "<table border=\"1\" class=\"dataframe\">\n",
       "  <thead>\n",
       "    <tr style=\"text-align: right;\">\n",
       "      <th></th>\n",
       "      <th>debtincharge_v2</th>\n",
       "      <th>counts</th>\n",
       "    </tr>\n",
       "  </thead>\n",
       "  <tbody>\n",
       "    <tr>\n",
       "      <th>0</th>\n",
       "      <td>CS</td>\n",
       "      <td>6304</td>\n",
       "    </tr>\n",
       "    <tr>\n",
       "      <th>1</th>\n",
       "      <td>MDS</td>\n",
       "      <td>1941</td>\n",
       "    </tr>\n",
       "  </tbody>\n",
       "</table>\n",
       "</div>"
      ],
      "text/plain": [
       "  debtincharge_v2  counts\n",
       "0              CS    6304\n",
       "1             MDS    1941"
      ]
     },
     "execution_count": 34,
     "metadata": {},
     "output_type": "execute_result"
    }
   ],
   "source": [
    "vc(df1, 'debtincharge_v2')"
   ]
  },
  {
   "cell_type": "code",
   "execution_count": 50,
   "metadata": {},
   "outputs": [],
   "source": [
    "primary_keys=['ordernbr', 'branchid', 'dateoforder', 'duedate']"
   ]
  },
  {
   "cell_type": "code",
   "execution_count": 51,
   "metadata": {},
   "outputs": [
    {
     "name": "stdout",
     "output_type": "stream",
     "text": [
      "INSERT INTO f_tracking_debt(ordernbr,branchid,position,slsperid,supname,asmname,rsmname,dateoforder,duedate,custid,refcustid,custname,slspername,inchargename,debtincharge,terms,paymentsform,termstype,territory,state,vptt,deliveryunit,subchannel,tiennodauky,tienchotso,tiengiaothanhcong,tienhuydon,tienlenbangke,tienthuquyxacnhan,dondauky,donchotso,dongiaothanhcong,donhuy,donlenbangke,donthuquyxacnhan,tiennocongty,donnocongty,donchuagiao,tiendonchuagiao,orderdate,channels,inserted_at,trangthaigiaohang,manvgh,deli_last_updated,debtincharge_v2) VALUES %s ON CONFLICT (ordernbr, branchid, dateoforder, duedate) DO UPDATE SET position = excluded.position, slsperid = excluded.slsperid, supname = excluded.supname, asmname = excluded.asmname, rsmname = excluded.rsmname, custid = excluded.custid, refcustid = excluded.refcustid, custname = excluded.custname, slspername = excluded.slspername, inchargename = excluded.inchargename, debtincharge = excluded.debtincharge, terms = excluded.terms, paymentsform = excluded.paymentsform, termstype = excluded.termstype, territory = excluded.territory, state = excluded.state, vptt = excluded.vptt, deliveryunit = excluded.deliveryunit, subchannel = excluded.subchannel, tiennodauky = excluded.tiennodauky, tienchotso = excluded.tienchotso, tiengiaothanhcong = excluded.tiengiaothanhcong, tienhuydon = excluded.tienhuydon, tienlenbangke = excluded.tienlenbangke, tienthuquyxacnhan = excluded.tienthuquyxacnhan, dondauky = excluded.dondauky, donchotso = excluded.donchotso, dongiaothanhcong = excluded.dongiaothanhcong, donhuy = excluded.donhuy, donlenbangke = excluded.donlenbangke, donthuquyxacnhan = excluded.donthuquyxacnhan, tiennocongty = excluded.tiennocongty, donnocongty = excluded.donnocongty, donchuagiao = excluded.donchuagiao, tiendonchuagiao = excluded.tiendonchuagiao, orderdate = excluded.orderdate, channels = excluded.channels, inserted_at = excluded.inserted_at, trangthaigiaohang = excluded.trangthaigiaohang, manvgh = excluded.manvgh, deli_last_updated = excluded.deli_last_updated, debtincharge_v2 = excluded.debtincharge_v2\n",
      "Data inserted using execute_values() successfully..\n"
     ]
    }
   ],
   "source": [
    "execute_values_upsert(df1, 'f_tracking_debt', primary_keys)"
   ]
  },
  {
   "cell_type": "code",
   "execution_count": 52,
   "metadata": {},
   "outputs": [],
   "source": [
    "dk1 = df1.debtincharge == 'MDS'"
   ]
  },
  {
   "cell_type": "code",
   "execution_count": 53,
   "metadata": {},
   "outputs": [],
   "source": [
    "dk2 = df1.debtincharge_v2 == 'MDS'"
   ]
  },
  {
   "cell_type": "code",
   "execution_count": 54,
   "metadata": {},
   "outputs": [],
   "source": [
    "df1a = df1[dk1].copy()"
   ]
  },
  {
   "cell_type": "code",
   "execution_count": 55,
   "metadata": {},
   "outputs": [],
   "source": [
    "df1b = df1[dk2].copy()"
   ]
  },
  {
   "cell_type": "code",
   "execution_count": 56,
   "metadata": {},
   "outputs": [],
   "source": [
    "drop_cols(df1a, ['debtincharge','debtincharge_v2'])"
   ]
  },
  {
   "cell_type": "code",
   "execution_count": 57,
   "metadata": {},
   "outputs": [],
   "source": [
    "drop_cols(df1b, ['debtincharge','debtincharge_v2'])"
   ]
  },
  {
   "cell_type": "code",
   "execution_count": 43,
   "metadata": {},
   "outputs": [
    {
     "data": {
      "text/plain": [
       "(2565, 44)"
      ]
     },
     "execution_count": 43,
     "metadata": {},
     "output_type": "execute_result"
    }
   ],
   "source": [
    "df1a.shape"
   ]
  },
  {
   "cell_type": "code",
   "execution_count": 26,
   "metadata": {},
   "outputs": [
    {
     "data": {
      "text/plain": [
       "Index(['ordernbr', 'branchid', 'position', 'slsperid', 'supname', 'asmname',\n",
       "       'rsmname', 'dateoforder', 'duedate', 'custid', 'refcustid', 'custname',\n",
       "       'slspername', 'inchargename', 'terms', 'paymentsform', 'termstype',\n",
       "       'territory', 'state', 'vptt', 'deliveryunit', 'subchannel',\n",
       "       'tiennodauky', 'tienchotso', 'tiengiaothanhcong', 'tienhuydon',\n",
       "       'tienlenbangke', 'tienthuquyxacnhan', 'dondauky', 'donchotso',\n",
       "       'dongiaothanhcong', 'donhuy', 'donlenbangke', 'donthuquyxacnhan',\n",
       "       'tiennocongty', 'donnocongty', 'donchuagiao', 'tiendonchuagiao',\n",
       "       'orderdate', 'channels', 'inserted_at', 'trangthaigiaohang', 'manvgh',\n",
       "       'deli_last_updated', 'debtincharge_v2'],\n",
       "      dtype='object')"
      ]
     },
     "execution_count": 26,
     "metadata": {},
     "output_type": "execute_result"
    }
   ],
   "source": [
    "df1a.columns"
   ]
  },
  {
   "cell_type": "code",
   "execution_count": 22,
   "metadata": {},
   "outputs": [
    {
     "data": {
      "text/plain": [
       "(1941, 45)"
      ]
     },
     "execution_count": 22,
     "metadata": {},
     "output_type": "execute_result"
    }
   ],
   "source": [
    "df1b.shape"
   ]
  },
  {
   "cell_type": "code",
   "execution_count": 58,
   "metadata": {},
   "outputs": [],
   "source": [
    "dfs_diff(df1a,df1b).to_clipboard()"
   ]
  },
  {
   "cell_type": "code",
   "execution_count": null,
   "metadata": {},
   "outputs": [],
   "source": []
  }
 ],
 "metadata": {
  "interpreter": {
   "hash": "f94d6dad5013d632e8b52fc362848c71d5234e1d7ba23afa22c3a2e55512dabd"
  },
  "kernelspec": {
   "display_name": "Python 3.9.6 ('venv': venv)",
   "language": "python",
   "name": "python3"
  },
  "language_info": {
   "codemirror_mode": {
    "name": "ipython",
    "version": 3
   },
   "file_extension": ".py",
   "mimetype": "text/x-python",
   "name": "python",
   "nbconvert_exporter": "python",
   "pygments_lexer": "ipython3",
   "version": "3.9.6"
  },
  "orig_nbformat": 4
 },
 "nbformat": 4,
 "nbformat_minor": 2
}
