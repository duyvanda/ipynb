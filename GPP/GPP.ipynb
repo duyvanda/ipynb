{
 "cells": [
  {
   "cell_type": "code",
   "execution_count": 1,
   "metadata": {},
   "outputs": [
    {
     "name": "stdout",
     "output_type": "stream",
     "text": [
      "Default bq project:  spatial-vision-343005.biteam\n"
     ]
    }
   ],
   "source": [
    "from utils.df_handle import *"
   ]
  },
  {
   "cell_type": "code",
   "execution_count": 33,
   "metadata": {},
   "outputs": [],
   "source": [
    "df = pd.read_csv('GPP_19_09_2022.csv', low_memory=False)"
   ]
  },
  {
   "cell_type": "code",
   "execution_count": 34,
   "metadata": {},
   "outputs": [],
   "source": [
    "df.columns = lower_col(df)\n",
    "df.columns = cleancols(df)"
   ]
  },
  {
   "cell_type": "code",
   "execution_count": 35,
   "metadata": {},
   "outputs": [],
   "source": [
    "df.thoihanhieulucgdpgpp.fillna(\"1\", inplace=True)"
   ]
  },
  {
   "cell_type": "code",
   "execution_count": 36,
   "metadata": {},
   "outputs": [],
   "source": [
    "df.ngaycapdudkkdd.fillna(\"1\", inplace=True)"
   ]
  },
  {
   "cell_type": "code",
   "execution_count": 82,
   "metadata": {},
   "outputs": [],
   "source": [
    "df_time = pd.DataFrame(df.thoihanhieulucgdpgpp)"
   ]
  },
  {
   "cell_type": "code",
   "execution_count": 84,
   "metadata": {},
   "outputs": [
    {
     "data": {
      "text/html": [
       "<div>\n",
       "<style scoped>\n",
       "    .dataframe tbody tr th:only-of-type {\n",
       "        vertical-align: middle;\n",
       "    }\n",
       "\n",
       "    .dataframe tbody tr th {\n",
       "        vertical-align: top;\n",
       "    }\n",
       "\n",
       "    .dataframe thead th {\n",
       "        text-align: right;\n",
       "    }\n",
       "</style>\n",
       "<table border=\"1\" class=\"dataframe\">\n",
       "  <thead>\n",
       "    <tr style=\"text-align: right;\">\n",
       "      <th></th>\n",
       "      <th>thoihanhieulucgdpgpp</th>\n",
       "    </tr>\n",
       "  </thead>\n",
       "  <tbody>\n",
       "    <tr>\n",
       "      <th>0</th>\n",
       "      <td>45807</td>\n",
       "    </tr>\n",
       "    <tr>\n",
       "      <th>1</th>\n",
       "      <td>44746</td>\n",
       "    </tr>\n",
       "    <tr>\n",
       "      <th>2</th>\n",
       "      <td>44774</td>\n",
       "    </tr>\n",
       "    <tr>\n",
       "      <th>3</th>\n",
       "      <td>44695</td>\n",
       "    </tr>\n",
       "    <tr>\n",
       "      <th>4</th>\n",
       "      <td>1</td>\n",
       "    </tr>\n",
       "  </tbody>\n",
       "</table>\n",
       "</div>"
      ],
      "text/plain": [
       "  thoihanhieulucgdpgpp\n",
       "0                45807\n",
       "1                44746\n",
       "2                44774\n",
       "3                44695\n",
       "4                    1"
      ]
     },
     "execution_count": 84,
     "metadata": {},
     "output_type": "execute_result"
    }
   ],
   "source": [
    "df_time.head()"
   ]
  },
  {
   "cell_type": "code",
   "execution_count": 40,
   "metadata": {},
   "outputs": [],
   "source": [
    "# dk = df.makhachhangdms == 'N01104065'"
   ]
  },
  {
   "cell_type": "code",
   "execution_count": 85,
   "metadata": {},
   "outputs": [],
   "source": [
    "dk=df_time.thoihanhieulucgdpgpp.str.contains('/')"
   ]
  },
  {
   "cell_type": "code",
   "execution_count": 86,
   "metadata": {},
   "outputs": [],
   "source": [
    "df_time1=df_time[dk].copy()\n",
    "df_time2=df_time[~dk].copy()"
   ]
  },
  {
   "cell_type": "code",
   "execution_count": 87,
   "metadata": {},
   "outputs": [
    {
     "data": {
      "text/html": [
       "<div>\n",
       "<style scoped>\n",
       "    .dataframe tbody tr th:only-of-type {\n",
       "        vertical-align: middle;\n",
       "    }\n",
       "\n",
       "    .dataframe tbody tr th {\n",
       "        vertical-align: top;\n",
       "    }\n",
       "\n",
       "    .dataframe thead th {\n",
       "        text-align: right;\n",
       "    }\n",
       "</style>\n",
       "<table border=\"1\" class=\"dataframe\">\n",
       "  <thead>\n",
       "    <tr style=\"text-align: right;\">\n",
       "      <th></th>\n",
       "      <th>thoihanhieulucgdpgpp</th>\n",
       "    </tr>\n",
       "  </thead>\n",
       "  <tbody>\n",
       "    <tr>\n",
       "      <th>0</th>\n",
       "      <td>45807</td>\n",
       "    </tr>\n",
       "    <tr>\n",
       "      <th>1</th>\n",
       "      <td>44746</td>\n",
       "    </tr>\n",
       "    <tr>\n",
       "      <th>2</th>\n",
       "      <td>44774</td>\n",
       "    </tr>\n",
       "    <tr>\n",
       "      <th>3</th>\n",
       "      <td>44695</td>\n",
       "    </tr>\n",
       "    <tr>\n",
       "      <th>4</th>\n",
       "      <td>1</td>\n",
       "    </tr>\n",
       "    <tr>\n",
       "      <th>...</th>\n",
       "      <td>...</td>\n",
       "    </tr>\n",
       "    <tr>\n",
       "      <th>31891</th>\n",
       "      <td>45825</td>\n",
       "    </tr>\n",
       "    <tr>\n",
       "      <th>31892</th>\n",
       "      <td>45718</td>\n",
       "    </tr>\n",
       "    <tr>\n",
       "      <th>31893</th>\n",
       "      <td>45808</td>\n",
       "    </tr>\n",
       "    <tr>\n",
       "      <th>31894</th>\n",
       "      <td>45495</td>\n",
       "    </tr>\n",
       "    <tr>\n",
       "      <th>31895</th>\n",
       "      <td>45267</td>\n",
       "    </tr>\n",
       "  </tbody>\n",
       "</table>\n",
       "<p>31838 rows × 1 columns</p>\n",
       "</div>"
      ],
      "text/plain": [
       "      thoihanhieulucgdpgpp\n",
       "0                    45807\n",
       "1                    44746\n",
       "2                    44774\n",
       "3                    44695\n",
       "4                        1\n",
       "...                    ...\n",
       "31891                45825\n",
       "31892                45718\n",
       "31893                45808\n",
       "31894                45495\n",
       "31895                45267\n",
       "\n",
       "[31838 rows x 1 columns]"
      ]
     },
     "execution_count": 87,
     "metadata": {},
     "output_type": "execute_result"
    }
   ],
   "source": [
    "df_time2"
   ]
  },
  {
   "cell_type": "code",
   "execution_count": 68,
   "metadata": {},
   "outputs": [],
   "source": [
    "df1['M'] = df1.thoihanhieulucgdpgpp.str.split('/', expand=True)[0].astype('int')\n",
    "df1['Y'] = df1.thoihanhieulucgdpgpp.str.split('/', expand=True)[1].astype('int')"
   ]
  },
  {
   "cell_type": "code",
   "execution_count": 69,
   "metadata": {},
   "outputs": [],
   "source": [
    "df1['D']=1"
   ]
  },
  {
   "cell_type": "code",
   "execution_count": 64,
   "metadata": {},
   "outputs": [
    {
     "data": {
      "text/plain": [
       "10520    2023\n",
       "10593    2023\n",
       "10610    2022\n",
       "10613    2023\n",
       "10614    2023\n",
       "10622    2023\n",
       "10624    2022\n",
       "10629    2023\n",
       "10631    2023\n",
       "10633    2023\n",
       "10634    2024\n",
       "10638    2023\n",
       "10642    2022\n",
       "10645    2024\n",
       "10651    2022\n",
       "10671    2024\n",
       "10673    2023\n",
       "10680    2023\n",
       "10702    2023\n",
       "10718    2021\n",
       "10719    2022\n",
       "10736    2023\n",
       "10739    2024\n",
       "10742    2023\n",
       "10744    2022\n",
       "10748    2024\n",
       "10750    2023\n",
       "10756    2022\n",
       "10757    2023\n",
       "10758    2023\n",
       "10762    2023\n",
       "10764    2023\n",
       "10776    2023\n",
       "10783    2023\n",
       "10788    2023\n",
       "10801    2022\n",
       "10803    2023\n",
       "10815    2023\n",
       "10825    2024\n",
       "10826    2023\n",
       "10829    2023\n",
       "10834    2023\n",
       "10840    2022\n",
       "10844    2022\n",
       "10846    2022\n",
       "10851    2022\n",
       "10868    2023\n",
       "10871    2022\n",
       "10872    2022\n",
       "10878    2022\n",
       "10886    2023\n",
       "10894    2023\n",
       "10899    2023\n",
       "10908    2023\n",
       "10909    2023\n",
       "10912    2023\n",
       "10915    2023\n",
       "10927    2023\n",
       "Name: 1, dtype: int32"
      ]
     },
     "execution_count": 64,
     "metadata": {},
     "output_type": "execute_result"
    }
   ],
   "source": [
    "df1.thoihanhieulucgdpgpp1"
   ]
  },
  {
   "cell_type": "code",
   "execution_count": 70,
   "metadata": {},
   "outputs": [],
   "source": [
    "df1['thoihanhieulucgdpgpp3']=pd.to_datetime((df1.Y*10000+df1.M*100+df1.D).apply(str),format='%Y%m%d')"
   ]
  },
  {
   "cell_type": "code",
   "execution_count": 71,
   "metadata": {},
   "outputs": [
    {
     "data": {
      "text/plain": [
       "10520   2023-09-01\n",
       "10593   2023-04-01\n",
       "10610   2022-05-01\n",
       "10613   2023-02-01\n",
       "10614   2023-07-01\n",
       "10622   2023-06-01\n",
       "10624   2022-11-01\n",
       "10629   2023-04-01\n",
       "10631   2023-12-01\n",
       "10633   2023-12-01\n",
       "10634   2024-03-01\n",
       "10638   2023-03-01\n",
       "10642   2022-05-01\n",
       "10645   2024-04-01\n",
       "10651   2022-12-01\n",
       "10671   2024-01-01\n",
       "10673   2023-09-01\n",
       "10680   2023-07-01\n",
       "10702   2023-05-01\n",
       "10718   2021-09-01\n",
       "10719   2022-05-01\n",
       "10736   2023-09-01\n",
       "10739   2024-03-01\n",
       "10742   2023-05-01\n",
       "10744   2022-05-01\n",
       "10748   2024-03-01\n",
       "10750   2023-09-01\n",
       "10756   2022-04-01\n",
       "10757   2023-07-01\n",
       "10758   2023-09-01\n",
       "10762   2023-05-01\n",
       "10764   2023-09-01\n",
       "10776   2023-09-01\n",
       "10783   2023-09-01\n",
       "10788   2023-05-01\n",
       "10801   2022-04-01\n",
       "10803   2023-11-01\n",
       "10815   2023-06-01\n",
       "10825   2024-03-01\n",
       "10826   2023-05-01\n",
       "10829   2023-06-01\n",
       "10834   2023-09-01\n",
       "10840   2022-06-01\n",
       "10844   2022-09-01\n",
       "10846   2022-06-01\n",
       "10851   2022-06-01\n",
       "10868   2023-03-01\n",
       "10871   2022-07-01\n",
       "10872   2022-07-01\n",
       "10878   2022-05-01\n",
       "10886   2023-05-01\n",
       "10894   2023-05-01\n",
       "10899   2023-05-01\n",
       "10908   2023-05-01\n",
       "10909   2023-09-01\n",
       "10912   2023-05-01\n",
       "10915   2023-05-01\n",
       "10927   2023-04-01\n",
       "Name: thoihanhieulucgdpgpp3, dtype: datetime64[ns]"
      ]
     },
     "execution_count": 71,
     "metadata": {},
     "output_type": "execute_result"
    }
   ],
   "source": [
    "df1['thoihanhieulucgdpgpp3']"
   ]
  },
  {
   "cell_type": "code",
   "execution_count": 28,
   "metadata": {},
   "outputs": [
    {
     "data": {
      "text/plain": [
       "0    45807\n",
       "1    44746\n",
       "2    44774\n",
       "3    44695\n",
       "4        1\n",
       "Name: thoihanhieulucgdpgpp, dtype: object"
      ]
     },
     "execution_count": 28,
     "metadata": {},
     "output_type": "execute_result"
    }
   ],
   "source": [
    "df.thoihanhieulucgdpgpp.head(5)"
   ]
  },
  {
   "cell_type": "code",
   "execution_count": null,
   "metadata": {},
   "outputs": [],
   "source": []
  }
 ],
 "metadata": {
  "kernelspec": {
   "display_name": "Python 3.8.10 ('venv': venv)",
   "language": "python",
   "name": "python3"
  },
  "language_info": {
   "codemirror_mode": {
    "name": "ipython",
    "version": 3
   },
   "file_extension": ".py",
   "mimetype": "text/x-python",
   "name": "python",
   "nbconvert_exporter": "python",
   "pygments_lexer": "ipython3",
   "version": "3.8.10"
  },
  "orig_nbformat": 4,
  "vscode": {
   "interpreter": {
    "hash": "8fb55849e6741974ce442ee684e971e1b6b22c29ca2b25c3b9069bf531e0354a"
   }
  }
 },
 "nbformat": 4,
 "nbformat_minor": 2
}
