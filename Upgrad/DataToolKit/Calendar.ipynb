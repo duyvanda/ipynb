{
 "cells": [
  {
   "cell_type": "code",
   "execution_count": null,
   "metadata": {},
   "outputs": [],
   "source": [
    "#taking input\n",
    "import ast\n",
    "input_str1 = input()\n",
    "input_list1 = ast.literal_eval(input_str1)\n",
    "events = input_list1\n",
    "\n",
    "wedding = int(input())\n",
    "\n",
    "\n",
    "#start writing from here"
   ]
  },
  {
   "cell_type": "code",
   "execution_count": 1,
   "metadata": {},
   "outputs": [],
   "source": [
    "clash = 0\n",
    "for event in events:\n",
    "    if event[0] <= wedding and event[1]>=wedding:\n",
    "        clash=clash+1\n",
    "\n",
    "print(clash)"
   ]
  },
  {
   "cell_type": "code",
   "execution_count": 3,
   "metadata": {},
   "outputs": [
    {
     "name": "stdout",
     "output_type": "stream",
     "text": [
      "     0        1            2   3   4   5\n",
      "0    1   Akshay  Mathematics  50  40  80\n",
      "1    2   Mahima      English  40  33  83\n",
      "2    3    Vikas  Mathematics  50  42  84\n",
      "3    4  Abhinav      English  40  31  78\n",
      "4    5   Mahima      Science  50  40  80\n",
      "5    6   Akshay      Science  50  49  98\n",
      "6    7  Abhinav  Mathematics  50  47  94\n",
      "7    8    Vikas      Science  50  40  80\n",
      "8    9  Abhinav      Science  50  47  94\n",
      "9   10    Vikas      English  40  39  98\n",
      "10  11   Akshay      English  40  35  88\n",
      "11  12   Mahima  Mathematics  50  43  86\n"
     ]
    }
   ],
   "source": [
    "import numpy as np\n",
    "import pandas as pd\n",
    "\n",
    "input_str1 = input()\n",
    "# The file is stored at the following path:\n",
    "# 'https://media-doselect.s3.amazonaws.com/generic/A08MajL8qN4rq72EpVJbAP1Rw/marks_1.csv'\n",
    "# Provide your answer below\n",
    "df = pd.read_csv(input_str1, sep='|', header=None)\n",
    "\n",
    "# Write your answer here\n",
    "\n",
    "print(df)"
   ]
  },
  {
   "cell_type": "code",
   "execution_count": null,
   "metadata": {},
   "outputs": [],
   "source": []
  }
 ],
 "metadata": {
  "kernelspec": {
   "display_name": "Python 3.8.10 ('venv': venv)",
   "language": "python",
   "name": "python3"
  },
  "language_info": {
   "codemirror_mode": {
    "name": "ipython",
    "version": 3
   },
   "file_extension": ".py",
   "mimetype": "text/x-python",
   "name": "python",
   "nbconvert_exporter": "python",
   "pygments_lexer": "ipython3",
   "version": "3.8.10"
  },
  "orig_nbformat": 4,
  "vscode": {
   "interpreter": {
    "hash": "8fb55849e6741974ce442ee684e971e1b6b22c29ca2b25c3b9069bf531e0354a"
   }
  }
 },
 "nbformat": 4,
 "nbformat_minor": 2
}
