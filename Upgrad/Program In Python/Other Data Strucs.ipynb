{
 "cells": [
  {
   "cell_type": "code",
   "execution_count": null,
   "metadata": {},
   "outputs": [],
   "source": [
    "import ast\n",
    "\n",
    "mylist = ast.literal_eval(input())\n",
    "\n",
    "d = {}\n",
    "\n",
    "for item in mylist:\n",
    "    if item not in d:\n",
    "        d[item]=1\n",
    "    else:\n",
    "        d[item]=d[item]+1\n",
    "\n",
    "print(list(d.keys()))"
   ]
  },
  {
   "cell_type": "code",
   "execution_count": null,
   "metadata": {},
   "outputs": [],
   "source": [
    "import ast\n",
    "\n",
    "input_str = input()\n",
    "\n",
    "input_dict = ast.literal_eval(input_str)\n",
    "\n",
    "final_list = []\n",
    "\n",
    "for key in input_dict.keys():\n",
    "    for word in input_dict[key]:\n",
    "        final_list.append(str(key)+'_'+str(word))\n",
    "\n",
    "print(final_list)"
   ]
  },
  {
   "cell_type": "code",
   "execution_count": null,
   "metadata": {},
   "outputs": [],
   "source": [
    "s = input()\n",
    "\n",
    "d={}\n",
    "\n",
    "for i in s:\n",
    "    if i not in d:\n",
    "        d[i] = 1\n",
    "    else:\n",
    "        d[i] = d[i]+1\n",
    "\n",
    "vals = d.values()\n",
    "\n",
    "n = len(d)\n",
    "\n",
    "def upgrad_string(vals):\n",
    "    for i in range(1, n+1):\n",
    "        if i not in vals:\n",
    "            return False\n",
    "        return True\n",
    "\n",
    "print(upgrad_string(vals))"
   ]
  },
  {
   "cell_type": "code",
   "execution_count": null,
   "metadata": {},
   "outputs": [],
   "source": [
    "inp = input()\n",
    "\n",
    "stack = []\n",
    "\n",
    "for i in inp:\n",
    "    if len(stack)==0:\n",
    "        stack.append(i)\n",
    "    else:\n",
    "        if i == ')' and stack[-1] == '(':\n",
    "            stack.pop()\n",
    "        elif i == '}' and stack[-1] == '{':\n",
    "            stack.pop()\n",
    "        elif i == ']' and stack[-1] == '[':\n",
    "            stack.pop()\n",
    "        else:\n",
    "            stack.append(i)\n",
    "\n",
    "if stack:\n",
    "    print('No')\n",
    "else:\n",
    "    print('Yes')"
   ]
  },
  {
   "cell_type": "code",
   "execution_count": 1,
   "metadata": {},
   "outputs": [],
   "source": [
    "sql = \\\n",
    "\"\"\"\n",
    "select * from biteam.d_calendar where thang = '2022-11-01' and htbh = 'INS' and manv in ('MR2057','MR1510','MR1711','MR2487')\n",
    "\"\"\""
   ]
  },
  {
   "cell_type": "code",
   "execution_count": 2,
   "metadata": {},
   "outputs": [
    {
     "name": "stdout",
     "output_type": "stream",
     "text": [
      "Default bq project:  spatial-vision-343005.biteam\n"
     ]
    }
   ],
   "source": [
    "from utils.df_handle import *"
   ]
  },
  {
   "cell_type": "code",
   "execution_count": 3,
   "metadata": {},
   "outputs": [],
   "source": [
    "df = get_bq_df(sql)"
   ]
  },
  {
   "cell_type": "code",
   "execution_count": null,
   "metadata": {},
   "outputs": [],
   "source": [
    "df"
   ]
  }
 ],
 "metadata": {
  "kernelspec": {
   "display_name": "Python 3.8.10 ('venv': venv)",
   "language": "python",
   "name": "python3"
  },
  "language_info": {
   "codemirror_mode": {
    "name": "ipython",
    "version": 3
   },
   "file_extension": ".py",
   "mimetype": "text/x-python",
   "name": "python",
   "nbconvert_exporter": "python",
   "pygments_lexer": "ipython3",
   "version": "3.8.10"
  },
  "orig_nbformat": 4,
  "vscode": {
   "interpreter": {
    "hash": "8fb55849e6741974ce442ee684e971e1b6b22c29ca2b25c3b9069bf531e0354a"
   }
  }
 },
 "nbformat": 4,
 "nbformat_minor": 2
}
