{
 "cells": [
  {
   "cell_type": "code",
   "execution_count": null,
   "metadata": {},
   "outputs": [],
   "source": [
    "import ast\n",
    "\n",
    "mylist = ast.literal_eval(input())\n",
    "\n",
    "d = {}\n",
    "\n",
    "for item in mylist:\n",
    "    if item not in d:\n",
    "        d[item]=1\n",
    "    else:\n",
    "        d[item]=d[item]+1\n",
    "\n",
    "print(list(d.keys()))"
   ]
  },
  {
   "cell_type": "code",
   "execution_count": null,
   "metadata": {},
   "outputs": [],
   "source": [
    "import ast\n",
    "\n",
    "input_str = input()\n",
    "\n",
    "input_dict = ast.literal_eval(input_str)\n",
    "\n",
    "final_list = []\n",
    "\n",
    "for key in input_dict.keys():\n",
    "    for word in input_dict[key]:\n",
    "        final_list.append(str(key)+'_'+str(word))\n",
    "\n",
    "print(final_list)"
   ]
  }
 ],
 "metadata": {
  "kernelspec": {
   "display_name": "Python 3.8.10 ('.venv': venv)",
   "language": "python",
   "name": "python3"
  },
  "language_info": {
   "name": "python",
   "version": "3.8.10"
  },
  "orig_nbformat": 4,
  "vscode": {
   "interpreter": {
    "hash": "2f7783c49b9a8184901e116846ea757fcbb03d436b976c07f809b907baa19904"
   }
  }
 },
 "nbformat": 4,
 "nbformat_minor": 2
}
