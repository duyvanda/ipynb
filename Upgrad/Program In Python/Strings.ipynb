{
 "cells": [
  {
   "cell_type": "code",
   "execution_count": 1,
   "metadata": {},
   "outputs": [
    {
     "name": "stdout",
     "output_type": "stream",
     "text": [
      "3\n"
     ]
    }
   ],
   "source": [
    "print(chr(51))"
   ]
  },
  {
   "cell_type": "code",
   "execution_count": null,
   "metadata": {},
   "outputs": [],
   "source": [
    "s = input()\n",
    "s = s.lower()\n",
    "r=\"\"\n",
    "for i in s:\n",
    "    r = i + r\n",
    "\n",
    "if r==s:\n",
    "    print(1)\n",
    "else:\n",
    "    print(0)"
   ]
  },
  {
   "cell_type": "code",
   "execution_count": null,
   "metadata": {},
   "outputs": [],
   "source": [
    "sentence = input()\n",
    "\n",
    "words = sentence.split(' ')\n",
    "words.reverse()\n",
    "final_string = ' '.join(words)\n",
    "print(final_string)"
   ]
  },
  {
   "cell_type": "code",
   "execution_count": null,
   "metadata": {},
   "outputs": [],
   "source": [
    "s = input()\n",
    "s = s.lower()\n",
    "words = s.split(' ')\n",
    "final_list =  [word.title() for word in words]\n",
    "final_string = '_'.join(final_list)\n",
    "print(final_string)"
   ]
  },
  {
   "cell_type": "code",
   "execution_count": 2,
   "metadata": {},
   "outputs": [],
   "source": [
    "s = input()\n",
    "vowels = \"aeiouAEIOU\"\n",
    "v=\"\"\n",
    "o=\"\"\n",
    "\n",
    "for i in s:\n",
    "    if i in vowels:\n",
    "        v=v+i\n",
    "    else:\n",
    "        o=o+i\n",
    "\n",
    "final_string = v + o\n",
    "print(final_string)"
   ]
  },
  {
   "cell_type": "code",
   "execution_count": null,
   "metadata": {},
   "outputs": [],
   "source": [
    "string1=input()\n",
    "string2=input()\n",
    "\n",
    "string1 = string1.lower()\n",
    "string2 = string2.lower()\n",
    "\n",
    "l1 = len(string1)\n",
    "l2 = len(string2)\n",
    "min_len = min (l1,l2)\n",
    "\n",
    "for i in range(min_len):\n",
    "    if string1[i] != string2[i]:\n",
    "        break\n",
    "\n",
    "if i == 0:\n",
    "    print(-1)\n",
    "else:\n",
    "    print(string1[:i])"
   ]
  },
  {
   "cell_type": "code",
   "execution_count": 3,
   "metadata": {},
   "outputs": [],
   "source": [
    "s1=input()\n",
    "s2=input()\n",
    "\n",
    "def anagram(s1, s2):\n",
    "    if len(s1) != len(s2):\n",
    "        return False\n",
    "    for i in range(len(s1)):\n",
    "        if s1.count(s1[i]) != s2.count(s1[i]):\n",
    "            return False\n",
    "    return True\n",
    "\n",
    "print(anagram(s1,s2))"
   ]
  },
  {
   "cell_type": "code",
   "execution_count": null,
   "metadata": {},
   "outputs": [
    {
     "ename": "",
     "evalue": "",
     "output_type": "error",
     "traceback": [
      "\u001b[1;31mRunning cells with 'Python 3.8.10 64-bit (microsoft store)' requires ipykernel package.\n",
      "\u001b[1;31mRun the following command to install 'ipykernel' into the Python environment. \n",
      "\u001b[1;31mCommand: '\"c:/Users/Duy Van Quang/AppData/Local/Microsoft/WindowsApps/python3.8.exe\" -m pip install ipykernel -U --force-reinstall'"
     ]
    }
   ],
   "source": [
    "d={'a':64, 'b':65, 'c':66, 'd':67}\n",
    "print(d.keys())"
   ]
  },
  {
   "cell_type": "code",
   "execution_count": 1,
   "metadata": {},
   "outputs": [
    {
     "name": "stdout",
     "output_type": "stream",
     "text": [
      "dict_keys(['a', 'b', 'c', 'd'])\n"
     ]
    }
   ],
   "source": [
    "d={'a':64, 'b':65, 'c':66, 'd':67}\n",
    "print(d.keys())"
   ]
  },
  {
   "cell_type": "code",
   "execution_count": null,
   "metadata": {},
   "outputs": [],
   "source": []
  }
 ],
 "metadata": {
  "kernelspec": {
   "display_name": "Python 3.8.10 ('venv': venv)",
   "language": "python",
   "name": "python3"
  },
  "language_info": {
   "codemirror_mode": {
    "name": "ipython",
    "version": 3
   },
   "file_extension": ".py",
   "mimetype": "text/x-python",
   "name": "python",
   "nbconvert_exporter": "python",
   "pygments_lexer": "ipython3",
   "version": "3.8.10"
  },
  "orig_nbformat": 4,
  "vscode": {
   "interpreter": {
    "hash": "8fb55849e6741974ce442ee684e971e1b6b22c29ca2b25c3b9069bf531e0354a"
   }
  }
 },
 "nbformat": 4,
 "nbformat_minor": 2
}
