{
 "cells": [
  {
   "cell_type": "code",
   "execution_count": 1,
   "metadata": {},
   "outputs": [
    {
     "name": "stdout",
     "output_type": "stream",
     "text": [
      "Default bq project:  spatial-vision-343005.biteam\n"
     ]
    }
   ],
   "source": [
    "from utils.df_handle import *"
   ]
  },
  {
   "cell_type": "code",
   "execution_count": 2,
   "metadata": {},
   "outputs": [],
   "source": [
    "sql = \\\n",
    "\"\"\"\n",
    "select\n",
    "pso.BranchID,\n",
    "pso.OrderNbr,\n",
    "OriOrderNbr = pso.OrderNbr,\n",
    "pso.CustID,\n",
    "pso.InvcNbr,\n",
    "pso.InvcNote,\n",
    "pso.Crtd_User,\n",
    "pso.Status as soStatus,\n",
    "pso.OrderType,\n",
    "oo.ARDocType,\n",
    "oo.Descr,\n",
    "pso.Crtd_Prog,\n",
    "pso.PaymentsForm,\n",
    "pso.BranchRouteID,\n",
    "pso.SalesRouteID,\n",
    "pso.InsertFrom,\n",
    "pso.Remark,\n",
    "psod.LineQty,\n",
    "psod.LineRef,\n",
    "psod.SlsPerID,\n",
    "psod.Invtid,\n",
    "psod.FreeItem,\n",
    "psod.BeforeVATPrice,\n",
    "psod.AfterVATPrice,\n",
    "psod.BeforeVATAmount,\n",
    "psod.AfterVATAmount,\n",
    "dvvc = '',\n",
    "manvgh = '',\n",
    "dStatus = 'Theo SO',\n",
    "pso.Crtd_DateTime as post_time,\n",
    "pso.Crtd_User as post_user,\n",
    "ho.ErrorMessage as pending_reason,\n",
    "approve_time = '',\n",
    "approve_user = '',\n",
    "invoice_time = '',\n",
    "invoice_user = '',\n",
    "booked_time = '',\n",
    "booked_user = '',\n",
    "ready_to_ship_time = '',\n",
    "rts_user = '',\n",
    "delivered_time = '',\n",
    "delivered_user = ''\n",
    "--datediff(minute, pso.Crtd_DateTime, pso.LUpd_DateTime) as leadtime_t0_minute,\n",
    "--datediff(minute, pso.LUpd_DateTime, iv.LUpd_DateTime) as leadtime_t1_minute,\n",
    "--datediff(minute, iv.LUpd_DateTime, ib.LUpd_DateTime) as leadtime_t2_minute,\n",
    "--datediff(minute, ib.LUpd_DateTime, ib.LUpd_DateTime) as leadtime_t3_minute,\n",
    "--datediff(minute, ib.LUpd_DateTime, ib.LUpd_DateTime) as leadtime_t4_minute,\n",
    "--datediff(minute, pso.Crtd_DateTime, ib.LUpd_DateTime) as leadtime_full_minute\n",
    "from OM_PDASalesOrd as pso WITH(NOLOCK)\n",
    "INNER JOIN dbo.OM_PDASalesOrdDet psod WITH(NOLOCK) ON \n",
    "psod.BranchID = pso.BranchID AND psod.OrderNbr = pso.OrderNbr\n",
    "INNER JOIN dbo.OM_OrderType oo WITH(NOLOCK) ON oo.OrderType = pso.OrderType\n",
    "LEFT JOIN API_HistoryOM205 ho WITH(NOLOCK) ON\n",
    "pso.BranchID = ho.BranchID and\n",
    "pso.OrderNbr = ho.OrderNbr\n",
    "and ho.Status = 'E'\n",
    "where pso.Crtd_DateTime >= '2022-04-01'\n",
    "and pso.Status != 'C'\n",
    "\"\"\""
   ]
  },
  {
   "cell_type": "code",
   "execution_count": 3,
   "metadata": {},
   "outputs": [
    {
     "name": "stderr",
     "output_type": "stream",
     "text": [
      "1it [00:05,  5.64s/it]\n"
     ]
    }
   ],
   "source": [
    "f_master_order_pn_chuaduyet = get_ms_df(sql)\n",
    "bq_values_insert(f_master_order_pn_chuaduyet, \"f_master_order_pn_chuaduyet\", 3)"
   ]
  },
  {
   "cell_type": "code",
   "execution_count": null,
   "metadata": {},
   "outputs": [],
   "source": []
  }
 ],
 "metadata": {
  "interpreter": {
   "hash": "dff776f8cf9899793f9a0f4d147d4ee0e914dc3f9ff7764d86dd5f5383f5f250"
  },
  "kernelspec": {
   "display_name": "Python 3.9.6 ('venv': venv)",
   "language": "python",
   "name": "python3"
  },
  "language_info": {
   "codemirror_mode": {
    "name": "ipython",
    "version": 3
   },
   "file_extension": ".py",
   "mimetype": "text/x-python",
   "name": "python",
   "nbconvert_exporter": "python",
   "pygments_lexer": "ipython3",
   "version": "3.9.6"
  },
  "orig_nbformat": 4
 },
 "nbformat": 4,
 "nbformat_minor": 2
}
