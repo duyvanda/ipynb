{
 "cells": [
  {
   "cell_type": "code",
   "execution_count": 3,
   "metadata": {},
   "outputs": [
    {
     "name": "stdout",
     "output_type": "stream",
     "text": [
      "Default bq project:  spatial-vision-343005.biteam\n"
     ]
    }
   ],
   "source": [
    "from utils.df_handle import *"
   ]
  },
  {
   "cell_type": "code",
   "execution_count": 4,
   "metadata": {},
   "outputs": [],
   "source": [
    "sql = \\\n",
    "\"\"\"\n",
    "DECLARE @from DATE = '2022-04-01'\n",
    "DECLARE @to DATE = '2022-05-09'\n",
    "select\n",
    "so.BranchID,\n",
    "so.OrderNbr,\n",
    "so.OrigOrderNbr,\n",
    "so.CustID,\n",
    "so.InvcNbr,\n",
    "so.InvcNote,\n",
    "so.Status as soStatus,\n",
    "so.OrderType,\n",
    "oo.ARDocType,\n",
    "oo.Descr,\n",
    "pso.Crtd_Prog,\n",
    "so.PaymentsForm,\n",
    "pso.BranchRouteID,\n",
    "pso.SalesRouteID,\n",
    "pso.InsertFrom,\n",
    "so.Remark,\n",
    "sod.LineQty,\n",
    "sod.LineRef,\n",
    "sod.SlsPerID,\n",
    "sod.Invtid,\n",
    "sod.FreeItem,\n",
    "sod.BeforeVATPrice,\n",
    "sod.AfterVATPrice,\n",
    "sod.BeforeVATAmount,\n",
    "sod.AfterVATAmount,\n",
    "dvvc = '',\n",
    "manvgh = '',\n",
    "dStatus = 'NoBook',\n",
    "pso.Crtd_DateTime as post_time,\n",
    "pso.Crtd_User as post_user,\n",
    "ho.ErrorMessage as pending_reason,\n",
    "pso.LUpd_DateTime as approve_time,\n",
    "pso.LUpd_User as approve_user,\n",
    "iv.LUpd_DateTime as invoice_time,\n",
    "iv.LUpd_User as invoice_user,\n",
    "booked_time = '',\n",
    "booked_user = '',\n",
    "ready_to_ship_time = '',\n",
    "rts_user = '',\n",
    "delivered_time = '',\n",
    "delivered_user = ''\n",
    "--datediff(minute, pso.Crtd_DateTime, pso.LUpd_DateTime) as leadtime_t0_minute,\n",
    "--datediff(minute, pso.LUpd_DateTime, iv.LUpd_DateTime) as leadtime_t1_minute,\n",
    "--datediff(minute, iv.LUpd_DateTime, ib.LUpd_DateTime) as leadtime_t2_minute,\n",
    "--datediff(minute, ib.LUpd_DateTime, ib.LUpd_DateTime) as leadtime_t3_minute,\n",
    "--datediff(minute, ib.LUpd_DateTime, ib.LUpd_DateTime) as leadtime_t4_minute,\n",
    "--datediff(minute, pso.Crtd_DateTime, ib.LUpd_DateTime) as leadtime_full_minute\n",
    "from OM_SalesOrd so WITH(NOLOCK)\n",
    "INNER JOIN OM_PDASalesOrd pso WITH(NOLOCK) ON\n",
    "pso.BranchID = so.BranchID and\n",
    "pso.OrderNbr = so.OrigOrderNbr and\n",
    "Cast(pso.Crtd_DateTime as date) >= @from\n",
    "INNER JOIN dbo.OM_OrderType oo WITH(NOLOCK) ON oo.OrderType = so.OrderType\n",
    "INNER JOIN dbo.OM_SalesOrdDet sod WITH(NOLOCK) ON \n",
    "so.BranchID = sod.BranchID AND sod.OrderNbr = so.OrderNbr\n",
    "LEFT JOIN OM_Issuebookdet ibd WITH(NOLOCK) ON\n",
    "so.BranchID = ibd.BranchID and\n",
    "so.OrigOrderNbr = ibd.OrderNbr\n",
    "LEFT JOIN OM_Issuebook ib WITH(NOLOCK) ON\n",
    "ibd.BranchID = ib.BranchID and\n",
    "ibd.BatNbr = ib.BatNbr\n",
    "LEFT JOIN OM_Invoice iv WITH(NOLOCK) ON\n",
    "so.BranchID = iv.BranchID and\n",
    "so.InvcNbr = iv.InvcNbr and\n",
    "so.InvcNote = iv.InvcNote and\n",
    "so.ARRefNbr = iv.RefNbr\n",
    "LEFT JOIN API_HistoryOM205 ho WITH(NOLOCK) ON\n",
    "so.BranchID = ho.BranchID and\n",
    "so.OrigOrderNbr = ho.OrderNbr\n",
    "and ho.Status = 'E'\n",
    "where\n",
    "so.Status = 'C'\n",
    "and ib.OrderNbr IS NULL\n",
    "--and Cast(so.LUpd_DateTime as date) >= @from\n",
    "--and Cast(so.LUpd_DateTime as date) <= @to\n",
    "\n",
    "\"\"\""
   ]
  },
  {
   "cell_type": "code",
   "execution_count": 5,
   "metadata": {},
   "outputs": [
    {
     "name": "stderr",
     "output_type": "stream",
     "text": [
      "1it [00:02,  2.68s/it]\n"
     ]
    }
   ],
   "source": [
    "f_master_order_pn_chuataoso = get_ms_df(sql)\n",
    "bq_values_insert(f_master_order_pn_chuataoso, \"f_master_order_pn_chuataoso\", 3)"
   ]
  },
  {
   "cell_type": "code",
   "execution_count": null,
   "metadata": {},
   "outputs": [],
   "source": []
  }
 ],
 "metadata": {
  "interpreter": {
   "hash": "dff776f8cf9899793f9a0f4d147d4ee0e914dc3f9ff7764d86dd5f5383f5f250"
  },
  "kernelspec": {
   "display_name": "Python 3.9.6 ('venv': venv)",
   "language": "python",
   "name": "python3"
  },
  "language_info": {
   "codemirror_mode": {
    "name": "ipython",
    "version": 3
   },
   "file_extension": ".py",
   "mimetype": "text/x-python",
   "name": "python",
   "nbconvert_exporter": "python",
   "pygments_lexer": "ipython3",
   "version": "3.9.6"
  },
  "orig_nbformat": 4
 },
 "nbformat": 4,
 "nbformat_minor": 2
}
