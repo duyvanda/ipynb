{
 "cells": [
  {
   "cell_type": "code",
   "execution_count": 2,
   "metadata": {},
   "outputs": [
    {
     "name": "stdout",
     "output_type": "stream",
     "text": [
      "Default bq project:  spatial-vision-343005.biteam\n"
     ]
    }
   ],
   "source": [
    "from utils.df_handle import *"
   ]
  },
  {
   "cell_type": "code",
   "execution_count": 3,
   "metadata": {},
   "outputs": [],
   "source": [
    "m = datetime.now().month\n",
    "nm = m+1 if m != 12 else 1\n",
    "y = datetime.now().year\n",
    "ny = datetime.now().year if m != 12 else y+1\n",
    "# str(m) + str(y)\n",
    "fdom = datetime(y, m, 1)\n",
    "ldom = datetime(ny, nm, 1) - timedelta(days=1)\n",
    "fdom = fdom.strftime(\"%Y-%m-%d\")\n",
    "ldom = ldom.strftime(\"%Y-%m-%d\")\n",
    "my = str(m) + str(y)"
   ]
  },
  {
   "cell_type": "code",
   "execution_count": 5,
   "metadata": {},
   "outputs": [],
   "source": [
    "# fdom"
   ]
  },
  {
   "cell_type": "code",
   "execution_count": 11,
   "metadata": {},
   "outputs": [
    {
     "name": "stdout",
     "output_type": "stream",
     "text": [
      "\n",
      "SELECT a.AccessDate, u.UserName,u.FirstName,sc.ScreenNumber,sc.Descr,a.SessionNumber, a.InternetAddress, a.ComputerName, a.CompanyID\n",
      "FROM dbo.SYS_Access a\n",
      "INNER JOIN dbo.Users u ON a.UserId=u.UserName\n",
      "and u.UserTypes like '%CS%'\n",
      "INNER JOIN dbo.SYS_Screen sc ON sc.ScreenNumber=a.ScreenNumber\n",
      "WHERE CAST(a.AccessDate AS DATE) BETWEEN '2022-12-01' AND '2022-12-31'\n",
      "\n"
     ]
    }
   ],
   "source": [
    "sql = \\\n",
    "f\"\"\"\n",
    "SELECT a.AccessDate, u.UserName,u.FirstName,sc.ScreenNumber,sc.Descr,a.SessionNumber, a.InternetAddress, sc.Screentype as ComputerName, a.CompanyID\n",
    "FROM dbo.SYS_Access a\n",
    "INNER JOIN dbo.Users u ON a.UserId=u.UserName\n",
    "and u.UserTypes like '%CS%'\n",
    "INNER JOIN dbo.SYS_Screen sc ON sc.ScreenNumber=a.ScreenNumber\n",
    "WHERE CAST(a.AccessDate AS DATE) BETWEEN '{fdom}' AND '{ldom}'\n",
    "\"\"\"\n",
    "print(sql)\n",
    "df = get_ms_df(sql)\n",
    "df['my'] = my\n",
    "execute_bq_query(f\"\"\" DELETE FROM `spatial-vision-343005.biteam.d_sync_sysaccess` where my = '{my}' \"\"\")\n",
    "bq_values_insert(df, \"d_sync_sysaccess\", 2)"
   ]
  },
  {
   "cell_type": "code",
   "execution_count": 12,
   "metadata": {},
   "outputs": [],
   "source": [
    "rp_sql = \\\n",
    "\"\"\"\n",
    "SELECT [Mã Báo Cáo]=r.ReportNbr,[Tên Báo Cáo]=ISNULL(e.Name,c.Descr),r.UserID,[Tên Người Dùng]=u.FirstName,u.Position, u.UserTypes,[Ngày Xem Báo Cáo]=r.ReportDate\n",
    ", [(Param)String_1]=CASE WHEN expa.StringCap00<>'' THEN CASE WHEN r.StringParm00='' THEN dbo.fr_GetLang(1,expa.StringCap00) +':'+'ALL' ELSE dbo.fr_GetLang(1,expa.StringCap00)+':'+r.StringParm00 end ELSE CASE WHEN cp.StringCap00 <> '' THEN CASE WHEN r.StringParm00='' THEN dbo.fr_GetLang(1,cp.StringCap00)+':'+'ALL' ELSE dbo.fr_GetLang(1,cp.StringCap00)+':'+r.StringParm00 end ELSE '' END end \n",
    ", [(Param)String_2]=CASE WHEN expa.StringCap01<>'' THEN CASE WHEN r.StringParm01='' THEN dbo.fr_GetLang(1,expa.StringCap01)+':'+'ALL' ELSE dbo.fr_GetLang(1,expa.StringCap01)+':'+r.StringParm01 END  ELSE CASE WHEN cp.StringCap01 <> '' THEN CASE WHEN  r.StringParm01='' THEN dbo.fr_GetLang(1,cp.StringCap01)+':'+'ALL' ELSE dbo.fr_GetLang(1,cp.StringCap01)+':'+r.StringParm01 end ELSE '' END end \n",
    ", [(Param)String_3]=CASE WHEN expa.StringCap02<>'' THEN CASE WHEN r.StringParm02='' THEN dbo.fr_GetLang(1,expa.StringCap02)+':'+'ALL' ELSE dbo.fr_GetLang(1,expa.StringCap02)+':'+r.StringParm02 END  ELSE CASE WHEN cp.StringCap02 <> '' THEN CASE WHEN  r.StringParm02='' THEN dbo.fr_GetLang(1,cp.StringCap02)+':'+'ALL' ELSE dbo.fr_GetLang(1,cp.StringCap02)+':'+r.StringParm02 end ELSE '' END end \n",
    ", [(Param)String_4]=CASE WHEN expa.StringCap03<>'' THEN CASE WHEN r.StringParm03='' THEN dbo.fr_GetLang(1,expa.StringCap03)+':'+'ALL' ELSE dbo.fr_GetLang(1,expa.StringCap03)+':'+r.StringParm03 END ELSE CASE WHEN cp.StringCap03 <> '' THEN CASE WHEN  r.StringParm03='' THEN dbo.fr_GetLang(1,cp.StringCap03)+':'+'ALL' ELSE dbo.fr_GetLang(1,cp.StringCap03)+':'+r.StringParm03 end ELSE '' END end \n",
    ",[(Param)Date_1]=CASE WHEN expa.DateCap00<>'' THEN dbo.fr_GetLang(1,expa.DateCap00)+':'+CONVERT(VARCHAR,r.DateParm00, 103)  ELSE CASE WHEN cp.DateCap00 <> '' THEN  dbo.fr_GetLang(1,cp.DateCap00)+':'+CONVERT(VARCHAR,r.DateParm00, 103) ELSE '' END end \n",
    ",[(Param)Date_2]=CASE WHEN expa.DateCap01<>'' THEN dbo.fr_GetLang(1,expa.DateCap01)+':'+CONVERT(VARCHAR,r.DateParm01, 103)  ELSE CASE WHEN cp.DateCap01 <> '' THEN dbo.fr_GetLang(1,cp.DateCap01)+':'+CONVERT(VARCHAR,r.DateParm01, 103) ELSE '' END end \n",
    ",[(Param)Date_3]=CASE WHEN expa.DateCap02<>'' THEN dbo.fr_GetLang(1,expa.DateCap02)+':'+CONVERT(VARCHAR,r.DateParm02, 103)  ELSE CASE WHEN cp.DateCap02 <> '' THEN  dbo.fr_GetLang(1,cp.DateCap02)+':'+CONVERT(VARCHAR,r.DateParm02, 103) ELSE '' END end \n",
    ",[(Param)Date_4]=CASE WHEN expa.DateCap03<>'' THEN dbo.fr_GetLang(1,expa.DateCap03)+':'+CONVERT(VARCHAR,r.DateParm03, 103)  ELSE CASE WHEN cp.DateCap03 <> '' THEN  dbo.fr_GetLang(1,cp.DateCap03)+':'+CONVERT(VARCHAR,r.DateParm03, 103) ELSE '' END end \n",
    " \n",
    "FROM dbo.RPTRunning r WITH (NOLOCK)\n",
    "INNER JOIN dbo.Users u WITH (NOLOCK) ON r.UserID=u.UserName\n",
    "LEFT JOIN SYS_ReportExport e WITH (NOLOCK) ON e.ReportNbr = r.ReportNbr\n",
    "LEFT JOIN dbo.SYS_ReportExportParm expa WITH (NOLOCK) ON expa.ReportNbr=e.ReportNbr\n",
    "LEFT JOIN dbo.SYS_ReportControl c WITH (NOLOCK) ON c.ReportNbr=r.ReportNbr\n",
    "LEFT JOIN dbo.SYS_ReportParm cp WITH (NOLOCK) ON cp.ReportNbr=c.ReportNbr\n",
    "WHERE r.ReportNbr NOT IN ('OM20890','OM45400','OM32700','IN11500','AR10200','AR10100')\n",
    "\"\"\""
   ]
  },
  {
   "cell_type": "code",
   "execution_count": 13,
   "metadata": {},
   "outputs": [],
   "source": [
    "df = get_ms_df(sql)\n",
    "bq_values_insert(df, \"d_sync_rptrunning\", 3)"
   ]
  },
  {
   "cell_type": "code",
   "execution_count": null,
   "metadata": {},
   "outputs": [],
   "source": []
  }
 ],
 "metadata": {
  "kernelspec": {
   "display_name": "venv",
   "language": "python",
   "name": "python3"
  },
  "language_info": {
   "codemirror_mode": {
    "name": "ipython",
    "version": 3
   },
   "file_extension": ".py",
   "mimetype": "text/x-python",
   "name": "python",
   "nbconvert_exporter": "python",
   "pygments_lexer": "ipython3",
   "version": "3.8.10 (tags/v3.8.10:3d8993a, May  3 2021, 11:48:03) [MSC v.1928 64 bit (AMD64)]"
  },
  "orig_nbformat": 4,
  "vscode": {
   "interpreter": {
    "hash": "8fb55849e6741974ce442ee684e971e1b6b22c29ca2b25c3b9069bf531e0354a"
   }
  }
 },
 "nbformat": 4,
 "nbformat_minor": 2
}
