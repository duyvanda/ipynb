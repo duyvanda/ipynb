{
 "cells": [
  {
   "cell_type": "code",
   "execution_count": 1,
   "metadata": {},
   "outputs": [
    {
     "name": "stdout",
     "output_type": "stream",
     "text": [
      "Default bq project:  spatial-vision-343005.biteam\n"
     ]
    }
   ],
   "source": [
    "from utils.df_handle import *"
   ]
  },
  {
   "cell_type": "code",
   "execution_count": 2,
   "metadata": {},
   "outputs": [],
   "source": [
    "sql = \\\n",
    "\"\"\"\n",
    "SELECT BusinessScope FROM dbo.AR_Customer \n",
    "\"\"\""
   ]
  },
  {
   "cell_type": "code",
   "execution_count": 10,
   "metadata": {},
   "outputs": [],
   "source": [
    "df = get_ms_df(sql)"
   ]
  },
  {
   "cell_type": "code",
   "execution_count": 13,
   "metadata": {},
   "outputs": [],
   "source": [
    "df.BusinessScope.replace('', None, inplace=True)\n",
    "df.BusinessScope = df.BusinessScope.str.replace('05','1').str.replace('06','2').str.replace('07','3').str.replace('08','4').str.replace('09','5')"
   ]
  },
  {
   "cell_type": "code",
   "execution_count": 18,
   "metadata": {},
   "outputs": [
    {
     "data": {
      "text/plain": [
       "0     2,3\n",
       "1     2,3\n",
       "2     2,3\n",
       "3     2,3\n",
       "4    None\n",
       "Name: BusinessScope, dtype: object"
      ]
     },
     "execution_count": 18,
     "metadata": {},
     "output_type": "execute_result"
    }
   ],
   "source": [
    "df.BusinessScope.head()"
   ]
  },
  {
   "cell_type": "code",
   "execution_count": null,
   "metadata": {},
   "outputs": [],
   "source": [
    "import pendulum\n",
    "from airflow import DAG\n",
    "from airflow.operators.dummy_operator import DummyOperator\n",
    "from airflow.operators.python_operator import PythonOperator\n",
    "\n",
    "local_tz = pendulum.timezone(\"Asia/Bangkok\")\n",
    "name='MASTER_CUSTOMER'\n",
    "prefix='DMS_'\n",
    "path = f'/usr/local/airflow/plugins/{prefix}{name}/'\n",
    "\n",
    "# datenow_min1 = (datetime.now() - timedelta(days=1)).strftime(\"%Y-%m-%d\")"
   ]
  },
  {
   "cell_type": "code",
   "execution_count": null,
   "metadata": {},
   "outputs": [],
   "source": [
    "dag_params = {\n",
    "    'owner': 'airflow',\n",
    "    \"depends_on_past\": False,\n",
    "    'start_date': datetime(2022, 4, 14, tzinfo=local_tz),\n",
    "    'email_on_failure': True,\n",
    "    'email_on_retry': False,\n",
    "    'email':['duyvq@merapgroup.com', 'vanquangduy10@gmail.com'],\n",
    "    'do_xcom_push': False,\n",
    "    'execution_timeout':timedelta(seconds=300)\n",
    "    # 'retries': 3,\n",
    "    # 'retry_delay': timedelta(minutes=10),\n",
    "}\n",
    "\n",
    "dag = DAG(prefix+name,\n",
    "          catchup=False,\n",
    "          default_args=dag_params,\n",
    "          schedule_interval= '0 1 * * *',\n",
    "          tags=[prefix+name, 'Daily', 'at0']\n",
    ")"
   ]
  },
  {
   "cell_type": "code",
   "execution_count": 2,
   "metadata": {},
   "outputs": [],
   "source": [
    "datenow_min1 = (datetime.now() - timedelta(days=1)).strftime(\"%Y-%m-%d\")\n",
    "\n",
    "sql = \\\n",
    "f\"\"\"\n",
    "With #InvoiceCount as\n",
    "(\n",
    "SELECT * FROM\n",
    "(\n",
    "SELECT custInvoice.CustIDInvoice, custInvoice.CustID, Invoice.CustNameInvoice, Invoice.CountryID, Invoice.State, \n",
    "Invoice.DistrictID, Invoice.Ward, Invoice.ApartNumber, Invoice.StreetName, Invoice.TaxID, ROW_NUMBER()\n",
    "OVER (PARTITION BY CustID ORDER BY (SELECT NULL)) AS RowNum\n",
    "FROM    AR_Customer_InvoiceCustomer custInvoice WITH(NOLOCK) \n",
    "INNER JOIN AR_CustomerInvoice Invoice WITH(NOLOCK) ON Invoice.CustIDInvoice = custInvoice.CustIDInvoice  \n",
    "where Active = 1\n",
    ") t\n",
    "WHERE t.RowNum=1\n",
    ")\n",
    "SELECT DISTINCT a.BranchID, \n",
    "BranchName= s.CpnyName,\n",
    "a.CustId, \n",
    "RefCustID,\n",
    "--arcic.CustIDInvoice,\n",
    "--arci.CustNameInvoice,\n",
    "CustName,\n",
    "Address = CAST ((\n",
    "                    ISNULL(a.Addr1, '') + CASE ISNULL(a.Addr2, '') WHEN '' THEN '' ELSE ', '+ a.Addr2 END +\n",
    "                    CASE ISNULL(a.Ward, '') WHEN '' THEN '' ELSE ', ' + ISNULL(w.Name, a.Ward) END +\n",
    "                    CASE ISNULL(a.District, '') WHEN '' THEN '' ELSE ', '+ ISNULL(dt.Name, a.District) END +\n",
    "                    CASE ISNULL(a.State, '') WHEN '' THEN '' ELSE ', '+ ISNULL(st.Descr, a.State) END + \n",
    "                    CASE ISNULL(a.Country, '') WHEN '' THEN '' ELSE ', '+ ISNULL(cou.Descr, a.Country) END\n",
    "                    ) AS NVARCHAR(MAX)),\n",
    "a.District as DistrictCode,\n",
    "a.State as StateCode,\n",
    "a.Ward as WardCode,\n",
    "a.Country as CountryCode,\n",
    "a.Territory as TerritoryCode,\n",
    "a.SalesSystem,\n",
    "DistrictDescr = dt.Name,\n",
    "StateDescr = st.Descr,\n",
    "TerritoryDescr = t.Descr,\n",
    "CustInvoice1.[CustIDInvoice],\n",
    "    Addr1 =   \n",
    "CASE ISNULL(ApartNumber, '') WHEN '' THEN '' ELSE ApartNumber END   +  \n",
    "--CASE ISNULL(StreetName, '') WHEN '' THEN '' ELSE + IIF(ISNULL(ApartNumber, '') = '', '', ', ') + StreetName END +  \n",
    "CASE ISNULL(CustInvoice1.Ward, '') WHEN '' THEN '' ELSE ', ' + ISNULL(war.Name, CustInvoice1.Ward) END +  \n",
    "CASE ISNULL(CustInvoice1.DistrictID, '') WHEN '' THEN '' ELSE ', '+ ISNULL(dis.Name, CustInvoice1.DistrictID) + ', ' END +  \n",
    "--CASE CustInvoice1.State WHEN '13' THEN ''  \n",
    "--       WHEN '15' THEN ''  \n",
    "--       WHEN '24' THEN ''  \n",
    "--       WHEN '30' THEN ''  \n",
    "--       WHEN '28' THEN N'Thành Phố' + ' '   \n",
    "--       else N'Tỉnh' + ' ' end +  --20210505 trung ht bỏ ',' đằng trước tỉnh\n",
    "CASE ISNULL(CustInvoice1.State, '') WHEN '' THEN '' ELSE ISNULL(sta.Descr, CustInvoice1.State) END +  \n",
    "CASE ISNULL(CustInvoice1.CountryID, '') WHEN '' THEN '' ELSE ', '+ ISNULL(coun.Descr, CustInvoice1.CountryID) END  ,\n",
    "TaxRegNbr = CustInvoice1.TaxID ,\n",
    "a.Channel,\n",
    "a.ShopType,\n",
    "ShopTypeDescr = isnull(sh.Descr, ''),\n",
    "a.Phone,\n",
    "HCOTypeID = hco.HCOTypeName,\n",
    "a.ClassId,\n",
    "PaymentsForm = pay.Descr,\n",
    "Terms = isnull(sterm.Descr, ''),\n",
    "Active = case when a.[Status] = 'A' then N'Active' when a.[Status] = 'I' then N'Inactive' else 'Pending' end, --ISNULL(dbo.fr_Language(ap.LangStatus,@LangID), a.Status),\n",
    "InActive = a.InActive,\n",
    "AutoGenOrder = case when a.GenOrders ='KTHD' then N'Không tạo hóa đơn'\n",
    "                when a.GenOrders ='MDHMHD' then N'Một đơn hàng một hóa đơn'\n",
    "                when a.GenOrders ='THDHKM' then N'Tách hóa đơn hàng KM'\n",
    "                WHEN a.GenOrders ='THDTTS' then N'Tách hóa đơn theo thuế suất'\n",
    "                when a.GenOrders ='THDTSP' then N'Tách hóa đơn từng sản phẩm'\n",
    "                end,\n",
    "arcl.Lat,\n",
    "arcl.Lng,\n",
    "a.Crtd_Datetime,\n",
    "a.LUpd_Datetime\n",
    "FROM AR_Customer a WITH(NOLOCK)\n",
    "INNER JOIN SYS_Company s WITH(NOLOCK) ON s.CpnyID = a.BranchID\n",
    "LEFT JOIN #InvoiceCount  CustInvoice1 WITH(NOLOCK) ON CustInvoice1.CustID = a.CustId \n",
    "LEFT JOIN SI_Country cou WITH(NOLOCK) ON cou.CountryID = a.Country\n",
    "LEFT JOIN SI_State st WITH(NOLOCK) ON st.State = a.State AND st.Country = a.Country\n",
    "LEFT JOIN SI_District dt WITH(NOLOCK) ON a.District = dt.District AND a.Territory = dt.Territory AND dt.State = st.State AND dt.Country = a.Country\n",
    "LEFT JOIN dbo.SI_Ward w WITH(NOLOCK) ON w.State = a.State AND w.Ward = a.Ward AND w.District = a.District\n",
    "LEFT JOIN SI_Territory t WITH(NOLOCK) ON t.Territory = a.Territory\n",
    "LEFT JOIN AR_ShopType sh WITH(NOLOCK) ON sh.Code = a.ShopType\n",
    "LEFT JOIN SI_Terms sterm WITH(NOLOCK) ON sterm.TermsID = a.Terms\n",
    "LEFT JOIN AR_MasterPayments pay WITH(NOLOCK) ON pay.Code = a.PaymentsForm\n",
    "LEFT JOIN AR_HCOType hco WITH(NOLOCK) ON hco.HCOTypeID = a.HCOTypeID AND  hco.HCOID = a.HCOID\n",
    "LEFT JOIN dbo.AR_HCO ah ON ah.HCOID=a.HCOID\n",
    "LEFT JOIN SI_ApprovalFlowStatus ap  WITH(NOLOCK) ON ap.Status = a.Status AND ap.AppFolID = 'AR20400'\n",
    "LEFT JOIN SI_Country as coun WITH(NOLOCK) on coun.CountryID = CustInvoice1.CountryID  \n",
    "LEFT JOIN SI_State as sta WITH(NOLOCK) on  sta.Country = CustInvoice1.CountryID AND sta.State = CustInvoice1.State  \n",
    "LEFT JOIN SI_District as dis WITH(NOLOCK) on  dis.District = CustInvoice1.DistrictID  \n",
    "LEFT JOIN SI_Ward as war WITH(NOLOCK)  on  war.Country = CustInvoice1.CountryID AND war.State = CustInvoice1.State AND war.District = CustInvoice1.DistrictID AND war.Ward = CustInvoice1.Ward\n",
    "LEFT JOIN AR_CustomerLocation as arcl WITH(NOLOCK)  on  arcl.CustID = a.CustID AND arcl.BranchID = a.BranchID\n",
    "\"\"\""
   ]
  },
  {
   "cell_type": "code",
   "execution_count": 3,
   "metadata": {},
   "outputs": [],
   "source": [
    "df = get_ms_df(sql)"
   ]
  },
  {
   "cell_type": "code",
   "execution_count": 4,
   "metadata": {},
   "outputs": [],
   "source": [
    "df['inserted_at'] = datetime.now()"
   ]
  },
  {
   "cell_type": "code",
   "execution_count": 6,
   "metadata": {},
   "outputs": [],
   "source": [
    "df.columns = lower_col(df)"
   ]
  },
  {
   "cell_type": "code",
   "execution_count": 9,
   "metadata": {},
   "outputs": [
    {
     "data": {
      "text/plain": [
       "Index(['branchid', 'branchname', 'custid', 'refcustid', 'custname', 'address',\n",
       "       'districtcode', 'statecode', 'wardcode', 'countrycode', 'territorycode',\n",
       "       'salessystem', 'districtdescr', 'statedescr', 'territorydescr',\n",
       "       'custidinvoice', 'addr1', 'taxregnbr', 'channel', 'shoptype',\n",
       "       'shoptypedescr', 'phone', 'hcotypeid', 'classid', 'paymentsform',\n",
       "       'terms', 'active', 'inactive', 'autogenorder', 'lat', 'lng',\n",
       "       'crtd_datetime', 'lupd_datetime', 'inserted_at'],\n",
       "      dtype='object')"
      ]
     },
     "execution_count": 9,
     "metadata": {},
     "output_type": "execute_result"
    }
   ],
   "source": [
    "df.columns"
   ]
  },
  {
   "cell_type": "code",
   "execution_count": 10,
   "metadata": {},
   "outputs": [],
   "source": [
    "df.columns = lower_col(df)\n",
    "df.statecode = df.statecode.astype('float')\n",
    "df.districtcode = df.districtcode.astype('float')\n",
    "df.wardcode = df.wardcode.astype('float')\n",
    "df.countrycode = df.countrycode.astype('float')\n",
    "df.territorycode = df.territorycode.astype('float')\n",
    "df.salessystem = df.salessystem.astype('float')"
   ]
  },
  {
   "cell_type": "code",
   "execution_count": 11,
   "metadata": {},
   "outputs": [],
   "source": [
    "# df.statecode"
   ]
  },
  {
   "cell_type": "code",
   "execution_count": 12,
   "metadata": {},
   "outputs": [
    {
     "name": "stderr",
     "output_type": "stream",
     "text": [
      "1it [00:20, 20.76s/it]\n"
     ]
    }
   ],
   "source": [
    "bq_values_insert(df, \"d_master_khachhang\", 2)"
   ]
  },
  {
   "cell_type": "code",
   "execution_count": 4,
   "metadata": {},
   "outputs": [],
   "source": [
    "def update_customer():\n",
    "    df = get_ms_df(sql)\n",
    "    try:\n",
    "        assert df.shape[0] >0\n",
    "    except AssertionError:\n",
    "        print(\"No customer changed\")\n",
    "    else:\n",
    "        df.columns = cleancols(df)\n",
    "        df.columns = lower_col(df)\n",
    "        df['crtd_date'] = df.crtd_datetime.dt.normalize()\n",
    "        df1 = df['crtd_date']\n",
    "        # df1.dt.strftime('%Y-%m-%d')\n",
    "        df1.drop_duplicates(inplace=True)\n",
    "        tpl_dt = tuple(df1.dt.strftime('%Y-%m-%d').to_list())\n",
    "        df1 = df['custid']\n",
    "        df1.drop_duplicates(inplace=True)\n",
    "        tpl_ct = tuple(df1.to_list())\n",
    "        del_sql = \\\n",
    "        f\"\"\"\n",
    "        DELETE FROM biteam.d_master_khachhang\n",
    "        WHERE\n",
    "        DATE(crtd_datetime) in {tpl_dt}\n",
    "        AND custid in {tpl_ct}\n",
    "        \"\"\"\n",
    "        execute_bq_query(del_sql)\n",
    "        df['inserted_at'] = datetime.now()\n",
    "        drop_cols(df, 'crtd_date')\n",
    "        bq_values_insert(df, \"d_master_khachhang\", 2)"
   ]
  },
  {
   "cell_type": "code",
   "execution_count": 5,
   "metadata": {},
   "outputs": [
    {
     "name": "stderr",
     "output_type": "stream",
     "text": [
      "1it [00:16, 16.60s/it]\n"
     ]
    }
   ],
   "source": [
    "update_customer()"
   ]
  },
  {
   "cell_type": "code",
   "execution_count": null,
   "metadata": {},
   "outputs": [],
   "source": [
    "dummy_start = DummyOperator(task_id=\"dummy_start\", dag=dag)\n",
    "\n",
    "update_customer = PythonOperator(task_id=\"update_customer\", python_callable=update_customer, dag=dag)\n",
    "\n",
    "dummy_start >> update_customer"
   ]
  }
 ],
 "metadata": {
  "interpreter": {
   "hash": "dff776f8cf9899793f9a0f4d147d4ee0e914dc3f9ff7764d86dd5f5383f5f250"
  },
  "kernelspec": {
   "display_name": "Python 3.9.6 ('venv': venv)",
   "language": "python",
   "name": "python3"
  },
  "language_info": {
   "codemirror_mode": {
    "name": "ipython",
    "version": 3
   },
   "file_extension": ".py",
   "mimetype": "text/x-python",
   "name": "python",
   "nbconvert_exporter": "python",
   "pygments_lexer": "ipython3",
   "version": "3.9.6"
  },
  "orig_nbformat": 4
 },
 "nbformat": 4,
 "nbformat_minor": 2
}
