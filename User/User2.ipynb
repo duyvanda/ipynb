{
 "cells": [
  {
   "cell_type": "code",
   "execution_count": 1,
   "metadata": {},
   "outputs": [],
   "source": [
    "from utils.df_handle import *"
   ]
  },
  {
   "cell_type": "code",
   "execution_count": 2,
   "metadata": {},
   "outputs": [],
   "source": [
    "query = \\\n",
    "    \"\"\"\n",
    "    SELECT DISTINCT \n",
    "    SlsperID as manv,\n",
    "    CASE WHEN u.UserTypes LIKE '%LOG%' THEN 'LOG' ELSE 'MDS' END as position,\n",
    "    u.FirstName as tencvbh,\n",
    "     --SupID,\n",
    "    sup.FirstName as tenquanlytt,\n",
    "     --ASM,\n",
    "    asm.FirstName as tenquanlykhuvuc,\n",
    "     --RSMID,\n",
    "    rsm.FirstName as tenquanlyvung,\n",
    "    'DMS' as datatype\n",
    "    FROM dbo.fr_ListSaleByData('admin') as a\n",
    "    LEFT JOIN dbo.Users u WITH (NOLOCK) ON u.UserName=a.SlsperID\n",
    "    LEFT JOIN dbo.Users sup WITH (NOLOCK) ON sup.UserName=a.SupID\n",
    "    LEFT JOIN dbo.Users asm WITH (NOLOCK) ON asm.UserName=a.ASM\n",
    "    LEFT JOIN dbo.Users Rsm WITH (NOLOCK) ON rsm.UserName =a.RSMID\n",
    "\tWHERE sup.UserName IS NOT NULL\n",
    "    \"\"\"\n",
    "df1 = get_ms_df(query)"
   ]
  },
  {
   "cell_type": "code",
   "execution_count": 3,
   "metadata": {},
   "outputs": [],
   "source": [
    "# vc(df1, 'tenquanlykhuvuc')"
   ]
  },
  {
   "cell_type": "code",
   "execution_count": 4,
   "metadata": {},
   "outputs": [],
   "source": [
    "df1['tenquanlykhuvuc'].replace(\"Dương Tấn Bửu\", \"Dương Tấn Bửu(KN)\", inplace=True)\n",
    "df1['tenquanlykhuvuc'].replace(\"Nguyễn Thọ Chiến\", \"Nguyễn Thọ Chiến(KN)\", inplace=True)"
   ]
  },
  {
   "cell_type": "code",
   "execution_count": 5,
   "metadata": {},
   "outputs": [
    {
     "name": "stdout",
     "output_type": "stream",
     "text": [
      "Data inserted using execute_values() successfully..\n"
     ]
    }
   ],
   "source": [
    "df_users = get_ps_df(\"select manv from d_users\")\n",
    "if df_users.shape[0] != df1.shape[0]:\n",
    "    df1['tenquanlytt'].fillna(df1.tenquanlykhuvuc, inplace=True)\n",
    "    df1['tenquanlykhuvuc'].fillna(df1.tenquanlyvung, inplace=True)\n",
    "    # df1['tenquanlyvung'].fillna(df1.tenquanlykhuvuc, inplace=True)\n",
    "    commit_psql(\"truncate table d_users cascade;\")\n",
    "    execute_values_insert(df1, \"d_users\")\n",
    "else:\n",
    "    print(\"None\")"
   ]
  },
  {
   "cell_type": "code",
   "execution_count": 8,
   "metadata": {},
   "outputs": [],
   "source": [
    "# df1[df1['tenquanlyvung'].isna()]"
   ]
  },
  {
   "cell_type": "code",
   "execution_count": 9,
   "metadata": {},
   "outputs": [
    {
     "name": "stdout",
     "output_type": "stream",
     "text": [
      "Data inserted using execute_values() successfully..\n"
     ]
    }
   ],
   "source": [
    "df1['tenquanlytt'].fillna(df1.tenquanlykhuvuc, inplace=True)\n",
    "df1['tenquanlykhuvuc'].fillna(df1.tenquanlyvung, inplace=True)\n",
    "#13/01\n",
    "df1.drop_duplicates(keep='last', inplace=True, subset=['manv'])\n",
    "commit_psql(\"truncate table d_users cascade;\")\n",
    "execute_values_insert(df1, \"d_users\")"
   ]
  },
  {
   "cell_type": "code",
   "execution_count": 8,
   "metadata": {},
   "outputs": [],
   "source": [
    "df1[checkdup(df1, 2, ['manv'])].to_clipboard()"
   ]
  },
  {
   "cell_type": "code",
   "execution_count": null,
   "metadata": {},
   "outputs": [],
   "source": []
  }
 ],
 "metadata": {
  "kernelspec": {
   "display_name": "Python 3.8.10 64-bit (microsoft store)",
   "language": "python",
   "name": "python3"
  },
  "language_info": {
   "codemirror_mode": {
    "name": "ipython",
    "version": 3
   },
   "file_extension": ".py",
   "mimetype": "text/x-python",
   "name": "python",
   "nbconvert_exporter": "python",
   "pygments_lexer": "ipython3",
   "version": "3.8.10"
  },
  "orig_nbformat": 4,
  "vscode": {
   "interpreter": {
    "hash": "c058d42f3be18782caf6f1b1d7e3fdeba1061274271aeb65ea3715bb8dadbe22"
   }
  }
 },
 "nbformat": 4,
 "nbformat_minor": 2
}
