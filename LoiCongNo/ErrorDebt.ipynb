{
 "cells": [
  {
   "cell_type": "code",
   "execution_count": 1,
   "metadata": {},
   "outputs": [
    {
     "name": "stdout",
     "output_type": "stream",
     "text": [
      "Default bq project:  spatial-vision-343005.biteam\n"
     ]
    }
   ],
   "source": [
    "from utils.df_handle import *"
   ]
  },
  {
   "cell_type": "code",
   "execution_count": 2,
   "metadata": {},
   "outputs": [],
   "source": [
    "sql = \\\n",
    "\"\"\"\n",
    "select so.OrigOrderNbr, so.Crtd_DateTime, ib.SlsperID, so.OrderNbr from OM_SalesOrd so\n",
    "INNER JOIN OM_Issuebookdet ibd on\n",
    "so.BranchID = ibd.BranchID and\n",
    "so.OrigOrderNbr = ibd.OrderNbr\n",
    "INNER JOIN OM_IssueBook ib on\n",
    "ibd.BranchID = ib.BranchID and\n",
    "ibd.BatNbr = ib.BatNbr\n",
    "and ib.Status = 'C'\n",
    "left join OM_DebtAllocateDet deb on\n",
    "deb.BranchID = so.BranchID and\n",
    "so.OrigOrderNbr = deb.OrderNbr and\n",
    "so.ARBatNbr = deb.ARBatNbr\n",
    "where cast(so.Crtd_DateTime as date) >= '20220101'\n",
    "and so.Status = 'C'\n",
    "and deb.BranchID IS NULL\n",
    "and so.OrderType = 'IN'\n",
    "order by so.Crtd_DateTime asc\n",
    "--and so.OrigOrderNbr = 'DH2-0522-00700'\n",
    "\"\"\"\n",
    "df = get_ms_df(sql)"
   ]
  },
  {
   "cell_type": "code",
   "execution_count": 3,
   "metadata": {},
   "outputs": [
    {
     "name": "stderr",
     "output_type": "stream",
     "text": [
      "1it [00:02,  2.78s/it]\n"
     ]
    }
   ],
   "source": [
    "bq_values_insert(df, \"d_dms_error_debt\", 3)"
   ]
  }
 ],
 "metadata": {
  "kernelspec": {
   "display_name": "Python 3.9.6 ('venv': venv)",
   "language": "python",
   "name": "python3"
  },
  "language_info": {
   "codemirror_mode": {
    "name": "ipython",
    "version": 3
   },
   "file_extension": ".py",
   "mimetype": "text/x-python",
   "name": "python",
   "nbconvert_exporter": "python",
   "pygments_lexer": "ipython3",
   "version": "3.9.6"
  },
  "orig_nbformat": 4,
  "vscode": {
   "interpreter": {
    "hash": "dff776f8cf9899793f9a0f4d147d4ee0e914dc3f9ff7764d86dd5f5383f5f250"
   }
  }
 },
 "nbformat": 4,
 "nbformat_minor": 2
}
