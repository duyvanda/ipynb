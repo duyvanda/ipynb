{
 "cells": [
  {
   "cell_type": "markdown",
   "metadata": {},
   "source": [
    "https://www.youtube.com/watch?v=JRCJ6RtE3xU\n",
    "https://medium.com/@sdoshi579/to-read-emails-and-download-attachments-in-python-6d7d6b60269\n",
    "https://stackoverflow.com/questions/17874360/python-how-to-parse-the-body-from-a-raw-email-given-that-raw-email-does-not/32840516"
   ]
  },
  {
   "cell_type": "code",
   "execution_count": 1,
   "id": "69a9fe37",
   "metadata": {},
   "outputs": [],
   "source": [
    "from vars import vars"
   ]
  },
  {
   "cell_type": "code",
   "execution_count": 1,
   "metadata": {},
   "outputs": [],
   "source": [
    "from email.message import EmailMessage\n",
    "import email\n",
    "import os\n",
    "import smtplib\n",
    "import imaplib\n",
    "from mail_sender import sendmail"
   ]
  },
  {
   "cell_type": "code",
   "execution_count": null,
   "id": "fb780ddc",
   "metadata": {},
   "outputs": [],
   "source": [
    "print(\"duy\")"
   ]
  },
  {
   "cell_type": "code",
   "execution_count": null,
   "metadata": {},
   "outputs": [],
   "source": [
    "sendmail()"
   ]
  },
  {
   "cell_type": "code",
   "execution_count": 6,
   "metadata": {},
   "outputs": [
    {
     "name": "stdout",
     "output_type": "stream",
     "text": [
      "(235, b'2.7.0 Authentication successful')\n",
      "Message has been sent\n"
     ]
    }
   ],
   "source": [
    "#Email connection\n",
    "EMAIL_ADDRESS = 'report@merapgroup.com'\n",
    "EMAIL_PASSOWRD = 'Report@111'\n",
    "msg = EmailMessage()\n",
    "# FROM EMAIL\n",
    "msg['From'] = EMAIL_ADDRESS\n",
    "# TO EMAIL\n",
    "msg['To'] = ['duyvq@merapgroup.com', 'vanquangduy10@gmail.com']\n",
    "# BODY\n",
    "msg.set_content('DATA VALIDATION ALERT FROM BI TEAM')\n",
    "msg['Subject'] = '[ALERT] IN TRANSIT df has duplicate values'\n",
    "with smtplib.SMTP_SSL('mail.merapgroup.com', 465) as smtp:\n",
    "    conn_smtp = smtp.login(EMAIL_ADDRESS, EMAIL_PASSOWRD)\n",
    "    print(conn_smtp)\n",
    "    smtp.send_message(msg)\n",
    "    print('Message has been sent')"
   ]
  },
  {
   "cell_type": "code",
   "execution_count": 155,
   "metadata": {},
   "outputs": [
    {
     "name": "stdout",
     "output_type": "stream",
     "text": [
      "('OK', [b'12'])\n",
      "b'1 2 3 4 5 6 7 8 9 10 11 12'\n",
      "[b'1', b'2', b'3', b'4', b'5', b'6', b'7', b'8', b'9', b'10', b'11', b'12']\n",
      "['__bytes__', '__class__', '__contains__', '__delattr__', '__delitem__', '__dict__', '__dir__', '__doc__', '__eq__', '__format__', '__ge__', '__getattribute__', '__getitem__', '__gt__', '__hash__', '__init__', '__init_subclass__', '__iter__', '__le__', '__len__', '__lt__', '__module__', '__ne__', '__new__', '__reduce__', '__reduce_ex__', '__repr__', '__setattr__', '__setitem__', '__sizeof__', '__slotnames__', '__str__', '__subclasshook__', '__weakref__', '_add_multipart', '_body_types', '_charset', '_default_type', '_find_body', '_get_params_preserve', '_headers', '_make_multipart', '_payload', '_unixfrom', 'add_alternative', 'add_attachment', 'add_header', 'add_related', 'as_bytes', 'as_string', 'attach', 'clear', 'clear_content', 'defects', 'del_param', 'epilogue', 'get', 'get_all', 'get_body', 'get_boundary', 'get_charset', 'get_charsets', 'get_content', 'get_content_charset', 'get_content_disposition', 'get_content_maintype', 'get_content_subtype', 'get_content_type', 'get_default_type', 'get_filename', 'get_param', 'get_params', 'get_payload', 'get_unixfrom', 'is_attachment', 'is_multipart', 'items', 'iter_attachments', 'iter_parts', 'keys', 'make_alternative', 'make_mixed', 'make_related', 'policy', 'preamble', 'raw_items', 'replace_header', 'set_boundary', 'set_charset', 'set_content', 'set_default_type', 'set_param', 'set_payload', 'set_raw', 'set_type', 'set_unixfrom', 'values', 'walk']\n",
      "====\n",
      "report@merapgroup.com\n",
      "====\n",
      "duyvq@merapgroup.com\n",
      "====\n",
      "test email\n",
      "====\n",
      "<bound method Message.__contains__ of <email.message.EmailMessage object at 0x000001C9A90E0550>>\n",
      "====\n",
      "multipart\n",
      "====\n",
      "<generator object walk at 0x000001C9A897AF90>\n"
     ]
    }
   ],
   "source": [
    "#Email connection\n",
    "EMAIL_ADDRESS = 'report@merapgroup.com'\n",
    "EMAIL_PASSOWRD = 'Report@111'\n",
    "msg = EmailMessage()\n",
    "# FROM EMAIL\n",
    "msg['From'] = EMAIL_ADDRESS\n",
    "# TO EMAIL\n",
    "msg['To'] = ['duyvq@merapgroup.com']\n",
    "# BODY\n",
    "msg.set_content('DATA VALIDATION ALERT FROM BI TEAM')\n",
    "msg['Subject'] = '[ALERT] IN TRANSIT df has duplicate values'\n",
    "with imaplib.IMAP4_SSL('smtp.merapgroup.com') as conn:\n",
    "    conn.login(EMAIL_ADDRESS, EMAIL_PASSOWRD)\n",
    "    conn.select('INBOX')\n",
    "    print(conn.select('INBOX'))\n",
    "    result, data = conn.uid('search', None, \"ALL\")\n",
    "    print(data[0])\n",
    "    inbox_item_list = data[0].split()\n",
    "    print(inbox_item_list)\n",
    "    newest = inbox_item_list[-1]\n",
    "    result2, email_data = conn.uid('fetch', newest, '(RFC822)')\n",
    "    raw_email = email_data[0][1].decode('utf-8')\n",
    "    email_message = email.message_from_string(raw_email,policy=email.policy.default)\n",
    "    print(dir(email_message))\n",
    "    print('====')\n",
    "    print(email_message['To'])\n",
    "    print('====')\n",
    "    print(email_message['From'])\n",
    "    print('====')\n",
    "    print(email_message['Subject'])\n",
    "    print('====')\n",
    "    print(email_message.__contains__)\n",
    "    print('====')\n",
    "    print(email_message.get_content_maintype())\n",
    "    print('====')\n",
    "    print(email_message.walk())\n",
    "#     for part in email_message.walk():\n",
    "#         print(part)"
   ]
  },
  {
   "cell_type": "code",
   "execution_count": 148,
   "metadata": {},
   "outputs": [
    {
     "name": "stdout",
     "output_type": "stream",
     "text": [
      "TEST SUBJECT\n"
     ]
    }
   ],
   "source": [
    "print(email_message['Subject'])"
   ]
  },
  {
   "cell_type": "code",
   "execution_count": 156,
   "metadata": {},
   "outputs": [
    {
     "name": "stdout",
     "output_type": "stream",
     "text": [
      "Hi this is a body of the email\r\n",
      "\r\n",
      " \r\n",
      "\r\n",
      "\n"
     ]
    }
   ],
   "source": [
    "body = email_message.get_body(('plain',))\n",
    "if body:\n",
    "    body = body.get_content()\n",
    "print(body)"
   ]
  },
  {
   "cell_type": "code",
   "execution_count": 150,
   "metadata": {},
   "outputs": [
    {
     "data": {
      "text/plain": [
       "True"
      ]
     },
     "execution_count": 150,
     "metadata": {},
     "output_type": "execute_result"
    }
   ],
   "source": [
    "email_message.is_multipart()"
   ]
  },
  {
   "cell_type": "code",
   "execution_count": 133,
   "metadata": {
    "scrolled": true
   },
   "outputs": [
    {
     "name": "stdout",
     "output_type": "stream",
     "text": [
      "[<email.message.Message object at 0x000001C9A90E4550>, <email.message.Message object at 0x000001C9A90E4820>]\n",
      "import os=0A=\r\n",
      "from googleapiclient import discovery=0A=\r\n",
      "from google.oauth2 import service_account=0A=\r\n",
      "import pandas as pd=0A=\r\n",
      "import warnings=0A=\r\n",
      "import psycopg2=0A=\r\n",
      "from urllib.parse import urlparse=0A=\r\n",
      "from collector.libs.pandas_utils import insert_df_to_postgres=0A=\r\n",
      "from email.message import EmailMessage=0A=\r\n",
      "=0A=\r\n",
      "warnings.filterwarnings('ignore')=0A=\r\n",
      "=0A=\r\n",
      "=0A=\r\n",
      "def get_postgres_conn(url):=0A=\r\n",
      "    try:=0A=\r\n",
      "        result =3D urlparse(url)=0A=\r\n",
      "        username =3D result.username=0A=\r\n",
      "        password =3D result.password=0A=\r\n",
      "        database =3D result.path[1:]=0A=\r\n",
      "        hostname =3D result.hostname=0A=\r\n",
      "        port =3D result.port=0A=\r\n",
      "=0A=\r\n",
      "        return psycopg2.connect(user=3Dusername,=0A=\r\n",
      "                                password=3Dpassword,=0A=\r\n",
      "                                host=3Dhostname,=0A=\r\n",
      "                                port=3Dport,=0A=\r\n",
      "                                database=3Ddatabase), {=0A=\r\n",
      "                                    \"host\": hostname,=0A=\r\n",
      "                                    \"port\": port,=0A=\r\n",
      "                                    \"user\": username,=0A=\r\n",
      "                                    \"password\": password,=0A=\r\n",
      "                                    \"database\": database=0A=\r\n",
      "                                }=0A=\r\n",
      "    except (Exception, psycopg2.Error) as error:=0A=\r\n",
      "        print(error)=0A=\r\n",
      "        raise=0A=\r\n",
      "=0A=\r\n",
      "=0A=\r\n",
      "DATABASE_URL =3D os.getenv('DF', )=0A=\r\n",
      "connection, postgres_conf =3D get_postgres_conn(DATABASE_URL)=0A=\r\n",
      "=0A=\r\n",
      "=0A=\r\n",
      "def check_and_insert(df_raw):=0A=\r\n",
      "    #Email connection=0A=\r\n",
      "    EMAIL_ADDRESS =3D 'asdasdasdasdasdasdasd'=0A=\r\n",
      "    EMAIL_PASSOWRD =3D 'sdsdsdsd'=0A=\r\n",
      "    msg =3D EmailMessage()=0A=\r\n",
      "    # FROM EMAIL=0A=\r\n",
      "    msg['From'] =3D EMAIL_ADDRESS=0A=\r\n",
      "    # TO EMAIL=0A=\r\n",
      "    msg['To'] =3D ['sdsdsdsdsd']=0A=\r\n",
      "    # BODY=0A=\r\n",
      "    msg.set_content('DATA VALIDATION ALERT FROM BI TEAM')=0A=\r\n",
      "=0A=\r\n",
      "    #connect to speadsheet=0A=\r\n",
      "    scopes =3D [=0A=\r\n",
      "        'https://www.googleapis.com/auth/spreadsheets',=0A=\r\n",
      "        'https://www.googleapis.com/auth/drive',=0A=\r\n",
      "        'https://www.googleapis.com/auth/drive.file'=0A=\r\n",
      "    ]=0A=\r\n",
      "    jsonfile =3D os.path.join(os.getcwd(), 'asdasdasdasasdasd')=0A=\r\n",
      "    credentials =3D =\r\n",
      "service_account.Credentials.from_service_account_file(=0A=\r\n",
      "        jsonfile, scopes=3Dscopes)=0A=\r\n",
      "    service =3D discovery.build('sheets', 'v4', =\r\n",
      "credentials=3Dcredentials)=0A=\r\n",
      "    #connect to data in spreadsheets=0A=\r\n",
      "    spreadsheets_id =3D 'asdasdasdasd'=0A=\r\n",
      "    response =3D service.spreadsheets().values().get(=0A=\r\n",
      "        spreadsheetId=3Dspreadsheets_id,=0A=\r\n",
      "        majorDimension=3D'ROWS',=0A=\r\n",
      "        range=3D'sdsdsdsdsd').execute()=0A=\r\n",
      "    #data transform=0A=\r\n",
      "    columns =3D response['values'][1]=0A=\r\n",
      "    data =3D [item for item in response['values'][2:]]=0A=\r\n",
      "    df_raw =3D pd.DataFrame(data, columns=3Dcolumns)=0A=\r\n",
      "    df_raw['In-transit_Q.ty'] =3D pd.to_numeric(=0A=\r\n",
      "        df_raw['In-transit_Q.ty'], =\r\n",
      "errors=3D'coerce').fillna(0).astype('int64')=0A=\r\n",
      "    df_raw['WH Transfer'] =3D pd.to_numeric(=0A=\r\n",
      "        df_raw['WH Transfer'], =\r\n",
      "errors=3D'coerce').fillna(0).astype('int64')=0A=\r\n",
      "    df_raw.columns =3D [=0A=\r\n",
      "        'brand', 'po', 'sku', 'intransit_suppliers_to_op',=0A=\r\n",
      "        'intransit_3pl_warehouse_to_platform_warehouse'=0A=\r\n",
      "    ]=0A=\r\n",
      "=0A=\r\n",
      "    #data validation=0A=\r\n",
      "    duplicates =3D df_raw.duplicated(subset=3D['po', 'sku']).sum()=0A=\r\n",
      "    wrong_intransit_qty =3D (df_raw['intransit_suppliers_to_op'] < =\r\n",
      "0).sum()=0A=\r\n",
      "    wrong_whtransfer_qty =3D (=0A=\r\n",
      "        df_raw['intransit_3pl_warehouse_to_platform_warehouse'] < =\r\n",
      "0).sum()=0A=\r\n",
      "    if duplicates > 0:=0A=\r\n",
      "        msg['Subject'] =3D '[ALERT] IN TRANSIT df has duplicate values'=0A=\r\n",
      "        with smtplib.SMTP_SSL('smtp.gmail.com', 465) as smtp:=0A=\r\n",
      "            smtp.login(EMAIL_ADDRESS, EMAIL_PASSOWRD)=0A=\r\n",
      "            smtp.send_message(msg)=0A=\r\n",
      "        assert duplicates =3D=3D 0, 'df has duplicate values'=0A=\r\n",
      "    elif wrong_intransit_qty > 0:=0A=\r\n",
      "        msg['Subject'] =3D '[ALERT] IN TRANSIT df has wrong qty input'=0A=\r\n",
      "        with smtplib.SMTP_SSL('smtp.gmail.com', 465) as smtp:=0A=\r\n",
      "            smtp.login(EMAIL_ADDRESS, EMAIL_PASSOWRD)=0A=\r\n",
      "            smtp.send_message(msg)=0A=\r\n",
      "        assert wrong_intransit_qty =3D=3D 0, 'df has wrong values at =\r\n",
      "wrong_intransit_qty'=0A=\r\n",
      "    elif wrong_whtransfer_qty > 0:=0A=\r\n",
      "        msg['Subject'] =3D '[ALERT] IN TRANSIT df has wrong qty input'=0A=\r\n",
      "        with smtplib.SMTP_SSL('smtp.gmail.com', 465) as smtp:=0A=\r\n",
      "            smtp.login(EMAIL_ADDRESS, EMAIL_PASSOWRD)=0A=\r\n",
      "            smtp.send_message(msg)=0A=\r\n",
      "        assert wrong_whtransfer_qty =3D=3D 0, 'df has wrong values at =\r\n",
      "wrong_whtransfer_qty'=0A=\r\n",
      "    else:=0A=\r\n",
      "        msg['Subject'] =3D '[ALERT] IN TRANSIT QTY FROM SC, ALL =\r\n",
      "VALIDATION PASSED'=0A=\r\n",
      "        print(\"\\033[92m No duplicate found\")=0A=\r\n",
      "        print(\"\\033[92m No wrong values at wrong_intransit_qty\")=0A=\r\n",
      "        print(\"\\033[92m No wrong values at wrong_whtransfer_qty\")=0A=\r\n",
      "        with smtplib.SMTP_SSL('smtp.gmail.com', 465) as smtp:=0A=\r\n",
      "            smtp.login(EMAIL_ADDRESS, EMAIL_PASSOWRD)=0A=\r\n",
      "            smtp.send_message(msg)=0A=\r\n",
      "        insert_df_to_postgres(postgres_conf,=0A=\r\n",
      "                              tbl_name=3D\"sdsdsdsdsdssdsd\",=0A=\r\n",
      "                              df=3Ddf_raw,=0A=\r\n",
      "                              primary_keys=3D['po', 'sku', =\r\n",
      "'inserted_at'],=0A=\r\n",
      "                              schema=3D\"public\")=0A=\r\n",
      "=0A=\r\n",
      "=0A=\r\n",
      "check_and_insert()\n"
     ]
    }
   ],
   "source": [
    "list = []\n",
    "for payload in email_message.get_payload():\n",
    "    print(payload.get_payload())"
   ]
  },
  {
   "cell_type": "code",
   "execution_count": 136,
   "metadata": {},
   "outputs": [
    {
     "data": {
      "text/plain": [
       "'C:\\\\Users\\\\DELL\\\\Downloads\\\\Documents\\\\ipython_file'"
      ]
     },
     "execution_count": 136,
     "metadata": {},
     "output_type": "execute_result"
    }
   ],
   "source": [
    "os.getcwd()"
   ]
  },
  {
   "cell_type": "code",
   "execution_count": 158,
   "metadata": {},
   "outputs": [],
   "source": [
    "# downloading attachments\n",
    "for part in email_message.walk():\n",
    "    # this part comes from the snipped I don't understand yet... \n",
    "    if part.get_content_maintype() == 'multipart':\n",
    "        continue\n",
    "    if part.get('Content-Disposition') is None:\n",
    "        continue\n",
    "    fileName = part.get_filename()\n",
    "    if bool(fileName):\n",
    "        filePath = os.path.join(os.getcwd(), fileName)\n",
    "        if not os.path.isfile(filePath) :\n",
    "            fp = open(filePath, 'wb')\n",
    "            fp.write(part.get_payload(decode=True))\n",
    "            fp.close()\n",
    "#             subject = str(email_message).split(\"Subject: \", 1)[1].split(\"\\nTo:\", 1)[0]\n",
    "#             print('Downloaded \"{file}\" from email titled \"{subject}\" with UID {uid}.'.format(file=fileName, subject=subject, uid=newest))"
   ]
  }
 ],
 "metadata": {
  "kernelspec": {
   "display_name": "Python 3.8.10 ('venv': venv)",
   "language": "python",
   "name": "python3"
  },
  "language_info": {
   "codemirror_mode": {
    "name": "ipython",
    "version": 3
   },
   "file_extension": ".py",
   "mimetype": "text/x-python",
   "name": "python",
   "nbconvert_exporter": "python",
   "pygments_lexer": "ipython3",
   "version": "3.8.10"
  },
  "vscode": {
   "interpreter": {
    "hash": "8fb55849e6741974ce442ee684e971e1b6b22c29ca2b25c3b9069bf531e0354a"
   }
  }
 },
 "nbformat": 4,
 "nbformat_minor": 5
}
