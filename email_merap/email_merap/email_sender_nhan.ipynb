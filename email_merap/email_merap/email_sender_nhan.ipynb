{
 "cells": [
  {
   "cell_type": "markdown",
   "metadata": {},
   "source": [
    "https://www.youtube.com/watch?v=JRCJ6RtE3xU\n",
    "https://medium.com/@sdoshi579/to-read-emails-and-download-attachments-in-python-6d7d6b60269\n",
    "https://stackoverflow.com/questions/17874360/python-how-to-parse-the-body-from-a-raw-email-given-that-raw-email-does-not/32840516"
   ]
  },
  {
   "cell_type": "code",
   "execution_count": 1,
   "id": "69a9fe37",
   "metadata": {},
   "outputs": [],
   "source": [
    "from vars import vars"
   ]
  },
  {
   "cell_type": "code",
   "execution_count": 11,
   "metadata": {},
   "outputs": [],
   "source": [
    "from email.message import EmailMessage\n",
    "import email\n",
    "import os\n",
    "import smtplib\n",
    "import imaplib\n",
    "from mail_sender import sendmail"
   ]
  },
  {
   "cell_type": "code",
   "execution_count": 1,
   "id": "8fe7481c",
   "metadata": {},
   "outputs": [],
   "source": [
    "from utils.df_handle import *\n",
    "import pandas\n",
    "from google.cloud import bigquery\n",
    "from datetime import datetime \n",
    "import xlsxwriter\n",
    "import os\n",
    "os.environ['GOOGLE_APPLICATION_CREDENTIALS'] = \"D:\\ipynb\\spatial-vision-343005-340470c8d77b.json\"\n"
   ]
  },
  {
   "cell_type": "code",
   "execution_count": 99,
   "id": "4c3de579",
   "metadata": {},
   "outputs": [],
   "source": [
    "sql=f\"\"\"\n",
    "-- Create view view_report.f_data_kh_checkin_canchamsoc\n",
    "-- as\n",
    "\n",
    "with data_kh_chua_viengtham as (SELECT slsperid,\n",
    "mds,tenquanlytt,tenquanlykhuvuc,tenquanlyvung,custid,custname,statedescr,territorydescr,count(distinct soluong_checkin_thucte) \n",
    "  from `view_report.f_data_checkin_pbh` \n",
    "\n",
    "where  extract ( month from (select * from `biteam.d_current_table`)) = extract ( month from visitdate) \n",
    "and extract ( year from (select * from `biteam.d_current_table`)) = extract ( year from visitdate)\n",
    "group by 1,2,3,4,5,6,7,8,9 having count(distinct soluong_checkin_thucte) =0),\n",
    "\n",
    "data_gpp as (\n",
    " with data_quydinh_viengtham as (\n",
    "SELECT distinct slsperid,custid,date_trunc(visitdate,month) as mapping_date FROM `spatial-vision-343005.biteam.sync_dms_salesroutedet`\n",
    "where \n",
    "extract ( month from (select * from `biteam.d_current_table`)) = extract ( month from visitdate) \n",
    "and extract ( year from (select * from `biteam.d_current_table`)) = extract ( year from visitdate)\n",
    " )\n",
    "\n",
    "select a.*,b.slsperid,d.tencvbh,\n",
    "date_trunc ( thoihanhieulucgdpgpp,month) as mapping_date,\n",
    "Case when  date(thoihanhieulucgdpgpp) < (select * from `biteam.d_current_table`) \n",
    "    then 1 else 0 end as is_hetthoihanhieuluc,\n",
    "Case when \n",
    "     date_add((select * from `biteam.d_current_table`),interval 30 day) >= date(thoihanhieulucgdpgpp) and date(thoihanhieulucgdpgpp) > (select * from `biteam.d_current_table`) \n",
    "     then 1 else 0 end as is_saphetthoihanhieuluc,\n",
    "Case when  date(thoihanhieulucgdpgpp) < (select * from `biteam.d_current_table`) \n",
    "    then makhachhangdms else null end as custid_hetthoihanhieuluc,\n",
    "Case when \n",
    "     date_add((select * from `biteam.d_current_table`),interval 30 day) >= date(thoihanhieulucgdpgpp) and date(thoihanhieulucgdpgpp) > (select * from `biteam.d_current_table`) \n",
    "     then makhachhangdms else null end as custid_saphetthoihanhieuluc,\n",
    "     c.custname,\n",
    "     d.tenquanlytt,\n",
    "     d.tenquanlykhuvuc,\n",
    "     d.tenquanlyvung,\n",
    "     c.statedescr,\n",
    "     c.territorydescr\n",
    " from biteam.d_gpp a\n",
    "LEFT JOIN data_quydinh_viengtham b on a.makhachhangdms = b.custid \n",
    "LEFT JOIN `biteam.d_master_khachhang` c on c.custid = a.makhachhangdms\n",
    "LEFT JOIN `biteam.d_users` d on d.manv =b.slsperid\n",
    "\n",
    "),\n",
    "\n",
    "data_kh_quydinh_viengtham as (\n",
    "SELECT slsperid,count(distinct custid)as so_kh_quydinh_viengtham FROM `spatial-vision-343005.biteam.sync_dms_salesroutedet`\n",
    "where \n",
    "extract ( month from (select * from `biteam.d_current_table`)) = extract ( month from visitdate) \n",
    "and extract ( year from (select * from `biteam.d_current_table`)) = extract ( year from visitdate)\n",
    "group by 1\n",
    " ),\n",
    "\n",
    "group_data_kh_chua_viengtham as \n",
    " (\n",
    "   select slsperid,count(distinct custid) as so_kh_chua_viengtham \n",
    "   from data_kh_chua_viengtham\n",
    "   group by 1\n",
    " ),\n",
    " group_data_gpp as \n",
    " (\n",
    "   select slsperid,count(distinct custid_saphetthoihanhieuluc) as custid_saphetthoihanhieuluc,\n",
    "   count(distinct custid_hetthoihanhieuluc) as custid_hetthoihanhieuluc\n",
    "   from data_gpp \n",
    "   group by 1\n",
    " )\n",
    "\n",
    " select  \n",
    "  c.slsperid,\n",
    "  d.tencvbh,\n",
    "  c.so_kh_quydinh_viengtham,\n",
    "  \n",
    "  Case when a.so_kh_chua_viengtham is null then 0 else a.so_kh_chua_viengtham end as so_kh_chua_viengtham,\n",
    "  Case when b.custid_saphetthoihanhieuluc is null then 0 else b.custid_saphetthoihanhieuluc end as custid_saphetthoihanhieuluc,\n",
    "  Case when b.custid_hetthoihanhieuluc is null then 0 else b.custid_hetthoihanhieuluc end as custid_hetthoihanhieuluc,\n",
    "  Case when c.slsperid ='MR1282' then 'nhanvt92@gmail.com'\n",
    "        when c.slsperid ='MR1995' then 'nhanvt@merapgroup.com'\n",
    "        when c.slsperid ='MR1605' then 'duyvq@merapgroup.com'\n",
    "  else null end as send_email\n",
    " from data_kh_quydinh_viengtham c\n",
    "\n",
    " LEFT JOIN group_data_kh_chua_viengtham  a on c.slsperid = a.slsperid\n",
    " LEFT JOIN group_data_gpp b on c.slsperid =b.slsperid\n",
    " LEFT JOIN `biteam.d_users` d on d.manv =c.slsperid\n",
    " \n",
    "  where c.slsperid in ('MR1282','MR1995','MR1605')\n",
    "\n",
    "-- data_kh_phatsinh_dh as \n",
    "-- (\n",
    "--     select slsperid,\n",
    "-- -- date(visitdate) as visitdate,\n",
    "-- mds as tencvbh,tenquanlytt,tenquanlykhuvuc,tenquanlyvung,custid,custname,statedescr,territorydescr,\n",
    "--  count(distinct sl_kh_phatsinhdh) as sl_kh_phatsinh_dh\n",
    "-- from `view_report.f_data_checkin_pbh`\n",
    "\n",
    "-- where tuyen_kh is not null \n",
    "-- and  extract ( month from (select * from `biteam.d_current_table`)) = extract ( month from visitdate) \n",
    "-- and extract ( year from (select * from `biteam.d_current_table`)) = extract ( year from visitdate)\n",
    "-- group by 1,2,3,4,5,6,7,8,9\n",
    "-- having  sl_kh_phatsinh_dh > 0 )\n",
    "\n",
    "\n",
    "\n",
    "\n",
    "\n",
    "\"\"\""
   ]
  },
  {
   "cell_type": "code",
   "execution_count": 198,
   "id": "094a746c",
   "metadata": {},
   "outputs": [],
   "source": [
    "bigqueryClient = bigquery.Client()\n",
    "df = bigqueryClient.query(sql).to_dataframe()\n",
    "# df.index=blankIndex"
   ]
  },
  {
   "cell_type": "code",
   "execution_count": 199,
   "id": "f008b861",
   "metadata": {},
   "outputs": [],
   "source": [
    "date_now = datetime.now().date()"
   ]
  },
  {
   "cell_type": "code",
   "execution_count": 200,
   "id": "5ce5d109",
   "metadata": {},
   "outputs": [],
   "source": [
    "path=f'D:/ipynb/email_merap/_{date_now}_data_send_email.csv'"
   ]
  },
  {
   "cell_type": "code",
   "execution_count": 201,
   "id": "7315dfac",
   "metadata": {},
   "outputs": [],
   "source": [
    "df.to_csv(path,index = False,header=False)"
   ]
  },
  {
   "cell_type": "code",
   "execution_count": 122,
   "id": "07811f0c",
   "metadata": {},
   "outputs": [
    {
     "name": "stdout",
     "output_type": "stream",
     "text": [
      "MR1282 Nguyễn Thị Khánh Vy 253 95 9 55 nhanvt92@gmail.com\n",
      "\n",
      "MR1995 Nguyễn Thanh Thúy Liễu 185 100 3 57 nhanvt@merapgroup.com\n",
      "\n",
      "MR1605 Nguyễn Chí Em 114 63 2 20 duyvq@merapgroup.com\n",
      "\n"
     ]
    }
   ],
   "source": [
    "# with open(os.getcwd()+\"\\\\_2022-09-30_data_send_email.csv\",encoding='utf-8') as f:\n",
    "#     line=f.readlines()[1:]\n",
    "#     for line in line:\n",
    "#         manv, tencvbh, so_kh_quydinh_viengtham, so_kh_chua_viengtham,custid_saphetthoihanhieuluc,custid_hetthoihanhieuluc,send_email = line.split(',')\n",
    "#         print(manv, tencvbh, so_kh_quydinh_viengtham, so_kh_chua_viengtham,custid_saphetthoihanhieuluc,custid_hetthoihanhieuluc,send_email)"
   ]
  },
  {
   "cell_type": "code",
   "execution_count": 210,
   "id": "7ded0461",
   "metadata": {},
   "outputs": [
    {
     "name": "stdout",
     "output_type": "stream",
     "text": [
      "MR1995 Nguyễn Thanh Thúy Liễu 185 100 3 57 nhanvt@merapgroup.com\n",
      "\n",
      "MR1282 Nguyễn Thị Khánh Vy 253 95 9 55 nhanvt92@gmail.com\n",
      "\n",
      "MR1605 Nguyễn Chí Em 114 63 2 20 duyvq@merapgroup.com\n",
      "\n"
     ]
    },
    {
     "ename": "ValueError",
     "evalue": "not enough values to unpack (expected 7, got 1)",
     "output_type": "error",
     "traceback": [
      "\u001b[1;31m---------------------------------------------------------------------------\u001b[0m",
      "\u001b[1;31mValueError\u001b[0m                                Traceback (most recent call last)",
      "\u001b[1;32m~\\AppData\\Local\\Temp/ipykernel_16260/1082697018.py\u001b[0m in \u001b[0;36m<module>\u001b[1;34m\u001b[0m\n\u001b[0;32m      4\u001b[0m     \u001b[1;31m# index =0\u001b[0m\u001b[1;33m\u001b[0m\u001b[1;33m\u001b[0m\u001b[1;33m\u001b[0m\u001b[0m\n\u001b[0;32m      5\u001b[0m     \u001b[1;32mfor\u001b[0m \u001b[0mi\u001b[0m \u001b[1;32min\u001b[0m \u001b[0mrange\u001b[0m\u001b[1;33m(\u001b[0m\u001b[1;36m10\u001b[0m\u001b[1;33m)\u001b[0m\u001b[1;33m:\u001b[0m\u001b[1;33m\u001b[0m\u001b[1;33m\u001b[0m\u001b[0m\n\u001b[1;32m----> 6\u001b[1;33m         \u001b[0mmanv\u001b[0m\u001b[1;33m,\u001b[0m \u001b[0mtencvbh\u001b[0m\u001b[1;33m,\u001b[0m \u001b[0mso_kh_quydinh_viengtham\u001b[0m\u001b[1;33m,\u001b[0m \u001b[0mso_kh_chua_viengtham\u001b[0m\u001b[1;33m,\u001b[0m\u001b[0mcustid_saphetthoihanhieuluc\u001b[0m\u001b[1;33m,\u001b[0m\u001b[0mcustid_hetthoihanhieuluc\u001b[0m\u001b[1;33m,\u001b[0m\u001b[0msend_email\u001b[0m\u001b[1;33m=\u001b[0m\u001b[0mf\u001b[0m\u001b[1;33m.\u001b[0m\u001b[0mreadline\u001b[0m\u001b[1;33m(\u001b[0m\u001b[1;33m)\u001b[0m\u001b[1;33m.\u001b[0m\u001b[0msplit\u001b[0m\u001b[1;33m(\u001b[0m\u001b[1;34m','\u001b[0m\u001b[1;33m)\u001b[0m\u001b[1;33m\u001b[0m\u001b[1;33m\u001b[0m\u001b[0m\n\u001b[0m\u001b[0;32m      7\u001b[0m         \u001b[0mprint\u001b[0m\u001b[1;33m(\u001b[0m\u001b[0mmanv\u001b[0m\u001b[1;33m,\u001b[0m \u001b[0mtencvbh\u001b[0m\u001b[1;33m,\u001b[0m \u001b[0mso_kh_quydinh_viengtham\u001b[0m\u001b[1;33m,\u001b[0m \u001b[0mso_kh_chua_viengtham\u001b[0m\u001b[1;33m,\u001b[0m\u001b[0mcustid_saphetthoihanhieuluc\u001b[0m\u001b[1;33m,\u001b[0m\u001b[0mcustid_hetthoihanhieuluc\u001b[0m\u001b[1;33m,\u001b[0m\u001b[0msend_email\u001b[0m\u001b[1;33m)\u001b[0m\u001b[1;33m\u001b[0m\u001b[1;33m\u001b[0m\u001b[0m\n",
      "\u001b[1;31mValueError\u001b[0m: not enough values to unpack (expected 7, got 1)"
     ]
    }
   ],
   "source": [
    "with open(os.getcwd()+\"\\\\_2022-09-30_data_send_email.csv\",encoding='utf-8') as f:\n",
    "    # line=f.readlines()[1:]\n",
    "    # f.close()\n",
    "    # index =0\n",
    "    for i in range(10):\n",
    "        manv, tencvbh, so_kh_quydinh_viengtham, so_kh_chua_viengtham,custid_saphetthoihanhieuluc,custid_hetthoihanhieuluc,send_email=f.readline().split(',')\n",
    "        print(manv, tencvbh, so_kh_quydinh_viengtham, so_kh_chua_viengtham,custid_saphetthoihanhieuluc,custid_hetthoihanhieuluc,send_email)"
   ]
  },
  {
   "cell_type": "code",
   "execution_count": null,
   "id": "f1b21fa3",
   "metadata": {},
   "outputs": [],
   "source": []
  },
  {
   "cell_type": "code",
   "execution_count": null,
   "metadata": {},
   "outputs": [],
   "source": [
    "# for i in range(1,200):\n",
    "#     #Email connection\n",
    "#     EMAIL_ADDRESS = 'bi@merapgroup.com'\n",
    "#     EMAIL_PASSOWRD = 'Bimerap@999'\n",
    "#     msg = EmailMessage()\n",
    "#     # FROM EMAIL\n",
    "#     msg['From'] = EMAIL_ADDRESS\n",
    "#     # TO EMAIL\n",
    "#     msg['To'] = ['duyvq@merapgroup.com', 'bi@merapgroup.com']\n",
    "#     # BODY\n",
    "#     msg.set_content('DATA VALIDATION ALERT FROM BI TEAM')\n",
    "#     msg['Subject'] = f'BI BOT - Data Driven Reports 2022-09-22-{i}'\n",
    "#     with smtplib.SMTP_SSL('mail.merapgroup.com', 465) as smtp:\n",
    "#         conn_smtp = smtp.login(EMAIL_ADDRESS, EMAIL_PASSOWRD)\n",
    "#         print(conn_smtp)\n",
    "#         smtp.send_message(msg)\n",
    "#         print('Message has been sent')"
   ]
  },
  {
   "cell_type": "code",
   "execution_count": 3,
   "id": "0e5c5f98",
   "metadata": {},
   "outputs": [],
   "source": [
    "# with open(os.getcwd()+\"\\\\_2022-09-30_data_send_email.csv\") as f:\n",
    "#     for i in range(1,200):\n",
    "#         try:\n",
    "#             manv, tencvbh, so_kh_quydinh_viengtham, so_kh_chua_viengtham,custid_saphetthoihanhieuluc,custid_hetthoihanhieuluc,send_email = f.readline().split(',')\n",
    "#             sendmail(manv, tencvbh, so_kh_quydinh_viengtham, so_kh_chua_viengtham,custid_saphetthoihanhieuluc,custid_hetthoihanhieuluc,send_email)\n",
    "#         except:\n",
    "#             break"
   ]
  },
  {
   "cell_type": "code",
   "execution_count": 104,
   "id": "60aa21a8",
   "metadata": {},
   "outputs": [],
   "source": [
    "import pandas as pd"
   ]
  },
  {
   "cell_type": "code",
   "execution_count": 202,
   "id": "e7a8b80e",
   "metadata": {},
   "outputs": [],
   "source": [
    "from datetime import datetime\n",
    "from email.header import Header\n",
    "\n",
    "# from email import utils\n",
    "# from email import errors\n",
    "# from email._policybase import Policy, compat32\n",
    "# from email import charset as _charset\n",
    "# from email._encoded_words import decode_b\n",
    "# Charset = _charset.Charset"
   ]
  },
  {
   "cell_type": "code",
   "execution_count": 211,
   "id": "919eaa11",
   "metadata": {},
   "outputs": [],
   "source": [
    "def sendmail(manv, tencvbh, so_kh_quydinh_viengtham, so_kh_chua_viengtham,custid_saphetthoihanhieuluc,custid_hetthoihanhieuluc,send_email):\n",
    "#Email connection\n",
    "    EMAIL_ADDRESS = 'bi@merapgroup.com'\n",
    "    EMAIL_PASSOWRD = 'Bimerap@999'\n",
    "    msg = EmailMessage()\n",
    "     #Subject\n",
    "    msg['Subject'] = f'[Data Driven Report] Danh Sách Khách Hàng Cần Quan Tâm ngày {date_now}'\n",
    "     # FROM EMAIL\n",
    "    msg['From'] = EMAIL_ADDRESS\n",
    "        # TO EMAIL\n",
    "    msg['To'] = send_email\n",
    "        # BODY\n",
    "    msg.set_content(f'''\n",
    "    Xin Chào: {tencvbh}, Mã số NV: {manv}\n",
    "\n",
    "    1) Bạn Còn {so_kh_chua_viengtham} / {so_kh_quydinh_viengtham} Nhà Thuốc chưa viếng thăm trong tháng này:\n",
    "    Link: https://datastudio.google.com/s/tZDbi53fhZ0\n",
    "\n",
    "    2) Bạn có {custid_saphetthoihanhieuluc} Nhà Thuốc sắp hết thởi gian GPP trong tháng:\n",
    "    Link: https://datastudio.google.com/s/tZDbi53fhZ0\n",
    "\n",
    "    3) Bạn có {custid_hetthoihanhieuluc} Nhà Thuốc sắp hết thởi gian GPP trong tháng:\n",
    "    Link: https://datastudio.google.com/s/tZDbi53fhZ0\n",
    "\n",
    "    Đây là tin nhắn gửi tự động vui lòng không phản hồi !!!\n",
    "    ''')\n",
    "    with smtplib.SMTP_SSL('mail.merapgroup.com', 465) as smtp:\n",
    "        conn_smtp = smtp.login(EMAIL_ADDRESS, EMAIL_PASSOWRD)\n",
    "        print(conn_smtp)\n",
    "        smtp.send_message(msg)\n",
    "        print('Message has been sent')\n",
    "        print(datetime.now())\n",
    "    print(send_email)"
   ]
  },
  {
   "cell_type": "code",
   "execution_count": 212,
   "id": "af85b0b5",
   "metadata": {},
   "outputs": [],
   "source": [
    "import time\n",
    "def send_email_auto():\n",
    "    with open(os.getcwd()+\"\\\\_2022-09-30_data_send_email.csv\",encoding='utf-8') as f:\n",
    "        # line=f.readlines()[1:]\n",
    "        # f.close()\n",
    "        for i in range(10):\n",
    "            try:\n",
    "                manv, tencvbh, so_kh_quydinh_viengtham, so_kh_chua_viengtham,custid_saphetthoihanhieuluc,custid_hetthoihanhieuluc,send_email = f.readline().split(',')\n",
    "                sendmail(manv, tencvbh, so_kh_quydinh_viengtham, so_kh_chua_viengtham,custid_saphetthoihanhieuluc,custid_hetthoihanhieuluc,send_email)\n",
    "                time.sleep(5)\n",
    "            except:\n",
    "                break\n"
   ]
  },
  {
   "cell_type": "code",
   "execution_count": 213,
   "id": "a29d3e05",
   "metadata": {},
   "outputs": [
    {
     "name": "stdout",
     "output_type": "stream",
     "text": [
      "(235, b'2.7.0 Authentication successful')\n",
      "Message has been sent\n",
      "2022-09-30 14:42:57.003406\n",
      "nhanvt@merapgroup.com\n",
      "\n",
      "(235, b'2.7.0 Authentication successful')\n",
      "Message has been sent\n",
      "2022-09-30 14:43:02.215070\n",
      "nhanvt92@gmail.com\n",
      "\n",
      "(235, b'2.7.0 Authentication successful')\n",
      "Message has been sent\n",
      "2022-09-30 14:43:07.377331\n",
      "duyvq@merapgroup.com\n",
      "\n"
     ]
    }
   ],
   "source": [
    "send_email_auto()"
   ]
  },
  {
   "cell_type": "code",
   "execution_count": 92,
   "id": "5d8cf18a",
   "metadata": {},
   "outputs": [],
   "source": [
    "# def send_email_auto():\n",
    "#     with open(os.getcwd()+\"\\\\_2022-09-30_data_send_email.csv\") as f:\n",
    "#         lines = f.readlines()[1:]\n",
    "#         for i in range(2,200):\n",
    "#             try:\n",
    "#                 manv, tencvbh, sokh, so_khchua,saphethan,hetthoihan,send_email = f.readline().split(',')\n",
    "#                 sendmail(manv, tencvbh, sokh, so_khchua,saphethan,hetthoihan,send_email )\n",
    "#             except:\n",
    "#                 break"
   ]
  },
  {
   "cell_type": "code",
   "execution_count": 93,
   "id": "ef1e69b4",
   "metadata": {},
   "outputs": [],
   "source": [
    "send_email_auto()"
   ]
  },
  {
   "cell_type": "code",
   "execution_count": 57,
   "id": "c31538f9",
   "metadata": {},
   "outputs": [
    {
     "name": "stdout",
     "output_type": "stream",
     "text": [
      "0 nhanvt@merapgroup.com\n",
      "(235, b'2.7.0 Authentication successful')\n",
      "Message has been sent\n",
      "2022-09-30 12:30:09.679202\n",
      "1 nhanvt92@gmail.com\n",
      "(235, b'2.7.0 Authentication successful')\n",
      "Message has been sent\n",
      "2022-09-30 12:30:09.814205\n",
      "2 duyvq@merapgroup.com\n",
      "(235, b'2.7.0 Authentication successful')\n",
      "Message has been sent\n",
      "2022-09-30 12:30:09.950230\n"
     ]
    }
   ],
   "source": [
    "# for i in range(1,200):\n",
    "#Email connection\n",
    "from datetime import datetime\n",
    "index =0\n",
    "for i in to_email:\n",
    "    EMAIL_ADDRESS = 'bi@merapgroup.com'\n",
    "    EMAIL_PASSOWRD = 'Bimerap@999'\n",
    "    msg = EmailMessage()\n",
    "    # FROM EMAIL\n",
    "    msg['From'] = EMAIL_ADDRESS\n",
    "    # TO EMAIL\n",
    "    msg['To'] = i\n",
    "    print(index, i)\n",
    "    index += 1\n",
    "    # BODY\n",
    "    msg.set_content(f''' \n",
    "    Xin Chào {tencvbh}, Mã số NV {manv}\n",
    "\n",
    "    1) Bạn Còn {so_kh_chua_viengtham} / {so_kh_quydinh_viengtham} Nhà Thuốc chưa viếng thăm trong tháng này:\n",
    "    Link: https://datastudio.google.com/s/tZDbi53fhZ0\n",
    "\n",
    "    # 2) Bạn có {df['custid_saphetthoihanhieuluc']} Nhà Thuốc sắp hết thởi gian GPP trong tháng:\n",
    "    # Link: https://datastudio.google.com/s/tZDbi53fhZ0\n",
    "\n",
    "    # 3) Bạn có {df['custid_hetthoihanhieuluc']} Nhà Thuốc sắp hết thởi gian GPP trong tháng:\n",
    "    # Link: https://datastudio.google.com/s/tZDbi53fhZ0\n",
    "\n",
    "    Đây là tin nhắn gửi tự động vui lòng không phản hồi !!!\n",
    "    '''\n",
    "    # , subtype='text/plain'\n",
    "    )\n",
    "\n",
    "    msg['Subject'] = f'[Data Driven Report] Danh Sách Khách Hàng Cần Quan Tâm ngày 2022-09-30'\n",
    "    with smtplib.SMTP_SSL('mail.merapgroup.com', 465) as smtp:\n",
    "        conn_smtp = smtp.login(EMAIL_ADDRESS, EMAIL_PASSOWRD)\n",
    "        print(conn_smtp)\n",
    "        smtp.send_message(msg)\n",
    "        print('Message has been sent')\n",
    "        print(datetime.now())"
   ]
  },
  {
   "cell_type": "code",
   "execution_count": 155,
   "metadata": {},
   "outputs": [
    {
     "name": "stdout",
     "output_type": "stream",
     "text": [
      "('OK', [b'12'])\n",
      "b'1 2 3 4 5 6 7 8 9 10 11 12'\n",
      "[b'1', b'2', b'3', b'4', b'5', b'6', b'7', b'8', b'9', b'10', b'11', b'12']\n",
      "['__bytes__', '__class__', '__contains__', '__delattr__', '__delitem__', '__dict__', '__dir__', '__doc__', '__eq__', '__format__', '__ge__', '__getattribute__', '__getitem__', '__gt__', '__hash__', '__init__', '__init_subclass__', '__iter__', '__le__', '__len__', '__lt__', '__module__', '__ne__', '__new__', '__reduce__', '__reduce_ex__', '__repr__', '__setattr__', '__setitem__', '__sizeof__', '__slotnames__', '__str__', '__subclasshook__', '__weakref__', '_add_multipart', '_body_types', '_charset', '_default_type', '_find_body', '_get_params_preserve', '_headers', '_make_multipart', '_payload', '_unixfrom', 'add_alternative', 'add_attachment', 'add_header', 'add_related', 'as_bytes', 'as_string', 'attach', 'clear', 'clear_content', 'defects', 'del_param', 'epilogue', 'get', 'get_all', 'get_body', 'get_boundary', 'get_charset', 'get_charsets', 'get_content', 'get_content_charset', 'get_content_disposition', 'get_content_maintype', 'get_content_subtype', 'get_content_type', 'get_default_type', 'get_filename', 'get_param', 'get_params', 'get_payload', 'get_unixfrom', 'is_attachment', 'is_multipart', 'items', 'iter_attachments', 'iter_parts', 'keys', 'make_alternative', 'make_mixed', 'make_related', 'policy', 'preamble', 'raw_items', 'replace_header', 'set_boundary', 'set_charset', 'set_content', 'set_default_type', 'set_param', 'set_payload', 'set_raw', 'set_type', 'set_unixfrom', 'values', 'walk']\n",
      "====\n",
      "report@merapgroup.com\n",
      "====\n",
      "duyvq@merapgroup.com\n",
      "====\n",
      "test email\n",
      "====\n",
      "<bound method Message.__contains__ of <email.message.EmailMessage object at 0x000001C9A90E0550>>\n",
      "====\n",
      "multipart\n",
      "====\n",
      "<generator object walk at 0x000001C9A897AF90>\n"
     ]
    }
   ],
   "source": [
    "# #Email connection\n",
    "# EMAIL_ADDRESS = 'report@merapgroup.com'\n",
    "# EMAIL_PASSOWRD = 'Report@111'\n",
    "# msg = EmailMessage()\n",
    "# # FROM EMAIL\n",
    "# msg['From'] = EMAIL_ADDRESS\n",
    "# # TO EMAIL\n",
    "# msg['To'] = ['duyvq@merapgroup.com']\n",
    "# # BODY\n",
    "# msg.set_content('DATA VALIDATION ALERT FROM BI TEAM')\n",
    "# msg['Subject'] = '[ALERT] IN TRANSIT df has duplicate values'\n",
    "# with imaplib.IMAP4_SSL('smtp.merapgroup.com') as conn:\n",
    "#     conn.login(EMAIL_ADDRESS, EMAIL_PASSOWRD)\n",
    "#     conn.select('INBOX')\n",
    "#     print(conn.select('INBOX'))\n",
    "#     result, data = conn.uid('search', None, \"ALL\")\n",
    "#     print(data[0])\n",
    "#     inbox_item_list = data[0].split()\n",
    "#     print(inbox_item_list)\n",
    "#     newest = inbox_item_list[-1]\n",
    "#     result2, email_data = conn.uid('fetch', newest, '(RFC822)')\n",
    "#     raw_email = email_data[0][1].decode('utf-8')\n",
    "#     email_message = email.message_from_string(raw_email,policy=email.policy.default)\n",
    "#     print(dir(email_message))\n",
    "#     print('====')\n",
    "#     print(email_message['To'])\n",
    "#     print('====')\n",
    "#     print(email_message['From'])\n",
    "#     print('====')\n",
    "#     print(email_message['Subject'])\n",
    "#     print('====')\n",
    "#     print(email_message.__contains__)\n",
    "#     print('====')\n",
    "#     print(email_message.get_content_maintype())\n",
    "#     print('====')\n",
    "#     print(email_message.walk())\n",
    "# #     for part in email_message.walk():\n",
    "# #         print(part)"
   ]
  },
  {
   "cell_type": "code",
   "execution_count": 148,
   "metadata": {},
   "outputs": [
    {
     "name": "stdout",
     "output_type": "stream",
     "text": [
      "TEST SUBJECT\n"
     ]
    }
   ],
   "source": [
    "print(email_message['Subject'])"
   ]
  },
  {
   "cell_type": "code",
   "execution_count": 156,
   "metadata": {},
   "outputs": [
    {
     "name": "stdout",
     "output_type": "stream",
     "text": [
      "Hi this is a body of the email\r\n",
      "\r\n",
      " \r\n",
      "\r\n",
      "\n"
     ]
    }
   ],
   "source": [
    "body = email_message.get_body(('plain',))\n",
    "if body:\n",
    "    body = body.get_content()\n",
    "print(body)"
   ]
  },
  {
   "cell_type": "code",
   "execution_count": 150,
   "metadata": {},
   "outputs": [
    {
     "data": {
      "text/plain": [
       "True"
      ]
     },
     "execution_count": 150,
     "metadata": {},
     "output_type": "execute_result"
    }
   ],
   "source": [
    "email_message.is_multipart()"
   ]
  },
  {
   "cell_type": "code",
   "execution_count": 133,
   "metadata": {
    "scrolled": true
   },
   "outputs": [
    {
     "name": "stdout",
     "output_type": "stream",
     "text": [
      "[<email.message.Message object at 0x000001C9A90E4550>, <email.message.Message object at 0x000001C9A90E4820>]\n",
      "import os=0A=\r\n",
      "from googleapiclient import discovery=0A=\r\n",
      "from google.oauth2 import service_account=0A=\r\n",
      "import pandas as pd=0A=\r\n",
      "import warnings=0A=\r\n",
      "import psycopg2=0A=\r\n",
      "from urllib.parse import urlparse=0A=\r\n",
      "from collector.libs.pandas_utils import insert_df_to_postgres=0A=\r\n",
      "from email.message import EmailMessage=0A=\r\n",
      "=0A=\r\n",
      "warnings.filterwarnings('ignore')=0A=\r\n",
      "=0A=\r\n",
      "=0A=\r\n",
      "def get_postgres_conn(url):=0A=\r\n",
      "    try:=0A=\r\n",
      "        result =3D urlparse(url)=0A=\r\n",
      "        username =3D result.username=0A=\r\n",
      "        password =3D result.password=0A=\r\n",
      "        database =3D result.path[1:]=0A=\r\n",
      "        hostname =3D result.hostname=0A=\r\n",
      "        port =3D result.port=0A=\r\n",
      "=0A=\r\n",
      "        return psycopg2.connect(user=3Dusername,=0A=\r\n",
      "                                password=3Dpassword,=0A=\r\n",
      "                                host=3Dhostname,=0A=\r\n",
      "                                port=3Dport,=0A=\r\n",
      "                                database=3Ddatabase), {=0A=\r\n",
      "                                    \"host\": hostname,=0A=\r\n",
      "                                    \"port\": port,=0A=\r\n",
      "                                    \"user\": username,=0A=\r\n",
      "                                    \"password\": password,=0A=\r\n",
      "                                    \"database\": database=0A=\r\n",
      "                                }=0A=\r\n",
      "    except (Exception, psycopg2.Error) as error:=0A=\r\n",
      "        print(error)=0A=\r\n",
      "        raise=0A=\r\n",
      "=0A=\r\n",
      "=0A=\r\n",
      "DATABASE_URL =3D os.getenv('DF', )=0A=\r\n",
      "connection, postgres_conf =3D get_postgres_conn(DATABASE_URL)=0A=\r\n",
      "=0A=\r\n",
      "=0A=\r\n",
      "def check_and_insert(df_raw):=0A=\r\n",
      "    #Email connection=0A=\r\n",
      "    EMAIL_ADDRESS =3D 'asdasdasdasdasdasdasd'=0A=\r\n",
      "    EMAIL_PASSOWRD =3D 'sdsdsdsd'=0A=\r\n",
      "    msg =3D EmailMessage()=0A=\r\n",
      "    # FROM EMAIL=0A=\r\n",
      "    msg['From'] =3D EMAIL_ADDRESS=0A=\r\n",
      "    # TO EMAIL=0A=\r\n",
      "    msg['To'] =3D ['sdsdsdsdsd']=0A=\r\n",
      "    # BODY=0A=\r\n",
      "    msg.set_content('DATA VALIDATION ALERT FROM BI TEAM')=0A=\r\n",
      "=0A=\r\n",
      "    #connect to speadsheet=0A=\r\n",
      "    scopes =3D [=0A=\r\n",
      "        'https://www.googleapis.com/auth/spreadsheets',=0A=\r\n",
      "        'https://www.googleapis.com/auth/drive',=0A=\r\n",
      "        'https://www.googleapis.com/auth/drive.file'=0A=\r\n",
      "    ]=0A=\r\n",
      "    jsonfile =3D os.path.join(os.getcwd(), 'asdasdasdasasdasd')=0A=\r\n",
      "    credentials =3D =\r\n",
      "service_account.Credentials.from_service_account_file(=0A=\r\n",
      "        jsonfile, scopes=3Dscopes)=0A=\r\n",
      "    service =3D discovery.build('sheets', 'v4', =\r\n",
      "credentials=3Dcredentials)=0A=\r\n",
      "    #connect to data in spreadsheets=0A=\r\n",
      "    spreadsheets_id =3D 'asdasdasdasd'=0A=\r\n",
      "    response =3D service.spreadsheets().values().get(=0A=\r\n",
      "        spreadsheetId=3Dspreadsheets_id,=0A=\r\n",
      "        majorDimension=3D'ROWS',=0A=\r\n",
      "        range=3D'sdsdsdsdsd').execute()=0A=\r\n",
      "    #data transform=0A=\r\n",
      "    columns =3D response['values'][1]=0A=\r\n",
      "    data =3D [item for item in response['values'][2:]]=0A=\r\n",
      "    df_raw =3D pd.DataFrame(data, columns=3Dcolumns)=0A=\r\n",
      "    df_raw['In-transit_Q.ty'] =3D pd.to_numeric(=0A=\r\n",
      "        df_raw['In-transit_Q.ty'], =\r\n",
      "errors=3D'coerce').fillna(0).astype('int64')=0A=\r\n",
      "    df_raw['WH Transfer'] =3D pd.to_numeric(=0A=\r\n",
      "        df_raw['WH Transfer'], =\r\n",
      "errors=3D'coerce').fillna(0).astype('int64')=0A=\r\n",
      "    df_raw.columns =3D [=0A=\r\n",
      "        'brand', 'po', 'sku', 'intransit_suppliers_to_op',=0A=\r\n",
      "        'intransit_3pl_warehouse_to_platform_warehouse'=0A=\r\n",
      "    ]=0A=\r\n",
      "=0A=\r\n",
      "    #data validation=0A=\r\n",
      "    duplicates =3D df_raw.duplicated(subset=3D['po', 'sku']).sum()=0A=\r\n",
      "    wrong_intransit_qty =3D (df_raw['intransit_suppliers_to_op'] < =\r\n",
      "0).sum()=0A=\r\n",
      "    wrong_whtransfer_qty =3D (=0A=\r\n",
      "        df_raw['intransit_3pl_warehouse_to_platform_warehouse'] < =\r\n",
      "0).sum()=0A=\r\n",
      "    if duplicates > 0:=0A=\r\n",
      "        msg['Subject'] =3D '[ALERT] IN TRANSIT df has duplicate values'=0A=\r\n",
      "        with smtplib.SMTP_SSL('smtp.gmail.com', 465) as smtp:=0A=\r\n",
      "            smtp.login(EMAIL_ADDRESS, EMAIL_PASSOWRD)=0A=\r\n",
      "            smtp.send_message(msg)=0A=\r\n",
      "        assert duplicates =3D=3D 0, 'df has duplicate values'=0A=\r\n",
      "    elif wrong_intransit_qty > 0:=0A=\r\n",
      "        msg['Subject'] =3D '[ALERT] IN TRANSIT df has wrong qty input'=0A=\r\n",
      "        with smtplib.SMTP_SSL('smtp.gmail.com', 465) as smtp:=0A=\r\n",
      "            smtp.login(EMAIL_ADDRESS, EMAIL_PASSOWRD)=0A=\r\n",
      "            smtp.send_message(msg)=0A=\r\n",
      "        assert wrong_intransit_qty =3D=3D 0, 'df has wrong values at =\r\n",
      "wrong_intransit_qty'=0A=\r\n",
      "    elif wrong_whtransfer_qty > 0:=0A=\r\n",
      "        msg['Subject'] =3D '[ALERT] IN TRANSIT df has wrong qty input'=0A=\r\n",
      "        with smtplib.SMTP_SSL('smtp.gmail.com', 465) as smtp:=0A=\r\n",
      "            smtp.login(EMAIL_ADDRESS, EMAIL_PASSOWRD)=0A=\r\n",
      "            smtp.send_message(msg)=0A=\r\n",
      "        assert wrong_whtransfer_qty =3D=3D 0, 'df has wrong values at =\r\n",
      "wrong_whtransfer_qty'=0A=\r\n",
      "    else:=0A=\r\n",
      "        msg['Subject'] =3D '[ALERT] IN TRANSIT QTY FROM SC, ALL =\r\n",
      "VALIDATION PASSED'=0A=\r\n",
      "        print(\"\\033[92m No duplicate found\")=0A=\r\n",
      "        print(\"\\033[92m No wrong values at wrong_intransit_qty\")=0A=\r\n",
      "        print(\"\\033[92m No wrong values at wrong_whtransfer_qty\")=0A=\r\n",
      "        with smtplib.SMTP_SSL('smtp.gmail.com', 465) as smtp:=0A=\r\n",
      "            smtp.login(EMAIL_ADDRESS, EMAIL_PASSOWRD)=0A=\r\n",
      "            smtp.send_message(msg)=0A=\r\n",
      "        insert_df_to_postgres(postgres_conf,=0A=\r\n",
      "                              tbl_name=3D\"sdsdsdsdsdssdsd\",=0A=\r\n",
      "                              df=3Ddf_raw,=0A=\r\n",
      "                              primary_keys=3D['po', 'sku', =\r\n",
      "'inserted_at'],=0A=\r\n",
      "                              schema=3D\"public\")=0A=\r\n",
      "=0A=\r\n",
      "=0A=\r\n",
      "check_and_insert()\n"
     ]
    }
   ],
   "source": [
    "list = []\n",
    "for payload in email_message.get_payload():\n",
    "    print(payload.get_payload())"
   ]
  },
  {
   "cell_type": "code",
   "execution_count": 136,
   "metadata": {},
   "outputs": [
    {
     "data": {
      "text/plain": [
       "'C:\\\\Users\\\\DELL\\\\Downloads\\\\Documents\\\\ipython_file'"
      ]
     },
     "execution_count": 136,
     "metadata": {},
     "output_type": "execute_result"
    }
   ],
   "source": [
    "os.getcwd()"
   ]
  },
  {
   "cell_type": "code",
   "execution_count": 158,
   "metadata": {},
   "outputs": [],
   "source": [
    "# downloading attachments\n",
    "for part in email_message.walk():\n",
    "    # this part comes from the snipped I don't understand yet... \n",
    "    if part.get_content_maintype() == 'multipart':\n",
    "        continue\n",
    "    if part.get('Content-Disposition') is None:\n",
    "        continue\n",
    "    fileName = part.get_filename()\n",
    "    if bool(fileName):\n",
    "        filePath = os.path.join(os.getcwd(), fileName)\n",
    "        if not os.path.isfile(filePath) :\n",
    "            fp = open(filePath, 'wb')\n",
    "            fp.write(part.get_payload(decode=True))\n",
    "            fp.close()\n",
    "#             subject = str(email_message).split(\"Subject: \", 1)[1].split(\"\\nTo:\", 1)[0]\n",
    "#             print('Downloaded \"{file}\" from email titled \"{subject}\" with UID {uid}.'.format(file=fileName, subject=subject, uid=newest))"
   ]
  }
 ],
 "metadata": {
  "kernelspec": {
   "display_name": "Python 3.8.10 ('venv': venv)",
   "language": "python",
   "name": "python3"
  },
  "language_info": {
   "codemirror_mode": {
    "name": "ipython",
    "version": 3
   },
   "file_extension": ".py",
   "mimetype": "text/x-python",
   "name": "python",
   "nbconvert_exporter": "python",
   "pygments_lexer": "ipython3",
   "version": "3.8.10"
  },
  "vscode": {
   "interpreter": {
    "hash": "72321b5291c527ca109b5cc6ad676402c04fd488c9b2ef3077125125353c5488"
   }
  }
 },
 "nbformat": 4,
 "nbformat_minor": 5
}
