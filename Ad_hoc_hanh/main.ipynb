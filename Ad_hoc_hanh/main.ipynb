{
 "cells": [
  {
   "cell_type": "code",
   "execution_count": 1,
   "metadata": {},
   "outputs": [
    {
     "name": "stdout",
     "output_type": "stream",
     "text": [
      "Default bq project:  spatial-vision-343005.biteam\n"
     ]
    }
   ],
   "source": [
    "from utils.df_handle import *"
   ]
  },
  {
   "cell_type": "code",
   "execution_count": 2,
   "metadata": {},
   "outputs": [
    {
     "name": "stderr",
     "output_type": "stream",
     "text": [
      "1it [00:36, 36.40s/it]\n"
     ]
    }
   ],
   "source": [
    "df2 = pd.read_csv('20220720_F_TrackingDebt_BI.csv')\n",
    "# dk = df2.tiennocongty > 1000\n",
    "# df2 = df2[dk].copy()\n",
    "df2.DateOfOrder = convert_to_datetime(df2.DateOfOrder)\n",
    "df2.DueDate = convert_to_datetime(df2.DueDate)\n",
    "df2.deli_last_updated = pd.to_datetime(df2.deli_last_updated, dayfirst=True)\n",
    "# dk1=df2['SubChannel'].isin(\"\")\n",
    "# dk2=True\n",
    "\n",
    "# *------------------*\n",
    "#24032022\n",
    "df2.columns = lower_col(df2)\n",
    "dk1 = df2.subchannel.isin([\"NT\",\"PK\",\"SI\"])\n",
    "dk2 = df2.paymentsform == \"TM\"\n",
    "# dka = df2.terms.isin( [\"Gối Đầu 30 Pha Nam\",\"Thu tiền ngay không có VP PN\",\"Thu tiền ngay có VP PN\",\"Gối 1 Đơn Hàng (trong 30 ngày)\"] )\n",
    "dkfinal1 = dk1&dk2\n",
    "dk3 = df2.subchannel == 'CHUOI'\n",
    "dk4 = df2.termstype == \"Thanh Toán Ngay\"\n",
    "dk5 = df2.paymentsform == \"TM\"\n",
    "dkfinal2 = dk3&dk4&dk5\n",
    "dk6 = df2.subchannel.isin([\"INS1\",\"INS2\",\"INS3\"])\n",
    "df2['debtincharge_v2']=np.where(dkfinal1 | dkfinal2, \"MDS\", \\\n",
    "    np.where(dk6, \"INS\", \"CS\"))\n",
    "# *------------------*\n",
    "\n",
    "dk1 = df2.ordernbr == 'DH122018-17643'\n",
    "dk2 = df2.branchid == 'MR0001'\n",
    "df2.debtincharge_v2 = np.where(dk1&dk2, \"CS\", df2.debtincharge_v2)\n",
    "# *------------------*\n",
    "\n",
    "#update Hanh input\n",
    "dk1 = df2.ordernbr == 'DH062018-13754'\n",
    "dk2 = df2.branchid == 'MR0003'\n",
    "df2.debtincharge_v2 = np.where(dk1&dk2, \"CS\", df2.debtincharge_v2)\n",
    "#\n",
    "dk=df2['debtincharge_v2'] == 'MDS'\n",
    "df2 = df2[dk].copy()\n",
    "df2['inserted_at'] = datetime.now()\n",
    "# BQ first \n",
    "bq_values_insert(df2, \"f_tracking_debt_hanhngu\", 3)"
   ]
  },
  {
   "cell_type": "code",
   "execution_count": null,
   "metadata": {},
   "outputs": [],
   "source": []
  }
 ],
 "metadata": {
  "kernelspec": {
   "display_name": "Python 3.9.6 ('venv': venv)",
   "language": "python",
   "name": "python3"
  },
  "language_info": {
   "codemirror_mode": {
    "name": "ipython",
    "version": 3
   },
   "file_extension": ".py",
   "mimetype": "text/x-python",
   "name": "python",
   "nbconvert_exporter": "python",
   "pygments_lexer": "ipython3",
   "version": "3.9.6"
  },
  "orig_nbformat": 4,
  "vscode": {
   "interpreter": {
    "hash": "dff776f8cf9899793f9a0f4d147d4ee0e914dc3f9ff7764d86dd5f5383f5f250"
   }
  }
 },
 "nbformat": 4,
 "nbformat_minor": 2
}
