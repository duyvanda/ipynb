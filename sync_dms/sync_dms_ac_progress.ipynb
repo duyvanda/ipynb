{
 "cells": [
  {
   "cell_type": "code",
   "execution_count": 2,
   "metadata": {},
   "outputs": [
    {
     "name": "stdout",
     "output_type": "stream",
     "text": [
      "Default bq project:  spatial-vision-343005.biteam\n"
     ]
    }
   ],
   "source": [
    "from utils.df_handle import *"
   ]
  },
  {
   "cell_type": "code",
   "execution_count": null,
   "metadata": {},
   "outputs": [],
   "source": [
    "# from utils.df_handle import *\n",
    "import pendulum\n",
    "from airflow import DAG\n",
    "from airflow.operators.dummy_operator import DummyOperator\n",
    "from airflow.operators.python_operator import PythonOperator\n",
    "\n",
    "local_tz = pendulum.timezone(\"Asia/Bangkok\")\n",
    "\n",
    "name='AC_PROGRESS'\n",
    "prefix='SYNC_'\n",
    "csv_path = '/usr/local/airflow/plugins'+'/'\n",
    "\n",
    "dag_params = {\n",
    "    'owner': 'airflow',\n",
    "    \"depends_on_past\": False,\n",
    "    'start_date': datetime(2022, 5, 10, tzinfo=local_tz),\n",
    "    'email_on_failure': True,\n",
    "    'email_on_retry': False,\n",
    "    'email':['duyvq@merapgroup.com', 'vanquangduy10@gmail.com'],\n",
    "    'do_xcom_push': False,\n",
    "    'execution_timeout':timedelta(seconds=300)\n",
    "    # 'retries': 3,\n",
    "    # 'retry_delay': timedelta(minutes=10),\n",
    "}\n",
    "\n",
    "dag = DAG(prefix+name,\n",
    "          catchup=False,\n",
    "          default_args=dag_params,\n",
    "          schedule_interval= '0 1 * * *',\n",
    "          tags=[prefix+name, 'Sync', '30mins']\n",
    ")"
   ]
  },
  {
   "cell_type": "code",
   "execution_count": 2,
   "metadata": {},
   "outputs": [],
   "source": [
    "start_date = '2022-01-01'\n",
    "datenow = datetime.now().strftime(\"%Y-%m-%d\")\n",
    "datenow_mns1 = (datetime.now() - timedelta(days=1)).strftime(\"%Y-%m-%d\")\n",
    "fdom = datetime.now().replace(day=1).strftime(\"%Y-%m-%d\")"
   ]
  },
  {
   "cell_type": "code",
   "execution_count": 1,
   "metadata": {},
   "outputs": [],
   "source": [
    "# from_tb = \"OM_Delivery\""
   ]
  },
  {
   "cell_type": "code",
   "execution_count": 3,
   "metadata": {},
   "outputs": [],
   "source": [
    "table_name = \"d_accumulated_progress\"\n",
    "table_temp = \"d_accumulated_progress_temp\""
   ]
  },
  {
   "cell_type": "code",
   "execution_count": 46,
   "metadata": {},
   "outputs": [
    {
     "name": "stdout",
     "output_type": "stream",
     "text": [
      "delete_sql:  \n",
      "TRUNCATE TABLE biteam.d_accumulated_progress\n",
      "\n"
     ]
    }
   ],
   "source": [
    "dsql = \\\n",
    "f\"\"\"\n",
    "TRUNCATE TABLE biteam.{table_name}\n",
    "\"\"\"\n",
    "print(\"delete_sql: \", dsql)\n",
    "execute_bq_query(dsql)"
   ]
  },
  {
   "cell_type": "code",
   "execution_count": 44,
   "metadata": {},
   "outputs": [
    {
     "name": "stderr",
     "output_type": "stream",
     "text": [
      "1it [00:04,  4.30s/it]\n"
     ]
    },
    {
     "name": "stdout",
     "output_type": "stream",
     "text": [
      "No DATA AT CN MR0005\n"
     ]
    },
    {
     "name": "stderr",
     "output_type": "stream",
     "text": [
      "1it [00:03,  3.19s/it]\n"
     ]
    },
    {
     "name": "stdout",
     "output_type": "stream",
     "text": [
      "No DATA AT CN MR0011\n"
     ]
    },
    {
     "name": "stderr",
     "output_type": "stream",
     "text": [
      "1it [00:06,  6.42s/it]\n",
      "1it [00:03,  3.40s/it]\n",
      "1it [00:05,  5.30s/it]\n",
      "1it [00:03,  3.08s/it]\n",
      "1it [00:05,  5.36s/it]\n"
     ]
    }
   ],
   "source": [
    "cn_lst = ['MR0001','MR0005','MR0010','MR0011','MR0012','MR0013','MR0014','MR0015','MR0016'] \n",
    "\n",
    "for cn in cn_lst:\n",
    "\tsql = \\\n",
    "\tf\"\"\"\n",
    "\tDECLARE @LangID SMALLINT=1;\n",
    "\tDECLARE @FromDate DATETIME ='2022-01-01';\n",
    "\tDECLARE @ToDate DATETIME ='2022-05-24';\n",
    "\n",
    "\tDECLARE @BranchID  VARCHAR(30)='{cn}';\n",
    "\tDECLARE @AccumulateID VARCHAR(50)='CSBH2204OTC-14QD/MR-KS-STO';\n",
    "\n",
    "\tDECLARE @AccumulateSelected1 nvarchar(400)= dbo.fr_Language('AccumulateSelected1', @langid);\n",
    "\tDECLARE @Selected BIT = 1;\n",
    "\n",
    "\tDECLARE @AccumulateSelected0 nvarchar(400)= dbo.fr_Language('AccumulateSelected0', @langid);\n",
    "\tDECLARE @ApplyType VARCHAR(5)=(select TOP 1 ApplyType from OM_Accumulated a WITH(NOLOCK) WHERE a.AccumulateID=@AccumulateID);\n",
    "\n",
    "\n",
    "\twith #ReturnOrd as\n",
    "\t(\n",
    "\tSELECT DISTINCT o.BranchID, o.OrderNbr ,OrigOrderNbrCM\n",
    "\t--INTO #ReturnOrd\n",
    "\tFROM (\n",
    "\t-- Đơn Trả CO WHERE THEO pdasaleord od.OriOrderNbrUp\n",
    "\tSELECT DISTINCT o.BranchID, o.OrigOrderNbr AS OrderNbr,oc.OrigOrderNbr AS OrigOrderNbrCM\n",
    "\t--INTO #ReturnOrd\n",
    "\tFROM dbo.OM_SalesOrd o WITH(NOLOCK)\n",
    "\tINNER JOIN dbo.OM_PDASalesOrd od WITH(NOLOCK) ON od.BranchID = o.BranchID AND o.OrigOrderNbr = od.OrderNbr\n",
    "\tINNER JOIN dbo.OM_SalesOrd oc WITH(NOLOCK) ON oc.BranchID = od.BranchID AND oc.OrderNbr = od.OriOrderNbrUp\n",
    "\t\t\t\n",
    "\tWHERE o.Status ='C' AND o.OrderType IN ('CO') AND o.BranchID=@BranchID and (od.OrderDate BETWEEN @FromDate AND @ToDate)\n",
    "\t--AND o.OrderNbr='HD092021-09682'\t\n",
    "\tUNION\n",
    "\t-- Đơn Trả IR WHERE THEO pdasaleord od.OrigOrderNbr\n",
    "\tSELECT DISTINCT o.BranchID, o.OrigOrderNbr AS OrderNbr,oc.OrigOrderNbr AS OrigOrderNbrCM\n",
    "\t--INTO #ReturnOrd\n",
    "\tFROM dbo.OM_SalesOrd o WITH(NOLOCK)\n",
    "\tINNER JOIN dbo.OM_PDASalesOrd od WITH(NOLOCK) ON od.BranchID = o.BranchID AND o.OrigOrderNbr = od.OrderNbr\n",
    "\tINNER JOIN dbo.OM_SalesOrd oc WITH(NOLOCK) ON oc.BranchID = od.BranchID AND oc.OrderNbr = od.OrigOrderNbr\n",
    "\t--INNER JOIN #tblAccumulatedResult b  WITH(NOLOCK) ON b.CustID = o.CustID AND (od.OrderDate BETWEEN b.FromDate AND b.ToDate)\n",
    "\tWHERE o.Status ='C'AND o.OrderType IN ('IR') AND o.BranchID=@BranchID and (od.OrderDate BETWEEN @FromDate AND @ToDate)\n",
    "\t) o\t\n",
    "\t)\n",
    "\t-- Đơn Bán\n",
    "\n",
    "\t,\n",
    "\t#SalesOrdC as\n",
    "\t(\n",
    "\tSELECT DISTINCT o.BranchID, o.OrigOrderNbr AS OrderNbr\n",
    "\t--INTO #SalesOrdC\n",
    "\tFROM OM_SalesOrd o WITH(NOLOCK)\n",
    "\tINNER JOIN dbo.OM_PDASalesOrd od WITH(NOLOCK) ON od.BranchID = o.BranchID AND o.OrigOrderNbr = od.OrderNbr\n",
    "\t--INNER JOIN #tblAccumulatedResult b  WITH(NOLOCK) ON b.CustID = o.CustID AND (od.OrderDate BETWEEN b.FromDate AND b.ToDate)\n",
    "\tLEFT JOIN OM_AccumulatedResultDet ad WITH(NOLOCK) ON od.BranchID =ad.BranchID AND od.OrderNbr=ad.OrderNbr\n",
    "\tWHERE o.OrderType ='IN' \n",
    "\tAND ad.BranchID IS NULL --20211030 trunght loại các đơn đã có trong OM_AccumulatedResultDet\n",
    "\tAND o.BranchID = @BranchID AND o.Status = 'C'\n",
    "\tand (od.OrderDate BETWEEN @FromDate AND @ToDate)\n",
    "\n",
    "\t)\n",
    "\t---20210927 TRUNGHT VIẾT LẠI LẤY ĐƠN DET\n",
    "\t-- Đơn Trả\n",
    "\tSELECT T.ARDocType,T.AccumulateSelected,T.LineRef,T.AccumulateID,T.BranchID,T.CustID,T.OrderNbr,\n",
    "\tT.AccumulatedValue,T.OrderDate,T.tstamp,T.Sel,T.OrderType,SumDiscAmt = SUM(ROUND(t.SumDiscAmt,0)) FROM \n",
    "\t(\n",
    "\tSELECT\n",
    "\t\tot.ARDocType,--20210629 trunght lấy thêm ARDocType để kiểm tra ko kiểm tra theo OrderType\n",
    "\t\tAccumulateSelected = CASE WHEN d.Selected = @Selected \n",
    "\t\t\t\t\t\t\t\tTHEN @AccumulateSelected1\n",
    "\t\t\t\t\t\t\t\tELSE @AccumulateSelected0 \n",
    "\t\t\t\t\t\t\tEND, \n",
    "\t\tLineRef ='', \n",
    "\t\td.AccumulateID,\n",
    "\t\ta.BranchID,a.CustID,a.OrderNbr\n",
    "\t\t,AccumulatedValue =  SUM (\n",
    "\t\t\t\t\t\tCASE WHEN @ApplyType = 'A' THEN c.LineQty * c.SlsPrice * -1 \n",
    "\t\t\t\t\t\tELSE (\n",
    "\t\t\t\t\t\t\t\tCASE WHEN c.UnitMultDiv = 'M' THEN c.LineQty * UnitRate \n",
    "\t\t\t\t\t\t\t\tELSE c.LineQty / c.UnitRate \n",
    "\t\t\t\t\t\t\t\tEND\n",
    "\t\t\t\t\t\t) END)--a.LineAmt--20210927 TRUNGHT SUM lại tránh bị double 2 dòng accumulate giống nhau\n",
    "\t\t,a.OrderDate,\n",
    "\t\tSumDiscAmt = ROUND(od.DiscAmt,0) * -1,  --- Ngochb bỏ sum do trùng kết quả\n",
    "\t\td.tstamp,\n",
    "\t\tSel=d.Selected,\n",
    "\t\ta.OrderType\n",
    "\tFROM OM_PDASalesOrd a WITH(NOLOCK)\n",
    "\tINNER JOIN OM_PDASalesOrdDet c WITH(NOLOCK) ON c.BranchID = a.BranchID AND c.OrderNbr = a.OrderNbr AND c.FreeItem = 0\n",
    "\tINNER JOIN OM_AccumulatedInvtSetup T11 ON T11.AccumulateID = @AccumulateID AND T11.InvtID = c.InvtID\n",
    "\tINNER JOIN #ReturnOrd oc ON oc.OrderNbr = a.OrderNbr AND oc.BranchID = a.BranchID\n",
    "\tINNER JOIN OM_OrderType ot WITH(NOLOCK) ON a.OrderType = ot.OrderType\t\t\n",
    "\tINNER JOIN OM_AccumulatedOrderApproval d WITH(NOLOCK) ON d.OrderNbr = a.OrderNbr AND d.BranchID = a.BranchID AND d.AccumulateID = @AccumulateID\t\n",
    "\tLEFT JOIN OM_PDAOrdDisc od WITH(NOLOCK) ON od.OrderNbr = a.OrderNbr AND od.BranchID = a.BranchID AND c.LineRef IN (SELECT part FROM dbo.fr_SplitStringMAX(od.GroupRefLineRef,','))\n",
    "\tWHERE a.BranchID = @BranchID AND a.Status = 'C' AND ot.ARDocType ='CM'\n",
    "\tGROUP BY od.DiscAmt,ot.ARDocType,d.AccumulateID,a.BranchID,a.CustID,a.OrderNbr,a.LineAmt,a.OrderDate, d.tstamp, d.Selected, a.OrderType --- Ngochb bỏ sum do trùng kết quả\n",
    "\t)T\n",
    "\t--LEFT JOIN OM_PDAOrdDisc od WITH(NOLOCK) ON od.OrderNbr = T.OrderNbr AND od.BranchID = T.BranchID --AND T.LineRef IN (SELECT part FROM dbo.fr_SplitStringMAX(od.GroupRefLineRef,','))\n",
    "\tGROUP BY T.ARDocType,T.AccumulateSelected,T.LineRef,T.AccumulateID,T.BranchID,T.CustID,T.OrderNbr,T.AccumulatedValue,T.OrderDate,T.tstamp,T.Sel,T.OrderType\n",
    "\tUNION ALL\n",
    "\t--ĐƠN BÁN\n",
    "\tSELECT T.ARDocType,T.AccumulateSelected,T.LineRef,T.AccumulateID,T.BranchID,T.CustID,T.OrderNbr,\n",
    "\tT.AccumulatedValue,T.OrderDate,T.tstamp,T.Sel,T.OrderType,SumDiscAmt = SUM(ROUND(t.SumDiscAmt,0))\n",
    "\tFROM\n",
    "\t(\n",
    "\tSELECT\n",
    "\t\t\tot.ARDocType,--20210629 trunght lấy thêm ARDocType để kiểm tra ko kiểm tra theo OrderType\n",
    "\t\tAccumulateSelected = CASE WHEN d.Selected = @Selected \n",
    "\t\t\t\t\t\t\tTHEN @AccumulateSelected1\n",
    "\t\t\t\t\t\t\tELSE @AccumulateSelected0 \n",
    "\t\t\t\t\t\tEND, \n",
    "\t\tLineRef ='', \n",
    "\t\td.AccumulateID,\n",
    "\t\ta.BranchID,a.CustID,a.OrderNbr\n",
    "\t\t,AccumulatedValue = SUM (\n",
    "\t\t\t\t\t\tCASE WHEN @ApplyType = 'A' THEN c.LineQty * c.SlsPrice \n",
    "\t\t\t\t\t\tELSE (\n",
    "\t\t\t\t\t\t\t\tCASE WHEN c.UnitMultDiv = 'M' THEN c.LineQty * UnitRate \n",
    "\t\t\t\t\t\t\t\tELSE c.LineQty / c.UnitRate \n",
    "\t\t\t\t\t\t\t\tEND\n",
    "\t\t\t\t\t\t) END)--a.LineAmt--20210927 TRUNGHT SUM lại tránh bị double 2 dòng accumulate giống nhau\n",
    "\t\t,a.OrderDate,\n",
    "\t\tSumDiscAmt = ROUND(ISNULL(od.DiscAmt,0),0),--SUM(ROUND(ISNULL(od.DiscAmt,0),0)),  --- Ngochb bỏ sum do trùng kết quả\n",
    "\t\td.tstamp,\n",
    "\t\tSel=d.Selected,\n",
    "\t\ta.OrderType\n",
    "\n",
    "\tFROM OM_PDASalesOrd a WITH(NOLOCK)\n",
    "\tINNER JOIN OM_PDASalesOrdDet c WITH(NOLOCK) ON c.BranchID = a.BranchID AND c.OrderNbr = a.OrderNbr AND c.FreeItem = 0\n",
    "\tINNER JOIN OM_AccumulatedInvtSetup T11 ON T11.AccumulateID = @AccumulateID AND T11.InvtID = c.InvtID\n",
    "\tINNER JOIN #SalesOrdC oc ON oc.OrderNbr = a.OrderNbr AND oc.BranchID = a.BranchID\n",
    "\tINNER JOIN OM_OrderType ot WITH(NOLOCK) ON a.OrderType = ot.OrderType\t\t\n",
    "\tINNER JOIN OM_AccumulatedOrderApproval d WITH(NOLOCK) ON d.OrderNbr = a.OrderNbr AND d.BranchID = a.BranchID AND d.AccumulateID = @AccumulateID\t\n",
    "\tLEFT JOIN OM_PDAOrdDisc od WITH(NOLOCK) ON od.OrderNbr = a.OrderNbr AND od.BranchID = a.BranchID AND c.LineRef IN (SELECT part FROM dbo.fr_SplitStringMAX(od.GroupRefLineRef,','))\n",
    "\tWHERE a.BranchID = @BranchID AND a.Status = 'C' AND ot.ARDocType ='IN'\n",
    "\tGROUP BY ISNULL(od.DiscAmt,0),ot.ARDocType,d.AccumulateID,a.BranchID,a.CustID,a.OrderNbr,a.LineAmt,a.OrderDate, d.tstamp, d.Selected, a.OrderType--,od.DiscAmt --- Ngochb bỏ sum do trùng kết quả\n",
    "\t--ORDER BY d.Selected DESC\n",
    "\t)T\n",
    "\t--LEFT JOIN OM_PDAOrdDisc od WITH(NOLOCK) ON od.OrderNbr = T.OrderNbr AND od.BranchID = T.BranchID --AND T.LineRef IN (SELECT part FROM dbo.fr_SplitStringMAX(od.GroupRefLineRef,','))\n",
    "\tGROUP BY T.ARDocType,T.AccumulateSelected,T.LineRef,T.AccumulateID,T.BranchID,T.CustID,T.OrderNbr,T.AccumulatedValue,T.OrderDate,T.tstamp,T.Sel,T.OrderType\n",
    "\t--DROP TABLE #tblAccumulatedResult\n",
    "\t--DROP TABLE #tblOrderDet\n",
    "\t--DROP TABLE #SalesOrdC\n",
    "\t--DROP TABLE #ReturnOrd\n",
    "\t\"\"\"\n",
    "\tdf = get_ms_df(sql)\n",
    "\ttry:\n",
    "\t\tassert df.shape[0] > 0\n",
    "\t\tdf.columns = lower_col(df)\n",
    "\t\tdrop_cols(df, 'tstamp')\n",
    "\t\tdf['inserted_at'] = datetime.now()\n",
    "\t\tdf.columns = ['ardoctype', 'accumulateselected', 'lineref', 'accumulateid',\n",
    "       'branchid', 'custid', 'origordernbr', 'accumulatedvalue', 'orderdate',\n",
    "       'sel', 'ordertype', 'sumdiscamt','inserted_at']\n",
    "\t\tbq_values_insert(df, f\"{table_name}\", 2)\n",
    "\t\tprint(\"finish insert at cn\", cn)\n",
    "\texcept AssertionError:\n",
    "\t\tprint(\"No DATA AT CN\", cn)\n"
   ]
  },
  {
   "cell_type": "code",
   "execution_count": null,
   "metadata": {},
   "outputs": [],
   "source": [
    "# dummy_start = DummyOperator(task_id=\"dummy_start\", dag=dag)\n",
    "\n",
    "# insert = PythonOperator(task_id=\"insert\", python_callable=insert, dag=dag)\n",
    "\n",
    "# update = PythonOperator(task_id=\"update\", python_callable=update, dag=dag)\n",
    "\n",
    "# dummy_start >> insert >> update"
   ]
  }
 ],
 "metadata": {
  "interpreter": {
   "hash": "dff776f8cf9899793f9a0f4d147d4ee0e914dc3f9ff7764d86dd5f5383f5f250"
  },
  "kernelspec": {
   "display_name": "Python 3.9.6 ('venv': venv)",
   "language": "python",
   "name": "python3"
  },
  "language_info": {
   "codemirror_mode": {
    "name": "ipython",
    "version": 3
   },
   "file_extension": ".py",
   "mimetype": "text/x-python",
   "name": "python",
   "nbconvert_exporter": "python",
   "pygments_lexer": "ipython3",
   "version": "3.9.6"
  },
  "orig_nbformat": 4
 },
 "nbformat": 4,
 "nbformat_minor": 2
}
