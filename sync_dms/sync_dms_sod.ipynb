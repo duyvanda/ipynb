{
 "cells": [
  {
   "cell_type": "code",
   "execution_count": 1,
   "metadata": {},
   "outputs": [
    {
     "name": "stdout",
     "output_type": "stream",
     "text": [
      "Default bq project:  spatial-vision-343005.biteam\n"
     ]
    }
   ],
   "source": [
    "from utils.df_handle import *"
   ]
  },
  {
   "cell_type": "code",
   "execution_count": null,
   "metadata": {},
   "outputs": [],
   "source": [
    "# from utils.df_handle import *\n",
    "import pendulum\n",
    "from airflow import DAG\n",
    "from airflow.operators.dummy_operator import DummyOperator\n",
    "from airflow.operators.python_operator import PythonOperator\n",
    "\n",
    "local_tz = pendulum.timezone(\"Asia/Bangkok\")\n",
    "\n",
    "name='SOD'\n",
    "prefix='SYNC_'\n",
    "csv_path = '/usr/local/airflow/plugins'+'/'\n",
    "\n",
    "dag_params = {\n",
    "    'owner': 'airflow',\n",
    "    \"depends_on_past\": False,\n",
    "    'start_date': datetime(2022, 5, 10, tzinfo=local_tz),\n",
    "    'email_on_failure': True,\n",
    "    'email_on_retry': False,\n",
    "    'email':['duyvq@merapgroup.com', 'vanquangduy10@gmail.com'],\n",
    "    'do_xcom_push': False,\n",
    "    'execution_timeout':timedelta(seconds=300)\n",
    "    # 'retries': 3,\n",
    "    # 'retry_delay': timedelta(minutes=10),\n",
    "}\n",
    "\n",
    "dag = DAG(prefix+name,\n",
    "          catchup=False,\n",
    "          default_args=dag_params,\n",
    "          schedule_interval= '*/30 8-17,23-23 * * *',\n",
    "          tags=[prefix+name, 'Sync', '30mins']\n",
    ")"
   ]
  },
  {
   "cell_type": "code",
   "execution_count": 4,
   "metadata": {},
   "outputs": [],
   "source": [
    "start_date = '2022-01-01'\n",
    "datenow = datetime.now().strftime(\"%Y-%m-%d\")\n",
    "datenow_mns1 = (datetime.now() - timedelta(days=1)).strftime(\"%Y-%m-%d\")\n",
    "fdom = datetime.now().replace(day=1).strftime(\"%Y-%m-%d\")"
   ]
  },
  {
   "cell_type": "code",
   "execution_count": 5,
   "metadata": {},
   "outputs": [],
   "source": [
    "from_tb = \"OM_SalesOrdDet\""
   ]
  },
  {
   "cell_type": "code",
   "execution_count": 11,
   "metadata": {},
   "outputs": [],
   "source": [
    "sql = \\\n",
    "f\"\"\"\n",
    "DECLARE @from DATE = '{start_date}'\n",
    "DECLARE @to DATE = '2022-01-31'\n",
    "SELECT\n",
    "CONCAT(BranchID, OrderNbr, LineRef) as pk,\n",
    "BranchID,\n",
    "OrderNbr,\n",
    "LineRef,\n",
    "FreeItem,\n",
    "InvtID,\n",
    "LineQty,\n",
    "OrderType,\n",
    "OrigOrderNbr,\n",
    "SiteID,\n",
    "Crtd_Prog,\n",
    "Crtd_User,\n",
    "Crtd_Datetime,\n",
    "LUpd_Datetime,\n",
    "SlsperID,\n",
    "OriginalLineRef,\n",
    "BeforeVATPrice,\n",
    "BeforeVATAmount,\n",
    "AfterVATPrice,\n",
    "AfterVATAmount,\n",
    "VATAmount\n",
    "from {from_tb}\n",
    "where Crtd_Datetime >= @from\n",
    "\"\"\""
   ]
  },
  {
   "cell_type": "code",
   "execution_count": 12,
   "metadata": {},
   "outputs": [],
   "source": [
    "table_name = \"sync_dms_sod1\"\n",
    "table_temp = \"sync_dms_sod_temp\""
   ]
  },
  {
   "cell_type": "code",
   "execution_count": 10,
   "metadata": {},
   "outputs": [
    {
     "name": "stderr",
     "output_type": "stream",
     "text": [
      "1it [00:06,  6.69s/it]\n"
     ]
    }
   ],
   "source": [
    "df = get_ms_df(sql)\n",
    "df['inserted_at'] = datetime.now()\n",
    "bq_values_insert(df, f\"{table_temp}\", 3)\n",
    "sql = \\\n",
    "f\"\"\"\n",
    "DROP TABLE IF EXISTS biteam.{table_name};\n",
    "CREATE TABLE biteam.{table_name} LIKE biteam.{table_temp}\n",
    "PARTITION BY DATE(crtd_datetime)\n",
    "CLUSTER BY pk,branchid,origordernbr,ordernbr\n",
    "\"\"\"\n",
    "execute_bq_query(sql)"
   ]
  },
  {
   "cell_type": "code",
   "execution_count": 13,
   "metadata": {},
   "outputs": [
    {
     "name": "stderr",
     "output_type": "stream",
     "text": [
      "1it [00:28, 28.11s/it]\n"
     ]
    }
   ],
   "source": [
    "df = get_ms_df(sql)\n",
    "df['inserted_at'] = datetime.now()\n",
    "bq_values_insert(df, f\"{table_name}\", 2)"
   ]
  },
  {
   "cell_type": "code",
   "execution_count": 1,
   "metadata": {},
   "outputs": [
    {
     "ename": "NameError",
     "evalue": "name 'datenow' is not defined",
     "output_type": "error",
     "traceback": [
      "\u001b[1;31m---------------------------------------------------------------------------\u001b[0m",
      "\u001b[1;31mNameError\u001b[0m                                 Traceback (most recent call last)",
      "\u001b[1;32m~\\AppData\\Local\\Temp/ipykernel_6704/388291647.py\u001b[0m in \u001b[0;36m<module>\u001b[1;34m\u001b[0m\n\u001b[0;32m      1\u001b[0m \u001b[0musql\u001b[0m \u001b[1;33m=\u001b[0m\u001b[0;31m \u001b[0m\u001b[0;31m\\\u001b[0m\u001b[1;33m\u001b[0m\u001b[1;33m\u001b[0m\u001b[0m\n\u001b[0;32m      2\u001b[0m f\"\"\"\n\u001b[1;32m----> 3\u001b[1;33m \u001b[0mDECLARE\u001b[0m \u001b[1;33m@\u001b[0m\u001b[1;32mfrom\u001b[0m \u001b[0mDATE\u001b[0m \u001b[1;33m=\u001b[0m \u001b[1;34m'{datenow}'\u001b[0m\u001b[1;33m\u001b[0m\u001b[1;33m\u001b[0m\u001b[0m\n\u001b[0m\u001b[0;32m      4\u001b[0m \u001b[0mDECLARE\u001b[0m \u001b[1;33m@\u001b[0m\u001b[0mto\u001b[0m \u001b[0mDATE\u001b[0m \u001b[1;33m=\u001b[0m \u001b[1;34m'2022-01-31'\u001b[0m\u001b[1;33m\u001b[0m\u001b[1;33m\u001b[0m\u001b[0m\n\u001b[0;32m      5\u001b[0m \u001b[0mSELECT\u001b[0m\u001b[1;33m\u001b[0m\u001b[1;33m\u001b[0m\u001b[0m\n",
      "\u001b[1;31mNameError\u001b[0m: name 'datenow' is not defined"
     ]
    }
   ],
   "source": [
    "usql = \\\n",
    "f\"\"\"\n",
    "DECLARE @from DATE = '{datenow}'\n",
    "DECLARE @to DATE = '2022-01-31'\n",
    "SELECT\n",
    "CONCAT(BranchID, OrderNbr, LineRef) as pk,\n",
    "BranchID,\n",
    "OrderNbr,\n",
    "LineRef,\n",
    "FreeItem,\n",
    "InvtID,\n",
    "LineQty,\n",
    "OrderType,\n",
    "OrigOrderNbr,\n",
    "SiteID,\n",
    "Crtd_Prog,\n",
    "Crtd_User,\n",
    "Crtd_Datetime,\n",
    "LUpd_Datetime,\n",
    "SlsperID,\n",
    "OriginalLineRef,\n",
    "BeforeVATPrice,\n",
    "BeforeVATAmount,\n",
    "AfterVATPrice,\n",
    "AfterVATAmount,\n",
    "VATAmount\n",
    "from {from_tb}\n",
    "where LUpd_DateTime >= @from\n",
    "and Crtd_DateTime < @from\n",
    "\"\"\""
   ]
  },
  {
   "cell_type": "code",
   "execution_count": 50,
   "metadata": {},
   "outputs": [
    {
     "name": "stdout",
     "output_type": "stream",
     "text": [
      "\n",
      "DECLARE @from DATE = '2022-05-14'\n",
      "DECLARE @to DATE = '2022-01-31'\n",
      "SELECT\n",
      "BranchID,\n",
      "OrderNbr,\n",
      "LineRef,\n",
      "FreeItem,\n",
      "InvtID,\n",
      "LineQty,\n",
      "OrderType,\n",
      "OrigOrderNbr,\n",
      "SiteID,\n",
      "Crtd_Prog,\n",
      "Crtd_User,\n",
      "Crtd_Datetime,\n",
      "LUpd_Datetime,\n",
      "SlsperID,\n",
      "OriginalLineRef,\n",
      "BeforeVATPrice,\n",
      "BeforeVATAmount,\n",
      "AfterVATPrice,\n",
      "AfterVATAmount,\n",
      "VATAmount\n",
      "from OM_SalesOrdDet\n",
      "where LUpd_DateTime >= @from\n",
      "and Crtd_DateTime < @from\n",
      "\n"
     ]
    }
   ],
   "source": [
    "print(usql)"
   ]
  },
  {
   "cell_type": "code",
   "execution_count": 6,
   "metadata": {},
   "outputs": [],
   "source": [
    "# print(sql)"
   ]
  },
  {
   "cell_type": "code",
   "execution_count": 42,
   "metadata": {},
   "outputs": [],
   "source": [
    "table_name = \"sync_dms_sod1\"\n",
    "table_temp = \"sync_dms_sod_temp\""
   ]
  },
  {
   "cell_type": "code",
   "execution_count": 28,
   "metadata": {},
   "outputs": [
    {
     "name": "stderr",
     "output_type": "stream",
     "text": [
      "1it [01:26, 86.78s/it]\n"
     ]
    }
   ],
   "source": [
    "#INSERT\n",
    "df = get_ms_df(sql)\n",
    "df['inserted_at'] = datetime.now()\n",
    "# bq_values_insert(df, f\"{table_temp}\", 3)\n",
    "# sql = \\\n",
    "# f\"\"\"\n",
    "# DROP TABLE IF EXISTS biteam.{table_name};\n",
    "# CREATE TABLE biteam.{table_name} LIKE biteam.{table_temp}\n",
    "# PARTITION BY DATE(crtd_datetime)\n",
    "# CLUSTER BY branchid,origordernbr,slsperid,lineref\n",
    "# \"\"\"\n",
    "# print(sql)\n",
    "# execute_bq_query(sql)\n",
    "\n",
    "dsql = \\\n",
    "f\"\"\"\n",
    "delete from biteam.{table_name} where date(crtd_datetime) >= '{datenow}'\n",
    "\"\"\"\n",
    "print(\"delete_sql: \", dsql)\n",
    "execute_bq_query(dsql)\n",
    "\n",
    "\n",
    "bq_values_insert(df, f\"{table_name}\", 2)\n",
    "# sql = \\\n",
    "# f\"\"\"\n",
    "# DROP TABLE IF EXISTS biteam.{table_temp};\n",
    "# \"\"\"\n",
    "# execute_bq_query(sql)"
   ]
  },
  {
   "cell_type": "code",
   "execution_count": 62,
   "metadata": {},
   "outputs": [
    {
     "name": "stdout",
     "output_type": "stream",
     "text": [
      "Index(['branchid', 'ordernbr', 'lineref', 'freeitem', 'invtid', 'lineqty',\n",
      "       'ordertype', 'origordernbr', 'siteid', 'crtd_prog', 'crtd_user',\n",
      "       'crtd_datetime', 'lupd_datetime', 'slsperid', 'originallineref',\n",
      "       'beforevatprice', 'beforevatamount', 'aftervatprice', 'aftervatamount',\n",
      "       'vatamount'],\n",
      "      dtype='object')\n",
      "del_sql  \n",
      "DELETE FROM biteam.sync_dms_sod1\n",
      "WHERE\n",
      "DATE(crtd_datetime) in ('2022-05-12', '1900-01-01')\n",
      "AND concat(branchid,ordernbr,lineref) in ('MR0001HD0-0522-0401100001', 'MR0001HD0-0522-0401100002', 'MR0001HD0-0522-0401100003', 'MR0001HD0-0522-0401100004', 'MR0001HD0-0522-0401100005', 'MR0001HD0-0522-0401100006', 'MR0001HD0-0522-0401100007', 'MR0001HD0-0522-0401100008', 'MR0001HD0-0522-0401100009', 'MR0001HD0-0522-0401100010', 'MR0001HD0-0522-0401100011', 'MR0001HD0-0522-0401100012', '')\n",
      "\n"
     ]
    },
    {
     "name": "stderr",
     "output_type": "stream",
     "text": [
      "1it [00:05,  5.60s/it]\n"
     ]
    }
   ],
   "source": [
    "#UPDATE\n",
    "df_update = get_ms_df(usql)\n",
    "df_update.columns = lower_col(df_update)\n",
    "print (df_update.columns)\n",
    "df_update['crtd_datetime'] = df_update.crtd_datetime.dt.normalize()\n",
    "df_update1 = df_update['crtd_datetime']\n",
    "df_update1.drop_duplicates(inplace=True)\n",
    "tpl_dt = tuple(df_update1.dt.strftime('%Y-%m-%d').to_list()) + ('1900-01-01',)\n",
    "# tpl_dt\n",
    "df_update1 = df_update['branchid'] + df_update['ordernbr'] + df_update['lineref']\n",
    "df_update1.drop_duplicates(inplace=True)\n",
    "tpl_pk = tuple(df_update1.to_list()) + ('',)\n",
    "del_sql = \\\n",
    "f\"\"\"\n",
    "DELETE FROM biteam.{table_name}\n",
    "WHERE\n",
    "DATE(crtd_datetime) in {tpl_dt}\n",
    "AND concat(branchid,ordernbr,lineref) in {tpl_pk}\n",
    "\"\"\"\n",
    "print(\"del_sql \",del_sql)\n",
    "execute_bq_query(del_sql)\n",
    "df_update['inserted_at'] = datetime.now()\n",
    "bq_values_insert(df_update, f\"{table_name}\", 2)"
   ]
  },
  {
   "cell_type": "code",
   "execution_count": 60,
   "metadata": {},
   "outputs": [],
   "source": [
    "execute_bq_query(del_sql)"
   ]
  },
  {
   "cell_type": "code",
   "execution_count": 61,
   "metadata": {},
   "outputs": [
    {
     "name": "stderr",
     "output_type": "stream",
     "text": [
      "1it [00:04,  4.47s/it]\n"
     ]
    }
   ],
   "source": [
    "bq_values_insert(df_update, f\"{table_name}\", 2)"
   ]
  },
  {
   "cell_type": "code",
   "execution_count": 58,
   "metadata": {},
   "outputs": [
    {
     "data": {
      "text/plain": [
       "('MR0001HD0-0522-0401100001',\n",
       " 'MR0001HD0-0522-0401100002',\n",
       " 'MR0001HD0-0522-0401100003',\n",
       " 'MR0001HD0-0522-0401100004',\n",
       " 'MR0001HD0-0522-0401100005',\n",
       " 'MR0001HD0-0522-0401100006',\n",
       " 'MR0001HD0-0522-0401100007',\n",
       " 'MR0001HD0-0522-0401100008',\n",
       " 'MR0001HD0-0522-0401100009',\n",
       " 'MR0001HD0-0522-0401100010',\n",
       " 'MR0001HD0-0522-0401100011',\n",
       " 'MR0001HD0-0522-0401100012',\n",
       " '')"
      ]
     },
     "execution_count": 58,
     "metadata": {},
     "output_type": "execute_result"
    }
   ],
   "source": [
    "tpl_pk + ('',)"
   ]
  },
  {
   "cell_type": "code",
   "execution_count": 57,
   "metadata": {},
   "outputs": [
    {
     "data": {
      "text/plain": [
       "('2022-05-12', '1900-01-01')"
      ]
     },
     "execution_count": 57,
     "metadata": {},
     "output_type": "execute_result"
    }
   ],
   "source": [
    "tpl_dt + ('1900-01-01',)"
   ]
  },
  {
   "cell_type": "code",
   "execution_count": 56,
   "metadata": {},
   "outputs": [
    {
     "ename": "AttributeError",
     "evalue": "Can only use .dt accessor with datetimelike values",
     "output_type": "error",
     "traceback": [
      "\u001b[1;31m---------------------------------------------------------------------------\u001b[0m",
      "\u001b[1;31mAttributeError\u001b[0m                            Traceback (most recent call last)",
      "\u001b[1;32m~\\AppData\\Local\\Temp/ipykernel_15612/2489713365.py\u001b[0m in \u001b[0;36m<module>\u001b[1;34m\u001b[0m\n\u001b[1;32m----> 1\u001b[1;33m \u001b[0mdf_update1\u001b[0m\u001b[1;33m.\u001b[0m\u001b[0mdt\u001b[0m\u001b[1;33m.\u001b[0m\u001b[0mstrftime\u001b[0m\u001b[1;33m(\u001b[0m\u001b[1;34m'%Y-%m-%d'\u001b[0m\u001b[1;33m)\u001b[0m\u001b[1;33m.\u001b[0m\u001b[0mto_list\u001b[0m\u001b[1;33m(\u001b[0m\u001b[1;33m)\u001b[0m\u001b[1;33m\u001b[0m\u001b[1;33m\u001b[0m\u001b[0m\n\u001b[0m",
      "\u001b[1;32md:\\data_sale\\venv\\lib\\site-packages\\pandas\\core\\generic.py\u001b[0m in \u001b[0;36m__getattr__\u001b[1;34m(self, name)\u001b[0m\n\u001b[0;32m   5485\u001b[0m         ):\n\u001b[0;32m   5486\u001b[0m             \u001b[1;32mreturn\u001b[0m \u001b[0mself\u001b[0m\u001b[1;33m[\u001b[0m\u001b[0mname\u001b[0m\u001b[1;33m]\u001b[0m\u001b[1;33m\u001b[0m\u001b[1;33m\u001b[0m\u001b[0m\n\u001b[1;32m-> 5487\u001b[1;33m         \u001b[1;32mreturn\u001b[0m \u001b[0mobject\u001b[0m\u001b[1;33m.\u001b[0m\u001b[0m__getattribute__\u001b[0m\u001b[1;33m(\u001b[0m\u001b[0mself\u001b[0m\u001b[1;33m,\u001b[0m \u001b[0mname\u001b[0m\u001b[1;33m)\u001b[0m\u001b[1;33m\u001b[0m\u001b[1;33m\u001b[0m\u001b[0m\n\u001b[0m\u001b[0;32m   5488\u001b[0m \u001b[1;33m\u001b[0m\u001b[0m\n\u001b[0;32m   5489\u001b[0m     \u001b[1;32mdef\u001b[0m \u001b[0m__setattr__\u001b[0m\u001b[1;33m(\u001b[0m\u001b[0mself\u001b[0m\u001b[1;33m,\u001b[0m \u001b[0mname\u001b[0m\u001b[1;33m:\u001b[0m \u001b[0mstr\u001b[0m\u001b[1;33m,\u001b[0m \u001b[0mvalue\u001b[0m\u001b[1;33m)\u001b[0m \u001b[1;33m->\u001b[0m \u001b[1;32mNone\u001b[0m\u001b[1;33m:\u001b[0m\u001b[1;33m\u001b[0m\u001b[1;33m\u001b[0m\u001b[0m\n",
      "\u001b[1;32md:\\data_sale\\venv\\lib\\site-packages\\pandas\\core\\accessor.py\u001b[0m in \u001b[0;36m__get__\u001b[1;34m(self, obj, cls)\u001b[0m\n\u001b[0;32m    179\u001b[0m             \u001b[1;31m# we're accessing the attribute of the class, i.e., Dataset.geo\u001b[0m\u001b[1;33m\u001b[0m\u001b[1;33m\u001b[0m\u001b[1;33m\u001b[0m\u001b[0m\n\u001b[0;32m    180\u001b[0m             \u001b[1;32mreturn\u001b[0m \u001b[0mself\u001b[0m\u001b[1;33m.\u001b[0m\u001b[0m_accessor\u001b[0m\u001b[1;33m\u001b[0m\u001b[1;33m\u001b[0m\u001b[0m\n\u001b[1;32m--> 181\u001b[1;33m         \u001b[0maccessor_obj\u001b[0m \u001b[1;33m=\u001b[0m \u001b[0mself\u001b[0m\u001b[1;33m.\u001b[0m\u001b[0m_accessor\u001b[0m\u001b[1;33m(\u001b[0m\u001b[0mobj\u001b[0m\u001b[1;33m)\u001b[0m\u001b[1;33m\u001b[0m\u001b[1;33m\u001b[0m\u001b[0m\n\u001b[0m\u001b[0;32m    182\u001b[0m         \u001b[1;31m# Replace the property with the accessor object. Inspired by:\u001b[0m\u001b[1;33m\u001b[0m\u001b[1;33m\u001b[0m\u001b[1;33m\u001b[0m\u001b[0m\n\u001b[0;32m    183\u001b[0m         \u001b[1;31m# https://www.pydanny.com/cached-property.html\u001b[0m\u001b[1;33m\u001b[0m\u001b[1;33m\u001b[0m\u001b[1;33m\u001b[0m\u001b[0m\n",
      "\u001b[1;32md:\\data_sale\\venv\\lib\\site-packages\\pandas\\core\\indexes\\accessors.py\u001b[0m in \u001b[0;36m__new__\u001b[1;34m(cls, data)\u001b[0m\n\u001b[0;32m    504\u001b[0m             \u001b[1;32mreturn\u001b[0m \u001b[0mPeriodProperties\u001b[0m\u001b[1;33m(\u001b[0m\u001b[0mdata\u001b[0m\u001b[1;33m,\u001b[0m \u001b[0morig\u001b[0m\u001b[1;33m)\u001b[0m\u001b[1;33m\u001b[0m\u001b[1;33m\u001b[0m\u001b[0m\n\u001b[0;32m    505\u001b[0m \u001b[1;33m\u001b[0m\u001b[0m\n\u001b[1;32m--> 506\u001b[1;33m         \u001b[1;32mraise\u001b[0m \u001b[0mAttributeError\u001b[0m\u001b[1;33m(\u001b[0m\u001b[1;34m\"Can only use .dt accessor with datetimelike values\"\u001b[0m\u001b[1;33m)\u001b[0m\u001b[1;33m\u001b[0m\u001b[1;33m\u001b[0m\u001b[0m\n\u001b[0m",
      "\u001b[1;31mAttributeError\u001b[0m: Can only use .dt accessor with datetimelike values"
     ]
    }
   ],
   "source": [
    "df_update1.dt.strftime('%Y-%m-%d').to_list()"
   ]
  },
  {
   "cell_type": "code",
   "execution_count": 2,
   "metadata": {},
   "outputs": [],
   "source": [
    "sql = \\\n",
    "\"\"\"\n",
    "SELECT\n",
    "CONCAT(BranchID, OrderNbr, LineRef) as pk,\n",
    "DiscAmt,\n",
    "DocDiscAmt,\n",
    "GroupDiscAmt1\n",
    "from OM_SalesOrdDet\n",
    "\"\"\""
   ]
  },
  {
   "cell_type": "code",
   "execution_count": 3,
   "metadata": {},
   "outputs": [],
   "source": [
    "df = get_ms_df(sql)"
   ]
  },
  {
   "cell_type": "code",
   "execution_count": 4,
   "metadata": {},
   "outputs": [
    {
     "data": {
      "text/html": [
       "<div>\n",
       "<style scoped>\n",
       "    .dataframe tbody tr th:only-of-type {\n",
       "        vertical-align: middle;\n",
       "    }\n",
       "\n",
       "    .dataframe tbody tr th {\n",
       "        vertical-align: top;\n",
       "    }\n",
       "\n",
       "    .dataframe thead th {\n",
       "        text-align: right;\n",
       "    }\n",
       "</style>\n",
       "<table border=\"1\" class=\"dataframe\">\n",
       "  <thead>\n",
       "    <tr style=\"text-align: right;\">\n",
       "      <th></th>\n",
       "      <th>pk</th>\n",
       "      <th>DiscAmt</th>\n",
       "      <th>DocDiscAmt</th>\n",
       "      <th>GroupDiscAmt1</th>\n",
       "    </tr>\n",
       "  </thead>\n",
       "  <tbody>\n",
       "    <tr>\n",
       "      <th>0</th>\n",
       "      <td>MR0016AJ052021-0000300001</td>\n",
       "      <td>0.0</td>\n",
       "      <td>0.0</td>\n",
       "      <td>0.0</td>\n",
       "    </tr>\n",
       "    <tr>\n",
       "      <th>1</th>\n",
       "      <td>MR0014AJ120522-0000300001</td>\n",
       "      <td>0.0</td>\n",
       "      <td>0.0</td>\n",
       "      <td>0.0</td>\n",
       "    </tr>\n",
       "    <tr>\n",
       "      <th>2</th>\n",
       "      <td>MR0014AJ120522-0000300002</td>\n",
       "      <td>0.0</td>\n",
       "      <td>0.0</td>\n",
       "      <td>0.0</td>\n",
       "    </tr>\n",
       "    <tr>\n",
       "      <th>3</th>\n",
       "      <td>MR0014AJ120522-0000600001</td>\n",
       "      <td>0.0</td>\n",
       "      <td>0.0</td>\n",
       "      <td>0.0</td>\n",
       "    </tr>\n",
       "    <tr>\n",
       "      <th>4</th>\n",
       "      <td>MR0001CO052021-0000200001</td>\n",
       "      <td>0.0</td>\n",
       "      <td>0.0</td>\n",
       "      <td>0.0</td>\n",
       "    </tr>\n",
       "  </tbody>\n",
       "</table>\n",
       "</div>"
      ],
      "text/plain": [
       "                          pk  DiscAmt  DocDiscAmt  GroupDiscAmt1\n",
       "0  MR0016AJ052021-0000300001      0.0         0.0            0.0\n",
       "1  MR0014AJ120522-0000300001      0.0         0.0            0.0\n",
       "2  MR0014AJ120522-0000300002      0.0         0.0            0.0\n",
       "3  MR0014AJ120522-0000600001      0.0         0.0            0.0\n",
       "4  MR0001CO052021-0000200001      0.0         0.0            0.0"
      ]
     },
     "execution_count": 4,
     "metadata": {},
     "output_type": "execute_result"
    }
   ],
   "source": [
    "df.head()"
   ]
  },
  {
   "cell_type": "code",
   "execution_count": 5,
   "metadata": {},
   "outputs": [],
   "source": [
    "bq_values_insert(df, \"sod_added\", 1)"
   ]
  },
  {
   "cell_type": "code",
   "execution_count": null,
   "metadata": {},
   "outputs": [],
   "source": [
    "# SELECT a.*, b.*except(pk) FROM `spatial-vision-343005.biteam.sync_dms_sod1` a\n",
    "# left join `biteam.sod_added` b on a.pk = b.pk"
   ]
  },
  {
   "cell_type": "code",
   "execution_count": 10,
   "metadata": {},
   "outputs": [
    {
     "data": {
      "text/html": [
       "<div>\n",
       "<style scoped>\n",
       "    .dataframe tbody tr th:only-of-type {\n",
       "        vertical-align: middle;\n",
       "    }\n",
       "\n",
       "    .dataframe tbody tr th {\n",
       "        vertical-align: top;\n",
       "    }\n",
       "\n",
       "    .dataframe thead th {\n",
       "        text-align: right;\n",
       "    }\n",
       "</style>\n",
       "<table border=\"1\" class=\"dataframe\">\n",
       "  <thead>\n",
       "    <tr style=\"text-align: right;\">\n",
       "      <th></th>\n",
       "      <th>branchid</th>\n",
       "      <th>ordernbr</th>\n",
       "      <th>lineref</th>\n",
       "      <th>freeitem</th>\n",
       "      <th>invtid</th>\n",
       "      <th>lineqty</th>\n",
       "      <th>ordertype</th>\n",
       "      <th>origordernbr</th>\n",
       "      <th>siteid</th>\n",
       "      <th>crtd_prog</th>\n",
       "      <th>crtd_user</th>\n",
       "      <th>crtd_datetime</th>\n",
       "      <th>lupd_datetime</th>\n",
       "      <th>slsperid</th>\n",
       "      <th>originallineref</th>\n",
       "      <th>beforevatprice</th>\n",
       "      <th>beforevatamount</th>\n",
       "      <th>aftervatprice</th>\n",
       "      <th>aftervatamount</th>\n",
       "      <th>vatamount</th>\n",
       "    </tr>\n",
       "  </thead>\n",
       "  <tbody>\n",
       "  </tbody>\n",
       "</table>\n",
       "</div>"
      ],
      "text/plain": [
       "Empty DataFrame\n",
       "Columns: [branchid, ordernbr, lineref, freeitem, invtid, lineqty, ordertype, origordernbr, siteid, crtd_prog, crtd_user, crtd_datetime, lupd_datetime, slsperid, originallineref, beforevatprice, beforevatamount, aftervatprice, aftervatamount, vatamount]\n",
       "Index: []"
      ]
     },
     "execution_count": 10,
     "metadata": {},
     "output_type": "execute_result"
    }
   ],
   "source": [
    "df_update.head()"
   ]
  },
  {
   "cell_type": "code",
   "execution_count": 19,
   "metadata": {},
   "outputs": [],
   "source": [
    "# dummy_start = DummyOperator(task_id=\"dummy_start\", dag=dag)\n",
    "\n",
    "# insert = PythonOperator(task_id=\"insert\", python_callable=insert, dag=dag)\n",
    "\n",
    "# update = PythonOperator(task_id=\"update\", python_callable=update, dag=dag)\n",
    "\n",
    "# dummy_start >> insert >> update"
   ]
  },
  {
   "cell_type": "code",
   "execution_count": null,
   "metadata": {},
   "outputs": [],
   "source": []
  }
 ],
 "metadata": {
  "kernelspec": {
   "display_name": "Python 3.8.10 ('venv': venv)",
   "language": "python",
   "name": "python3"
  },
  "language_info": {
   "codemirror_mode": {
    "name": "ipython",
    "version": 3
   },
   "file_extension": ".py",
   "mimetype": "text/x-python",
   "name": "python",
   "nbconvert_exporter": "python",
   "pygments_lexer": "ipython3",
   "version": "3.8.10"
  },
  "orig_nbformat": 4,
  "vscode": {
   "interpreter": {
    "hash": "8fb55849e6741974ce442ee684e971e1b6b22c29ca2b25c3b9069bf531e0354a"
   }
  }
 },
 "nbformat": 4,
 "nbformat_minor": 2
}
