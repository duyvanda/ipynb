{
 "cells": [
  {
   "cell_type": "code",
   "execution_count": 1,
   "metadata": {},
   "outputs": [
    {
     "name": "stdout",
     "output_type": "stream",
     "text": [
      "Default bq project:  spatial-vision-343005.biteam\n"
     ]
    }
   ],
   "source": [
    "from utils.df_handle import *"
   ]
  },
  {
   "cell_type": "code",
   "execution_count": null,
   "metadata": {},
   "outputs": [],
   "source": [
    "# from utils.df_handle import *\n",
    "import pendulum\n",
    "from airflow import DAG\n",
    "from airflow.operators.dummy_operator import DummyOperator\n",
    "from airflow.operators.python_operator import PythonOperator\n",
    "\n",
    "local_tz = pendulum.timezone(\"Asia/Bangkok\")\n",
    "\n",
    "name='ADJUST'\n",
    "prefix='SYNC_'\n",
    "csv_path = '/usr/local/airflow/plugins'+'/'\n",
    "\n",
    "dag_params = {\n",
    "    'owner': 'airflow',\n",
    "    \"depends_on_past\": False,\n",
    "    'start_date': datetime(2022, 5, 10, tzinfo=local_tz),\n",
    "    'email_on_failure': True,\n",
    "    'email_on_retry': False,\n",
    "    'email':['duyvq@merapgroup.com', 'vanquangduy10@gmail.com'],\n",
    "    'do_xcom_push': False,\n",
    "    'execution_timeout':timedelta(seconds=300)\n",
    "}\n",
    "\n",
    "dag = DAG(prefix+name,\n",
    "          catchup=False,\n",
    "          default_args=dag_params,\n",
    "          schedule_interval= '*/30 6-23 * * *',\n",
    "          tags=[prefix+name, 'Sync', '30mins']\n",
    ")"
   ]
  },
  {
   "cell_type": "code",
   "execution_count": 2,
   "metadata": {},
   "outputs": [],
   "source": [
    "from_tb = \"AR_Adjust\"\n",
    "# from_tb2 = \"OM_DeliReportDet\"\n",
    "table_name = \"sync_dms_adjust\"\n",
    "table_temp = \"sync_dms_adjust_temp\""
   ]
  },
  {
   "cell_type": "code",
   "execution_count": 3,
   "metadata": {},
   "outputs": [],
   "source": [
    "start_date = '2022-01-01'\n",
    "datenow = datetime.now().strftime(\"%Y-%m-%d\")\n",
    "datenow_mns1 = (datetime.now() - timedelta(days=1)).strftime(\"%Y-%m-%d\")\n",
    "fdom = datetime.now().replace(day=1).strftime(\"%Y%m%d\")\n",
    "datenow_mns90 = (datetime.now() - timedelta(days=90)).strftime(\"%Y-%m-%d\")\n",
    "date_ms45 = (datetime.now() - timedelta(days=45)).strftime(\"%Y-%m-%d\")"
   ]
  },
  {
   "cell_type": "code",
   "execution_count": 6,
   "metadata": {},
   "outputs": [],
   "source": [
    "sql = \\\n",
    "f\"\"\"\n",
    "SELECT\n",
    "CONCAT(BranchID,BatNbr,AdjdRefNbr,AdjgRefNbr) as pk,\n",
    "BranchID,\n",
    "BatNbr,\n",
    "AdjdRefNbr,\n",
    "AdjdBatNbr,\n",
    "AdjgBatNbr,\n",
    "AdjgRefNbr,\n",
    "AdjAmt,\n",
    "AdjDiscAmt,\n",
    "AdjdDocType,\n",
    "AdjgDocType,\n",
    "AdjgDocDate,\n",
    "CustID,\n",
    "Reversal,\n",
    "Crtd_DateTime,\n",
    "Crtd_User,\n",
    "LUpd_DateTime,\n",
    "LUpd_User\n",
    "from {from_tb}\n",
    "\"\"\""
   ]
  },
  {
   "cell_type": "code",
   "execution_count": 5,
   "metadata": {},
   "outputs": [
    {
     "name": "stderr",
     "output_type": "stream",
     "text": [
      "1it [00:08,  8.60s/it]\n"
     ]
    }
   ],
   "source": [
    "df = get_ms_df(sql)\n",
    "df['inserted_at'] = datetime.now()\n",
    "bq_values_insert(df, f\"{table_temp}\", 3)\n",
    "sql = \\\n",
    "f\"\"\"\n",
    "DROP TABLE IF EXISTS biteam.{table_name};\n",
    "CREATE TABLE biteam.{table_name} LIKE biteam.{table_temp}\n",
    "PARTITION BY DATE(crtd_datetime)\n",
    "CLUSTER BY branchid,batnbr\n",
    "\"\"\"\n",
    "execute_bq_query(sql)"
   ]
  },
  {
   "cell_type": "code",
   "execution_count": 7,
   "metadata": {},
   "outputs": [
    {
     "name": "stderr",
     "output_type": "stream",
     "text": [
      "1it [00:34, 34.56s/it]\n"
     ]
    }
   ],
   "source": [
    "df = get_ms_df(sql)\n",
    "df['inserted_at'] = datetime.now()\n",
    "bq_values_insert(df, f\"{table_name}\", 2)"
   ]
  },
  {
   "cell_type": "code",
   "execution_count": null,
   "metadata": {},
   "outputs": [],
   "source": [
    "usql = \\\n",
    "f\"\"\"\n",
    "DECLARE @from DATE = '{datenow}'\n",
    "DECLARE @to DATE = '2022-01-01'\n",
    "SELECT\n",
    "CONCAT(BranchID,BatNbr,AdjdRefNbr,AdjgRefNbr) as pk,\n",
    "BranchID,\n",
    "BatNbr,\n",
    "AdjdRefNbr,\n",
    "AdjdBatNbr,\n",
    "AdjgBatNbr,\n",
    "AdjgRefNbr,\n",
    "AdjAmt,\n",
    "AdjDiscAmt,\n",
    "AdjdDocType,\n",
    "AdjgDocType,\n",
    "CustID,\n",
    "Reversal,\n",
    "Crtd_DateTime,\n",
    "Crtd_User,\n",
    "LUpd_DateTime,\n",
    "LUpd_User\n",
    "from {from_tb}\n",
    "where\n",
    "cast(LUpd_DateTime as DATE) >= @from\n",
    "and cast(Crtd_DateTime as DATE) >= @to\n",
    "\"\"\""
   ]
  },
  {
   "cell_type": "code",
   "execution_count": null,
   "metadata": {},
   "outputs": [],
   "source": [
    "def update():\n",
    "    try:\n",
    "        #UPDATE\n",
    "        df_update = get_ms_df(usql)\n",
    "        assert df_update.shape[0] >0,\"NO DATA TO INPUT\"\n",
    "        df_update.columns = lower_col(df_update)\n",
    "        # df_update.columns\n",
    "        df_update['crtd_datetime1'] = df_update['crtd_datetime'].dt.normalize()\n",
    "        df_update1 = df_update['crtd_datetime1']\n",
    "        drop_cols(df_update, \"crtd_datetime1\")\n",
    "        df_update1.drop_duplicates(inplace=True)\n",
    "        tpl_dt = tuple(df_update1.dt.strftime('%Y-%m-%d').to_list()) + ('1900-01-01','1900-01-01')\n",
    "        # tpl_dt\n",
    "        df_update1 = df_update['pk']\n",
    "        df_update1.drop_duplicates(inplace=True)\n",
    "        tpl_pk = tuple(df_update1.to_list()) + ('','')\n",
    "        del_sql = \\\n",
    "        f\"\"\"\n",
    "        DELETE FROM biteam.{table_name} WHERE DATE(crtd_datetime) in {tpl_dt} AND pk in {tpl_pk}\n",
    "        \"\"\"\n",
    "        print(\"del_sql \",del_sql)\n",
    "        execute_bq_query(del_sql)\n",
    "        df_update['inserted_at'] = datetime.now()\n",
    "        bq_values_insert(df_update, f\"{table_name}\", 2)\n",
    "    except AssertionError:\n",
    "        print(\"NO DATA TO INPUT\")"
   ]
  },
  {
   "cell_type": "code",
   "execution_count": null,
   "metadata": {},
   "outputs": [],
   "source": [
    "def insert():\n",
    "    dmssql = \\\n",
    "    f\"\"\"\n",
    "    select CONCAT(BranchID,BatNbr,AdjdRefNbr,AdjgRefNbr) as pk from {from_tb} where cast (Crtd_DateTime as date ) >= '{date_ms45}'\n",
    "    \"\"\"\n",
    "    dfdms =  get_ms_df(dmssql)\n",
    "    a = set(dfdms.pk.to_list())\n",
    "    bqssql = \\\n",
    "    f\"\"\"\n",
    "    select pk from biteam.{table_name} where date(crtd_datetime) >= '{date_ms45}'\n",
    "    \"\"\"\n",
    "    dfbq = get_bq_df(bqssql)\n",
    "    b = set(dfbq.pk.to_list())\n",
    "    del_tp = tuple(b.difference(a)) + ('','')\n",
    "    print(\"del tuple \",del_tp)\n",
    "    bqsql = \\\n",
    "    f\"\"\"\n",
    "    delete from biteam.{table_name} where date(crtd_datetime) >= '{date_ms45}' and pk in {del_tp}\n",
    "    \"\"\"\n",
    "    print(bqsql)\n",
    "    execute_bq_query(bqsql)\n"
   ]
  },
  {
   "cell_type": "code",
   "execution_count": 16,
   "metadata": {},
   "outputs": [],
   "source": [
    "def update_sync_dms_ardoc():\n",
    "    try:\n",
    "        status_sql = \\\n",
    "        f\"\"\"\n",
    "        select count(*) as count FROM {from_tb}  where CAST(Crtd_DateTime as DATE) >= '{start_date}'\n",
    "        \"\"\"\n",
    "        countdms = get_ms_df(status_sql)\n",
    "        # countdms.head()\n",
    "        print(countdms)\n",
    "        statusbq_sql = \\\n",
    "        f\"\"\"\n",
    "        SELECT count(*) as count from biteam.{table_name}\n",
    "        \"\"\"\n",
    "        countbq = get_bq_df(statusbq_sql)\n",
    "        print(countbq)\n",
    "        dfs = dfs_diff(countbq, countdms)\n",
    "        assert dfs.shape[0] == 0, \"NO DIFF\"\n",
    "        print(\"NO DIFF\")\n",
    "    except AssertionError:\n",
    "        sql = \\\n",
    "        f\"\"\"\n",
    "        DECLARE @from DATE = '{datenow_mns90}'\n",
    "        DECLARE @to DATE = '2022-01-31'\n",
    "        SELECT\n",
    "        CONCAT(BranchID,BatNbr,AdjdRefNbr,AdjgRefNbr) as pk,\n",
    "        BranchID,\n",
    "        BatNbr,\n",
    "        AdjdRefNbr,\n",
    "        AdjdBatNbr,\n",
    "        AdjgBatNbr,\n",
    "        AdjgRefNbr,\n",
    "        AdjAmt,\n",
    "        AdjDiscAmt,\n",
    "        AdjdDocType,\n",
    "        AdjgDocType,\n",
    "        CustID,\n",
    "        Reversal,\n",
    "        Crtd_DateTime,\n",
    "        Crtd_User,\n",
    "        LUpd_DateTime,\n",
    "        LUpd_User\n",
    "        from {from_tb}\n",
    "        where cast(Crtd_DateTime as DATE) >= @from\n",
    "        \"\"\"\n",
    "        df = get_ms_df(sql)\n",
    "        df['inserted_at'] = datetime.now()\n",
    "\n",
    "        sql = \\\n",
    "        f\"\"\"\n",
    "        delete from biteam.{table_name} where date(crtd_datetime) >= '{datenow_mns90}'\n",
    "        \"\"\"\n",
    "        print(\"delete_sql: \", sql)\n",
    "        execute_bq_query(sql)\n",
    "        bq_values_insert(df, f\"{table_name}\", 2)\n",
    "\n",
    "        #recheck count *\n",
    "        statusbq_sql = \\\n",
    "        f\"\"\"\n",
    "        SELECT count(*) as count from biteam.{table_name}\n",
    "        \"\"\"\n",
    "        countbq = get_bq_df(statusbq_sql)\n",
    "        print(countbq)\n",
    "        ##"
   ]
  },
  {
   "cell_type": "code",
   "execution_count": 9,
   "metadata": {},
   "outputs": [],
   "source": [
    "def update_sync_dms_ardoc_2():\n",
    "    dk = datetime.now().hour in {6} and datetime.now().minute < 30\n",
    "    if dk: update_sync_dms_ardoc()\n",
    "    else: print(\"Not a good time\", datetime.now().hour)\n"
   ]
  },
  {
   "cell_type": "code",
   "execution_count": null,
   "metadata": {},
   "outputs": [],
   "source": [
    "dummy_start = DummyOperator(task_id=\"dummy_start\", dag=dag)\n",
    "\n",
    "insert = PythonOperator(task_id=\"insert\", python_callable=insert, dag=dag)\n",
    "\n",
    "update = PythonOperator(task_id=\"update\", python_callable=update, dag=dag)\n",
    "\n",
    "update_sync_dms_ardoc_2 = PythonOperator(task_id=\"update_sync_dms_ardoc_2\", python_callable=update_sync_dms_ardoc_2, dag=dag)\n",
    "\n",
    "dummy_start >> update >> insert >> update_sync_dms_ardoc_2"
   ]
  },
  {
   "cell_type": "code",
   "execution_count": 9,
   "metadata": {},
   "outputs": [],
   "source": [
    "# print(table_name, table_temp, datenow_mns45)"
   ]
  },
  {
   "cell_type": "code",
   "execution_count": 12,
   "metadata": {},
   "outputs": [
    {
     "name": "stdout",
     "output_type": "stream",
     "text": [
      "2022-04-07\n"
     ]
    }
   ],
   "source": [
    "# print(datenow_mns45)"
   ]
  },
  {
   "cell_type": "code",
   "execution_count": 11,
   "metadata": {},
   "outputs": [],
   "source": [
    "\n",
    "# bq_values_insert(df, f\"{table_temp}\", 3)\n",
    "# sql = \\\n",
    "# f\"\"\"\n",
    "# DROP TABLE IF EXISTS biteam.{table_name};\n",
    "# CREATE TABLE biteam.{table_name} LIKE biteam.{table_temp}\n",
    "# PARTITION BY DATE(crtd_datetime)\n",
    "# CLUSTER BY branchid,batnbr,refnbr\n",
    "# \"\"\"\n",
    "# execute_bq_query(sql)"
   ]
  },
  {
   "cell_type": "code",
   "execution_count": 14,
   "metadata": {},
   "outputs": [
    {
     "name": "stdout",
     "output_type": "stream",
     "text": [
      "delete_sql:  \n",
      "delete from biteam.sync_dms_ardoc where date(crtd_datetime) >= '2022-04-07'\n",
      "\n"
     ]
    }
   ],
   "source": [
    "# sql = \\\n",
    "# f\"\"\"\n",
    "# delete from biteam.{table_name} where date(crtd_datetime) >= '{datenow_mns45}'\n",
    "# \"\"\"\n",
    "# print(\"delete_sql: \", sql)\n",
    "# execute_bq_query(sql)"
   ]
  },
  {
   "cell_type": "code",
   "execution_count": 15,
   "metadata": {},
   "outputs": [
    {
     "name": "stderr",
     "output_type": "stream",
     "text": [
      "1it [00:10, 10.91s/it]\n"
     ]
    }
   ],
   "source": [
    "# bq_values_insert(df, f\"{table_name}\", 2)"
   ]
  },
  {
   "cell_type": "code",
   "execution_count": 5,
   "metadata": {},
   "outputs": [],
   "source": [
    "# sql = \\\n",
    "# f\"\"\"\n",
    "# DROP TABLE IF EXISTS biteam.{table_name};\n",
    "# CREATE TABLE biteam.{table_name} LIKE biteam.{table_temp}\n",
    "# CLUSTER BY branchid,reportid,batnbr,ordernbr\n",
    "# \"\"\"\n",
    "# execute_bq_query(sql)"
   ]
  },
  {
   "cell_type": "code",
   "execution_count": 4,
   "metadata": {},
   "outputs": [],
   "source": [
    "# print(sql)"
   ]
  },
  {
   "cell_type": "code",
   "execution_count": 7,
   "metadata": {},
   "outputs": [],
   "source": [
    "# execute_bq_query(\"\"\"truncate table `spatial-vision-343005.biteam.sync_dms_dr`\"\"\")"
   ]
  },
  {
   "cell_type": "code",
   "execution_count": 9,
   "metadata": {},
   "outputs": [
    {
     "name": "stderr",
     "output_type": "stream",
     "text": [
      "1it [00:47, 47.57s/it]\n"
     ]
    }
   ],
   "source": [
    "# bq_values_insert(df, f\"{table_name}\", 2)"
   ]
  },
  {
   "cell_type": "code",
   "execution_count": null,
   "metadata": {},
   "outputs": [],
   "source": []
  }
 ],
 "metadata": {
  "kernelspec": {
   "display_name": "Python 3.8.10 ('venv': venv)",
   "language": "python",
   "name": "python3"
  },
  "language_info": {
   "codemirror_mode": {
    "name": "ipython",
    "version": 3
   },
   "file_extension": ".py",
   "mimetype": "text/x-python",
   "name": "python",
   "nbconvert_exporter": "python",
   "pygments_lexer": "ipython3",
   "version": "3.8.10 (tags/v3.8.10:3d8993a, May  3 2021, 11:48:03) [MSC v.1928 64 bit (AMD64)]"
  },
  "orig_nbformat": 4,
  "vscode": {
   "interpreter": {
    "hash": "8fb55849e6741974ce442ee684e971e1b6b22c29ca2b25c3b9069bf531e0354a"
   }
  }
 },
 "nbformat": 4,
 "nbformat_minor": 2
}
