{
 "cells": [
  {
   "cell_type": "code",
   "execution_count": 1,
   "metadata": {},
   "outputs": [
    {
     "name": "stdout",
     "output_type": "stream",
     "text": [
      "Default bq project:  spatial-vision-343005.biteam\n"
     ]
    }
   ],
   "source": [
    "from utils.df_handle import *"
   ]
  },
  {
   "cell_type": "code",
   "execution_count": null,
   "metadata": {},
   "outputs": [],
   "source": [
    "# from utils.df_handle import *\n",
    "import pendulum\n",
    "from airflow import DAG\n",
    "from airflow.operators.dummy_operator import DummyOperator\n",
    "from airflow.operators.python_operator import PythonOperator\n",
    "\n",
    "local_tz = pendulum.timezone(\"Asia/Bangkok\")\n",
    "\n",
    "name='DV'\n",
    "prefix='SYNC_'\n",
    "csv_path = '/usr/local/airflow/plugins'+'/'\n",
    "\n",
    "dag_params = {\n",
    "    'owner': 'airflow',\n",
    "    \"depends_on_past\": False,\n",
    "    'start_date': datetime(2022, 5, 10, tzinfo=local_tz),\n",
    "    'email_on_failure': True,\n",
    "    'email_on_retry': False,\n",
    "    'email':['duyvq@merapgroup.com', 'vanquangduy10@gmail.com'],\n",
    "    'do_xcom_push': False,\n",
    "    'execution_timeout':timedelta(seconds=300)\n",
    "    # 'retries': 3,\n",
    "    # 'retry_delay': timedelta(minutes=10),\n",
    "}\n",
    "\n",
    "dag = DAG(prefix+name,\n",
    "          catchup=False,\n",
    "          default_args=dag_params,\n",
    "          schedule_interval= '*/30 8-17,23-23 * * *',\n",
    "          tags=[prefix+name, 'Sync', '30mins']\n",
    ")"
   ]
  },
  {
   "cell_type": "code",
   "execution_count": 2,
   "metadata": {},
   "outputs": [],
   "source": [
    "start_date = '2022-01-01'\n",
    "datenow = datetime.now().strftime(\"%Y-%m-%d\")\n",
    "datenow_mns1 = (datetime.now() - timedelta(days=1)).strftime(\"%Y-%m-%d\")\n",
    "fdom = datetime.now().replace(day=1).strftime(\"%Y-%m-%d\")"
   ]
  },
  {
   "cell_type": "code",
   "execution_count": 3,
   "metadata": {},
   "outputs": [],
   "source": [
    "from_tb = \"OM_Delivery\""
   ]
  },
  {
   "cell_type": "code",
   "execution_count": 4,
   "metadata": {},
   "outputs": [],
   "source": [
    "table_name = \"sync_dms_dv\"\n",
    "table_temp = \"sync_dms_dv_temp\""
   ]
  },
  {
   "cell_type": "code",
   "execution_count": null,
   "metadata": {},
   "outputs": [],
   "source": []
  },
  {
   "cell_type": "code",
   "execution_count": 7,
   "metadata": {},
   "outputs": [],
   "source": [
    "sql = \\\n",
    "f\"\"\"\n",
    "DECLARE @from DATE = '{start_date}'\n",
    "DECLARE @to DATE = '2022-01-31'\n",
    "SELECT\n",
    "CONCAT(BranchID,BatNbr,OrderNbr,Sequence) as pk,\n",
    "BranchID,\n",
    "BatNbr,\n",
    "OrderNbr,\n",
    "Sequence,\n",
    "SlsperID,\n",
    "Status,\n",
    "Crtd_DateTime,\n",
    "Crtd_Prog,\n",
    "Crtd_User,\n",
    "LUpd_DateTime\n",
    "from {from_tb}\n",
    "where Crtd_Datetime >= @from\n",
    "\"\"\""
   ]
  },
  {
   "cell_type": "code",
   "execution_count": 8,
   "metadata": {},
   "outputs": [
    {
     "name": "stderr",
     "output_type": "stream",
     "text": [
      "1it [00:26, 26.44s/it]\n"
     ]
    }
   ],
   "source": [
    "df = get_ms_df(sql)\n",
    "df['inserted_at'] = datetime.now()\n",
    "bq_values_insert(df, f\"{table_temp}\", 3)\n",
    "sql = \\\n",
    "f\"\"\"\n",
    "DROP TABLE IF EXISTS biteam.{table_name};\n",
    "CREATE TABLE biteam.{table_name} LIKE biteam.{table_temp}\n",
    "PARTITION BY DATE(crtd_datetime)\n",
    "CLUSTER BY pk,branchid,batnbr,ordernbr\n",
    "\"\"\"\n",
    "execute_bq_query(sql)"
   ]
  },
  {
   "cell_type": "code",
   "execution_count": 9,
   "metadata": {},
   "outputs": [
    {
     "name": "stderr",
     "output_type": "stream",
     "text": [
      "1it [00:09,  9.78s/it]\n"
     ]
    }
   ],
   "source": [
    "bq_values_insert(df, f\"{table_name}\", 2)"
   ]
  },
  {
   "cell_type": "code",
   "execution_count": null,
   "metadata": {},
   "outputs": [],
   "source": [
    "usql = \\\n",
    "f\"\"\"\n",
    "DECLARE @from DATE = '{datenow}'\n",
    "DECLARE @to DATE = '2022-01-31'\n",
    "SELECT\n",
    "BranchID,\n",
    "BatNbr,\n",
    "OrderNbr,\n",
    "Sequence,\n",
    "SlsperID,\n",
    "Status,\n",
    "Crtd_DateTime,\n",
    "Crtd_Prog,\n",
    "Crtd_User,\n",
    "LUpd_DateTime\n",
    "from {from_tb}\n",
    "where LUpd_DateTime >= @from\n",
    "and Crtd_DateTime < @from\n",
    "\"\"\""
   ]
  },
  {
   "cell_type": "code",
   "execution_count": 2,
   "metadata": {},
   "outputs": [],
   "source": [
    "table_name = \"sync_dms_dv\"\n",
    "table_temp = \"sync_dms_dv_temp\""
   ]
  },
  {
   "cell_type": "code",
   "execution_count": 1,
   "metadata": {},
   "outputs": [],
   "source": [
    "# print(sql)\n",
    "df = get_ms_df(sql)\n",
    "df['inserted_at'] = datetime.now()\n",
    "# df['inserted_At']\n",
    "# bq_values_insert(df, f\"{table_temp}\", 3)\n",
    "# sql = \\\n",
    "# f\"\"\"\n",
    "# DROP TABLE IF EXISTS biteam.{table_name};\n",
    "# CREATE TABLE biteam.{table_name} LIKE biteam.{table_temp}\n",
    "# PARTITION BY DATE(crtd_datetime)\n",
    "# CLUSTER BY branchid,batnbr,ordernbr\n",
    "# \"\"\"\n",
    "# print(sql)\n",
    "# execute_bq_query(sql)\n",
    "\n",
    "dsql = \\\n",
    "f\"\"\"\n",
    "delete from biteam.{table_name} where date(crtd_datetime) >= '{datenow}'\n",
    "\"\"\"\n",
    "print(\"delete_sql: \", dsql)\n",
    "execute_bq_query(dsql)\n",
    "\n",
    "bq_values_insert(df, f\"{table_name}\", 2)\n",
    "# sql = \\\n",
    "# f\"\"\"\n",
    "# DROP TABLE IF EXISTS biteam.{table_temp};\n",
    "# \"\"\"\n",
    "# execute_bq_query(sql)\n"
   ]
  },
  {
   "cell_type": "code",
   "execution_count": null,
   "metadata": {},
   "outputs": [],
   "source": [
    "#UPDATE\n",
    "df_update = get_ms_df(usql)\n",
    "df_update.columns = lower_col(df_update)\n",
    "# df_update.columns\n",
    "df_update['crtd_datetime'] = df_update.crtd_datetime.dt.normalize()\n",
    "df_update1 = df_update['crtd_datetime']\n",
    "df_update1.drop_duplicates(inplace=True)\n",
    "tpl_dt = tuple(df_update1.dt.strftime('%Y-%m-%d').to_list()) + ('1900-01-01',)\n",
    "# tpl_dt\n",
    "df_update1 = df_update['branchid'] + df_update['batnbr'] + df_update['ordernbr'] + df_update['sequence']\n",
    "df_update1.drop_duplicates(inplace=True)\n",
    "tpl_pk = tuple(df_update1.to_list()) + ('',)\n",
    "del_sql = \\\n",
    "f\"\"\"\n",
    "DELETE FROM biteam.{table_name}\n",
    "WHERE\n",
    "DATE(crtd_datetime) in {tpl_dt}\n",
    "AND concat(branchid,batnbr,ordernbr,sequence) in {tpl_pk}\n",
    "\"\"\"\n",
    "print(\"del_sql \",del_sql)\n",
    "execute_bq_query(del_sql)\n",
    "df_update['inserted_at'] = datetime.now()\n",
    "bq_values_insert(df_update, f\"{table_name}\", 2)"
   ]
  },
  {
   "cell_type": "code",
   "execution_count": null,
   "metadata": {},
   "outputs": [],
   "source": [
    "# dummy_start = DummyOperator(task_id=\"dummy_start\", dag=dag)\n",
    "\n",
    "# insert = PythonOperator(task_id=\"insert\", python_callable=insert, dag=dag)\n",
    "\n",
    "# update = PythonOperator(task_id=\"update\", python_callable=update, dag=dag)\n",
    "\n",
    "# dummy_start >> insert >> update"
   ]
  }
 ],
 "metadata": {
  "interpreter": {
   "hash": "dff776f8cf9899793f9a0f4d147d4ee0e914dc3f9ff7764d86dd5f5383f5f250"
  },
  "kernelspec": {
   "display_name": "Python 3.9.6 ('venv': venv)",
   "language": "python",
   "name": "python3"
  },
  "language_info": {
   "codemirror_mode": {
    "name": "ipython",
    "version": 3
   },
   "file_extension": ".py",
   "mimetype": "text/x-python",
   "name": "python",
   "nbconvert_exporter": "python",
   "pygments_lexer": "ipython3",
   "version": "3.9.6"
  },
  "orig_nbformat": 4
 },
 "nbformat": 4,
 "nbformat_minor": 2
}
