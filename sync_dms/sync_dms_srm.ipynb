{
 "cells": [
  {
   "cell_type": "code",
   "execution_count": 1,
   "metadata": {},
   "outputs": [
    {
     "name": "stdout",
     "output_type": "stream",
     "text": [
      "Default bq project:  spatial-vision-343005.biteam\n"
     ]
    }
   ],
   "source": [
    "from utils.df_handle import *"
   ]
  },
  {
   "cell_type": "code",
   "execution_count": null,
   "metadata": {},
   "outputs": [],
   "source": [
    "# from utils.df_handle import *\n",
    "import pendulum\n",
    "from airflow import DAG\n",
    "from airflow.operators.dummy_operator import DummyOperator\n",
    "from airflow.operators.python_operator import PythonOperator\n",
    "\n",
    "local_tz = pendulum.timezone(\"Asia/Bangkok\")\n",
    "\n",
    "name='SRM'\n",
    "prefix='SYNC_'\n",
    "csv_path = '/usr/local/airflow/plugins'+'/'\n",
    "\n",
    "dag_params = {\n",
    "    'owner': 'airflow',\n",
    "    \"depends_on_past\": False,\n",
    "    'start_date': datetime(2022, 5, 10, tzinfo=local_tz),\n",
    "    'email_on_failure': True,\n",
    "    'email_on_retry': False,\n",
    "    'email':['duyvq@merapgroup.com', 'vanquangduy10@gmail.com'],\n",
    "    'do_xcom_push': False,\n",
    "    'execution_timeout':timedelta(seconds=300)\n",
    "    # 'retries': 3,\n",
    "    # 'retry_delay': timedelta(minutes=10),\n",
    "}\n",
    "\n",
    "dag = DAG(prefix+name,\n",
    "          catchup=False,\n",
    "          default_args=dag_params,\n",
    "          schedule_interval= '0 2 * * *',\n",
    "          tags=[prefix+name, 'Sync', '30mins']\n",
    ")"
   ]
  },
  {
   "cell_type": "code",
   "execution_count": 4,
   "metadata": {},
   "outputs": [],
   "source": [
    "from_tb1 = \"OM_SalesRouteMaster\"\n",
    "from_tb2 = \"OM_SalespersonRoute\"\n",
    "from_tb3 = \"OM_SalesRoute\"\n",
    "from_tb4 = \"OM_BranchRoute\"\n",
    "table_name = \"sync_dms_srm\"\n",
    "table_temp = \"sync_dms_srm_temp\""
   ]
  },
  {
   "cell_type": "code",
   "execution_count": 11,
   "metadata": {},
   "outputs": [],
   "source": [
    "sql = \\\n",
    "f\"\"\"\n",
    "select\n",
    "a.SalesRouteID,\n",
    "a.CustID,\n",
    "a.SlsFreq,\n",
    "a.WeekofVisit,\n",
    "concat('MS',a.Mon,a.Tue,a.Wed,a.Thu,a.Fri,a.Sat,a.Sun) as Weekdate,\n",
    "a.Crtd_DateTime,\n",
    "a.StartDate,\n",
    "a.EndDate,\n",
    "a.SubRouteID,\n",
    "a.Crtd_User,\n",
    "1 as split,\n",
    "b.SlsperID,\n",
    "b.BranchID,\n",
    "1 as split2,\n",
    "c.Descr as SRDescr,\n",
    "c.BranchID as BranchRouteID,\n",
    "c.RouteType,\n",
    "c.Active,\n",
    "d.Descr as BDescr\n",
    "from {from_tb1} a\n",
    "LEFT JOIN {from_tb2} b\n",
    "ON a.SalesRouteID =  b.SalesRouteID\n",
    "LEFT JOIN {from_tb3} c\n",
    "ON a.SalesRouteID =  c.SalesRouteID\n",
    "LEFT JOIN {from_tb4} d\n",
    "ON c.BranchID =  d.BranchRouteID\n",
    "\"\"\""
   ]
  },
  {
   "cell_type": "code",
   "execution_count": 17,
   "metadata": {},
   "outputs": [
    {
     "name": "stderr",
     "output_type": "stream",
     "text": [
      "1it [00:14, 14.42s/it]\n"
     ]
    }
   ],
   "source": [
    "def update():\n",
    "    df = get_ms_df(sql)\n",
    "    df['inserted_at'] = datetime.now()\n",
    "    try:\n",
    "        print(\"data shape\", df.shape)\n",
    "        assert df.shape[0] >0\n",
    "    except AssertionError:\n",
    "        print(\"No customer changed\")\n",
    "    else:\n",
    "        bqsql = \\\n",
    "        f\"\"\"truncate table biteam.{table_name}\"\"\"\n",
    "        execute_bq_query(bqsql)\n",
    "        bq_values_insert(df, f\"{table_name}\", 2)"
   ]
  },
  {
   "cell_type": "code",
   "execution_count": null,
   "metadata": {},
   "outputs": [],
   "source": []
  }
 ],
 "metadata": {
  "interpreter": {
   "hash": "dff776f8cf9899793f9a0f4d147d4ee0e914dc3f9ff7764d86dd5f5383f5f250"
  },
  "kernelspec": {
   "display_name": "Python 3.9.6 ('venv': venv)",
   "language": "python",
   "name": "python3"
  },
  "language_info": {
   "codemirror_mode": {
    "name": "ipython",
    "version": 3
   },
   "file_extension": ".py",
   "mimetype": "text/x-python",
   "name": "python",
   "nbconvert_exporter": "python",
   "pygments_lexer": "ipython3",
   "version": "3.9.6"
  },
  "orig_nbformat": 4
 },
 "nbformat": 4,
 "nbformat_minor": 2
}
