{
 "cells": [
  {
   "cell_type": "code",
   "execution_count": 2,
   "metadata": {},
   "outputs": [],
   "source": [
    "# from sklearn import *"
   ]
  },
  {
   "cell_type": "code",
   "execution_count": 1,
   "metadata": {},
   "outputs": [
    {
     "name": "stdout",
     "output_type": "stream",
     "text": [
      "Default bq project:  spatial-vision-343005.biteam\n"
     ]
    }
   ],
   "source": [
    "from utils.df_handle import *"
   ]
  },
  {
   "cell_type": "code",
   "execution_count": null,
   "metadata": {},
   "outputs": [],
   "source": [
    "# from utils.df_handle import *\n",
    "import pendulum\n",
    "from airflow import DAG\n",
    "from airflow.operators.dummy_operator import DummyOperator\n",
    "from airflow.operators.python_operator import PythonOperator\n",
    "\n",
    "local_tz = pendulum.timezone(\"Asia/Bangkok\")\n",
    "\n",
    "name='DR'\n",
    "prefix='SYNC_'\n",
    "csv_path = '/usr/local/airflow/plugins'+'/'\n",
    "\n",
    "dag_params = {\n",
    "    'owner': 'airflow',\n",
    "    \"depends_on_past\": False,\n",
    "    'start_date': datetime(2022, 5, 10, tzinfo=local_tz),\n",
    "    'email_on_failure': True,\n",
    "    'email_on_retry': False,\n",
    "    'email':['duyvq@merapgroup.com', 'vanquangduy10@gmail.com'],\n",
    "    'do_xcom_push': False,\n",
    "    'execution_timeout':timedelta(seconds=300)\n",
    "    # 'retries': 3,\n",
    "    # 'retry_delay': timedelta(minutes=10),\n",
    "}\n",
    "\n",
    "dag = DAG(prefix+name,\n",
    "          catchup=False,\n",
    "          default_args=dag_params,\n",
    "          schedule_interval= '*/30 8-17,23-23 * * *',\n",
    "          tags=[prefix+name, 'Sync', '30mins']\n",
    ")"
   ]
  },
  {
   "cell_type": "code",
   "execution_count": 2,
   "metadata": {},
   "outputs": [],
   "source": [
    "from_tb1 = \"OM_DeliReport\"\n",
    "from_tb2 = \"OM_DeliReportDet\"\n",
    "table_name = \"sync_dms_dr\"\n",
    "table_temp = \"sync_dms_dr_temp\""
   ]
  },
  {
   "cell_type": "code",
   "execution_count": 9,
   "metadata": {},
   "outputs": [],
   "source": [
    "start_date = '2022-01-01'\n",
    "datenow = datetime.now().strftime(\"%Y-%m-%d\")\n",
    "datenow_mns1 = (datetime.now() - timedelta(days=1)).strftime(\"%Y-%m-%d\")\n",
    "fdom = datetime.now().replace(day=1).strftime(\"%Y-%m-%d\")"
   ]
  },
  {
   "cell_type": "code",
   "execution_count": 3,
   "metadata": {},
   "outputs": [],
   "source": [
    "sql = \\\n",
    "f\"\"\"\n",
    "DECLARE @from DATE = '2022-01-01'\n",
    "--DECLARE @to DATE = '2022-06-22'\n",
    "\n",
    "select\n",
    "a.BranchID,\n",
    "a.ReportID,\n",
    "a.Crtd_DateTime,\n",
    "a.Crtd_Prog,\n",
    "a.Crtd_User,\n",
    "a.LUpd_DateTime,\n",
    "a.LUpd_User,\n",
    "a.SlsperID,\n",
    "a.DeliveryUnit,\n",
    "a.TruckID,\n",
    "a.ExpectedDate,\n",
    "a.Package,\n",
    "a.Ticket,\n",
    "a.Status,\n",
    "a.Bridge,\n",
    "a.Shipcharge,\n",
    "split = 1,\n",
    "b.BatNbr,\n",
    "b.OrderNbr,\n",
    "b.CustID\n",
    "from {from_tb1} a\n",
    "INNER JOIN dbo.{from_tb2} b WITH(NOLOCK) ON b.ReportID = a.ReportID and a.BranchID = b.BranchID\n",
    "where a.Crtd_DateTime >= @from\n",
    "\"\"\""
   ]
  },
  {
   "cell_type": "code",
   "execution_count": 4,
   "metadata": {},
   "outputs": [],
   "source": [
    "df = get_ms_df(sql)\n",
    "df['inserted_at'] = datetime.now()\n",
    "# bq_values_insert(df, f\"{table_temp}\", 3)\n",
    "# sql = \\\n",
    "# f\"\"\"\n",
    "# DROP TABLE IF EXISTS biteam.{table_name};\n",
    "# CREATE TABLE biteam.{table_name} LIKE biteam.{table_temp}\n",
    "# CLUSTER BY branchid,reportid,batnbr,ordernbr\n",
    "# \"\"\"\n",
    "# execute_bq_query(sql)"
   ]
  },
  {
   "cell_type": "code",
   "execution_count": 5,
   "metadata": {},
   "outputs": [],
   "source": [
    "# sql = \\\n",
    "# f\"\"\"\n",
    "# DROP TABLE IF EXISTS biteam.{table_name};\n",
    "# CREATE TABLE biteam.{table_name} LIKE biteam.{table_temp}\n",
    "# CLUSTER BY branchid,reportid,batnbr,ordernbr\n",
    "# \"\"\"\n",
    "# execute_bq_query(sql)"
   ]
  },
  {
   "cell_type": "code",
   "execution_count": 4,
   "metadata": {},
   "outputs": [],
   "source": [
    "# print(sql)"
   ]
  },
  {
   "cell_type": "code",
   "execution_count": 7,
   "metadata": {},
   "outputs": [],
   "source": [
    "execute_bq_query(\"\"\"truncate table `spatial-vision-343005.biteam.sync_dms_dr`\"\"\")"
   ]
  },
  {
   "cell_type": "code",
   "execution_count": 8,
   "metadata": {},
   "outputs": [
    {
     "name": "stderr",
     "output_type": "stream",
     "text": [
      "1it [00:08,  8.23s/it]\n"
     ]
    }
   ],
   "source": [
    "bq_values_insert(df, f\"{table_name}\", 2)"
   ]
  },
  {
   "cell_type": "code",
   "execution_count": null,
   "metadata": {},
   "outputs": [],
   "source": []
  }
 ],
 "metadata": {
  "interpreter": {
   "hash": "dff776f8cf9899793f9a0f4d147d4ee0e914dc3f9ff7764d86dd5f5383f5f250"
  },
  "kernelspec": {
   "display_name": "Python 3.9.6 ('venv': venv)",
   "language": "python",
   "name": "python3"
  },
  "language_info": {
   "codemirror_mode": {
    "name": "ipython",
    "version": 3
   },
   "file_extension": ".py",
   "mimetype": "text/x-python",
   "name": "python",
   "nbconvert_exporter": "python",
   "pygments_lexer": "ipython3",
   "version": "3.9.6"
  },
  "orig_nbformat": 4
 },
 "nbformat": 4,
 "nbformat_minor": 2
}
