{
 "cells": [
  {
   "cell_type": "code",
   "execution_count": 1,
   "metadata": {},
   "outputs": [
    {
     "name": "stdout",
     "output_type": "stream",
     "text": [
      "Default bq project:  spatial-vision-343005.biteam\n"
     ]
    }
   ],
   "source": [
    "from utils.df_handle import *"
   ]
  },
  {
   "cell_type": "code",
   "execution_count": 2,
   "metadata": {},
   "outputs": [],
   "source": [
    "sql = \\\n",
    "\"\"\"\n",
    "select \n",
    "CONCAT(BranchID, OrderNbr) as pk,\n",
    "OrdAmt\n",
    "from OM_SalesOrd where cast (Crtd_DateTime as Date) < '2022-08-30'\n",
    "\"\"\""
   ]
  },
  {
   "cell_type": "code",
   "execution_count": 3,
   "metadata": {},
   "outputs": [],
   "source": [
    "df = get_ms_df(sql)"
   ]
  },
  {
   "cell_type": "code",
   "execution_count": 4,
   "metadata": {},
   "outputs": [
    {
     "name": "stderr",
     "output_type": "stream",
     "text": [
      "1it [00:11, 11.90s/it]\n"
     ]
    }
   ],
   "source": [
    "bq_values_insert(df, \"temp_so\", 1)"
   ]
  },
  {
   "cell_type": "code",
   "execution_count": null,
   "metadata": {},
   "outputs": [],
   "source": [
    "\"\"\"\n",
    "select\n",
    "a.pk,\n",
    "branchid,\n",
    "ordernbr,\n",
    "arbatnbr,\n",
    "arrefnbr,\n",
    "custid,\n",
    "inbatnbr,\n",
    "inrefnbr,\n",
    "invcnbr,\n",
    "invcnote,\n",
    "orderdate,\n",
    "ordertype,\n",
    "origordernbr,\n",
    "slsperid,\n",
    "status,\n",
    "terms,\n",
    "crtd_prog,\n",
    "crtd_user,\n",
    "crtd_datetime,\n",
    "lupd_datetime,\n",
    "lupd_user,\n",
    "remark,\n",
    "paymentsform,\n",
    "contractid,\n",
    "invoicecustid,\n",
    "salesordertype,\n",
    "replforordnbr,\n",
    "version,\n",
    "accumulateamt,\n",
    "inserted_at,\n",
    "case when a.ordamt is null then b.ordamt else a.ordamt end as ordamt\n",
    "from `biteam.sync_dms_so` a left join `biteam.temp_so` b on a.pk = b.pk\n",
    "\"\"\""
   ]
  }
 ],
 "metadata": {
  "kernelspec": {
   "display_name": "Python 3.9.6 ('venv': venv)",
   "language": "python",
   "name": "python3"
  },
  "language_info": {
   "codemirror_mode": {
    "name": "ipython",
    "version": 3
   },
   "file_extension": ".py",
   "mimetype": "text/x-python",
   "name": "python",
   "nbconvert_exporter": "python",
   "pygments_lexer": "ipython3",
   "version": "3.9.6"
  },
  "orig_nbformat": 4,
  "vscode": {
   "interpreter": {
    "hash": "dff776f8cf9899793f9a0f4d147d4ee0e914dc3f9ff7764d86dd5f5383f5f250"
   }
  }
 },
 "nbformat": 4,
 "nbformat_minor": 2
}
