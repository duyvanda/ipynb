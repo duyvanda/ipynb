{
 "cells": [
  {
   "cell_type": "code",
   "execution_count": 1,
   "metadata": {},
   "outputs": [
    {
     "name": "stdout",
     "output_type": "stream",
     "text": [
      "Default bq project:  spatial-vision-343005.biteam\n"
     ]
    }
   ],
   "source": [
    "from utils.df_handle import *"
   ]
  },
  {
   "cell_type": "code",
   "execution_count": null,
   "metadata": {},
   "outputs": [],
   "source": [
    "# from utils.df_handle import *\n",
    "# import pendulum\n",
    "# from airflow import DAG\n",
    "# from airflow.operators.dummy_operator import DummyOperator\n",
    "# from airflow.operators.python_operator import PythonOperator\n",
    "\n",
    "# local_tz = pendulum.timezone(\"Asia/Bangkok\")\n",
    "\n",
    "# name='HISTORYCUSTCLASS'\n",
    "# prefix='SYNC_'\n",
    "# csv_path = '/usr/local/airflow/plugins'+'/'\n",
    "\n",
    "# dag_params = {\n",
    "#     'owner': 'airflow',\n",
    "#     \"depends_on_past\": False,\n",
    "#     'start_date': datetime(2022, 5, 10, tzinfo=local_tz),\n",
    "#     'email_on_failure': True,\n",
    "#     'email_on_retry': False,\n",
    "#     'email':['duyvq@merapgroup.com', 'vanquangduy10@gmail.com'],\n",
    "#     'do_xcom_push': False,\n",
    "#     'execution_timeout':timedelta(seconds=300)\n",
    "# }\n",
    "\n",
    "# dag = DAG(prefix+name,\n",
    "#           catchup=False,\n",
    "#           default_args=dag_params,\n",
    "#           schedule_interval= '*/30 8-17,23-23 * * *',\n",
    "#           tags=[prefix+name, 'Sync', '30mins']\n",
    "# )"
   ]
  },
  {
   "cell_type": "code",
   "execution_count": 5,
   "metadata": {},
   "outputs": [],
   "source": [
    "def update():\n",
    "    sql = \\\n",
    "    \"\"\"\n",
    "    SELECT\n",
    "    Version,\n",
    "    CustName,\n",
    "    Channel,\n",
    "    ShopType,\n",
    "    inserted_at = getdate()\n",
    "    from AR_HistoryCustClassID\n",
    "    \"\"\"\n",
    "    df = get_ms_df(sql)\n",
    "    bq_values_insert(df, \"sync_dms_historycustclass\", 3)"
   ]
  },
  {
   "cell_type": "code",
   "execution_count": null,
   "metadata": {},
   "outputs": [],
   "source": [
    "# dummy_start = DummyOperator(task_id=\"dummy_start\", dag=dag)\n",
    "\n",
    "# update = PythonOperator(task_id=\"update\", python_callable=update, dag=dag)\n",
    "\n",
    "# dummy_start >> update"
   ]
  }
 ],
 "metadata": {
  "kernelspec": {
   "display_name": "Python 3.9.6 ('venv': venv)",
   "language": "python",
   "name": "python3"
  },
  "language_info": {
   "codemirror_mode": {
    "name": "ipython",
    "version": 3
   },
   "file_extension": ".py",
   "mimetype": "text/x-python",
   "name": "python",
   "nbconvert_exporter": "python",
   "pygments_lexer": "ipython3",
   "version": "3.9.6"
  },
  "orig_nbformat": 4,
  "vscode": {
   "interpreter": {
    "hash": "dff776f8cf9899793f9a0f4d147d4ee0e914dc3f9ff7764d86dd5f5383f5f250"
   }
  }
 },
 "nbformat": 4,
 "nbformat_minor": 2
}
