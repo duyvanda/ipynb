{
 "cells": [
  {
   "cell_type": "code",
   "execution_count": 1,
   "metadata": {},
   "outputs": [
    {
     "name": "stdout",
     "output_type": "stream",
     "text": [
      "Default bq project:  spatial-vision-343005.biteam\n"
     ]
    }
   ],
   "source": [
    "from utils.df_handle import *"
   ]
  },
  {
   "cell_type": "code",
   "execution_count": 6,
   "metadata": {},
   "outputs": [],
   "source": [
    "sql = \\\n",
    "\"\"\"\n",
    "SELECT\n",
    "REPLACE(CONCAT(BranchID, BatNbr,'-',OrderNbr,'-', CONVERT(varchar, ShipDate, 12),CONVERT(varchar, ShipDate, 24)),':','') as pk,\n",
    "BranchID,\n",
    "BatNbr,\n",
    "OrderNbr,\n",
    "SlsperID,\n",
    "Reason,\n",
    "[Status] as status,\n",
    "a.Crtd_DateTime,\n",
    "a.LUpd_DateTime,\n",
    "a.LUpd_User,\n",
    "GETDATE() as inserted_at\n",
    "from OM_DeliHistory a\n",
    "where a.Status = 'C'\n",
    "\"\"\""
   ]
  },
  {
   "cell_type": "code",
   "execution_count": 7,
   "metadata": {},
   "outputs": [],
   "source": [
    "df = get_ms_df(sql)"
   ]
  },
  {
   "cell_type": "code",
   "execution_count": 4,
   "metadata": {},
   "outputs": [],
   "source": [
    "from_tb = \"OM_DeliHistory\"\n",
    "# from_tb2 = \"OM_DeliReportDet\"\n",
    "table_name = \"sync_dms_delihistoryc\"\n",
    "table_temp = \"sync_dms_delihistoryc_temp\""
   ]
  },
  {
   "cell_type": "code",
   "execution_count": 5,
   "metadata": {},
   "outputs": [],
   "source": [
    "# df = get_ms_df(sql)\n",
    "# df['inserted_at'] = datetime.now()\n",
    "bq_values_insert(df, f\"{table_temp}\", 3)\n",
    "sql = \\\n",
    "f\"\"\"\n",
    "DROP TABLE IF EXISTS biteam.{table_name};\n",
    "CREATE TABLE biteam.{table_name} LIKE biteam.{table_temp}\n",
    "PARTITION BY DATE(crtd_datetime)\n",
    "CLUSTER BY ordernbr,branchid\n",
    "\"\"\"\n",
    "execute_bq_query(sql)\n",
    "# df = get_ms_df(sql)\n",
    "# df['inserted_at'] = datetime.now()\n",
    "bq_values_insert(df, f\"{table_name}\", 2)"
   ]
  },
  {
   "cell_type": "code",
   "execution_count": 8,
   "metadata": {},
   "outputs": [],
   "source": [
    "bq_values_insert(df, f\"{table_name}\", 2)"
   ]
  },
  {
   "cell_type": "code",
   "execution_count": null,
   "metadata": {},
   "outputs": [],
   "source": []
  }
 ],
 "metadata": {
  "kernelspec": {
   "display_name": "Python 3.8.10 ('venv': venv)",
   "language": "python",
   "name": "python3"
  },
  "language_info": {
   "codemirror_mode": {
    "name": "ipython",
    "version": 3
   },
   "file_extension": ".py",
   "mimetype": "text/x-python",
   "name": "python",
   "nbconvert_exporter": "python",
   "pygments_lexer": "ipython3",
   "version": "3.8.10"
  },
  "orig_nbformat": 4,
  "vscode": {
   "interpreter": {
    "hash": "8fb55849e6741974ce442ee684e971e1b6b22c29ca2b25c3b9069bf531e0354a"
   }
  }
 },
 "nbformat": 4,
 "nbformat_minor": 2
}
