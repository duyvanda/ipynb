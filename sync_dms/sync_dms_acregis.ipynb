{
 "cells": [
  {
   "cell_type": "code",
   "execution_count": 1,
   "metadata": {},
   "outputs": [
    {
     "name": "stdout",
     "output_type": "stream",
     "text": [
      "Default bq project:  spatial-vision-343005.biteam\n"
     ]
    }
   ],
   "source": [
    "from utils.df_handle import *"
   ]
  },
  {
   "cell_type": "code",
   "execution_count": null,
   "metadata": {},
   "outputs": [],
   "source": [
    "# from utils.df_handle import *\n",
    "import pendulum\n",
    "from airflow import DAG\n",
    "from airflow.operators.dummy_operator import DummyOperator\n",
    "from airflow.operators.python_operator import PythonOperator\n",
    "\n",
    "local_tz = pendulum.timezone(\"Asia/Bangkok\")\n",
    "\n",
    "name='ACREGIS'\n",
    "prefix='SYNC_'\n",
    "csv_path = '/usr/local/airflow/plugins'+'/'\n",
    "\n",
    "dag_params = {\n",
    "    'owner': 'airflow',\n",
    "    \"depends_on_past\": False,\n",
    "    'start_date': datetime(2022, 5, 10, tzinfo=local_tz),\n",
    "    'email_on_failure': True,\n",
    "    'email_on_retry': False,\n",
    "    'email':['duyvq@merapgroup.com', 'vanquangduy10@gmail.com'],\n",
    "    'do_xcom_push': False,\n",
    "    'execution_timeout':timedelta(seconds=300)\n",
    "    # 'retries': 3,\n",
    "    # 'retry_delay': timedelta(minutes=10),\n",
    "}\n",
    "\n",
    "dag = DAG(prefix+name,\n",
    "          catchup=False,\n",
    "          default_args=dag_params,\n",
    "          schedule_interval= '*/30 8-17,23-23 * * *',\n",
    "          tags=[prefix+name, 'Sync', '30mins']\n",
    ")"
   ]
  },
  {
   "cell_type": "code",
   "execution_count": 8,
   "metadata": {},
   "outputs": [],
   "source": [
    "start_date = '2022-04-01'\n",
    "datenow = datetime.now().strftime(\"%Y-%m-%d\")\n",
    "datenow_mns1 = (datetime.now() - timedelta(days=1)).strftime(\"%Y-%m-%d\")\n",
    "fdom = datetime.now().replace(day=1).strftime(\"%Y-%m-%d\")"
   ]
  },
  {
   "cell_type": "code",
   "execution_count": 3,
   "metadata": {},
   "outputs": [],
   "source": [
    "from_tb = \"OM_AccumulatedRegis\""
   ]
  },
  {
   "cell_type": "code",
   "execution_count": 4,
   "metadata": {},
   "outputs": [],
   "source": [
    "table_name = \"d_accumulatedregis\"\n",
    "table_temp = \"d_accumulatedregis_temp\""
   ]
  },
  {
   "cell_type": "code",
   "execution_count": 5,
   "metadata": {},
   "outputs": [],
   "source": [
    "sql = \\\n",
    "f\"\"\"\n",
    "DECLARE @from DATE = '2022-04-01'\n",
    "DECLARE @to DATE = '2022-01-31'\n",
    "select\n",
    "SlsperID,\n",
    "AccumulateID,\n",
    "BranchID,\n",
    "CustID,\n",
    "LevelID,\n",
    "[Status],\n",
    "Crtd_DateTime,\n",
    "Crtd_User,\n",
    "Crtd_Prog,\n",
    "LUpd_DateTime,\n",
    "LUpd_User,\n",
    "LUpd_Prog,\n",
    "PurchaseAgreementValue,\n",
    "PurchaseAgreementID,\n",
    "EffectDateNbr\n",
    "from {from_tb} where \n",
    "AccumulateID in ('CSBH2204OTC-14QD/MR-KS-STO','CSBH2102PNPP-04QD/PN-Q2')\n",
    "and cast(Crtd_DateTime as date) < @from\n",
    "and Status = 'C'\n",
    "\"\"\""
   ]
  },
  {
   "cell_type": "code",
   "execution_count": 6,
   "metadata": {},
   "outputs": [
    {
     "name": "stderr",
     "output_type": "stream",
     "text": [
      "1it [00:02,  2.95s/it]\n"
     ]
    }
   ],
   "source": [
    "df = get_ms_df(sql)\n",
    "df['inserted_at'] = datetime.now()\n",
    "bq_values_insert(df, f\"{table_temp}\", 3)\n",
    "sql = \\\n",
    "f\"\"\"\n",
    "DROP TABLE IF EXISTS biteam.{table_name};\n",
    "CREATE TABLE biteam.{table_name} LIKE biteam.{table_temp}\n",
    "PARTITION BY DATE(crtd_datetime)\n",
    "CLUSTER BY branchid,custid\n",
    "\"\"\"\n",
    "execute_bq_query(sql)"
   ]
  },
  {
   "cell_type": "code",
   "execution_count": 7,
   "metadata": {},
   "outputs": [
    {
     "name": "stderr",
     "output_type": "stream",
     "text": [
      "1it [00:11, 11.12s/it]\n"
     ]
    }
   ],
   "source": [
    "bq_values_insert(df, f\"{table_name}\", 2)"
   ]
  },
  {
   "cell_type": "code",
   "execution_count": 11,
   "metadata": {},
   "outputs": [],
   "source": [
    "usql = \\\n",
    "f\"\"\"\n",
    "DECLARE @from DATE = '{start_date}'\n",
    "DECLARE @to DATE = '2022-01-31'\n",
    "select\n",
    "SlsperID,\n",
    "AccumulateID,\n",
    "BranchID,\n",
    "CustID,\n",
    "LevelID,\n",
    "[Status],\n",
    "Crtd_DateTime,\n",
    "Crtd_User,\n",
    "Crtd_Prog,\n",
    "LUpd_DateTime,\n",
    "LUpd_User,\n",
    "LUpd_Prog,\n",
    "PurchaseAgreementValue,\n",
    "PurchaseAgreementID,\n",
    "EffectDateNbr\n",
    "from {from_tb} where \n",
    "AccumulateID in ('CSBH2204OTC-14QD/MR-KS-STO','CSBH2102PNPP-04QD/PN-Q2')\n",
    "and cast(Crtd_DateTime as date) >= @from\n",
    "and Status = 'C'\n",
    "\"\"\""
   ]
  },
  {
   "cell_type": "code",
   "execution_count": 12,
   "metadata": {},
   "outputs": [
    {
     "name": "stdout",
     "output_type": "stream",
     "text": [
      "\n",
      "DECLARE @from DATE = '2022-04-01'\n",
      "DECLARE @to DATE = '2022-01-31'\n",
      "select\n",
      "SlsperID,\n",
      "AccumulateID,\n",
      "BranchID,\n",
      "CustID,\n",
      "LevelID,\n",
      "[Status],\n",
      "Crtd_DateTime,\n",
      "Crtd_User,\n",
      "Crtd_Prog,\n",
      "LUpd_DateTime,\n",
      "LUpd_User,\n",
      "LUpd_Prog,\n",
      "PurchaseAgreementValue,\n",
      "PurchaseAgreementID,\n",
      "EffectDateNbr\n",
      "from OM_AccumulatedRegis where \n",
      "AccumulateID in ('CSBH2204OTC-14QD/MR-KS-STO','CSBH2102PNPP-04QD/PN-Q2')\n",
      "and cast(Crtd_DateTime as date) >= @from\n",
      "and Status = 'C'\n",
      "\n"
     ]
    }
   ],
   "source": [
    "print(usql)"
   ]
  },
  {
   "cell_type": "code",
   "execution_count": 10,
   "metadata": {},
   "outputs": [],
   "source": [
    "# table_name = \"sync_dms_dv\"\n",
    "# table_temp = \"sync_dms_dv_temp\""
   ]
  },
  {
   "cell_type": "code",
   "execution_count": 15,
   "metadata": {},
   "outputs": [
    {
     "name": "stdout",
     "output_type": "stream",
     "text": [
      "delete_sql:  \n",
      "delete from biteam.d_accumulatedregis where date(crtd_datetime) >= '2022-04-01'\n",
      "\n"
     ]
    },
    {
     "name": "stderr",
     "output_type": "stream",
     "text": [
      "1it [00:12, 12.47s/it]\n"
     ]
    }
   ],
   "source": [
    "# print(sql)\n",
    "df = get_ms_df(usql)\n",
    "df['inserted_at'] = datetime.now()\n",
    "\n",
    "dsql = \\\n",
    "f\"\"\"\n",
    "delete from biteam.{table_name} where date(crtd_datetime) >= '{start_date}'\n",
    "\"\"\"\n",
    "print(\"delete_sql: \", dsql)\n",
    "execute_bq_query(dsql)\n",
    "\n",
    "bq_values_insert(df, f\"{table_name}\", 2)"
   ]
  },
  {
   "cell_type": "code",
   "execution_count": null,
   "metadata": {},
   "outputs": [],
   "source": [
    "# dummy_start = DummyOperator(task_id=\"dummy_start\", dag=dag)\n",
    "\n",
    "# insert = PythonOperator(task_id=\"insert\", python_callable=insert, dag=dag)\n",
    "\n",
    "# update = PythonOperator(task_id=\"update\", python_callable=update, dag=dag)\n",
    "\n",
    "# dummy_start >> insert >> update"
   ]
  }
 ],
 "metadata": {
  "kernelspec": {
   "display_name": "venv",
   "language": "python",
   "name": "python3"
  },
  "language_info": {
   "codemirror_mode": {
    "name": "ipython",
    "version": 3
   },
   "file_extension": ".py",
   "mimetype": "text/x-python",
   "name": "python",
   "nbconvert_exporter": "python",
   "pygments_lexer": "ipython3",
   "version": "3.8.10 (tags/v3.8.10:3d8993a, May  3 2021, 11:48:03) [MSC v.1928 64 bit (AMD64)]"
  },
  "orig_nbformat": 4,
  "vscode": {
   "interpreter": {
    "hash": "8fb55849e6741974ce442ee684e971e1b6b22c29ca2b25c3b9069bf531e0354a"
   }
  }
 },
 "nbformat": 4,
 "nbformat_minor": 2
}
