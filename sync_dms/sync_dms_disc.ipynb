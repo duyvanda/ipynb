{
 "cells": [
  {
   "cell_type": "code",
   "execution_count": 3,
   "metadata": {},
   "outputs": [
    {
     "name": "stdout",
     "output_type": "stream",
     "text": [
      "Default bq project:  spatial-vision-343005.biteam\n"
     ]
    }
   ],
   "source": [
    "from utils.df_handle import *"
   ]
  },
  {
   "cell_type": "code",
   "execution_count": 2,
   "metadata": {},
   "outputs": [],
   "source": [
    "table_name = \"d_promo\"\n",
    "table_temp = \"d_promo_temp\""
   ]
  },
  {
   "cell_type": "code",
   "execution_count": 3,
   "metadata": {},
   "outputs": [],
   "source": [
    "sql = \\\n",
    "\"\"\"\n",
    "DECLARE @from DATE = '2021-10-01'\n",
    "DECLARE @to DATE = '2021-12-31'\n",
    "SELECT DISTINCT\n",
    "        ord.OrderDate,  \n",
    "       ord.BranchID,\n",
    "\t   ord.OrigOrderNbr,\n",
    "       ord.OrderNbr,\n",
    "       d.InvtID,\n",
    "       d.LineRef,\n",
    "\t   d.FreeItem,\n",
    "\t   --dis.FreeItemQty,\n",
    "       sq.TypeDiscount,\n",
    "       DiscAmt = CASE\n",
    "                     WHEN dis.DiscType = 'L' THEN\n",
    "                         d.DiscAmt\n",
    "                     WHEN dis.DiscType = 'G' THEN\n",
    "                         d.GroupDiscAmt1\n",
    "                     WHEN dis.DiscType = 'D' THEN\n",
    "                         d.DocDiscAmt\n",
    "                 END,\n",
    "       DiscPct = CASE\n",
    "                     WHEN dis.DiscType = 'L' THEN\n",
    "                         d.DiscPct\n",
    "                     WHEN dis.DiscType = 'G' THEN\n",
    "                         d.GroupDiscPct1\n",
    "                     WHEN dis.DiscType = 'D' THEN\n",
    "                         d.DocDiscAmt\n",
    "                 END,\n",
    "       sq.DiscIDPN,\n",
    "       --sq.DiscID,\n",
    "       --sq.DiscSeq,\n",
    "       --dis.SOLineRef,\n",
    "       sq.Descr,\n",
    "\t   --dis.GroupRefLineRef,\n",
    "\t   sq.AccumulateID\n",
    "FROM dbo.OM_SalesOrd ord WITH (NOLOCK)\n",
    "    INNER JOIN dbo.OM_SalesOrdDet d WITH (NOLOCK)\n",
    "        ON d.BranchID = ord.BranchID\n",
    "           AND d.OrderNbr = ord.OrderNbr\n",
    "    INNER JOIN dbo.OM_OrdDisc dis WITH (NOLOCK)\n",
    "        ON dis.BranchID = d.BranchID\n",
    "           AND dis.OrderNbr = d.OrderNbr\n",
    "           AND ( d.LineRef = dis.SOLineRef or d.LineRef IN(SELECT part FROM dbo.fr_SplitStringMAX(dis.GroupRefLineRef, ',')) )\n",
    "\t\t   --AND ( d.LineRef IN(SELECT part FROM dbo.fr_SplitStringMAX(dis.GroupRefLineRef, ',')) )\n",
    "    INNER JOIN dbo.OM_DiscSeq sq WITH (NOLOCK)\n",
    "        ON sq.DiscID = dis.DiscID\n",
    "           AND sq.DiscSeq = dis.DiscSeq\n",
    "WHERE CAST(ord.OrderDate AS DATE) >= @from\n",
    "and CAST(ord.OrderDate AS DATE) <= @to\n",
    "\"\"\""
   ]
  },
  {
   "cell_type": "code",
   "execution_count": 1,
   "metadata": {},
   "outputs": [],
   "source": [
    "sql = \\\n",
    "\"\"\"\n",
    "DECLARE @from DATE = '2022-05-01'\n",
    "DECLARE @to DATE = '2022-08-31'\n",
    "SELECT DISTINCT\n",
    "        ord.OrderDate,  \n",
    "       ord.BranchID,\n",
    "\t   ord.OrigOrderNbr,\n",
    "       ord.OrderNbr,\n",
    "       d.InvtID,\n",
    "       d.LineRef,\n",
    "\t   d.FreeItem,\n",
    "\t   --dis.FreeItemQty,\n",
    "       sq.TypeDiscount,\n",
    "       DiscAmt = CASE\n",
    "                     WHEN dis.DiscType = 'L' THEN\n",
    "                         d.DiscAmt\n",
    "                     WHEN dis.DiscType = 'G' THEN\n",
    "                         d.GroupDiscAmt1\n",
    "                     WHEN dis.DiscType = 'D' THEN\n",
    "                         d.DocDiscAmt\n",
    "                 END,\n",
    "       DiscPct = CASE\n",
    "                     WHEN dis.DiscType = 'L' THEN\n",
    "                         d.DiscPct\n",
    "                     WHEN dis.DiscType = 'G' THEN\n",
    "                         d.GroupDiscPct1\n",
    "                     WHEN dis.DiscType = 'D' THEN\n",
    "                         d.DocDiscAmt\n",
    "                 END,\n",
    "       sq.DiscIDPN,\n",
    "\t   case when dis.SOLineRef != '' then 'item' else '' END as tangitem,\n",
    "\t\tcase when dis.DiscAmt != 0 then 'tangtien' else '' END as tangtien,\n",
    "       --sq.DiscID,\n",
    "       --sq.DiscSeq,\n",
    "       --dis.SOLineRef,\n",
    "       sq.Descr,\n",
    "\t   --dis.GroupRefLineRef,\n",
    "\t   sq.AccumulateID\n",
    "FROM dbo.OM_SalesOrd ord WITH (NOLOCK)\n",
    "    INNER JOIN dbo.OM_SalesOrdDet d WITH (NOLOCK)\n",
    "        ON d.BranchID = ord.BranchID\n",
    "           AND d.OrderNbr = ord.OrderNbr\n",
    "    INNER JOIN dbo.OM_OrdDisc dis WITH (NOLOCK)\n",
    "        ON dis.BranchID = d.BranchID\n",
    "           AND dis.OrderNbr = d.OrderNbr\n",
    "           AND ( d.LineRef = dis.SOLineRef or d.LineRef IN(SELECT part FROM dbo.fr_SplitStringMAX(dis.GroupRefLineRef, ',')) )\n",
    "\t\t   --AND ( d.LineRef IN(SELECT part FROM dbo.fr_SplitStringMAX(dis.GroupRefLineRef, ',')) )\n",
    "    INNER JOIN dbo.OM_DiscSeq sq WITH (NOLOCK)\n",
    "        ON sq.DiscID = dis.DiscID\n",
    "           AND sq.DiscSeq = dis.DiscSeq\n",
    "WHERE CAST(ord.OrderDate AS DATE) >= @from\n",
    "and CAST(ord.OrderDate AS DATE) <= @to\n",
    "\"\"\""
   ]
  },
  {
   "cell_type": "code",
   "execution_count": 4,
   "metadata": {},
   "outputs": [],
   "source": [
    "df0 = get_ms_df(sql)"
   ]
  },
  {
   "cell_type": "code",
   "execution_count": 24,
   "metadata": {},
   "outputs": [
    {
     "data": {
      "text/plain": [
       "(158614, 15)"
      ]
     },
     "execution_count": 24,
     "metadata": {},
     "output_type": "execute_result"
    }
   ],
   "source": [
    "df0.shape"
   ]
  },
  {
   "cell_type": "code",
   "execution_count": 5,
   "metadata": {},
   "outputs": [],
   "source": [
    "df = df0.copy()"
   ]
  },
  {
   "cell_type": "code",
   "execution_count": 6,
   "metadata": {},
   "outputs": [],
   "source": [
    "df.columns = lower_col(df)"
   ]
  },
  {
   "cell_type": "code",
   "execution_count": 7,
   "metadata": {},
   "outputs": [],
   "source": [
    "# checkdup(df,2, subset=[''])"
   ]
  },
  {
   "cell_type": "code",
   "execution_count": 8,
   "metadata": {},
   "outputs": [],
   "source": [
    "dk = checkdup(df, 2, ['branchid', 'ordernbr', 'lineref'])"
   ]
  },
  {
   "cell_type": "code",
   "execution_count": 9,
   "metadata": {},
   "outputs": [],
   "source": [
    "# df[dk].to_clipboard()"
   ]
  },
  {
   "cell_type": "code",
   "execution_count": 10,
   "metadata": {},
   "outputs": [],
   "source": [
    "df['duplineref'] = np.where(dk, \"y\",\"n\")"
   ]
  },
  {
   "cell_type": "code",
   "execution_count": 11,
   "metadata": {},
   "outputs": [
    {
     "data": {
      "text/html": [
       "<div>\n",
       "<style scoped>\n",
       "    .dataframe tbody tr th:only-of-type {\n",
       "        vertical-align: middle;\n",
       "    }\n",
       "\n",
       "    .dataframe tbody tr th {\n",
       "        vertical-align: top;\n",
       "    }\n",
       "\n",
       "    .dataframe thead th {\n",
       "        text-align: right;\n",
       "    }\n",
       "</style>\n",
       "<table border=\"1\" class=\"dataframe\">\n",
       "  <thead>\n",
       "    <tr style=\"text-align: right;\">\n",
       "      <th></th>\n",
       "      <th>duplineref</th>\n",
       "      <th>counts</th>\n",
       "    </tr>\n",
       "  </thead>\n",
       "  <tbody>\n",
       "    <tr>\n",
       "      <th>0</th>\n",
       "      <td>n</td>\n",
       "      <td>155147</td>\n",
       "    </tr>\n",
       "    <tr>\n",
       "      <th>1</th>\n",
       "      <td>y</td>\n",
       "      <td>3467</td>\n",
       "    </tr>\n",
       "  </tbody>\n",
       "</table>\n",
       "</div>"
      ],
      "text/plain": [
       "  duplineref  counts\n",
       "0          n  155147\n",
       "1          y    3467"
      ]
     },
     "execution_count": 11,
     "metadata": {},
     "output_type": "execute_result"
    }
   ],
   "source": [
    "vc(df, 'duplineref')"
   ]
  },
  {
   "cell_type": "code",
   "execution_count": 12,
   "metadata": {},
   "outputs": [],
   "source": [
    "dk = df['duplineref'] == 'n'"
   ]
  },
  {
   "cell_type": "code",
   "execution_count": 13,
   "metadata": {},
   "outputs": [],
   "source": [
    "df1 = df[dk].copy()"
   ]
  },
  {
   "cell_type": "code",
   "execution_count": 15,
   "metadata": {},
   "outputs": [
    {
     "data": {
      "text/plain": [
       "Index(['orderdate', 'branchid', 'origordernbr', 'ordernbr', 'invtid',\n",
       "       'lineref', 'freeitem', 'typediscount', 'discamt', 'discpct', 'discidpn',\n",
       "       'tangitem', 'tangtien', 'descr', 'accumulateid', 'duplineref'],\n",
       "      dtype='object')"
      ]
     },
     "execution_count": 15,
     "metadata": {},
     "output_type": "execute_result"
    }
   ],
   "source": [
    "df1.columns"
   ]
  },
  {
   "cell_type": "code",
   "execution_count": 17,
   "metadata": {},
   "outputs": [],
   "source": [
    "drop_cols(df1, ['tangitem', 'tangtien'])"
   ]
  },
  {
   "cell_type": "code",
   "execution_count": 16,
   "metadata": {},
   "outputs": [],
   "source": [
    "df1['inserted_at'] = datetime.now()"
   ]
  },
  {
   "cell_type": "code",
   "execution_count": 18,
   "metadata": {},
   "outputs": [
    {
     "name": "stderr",
     "output_type": "stream",
     "text": [
      "1it [00:15, 15.41s/it]\n"
     ]
    }
   ],
   "source": [
    "bq_values_insert(df1, \"d_promo\", 2)"
   ]
  },
  {
   "cell_type": "code",
   "execution_count": 20,
   "metadata": {},
   "outputs": [
    {
     "data": {
      "text/plain": [
       "(155147, 15)"
      ]
     },
     "execution_count": 20,
     "metadata": {},
     "output_type": "execute_result"
    }
   ],
   "source": [
    "df1.shape"
   ]
  },
  {
   "cell_type": "code",
   "execution_count": 21,
   "metadata": {},
   "outputs": [],
   "source": [
    "dk2 = checkdup(df, 2, ['branchid', 'ordernbr', 'lineref','discidpn'])"
   ]
  },
  {
   "cell_type": "code",
   "execution_count": 22,
   "metadata": {},
   "outputs": [],
   "source": [
    "df['dup_discidpn'] = np.where(dk2, \"y\",\"n\")"
   ]
  },
  {
   "cell_type": "code",
   "execution_count": 23,
   "metadata": {},
   "outputs": [
    {
     "data": {
      "text/html": [
       "<div>\n",
       "<style scoped>\n",
       "    .dataframe tbody tr th:only-of-type {\n",
       "        vertical-align: middle;\n",
       "    }\n",
       "\n",
       "    .dataframe tbody tr th {\n",
       "        vertical-align: top;\n",
       "    }\n",
       "\n",
       "    .dataframe thead th {\n",
       "        text-align: right;\n",
       "    }\n",
       "</style>\n",
       "<table border=\"1\" class=\"dataframe\">\n",
       "  <thead>\n",
       "    <tr style=\"text-align: right;\">\n",
       "      <th></th>\n",
       "      <th>dup_discidpn</th>\n",
       "      <th>counts</th>\n",
       "    </tr>\n",
       "  </thead>\n",
       "  <tbody>\n",
       "    <tr>\n",
       "      <th>0</th>\n",
       "      <td>n</td>\n",
       "      <td>158432</td>\n",
       "    </tr>\n",
       "    <tr>\n",
       "      <th>1</th>\n",
       "      <td>y</td>\n",
       "      <td>182</td>\n",
       "    </tr>\n",
       "  </tbody>\n",
       "</table>\n",
       "</div>"
      ],
      "text/plain": [
       "  dup_discidpn  counts\n",
       "0            n  158432\n",
       "1            y     182"
      ]
     },
     "execution_count": 23,
     "metadata": {},
     "output_type": "execute_result"
    }
   ],
   "source": [
    "vc(df, 'dup_discidpn')"
   ]
  },
  {
   "cell_type": "code",
   "execution_count": 25,
   "metadata": {},
   "outputs": [],
   "source": [
    "dk3 = df['dup_discidpn'] == 'y'"
   ]
  },
  {
   "cell_type": "code",
   "execution_count": 26,
   "metadata": {},
   "outputs": [],
   "source": [
    "df_dup_discidpn = df[dk3].copy()"
   ]
  },
  {
   "cell_type": "code",
   "execution_count": 27,
   "metadata": {},
   "outputs": [],
   "source": [
    "# df_dup_discidpn.to_clipboard()"
   ]
  },
  {
   "cell_type": "code",
   "execution_count": 28,
   "metadata": {},
   "outputs": [],
   "source": [
    "dk1 = df_dup_discidpn['discamt'] > 0\n",
    "dk2 = df_dup_discidpn['tangtien'] == ''\n",
    "dk3 = df_dup_discidpn['typediscount'] == 'AC'"
   ]
  },
  {
   "cell_type": "code",
   "execution_count": 29,
   "metadata": {},
   "outputs": [],
   "source": [
    "#Loai bo cac case trung discidpn\n",
    "df_dup_discidpn = df_dup_discidpn[~(dk1&dk2&dk3)]"
   ]
  },
  {
   "cell_type": "code",
   "execution_count": 30,
   "metadata": {},
   "outputs": [],
   "source": [
    "df_dup_discidpn['duplineref'] = 'n'"
   ]
  },
  {
   "cell_type": "code",
   "execution_count": 31,
   "metadata": {},
   "outputs": [],
   "source": [
    "drop_cols(df_dup_discidpn, ['tangitem', 'tangtien', 'dup_discidpn'])"
   ]
  },
  {
   "cell_type": "code",
   "execution_count": 32,
   "metadata": {},
   "outputs": [
    {
     "data": {
      "text/plain": [
       "(91, 14)"
      ]
     },
     "execution_count": 32,
     "metadata": {},
     "output_type": "execute_result"
    }
   ],
   "source": [
    "df_dup_discidpn.shape"
   ]
  },
  {
   "cell_type": "code",
   "execution_count": 60,
   "metadata": {},
   "outputs": [],
   "source": [
    "# df_dup_discidpn.head()"
   ]
  },
  {
   "cell_type": "code",
   "execution_count": 33,
   "metadata": {},
   "outputs": [
    {
     "name": "stderr",
     "output_type": "stream",
     "text": [
      "1it [00:05,  5.48s/it]\n"
     ]
    }
   ],
   "source": [
    "#loc bo 43 don trong 86 don\n",
    "bq_values_insert(df_dup_discidpn, \"d_promo\", 2)"
   ]
  },
  {
   "cell_type": "code",
   "execution_count": 34,
   "metadata": {},
   "outputs": [],
   "source": [
    "dk1 = df['duplineref'] == 'y'\n",
    "dk2 = df['dup_discidpn'] == 'n'"
   ]
  },
  {
   "cell_type": "code",
   "execution_count": 35,
   "metadata": {},
   "outputs": [],
   "source": [
    "df_dup_discidpn = df[dk1&dk2].copy()"
   ]
  },
  {
   "cell_type": "code",
   "execution_count": 36,
   "metadata": {},
   "outputs": [],
   "source": [
    "# df_dup_discidpn['join'] = df_dup_discidpn['branchid'] + df_dup_discidpn['ordernbr'] + df_dup_discidpn['lineref']"
   ]
  },
  {
   "cell_type": "code",
   "execution_count": 37,
   "metadata": {},
   "outputs": [],
   "source": [
    "# df_dup_discidpn.to_clipboard()"
   ]
  },
  {
   "cell_type": "code",
   "execution_count": 38,
   "metadata": {},
   "outputs": [],
   "source": [
    "dk1 = df_dup_discidpn['discamt'] > 0\n",
    "dk2 = df_dup_discidpn['tangtien'] == 'tangtien'"
   ]
  },
  {
   "cell_type": "code",
   "execution_count": 39,
   "metadata": {},
   "outputs": [],
   "source": [
    "df_dup_discidpn_tangtien = df_dup_discidpn[dk1&dk2].copy()"
   ]
  },
  {
   "cell_type": "code",
   "execution_count": 40,
   "metadata": {},
   "outputs": [
    {
     "data": {
      "text/plain": [
       "Index(['orderdate', 'branchid', 'origordernbr', 'ordernbr', 'invtid',\n",
       "       'lineref', 'freeitem', 'typediscount', 'discamt', 'discpct', 'discidpn',\n",
       "       'tangitem', 'tangtien', 'descr', 'accumulateid', 'duplineref',\n",
       "       'dup_discidpn'],\n",
       "      dtype='object')"
      ]
     },
     "execution_count": 40,
     "metadata": {},
     "output_type": "execute_result"
    }
   ],
   "source": [
    "df_dup_discidpn_tangtien.columns"
   ]
  },
  {
   "cell_type": "code",
   "execution_count": 41,
   "metadata": {},
   "outputs": [],
   "source": [
    "# df_dup_discidpn_tangtien['join'] = df_dup_discidpn_tangtien['branchid'] + df_dup_discidpn_tangtien['ordernbr'] + df_dup_discidpn_tangtien['lineref']"
   ]
  },
  {
   "cell_type": "code",
   "execution_count": 42,
   "metadata": {},
   "outputs": [],
   "source": [
    "df_dup_discidpn_tangtien['duplineref'] = 'n'"
   ]
  },
  {
   "cell_type": "code",
   "execution_count": 43,
   "metadata": {},
   "outputs": [
    {
     "name": "stderr",
     "output_type": "stream",
     "text": [
      "1it [00:05,  5.96s/it]\n"
     ]
    }
   ],
   "source": [
    "drop_cols(df_dup_discidpn_tangtien, ['tangitem', 'tangtien', 'dup_discidpn'])\n",
    "bq_values_insert(df_dup_discidpn_tangtien, \"d_promo\", 2)"
   ]
  },
  {
   "cell_type": "code",
   "execution_count": 44,
   "metadata": {},
   "outputs": [],
   "source": [
    "dk1 = df_dup_discidpn['discamt'] > 0\n",
    "dk2 = df_dup_discidpn['tangtien'] != 'tangtien'"
   ]
  },
  {
   "cell_type": "code",
   "execution_count": 45,
   "metadata": {},
   "outputs": [],
   "source": [
    "df_dup_discidpn_tangitem = df_dup_discidpn[dk1&dk2].copy()"
   ]
  },
  {
   "cell_type": "code",
   "execution_count": 46,
   "metadata": {},
   "outputs": [],
   "source": [
    "# checkdup(df_dup_discidpn_tangitem, 2, ['branchid', 'ordernbr', 'lineref']).sum()"
   ]
  },
  {
   "cell_type": "code",
   "execution_count": 47,
   "metadata": {},
   "outputs": [],
   "source": [
    "# df_dup_discidpn_tangitem.to_clipboard()"
   ]
  },
  {
   "cell_type": "code",
   "execution_count": 48,
   "metadata": {},
   "outputs": [
    {
     "name": "stderr",
     "output_type": "stream",
     "text": [
      "1it [00:03,  3.99s/it]\n"
     ]
    }
   ],
   "source": [
    "drop_cols(df_dup_discidpn_tangitem, ['tangitem', 'tangtien', 'dup_discidpn'])\n",
    "bq_values_insert(df_dup_discidpn_tangitem, \"d_promo\", 2)"
   ]
  },
  {
   "cell_type": "code",
   "execution_count": 49,
   "metadata": {},
   "outputs": [],
   "source": [
    "# df_dup_discidpn_tangitem['join'] = df_dup_discidpn_tangitem['branchid'] + df_dup_discidpn_tangitem['ordernbr'] + df_dup_discidpn_tangitem['lineref']"
   ]
  },
  {
   "cell_type": "code",
   "execution_count": 50,
   "metadata": {},
   "outputs": [],
   "source": [
    "# df_dup_discidpn_tangitem.to_clipboard()"
   ]
  },
  {
   "cell_type": "code",
   "execution_count": 51,
   "metadata": {},
   "outputs": [],
   "source": [
    "dk1 = df_dup_discidpn['discamt'] == 0"
   ]
  },
  {
   "cell_type": "code",
   "execution_count": 52,
   "metadata": {},
   "outputs": [],
   "source": [
    "df_dup_discidpn_tangitem_only = df_dup_discidpn[dk1].copy()"
   ]
  },
  {
   "cell_type": "code",
   "execution_count": 54,
   "metadata": {},
   "outputs": [],
   "source": [
    "# df_dup_discidpn_tangitem_only"
   ]
  },
  {
   "cell_type": "code",
   "execution_count": 55,
   "metadata": {},
   "outputs": [],
   "source": [
    "# df_dup_discidpn_tangitem_only['join'] = df_dup_discidpn_tangitem_only['branchid'] + df_dup_discidpn_tangitem_only['ordernbr'] + df_dup_discidpn_tangitem_only['lineref']"
   ]
  },
  {
   "cell_type": "code",
   "execution_count": 56,
   "metadata": {},
   "outputs": [],
   "source": [
    "# df_dup_discidpn_tangitem_only.to_clipboard()"
   ]
  },
  {
   "cell_type": "code",
   "execution_count": null,
   "metadata": {},
   "outputs": [],
   "source": []
  },
  {
   "cell_type": "code",
   "execution_count": 57,
   "metadata": {},
   "outputs": [],
   "source": [
    "# case 1 line ref tham gia 2 ctr tặng sản phẩm, xuất hiện lần 1 duplineref = n\n",
    "df_dup_discidpn_tangitem_only_1 = df_dup_discidpn_tangitem_only[checkdup(df_dup_discidpn_tangitem_only, 1, ['branchid', 'ordernbr', 'lineref'])].copy()\n",
    "df_dup_discidpn_tangitem_only_2 = df_dup_discidpn_tangitem_only[checkdup(df_dup_discidpn_tangitem_only, 3, ['branchid', 'ordernbr', 'lineref'])].copy()\n",
    "# nam trong df_dup_discidpn_tangtien => duplineref = n\n",
    "df_dup_discidpn_tangitem_only_3 = df_dup_discidpn_tangitem_only[~checkdup(df_dup_discidpn_tangitem_only, 2, ['branchid', 'ordernbr', 'lineref'])].copy()"
   ]
  },
  {
   "cell_type": "code",
   "execution_count": 58,
   "metadata": {},
   "outputs": [
    {
     "name": "stdout",
     "output_type": "stream",
     "text": [
      "(1502, 17)\n",
      "(1502, 17)\n",
      "(17, 17)\n"
     ]
    }
   ],
   "source": [
    "print(df_dup_discidpn_tangitem_only_1.shape)\n",
    "print(df_dup_discidpn_tangitem_only_2.shape)\n",
    "print(df_dup_discidpn_tangitem_only_3.shape)"
   ]
  },
  {
   "cell_type": "code",
   "execution_count": 59,
   "metadata": {},
   "outputs": [
    {
     "data": {
      "text/plain": [
       "Index(['orderdate', 'branchid', 'origordernbr', 'ordernbr', 'invtid',\n",
       "       'lineref', 'freeitem', 'typediscount', 'discamt', 'discpct', 'discidpn',\n",
       "       'tangitem', 'tangtien', 'descr', 'accumulateid', 'duplineref',\n",
       "       'dup_discidpn'],\n",
       "      dtype='object')"
      ]
     },
     "execution_count": 59,
     "metadata": {},
     "output_type": "execute_result"
    }
   ],
   "source": [
    "df_dup_discidpn_tangitem_only_1.columns"
   ]
  },
  {
   "cell_type": "code",
   "execution_count": 61,
   "metadata": {},
   "outputs": [
    {
     "name": "stderr",
     "output_type": "stream",
     "text": [
      "1it [00:04,  4.73s/it]\n"
     ]
    }
   ],
   "source": [
    "df_dup_discidpn_tangitem_only_1['duplineref'] = 'n'\n",
    "drop_cols(df_dup_discidpn_tangitem_only_1, ['tangitem', 'tangtien', 'dup_discidpn'])\n",
    "bq_values_insert(df_dup_discidpn_tangitem_only_1, \"d_promo\", 2)"
   ]
  },
  {
   "cell_type": "code",
   "execution_count": 62,
   "metadata": {},
   "outputs": [
    {
     "name": "stderr",
     "output_type": "stream",
     "text": [
      "1it [00:09,  9.80s/it]\n"
     ]
    }
   ],
   "source": [
    "df_dup_discidpn_tangitem_only_2['duplineref'] = 'y'\n",
    "drop_cols(df_dup_discidpn_tangitem_only_2, ['tangitem', 'tangtien', 'dup_discidpn'])\n",
    "bq_values_insert(df_dup_discidpn_tangitem_only_2, \"d_promo\", 2)"
   ]
  },
  {
   "cell_type": "code",
   "execution_count": 63,
   "metadata": {},
   "outputs": [
    {
     "name": "stderr",
     "output_type": "stream",
     "text": [
      "1it [00:06,  6.05s/it]\n"
     ]
    }
   ],
   "source": [
    "df_dup_discidpn_tangitem_only_3['duplineref'] = 'y'\n",
    "drop_cols(df_dup_discidpn_tangitem_only_3, ['tangitem', 'tangtien', 'dup_discidpn'])\n",
    "bq_values_insert(df_dup_discidpn_tangitem_only_3, \"d_promo\", 2)"
   ]
  },
  {
   "cell_type": "code",
   "execution_count": 12,
   "metadata": {},
   "outputs": [
    {
     "name": "stderr",
     "output_type": "stream",
     "text": [
      "1it [00:17, 17.84s/it]\n"
     ]
    }
   ],
   "source": [
    "# df = get_ms_df(sql)\n",
    "df['inserted_at'] = datetime.now()\n",
    "bq_values_insert(df, f\"{table_temp}\", 3)\n",
    "sql = \\\n",
    "f\"\"\"\n",
    "DROP TABLE IF EXISTS biteam.{table_name};\n",
    "CREATE TABLE biteam.{table_name} LIKE biteam.{table_temp}\n",
    "PARTITION BY DATE(orderdate)\n",
    "CLUSTER BY branchid,ordernbr,lineref\n",
    "\"\"\"\n",
    "execute_bq_query(sql)"
   ]
  },
  {
   "cell_type": "code",
   "execution_count": 7,
   "metadata": {},
   "outputs": [],
   "source": [
    "# print(sql)"
   ]
  },
  {
   "cell_type": "code",
   "execution_count": 13,
   "metadata": {},
   "outputs": [
    {
     "name": "stderr",
     "output_type": "stream",
     "text": [
      "1it [00:19, 19.78s/it]\n"
     ]
    }
   ],
   "source": [
    "# df = get_ms_df(sql)\n",
    "# df['inserted_at'] = datetime.now()\n",
    "bq_values_insert(df, f\"{table_name}\", 2)"
   ]
  },
  {
   "cell_type": "code",
   "execution_count": 14,
   "metadata": {},
   "outputs": [
    {
     "data": {
      "text/plain": [
       "(200206, 15)"
      ]
     },
     "execution_count": 14,
     "metadata": {},
     "output_type": "execute_result"
    }
   ],
   "source": [
    "df.shape"
   ]
  },
  {
   "cell_type": "code",
   "execution_count": 10,
   "metadata": {},
   "outputs": [
    {
     "name": "stderr",
     "output_type": "stream",
     "text": [
      "1it [00:28, 28.29s/it]\n"
     ]
    }
   ],
   "source": [
    "bq_values_insert(df, f\"{table_name}\", 2)"
   ]
  },
  {
   "cell_type": "code",
   "execution_count": 13,
   "metadata": {},
   "outputs": [],
   "source": [
    "sql = \\\n",
    "\"\"\"\n",
    "select mahd, macongtycn, lineref from biteam.f_sales where date(ngaychungtu) < '2022-01-01'\n",
    "\"\"\""
   ]
  },
  {
   "cell_type": "code",
   "execution_count": 14,
   "metadata": {},
   "outputs": [],
   "source": [
    "df = get_bq_df(sql)"
   ]
  },
  {
   "cell_type": "code",
   "execution_count": 15,
   "metadata": {},
   "outputs": [],
   "source": [
    "df.drop_duplicates(inplace=True)"
   ]
  },
  {
   "cell_type": "code",
   "execution_count": 16,
   "metadata": {},
   "outputs": [
    {
     "data": {
      "text/plain": [
       "(462038, 3)"
      ]
     },
     "execution_count": 16,
     "metadata": {},
     "output_type": "execute_result"
    }
   ],
   "source": [
    "df.shape"
   ]
  },
  {
   "cell_type": "code",
   "execution_count": 4,
   "metadata": {},
   "outputs": [],
   "source": [
    "sql2 = \"\"\"\n",
    "select ordernbr as mahd, branchid as macongtycn, lineref from `spatial-vision-343005.biteam.d_promo` where date(orderdate) >= '2022-01-01'\n",
    "\"\"\""
   ]
  },
  {
   "cell_type": "code",
   "execution_count": 5,
   "metadata": {},
   "outputs": [],
   "source": [
    "df2= get_bq_df(sql2)"
   ]
  },
  {
   "cell_type": "code",
   "execution_count": 9,
   "metadata": {},
   "outputs": [
    {
     "data": {
      "text/html": [
       "<div>\n",
       "<style scoped>\n",
       "    .dataframe tbody tr th:only-of-type {\n",
       "        vertical-align: middle;\n",
       "    }\n",
       "\n",
       "    .dataframe tbody tr th {\n",
       "        vertical-align: top;\n",
       "    }\n",
       "\n",
       "    .dataframe thead th {\n",
       "        text-align: right;\n",
       "    }\n",
       "</style>\n",
       "<table border=\"1\" class=\"dataframe\">\n",
       "  <thead>\n",
       "    <tr style=\"text-align: right;\">\n",
       "      <th></th>\n",
       "      <th>mahd</th>\n",
       "      <th>macongtycn</th>\n",
       "      <th>lineref</th>\n",
       "    </tr>\n",
       "  </thead>\n",
       "  <tbody>\n",
       "    <tr>\n",
       "      <th>71</th>\n",
       "      <td>HD1-0422-00863</td>\n",
       "      <td>MR0010</td>\n",
       "      <td>00009</td>\n",
       "    </tr>\n",
       "    <tr>\n",
       "      <th>76</th>\n",
       "      <td>HD1-0422-00863</td>\n",
       "      <td>MR0010</td>\n",
       "      <td>00009</td>\n",
       "    </tr>\n",
       "    <tr>\n",
       "      <th>151</th>\n",
       "      <td>HD0-0122-12264</td>\n",
       "      <td>MR0001</td>\n",
       "      <td>00018</td>\n",
       "    </tr>\n",
       "    <tr>\n",
       "      <th>153</th>\n",
       "      <td>HD0-0122-12264</td>\n",
       "      <td>MR0001</td>\n",
       "      <td>00018</td>\n",
       "    </tr>\n",
       "    <tr>\n",
       "      <th>534</th>\n",
       "      <td>HD0-0322-25928</td>\n",
       "      <td>MR0001</td>\n",
       "      <td>00009</td>\n",
       "    </tr>\n",
       "    <tr>\n",
       "      <th>...</th>\n",
       "      <td>...</td>\n",
       "      <td>...</td>\n",
       "      <td>...</td>\n",
       "    </tr>\n",
       "    <tr>\n",
       "      <th>198962</th>\n",
       "      <td>HD6-0122-05374</td>\n",
       "      <td>MR0016</td>\n",
       "      <td>00016</td>\n",
       "    </tr>\n",
       "    <tr>\n",
       "      <th>198979</th>\n",
       "      <td>HD5-0322-00045</td>\n",
       "      <td>MR0015</td>\n",
       "      <td>00016</td>\n",
       "    </tr>\n",
       "    <tr>\n",
       "      <th>198980</th>\n",
       "      <td>HD5-0322-00045</td>\n",
       "      <td>MR0015</td>\n",
       "      <td>00016</td>\n",
       "    </tr>\n",
       "    <tr>\n",
       "      <th>198994</th>\n",
       "      <td>HD1-0222-00223</td>\n",
       "      <td>MR0010</td>\n",
       "      <td>00016</td>\n",
       "    </tr>\n",
       "    <tr>\n",
       "      <th>198995</th>\n",
       "      <td>HD1-0222-00223</td>\n",
       "      <td>MR0010</td>\n",
       "      <td>00016</td>\n",
       "    </tr>\n",
       "  </tbody>\n",
       "</table>\n",
       "<p>7836 rows × 3 columns</p>\n",
       "</div>"
      ],
      "text/plain": [
       "                  mahd macongtycn lineref\n",
       "71      HD1-0422-00863     MR0010   00009\n",
       "76      HD1-0422-00863     MR0010   00009\n",
       "151     HD0-0122-12264     MR0001   00018\n",
       "153     HD0-0122-12264     MR0001   00018\n",
       "534     HD0-0322-25928     MR0001   00009\n",
       "...                ...        ...     ...\n",
       "198962  HD6-0122-05374     MR0016   00016\n",
       "198979  HD5-0322-00045     MR0015   00016\n",
       "198980  HD5-0322-00045     MR0015   00016\n",
       "198994  HD1-0222-00223     MR0010   00016\n",
       "198995  HD1-0222-00223     MR0010   00016\n",
       "\n",
       "[7836 rows x 3 columns]"
      ]
     },
     "execution_count": 9,
     "metadata": {},
     "output_type": "execute_result"
    }
   ],
   "source": [
    "df2[checkdup(df2,2)]"
   ]
  },
  {
   "cell_type": "code",
   "execution_count": 21,
   "metadata": {},
   "outputs": [],
   "source": [
    "df2.drop_duplicates(inplace=True)"
   ]
  },
  {
   "cell_type": "code",
   "execution_count": 23,
   "metadata": {},
   "outputs": [],
   "source": [
    "dfs_diff(df,df2).to_clipboard()"
   ]
  },
  {
   "cell_type": "code",
   "execution_count": 1,
   "metadata": {},
   "outputs": [],
   "source": [
    "with open(\"date.csv\") as f:\n",
    "    lines = f.readlines()"
   ]
  },
  {
   "cell_type": "code",
   "execution_count": 3,
   "metadata": {},
   "outputs": [
    {
     "name": "stdout",
     "output_type": "stream",
     "text": [
      "from,to\n",
      "\n",
      "2022-01-01,2022-01-31\n"
     ]
    }
   ],
   "source": [
    "for l in lines:\n",
    "    print(l)"
   ]
  },
  {
   "cell_type": "code",
   "execution_count": 9,
   "metadata": {},
   "outputs": [
    {
     "name": "stderr",
     "output_type": "stream",
     "text": [
      "1it [02:04, 124.56s/it]\n"
     ]
    }
   ],
   "source": [
    "# bq_values_insert(df, f\"{table_name}\", 2)"
   ]
  },
  {
   "cell_type": "code",
   "execution_count": null,
   "metadata": {},
   "outputs": [],
   "source": [
    "# from utils.df_handle import *\n",
    "import pendulum\n",
    "from airflow import DAG\n",
    "from airflow.operators.dummy_operator import DummyOperator\n",
    "from airflow.operators.python_operator import PythonOperator\n",
    "\n",
    "local_tz = pendulum.timezone(\"Asia/Bangkok\")\n",
    "\n",
    "name='DV'\n",
    "prefix='SYNC_'\n",
    "csv_path = '/usr/local/airflow/plugins'+'/'\n",
    "\n",
    "dag_params = {\n",
    "    'owner': 'airflow',\n",
    "    \"depends_on_past\": False,\n",
    "    'start_date': datetime(2022, 5, 10, tzinfo=local_tz),\n",
    "    'email_on_failure': True,\n",
    "    'email_on_retry': False,\n",
    "    'email':['duyvq@merapgroup.com', 'vanquangduy10@gmail.com'],\n",
    "    'do_xcom_push': False,\n",
    "    'execution_timeout':timedelta(seconds=300)\n",
    "    # 'retries': 3,\n",
    "    # 'retry_delay': timedelta(minutes=10),\n",
    "}\n",
    "\n",
    "dag = DAG(prefix+name,\n",
    "          catchup=False,\n",
    "          default_args=dag_params,\n",
    "          schedule_interval= '*/30 8-17,23-23 * * *',\n",
    "          tags=[prefix+name, 'Sync', '30mins']\n",
    ")"
   ]
  },
  {
   "cell_type": "code",
   "execution_count": 2,
   "metadata": {},
   "outputs": [],
   "source": [
    "datenow = datetime.now().strftime(\"%Y-%m-%d\")\n",
    "datenow_mns1 = (datetime.now() - timedelta(days=1)).strftime(\"%Y-%m-%d\")\n",
    "fdom = datetime.now().replace(day=1).strftime(\"%Y%m%d\")"
   ]
  },
  {
   "cell_type": "code",
   "execution_count": 3,
   "metadata": {},
   "outputs": [],
   "source": [
    "from_tb = \"OM_Delivery\""
   ]
  },
  {
   "cell_type": "code",
   "execution_count": 4,
   "metadata": {},
   "outputs": [],
   "source": [
    "sql = \\\n",
    "f\"\"\"\n",
    "DECLARE @from DATE = '{datenow}'\n",
    "DECLARE @to DATE = '2022-01-31'\n",
    "SELECT\n",
    "BranchID,\n",
    "BatNbr,\n",
    "OrderNbr,\n",
    "Sequence,\n",
    "SlsperID,\n",
    "Status,\n",
    "Crtd_DateTime,\n",
    "Crtd_Prog,\n",
    "Crtd_User,\n",
    "LUpd_DateTime\n",
    "from {from_tb}\n",
    "where Crtd_Datetime >= @from\n",
    "\"\"\""
   ]
  },
  {
   "cell_type": "code",
   "execution_count": null,
   "metadata": {},
   "outputs": [],
   "source": [
    "usql = \\\n",
    "f\"\"\"\n",
    "DECLARE @from DATE = '{datenow}'\n",
    "DECLARE @to DATE = '2022-01-31'\n",
    "SELECT\n",
    "BranchID,\n",
    "BatNbr,\n",
    "OrderNbr,\n",
    "Sequence,\n",
    "SlsperID,\n",
    "Status,\n",
    "Crtd_DateTime,\n",
    "Crtd_Prog,\n",
    "Crtd_User,\n",
    "LUpd_DateTime\n",
    "from {from_tb}\n",
    "where LUpd_DateTime >= @from\n",
    "and Crtd_DateTime < @from\n",
    "\"\"\""
   ]
  },
  {
   "cell_type": "code",
   "execution_count": 2,
   "metadata": {},
   "outputs": [],
   "source": [
    "table_name = \"sync_dms_dv\"\n",
    "table_temp = \"sync_dms_dv_temp\""
   ]
  },
  {
   "cell_type": "code",
   "execution_count": 1,
   "metadata": {},
   "outputs": [],
   "source": [
    "# print(sql)\n",
    "df = get_ms_df(sql)\n",
    "df['inserted_at'] = datetime.now()\n",
    "# df['inserted_At']\n",
    "# bq_values_insert(df, f\"{table_temp}\", 3)\n",
    "# sql = \\\n",
    "# f\"\"\"\n",
    "# DROP TABLE IF EXISTS biteam.{table_name};\n",
    "# CREATE TABLE biteam.{table_name} LIKE biteam.{table_temp}\n",
    "# PARTITION BY DATE(crtd_datetime)\n",
    "# CLUSTER BY branchid,batnbr,ordernbr\n",
    "# \"\"\"\n",
    "# print(sql)\n",
    "# execute_bq_query(sql)\n",
    "\n",
    "dsql = \\\n",
    "f\"\"\"\n",
    "delete from biteam.{table_name} where date(crtd_datetime) >= '{datenow}'\n",
    "\"\"\"\n",
    "print(\"delete_sql: \", dsql)\n",
    "execute_bq_query(dsql)\n",
    "\n",
    "bq_values_insert(df, f\"{table_name}\", 2)\n",
    "# sql = \\\n",
    "# f\"\"\"\n",
    "# DROP TABLE IF EXISTS biteam.{table_temp};\n",
    "# \"\"\"\n",
    "# execute_bq_query(sql)\n"
   ]
  },
  {
   "cell_type": "code",
   "execution_count": null,
   "metadata": {},
   "outputs": [],
   "source": [
    "#UPDATE\n",
    "df_update = get_ms_df(usql)\n",
    "df_update.columns = lower_col(df_update)\n",
    "# df_update.columns\n",
    "df_update['crtd_datetime'] = df_update.crtd_datetime.dt.normalize()\n",
    "df_update1 = df_update['crtd_datetime']\n",
    "df_update1.drop_duplicates(inplace=True)\n",
    "tpl_dt = tuple(df_update1.dt.strftime('%Y-%m-%d').to_list()) + ('1900-01-01',)\n",
    "# tpl_dt\n",
    "df_update1 = df_update['branchid'] + df_update['batnbr'] + df_update['ordernbr'] + df_update['sequence']\n",
    "df_update1.drop_duplicates(inplace=True)\n",
    "tpl_pk = tuple(df_update1.to_list()) + ('',)\n",
    "del_sql = \\\n",
    "f\"\"\"\n",
    "DELETE FROM biteam.{table_name}\n",
    "WHERE\n",
    "DATE(crtd_datetime) in {tpl_dt}\n",
    "AND concat(branchid,batnbr,ordernbr,sequence) in {tpl_pk}\n",
    "\"\"\"\n",
    "print(\"del_sql \",del_sql)\n",
    "execute_bq_query(del_sql)\n",
    "df_update['inserted_at'] = datetime.now()\n",
    "bq_values_insert(df_update, f\"{table_name}\", 2)"
   ]
  },
  {
   "cell_type": "code",
   "execution_count": null,
   "metadata": {},
   "outputs": [],
   "source": [
    "# dummy_start = DummyOperator(task_id=\"dummy_start\", dag=dag)\n",
    "\n",
    "# insert = PythonOperator(task_id=\"insert\", python_callable=insert, dag=dag)\n",
    "\n",
    "# update = PythonOperator(task_id=\"update\", python_callable=update, dag=dag)\n",
    "\n",
    "# dummy_start >> insert >> update"
   ]
  }
 ],
 "metadata": {
  "interpreter": {
   "hash": "dff776f8cf9899793f9a0f4d147d4ee0e914dc3f9ff7764d86dd5f5383f5f250"
  },
  "kernelspec": {
   "display_name": "Python 3.9.6 ('venv': venv)",
   "language": "python",
   "name": "python3"
  },
  "language_info": {
   "codemirror_mode": {
    "name": "ipython",
    "version": 3
   },
   "file_extension": ".py",
   "mimetype": "text/x-python",
   "name": "python",
   "nbconvert_exporter": "python",
   "pygments_lexer": "ipython3",
   "version": "3.9.6"
  },
  "orig_nbformat": 4
 },
 "nbformat": 4,
 "nbformat_minor": 2
}
