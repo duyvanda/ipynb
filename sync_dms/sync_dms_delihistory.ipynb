{
 "cells": [
  {
   "cell_type": "code",
   "execution_count": 1,
   "metadata": {},
   "outputs": [
    {
     "name": "stdout",
     "output_type": "stream",
     "text": [
      "Default bq project:  spatial-vision-343005.biteam\n"
     ]
    }
   ],
   "source": [
    "from utils.df_handle import *"
   ]
  },
  {
   "cell_type": "code",
   "execution_count": null,
   "metadata": {},
   "outputs": [],
   "source": [
    "import pendulum\n",
    "from airflow import DAG\n",
    "from airflow.operators.dummy_operator import DummyOperator\n",
    "from airflow.operators.python_operator import PythonOperator\n",
    "\n",
    "local_tz = pendulum.timezone(\"Asia/Bangkok\")\n",
    "\n",
    "name='DELIHISTORY'\n",
    "prefix='SYNC_'\n",
    "csv_path = '/usr/local/airflow/plugins'+'/'\n",
    "\n",
    "dag_params = {\n",
    "    'owner': 'airflow',\n",
    "    \"depends_on_past\": False,\n",
    "    'start_date': datetime(2022, 5, 10, tzinfo=local_tz),\n",
    "    # 'email_on_failure': True,\n",
    "    # 'email_on_retry': False,\n",
    "    # 'email':['duyvq@merapgroup.com', 'vanquangduy10@gmail.com'],\n",
    "    'do_xcom_push': False,\n",
    "    'execution_timeout':timedelta(seconds=300)\n",
    "    # 'retries': 3,\n",
    "    # 'retry_delay': timedelta(minutes=10),\n",
    "}\n",
    "\n",
    "dag = DAG(prefix+name,\n",
    "          catchup=False,\n",
    "          default_args=dag_params,\n",
    "          schedule_interval= '*/30 6-23 * * *',\n",
    "          tags=[prefix+name, 'Sync', '30mins']\n",
    ")"
   ]
  },
  {
   "cell_type": "code",
   "execution_count": 29,
   "metadata": {},
   "outputs": [],
   "source": [
    "from_tb = \"OM_DeliHistory\"\n",
    "from_tb2 = \"OM_DeliHistory\"\n",
    "table_name = \"sync_dms_delihistory\"\n",
    "table_temp = \"sync_dms_delihistory_temp\""
   ]
  },
  {
   "cell_type": "code",
   "execution_count": 4,
   "metadata": {},
   "outputs": [],
   "source": [
    "# from_tb = \"Batch\"\n",
    "# from_tb2 = \"OM_DeliReportDet\"\n",
    "# table_name = \"sync_dms_delihistory\"\n",
    "# table_temp = \"sync_dms_delihistory_temp\"\n",
    "# sql = \\\n",
    "# f\"\"\"\n",
    "# SELECT\n",
    "# TOP 5000\n",
    "# REPLACE(CONCAT(BranchID, BatNbr,'-',OrderNbr,'-', CONVERT(varchar, ShipDate, 12),CONVERT(varchar, ShipDate, 24)),':','') as pk,\n",
    "# BranchID,\n",
    "# BatNbr,\n",
    "# OrderNbr,\n",
    "# SlsperID,\n",
    "# Reason,\n",
    "# [Status],\n",
    "# a.Crtd_DateTime,\n",
    "# a.LUpd_DateTime,\n",
    "# b.Descr,\n",
    "# b.Note,\n",
    "# GETDATE() as inserted_at\n",
    "# from OM_DeliHistory a\n",
    "# LEFT JOIN OM_ReasonCodePPC b\n",
    "# on a.Reason =  b.Code\n",
    "# WHERE a.Status in ('A','D')\n",
    "# \"\"\"\n",
    "# df = get_ms_df(sql)\n",
    "# bq_values_insert(df, f\"{table_temp}\", 3)\n",
    "# sql = \\\n",
    "# f\"\"\"\n",
    "# DROP TABLE IF EXISTS biteam.{table_name};\n",
    "# CREATE TABLE biteam.{table_name} LIKE biteam.{table_temp}\n",
    "# PARTITION BY DATE(crtd_datetime)\n",
    "# CLUSTER BY branchid,batnbr,ordernbr\n",
    "# \"\"\"\n",
    "# execute_bq_query(sql)"
   ]
  },
  {
   "cell_type": "code",
   "execution_count": 28,
   "metadata": {},
   "outputs": [],
   "source": [
    "start_date = '2022-01-01'\n",
    "datenow = datetime.now().strftime(\"%Y-%m-%d\")\n",
    "datenow_mns1 = (datetime.now() - timedelta(days=1)).strftime(\"%Y-%m-%d\")\n",
    "fdom = datetime.now().replace(day=1).strftime(\"%Y%m%d\")\n",
    "datenow_mns90 = (datetime.now() - timedelta(days=90)).strftime(\"%Y-%m-%d\")\n",
    "date_ms45 = (datetime.now() - timedelta(days=45)).strftime(\"%Y-%m-%d\")"
   ]
  },
  {
   "cell_type": "code",
   "execution_count": 25,
   "metadata": {},
   "outputs": [],
   "source": [
    "usql = \\\n",
    "f\"\"\"\n",
    "DECLARE @from DATE = '{datenow}';\n",
    "DECLARE @to DATE = '2022-01-01';\n",
    "SELECT\n",
    "REPLACE(CONCAT(BranchID, BatNbr,'-',OrderNbr,'-', CONVERT(varchar, ShipDate, 12),CONVERT(varchar, ShipDate, 24)),':','') as pk,\n",
    "BranchID,\n",
    "BatNbr,\n",
    "OrderNbr,\n",
    "SlsperID,\n",
    "Reason,\n",
    "[Status] as status,\n",
    "a.Crtd_DateTime,\n",
    "a.LUpd_DateTime,\n",
    "b.Descr,\n",
    "b.Note,\n",
    "GETDATE() as inserted_at\n",
    "from OM_DeliHistory a\n",
    "LEFT JOIN OM_ReasonCodePPC b\n",
    "on a.Reason =  b.Code\n",
    "and b.Code <> '' and b.Type in('DELIOUTLET','DELIREJ','RENOTDEBT')\n",
    "WHERE a.Status in ('A','D')\n",
    "and cast(LUpd_DateTime as DATE) >= @from\n",
    "and cast(a.Crtd_DateTime as DATE) >= @to\n",
    "\"\"\""
   ]
  },
  {
   "cell_type": "code",
   "execution_count": 26,
   "metadata": {},
   "outputs": [
    {
     "name": "stdout",
     "output_type": "stream",
     "text": [
      "(287205, 12)\n"
     ]
    }
   ],
   "source": [
    "def update():\n",
    "    try:\n",
    "        #UPDATE\n",
    "        df_update = get_ms_df(usql)\n",
    "        assert df_update.shape[0] >0,\"NO DATA TO INPUT\"\n",
    "        df_update.columns = lower_col(df_update)\n",
    "        # df_update.columns\n",
    "        df_update['crtd_datetime1'] = df_update['crtd_datetime'].dt.normalize()\n",
    "        df_update1 = df_update['crtd_datetime1']\n",
    "        drop_cols(df_update, \"crtd_datetime1\")\n",
    "        df_update1.drop_duplicates(inplace=True)\n",
    "        tpl_dt = tuple(df_update1.dt.strftime('%Y-%m-%d').to_list()) + ('1900-01-01','1900-01-01')\n",
    "        # tpl_dt\n",
    "        df_update1 = df_update['pk']\n",
    "        df_update1.drop_duplicates(inplace=True)\n",
    "        tpl_pk = tuple(df_update1.to_list()) + ('','')\n",
    "        del_sql = \\\n",
    "        f\"\"\"\n",
    "        DELETE FROM biteam.{table_name} WHERE DATE(crtd_datetime) in {tpl_dt} AND pk in {tpl_pk}\n",
    "        \"\"\"\n",
    "        print(\"del_sql \",del_sql)\n",
    "        execute_bq_query(del_sql)\n",
    "        df_update['inserted_at'] = datetime.now()\n",
    "        bq_values_insert(df_update, f\"{table_name}\", 2)\n",
    "    except AssertionError:\n",
    "        print(\"NO DATA TO INPUT\")"
   ]
  },
  {
   "cell_type": "code",
   "execution_count": null,
   "metadata": {},
   "outputs": [],
   "source": [
    "def handle_deleted_data():\n",
    "    dmssql = \\\n",
    "    f\"\"\"\n",
    "    SELECT\n",
    "    REPLACE(CONCAT(BranchID, BatNbr,'-',OrderNbr,'-', CONVERT(varchar, ShipDate, 12),CONVERT(varchar, ShipDate, 24)),':','') as pk\n",
    "    from {from_tb} \n",
    "    where \n",
    "    cast(Crtd_DateTime as date ) >= '{date_ms45}'\n",
    "    and Status in ('A','D')\n",
    "    \"\"\"\n",
    "    dfdms =  get_ms_df(dmssql)\n",
    "    a = set(dfdms.pk.to_list())\n",
    "    bqssql = \\\n",
    "    f\"\"\"\n",
    "    select pk from biteam.{table_name} where date(crtd_datetime) >= '{date_ms45}'\n",
    "    \"\"\"\n",
    "    dfbq = get_bq_df(bqssql)\n",
    "    b = set(dfbq.pk.to_list())\n",
    "    del_tp = tuple(b.difference(a)) + ('','')\n",
    "    print(\"del tuple \",del_tp)\n",
    "    bqsql = \\\n",
    "    f\"\"\"\n",
    "    delete from biteam.{table_name} where date(crtd_datetime) >= '{date_ms45}' and pk in {del_tp}\n",
    "    \"\"\"\n",
    "    print(bqsql)\n",
    "    execute_bq_query(bqsql)"
   ]
  },
  {
   "cell_type": "code",
   "execution_count": null,
   "metadata": {},
   "outputs": [],
   "source": [
    "def _update_sync_dms():\n",
    "    print(\"_update_sync_dms\")\n",
    "\n",
    "def update_sync_dms():\n",
    "    print(\"update_sync_dms_2\")\n"
   ]
  },
  {
   "cell_type": "code",
   "execution_count": null,
   "metadata": {},
   "outputs": [],
   "source": [
    "dummy_start = DummyOperator(task_id=\"dummy_start\", dag=dag)\n",
    "\n",
    "insert = PythonOperator(task_id=\"insert\", python_callable=insert, dag=dag)\n",
    "\n",
    "handle_deleted_data = PythonOperator(task_id=\"handle_deleted_data\", python_callable=handle_deleted_data, dag=dag)\n",
    "\n",
    "update_sync_dms = PythonOperator(task_id=\"update_sync_dms\", python_callable=update_sync_dms, dag=dag)\n",
    "\n",
    "dummy_start >> update >> handle_deleted_data >> update_sync_dms"
   ]
  },
  {
   "cell_type": "code",
   "execution_count": null,
   "metadata": {},
   "outputs": [],
   "source": []
  }
 ],
 "metadata": {
  "kernelspec": {
   "display_name": "Python 3.8.10 ('venv': venv)",
   "language": "python",
   "name": "python3"
  },
  "language_info": {
   "codemirror_mode": {
    "name": "ipython",
    "version": 3
   },
   "file_extension": ".py",
   "mimetype": "text/x-python",
   "name": "python",
   "nbconvert_exporter": "python",
   "pygments_lexer": "ipython3",
   "version": "3.8.10"
  },
  "orig_nbformat": 4,
  "vscode": {
   "interpreter": {
    "hash": "8fb55849e6741974ce442ee684e971e1b6b22c29ca2b25c3b9069bf531e0354a"
   }
  }
 },
 "nbformat": 4,
 "nbformat_minor": 2
}
