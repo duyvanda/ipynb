{
 "cells": [
  {
   "cell_type": "code",
   "execution_count": 1,
   "metadata": {},
   "outputs": [
    {
     "name": "stdout",
     "output_type": "stream",
     "text": [
      "Default bq project:  spatial-vision-343005.biteam\n"
     ]
    }
   ],
   "source": [
    "from utils.df_handle import *"
   ]
  },
  {
   "cell_type": "code",
   "execution_count": 89,
   "metadata": {},
   "outputs": [],
   "source": [
    "table_name = \"sync_dms_lt\"\n",
    "from_tb = \"OM_LotTrans\""
   ]
  },
  {
   "cell_type": "code",
   "execution_count": 90,
   "metadata": {},
   "outputs": [],
   "source": [
    "datenow_mns45 = \"20220101\""
   ]
  },
  {
   "cell_type": "code",
   "execution_count": 91,
   "metadata": {},
   "outputs": [],
   "source": [
    "sql = \\\n",
    "f\"\"\"\n",
    "DECLARE @from DATE = '{datenow_mns45}'\n",
    "DECLARE @to DATE = '2022-01-31'\n",
    "SELECT\n",
    "CONCAT(BranchID,OrderNbr,LotSerNbr,OMLineRef) as pk,\n",
    "BranchID,\n",
    "OrderNbr,\n",
    "LotSerNbr = ISNULL(LotSerNbr, ''),\n",
    "OMLineRef,\n",
    "ExpDate,\n",
    "Crtd_DateTime,\n",
    "Crtd_User,\n",
    "LUpd_DateTime,\n",
    "LUpd_User\n",
    "from {from_tb}\n",
    "where CAST(Crtd_DateTime as DATE) < @from\n",
    "\"\"\""
   ]
  },
  {
   "cell_type": "code",
   "execution_count": 92,
   "metadata": {},
   "outputs": [
    {
     "name": "stdout",
     "output_type": "stream",
     "text": [
      "\n",
      "DECLARE @from DATE = '20220101'\n",
      "DECLARE @to DATE = '2022-01-31'\n",
      "SELECT\n",
      "CONCAT(BranchID,OrderNbr,LotSerNbr,OMLineRef) as pk,\n",
      "BranchID,\n",
      "OrderNbr,\n",
      "LotSerNbr = ISNULL(LotSerNbr, ''),\n",
      "OMLineRef,\n",
      "ExpDate,\n",
      "Crtd_DateTime,\n",
      "Crtd_User,\n",
      "LUpd_DateTime,\n",
      "LUpd_User\n",
      "from OM_LotTrans\n",
      "where CAST(Crtd_DateTime as DATE) < @from\n",
      "\n"
     ]
    }
   ],
   "source": [
    "print(sql)"
   ]
  },
  {
   "cell_type": "code",
   "execution_count": 93,
   "metadata": {},
   "outputs": [],
   "source": [
    "df = get_ms_df(sql)"
   ]
  },
  {
   "cell_type": "code",
   "execution_count": 94,
   "metadata": {},
   "outputs": [],
   "source": [
    "df['inserted_at'] = datetime.now()"
   ]
  },
  {
   "cell_type": "code",
   "execution_count": 95,
   "metadata": {},
   "outputs": [
    {
     "data": {
      "text/plain": [
       "(479244, 11)"
      ]
     },
     "execution_count": 95,
     "metadata": {},
     "output_type": "execute_result"
    }
   ],
   "source": [
    "df.shape"
   ]
  },
  {
   "cell_type": "code",
   "execution_count": 96,
   "metadata": {},
   "outputs": [
    {
     "name": "stdout",
     "output_type": "stream",
     "text": [
      "sync_dms_lt OM_LotTrans 20220101\n"
     ]
    }
   ],
   "source": [
    "print(table_name, from_tb, datenow_mns45)"
   ]
  },
  {
   "cell_type": "code",
   "execution_count": 97,
   "metadata": {},
   "outputs": [
    {
     "name": "stderr",
     "output_type": "stream",
     "text": [
      "1it [00:45, 45.37s/it]\n"
     ]
    }
   ],
   "source": [
    "bq_values_insert(df, f\"{table_name}\", 2)"
   ]
  },
  {
   "cell_type": "code",
   "execution_count": null,
   "metadata": {},
   "outputs": [],
   "source": []
  }
 ],
 "metadata": {
  "kernelspec": {
   "display_name": "Python 3.9.6 ('venv': venv)",
   "language": "python",
   "name": "python3"
  },
  "language_info": {
   "codemirror_mode": {
    "name": "ipython",
    "version": 3
   },
   "file_extension": ".py",
   "mimetype": "text/x-python",
   "name": "python",
   "nbconvert_exporter": "python",
   "pygments_lexer": "ipython3",
   "version": "3.9.6"
  },
  "orig_nbformat": 4,
  "vscode": {
   "interpreter": {
    "hash": "dff776f8cf9899793f9a0f4d147d4ee0e914dc3f9ff7764d86dd5f5383f5f250"
   }
  }
 },
 "nbformat": 4,
 "nbformat_minor": 2
}
