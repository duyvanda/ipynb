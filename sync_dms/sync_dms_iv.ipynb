{
 "cells": [
  {
   "cell_type": "code",
   "execution_count": 1,
   "metadata": {},
   "outputs": [
    {
     "name": "stdout",
     "output_type": "stream",
     "text": [
      "Default bq project:  spatial-vision-343005.biteam\n"
     ]
    }
   ],
   "source": [
    "from utils.df_handle import *"
   ]
  },
  {
   "cell_type": "code",
   "execution_count": null,
   "metadata": {},
   "outputs": [],
   "source": [
    "# from utils.df_handle import *\n",
    "import pendulum\n",
    "from airflow import DAG\n",
    "from airflow.operators.dummy_operator import DummyOperator\n",
    "from airflow.operators.python_operator import PythonOperator\n",
    "\n",
    "local_tz = pendulum.timezone(\"Asia/Bangkok\")\n",
    "\n",
    "name='IV'\n",
    "prefix='SYNC_'\n",
    "csv_path = '/usr/local/airflow/plugins'+'/'\n",
    "\n",
    "dag_params = {\n",
    "    'owner': 'airflow',\n",
    "    \"depends_on_past\": False,\n",
    "    'start_date': datetime(2022, 5, 10, tzinfo=local_tz),\n",
    "    'email_on_failure': True,\n",
    "    'email_on_retry': False,\n",
    "    'email':['duyvq@merapgroup.com', 'vanquangduy10@gmail.com'],\n",
    "    'do_xcom_push': False,\n",
    "    'execution_timeout':timedelta(seconds=300)\n",
    "    # 'retries': 3,\n",
    "    # 'retry_delay': timedelta(minutes=10),\n",
    "}\n",
    "\n",
    "dag = DAG(prefix+name,\n",
    "          catchup=False,\n",
    "          default_args=dag_params,\n",
    "          schedule_interval= '*/30 8-17,23-23 * * *',\n",
    "          tags=[prefix+name, 'Sync', '30mins']\n",
    ")"
   ]
  },
  {
   "cell_type": "code",
   "execution_count": 2,
   "metadata": {},
   "outputs": [],
   "source": [
    "start_date = '2022-01-01'\n",
    "datenow = datetime.now().strftime(\"%Y-%m-%d\")\n",
    "datenow_mns1 = (datetime.now() - timedelta(days=1)).strftime(\"%Y-%m-%d\")\n",
    "fdom = datetime.now().replace(day=1).strftime(\"%Y%m%d\")\n",
    "datenow_mns45 = (datetime.now() - timedelta(days=45)).strftime(\"%Y-%m-%d\")"
   ]
  },
  {
   "cell_type": "code",
   "execution_count": 3,
   "metadata": {},
   "outputs": [],
   "source": [
    "from_tb = \"OM_Invoice\""
   ]
  },
  {
   "cell_type": "code",
   "execution_count": 15,
   "metadata": {},
   "outputs": [],
   "source": [
    "table_name = \"sync_dms_iv\""
   ]
  },
  {
   "cell_type": "code",
   "execution_count": 21,
   "metadata": {},
   "outputs": [],
   "source": [
    "usql = \\\n",
    "f\"\"\"\n",
    "DECLARE @from DATE = '{datenow}'\n",
    "DECLARE @to DATE = '2022-01-31'\n",
    "SELECT\n",
    "CONCAT(BranchID,RefNbr) as pk,\n",
    "BranchID,\n",
    "RefNbr,\n",
    "InvcNbr,\n",
    "InvcNote,\n",
    "Crtd_DateTime,\n",
    "LUpd_User,\n",
    "LUpd_DateTime\n",
    "from {from_tb}\n",
    "where LUpd_DateTime >= @from\n",
    "\"\"\""
   ]
  },
  {
   "cell_type": "code",
   "execution_count": 24,
   "metadata": {},
   "outputs": [
    {
     "name": "stdout",
     "output_type": "stream",
     "text": [
      "del_sql  \n",
      "DELETE FROM biteam.sync_dms_iv\n",
      "WHERE\n",
      "DATE(crtd_datetime) in ('2022-05-15', '1900-01-01')\n",
      "AND pk in ('MR0013EP0000701', 'MR0013EP0000702', 'MR0013EP0000703', 'MR0012IN0016218', 'MR0012IN0016219', 'MR0012IN0016220', 'MR0012IN0016221', 'MR0001IN0098508', 'MR0001IN0098509', 'MR0001IN0098510', 'MR0001IN0098523', 'MR0001IN0098544', 'MR0001IN0098545', 'MR0001IN0098548', 'MR0001IN0098551', 'MR0014IN0021451', 'MR0014IN0021452', 'MR0014IN0021453', 'MR0014IN0021454', 'MR0014IN0021455', 'MR0014IN0021456', 'MR0014IN0021457', 'MR0014IN0021458', 'MR0014IN0021459', 'MR0014IN0021460', 'MR0014IN0021461', 'MR0010IN0084081', 'MR0010IN0084082', 'MR0010IN0084083', 'MR0010IN0084084', 'MR0010IN0084085', 'MR0010IN0084086', 'MR0010IN0084087', 'MR0010IN0084088', 'MR0010IN0084089', 'MR0010IN0084090', 'MR0016IN0041395', 'MR0015IN0043545', 'MR0015IN0043546', 'MR0015IN0043547', 'MR0015IN0043548', 'MR0015IN0043549', 'MR0015IN0043550', 'MR0015IN0043551', 'MR0015IN0043552', '')\n",
      "\n"
     ]
    },
    {
     "name": "stderr",
     "output_type": "stream",
     "text": [
      "1it [00:02,  2.55s/it]\n"
     ]
    }
   ],
   "source": [
    "def update():\n",
    "    try:\n",
    "        #UPDATE\n",
    "        df_update = get_ms_df(usql)\n",
    "        assert df_update.shape[0] >0,\"NO DATA TO INPUT\"\n",
    "        df_update.columns = lower_col(df_update)\n",
    "        # df_update.columns\n",
    "        df_update['crtd_datetime'] = df_update.crtd_datetime.dt.normalize()\n",
    "        df_update1 = df_update['crtd_datetime']\n",
    "        df_update1.drop_duplicates(inplace=True)\n",
    "        tpl_dt = tuple(df_update1.dt.strftime('%Y-%m-%d').to_list()) + ('1900-01-01',)\n",
    "        # tpl_dt\n",
    "        df_update1 = df_update['pk']\n",
    "        df_update1.drop_duplicates(inplace=True)\n",
    "        tpl_pk = tuple(df_update1.to_list()) + ('',)\n",
    "        del_sql = \\\n",
    "        f\"\"\"\n",
    "        DELETE FROM biteam.{table_name}\n",
    "        WHERE\n",
    "        DATE(crtd_datetime) in {tpl_dt}\n",
    "        AND pk in {tpl_pk}\n",
    "        \"\"\"\n",
    "        print(\"del_sql \",del_sql)\n",
    "        execute_bq_query(del_sql)\n",
    "        df_update['inserted_at'] = datetime.now()\n",
    "        bq_values_insert(df_update, f\"{table_name}\", 2)\n",
    "    except AssertionError:\n",
    "        print(\"NO DATA TO INPUT\")"
   ]
  },
  {
   "cell_type": "code",
   "execution_count": null,
   "metadata": {},
   "outputs": [],
   "source": [
    "# dummy_start = DummyOperator(task_id=\"dummy_start\", dag=dag)\n",
    "\n",
    "# update = PythonOperator(task_id=\"update\", python_callable=update, dag=dag)\n",
    "\n",
    "# dummy_start >> update"
   ]
  }
 ],
 "metadata": {
  "interpreter": {
   "hash": "dff776f8cf9899793f9a0f4d147d4ee0e914dc3f9ff7764d86dd5f5383f5f250"
  },
  "kernelspec": {
   "display_name": "Python 3.9.6 ('venv': venv)",
   "language": "python",
   "name": "python3"
  },
  "language_info": {
   "codemirror_mode": {
    "name": "ipython",
    "version": 3
   },
   "file_extension": ".py",
   "mimetype": "text/x-python",
   "name": "python",
   "nbconvert_exporter": "python",
   "pygments_lexer": "ipython3",
   "version": "3.9.6"
  },
  "orig_nbformat": 4
 },
 "nbformat": 4,
 "nbformat_minor": 2
}
