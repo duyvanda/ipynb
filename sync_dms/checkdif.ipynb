{
 "cells": [
  {
   "cell_type": "code",
   "execution_count": 1,
   "metadata": {},
   "outputs": [
    {
     "name": "stdout",
     "output_type": "stream",
     "text": [
      "Default bq project:  spatial-vision-343005.biteam\n"
     ]
    }
   ],
   "source": [
    "from utils.df_handle import *"
   ]
  },
  {
   "cell_type": "code",
   "execution_count": 2,
   "metadata": {},
   "outputs": [],
   "source": [
    "df1 = get_ms_df(\"\"\"select CONCAT(BranchID,OrderNbr,LineRef) as pk FROM OM_PDASalesOrdDet  where CAST(Crtd_DateTime as DATE) >= '2022-01-01' and  CAST(Crtd_DateTime as DATE) <= '2022-06-01'\"\"\")"
   ]
  },
  {
   "cell_type": "code",
   "execution_count": 3,
   "metadata": {},
   "outputs": [],
   "source": [
    "df2 = get_bq_df(\"\"\"select pk from `biteam.sync_dms_pda_sod` where date(crtd_datetime) >= '2022-01-01'and date(crtd_datetime) <= '2022-06-01'\"\"\")"
   ]
  },
  {
   "cell_type": "code",
   "execution_count": 5,
   "metadata": {},
   "outputs": [
    {
     "data": {
      "text/html": [
       "<div>\n",
       "<style scoped>\n",
       "    .dataframe tbody tr th:only-of-type {\n",
       "        vertical-align: middle;\n",
       "    }\n",
       "\n",
       "    .dataframe tbody tr th {\n",
       "        vertical-align: top;\n",
       "    }\n",
       "\n",
       "    .dataframe thead th {\n",
       "        text-align: right;\n",
       "    }\n",
       "</style>\n",
       "<table border=\"1\" class=\"dataframe\">\n",
       "  <thead>\n",
       "    <tr style=\"text-align: right;\">\n",
       "      <th></th>\n",
       "      <th>pk</th>\n",
       "    </tr>\n",
       "  </thead>\n",
       "  <tbody>\n",
       "    <tr>\n",
       "      <th>343419</th>\n",
       "      <td>MR0015DH5-0222-0033100001</td>\n",
       "    </tr>\n",
       "    <tr>\n",
       "      <th>562632</th>\n",
       "      <td>MR0015DH5-0422-0180500006</td>\n",
       "    </tr>\n",
       "    <tr>\n",
       "      <th>563077</th>\n",
       "      <td>MR0015DH5-0422-0180500004</td>\n",
       "    </tr>\n",
       "    <tr>\n",
       "      <th>563313</th>\n",
       "      <td>MR0015DH5-0422-0180500001</td>\n",
       "    </tr>\n",
       "    <tr>\n",
       "      <th>563483</th>\n",
       "      <td>MR0015DH5-0422-0180500005</td>\n",
       "    </tr>\n",
       "    <tr>\n",
       "      <th>563492</th>\n",
       "      <td>MR0015DH5-0422-0180500007</td>\n",
       "    </tr>\n",
       "    <tr>\n",
       "      <th>564145</th>\n",
       "      <td>MR0015DH5-0422-0180500003</td>\n",
       "    </tr>\n",
       "    <tr>\n",
       "      <th>564533</th>\n",
       "      <td>MR0015DH5-0422-0180500002</td>\n",
       "    </tr>\n",
       "  </tbody>\n",
       "</table>\n",
       "</div>"
      ],
      "text/plain": [
       "                               pk\n",
       "343419  MR0015DH5-0222-0033100001\n",
       "562632  MR0015DH5-0422-0180500006\n",
       "563077  MR0015DH5-0422-0180500004\n",
       "563313  MR0015DH5-0422-0180500001\n",
       "563483  MR0015DH5-0422-0180500005\n",
       "563492  MR0015DH5-0422-0180500007\n",
       "564145  MR0015DH5-0422-0180500003\n",
       "564533  MR0015DH5-0422-0180500002"
      ]
     },
     "execution_count": 5,
     "metadata": {},
     "output_type": "execute_result"
    }
   ],
   "source": [
    "dfs_diff(df1,df2)"
   ]
  },
  {
   "cell_type": "code",
   "execution_count": null,
   "metadata": {},
   "outputs": [],
   "source": []
  }
 ],
 "metadata": {
  "kernelspec": {
   "display_name": "Python 3.9.6 ('venv': venv)",
   "language": "python",
   "name": "python3"
  },
  "language_info": {
   "codemirror_mode": {
    "name": "ipython",
    "version": 3
   },
   "file_extension": ".py",
   "mimetype": "text/x-python",
   "name": "python",
   "nbconvert_exporter": "python",
   "pygments_lexer": "ipython3",
   "version": "3.9.6"
  },
  "orig_nbformat": 4,
  "vscode": {
   "interpreter": {
    "hash": "dff776f8cf9899793f9a0f4d147d4ee0e914dc3f9ff7764d86dd5f5383f5f250"
   }
  }
 },
 "nbformat": 4,
 "nbformat_minor": 2
}
