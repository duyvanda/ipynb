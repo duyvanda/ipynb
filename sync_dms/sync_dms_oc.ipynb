{
 "cells": [
  {
   "cell_type": "code",
   "execution_count": 1,
   "metadata": {},
   "outputs": [
    {
     "name": "stdout",
     "output_type": "stream",
     "text": [
      "Default bq project:  spatial-vision-343005.biteam\n"
     ]
    }
   ],
   "source": [
    "from utils.df_handle import *"
   ]
  },
  {
   "cell_type": "code",
   "execution_count": null,
   "metadata": {},
   "outputs": [],
   "source": [
    "# from utils.df_handle import *\n",
    "import pendulum\n",
    "from airflow import DAG\n",
    "from airflow.operators.dummy_operator import DummyOperator\n",
    "from airflow.operators.python_operator import PythonOperator\n",
    "\n",
    "local_tz = pendulum.timezone(\"Asia/Bangkok\")\n",
    "\n",
    "name='OC'\n",
    "prefix='SYNC_'\n",
    "csv_path = '/usr/local/airflow/plugins'+'/'\n",
    "\n",
    "dag_params = {\n",
    "    'owner': 'airflow',\n",
    "    \"depends_on_past\": False,\n",
    "    'start_date': datetime(2022, 5, 10, tzinfo=local_tz),\n",
    "    'email_on_failure': True,\n",
    "    'email_on_retry': False,\n",
    "    'email':['duyvq@merapgroup.com', 'vanquangduy10@gmail.com'],\n",
    "    'do_xcom_push': False,\n",
    "    'execution_timeout':timedelta(seconds=300)\n",
    "    # 'retries': 3,\n",
    "    # 'retry_delay': timedelta(minutes=10),\n",
    "}\n",
    "\n",
    "dag = DAG(prefix+name,\n",
    "          catchup=False,\n",
    "          default_args=dag_params,\n",
    "          schedule_interval= '0 1 * * *',\n",
    "          tags=[prefix+name, 'Sync', '30mins']\n",
    ")"
   ]
  },
  {
   "cell_type": "code",
   "execution_count": 4,
   "metadata": {},
   "outputs": [],
   "source": [
    "start_date = '2022-01-01'\n",
    "datenow = datetime.now().strftime(\"%Y-%m-%d\")\n",
    "datenow_mns1 = (datetime.now() - timedelta(days=1)).strftime(\"%Y-%m-%d\")\n",
    "fdom = datetime.now().replace(day=1).strftime(\"%Y-%m-%d\")\n",
    "datenow_mns45 = (datetime.now() - timedelta(days=45)).strftime(\"%Y-%m-%d\")"
   ]
  },
  {
   "cell_type": "code",
   "execution_count": 5,
   "metadata": {},
   "outputs": [],
   "source": [
    "from_tb = \"PPC_OutsideChecking\""
   ]
  },
  {
   "cell_type": "code",
   "execution_count": 6,
   "metadata": {},
   "outputs": [],
   "source": [
    "table_name = \"sync_dms_oc\"\n",
    "table_temp = \"sync_dms_oc_temp\""
   ]
  },
  {
   "cell_type": "code",
   "execution_count": 9,
   "metadata": {},
   "outputs": [],
   "source": [
    "sql = \\\n",
    "f\"\"\"\n",
    "DECLARE @from DATE = '{start_date}'\n",
    "DECLARE @cc VARCHAR(100)= (SELECT TextVal FROM vs_SYS_Configurations WHERE Code='ImagePublic')\n",
    "DECLARE @to DATE = '2022-01-31'\n",
    "select\n",
    "SlsperID,\n",
    "CustID,\n",
    "VisitDate,\n",
    "NoteID,\n",
    "BranchID,\n",
    "oc.Note,\n",
    "rs.Descr,\n",
    "SalesID,\n",
    "Distance,\n",
    "CheckInType = CASE WHEN oc.NoteID = 2 THEN N'Giao Hàng' WHEN oc.NoteID = 1 THEN N'Thu Nợ' ELSE N'Bán Hàng' end,\n",
    "ImageFileName = CASE WHEN oc.ImageFileName ='' THEN '' ELSE @cc+oc.ImageFileName END\n",
    "from PPC_OutsideChecking oc\n",
    "LEFT JOIN dbo.OM_ReasonCodePPC rs WITH (NOLOCK) ON oc.ReasonCode=rs.Code AND rs.Type IN ('DELIDISTANCE','DS','REDEBTDISTANCE')\n",
    "where oc.VisitDate >= @from\n",
    "\"\"\""
   ]
  },
  {
   "cell_type": "code",
   "execution_count": 10,
   "metadata": {},
   "outputs": [
    {
     "name": "stdout",
     "output_type": "stream",
     "text": [
      "\n",
      "DECLARE @from DATE = '2022-01-01'\n",
      "DECLARE @cc VARCHAR(100)= (SELECT TextVal FROM vs_SYS_Configurations WHERE Code='ImagePublic')\n",
      "DECLARE @to DATE = '2022-01-31'\n",
      "select\n",
      "SlsperID,\n",
      "CustID,\n",
      "VisitDate,\n",
      "NoteID,\n",
      "BranchID,\n",
      "oc.Note,\n",
      "rs.Descr,\n",
      "SalesID,\n",
      "Distance,\n",
      "CheckInType = CASE WHEN oc.NoteID = 2 THEN N'Giao Hàng' WHEN oc.NoteID = 1 THEN N'Thu Nợ' ELSE N'Bán Hàng' end,\n",
      "ImageFileName = CASE WHEN oc.ImageFileName ='' THEN '' ELSE @cc+oc.ImageFileName END\n",
      "from PPC_OutsideChecking oc\n",
      "LEFT JOIN dbo.OM_ReasonCodePPC rs WITH (NOLOCK) ON oc.ReasonCode=rs.Code AND rs.Type IN ('DELIDISTANCE','DS','REDEBTDISTANCE')\n",
      "where oc.VisitDate >= @from\n",
      "\n"
     ]
    }
   ],
   "source": [
    "print(sql)"
   ]
  },
  {
   "cell_type": "code",
   "execution_count": 11,
   "metadata": {},
   "outputs": [
    {
     "name": "stderr",
     "output_type": "stream",
     "text": [
      "1it [00:17, 17.86s/it]\n"
     ]
    }
   ],
   "source": [
    "df = get_ms_df(sql)\n",
    "df['inserted_at'] = datetime.now()\n",
    "bq_values_insert(df, f\"{table_temp}\", 3)\n",
    "sql = \\\n",
    "f\"\"\"\n",
    "DROP TABLE IF EXISTS biteam.{table_name};\n",
    "CREATE TABLE biteam.{table_name} LIKE biteam.{table_temp}\n",
    "PARTITION BY DATE(visitdate)\n",
    "CLUSTER BY branchid,salesid,custid,slsperid\n",
    "\"\"\"\n",
    "execute_bq_query(sql)"
   ]
  },
  {
   "cell_type": "code",
   "execution_count": 4,
   "metadata": {},
   "outputs": [],
   "source": [
    "dsql = \\\n",
    "f\"\"\"\n",
    "delete from biteam.{table_name} where date(visitdate) >= '{datenow_mns45}'\n",
    "\"\"\"\n",
    "print(\"delete_sql: \", dsql)\n",
    "execute_bq_query(dsql)"
   ]
  },
  {
   "cell_type": "code",
   "execution_count": 12,
   "metadata": {},
   "outputs": [
    {
     "name": "stderr",
     "output_type": "stream",
     "text": [
      "1it [00:28, 28.36s/it]\n"
     ]
    }
   ],
   "source": [
    "# df = get_ms_df(sql)\n",
    "bq_values_insert(df, f\"{table_name}\", 2)"
   ]
  },
  {
   "cell_type": "code",
   "execution_count": null,
   "metadata": {},
   "outputs": [],
   "source": [
    "# dummy_start = DummyOperator(task_id=\"dummy_start\", dag=dag)\n",
    "\n",
    "# insert = PythonOperator(task_id=\"insert\", python_callable=insert, dag=dag)\n",
    "\n",
    "# update = PythonOperator(task_id=\"update\", python_callable=update, dag=dag)\n",
    "\n",
    "# dummy_start >> insert >> update"
   ]
  },
  {
   "cell_type": "code",
   "execution_count": 8,
   "metadata": {},
   "outputs": [],
   "source": [
    "sql = \\\n",
    "\"\"\"\n",
    "DECLARE @from DATE = '2022-03-01'\n",
    "DECLARE @cc VARCHAR(100)= (SELECT TextVal FROM vs_SYS_Configurations WHERE Code='ImagePublic')\n",
    "DECLARE @to DATE = '2022-05-31'\n",
    "select\n",
    "SlsperID,\n",
    "CustID,\n",
    "VisitDate,\n",
    "NoteID,\n",
    "BranchID,\n",
    "oc.Note,\n",
    "rs.Descr,\n",
    "SalesID,\n",
    "Distance,\n",
    "CheckInType = CASE WHEN oc.NoteID = 2 THEN N'Giao Hàng' WHEN oc.NoteID = 1 THEN N'Thu Nợ' ELSE N'Bán Hàng' end,\n",
    "ImageFileName = CASE WHEN oc.ImageFileName ='' THEN '' ELSE @cc+oc.ImageFileName END\n",
    "from PPC_OutsideChecking oc\n",
    "LEFT JOIN dbo.OM_ReasonCodePPC rs WITH (NOLOCK) ON oc.ReasonCode=rs.Code AND rs.Type IN ('DELIDISTANCE','DS','REDEBTDISTANCE')\n",
    "where cast(oc.VisitDate as DATE) >= @from and cast(oc.VisitDate as DATE) <= @to\n",
    "\"\"\""
   ]
  },
  {
   "cell_type": "code",
   "execution_count": 9,
   "metadata": {},
   "outputs": [],
   "source": [
    "df = get_ms_df(sql)"
   ]
  },
  {
   "cell_type": "code",
   "execution_count": 10,
   "metadata": {},
   "outputs": [
    {
     "data": {
      "text/plain": [
       "(167864, 11)"
      ]
     },
     "execution_count": 10,
     "metadata": {},
     "output_type": "execute_result"
    }
   ],
   "source": [
    "df.shape"
   ]
  },
  {
   "cell_type": "code",
   "execution_count": 13,
   "metadata": {},
   "outputs": [],
   "source": [
    "table_name = \"sync_dms_oc\""
   ]
  },
  {
   "cell_type": "code",
   "execution_count": 14,
   "metadata": {},
   "outputs": [
    {
     "name": "stderr",
     "output_type": "stream",
     "text": [
      "1it [00:15, 15.49s/it]\n"
     ]
    }
   ],
   "source": [
    "bq_values_insert(df, f\"{table_name}\", 2)"
   ]
  },
  {
   "cell_type": "code",
   "execution_count": 11,
   "metadata": {},
   "outputs": [],
   "source": [
    "df['inserted_at'] = datetime(2022,5,31)"
   ]
  },
  {
   "cell_type": "code",
   "execution_count": 12,
   "metadata": {},
   "outputs": [
    {
     "data": {
      "text/html": [
       "<div>\n",
       "<style scoped>\n",
       "    .dataframe tbody tr th:only-of-type {\n",
       "        vertical-align: middle;\n",
       "    }\n",
       "\n",
       "    .dataframe tbody tr th {\n",
       "        vertical-align: top;\n",
       "    }\n",
       "\n",
       "    .dataframe thead th {\n",
       "        text-align: right;\n",
       "    }\n",
       "</style>\n",
       "<table border=\"1\" class=\"dataframe\">\n",
       "  <thead>\n",
       "    <tr style=\"text-align: right;\">\n",
       "      <th></th>\n",
       "      <th>SlsperID</th>\n",
       "      <th>CustID</th>\n",
       "      <th>VisitDate</th>\n",
       "      <th>NoteID</th>\n",
       "      <th>BranchID</th>\n",
       "      <th>Note</th>\n",
       "      <th>Descr</th>\n",
       "      <th>SalesID</th>\n",
       "      <th>Distance</th>\n",
       "      <th>CheckInType</th>\n",
       "      <th>ImageFileName</th>\n",
       "      <th>inserted_at</th>\n",
       "    </tr>\n",
       "  </thead>\n",
       "  <tbody>\n",
       "    <tr>\n",
       "      <th>0</th>\n",
       "      <td>MR0025</td>\n",
       "      <td>000006</td>\n",
       "      <td>2022-03-19 07:59:10</td>\n",
       "      <td>2</td>\n",
       "      <td>MR0001</td>\n",
       "      <td></td>\n",
       "      <td>KHÁC (Nhập rõ lý do)</td>\n",
       "      <td>36ca4740-b0d1-4b97-907b-37460a73afb9</td>\n",
       "      <td>0</td>\n",
       "      <td>Giao Hàng</td>\n",
       "      <td></td>\n",
       "      <td>2022-05-31</td>\n",
       "    </tr>\n",
       "    <tr>\n",
       "      <th>1</th>\n",
       "      <td>MR0025</td>\n",
       "      <td>000317</td>\n",
       "      <td>2022-03-08 09:54:26</td>\n",
       "      <td>2</td>\n",
       "      <td>MR0001</td>\n",
       "      <td></td>\n",
       "      <td>KHÁC (Nhập rõ lý do)</td>\n",
       "      <td>86294e9e-82ff-46e5-835b-0843a4827db4</td>\n",
       "      <td>4266</td>\n",
       "      <td>Giao Hàng</td>\n",
       "      <td></td>\n",
       "      <td>2022-05-31</td>\n",
       "    </tr>\n",
       "    <tr>\n",
       "      <th>2</th>\n",
       "      <td>MR0025</td>\n",
       "      <td>000317</td>\n",
       "      <td>2022-04-08 15:43:17</td>\n",
       "      <td>2</td>\n",
       "      <td>MR0001</td>\n",
       "      <td></td>\n",
       "      <td>KHÁC (Nhập rõ lý do)</td>\n",
       "      <td>d6b4bc6d-a76f-4790-b843-197ec1a7878a</td>\n",
       "      <td>3371</td>\n",
       "      <td>Giao Hàng</td>\n",
       "      <td>https://dms.phanam.com.vn/IMG/MR0001/MR0025/20...</td>\n",
       "      <td>2022-05-31</td>\n",
       "    </tr>\n",
       "    <tr>\n",
       "      <th>3</th>\n",
       "      <td>MR0025</td>\n",
       "      <td>000318</td>\n",
       "      <td>2022-03-08 09:52:49</td>\n",
       "      <td>2</td>\n",
       "      <td>MR0001</td>\n",
       "      <td></td>\n",
       "      <td>KHÁC (Nhập rõ lý do)</td>\n",
       "      <td>f317de23-b3da-4fee-9482-841b3de39e37</td>\n",
       "      <td>0</td>\n",
       "      <td>Giao Hàng</td>\n",
       "      <td></td>\n",
       "      <td>2022-05-31</td>\n",
       "    </tr>\n",
       "    <tr>\n",
       "      <th>4</th>\n",
       "      <td>MR0025</td>\n",
       "      <td>000318</td>\n",
       "      <td>2022-03-08 09:53:42</td>\n",
       "      <td>2</td>\n",
       "      <td>MR0001</td>\n",
       "      <td></td>\n",
       "      <td>KHÁC (Nhập rõ lý do)</td>\n",
       "      <td>36c835b6-8aca-4d84-a465-52f866950c5f</td>\n",
       "      <td>0</td>\n",
       "      <td>Giao Hàng</td>\n",
       "      <td></td>\n",
       "      <td>2022-05-31</td>\n",
       "    </tr>\n",
       "  </tbody>\n",
       "</table>\n",
       "</div>"
      ],
      "text/plain": [
       "  SlsperID  CustID           VisitDate  NoteID BranchID Note  \\\n",
       "0   MR0025  000006 2022-03-19 07:59:10       2   MR0001        \n",
       "1   MR0025  000317 2022-03-08 09:54:26       2   MR0001        \n",
       "2   MR0025  000317 2022-04-08 15:43:17       2   MR0001        \n",
       "3   MR0025  000318 2022-03-08 09:52:49       2   MR0001        \n",
       "4   MR0025  000318 2022-03-08 09:53:42       2   MR0001        \n",
       "\n",
       "                  Descr                               SalesID  Distance  \\\n",
       "0  KHÁC (Nhập rõ lý do)  36ca4740-b0d1-4b97-907b-37460a73afb9         0   \n",
       "1  KHÁC (Nhập rõ lý do)  86294e9e-82ff-46e5-835b-0843a4827db4      4266   \n",
       "2  KHÁC (Nhập rõ lý do)  d6b4bc6d-a76f-4790-b843-197ec1a7878a      3371   \n",
       "3  KHÁC (Nhập rõ lý do)  f317de23-b3da-4fee-9482-841b3de39e37         0   \n",
       "4  KHÁC (Nhập rõ lý do)  36c835b6-8aca-4d84-a465-52f866950c5f         0   \n",
       "\n",
       "  CheckInType                                      ImageFileName inserted_at  \n",
       "0   Giao Hàng                                                     2022-05-31  \n",
       "1   Giao Hàng                                                     2022-05-31  \n",
       "2   Giao Hàng  https://dms.phanam.com.vn/IMG/MR0001/MR0025/20...  2022-05-31  \n",
       "3   Giao Hàng                                                     2022-05-31  \n",
       "4   Giao Hàng                                                     2022-05-31  "
      ]
     },
     "execution_count": 12,
     "metadata": {},
     "output_type": "execute_result"
    }
   ],
   "source": [
    "df.head()"
   ]
  },
  {
   "cell_type": "code",
   "execution_count": null,
   "metadata": {},
   "outputs": [],
   "source": []
  }
 ],
 "metadata": {
  "interpreter": {
   "hash": "dff776f8cf9899793f9a0f4d147d4ee0e914dc3f9ff7764d86dd5f5383f5f250"
  },
  "kernelspec": {
   "display_name": "Python 3.9.6 ('venv': venv)",
   "language": "python",
   "name": "python3"
  },
  "language_info": {
   "codemirror_mode": {
    "name": "ipython",
    "version": 3
   },
   "file_extension": ".py",
   "mimetype": "text/x-python",
   "name": "python",
   "nbconvert_exporter": "python",
   "pygments_lexer": "ipython3",
   "version": "3.9.6"
  },
  "orig_nbformat": 4
 },
 "nbformat": 4,
 "nbformat_minor": 2
}
