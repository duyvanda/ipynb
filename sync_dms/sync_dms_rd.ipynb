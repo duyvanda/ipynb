{
 "cells": [
  {
   "cell_type": "code",
   "execution_count": 1,
   "metadata": {},
   "outputs": [
    {
     "name": "stdout",
     "output_type": "stream",
     "text": [
      "Default bq project:  spatial-vision-343005.biteam\n"
     ]
    }
   ],
   "source": [
    "from utils.df_handle import *"
   ]
  },
  {
   "cell_type": "code",
   "execution_count": null,
   "metadata": {},
   "outputs": [],
   "source": [
    "# from utils.df_handle import *\n",
    "import pendulum\n",
    "from airflow import DAG\n",
    "from airflow.operators.dummy_operator import DummyOperator\n",
    "from airflow.operators.python_operator import PythonOperator\n",
    "\n",
    "local_tz = pendulum.timezone(\"Asia/Bangkok\")\n",
    "\n",
    "name='RD'\n",
    "prefix='SYNC_'\n",
    "csv_path = '/usr/local/airflow/plugins'+'/'\n",
    "\n",
    "dag_params = {\n",
    "    'owner': 'airflow',\n",
    "    \"depends_on_past\": False,\n",
    "    'start_date': datetime(2022, 5, 10, tzinfo=local_tz),\n",
    "    'email_on_failure': True,\n",
    "    'email_on_retry': False,\n",
    "    'email':['duyvq@merapgroup.com', 'vanquangduy10@gmail.com'],\n",
    "    'do_xcom_push': False,\n",
    "    'execution_timeout':timedelta(seconds=300)\n",
    "    # 'retries': 3,\n",
    "    # 'retry_delay': timedelta(minutes=10),\n",
    "}\n",
    "\n",
    "dag = DAG(prefix+name,\n",
    "          catchup=False,\n",
    "          default_args=dag_params,\n",
    "          schedule_interval= '*/30 8-17,23-23 * * *',\n",
    "          tags=[prefix+name, 'Sync', '30mins']\n",
    ")"
   ]
  },
  {
   "cell_type": "code",
   "execution_count": 2,
   "metadata": {},
   "outputs": [],
   "source": [
    "start_date = '2022-01-01'\n",
    "datenow = datetime.now().strftime(\"%Y-%m-%d\")\n",
    "datenow_mns1 = (datetime.now() - timedelta(days=1)).strftime(\"%Y-%m-%d\")\n",
    "fdom = datetime.now().replace(day=1).strftime(\"%Y-%m-%d\")"
   ]
  },
  {
   "cell_type": "code",
   "execution_count": 3,
   "metadata": {},
   "outputs": [],
   "source": [
    "from_tb1 = \"OM_Receipt\"\n",
    "from_tb2 = \"OM_ReceiptDet\""
   ]
  },
  {
   "cell_type": "code",
   "execution_count": 7,
   "metadata": {},
   "outputs": [],
   "source": [
    "table_name = \"sync_dms_rd\"\n",
    "table_temp = \"sync_dms_rd_temp\""
   ]
  },
  {
   "cell_type": "code",
   "execution_count": 6,
   "metadata": {},
   "outputs": [],
   "source": [
    "sql = \\\n",
    "f\"\"\"\n",
    "select\n",
    "r.BranchID,\n",
    "rd.OrderNbr,\n",
    "r.ReportID,\n",
    "r.CustID,\n",
    "r.Status,\n",
    "r.Comment,\n",
    "r.IssueDate,\n",
    "r.Crtd_DateTime,\n",
    "r.Crtd_Prog,\n",
    "r.Crtd_User,\n",
    "r.Lupd_DateTime,\n",
    "r.Lupd_User,\n",
    "r.DeliveryUnit,\n",
    "r.TruckID\n",
    "from {from_tb2} as rd\n",
    "INNER JOIN {from_tb1} as r ON\n",
    "r.ReportID = rd.ReportID and\n",
    "r.BranchID = rd.BranchID\n",
    "\"\"\""
   ]
  },
  {
   "cell_type": "code",
   "execution_count": 8,
   "metadata": {},
   "outputs": [
    {
     "name": "stderr",
     "output_type": "stream",
     "text": [
      "1it [00:03,  3.45s/it]\n"
     ]
    }
   ],
   "source": [
    "df = get_ms_df(sql)\n",
    "df['inserted_at'] = datetime.now()\n",
    "bq_values_insert(df, f\"{table_temp}\", 3)\n",
    "sql = \\\n",
    "f\"\"\"\n",
    "DROP TABLE IF EXISTS biteam.{table_name};\n",
    "CREATE TABLE biteam.{table_name} LIKE biteam.{table_temp}\n",
    "PARTITION BY DATE(crtd_datetime)\n",
    "CLUSTER BY branchid,ordernbr,custid\n",
    "\"\"\"\n",
    "execute_bq_query(sql)"
   ]
  },
  {
   "cell_type": "code",
   "execution_count": 9,
   "metadata": {},
   "outputs": [
    {
     "name": "stderr",
     "output_type": "stream",
     "text": [
      "1it [00:05,  5.94s/it]\n"
     ]
    }
   ],
   "source": [
    "# bq_values_insert(df, f\"{table_name}\", 2)"
   ]
  },
  {
   "cell_type": "code",
   "execution_count": null,
   "metadata": {},
   "outputs": [],
   "source": [
    "def update():\n",
    "    df = get_ms_df(sql)\n",
    "    df['inserted_at'] = datetime.now()\n",
    "    try:\n",
    "        print(\"data shape\", df.shape)\n",
    "        assert df.shape[0] >0\n",
    "    except AssertionError:\n",
    "        print(\"No customer changed\")\n",
    "    else:\n",
    "        bqsql = \\\n",
    "        f\"\"\"truncate table biteam.{table_name}\"\"\"\n",
    "        execute_bq_query(bqsql)\n",
    "        bq_values_insert(df, f\"{table_name}\", 2)"
   ]
  },
  {
   "cell_type": "code",
   "execution_count": null,
   "metadata": {},
   "outputs": [],
   "source": [
    "# dummy_start = DummyOperator(task_id=\"dummy_start\", dag=dag)\n",
    "\n",
    "# insert = PythonOperator(task_id=\"insert\", python_callable=insert, dag=dag)\n",
    "\n",
    "# update = PythonOperator(task_id=\"update\", python_callable=update, dag=dag)\n",
    "\n",
    "# dummy_start >> insert >> update"
   ]
  }
 ],
 "metadata": {
  "interpreter": {
   "hash": "dff776f8cf9899793f9a0f4d147d4ee0e914dc3f9ff7764d86dd5f5383f5f250"
  },
  "kernelspec": {
   "display_name": "Python 3.9.6 ('venv': venv)",
   "language": "python",
   "name": "python3"
  },
  "language_info": {
   "codemirror_mode": {
    "name": "ipython",
    "version": 3
   },
   "file_extension": ".py",
   "mimetype": "text/x-python",
   "name": "python",
   "nbconvert_exporter": "python",
   "pygments_lexer": "ipython3",
   "version": "3.9.6"
  },
  "orig_nbformat": 4
 },
 "nbformat": 4,
 "nbformat_minor": 2
}
