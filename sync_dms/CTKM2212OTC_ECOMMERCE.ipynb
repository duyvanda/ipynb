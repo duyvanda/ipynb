{
 "cells": [
  {
   "cell_type": "code",
   "execution_count": 1,
   "metadata": {},
   "outputs": [
    {
     "name": "stdout",
     "output_type": "stream",
     "text": [
      "Default bq project:  spatial-vision-343005.biteam\n"
     ]
    }
   ],
   "source": [
    "from utils.df_handle import *"
   ]
  },
  {
   "cell_type": "code",
   "execution_count": 2,
   "metadata": {},
   "outputs": [],
   "source": [
    "sql = \\\n",
    "f\"\"\"\n",
    "select\n",
    "BranchID,\n",
    "dis.DiscAmt,\n",
    "sq.DiscID, \n",
    "sq.DiscSeq, \n",
    "--sq.Descr, \n",
    "sq.DiscIDPN,\n",
    "sq.TypeDiscount,\n",
    "sq.AccumulateID,\n",
    "OrderNbr, \n",
    "--LineRef, \n",
    "--SOLineRef, \n",
    "case when GroupRefLineRef = '' then SOLineRef else GroupRefLineRef end as GroupRefLineRef,\n",
    "cast(dis.Crtd_DateTime as date) as Crtd_DateTime,\n",
    "cast(dis.LUpd_DateTime as date) as LUpd_DateTime\n",
    "from OM_OrdDisc dis\n",
    "INNER JOIN dbo.OM_DiscSeq sq WITH (NOLOCK)\n",
    "ON sq.DiscID = dis.DiscID\n",
    "AND sq.DiscSeq = dis.DiscSeq\n",
    "where DiscIDPN = 'CTKM2212OTC-ECOMMERCE'\n",
    "\"\"\"\n",
    "df = get_ms_df(sql)\n",
    "df['inserted_at'] = datetime.now()\n",
    "bq_values_insert(df, \"sync_dms_ctkm2022otc\", 3)"
   ]
  },
  {
   "cell_type": "code",
   "execution_count": null,
   "metadata": {},
   "outputs": [],
   "source": []
  }
 ],
 "metadata": {
  "kernelspec": {
   "display_name": "Python 3.8.10 ('venv': venv)",
   "language": "python",
   "name": "python3"
  },
  "language_info": {
   "codemirror_mode": {
    "name": "ipython",
    "version": 3
   },
   "file_extension": ".py",
   "mimetype": "text/x-python",
   "name": "python",
   "nbconvert_exporter": "python",
   "pygments_lexer": "ipython3",
   "version": "3.8.10"
  },
  "orig_nbformat": 4,
  "vscode": {
   "interpreter": {
    "hash": "8fb55849e6741974ce442ee684e971e1b6b22c29ca2b25c3b9069bf531e0354a"
   }
  }
 },
 "nbformat": 4,
 "nbformat_minor": 2
}
