{
 "cells": [
  {
   "cell_type": "code",
   "execution_count": 1,
   "metadata": {},
   "outputs": [
    {
     "name": "stdout",
     "output_type": "stream",
     "text": [
      "Default bq project:  spatial-vision-343005.biteam\n"
     ]
    }
   ],
   "source": [
    "from utils.df_handle import *"
   ]
  },
  {
   "cell_type": "code",
   "execution_count": null,
   "metadata": {},
   "outputs": [],
   "source": [
    "# from utils.df_handle import *\n",
    "# import pendulum\n",
    "# from airflow import DAG\n",
    "# from airflow.operators.dummy_operator import DummyOperator\n",
    "# from airflow.operators.python_operator import PythonOperator\n",
    "\n",
    "# local_tz = pendulum.timezone(\"Asia/Bangkok\")\n",
    "\n",
    "# name='ERR'\n",
    "# prefix='SYNC_'\n",
    "# csv_path = '/usr/local/airflow/plugins'+'/'\n",
    "\n",
    "# dag_params = {\n",
    "#     'owner': 'airflow',\n",
    "#     \"depends_on_past\": False,\n",
    "#     'start_date': datetime(2022, 5, 10, tzinfo=local_tz),\n",
    "#     'email_on_failure': True,\n",
    "#     'email_on_retry': False,\n",
    "#     'email':['duyvq@merapgroup.com', 'vanquangduy10@gmail.com'],\n",
    "#     'do_xcom_push': False,\n",
    "#     'execution_timeout':timedelta(seconds=300)\n",
    "# }\n",
    "\n",
    "# dag = DAG(prefix+name,\n",
    "#           catchup=False,\n",
    "#           default_args=dag_params,\n",
    "#           schedule_interval= '*/30 8-17,23-23 * * *',\n",
    "#           tags=[prefix+name, 'Sync', '30mins']\n",
    "# )"
   ]
  },
  {
   "cell_type": "code",
   "execution_count": 2,
   "metadata": {},
   "outputs": [],
   "source": [
    "start_date = '2022-01-01'\n",
    "datenow = datetime.now().strftime(\"%Y-%m-%d\")\n",
    "datenow_mns1 = (datetime.now() - timedelta(days=1)).strftime(\"%Y-%m-%d\")\n",
    "fdom = datetime.now().replace(day=1).strftime(\"%Y%m%d\")\n",
    "datenow_mns45 = (datetime.now() - timedelta(days=45)).strftime(\"%Y-%m-%d\")"
   ]
  },
  {
   "cell_type": "code",
   "execution_count": 5,
   "metadata": {},
   "outputs": [],
   "source": [
    "from_tb = \"API_HistoryOM205\""
   ]
  },
  {
   "cell_type": "code",
   "execution_count": 4,
   "metadata": {},
   "outputs": [],
   "source": [
    "table_name = \"sync_dms_err\"\n",
    "table_temp = \"sync_dms_err_temp\""
   ]
  },
  {
   "cell_type": "code",
   "execution_count": 17,
   "metadata": {},
   "outputs": [],
   "source": [
    "usql = \\\n",
    "f\"\"\"\n",
    "DECLARE @from DATE = '{datenow}'\n",
    "DECLARE @to DATE = '2022-01-01'\n",
    "DECLARE @StringApproveOrderT1 INT = ( SELECT LEN(N'Đơn Hàng DH032021-00257 Tồn Tại Các Lỗi:</br>') + 1)\n",
    "select\n",
    "CONCAT(BranchID,OrderNbr) as pk,\n",
    "BranchID,\n",
    "OrderNbr,\n",
    "DateImport as Crtd_DateTime,\n",
    "DateUpdate as LUpd_DateTime,\n",
    "REPLACE(\n",
    "REPLACE\n",
    "(SUBSTRING(ErrorMessage, @StringApproveOrderT1, LEN(ErrorMessage)),\n",
    "N'</br>Bạn Không Thể Duyệt Đơn.',\n",
    "''),\n",
    "'</br>',\n",
    "', '\n",
    ")\n",
    "AS ErrorMessage\n",
    "from {from_tb} \n",
    "where Status = 'E'\n",
    "and DateUpdate >= @from\n",
    "\"\"\""
   ]
  },
  {
   "cell_type": "code",
   "execution_count": 18,
   "metadata": {},
   "outputs": [
    {
     "name": "stdout",
     "output_type": "stream",
     "text": [
      "\n",
      "DECLARE @from DATE = '2022-05-15'\n",
      "DECLARE @to DATE = '2022-01-01'\n",
      "DECLARE @StringApproveOrderT1 INT = ( SELECT LEN(N'Đơn Hàng DH032021-00257 Tồn Tại Các Lỗi:</br>') + 1)\n",
      "select\n",
      "CONCAT(BranchID,OrderNbr) as pk,\n",
      "BranchID,\n",
      "OrderNbr,\n",
      "DateImport as Crtd_DateTime,\n",
      "DateUpdate as LUpd_DateTime,\n",
      "REPLACE(\n",
      "REPLACE\n",
      "(SUBSTRING(ErrorMessage, @StringApproveOrderT1, LEN(ErrorMessage)),\n",
      "N'</br>Bạn Không Thể Duyệt Đơn.',\n",
      "''),\n",
      "'</br>',\n",
      "', '\n",
      ")\n",
      "AS ErrorMessage\n",
      "from API_HistoryOM205 \n",
      "where Status = 'E'\n",
      "and DateUpdate >= @from\n",
      "\n"
     ]
    }
   ],
   "source": [
    "print(usql)"
   ]
  },
  {
   "cell_type": "code",
   "execution_count": 19,
   "metadata": {},
   "outputs": [],
   "source": [
    "def update():\n",
    "    try:\n",
    "        #UPDATE\n",
    "        df_update = get_ms_df(usql)\n",
    "        assert df_update.shape[0] >0,\"NO DATA TO INPUT\"\n",
    "        df_update.columns = lower_col(df_update)\n",
    "        # df_update.columns\n",
    "        df_update['crtd_datetime'] = df_update.crtd_datetime.dt.normalize()\n",
    "        df_update1 = df_update['crtd_datetime']\n",
    "        df_update1.drop_duplicates(inplace=True)\n",
    "        tpl_dt = tuple(df_update1.dt.strftime('%Y-%m-%d').to_list()) + ('1900-01-01',)\n",
    "        # tpl_dt\n",
    "        df_update1 = df_update['pk']\n",
    "        df_update1.drop_duplicates(inplace=True)\n",
    "        tpl_pk = tuple(df_update1.to_list()) + ('',)\n",
    "        del_sql = \\\n",
    "        f\"\"\"\n",
    "        DELETE FROM biteam.{table_name}\n",
    "        WHERE\n",
    "        DATE(crtd_datetime) in {tpl_dt}\n",
    "        AND pk in {tpl_pk}\n",
    "        \"\"\"\n",
    "        print(\"del_sql \",del_sql)\n",
    "        execute_bq_query(del_sql)\n",
    "        df_update['inserted_at'] = datetime.now()\n",
    "        bq_values_insert(df_update, f\"{table_name}\", 2)\n",
    "    except AssertionError:\n",
    "        print(\"NO DATA TO INPUT\")"
   ]
  },
  {
   "cell_type": "code",
   "execution_count": 20,
   "metadata": {},
   "outputs": [
    {
     "name": "stdout",
     "output_type": "stream",
     "text": [
      "del_sql  \n",
      "        DELETE FROM biteam.sync_dms_err\n",
      "        WHERE\n",
      "        DATE(crtd_datetime) in ('2022-05-15', '1900-01-01')\n",
      "        AND pk in ('MR0001DH0-0422-02105', 'MR0001DH0-0522-01350', 'MR0001DH0-0522-01411', 'MR0001DH0-0522-01774', 'MR0001DH0-0522-01801', 'MR0001DH0-0522-02120', 'MR0001DH0-0522-01995', 'MR0001DH0-0522-02281', 'MR0010DH1-0522-01171', 'MR0010DH1-0522-01203', 'MR0010DH1-0522-01204', 'MR0010DH1-0522-01304', 'MR0010DH1-0522-01555', 'MR0010DH1-0522-01469', 'MR0010DH1-0522-01617', 'MR0010DH1-0522-01653', 'MR0010DH1-0522-01709', 'MR0010DH1-0522-01711', 'MR0010DH1-0522-01732', 'MR0010DH1-0522-01742', 'MR0010DH1-0522-01749', 'MR0012DH2-0522-00450', 'MR0012DH2-0522-00455', 'MR0012DH2-0522-00465', 'MR0012DH2-0522-00487', 'MR0012DH2-0522-00502', 'MR0012DH2-0522-00505', 'MR0012DH2-0522-00507', 'MR0012DH2-0522-00513', 'MR0012DH2-0522-00516', 'MR0012DH2-0522-00517', 'MR0013DH3-0522-00581', 'MR0013DH3-0522-00649', 'MR0013DH3-0522-00656', 'MR0013DH3-0522-00726', 'MR0013DH3-0522-00810', 'MR0013DH3-0522-00813', 'MR0013DH3-0522-00814', 'MR0013DH3-0522-00817', 'MR0014DH4-0522-00394', 'MR0014DH4-0522-00436', 'MR0014DH4-0522-00491', 'MR0014DH4-0522-00500', 'MR0015DH5-0522-00490', 'MR0015DH5-0522-00946', 'MR0016DH6-0522-00587', 'MR0016DH6-0522-00698', '')\n",
      "        \n"
     ]
    },
    {
     "name": "stderr",
     "output_type": "stream",
     "text": [
      "1it [00:03,  3.30s/it]\n"
     ]
    }
   ],
   "source": [
    "# update()"
   ]
  },
  {
   "cell_type": "code",
   "execution_count": null,
   "metadata": {},
   "outputs": [],
   "source": [
    "# dummy_start = DummyOperator(task_id=\"dummy_start\", dag=dag)\n",
    "\n",
    "# update = PythonOperator(task_id=\"update\", python_callable=update, dag=dag)\n",
    "\n",
    "# dummy_start >> update"
   ]
  }
 ],
 "metadata": {
  "interpreter": {
   "hash": "dff776f8cf9899793f9a0f4d147d4ee0e914dc3f9ff7764d86dd5f5383f5f250"
  },
  "kernelspec": {
   "display_name": "Python 3.9.6 ('venv': venv)",
   "language": "python",
   "name": "python3"
  },
  "language_info": {
   "codemirror_mode": {
    "name": "ipython",
    "version": 3
   },
   "file_extension": ".py",
   "mimetype": "text/x-python",
   "name": "python",
   "nbconvert_exporter": "python",
   "pygments_lexer": "ipython3",
   "version": "3.9.6"
  },
  "orig_nbformat": 4
 },
 "nbformat": 4,
 "nbformat_minor": 2
}
