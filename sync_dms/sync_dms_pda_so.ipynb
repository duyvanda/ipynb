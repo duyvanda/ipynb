{
 "cells": [
  {
   "cell_type": "code",
   "execution_count": 3,
   "metadata": {},
   "outputs": [
    {
     "name": "stdout",
     "output_type": "stream",
     "text": [
      "Default bq project:  spatial-vision-343005.biteam\n"
     ]
    }
   ],
   "source": [
    "from utils.df_handle import *"
   ]
  },
  {
   "cell_type": "code",
   "execution_count": null,
   "metadata": {},
   "outputs": [],
   "source": [
    "import pendulum\n",
    "from airflow import DAG\n",
    "from airflow.operators.dummy_operator import DummyOperator\n",
    "from airflow.operators.python_operator import PythonOperator\n",
    "\n",
    "local_tz = pendulum.timezone(\"Asia/Bangkok\")\n",
    "\n",
    "name='PDA_SO'\n",
    "prefix='SYNC_'\n",
    "csv_path = '/usr/local/airflow/plugins'+'/'\n",
    "\n",
    "dag_params = {\n",
    "    'owner': 'airflow',\n",
    "    \"depends_on_past\": False,\n",
    "    'start_date': datetime(2022, 5, 10, tzinfo=local_tz),\n",
    "    'email_on_failure': True,\n",
    "    'email_on_retry': False,\n",
    "    'email':['duyvq@merapgroup.com', 'vanquangduy10@gmail.com'],\n",
    "    'do_xcom_push': False,\n",
    "    'execution_timeout':timedelta(seconds=300)\n",
    "    # 'retries': 3,\n",
    "    # 'retry_delay': timedelta(minutes=10),\n",
    "}\n",
    "\n",
    "dag = DAG(prefix+name,\n",
    "          catchup=False,\n",
    "          default_args=dag_params,\n",
    "          schedule_interval= '5 * * * *',\n",
    "          tags=[prefix+name, 'Daily', '60mins']\n",
    ")"
   ]
  },
  {
   "cell_type": "code",
   "execution_count": 4,
   "metadata": {},
   "outputs": [],
   "source": [
    "start_date = '2022-01-01'\n",
    "datenow = datetime.now().strftime(\"%Y-%m-%d\")\n",
    "datenow_mns1 = (datetime.now() - timedelta(days=1)).strftime(\"%Y-%m-%d\")\n",
    "fdom = datetime.now().replace(day=1).strftime(\"%Y-%m-%d\")\n",
    "datenow_mns45 = (datetime.now() - timedelta(days=45)).strftime(\"%Y-%m-%d\")"
   ]
  },
  {
   "cell_type": "code",
   "execution_count": 4,
   "metadata": {},
   "outputs": [
    {
     "data": {
      "text/plain": [
       "'2022-03-31'"
      ]
     },
     "execution_count": 4,
     "metadata": {},
     "output_type": "execute_result"
    }
   ],
   "source": [
    "# datenow_mns45"
   ]
  },
  {
   "cell_type": "code",
   "execution_count": 6,
   "metadata": {},
   "outputs": [],
   "source": [
    "from_tb = \"OM_PDASalesOrd\""
   ]
  },
  {
   "cell_type": "code",
   "execution_count": 28,
   "metadata": {},
   "outputs": [],
   "source": [
    "sql = \\\n",
    "f\"\"\"\n",
    "DECLARE @from DATE = '{start_date}'\n",
    "DECLARE @to DATE = '2022-01-31'\n",
    "SELECT\n",
    "CONCAT(BranchID,OrderNbr) as pk,\n",
    "BranchID,\n",
    "OrderNbr,\n",
    "CustID,\n",
    "SlsPerID,\n",
    "Status,\n",
    "Crtd_Prog,\n",
    "Crtd_User,\n",
    "Crtd_DateTime,\n",
    "LUpd_DateTime,\n",
    "LUpd_User,\n",
    "Remark,\n",
    "InsertFrom,\n",
    "BranchRouteID,\n",
    "SalesRouteID,\n",
    "DeliveryTime,\n",
    "OriOrderNbrUp,\n",
    "Version\n",
    "from {from_tb}\n",
    "where Crtd_Datetime >= @from\n",
    "\"\"\""
   ]
  },
  {
   "cell_type": "code",
   "execution_count": 21,
   "metadata": {},
   "outputs": [],
   "source": [
    "table_name = \"sync_dms_pda_so\"\n",
    "table_temp = \"sync_dms_pda_so_temp\""
   ]
  },
  {
   "cell_type": "code",
   "execution_count": 22,
   "metadata": {},
   "outputs": [
    {
     "name": "stdout",
     "output_type": "stream",
     "text": [
      "\n",
      "DECLARE @from DATE = '2022-05-01'\n",
      "DECLARE @to DATE = '2022-01-31'\n",
      "SELECT\n",
      "CONCAT(BranchID,OrderNbr) as pk,\n",
      "BranchID,\n",
      "OrderNbr,\n",
      "CustID,\n",
      "SlsPerID,\n",
      "Status,\n",
      "Crtd_Prog,\n",
      "Crtd_User,\n",
      "Crtd_DateTime,\n",
      "LUpd_DateTime,\n",
      "LUpd_User,\n",
      "Remark,\n",
      "InsertFrom,\n",
      "BranchRouteID,\n",
      "SalesRouteID,\n",
      "DeliveryTime,\n",
      "OriOrderNbrUp,\n",
      "Version\n",
      "from OM_PDASalesOrd\n",
      "where Crtd_Datetime >= @from\n",
      "\n"
     ]
    }
   ],
   "source": [
    "print(sql)"
   ]
  },
  {
   "cell_type": "code",
   "execution_count": null,
   "metadata": {},
   "outputs": [],
   "source": [
    "usql = \\\n",
    "f\"\"\"\n",
    "DECLARE @from DATE = '{datenow}'\n",
    "DECLARE @to DATE = '2022-01-31'\n",
    "SELECT\n",
    "CONCAT(BranchID,OrderNbr) as pk,\n",
    "BranchID,\n",
    "OrderNbr,\n",
    "CustID,\n",
    "SlsPerID,\n",
    "Status,\n",
    "Crtd_Prog,\n",
    "Crtd_User,\n",
    "Crtd_DateTime,\n",
    "LUpd_DateTime,\n",
    "LUpd_User,\n",
    "Remark,\n",
    "InsertFrom,\n",
    "BranchRouteID,\n",
    "SalesRouteID,\n",
    "DeliveryTime,\n",
    "OriOrderNbrUp,\n",
    "Version\n",
    "from {from_tb}\n",
    "where Crtd_Datetime >= @from\n",
    "\"\"\""
   ]
  },
  {
   "cell_type": "code",
   "execution_count": 13,
   "metadata": {},
   "outputs": [],
   "source": [
    "# print(sql)"
   ]
  },
  {
   "cell_type": "code",
   "execution_count": 23,
   "metadata": {},
   "outputs": [],
   "source": [
    "df = get_ms_df(sql)\n",
    "df['inserted_at'] = datetime.now()"
   ]
  },
  {
   "cell_type": "code",
   "execution_count": 25,
   "metadata": {},
   "outputs": [
    {
     "name": "stderr",
     "output_type": "stream",
     "text": [
      "1it [00:03,  3.97s/it]\n"
     ]
    }
   ],
   "source": [
    "bq_values_insert(df, f\"{table_temp}\", 3)"
   ]
  },
  {
   "cell_type": "code",
   "execution_count": 26,
   "metadata": {},
   "outputs": [],
   "source": [
    "sql = \\\n",
    "f\"\"\"\n",
    "DROP TABLE IF EXISTS biteam.{table_name};\n",
    "CREATE TABLE biteam.{table_name} LIKE biteam.{table_temp}\n",
    "PARTITION BY DATE(crtd_datetime)\n",
    "CLUSTER BY pk,branchid,ordernbr,slsperid\n",
    "\"\"\""
   ]
  },
  {
   "cell_type": "code",
   "execution_count": 27,
   "metadata": {},
   "outputs": [],
   "source": [
    "execute_bq_query(sql)"
   ]
  },
  {
   "cell_type": "code",
   "execution_count": 15,
   "metadata": {},
   "outputs": [],
   "source": [
    "# df = get_ms_df(sql)\n",
    "# df['inserted_at'] = datetime.now()\n",
    "# table_name = \"sync_dms_pda_so\"\n",
    "# table_temp = \"sync_dms_pda_so_temp\"\n",
    "# sql = \\\n",
    "# f\"\"\"\n",
    "# delete from biteam.sync_dms_pda_so where date(crtd_datetime) >= '{datenow}'\n",
    "# \"\"\"\n",
    "# print(\"delete_sql: \", sql)\n",
    "# execute_bq_query(sql)\n",
    "# bq_values_insert(df, f\"{table_temp}\", 3)\n",
    "sql = \\\n",
    "f\"\"\"\n",
    "DROP TABLE IF EXISTS biteam.{table_name};\n",
    "CREATE TABLE biteam.{table_name} LIKE biteam.{table_temp}\n",
    "PARTITION BY DATE(crtd_datetime)\n",
    "CLUSTER BY pk,branchid,ordernbr,slsperid\n",
    "\"\"\""
   ]
  },
  {
   "cell_type": "code",
   "execution_count": 29,
   "metadata": {},
   "outputs": [
    {
     "name": "stderr",
     "output_type": "stream",
     "text": [
      "1it [00:13, 13.92s/it]\n"
     ]
    }
   ],
   "source": [
    "df = get_ms_df(sql)\n",
    "df['inserted_at'] = datetime.now()\n",
    "table_name = \"sync_dms_pda_so\"\n",
    "table_temp = \"sync_dms_pda_so_temp\"\n",
    "bq_values_insert(df, f\"{table_name}\", 2)"
   ]
  },
  {
   "cell_type": "code",
   "execution_count": 51,
   "metadata": {},
   "outputs": [],
   "source": [
    "# execute_bq_query(sql)"
   ]
  },
  {
   "cell_type": "code",
   "execution_count": 24,
   "metadata": {},
   "outputs": [
    {
     "name": "stderr",
     "output_type": "stream",
     "text": [
      "1it [00:04,  4.79s/it]\n"
     ]
    }
   ],
   "source": [
    "# bq_values_insert(df, f\"{table_name}\", 2)"
   ]
  },
  {
   "cell_type": "code",
   "execution_count": 25,
   "metadata": {},
   "outputs": [],
   "source": [
    "usql = \\\n",
    "f\"\"\"\n",
    "DECLARE @from DATE = '{datenow}'\n",
    "DECLARE @to DATE = '2022-01-31'\n",
    "SELECT\n",
    "BranchID,\n",
    "OrderNbr,\n",
    "CustID,\n",
    "SlsPerID,\n",
    "Status,\n",
    "Crtd_Prog,\n",
    "Crtd_User,\n",
    "Crtd_DateTime,\n",
    "LUpd_User,\n",
    "LUpd_DateTime,\n",
    "Remark,\n",
    "InsertFrom,\n",
    "BranchRouteID,\n",
    "SalesRouteID,\n",
    "DeliveryTime,\n",
    "OriOrderNbrUp,\n",
    "Version\n",
    "from {from_tb}\n",
    "where LUpd_DateTime >= @from\n",
    "and Crtd_DateTime < @from\n",
    "\"\"\""
   ]
  },
  {
   "cell_type": "code",
   "execution_count": 28,
   "metadata": {},
   "outputs": [
    {
     "name": "stdout",
     "output_type": "stream",
     "text": [
      "\n",
      "DECLARE @from DATE = '2022-05-14'\n",
      "DECLARE @to DATE = '2022-01-31'\n",
      "SELECT\n",
      "BranchID,\n",
      "OrderNbr,\n",
      "CustID,\n",
      "SlsPerID,\n",
      "Status,\n",
      "Crtd_Prog,\n",
      "Crtd_User,\n",
      "Crtd_DateTime,\n",
      "LUpd_DateTime,\n",
      "Remark,\n",
      "InsertFrom,\n",
      "BranchRouteID,\n",
      "SalesRouteID,\n",
      "DeliveryTime,\n",
      "OriOrderNbrUp,\n",
      "Version\n",
      "from OM_PDASalesOrd\n",
      "where LUpd_DateTime >= @from\n",
      "and Crtd_DateTime < @from\n",
      "\n"
     ]
    }
   ],
   "source": [
    "print(sql)"
   ]
  },
  {
   "cell_type": "code",
   "execution_count": 29,
   "metadata": {},
   "outputs": [],
   "source": [
    "#UPDATE\n",
    "df_update = get_ms_df(sql)\n",
    "df_update.columns = lower_col(df_update)\n",
    "# df_update.columns\n",
    "df_update['crtd_datetime'] = df_update.crtd_datetime.dt.normalize()\n",
    "df_update1 = df_update['crtd_datetime']\n",
    "df_update1.drop_duplicates(inplace=True)\n",
    "tpl_dt = tuple(df_update1.dt.strftime('%Y-%m-%d').to_list()) + ('1900-01-01',)\n",
    "# tpl_dt\n",
    "df_update1 = df_update['branchid'] + df_update['ordernbr']\n",
    "df_update1.drop_duplicates(inplace=True)\n",
    "tpl_pk = tuple(df_update1.to_list()) + ('',)\n",
    "del_sql = \\\n",
    "f\"\"\"\n",
    "DELETE FROM biteam.sync_dms_pda_so\n",
    "WHERE\n",
    "DATE(crtd_datetime) in {tpl_dt}\n",
    "AND concat(branchid,ordernbr) in {tpl_pk}\n",
    "\"\"\"\n",
    "print(del_sql)\n",
    "execute_bq_query(del_sql)\n",
    "df_update['inserted_at'] = datetime.now()\n",
    "bq_values_insert(df_update, f\"{table_name}\", 2)"
   ]
  },
  {
   "cell_type": "code",
   "execution_count": null,
   "metadata": {},
   "outputs": [],
   "source": [
    "#SYNCBACK\n",
    "\n",
    "df = get_ms_df(syncb_sql)\n",
    "\n",
    "df['inserted_at'] = datetime.now()\n",
    "\n",
    "bq_values_insert(df, f\"{table_name}\", 2)\n",
    "\n",
    "dsql = \\\n",
    "f\"\"\"\n",
    "delete from biteam.{table_name} where date(crtd_datetime) >= '{datenow_mns45}'\n",
    "\"\"\"\n",
    "print(\"delete_sql: \", dsql)\n",
    "\n",
    "execute_bq_query(dsql)"
   ]
  },
  {
   "cell_type": "code",
   "execution_count": 1,
   "metadata": {},
   "outputs": [],
   "source": [
    "# 20220628\n",
    "\n",
    "sql = \\\n",
    "\"\"\"\n",
    "DECLARE @from DATE = '2022-06-28'\n",
    "DECLARE @to DATE = '2022-01-31'\n",
    "SELECT\n",
    "concat(BranchID,OrderNbr) as pk,\n",
    "BranchID,\n",
    "OrderNbr,\n",
    "CustID,\n",
    "SlsPerID,\n",
    "Status,\n",
    "Crtd_Prog,\n",
    "Crtd_User,\n",
    "Crtd_DateTime,\n",
    "LUpd_DateTime,\n",
    "Lupd_User,\n",
    "Remark,\n",
    "InsertFrom,\n",
    "BranchRouteID,\n",
    "SalesRouteID,\n",
    "DeliveryTime,\n",
    "OriOrderNbrUp,\n",
    "Version,\n",
    "OrderType\n",
    "from OM_PDASalesOrd\n",
    "where cast(LUpd_DateTime as DATE) >= @from\n",
    "\"\"\""
   ]
  },
  {
   "cell_type": "code",
   "execution_count": 4,
   "metadata": {},
   "outputs": [],
   "source": [
    "df = get_ms_df(sql)"
   ]
  },
  {
   "cell_type": "code",
   "execution_count": 5,
   "metadata": {},
   "outputs": [
    {
     "data": {
      "text/html": [
       "<div>\n",
       "<style scoped>\n",
       "    .dataframe tbody tr th:only-of-type {\n",
       "        vertical-align: middle;\n",
       "    }\n",
       "\n",
       "    .dataframe tbody tr th {\n",
       "        vertical-align: top;\n",
       "    }\n",
       "\n",
       "    .dataframe thead th {\n",
       "        text-align: right;\n",
       "    }\n",
       "</style>\n",
       "<table border=\"1\" class=\"dataframe\">\n",
       "  <thead>\n",
       "    <tr style=\"text-align: right;\">\n",
       "      <th></th>\n",
       "      <th>pk</th>\n",
       "      <th>BranchID</th>\n",
       "      <th>OrderNbr</th>\n",
       "      <th>CustID</th>\n",
       "      <th>SlsPerID</th>\n",
       "      <th>Status</th>\n",
       "      <th>Crtd_Prog</th>\n",
       "      <th>Crtd_User</th>\n",
       "      <th>Crtd_DateTime</th>\n",
       "      <th>LUpd_DateTime</th>\n",
       "      <th>Lupd_User</th>\n",
       "      <th>Remark</th>\n",
       "      <th>InsertFrom</th>\n",
       "      <th>BranchRouteID</th>\n",
       "      <th>SalesRouteID</th>\n",
       "      <th>DeliveryTime</th>\n",
       "      <th>OriOrderNbrUp</th>\n",
       "      <th>Version</th>\n",
       "      <th>OrderType</th>\n",
       "    </tr>\n",
       "  </thead>\n",
       "  <tbody>\n",
       "    <tr>\n",
       "      <th>0</th>\n",
       "      <td>MR0001DH0-0622-04796</td>\n",
       "      <td>MR0001</td>\n",
       "      <td>DH0-0622-04796</td>\n",
       "      <td>N02208293</td>\n",
       "      <td>MR1406</td>\n",
       "      <td>C</td>\n",
       "      <td>SFA</td>\n",
       "      <td>MR1406</td>\n",
       "      <td>2022-06-28 08:26:37</td>\n",
       "      <td>2022-06-28 08:31:45</td>\n",
       "      <td>admin</td>\n",
       "      <td></td>\n",
       "      <td>S</td>\n",
       "      <td>RHCM01</td>\n",
       "      <td>TMD2_4</td>\n",
       "      <td>24</td>\n",
       "      <td></td>\n",
       "      <td>42918</td>\n",
       "      <td>IN</td>\n",
       "    </tr>\n",
       "    <tr>\n",
       "      <th>1</th>\n",
       "      <td>MR0001DH0-0622-04797</td>\n",
       "      <td>MR0001</td>\n",
       "      <td>DH0-0622-04797</td>\n",
       "      <td>001761</td>\n",
       "      <td>MR2556</td>\n",
       "      <td>C</td>\n",
       "      <td>SFA</td>\n",
       "      <td>MR2556</td>\n",
       "      <td>2022-06-28 08:26:58</td>\n",
       "      <td>2022-06-28 08:31:46</td>\n",
       "      <td>admin</td>\n",
       "      <td></td>\n",
       "      <td>S</td>\n",
       "      <td>RHCM01</td>\n",
       "      <td>TMD1_1</td>\n",
       "      <td>24</td>\n",
       "      <td></td>\n",
       "      <td>51377</td>\n",
       "      <td>IN</td>\n",
       "    </tr>\n",
       "    <tr>\n",
       "      <th>2</th>\n",
       "      <td>MR0001DH0-0622-04798</td>\n",
       "      <td>MR0001</td>\n",
       "      <td>DH0-0622-04798</td>\n",
       "      <td>M2301021</td>\n",
       "      <td>MR1995</td>\n",
       "      <td>C</td>\n",
       "      <td>SFA</td>\n",
       "      <td>MR1995</td>\n",
       "      <td>2022-06-28 08:28:53</td>\n",
       "      <td>2022-06-28 08:31:46</td>\n",
       "      <td>admin</td>\n",
       "      <td></td>\n",
       "      <td>S</td>\n",
       "      <td>RHCM01</td>\n",
       "      <td>MCP-NT-HCM6</td>\n",
       "      <td>24</td>\n",
       "      <td></td>\n",
       "      <td>61859</td>\n",
       "      <td>IN</td>\n",
       "    </tr>\n",
       "    <tr>\n",
       "      <th>3</th>\n",
       "      <td>MR0001DH0-0622-04799</td>\n",
       "      <td>MR0001</td>\n",
       "      <td>DH0-0622-04799</td>\n",
       "      <td>P4708-0151</td>\n",
       "      <td>MR1179</td>\n",
       "      <td>C</td>\n",
       "      <td>SFA</td>\n",
       "      <td>MR1179</td>\n",
       "      <td>2022-06-28 08:35:50</td>\n",
       "      <td>2022-06-28 08:41:54</td>\n",
       "      <td>admin</td>\n",
       "      <td></td>\n",
       "      <td>S</td>\n",
       "      <td>RHCM01</td>\n",
       "      <td>MCP-DL-HCM2</td>\n",
       "      <td>24</td>\n",
       "      <td></td>\n",
       "      <td>18183</td>\n",
       "      <td>IN</td>\n",
       "    </tr>\n",
       "    <tr>\n",
       "      <th>4</th>\n",
       "      <td>MR0001DH0-0622-04800</td>\n",
       "      <td>MR0001</td>\n",
       "      <td>DH0-0622-04800</td>\n",
       "      <td>M1001010</td>\n",
       "      <td>MR1363</td>\n",
       "      <td>C</td>\n",
       "      <td>OM10101</td>\n",
       "      <td>MR1363</td>\n",
       "      <td>2022-06-28 08:36:24</td>\n",
       "      <td>2022-06-28 08:38:22</td>\n",
       "      <td>MR1363</td>\n",
       "      <td></td>\n",
       "      <td>O</td>\n",
       "      <td></td>\n",
       "      <td></td>\n",
       "      <td>24</td>\n",
       "      <td></td>\n",
       "      <td>70157</td>\n",
       "      <td>IN</td>\n",
       "    </tr>\n",
       "  </tbody>\n",
       "</table>\n",
       "</div>"
      ],
      "text/plain": [
       "                     pk BranchID        OrderNbr      CustID SlsPerID Status  \\\n",
       "0  MR0001DH0-0622-04796   MR0001  DH0-0622-04796   N02208293   MR1406      C   \n",
       "1  MR0001DH0-0622-04797   MR0001  DH0-0622-04797      001761   MR2556      C   \n",
       "2  MR0001DH0-0622-04798   MR0001  DH0-0622-04798    M2301021   MR1995      C   \n",
       "3  MR0001DH0-0622-04799   MR0001  DH0-0622-04799  P4708-0151   MR1179      C   \n",
       "4  MR0001DH0-0622-04800   MR0001  DH0-0622-04800    M1001010   MR1363      C   \n",
       "\n",
       "  Crtd_Prog Crtd_User       Crtd_DateTime       LUpd_DateTime Lupd_User  \\\n",
       "0       SFA    MR1406 2022-06-28 08:26:37 2022-06-28 08:31:45     admin   \n",
       "1       SFA    MR2556 2022-06-28 08:26:58 2022-06-28 08:31:46     admin   \n",
       "2       SFA    MR1995 2022-06-28 08:28:53 2022-06-28 08:31:46     admin   \n",
       "3       SFA    MR1179 2022-06-28 08:35:50 2022-06-28 08:41:54     admin   \n",
       "4   OM10101    MR1363 2022-06-28 08:36:24 2022-06-28 08:38:22    MR1363   \n",
       "\n",
       "  Remark InsertFrom BranchRouteID SalesRouteID DeliveryTime OriOrderNbrUp  \\\n",
       "0                 S        RHCM01       TMD2_4           24                 \n",
       "1                 S        RHCM01       TMD1_1           24                 \n",
       "2                 S        RHCM01  MCP-NT-HCM6           24                 \n",
       "3                 S        RHCM01  MCP-DL-HCM2           24                 \n",
       "4                 O                                      24                 \n",
       "\n",
       "   Version OrderType  \n",
       "0    42918        IN  \n",
       "1    51377        IN  \n",
       "2    61859        IN  \n",
       "3    18183        IN  \n",
       "4    70157        IN  "
      ]
     },
     "execution_count": 5,
     "metadata": {},
     "output_type": "execute_result"
    }
   ],
   "source": [
    "df.head()"
   ]
  },
  {
   "cell_type": "code",
   "execution_count": null,
   "metadata": {},
   "outputs": [],
   "source": []
  }
 ],
 "metadata": {
  "interpreter": {
   "hash": "dff776f8cf9899793f9a0f4d147d4ee0e914dc3f9ff7764d86dd5f5383f5f250"
  },
  "kernelspec": {
   "display_name": "Python 3.9.6 ('venv': venv)",
   "language": "python",
   "name": "python3"
  },
  "language_info": {
   "codemirror_mode": {
    "name": "ipython",
    "version": 3
   },
   "file_extension": ".py",
   "mimetype": "text/x-python",
   "name": "python",
   "nbconvert_exporter": "python",
   "pygments_lexer": "ipython3",
   "version": "3.9.6"
  },
  "orig_nbformat": 4
 },
 "nbformat": 4,
 "nbformat_minor": 2
}
