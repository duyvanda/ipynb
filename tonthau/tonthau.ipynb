{
 "cells": [
  {
   "cell_type": "code",
   "execution_count": 1,
   "metadata": {},
   "outputs": [
    {
     "name": "stdout",
     "output_type": "stream",
     "text": [
      "Default bq project:  spatial-vision-343005.biteam\n"
     ]
    }
   ],
   "source": [
    "from utils.df_handle import *"
   ]
  },
  {
   "cell_type": "code",
   "execution_count": 4,
   "metadata": {},
   "outputs": [],
   "source": [
    "query = f\"EXEC [pr_OM_DetailCntStatus_BI]\"\n",
    "FINAL = get_ms_df(sql=query)"
   ]
  },
  {
   "cell_type": "code",
   "execution_count": 5,
   "metadata": {},
   "outputs": [
    {
     "name": "stderr",
     "output_type": "stream",
     "text": [
      "1it [00:10, 10.23s/it]\n"
     ]
    }
   ],
   "source": [
    "bq_values_insert(FINAL, \"f_ins_detailcntstatus\", 3)"
   ]
  },
  {
   "cell_type": "code",
   "execution_count": 10,
   "metadata": {},
   "outputs": [],
   "source": [
    "sql = \\\n",
    "\"\"\"\n",
    "SELECT \n",
    "t.Year ,\n",
    "UnitType = t.ContractorID ,\n",
    "t.UnitTypeDescr ,\n",
    "t.UnitCode ,\n",
    "t.UnitDescr ,\n",
    "t.NoticeNbr ,\n",
    "t.StartDate ,\n",
    "t.ExprDate ,\n",
    "t.ContractorName ,\n",
    "t.ProjectName ,\n",
    "t.InvtID ,\n",
    "t.InvtName ,\n",
    "t.ContractPrice ,\n",
    "t.Qty ,\n",
    "t.TotAmt ,\n",
    "t.ActiveDays ,\n",
    "t.QDDK ,\n",
    "t.Note ,\n",
    "t.CpnyName ,\n",
    "t.Address ,\n",
    "t.Tel ,\n",
    "t.Fax ,\n",
    "ZoneDescr = z.Descr,TerritoryDescr = te.descr,StateDescr = st.descr\n",
    "from\n",
    "(\n",
    "SELECT [Year] = h.Year, State = CASE WHEN ISNULL(cu.CustName,'') = '' THEN it.State ELSE cu.State END , h.ContractorID , h.UnitType , UnitTypeDescr = m.Descr , h.UnitCode , UnitDescr  =  ISNULL(cu.CustName,it.InvestorName) , h.NoticeNbr , h.StartDate , h.ExprDate , h.ContractorName , h.ProjectName , d.InvtID , InvtName = i.Descr, d.ContractPrice , d.Qty , d.TotAmt , h.ActiveDays , QDDK = h.AttachedFilePath, d.Note , com.CpnyName, com.Address, com.Tel, com.Fax\n",
    "FROM dbo.OM_ContractorHeader h WITH(NOLOCK)\n",
    "--INNER JOIN dbo.RPTRunningParm0 r WITH(NOLOCK) ON r.StringParm = h.NoticeNbr AND r.ReportID = @RPTID\n",
    "INNER JOIN dbo.OM_ContractorDet d WITH(NOLOCK) ON d.ID = h.ID INNER JOIN dbo.OM_MasterUnitType m WITH(NOLOCK) ON h.UnitType = m.Code\n",
    "INNER JOIN dbo.IN_Inventory i WITH(NOLOCK) ON i.InvtID = d.InvtID\n",
    "LEFT  JOIN dbo.AR_Customer cu WITH(NOLOCK) ON cu.CustId = h.UnitCode\n",
    "LEFT JOIN dbo.OM_Investor it WITH(NOLOCK) ON it.InvestorID = h.UnitCode\n",
    "LEFT JOIN dbo.vs_Company com WITH(NOLOCK) ON com.CpnyID = 'MR0001'\n",
    "where h.Year = '2022'\n",
    ") t\n",
    "LEFT JOIN dbo.SI_State st WITH(NOLOCK) ON st.State = t.State\n",
    "LEFT JOIN dbo.SI_Territory te WITH(NOLOCK) ON te.Territory = st.Territory\n",
    "LEFT JOIN dbo.SI_Zone z WITH(NOLOCK) ON z.Code = te.Zone\n",
    "\"\"\""
   ]
  },
  {
   "cell_type": "code",
   "execution_count": 11,
   "metadata": {},
   "outputs": [],
   "source": [
    "df = get_ms_df(sql)"
   ]
  },
  {
   "cell_type": "code",
   "execution_count": 12,
   "metadata": {},
   "outputs": [
    {
     "name": "stderr",
     "output_type": "stream",
     "text": [
      "1it [00:02,  2.41s/it]\n"
     ]
    }
   ],
   "source": [
    "bq_values_insert(df, \"f_ins_contractinvandcus\", 1)"
   ]
  }
 ],
 "metadata": {
  "kernelspec": {
   "display_name": "Python 3.9.6 ('venv': venv)",
   "language": "python",
   "name": "python3"
  },
  "language_info": {
   "codemirror_mode": {
    "name": "ipython",
    "version": 3
   },
   "file_extension": ".py",
   "mimetype": "text/x-python",
   "name": "python",
   "nbconvert_exporter": "python",
   "pygments_lexer": "ipython3",
   "version": "3.9.6"
  },
  "orig_nbformat": 4,
  "vscode": {
   "interpreter": {
    "hash": "dff776f8cf9899793f9a0f4d147d4ee0e914dc3f9ff7764d86dd5f5383f5f250"
   }
  }
 },
 "nbformat": 4,
 "nbformat_minor": 2
}
