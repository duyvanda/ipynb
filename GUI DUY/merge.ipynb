{
 "cells": [
  {
   "cell_type": "code",
   "execution_count": 1,
   "metadata": {},
   "outputs": [
    {
     "name": "stdout",
     "output_type": "stream",
     "text": [
      "Default bq project:  spatial-vision-343005.biteam\n"
     ]
    }
   ],
   "source": [
    "from utils.df_handle import *"
   ]
  },
  {
   "cell_type": "code",
   "execution_count": 2,
   "metadata": {},
   "outputs": [],
   "source": [
    "# df=pd.read_csv(\"xeta\")"
   ]
  },
  {
   "cell_type": "code",
   "execution_count": 19,
   "metadata": {},
   "outputs": [],
   "source": [
    "df = pd.DataFrame()"
   ]
  },
  {
   "cell_type": "code",
   "execution_count": 4,
   "metadata": {},
   "outputs": [],
   "source": [
    "# df"
   ]
  },
  {
   "cell_type": "code",
   "execution_count": 5,
   "metadata": {},
   "outputs": [],
   "source": [
    "lst_xlsx = []"
   ]
  },
  {
   "cell_type": "code",
   "execution_count": 6,
   "metadata": {},
   "outputs": [],
   "source": [
    "# os.listdir()"
   ]
  },
  {
   "cell_type": "code",
   "execution_count": 7,
   "metadata": {},
   "outputs": [],
   "source": [
    "# for root, dirs, files in os.walk(\".\", topdown=False):\n",
    "    # print(files)\n",
    "    # lst_xlsx.append(files)\n",
    "    # try:\n",
    "    #     df = df.append(pd.read_excel(filess))\n",
    "    # except:\n",
    "    #     pass"
   ]
  },
  {
   "cell_type": "code",
   "execution_count": 16,
   "metadata": {},
   "outputs": [],
   "source": [
    "lst = [i for i in os.listdir() if i.endswith(\".xlsx\")]\n",
    "    # ]print(i)"
   ]
  },
  {
   "cell_type": "code",
   "execution_count": 17,
   "metadata": {},
   "outputs": [
    {
     "name": "stdout",
     "output_type": "stream",
     "text": [
      "['temperature-424-18-10-2022-09-31-52.xlsx', 'temperature-424-18-10-2022-09-34-42.xlsx', 'temperature-424-18-10-2022-09-34-56.xlsx', 'temperature-424-18-10-2022-09-35-07.xlsx', 'temperature-424-18-10-2022-09-35-17.xlsx', 'temperature-424-18-10-2022-09-35-27.xlsx', 'temperature-424-18-10-2022-09-35-40.xlsx', 'temperature-424-18-10-2022-09-35-53.xlsx']\n"
     ]
    }
   ],
   "source": [
    "print(lst)"
   ]
  },
  {
   "cell_type": "code",
   "execution_count": 20,
   "metadata": {},
   "outputs": [
    {
     "name": "stdout",
     "output_type": "stream",
     "text": [
      "(3983, 12)\n",
      "(7941, 12)\n",
      "(11895, 12)\n",
      "(15388, 12)\n",
      "(19324, 12)\n",
      "(23232, 12)\n",
      "(26872, 12)\n",
      "(30483, 12)\n"
     ]
    }
   ],
   "source": [
    "for i in lst:\n",
    "    df = df.append(pd.read_excel(i), ignore_index=True)\n",
    "    print(df.shape)"
   ]
  },
  {
   "cell_type": "code",
   "execution_count": 21,
   "metadata": {},
   "outputs": [],
   "source": [
    "# df.to_excel(\"demoThao.xlsx\")"
   ]
  },
  {
   "cell_type": "code",
   "execution_count": 22,
   "metadata": {},
   "outputs": [],
   "source": [
    "df.columns = cleancols(df)\n",
    "df.columns = lower_col(df)"
   ]
  },
  {
   "cell_type": "code",
   "execution_count": 23,
   "metadata": {},
   "outputs": [
    {
     "data": {
      "text/plain": [
       "Index(['stt', 'ngay', 'gio', 'nhietdo', 'doam', 'dof', 'congty', 'kho',\n",
       "       'diachiip', 'tenthietbi', 'cambien', 'mamay'],\n",
       "      dtype='object')"
      ]
     },
     "execution_count": 23,
     "metadata": {},
     "output_type": "execute_result"
    }
   ],
   "source": [
    "df.columns"
   ]
  },
  {
   "cell_type": "code",
   "execution_count": 24,
   "metadata": {},
   "outputs": [],
   "source": [
    "# df.gio.str.split(\":\", expand=True)[0]"
   ]
  },
  {
   "cell_type": "code",
   "execution_count": 25,
   "metadata": {},
   "outputs": [],
   "source": [
    "df['h'] = df.gio.str.split(\":\", expand=True)[0]\n",
    "df['m'] = df.gio.str.split(\":\", expand=True)[1]\n",
    "df['s'] = df.gio.str.split(\":\", expand=True)[2]\n"
   ]
  },
  {
   "cell_type": "code",
   "execution_count": 26,
   "metadata": {},
   "outputs": [],
   "source": [
    "df['date_formatted'] = pd.to_datetime((df.h+df.m+df.s).apply(str), format='%H%M%S')"
   ]
  },
  {
   "cell_type": "code",
   "execution_count": 27,
   "metadata": {},
   "outputs": [],
   "source": [
    "h_0730 = datetime(1900, 1, 1, 7, 30, 0)\n",
    "h_1730 = datetime(1900, 1, 1, 17, 30, 0)"
   ]
  },
  {
   "cell_type": "code",
   "execution_count": 28,
   "metadata": {},
   "outputs": [],
   "source": [
    "dk1 = df['date_formatted'] >= h_0730\n",
    "dk2 = df['date_formatted'] <= h_1730"
   ]
  },
  {
   "cell_type": "code",
   "execution_count": 29,
   "metadata": {},
   "outputs": [],
   "source": [
    "df['trong_gio'] =  np.where(dk1&dk2, 1, 0)"
   ]
  },
  {
   "cell_type": "markdown",
   "metadata": {},
   "source": [
    "Quy định dữ liệu vượt ngưỡng\n",
    "\n",
    " - Nhiệt độ: ≥30oC\n",
    "\n",
    " - Độ ẩm >75%\n",
    "\n",
    "Dữ liệu chấp nhận \n",
    "\n",
    " - Nhiệt độ: <30oC\n",
    " \n",
    " - Độ ẩm ≤75%\n"
   ]
  },
  {
   "cell_type": "code",
   "execution_count": 30,
   "metadata": {},
   "outputs": [],
   "source": [
    "nhietdo = 30\n",
    "doam=75\n",
    "df['tuan']=2\n",
    "df['thang']=10\n",
    "df['nam']=2022"
   ]
  },
  {
   "cell_type": "code",
   "execution_count": 31,
   "metadata": {},
   "outputs": [],
   "source": [
    "dk3 = df.nhietdo >= nhietdo\n",
    "dk4 =  df.doam > doam"
   ]
  },
  {
   "cell_type": "code",
   "execution_count": 32,
   "metadata": {},
   "outputs": [],
   "source": [
    "df['vuot_nhietdo'] =  np.where(dk3, 1, 0)\n",
    "df['vuot_doam'] =  np.where(dk4, 1, 0)"
   ]
  },
  {
   "cell_type": "code",
   "execution_count": 33,
   "metadata": {},
   "outputs": [],
   "source": [
    "# df['vuot_nhiet_do'] =  np.where(dk1&dk2, 1, 0)"
   ]
  },
  {
   "cell_type": "code",
   "execution_count": 34,
   "metadata": {},
   "outputs": [],
   "source": [
    "# df['abc'] = pd.to_datetime(df.Y*10000+df.M*100+df.D,format='%Y%m%d')"
   ]
  },
  {
   "cell_type": "code",
   "execution_count": 35,
   "metadata": {},
   "outputs": [
    {
     "data": {
      "text/plain": [
       "Index(['stt', 'ngay', 'gio', 'nhietdo', 'doam', 'dof', 'congty', 'kho',\n",
       "       'diachiip', 'tenthietbi', 'cambien', 'mamay', 'h', 'm', 's',\n",
       "       'date_formatted', 'trong_gio', 'tuan', 'thang', 'nam', 'vuot_nhietdo',\n",
       "       'vuot_doam'],\n",
       "      dtype='object')"
      ]
     },
     "execution_count": 35,
     "metadata": {},
     "output_type": "execute_result"
    }
   ],
   "source": [
    "df.columns"
   ]
  },
  {
   "cell_type": "code",
   "execution_count": 36,
   "metadata": {},
   "outputs": [],
   "source": [
    "# drop_cols(df, 'unnamed0')"
   ]
  },
  {
   "cell_type": "code",
   "execution_count": 37,
   "metadata": {},
   "outputs": [],
   "source": [
    "# df.shape"
   ]
  },
  {
   "cell_type": "code",
   "execution_count": 38,
   "metadata": {},
   "outputs": [],
   "source": [
    "bq_values_insert(df, \"f_nhietdo_doam\", 2)"
   ]
  },
  {
   "cell_type": "code",
   "execution_count": null,
   "metadata": {},
   "outputs": [],
   "source": []
  }
 ],
 "metadata": {
  "kernelspec": {
   "display_name": "Python 3.8.10 ('venv': venv)",
   "language": "python",
   "name": "python3"
  },
  "language_info": {
   "codemirror_mode": {
    "name": "ipython",
    "version": 3
   },
   "file_extension": ".py",
   "mimetype": "text/x-python",
   "name": "python",
   "nbconvert_exporter": "python",
   "pygments_lexer": "ipython3",
   "version": "3.8.10"
  },
  "orig_nbformat": 4,
  "vscode": {
   "interpreter": {
    "hash": "8fb55849e6741974ce442ee684e971e1b6b22c29ca2b25c3b9069bf531e0354a"
   }
  }
 },
 "nbformat": 4,
 "nbformat_minor": 2
}
