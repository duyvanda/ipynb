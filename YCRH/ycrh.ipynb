{
 "cells": [
  {
   "cell_type": "code",
   "execution_count": 1,
   "metadata": {},
   "outputs": [
    {
     "name": "stdout",
     "output_type": "stream",
     "text": [
      "Default bq project:  spatial-vision-343005.biteam\n"
     ]
    }
   ],
   "source": [
    "from utils.df_handle import *"
   ]
  },
  {
   "cell_type": "code",
   "execution_count": 2,
   "metadata": {},
   "outputs": [],
   "source": [
    "# # from utils.df_handle import *\n",
    "# import pendulum\n",
    "# from airflow import DAG\n",
    "# from airflow.operators.dummy_operator import DummyOperator\n",
    "# from airflow.operators.python_operator import PythonOperator\n",
    "\n",
    "# local_tz = pendulum.timezone(\"Asia/Bangkok\")\n",
    "\n",
    "# name='FILES'\n",
    "# prefix='UPLOAD_'\n",
    "# csv_path = '/usr/local/airflow/plugins'+'/'\n",
    "\n",
    "# dag_params = {\n",
    "#     'owner': 'airflow',\n",
    "#     \"depends_on_past\": False,\n",
    "#     'start_date': datetime(2022, 5, 10, tzinfo=local_tz),\n",
    "#     'email_on_failure': True,\n",
    "#     'email_on_retry': False,\n",
    "#     'email':['duyvq@merapgroup.com', 'vanquangduy10@gmail.com'],\n",
    "#     'do_xcom_push': False,\n",
    "#     'execution_timeout':timedelta(seconds=300)\n",
    "#     # 'retries': 3,\n",
    "#     # 'retry_delay': timedelta(minutes=10),\n",
    "# }\n",
    "\n",
    "# dag = DAG(prefix+name,\n",
    "#           catchup=False,\n",
    "#           default_args=dag_params,\n",
    "#           schedule_interval= '*/30 6-23 * * *',\n",
    "#           tags=[prefix+name, 'Sync', '30mins']\n",
    "# )"
   ]
  },
  {
   "cell_type": "code",
   "execution_count": 3,
   "metadata": {},
   "outputs": [],
   "source": [
    "# import xlsxwriter"
   ]
  },
  {
   "cell_type": "code",
   "execution_count": 4,
   "metadata": {},
   "outputs": [],
   "source": [
    "# csv_path = '/usr/local/airflow/plugins'+'/'\n",
    "# csv_path = ''\n",
    "# prefix = ''\n",
    "# name = ''"
   ]
  },
  {
   "cell_type": "code",
   "execution_count": 5,
   "metadata": {},
   "outputs": [],
   "source": [
    "sql_1 = \\\n",
    "\"\"\"\n",
    "select\n",
    "GETDATE() as ThoiGianRutBaoCao,\n",
    "pd.Crtd_DateTime as NgayTaoYCRH,\n",
    "pd.BranchID as ChiNhanh,\n",
    "pd.PONbr as YCRH,\n",
    "LineRef as DongTrenPo,\n",
    "LoaiNhapHang = 'HangTonKho',\n",
    "pd.InvtID as MaSanPham,\n",
    "pd.TranDesc as DienGiai,\n",
    "pd.SiteID as MaKho,\n",
    "ist.Name as TenKho,\n",
    "ph.VendID as MaNhaCC,\n",
    "ph.Status,\n",
    "QtyOrd SLGoc,\n",
    "QtyRcvd SLThucNhap,\n",
    "QtyOrd-QtyRcvd as SLDatHang\n",
    "from PO_Detail pd\n",
    "INNER JOIN PO_Header ph on\n",
    "pd.PONbr = ph.PONbr and\n",
    "pd.BranchID = ph.BranchID\n",
    "and ph.status in ('M','O')\n",
    "INNER JOIN IN_Site ist ON\n",
    "pd.SiteID = ist.SiteId\n",
    "\"\"\""
   ]
  },
  {
   "cell_type": "code",
   "execution_count": 6,
   "metadata": {},
   "outputs": [],
   "source": [
    "df1 = get_ms_df(sql_1)"
   ]
  },
  {
   "cell_type": "code",
   "execution_count": 7,
   "metadata": {},
   "outputs": [],
   "source": [
    "# df1.to_csv(csv_path+f'{prefix}{name}test.csv', index=False)"
   ]
  },
  {
   "cell_type": "code",
   "execution_count": 8,
   "metadata": {},
   "outputs": [],
   "source": [
    "# df1.head()"
   ]
  },
  {
   "cell_type": "code",
   "execution_count": 9,
   "metadata": {},
   "outputs": [],
   "source": [
    "assert checkdup(df1, 2, ['ChiNhanh', 'YCRH','MaSanPham']).sum() == 0, \"Duplicate found\""
   ]
  },
  {
   "cell_type": "code",
   "execution_count": 10,
   "metadata": {},
   "outputs": [],
   "source": [
    "sql_2 = \\\n",
    "\"\"\"\n",
    "select\n",
    "GETDATE() as ThoiGianRutBaoCao,\n",
    "pt.Crtd_DateTime as NgayTaoHoaDon,\n",
    "pr.BranchID as ChiNhanh,\n",
    "case when pt.PONbr = '' then 'KHONGCOYCRH' else pt.PONbr end as YCRH,\n",
    "pt.BatNbr as SoHoaDon,\n",
    "pr.Status,\n",
    "pt.InvtID as MaSanPham,\n",
    "pt.RcptQty as SoLuongChoNhap\n",
    "from PO_Trans pt\n",
    "INNER JOIN dbo.PO_Receipt pr ON pr.BatNbr = pt.BatNbr AND pr.BranchID = pt.BranchID and pr.Status = 'H'\n",
    "\"\"\""
   ]
  },
  {
   "cell_type": "code",
   "execution_count": 11,
   "metadata": {},
   "outputs": [],
   "source": [
    "df2 = get_ms_df(sql_2)"
   ]
  },
  {
   "cell_type": "code",
   "execution_count": 12,
   "metadata": {},
   "outputs": [],
   "source": [
    "# df2.head()"
   ]
  },
  {
   "cell_type": "code",
   "execution_count": 13,
   "metadata": {},
   "outputs": [],
   "source": [
    "df2.YCRH.fillna(\"KHONGCOYCRH\", inplace=True)"
   ]
  },
  {
   "cell_type": "code",
   "execution_count": 14,
   "metadata": {},
   "outputs": [],
   "source": [
    "df2.to_excel(\"hoadonnhaptam.xlsx\", sheet_name=\"Duy\", index=False)"
   ]
  },
  {
   "cell_type": "code",
   "execution_count": 15,
   "metadata": {},
   "outputs": [],
   "source": [
    "df2 = pivot(df2, ['ChiNhanh','YCRH','MaSanPham'], {'SoLuongChoNhap':np.sum})"
   ]
  },
  {
   "cell_type": "code",
   "execution_count": 16,
   "metadata": {},
   "outputs": [],
   "source": [
    "# df2.head()"
   ]
  },
  {
   "cell_type": "code",
   "execution_count": 17,
   "metadata": {},
   "outputs": [],
   "source": [
    "df3 = df1.merge(df2, how='left', on=['ChiNhanh','YCRH','MaSanPham'])"
   ]
  },
  {
   "cell_type": "code",
   "execution_count": 18,
   "metadata": {},
   "outputs": [],
   "source": [
    "df3.SoLuongChoNhap.fillna(0, inplace=True)"
   ]
  },
  {
   "cell_type": "code",
   "execution_count": 19,
   "metadata": {},
   "outputs": [],
   "source": [
    "df3['SoLuongChoNhapConLai'] = df3.SLDatHang - df3.SoLuongChoNhap"
   ]
  },
  {
   "cell_type": "code",
   "execution_count": 20,
   "metadata": {},
   "outputs": [],
   "source": [
    "df3['CanXemXet'] = np.where(df3['SoLuongChoNhapConLai'] > 0, \"YES\", \"NO\")"
   ]
  },
  {
   "cell_type": "code",
   "execution_count": 21,
   "metadata": {},
   "outputs": [],
   "source": [
    "dk = df3['CanXemXet'] == \"YES\""
   ]
  },
  {
   "cell_type": "code",
   "execution_count": 22,
   "metadata": {},
   "outputs": [],
   "source": [
    "df4 = df3[dk]"
   ]
  },
  {
   "cell_type": "code",
   "execution_count": 23,
   "metadata": {},
   "outputs": [],
   "source": [
    "df4.to_excel(\"output.xlsx\", sheet_name=\"Duy\", index=False)"
   ]
  },
  {
   "cell_type": "code",
   "execution_count": 27,
   "metadata": {},
   "outputs": [],
   "source": [
    "from google.oauth2 import service_account\n",
    "from googleapiclient import discovery\n",
    "from googleapiclient.http import MediaFileUpload"
   ]
  },
  {
   "cell_type": "code",
   "execution_count": 32,
   "metadata": {},
   "outputs": [],
   "source": [
    "scopes = ['https://www.googleapis.com/auth/spreadsheets', 'https://www.googleapis.com/auth/drive',\n",
    "          'https://www.googleapis.com/auth/drive.file']\n",
    "jsonfile = 'D:/data_sale/datateam1599968716114-6f9f144b4262.json'\n",
    "credentials = service_account.Credentials.from_service_account_file(jsonfile, scopes=scopes)\n",
    "service = discovery.build('drive', 'v3', credentials=credentials)"
   ]
  },
  {
   "cell_type": "code",
   "execution_count": 33,
   "metadata": {},
   "outputs": [
    {
     "data": {
      "text/plain": [
       "{'kind': 'drive#file',\n",
       " 'id': '1z_TbNPWG6Y01iwoQioAzMpBXruBHTSZC',\n",
       " 'name': 'output.xlsx',\n",
       " 'mimeType': 'application/vnd.openxmlformats-officedocument.spreadsheetml.sheet'}"
      ]
     },
     "execution_count": 33,
     "metadata": {},
     "output_type": "execute_result"
    }
   ],
   "source": [
    "folder_id = '1s6-KRfQpFNTZINO0au9ETcEbqxfi_gp7'\n",
    "file_name = 'output.xlsx'\n",
    "file_type = 'application/vnd.openxmlformats-officedocument.spreadsheetml.sheet'\n",
    "file_body={'name':file_name,'addParents':[folder_id]}\n",
    "query = f\"parents = '{folder_id}'\"\n",
    "files = service.files().list(q=query).execute()\n",
    "fileid1  = files['files'][0]['id']\n",
    "media = MediaFileUpload('{0}'.format(file_name), mimetype=file_type)\n",
    "updated_file = service.files().update(fileId=fileid1, body=file_body, media_body=media)\n",
    "updated_file.execute()"
   ]
  },
  {
   "cell_type": "code",
   "execution_count": 34,
   "metadata": {},
   "outputs": [
    {
     "data": {
      "text/plain": [
       "{'kind': 'drive#file',\n",
       " 'id': '1OYwXwEt_wZbBK9uTjL1717z4YY838ZtL',\n",
       " 'name': 'hoadonnhaptam.xlsx',\n",
       " 'mimeType': 'application/vnd.openxmlformats-officedocument.spreadsheetml.sheet'}"
      ]
     },
     "execution_count": 34,
     "metadata": {},
     "output_type": "execute_result"
    }
   ],
   "source": [
    "folder_id = '1s6-KRfQpFNTZINO0au9ETcEbqxfi_gp7'\n",
    "file_name = 'hoadonnhaptam.xlsx'\n",
    "file_type = 'application/vnd.openxmlformats-officedocument.spreadsheetml.sheet'\n",
    "file_body={'name':file_name,'addParents':[folder_id]}\n",
    "query = f\"parents = '{folder_id}'\"\n",
    "files = service.files().list(q=query).execute()\n",
    "fileid2  = files['files'][1]['id']\n",
    "media = MediaFileUpload('{0}'.format(file_name), mimetype=file_type)\n",
    "updated_file = service.files().update(fileId=fileid2, body=file_body, media_body=media)\n",
    "updated_file.execute()"
   ]
  },
  {
   "cell_type": "code",
   "execution_count": 31,
   "metadata": {},
   "outputs": [
    {
     "ename": "NameError",
     "evalue": "name 'DummyOperator' is not defined",
     "output_type": "error",
     "traceback": [
      "\u001b[1;31m---------------------------------------------------------------------------\u001b[0m",
      "\u001b[1;31mNameError\u001b[0m                                 Traceback (most recent call last)",
      "\u001b[1;32m~\\AppData\\Local\\Temp/ipykernel_7452/343588462.py\u001b[0m in \u001b[0;36m<module>\u001b[1;34m\u001b[0m\n\u001b[1;32m----> 1\u001b[1;33m \u001b[0mdummy_start\u001b[0m \u001b[1;33m=\u001b[0m \u001b[0mDummyOperator\u001b[0m\u001b[1;33m(\u001b[0m\u001b[0mtask_id\u001b[0m\u001b[1;33m=\u001b[0m\u001b[1;34m\"dummy_start\"\u001b[0m\u001b[1;33m,\u001b[0m \u001b[0mdag\u001b[0m\u001b[1;33m=\u001b[0m\u001b[0mdag\u001b[0m\u001b[1;33m)\u001b[0m\u001b[1;33m\u001b[0m\u001b[1;33m\u001b[0m\u001b[0m\n\u001b[0m\u001b[0;32m      2\u001b[0m \u001b[1;33m\u001b[0m\u001b[0m\n\u001b[0;32m      3\u001b[0m \u001b[0minsert\u001b[0m \u001b[1;33m=\u001b[0m \u001b[0mPythonOperator\u001b[0m\u001b[1;33m(\u001b[0m\u001b[0mtask_id\u001b[0m\u001b[1;33m=\u001b[0m\u001b[1;34m\"insert\"\u001b[0m\u001b[1;33m,\u001b[0m \u001b[0mpython_callable\u001b[0m\u001b[1;33m=\u001b[0m\u001b[0minsert\u001b[0m\u001b[1;33m,\u001b[0m \u001b[0mdag\u001b[0m\u001b[1;33m=\u001b[0m\u001b[0mdag\u001b[0m\u001b[1;33m)\u001b[0m\u001b[1;33m\u001b[0m\u001b[1;33m\u001b[0m\u001b[0m\n\u001b[0;32m      4\u001b[0m \u001b[1;33m\u001b[0m\u001b[0m\n\u001b[0;32m      5\u001b[0m \u001b[0mupdate\u001b[0m \u001b[1;33m=\u001b[0m \u001b[0mPythonOperator\u001b[0m\u001b[1;33m(\u001b[0m\u001b[0mtask_id\u001b[0m\u001b[1;33m=\u001b[0m\u001b[1;34m\"update\"\u001b[0m\u001b[1;33m,\u001b[0m \u001b[0mpython_callable\u001b[0m\u001b[1;33m=\u001b[0m\u001b[0mupdate\u001b[0m\u001b[1;33m,\u001b[0m \u001b[0mdag\u001b[0m\u001b[1;33m=\u001b[0m\u001b[0mdag\u001b[0m\u001b[1;33m)\u001b[0m\u001b[1;33m\u001b[0m\u001b[1;33m\u001b[0m\u001b[0m\n",
      "\u001b[1;31mNameError\u001b[0m: name 'DummyOperator' is not defined"
     ]
    }
   ],
   "source": [
    "dummy_start = DummyOperator(task_id=\"dummy_start\", dag=dag)\n",
    "\n",
    "insert = PythonOperator(task_id=\"insert\", python_callable=insert, dag=dag)\n",
    "\n",
    "update = PythonOperator(task_id=\"update\", python_callable=update, dag=dag)\n",
    "\n",
    "update_sync_dms_ardoc_2 = PythonOperator(task_id=\"update_sync_dms_ardoc_2\", python_callable=update_sync_dms_ardoc_2, dag=dag)\n",
    "\n",
    "dummy_start >> update >> insert >> update_sync_dms_ardoc_2"
   ]
  },
  {
   "cell_type": "code",
   "execution_count": null,
   "metadata": {},
   "outputs": [],
   "source": []
  }
 ],
 "metadata": {
  "kernelspec": {
   "display_name": "Python 3.9.6 ('venv': venv)",
   "language": "python",
   "name": "python3"
  },
  "language_info": {
   "codemirror_mode": {
    "name": "ipython",
    "version": 3
   },
   "file_extension": ".py",
   "mimetype": "text/x-python",
   "name": "python",
   "nbconvert_exporter": "python",
   "pygments_lexer": "ipython3",
   "version": "3.9.6"
  },
  "orig_nbformat": 4,
  "vscode": {
   "interpreter": {
    "hash": "dff776f8cf9899793f9a0f4d147d4ee0e914dc3f9ff7764d86dd5f5383f5f250"
   }
  }
 },
 "nbformat": 4,
 "nbformat_minor": 2
}
