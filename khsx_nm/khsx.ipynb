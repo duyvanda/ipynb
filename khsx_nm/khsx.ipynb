{
 "cells": [
  {
   "cell_type": "code",
   "execution_count": 1,
   "metadata": {},
   "outputs": [
    {
     "name": "stdout",
     "output_type": "stream",
     "text": [
      "Default bq project:  spatial-vision-343005.biteam\n"
     ]
    }
   ],
   "source": [
    "from utils.df_handle import *"
   ]
  },
  {
   "cell_type": "code",
   "execution_count": 2,
   "metadata": {},
   "outputs": [],
   "source": [
    "t7=pd.read_csv(\"https://docs.google.com/spreadsheets/d/e/2PACX-1vRD6M-I1HqZYPnrOeRy3q_RKVzIAml-tItrBDUdPUZcX1KGNGHvYL-7dabjV8Ao1IcNRM01pCrGuOb6/pub?gid=0&single=true&output=csv\")\n",
    "t8=pd.read_csv(\"https://docs.google.com/spreadsheets/d/e/2PACX-1vRD6M-I1HqZYPnrOeRy3q_RKVzIAml-tItrBDUdPUZcX1KGNGHvYL-7dabjV8Ao1IcNRM01pCrGuOb6/pub?gid=1038230106&single=true&output=csv\")\n",
    "t9=pd.read_csv(\"https://docs.google.com/spreadsheets/d/e/2PACX-1vRD6M-I1HqZYPnrOeRy3q_RKVzIAml-tItrBDUdPUZcX1KGNGHvYL-7dabjV8Ao1IcNRM01pCrGuOb6/pub?gid=17231151&single=true&output=csv\")\n",
    "t10=pd.read_csv(\"https://docs.google.com/spreadsheets/d/e/2PACX-1vRD6M-I1HqZYPnrOeRy3q_RKVzIAml-tItrBDUdPUZcX1KGNGHvYL-7dabjV8Ao1IcNRM01pCrGuOb6/pub?gid=523968361&single=true&output=csv\")\n",
    "t11=pd.read_csv(\"https://docs.google.com/spreadsheets/d/e/2PACX-1vRD6M-I1HqZYPnrOeRy3q_RKVzIAml-tItrBDUdPUZcX1KGNGHvYL-7dabjV8Ao1IcNRM01pCrGuOb6/pub?gid=507303559&single=true&output=csv\")\n",
    "t12=pd.read_csv(\"https://docs.google.com/spreadsheets/d/e/2PACX-1vRD6M-I1HqZYPnrOeRy3q_RKVzIAml-tItrBDUdPUZcX1KGNGHvYL-7dabjV8Ao1IcNRM01pCrGuOb6/pub?gid=604997355&single=true&output=csv\")\n",
    "\n",
    "tonchuanhap=pd.read_csv(\"https://docs.google.com/spreadsheets/d/e/2PACX-1vRyzCqWkMoy_XdBYCO6oirKy6pXwHEjxVKJqBgvmKHXH8dnZ0hl_sOMXxgZkYnl1r2m8tUvz47GPCJZ/pub?gid=0&single=true&output=csv\")\n",
    "songaynhapkho=pd.read_csv(\"https://docs.google.com/spreadsheets/d/e/2PACX-1vRyzCqWkMoy_XdBYCO6oirKy6pXwHEjxVKJqBgvmKHXH8dnZ0hl_sOMXxgZkYnl1r2m8tUvz47GPCJZ/pub?gid=770086452&single=true&output=csv\")\n",
    "quycachdh=pd.read_csv(\"https://docs.google.com/spreadsheets/d/e/2PACX-1vRyzCqWkMoy_XdBYCO6oirKy6pXwHEjxVKJqBgvmKHXH8dnZ0hl_sOMXxgZkYnl1r2m8tUvz47GPCJZ/pub?gid=1649408062&single=true&output=csv\")\n",
    "\n",
    "t7['month']='2022-07-01'\n",
    "t8['month']='2022-08-01'\n",
    "t9['month']='2022-09-01'\n",
    "t10['month']='2022-10-01'\n",
    "t11['month']='2022-11-01'\n",
    "t12['month']='2022-12-01'\n",
    "\n",
    "month_list = [t7,t8,t9,t10,t11,t12,tonchuanhap,songaynhapkho,quycachdh]\n",
    "for i in month_list:\n",
    "    cleancols(i)\n",
    "    i.columns = lower_col(i)\n",
    "\n",
    "df=pd.concat([t7,t8,t9,t10,t11,t12])\n",
    "df= df[df['masanphamphanam'].notna()].copy()    \n",
    "df_old=df.copy()\n",
    "df.drop(['stt','giaidoan',\n",
    "    'thangtruocchuyensang', 'poton', 'podathang', 'pobosung', 'tong',\n",
    "    'phanbothuchien','conton'],axis=1,inplace=True)\n",
    "df = pd.melt(df,id_vars=['masanphamphanam', 'tensanpham','month'])\n",
    "df= df.apply(lambda x: x.str.replace(',',''))\n",
    "df= df.apply(lambda x: x.str.replace('ĐN',''))\n",
    "df= df.apply(lambda x: x.str.replace('PC',''))\n",
    "df= df.apply(lambda x: x.str.replace('DV',''))\n",
    "df= df.apply(lambda x: x.str.replace('BP',''))\n",
    "df= df.apply(lambda x: x.str.replace('-',''))\n",
    "df1= df[df['value'].notna()].copy()\n",
    "df1= df1[df1['value']!=''].copy()"
   ]
  },
  {
   "cell_type": "code",
   "execution_count": 7,
   "metadata": {},
   "outputs": [],
   "source": [
    "df1.value = pd.to_numeric(df1.value)\n",
    "df1.variable = pd.to_numeric(df1.variable)"
   ]
  },
  {
   "cell_type": "code",
   "execution_count": 9,
   "metadata": {},
   "outputs": [],
   "source": [
    "df1[[\"value\",\"variable\"]] = df1[[\"value\",\"variable\"]].astype('int64')"
   ]
  },
  {
   "cell_type": "code",
   "execution_count": 11,
   "metadata": {},
   "outputs": [],
   "source": [
    "datenow_min1 = datetime.now().replace(hour=23,minute=30) - timedelta(days=1)"
   ]
  },
  {
   "cell_type": "code",
   "execution_count": 12,
   "metadata": {},
   "outputs": [
    {
     "data": {
      "text/plain": [
       "datetime.datetime(2022, 9, 27, 23, 30, 35, 261188)"
      ]
     },
     "execution_count": 12,
     "metadata": {},
     "output_type": "execute_result"
    }
   ],
   "source": [
    "datenow_min1"
   ]
  },
  {
   "cell_type": "code",
   "execution_count": null,
   "metadata": {},
   "outputs": [],
   "source": []
  }
 ],
 "metadata": {
  "kernelspec": {
   "display_name": "Python 3.8.10 ('venv': venv)",
   "language": "python",
   "name": "python3"
  },
  "language_info": {
   "codemirror_mode": {
    "name": "ipython",
    "version": 3
   },
   "file_extension": ".py",
   "mimetype": "text/x-python",
   "name": "python",
   "nbconvert_exporter": "python",
   "pygments_lexer": "ipython3",
   "version": "3.8.10"
  },
  "orig_nbformat": 4,
  "vscode": {
   "interpreter": {
    "hash": "8fb55849e6741974ce442ee684e971e1b6b22c29ca2b25c3b9069bf531e0354a"
   }
  }
 },
 "nbformat": 4,
 "nbformat_minor": 2
}
