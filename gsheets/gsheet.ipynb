{
 "cells": [
  {
   "cell_type": "code",
   "execution_count": 1,
   "metadata": {},
   "outputs": [],
   "source": [
    "from utils.df_handle import *"
   ]
  },
  {
   "cell_type": "code",
   "execution_count": 2,
   "metadata": {},
   "outputs": [],
   "source": [
    "CANTHO_URL = 'https://docs.google.com/spreadsheets/d/e/2PACX-1vQ14feQXGyDq2fz-bXWUc0M3JBjMqVaODz-oynx8polZ2PVFpUzywva_SyQHUl9SOdjAGluFC8hcBTd/pub?gid=0&single=true&output=csv'\n",
    "DANANG_URL = 'https://docs.google.com/spreadsheets/d/e/2PACX-1vRtCp6WUTZZqdB58qwj-U4D96lX_bLYaycTLfs9KzHB9AjEdca5Nze9_RCTckpb3oHajFNZQU22hMcl/pub?gid=0&single=true&output=csv'\n",
    "DONGNAI_URL = 'https://docs.google.com/spreadsheets/d/e/2PACX-1vTrJr0oT1ecunKAJax724z6Bbp00A3oFDXhmP8IjY-d22AMEv41GOR9wPOtqCHo3CUaguBlN2BdKt20/pub?gid=0&single=true&output=csv'\n",
    "HCM_URL = 'https://docs.google.com/spreadsheets/d/e/2PACX-1vS1kl9m9UjXsOKFexUxdqh362B764_400AAkcmwnVKp_0Vmzh-d9fc3aS-GgKvTOpsIQ5_MSJYBoba_/pub?gid=0&single=true&output=csv'\n",
    "HN_URL = 'https://docs.google.com/spreadsheets/d/e/2PACX-1vSzDM0zpkG3s1DdLPNm6s9PH8P1eLeGt-i3KNoajBcErt-wJEfk7xQ83NDJsW0OwqZi_QBc_Vym2LEl/pub?gid=0&single=true&output=csv'\n",
    "KHANHHOA_URL = 'https://docs.google.com/spreadsheets/d/e/2PACX-1vSpD3yYDNhV9iuHdBUN98s9nQef1ISxlP4uDw5-CKF8vx2ZzYIyb8ZRSwDEHIOLRyV-DXs85-lwOkTd/pub?gid=0&single=true&output=csv'\n",
    "NGHEAN_URL = 'https://docs.google.com/spreadsheets/d/e/2PACX-1vQWLU2Ay0f2AqozDuM1uUaqLtqCczzju0s26k6NQVCW5vAvjFy5c9ZlouMuBwdL07SnrQFURxcjjV2g/pub?gid=0&single=true&output=csv'\n",
    "QUOCQUANG_URL = 'https://docs.google.com/spreadsheets/d/e/2PACX-1vSV9qglEc2gmvOFzVHIxpvA9f5x3kvBirSW7lHjeMRE-bfW8nuWChi9wLwTJGtF5xCp4hEHp91xPCtl/pub?gid=0&single=true&output=csv'\n",
    "TANKHA_URL = 'https://docs.google.com/spreadsheets/d/e/2PACX-1vQPttJ34dHuSIJ9kK6Q2PNV3NzZJzoY0RxcmxOEU_0HGh7Wx1ZFwiwfQEvT1A4H7yPwrkBeZU02a1rW/pub?gid=0&single=true&output=csv'"
   ]
  },
  {
   "cell_type": "code",
   "execution_count": 3,
   "metadata": {},
   "outputs": [],
   "source": [
    "# TANKHA = pd.read_csv(TANKHA_URL)"
   ]
  },
  {
   "cell_type": "code",
   "execution_count": 4,
   "metadata": {},
   "outputs": [],
   "source": [
    "CANTHO = pd.read_csv(CANTHO_URL)\n",
    "DANANG = pd.read_csv(DANANG_URL)\n",
    "DONGNAI = pd.read_csv(DONGNAI_URL)\n",
    "HCM = pd.read_csv(HCM_URL)\n",
    "HN = pd.read_csv(HN_URL)\n",
    "KHANHHOA = pd.read_csv(KHANHHOA_URL)\n",
    "NGHEAN = pd.read_csv(NGHEAN_URL)\n",
    "QUOCQUANG = pd.read_csv(QUOCQUANG_URL)\n",
    "TANKHA = pd.read_csv(TANKHA_URL)"
   ]
  },
  {
   "cell_type": "code",
   "execution_count": 25,
   "metadata": {},
   "outputs": [],
   "source": [
    "df_all = union_all([CANTHO,DANANG,DONGNAI,HCM,HN,KHANHHOA,NGHEAN,QUOCQUANG,TANKHA])"
   ]
  },
  {
   "cell_type": "code",
   "execution_count": 6,
   "metadata": {},
   "outputs": [],
   "source": [
    "df_all.to_csv('abc.csv')"
   ]
  },
  {
   "cell_type": "code",
   "execution_count": 26,
   "metadata": {},
   "outputs": [],
   "source": [
    "df_all.columns = cleancols(df_all)"
   ]
  },
  {
   "cell_type": "code",
   "execution_count": 27,
   "metadata": {},
   "outputs": [],
   "source": [
    "df_all.columns = lower_col(df_all)"
   ]
  },
  {
   "cell_type": "code",
   "execution_count": 28,
   "metadata": {},
   "outputs": [
    {
     "data": {
      "text/plain": [
       "Index(['codekh', 'tenkh', 'giaiphap', 't4w1', 't4w2', 't4w3', 't4w4', 'tinh'], dtype='object')"
      ]
     },
     "execution_count": 28,
     "metadata": {},
     "output_type": "execute_result"
    }
   ],
   "source": [
    "df_all.columns"
   ]
  },
  {
   "cell_type": "code",
   "execution_count": 29,
   "metadata": {},
   "outputs": [],
   "source": [
    "# df_all1 = df_filter(df_all, codekh='000146').copy()"
   ]
  },
  {
   "cell_type": "code",
   "execution_count": 30,
   "metadata": {},
   "outputs": [],
   "source": [
    "# df_all1"
   ]
  },
  {
   "cell_type": "code",
   "execution_count": 31,
   "metadata": {},
   "outputs": [],
   "source": [
    "# df_all1['t4w4']==np.NAN"
   ]
  },
  {
   "cell_type": "code",
   "execution_count": 32,
   "metadata": {},
   "outputs": [],
   "source": [
    "# df_all1['thongtinthanhtoangannhat'] = \\\n",
    "#     np.where(df_all1['t4w4'].isna(), df_all1['t4w3'], \"OK\")"
   ]
  },
  {
   "cell_type": "code",
   "execution_count": 33,
   "metadata": {},
   "outputs": [],
   "source": [
    "# df_all1['thongtinthanhtoangannhat']"
   ]
  },
  {
   "cell_type": "code",
   "execution_count": 34,
   "metadata": {},
   "outputs": [
    {
     "data": {
      "text/plain": [
       "Index(['codekh', 'tenkh', 'giaiphap', 't4w1', 't4w2', 't4w3', 't4w4', 'tinh'], dtype='object')"
      ]
     },
     "execution_count": 34,
     "metadata": {},
     "output_type": "execute_result"
    }
   ],
   "source": [
    "df_all.columns"
   ]
  },
  {
   "cell_type": "code",
   "execution_count": 44,
   "metadata": {},
   "outputs": [],
   "source": [
    "dk1 = df_all.codekh == 'N06202285'"
   ]
  },
  {
   "cell_type": "code",
   "execution_count": 45,
   "metadata": {},
   "outputs": [
    {
     "data": {
      "text/html": [
       "<div>\n",
       "<style scoped>\n",
       "    .dataframe tbody tr th:only-of-type {\n",
       "        vertical-align: middle;\n",
       "    }\n",
       "\n",
       "    .dataframe tbody tr th {\n",
       "        vertical-align: top;\n",
       "    }\n",
       "\n",
       "    .dataframe thead th {\n",
       "        text-align: right;\n",
       "    }\n",
       "</style>\n",
       "<table border=\"1\" class=\"dataframe\">\n",
       "  <thead>\n",
       "    <tr style=\"text-align: right;\">\n",
       "      <th></th>\n",
       "      <th>codekh</th>\n",
       "      <th>tenkh</th>\n",
       "      <th>giaiphap</th>\n",
       "      <th>t4w1</th>\n",
       "      <th>t4w2</th>\n",
       "      <th>t4w3</th>\n",
       "      <th>t4w4</th>\n",
       "      <th>tinh</th>\n",
       "      <th>thongtinthanhtoangannhat</th>\n",
       "    </tr>\n",
       "  </thead>\n",
       "  <tbody>\n",
       "    <tr>\n",
       "      <th>1614</th>\n",
       "      <td>N06202285</td>\n",
       "      <td>Công Ty CP Dược &amp; VTYT Bình Thuận - Phan Thiết...</td>\n",
       "      <td>Gọi chị Nga nhắc thanh toán</td>\n",
       "      <td>NaN</td>\n",
       "      <td>Ngày 15/12 : C Loan nói để qua tuần chị xem là...</td>\n",
       "      <td>Ngày 23/12 : c Loan báo đã chuyển 7.6tr công n...</td>\n",
       "      <td>NaN</td>\n",
       "      <td>NaN</td>\n",
       "      <td>Ngày 23/12 : c Loan báo đã chuyển 7.6tr công n...</td>\n",
       "    </tr>\n",
       "  </tbody>\n",
       "</table>\n",
       "</div>"
      ],
      "text/plain": [
       "         codekh                                              tenkh  \\\n",
       "1614  N06202285  Công Ty CP Dược & VTYT Bình Thuận - Phan Thiết...   \n",
       "\n",
       "                         giaiphap t4w1  \\\n",
       "1614  Gọi chị Nga nhắc thanh toán  NaN   \n",
       "\n",
       "                                                   t4w2  \\\n",
       "1614  Ngày 15/12 : C Loan nói để qua tuần chị xem là...   \n",
       "\n",
       "                                                   t4w3 t4w4 tinh  \\\n",
       "1614  Ngày 23/12 : c Loan báo đã chuyển 7.6tr công n...  NaN  NaN   \n",
       "\n",
       "                               thongtinthanhtoangannhat  \n",
       "1614  Ngày 23/12 : c Loan báo đã chuyển 7.6tr công n...  "
      ]
     },
     "execution_count": 45,
     "metadata": {},
     "output_type": "execute_result"
    }
   ],
   "source": [
    "df_all[dk1]"
   ]
  },
  {
   "cell_type": "code",
   "execution_count": 46,
   "metadata": {},
   "outputs": [],
   "source": [
    "df_all['thongtinthanhtoangannhat'] = \\\n",
    "    np.where(df_all['t4w4'].notna(), df_all['t4w4'], \\\n",
    "        np.where(df_all['t4w3'].notna(), df_all['t4w3'], \\\n",
    "            np.where(df_all['t4w2'].notna(), df_all['t4w2'], \\\n",
    "                np.where(df_all['t4w1'].notna(), df_all['t4w1'], \"\"\n",
    "    ))))"
   ]
  },
  {
   "cell_type": "code",
   "execution_count": null,
   "metadata": {},
   "outputs": [],
   "source": []
  },
  {
   "cell_type": "code",
   "execution_count": 16,
   "metadata": {},
   "outputs": [],
   "source": [
    "# vc(df_all, 'thongtinthanhtoangannhat')"
   ]
  },
  {
   "cell_type": "code",
   "execution_count": 47,
   "metadata": {},
   "outputs": [],
   "source": [
    "ctr1 = df_all['giaiphap'].notna()\n",
    "ctr2 = df_all['thongtinthanhtoangannhat'].notna()"
   ]
  },
  {
   "cell_type": "code",
   "execution_count": 48,
   "metadata": {},
   "outputs": [],
   "source": [
    "FINAL = df_all[ctr1 | ctr2][['codekh','tenkh','giaiphap','thongtinthanhtoangannhat']].copy()"
   ]
  },
  {
   "cell_type": "code",
   "execution_count": 49,
   "metadata": {},
   "outputs": [],
   "source": [
    "del(df_all)"
   ]
  },
  {
   "cell_type": "code",
   "execution_count": 50,
   "metadata": {},
   "outputs": [],
   "source": [
    "col_name = ['makhcu', 'tenkh', 'giaiphap', 'thongtinthanhtoangannhat']"
   ]
  },
  {
   "cell_type": "code",
   "execution_count": 51,
   "metadata": {},
   "outputs": [],
   "source": [
    "FINAL.columns = col_name"
   ]
  },
  {
   "cell_type": "code",
   "execution_count": 52,
   "metadata": {},
   "outputs": [],
   "source": [
    "FINAL = dropdup(FINAL, 1, subset=['makhcu'])"
   ]
  },
  {
   "cell_type": "code",
   "execution_count": 53,
   "metadata": {},
   "outputs": [],
   "source": [
    "commit_psql(\"truncate table d_tttt cascade;\")"
   ]
  },
  {
   "cell_type": "code",
   "execution_count": 54,
   "metadata": {},
   "outputs": [
    {
     "name": "stdout",
     "output_type": "stream",
     "text": [
      "Data inserted using execute_values() successfully..\n"
     ]
    }
   ],
   "source": [
    "execute_values_insert(FINAL, \"d_tttt\")"
   ]
  },
  {
   "cell_type": "code",
   "execution_count": null,
   "metadata": {},
   "outputs": [],
   "source": []
  },
  {
   "cell_type": "code",
   "execution_count": null,
   "metadata": {},
   "outputs": [],
   "source": []
  }
 ],
 "metadata": {
  "interpreter": {
   "hash": "f94d6dad5013d632e8b52fc362848c71d5234e1d7ba23afa22c3a2e55512dabd"
  },
  "kernelspec": {
   "display_name": "Python 3.9.6 64-bit ('venv': venv)",
   "language": "python",
   "name": "python3"
  },
  "language_info": {
   "codemirror_mode": {
    "name": "ipython",
    "version": 3
   },
   "file_extension": ".py",
   "mimetype": "text/x-python",
   "name": "python",
   "nbconvert_exporter": "python",
   "pygments_lexer": "ipython3",
   "version": "3.9.6"
  },
  "orig_nbformat": 4
 },
 "nbformat": 4,
 "nbformat_minor": 2
}
