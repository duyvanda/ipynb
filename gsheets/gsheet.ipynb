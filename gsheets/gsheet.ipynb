{
 "cells": [
  {
   "cell_type": "code",
   "execution_count": 1,
   "metadata": {},
   "outputs": [
    {
     "name": "stdout",
     "output_type": "stream",
     "text": [
      "Default bq project:  spatial-vision-343005.biteam\n"
     ]
    }
   ],
   "source": [
    "from utils.df_handle import *"
   ]
  },
  {
   "cell_type": "code",
   "execution_count": 7,
   "metadata": {},
   "outputs": [],
   "source": [
    "upload_file_to_bucket(\"admin/duy.csv\", HCM.to_csv())"
   ]
  },
  {
   "cell_type": "code",
   "execution_count": 2,
   "metadata": {},
   "outputs": [],
   "source": [
    "client = get_storage_client()"
   ]
  },
  {
   "cell_type": "code",
   "execution_count": null,
   "metadata": {},
   "outputs": [],
   "source": []
  },
  {
   "cell_type": "code",
   "execution_count": 9,
   "metadata": {},
   "outputs": [
    {
     "data": {
      "text/html": [
       "<div>\n",
       "<style scoped>\n",
       "    .dataframe tbody tr th:only-of-type {\n",
       "        vertical-align: middle;\n",
       "    }\n",
       "\n",
       "    .dataframe tbody tr th {\n",
       "        vertical-align: top;\n",
       "    }\n",
       "\n",
       "    .dataframe thead th {\n",
       "        text-align: right;\n",
       "    }\n",
       "</style>\n",
       "<table border=\"1\" class=\"dataframe\">\n",
       "  <thead>\n",
       "    <tr style=\"text-align: right;\">\n",
       "      <th></th>\n",
       "      <th>Unnamed: 0</th>\n",
       "      <th>CODE KH</th>\n",
       "      <th>TEN KH</th>\n",
       "      <th>Giải pháp</th>\n",
       "      <th>T4 W1</th>\n",
       "      <th>T4 W2</th>\n",
       "      <th>T4 W3</th>\n",
       "      <th>T4 W4</th>\n",
       "    </tr>\n",
       "  </thead>\n",
       "  <tbody>\n",
       "    <tr>\n",
       "      <th>0</th>\n",
       "      <td>0</td>\n",
       "      <td>M0103001</td>\n",
       "      <td>NT BV Nhi Đồng 2 - Quận 1 - HCM</td>\n",
       "      <td>NaN</td>\n",
       "      <td>NaN</td>\n",
       "      <td>0</td>\n",
       "      <td>21/12: KTCN Công 028 3829 5723: đã nhận thông ...</td>\n",
       "      <td>NaN</td>\n",
       "    </tr>\n",
       "    <tr>\n",
       "      <th>1</th>\n",
       "      <td>1</td>\n",
       "      <td>M011301</td>\n",
       "      <td>BV ĐK Sài Gòn - Quận 1 - HCM</td>\n",
       "      <td>NaN</td>\n",
       "      <td>NaN</td>\n",
       "      <td>17/12: DS Mơ đã gửi chứng từ lên cho phòng KT,...</td>\n",
       "      <td>22/12: KTT muốn tách biên bản T11/2020 thành 4...</td>\n",
       "      <td>NaN</td>\n",
       "    </tr>\n",
       "    <tr>\n",
       "      <th>2</th>\n",
       "      <td>2</td>\n",
       "      <td>M0204002</td>\n",
       "      <td>BV Quận 2 - Quận 2 - HCM</td>\n",
       "      <td>NaN</td>\n",
       "      <td>10/12: CS gửi đầy đủ chứng từ cho anh Thanh, K...</td>\n",
       "      <td>0</td>\n",
       "      <td>NaN</td>\n",
       "      <td>NaN</td>\n",
       "    </tr>\n",
       "    <tr>\n",
       "      <th>3</th>\n",
       "      <td>3</td>\n",
       "      <td>M0313001</td>\n",
       "      <td>NT BV Tai Mũi Họng - Quận 3 - HCM</td>\n",
       "      <td>NaN</td>\n",
       "      <td>2/12: KT Nhanh 0908841088: đã đi ngân hàng các...</td>\n",
       "      <td>0</td>\n",
       "      <td>22/12: KT Nhanh 0908841088: cuối năm đang bận ...</td>\n",
       "      <td>31/12: KT Thanh đã đúng hẹn, thanh toán hết nợ...</td>\n",
       "    </tr>\n",
       "    <tr>\n",
       "      <th>4</th>\n",
       "      <td>4</td>\n",
       "      <td>M031402</td>\n",
       "      <td>TTYT Quận 3 - Quận 3 - HCM (BV Quận 3 cũ)</td>\n",
       "      <td>NaN</td>\n",
       "      <td>NaN</td>\n",
       "      <td>0</td>\n",
       "      <td>23/12: PBH gặp KKT Oanh 097 6593466 đối chiếu,...</td>\n",
       "      <td>NaN</td>\n",
       "    </tr>\n",
       "    <tr>\n",
       "      <th>...</th>\n",
       "      <td>...</td>\n",
       "      <td>...</td>\n",
       "      <td>...</td>\n",
       "      <td>...</td>\n",
       "      <td>...</td>\n",
       "      <td>...</td>\n",
       "      <td>...</td>\n",
       "      <td>...</td>\n",
       "    </tr>\n",
       "    <tr>\n",
       "      <th>88</th>\n",
       "      <td>88</td>\n",
       "      <td>N02210008</td>\n",
       "      <td>TTYT Bù Gia Mập - Bình Phước</td>\n",
       "      <td>NaN</td>\n",
       "      <td>0</td>\n",
       "      <td>NaN</td>\n",
       "      <td>21/12: Ms Loan (KT) phản hồi đã nhận được chứn...</td>\n",
       "      <td>0</td>\n",
       "    </tr>\n",
       "    <tr>\n",
       "      <th>89</th>\n",
       "      <td>89</td>\n",
       "      <td>M010701</td>\n",
       "      <td>NT BV Phụ Sản Từ Dũ - Quận 1 - HCM</td>\n",
       "      <td>NaN</td>\n",
       "      <td>10/12: đã thanh toán hết nợ qá hạn</td>\n",
       "      <td>0</td>\n",
       "      <td>NaN</td>\n",
       "      <td>NaN</td>\n",
       "    </tr>\n",
       "    <tr>\n",
       "      <th>90</th>\n",
       "      <td>90</td>\n",
       "      <td>N02210033</td>\n",
       "      <td>PKNK Việt Mỹ - Bình Phước</td>\n",
       "      <td>NaN</td>\n",
       "      <td>0</td>\n",
       "      <td>NaN</td>\n",
       "      <td>KH đã thanh toán nợ quá hạn (3.999.996)</td>\n",
       "      <td>0</td>\n",
       "    </tr>\n",
       "    <tr>\n",
       "      <th>91</th>\n",
       "      <td>91</td>\n",
       "      <td>M051402</td>\n",
       "      <td>BV Hïng V­¬ng</td>\n",
       "      <td>NaN</td>\n",
       "      <td>8/12: KT Hảo 028 3855 8532 (line 6140): đã hoà...</td>\n",
       "      <td>0</td>\n",
       "      <td>NaN</td>\n",
       "      <td>NaN</td>\n",
       "    </tr>\n",
       "    <tr>\n",
       "      <th>92</th>\n",
       "      <td>92</td>\n",
       "      <td>000680</td>\n",
       "      <td>NT C«ng Ty Cæ PhÇn BÖnh ViÖn §a Khoa Quèc TÕ H...</td>\n",
       "      <td>NaN</td>\n",
       "      <td>9/12: DS Trường đã nhắc kế toán thanh toán hóa...</td>\n",
       "      <td>17/12: KH đã thanh toán hết nợ qá hạn</td>\n",
       "      <td>NaN</td>\n",
       "      <td>NaN</td>\n",
       "    </tr>\n",
       "  </tbody>\n",
       "</table>\n",
       "<p>93 rows × 8 columns</p>\n",
       "</div>"
      ],
      "text/plain": [
       "    Unnamed: 0    CODE KH                                             TEN KH  \\\n",
       "0            0   M0103001                    NT BV Nhi Đồng 2 - Quận 1 - HCM   \n",
       "1            1    M011301                       BV ĐK Sài Gòn - Quận 1 - HCM   \n",
       "2            2   M0204002                           BV Quận 2 - Quận 2 - HCM   \n",
       "3            3   M0313001                  NT BV Tai Mũi Họng - Quận 3 - HCM   \n",
       "4            4    M031402          TTYT Quận 3 - Quận 3 - HCM (BV Quận 3 cũ)   \n",
       "..         ...        ...                                                ...   \n",
       "88          88  N02210008                       TTYT Bù Gia Mập - Bình Phước   \n",
       "89          89    M010701                 NT BV Phụ Sản Từ Dũ - Quận 1 - HCM   \n",
       "90          90  N02210033                          PKNK Việt Mỹ - Bình Phước   \n",
       "91          91    M051402                                      BV Hïng V­¬ng   \n",
       "92          92     000680  NT C«ng Ty Cæ PhÇn BÖnh ViÖn §a Khoa Quèc TÕ H...   \n",
       "\n",
       "   Giải pháp                                              T4 W1  \\\n",
       "0        NaN                                                NaN   \n",
       "1        NaN                                                NaN   \n",
       "2        NaN  10/12: CS gửi đầy đủ chứng từ cho anh Thanh, K...   \n",
       "3        NaN  2/12: KT Nhanh 0908841088: đã đi ngân hàng các...   \n",
       "4        NaN                                                NaN   \n",
       "..       ...                                                ...   \n",
       "88       NaN                                                  0   \n",
       "89       NaN                 10/12: đã thanh toán hết nợ qá hạn   \n",
       "90       NaN                                                  0   \n",
       "91       NaN  8/12: KT Hảo 028 3855 8532 (line 6140): đã hoà...   \n",
       "92       NaN  9/12: DS Trường đã nhắc kế toán thanh toán hóa...   \n",
       "\n",
       "                                                T4 W2  \\\n",
       "0                                                   0   \n",
       "1   17/12: DS Mơ đã gửi chứng từ lên cho phòng KT,...   \n",
       "2                                                   0   \n",
       "3                                                   0   \n",
       "4                                                   0   \n",
       "..                                                ...   \n",
       "88                                                NaN   \n",
       "89                                                  0   \n",
       "90                                                NaN   \n",
       "91                                                  0   \n",
       "92              17/12: KH đã thanh toán hết nợ qá hạn   \n",
       "\n",
       "                                                T4 W3  \\\n",
       "0   21/12: KTCN Công 028 3829 5723: đã nhận thông ...   \n",
       "1   22/12: KTT muốn tách biên bản T11/2020 thành 4...   \n",
       "2                                                 NaN   \n",
       "3   22/12: KT Nhanh 0908841088: cuối năm đang bận ...   \n",
       "4   23/12: PBH gặp KKT Oanh 097 6593466 đối chiếu,...   \n",
       "..                                                ...   \n",
       "88  21/12: Ms Loan (KT) phản hồi đã nhận được chứn...   \n",
       "89                                                NaN   \n",
       "90            KH đã thanh toán nợ quá hạn (3.999.996)   \n",
       "91                                                NaN   \n",
       "92                                                NaN   \n",
       "\n",
       "                                                T4 W4  \n",
       "0                                                 NaN  \n",
       "1                                                 NaN  \n",
       "2                                                 NaN  \n",
       "3   31/12: KT Thanh đã đúng hẹn, thanh toán hết nợ...  \n",
       "4                                                 NaN  \n",
       "..                                                ...  \n",
       "88                                                  0  \n",
       "89                                                NaN  \n",
       "90                                                  0  \n",
       "91                                                NaN  \n",
       "92                                                NaN  \n",
       "\n",
       "[93 rows x 8 columns]"
      ]
     },
     "execution_count": 9,
     "metadata": {},
     "output_type": "execute_result"
    }
   ],
   "source": [
    "# pd.read_csv(\"https://storage.googleapis.com/django_bucket_biteam/admin/duy.csv\")"
   ]
  },
  {
   "cell_type": "code",
   "execution_count": 4,
   "metadata": {},
   "outputs": [],
   "source": [
    "bucket = client.get_bucket(\"django_bucket_biteam\")"
   ]
  },
  {
   "cell_type": "code",
   "execution_count": 10,
   "metadata": {},
   "outputs": [],
   "source": [
    "blob = bucket.blob(\"admin/duy.csv\")"
   ]
  },
  {
   "cell_type": "code",
   "execution_count": 6,
   "metadata": {},
   "outputs": [
    {
     "ename": "NameError",
     "evalue": "name 'blob' is not defined",
     "output_type": "error",
     "traceback": [
      "\u001b[1;31m---------------------------------------------------------------------------\u001b[0m",
      "\u001b[1;31mNameError\u001b[0m                                 Traceback (most recent call last)",
      "\u001b[1;32md:\\ipython_file\\gsheets\\gsheet.ipynb Cell 6\u001b[0m in \u001b[0;36m<cell line: 1>\u001b[1;34m()\u001b[0m\n\u001b[1;32m----> <a href='vscode-notebook-cell:/d%3A/ipython_file/gsheets/gsheet.ipynb#X46sZmlsZQ%3D%3D?line=0'>1</a>\u001b[0m blob\u001b[39m.\u001b[39mupload_from_string(HCM\u001b[39m.\u001b[39mto_csv(), \u001b[39m'\u001b[39m\u001b[39mtext/csv\u001b[39m\u001b[39m'\u001b[39m)\n",
      "\u001b[1;31mNameError\u001b[0m: name 'blob' is not defined"
     ]
    }
   ],
   "source": [
    "blob.upload_from_string(HCM.to_csv(), 'text/csv')"
   ]
  },
  {
   "cell_type": "code",
   "execution_count": null,
   "metadata": {},
   "outputs": [],
   "source": [
    "blob.upload_from_string()"
   ]
  },
  {
   "cell_type": "code",
   "execution_count": 4,
   "metadata": {},
   "outputs": [],
   "source": [
    "CANTHO_URL = 'https://docs.google.com/spreadsheets/d/e/2PACX-1vQ14feQXGyDq2fz-bXWUc0M3JBjMqVaODz-oynx8polZ2PVFpUzywva_SyQHUl9SOdjAGluFC8hcBTd/pub?gid=0&single=true&output=csv'\n",
    "DANANG_URL = 'https://docs.google.com/spreadsheets/d/e/2PACX-1vRtCp6WUTZZqdB58qwj-U4D96lX_bLYaycTLfs9KzHB9AjEdca5Nze9_RCTckpb3oHajFNZQU22hMcl/pub?gid=0&single=true&output=csv'\n",
    "DONGNAI_URL = 'https://docs.google.com/spreadsheets/d/e/2PACX-1vTrJr0oT1ecunKAJax724z6Bbp00A3oFDXhmP8IjY-d22AMEv41GOR9wPOtqCHo3CUaguBlN2BdKt20/pub?gid=0&single=true&output=csv'\n",
    "HCM_URL = 'https://docs.google.com/spreadsheets/d/e/2PACX-1vS1kl9m9UjXsOKFexUxdqh362B764_400AAkcmwnVKp_0Vmzh-d9fc3aS-GgKvTOpsIQ5_MSJYBoba_/pub?gid=0&single=true&output=csv'\n",
    "HN_URL = 'https://docs.google.com/spreadsheets/d/e/2PACX-1vSzDM0zpkG3s1DdLPNm6s9PH8P1eLeGt-i3KNoajBcErt-wJEfk7xQ83NDJsW0OwqZi_QBc_Vym2LEl/pub?gid=0&single=true&output=csv'\n",
    "KHANHHOA_URL = 'https://docs.google.com/spreadsheets/d/e/2PACX-1vSpD3yYDNhV9iuHdBUN98s9nQef1ISxlP4uDw5-CKF8vx2ZzYIyb8ZRSwDEHIOLRyV-DXs85-lwOkTd/pub?gid=0&single=true&output=csv'\n",
    "NGHEAN_URL = 'https://docs.google.com/spreadsheets/d/e/2PACX-1vQWLU2Ay0f2AqozDuM1uUaqLtqCczzju0s26k6NQVCW5vAvjFy5c9ZlouMuBwdL07SnrQFURxcjjV2g/pub?gid=0&single=true&output=csv'\n",
    "QUOCQUANG_URL = 'https://docs.google.com/spreadsheets/d/e/2PACX-1vSV9qglEc2gmvOFzVHIxpvA9f5x3kvBirSW7lHjeMRE-bfW8nuWChi9wLwTJGtF5xCp4hEHp91xPCtl/pub?gid=0&single=true&output=csv'\n",
    "TANKHA_URL = 'https://docs.google.com/spreadsheets/d/e/2PACX-1vQPttJ34dHuSIJ9kK6Q2PNV3NzZJzoY0RxcmxOEU_0HGh7Wx1ZFwiwfQEvT1A4H7yPwrkBeZU02a1rW/pub?gid=0&single=true&output=csv'"
   ]
  },
  {
   "cell_type": "code",
   "execution_count": 5,
   "metadata": {},
   "outputs": [],
   "source": [
    "HCM = pd.read_csv(HCM_URL)"
   ]
  },
  {
   "cell_type": "code",
   "execution_count": 7,
   "metadata": {},
   "outputs": [],
   "source": [
    "CANTHO = pd.read_csv(CANTHO_URL)\n",
    "DANANG = pd.read_csv(DANANG_URL)\n",
    "DONGNAI = pd.read_csv(DONGNAI_URL)\n",
    "HCM = pd.read_csv(HCM_URL)\n",
    "HN = pd.read_csv(HN_URL)\n",
    "KHANHHOA = pd.read_csv(KHANHHOA_URL)\n",
    "NGHEAN = pd.read_csv(NGHEAN_URL)\n",
    "QUOCQUANG = pd.read_csv(QUOCQUANG_URL)\n",
    "TANKHA = pd.read_csv(TANKHA_URL)"
   ]
  },
  {
   "cell_type": "code",
   "execution_count": 3,
   "metadata": {},
   "outputs": [
    {
     "ename": "NameError",
     "evalue": "name 'HCM' is not defined",
     "output_type": "error",
     "traceback": [
      "\u001b[1;31m---------------------------------------------------------------------------\u001b[0m",
      "\u001b[1;31mNameError\u001b[0m                                 Traceback (most recent call last)",
      "\u001b[1;32md:\\ipython_file\\gsheets\\gsheet.ipynb Cell 11\u001b[0m in \u001b[0;36m<cell line: 1>\u001b[1;34m()\u001b[0m\n\u001b[1;32m----> <a href='vscode-notebook-cell:/d%3A/ipython_file/gsheets/gsheet.ipynb#X50sZmlsZQ%3D%3D?line=0'>1</a>\u001b[0m HCM\u001b[39m.\u001b[39mhead()\n",
      "\u001b[1;31mNameError\u001b[0m: name 'HCM' is not defined"
     ]
    }
   ],
   "source": [
    "HCM.head()"
   ]
  },
  {
   "cell_type": "code",
   "execution_count": 25,
   "metadata": {},
   "outputs": [],
   "source": [
    "df_all = union_all([CANTHO,DANANG,DONGNAI,HCM,HN,KHANHHOA,NGHEAN,QUOCQUANG,TANKHA])"
   ]
  },
  {
   "cell_type": "code",
   "execution_count": 6,
   "metadata": {},
   "outputs": [],
   "source": [
    "df_all.to_csv('abc.csv')"
   ]
  },
  {
   "cell_type": "code",
   "execution_count": 26,
   "metadata": {},
   "outputs": [],
   "source": [
    "df_all.columns = cleancols(df_all)"
   ]
  },
  {
   "cell_type": "code",
   "execution_count": 27,
   "metadata": {},
   "outputs": [],
   "source": [
    "df_all.columns = lower_col(df_all)"
   ]
  },
  {
   "cell_type": "code",
   "execution_count": 28,
   "metadata": {},
   "outputs": [
    {
     "data": {
      "text/plain": [
       "Index(['codekh', 'tenkh', 'giaiphap', 't4w1', 't4w2', 't4w3', 't4w4', 'tinh'], dtype='object')"
      ]
     },
     "execution_count": 28,
     "metadata": {},
     "output_type": "execute_result"
    }
   ],
   "source": [
    "df_all.columns"
   ]
  },
  {
   "cell_type": "code",
   "execution_count": 29,
   "metadata": {},
   "outputs": [],
   "source": [
    "# df_all1 = df_filter(df_all, codekh='000146').copy()"
   ]
  },
  {
   "cell_type": "code",
   "execution_count": 30,
   "metadata": {},
   "outputs": [],
   "source": [
    "# df_all1"
   ]
  },
  {
   "cell_type": "code",
   "execution_count": 31,
   "metadata": {},
   "outputs": [],
   "source": [
    "# df_all1['t4w4']==np.NAN"
   ]
  },
  {
   "cell_type": "code",
   "execution_count": 32,
   "metadata": {},
   "outputs": [],
   "source": [
    "# df_all1['thongtinthanhtoangannhat'] = \\\n",
    "#     np.where(df_all1['t4w4'].isna(), df_all1['t4w3'], \"OK\")"
   ]
  },
  {
   "cell_type": "code",
   "execution_count": 33,
   "metadata": {},
   "outputs": [],
   "source": [
    "# df_all1['thongtinthanhtoangannhat']"
   ]
  },
  {
   "cell_type": "code",
   "execution_count": 34,
   "metadata": {},
   "outputs": [
    {
     "data": {
      "text/plain": [
       "Index(['codekh', 'tenkh', 'giaiphap', 't4w1', 't4w2', 't4w3', 't4w4', 'tinh'], dtype='object')"
      ]
     },
     "execution_count": 34,
     "metadata": {},
     "output_type": "execute_result"
    }
   ],
   "source": [
    "df_all.columns"
   ]
  },
  {
   "cell_type": "code",
   "execution_count": 44,
   "metadata": {},
   "outputs": [],
   "source": [
    "dk1 = df_all.codekh == 'N06202285'"
   ]
  },
  {
   "cell_type": "code",
   "execution_count": 45,
   "metadata": {},
   "outputs": [
    {
     "data": {
      "text/html": [
       "<div>\n",
       "<style scoped>\n",
       "    .dataframe tbody tr th:only-of-type {\n",
       "        vertical-align: middle;\n",
       "    }\n",
       "\n",
       "    .dataframe tbody tr th {\n",
       "        vertical-align: top;\n",
       "    }\n",
       "\n",
       "    .dataframe thead th {\n",
       "        text-align: right;\n",
       "    }\n",
       "</style>\n",
       "<table border=\"1\" class=\"dataframe\">\n",
       "  <thead>\n",
       "    <tr style=\"text-align: right;\">\n",
       "      <th></th>\n",
       "      <th>codekh</th>\n",
       "      <th>tenkh</th>\n",
       "      <th>giaiphap</th>\n",
       "      <th>t4w1</th>\n",
       "      <th>t4w2</th>\n",
       "      <th>t4w3</th>\n",
       "      <th>t4w4</th>\n",
       "      <th>tinh</th>\n",
       "      <th>thongtinthanhtoangannhat</th>\n",
       "    </tr>\n",
       "  </thead>\n",
       "  <tbody>\n",
       "    <tr>\n",
       "      <th>1614</th>\n",
       "      <td>N06202285</td>\n",
       "      <td>Công Ty CP Dược &amp; VTYT Bình Thuận - Phan Thiết...</td>\n",
       "      <td>Gọi chị Nga nhắc thanh toán</td>\n",
       "      <td>NaN</td>\n",
       "      <td>Ngày 15/12 : C Loan nói để qua tuần chị xem là...</td>\n",
       "      <td>Ngày 23/12 : c Loan báo đã chuyển 7.6tr công n...</td>\n",
       "      <td>NaN</td>\n",
       "      <td>NaN</td>\n",
       "      <td>Ngày 23/12 : c Loan báo đã chuyển 7.6tr công n...</td>\n",
       "    </tr>\n",
       "  </tbody>\n",
       "</table>\n",
       "</div>"
      ],
      "text/plain": [
       "         codekh                                              tenkh  \\\n",
       "1614  N06202285  Công Ty CP Dược & VTYT Bình Thuận - Phan Thiết...   \n",
       "\n",
       "                         giaiphap t4w1  \\\n",
       "1614  Gọi chị Nga nhắc thanh toán  NaN   \n",
       "\n",
       "                                                   t4w2  \\\n",
       "1614  Ngày 15/12 : C Loan nói để qua tuần chị xem là...   \n",
       "\n",
       "                                                   t4w3 t4w4 tinh  \\\n",
       "1614  Ngày 23/12 : c Loan báo đã chuyển 7.6tr công n...  NaN  NaN   \n",
       "\n",
       "                               thongtinthanhtoangannhat  \n",
       "1614  Ngày 23/12 : c Loan báo đã chuyển 7.6tr công n...  "
      ]
     },
     "execution_count": 45,
     "metadata": {},
     "output_type": "execute_result"
    }
   ],
   "source": [
    "df_all[dk1]"
   ]
  },
  {
   "cell_type": "code",
   "execution_count": 46,
   "metadata": {},
   "outputs": [],
   "source": [
    "df_all['thongtinthanhtoangannhat'] = \\\n",
    "    np.where(df_all['t4w4'].notna(), df_all['t4w4'], \\\n",
    "        np.where(df_all['t4w3'].notna(), df_all['t4w3'], \\\n",
    "            np.where(df_all['t4w2'].notna(), df_all['t4w2'], \\\n",
    "                np.where(df_all['t4w1'].notna(), df_all['t4w1'], \"\"\n",
    "    ))))"
   ]
  },
  {
   "cell_type": "code",
   "execution_count": null,
   "metadata": {},
   "outputs": [],
   "source": []
  },
  {
   "cell_type": "code",
   "execution_count": 16,
   "metadata": {},
   "outputs": [],
   "source": [
    "# vc(df_all, 'thongtinthanhtoangannhat')"
   ]
  },
  {
   "cell_type": "code",
   "execution_count": 47,
   "metadata": {},
   "outputs": [],
   "source": [
    "ctr1 = df_all['giaiphap'].notna()\n",
    "ctr2 = df_all['thongtinthanhtoangannhat'].notna()"
   ]
  },
  {
   "cell_type": "code",
   "execution_count": 48,
   "metadata": {},
   "outputs": [],
   "source": [
    "FINAL = df_all[ctr1 | ctr2][['codekh','tenkh','giaiphap','thongtinthanhtoangannhat']].copy()"
   ]
  },
  {
   "cell_type": "code",
   "execution_count": 49,
   "metadata": {},
   "outputs": [],
   "source": [
    "del(df_all)"
   ]
  },
  {
   "cell_type": "code",
   "execution_count": 50,
   "metadata": {},
   "outputs": [],
   "source": [
    "col_name = ['makhcu', 'tenkh', 'giaiphap', 'thongtinthanhtoangannhat']"
   ]
  },
  {
   "cell_type": "code",
   "execution_count": 51,
   "metadata": {},
   "outputs": [],
   "source": [
    "FINAL.columns = col_name"
   ]
  },
  {
   "cell_type": "code",
   "execution_count": 52,
   "metadata": {},
   "outputs": [],
   "source": [
    "FINAL = dropdup(FINAL, 1, subset=['makhcu'])"
   ]
  },
  {
   "cell_type": "code",
   "execution_count": 53,
   "metadata": {},
   "outputs": [],
   "source": [
    "commit_psql(\"truncate table d_tttt cascade;\")"
   ]
  },
  {
   "cell_type": "code",
   "execution_count": 54,
   "metadata": {},
   "outputs": [
    {
     "name": "stdout",
     "output_type": "stream",
     "text": [
      "Data inserted using execute_values() successfully..\n"
     ]
    }
   ],
   "source": [
    "execute_values_insert(FINAL, \"d_tttt\")"
   ]
  },
  {
   "cell_type": "code",
   "execution_count": null,
   "metadata": {},
   "outputs": [],
   "source": []
  },
  {
   "cell_type": "code",
   "execution_count": null,
   "metadata": {},
   "outputs": [],
   "source": []
  }
 ],
 "metadata": {
  "kernelspec": {
   "display_name": "Python 3.8.10 ('venv': venv)",
   "language": "python",
   "name": "python3"
  },
  "language_info": {
   "codemirror_mode": {
    "name": "ipython",
    "version": 3
   },
   "file_extension": ".py",
   "mimetype": "text/x-python",
   "name": "python",
   "nbconvert_exporter": "python",
   "pygments_lexer": "ipython3",
   "version": "3.8.10"
  },
  "orig_nbformat": 4,
  "vscode": {
   "interpreter": {
    "hash": "8fb55849e6741974ce442ee684e971e1b6b22c29ca2b25c3b9069bf531e0354a"
   }
  }
 },
 "nbformat": 4,
 "nbformat_minor": 2
}
