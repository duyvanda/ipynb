{
 "cells": [
  {
   "cell_type": "code",
   "execution_count": 8,
   "id": "7451df47",
   "metadata": {},
   "outputs": [],
   "source": [
    "import os\n",
    "from google.oauth2 import service_account\n",
    "from googleapiclient import discovery\n",
    "from googleapiclient.http import MediaFileUpload\n",
    "import pandas as pd"
   ]
  },
  {
   "cell_type": "code",
   "execution_count": 1,
   "id": "4ad7073d",
   "metadata": {},
   "outputs": [],
   "source": [
    "from datetime import datetime"
   ]
  },
  {
   "cell_type": "code",
   "execution_count": 2,
   "id": "be65b29a",
   "metadata": {},
   "outputs": [],
   "source": [
    "now = datetime.now()"
   ]
  },
  {
   "cell_type": "code",
   "execution_count": 3,
   "id": "e4c8be47",
   "metadata": {},
   "outputs": [
    {
     "data": {
      "text/plain": [
       "datetime.datetime(2021, 6, 25, 8, 15, 7, 789395)"
      ]
     },
     "execution_count": 3,
     "metadata": {},
     "output_type": "execute_result"
    }
   ],
   "source": [
    "now"
   ]
  },
  {
   "cell_type": "code",
   "execution_count": 8,
   "id": "e5649f45",
   "metadata": {},
   "outputs": [
    {
     "name": "stdout",
     "output_type": "stream",
     "text": [
      "now 2021-06-25 08:15:07.789395\n"
     ]
    }
   ],
   "source": [
    "print('now %s'%now)"
   ]
  },
  {
   "cell_type": "code",
   "execution_count": null,
   "id": "94eb3d2a",
   "metadata": {},
   "outputs": [],
   "source": [
    "C:/Users/DELL/Downloads/Documents/ipython_file"
   ]
  },
  {
   "cell_type": "code",
   "execution_count": 3,
   "id": "66bd883b",
   "metadata": {},
   "outputs": [],
   "source": [
    "import pandas as pd"
   ]
  },
  {
   "cell_type": "code",
   "execution_count": 17,
   "id": "cf482dd3",
   "metadata": {},
   "outputs": [],
   "source": [
    "df = pd.read_excel(\"C:/Users/DELL/Downloads/Documents/ipython_file/Rawdata Doanh Số Chi Tiết (Tính Lương) (3).Xlsb\", engine='pyxlsb')"
   ]
  },
  {
   "cell_type": "code",
   "execution_count": 18,
   "id": "0a79d7df",
   "metadata": {},
   "outputs": [],
   "source": [
    "df.to_csv(\"raw_data.csv\",index = False)"
   ]
  },
  {
   "cell_type": "code",
   "execution_count": 19,
   "id": "13cd8b9d",
   "metadata": {},
   "outputs": [],
   "source": [
    "scopes = ['https://www.googleapis.com/auth/spreadsheets','https://www.googleapis.com/auth/drive','https://www.googleapis.com/auth/drive.file']\n",
    "jsonfile = 'C:/Users/DELL/Downloads/Documents/ipython_file/datateam1599968716114-6f9f144b4262.json'\n",
    "credentials = service_account.Credentials.from_service_account_file(jsonfile, scopes = scopes)\n",
    "service = discovery.build('drive','v3',credentials = credentials)"
   ]
  },
  {
   "cell_type": "code",
   "execution_count": 20,
   "id": "24d4ba5e",
   "metadata": {},
   "outputs": [],
   "source": [
    "folder_id = '1nTlohjovIm7e2pf2LSHf3wGnyuuStGbh'\n",
    "file_name = 'raw_data.csv'\n",
    "file_type = 'text/csv'\n",
    "file_body={'name':file_name,'addParents':[folder_id]}\n",
    "#create file_body={'name':file_name,'Parents':[folder_id]}"
   ]
  },
  {
   "cell_type": "code",
   "execution_count": 21,
   "id": "e786316a",
   "metadata": {},
   "outputs": [
    {
     "data": {
      "text/plain": [
       "'1mwy3WmRATps0t36_kesuEY8Thbi4XgzW'"
      ]
     },
     "execution_count": 21,
     "metadata": {},
     "output_type": "execute_result"
    }
   ],
   "source": [
    "query = f\"parents = '{folder_id}'\"\n",
    "files = service.files().list(q=query).execute()\n",
    "fileid  = files['files'][0]['id']\n",
    "fileid"
   ]
  },
  {
   "cell_type": "code",
   "execution_count": 22,
   "id": "7ffe3fdd",
   "metadata": {
    "scrolled": true
   },
   "outputs": [],
   "source": [
    "media = MediaFileUpload('{0}'.format(file_name), mimetype=file_type)"
   ]
  },
  {
   "cell_type": "code",
   "execution_count": 23,
   "id": "e23df0be",
   "metadata": {},
   "outputs": [],
   "source": [
    "updated_file = service.files().update(\n",
    "    fileId=fileid,\n",
    "    body=file_body,\n",
    "    media_body=media).execute()"
   ]
  },
  {
   "cell_type": "markdown",
   "id": "32e1416c",
   "metadata": {
    "scrolled": true
   },
   "source": [
    "service.files().create(body={'name':file_name,\n",
    "                            'parents':[folder_id]},\n",
    "                      media_body=media,\n",
    "                      fields='id').execute()"
   ]
  },
  {
   "cell_type": "code",
   "execution_count": 46,
   "id": "8978479e",
   "metadata": {},
   "outputs": [],
   "source": [
    "file_id = '1YAi1S6Izw3lURvSdrwAx6dc7Bw2bL3kZ'"
   ]
  },
  {
   "cell_type": "markdown",
   "id": "01d3bfbb",
   "metadata": {},
   "source": [
    "file = service.files().gets(fileId).execute()"
   ]
  },
  {
   "cell_type": "code",
   "execution_count": 99,
   "id": "85039898",
   "metadata": {},
   "outputs": [],
   "source": [
    "fileid='1PiJc4sagVjyYPkKhk-i6XwIpcOhwiQ3T'"
   ]
  },
  {
   "cell_type": "code",
   "execution_count": 122,
   "id": "32a348f5",
   "metadata": {},
   "outputs": [],
   "source": [
    "query = f\"parents = '{folder_id}'\""
   ]
  },
  {
   "cell_type": "code",
   "execution_count": 123,
   "id": "aae95b52",
   "metadata": {},
   "outputs": [],
   "source": [
    "files = service.files().list(q=query).execute()"
   ]
  },
  {
   "cell_type": "code",
   "execution_count": 124,
   "id": "fa221e1f",
   "metadata": {},
   "outputs": [],
   "source": [
    "fileid  = files['files'][0]['id']"
   ]
  },
  {
   "cell_type": "code",
   "execution_count": 125,
   "id": "ce9a77f2",
   "metadata": {},
   "outputs": [
    {
     "data": {
      "text/plain": [
       "'1iAs7NL3RSn5KVVU1F352QaP6Cbg0xl7L'"
      ]
     },
     "execution_count": 125,
     "metadata": {},
     "output_type": "execute_result"
    }
   ],
   "source": [
    "id"
   ]
  },
  {
   "cell_type": "code",
   "execution_count": 126,
   "id": "cc5c68e1",
   "metadata": {},
   "outputs": [
    {
     "data": {
      "text/plain": [
       "''"
      ]
     },
     "execution_count": 126,
     "metadata": {},
     "output_type": "execute_result"
    }
   ],
   "source": [
    "service.files().delete(fileId=fileid).execute()"
   ]
  },
  {
   "cell_type": "code",
   "execution_count": 105,
   "id": "9d071f78",
   "metadata": {},
   "outputs": [
    {
     "name": "stdout",
     "output_type": "stream",
     "text": [
      "{'kind': 'drive#file', 'id': '1eE1YXGsq0vLo2SuvyNfAOeIIkKRa3y1RzuX9dR51m14', 'name': 'Supply Chain Team - Master File', 'mimeType': 'application/vnd.google-apps.spreadsheet'}\n",
      "{'kind': 'drive#file', 'id': '1Jfmu7w-CJ0pI9d2edgb6oItjFkg3EMFx', 'name': 'raw_data.csv', 'mimeType': 'text/csv'}\n",
      "{'kind': 'drive#file', 'id': '1IfBQZhOfR9FyNFtE5MZT-69UmESCXXaD', 'name': './raw_data.csv', 'mimeType': 'text/csv'}\n",
      "{'kind': 'drive#file', 'id': '1ClX5keUKJC_XkGZTwxkO_sVi5R2160c7', 'name': './raw_data.csv', 'mimeType': 'text/csv'}\n",
      "{'kind': 'drive#file', 'id': '1qEwviiJcAtvWCLvc-5AXOgidaeHMsi2RWWIKiUehabI', 'name': 'data', 'mimeType': 'application/vnd.google-apps.spreadsheet'}\n",
      "{'kind': 'drive#file', 'id': '1nTlohjovIm7e2pf2LSHf3wGnyuuStGbh', 'name': 'sales_data', 'mimeType': 'application/vnd.google-apps.folder'}\n",
      "{'kind': 'drive#file', 'id': '1iAs7NL3RSn5KVVU1F352QaP6Cbg0xl7L', 'name': 'Rawdata Doanh Số Chi Tiết (Tính Lương)xl.xlsx', 'mimeType': 'application/vnd.openxmlformats-officedocument.spreadsheetml.sheet'}\n",
      "{'kind': 'drive#file', 'id': '1rTrDa0EXMtQe6WMSMQ_aqKxhbi8lh9pqWOkj_XQxBQA', 'name': 'Target data for BI', 'mimeType': 'application/vnd.google-apps.spreadsheet'}\n",
      "{'kind': 'drive#file', 'id': '12ya1XtMWjD68ZgyW8-9Ufxur89KFijydCYBuBNMzRuw', 'name': 'Deal_Tracker', 'mimeType': 'application/vnd.google-apps.spreadsheet'}\n",
      "{'kind': 'drive#file', 'id': '15jVqBtv6PeiIyOu3bWvkDYsvKelYksE50g5JEChdbfM', 'name': 'Demand and Supply Planning 05/2021', 'mimeType': 'application/vnd.google-apps.spreadsheet'}\n",
      "{'kind': 'drive#file', 'id': '1CvwQx1o3ZZPuMBMAm3uCPVI8EOx2qyr0eT8EnQ_YJ7o', 'name': 'ALL CQM BI (W50.2020 - W14.2021 )', 'mimeType': 'application/vnd.google-apps.spreadsheet'}\n",
      "{'kind': 'drive#file', 'id': '1xPQUMNsQ_74bdE8VW_Z4IGgquDYH8v5RXeAHeh7Ft_0', 'name': 'Demand and Supply Planning 04/2021', 'mimeType': 'application/vnd.google-apps.spreadsheet'}\n",
      "{'kind': 'drive#file', 'id': '1Pl-GXMsB_RxdG5nJvhh3pSGFV6PcH0fU-1O2Gtc0e0I', 'name': '[11.11] Mega CP_OnPoint', 'mimeType': 'application/vnd.google-apps.spreadsheet'}\n",
      "{'kind': 'drive#file', 'id': '1eXF9zHokZTiREYFLIKwvRHMLFhQ6dvP9csBzs9TDLOQ', 'name': 'Weekly Inventory Report - 301120', 'mimeType': 'application/vnd.google-apps.spreadsheet'}\n",
      "{'kind': 'drive#file', 'id': '1GCQTIViAOvRyZYWP_T4-UxHwmxYeZfOxgKMMTNIWhhs', 'name': 'Tracking by hour', 'mimeType': 'application/vnd.google-apps.spreadsheet'}\n",
      "{'kind': 'drive#file', 'id': '122JgRKZUx3FYMzO6A3Wrk9lPJaj-k_QurWbdcCrP7zI', 'name': 'DATA INPUT_T7', 'mimeType': 'application/vnd.google-apps.spreadsheet'}\n",
      "{'kind': 'drive#file', 'id': '15zCKJy9OO0ZnELj81naRAOQmDGhOB31iInWqis7vE3A', 'name': 'Weekly Inventory Report - 140920', 'mimeType': 'application/vnd.google-apps.spreadsheet'}\n"
     ]
    }
   ],
   "source": [
    "for file in files:\n",
    "    print(file)"
   ]
  },
  {
   "cell_type": "code",
   "execution_count": null,
   "id": "db7039c6",
   "metadata": {},
   "outputs": [],
   "source": []
  }
 ],
 "metadata": {
  "kernelspec": {
   "display_name": "Python 3",
   "language": "python",
   "name": "python3"
  },
  "language_info": {
   "codemirror_mode": {
    "name": "ipython",
    "version": 3
   },
   "file_extension": ".py",
   "mimetype": "text/x-python",
   "name": "python",
   "nbconvert_exporter": "python",
   "pygments_lexer": "ipython3",
   "version": "3.8.8"
  }
 },
 "nbformat": 4,
 "nbformat_minor": 5
}
