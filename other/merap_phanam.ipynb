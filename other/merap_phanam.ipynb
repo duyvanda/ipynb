{
 "cells": [
  {
   "cell_type": "code",
   "execution_count": 1,
   "id": "9af0b630",
   "metadata": {},
   "outputs": [],
   "source": [
    "import pandas as pd\n",
    "import numpy as np"
   ]
  },
  {
   "cell_type": "code",
   "execution_count": 2,
   "id": "e2a47975",
   "metadata": {},
   "outputs": [],
   "source": [
    "df = pd.read_excel('chinhanh.xlsx')"
   ]
  },
  {
   "cell_type": "code",
   "execution_count": 22,
   "id": "632a60f2",
   "metadata": {
    "scrolled": true
   },
   "outputs": [
    {
     "data": {
      "text/plain": [
       "0      VP PHA NAM\n",
       "1       VP HÀ NỘI\n",
       "2    VP HẢI PHÒNG\n",
       "3      VP NGHỆ AN\n",
       "4      VP ĐÀ NẴNG\n",
       "5    VP KHÁNH HÒA\n",
       "6     VP ĐỒNG NAI\n",
       "7      VP CẦN THƠ\n",
       "Name: Name, dtype: object"
      ]
     },
     "execution_count": 22,
     "metadata": {},
     "output_type": "execute_result"
    }
   ],
   "source": [
    "df['Name'].str.split(' ').apply(lambda x: x[-2:]).apply(lambda x: 'VP '+' '.join(x))"
   ]
  },
  {
   "cell_type": "code",
   "execution_count": 19,
   "id": "6a2efbdc",
   "metadata": {},
   "outputs": [
    {
     "ename": "TypeError",
     "evalue": "sequence item 0: expected str instance, list found",
     "output_type": "error",
     "traceback": [
      "\u001b[1;31m---------------------------------------------------------------------------\u001b[0m",
      "\u001b[1;31mTypeError\u001b[0m                                 Traceback (most recent call last)",
      "\u001b[1;32m<ipython-input-19-781af29361b5>\u001b[0m in \u001b[0;36m<module>\u001b[1;34m\u001b[0m\n\u001b[1;32m----> 1\u001b[1;33m \u001b[1;34m' '\u001b[0m\u001b[1;33m.\u001b[0m\u001b[0mjoin\u001b[0m\u001b[1;33m(\u001b[0m\u001b[0mdf\u001b[0m\u001b[1;33m[\u001b[0m\u001b[1;34m'Name'\u001b[0m\u001b[1;33m]\u001b[0m\u001b[1;33m.\u001b[0m\u001b[0mstr\u001b[0m\u001b[1;33m.\u001b[0m\u001b[0msplit\u001b[0m\u001b[1;33m(\u001b[0m\u001b[1;34m' '\u001b[0m\u001b[1;33m)\u001b[0m\u001b[1;33m.\u001b[0m\u001b[0mapply\u001b[0m\u001b[1;33m(\u001b[0m\u001b[1;32mlambda\u001b[0m \u001b[0mx\u001b[0m\u001b[1;33m:\u001b[0m \u001b[0mx\u001b[0m\u001b[1;33m[\u001b[0m\u001b[1;33m-\u001b[0m\u001b[1;36m2\u001b[0m\u001b[1;33m:\u001b[0m\u001b[1;33m]\u001b[0m\u001b[1;33m)\u001b[0m\u001b[1;33m.\u001b[0m\u001b[0mtolist\u001b[0m\u001b[1;33m(\u001b[0m\u001b[1;33m)\u001b[0m\u001b[1;33m)\u001b[0m\u001b[1;33m\u001b[0m\u001b[1;33m\u001b[0m\u001b[0m\n\u001b[0m",
      "\u001b[1;31mTypeError\u001b[0m: sequence item 0: expected str instance, list found"
     ]
    }
   ],
   "source": [
    "' '.join(df['Name'].str.split(' ').apply(lambda x: x[-2:]).tolist())"
   ]
  },
  {
   "cell_type": "code",
   "execution_count": null,
   "id": "cb10b5fa",
   "metadata": {},
   "outputs": [],
   "source": [
    "pd_df['difficulty'] = np.select(\n",
    "    [\n",
    "        pd_df['Time'].between(0, 30, inclusive=False), \n",
    "        pd_df['Time'].between(30, 60, inclusive=True)\n",
    "    ], \n",
    "    [\n",
    "        'Easy', \n",
    "        'Medium'\n",
    "    ], \n",
    "    default='Unknown'\n",
    ")"
   ]
  },
  {
   "cell_type": "code",
   "execution_count": null,
   "id": "66240b59",
   "metadata": {},
   "outputs": [],
   "source": [
    "pd_df = pd.read_excel('excel.xlsx')"
   ]
  },
  {
   "cell_type": "code",
   "execution_count": null,
   "id": "cdeaccbe",
   "metadata": {},
   "outputs": [],
   "source": [
    "x1 = np.array(pd_df['brand'])"
   ]
  },
  {
   "cell_type": "code",
   "execution_count": null,
   "id": "9764add9",
   "metadata": {},
   "outputs": [],
   "source": [
    "inlist = ['a','b']\n",
    "len(inlist)"
   ]
  },
  {
   "cell_type": "code",
   "execution_count": null,
   "id": "5f99ea31",
   "metadata": {},
   "outputs": [],
   "source": [
    "condlist = [np.isin(x1, inlist)]"
   ]
  },
  {
   "cell_type": "code",
   "execution_count": null,
   "id": "66b2a9f2",
   "metadata": {},
   "outputs": [],
   "source": [
    "choicelist = ['Pha Nam']"
   ]
  },
  {
   "cell_type": "code",
   "execution_count": null,
   "id": "c186d6fe",
   "metadata": {},
   "outputs": [],
   "source": [
    "default = 'Merap'"
   ]
  },
  {
   "cell_type": "code",
   "execution_count": null,
   "id": "87e9fccc",
   "metadata": {
    "scrolled": false
   },
   "outputs": [],
   "source": [
    "pd_df['difficulty'] = np.select(condlist,choicelist, default = default)"
   ]
  },
  {
   "cell_type": "code",
   "execution_count": null,
   "id": "05367540",
   "metadata": {},
   "outputs": [],
   "source": [
    "pd_df"
   ]
  },
  {
   "cell_type": "code",
   "execution_count": null,
   "id": "7c7e4480",
   "metadata": {},
   "outputs": [],
   "source": [
    "inlist = ['SNKR','SNKR-F','MRK','MRKF','MCT','BNTE','ETB','SATHOM','MTS','ALPHA']\n",
    "inlist"
   ]
  },
  {
   "cell_type": "code",
   "execution_count": null,
   "id": "732d3878",
   "metadata": {},
   "outputs": [],
   "source": [
    "x = np.array(df['TenSanPhamVietTat'])"
   ]
  },
  {
   "cell_type": "code",
   "execution_count": null,
   "id": "929b7113",
   "metadata": {},
   "outputs": [],
   "source": [
    "condlist = [np.isin(x, inlist)]"
   ]
  },
  {
   "cell_type": "code",
   "execution_count": null,
   "id": "9cb8c072",
   "metadata": {},
   "outputs": [],
   "source": [
    "choicelist = ['Pha Nam']"
   ]
  },
  {
   "cell_type": "code",
   "execution_count": null,
   "id": "ca016ada",
   "metadata": {},
   "outputs": [],
   "source": [
    "default = 'Merap'"
   ]
  },
  {
   "cell_type": "code",
   "execution_count": null,
   "id": "31cecb13",
   "metadata": {},
   "outputs": [],
   "source": [
    "df['Merap/PhaNam'] = np.select(condlist,choicelist, default = default)"
   ]
  },
  {
   "cell_type": "code",
   "execution_count": null,
   "id": "f6eb0e20",
   "metadata": {},
   "outputs": [],
   "source": [
    "list = []\n",
    "for row in df['Merap/PhaNam'].tolist():\n",
    "    if row == 'Pha Nam':\n",
    "        x = 'Pha Nam'\n",
    "    else:\n",
    "        x= df['MaKenhKH']\n",
    "    list.append(x)"
   ]
  },
  {
   "cell_type": "code",
   "execution_count": null,
   "id": "c8d286f6",
   "metadata": {},
   "outputs": [],
   "source": [
    "lambda x: x*10 if x<2 else (x**2 if x<4 else x+10)"
   ]
  },
  {
   "cell_type": "code",
   "execution_count": null,
   "id": "ea48ac49",
   "metadata": {},
   "outputs": [],
   "source": [
    "df"
   ]
  },
  {
   "cell_type": "code",
   "execution_count": null,
   "id": "56ac3744",
   "metadata": {},
   "outputs": [],
   "source": [
    "df['Merap/PhaNam'].value_counts()"
   ]
  },
  {
   "cell_type": "code",
   "execution_count": null,
   "id": "853f0d67",
   "metadata": {},
   "outputs": [],
   "source": [
    "phanam(df)"
   ]
  },
  {
   "cell_type": "code",
   "execution_count": 2,
   "id": "c23e267c",
   "metadata": {},
   "outputs": [],
   "source": [
    "df = pd.read_excel('test_lambda.xlsx')"
   ]
  },
  {
   "cell_type": "code",
   "execution_count": 3,
   "id": "febee000",
   "metadata": {},
   "outputs": [],
   "source": [
    "x = np.array(df['brand'])\n",
    "condlist = [np.isin(x, ['A'])]"
   ]
  },
  {
   "cell_type": "code",
   "execution_count": 4,
   "id": "ec9baf59",
   "metadata": {},
   "outputs": [],
   "source": [
    "choicelist = ['A']\n",
    "default = df['kenh']"
   ]
  },
  {
   "cell_type": "code",
   "execution_count": 5,
   "id": "e9975e7f",
   "metadata": {},
   "outputs": [],
   "source": [
    "df['test'] = np.select(condlist,choicelist, default = default)"
   ]
  },
  {
   "cell_type": "code",
   "execution_count": 6,
   "id": "c5d4591d",
   "metadata": {},
   "outputs": [
    {
     "data": {
      "text/html": [
       "<div>\n",
       "<style scoped>\n",
       "    .dataframe tbody tr th:only-of-type {\n",
       "        vertical-align: middle;\n",
       "    }\n",
       "\n",
       "    .dataframe tbody tr th {\n",
       "        vertical-align: top;\n",
       "    }\n",
       "\n",
       "    .dataframe thead th {\n",
       "        text-align: right;\n",
       "    }\n",
       "</style>\n",
       "<table border=\"1\" class=\"dataframe\">\n",
       "  <thead>\n",
       "    <tr style=\"text-align: right;\">\n",
       "      <th></th>\n",
       "      <th>brand</th>\n",
       "      <th>kenh</th>\n",
       "      <th>test</th>\n",
       "    </tr>\n",
       "  </thead>\n",
       "  <tbody>\n",
       "    <tr>\n",
       "      <th>0</th>\n",
       "      <td>A</td>\n",
       "      <td>INS</td>\n",
       "      <td>A</td>\n",
       "    </tr>\n",
       "    <tr>\n",
       "      <th>1</th>\n",
       "      <td>A</td>\n",
       "      <td>OTC</td>\n",
       "      <td>A</td>\n",
       "    </tr>\n",
       "    <tr>\n",
       "      <th>2</th>\n",
       "      <td>C</td>\n",
       "      <td>DLPP</td>\n",
       "      <td>DLPP</td>\n",
       "    </tr>\n",
       "    <tr>\n",
       "      <th>3</th>\n",
       "      <td>C</td>\n",
       "      <td>NB</td>\n",
       "      <td>NB</td>\n",
       "    </tr>\n",
       "    <tr>\n",
       "      <th>4</th>\n",
       "      <td>A</td>\n",
       "      <td>NB</td>\n",
       "      <td>A</td>\n",
       "    </tr>\n",
       "    <tr>\n",
       "      <th>5</th>\n",
       "      <td>C</td>\n",
       "      <td>CLC</td>\n",
       "      <td>CLC</td>\n",
       "    </tr>\n",
       "  </tbody>\n",
       "</table>\n",
       "</div>"
      ],
      "text/plain": [
       "  brand  kenh  test\n",
       "0     A   INS     A\n",
       "1     A   OTC     A\n",
       "2     C  DLPP  DLPP\n",
       "3     C    NB    NB\n",
       "4     A    NB     A\n",
       "5     C   CLC   CLC"
      ]
     },
     "execution_count": 6,
     "metadata": {},
     "output_type": "execute_result"
    }
   ],
   "source": [
    "df"
   ]
  },
  {
   "cell_type": "code",
   "execution_count": 229,
   "id": "a0873248",
   "metadata": {},
   "outputs": [
    {
     "ename": "SyntaxError",
     "evalue": "invalid syntax (<ipython-input-229-6d44e6247e4d>, line 1)",
     "output_type": "error",
     "traceback": [
      "\u001b[1;36m  File \u001b[1;32m\"<ipython-input-229-6d44e6247e4d>\"\u001b[1;36m, line \u001b[1;32m1\u001b[0m\n\u001b[1;33m    df['kenh2'] = df['kenh'].map(lambda x: x if df['brand']!='A')\u001b[0m\n\u001b[1;37m                                                                ^\u001b[0m\n\u001b[1;31mSyntaxError\u001b[0m\u001b[1;31m:\u001b[0m invalid syntax\n"
     ]
    }
   ],
   "source": [
    "df['kenh2'] = df['kenh'].map(lambda x: x if df['brand']!='A')\n",
    "df"
   ]
  },
  {
   "cell_type": "code",
   "execution_count": null,
   "id": "e9f4c719",
   "metadata": {},
   "outputs": [],
   "source": [
    "df['MaKenhKH2'] = df['Merap/PhaNam'].map(lambda x: x==10 if x=='Pha Nam' else x==df['MaKenhKH'])\n",
    "df['MaKenhKH2'].value_counts()"
   ]
  },
  {
   "cell_type": "code",
   "execution_count": null,
   "id": "716f724e",
   "metadata": {},
   "outputs": [],
   "source": [
    "df = pd.read_csv('raw_data.csv')"
   ]
  },
  {
   "cell_type": "code",
   "execution_count": null,
   "id": "3b1f2ed9",
   "metadata": {},
   "outputs": [],
   "source": [
    "pd.set_option('display.max_rows', 100)\n",
    "pd.set_option('display.max_columns', 100)"
   ]
  },
  {
   "cell_type": "code",
   "execution_count": null,
   "id": "9ac643a9",
   "metadata": {},
   "outputs": [],
   "source": [
    "df.columns"
   ]
  },
  {
   "cell_type": "code",
   "execution_count": null,
   "id": "60ebf0e5",
   "metadata": {},
   "outputs": [],
   "source": [
    "df['TenSanPhamVietTat'].value_counts().sort_index()"
   ]
  },
  {
   "cell_type": "code",
   "execution_count": null,
   "id": "0f1b4dd2",
   "metadata": {},
   "outputs": [],
   "source": [
    "df['SDDH-CN'] =  df['SoDonDatHang']+'.'+df['MaCongTy/CN']"
   ]
  },
  {
   "cell_type": "code",
   "execution_count": null,
   "id": "defc756d",
   "metadata": {},
   "outputs": [],
   "source": [
    "df"
   ]
  },
  {
   "cell_type": "code",
   "execution_count": null,
   "id": "4832a6d7",
   "metadata": {},
   "outputs": [],
   "source": [
    "df = pd.read_excel('masanpham.xlsx')"
   ]
  },
  {
   "cell_type": "code",
   "execution_count": null,
   "id": "82d33c9b",
   "metadata": {},
   "outputs": [],
   "source": [
    "inlist = df['MSP'].tolist()"
   ]
  },
  {
   "cell_type": "code",
   "execution_count": null,
   "id": "5a7a7970",
   "metadata": {},
   "outputs": [],
   "source": [
    "inlist"
   ]
  },
  {
   "cell_type": "code",
   "execution_count": null,
   "id": "edb24b72",
   "metadata": {},
   "outputs": [],
   "source": [
    "inlist = ['EH072',\n",
    " 'OH057',\n",
    " 'OH032',\n",
    " 'OH047',\n",
    " 'OH016',\n",
    " 'OH058',\n",
    " 'OH060',\n",
    " 'OH061',\n",
    " 'OH062',\n",
    " 'OH063',\n",
    " 'OH064',\n",
    " 'OH065',\n",
    " 'OH070',\n",
    " 'OH069',\n",
    " 'OH066',\n",
    " 'OH068',\n",
    " 'OH067',\n",
    " 'EH105',\n",
    " 'OH071',\n",
    " 'OH079',\n",
    " 'OH081']"
   ]
  },
  {
   "cell_type": "code",
   "execution_count": null,
   "id": "27bd0112",
   "metadata": {},
   "outputs": [],
   "source": [
    "inlist = ['EH072', 'OH057', 'OH032', 'OH047','OH016','OH058','OH060','OH061','OH062','OH063','OH064','OH065','OH070','OH069','OH066','OH068','OH067','EH105','OH071','OH079','OH081']"
   ]
  }
 ],
 "metadata": {
  "kernelspec": {
   "display_name": "Python 3",
   "language": "python",
   "name": "python3"
  },
  "language_info": {
   "codemirror_mode": {
    "name": "ipython",
    "version": 3
   },
   "file_extension": ".py",
   "mimetype": "text/x-python",
   "name": "python",
   "nbconvert_exporter": "python",
   "pygments_lexer": "ipython3",
   "version": "3.8.8"
  }
 },
 "nbformat": 4,
 "nbformat_minor": 5
}
