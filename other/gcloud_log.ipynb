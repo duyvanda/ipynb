{
 "cells": [
  {
   "cell_type": "code",
   "execution_count": 42,
   "metadata": {},
   "outputs": [],
   "source": [
    "from utils.df_handle import *"
   ]
  },
  {
   "cell_type": "code",
   "execution_count": 43,
   "metadata": {},
   "outputs": [],
   "source": [
    "from google.cloud import logging"
   ]
  },
  {
   "cell_type": "code",
   "execution_count": 44,
   "metadata": {},
   "outputs": [],
   "source": [
    "logging_client = logging.Client()"
   ]
  },
  {
   "cell_type": "code",
   "execution_count": 45,
   "metadata": {},
   "outputs": [],
   "source": [
    "from google.cloud.logging_v2 import client, logger"
   ]
  },
  {
   "cell_type": "code",
   "execution_count": 46,
   "metadata": {},
   "outputs": [],
   "source": [
    "# logging_client = client.Client()"
   ]
  },
  {
   "cell_type": "code",
   "execution_count": 47,
   "metadata": {},
   "outputs": [],
   "source": [
    "from google.cloud.logging_v2.resource import Resource"
   ]
  },
  {
   "cell_type": "code",
   "execution_count": 37,
   "metadata": {},
   "outputs": [],
   "source": [
    "RS = Resource(type= \"global\", labels={})"
   ]
  },
  {
   "cell_type": "code",
   "execution_count": 48,
   "metadata": {},
   "outputs": [],
   "source": [
    "logger = logger.Logger(name=\"duyvan\", client=logging_client,  labels = {\"name\":\"user_report_logger\"}, resource = None)"
   ]
  },
  {
   "cell_type": "code",
   "execution_count": 40,
   "metadata": {},
   "outputs": [],
   "source": [
    "logger.delete()"
   ]
  },
  {
   "cell_type": "code",
   "execution_count": 49,
   "metadata": {},
   "outputs": [
    {
     "ename": "InvalidArgument",
     "evalue": "400 A monitored resource must be specified for each log entry",
     "output_type": "error",
     "traceback": [
      "\u001b[1;31m---------------------------------------------------------------------------\u001b[0m",
      "\u001b[1;31m_InactiveRpcError\u001b[0m                         Traceback (most recent call last)",
      "File \u001b[1;32md:\\ipython_file\\env\\lib\\site-packages\\google\\api_core\\grpc_helpers.py:67\u001b[0m, in \u001b[0;36m_wrap_unary_errors.<locals>.error_remapped_callable\u001b[1;34m(*args, **kwargs)\u001b[0m\n\u001b[0;32m     66\u001b[0m \u001b[39mtry\u001b[39;00m:\n\u001b[1;32m---> 67\u001b[0m     \u001b[39mreturn\u001b[39;00m callable_(\u001b[39m*\u001b[39;49margs, \u001b[39m*\u001b[39;49m\u001b[39m*\u001b[39;49mkwargs)\n\u001b[0;32m     68\u001b[0m \u001b[39mexcept\u001b[39;00m grpc\u001b[39m.\u001b[39mRpcError \u001b[39mas\u001b[39;00m exc:\n",
      "File \u001b[1;32md:\\ipython_file\\env\\lib\\site-packages\\grpc\\_channel.py:946\u001b[0m, in \u001b[0;36m_UnaryUnaryMultiCallable.__call__\u001b[1;34m(self, request, timeout, metadata, credentials, wait_for_ready, compression)\u001b[0m\n\u001b[0;32m    944\u001b[0m state, call, \u001b[39m=\u001b[39m \u001b[39mself\u001b[39m\u001b[39m.\u001b[39m_blocking(request, timeout, metadata, credentials,\n\u001b[0;32m    945\u001b[0m                               wait_for_ready, compression)\n\u001b[1;32m--> 946\u001b[0m \u001b[39mreturn\u001b[39;00m _end_unary_response_blocking(state, call, \u001b[39mFalse\u001b[39;49;00m, \u001b[39mNone\u001b[39;49;00m)\n",
      "File \u001b[1;32md:\\ipython_file\\env\\lib\\site-packages\\grpc\\_channel.py:849\u001b[0m, in \u001b[0;36m_end_unary_response_blocking\u001b[1;34m(state, call, with_call, deadline)\u001b[0m\n\u001b[0;32m    848\u001b[0m \u001b[39melse\u001b[39;00m:\n\u001b[1;32m--> 849\u001b[0m     \u001b[39mraise\u001b[39;00m _InactiveRpcError(state)\n",
      "\u001b[1;31m_InactiveRpcError\u001b[0m: <_InactiveRpcError of RPC that terminated with:\n\tstatus = StatusCode.INVALID_ARGUMENT\n\tdetails = \"A monitored resource must be specified for each log entry\"\n\tdebug_error_string = \"{\"created\":\"@1668160171.596000000\",\"description\":\"Error received from peer ipv4:172.217.27.42:443\",\"file\":\"src/core/lib/surface/call.cc\",\"file_line\":1070,\"grpc_message\":\"A monitored resource must be specified for each log entry\",\"grpc_status\":3}\"\n>",
      "\nThe above exception was the direct cause of the following exception:\n",
      "\u001b[1;31mInvalidArgument\u001b[0m                           Traceback (most recent call last)",
      "Cell \u001b[1;32mIn [49], line 1\u001b[0m\n\u001b[1;32m----> 1\u001b[0m logger\u001b[39m.\u001b[39;49mlog_struct(info \u001b[39m=\u001b[39;49m {\u001b[39m\"\u001b[39;49m\u001b[39mdata\u001b[39;49m\u001b[39m\"\u001b[39;49m:\u001b[39m1\u001b[39;49m}, severity\u001b[39m=\u001b[39;49m\u001b[39m\"\u001b[39;49m\u001b[39mINFO\u001b[39;49m\u001b[39m\"\u001b[39;49m)\n",
      "File \u001b[1;32md:\\ipython_file\\env\\lib\\site-packages\\google\\cloud\\logging_v2\\logger.py:181\u001b[0m, in \u001b[0;36mLogger.log_struct\u001b[1;34m(self, info, client, **kw)\u001b[0m\n\u001b[0;32m    167\u001b[0m \u001b[39mdef\u001b[39;00m \u001b[39mlog_struct\u001b[39m(\u001b[39mself\u001b[39m, info, \u001b[39m*\u001b[39m, client\u001b[39m=\u001b[39m\u001b[39mNone\u001b[39;00m, \u001b[39m*\u001b[39m\u001b[39m*\u001b[39mkw):\n\u001b[0;32m    168\u001b[0m     \u001b[39m\"\"\"Log a structured message via a POST request\u001b[39;00m\n\u001b[0;32m    169\u001b[0m \n\u001b[0;32m    170\u001b[0m \u001b[39m    See\u001b[39;00m\n\u001b[1;32m   (...)\u001b[0m\n\u001b[0;32m    179\u001b[0m \u001b[39m            See :class:`~logging_v2.entries.LogEntry`.\u001b[39;00m\n\u001b[0;32m    180\u001b[0m \u001b[39m    \"\"\"\u001b[39;00m\n\u001b[1;32m--> 181\u001b[0m     \u001b[39mself\u001b[39;49m\u001b[39m.\u001b[39;49m_do_log(client, StructEntry, info, \u001b[39m*\u001b[39;49m\u001b[39m*\u001b[39;49mkw)\n",
      "File \u001b[1;32md:\\ipython_file\\env\\lib\\site-packages\\google\\cloud\\logging_v2\\logger.py:134\u001b[0m, in \u001b[0;36mLogger._do_log\u001b[1;34m(self, client, _entry_class, payload, **kw)\u001b[0m\n\u001b[0;32m    131\u001b[0m     entry \u001b[39m=\u001b[39m _entry_class(\u001b[39m*\u001b[39m\u001b[39m*\u001b[39mkw)\n\u001b[0;32m    133\u001b[0m api_repr \u001b[39m=\u001b[39m entry\u001b[39m.\u001b[39mto_api_repr()\n\u001b[1;32m--> 134\u001b[0m client\u001b[39m.\u001b[39;49mlogging_api\u001b[39m.\u001b[39;49mwrite_entries([api_repr])\n",
      "File \u001b[1;32md:\\ipython_file\\env\\lib\\site-packages\\google\\cloud\\logging_v2\\_gapic.py:149\u001b[0m, in \u001b[0;36m_LoggingAPI.write_entries\u001b[1;34m(self, entries, logger_name, resource, labels, partial_success, dry_run)\u001b[0m\n\u001b[0;32m    140\u001b[0m log_entry_pbs \u001b[39m=\u001b[39m [_log_entry_mapping_to_pb(entry) \u001b[39mfor\u001b[39;00m entry \u001b[39min\u001b[39;00m entries]\n\u001b[0;32m    142\u001b[0m request \u001b[39m=\u001b[39m WriteLogEntriesRequest(\n\u001b[0;32m    143\u001b[0m     log_name\u001b[39m=\u001b[39mlogger_name,\n\u001b[0;32m    144\u001b[0m     resource\u001b[39m=\u001b[39mresource,\n\u001b[1;32m   (...)\u001b[0m\n\u001b[0;32m    147\u001b[0m     partial_success\u001b[39m=\u001b[39mpartial_success,\n\u001b[0;32m    148\u001b[0m )\n\u001b[1;32m--> 149\u001b[0m \u001b[39mself\u001b[39;49m\u001b[39m.\u001b[39;49m_gapic_api\u001b[39m.\u001b[39;49mwrite_log_entries(request\u001b[39m=\u001b[39;49mrequest)\n",
      "File \u001b[1;32md:\\ipython_file\\env\\lib\\site-packages\\google\\cloud\\logging_v2\\services\\logging_service_v2\\client.py:592\u001b[0m, in \u001b[0;36mLoggingServiceV2Client.write_log_entries\u001b[1;34m(self, request, log_name, resource, labels, entries, retry, timeout, metadata)\u001b[0m\n\u001b[0;32m    589\u001b[0m rpc \u001b[39m=\u001b[39m \u001b[39mself\u001b[39m\u001b[39m.\u001b[39m_transport\u001b[39m.\u001b[39m_wrapped_methods[\u001b[39mself\u001b[39m\u001b[39m.\u001b[39m_transport\u001b[39m.\u001b[39mwrite_log_entries]\n\u001b[0;32m    591\u001b[0m \u001b[39m# Send the request.\u001b[39;00m\n\u001b[1;32m--> 592\u001b[0m response \u001b[39m=\u001b[39m rpc(request, retry\u001b[39m=\u001b[39;49mretry, timeout\u001b[39m=\u001b[39;49mtimeout, metadata\u001b[39m=\u001b[39;49mmetadata,)\n\u001b[0;32m    594\u001b[0m \u001b[39m# Done; return the response.\u001b[39;00m\n\u001b[0;32m    595\u001b[0m \u001b[39mreturn\u001b[39;00m response\n",
      "File \u001b[1;32md:\\ipython_file\\env\\lib\\site-packages\\google\\api_core\\gapic_v1\\method.py:145\u001b[0m, in \u001b[0;36m_GapicCallable.__call__\u001b[1;34m(self, *args, **kwargs)\u001b[0m\n\u001b[0;32m    142\u001b[0m     metadata\u001b[39m.\u001b[39mextend(\u001b[39mself\u001b[39m\u001b[39m.\u001b[39m_metadata)\n\u001b[0;32m    143\u001b[0m     kwargs[\u001b[39m\"\u001b[39m\u001b[39mmetadata\u001b[39m\u001b[39m\"\u001b[39m] \u001b[39m=\u001b[39m metadata\n\u001b[1;32m--> 145\u001b[0m \u001b[39mreturn\u001b[39;00m wrapped_func(\u001b[39m*\u001b[39;49margs, \u001b[39m*\u001b[39;49m\u001b[39m*\u001b[39;49mkwargs)\n",
      "File \u001b[1;32md:\\ipython_file\\env\\lib\\site-packages\\google\\api_core\\retry.py:286\u001b[0m, in \u001b[0;36mRetry.__call__.<locals>.retry_wrapped_func\u001b[1;34m(*args, **kwargs)\u001b[0m\n\u001b[0;32m    282\u001b[0m target \u001b[39m=\u001b[39m functools\u001b[39m.\u001b[39mpartial(func, \u001b[39m*\u001b[39margs, \u001b[39m*\u001b[39m\u001b[39m*\u001b[39mkwargs)\n\u001b[0;32m    283\u001b[0m sleep_generator \u001b[39m=\u001b[39m exponential_sleep_generator(\n\u001b[0;32m    284\u001b[0m     \u001b[39mself\u001b[39m\u001b[39m.\u001b[39m_initial, \u001b[39mself\u001b[39m\u001b[39m.\u001b[39m_maximum, multiplier\u001b[39m=\u001b[39m\u001b[39mself\u001b[39m\u001b[39m.\u001b[39m_multiplier\n\u001b[0;32m    285\u001b[0m )\n\u001b[1;32m--> 286\u001b[0m \u001b[39mreturn\u001b[39;00m retry_target(\n\u001b[0;32m    287\u001b[0m     target,\n\u001b[0;32m    288\u001b[0m     \u001b[39mself\u001b[39;49m\u001b[39m.\u001b[39;49m_predicate,\n\u001b[0;32m    289\u001b[0m     sleep_generator,\n\u001b[0;32m    290\u001b[0m     \u001b[39mself\u001b[39;49m\u001b[39m.\u001b[39;49m_deadline,\n\u001b[0;32m    291\u001b[0m     on_error\u001b[39m=\u001b[39;49mon_error,\n\u001b[0;32m    292\u001b[0m )\n",
      "File \u001b[1;32md:\\ipython_file\\env\\lib\\site-packages\\google\\api_core\\retry.py:189\u001b[0m, in \u001b[0;36mretry_target\u001b[1;34m(target, predicate, sleep_generator, deadline, on_error)\u001b[0m\n\u001b[0;32m    187\u001b[0m \u001b[39mfor\u001b[39;00m sleep \u001b[39min\u001b[39;00m sleep_generator:\n\u001b[0;32m    188\u001b[0m     \u001b[39mtry\u001b[39;00m:\n\u001b[1;32m--> 189\u001b[0m         \u001b[39mreturn\u001b[39;00m target()\n\u001b[0;32m    191\u001b[0m     \u001b[39m# pylint: disable=broad-except\u001b[39;00m\n\u001b[0;32m    192\u001b[0m     \u001b[39m# This function explicitly must deal with broad exceptions.\u001b[39;00m\n\u001b[0;32m    193\u001b[0m     \u001b[39mexcept\u001b[39;00m \u001b[39mException\u001b[39;00m \u001b[39mas\u001b[39;00m exc:\n",
      "File \u001b[1;32md:\\ipython_file\\env\\lib\\site-packages\\google\\api_core\\grpc_helpers.py:69\u001b[0m, in \u001b[0;36m_wrap_unary_errors.<locals>.error_remapped_callable\u001b[1;34m(*args, **kwargs)\u001b[0m\n\u001b[0;32m     67\u001b[0m     \u001b[39mreturn\u001b[39;00m callable_(\u001b[39m*\u001b[39margs, \u001b[39m*\u001b[39m\u001b[39m*\u001b[39mkwargs)\n\u001b[0;32m     68\u001b[0m \u001b[39mexcept\u001b[39;00m grpc\u001b[39m.\u001b[39mRpcError \u001b[39mas\u001b[39;00m exc:\n\u001b[1;32m---> 69\u001b[0m     six\u001b[39m.\u001b[39;49mraise_from(exceptions\u001b[39m.\u001b[39;49mfrom_grpc_error(exc), exc)\n",
      "File \u001b[1;32m<string>:3\u001b[0m, in \u001b[0;36mraise_from\u001b[1;34m(value, from_value)\u001b[0m\n",
      "\u001b[1;31mInvalidArgument\u001b[0m: 400 A monitored resource must be specified for each log entry"
     ]
    }
   ],
   "source": [
    "logger.log_struct(info = {\"data\":1}, severity=\"INFO\")"
   ]
  },
  {
   "cell_type": "code",
   "execution_count": null,
   "metadata": {},
   "outputs": [],
   "source": []
  },
  {
   "cell_type": "code",
   "execution_count": 18,
   "metadata": {},
   "outputs": [],
   "source": [
    "# logging_client.logger()"
   ]
  },
  {
   "cell_type": "code",
   "execution_count": 7,
   "metadata": {},
   "outputs": [],
   "source": [
    "from google.oauth2 import service_account"
   ]
  },
  {
   "cell_type": "code",
   "execution_count": 8,
   "metadata": {},
   "outputs": [],
   "source": [
    "from google.auth.transport.requests import AuthorizedSession"
   ]
  },
  {
   "cell_type": "code",
   "execution_count": 9,
   "metadata": {},
   "outputs": [],
   "source": [
    "scopes = ['https://www.googleapis.com/auth/logging.write']\n",
    "jsonfile = 'D:/bigquery1508.json'\n",
    "credentials = service_account.Credentials.from_service_account_file(jsonfile, scopes = scopes)\n",
    "# service = discovery.build('sheets','v4',credentials = credentials)"
   ]
  },
  {
   "cell_type": "code",
   "execution_count": 12,
   "metadata": {},
   "outputs": [],
   "source": [
    "authed_session = AuthorizedSession(credentials)"
   ]
  },
  {
   "cell_type": "code",
   "execution_count": 17,
   "metadata": {},
   "outputs": [],
   "source": [
    "import json"
   ]
  },
  {
   "cell_type": "code",
   "execution_count": 55,
   "metadata": {},
   "outputs": [],
   "source": [
    "MonitoredResource = \\\n",
    "{\"type\": \"global\",\n",
    "\"labels\": {}}"
   ]
  },
  {
   "cell_type": "code",
   "execution_count": 68,
   "metadata": {},
   "outputs": [],
   "source": [
    "dict1 = {\n",
    "    \"logName\":\"projects/spatial-vision-343005/logs/duyvan\",\n",
    "    \"labels\":{\"name\":\"user_report_logger\"},\n",
    "    \"resource\":MonitoredResource,\n",
    "    \"entries\": [{\"jsonPayload\":{\"data\":1}, \"severity\":\"INFO\"}]\n",
    "}"
   ]
  },
  {
   "cell_type": "code",
   "execution_count": 69,
   "metadata": {},
   "outputs": [],
   "source": [
    "res = authed_session.post(url=\"https://logging.googleapis.com/v2/entries:write\", data=json.dumps(dict1))"
   ]
  },
  {
   "cell_type": "code",
   "execution_count": 70,
   "metadata": {},
   "outputs": [
    {
     "data": {
      "text/plain": [
       "{}"
      ]
     },
     "execution_count": 70,
     "metadata": {},
     "output_type": "execute_result"
    }
   ],
   "source": [
    "res.json()"
   ]
  },
  {
   "cell_type": "code",
   "execution_count": null,
   "metadata": {},
   "outputs": [],
   "source": []
  }
 ],
 "metadata": {
  "kernelspec": {
   "display_name": "Python 3.8.10 ('env': venv)",
   "language": "python",
   "name": "python3"
  },
  "language_info": {
   "codemirror_mode": {
    "name": "ipython",
    "version": 3
   },
   "file_extension": ".py",
   "mimetype": "text/x-python",
   "name": "python",
   "nbconvert_exporter": "python",
   "pygments_lexer": "ipython3",
   "version": "3.8.10"
  },
  "orig_nbformat": 4,
  "vscode": {
   "interpreter": {
    "hash": "e3e62c236e1a80b91bd28884dfef8ca4e8a5f2f97e25c469797e512f6e958bfc"
   }
  }
 },
 "nbformat": 4,
 "nbformat_minor": 2
}
