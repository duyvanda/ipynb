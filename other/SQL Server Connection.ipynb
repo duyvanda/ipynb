{
 "cells": [
  {
   "cell_type": "markdown",
   "source": [
    "https://github.com/mkleehammer/pyodbc/wiki/Calling-Stored-Procedures\n",
    "\n",
    "SET NOCOUNT ON"
   ],
   "metadata": {}
  },
  {
   "cell_type": "code",
   "execution_count": 2,
   "source": [
    "import pyodbc\r\n",
    "import pandas as pd\r\n",
    "server='115.165.164.234'\r\n",
    "driver='SQL Server'\r\n",
    "db1 = 'PhaNam_eSales_PRO'\r\n",
    "tcon = 'no'\r\n",
    "uname='duyvq'\r\n",
    "pword='123VanQuangDuy'\r\n",
    "cnxn = pyodbc.connect(driver='{ODBC Driver 17 for SQL Server}', \r\n",
    "                      host=server, database=db1, trusted_connection=tcon,\r\n",
    "                      user=uname, password=pword)\r\n",
    "cursor = cnxn.cursor()\r\n",
    "#Sample select query\r\n",
    "cursor.execute(\"SELECT @@version;\") \r\n",
    "row = cursor.fetchone() \r\n",
    "while row: \r\n",
    "    print(row[0])\r\n",
    "    row = cursor.fetchone()"
   ],
   "outputs": [],
   "metadata": {}
  },
  {
   "cell_type": "code",
   "execution_count": null,
   "source": [],
   "outputs": [],
   "metadata": {}
  },
  {
   "cell_type": "code",
   "execution_count": null,
   "source": [
    "ps = \"pr_OM_RawdataSellOutPayroll_BI('20210805','20210805')\""
   ],
   "outputs": [],
   "metadata": {}
  },
  {
   "cell_type": "code",
   "execution_count": null,
   "source": [
    "cursor.execute(\"exec pr_OM_RawdataSellOutPayroll_BI('20210805','20210805')\")"
   ],
   "outputs": [],
   "metadata": {}
  },
  {
   "cell_type": "code",
   "execution_count": null,
   "source": [
    "query = \"EXEC [pr_OM_RawdataSellOutPayroll_BI] @FromDate='20210805',@Todate= '20210805'\"\r\n",
    "cursor.execute(query)"
   ],
   "outputs": [],
   "metadata": {}
  },
  {
   "cell_type": "code",
   "execution_count": null,
   "source": [
    "cursor.execute(\"{call pr_OM_RawdataSellOutPayroll_BI('20210805','20210805')}\")"
   ],
   "outputs": [],
   "metadata": {}
  },
  {
   "cell_type": "code",
   "execution_count": null,
   "source": [
    "storedProc = \"Exec [dbo].[pr_OM_RawdataSellOutPayroll_BI] @FromDate= ?, @Todate= ?\""
   ],
   "outputs": [],
   "metadata": {}
  },
  {
   "cell_type": "code",
   "execution_count": null,
   "source": [
    "params = (\"20210805\", \"20210805\")"
   ],
   "outputs": [],
   "metadata": {}
  },
  {
   "cell_type": "code",
   "execution_count": null,
   "source": [
    "cursor.execute(storedProc, params)"
   ],
   "outputs": [],
   "metadata": {}
  },
  {
   "cell_type": "code",
   "execution_count": null,
   "source": [
    "cursor.execute(sql, params)"
   ],
   "outputs": [],
   "metadata": {}
  },
  {
   "cell_type": "code",
   "execution_count": null,
   "source": [
    "row = cursor.fetchone()"
   ],
   "outputs": [],
   "metadata": {
    "scrolled": false
   }
  },
  {
   "cell_type": "code",
   "execution_count": null,
   "source": [
    "for row in cursor:\n",
    "    print(row)"
   ],
   "outputs": [],
   "metadata": {}
  },
  {
   "cell_type": "code",
   "execution_count": null,
   "source": [
    "cursor.execute(EXEC pr_OM_RawdataSellOutPayroll_BI('20210805','20210805'))"
   ],
   "outputs": [],
   "metadata": {}
  },
  {
   "cell_type": "code",
   "execution_count": 161,
   "source": [
    "param_1 = f\"'20210809'\""
   ],
   "outputs": [],
   "metadata": {}
  },
  {
   "cell_type": "code",
   "execution_count": 162,
   "source": [
    "from datetime import datetime"
   ],
   "outputs": [],
   "metadata": {}
  },
  {
   "cell_type": "code",
   "execution_count": 163,
   "source": [
    "datenow = datetime.now().strftime(\"%Y%m%d\")"
   ],
   "outputs": [],
   "metadata": {}
  },
  {
   "cell_type": "code",
   "execution_count": 164,
   "source": [
    "now"
   ],
   "outputs": [
    {
     "output_type": "execute_result",
     "data": {
      "text/plain": [
       "'20210809'"
      ]
     },
     "metadata": {},
     "execution_count": 164
    }
   ],
   "metadata": {}
  },
  {
   "cell_type": "code",
   "execution_count": 165,
   "source": [
    "param_2 = f\"'{datenow}'\""
   ],
   "outputs": [],
   "metadata": {}
  },
  {
   "cell_type": "code",
   "execution_count": 166,
   "source": [
    "query = f\"EXEC [pr_OM_RawdataSellOutPayroll_BI] @Fromdate={param_1}, @Todate={param_2}\""
   ],
   "outputs": [],
   "metadata": {
    "scrolled": true
   }
  },
  {
   "cell_type": "code",
   "execution_count": 167,
   "source": [
    "query"
   ],
   "outputs": [
    {
     "output_type": "execute_result",
     "data": {
      "text/plain": [
       "\"EXEC [pr_OM_RawdataSellOutPayroll_BI] @Fromdate='20210809', @Todate='20210809'\""
      ]
     },
     "metadata": {},
     "execution_count": 167
    }
   ],
   "metadata": {}
  },
  {
   "cell_type": "code",
   "execution_count": 168,
   "source": [
    "query1 = \"EXEC [pr_OM_RawdataSellOutPayroll_BI] @Fromdate='20210809', @Todate='20210809'\""
   ],
   "outputs": [],
   "metadata": {}
  },
  {
   "cell_type": "code",
   "execution_count": 169,
   "source": [
    "query1"
   ],
   "outputs": [
    {
     "output_type": "execute_result",
     "data": {
      "text/plain": [
       "\"EXEC [pr_OM_RawdataSellOutPayroll_BI] @Fromdate='20210809', @Todate='20210809'\""
      ]
     },
     "metadata": {},
     "execution_count": 169
    }
   ],
   "metadata": {}
  },
  {
   "cell_type": "code",
   "execution_count": 170,
   "source": [
    "query == query1"
   ],
   "outputs": [
    {
     "output_type": "execute_result",
     "data": {
      "text/plain": [
       "True"
      ]
     },
     "metadata": {},
     "execution_count": 170
    }
   ],
   "metadata": {}
  },
  {
   "cell_type": "code",
   "execution_count": 171,
   "source": [
    "cursor.execute(query)"
   ],
   "outputs": [
    {
     "output_type": "execute_result",
     "data": {
      "text/plain": [
       "<pyodbc.Cursor at 0x1d6618d7d30>"
      ]
     },
     "metadata": {},
     "execution_count": 171
    }
   ],
   "metadata": {}
  },
  {
   "cell_type": "code",
   "execution_count": 173,
   "source": [
    "cursor.commit()"
   ],
   "outputs": [],
   "metadata": {}
  },
  {
   "cell_type": "code",
   "execution_count": 174,
   "source": [
    "data = pd.read_sql(query, cnxn)"
   ],
   "outputs": [],
   "metadata": {}
  },
  {
   "cell_type": "code",
   "execution_count": 175,
   "source": [
    "data"
   ],
   "outputs": [
    {
     "output_type": "execute_result",
     "data": {
      "text/plain": [
       "     Mã Công Ty/CN                                        Công Ty/CN  \\\n",
       "0           MR0001                      CÔNG TY CỔ PHẦN DƯỢC PHA NAM   \n",
       "1           MR0001                      CÔNG TY CỔ PHẦN DƯỢC PHA NAM   \n",
       "2           MR0001                      CÔNG TY CỔ PHẦN DƯỢC PHA NAM   \n",
       "3           MR0001                      CÔNG TY CỔ PHẦN DƯỢC PHA NAM   \n",
       "4           MR0001                      CÔNG TY CỔ PHẦN DƯỢC PHA NAM   \n",
       "...            ...                                               ...   \n",
       "4112        MR0016  CÔNG TY CỔ PHẦN DƯỢC PHA NAM - CHI NHÁNH CẦN THƠ   \n",
       "4113        MR0016  CÔNG TY CỔ PHẦN DƯỢC PHA NAM - CHI NHÁNH CẦN THƠ   \n",
       "4114        MR0016  CÔNG TY CỔ PHẦN DƯỢC PHA NAM - CHI NHÁNH CẦN THƠ   \n",
       "4115        MR0016  CÔNG TY CỔ PHẦN DƯỢC PHA NAM - CHI NHÁNH CẦN THƠ   \n",
       "4116        MR0016  CÔNG TY CỔ PHẦN DƯỢC PHA NAM - CHI NHÁNH CẦN THƠ   \n",
       "\n",
       "     Ngày Chứng Từ Số Đơn Đặt Hàng Số Đơn Trả Hàng Ngày Trả Hàng  Hóa Đơn  \\\n",
       "0       2021-08-09  DH082021-02392                    01/01/1900  0095760   \n",
       "1       2021-08-09  DH082021-02392                    01/01/1900  0095760   \n",
       "2       2021-08-09  DH082021-02392                    01/01/1900  0095760   \n",
       "3       2021-08-09  DH082021-02402                    01/01/1900  0095761   \n",
       "4       2021-08-09  DH082021-02402                    01/01/1900  0095761   \n",
       "...            ...             ...             ...           ...      ...   \n",
       "4112    2021-08-09  DH082021-00666                    01/01/1900  0006151   \n",
       "4113    2021-08-09  DH082021-00666                    01/01/1900  0006151   \n",
       "4114    2021-08-09  DH082021-00667                    01/01/1900  0006152   \n",
       "4115    2021-08-09  DH082021-00667                    01/01/1900  0006152   \n",
       "4116    2021-08-09  DH082021-00668                    01/01/1900  0006153   \n",
       "\n",
       "     Ngày Tới Hạn TT Số Hợp Đồng    Trạng Thái  ... Kiểu Đơn Hàng Mã Lý Do  \\\n",
       "0         10/08/2021              Đã Phát Hành  ...            IN     None   \n",
       "1         10/08/2021              Đã Phát Hành  ...            IN     None   \n",
       "2         10/08/2021              Đã Phát Hành  ...            IN     None   \n",
       "3         10/08/2021              Đã Phát Hành  ...            IN     None   \n",
       "4         10/08/2021              Đã Phát Hành  ...            IN     None   \n",
       "...              ...         ...           ...  ...           ...      ...   \n",
       "4112      12/08/2021              Đã Phát Hành  ...            IN     None   \n",
       "4113      12/08/2021              Đã Phát Hành  ...            IN     None   \n",
       "4114      12/08/2021              Đã Phát Hành  ...            IN     None   \n",
       "4115      12/08/2021              Đã Phát Hành  ...            IN     None   \n",
       "4116      12/08/2021              Đã Phát Hành  ...            IN     None   \n",
       "\n",
       "                       Mã CSBH                         Tên CSBH Mã CTKM  \\\n",
       "0                                                                         \n",
       "1                                                                         \n",
       "2     CSBH2102OTC-01QD/MR-XOSM  MR- Chính sách bán hàng NTL-PKC           \n",
       "3                                                                         \n",
       "4     CSBH2102OTC-01QD/MR-XOSM  MR- Chính sách bán hàng NTL-PKC           \n",
       "...                        ...                              ...     ...   \n",
       "4112                                                                      \n",
       "4113  CSBH2102OTC-01QD/MR-XOSM  MR- Chính sách bán hàng NTL-PKC           \n",
       "4114                                                                      \n",
       "4115  CSBH2102OTC-01QD/MR-XOSM  MR- Chính sách bán hàng NTL-PKC           \n",
       "4116                                                                      \n",
       "\n",
       "     Tên CTKM Mã CTTL Tên CTTL Người Liên Hệ Số Điện Thoại  \n",
       "0                                  Chị Chinh    0936400366  \n",
       "1                                  Chị Chinh    0936400366  \n",
       "2                                  Chị Chinh    0936400366  \n",
       "3                                                           \n",
       "4                                                           \n",
       "...       ...     ...      ...           ...           ...  \n",
       "4112                                                        \n",
       "4113                                                        \n",
       "4114                                                        \n",
       "4115                                                        \n",
       "4116                                                        \n",
       "\n",
       "[4117 rows x 69 columns]"
      ],
      "text/html": [
       "<div>\n",
       "<style scoped>\n",
       "    .dataframe tbody tr th:only-of-type {\n",
       "        vertical-align: middle;\n",
       "    }\n",
       "\n",
       "    .dataframe tbody tr th {\n",
       "        vertical-align: top;\n",
       "    }\n",
       "\n",
       "    .dataframe thead th {\n",
       "        text-align: right;\n",
       "    }\n",
       "</style>\n",
       "<table border=\"1\" class=\"dataframe\">\n",
       "  <thead>\n",
       "    <tr style=\"text-align: right;\">\n",
       "      <th></th>\n",
       "      <th>Mã Công Ty/CN</th>\n",
       "      <th>Công Ty/CN</th>\n",
       "      <th>Ngày Chứng Từ</th>\n",
       "      <th>Số Đơn Đặt Hàng</th>\n",
       "      <th>Số Đơn Trả Hàng</th>\n",
       "      <th>Ngày Trả Hàng</th>\n",
       "      <th>Hóa Đơn</th>\n",
       "      <th>Ngày Tới Hạn TT</th>\n",
       "      <th>Số Hợp Đồng</th>\n",
       "      <th>Trạng Thái</th>\n",
       "      <th>...</th>\n",
       "      <th>Kiểu Đơn Hàng</th>\n",
       "      <th>Mã Lý Do</th>\n",
       "      <th>Mã CSBH</th>\n",
       "      <th>Tên CSBH</th>\n",
       "      <th>Mã CTKM</th>\n",
       "      <th>Tên CTKM</th>\n",
       "      <th>Mã CTTL</th>\n",
       "      <th>Tên CTTL</th>\n",
       "      <th>Người Liên Hệ</th>\n",
       "      <th>Số Điện Thoại</th>\n",
       "    </tr>\n",
       "  </thead>\n",
       "  <tbody>\n",
       "    <tr>\n",
       "      <th>0</th>\n",
       "      <td>MR0001</td>\n",
       "      <td>CÔNG TY CỔ PHẦN DƯỢC PHA NAM</td>\n",
       "      <td>2021-08-09</td>\n",
       "      <td>DH082021-02392</td>\n",
       "      <td></td>\n",
       "      <td>01/01/1900</td>\n",
       "      <td>0095760</td>\n",
       "      <td>10/08/2021</td>\n",
       "      <td></td>\n",
       "      <td>Đã Phát Hành</td>\n",
       "      <td>...</td>\n",
       "      <td>IN</td>\n",
       "      <td>None</td>\n",
       "      <td></td>\n",
       "      <td></td>\n",
       "      <td></td>\n",
       "      <td></td>\n",
       "      <td></td>\n",
       "      <td></td>\n",
       "      <td>Chị Chinh</td>\n",
       "      <td>0936400366</td>\n",
       "    </tr>\n",
       "    <tr>\n",
       "      <th>1</th>\n",
       "      <td>MR0001</td>\n",
       "      <td>CÔNG TY CỔ PHẦN DƯỢC PHA NAM</td>\n",
       "      <td>2021-08-09</td>\n",
       "      <td>DH082021-02392</td>\n",
       "      <td></td>\n",
       "      <td>01/01/1900</td>\n",
       "      <td>0095760</td>\n",
       "      <td>10/08/2021</td>\n",
       "      <td></td>\n",
       "      <td>Đã Phát Hành</td>\n",
       "      <td>...</td>\n",
       "      <td>IN</td>\n",
       "      <td>None</td>\n",
       "      <td></td>\n",
       "      <td></td>\n",
       "      <td></td>\n",
       "      <td></td>\n",
       "      <td></td>\n",
       "      <td></td>\n",
       "      <td>Chị Chinh</td>\n",
       "      <td>0936400366</td>\n",
       "    </tr>\n",
       "    <tr>\n",
       "      <th>2</th>\n",
       "      <td>MR0001</td>\n",
       "      <td>CÔNG TY CỔ PHẦN DƯỢC PHA NAM</td>\n",
       "      <td>2021-08-09</td>\n",
       "      <td>DH082021-02392</td>\n",
       "      <td></td>\n",
       "      <td>01/01/1900</td>\n",
       "      <td>0095760</td>\n",
       "      <td>10/08/2021</td>\n",
       "      <td></td>\n",
       "      <td>Đã Phát Hành</td>\n",
       "      <td>...</td>\n",
       "      <td>IN</td>\n",
       "      <td>None</td>\n",
       "      <td>CSBH2102OTC-01QD/MR-XOSM</td>\n",
       "      <td>MR- Chính sách bán hàng NTL-PKC</td>\n",
       "      <td></td>\n",
       "      <td></td>\n",
       "      <td></td>\n",
       "      <td></td>\n",
       "      <td>Chị Chinh</td>\n",
       "      <td>0936400366</td>\n",
       "    </tr>\n",
       "    <tr>\n",
       "      <th>3</th>\n",
       "      <td>MR0001</td>\n",
       "      <td>CÔNG TY CỔ PHẦN DƯỢC PHA NAM</td>\n",
       "      <td>2021-08-09</td>\n",
       "      <td>DH082021-02402</td>\n",
       "      <td></td>\n",
       "      <td>01/01/1900</td>\n",
       "      <td>0095761</td>\n",
       "      <td>10/08/2021</td>\n",
       "      <td></td>\n",
       "      <td>Đã Phát Hành</td>\n",
       "      <td>...</td>\n",
       "      <td>IN</td>\n",
       "      <td>None</td>\n",
       "      <td></td>\n",
       "      <td></td>\n",
       "      <td></td>\n",
       "      <td></td>\n",
       "      <td></td>\n",
       "      <td></td>\n",
       "      <td></td>\n",
       "      <td></td>\n",
       "    </tr>\n",
       "    <tr>\n",
       "      <th>4</th>\n",
       "      <td>MR0001</td>\n",
       "      <td>CÔNG TY CỔ PHẦN DƯỢC PHA NAM</td>\n",
       "      <td>2021-08-09</td>\n",
       "      <td>DH082021-02402</td>\n",
       "      <td></td>\n",
       "      <td>01/01/1900</td>\n",
       "      <td>0095761</td>\n",
       "      <td>10/08/2021</td>\n",
       "      <td></td>\n",
       "      <td>Đã Phát Hành</td>\n",
       "      <td>...</td>\n",
       "      <td>IN</td>\n",
       "      <td>None</td>\n",
       "      <td>CSBH2102OTC-01QD/MR-XOSM</td>\n",
       "      <td>MR- Chính sách bán hàng NTL-PKC</td>\n",
       "      <td></td>\n",
       "      <td></td>\n",
       "      <td></td>\n",
       "      <td></td>\n",
       "      <td></td>\n",
       "      <td></td>\n",
       "    </tr>\n",
       "    <tr>\n",
       "      <th>...</th>\n",
       "      <td>...</td>\n",
       "      <td>...</td>\n",
       "      <td>...</td>\n",
       "      <td>...</td>\n",
       "      <td>...</td>\n",
       "      <td>...</td>\n",
       "      <td>...</td>\n",
       "      <td>...</td>\n",
       "      <td>...</td>\n",
       "      <td>...</td>\n",
       "      <td>...</td>\n",
       "      <td>...</td>\n",
       "      <td>...</td>\n",
       "      <td>...</td>\n",
       "      <td>...</td>\n",
       "      <td>...</td>\n",
       "      <td>...</td>\n",
       "      <td>...</td>\n",
       "      <td>...</td>\n",
       "      <td>...</td>\n",
       "      <td>...</td>\n",
       "    </tr>\n",
       "    <tr>\n",
       "      <th>4112</th>\n",
       "      <td>MR0016</td>\n",
       "      <td>CÔNG TY CỔ PHẦN DƯỢC PHA NAM - CHI NHÁNH CẦN THƠ</td>\n",
       "      <td>2021-08-09</td>\n",
       "      <td>DH082021-00666</td>\n",
       "      <td></td>\n",
       "      <td>01/01/1900</td>\n",
       "      <td>0006151</td>\n",
       "      <td>12/08/2021</td>\n",
       "      <td></td>\n",
       "      <td>Đã Phát Hành</td>\n",
       "      <td>...</td>\n",
       "      <td>IN</td>\n",
       "      <td>None</td>\n",
       "      <td></td>\n",
       "      <td></td>\n",
       "      <td></td>\n",
       "      <td></td>\n",
       "      <td></td>\n",
       "      <td></td>\n",
       "      <td></td>\n",
       "      <td></td>\n",
       "    </tr>\n",
       "    <tr>\n",
       "      <th>4113</th>\n",
       "      <td>MR0016</td>\n",
       "      <td>CÔNG TY CỔ PHẦN DƯỢC PHA NAM - CHI NHÁNH CẦN THƠ</td>\n",
       "      <td>2021-08-09</td>\n",
       "      <td>DH082021-00666</td>\n",
       "      <td></td>\n",
       "      <td>01/01/1900</td>\n",
       "      <td>0006151</td>\n",
       "      <td>12/08/2021</td>\n",
       "      <td></td>\n",
       "      <td>Đã Phát Hành</td>\n",
       "      <td>...</td>\n",
       "      <td>IN</td>\n",
       "      <td>None</td>\n",
       "      <td>CSBH2102OTC-01QD/MR-XOSM</td>\n",
       "      <td>MR- Chính sách bán hàng NTL-PKC</td>\n",
       "      <td></td>\n",
       "      <td></td>\n",
       "      <td></td>\n",
       "      <td></td>\n",
       "      <td></td>\n",
       "      <td></td>\n",
       "    </tr>\n",
       "    <tr>\n",
       "      <th>4114</th>\n",
       "      <td>MR0016</td>\n",
       "      <td>CÔNG TY CỔ PHẦN DƯỢC PHA NAM - CHI NHÁNH CẦN THƠ</td>\n",
       "      <td>2021-08-09</td>\n",
       "      <td>DH082021-00667</td>\n",
       "      <td></td>\n",
       "      <td>01/01/1900</td>\n",
       "      <td>0006152</td>\n",
       "      <td>12/08/2021</td>\n",
       "      <td></td>\n",
       "      <td>Đã Phát Hành</td>\n",
       "      <td>...</td>\n",
       "      <td>IN</td>\n",
       "      <td>None</td>\n",
       "      <td></td>\n",
       "      <td></td>\n",
       "      <td></td>\n",
       "      <td></td>\n",
       "      <td></td>\n",
       "      <td></td>\n",
       "      <td></td>\n",
       "      <td></td>\n",
       "    </tr>\n",
       "    <tr>\n",
       "      <th>4115</th>\n",
       "      <td>MR0016</td>\n",
       "      <td>CÔNG TY CỔ PHẦN DƯỢC PHA NAM - CHI NHÁNH CẦN THƠ</td>\n",
       "      <td>2021-08-09</td>\n",
       "      <td>DH082021-00667</td>\n",
       "      <td></td>\n",
       "      <td>01/01/1900</td>\n",
       "      <td>0006152</td>\n",
       "      <td>12/08/2021</td>\n",
       "      <td></td>\n",
       "      <td>Đã Phát Hành</td>\n",
       "      <td>...</td>\n",
       "      <td>IN</td>\n",
       "      <td>None</td>\n",
       "      <td>CSBH2102OTC-01QD/MR-XOSM</td>\n",
       "      <td>MR- Chính sách bán hàng NTL-PKC</td>\n",
       "      <td></td>\n",
       "      <td></td>\n",
       "      <td></td>\n",
       "      <td></td>\n",
       "      <td></td>\n",
       "      <td></td>\n",
       "    </tr>\n",
       "    <tr>\n",
       "      <th>4116</th>\n",
       "      <td>MR0016</td>\n",
       "      <td>CÔNG TY CỔ PHẦN DƯỢC PHA NAM - CHI NHÁNH CẦN THƠ</td>\n",
       "      <td>2021-08-09</td>\n",
       "      <td>DH082021-00668</td>\n",
       "      <td></td>\n",
       "      <td>01/01/1900</td>\n",
       "      <td>0006153</td>\n",
       "      <td>12/08/2021</td>\n",
       "      <td></td>\n",
       "      <td>Đã Phát Hành</td>\n",
       "      <td>...</td>\n",
       "      <td>IN</td>\n",
       "      <td>None</td>\n",
       "      <td></td>\n",
       "      <td></td>\n",
       "      <td></td>\n",
       "      <td></td>\n",
       "      <td></td>\n",
       "      <td></td>\n",
       "      <td></td>\n",
       "      <td></td>\n",
       "    </tr>\n",
       "  </tbody>\n",
       "</table>\n",
       "<p>4117 rows × 69 columns</p>\n",
       "</div>"
      ]
     },
     "metadata": {},
     "execution_count": 175
    }
   ],
   "metadata": {}
  },
  {
   "cell_type": "code",
   "execution_count": null,
   "source": [],
   "outputs": [],
   "metadata": {}
  }
 ],
 "metadata": {
  "kernelspec": {
   "display_name": "Python 3 (ipykernel)",
   "language": "python",
   "name": "python3"
  },
  "language_info": {
   "codemirror_mode": {
    "name": "ipython",
    "version": 3
   },
   "file_extension": ".py",
   "mimetype": "text/x-python",
   "name": "python",
   "nbconvert_exporter": "python",
   "pygments_lexer": "ipython3",
   "version": "3.9.6"
  }
 },
 "nbformat": 4,
 "nbformat_minor": 5
}