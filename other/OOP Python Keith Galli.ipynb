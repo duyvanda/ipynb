{
 "cells": [
  {
   "cell_type": "code",
   "execution_count": 1,
   "id": "901572aa",
   "metadata": {},
   "outputs": [],
   "source": [
    "import os"
   ]
  },
  {
   "cell_type": "code",
   "execution_count": 2,
   "id": "759a4513",
   "metadata": {},
   "outputs": [],
   "source": [
    "import turtle"
   ]
  },
  {
   "cell_type": "code",
   "execution_count": 3,
   "id": "0cada192",
   "metadata": {
    "scrolled": false
   },
   "outputs": [
    {
     "name": "stdout",
     "output_type": "stream",
     "text": [
      "['Canvas', 'Pen', 'RawPen', 'RawTurtle', 'Screen', 'ScrolledCanvas', 'Shape', 'TK', 'TNavigator', 'TPen', 'Tbuffer', 'Terminator', 'Turtle', 'TurtleGraphicsError', 'TurtleScreen', 'TurtleScreenBase', 'Vec2D', '_CFG', '_LANGUAGE', '_Root', '_Screen', '_TurtleImage', '__all__', '__builtins__', '__cached__', '__doc__', '__file__', '__forwardmethods', '__func_body', '__loader__', '__methodDict', '__methods', '__name__', '__package__', '__spec__', '__stringBody', '_alias_list', '_make_global_funcs', '_screen_docrevise', '_tg_classes', '_tg_screen_functions', '_tg_turtle_functions', '_tg_utilities', '_turtle_docrevise', '_ver', 'addshape', 'back', 'backward', 'begin_fill', 'begin_poly', 'bgcolor', 'bgpic', 'bk', 'bye', 'circle', 'clear', 'clearscreen', 'clearstamp', 'clearstamps', 'clone', 'color', 'colormode', 'config_dict', 'deepcopy', 'degrees', 'delay', 'distance', 'done', 'dot', 'down', 'end_fill', 'end_poly', 'exitonclick', 'fd', 'fillcolor', 'filling', 'forward', 'get_poly', 'get_shapepoly', 'getcanvas', 'getmethparlist', 'getpen', 'getscreen', 'getshapes', 'getturtle', 'goto', 'heading', 'hideturtle', 'home', 'ht', 'inspect', 'isdown', 'isfile', 'isvisible', 'join', 'left', 'listen', 'lt', 'mainloop', 'math', 'mode', 'numinput', 'onclick', 'ondrag', 'onkey', 'onkeypress', 'onkeyrelease', 'onrelease', 'onscreenclick', 'ontimer', 'pd', 'pen', 'pencolor', 'pendown', 'pensize', 'penup', 'pos', 'position', 'pu', 'radians', 'read_docstrings', 'readconfig', 'register_shape', 'reset', 'resetscreen', 'resizemode', 'right', 'rt', 'screensize', 'seth', 'setheading', 'setpos', 'setposition', 'settiltangle', 'setundobuffer', 'setup', 'setworldcoordinates', 'setx', 'sety', 'shape', 'shapesize', 'shapetransform', 'shearfactor', 'showturtle', 'simpledialog', 'speed', 'split', 'st', 'stamp', 'sys', 'textinput', 'tilt', 'tiltangle', 'time', 'title', 'towards', 'tracer', 'turtles', 'turtlesize', 'types', 'undo', 'undobufferentries', 'up', 'update', 'width', 'window_height', 'window_width', 'write', 'write_docstringdict', 'xcor', 'ycor']\n"
     ]
    }
   ],
   "source": [
    "print(dir(turtle))"
   ]
  },
  {
   "cell_type": "code",
   "execution_count": 4,
   "id": "f3228b38",
   "metadata": {},
   "outputs": [],
   "source": [
    "class Polygon1:\n",
    "    def __init__(self, sides, name, size=100):\n",
    "        self.sides = sides\n",
    "        self.name = name\n",
    "        self.size = size\n",
    "        self.interior_angles = (self.sides-2)*180\n",
    "        self.angle = self.interior_angles/self.sides\n",
    "        self.degree = 180\n",
    "\n",
    "    def draw(self):\n",
    "        for i in range(self.sides):\n",
    "            turtle.forward(self.size)\n",
    "            turtle.right(180-self.angle)\n",
    "        turtle.done()"
   ]
  },
  {
   "cell_type": "code",
   "execution_count": 5,
   "id": "cee3191c",
   "metadata": {},
   "outputs": [],
   "source": [
    "obj = Polygon1(4, \"Square\")"
   ]
  },
  {
   "cell_type": "code",
   "execution_count": 6,
   "id": "7a160d68",
   "metadata": {},
   "outputs": [
    {
     "name": "stdout",
     "output_type": "stream",
     "text": [
      "{'sides': 4, 'name': 'Square', 'size': 100, 'interior_angles': 360, 'angle': 90.0, 'degree': 180}\n",
      "['__class__', '__delattr__', '__dict__', '__dir__', '__doc__', '__eq__', '__format__', '__ge__', '__getattribute__', '__gt__', '__hash__', '__init__', '__init_subclass__', '__le__', '__lt__', '__module__', '__ne__', '__new__', '__reduce__', '__reduce_ex__', '__repr__', '__setattr__', '__sizeof__', '__str__', '__subclasshook__', '__weakref__', 'angle', 'degree', 'draw', 'interior_angles', 'name', 'sides', 'size']\n"
     ]
    }
   ],
   "source": [
    "print(obj.__dict__)\n",
    "print(dir(obj))"
   ]
  },
  {
   "cell_type": "code",
   "execution_count": 7,
   "id": "bbb8d957",
   "metadata": {},
   "outputs": [
    {
     "name": "stdout",
     "output_type": "stream",
     "text": [
      "__class__ <class '__main__.Polygon1'>\n",
      "__delattr__ <method-wrapper '__delattr__' of Polygon1 object at 0x00000141A1B1B100>\n",
      "__dict__ {'sides': 4, 'name': 'Square', 'size': 100, 'interior_angles': 360, 'angle': 90.0, 'degree': 180}\n",
      "__dir__ <built-in method __dir__ of Polygon1 object at 0x00000141A1B1B100>\n",
      "__doc__ None\n",
      "__eq__ <method-wrapper '__eq__' of Polygon1 object at 0x00000141A1B1B100>\n",
      "__format__ <built-in method __format__ of Polygon1 object at 0x00000141A1B1B100>\n",
      "__ge__ <method-wrapper '__ge__' of Polygon1 object at 0x00000141A1B1B100>\n",
      "__getattribute__ <method-wrapper '__getattribute__' of Polygon1 object at 0x00000141A1B1B100>\n",
      "__gt__ <method-wrapper '__gt__' of Polygon1 object at 0x00000141A1B1B100>\n",
      "__hash__ <method-wrapper '__hash__' of Polygon1 object at 0x00000141A1B1B100>\n",
      "__init__ <bound method Polygon1.__init__ of <__main__.Polygon1 object at 0x00000141A1B1B100>>\n",
      "__init_subclass__ <built-in method __init_subclass__ of type object at 0x00000141A0F7E390>\n",
      "__le__ <method-wrapper '__le__' of Polygon1 object at 0x00000141A1B1B100>\n",
      "__lt__ <method-wrapper '__lt__' of Polygon1 object at 0x00000141A1B1B100>\n",
      "__module__ __main__\n",
      "__ne__ <method-wrapper '__ne__' of Polygon1 object at 0x00000141A1B1B100>\n",
      "__new__ <built-in method __new__ of type object at 0x00007FFC79A5BB50>\n",
      "__reduce__ <built-in method __reduce__ of Polygon1 object at 0x00000141A1B1B100>\n",
      "__reduce_ex__ <built-in method __reduce_ex__ of Polygon1 object at 0x00000141A1B1B100>\n",
      "__repr__ <method-wrapper '__repr__' of Polygon1 object at 0x00000141A1B1B100>\n",
      "__setattr__ <method-wrapper '__setattr__' of Polygon1 object at 0x00000141A1B1B100>\n",
      "__sizeof__ <built-in method __sizeof__ of Polygon1 object at 0x00000141A1B1B100>\n",
      "__str__ <method-wrapper '__str__' of Polygon1 object at 0x00000141A1B1B100>\n",
      "__subclasshook__ <built-in method __subclasshook__ of type object at 0x00000141A0F7E390>\n",
      "__weakref__ None\n",
      "angle 90.0\n",
      "degree 180\n",
      "draw <bound method Polygon1.draw of <__main__.Polygon1 object at 0x00000141A1B1B100>>\n",
      "interior_angles 360\n",
      "name Square\n",
      "sides 4\n",
      "size 100\n"
     ]
    }
   ],
   "source": [
    "for att in dir(obj):\n",
    "    print (att, getattr(obj,att))"
   ]
  },
  {
   "cell_type": "code",
   "execution_count": 44,
   "id": "f76d0ec6",
   "metadata": {
    "scrolled": true
   },
   "outputs": [
    {
     "name": "stdout",
     "output_type": "stream",
     "text": [
      "{'sides': 4, 'name': 'Square', 'size': 100, 'interior_angles': 360, 'angle': 90.0, 'degree': 180}\n"
     ]
    }
   ],
   "source": [
    "print(square1.__dict__)"
   ]
  },
  {
   "cell_type": "code",
   "execution_count": 8,
   "id": "474f17bf",
   "metadata": {},
   "outputs": [
    {
     "name": "stdout",
     "output_type": "stream",
     "text": [
      "170\n"
     ]
    }
   ],
   "source": [
    "square1.degree = 170\n",
    "print(square1.degree)"
   ]
  },
  {
   "cell_type": "code",
   "execution_count": 9,
   "id": "130b22a1",
   "metadata": {},
   "outputs": [],
   "source": [
    "square1.sides = 5"
   ]
  },
  {
   "cell_type": "code",
   "execution_count": 10,
   "id": "27fd9519",
   "metadata": {},
   "outputs": [
    {
     "name": "stdout",
     "output_type": "stream",
     "text": [
      "5\n"
     ]
    }
   ],
   "source": [
    "print(square1.sides)"
   ]
  },
  {
   "cell_type": "code",
   "execution_count": 4,
   "id": "ccd97583",
   "metadata": {},
   "outputs": [
    {
     "name": "stdout",
     "output_type": "stream",
     "text": [
      "10\n"
     ]
    }
   ],
   "source": [
    "square1 = Polygon1(4, \"Square\",10)\n",
    "print(square1.size)"
   ]
  },
  {
   "cell_type": "code",
   "execution_count": 11,
   "id": "cf9091e3",
   "metadata": {},
   "outputs": [],
   "source": [
    "class Polygon:\n",
    "    degree = 180\n",
    "    def __init__(self, sides, name, size, color = \"red\", line_thick=20):\n",
    "        self.sides = sides\n",
    "        self.name = name\n",
    "        self.size = size\n",
    "        self.color = color\n",
    "        self.line_thick = line_thick\n",
    "        self.interior_angles = (self.sides-2)*180\n",
    "        self.angle = self.interior_angles/self.sides\n",
    "\n",
    "    def draw(self):\n",
    "        for i in range(self.sides):\n",
    "            turtle.color(self.color)\n",
    "            turtle.pensize(self.line_thick)\n",
    "            turtle.forward(self.size)\n",
    "            turtle.right(180-self.angle)"
   ]
  },
  {
   "cell_type": "code",
   "execution_count": null,
   "id": "784f9a3b",
   "metadata": {},
   "outputs": [],
   "source": [
    "square = Polygon(4, \"Square\",100)\n",
    "pentagon = Polygon(5, \"Pentagon\",100)\n",
    "hexagon =  Polygon(6, \"Hexagon\",100)"
   ]
  },
  {
   "cell_type": "markdown",
   "id": "95e3e087",
   "metadata": {},
   "source": [
    "Class variable"
   ]
  },
  {
   "cell_type": "code",
   "execution_count": null,
   "id": "9a515445",
   "metadata": {},
   "outputs": [],
   "source": [
    "square.degree = 100"
   ]
  },
  {
   "cell_type": "code",
   "execution_count": null,
   "id": "266913fb",
   "metadata": {},
   "outputs": [],
   "source": [
    "print(square.degree)"
   ]
  },
  {
   "cell_type": "code",
   "execution_count": null,
   "id": "4f81f507",
   "metadata": {
    "scrolled": true
   },
   "outputs": [],
   "source": [
    "hexagon.draw()"
   ]
  },
  {
   "cell_type": "code",
   "execution_count": 29,
   "id": "672b23a1",
   "metadata": {},
   "outputs": [],
   "source": [
    "class Square(Polygon):\n",
    "    def __init__(self, size=100, color = \"red\", line_thick=20, test=20):\n",
    "        super().__init__(4, \"Square\", size, color, line_thick)\n",
    "        # new attribute for Square class\n",
    "        self.test = test\n",
    "    \n",
    "    def draw(self):\n",
    "        super().draw()\n",
    "        # 2 new in draw function\n",
    "        turtle.begin_fill()\n",
    "        turtle.end_fill()"
   ]
  },
  {
   "cell_type": "code",
   "execution_count": 26,
   "id": "526d65e5",
   "metadata": {},
   "outputs": [],
   "source": [
    "square2 = Square()"
   ]
  },
  {
   "cell_type": "code",
   "execution_count": 27,
   "id": "27b44a01",
   "metadata": {},
   "outputs": [
    {
     "ename": "AttributeError",
     "evalue": "'Square' object has no attribute 'test'",
     "output_type": "error",
     "traceback": [
      "\u001b[1;31m---------------------------------------------------------------------------\u001b[0m",
      "\u001b[1;31mAttributeError\u001b[0m                            Traceback (most recent call last)",
      "\u001b[1;32m<ipython-input-27-b8176f581454>\u001b[0m in \u001b[0;36m<module>\u001b[1;34m\u001b[0m\n\u001b[1;32m----> 1\u001b[1;33m \u001b[0msquare2\u001b[0m\u001b[1;33m.\u001b[0m\u001b[0mtest\u001b[0m\u001b[1;33m\u001b[0m\u001b[1;33m\u001b[0m\u001b[0m\n\u001b[0m",
      "\u001b[1;31mAttributeError\u001b[0m: 'Square' object has no attribute 'test'"
     ]
    }
   ],
   "source": [
    "square2.test"
   ]
  },
  {
   "cell_type": "code",
   "execution_count": 16,
   "id": "30eeb64d",
   "metadata": {},
   "outputs": [
    {
     "name": "stdout",
     "output_type": "stream",
     "text": [
      "5\n"
     ]
    }
   ],
   "source": [
    "print(square2.sides)"
   ]
  },
  {
   "cell_type": "code",
   "execution_count": null,
   "id": "1e7f2354",
   "metadata": {},
   "outputs": [],
   "source": [
    "square2.draw()"
   ]
  },
  {
   "cell_type": "code",
   "execution_count": null,
   "id": "0d53fc1f",
   "metadata": {},
   "outputs": [],
   "source": [
    "turtle.done()"
   ]
  },
  {
   "cell_type": "code",
   "execution_count": null,
   "id": "4b82b16d",
   "metadata": {},
   "outputs": [],
   "source": [
    "import matplotlib.pyplot as plt"
   ]
  },
  {
   "cell_type": "code",
   "execution_count": null,
   "id": "2598fbfa",
   "metadata": {},
   "outputs": [],
   "source": [
    "class Point:\n",
    "    def __init__(self, x, y):\n",
    "        self.x = x\n",
    "        self.y = y\n",
    "        \n",
    "    def __add__(self, other):\n",
    "        if isinstance(other, Point):\n",
    "            x = self.x + other.x\n",
    "            y = self.y + other.y\n",
    "            return Point(x,y)\n",
    "        else:\n",
    "            x = self.x + other\n",
    "            y = self.y + other\n",
    "            return Point(x,y)\n",
    "        \n",
    "    def plot(self):\n",
    "        plt.scatter(self.x, self.y)"
   ]
  },
  {
   "cell_type": "code",
   "execution_count": null,
   "id": "fa58f50b",
   "metadata": {},
   "outputs": [],
   "source": [
    "b = Point (2,2)"
   ]
  },
  {
   "cell_type": "code",
   "execution_count": null,
   "id": "f5eb7075",
   "metadata": {},
   "outputs": [],
   "source": [
    "b.plot()"
   ]
  },
  {
   "cell_type": "code",
   "execution_count": null,
   "id": "b79bca49",
   "metadata": {},
   "outputs": [],
   "source": [
    "a = Point(1,1)\n",
    "b = Point(2,2)"
   ]
  },
  {
   "cell_type": "code",
   "execution_count": null,
   "id": "d8c5f6a0",
   "metadata": {},
   "outputs": [],
   "source": [
    "c = a + b"
   ]
  },
  {
   "cell_type": "code",
   "execution_count": null,
   "id": "bbfebaa5",
   "metadata": {},
   "outputs": [],
   "source": [
    "print(c.x, c.y)"
   ]
  },
  {
   "cell_type": "code",
   "execution_count": null,
   "id": "e5bb4364",
   "metadata": {},
   "outputs": [],
   "source": [
    "c.plot()"
   ]
  },
  {
   "cell_type": "code",
   "execution_count": null,
   "id": "b7ed71fa",
   "metadata": {},
   "outputs": [],
   "source": [
    "d = a + 5"
   ]
  },
  {
   "cell_type": "code",
   "execution_count": null,
   "id": "f22dd29d",
   "metadata": {},
   "outputs": [],
   "source": [
    "print(d.x, d.y)"
   ]
  },
  {
   "cell_type": "markdown",
   "id": "3ed05f8b",
   "metadata": {},
   "source": [
    "Class variable"
   ]
  },
  {
   "cell_type": "code",
   "execution_count": null,
   "id": "5f1c680b",
   "metadata": {},
   "outputs": [],
   "source": [
    "class Espresso:\n",
    "    menu_type = \"Drink\""
   ]
  },
  {
   "cell_type": "code",
   "execution_count": null,
   "id": "f3c251c2",
   "metadata": {},
   "outputs": [],
   "source": [
    "espresso_order = Espresso()\n",
    "# espresso_order.menu_type = \"Coffee\"\n",
    "print(espresso_order.menu_type)"
   ]
  },
  {
   "cell_type": "code",
   "execution_count": null,
   "id": "386b04c8",
   "metadata": {},
   "outputs": [],
   "source": []
  }
 ],
 "metadata": {
  "kernelspec": {
   "display_name": "Python 3.9.6 ('venv': venv)",
   "language": "python",
   "name": "python3"
  },
  "language_info": {
   "codemirror_mode": {
    "name": "ipython",
    "version": 3
   },
   "file_extension": ".py",
   "mimetype": "text/x-python",
   "name": "python",
   "nbconvert_exporter": "python",
   "pygments_lexer": "ipython3",
   "version": "3.9.6"
  },
  "vscode": {
   "interpreter": {
    "hash": "dff776f8cf9899793f9a0f4d147d4ee0e914dc3f9ff7764d86dd5f5383f5f250"
   }
  }
 },
 "nbformat": 4,
 "nbformat_minor": 5
}
