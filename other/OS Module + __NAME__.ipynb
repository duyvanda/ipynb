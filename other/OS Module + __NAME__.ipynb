{
 "cells": [
  {
   "cell_type": "code",
   "execution_count": 1,
   "id": "c06306d5",
   "metadata": {},
   "outputs": [],
   "source": [
    "import os, shutil"
   ]
  },
  {
   "cell_type": "markdown",
   "id": "69383046",
   "metadata": {},
   "source": [
    "os.getcwd()"
   ]
  },
  {
   "cell_type": "code",
   "execution_count": 2,
   "id": "a98bba61",
   "metadata": {},
   "outputs": [],
   "source": [
    "# '' in 'alphabet'"
   ]
  },
  {
   "cell_type": "code",
   "execution_count": null,
   "id": "e1502e94",
   "metadata": {},
   "outputs": [],
   "source": [
    "os.chdir('C:\\\\Users\\\\DELL\\\\Downloads\\\\Documents\\\\ipython_file')"
   ]
  },
  {
   "cell_type": "code",
   "execution_count": null,
   "id": "1b1324a6",
   "metadata": {},
   "outputs": [],
   "source": [
    "os.getcwd()"
   ]
  },
  {
   "cell_type": "code",
   "execution_count": null,
   "id": "511c87c9",
   "metadata": {},
   "outputs": [],
   "source": [
    "os.listdir()"
   ]
  },
  {
   "cell_type": "code",
   "execution_count": null,
   "id": "cd855397",
   "metadata": {},
   "outputs": [],
   "source": [
    "os.mkdir('newfolder')"
   ]
  },
  {
   "cell_type": "code",
   "execution_count": null,
   "id": "423c2f43",
   "metadata": {},
   "outputs": [],
   "source": [
    "os.makedirs('newfolder1/testfolder')"
   ]
  },
  {
   "cell_type": "code",
   "execution_count": null,
   "id": "fac0b738",
   "metadata": {},
   "outputs": [],
   "source": [
    "os.rmdir('newfolder')\n",
    "os.removedirs('newfolder1/testfolder')"
   ]
  },
  {
   "cell_type": "code",
   "execution_count": null,
   "id": "c557c847",
   "metadata": {},
   "outputs": [],
   "source": [
    "os.rename('python.txt', 'python1.txt')"
   ]
  },
  {
   "cell_type": "code",
   "execution_count": null,
   "id": "ff6cd300",
   "metadata": {},
   "outputs": [],
   "source": [
    "os.rename('python1.txt', 'python.txt')"
   ]
  },
  {
   "cell_type": "code",
   "execution_count": null,
   "id": "f83017ae",
   "metadata": {},
   "outputs": [],
   "source": [
    "print(os.stat('python.txt'))"
   ]
  },
  {
   "cell_type": "code",
   "execution_count": null,
   "id": "7b93cd35",
   "metadata": {},
   "outputs": [],
   "source": [
    "print(os.stat('python.txt').st_size)"
   ]
  },
  {
   "cell_type": "code",
   "execution_count": null,
   "id": "008829e7",
   "metadata": {},
   "outputs": [],
   "source": [
    "from datetime import datetime"
   ]
  },
  {
   "cell_type": "code",
   "execution_count": null,
   "id": "172b0516",
   "metadata": {},
   "outputs": [],
   "source": [
    "modtime = os.stat('python.txt').st_mtime"
   ]
  },
  {
   "cell_type": "code",
   "execution_count": null,
   "id": "c7696ceb",
   "metadata": {},
   "outputs": [],
   "source": [
    "print(datetime.fromtimestamp(modtime))"
   ]
  },
  {
   "cell_type": "code",
   "execution_count": null,
   "id": "c18b12db",
   "metadata": {},
   "outputs": [],
   "source": [
    "'C:\\\\Users\\\\DELL\\\\Downloads\\\\Documents'"
   ]
  },
  {
   "cell_type": "code",
   "execution_count": null,
   "id": "b3eb01f7",
   "metadata": {},
   "outputs": [],
   "source": [
    "for dirpath, dirnames, filenames in os.walk('C:\\\\Users\\\\DELL\\\\Downloads\\\\Documents'):\n",
    "    print('Current Path:' , dirpath)\n",
    "    print('Directories:' , dirnames)\n",
    "    print('Files:' , filenames)\n",
    "    print()"
   ]
  },
  {
   "cell_type": "code",
   "execution_count": null,
   "id": "3fc7f07c",
   "metadata": {},
   "outputs": [],
   "source": [
    "os.environ.get('HOMEPATH')"
   ]
  },
  {
   "cell_type": "code",
   "execution_count": null,
   "id": "5144dc1e",
   "metadata": {},
   "outputs": [],
   "source": [
    "os.listdir(os.environ.get('HOMEPATH'))"
   ]
  },
  {
   "cell_type": "code",
   "execution_count": null,
   "id": "cd91d07a",
   "metadata": {},
   "outputs": [],
   "source": [
    "filepath = os.path.join(os.environ.get('HOMEPATH'),'text.txt')"
   ]
  },
  {
   "cell_type": "code",
   "execution_count": null,
   "id": "ea8d4b91",
   "metadata": {},
   "outputs": [],
   "source": [
    "filepath"
   ]
  },
  {
   "cell_type": "code",
   "execution_count": null,
   "id": "9ebc0f21",
   "metadata": {},
   "outputs": [],
   "source": [
    "os.path.basename('/tmp/test.txt')"
   ]
  },
  {
   "cell_type": "code",
   "execution_count": null,
   "id": "87f00a48",
   "metadata": {},
   "outputs": [],
   "source": [
    "os.path.dirname('/tmp/test.txt')"
   ]
  },
  {
   "cell_type": "code",
   "execution_count": null,
   "id": "23dedd87",
   "metadata": {},
   "outputs": [],
   "source": [
    "os.path.split('/tmp/test.txt')"
   ]
  },
  {
   "cell_type": "code",
   "execution_count": null,
   "id": "4698c76c",
   "metadata": {},
   "outputs": [],
   "source": [
    "os.path.exists('/tmp/test.txt')"
   ]
  },
  {
   "cell_type": "code",
   "execution_count": null,
   "id": "37ffaf8e",
   "metadata": {},
   "outputs": [],
   "source": [
    "os.path.isfile('/tmp/test.txt')"
   ]
  },
  {
   "cell_type": "code",
   "execution_count": null,
   "id": "2f1c58e4",
   "metadata": {},
   "outputs": [],
   "source": [
    "os.path.splitext('/tmp/test.txt')"
   ]
  },
  {
   "cell_type": "code",
   "execution_count": null,
   "id": "1957ce58",
   "metadata": {},
   "outputs": [],
   "source": [
    "print(__name__)"
   ]
  },
  {
   "cell_type": "code",
   "execution_count": null,
   "id": "c2e8ef7c",
   "metadata": {
    "scrolled": true
   },
   "outputs": [],
   "source": [
    "print('first module:',__name__)"
   ]
  },
  {
   "cell_type": "code",
   "execution_count": null,
   "id": "7cb63980",
   "metadata": {},
   "outputs": [],
   "source": [
    "import os"
   ]
  },
  {
   "cell_type": "code",
   "execution_count": null,
   "id": "177aca4e",
   "metadata": {},
   "outputs": [],
   "source": [
    "os.getcwd()"
   ]
  },
  {
   "cell_type": "code",
   "execution_count": null,
   "id": "dc4f5f96",
   "metadata": {},
   "outputs": [],
   "source": [
    "os.chdir('D:\\\\data_sale\\\\ipython_file\\\\rename_files')"
   ]
  },
  {
   "cell_type": "code",
   "execution_count": null,
   "id": "e2d72c70",
   "metadata": {},
   "outputs": [],
   "source": [
    "os.getcwd()"
   ]
  },
  {
   "cell_type": "code",
   "execution_count": null,
   "id": "7a1f97a1",
   "metadata": {},
   "outputs": [],
   "source": [
    "os.listdir()"
   ]
  },
  {
   "cell_type": "code",
   "execution_count": null,
   "id": "3fd5c4a0",
   "metadata": {},
   "outputs": [],
   "source": [
    "for f in os.listdir():\n",
    "    print(f)\n",
    "    f_name, f_ext = os.path.splitext(f)\n",
    "    print(f_name)\n",
    "    f_title, f_course, f_num = f_name.split('-')"
   ]
  },
  {
   "cell_type": "code",
   "execution_count": null,
   "id": "224dbef3",
   "metadata": {},
   "outputs": [],
   "source": [
    "f_title = f_title.strip()\n",
    "f_course = f_course.strip()\n",
    "f_num = f_num.strip()[1:].zfill(2)\n",
    "new_name = '{}-{}{}'.format(f_num, f_title, f_ext)\n",
    "os.rename(f, new_name)\n",
    "print(f)"
   ]
  },
  {
   "cell_type": "code",
   "execution_count": null,
   "id": "09776eb2",
   "metadata": {},
   "outputs": [],
   "source": [
    "for dirpath, dirnames, f in os.walk('D:\\\\Postgres-102'):\n",
    "    print(dirpath)"
   ]
  },
  {
   "cell_type": "code",
   "execution_count": null,
   "id": "8db5b3cd",
   "metadata": {},
   "outputs": [],
   "source": [
    "for dirpath, dirnames, f in os.walk('D:\\\\Postgres-102'):\n",
    "    dirpath.split(\"\\\\\")\n",
    "    if (len(f)) > 0:\n",
    "        for l in f:\n",
    "            print(l)"
   ]
  },
  {
   "cell_type": "code",
   "execution_count": null,
   "id": "2168c6b7",
   "metadata": {},
   "outputs": [],
   "source": [
    "mp4list= []\n",
    "for dirpath, dirnames, f in os.walk('D:\\\\Postgres-102'):\n",
    "    dirpath.split(\"\\\\\")\n",
    "    if (len(f)) > 0:\n",
    "        for l in f:\n",
    "            f_name, f_ext = os.path.splitext(l)\n",
    "            if f_ext == \".mp4\":\n",
    "                mp4list.append(l)\n",
    "print(len(mp4list))"
   ]
  },
  {
   "cell_type": "code",
   "execution_count": null,
   "id": "ce32b737",
   "metadata": {},
   "outputs": [],
   "source": [
    "for dirpath, dirnames, f in os.walk('D:\\\\Spark101'):\n",
    "    print(dirpath)"
   ]
  },
  {
   "cell_type": "code",
   "execution_count": null,
   "id": "9b5aee5a",
   "metadata": {},
   "outputs": [],
   "source": [
    "os.path.isfile(\"D:/Spark101/01 Learn all the buzzwords! And install the Hortonworks Data Platform Sandbox-20210905T070924Z-001/01 Learn all the buzzwords! And install the Hortonworks Data Platform Sandbox/001 Udemy 101_ Getting the Most From This Course.en.srt\")"
   ]
  },
  {
   "cell_type": "code",
   "execution_count": null,
   "id": "d09cca5a",
   "metadata": {},
   "outputs": [],
   "source": [
    "os.path.isfile(\"D:/Spark101/01 Learn all the buzzwords! And install the Hortonworks Data Platform Sandbox-20210905T070924Z-001/01 Learn all the buzzwords! And install the Hortonworks Data Platform Sandbox/001 Udemy 101_ Getting the Most From This Course.en.srt\")"
   ]
  },
  {
   "cell_type": "code",
   "execution_count": null,
   "id": "0a608823",
   "metadata": {},
   "outputs": [],
   "source": [
    "path = r'D:\\Spark101\\01 Learn all the buzzwords! And install the Hortonworks Data Platform Sandbox-20210905T070924Z-001\\01 Learn all the buzzwords! And install the Hortonworks Data Platform Sandbox\\001 Udemy 101_ Getting the Most From This Course.en.srt'"
   ]
  },
  {
   "cell_type": "code",
   "execution_count": null,
   "id": "fb4f7644",
   "metadata": {},
   "outputs": [],
   "source": [
    "os.path.isfile(path)"
   ]
  },
  {
   "cell_type": "code",
   "execution_count": 4,
   "id": "7b2a614e",
   "metadata": {},
   "outputs": [
    {
     "name": "stdout",
     "output_type": "stream",
     "text": [
      "RE\n"
     ]
    }
   ],
   "source": [
    "path=r'D:\\Flask101\\RE'\n",
    "for file in os.listdir(path):\n",
    "    print(file)"
   ]
  },
  {
   "cell_type": "code",
   "execution_count": 4,
   "id": "f11c2a04",
   "metadata": {},
   "outputs": [],
   "source": [
    "import zipfile\n",
    "# with zipfile.ZipFile(path_to_zip_file, 'r') as zip_ref:\n",
    "#     zip_ref.extractall(directory_to_extract_to)"
   ]
  },
  {
   "cell_type": "code",
   "execution_count": 2,
   "id": "3bfaa03a",
   "metadata": {},
   "outputs": [],
   "source": [
    "#start here\n",
    "path = r'D:\\\\Django_Rest_101'"
   ]
  },
  {
   "cell_type": "code",
   "execution_count": 5,
   "id": "172436cf",
   "metadata": {},
   "outputs": [
    {
     "name": "stdout",
     "output_type": "stream",
     "text": [
      "01 Course Introduction-20220924T094751Z-001.zip\n",
      "02 Basic API Concepts - Theory-20220924T094751Z-001.zip\n",
      "03 API With Django-20220924T094752Z-001.zip\n",
      "04 Django REST Framework-20220924T094754Z-001.zip\n",
      "06 Postman and Project Update-20220924T094800Z-001.zip\n",
      "07 Permissions-20220924T094802Z-001.zip\n",
      "08 Authentication-20220924T094805Z-001.zip\n",
      "09 Basic Authentication-20220924T094807Z-001.zip\n",
      "10 Token Authentication-20220924T094809Z-001.zip\n",
      "11 Manual Testing Entire Project-20220924T094812Z-001.zip\n",
      "12 JWT Authentication-20220924T094814Z-001.zip\n",
      "13 Throttling-20220924T094816Z-001.zip\n",
      "14 Filtering, Searching, Ordering-20220924T094818Z-001.zip\n",
      "15 Pagination-20220924T094820Z-001.zip\n",
      "16 Automated API Testing-20220924T094822Z-001.zip\n",
      "17 Project Code Source-20220924T094824Z-001.zip\n",
      "18 Optional - Code Cleanup-20220924T094826Z-001.zip\n",
      "19 Thank You For Being Here!-20220924T094828Z-001.zip\n",
      "20 Bonus - What's Next_-20220924T094830Z-001.zip\n"
     ]
    }
   ],
   "source": [
    "for file in os.listdir(path):\n",
    "    print(file)\n",
    "    with zipfile.ZipFile(path+'\\\\'+file, 'r') as zip_ref:\n",
    "        zip_ref.extractall(path)"
   ]
  },
  {
   "cell_type": "code",
   "execution_count": 7,
   "id": "74329986",
   "metadata": {
    "scrolled": false
   },
   "outputs": [
    {
     "name": "stdout",
     "output_type": "stream",
     "text": [
      "D:\\\\Django_Rest_101\\01 Course Introduction\n",
      "D:\\\\Django_Rest_101\\02 Basic API Concepts - Theory\n",
      "D:\\\\Django_Rest_101\\03 API With Django\n",
      "D:\\\\Django_Rest_101\\04 Django REST Framework\n",
      "D:\\\\Django_Rest_101\\06 Postman and Project Update\n",
      "D:\\\\Django_Rest_101\\07 Permissions\n",
      "D:\\\\Django_Rest_101\\08 Authentication\n",
      "D:\\\\Django_Rest_101\\09 Basic Authentication\n",
      "D:\\\\Django_Rest_101\\10 Token Authentication\n",
      "D:\\\\Django_Rest_101\\11 Manual Testing Entire Project\n",
      "D:\\\\Django_Rest_101\\12 JWT Authentication\n",
      "D:\\\\Django_Rest_101\\13 Throttling\n",
      "D:\\\\Django_Rest_101\\14 Filtering, Searching, Ordering\n",
      "D:\\\\Django_Rest_101\\15 Pagination\n",
      "D:\\\\Django_Rest_101\\16 Automated API Testing\n",
      "D:\\\\Django_Rest_101\\17 Project Code Source\n",
      "D:\\\\Django_Rest_101\\18 Optional - Code Cleanup\n",
      "D:\\\\Django_Rest_101\\19 Thank You For Being Here!\n",
      "D:\\\\Django_Rest_101\\20 Bonus - What_s Next_\n"
     ]
    }
   ],
   "source": [
    "path=path\n",
    "for file in os.listdir(path):\n",
    "    trimfile=file[0:2]\n",
    "    print(r'{}\\{}'.format(path, file))\n",
    "    os.rename(r'{}\\{}'.format(path, file), r'{}\\{}'.format(path, trimfile))"
   ]
  },
  {
   "cell_type": "code",
   "execution_count": 9,
   "id": "a817b16e",
   "metadata": {},
   "outputs": [],
   "source": [
    "path=path\n",
    "for dirpath, dirnames, f in os.walk(path):\n",
    "    if (len(f)) > 0:\n",
    "        for l in f:\n",
    "            a4 = dirpath.split(\"\\\\\")[3]\n",
    "            a4=a4[0:2]\n",
    "            f_name, f_ext = os.path.splitext(l)\n",
    "            source_name = r'{}\\{}'.format(dirpath,l)\n",
    "            des_name = r'{}\\{}-{}{}'.format(dirpath,a4, f_name, f_ext)\n",
    "            os.rename(source_name, des_name)"
   ]
  },
  {
   "cell_type": "code",
   "execution_count": 6,
   "id": "78acf0f4",
   "metadata": {
    "scrolled": true
   },
   "outputs": [],
   "source": [
    "# path=r'D:\\\\Django_AppEngine'\n",
    "# for dirpath, dirnames, f in os.walk(path):\n",
    "#     if (len(f)) > 0:\n",
    "#         for l in f:\n",
    "#             a1,a2,a3,a4 = dirpath.split(\"\\\\\")\n",
    "#             a4=a4[0:2]\n",
    "#             f_name, f_ext = os.path.splitext(l)\n",
    "#             source_name = r'{}\\{}'.format(dirpath,l)\n",
    "#             des_name = r'{}\\{}-{}{}'.format(dirpath,a4, f_name, f_ext)\n",
    "#             os.rename(source_name, des_name)"
   ]
  },
  {
   "cell_type": "code",
   "execution_count": 10,
   "id": "7b48d64f",
   "metadata": {},
   "outputs": [],
   "source": [
    "for dirpath, dirnames, f in os.walk(path):\n",
    "    if (len(f)) > 0:\n",
    "        for l in f:\n",
    "            f_name, f_ext = os.path.splitext(l)\n",
    "            if f_ext == \".mp4\":\n",
    "                source_name = r'{}\\{}'.format(dirpath,l)\n",
    "                shutil.move(source_name, \"D:\\\\mp4\\\\\"+l)"
   ]
  },
  {
   "cell_type": "code",
   "execution_count": 12,
   "id": "92746837",
   "metadata": {},
   "outputs": [
    {
     "name": "stdout",
     "output_type": "stream",
     "text": [
      "D:\\mp4\\01-001 Welcome To The Course.mp4\n",
      "D:\\mp4\\01-002 What Is Bootstrap _ Why Use It.mp4\n",
      "D:\\mp4\\01-003 What_s New In Bootstrap 4.mp4\n",
      "D:\\mp4\\01-004 Initial Environment Setup.mp4\n",
      "D:\\mp4\\01-005 Bootstrap Sandbox Setup.mp4\n",
      "D:\\mp4\\02-001 Section Introduction.mp4\n",
      "D:\\mp4\\02-002 Headings _ Basic Typography.mp4\n",
      "D:\\mp4\\02-003 Text Alignment _ Display.mp4\n",
      "D:\\mp4\\02-004 Floats _ Fixed Positions.mp4\n",
      "D:\\mp4\\02-005 Colors _ Background.mp4\n",
      "D:\\mp4\\02-006 Margin _ Padding Spacing.mp4\n",
      "D:\\mp4\\02-007 Sizing _ Borders.mp4\n",
      "D:\\mp4\\02-008 CSS Breakpoints.mp4\n",
      "D:\\mp4\\03-001 Section Intro.mp4\n",
      "D:\\mp4\\03-002 Buttons _ Button Groups.mp4\n",
      "D:\\mp4\\03-003 Navbar _ Navs.mp4\n",
      "D:\\mp4\\03-004 List Groups _ Badges.mp4\n",
      "D:\\mp4\\03-005 Forms _ Input.mp4\n",
      "D:\\mp4\\03-006 Input Groups.mp4\n",
      "D:\\mp4\\03-007 Alerts _ Progress Bars.mp4\n",
      "D:\\mp4\\03-008 Tables _ Pagination.mp4\n",
      "D:\\mp4\\03-009 Working With Cards.mp4\n",
      "D:\\mp4\\03-010 Media Objects.mp4\n",
      "D:\\mp4\\03-011 Jumbotron.mp4\n",
      "D:\\mp4\\04-001 Section Introduction.mp4\n",
      "D:\\mp4\\04-002 Grid System.mp4\n",
      "D:\\mp4\\04-003 Grid Alignment.mp4\n",
      "D:\\mp4\\04-004 Flexbox Classes.mp4\n",
      "D:\\mp4\\04-005 Auto Margin, Wrap _ Ordering.mp4\n",
      "D:\\mp4\\05-001 Section Introduction.mp4\n",
      "D:\\mp4\\05-002 Carousel Slider.mp4\n",
      "D:\\mp4\\05-003 Collapse _ Accordion.mp4\n",
      "D:\\mp4\\05-004 Tooltips.mp4\n",
      "D:\\mp4\\05-005 Popovers.mp4\n",
      "D:\\mp4\\05-006 Modals.mp4\n",
      "D:\\mp4\\05-007 ScrollSpy _ Smooth Scolling.mp4\n",
      "D:\\mp4\\06-001 Creating The Boiler.mp4\n",
      "D:\\mp4\\07-001 Project Intro.mp4\n",
      "D:\\mp4\\07-002 Setup _ Navbar.mp4\n",
      "D:\\mp4\\07-003 Home Section Area.mp4\n",
      "D:\\mp4\\07-004 Explore Section Area.mp4\n",
      "D:\\mp4\\07-005 Create _ Share Section Areas.mp4\n",
      "D:\\mp4\\07-006 Footer, Contact Modal _ Menu Smooth Scroll.mp4\n",
      "D:\\mp4\\08-001 Project Intro.mp4\n",
      "D:\\mp4\\08-002 Setting Up Sass With Koala.mp4\n",
      "D:\\mp4\\08-003 Custom Navbar _ Logo.mp4\n",
      "D:\\mp4\\08-004 Showcase _ Primary Color Change.mp4\n",
      "D:\\mp4\\08-005 Newsletter _ Boxes.mp4\n",
      "D:\\mp4\\08-006 About Section With Accordion.mp4\n",
      "D:\\mp4\\08-007 Authors Area.mp4\n",
      "D:\\mp4\\08-008 Contact _ Footer.mp4\n",
      "D:\\mp4\\09-001 Project Intro.mp4\n",
      "D:\\mp4\\09-002 Showcase With Carousel.mp4\n",
      "D:\\mp4\\09-003 Home Icons, Heading _ Info Sections.mp4\n",
      "D:\\mp4\\09-004 Video Section With Autoplay Modal.mp4\n",
      "D:\\mp4\\09-005 Photo Gallery _ Newsletter.mp4\n",
      "D:\\mp4\\09-006 Page Header _ About Section.mp4\n",
      "D:\\mp4\\09-007 Icon Boxes _ Testimonial Slider.mp4\n",
      "D:\\mp4\\09-008 Services Page With FAQ Accordion.mp4\n",
      "D:\\mp4\\09-009 Blog Page With Cards.mp4\n",
      "D:\\mp4\\09-010 Contact _ Staff Sections.mp4\n",
      "D:\\mp4\\10-001 Project Intro.mp4\n",
      "D:\\mp4\\10-002 Navbar _ Main Header.mp4\n",
      "D:\\mp4\\10-003 Add Buttons _ Modals.mp4\n",
      "D:\\mp4\\10-004 Finishing The Dashboard.mp4\n",
      "D:\\mp4\\10-005 Resource Table Pages.mp4\n",
      "D:\\mp4\\10-006 Details _ Settings Pages.mp4\n",
      "D:\\mp4\\10-007 Profile _ Login Page.mp4\n",
      "D:\\mp4\\11-001 Project Intro.mp4\n",
      "D:\\mp4\\11-002 Main Header.mp4\n",
      "D:\\mp4\\11-003 Home Collapse Content.mp4\n",
      "D:\\mp4\\11-004 Resume Collapse Content.mp4\n",
      "D:\\mp4\\11-005 Work Collapse Content.mp4\n",
      "D:\\mp4\\11-006 Contact Collapse Content.mp4\n"
     ]
    }
   ],
   "source": [
    "for file in os.listdir(\"D:\\\\mp4\"):\n",
    "    print(\"D:\\\\mp4\\\\\"+ file)"
   ]
  },
  {
   "cell_type": "code",
   "execution_count": null,
   "id": "0d15e225",
   "metadata": {},
   "outputs": [],
   "source": [
    "for dirpath, dirnames, f in os.walk('D:\\\\Apache Kafka Practical Guide'):\n",
    "    dirpath.split(\"\\\\\")\n",
    "    if (len(f)) > 0:\n",
    "        for l in f:\n",
    "            a1,a2,a3 = dirpath.split(\"\\\\\")\n",
    "            f_name, f_ext = os.path.splitext(l)\n",
    "            new_name = '{}-{}{}'.format(a3, f_name, f_ext)\n",
    "            os.rename(dirpath+\"\\\\\"+l, dirpath+\"\\\\\"+new_name)"
   ]
  },
  {
   "cell_type": "code",
   "execution_count": null,
   "id": "9be976e4",
   "metadata": {},
   "outputs": [],
   "source": [
    "for dirpath, dirnames, f in os.walk('D:\\\\Apache Kafka Practical Guide'):\n",
    "    dirpath.split(\"\\\\\")\n",
    "    if (len(f)) > 0:\n",
    "        for l in f:\n",
    "            f_name, f_ext = os.path.splitext(l)\n",
    "            if f_ext == \".mp4\":\n",
    "                shutil.move(dirpath+\"\\\\\"+l, \"D:\\\\mp4\\\\\"+l)"
   ]
  },
  {
   "cell_type": "code",
   "execution_count": null,
   "id": "99dafd83",
   "metadata": {},
   "outputs": [],
   "source": [
    "print(next(g))"
   ]
  },
  {
   "cell_type": "code",
   "execution_count": 3,
   "id": "978c4b99",
   "metadata": {},
   "outputs": [],
   "source": [
    "list_files = []\n",
    "for file in os.listdir('D:\\data_sale\\ipython_file\\csv_data'):\n",
    "    if file.endswith(\".csv\"):\n",
    "        list_files.append(file)\n"
   ]
  },
  {
   "cell_type": "code",
   "execution_count": 4,
   "id": "f02ad993",
   "metadata": {},
   "outputs": [
    {
     "data": {
      "text/plain": [
       "['Rawdata1.csv', 'Rawdata2.csv']"
      ]
     },
     "execution_count": 4,
     "metadata": {},
     "output_type": "execute_result"
    }
   ],
   "source": [
    "list_files"
   ]
  },
  {
   "cell_type": "code",
   "execution_count": 4,
   "id": "8d0903ea",
   "metadata": {},
   "outputs": [],
   "source": [
    "media_info = MediaInfo.parse(\"my_video_file.mp4\")"
   ]
  },
  {
   "cell_type": "code",
   "execution_count": 5,
   "id": "32359e21",
   "metadata": {},
   "outputs": [],
   "source": [
    "duration_in_ms = media_info.tracks[0].duration"
   ]
  },
  {
   "cell_type": "code",
   "execution_count": 8,
   "id": "1d31025c",
   "metadata": {},
   "outputs": [
    {
     "data": {
      "text/plain": [
       "6.0937"
      ]
     },
     "execution_count": 8,
     "metadata": {},
     "output_type": "execute_result"
    }
   ],
   "source": [
    "duration_in_ms/1000/60"
   ]
  },
  {
   "cell_type": "code",
   "execution_count": 11,
   "id": "30774260",
   "metadata": {},
   "outputs": [],
   "source": [
    "lst = os.listdir(\"D:\\\\mp5\")"
   ]
  },
  {
   "cell_type": "code",
   "execution_count": 12,
   "id": "bf4a729a",
   "metadata": {},
   "outputs": [],
   "source": [
    "newlst = [\"D:\\\\mp5\\\\\"+str(x) for x in lst]"
   ]
  },
  {
   "cell_type": "code",
   "execution_count": 24,
   "id": "2f72971f",
   "metadata": {},
   "outputs": [],
   "source": [
    "dur_lst = [MediaInfo.parse(x).tracks[0].duration for x in newlst]"
   ]
  },
  {
   "cell_type": "code",
   "execution_count": 25,
   "id": "07571078",
   "metadata": {},
   "outputs": [],
   "source": [
    "df1 = pd.DataFrame(dur_lst)"
   ]
  },
  {
   "cell_type": "code",
   "execution_count": 26,
   "id": "e0774230",
   "metadata": {},
   "outputs": [],
   "source": [
    "df1.to_clipboard()"
   ]
  },
  {
   "cell_type": "code",
   "execution_count": null,
   "id": "a2bd472d",
   "metadata": {},
   "outputs": [],
   "source": []
  }
 ],
 "metadata": {
  "kernelspec": {
   "display_name": "Python 3.8.10 ('venv': venv)",
   "language": "python",
   "name": "python3"
  },
  "language_info": {
   "codemirror_mode": {
    "name": "ipython",
    "version": 3
   },
   "file_extension": ".py",
   "mimetype": "text/x-python",
   "name": "python",
   "nbconvert_exporter": "python",
   "pygments_lexer": "ipython3",
   "version": "3.8.10"
  },
  "vscode": {
   "interpreter": {
    "hash": "8fb55849e6741974ce442ee684e971e1b6b22c29ca2b25c3b9069bf531e0354a"
   }
  }
 },
 "nbformat": 4,
 "nbformat_minor": 5
}
