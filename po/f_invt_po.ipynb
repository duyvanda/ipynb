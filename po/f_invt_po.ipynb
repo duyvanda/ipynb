{
 "cells": [
  {
   "cell_type": "code",
   "execution_count": 1,
   "metadata": {},
   "outputs": [
    {
     "name": "stdout",
     "output_type": "stream",
     "text": [
      "Default bq project:  spatial-vision-343005.biteam\n"
     ]
    }
   ],
   "source": [
    "from utils.df_handle import *"
   ]
  },
  {
   "cell_type": "code",
   "execution_count": 2,
   "metadata": {},
   "outputs": [],
   "source": [
    "DNGH = pd.read_csv(\"DNGH_PN_T5.csv\")"
   ]
  },
  {
   "cell_type": "code",
   "execution_count": 3,
   "metadata": {},
   "outputs": [],
   "source": [
    "DNGH.columns = cleancols(DNGH)\n",
    "DNGH.columns = lower_col(DNGH)"
   ]
  },
  {
   "cell_type": "code",
   "execution_count": 4,
   "metadata": {},
   "outputs": [],
   "source": [
    "KHGH = pd.read_csv(\"KHGH_NM_PN_T5.csv\")\n",
    "\n",
    "KHGH.columns = cleancols(KHGH)\n",
    "KHGH.columns = lower_col(KHGH)"
   ]
  },
  {
   "cell_type": "code",
   "execution_count": 10,
   "metadata": {},
   "outputs": [],
   "source": [
    "DNGH.thang = pd.to_datetime(DNGH.thang)\n",
    "KHGH.po_pn_thang = pd.to_datetime(KHGH.po_pn_thang)"
   ]
  },
  {
   "cell_type": "code",
   "execution_count": 13,
   "metadata": {},
   "outputs": [],
   "source": [
    "KHGH.ngaypo = pd.to_datetime(KHGH.ngaypo)\n",
    "KHGH.ngaygiaohang = pd.to_datetime(KHGH.ngaygiaohang)"
   ]
  },
  {
   "cell_type": "code",
   "execution_count": 15,
   "metadata": {},
   "outputs": [
    {
     "data": {
      "text/plain": [
       "masp                   object\n",
       "tensp                  object\n",
       "dvt                    object\n",
       "slpot04bs               int64\n",
       "slpot052022             int64\n",
       "total                   int64\n",
       "denghi                 object\n",
       "thang          datetime64[ns]\n",
       "dtype: object"
      ]
     },
     "execution_count": 15,
     "metadata": {},
     "output_type": "execute_result"
    }
   ],
   "source": [
    "DNGH.dtypes"
   ]
  },
  {
   "cell_type": "code",
   "execution_count": 17,
   "metadata": {},
   "outputs": [
    {
     "data": {
      "text/plain": [
       "masp                      object\n",
       "ngaypo            datetime64[ns]\n",
       "po                         int64\n",
       "po_pn_thang       datetime64[ns]\n",
       "solo                      object\n",
       "colo                       int64\n",
       "ngaygiaohang      datetime64[ns]\n",
       "songaygiaohang             int64\n",
       "dtype: object"
      ]
     },
     "execution_count": 17,
     "metadata": {},
     "output_type": "execute_result"
    }
   ],
   "source": [
    "KHGH.dtypes"
   ]
  },
  {
   "cell_type": "code",
   "execution_count": 16,
   "metadata": {},
   "outputs": [],
   "source": [
    "drop_cols(KHGH, ['tensanpham','xuong','nhom','dvt', 'ghichu'])"
   ]
  },
  {
   "cell_type": "code",
   "execution_count": 18,
   "metadata": {},
   "outputs": [
    {
     "name": "stderr",
     "output_type": "stream",
     "text": [
      "1it [00:05,  5.05s/it]\n"
     ]
    }
   ],
   "source": [
    "bq_values_insert(DNGH, \"f_sc_dnghpn\", 1)"
   ]
  },
  {
   "cell_type": "code",
   "execution_count": 21,
   "metadata": {},
   "outputs": [
    {
     "name": "stderr",
     "output_type": "stream",
     "text": [
      "1it [00:03,  3.40s/it]\n"
     ]
    }
   ],
   "source": [
    "bq_values_insert(KHGH, \"f_sc_khghnm\", 1)"
   ]
  },
  {
   "cell_type": "code",
   "execution_count": null,
   "metadata": {},
   "outputs": [],
   "source": []
  }
 ],
 "metadata": {
  "interpreter": {
   "hash": "f94d6dad5013d632e8b52fc362848c71d5234e1d7ba23afa22c3a2e55512dabd"
  },
  "kernelspec": {
   "display_name": "Python 3.9.6 ('venv': venv)",
   "language": "python",
   "name": "python3"
  },
  "language_info": {
   "codemirror_mode": {
    "name": "ipython",
    "version": 3
   },
   "file_extension": ".py",
   "mimetype": "text/x-python",
   "name": "python",
   "nbconvert_exporter": "python",
   "pygments_lexer": "ipython3",
   "version": "3.9.6"
  },
  "orig_nbformat": 4
 },
 "nbformat": 4,
 "nbformat_minor": 2
}
