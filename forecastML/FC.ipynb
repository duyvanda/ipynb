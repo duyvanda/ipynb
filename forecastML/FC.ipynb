{
 "cells": [
  {
   "cell_type": "code",
   "execution_count": 61,
   "metadata": {},
   "outputs": [],
   "source": [
    "from utils.df_handle import *\n",
    "sys.path.append(\"E:\\\\penv\\\\Lib\\\\site-packages\")\n",
    "from sklearn import *\n",
    "from pmdarima import *\n",
    "from pmdarima import auto_arima\n",
    "from statsmodels import *\n",
    "from statsmodels.tsa.arima.model import ARIMA\n",
    "from sklearn.metrics import mean_squared_error\n",
    "from matplotlib import pyplot\n",
    "import matplotlib.pyplot as plt\n",
    "from statsmodels.tsa.seasonal import seasonal_decompose\n",
    "from statsmodels.tsa.stattools import adfuller\n",
    "from statsmodels.graphics.tsaplots import plot_acf, plot_pacf"
   ]
  },
  {
   "cell_type": "code",
   "execution_count": 11,
   "metadata": {},
   "outputs": [],
   "source": [
    "sql=f\"\"\" select date(date_trunc(thang,month)) ngaychungtu ,masanpham,makenhkh,sum(soluong) soluong\n",
    "from spatial-vision-343005.biteam.f_monthly_sales\n",
    "where date(thang)<'2021-05-01' and masanpham not like 'V%'\n",
    "group by 1,2,3\n",
    "union all\n",
    "\n",
    "select date(date_trunc(ngaychungtu,month)) ngaychungtu ,masanpham,makenhkh,sum(soluong) soluong\n",
    "from spatial-vision-343005.biteam.f_sales\n",
    "where date(ngaychungtu)<'2022-06-01' and masanpham not like 'V%'\n",
    "group by 1,2,3 \"\"\""
   ]
  },
  {
   "cell_type": "code",
   "execution_count": 12,
   "metadata": {},
   "outputs": [],
   "source": [
    "df = get_bq_df(sql)"
   ]
  },
  {
   "cell_type": "code",
   "execution_count": 13,
   "metadata": {},
   "outputs": [
    {
     "data": {
      "text/html": [
       "<div>\n",
       "<style scoped>\n",
       "    .dataframe tbody tr th:only-of-type {\n",
       "        vertical-align: middle;\n",
       "    }\n",
       "\n",
       "    .dataframe tbody tr th {\n",
       "        vertical-align: top;\n",
       "    }\n",
       "\n",
       "    .dataframe thead th {\n",
       "        text-align: right;\n",
       "    }\n",
       "</style>\n",
       "<table border=\"1\" class=\"dataframe\">\n",
       "  <thead>\n",
       "    <tr style=\"text-align: right;\">\n",
       "      <th></th>\n",
       "      <th>ngaychungtu</th>\n",
       "      <th>masanpham</th>\n",
       "      <th>makenhkh</th>\n",
       "      <th>soluong</th>\n",
       "    </tr>\n",
       "  </thead>\n",
       "  <tbody>\n",
       "    <tr>\n",
       "      <th>0</th>\n",
       "      <td>2020-09-01</td>\n",
       "      <td>EH047</td>\n",
       "      <td>CLC</td>\n",
       "      <td>1398.0</td>\n",
       "    </tr>\n",
       "    <tr>\n",
       "      <th>1</th>\n",
       "      <td>2020-09-01</td>\n",
       "      <td>EH066</td>\n",
       "      <td>OTC</td>\n",
       "      <td>3806.0</td>\n",
       "    </tr>\n",
       "    <tr>\n",
       "      <th>2</th>\n",
       "      <td>2020-09-01</td>\n",
       "      <td>EH068</td>\n",
       "      <td>CLC</td>\n",
       "      <td>294.0</td>\n",
       "    </tr>\n",
       "    <tr>\n",
       "      <th>3</th>\n",
       "      <td>2020-09-01</td>\n",
       "      <td>EH074</td>\n",
       "      <td>CLC</td>\n",
       "      <td>653.0</td>\n",
       "    </tr>\n",
       "    <tr>\n",
       "      <th>4</th>\n",
       "      <td>2020-09-01</td>\n",
       "      <td>EH083</td>\n",
       "      <td>CLC</td>\n",
       "      <td>253.0</td>\n",
       "    </tr>\n",
       "    <tr>\n",
       "      <th>...</th>\n",
       "      <td>...</td>\n",
       "      <td>...</td>\n",
       "      <td>...</td>\n",
       "      <td>...</td>\n",
       "    </tr>\n",
       "    <tr>\n",
       "      <th>7666</th>\n",
       "      <td>2021-11-01</td>\n",
       "      <td>EH068</td>\n",
       "      <td>INS</td>\n",
       "      <td>100.0</td>\n",
       "    </tr>\n",
       "    <tr>\n",
       "      <th>7667</th>\n",
       "      <td>2021-09-01</td>\n",
       "      <td>EH088</td>\n",
       "      <td>DLPP</td>\n",
       "      <td>70.0</td>\n",
       "    </tr>\n",
       "    <tr>\n",
       "      <th>7668</th>\n",
       "      <td>2021-10-01</td>\n",
       "      <td>EH117</td>\n",
       "      <td>OTC</td>\n",
       "      <td>22.0</td>\n",
       "    </tr>\n",
       "    <tr>\n",
       "      <th>7669</th>\n",
       "      <td>2021-06-01</td>\n",
       "      <td>EH084</td>\n",
       "      <td>OTC</td>\n",
       "      <td>26.0</td>\n",
       "    </tr>\n",
       "    <tr>\n",
       "      <th>7670</th>\n",
       "      <td>2021-06-01</td>\n",
       "      <td>EH108</td>\n",
       "      <td>DLPP</td>\n",
       "      <td>5.0</td>\n",
       "    </tr>\n",
       "  </tbody>\n",
       "</table>\n",
       "<p>7671 rows × 4 columns</p>\n",
       "</div>"
      ],
      "text/plain": [
       "     ngaychungtu masanpham makenhkh  soluong\n",
       "0     2020-09-01     EH047      CLC   1398.0\n",
       "1     2020-09-01     EH066      OTC   3806.0\n",
       "2     2020-09-01     EH068      CLC    294.0\n",
       "3     2020-09-01     EH074      CLC    653.0\n",
       "4     2020-09-01     EH083      CLC    253.0\n",
       "...          ...       ...      ...      ...\n",
       "7666  2021-11-01     EH068      INS    100.0\n",
       "7667  2021-09-01     EH088     DLPP     70.0\n",
       "7668  2021-10-01     EH117      OTC     22.0\n",
       "7669  2021-06-01     EH084      OTC     26.0\n",
       "7670  2021-06-01     EH108     DLPP      5.0\n",
       "\n",
       "[7671 rows x 4 columns]"
      ]
     },
     "execution_count": 13,
     "metadata": {},
     "output_type": "execute_result"
    }
   ],
   "source": [
    "df"
   ]
  },
  {
   "cell_type": "code",
   "execution_count": 190,
   "metadata": {},
   "outputs": [],
   "source": [
    "df1=df"
   ]
  },
  {
   "cell_type": "code",
   "execution_count": 191,
   "metadata": {},
   "outputs": [],
   "source": [
    "df1['ngaychungtu']= pd.to_datetime(df1['ngaychungtu'])\n"
   ]
  },
  {
   "cell_type": "code",
   "execution_count": 192,
   "metadata": {},
   "outputs": [],
   "source": [
    "df1['soluong']= df1['soluong'].astype('int64')"
   ]
  },
  {
   "cell_type": "code",
   "execution_count": 62,
   "metadata": {},
   "outputs": [],
   "source": [
    "# df1['ngaychungtu']= df1['ngaychungtu'].astype('str')"
   ]
  },
  {
   "cell_type": "code",
   "execution_count": 193,
   "metadata": {},
   "outputs": [
    {
     "data": {
      "text/html": [
       "<div>\n",
       "<style scoped>\n",
       "    .dataframe tbody tr th:only-of-type {\n",
       "        vertical-align: middle;\n",
       "    }\n",
       "\n",
       "    .dataframe tbody tr th {\n",
       "        vertical-align: top;\n",
       "    }\n",
       "\n",
       "    .dataframe thead th {\n",
       "        text-align: right;\n",
       "    }\n",
       "</style>\n",
       "<table border=\"1\" class=\"dataframe\">\n",
       "  <thead>\n",
       "    <tr style=\"text-align: right;\">\n",
       "      <th></th>\n",
       "      <th>ngaychungtu</th>\n",
       "      <th>masanpham</th>\n",
       "      <th>makenhkh</th>\n",
       "      <th>soluong</th>\n",
       "    </tr>\n",
       "  </thead>\n",
       "  <tbody>\n",
       "    <tr>\n",
       "      <th>0</th>\n",
       "      <td>2020-09-01</td>\n",
       "      <td>EH047</td>\n",
       "      <td>CLC</td>\n",
       "      <td>1398</td>\n",
       "    </tr>\n",
       "    <tr>\n",
       "      <th>1</th>\n",
       "      <td>2020-09-01</td>\n",
       "      <td>EH066</td>\n",
       "      <td>OTC</td>\n",
       "      <td>3806</td>\n",
       "    </tr>\n",
       "    <tr>\n",
       "      <th>2</th>\n",
       "      <td>2020-09-01</td>\n",
       "      <td>EH068</td>\n",
       "      <td>CLC</td>\n",
       "      <td>294</td>\n",
       "    </tr>\n",
       "    <tr>\n",
       "      <th>3</th>\n",
       "      <td>2020-09-01</td>\n",
       "      <td>EH074</td>\n",
       "      <td>CLC</td>\n",
       "      <td>653</td>\n",
       "    </tr>\n",
       "    <tr>\n",
       "      <th>4</th>\n",
       "      <td>2020-09-01</td>\n",
       "      <td>EH083</td>\n",
       "      <td>CLC</td>\n",
       "      <td>253</td>\n",
       "    </tr>\n",
       "    <tr>\n",
       "      <th>...</th>\n",
       "      <td>...</td>\n",
       "      <td>...</td>\n",
       "      <td>...</td>\n",
       "      <td>...</td>\n",
       "    </tr>\n",
       "    <tr>\n",
       "      <th>7666</th>\n",
       "      <td>2021-11-01</td>\n",
       "      <td>EH068</td>\n",
       "      <td>INS</td>\n",
       "      <td>100</td>\n",
       "    </tr>\n",
       "    <tr>\n",
       "      <th>7667</th>\n",
       "      <td>2021-09-01</td>\n",
       "      <td>EH088</td>\n",
       "      <td>DLPP</td>\n",
       "      <td>70</td>\n",
       "    </tr>\n",
       "    <tr>\n",
       "      <th>7668</th>\n",
       "      <td>2021-10-01</td>\n",
       "      <td>EH117</td>\n",
       "      <td>OTC</td>\n",
       "      <td>22</td>\n",
       "    </tr>\n",
       "    <tr>\n",
       "      <th>7669</th>\n",
       "      <td>2021-06-01</td>\n",
       "      <td>EH084</td>\n",
       "      <td>OTC</td>\n",
       "      <td>26</td>\n",
       "    </tr>\n",
       "    <tr>\n",
       "      <th>7670</th>\n",
       "      <td>2021-06-01</td>\n",
       "      <td>EH108</td>\n",
       "      <td>DLPP</td>\n",
       "      <td>5</td>\n",
       "    </tr>\n",
       "  </tbody>\n",
       "</table>\n",
       "<p>7671 rows × 4 columns</p>\n",
       "</div>"
      ],
      "text/plain": [
       "     ngaychungtu masanpham makenhkh  soluong\n",
       "0     2020-09-01     EH047      CLC     1398\n",
       "1     2020-09-01     EH066      OTC     3806\n",
       "2     2020-09-01     EH068      CLC      294\n",
       "3     2020-09-01     EH074      CLC      653\n",
       "4     2020-09-01     EH083      CLC      253\n",
       "...          ...       ...      ...      ...\n",
       "7666  2021-11-01     EH068      INS      100\n",
       "7667  2021-09-01     EH088     DLPP       70\n",
       "7668  2021-10-01     EH117      OTC       22\n",
       "7669  2021-06-01     EH084      OTC       26\n",
       "7670  2021-06-01     EH108     DLPP        5\n",
       "\n",
       "[7671 rows x 4 columns]"
      ]
     },
     "execution_count": 193,
     "metadata": {},
     "output_type": "execute_result"
    }
   ],
   "source": [
    "df1"
   ]
  },
  {
   "cell_type": "code",
   "execution_count": null,
   "metadata": {},
   "outputs": [],
   "source": [
    "# for i in df['makenhkh'].unique().tolist():\n",
    "#     for t in df['masanpham'].unique().tolist():\n",
    "#         data_time_qty = df[(df['makenhkh']==i)&(df['masanpham']==t)][['ngaychungtu','soluong']].set_index('ngaychungtu').sort_index()\n"
   ]
  },
  {
   "cell_type": "code",
   "execution_count": 236,
   "metadata": {},
   "outputs": [],
   "source": [
    "osla =df1[(df1['masanpham']=='OH031')][['ngaychungtu','makenhkh','soluong']]"
   ]
  },
  {
   "cell_type": "code",
   "execution_count": 237,
   "metadata": {},
   "outputs": [],
   "source": [
    "osla.to_clipboard()"
   ]
  },
  {
   "cell_type": "code",
   "execution_count": 235,
   "metadata": {},
   "outputs": [],
   "source": [
    "osla.to_csv('osla.csv')"
   ]
  },
  {
   "cell_type": "code",
   "execution_count": 194,
   "metadata": {},
   "outputs": [],
   "source": [
    "data_time_qty = df1[(df1['makenhkh']=='OTC')&(df1['masanpham']=='OH031')][['ngaychungtu','soluong']]#.set_index('ngaychungtu').sort_index()"
   ]
  },
  {
   "cell_type": "code",
   "execution_count": 200,
   "metadata": {},
   "outputs": [],
   "source": [
    "data_time_qty = data_time_qty.sort_values(ascending=True,by='ngaychungtu').reset_index(drop=True)"
   ]
  },
  {
   "cell_type": "code",
   "execution_count": null,
   "metadata": {},
   "outputs": [],
   "source": [
    "# stepwise_model=auto_arima(data_time_qty,start_p=1, start_q=1,max_p=5,max_q=5,\n",
    "#                           m=52,start_P=1, d=1,trace=True, error_action='ignore',suppress_warnings=True,stepwise=True)"
   ]
  },
  {
   "cell_type": "code",
   "execution_count": null,
   "metadata": {},
   "outputs": [],
   "source": [
    "# result = adfuller(data_time_qty.soluong.dropna())\n",
    "# print('ADF Statistic: %f' % result[0])\n",
    "# print('p-value: %f' % result[1])"
   ]
  },
  {
   "cell_type": "code",
   "execution_count": 201,
   "metadata": {},
   "outputs": [
    {
     "data": {
      "image/png": "[encoded data removed]",
      "text/plain": [
       "<Figure size 936x432 with 1 Axes>"
      ]
     },
     "metadata": {
      "needs_background": "light"
     },
     "output_type": "display_data"
    }
   ],
   "source": [
    "plt.figure(figsize=(13,6))\n",
    "plt.plot(data_time_qty)\n",
    "plt.show()"
   ]
  },
  {
   "cell_type": "code",
   "execution_count": 21,
   "metadata": {},
   "outputs": [],
   "source": [
    "from statsmodels.tsa import *"
   ]
  },
  {
   "cell_type": "code",
   "execution_count": null,
   "metadata": {},
   "outputs": [],
   "source": [
    "result= seasonal_decompose(data_time_qty,model='multiplicative')\n"
   ]
  },
  {
   "cell_type": "code",
   "execution_count": 203,
   "metadata": {},
   "outputs": [
    {
     "data": {
      "image/png": "[encoded data removed]",
      "text/plain": [
       "<Figure size 432x288 with 4 Axes>"
      ]
     },
     "metadata": {
      "needs_background": "light"
     },
     "output_type": "display_data"
    }
   ],
   "source": [
    "result.plot()\n",
    "plt.show()"
   ]
  },
  {
   "cell_type": "code",
   "execution_count": 204,
   "metadata": {},
   "outputs": [
    {
     "data": {
      "text/html": [
       "<div>\n",
       "<style scoped>\n",
       "    .dataframe tbody tr th:only-of-type {\n",
       "        vertical-align: middle;\n",
       "    }\n",
       "\n",
       "    .dataframe tbody tr th {\n",
       "        vertical-align: top;\n",
       "    }\n",
       "\n",
       "    .dataframe thead th {\n",
       "        text-align: right;\n",
       "    }\n",
       "</style>\n",
       "<table border=\"1\" class=\"dataframe\">\n",
       "  <thead>\n",
       "    <tr style=\"text-align: right;\">\n",
       "      <th></th>\n",
       "      <th>soluong</th>\n",
       "    </tr>\n",
       "    <tr>\n",
       "      <th>ngaychungtu</th>\n",
       "      <th></th>\n",
       "    </tr>\n",
       "  </thead>\n",
       "  <tbody>\n",
       "    <tr>\n",
       "      <th>2019-01-01</th>\n",
       "      <td>567346</td>\n",
       "    </tr>\n",
       "    <tr>\n",
       "      <th>2019-02-01</th>\n",
       "      <td>165717</td>\n",
       "    </tr>\n",
       "    <tr>\n",
       "      <th>2019-03-01</th>\n",
       "      <td>355261</td>\n",
       "    </tr>\n",
       "    <tr>\n",
       "      <th>2019-04-01</th>\n",
       "      <td>917915</td>\n",
       "    </tr>\n",
       "    <tr>\n",
       "      <th>2019-05-01</th>\n",
       "      <td>62959</td>\n",
       "    </tr>\n",
       "    <tr>\n",
       "      <th>2019-06-01</th>\n",
       "      <td>345768</td>\n",
       "    </tr>\n",
       "    <tr>\n",
       "      <th>2019-07-01</th>\n",
       "      <td>295917</td>\n",
       "    </tr>\n",
       "    <tr>\n",
       "      <th>2019-08-01</th>\n",
       "      <td>259302</td>\n",
       "    </tr>\n",
       "    <tr>\n",
       "      <th>2019-09-01</th>\n",
       "      <td>298847</td>\n",
       "    </tr>\n",
       "    <tr>\n",
       "      <th>2019-10-01</th>\n",
       "      <td>101716</td>\n",
       "    </tr>\n",
       "    <tr>\n",
       "      <th>2019-11-01</th>\n",
       "      <td>434575</td>\n",
       "    </tr>\n",
       "    <tr>\n",
       "      <th>2019-12-01</th>\n",
       "      <td>338298</td>\n",
       "    </tr>\n",
       "    <tr>\n",
       "      <th>2020-01-01</th>\n",
       "      <td>316795</td>\n",
       "    </tr>\n",
       "    <tr>\n",
       "      <th>2020-02-01</th>\n",
       "      <td>243741</td>\n",
       "    </tr>\n",
       "    <tr>\n",
       "      <th>2020-03-01</th>\n",
       "      <td>301250</td>\n",
       "    </tr>\n",
       "    <tr>\n",
       "      <th>2020-04-01</th>\n",
       "      <td>445938</td>\n",
       "    </tr>\n",
       "    <tr>\n",
       "      <th>2020-05-01</th>\n",
       "      <td>350660</td>\n",
       "    </tr>\n",
       "    <tr>\n",
       "      <th>2020-06-01</th>\n",
       "      <td>393374</td>\n",
       "    </tr>\n",
       "    <tr>\n",
       "      <th>2020-07-01</th>\n",
       "      <td>393465</td>\n",
       "    </tr>\n",
       "    <tr>\n",
       "      <th>2020-08-01</th>\n",
       "      <td>486586</td>\n",
       "    </tr>\n",
       "    <tr>\n",
       "      <th>2020-09-01</th>\n",
       "      <td>283476</td>\n",
       "    </tr>\n",
       "    <tr>\n",
       "      <th>2020-10-01</th>\n",
       "      <td>323156</td>\n",
       "    </tr>\n",
       "    <tr>\n",
       "      <th>2020-11-01</th>\n",
       "      <td>544284</td>\n",
       "    </tr>\n",
       "    <tr>\n",
       "      <th>2020-12-01</th>\n",
       "      <td>507236</td>\n",
       "    </tr>\n",
       "    <tr>\n",
       "      <th>2021-01-01</th>\n",
       "      <td>369347</td>\n",
       "    </tr>\n",
       "    <tr>\n",
       "      <th>2021-02-01</th>\n",
       "      <td>267440</td>\n",
       "    </tr>\n",
       "    <tr>\n",
       "      <th>2021-03-01</th>\n",
       "      <td>315402</td>\n",
       "    </tr>\n",
       "    <tr>\n",
       "      <th>2021-04-01</th>\n",
       "      <td>377345</td>\n",
       "    </tr>\n",
       "    <tr>\n",
       "      <th>2021-05-01</th>\n",
       "      <td>394087</td>\n",
       "    </tr>\n",
       "    <tr>\n",
       "      <th>2021-06-01</th>\n",
       "      <td>424994</td>\n",
       "    </tr>\n",
       "    <tr>\n",
       "      <th>2021-07-01</th>\n",
       "      <td>461747</td>\n",
       "    </tr>\n",
       "    <tr>\n",
       "      <th>2021-08-01</th>\n",
       "      <td>424725</td>\n",
       "    </tr>\n",
       "    <tr>\n",
       "      <th>2021-09-01</th>\n",
       "      <td>475597</td>\n",
       "    </tr>\n",
       "    <tr>\n",
       "      <th>2021-10-01</th>\n",
       "      <td>407629</td>\n",
       "    </tr>\n",
       "    <tr>\n",
       "      <th>2021-11-01</th>\n",
       "      <td>463281</td>\n",
       "    </tr>\n",
       "    <tr>\n",
       "      <th>2021-12-01</th>\n",
       "      <td>543577</td>\n",
       "    </tr>\n",
       "  </tbody>\n",
       "</table>\n",
       "</div>"
      ],
      "text/plain": [
       "             soluong\n",
       "ngaychungtu         \n",
       "2019-01-01    567346\n",
       "2019-02-01    165717\n",
       "2019-03-01    355261\n",
       "2019-04-01    917915\n",
       "2019-05-01     62959\n",
       "2019-06-01    345768\n",
       "2019-07-01    295917\n",
       "2019-08-01    259302\n",
       "2019-09-01    298847\n",
       "2019-10-01    101716\n",
       "2019-11-01    434575\n",
       "2019-12-01    338298\n",
       "2020-01-01    316795\n",
       "2020-02-01    243741\n",
       "2020-03-01    301250\n",
       "2020-04-01    445938\n",
       "2020-05-01    350660\n",
       "2020-06-01    393374\n",
       "2020-07-01    393465\n",
       "2020-08-01    486586\n",
       "2020-09-01    283476\n",
       "2020-10-01    323156\n",
       "2020-11-01    544284\n",
       "2020-12-01    507236\n",
       "2021-01-01    369347\n",
       "2021-02-01    267440\n",
       "2021-03-01    315402\n",
       "2021-04-01    377345\n",
       "2021-05-01    394087\n",
       "2021-06-01    424994\n",
       "2021-07-01    461747\n",
       "2021-08-01    424725\n",
       "2021-09-01    475597\n",
       "2021-10-01    407629\n",
       "2021-11-01    463281\n",
       "2021-12-01    543577"
      ]
     },
     "execution_count": 204,
     "metadata": {},
     "output_type": "execute_result"
    }
   ],
   "source": [
    "train"
   ]
  },
  {
   "cell_type": "code",
   "execution_count": 206,
   "metadata": {},
   "outputs": [],
   "source": [
    "train = data_time_qty[:36]\n",
    "test =  data_time_qty[36:]"
   ]
  },
  {
   "cell_type": "code",
   "execution_count": 205,
   "metadata": {},
   "outputs": [
    {
     "data": {
      "text/html": [
       "<div>\n",
       "<style scoped>\n",
       "    .dataframe tbody tr th:only-of-type {\n",
       "        vertical-align: middle;\n",
       "    }\n",
       "\n",
       "    .dataframe tbody tr th {\n",
       "        vertical-align: top;\n",
       "    }\n",
       "\n",
       "    .dataframe thead th {\n",
       "        text-align: right;\n",
       "    }\n",
       "</style>\n",
       "<table border=\"1\" class=\"dataframe\">\n",
       "  <thead>\n",
       "    <tr style=\"text-align: right;\">\n",
       "      <th></th>\n",
       "      <th>ngaychungtu</th>\n",
       "      <th>soluong</th>\n",
       "    </tr>\n",
       "  </thead>\n",
       "  <tbody>\n",
       "    <tr>\n",
       "      <th>0</th>\n",
       "      <td>2019-01-01</td>\n",
       "      <td>567346</td>\n",
       "    </tr>\n",
       "    <tr>\n",
       "      <th>1</th>\n",
       "      <td>2019-02-01</td>\n",
       "      <td>165717</td>\n",
       "    </tr>\n",
       "    <tr>\n",
       "      <th>2</th>\n",
       "      <td>2019-03-01</td>\n",
       "      <td>355261</td>\n",
       "    </tr>\n",
       "    <tr>\n",
       "      <th>3</th>\n",
       "      <td>2019-04-01</td>\n",
       "      <td>917915</td>\n",
       "    </tr>\n",
       "    <tr>\n",
       "      <th>4</th>\n",
       "      <td>2019-05-01</td>\n",
       "      <td>62959</td>\n",
       "    </tr>\n",
       "  </tbody>\n",
       "</table>\n",
       "</div>"
      ],
      "text/plain": [
       "  ngaychungtu  soluong\n",
       "0  2019-01-01   567346\n",
       "1  2019-02-01   165717\n",
       "2  2019-03-01   355261\n",
       "3  2019-04-01   917915\n",
       "4  2019-05-01    62959"
      ]
     },
     "execution_count": 205,
     "metadata": {},
     "output_type": "execute_result"
    }
   ],
   "source": [
    "data_time_qty.head()"
   ]
  },
  {
   "cell_type": "code",
   "execution_count": 207,
   "metadata": {},
   "outputs": [
    {
     "data": {
      "text/html": [
       "<div>\n",
       "<style scoped>\n",
       "    .dataframe tbody tr th:only-of-type {\n",
       "        vertical-align: middle;\n",
       "    }\n",
       "\n",
       "    .dataframe tbody tr th {\n",
       "        vertical-align: top;\n",
       "    }\n",
       "\n",
       "    .dataframe thead th {\n",
       "        text-align: right;\n",
       "    }\n",
       "</style>\n",
       "<table border=\"1\" class=\"dataframe\">\n",
       "  <thead>\n",
       "    <tr style=\"text-align: right;\">\n",
       "      <th></th>\n",
       "      <th>ngaychungtu</th>\n",
       "      <th>soluong</th>\n",
       "    </tr>\n",
       "  </thead>\n",
       "  <tbody>\n",
       "    <tr>\n",
       "      <th>0</th>\n",
       "      <td>2019-01-01</td>\n",
       "      <td>567346</td>\n",
       "    </tr>\n",
       "    <tr>\n",
       "      <th>1</th>\n",
       "      <td>2019-02-01</td>\n",
       "      <td>165717</td>\n",
       "    </tr>\n",
       "    <tr>\n",
       "      <th>2</th>\n",
       "      <td>2019-03-01</td>\n",
       "      <td>355261</td>\n",
       "    </tr>\n",
       "    <tr>\n",
       "      <th>3</th>\n",
       "      <td>2019-04-01</td>\n",
       "      <td>917915</td>\n",
       "    </tr>\n",
       "    <tr>\n",
       "      <th>4</th>\n",
       "      <td>2019-05-01</td>\n",
       "      <td>62959</td>\n",
       "    </tr>\n",
       "  </tbody>\n",
       "</table>\n",
       "</div>"
      ],
      "text/plain": [
       "  ngaychungtu  soluong\n",
       "0  2019-01-01   567346\n",
       "1  2019-02-01   165717\n",
       "2  2019-03-01   355261\n",
       "3  2019-04-01   917915\n",
       "4  2019-05-01    62959"
      ]
     },
     "execution_count": 207,
     "metadata": {},
     "output_type": "execute_result"
    }
   ],
   "source": [
    "train.head()"
   ]
  },
  {
   "cell_type": "code",
   "execution_count": 183,
   "metadata": {},
   "outputs": [
    {
     "data": {
      "text/plain": [
       "(36, 1)"
      ]
     },
     "execution_count": 183,
     "metadata": {},
     "output_type": "execute_result"
    }
   ],
   "source": [
    "train.shape"
   ]
  },
  {
   "cell_type": "code",
   "execution_count": 208,
   "metadata": {},
   "outputs": [
    {
     "name": "stderr",
     "output_type": "stream",
     "text": [
      "e:\\ipynb\\penv\\lib\\site-packages\\statsmodels\\tsa\\statespace\\sarimax.py:978: UserWarning: Non-invertible starting MA parameters found. Using zeros as starting parameters.\n",
      "  warn('Non-invertible starting MA parameters found.'\n"
     ]
    },
    {
     "name": "stdout",
     "output_type": "stream",
     "text": [
      "                               SARIMAX Results                                \n",
      "==============================================================================\n",
      "Dep. Variable:                soluong   No. Observations:                   36\n",
      "Model:                 ARIMA(1, 1, 8)   Log Likelihood              -10555.209\n",
      "Date:                Fri, 24 Jun 2022   AIC                          21130.419\n",
      "Time:                        14:31:38   BIC                          21145.972\n",
      "Sample:                             0   HQIC                         21135.788\n",
      "                                 - 36                                         \n",
      "Covariance Type:                  opg                                         \n",
      "==============================================================================\n",
      "                 coef    std err          z      P>|z|      [0.025      0.975]\n",
      "------------------------------------------------------------------------------\n",
      "ar.L1         -0.4477      0.001   -726.618      0.000      -0.449      -0.447\n",
      "ma.L1         -0.1922    709.964     -0.000      1.000   -1391.697    1391.312\n",
      "ma.L2         -0.7282    162.826     -0.004      0.996    -319.860     318.404\n",
      "ma.L3          0.4988    146.283      0.003      0.997    -286.211     287.209\n",
      "ma.L4         -0.5824    145.236     -0.004      0.997    -285.239     284.074\n",
      "ma.L5         -0.1092    324.161     -0.000      1.000    -635.452     635.234\n",
      "ma.L6         -0.2379     17.439     -0.014      0.989     -34.417      33.942\n",
      "ma.L7          0.0033    531.936   6.14e-06      1.000   -1042.572    1042.579\n",
      "ma.L8          0.7492      0.001   1263.079      0.000       0.748       0.750\n",
      "sigma2      1.775e+07   6.29e-05   2.82e+11      0.000    1.77e+07    1.77e+07\n",
      "===================================================================================\n",
      "Ljung-Box (L1) (Q):                   0.01   Jarque-Bera (JB):                 3.25\n",
      "Prob(Q):                              0.91   Prob(JB):                         0.20\n",
      "Heteroskedasticity (H):               0.43   Skew:                             0.54\n",
      "Prob(H) (two-sided):                  0.16   Kurtosis:                         4.02\n",
      "===================================================================================\n",
      "\n",
      "Warnings:\n",
      "[1] Covariance matrix calculated using the outer product of gradients (complex-step).\n",
      "[2] Covariance matrix is singular or near-singular, with condition number 1.77e+30. Standard errors may be unstable.\n"
     ]
    },
    {
     "name": "stderr",
     "output_type": "stream",
     "text": [
      "e:\\ipynb\\penv\\lib\\site-packages\\statsmodels\\base\\model.py:604: ConvergenceWarning: Maximum Likelihood optimization failed to converge. Check mle_retvals\n",
      "  warnings.warn(\"Maximum Likelihood optimization failed to \"\n"
     ]
    }
   ],
   "source": [
    "arima_model= ARIMA(train.soluong,order=(1,1,8))\n",
    "model_fit = arima_model.fit()\n",
    "print(model_fit.summary())"
   ]
  },
  {
   "cell_type": "code",
   "execution_count": 185,
   "metadata": {},
   "outputs": [],
   "source": [
    "fc, se, conf = model_fit.forecast(3, alpha=0.05)  # 95% conf"
   ]
  },
  {
   "cell_type": "code",
   "execution_count": null,
   "metadata": {},
   "outputs": [],
   "source": [
    "fc_series = pd.Series(fc, index=test.index)\n",
    "lower_series = pd.Series(conf[:, 0], index=test.index)\n",
    "upper_series = pd.Series(conf[:, 1], index=test.index)"
   ]
  },
  {
   "cell_type": "code",
   "execution_count": 217,
   "metadata": {},
   "outputs": [
    {
     "data": {
      "text/html": [
       "<div>\n",
       "<style scoped>\n",
       "    .dataframe tbody tr th:only-of-type {\n",
       "        vertical-align: middle;\n",
       "    }\n",
       "\n",
       "    .dataframe tbody tr th {\n",
       "        vertical-align: top;\n",
       "    }\n",
       "\n",
       "    .dataframe thead th {\n",
       "        text-align: right;\n",
       "    }\n",
       "</style>\n",
       "<table border=\"1\" class=\"dataframe\">\n",
       "  <thead>\n",
       "    <tr style=\"text-align: right;\">\n",
       "      <th></th>\n",
       "      <th>ngaychungtu</th>\n",
       "      <th>soluong</th>\n",
       "    </tr>\n",
       "  </thead>\n",
       "  <tbody>\n",
       "    <tr>\n",
       "      <th>31</th>\n",
       "      <td>2021-08-01</td>\n",
       "      <td>424725</td>\n",
       "    </tr>\n",
       "    <tr>\n",
       "      <th>32</th>\n",
       "      <td>2021-09-01</td>\n",
       "      <td>475597</td>\n",
       "    </tr>\n",
       "    <tr>\n",
       "      <th>33</th>\n",
       "      <td>2021-10-01</td>\n",
       "      <td>407629</td>\n",
       "    </tr>\n",
       "    <tr>\n",
       "      <th>34</th>\n",
       "      <td>2021-11-01</td>\n",
       "      <td>463281</td>\n",
       "    </tr>\n",
       "    <tr>\n",
       "      <th>35</th>\n",
       "      <td>2021-12-01</td>\n",
       "      <td>543577</td>\n",
       "    </tr>\n",
       "  </tbody>\n",
       "</table>\n",
       "</div>"
      ],
      "text/plain": [
       "   ngaychungtu  soluong\n",
       "31  2021-08-01   424725\n",
       "32  2021-09-01   475597\n",
       "33  2021-10-01   407629\n",
       "34  2021-11-01   463281\n",
       "35  2021-12-01   543577"
      ]
     },
     "execution_count": 217,
     "metadata": {},
     "output_type": "execute_result"
    }
   ],
   "source": [
    "train.tail()"
   ]
  },
  {
   "cell_type": "code",
   "execution_count": 186,
   "metadata": {},
   "outputs": [
    {
     "data": {
      "text/plain": [
       "536661.435383467"
      ]
     },
     "execution_count": 186,
     "metadata": {},
     "output_type": "execute_result"
    }
   ],
   "source": [
    "fc"
   ]
  },
  {
   "cell_type": "code",
   "execution_count": 187,
   "metadata": {},
   "outputs": [
    {
     "data": {
      "text/plain": [
       "569682.5036692212"
      ]
     },
     "execution_count": 187,
     "metadata": {},
     "output_type": "execute_result"
    }
   ],
   "source": [
    "se"
   ]
  },
  {
   "cell_type": "code",
   "execution_count": 188,
   "metadata": {},
   "outputs": [
    {
     "data": {
      "text/plain": [
       "483901.8962966254"
      ]
     },
     "execution_count": 188,
     "metadata": {},
     "output_type": "execute_result"
    }
   ],
   "source": [
    "conf"
   ]
  },
  {
   "cell_type": "code",
   "execution_count": 218,
   "metadata": {},
   "outputs": [],
   "source": [
    "df_predict= model_fit.predict(n_periods=39)"
   ]
  },
  {
   "cell_type": "code",
   "execution_count": 219,
   "metadata": {},
   "outputs": [
    {
     "data": {
      "text/plain": [
       "0          0.000000\n",
       "1     287127.022859\n",
       "2     234173.550252\n",
       "3     411846.297316\n",
       "4     366417.811762\n",
       "5     487422.576983\n",
       "6     321435.844796\n",
       "7     117449.379929\n",
       "8     412798.331032\n",
       "9     112040.492160\n",
       "10    407964.213281\n",
       "11    392252.273543\n",
       "12    341453.662100\n",
       "13    280239.412294\n",
       "14    293844.536022\n",
       "15    369791.726946\n",
       "16    296885.893724\n",
       "17    370324.778730\n",
       "18    380008.144825\n",
       "19    341397.434990\n",
       "20    371335.955940\n",
       "21    266359.143131\n",
       "22    377749.804822\n",
       "23    308326.874317\n",
       "24    474830.992187\n",
       "25    344374.887887\n",
       "26    410437.127384\n",
       "27    278952.740079\n",
       "28    310864.535896\n",
       "29    297186.334467\n",
       "30    552067.739275\n",
       "31    505502.378449\n",
       "32    480007.404942\n",
       "33    322857.981470\n",
       "34    357660.024304\n",
       "35    435723.114317\n",
       "Name: predicted_mean, dtype: float64"
      ]
     },
     "execution_count": 219,
     "metadata": {},
     "output_type": "execute_result"
    }
   ],
   "source": [
    "df_predict"
   ]
  },
  {
   "cell_type": "code",
   "execution_count": 221,
   "metadata": {},
   "outputs": [
    {
     "name": "stdout",
     "output_type": "stream",
     "text": [
      "                               SARIMAX Results                                \n",
      "==============================================================================\n",
      "Dep. Variable:                soluong   No. Observations:                   36\n",
      "Model:                 ARIMA(1, 1, 1)   Log Likelihood                -469.494\n",
      "Date:                Fri, 24 Jun 2022   AIC                            944.989\n",
      "Time:                        14:35:43   BIC                            949.655\n",
      "Sample:                             0   HQIC                           946.599\n",
      "                                 - 36                                         \n",
      "Covariance Type:                  opg                                         \n",
      "==============================================================================\n",
      "                 coef    std err          z      P>|z|      [0.025      0.975]\n",
      "------------------------------------------------------------------------------\n",
      "ar.L1         -0.2121      0.093     -2.274      0.023      -0.395      -0.029\n",
      "ma.L1         -0.8829      0.069    -12.731      0.000      -1.019      -0.747\n",
      "sigma2      1.146e+10   6.36e-12    1.8e+21      0.000    1.15e+10    1.15e+10\n",
      "===================================================================================\n",
      "Ljung-Box (L1) (Q):                   0.01   Jarque-Bera (JB):                69.88\n",
      "Prob(Q):                              0.91   Prob(JB):                         0.00\n",
      "Heteroskedasticity (H):               0.14   Skew:                             1.64\n",
      "Prob(H) (two-sided):                  0.00   Kurtosis:                         9.10\n",
      "===================================================================================\n",
      "\n",
      "Warnings:\n",
      "[1] Covariance matrix calculated using the outer product of gradients (complex-step).\n",
      "[2] Covariance matrix is singular or near-singular, with condition number 8.8e+36. Standard errors may be unstable.\n"
     ]
    }
   ],
   "source": [
    "model = ARIMA(train.soluong, order=(1,1,1))\n",
    "model_fit = model.fit()\n",
    "print(model_fit.summary())"
   ]
  },
  {
   "cell_type": "code",
   "execution_count": 222,
   "metadata": {},
   "outputs": [
    {
     "data": {
      "image/png": "[encoded data removed]",
      "text/plain": [
       "<Figure size 432x288 with 2 Axes>"
      ]
     },
     "metadata": {
      "needs_background": "light"
     },
     "output_type": "display_data"
    }
   ],
   "source": [
    "# Plot residual errors\n",
    "residuals = pd.DataFrame(model_fit.resid)\n",
    "fig, ax = plt.subplots(1,2)\n",
    "residuals.plot(title=\"Residuals\", ax=ax[0])\n",
    "residuals.plot(kind='kde', title='Density', ax=ax[1])\n",
    "plt.show()"
   ]
  },
  {
   "cell_type": "code",
   "execution_count": 224,
   "metadata": {},
   "outputs": [],
   "source": [
    "model_fit.predict(dynamic=False)\n",
    "plt.show()"
   ]
  },
  {
   "cell_type": "code",
   "execution_count": 131,
   "metadata": {},
   "outputs": [],
   "source": [
    "df_predict.to_csv(\"test\")"
   ]
  },
  {
   "cell_type": "code",
   "execution_count": 225,
   "metadata": {},
   "outputs": [
    {
     "data": {
      "image/png": "[encoded data removed]",
      "text/plain": [
       "<Figure size 936x432 with 1 Axes>"
      ]
     },
     "metadata": {
      "needs_background": "light"
     },
     "output_type": "display_data"
    }
   ],
   "source": [
    "plt.figure(figsize=(13,6))\n",
    "plt.plot(data_time_qty,label='training')\n",
    "plt.plot(df_predict,label='training')\n",
    "plt.show()"
   ]
  },
  {
   "cell_type": "code",
   "execution_count": 150,
   "metadata": {},
   "outputs": [],
   "source": [
    "day_predict=['2022-06-01','2022-07-01','2022-08-01']"
   ]
  },
  {
   "cell_type": "code",
   "execution_count": 167,
   "metadata": {},
   "outputs": [],
   "source": [
    "predict_num=model_fit.predict(n_periods=3,return_conf_int=True)"
   ]
  },
  {
   "cell_type": "code",
   "execution_count": 168,
   "metadata": {},
   "outputs": [
    {
     "data": {
      "text/plain": [
       "2019-01-01         0.000000\n",
       "2019-02-01    286903.814047\n",
       "2019-03-01    248019.778868\n",
       "2019-04-01    440278.341291\n",
       "2019-05-01    348081.774582\n",
       "2019-06-01    500340.720413\n",
       "2019-07-01    315204.780639\n",
       "2019-08-01      5896.887429\n",
       "2019-09-01    544369.401677\n",
       "2019-10-01    234455.982170\n",
       "2019-11-01    390728.659881\n",
       "2019-12-01    369146.966033\n",
       "2020-01-01    441831.403870\n",
       "2020-02-01    281319.713505\n",
       "2020-03-01    291624.576764\n",
       "2020-04-01    473826.418268\n",
       "2020-05-01    324717.389873\n",
       "2020-06-01    272341.045652\n",
       "2020-07-01    358953.033559\n",
       "2020-08-01    349136.489297\n",
       "2020-09-01    285115.852606\n",
       "2020-10-01    201535.302983\n",
       "2020-11-01    359526.126176\n",
       "2020-12-01    229631.654182\n",
       "2021-01-01    436643.212836\n",
       "2021-02-01    322859.691328\n",
       "2021-03-01    313448.845861\n",
       "2021-04-01    217180.048577\n",
       "2021-05-01    429161.187862\n",
       "2021-06-01    396115.662611\n",
       "2021-07-01    551070.380748\n",
       "2021-08-01    470604.550522\n",
       "2021-09-01    436351.478368\n",
       "2021-10-01    266269.439248\n",
       "2021-11-01    438563.458043\n",
       "2021-12-01    509196.056322\n",
       "2022-01-01    403294.389082\n",
       "2022-02-01    293642.370952\n",
       "2022-03-01    287640.837844\n",
       "2022-04-01    256422.606775\n",
       "2022-05-01    404157.735396\n",
       "Freq: MS, Name: predicted_mean, dtype: float64"
      ]
     },
     "execution_count": 168,
     "metadata": {},
     "output_type": "execute_result"
    }
   ],
   "source": [
    "predict_num"
   ]
  },
  {
   "cell_type": "code",
   "execution_count": 151,
   "metadata": {},
   "outputs": [
    {
     "data": {
      "text/plain": [
       "['2022-06-01', '2022-07-01', '2022-08-01']"
      ]
     },
     "execution_count": 151,
     "metadata": {},
     "output_type": "execute_result"
    }
   ],
   "source": [
    "day_predict"
   ]
  },
  {
   "cell_type": "code",
   "execution_count": 140,
   "metadata": {},
   "outputs": [],
   "source": [
    "# Forecast\n",
    "n_periods = 3\n",
    "confint = model_fit.predict(n_periods=n_periods, return_conf_int=True)\n",
    "index_of_fc = np.arange(len(data_time_qty.soluong), len(data_time_qty.soluong)+n_periods)\n",
    "\n",
    "# make series for plotting purpose\n",
    "# fc_series = pd.Series(fc, index=index_of_fc)\n",
    "# lower_series = pd.Series(confint[:, 0], index=index_of_fc)\n",
    "# upper_series = pd.Series(confint[:, 1], index=index_of_fc)\n",
    "\n",
    "# # Plot\n",
    "# plt.plot(data_time_qty.soluong)\n",
    "# plt.plot(fc_series, color='darkgreen')\n",
    "# plt.fill_between(lower_series.index, \n",
    "#                  lower_series, \n",
    "#                  upper_series, \n",
    "#                  color='k', alpha=.15)\n",
    "\n",
    "# plt.title(\"Final Forecast of WWW Usage\")\n",
    "# plt.show()"
   ]
  },
  {
   "cell_type": "code",
   "execution_count": 141,
   "metadata": {},
   "outputs": [
    {
     "data": {
      "text/plain": [
       "array([41, 42, 43])"
      ]
     },
     "execution_count": 141,
     "metadata": {},
     "output_type": "execute_result"
    }
   ],
   "source": [
    "index_of_fc"
   ]
  },
  {
   "cell_type": "code",
   "execution_count": 49,
   "metadata": {},
   "outputs": [
    {
     "data": {
      "image/png": "[encoded data removed]",
      "text/plain": [
       "<Figure size 432x288 with 2 Axes>"
      ]
     },
     "metadata": {
      "needs_background": "light"
     },
     "output_type": "display_data"
    }
   ],
   "source": [
    "# Plot residual errors\n",
    "residuals = pd.DataFrame(model_fit.resid)\n",
    "fig, ax = plt.subplots(1,2)\n",
    "residuals.plot(title=\"Residuals\", ax=ax[0])\n",
    "residuals.plot(kind='kde', title='Density', ax=ax[1])\n",
    "plt.show()"
   ]
  },
  {
   "cell_type": "code",
   "execution_count": 84,
   "metadata": {},
   "outputs": [],
   "source": [
    "train = data_time_qty[5:36]\n",
    "test =  data_time_qty[36:]"
   ]
  },
  {
   "cell_type": "code",
   "execution_count": 85,
   "metadata": {},
   "outputs": [
    {
     "data": {
      "text/html": [
       "<div>\n",
       "<style scoped>\n",
       "    .dataframe tbody tr th:only-of-type {\n",
       "        vertical-align: middle;\n",
       "    }\n",
       "\n",
       "    .dataframe tbody tr th {\n",
       "        vertical-align: top;\n",
       "    }\n",
       "\n",
       "    .dataframe thead th {\n",
       "        text-align: right;\n",
       "    }\n",
       "</style>\n",
       "<table border=\"1\" class=\"dataframe\">\n",
       "  <thead>\n",
       "    <tr style=\"text-align: right;\">\n",
       "      <th></th>\n",
       "      <th>soluong</th>\n",
       "    </tr>\n",
       "    <tr>\n",
       "      <th>ngaychungtu</th>\n",
       "      <th></th>\n",
       "    </tr>\n",
       "  </thead>\n",
       "  <tbody>\n",
       "    <tr>\n",
       "      <th>2021-08-01</th>\n",
       "      <td>424725</td>\n",
       "    </tr>\n",
       "    <tr>\n",
       "      <th>2021-09-01</th>\n",
       "      <td>475597</td>\n",
       "    </tr>\n",
       "    <tr>\n",
       "      <th>2021-10-01</th>\n",
       "      <td>407629</td>\n",
       "    </tr>\n",
       "    <tr>\n",
       "      <th>2021-11-01</th>\n",
       "      <td>463281</td>\n",
       "    </tr>\n",
       "    <tr>\n",
       "      <th>2021-12-01</th>\n",
       "      <td>543577</td>\n",
       "    </tr>\n",
       "  </tbody>\n",
       "</table>\n",
       "</div>"
      ],
      "text/plain": [
       "             soluong\n",
       "ngaychungtu         \n",
       "2021-08-01    424725\n",
       "2021-09-01    475597\n",
       "2021-10-01    407629\n",
       "2021-11-01    463281\n",
       "2021-12-01    543577"
      ]
     },
     "execution_count": 85,
     "metadata": {},
     "output_type": "execute_result"
    }
   ],
   "source": [
    "train.tail()"
   ]
  },
  {
   "cell_type": "code",
   "execution_count": 86,
   "metadata": {},
   "outputs": [
    {
     "data": {
      "text/html": [
       "<div>\n",
       "<style scoped>\n",
       "    .dataframe tbody tr th:only-of-type {\n",
       "        vertical-align: middle;\n",
       "    }\n",
       "\n",
       "    .dataframe tbody tr th {\n",
       "        vertical-align: top;\n",
       "    }\n",
       "\n",
       "    .dataframe thead th {\n",
       "        text-align: right;\n",
       "    }\n",
       "</style>\n",
       "<table border=\"1\" class=\"dataframe\">\n",
       "  <thead>\n",
       "    <tr style=\"text-align: right;\">\n",
       "      <th></th>\n",
       "      <th>soluong</th>\n",
       "    </tr>\n",
       "    <tr>\n",
       "      <th>ngaychungtu</th>\n",
       "      <th></th>\n",
       "    </tr>\n",
       "  </thead>\n",
       "  <tbody>\n",
       "    <tr>\n",
       "      <th>2022-01-01</th>\n",
       "      <td>369625</td>\n",
       "    </tr>\n",
       "    <tr>\n",
       "      <th>2022-02-01</th>\n",
       "      <td>239402</td>\n",
       "    </tr>\n",
       "    <tr>\n",
       "      <th>2022-03-01</th>\n",
       "      <td>325855</td>\n",
       "    </tr>\n",
       "    <tr>\n",
       "      <th>2022-04-01</th>\n",
       "      <td>390864</td>\n",
       "    </tr>\n",
       "    <tr>\n",
       "      <th>2022-05-01</th>\n",
       "      <td>440800</td>\n",
       "    </tr>\n",
       "  </tbody>\n",
       "</table>\n",
       "</div>"
      ],
      "text/plain": [
       "             soluong\n",
       "ngaychungtu         \n",
       "2022-01-01    369625\n",
       "2022-02-01    239402\n",
       "2022-03-01    325855\n",
       "2022-04-01    390864\n",
       "2022-05-01    440800"
      ]
     },
     "execution_count": 86,
     "metadata": {},
     "output_type": "execute_result"
    }
   ],
   "source": [
    "test"
   ]
  },
  {
   "cell_type": "code",
   "execution_count": 87,
   "metadata": {},
   "outputs": [
    {
     "name": "stdout",
     "output_type": "stream",
     "text": [
      "Performing stepwise search to minimize aic\n",
      " ARIMA(1,1,1)(1,0,1)[52] intercept   : AIC=inf, Time=0.67 sec\n",
      " ARIMA(0,1,0)(0,0,0)[52] intercept   : AIC=785.545, Time=0.01 sec\n",
      " ARIMA(1,1,0)(1,0,0)[52] intercept   : AIC=785.420, Time=0.14 sec\n",
      " ARIMA(0,1,1)(0,0,1)[52] intercept   : AIC=778.916, Time=0.07 sec\n",
      " ARIMA(0,1,0)(0,0,0)[52]             : AIC=783.669, Time=0.00 sec\n",
      " ARIMA(0,1,1)(0,0,0)[52] intercept   : AIC=776.916, Time=0.01 sec\n",
      " ARIMA(0,1,1)(1,0,0)[52] intercept   : AIC=777.078, Time=0.12 sec\n",
      " ARIMA(0,1,1)(1,0,1)[52] intercept   : AIC=inf, Time=0.36 sec\n",
      " ARIMA(1,1,1)(0,0,0)[52] intercept   : AIC=780.592, Time=0.01 sec\n",
      " ARIMA(0,1,2)(0,0,0)[52] intercept   : AIC=789.565, Time=0.01 sec\n",
      " ARIMA(1,1,0)(0,0,0)[52] intercept   : AIC=783.422, Time=0.01 sec\n",
      " ARIMA(1,1,2)(0,0,0)[52] intercept   : AIC=inf, Time=0.05 sec\n",
      " ARIMA(0,1,1)(0,0,0)[52]             : AIC=775.953, Time=0.01 sec\n",
      " ARIMA(0,1,1)(1,0,0)[52]             : AIC=777.953, Time=0.07 sec\n",
      " ARIMA(0,1,1)(0,0,1)[52]             : AIC=777.953, Time=0.06 sec\n",
      " ARIMA(0,1,1)(1,0,1)[52]             : AIC=779.953, Time=0.10 sec\n",
      " ARIMA(1,1,1)(0,0,0)[52]             : AIC=778.044, Time=0.01 sec\n",
      " ARIMA(0,1,2)(0,0,0)[52]             : AIC=778.325, Time=0.01 sec\n",
      " ARIMA(1,1,0)(0,0,0)[52]             : AIC=781.781, Time=0.01 sec\n",
      " ARIMA(1,1,2)(0,0,0)[52]             : AIC=inf, Time=0.05 sec\n",
      "\n",
      "Best model:  ARIMA(0,1,1)(0,0,0)[52]          \n",
      "Total fit time: 1.785 seconds\n"
     ]
    }
   ],
   "source": [
    "stepwise_model=auto_arima(train,start_p=1, start_q=1,max_p=5,max_q=5,\n",
    "                          m=52,start_P=1, seasonal=True,d=1,D=0,trace=True, error_action='ignore',suppress_warnings=True,stepwise=True)"
   ]
  },
  {
   "cell_type": "code",
   "execution_count": 88,
   "metadata": {},
   "outputs": [
    {
     "data": {
      "text/plain": [
       "ARIMA(maxiter=50, method='lbfgs', order=(0, 1, 1), out_of_sample_size=0,\n",
       "      scoring='mse', scoring_args={}, seasonal_order=(0, 0, 0, 52),\n",
       "      start_params=None, suppress_warnings=True, trend=None,\n",
       "      with_intercept=False)"
      ]
     },
     "execution_count": 88,
     "metadata": {},
     "output_type": "execute_result"
    }
   ],
   "source": [
    "stepwise_model.fit(train)"
   ]
  },
  {
   "cell_type": "code",
   "execution_count": 89,
   "metadata": {},
   "outputs": [],
   "source": [
    "future_forecast= stepwise_model.predict(n_periods = len(test))\n"
   ]
  },
  {
   "cell_type": "code",
   "execution_count": 90,
   "metadata": {},
   "outputs": [],
   "source": [
    "future_forecast=pd.DataFrame(future_forecast,index=test.index,columns=['Prediction'])\n"
   ]
  },
  {
   "cell_type": "code",
   "execution_count": 91,
   "metadata": {},
   "outputs": [
    {
     "data": {
      "text/html": [
       "<div>\n",
       "<style scoped>\n",
       "    .dataframe tbody tr th:only-of-type {\n",
       "        vertical-align: middle;\n",
       "    }\n",
       "\n",
       "    .dataframe tbody tr th {\n",
       "        vertical-align: top;\n",
       "    }\n",
       "\n",
       "    .dataframe thead th {\n",
       "        text-align: right;\n",
       "    }\n",
       "</style>\n",
       "<table border=\"1\" class=\"dataframe\">\n",
       "  <thead>\n",
       "    <tr style=\"text-align: right;\">\n",
       "      <th></th>\n",
       "      <th>Prediction</th>\n",
       "    </tr>\n",
       "    <tr>\n",
       "      <th>ngaychungtu</th>\n",
       "      <th></th>\n",
       "    </tr>\n",
       "  </thead>\n",
       "  <tbody>\n",
       "    <tr>\n",
       "      <th>2022-01-01</th>\n",
       "      <td>470103.732875</td>\n",
       "    </tr>\n",
       "    <tr>\n",
       "      <th>2022-02-01</th>\n",
       "      <td>470103.732875</td>\n",
       "    </tr>\n",
       "    <tr>\n",
       "      <th>2022-03-01</th>\n",
       "      <td>470103.732875</td>\n",
       "    </tr>\n",
       "    <tr>\n",
       "      <th>2022-04-01</th>\n",
       "      <td>470103.732875</td>\n",
       "    </tr>\n",
       "    <tr>\n",
       "      <th>2022-05-01</th>\n",
       "      <td>470103.732875</td>\n",
       "    </tr>\n",
       "  </tbody>\n",
       "</table>\n",
       "</div>"
      ],
      "text/plain": [
       "                Prediction\n",
       "ngaychungtu               \n",
       "2022-01-01   470103.732875\n",
       "2022-02-01   470103.732875\n",
       "2022-03-01   470103.732875\n",
       "2022-04-01   470103.732875\n",
       "2022-05-01   470103.732875"
      ]
     },
     "execution_count": 91,
     "metadata": {},
     "output_type": "execute_result"
    }
   ],
   "source": [
    "future_forecast"
   ]
  },
  {
   "cell_type": "code",
   "execution_count": 93,
   "metadata": {},
   "outputs": [
    {
     "data": {
      "image/png": "[encoded data removed]",
      "text/plain": [
       "<Figure size 1080x576 with 1 Axes>"
      ]
     },
     "metadata": {
      "needs_background": "light"
     },
     "output_type": "display_data"
    }
   ],
   "source": [
    "plt.figure(figsize=(15,8))\n",
    "plt.plot(test, label='Average Price')\n",
    "plt.plot(train, label='Train')\n",
    "plt.plot(future_forecast, label='Prediction Price')\n",
    "plt.xticks(rotation='vertical')\n",
    "plt.legend()\n",
    "plt.show()"
   ]
  },
  {
   "cell_type": "code",
   "execution_count": 231,
   "metadata": {},
   "outputs": [
    {
     "name": "stdout",
     "output_type": "stream",
     "text": [
      "                               SARIMAX Results                                \n",
      "==============================================================================\n",
      "Dep. Variable:                soluong   No. Observations:                   36\n",
      "Model:                 ARIMA(3, 2, 1)   Log Likelihood                -457.538\n",
      "Date:                Fri, 24 Jun 2022   AIC                            925.076\n",
      "Time:                        14:40:22   BIC                            932.708\n",
      "Sample:                             0   HQIC                           927.679\n",
      "                                 - 36                                         \n",
      "Covariance Type:                  opg                                         \n",
      "==============================================================================\n",
      "                 coef    std err          z      P>|z|      [0.025      0.975]\n",
      "------------------------------------------------------------------------------\n",
      "ar.L1         -0.7159      0.150     -4.789      0.000      -1.009      -0.423\n",
      "ar.L2         -0.4559      0.174     -2.620      0.009      -0.797      -0.115\n",
      "ar.L3          0.0596      0.196      0.305      0.760      -0.324       0.443\n",
      "ma.L1         -1.0000      0.180     -5.541      0.000      -1.354      -0.646\n",
      "sigma2      1.733e+10   1.04e-11   1.66e+21      0.000    1.73e+10    1.73e+10\n",
      "===================================================================================\n",
      "Ljung-Box (L1) (Q):                   0.02   Jarque-Bera (JB):                11.72\n",
      "Prob(Q):                              0.88   Prob(JB):                         0.00\n",
      "Heteroskedasticity (H):               0.16   Skew:                            -1.09\n",
      "Prob(H) (two-sided):                  0.01   Kurtosis:                         4.87\n",
      "===================================================================================\n",
      "\n",
      "Warnings:\n",
      "[1] Covariance matrix calculated using the outer product of gradients (complex-step).\n",
      "[2] Covariance matrix is singular or near-singular, with condition number 1.96e+37. Standard errors may be unstable.\n"
     ]
    },
    {
     "name": "stderr",
     "output_type": "stream",
     "text": [
      "e:\\ipynb\\penv\\lib\\site-packages\\statsmodels\\base\\model.py:604: ConvergenceWarning: Maximum Likelihood optimization failed to converge. Check mle_retvals\n",
      "  warnings.warn(\"Maximum Likelihood optimization failed to \"\n"
     ]
    },
    {
     "data": {
      "text/plain": [
       "[<matplotlib.lines.Line2D at 0x2750fd1f430>]"
      ]
     },
     "execution_count": 231,
     "metadata": {},
     "output_type": "execute_result"
    },
    {
     "data": {
      "image/png": "[encoded data removed]",
      "text/plain": [
       "<Figure size 432x288 with 1 Axes>"
      ]
     },
     "metadata": {
      "needs_background": "light"
     },
     "output_type": "display_data"
    }
   ],
   "source": [
    "model = ARIMA(train.soluong, order=(3, 2, 1))  \n",
    "fitted = model.fit()  \n",
    "print(fitted.summary())\n",
    "\n",
    "# Forecast\n",
    "fc, se, conf = fitted.forecast(3, alpha=0.05)  # 95% conf\n",
    "\n",
    "# Make as pandas series\n",
    "fc_series = pd.Series(fc, index=test.index)\n",
    "# lower_series = pd.Series(conf[:, 0], index=test.index)\n",
    "# upper_series = pd.Series(conf[:, 1], index=test.index)\n",
    "\n",
    "# Plot\n",
    "# plt.figure(figsize=(12,5), dpi=100)\n",
    "# plt.plot(train, label='training')\n",
    "# plt.plot(test, label='actual')\n",
    "plt.plot(fc_series, label='forecast')\n",
    "# plt.fill_between(lower_series.index, lower_series, upper_series, \n",
    "#                  color='k', alpha=.15)\n",
    "# plt.title('Forecast vs Actuals')\n",
    "# plt.legend(loc='upper left', fontsize=8)\n",
    "# plt.show()"
   ]
  },
  {
   "cell_type": "code",
   "execution_count": 232,
   "metadata": {},
   "outputs": [
    {
     "data": {
      "text/plain": [
       "36    478665.099308\n",
       "37    478665.099308\n",
       "38    478665.099308\n",
       "39    478665.099308\n",
       "40    478665.099308\n",
       "dtype: float64"
      ]
     },
     "execution_count": 232,
     "metadata": {},
     "output_type": "execute_result"
    }
   ],
   "source": [
    "fc_series"
   ]
  },
  {
   "cell_type": "code",
   "execution_count": null,
   "metadata": {},
   "outputs": [],
   "source": []
  },
  {
   "cell_type": "code",
   "execution_count": null,
   "metadata": {},
   "outputs": [],
   "source": []
  },
  {
   "cell_type": "code",
   "execution_count": 247,
   "metadata": {},
   "outputs": [],
   "source": [
    "#Push MA test sample\n",
    "df= pd.read_csv(\"https://docs.google.com/spreadsheets/d/e/2PACX-1vQj8AnqyCPtfaol4vJg1Wu3TjZHeGCeLaeOMNp8l1dQXvX9XKSAsDXCew0pT1-3ziP-Qt8690Pd9KHm/pub?gid=1226600516&single=true&output=csv\")\n"
   ]
  },
  {
   "cell_type": "code",
   "execution_count": 248,
   "metadata": {},
   "outputs": [
    {
     "data": {
      "text/plain": [
       "ngaychungtu    object\n",
       "masp           object\n",
       "makenhkh       object\n",
       "total           int64\n",
       "Type           object\n",
       "dtype: object"
      ]
     },
     "execution_count": 248,
     "metadata": {},
     "output_type": "execute_result"
    }
   ],
   "source": [
    "df.dtypes"
   ]
  },
  {
   "cell_type": "code",
   "execution_count": 249,
   "metadata": {},
   "outputs": [
    {
     "data": {
      "text/html": [
       "<div>\n",
       "<style scoped>\n",
       "    .dataframe tbody tr th:only-of-type {\n",
       "        vertical-align: middle;\n",
       "    }\n",
       "\n",
       "    .dataframe tbody tr th {\n",
       "        vertical-align: top;\n",
       "    }\n",
       "\n",
       "    .dataframe thead th {\n",
       "        text-align: right;\n",
       "    }\n",
       "</style>\n",
       "<table border=\"1\" class=\"dataframe\">\n",
       "  <thead>\n",
       "    <tr style=\"text-align: right;\">\n",
       "      <th></th>\n",
       "      <th>ngaychungtu</th>\n",
       "      <th>masp</th>\n",
       "      <th>makenhkh</th>\n",
       "      <th>total</th>\n",
       "      <th>Type</th>\n",
       "    </tr>\n",
       "  </thead>\n",
       "  <tbody>\n",
       "    <tr>\n",
       "      <th>0</th>\n",
       "      <td>2019-01-01</td>\n",
       "      <td>OH031</td>\n",
       "      <td>OTC</td>\n",
       "      <td>570241</td>\n",
       "      <td>Actual</td>\n",
       "    </tr>\n",
       "    <tr>\n",
       "      <th>1</th>\n",
       "      <td>2019-02-01</td>\n",
       "      <td>OH031</td>\n",
       "      <td>OTC</td>\n",
       "      <td>173570</td>\n",
       "      <td>Actual</td>\n",
       "    </tr>\n",
       "    <tr>\n",
       "      <th>2</th>\n",
       "      <td>2019-03-01</td>\n",
       "      <td>OH031</td>\n",
       "      <td>OTC</td>\n",
       "      <td>368347</td>\n",
       "      <td>Actual</td>\n",
       "    </tr>\n",
       "    <tr>\n",
       "      <th>3</th>\n",
       "      <td>2019-04-01</td>\n",
       "      <td>OH031</td>\n",
       "      <td>OTC</td>\n",
       "      <td>1034835</td>\n",
       "      <td>Actual</td>\n",
       "    </tr>\n",
       "    <tr>\n",
       "      <th>4</th>\n",
       "      <td>2019-05-01</td>\n",
       "      <td>OH031</td>\n",
       "      <td>OTC</td>\n",
       "      <td>73211</td>\n",
       "      <td>Actual</td>\n",
       "    </tr>\n",
       "    <tr>\n",
       "      <th>5</th>\n",
       "      <td>2019-06-01</td>\n",
       "      <td>OH031</td>\n",
       "      <td>OTC</td>\n",
       "      <td>412440</td>\n",
       "      <td>Actual</td>\n",
       "    </tr>\n",
       "    <tr>\n",
       "      <th>6</th>\n",
       "      <td>2019-07-01</td>\n",
       "      <td>OH031</td>\n",
       "      <td>OTC</td>\n",
       "      <td>406079</td>\n",
       "      <td>Actual</td>\n",
       "    </tr>\n",
       "    <tr>\n",
       "      <th>7</th>\n",
       "      <td>2019-08-01</td>\n",
       "      <td>OH031</td>\n",
       "      <td>OTC</td>\n",
       "      <td>360951</td>\n",
       "      <td>Actual</td>\n",
       "    </tr>\n",
       "    <tr>\n",
       "      <th>8</th>\n",
       "      <td>2019-09-01</td>\n",
       "      <td>OH031</td>\n",
       "      <td>OTC</td>\n",
       "      <td>428473</td>\n",
       "      <td>Actual</td>\n",
       "    </tr>\n",
       "    <tr>\n",
       "      <th>9</th>\n",
       "      <td>2019-10-01</td>\n",
       "      <td>OH031</td>\n",
       "      <td>OTC</td>\n",
       "      <td>146170</td>\n",
       "      <td>Actual</td>\n",
       "    </tr>\n",
       "    <tr>\n",
       "      <th>10</th>\n",
       "      <td>2019-11-01</td>\n",
       "      <td>OH031</td>\n",
       "      <td>OTC</td>\n",
       "      <td>609376</td>\n",
       "      <td>Actual</td>\n",
       "    </tr>\n",
       "    <tr>\n",
       "      <th>11</th>\n",
       "      <td>2019-12-01</td>\n",
       "      <td>OH031</td>\n",
       "      <td>OTC</td>\n",
       "      <td>503330</td>\n",
       "      <td>Actual</td>\n",
       "    </tr>\n",
       "    <tr>\n",
       "      <th>12</th>\n",
       "      <td>2020-01-01</td>\n",
       "      <td>OH031</td>\n",
       "      <td>OTC</td>\n",
       "      <td>316795</td>\n",
       "      <td>Actual</td>\n",
       "    </tr>\n",
       "    <tr>\n",
       "      <th>13</th>\n",
       "      <td>2020-02-01</td>\n",
       "      <td>OH031</td>\n",
       "      <td>OTC</td>\n",
       "      <td>243741</td>\n",
       "      <td>Actual</td>\n",
       "    </tr>\n",
       "    <tr>\n",
       "      <th>14</th>\n",
       "      <td>2020-03-01</td>\n",
       "      <td>OH031</td>\n",
       "      <td>OTC</td>\n",
       "      <td>301250</td>\n",
       "      <td>Actual</td>\n",
       "    </tr>\n",
       "    <tr>\n",
       "      <th>15</th>\n",
       "      <td>2020-04-01</td>\n",
       "      <td>OH031</td>\n",
       "      <td>OTC</td>\n",
       "      <td>445938</td>\n",
       "      <td>Actual</td>\n",
       "    </tr>\n",
       "    <tr>\n",
       "      <th>16</th>\n",
       "      <td>2020-05-01</td>\n",
       "      <td>OH031</td>\n",
       "      <td>OTC</td>\n",
       "      <td>350660</td>\n",
       "      <td>Actual</td>\n",
       "    </tr>\n",
       "    <tr>\n",
       "      <th>17</th>\n",
       "      <td>2020-06-01</td>\n",
       "      <td>OH031</td>\n",
       "      <td>OTC</td>\n",
       "      <td>393374</td>\n",
       "      <td>Actual</td>\n",
       "    </tr>\n",
       "    <tr>\n",
       "      <th>18</th>\n",
       "      <td>2020-07-01</td>\n",
       "      <td>OH031</td>\n",
       "      <td>OTC</td>\n",
       "      <td>393465</td>\n",
       "      <td>Actual</td>\n",
       "    </tr>\n",
       "    <tr>\n",
       "      <th>19</th>\n",
       "      <td>2020-08-01</td>\n",
       "      <td>OH031</td>\n",
       "      <td>OTC</td>\n",
       "      <td>486586</td>\n",
       "      <td>Actual</td>\n",
       "    </tr>\n",
       "    <tr>\n",
       "      <th>20</th>\n",
       "      <td>2020-09-01</td>\n",
       "      <td>OH031</td>\n",
       "      <td>OTC</td>\n",
       "      <td>283476</td>\n",
       "      <td>Actual</td>\n",
       "    </tr>\n",
       "    <tr>\n",
       "      <th>21</th>\n",
       "      <td>2020-10-01</td>\n",
       "      <td>OH031</td>\n",
       "      <td>OTC</td>\n",
       "      <td>323156</td>\n",
       "      <td>Actual</td>\n",
       "    </tr>\n",
       "    <tr>\n",
       "      <th>22</th>\n",
       "      <td>2020-11-01</td>\n",
       "      <td>OH031</td>\n",
       "      <td>OTC</td>\n",
       "      <td>544284</td>\n",
       "      <td>Actual</td>\n",
       "    </tr>\n",
       "    <tr>\n",
       "      <th>23</th>\n",
       "      <td>2020-12-01</td>\n",
       "      <td>OH031</td>\n",
       "      <td>OTC</td>\n",
       "      <td>507236</td>\n",
       "      <td>Actual</td>\n",
       "    </tr>\n",
       "    <tr>\n",
       "      <th>24</th>\n",
       "      <td>2021-01-01</td>\n",
       "      <td>OH031</td>\n",
       "      <td>OTC</td>\n",
       "      <td>369347</td>\n",
       "      <td>Actual</td>\n",
       "    </tr>\n",
       "    <tr>\n",
       "      <th>25</th>\n",
       "      <td>2021-02-01</td>\n",
       "      <td>OH031</td>\n",
       "      <td>OTC</td>\n",
       "      <td>267460</td>\n",
       "      <td>Actual</td>\n",
       "    </tr>\n",
       "    <tr>\n",
       "      <th>26</th>\n",
       "      <td>2021-03-01</td>\n",
       "      <td>OH031</td>\n",
       "      <td>OTC</td>\n",
       "      <td>315567</td>\n",
       "      <td>Actual</td>\n",
       "    </tr>\n",
       "    <tr>\n",
       "      <th>27</th>\n",
       "      <td>2021-04-01</td>\n",
       "      <td>OH031</td>\n",
       "      <td>OTC</td>\n",
       "      <td>377485</td>\n",
       "      <td>Actual</td>\n",
       "    </tr>\n",
       "    <tr>\n",
       "      <th>28</th>\n",
       "      <td>2021-05-01</td>\n",
       "      <td>OH031</td>\n",
       "      <td>OTC</td>\n",
       "      <td>410725</td>\n",
       "      <td>Actual</td>\n",
       "    </tr>\n",
       "    <tr>\n",
       "      <th>29</th>\n",
       "      <td>2021-06-01</td>\n",
       "      <td>OH031</td>\n",
       "      <td>OTC</td>\n",
       "      <td>448222</td>\n",
       "      <td>Actual</td>\n",
       "    </tr>\n",
       "    <tr>\n",
       "      <th>30</th>\n",
       "      <td>2021-07-01</td>\n",
       "      <td>OH031</td>\n",
       "      <td>OTC</td>\n",
       "      <td>498368</td>\n",
       "      <td>Actual</td>\n",
       "    </tr>\n",
       "    <tr>\n",
       "      <th>31</th>\n",
       "      <td>2021-08-01</td>\n",
       "      <td>OH031</td>\n",
       "      <td>OTC</td>\n",
       "      <td>467706</td>\n",
       "      <td>Actual</td>\n",
       "    </tr>\n",
       "    <tr>\n",
       "      <th>32</th>\n",
       "      <td>2021-09-01</td>\n",
       "      <td>OH031</td>\n",
       "      <td>OTC</td>\n",
       "      <td>504508</td>\n",
       "      <td>Actual</td>\n",
       "    </tr>\n",
       "    <tr>\n",
       "      <th>33</th>\n",
       "      <td>2021-10-01</td>\n",
       "      <td>OH031</td>\n",
       "      <td>OTC</td>\n",
       "      <td>428362</td>\n",
       "      <td>Actual</td>\n",
       "    </tr>\n",
       "    <tr>\n",
       "      <th>34</th>\n",
       "      <td>2021-11-01</td>\n",
       "      <td>OH031</td>\n",
       "      <td>OTC</td>\n",
       "      <td>485386</td>\n",
       "      <td>Actual</td>\n",
       "    </tr>\n",
       "    <tr>\n",
       "      <th>35</th>\n",
       "      <td>2021-12-01</td>\n",
       "      <td>OH031</td>\n",
       "      <td>OTC</td>\n",
       "      <td>560904</td>\n",
       "      <td>Actual</td>\n",
       "    </tr>\n",
       "    <tr>\n",
       "      <th>36</th>\n",
       "      <td>2022-01-01</td>\n",
       "      <td>OH031</td>\n",
       "      <td>OTC</td>\n",
       "      <td>396049</td>\n",
       "      <td>Actual</td>\n",
       "    </tr>\n",
       "    <tr>\n",
       "      <th>37</th>\n",
       "      <td>2022-02-01</td>\n",
       "      <td>OH031</td>\n",
       "      <td>OTC</td>\n",
       "      <td>253110</td>\n",
       "      <td>Actual</td>\n",
       "    </tr>\n",
       "    <tr>\n",
       "      <th>38</th>\n",
       "      <td>2022-03-01</td>\n",
       "      <td>OH031</td>\n",
       "      <td>OTC</td>\n",
       "      <td>342818</td>\n",
       "      <td>Actual</td>\n",
       "    </tr>\n",
       "    <tr>\n",
       "      <th>39</th>\n",
       "      <td>2022-04-01</td>\n",
       "      <td>OH031</td>\n",
       "      <td>OTC</td>\n",
       "      <td>417863</td>\n",
       "      <td>Actual</td>\n",
       "    </tr>\n",
       "    <tr>\n",
       "      <th>40</th>\n",
       "      <td>2022-05-01</td>\n",
       "      <td>OH031</td>\n",
       "      <td>OTC</td>\n",
       "      <td>462956</td>\n",
       "      <td>Actual</td>\n",
       "    </tr>\n",
       "    <tr>\n",
       "      <th>41</th>\n",
       "      <td>2022-06-01</td>\n",
       "      <td>OH031</td>\n",
       "      <td>OTC</td>\n",
       "      <td>476845</td>\n",
       "      <td>Forecast</td>\n",
       "    </tr>\n",
       "    <tr>\n",
       "      <th>42</th>\n",
       "      <td>2022-07-01</td>\n",
       "      <td>OH031</td>\n",
       "      <td>OTC</td>\n",
       "      <td>495918</td>\n",
       "      <td>Forecast</td>\n",
       "    </tr>\n",
       "    <tr>\n",
       "      <th>43</th>\n",
       "      <td>2022-08-01</td>\n",
       "      <td>OH031</td>\n",
       "      <td>OTC</td>\n",
       "      <td>465407</td>\n",
       "      <td>Forecast</td>\n",
       "    </tr>\n",
       "    <tr>\n",
       "      <th>44</th>\n",
       "      <td>2022-09-01</td>\n",
       "      <td>OH031</td>\n",
       "      <td>OTC</td>\n",
       "      <td>502028</td>\n",
       "      <td>Forecast</td>\n",
       "    </tr>\n",
       "    <tr>\n",
       "      <th>45</th>\n",
       "      <td>2022-10-01</td>\n",
       "      <td>OH031</td>\n",
       "      <td>OTC</td>\n",
       "      <td>426257</td>\n",
       "      <td>Forecast</td>\n",
       "    </tr>\n",
       "    <tr>\n",
       "      <th>46</th>\n",
       "      <td>2022-11-01</td>\n",
       "      <td>OH031</td>\n",
       "      <td>OTC</td>\n",
       "      <td>483000</td>\n",
       "      <td>Forecast</td>\n",
       "    </tr>\n",
       "    <tr>\n",
       "      <th>47</th>\n",
       "      <td>2022-12-01</td>\n",
       "      <td>OH031</td>\n",
       "      <td>OTC</td>\n",
       "      <td>558147</td>\n",
       "      <td>Forecast</td>\n",
       "    </tr>\n",
       "  </tbody>\n",
       "</table>\n",
       "</div>"
      ],
      "text/plain": [
       "   ngaychungtu   masp makenhkh    total      Type\n",
       "0   2019-01-01  OH031      OTC   570241    Actual\n",
       "1   2019-02-01  OH031      OTC   173570    Actual\n",
       "2   2019-03-01  OH031      OTC   368347    Actual\n",
       "3   2019-04-01  OH031      OTC  1034835    Actual\n",
       "4   2019-05-01  OH031      OTC    73211    Actual\n",
       "5   2019-06-01  OH031      OTC   412440    Actual\n",
       "6   2019-07-01  OH031      OTC   406079    Actual\n",
       "7   2019-08-01  OH031      OTC   360951    Actual\n",
       "8   2019-09-01  OH031      OTC   428473    Actual\n",
       "9   2019-10-01  OH031      OTC   146170    Actual\n",
       "10  2019-11-01  OH031      OTC   609376    Actual\n",
       "11  2019-12-01  OH031      OTC   503330    Actual\n",
       "12  2020-01-01  OH031      OTC   316795    Actual\n",
       "13  2020-02-01  OH031      OTC   243741    Actual\n",
       "14  2020-03-01  OH031      OTC   301250    Actual\n",
       "15  2020-04-01  OH031      OTC   445938    Actual\n",
       "16  2020-05-01  OH031      OTC   350660    Actual\n",
       "17  2020-06-01  OH031      OTC   393374    Actual\n",
       "18  2020-07-01  OH031      OTC   393465    Actual\n",
       "19  2020-08-01  OH031      OTC   486586    Actual\n",
       "20  2020-09-01  OH031      OTC   283476    Actual\n",
       "21  2020-10-01  OH031      OTC   323156    Actual\n",
       "22  2020-11-01  OH031      OTC   544284    Actual\n",
       "23  2020-12-01  OH031      OTC   507236    Actual\n",
       "24  2021-01-01  OH031      OTC   369347    Actual\n",
       "25  2021-02-01  OH031      OTC   267460    Actual\n",
       "26  2021-03-01  OH031      OTC   315567    Actual\n",
       "27  2021-04-01  OH031      OTC   377485    Actual\n",
       "28  2021-05-01  OH031      OTC   410725    Actual\n",
       "29  2021-06-01  OH031      OTC   448222    Actual\n",
       "30  2021-07-01  OH031      OTC   498368    Actual\n",
       "31  2021-08-01  OH031      OTC   467706    Actual\n",
       "32  2021-09-01  OH031      OTC   504508    Actual\n",
       "33  2021-10-01  OH031      OTC   428362    Actual\n",
       "34  2021-11-01  OH031      OTC   485386    Actual\n",
       "35  2021-12-01  OH031      OTC   560904    Actual\n",
       "36  2022-01-01  OH031      OTC   396049    Actual\n",
       "37  2022-02-01  OH031      OTC   253110    Actual\n",
       "38  2022-03-01  OH031      OTC   342818    Actual\n",
       "39  2022-04-01  OH031      OTC   417863    Actual\n",
       "40  2022-05-01  OH031      OTC   462956    Actual\n",
       "41  2022-06-01  OH031      OTC   476845  Forecast\n",
       "42  2022-07-01  OH031      OTC   495918  Forecast\n",
       "43  2022-08-01  OH031      OTC   465407  Forecast\n",
       "44  2022-09-01  OH031      OTC   502028  Forecast\n",
       "45  2022-10-01  OH031      OTC   426257  Forecast\n",
       "46  2022-11-01  OH031      OTC   483000  Forecast\n",
       "47  2022-12-01  OH031      OTC   558147  Forecast"
      ]
     },
     "execution_count": 249,
     "metadata": {},
     "output_type": "execute_result"
    }
   ],
   "source": [
    "df"
   ]
  },
  {
   "cell_type": "code",
   "execution_count": 250,
   "metadata": {},
   "outputs": [],
   "source": [
    "bq_values_insert(df,\"d_ma_forecast\",3)"
   ]
  }
 ],
 "metadata": {
  "kernelspec": {
   "display_name": "Python 3.8.10 ('penv': venv)",
   "language": "python",
   "name": "python3"
  },
  "language_info": {
   "codemirror_mode": {
    "name": "ipython",
    "version": 3
   },
   "file_extension": ".py",
   "mimetype": "text/x-python",
   "name": "python",
   "nbconvert_exporter": "python",
   "pygments_lexer": "ipython3",
   "version": "3.8.10"
  },
  "orig_nbformat": 4,
  "vscode": {
   "interpreter": {
    "hash": "3c2e39d7fc9cf17cb691d4cf5813d2c02bf621eb249ec680b256c48b7ac201e0"
   }
  }
 },
 "nbformat": 4,
 "nbformat_minor": 2
}
