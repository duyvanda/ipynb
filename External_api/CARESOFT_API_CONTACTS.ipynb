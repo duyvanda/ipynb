{
 "cells": [
  {
   "cell_type": "code",
   "execution_count": 1,
   "metadata": {},
   "outputs": [
    {
     "name": "stdout",
     "output_type": "stream",
     "text": [
      "Default bq project:  spatial-vision-343005.biteam\n"
     ]
    }
   ],
   "source": [
    "from utils.df_handle import *"
   ]
  },
  {
   "cell_type": "code",
   "execution_count": 2,
   "metadata": {},
   "outputs": [],
   "source": [
    "import requests"
   ]
  },
  {
   "cell_type": "code",
   "execution_count": 3,
   "metadata": {},
   "outputs": [],
   "source": [
    "from vars import vars\n",
    "# import pandas as pd"
   ]
  },
  {
   "cell_type": "code",
   "execution_count": 4,
   "metadata": {},
   "outputs": [],
   "source": [
    "def insert_ids(pages):\n",
    "    for page in pages:\n",
    "        base_url = 'https://api.caresoft.vn/merapgroup/api/v1/'\n",
    "        headers = {\"Authorization\": f\"Bearer {vars['name']}\"}\n",
    "        extra_url=f'contacts?updated_since=2022-02-01T00:00:00Z&count=500&page={page}'\n",
    "        r = requests.get(base_url+extra_url, headers=headers)\n",
    "        data = r.json()['contacts']\n",
    "        df1=pd.DataFrame.from_records(data)\n",
    "        try:\n",
    "            df1.created_at = pd.to_datetime(df1.created_at, dayfirst=True, infer_datetime_format=False).dt.tz_localize(None)\n",
    "            df1.updated_at = pd.to_datetime(df1.updated_at, dayfirst=True, infer_datetime_format=False).dt.tz_localize(None)\n",
    "            df1 = df1[['id','updated_at','created_at']].copy()\n",
    "            execute_values_upsert(df1,'f_caresoft_contactids2',pk=[\"id\"])\n",
    "        except AttributeError as e:\n",
    "            print(e)"
   ]
  },
  {
   "cell_type": "code",
   "execution_count": 11,
   "metadata": {},
   "outputs": [],
   "source": [
    "# page=1\n",
    "# base_url = 'https://api.caresoft.vn/merapgroup/api/v1/'\n",
    "# headers = {\"Authorization\": f\"Bearer {vars['name']}\"}\n",
    "# extra_url=f'contacts?updated_since=2022-02-01T00:00:00Z&count=500&page={page}'\n",
    "# r = requests.get(base_url+extra_url, headers=headers)"
   ]
  },
  {
   "cell_type": "code",
   "execution_count": 12,
   "metadata": {},
   "outputs": [],
   "source": [
    "# r.json()"
   ]
  },
  {
   "cell_type": "code",
   "execution_count": 8,
   "metadata": {},
   "outputs": [],
   "source": [
    "# r.json()"
   ]
  },
  {
   "cell_type": "code",
   "execution_count": 6,
   "metadata": {},
   "outputs": [
    {
     "name": "stdout",
     "output_type": "stream",
     "text": [
      "INSERT INTO f_caresoft_contactids2(id,updated_at,created_at) VALUES %s ON CONFLICT (id) DO UPDATE SET updated_at = excluded.updated_at, created_at = excluded.created_at\n",
      "Data inserted using execute_values() successfully..\n",
      "INSERT INTO f_caresoft_contactids2(id,updated_at,created_at) VALUES %s ON CONFLICT (id) DO UPDATE SET updated_at = excluded.updated_at, created_at = excluded.created_at\n",
      "Data inserted using execute_values() successfully..\n",
      "INSERT INTO f_caresoft_contactids2(id,updated_at,created_at) VALUES %s ON CONFLICT (id) DO UPDATE SET updated_at = excluded.updated_at, created_at = excluded.created_at\n",
      "Data inserted using execute_values() successfully..\n",
      "INSERT INTO f_caresoft_contactids2(id,updated_at,created_at) VALUES %s ON CONFLICT (id) DO UPDATE SET updated_at = excluded.updated_at, created_at = excluded.created_at\n",
      "Data inserted using execute_values() successfully..\n",
      "INSERT INTO f_caresoft_contactids2(id,updated_at,created_at) VALUES %s ON CONFLICT (id) DO UPDATE SET updated_at = excluded.updated_at, created_at = excluded.created_at\n",
      "Data inserted using execute_values() successfully..\n",
      "INSERT INTO f_caresoft_contactids2(id,updated_at,created_at) VALUES %s ON CONFLICT (id) DO UPDATE SET updated_at = excluded.updated_at, created_at = excluded.created_at\n",
      "Data inserted using execute_values() successfully..\n",
      "INSERT INTO f_caresoft_contactids2(id,updated_at,created_at) VALUES %s ON CONFLICT (id) DO UPDATE SET updated_at = excluded.updated_at, created_at = excluded.created_at\n",
      "Data inserted using execute_values() successfully..\n",
      "INSERT INTO f_caresoft_contactids2(id,updated_at,created_at) VALUES %s ON CONFLICT (id) DO UPDATE SET updated_at = excluded.updated_at, created_at = excluded.created_at\n",
      "Data inserted using execute_values() successfully..\n",
      "'DataFrame' object has no attribute 'created_at'\n",
      "'DataFrame' object has no attribute 'created_at'\n"
     ]
    }
   ],
   "source": [
    "pages = [1,2,3,4,5,6,7,8,9,10]\n",
    "insert_ids(pages)"
   ]
  },
  {
   "cell_type": "code",
   "execution_count": 4,
   "metadata": {},
   "outputs": [],
   "source": [
    "df_id = get_ps_df(\"select id from f_caresoft_contactids\")"
   ]
  },
  {
   "cell_type": "code",
   "execution_count": 5,
   "metadata": {},
   "outputs": [],
   "source": [
    "df_id.id = df_id.id.astype('int64')"
   ]
  },
  {
   "cell_type": "code",
   "execution_count": 6,
   "metadata": {},
   "outputs": [],
   "source": [
    "iterators = df_id.id.iteritems()"
   ]
  },
  {
   "cell_type": "code",
   "execution_count": 250,
   "metadata": {},
   "outputs": [
    {
     "data": {
      "text/plain": [
       "(1, 134514795)"
      ]
     },
     "execution_count": 250,
     "metadata": {},
     "output_type": "execute_result"
    }
   ],
   "source": [
    "next(iterators)"
   ]
  },
  {
   "cell_type": "code",
   "execution_count": 7,
   "metadata": {},
   "outputs": [],
   "source": [
    "# for index, value in iterators:\n",
    "value='134514795'\n",
    "base_url = 'https://api.caresoft.vn/merapgroup/api/v1/'\n",
    "headers = {\"Authorization\": f\"Bearer {vars['name']}\"}\n",
    "extra_url=f'contacts/{value}'\n",
    "r = requests.get(base_url+extra_url, headers=headers)\n",
    "data = r.json()['contact']\n",
    "# data['id']\n",
    "id = data['id']\n",
    "username = data['username']\n",
    "email = data['email']\n",
    "email2 = data['email2']\n",
    "phone_no = data['phone_no']\n",
    "phone_no2 = data['phone_no2']\n",
    "phone_no3 = data['phone_no3']\n",
    "makhdms = data['custom_fields'][1]['value']\n",
    "data_dict = {'id':id,'username':username, 'email':email, 'email2':email2, 'phone_no':phone_no, 'phone_no2':phone_no2, 'phone_no3':phone_no3, 'makhdms':makhdms}\n",
    "# data_dict\n",
    "df = pd.DataFrame.from_dict(data_dict, orient='index').T\n",
    "    # execute_values_upsert(df, \"f_caresoft_contactids\", pk=['id'])"
   ]
  },
  {
   "cell_type": "code",
   "execution_count": 8,
   "metadata": {},
   "outputs": [
    {
     "name": "stdout",
     "output_type": "stream",
     "text": [
      "INSERT INTO f_caresoft_contactids(id,username,email,email2,phone_no,phone_no2,phone_no3,makhdms) VALUES %s ON CONFLICT (id) DO UPDATE SET username = excluded.username, email = excluded.email, email2 = excluded.email2, phone_no = excluded.phone_no, phone_no2 = excluded.phone_no2, phone_no3 = excluded.phone_no3, makhdms = excluded.makhdms\n"
     ]
    },
    {
     "ename": "NotNullViolation",
     "evalue": "null value in column \"created_at\" of relation \"f_caresoft_contactids\" violates not-null constraint\nDETAIL:  Failing row contains (134514795, null, null, Nhiều Nguyễn, null, null, null, null, null, null).\n",
     "output_type": "error",
     "traceback": [
      "\u001b[1;31m---------------------------------------------------------------------------\u001b[0m",
      "\u001b[1;31mNotNullViolation\u001b[0m                          Traceback (most recent call last)",
      "\u001b[1;32m~\\AppData\\Local\\Temp/ipykernel_18292/2923773266.py\u001b[0m in \u001b[0;36m<module>\u001b[1;34m\u001b[0m\n\u001b[1;32m----> 1\u001b[1;33m \u001b[0mexecute_values_upsert\u001b[0m\u001b[1;33m(\u001b[0m\u001b[0mdf\u001b[0m\u001b[1;33m,\u001b[0m \u001b[1;34m\"f_caresoft_contactids\"\u001b[0m\u001b[1;33m,\u001b[0m \u001b[0mpk\u001b[0m\u001b[1;33m=\u001b[0m\u001b[1;33m[\u001b[0m\u001b[1;34m'id'\u001b[0m\u001b[1;33m]\u001b[0m\u001b[1;33m)\u001b[0m\u001b[1;33m\u001b[0m\u001b[1;33m\u001b[0m\u001b[0m\n\u001b[0m",
      "\u001b[1;32md:\\data_sale\\venv\\lib\\site-packages\\utils\\df_handle.py\u001b[0m in \u001b[0;36mexecute_values_upsert\u001b[1;34m(datafrm, table, pk)\u001b[0m\n\u001b[0;32m    392\u001b[0m     \u001b[0mcursor\u001b[0m \u001b[1;33m=\u001b[0m \u001b[0mconn\u001b[0m\u001b[1;33m.\u001b[0m\u001b[0mcursor\u001b[0m\u001b[1;33m(\u001b[0m\u001b[1;33m)\u001b[0m\u001b[1;33m\u001b[0m\u001b[1;33m\u001b[0m\u001b[0m\n\u001b[0;32m    393\u001b[0m     \u001b[1;31m# try:\u001b[0m\u001b[1;33m\u001b[0m\u001b[1;33m\u001b[0m\u001b[1;33m\u001b[0m\u001b[0m\n\u001b[1;32m--> 394\u001b[1;33m     \u001b[0mextras\u001b[0m\u001b[1;33m.\u001b[0m\u001b[0mexecute_values\u001b[0m\u001b[1;33m(\u001b[0m\u001b[0mcursor\u001b[0m\u001b[1;33m,\u001b[0m \u001b[0msql\u001b[0m\u001b[1;33m,\u001b[0m \u001b[0mtpls\u001b[0m\u001b[1;33m,\u001b[0m \u001b[0mpage_size\u001b[0m\u001b[1;33m=\u001b[0m\u001b[1;36m100\u001b[0m\u001b[1;33m)\u001b[0m\u001b[1;33m\u001b[0m\u001b[1;33m\u001b[0m\u001b[0m\n\u001b[0m\u001b[0;32m    395\u001b[0m     \u001b[0mconn\u001b[0m\u001b[1;33m.\u001b[0m\u001b[0mcommit\u001b[0m\u001b[1;33m(\u001b[0m\u001b[1;33m)\u001b[0m\u001b[1;33m\u001b[0m\u001b[1;33m\u001b[0m\u001b[0m\n\u001b[0;32m    396\u001b[0m     \u001b[0mprint\u001b[0m\u001b[1;33m(\u001b[0m\u001b[1;34m\"Data inserted using execute_values() successfully..\"\u001b[0m\u001b[1;33m)\u001b[0m\u001b[1;33m\u001b[0m\u001b[1;33m\u001b[0m\u001b[0m\n",
      "\u001b[1;32md:\\data_sale\\venv\\lib\\site-packages\\psycopg2\\extras.py\u001b[0m in \u001b[0;36mexecute_values\u001b[1;34m(cur, sql, argslist, template, page_size, fetch)\u001b[0m\n\u001b[0;32m   1268\u001b[0m             \u001b[0mparts\u001b[0m\u001b[1;33m.\u001b[0m\u001b[0mappend\u001b[0m\u001b[1;33m(\u001b[0m\u001b[1;34mb','\u001b[0m\u001b[1;33m)\u001b[0m\u001b[1;33m\u001b[0m\u001b[1;33m\u001b[0m\u001b[0m\n\u001b[0;32m   1269\u001b[0m         \u001b[0mparts\u001b[0m\u001b[1;33m[\u001b[0m\u001b[1;33m-\u001b[0m\u001b[1;36m1\u001b[0m\u001b[1;33m:\u001b[0m\u001b[1;33m]\u001b[0m \u001b[1;33m=\u001b[0m \u001b[0mpost\u001b[0m\u001b[1;33m\u001b[0m\u001b[1;33m\u001b[0m\u001b[0m\n\u001b[1;32m-> 1270\u001b[1;33m         \u001b[0mcur\u001b[0m\u001b[1;33m.\u001b[0m\u001b[0mexecute\u001b[0m\u001b[1;33m(\u001b[0m\u001b[1;34mb''\u001b[0m\u001b[1;33m.\u001b[0m\u001b[0mjoin\u001b[0m\u001b[1;33m(\u001b[0m\u001b[0mparts\u001b[0m\u001b[1;33m)\u001b[0m\u001b[1;33m)\u001b[0m\u001b[1;33m\u001b[0m\u001b[1;33m\u001b[0m\u001b[0m\n\u001b[0m\u001b[0;32m   1271\u001b[0m         \u001b[1;32mif\u001b[0m \u001b[0mfetch\u001b[0m\u001b[1;33m:\u001b[0m\u001b[1;33m\u001b[0m\u001b[1;33m\u001b[0m\u001b[0m\n\u001b[0;32m   1272\u001b[0m             \u001b[0mresult\u001b[0m\u001b[1;33m.\u001b[0m\u001b[0mextend\u001b[0m\u001b[1;33m(\u001b[0m\u001b[0mcur\u001b[0m\u001b[1;33m.\u001b[0m\u001b[0mfetchall\u001b[0m\u001b[1;33m(\u001b[0m\u001b[1;33m)\u001b[0m\u001b[1;33m)\u001b[0m\u001b[1;33m\u001b[0m\u001b[1;33m\u001b[0m\u001b[0m\n",
      "\u001b[1;31mNotNullViolation\u001b[0m: null value in column \"created_at\" of relation \"f_caresoft_contactids\" violates not-null constraint\nDETAIL:  Failing row contains (134514795, null, null, Nhiều Nguyễn, null, null, null, null, null, null).\n"
     ]
    }
   ],
   "source": [
    "execute_values_upsert(df, \"f_caresoft_contactids\", pk=['id'])"
   ]
  },
  {
   "cell_type": "code",
   "execution_count": 207,
   "metadata": {},
   "outputs": [],
   "source": [
    "# r.json()['contact']['custom_fields'][1]['value']"
   ]
  },
  {
   "cell_type": "code",
   "execution_count": 208,
   "metadata": {},
   "outputs": [],
   "source": [
    "# r.json()['contact']['custom_fields']"
   ]
  },
  {
   "cell_type": "code",
   "execution_count": null,
   "metadata": {},
   "outputs": [],
   "source": []
  }
 ],
 "metadata": {
  "interpreter": {
   "hash": "f94d6dad5013d632e8b52fc362848c71d5234e1d7ba23afa22c3a2e55512dabd"
  },
  "kernelspec": {
   "display_name": "Python 3.9.6 ('venv': venv)",
   "language": "python",
   "name": "python3"
  },
  "language_info": {
   "codemirror_mode": {
    "name": "ipython",
    "version": 3
   },
   "file_extension": ".py",
   "mimetype": "text/x-python",
   "name": "python",
   "nbconvert_exporter": "python",
   "pygments_lexer": "ipython3",
   "version": "3.9.6"
  },
  "orig_nbformat": 4
 },
 "nbformat": 4,
 "nbformat_minor": 2
}
