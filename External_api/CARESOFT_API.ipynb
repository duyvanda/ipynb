{
  "cells": [
    {
      "cell_type": "code",
      "execution_count": 3,
      "metadata": {
        "id": "BQ3ca-WcuDhc"
      },
      "outputs": [],
      "source": [
        "from utils.df_handle import *"
      ]
    },
    {
      "cell_type": "code",
      "execution_count": 4,
      "metadata": {},
      "outputs": [
        {
          "ename": "TypeError",
          "evalue": "ga_pivot_report() missing 5 required positional arguments: 'lst_dm', 'lst_mt', 'start_date', 'end_date', and 'csv_path'",
          "output_type": "error",
          "traceback": [
            "\u001b[1;31m---------------------------------------------------------------------------\u001b[0m",
            "\u001b[1;31mTypeError\u001b[0m                                 Traceback (most recent call last)",
            "\u001b[1;32m~\\AppData\\Local\\Temp/ipykernel_3668/3723049313.py\u001b[0m in \u001b[0;36m<module>\u001b[1;34m\u001b[0m\n\u001b[1;32m----> 1\u001b[1;33m \u001b[0mga_pivot_report\u001b[0m\u001b[1;33m(\u001b[0m\u001b[1;33m)\u001b[0m\u001b[1;33m\u001b[0m\u001b[1;33m\u001b[0m\u001b[0m\n\u001b[0m",
            "\u001b[1;31mTypeError\u001b[0m: ga_pivot_report() missing 5 required positional arguments: 'lst_dm', 'lst_mt', 'start_date', 'end_date', and 'csv_path'"
          ]
        }
      ],
      "source": []
    },
    {
      "cell_type": "code",
      "execution_count": 1,
      "metadata": {},
      "outputs": [],
      "source": [
        "# sample_pivot_report()"
      ]
    },
    {
      "cell_type": "code",
      "execution_count": 2,
      "metadata": {
        "colab": {
          "base_uri": "https://localhost:8080/"
        },
        "id": "htzrCedsb-YZ",
        "outputId": "75af1231-a2ce-48ce-d281-37bc8a44528e"
      },
      "outputs": [],
      "source": [
        "# import os\n",
        "import requests\n",
        "# from google.colab import drive\n",
        "# drive.mount('/content/drive')"
      ]
    },
    {
      "cell_type": "code",
      "execution_count": 3,
      "metadata": {
        "colab": {
          "base_uri": "https://localhost:8080/"
        },
        "id": "s8z56Y3dcGqp",
        "outputId": "fd26c70a-deba-4ac6-b654-cbcd22a221ce"
      },
      "outputs": [],
      "source": [
        "# os.chdir(\"/content/drive/MyDrive/CareSoft_API\")\n",
        "# print(os.getcwd())"
      ]
    },
    {
      "cell_type": "code",
      "execution_count": 4,
      "metadata": {
        "id": "jlkgPGkouUJG"
      },
      "outputs": [],
      "source": [
        "# from google.colab import drive\n",
        "# drive.mount('/content/drive')"
      ]
    },
    {
      "cell_type": "code",
      "execution_count": 5,
      "metadata": {
        "id": "UVedzbjlcIUo"
      },
      "outputs": [],
      "source": [
        "from vars import vars\n",
        "# import pandas as pd"
      ]
    },
    {
      "cell_type": "code",
      "execution_count": 6,
      "metadata": {
        "id": "DlNKtIbeuXZw"
      },
      "outputs": [],
      "source": [
        "# from google.colab import drive\n",
        "# drive.mount('/content/drive')"
      ]
    },
    {
      "cell_type": "code",
      "execution_count": 7,
      "metadata": {
        "colab": {
          "base_uri": "https://localhost:8080/",
          "height": 35
        },
        "id": "Whr_ZgHscXGC",
        "outputId": "923e83d6-30b5-4507-ca2b-7d50c82bf374"
      },
      "outputs": [],
      "source": [
        "# vars['name']"
      ]
    },
    {
      "cell_type": "code",
      "execution_count": null,
      "metadata": {},
      "outputs": [],
      "source": [
        "base_url = 'https://api.caresoft.vn/merapgroup/api/v1/'\n",
        "headers = {\"Authorization\": f\"Bearer {vars['name']}\"}\n",
        "extra_url=f'contacts/{v}'"
      ]
    },
    {
      "cell_type": "code",
      "execution_count": 142,
      "metadata": {},
      "outputs": [],
      "source": [
        "extra_url='chats?start_time_since=2022-02-01T00:00:00Z&start_time_to=2022-03-16T00:00:00Z&conversation_type=3&page=6&count=500'"
      ]
    },
    {
      "cell_type": "code",
      "execution_count": 143,
      "metadata": {
        "id": "RC4Xg682dzuZ"
      },
      "outputs": [],
      "source": [
        "r = requests.get(base_url+extra_url, headers=headers)"
      ]
    },
    {
      "cell_type": "code",
      "execution_count": 144,
      "metadata": {
        "id": "1yknhaBOd37_"
      },
      "outputs": [],
      "source": [
        "data =  r.json()['chats']"
      ]
    },
    {
      "cell_type": "code",
      "execution_count": 145,
      "metadata": {},
      "outputs": [],
      "source": [
        "# len(data)"
      ]
    },
    {
      "cell_type": "code",
      "execution_count": 146,
      "metadata": {
        "colab": {
          "base_uri": "https://localhost:8080/"
        },
        "id": "NF22OrvuhdXn",
        "outputId": "94ebdeb1-5337-4634-95fa-a820fd0f7662"
      },
      "outputs": [],
      "source": [
        "df1=pd.DataFrame.from_records(data)"
      ]
    },
    {
      "cell_type": "code",
      "execution_count": 147,
      "metadata": {},
      "outputs": [],
      "source": [
        "df1.ticket_id.fillna(0, inplace=True)\n",
        "df1.ticket_no.fillna(0, inplace=True)\n",
        "df1.customer_id.fillna(0, inplace=True)\n",
        "df1.chat_duration.fillna(0, inplace=True)"
      ]
    },
    {
      "cell_type": "code",
      "execution_count": 148,
      "metadata": {},
      "outputs": [],
      "source": [
        "df1.start_time = pd.to_datetime(df1.start_time, dayfirst=True)\n",
        "df1.end_time = pd.to_datetime(df1.end_time, dayfirst=True)\n",
        "df1.ring_time = pd.to_datetime(df1.ring_time, dayfirst=True)\n",
        "df1.meet_time = pd.to_datetime(df1.meet_time, dayfirst=True)"
      ]
    },
    {
      "cell_type": "code",
      "execution_count": 149,
      "metadata": {},
      "outputs": [],
      "source": [
        "df1.end_time.fillna(datetime(1900,1,1), inplace=True)"
      ]
    },
    {
      "cell_type": "code",
      "execution_count": 150,
      "metadata": {},
      "outputs": [],
      "source": [
        "df1.ring_time.fillna(datetime(1900,1,1), inplace=True)\n",
        "df1.meet_time.fillna(datetime(1900,1,1), inplace=True)"
      ]
    },
    {
      "cell_type": "code",
      "execution_count": 151,
      "metadata": {},
      "outputs": [],
      "source": [
        "# df1.end_time.isna().sum()"
      ]
    },
    {
      "cell_type": "code",
      "execution_count": 152,
      "metadata": {},
      "outputs": [],
      "source": [
        "# df1.to_clipboard()"
      ]
    },
    {
      "cell_type": "code",
      "execution_count": 153,
      "metadata": {},
      "outputs": [
        {
          "name": "stdout",
          "output_type": "stream",
          "text": [
            "Data inserted using execute_values() successfully..\n"
          ]
        }
      ],
      "source": [
        "execute_values_insert(df1, \"f_caresoft_chats\")"
      ]
    },
    {
      "cell_type": "code",
      "execution_count": 31,
      "metadata": {},
      "outputs": [
        {
          "data": {
            "text/plain": [
              "0    2022-03-15 22:25:55\n",
              "1    2022-03-15 22:21:59\n",
              "2    2022-03-15 22:20:12\n",
              "3    2022-03-15 22:06:33\n",
              "4    2022-03-15 21:55:16\n",
              "Name: meet_time, dtype: object"
            ]
          },
          "execution_count": 31,
          "metadata": {},
          "output_type": "execute_result"
        }
      ],
      "source": [
        "df1.meet_time.head()"
      ]
    },
    {
      "cell_type": "code",
      "execution_count": 11,
      "metadata": {},
      "outputs": [],
      "source": [
        "df1.to_clipboard()"
      ]
    },
    {
      "cell_type": "code",
      "execution_count": null,
      "metadata": {},
      "outputs": [],
      "source": [
        "class A:\n",
        "    def __init__(self):\n",
        "        pass\n",
        "\n",
        "a = A(1)\n",
        "\n",
        "hasattr(a,'A')"
      ]
    },
    {
      "cell_type": "code",
      "execution_count": null,
      "metadata": {},
      "outputs": [],
      "source": []
    }
  ],
  "metadata": {
    "colab": {
      "collapsed_sections": [],
      "name": "CARESOFT_API.ipynb",
      "provenance": []
    },
    "kernelspec": {
      "display_name": "Python 3",
      "name": "python3"
    },
    "language_info": {
      "codemirror_mode": {
        "name": "ipython",
        "version": 3
      },
      "file_extension": ".py",
      "mimetype": "text/x-python",
      "name": "python",
      "nbconvert_exporter": "python",
      "pygments_lexer": "ipython3",
      "version": "3.9.6"
    }
  },
  "nbformat": 4,
  "nbformat_minor": 0
}
