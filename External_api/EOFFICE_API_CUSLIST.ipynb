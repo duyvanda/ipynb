{
 "cells": [
  {
   "cell_type": "code",
   "execution_count": 1,
   "metadata": {},
   "outputs": [],
   "source": [
    "from utils.df_handle import *\n",
    "from math import ceil"
   ]
  },
  {
   "cell_type": "code",
   "execution_count": 2,
   "metadata": {},
   "outputs": [],
   "source": [
    "import requests"
   ]
  },
  {
   "cell_type": "code",
   "execution_count": 3,
   "metadata": {},
   "outputs": [],
   "source": [
    "from vars import vars"
   ]
  },
  {
   "cell_type": "code",
   "execution_count": 17,
   "metadata": {},
   "outputs": [],
   "source": [
    "base_url = 'https://eoffice.merapgroup.com/eoffice/api/api/'\n",
    "\n",
    "headers = {\"Authorization\": f\"Bearer {vars['name_eoffice']}\", \"Content-Type\":\"application/json\"}\n",
    "\n",
    "extra_url=f'raw/data-follow?&date_start=2022-03-23&limit=500'"
   ]
  },
  {
   "cell_type": "code",
   "execution_count": 18,
   "metadata": {},
   "outputs": [],
   "source": [
    "r = requests.get(base_url+extra_url, headers=headers)\n",
    "\n",
    "data = r.json()['data']\n",
    "\n",
    "df1=pd.DataFrame.from_records(data)"
   ]
  },
  {
   "cell_type": "code",
   "execution_count": 20,
   "metadata": {},
   "outputs": [
    {
     "data": {
      "text/plain": [
       "(76, 16)"
      ]
     },
     "execution_count": 20,
     "metadata": {},
     "output_type": "execute_result"
    }
   ],
   "source": [
    "df1.shape"
   ]
  },
  {
   "cell_type": "code",
   "execution_count": 6,
   "metadata": {},
   "outputs": [],
   "source": [
    "def insert_first_time():\n",
    "    #*--------------*\n",
    "    #get pages\n",
    "    base_url = 'https://eoffice.merapgroup.com/eoffice/api/api/'\n",
    "\n",
    "    headers = {\"Authorization\": f\"Bearer {vars['name_eoffice']}\", \"Content-Type\":\"application/json\"}\n",
    "\n",
    "    extra_url=f'raw/data-follow?&limit=1'\n",
    "    \n",
    "    print(\"url is: \",base_url+extra_url)\n",
    "    \n",
    "    r = requests.get(base_url+extra_url, headers=headers)\n",
    "    \n",
    "    r.json()\n",
    "    \n",
    "    data = r.json()['data']\n",
    "    \n",
    "    print(\"total output: \" ,r.json()['total'])\n",
    "    \n",
    "    print(\"do dai list api: \",len(data))\n",
    "    \n",
    "    maxpage = ceil(r.json()['total']/500)\n",
    "    \n",
    "    pages = [x for x in range(1, maxpage+1, 1)]\n",
    "    \n",
    "    limit=500\n",
    "    #end get pages\n",
    "    #*--------------*\n",
    "    for page in pages:\n",
    "        base_url = 'https://eoffice.merapgroup.com/eoffice/api/api/'\n",
    "        headers = {\"Authorization\": f\"Bearer {vars['name_eoffice']}\", \"Content-Type\":\"application/json\"}\n",
    "        extra_url=f'raw/data-follow?limit={limit}&page={page}'\n",
    "        r = requests.get(base_url+extra_url, headers=headers)\n",
    "        r.json()\n",
    "        data = r.json()['data']\n",
    "        # len(data)\n",
    "        df1=pd.DataFrame.from_records(data)\n",
    "        df1.columns = ['makhdms', 'customer_phone', 'customer_name', 'follow_name',\n",
    "            'follow_phone', 'gender', 'birthday', 'follow_address',\n",
    "            'customer_address', 'updated_at', 'customer_role_name', 'office_code',\n",
    "            'office_name', 'user_name', 'user_code', 'status']\n",
    "        lst = ['makhdms', 'customer_phone', 'customer_name', 'follow_name',\n",
    "            'follow_phone', 'follow_address',\n",
    "            'customer_address','status','updated_at']\n",
    "        df1=df1[lst]\n",
    "        vc(df1, 'status')\n",
    "        dk = df1['status'] != 0\n",
    "        df1 = df1[dk].copy()\n",
    "        # drop_cols(df1, 'status')\n",
    "        print(\"page inserted: \", page)\n",
    "        execute_values_upsert(df1, 'f_eoffice_cus_infor', pk=['follow_phone'])"
   ]
  },
  {
   "cell_type": "code",
   "execution_count": 44,
   "metadata": {},
   "outputs": [],
   "source": [
    "# insert_first_time([1,2,3,4,5,6,7])"
   ]
  }
 ],
 "metadata": {
  "kernelspec": {
   "display_name": "Python 3.9.6 ('venv': venv)",
   "language": "python",
   "name": "python3"
  },
  "language_info": {
   "codemirror_mode": {
    "name": "ipython",
    "version": 3
   },
   "file_extension": ".py",
   "mimetype": "text/x-python",
   "name": "python",
   "nbconvert_exporter": "python",
   "pygments_lexer": "ipython3",
   "version": "3.9.6"
  },
  "orig_nbformat": 4,
  "vscode": {
   "interpreter": {
    "hash": "dff776f8cf9899793f9a0f4d147d4ee0e914dc3f9ff7764d86dd5f5383f5f250"
   }
  }
 },
 "nbformat": 4,
 "nbformat_minor": 2
}
