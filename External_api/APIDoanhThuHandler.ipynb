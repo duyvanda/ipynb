{
 "cells": [
  {
   "cell_type": "code",
   "execution_count": null,
   "id": "cebc1d7c",
   "metadata": {},
   "outputs": [],
   "source": [
    "import sys\n",
    "import os\n",
    "from google.oauth2 import service_account\n",
    "from googleapiclient import discovery\n",
    "from googleapiclient.http import MediaFileUpload\n",
    "from datetime import datetime\n",
    "import pandas as pd\n",
    "import numpy as np\n",
    "import xlwings as xw\n",
    "import unidecode\n",
    "import warnings\n",
    "import time\n",
    "import pyodbc\n",
    "import asyncio\n",
    "print(sys.executable)"
   ]
  },
  {
   "cell_type": "code",
   "execution_count": null,
   "id": "5c4e709e",
   "metadata": {},
   "outputs": [],
   "source": [
    "d1 = datetime.now().strftime(\"%Y%m%d\")\n",
    "d0 = datetime.now().replace(day=1).strftime(\"%Y%m%d\")\n",
    "num_days = int(d1) - int(d0)\n",
    "dates_list = pd.date_range(datetime.now().replace(day=1), periods=num_days).strftime(\"%Y%m%d\").tolist()"
   ]
  },
  {
   "cell_type": "code",
   "execution_count": null,
   "id": "5564b4fa",
   "metadata": {},
   "outputs": [],
   "source": [
    "server = '115.165.164.234'\n",
    "driver = 'SQL Server'\n",
    "db1 = 'PhaNam_eSales_PRO'\n",
    "tcon = 'no'\n",
    "uname = 'duyvq'\n",
    "pword = '123VanQuangDuy'\n",
    "\n",
    "cnxn = pyodbc.connect(driver='{ODBC Driver 17 for SQL Server}', \n",
    "                      host=server, database=db1, trusted_connection=tcon,\n",
    "                      user=uname, password=pword)"
   ]
  },
  {
   "cell_type": "code",
   "execution_count": null,
   "id": "d575554c",
   "metadata": {},
   "outputs": [],
   "source": [
    "df0 = pd.read_csv('APIDoanhThu.csv', parse_dates=['DateOrder'], dayfirst=True)"
   ]
  },
  {
   "cell_type": "code",
   "execution_count": null,
   "id": "a7494900",
   "metadata": {},
   "outputs": [],
   "source": [
    "columns = ['Notes', 'CustomerCode', 'CustomerName', 'CustomerInvoiceCode',\n",
    "       'CustomerInvoice', 'AccountDebit', 'AccountCredit', 'CashPayable',\n",
    "       'Unit', 'CashNumber', 'DateReceive', 'IDCodeOrder', 'DateOrder',\n",
    "       'Symbols', 'InvoiceNumber', 'DateInvoice', 'SalesChannel', 'SaleManID',\n",
    "       'SaleMan', 'DelivererID', 'Deliverer', 'MemberAddID', 'MemberAdd',\n",
    "       'ReceiverID', 'Receiver', 'OfficeCode', 'Office']"
   ]
  },
  {
   "cell_type": "code",
   "execution_count": null,
   "id": "771dcec6",
   "metadata": {},
   "outputs": [],
   "source": [
    "def get_tasks():\n",
    "    tasks = []\n",
    "    for index, date in enumerate(dates_list):\n",
    "        date = f\"'{dates_list[index]}'\"\n",
    "        query = f\"EXEC [Api_GetARDoc] @DateGetData={date}\"\n",
    "        tasks.append(pd.read_sql(query, cnxn))\n",
    "    return tasks"
   ]
  },
  {
   "cell_type": "code",
   "execution_count": null,
   "id": "a0aac27c",
   "metadata": {},
   "outputs": [],
   "source": [
    "tasks = []\n",
    "for index, date in enumerate(dates_list):\n",
    "    date = f\"'{dates_list[index]}'\"\n",
    "    query = f\"EXEC [Api_GetARDoc] @DateGetData={date}\"\n",
    "    tasks.append(pd.read_sql(query, cnxn))\n",
    "    \n",
    "print(tasks)"
   ]
  },
  {
   "cell_type": "raw",
   "id": "1a7cfdc3",
   "metadata": {},
   "source": [
    "def get_tasks(session):\n",
    "    tasks = []\n",
    "    for symbol in symbols:\n",
    "        tasks.append(asyncio.create_task(session.get(url.format(symbol, api_key), ssl=False)))\n",
    "    return tasks"
   ]
  },
  {
   "cell_type": "raw",
   "id": "ed5fe7e9",
   "metadata": {},
   "source": [
    "async def get_symbols():\n",
    "    async with aiohttp.ClientSession() as session:\n",
    "        tasks = get_tasks(session)\n",
    "        responses = await asyncio.gather(*tasks)\n",
    "        for response in responses:\n",
    "            results.append(await response.json())"
   ]
  },
  {
   "cell_type": "code",
   "execution_count": null,
   "id": "1daac67a",
   "metadata": {
    "scrolled": true
   },
   "outputs": [],
   "source": [
    "df1 = pd.DataFrame(columns=columns)"
   ]
  },
  {
   "cell_type": "code",
   "execution_count": null,
   "id": "294f34d9",
   "metadata": {},
   "outputs": [],
   "source": [
    "df1 = pd.DataFrame(columns=columns)\n",
    "for index, date in enumerate(dates_list):\n",
    "    date = f\"'{dates_list[index]}'\"\n",
    "    query = f\"EXEC [Api_GetARDoc] @DateGetData={date}\"\n",
    "    df_from_ps = pd.read_sql(query, cnxn)\n",
    "    df1 = pd.concat([df1, df_from_ps])"
   ]
  },
  {
   "cell_type": "code",
   "execution_count": null,
   "id": "8d23fd1a",
   "metadata": {},
   "outputs": [],
   "source": [
    "df = pd.concat([df0, df1])\n",
    "df['SDDH-CN'] =  df['IDCodeOrder']+'.'+df['OfficeCode']"
   ]
  },
  {
   "cell_type": "code",
   "execution_count": null,
   "id": "ccbab61a",
   "metadata": {},
   "outputs": [],
   "source": [
    "df.columns"
   ]
  },
  {
   "cell_type": "code",
   "execution_count": null,
   "id": "c4e0e0a0",
   "metadata": {},
   "outputs": [],
   "source": [
    "df3 = pd.read_csv('raw_data_result.csv', low_memory=False)"
   ]
  },
  {
   "cell_type": "code",
   "execution_count": null,
   "id": "48cd8db3",
   "metadata": {},
   "outputs": [],
   "source": [
    "df3['MaVungBH'].unique()"
   ]
  },
  {
   "cell_type": "code",
   "execution_count": null,
   "id": "95cf9b69",
   "metadata": {},
   "outputs": [],
   "source": [
    "df3['TenKhuVuc'].unique()"
   ]
  },
  {
   "cell_type": "code",
   "execution_count": null,
   "id": "1010da74",
   "metadata": {},
   "outputs": [],
   "source": [
    "df3.columns"
   ]
  },
  {
   "cell_type": "code",
   "execution_count": null,
   "id": "4feabb7b",
   "metadata": {},
   "outputs": [],
   "source": [
    "import numpy as np\n",
    "import pandas as pd\n",
    "pd.options.display.float_format = '{:.2f}'.format\n",
    "pd.set_option('display.max_columns', None)\n",
    "pd.set_option('display.max_rows', None)"
   ]
  },
  {
   "cell_type": "code",
   "execution_count": null,
   "id": "9af10b2f",
   "metadata": {},
   "outputs": [],
   "source": [
    "table = pd.pivot_table(df3, values=['MaKenhKH2', 'MaVungBH', 'TenKhuVuc'], index=['SDDH-CN'], aggfunc=pd.Series.nunique)"
   ]
  },
  {
   "cell_type": "code",
   "execution_count": null,
   "id": "98a130c0",
   "metadata": {},
   "outputs": [],
   "source": [
    "table[table['MaKenhKH2']>1]"
   ]
  },
  {
   "cell_type": "code",
   "execution_count": null,
   "id": "03b892bd",
   "metadata": {},
   "outputs": [],
   "source": [
    "table[table['TenKhuVuc']>1]"
   ]
  },
  {
   "cell_type": "code",
   "execution_count": null,
   "id": "405c82df",
   "metadata": {},
   "outputs": [],
   "source": [
    "df3[df3['SDDH-CN'] == 'DH082021-00945.MR0015']"
   ]
  },
  {
   "cell_type": "code",
   "execution_count": null,
   "id": "a2bfff22",
   "metadata": {},
   "outputs": [],
   "source": [
    "len(table[table['MaKenhKH2']>1])\n",
    "df3 = df[['SDDH-CN','']].copy()\n",
    "df3.shape"
   ]
  },
  {
   "cell_type": "code",
   "execution_count": null,
   "id": "284c5df5",
   "metadata": {},
   "outputs": [],
   "source": [
    "df4 = df3[['SDDH-CN','MaKenhKH2', 'MaVungBH', 'TenKhuVuc']].copy()"
   ]
  },
  {
   "cell_type": "code",
   "execution_count": null,
   "id": "364088ca",
   "metadata": {},
   "outputs": [],
   "source": [
    "df4.head()"
   ]
  },
  {
   "cell_type": "code",
   "execution_count": null,
   "id": "fc4d58e2",
   "metadata": {},
   "outputs": [],
   "source": [
    "df4.shape"
   ]
  },
  {
   "cell_type": "code",
   "execution_count": null,
   "id": "79f646fb",
   "metadata": {
    "scrolled": true
   },
   "outputs": [],
   "source": [
    "df4.drop_duplicates(keep='first', inplace = True)\n",
    "df4.shape"
   ]
  },
  {
   "cell_type": "code",
   "execution_count": null,
   "id": "465d7c28",
   "metadata": {},
   "outputs": [],
   "source": [
    "df4[df4['SDDH-CN'].duplicated(keep=False)]"
   ]
  },
  {
   "cell_type": "code",
   "execution_count": null,
   "id": "0342945f",
   "metadata": {},
   "outputs": [],
   "source": [
    "df4.drop_duplicates(subset=['SDDH-CN'], keep='first', inplace = True)"
   ]
  },
  {
   "cell_type": "code",
   "execution_count": null,
   "id": "9ce32c0d",
   "metadata": {},
   "outputs": [],
   "source": [
    "df.shape"
   ]
  },
  {
   "cell_type": "code",
   "execution_count": null,
   "id": "2ff7f3b1",
   "metadata": {},
   "outputs": [],
   "source": [
    "df.columns"
   ]
  },
  {
   "cell_type": "code",
   "execution_count": null,
   "id": "0cd1d831",
   "metadata": {},
   "outputs": [],
   "source": [
    "df = df.merge(df4, how = 'left',left_on='SDDH-CN', right_on='SDDH-CN',suffixes=('_left', '_right'), validate=\"m:1\")"
   ]
  },
  {
   "cell_type": "code",
   "execution_count": null,
   "id": "ddbd12a4",
   "metadata": {},
   "outputs": [],
   "source": [
    "df.MaKenhKH2.fillna(df['SalesChannel'], inplace=True)"
   ]
  },
  {
   "cell_type": "code",
   "execution_count": null,
   "id": "a02cdc4a",
   "metadata": {
    "scrolled": true
   },
   "outputs": [],
   "source": [
    "df.MaKenhKH2.unique()"
   ]
  },
  {
   "cell_type": "code",
   "execution_count": null,
   "id": "f7541c22",
   "metadata": {},
   "outputs": [],
   "source": [
    "df.to_csv('api_doanh_thu.csv')"
   ]
  },
  {
   "cell_type": "code",
   "execution_count": null,
   "id": "1177b234",
   "metadata": {},
   "outputs": [],
   "source": [
    "# Google Sheet connection\n",
    "scopes = ['https://www.googleapis.com/auth/spreadsheets', 'https://www.googleapis.com/auth/drive',\n",
    "          'https://www.googleapis.com/auth/drive.file']\n",
    "jsonfile = 'D:/data_sale/datateam1599968716114-6f9f144b4262.json'\n",
    "credentials = service_account.Credentials.from_service_account_file(jsonfile, scopes=scopes)\n",
    "service = discovery.build('drive', 'v3', credentials=credentials)"
   ]
  },
  {
   "cell_type": "code",
   "execution_count": null,
   "id": "3bab656e",
   "metadata": {},
   "outputs": [],
   "source": [
    "folder_id = '15j8fcCUpEXDrDWzb8pnYSnW8-7M1Inri'\n",
    "file_name = 'api_doanh_thu.csv'\n",
    "file_type = 'text/csv'\n",
    "file_body={'name':file_name,'addParents':[folder_id]}\n",
    "query = f\"parents = '{folder_id}'\"\n",
    "files = service.files().list(q=query).execute()\n",
    "fileid  = files['files'][0]['id']\n",
    "media = MediaFileUpload('{0}'.format(file_name), mimetype=file_type)\n",
    "updated_file = service.files().update(fileId=fileid, body=file_body, media_body=media)\n",
    "updated_file.execute()"
   ]
  },
  {
   "cell_type": "code",
   "execution_count": null,
   "id": "8a1e17e8",
   "metadata": {},
   "outputs": [],
   "source": []
  }
 ],
 "metadata": {
  "kernelspec": {
   "display_name": "Python 3 (ipykernel)",
   "language": "python",
   "name": "python3"
  },
  "language_info": {
   "codemirror_mode": {
    "name": "ipython",
    "version": 3
   },
   "file_extension": ".py",
   "mimetype": "text/x-python",
   "name": "python",
   "nbconvert_exporter": "python",
   "pygments_lexer": "ipython3",
   "version": "3.9.6"
  }
 },
 "nbformat": 4,
 "nbformat_minor": 5
}
