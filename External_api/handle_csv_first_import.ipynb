{
 "cells": [
  {
   "cell_type": "code",
   "execution_count": 1,
   "metadata": {},
   "outputs": [],
   "source": [
    "from utils.df_handle import *"
   ]
  },
  {
   "cell_type": "code",
   "execution_count": 2,
   "metadata": {},
   "outputs": [
    {
     "name": "stdout",
     "output_type": "stream",
     "text": [
      "Data inserted using execute_values() successfully..\n"
     ]
    }
   ],
   "source": [
    "df=pd.read_csv(\"C:/Users/DELL/Desktop/detail.csv\", dtype={'username':str, 'email':str, 'email2':str, 'phone_no':str, 'phone_no2':str, 'phone_no3':str})\n",
    "# execute_values_insert(df, \"f_caresoft_contact_detail\")\n",
    "df1 = get_ps_df(\"select id as _id from f_caresoft_contactids\")\n",
    "df=df.merge(df1, left_on=\"id\", right_on=\"_id\", how='left').copy()\n",
    "df=df[df['_id'].notna()].copy()\n",
    "drop_cols(df,\"_id\")\n",
    "df['idpk'] = df['id']\n",
    "df.username = np.where(df.username.isna(), None, df.username)\n",
    "df.email = np.where(df.email.isna(), None, df.email)\n",
    "df.email2 = np.where(df.email2.isna(), None, df.email2)\n",
    "df.phone_no = np.where(df.phone_no.isna(), None, df.phone_no)\n",
    "df.phone_no2 = np.where(df.phone_no2.isna(), None, df.phone_no2)\n",
    "df.phone_no3 = np.where(df.phone_no3.isna(), None, df.phone_no3)\n",
    "df.makhdms = np.where(df.makhdms.isna(), None, df.makhdms)\n",
    "execute_values_insert(df, \"f_caresoft_contact_detail\")"
   ]
  },
  {
   "cell_type": "code",
   "execution_count": null,
   "metadata": {},
   "outputs": [],
   "source": []
  }
 ],
 "metadata": {
  "interpreter": {
   "hash": "f94d6dad5013d632e8b52fc362848c71d5234e1d7ba23afa22c3a2e55512dabd"
  },
  "kernelspec": {
   "display_name": "Python 3.9.6 ('venv': venv)",
   "language": "python",
   "name": "python3"
  },
  "language_info": {
   "codemirror_mode": {
    "name": "ipython",
    "version": 3
   },
   "file_extension": ".py",
   "mimetype": "text/x-python",
   "name": "python",
   "nbconvert_exporter": "python",
   "pygments_lexer": "ipython3",
   "version": "3.9.6"
  },
  "orig_nbformat": 4
 },
 "nbformat": 4,
 "nbformat_minor": 2
}
