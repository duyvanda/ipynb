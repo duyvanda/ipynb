{
 "cells": [
  {
   "cell_type": "code",
   "execution_count": 1,
   "metadata": {},
   "outputs": [
    {
     "name": "stdout",
     "output_type": "stream",
     "text": [
      "Default bq project:  spatial-vision-343005.biteam\n"
     ]
    }
   ],
   "source": [
    "from utils.df_handle import *"
   ]
  },
  {
   "cell_type": "code",
   "execution_count": 2,
   "metadata": {},
   "outputs": [
    {
     "name": "stdout",
     "output_type": "stream",
     "text": [
      "BigQuery Select Test (64, 5)\n"
     ]
    }
   ],
   "source": [
    "test_bq()"
   ]
  },
  {
   "cell_type": "code",
   "execution_count": 3,
   "metadata": {},
   "outputs": [],
   "source": [
    "df=get_ps_df(\"select * from f_sc_daily_invt\")"
   ]
  },
  {
   "cell_type": "code",
   "execution_count": 22,
   "metadata": {},
   "outputs": [],
   "source": [
    "# df = pd.read_csv(\"makhcu.csv\")"
   ]
  },
  {
   "cell_type": "code",
   "execution_count": 4,
   "metadata": {},
   "outputs": [
    {
     "name": "stderr",
     "output_type": "stream",
     "text": [
      "1it [00:08,  8.27s/it]\n"
     ]
    }
   ],
   "source": [
    "bq_values_insert(df,\"f_sc_daily_invt\",1)"
   ]
  },
  {
   "cell_type": "code",
   "execution_count": 6,
   "metadata": {},
   "outputs": [],
   "source": [
    "table = Table('spatial-vision-343005.sales.sales_1')"
   ]
  },
  {
   "cell_type": "code",
   "execution_count": 7,
   "metadata": {},
   "outputs": [
    {
     "data": {
      "text/plain": [
       "google.cloud.bigquery.table.Table"
      ]
     },
     "execution_count": 7,
     "metadata": {},
     "output_type": "execute_result"
    }
   ],
   "source": [
    "type(table)"
   ]
  },
  {
   "cell_type": "code",
   "execution_count": 8,
   "metadata": {},
   "outputs": [
    {
     "data": {
      "text/plain": [
       "{'tableReference': {'projectId': 'spatial-vision-343005',\n",
       "  'datasetId': 'sales',\n",
       "  'tableId': 'sales_1'},\n",
       " 'labels': {}}"
      ]
     },
     "execution_count": 8,
     "metadata": {},
     "output_type": "execute_result"
    }
   ],
   "source": [
    "table.to_api_repr()"
   ]
  },
  {
   "cell_type": "code",
   "execution_count": 9,
   "metadata": {},
   "outputs": [
    {
     "data": {
      "text/plain": [
       "'projects/spatial-vision-343005/datasets/sales/tables/sales_1'"
      ]
     },
     "execution_count": 9,
     "metadata": {},
     "output_type": "execute_result"
    }
   ],
   "source": [
    "table.to_bqstorage()"
   ]
  },
  {
   "cell_type": "code",
   "execution_count": 20,
   "metadata": {},
   "outputs": [
    {
     "name": "stdout",
     "output_type": "stream",
     "text": [
      "None\n"
     ]
    }
   ],
   "source": [
    "print(table.view_use_legacy_sql)"
   ]
  },
  {
   "cell_type": "code",
   "execution_count": 25,
   "metadata": {},
   "outputs": [],
   "source": [
    "table = client.get_table('spatial-vision-343005.sales_data.sale2022')"
   ]
  },
  {
   "cell_type": "code",
   "execution_count": 27,
   "metadata": {},
   "outputs": [
    {
     "name": "stdout",
     "output_type": "stream",
     "text": [
      "Table schema: [SchemaField('macongtycn', 'STRING', 'NULLABLE', None, (), ()), SchemaField('congtycn', 'STRING', 'NULLABLE', None, (), ()), SchemaField('ngaychungtu', 'TIMESTAMP', 'NULLABLE', None, (), ()), SchemaField('sodondathang', 'STRING', 'NULLABLE', None, (), ()), SchemaField('sodontrahang', 'STRING', 'NULLABLE', None, (), ()), SchemaField('ngaytrahang', 'TIMESTAMP', 'NULLABLE', None, (), ()), SchemaField('hoadon', 'INTEGER', 'NULLABLE', None, (), ()), SchemaField('trangthai', 'STRING', 'NULLABLE', None, (), ()), SchemaField('makhthue', 'STRING', 'NULLABLE', None, (), ()), SchemaField('makhcu', 'STRING', 'NULLABLE', None, (), ()), SchemaField('tenkhachhang', 'STRING', 'NULLABLE', None, (), ()), SchemaField('tenvungbh', 'STRING', 'NULLABLE', None, (), ()), SchemaField('tenkhuvuc', 'STRING', 'NULLABLE', None, (), ()), SchemaField('tentinhkh', 'STRING', 'NULLABLE', None, (), ()), SchemaField('makenhkh', 'STRING', 'NULLABLE', None, (), ()), SchemaField('tenkenhkh', 'STRING', 'NULLABLE', None, (), ()), SchemaField('makenhphu', 'STRING', 'NULLABLE', None, (), ()), SchemaField('tenkenhphu', 'STRING', 'NULLABLE', None, (), ()), SchemaField('mahco', 'STRING', 'NULLABLE', None, (), ()), SchemaField('tenhco', 'STRING', 'NULLABLE', None, (), ()), SchemaField('maphanloaihco', 'STRING', 'NULLABLE', None, (), ()), SchemaField('tenphanloaihco', 'STRING', 'NULLABLE', None, (), ()), SchemaField('maphanhanghco', 'STRING', 'NULLABLE', None, (), ()), SchemaField('tenphanhanghco', 'STRING', 'NULLABLE', None, (), ()), SchemaField('masanpham', 'STRING', 'NULLABLE', None, (), ()), SchemaField('tensanphamnb', 'STRING', 'NULLABLE', None, (), ()), SchemaField('tensanphamviettat', 'STRING', 'NULLABLE', None, (), ()), SchemaField('solo', 'INTEGER', 'NULLABLE', None, (), ()), SchemaField('lineref', 'INTEGER', 'NULLABLE', None, (), ()), SchemaField('soluong', 'INTEGER', 'NULLABLE', None, (), ()), SchemaField('dongiacovat', 'INTEGER', 'NULLABLE', None, (), ()), SchemaField('doanhsocovat', 'INTEGER', 'NULLABLE', None, (), ()), SchemaField('dongiachuavat', 'INTEGER', 'NULLABLE', None, (), ()), SchemaField('doanhsochuavat', 'INTEGER', 'NULLABLE', None, (), ()), SchemaField('ngaydatdon', 'TIMESTAMP', 'NULLABLE', None, (), ()), SchemaField('ngaygiaohang', 'TIMESTAMP', 'NULLABLE', None, (), ()), SchemaField('manv', 'STRING', 'NULLABLE', None, (), ()), SchemaField('tencvbh', 'STRING', 'NULLABLE', None, (), ()), SchemaField('tenquanlytt', 'STRING', 'NULLABLE', None, (), ()), SchemaField('tenquanlykhuvuc', 'STRING', 'NULLABLE', None, (), ()), SchemaField('tenquanlyvung', 'STRING', 'NULLABLE', None, (), ()), SchemaField('manvgh', 'STRING', 'NULLABLE', None, (), ()), SchemaField('nguoigiaohang', 'STRING', 'NULLABLE', None, (), ()), SchemaField('trangthaigiaohang', 'STRING', 'NULLABLE', None, (), ()), SchemaField('donvigiaohang', 'STRING', 'NULLABLE', None, (), ()), SchemaField('tennhavanchuyen', 'STRING', 'NULLABLE', None, (), ()), SchemaField('kieudonhang', 'STRING', 'NULLABLE', None, (), ()), SchemaField('phanloaispcl', 'STRING', 'NULLABLE', None, (), ()), SchemaField('nhomsp', 'STRING', 'NULLABLE', None, (), ()), SchemaField('khuvucviettat', 'STRING', 'NULLABLE', None, (), ()), SchemaField('chinhanh', 'STRING', 'NULLABLE', None, (), ()), SchemaField('newhco', 'STRING', 'NULLABLE', None, (), ()), SchemaField('nhanhang', 'STRING', 'NULLABLE', None, (), ()), SchemaField('phanam', 'STRING', 'NULLABLE', None, (), ()), SchemaField('thang', 'TIMESTAMP', 'NULLABLE', None, (), ()), SchemaField('inserted_at', 'TIMESTAMP', 'NULLABLE', None, (), ()), SchemaField('makho', 'STRING', 'NULLABLE', None, (), ()), SchemaField('tenkho', 'STRING', 'NULLABLE', None, (), ()), SchemaField('tenquanhuyen', 'STRING', 'NULLABLE', None, (), ()), SchemaField('mahd', 'STRING', 'NULLABLE', None, (), ()), SchemaField('makhdms', 'STRING', 'NULLABLE', None, (), ()), SchemaField('thtt', 'STRING', 'NULLABLE', None, (), ()), SchemaField('pmt', 'STRING', 'NULLABLE', None, (), ())]\n",
      "Table description: None\n",
      "Table has 82989 rows\n"
     ]
    }
   ],
   "source": [
    "print(\"Table schema: {}\".format(table.schema))\n",
    "print(\"Table description: {}\".format(table.description))\n",
    "print(\"Table has {} rows\".format(table.num_rows))\n",
    "\n",
    "# table.schema"
   ]
  },
  {
   "cell_type": "code",
   "execution_count": 4,
   "metadata": {},
   "outputs": [
    {
     "data": {
      "text/plain": [
       "'bq-216440415413@bigquery-encryption.iam.gserviceaccount.com'"
      ]
     },
     "execution_count": 4,
     "metadata": {},
     "output_type": "execute_result"
    }
   ],
   "source": [
    "client.get_service_account_email()"
   ]
  },
  {
   "cell_type": "code",
   "execution_count": 40,
   "metadata": {},
   "outputs": [
    {
     "data": {
      "text/plain": [
       "<google.cloud.bigquery.job.query.QueryJob at 0x1f3377fa2e0>"
      ]
     },
     "execution_count": 40,
     "metadata": {},
     "output_type": "execute_result"
    }
   ],
   "source": [
    "query = \"\"\"\n",
    "DELETE FROM `spatial-vision-343005.sales.sales_1` WHERE B = 'DH052021-00030'\n",
    "\"\"\"\n",
    "client.query(query)  # Make an API request."
   ]
  },
  {
   "cell_type": "code",
   "execution_count": null,
   "metadata": {},
   "outputs": [],
   "source": []
  },
  {
   "cell_type": "code",
   "execution_count": null,
   "metadata": {},
   "outputs": [],
   "source": [
    "df = client.query(sql).to_dataframe()"
   ]
  },
  {
   "cell_type": "code",
   "execution_count": 10,
   "metadata": {},
   "outputs": [
    {
     "ename": "NameError",
     "evalue": "name 'pd' is not defined",
     "output_type": "error",
     "traceback": [
      "\u001b[1;31m---------------------------------------------------------------------------\u001b[0m",
      "\u001b[1;31mNameError\u001b[0m                                 Traceback (most recent call last)",
      "\u001b[1;32m~\\AppData\\Local\\Temp/ipykernel_10956/2814189144.py\u001b[0m in \u001b[0;36m<module>\u001b[1;34m\u001b[0m\n\u001b[1;32m----> 1\u001b[1;33m \u001b[0mdataframe\u001b[0m \u001b[1;33m=\u001b[0m \u001b[0mpd\u001b[0m\u001b[1;33m.\u001b[0m\u001b[0mDataFrame\u001b[0m\u001b[1;33m(\u001b[0m\u001b[1;33m)\u001b[0m\u001b[1;33m\u001b[0m\u001b[1;33m\u001b[0m\u001b[0m\n\u001b[0m",
      "\u001b[1;31mNameError\u001b[0m: name 'pd' is not defined"
     ]
    }
   ],
   "source": [
    "dataframe = pd.DataFrame()"
   ]
  },
  {
   "cell_type": "code",
   "execution_count": 31,
   "metadata": {},
   "outputs": [],
   "source": [
    "def get_bq_df(sql) -> pd.DataFrame():\n",
    "    '''\n",
    "    input a BQ SQL \n",
    "    '''\n",
    "    return client.query(sql).to_dataframe()"
   ]
  },
  {
   "cell_type": "code",
   "execution_count": null,
   "metadata": {},
   "outputs": [],
   "source": [
    "get_bq_df()"
   ]
  },
  {
   "cell_type": "code",
   "execution_count": null,
   "metadata": {},
   "outputs": [],
   "source": [
    "from google.cloud import bigquery\n",
    "\n",
    "# Construct a BigQuery client object.\n",
    "client = bigquery.Client()\n",
    "\n",
    "table_id = \"bigquery-public-data.usa_names.usa_1910_current\"\n",
    "\n",
    "# Use the BigQuery Storage API to speed-up downloads of large tables.\n",
    "dataframe = client.list_rows(table_id).to_dataframe(create_bqstorage_client=True)\n",
    "\n",
    "print(dataframe.info())"
   ]
  },
  {
   "cell_type": "code",
   "execution_count": 43,
   "metadata": {},
   "outputs": [],
   "source": [
    "import pandas_gbq"
   ]
  },
  {
   "cell_type": "code",
   "execution_count": 42,
   "metadata": {},
   "outputs": [],
   "source": [
    "df = get_ps_df(\"select * from test_dataframe\")"
   ]
  },
  {
   "cell_type": "code",
   "execution_count": 45,
   "metadata": {},
   "outputs": [
    {
     "name": "stderr",
     "output_type": "stream",
     "text": [
      "1it [00:04,  4.03s/it]\n"
     ]
    }
   ],
   "source": [
    "pandas_gbq.to_gbq(df, \"sales.test_dataframe\", project_id=\"spatial-vision-343005\", if_exists=\"append\")"
   ]
  },
  {
   "cell_type": "code",
   "execution_count": 2,
   "metadata": {},
   "outputs": [],
   "source": [
    "df = get_bq_df(\"select * from biteam.d_tinh\")"
   ]
  },
  {
   "cell_type": "code",
   "execution_count": 3,
   "metadata": {},
   "outputs": [
    {
     "data": {
      "text/plain": [
       "(64, 5)"
      ]
     },
     "execution_count": 3,
     "metadata": {},
     "output_type": "execute_result"
    }
   ],
   "source": [
    "df.shape"
   ]
  },
  {
   "cell_type": "code",
   "execution_count": null,
   "metadata": {},
   "outputs": [],
   "source": []
  }
 ],
 "metadata": {
  "interpreter": {
   "hash": "f94d6dad5013d632e8b52fc362848c71d5234e1d7ba23afa22c3a2e55512dabd"
  },
  "kernelspec": {
   "display_name": "Python 3.9.6 ('venv': venv)",
   "language": "python",
   "name": "python3"
  },
  "language_info": {
   "codemirror_mode": {
    "name": "ipython",
    "version": 3
   },
   "file_extension": ".py",
   "mimetype": "text/x-python",
   "name": "python",
   "nbconvert_exporter": "python",
   "pygments_lexer": "ipython3",
   "version": "3.9.6"
  },
  "orig_nbformat": 4
 },
 "nbformat": 4,
 "nbformat_minor": 2
}
