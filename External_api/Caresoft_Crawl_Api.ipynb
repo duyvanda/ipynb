{
 "cells": [
  {
   "cell_type": "code",
   "execution_count": 1,
   "metadata": {},
   "outputs": [
    {
     "name": "stdout",
     "output_type": "stream",
     "text": [
      "Default bq project:  spatial-vision-343005.biteam\n"
     ]
    }
   ],
   "source": [
    "from utils.df_handle import *\n",
    "import requests\n",
    "from requests.structures import CaseInsensitiveDict"
   ]
  },
  {
   "cell_type": "markdown",
   "metadata": {},
   "source": [
    "import pendulum\n",
    "from airflow import DAG\n",
    "from airflow.operators.dummy_operator import DummyOperator\n",
    "from airflow.operators.python_operator import PythonOperator\n",
    "\n",
    "local_tz = pendulum.timezone(\"Asia/Bangkok\")\n",
    "\n",
    "name='CareSoftCustomer'\n",
    "prefix='Crawl_'\n",
    "csv_path = '/usr/local/airflow/plugins'+'/'\n",
    "\n",
    "dag_params = {\n",
    "    'owner': 'airflow',\n",
    "    \"depends_on_past\": False,\n",
    "    'start_date': datetime(2022, 5, 14, tzinfo=local_tz),\n",
    "    # 'email_on_failure': True,\n",
    "    # 'email_on_retry': False,\n",
    "    # 'email':['duyvq@merapgroup.com', 'vanquangduy10@gmail.com'],\n",
    "    'do_xcom_push': False,\n",
    "    'execution_timeout':timedelta(seconds=300)\n",
    "    # 'retries': 3,\n",
    "    # 'retry_delay': timedelta(minutes=10),\n",
    "}\n",
    "\n",
    "dag = DAG(prefix+name,\n",
    "          catchup=False,\n",
    "          default_args=dag_params,\n",
    "          schedule_interval= '*/30 8-20,23-23 * * *',\n",
    "          tags=[prefix+name, 'Sync', '30mins']\n",
    ")"
   ]
  },
  {
   "cell_type": "code",
   "execution_count": 2,
   "metadata": {},
   "outputs": [],
   "source": [
    "data1 = {\"from\":1643652037221,\"to\":1656608154405}\n",
    "data2 = {\"from\": 1656612054988, \"to\": 1667235316382}\n",
    "list_dict = [data1, data2]\n",
    "list_pickle_pathname = [\"part1.pickle\", \"part2.pickle\"]"
   ]
  },
  {
   "cell_type": "code",
   "execution_count": 3,
   "metadata": {},
   "outputs": [],
   "source": [
    "def get_data(pickle_pathname: str, data: dict):\n",
    "    url = \"https://web11.caresoft.vn/admin/user/export\"\n",
    "    headers = CaseInsensitiveDict()\n",
    "    headers['authority'] = 'web11.caresoft.vn'\n",
    "    headers['accept'] = 'application/json, text/plain, */*'\n",
    "    headers['content-type'] = 'application/json;charset=UTF-8'\n",
    "    headers['cookie'] = '_fbp=fb.1.1663812395640.118225221; _ga=GA1.1.296298468.1663812395; remember_82e5d2c56bdd0811318f0cf078b78bfc=eyJpdiI6ImEzOVhXYUpKZ0xaTzJWbWtPXC9rVGNnPT0iLCJ2YWx1ZSI6Ikt1ZnlYVVJldzJwMllQTUhpVkVcL0dnWHV6dG1UKzl1VWFCN2gxTm1ka0UrXC9LOWpsM3VzNDZyeEtkXC9oTW83MHlaQ0dKU3NkQU5tUmdNZ2VOYVgrS0hkSGdOcEFKdWRGa1Z0OTdaR0VZa293PSIsIm1hYyI6ImU2OWVlMzU3MWM5OTExZjc3NGRmYWZkZmMyZjU3NzQ5ODVjODMwMGE2ODMwOGRmMDlmYWY1MWRkZWYxNzhlOTkifQ%3D%3D; _ga_TXHEXQXK1P=GS1.1.1666680497.4.1.1666682046.0.0.0; laravel_session=eyJpdiI6IjIrUWZoMkUxS05ZeEdsSVYzRUxGTlE9PSIsInZhbHVlIjoiSm9zaGlubG9ZaTk2SVZqdkpMZlVsbUdxZ2gzd0ZQbW5XK3Mxbkh5ZmR1NDg4S1JlMGNhM2t5RmNNUUJXV1lSYUZQQ245WGF2ck1hNzZGaWE5M0laUUE9PSIsIm1hYyI6ImI3Yzc5YTk3ZGU2YmVjNWM2NzA4MmU5ZTBmZjFhN2E0ZjZlM2Y5NTBiNzcyMTJmODgzYzFkNDgzZTI0NDFlZjcifQ%3D%3D'\n",
    "    headers['user-agent'] = 'Mozilla/5.0 (Windows NT 10.0; Win64; x64) AppleWebKit/537.36 (KHTML, like Gecko) Chrome/103.0.0.0 Safari/537.36'\n",
    "    resp = requests.post(url, headers=headers, json=data)\n",
    "    # df = pd.read_excel(resp.json()['status']['extraData']['urlToFile'], dtype={'Số điện thoại chính': str, 'Số điện thoại phụ 1': str})\n",
    "    # df.columns = cleancols(df)\n",
    "    # df.columns = lower_col(df)\n",
    "    # df.thoidiemcapnhat = pd.to_datetime(df.thoidiemcapnhat)\n",
    "    # df.thoidiemtao = pd.to_datetime(df.thoidiemtao)\n",
    "    # df.to_pickle(pickle_pathname)"
   ]
  },
  {
   "cell_type": "code",
   "execution_count": 6,
   "metadata": {},
   "outputs": [],
   "source": [
    "def get_data(pickle_pathname: str, data: dict):\n",
    "    url = \"https://web11.caresoft.vn/admin/user/export\"\n",
    "    headers = CaseInsensitiveDict()\n",
    "    headers['authority'] = 'web11.caresoft.vn'\n",
    "    headers['accept'] = 'application/json, text/plain, */*'\n",
    "    headers['content-type'] = 'application/json;charset=UTF-8'\n",
    "    headers['cookie'] = '_fbp=fb.1.1663812395640.118225221; _ga=GA1.1.296298468.1663812395; remember_82e5d2c56bdd0811318f0cf078b78bfc=eyJpdiI6ImEzOVhXYUpKZ0xaTzJWbWtPXC9rVGNnPT0iLCJ2YWx1ZSI6Ikt1ZnlYVVJldzJwMllQTUhpVkVcL0dnWHV6dG1UKzl1VWFCN2gxTm1ka0UrXC9LOWpsM3VzNDZyeEtkXC9oTW83MHlaQ0dKU3NkQU5tUmdNZ2VOYVgrS0hkSGdOcEFKdWRGa1Z0OTdaR0VZa293PSIsIm1hYyI6ImU2OWVlMzU3MWM5OTExZjc3NGRmYWZkZmMyZjU3NzQ5ODVjODMwMGE2ODMwOGRmMDlmYWY1MWRkZWYxNzhlOTkifQ%3D%3D; _ga_TXHEXQXK1P=GS1.1.1666680497.4.1.1666682046.0.0.0; laravel_session=eyJpdiI6IjIrUWZoMkUxS05ZeEdsSVYzRUxGTlE9PSIsInZhbHVlIjoiSm9zaGlubG9ZaTk2SVZqdkpMZlVsbUdxZ2gzd0ZQbW5XK3Mxbkh5ZmR1NDg4S1JlMGNhM2t5RmNNUUJXV1lSYUZQQ245WGF2ck1hNzZGaWE5M0laUUE9PSIsIm1hYyI6ImI3Yzc5YTk3ZGU2YmVjNWM2NzA4MmU5ZTBmZjFhN2E0ZjZlM2Y5NTBiNzcyMTJmODgzYzFkNDgzZTI0NDFlZjcifQ%3D%3D'\n",
    "    headers['user-agent'] = 'Mozilla/5.0 (Windows NT 10.0; Win64; x64) AppleWebKit/537.36 (KHTML, like Gecko) Chrome/103.0.0.0 Safari/537.36'\n",
    "    resp = requests.post(url, headers=headers, json=data)\n",
    "    return resp"
   ]
  },
  {
   "cell_type": "code",
   "execution_count": 8,
   "metadata": {},
   "outputs": [],
   "source": [
    "resp = get_data(\"a\", data1)"
   ]
  },
  {
   "cell_type": "code",
   "execution_count": 9,
   "metadata": {},
   "outputs": [
    {
     "data": {
      "text/plain": [
       "{'status': {'responseCode': 0,\n",
       "  'message': None,\n",
       "  'extraData': {'sendEmail': '0',\n",
       "   'urlToFile': 'https://file1.caresoft.vn/file/f/b6a0d15a9cf87c6cef402e5131f24f6b/ef051455-5d0b-491e-9e27-e641c93596ef/CSF2_3hHNB3PSS88EwHjH5J6eGqNpSjjixGLuCjR2Sxy3TJc71ae6k5CALd6X4EPED9JehqxiZwQ45cGqjMGCkLBWgwYfRvF4PXtcpsSuEGL/cd0490cefca753018d9f55bf9fff4739/9dc71cf2c8d2774070b0c2ab05935fd1.xlsx',\n",
       "   'httpProfileId': '3',\n",
       "   'fileId': 'CSF2_3hHNB3PSS88EwHjH5J6eGqNpSjjixGLuCjR2Sxy3TJc71ae6k5CALd6X4EPED9JehqxiZwQ45cGqjMGCkLBWgwYfRvF4PXtcpsSuEGL'},\n",
       "  'extraDataJson': None}}"
      ]
     },
     "execution_count": 9,
     "metadata": {},
     "output_type": "execute_result"
    }
   ],
   "source": [
    "resp.json()"
   ]
  },
  {
   "cell_type": "code",
   "execution_count": 4,
   "metadata": {},
   "outputs": [
    {
     "name": "stdout",
     "output_type": "stream",
     "text": [
      "{'from': 1643652037221, 'to': 1656608154405} part1.pickle\n",
      "{'from': 1656612054988, 'to': 1667235316382} part2.pickle\n"
     ]
    }
   ],
   "source": [
    "zipped = zip(list_dict, list_pickle_pathname)\n",
    "for tuple in zipped:\n",
    "    print(tuple[0], tuple[1])\n",
    "    get_data(tuple[1], tuple[0])\n",
    "    # print(tuple[0], tuple[1])"
   ]
  },
  {
   "cell_type": "code",
   "execution_count": 10,
   "metadata": {},
   "outputs": [],
   "source": [
    "df=pd.read_pickle(\"part1.pickle\")"
   ]
  },
  {
   "cell_type": "code",
   "execution_count": 12,
   "metadata": {},
   "outputs": [
    {
     "data": {
      "text/plain": [
       "0      2022-04-16 08:54:15\n",
       "1      2022-06-23 15:59:14\n",
       "2      2022-02-23 17:27:07\n",
       "3      2022-02-14 17:27:56\n",
       "4      2022-02-25 12:27:03\n",
       "               ...        \n",
       "4079   2022-07-05 08:50:17\n",
       "4080   2022-07-07 10:17:57\n",
       "4081   2022-07-05 08:55:11\n",
       "4082   2022-07-06 10:53:35\n",
       "4083   2022-07-05 08:51:46\n",
       "Name: thoidiemcapnhat, Length: 4084, dtype: datetime64[ns]"
      ]
     },
     "execution_count": 12,
     "metadata": {},
     "output_type": "execute_result"
    }
   ],
   "source": [
    "# df.thoidiemcapnhat"
   ]
  },
  {
   "cell_type": "markdown",
   "metadata": {},
   "source": [
    "dummy_start = DummyOperator(task_id=\"dummy_start\", dag=dag)\n",
    "\n",
    "dummy_end = DummyOperator(task_id=\"dummy_end\", dag=dag)\n",
    "\n",
    "insert = PythonOperator(task_id=\"insert\", python_callable=insert, dag=dag)\n",
    "\n",
    "update = PythonOperator(task_id=\"update\", python_callable=update, dag=dag)\n",
    "\n",
    "dummy_start >> update >> insert >> dummy_end"
   ]
  }
 ],
 "metadata": {
  "kernelspec": {
   "display_name": "Python 3.8.10 ('env': venv)",
   "language": "python",
   "name": "python3"
  },
  "language_info": {
   "codemirror_mode": {
    "name": "ipython",
    "version": 3
   },
   "file_extension": ".py",
   "mimetype": "text/x-python",
   "name": "python",
   "nbconvert_exporter": "python",
   "pygments_lexer": "ipython3",
   "version": "3.8.10"
  },
  "orig_nbformat": 4,
  "vscode": {
   "interpreter": {
    "hash": "e3e62c236e1a80b91bd28884dfef8ca4e8a5f2f97e25c469797e512f6e958bfc"
   }
  }
 },
 "nbformat": 4,
 "nbformat_minor": 2
}
