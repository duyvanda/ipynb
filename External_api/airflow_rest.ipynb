{
 "cells": [
  {
   "cell_type": "code",
   "execution_count": 1,
   "metadata": {},
   "outputs": [],
   "source": [
    "import requests\n",
    "response = requests.get(\"http://171.235.26.161:8085/api/v1/dags/DMS_MASTER_CUSTOMER/dagRuns?limit=1\", auth=(\"admin\", \"admin\"))"
   ]
  },
  {
   "cell_type": "code",
   "execution_count": 2,
   "metadata": {},
   "outputs": [
    {
     "data": {
      "text/plain": [
       "{'dag_runs': [{'conf': {},\n",
       "   'dag_id': 'DMS_MASTER_CUSTOMER',\n",
       "   'dag_run_id': 'scheduled__2022-07-12T18:00:00+00:00',\n",
       "   'end_date': '2022-07-13T18:00:22.315811+00:00',\n",
       "   'execution_date': '2022-07-12T18:00:00+00:00',\n",
       "   'external_trigger': False,\n",
       "   'start_date': '2022-07-13T18:00:00.964662+00:00',\n",
       "   'state': 'success'}],\n",
       " 'total_entries': 9}"
      ]
     },
     "execution_count": 2,
     "metadata": {},
     "output_type": "execute_result"
    }
   ],
   "source": [
    "response.json()"
   ]
  },
  {
   "cell_type": "code",
   "execution_count": null,
   "metadata": {},
   "outputs": [],
   "source": []
  }
 ],
 "metadata": {
  "kernelspec": {
   "display_name": "Python 3.9.6 ('venv': venv)",
   "language": "python",
   "name": "python3"
  },
  "language_info": {
   "codemirror_mode": {
    "name": "ipython",
    "version": 3
   },
   "file_extension": ".py",
   "mimetype": "text/x-python",
   "name": "python",
   "nbconvert_exporter": "python",
   "pygments_lexer": "ipython3",
   "version": "3.9.6"
  },
  "orig_nbformat": 4,
  "vscode": {
   "interpreter": {
    "hash": "dff776f8cf9899793f9a0f4d147d4ee0e914dc3f9ff7764d86dd5f5383f5f250"
   }
  }
 },
 "nbformat": 4,
 "nbformat_minor": 2
}
