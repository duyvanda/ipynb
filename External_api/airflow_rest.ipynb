{
 "cells": [
  {
   "cell_type": "code",
   "execution_count": 75,
   "metadata": {},
   "outputs": [],
   "source": [
    "import requests\n",
    "response = requests.get(\"http://171.235.26.161:8085/api/v1/dags/DMS_CheckIn/dagRuns?order_by=-end_date&limit=1\", auth=(\"admin\", \"admin\"))"
   ]
  },
  {
   "cell_type": "code",
   "execution_count": 64,
   "metadata": {},
   "outputs": [
    {
     "data": {
      "text/plain": [
       "'?order_by=-end_date\"'"
      ]
     },
     "execution_count": 64,
     "metadata": {},
     "output_type": "execute_result"
    }
   ],
   "source": [
    "'?order_by=-end_date\"'"
   ]
  },
  {
   "cell_type": "code",
   "execution_count": null,
   "metadata": {},
   "outputs": [],
   "source": [
    "import requests\n",
    "response = requests.get(\"http://171.235.26.161:8085/api/v1/dags/DMS_CheckIn/dagRuns/scheduled__2022-10-19T00:30:00+00:00\", auth=(\"admin\", \"admin\"))"
   ]
  },
  {
   "cell_type": "code",
   "execution_count": 76,
   "metadata": {},
   "outputs": [
    {
     "data": {
      "text/plain": [
       "{'dag_runs': [{'conf': {},\n",
       "   'dag_id': 'DMS_CheckIn',\n",
       "   'dag_run_id': 'scheduled__2022-10-25T04:00:00+00:00',\n",
       "   'end_date': '2022-10-25T04:30:11.808906+00:00',\n",
       "   'execution_date': '2022-10-25T04:00:00+00:00',\n",
       "   'external_trigger': False,\n",
       "   'start_date': '2022-10-25T04:30:03.093135+00:00',\n",
       "   'state': 'failed'}],\n",
       " 'total_entries': 228}"
      ]
     },
     "execution_count": 76,
     "metadata": {},
     "output_type": "execute_result"
    }
   ],
   "source": [
    "response.json()"
   ]
  },
  {
   "cell_type": "code",
   "execution_count": 2,
   "metadata": {},
   "outputs": [],
   "source": [
    "import requests"
   ]
  },
  {
   "cell_type": "code",
   "execution_count": 45,
   "metadata": {},
   "outputs": [],
   "source": [
    "response = requests.get(\"http://171.235.26.161:8085/api/v1/dags/DMS_CheckIn/tasks/dummy_end\", auth=(\"admin\", \"admin\"))"
   ]
  },
  {
   "cell_type": "code",
   "execution_count": 46,
   "metadata": {},
   "outputs": [
    {
     "data": {
      "text/plain": [
       "{'class_ref': {'class_name': 'DummyOperator',\n",
       "  'module_path': 'airflow.operators.dummy'},\n",
       " 'depends_on_past': False,\n",
       " 'downstream_task_ids': [],\n",
       " 'end_date': None,\n",
       " 'execution_timeout': {'__type': 'TimeDelta',\n",
       "  'days': 0,\n",
       "  'microseconds': 0,\n",
       "  'seconds': 300},\n",
       " 'extra_links': [],\n",
       " 'owner': 'airflow',\n",
       " 'pool': 'default_pool',\n",
       " 'pool_slots': 1.0,\n",
       " 'priority_weight': 1.0,\n",
       " 'queue': 'default',\n",
       " 'retries': 0.0,\n",
       " 'retry_delay': {'__type': 'TimeDelta',\n",
       "  'days': 0,\n",
       "  'microseconds': 0,\n",
       "  'seconds': 300},\n",
       " 'retry_exponential_backoff': False,\n",
       " 'start_date': '2022-05-09T17:00:00+00:00',\n",
       " 'task_id': 'dummy_end',\n",
       " 'template_fields': [],\n",
       " 'trigger_rule': 'all_success',\n",
       " 'ui_color': '#e8f7e4',\n",
       " 'ui_fgcolor': '#000',\n",
       " 'wait_for_downstream': False,\n",
       " 'weight_rule': 'downstream'}"
      ]
     },
     "execution_count": 46,
     "metadata": {},
     "output_type": "execute_result"
    }
   ],
   "source": [
    "response.json()"
   ]
  },
  {
   "cell_type": "code",
   "execution_count": null,
   "metadata": {},
   "outputs": [],
   "source": []
  }
 ],
 "metadata": {
  "kernelspec": {
   "display_name": "Python 3.8.10 ('venv': venv)",
   "language": "python",
   "name": "python3"
  },
  "language_info": {
   "codemirror_mode": {
    "name": "ipython",
    "version": 3
   },
   "file_extension": ".py",
   "mimetype": "text/x-python",
   "name": "python",
   "nbconvert_exporter": "python",
   "pygments_lexer": "ipython3",
   "version": "3.8.10"
  },
  "orig_nbformat": 4,
  "vscode": {
   "interpreter": {
    "hash": "8fb55849e6741974ce442ee684e971e1b6b22c29ca2b25c3b9069bf531e0354a"
   }
  }
 },
 "nbformat": 4,
 "nbformat_minor": 2
}
