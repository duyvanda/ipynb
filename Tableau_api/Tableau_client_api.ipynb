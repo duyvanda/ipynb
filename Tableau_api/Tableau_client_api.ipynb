{
 "cells": [
  {
   "cell_type": "code",
   "execution_count": 1,
   "id": "22241d77",
   "metadata": {
    "scrolled": true
   },
   "outputs": [],
   "source": [
    "import tableauserverclient as TSC"
   ]
  },
  {
   "cell_type": "code",
   "execution_count": 2,
   "metadata": {},
   "outputs": [],
   "source": [
    "tableau_auth = TSC.TableauAuth('biteam', 'L,p7NE8a4B_)c`/RCk).')\n",
    "server = TSC.Server('http://203.205.27.73/', use_server_version=True)"
   ]
  },
  {
   "cell_type": "code",
   "execution_count": 3,
   "metadata": {},
   "outputs": [
    {
     "name": "stdout",
     "output_type": "stream",
     "text": [
      "3.11\n"
     ]
    }
   ],
   "source": [
    "server.auth.sign_in(tableau_auth)\n",
    "print(server.version)\n",
    "server.auth.sign_out()"
   ]
  },
  {
   "cell_type": "code",
   "execution_count": 4,
   "metadata": {},
   "outputs": [
    {
     "name": "stdout",
     "output_type": "stream",
     "text": [
      "\n",
      "There are 1 datasources on site: \n",
      "['Superstore Datasource']\n"
     ]
    }
   ],
   "source": [
    "with server.auth.sign_in(tableau_auth):\n",
    "    all_datasources, pagination_item = server.datasources.get()\n",
    "    print(\"\\nThere are {} datasources on site: \".format(pagination_item.total_available))\n",
    "    print([datasource.name for datasource in all_datasources])"
   ]
  },
  {
   "cell_type": "code",
   "execution_count": 5,
   "metadata": {},
   "outputs": [
    {
     "name": "stdout",
     "output_type": "stream",
     "text": [
      "3.11\n"
     ]
    }
   ],
   "source": [
    "server.auth.sign_in(tableau_auth)\n",
    "print(server.version)\n",
    "# server.auth.sign_out()"
   ]
  },
  {
   "cell_type": "code",
   "execution_count": 6,
   "metadata": {},
   "outputs": [
    {
     "name": "stdout",
     "output_type": "stream",
     "text": [
      "\n",
      "There are 7 workbooks on site: \n",
      "f48b8728-9325-413e-8b68-b35aa00b373d Regional\n",
      "54bc3e78-affc-484e-8371-f3e3c60f5e1d Superstore\n",
      "e36ead10-1b29-4a8e-9210-2b286762ec21 Báo Cáo Sales Trong Tháng v1.2\n",
      "0b076e4f-36f7-4c3c-ac2e-ae758dadac3d Báo Cáo Sales Trong Tháng v1.2td\n",
      "d84f3ab5-393e-4faf-8f8f-9814823ae49f Báo Cáo Doanh Thu Tiền Mặt\n",
      "d15e325f-6485-45fa-a301-045e6fed0192 Báo cáo tháng\n",
      "9505e5d6-287f-492c-b4d8-13c6ab657824 book1\n"
     ]
    }
   ],
   "source": [
    "with server.auth.sign_in(tableau_auth):\n",
    "    all_wb, pagination_item = server.workbooks.get()\n",
    "    print(\"\\nThere are {} workbooks on site: \".format(pagination_item.total_available))\n",
    "    for wb in all_wb:\n",
    "        print(wb.id, wb.name)"
   ]
  },
  {
   "cell_type": "code",
   "execution_count": 23,
   "metadata": {},
   "outputs": [],
   "source": [
    "workbook = server.workbooks.get_by_id('9505e5d6-287f-492c-b4d8-13c6ab657824')"
   ]
  },
  {
   "cell_type": "code",
   "execution_count": 34,
   "metadata": {},
   "outputs": [],
   "source": [
    "workbook.updated_at\n",
    "server.auth.sign_out()"
   ]
  },
  {
   "cell_type": "code",
   "execution_count": 21,
   "metadata": {},
   "outputs": [
    {
     "name": "stdout",
     "output_type": "stream",
     "text": [
      "\n",
      "The data of workbook <Job#3964ce66-9df0-4733-9e18-5287b9d46eca RefreshExtract created_at(2021-10-09 08:09:27+00:00) started_at(None) completed_at(None) progress (None) finish_code(-1)> is refreshed.\n"
     ]
    }
   ],
   "source": [
    "with server.auth.sign_in(tableau_auth):\n",
    "\n",
    "    # get the workbook item from the site\n",
    "    workbook = server.workbooks.get_by_id('9505e5d6-287f-492c-b4d8-13c6ab657824')\n",
    "\n",
    "    # call the update method\n",
    "    workbook = server.workbooks.refresh(workbook)\n",
    "    print(\"\\nThe data of workbook {0} is refreshed.\".format(workbook))\n"
   ]
  },
  {
   "cell_type": "code",
   "execution_count": null,
   "metadata": {},
   "outputs": [],
   "source": []
  }
 ],
 "metadata": {
  "interpreter": {
   "hash": "f94d6dad5013d632e8b52fc362848c71d5234e1d7ba23afa22c3a2e55512dabd"
  },
  "kernelspec": {
   "display_name": "Python 3.9.6 64-bit ('venv': venv)",
   "name": "python3"
  },
  "language_info": {
   "codemirror_mode": {
    "name": "ipython",
    "version": 3
   },
   "file_extension": ".py",
   "mimetype": "text/x-python",
   "name": "python",
   "nbconvert_exporter": "python",
   "pygments_lexer": "ipython3",
   "version": "3.9.6"
  }
 },
 "nbformat": 4,
 "nbformat_minor": 5
}
