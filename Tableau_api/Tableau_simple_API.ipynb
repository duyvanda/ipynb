{
 "cells": [
  {
   "cell_type": "code",
   "execution_count": 37,
   "id": "22241d77",
   "metadata": {
    "scrolled": true
   },
   "outputs": [
    {
     "name": "stdout",
     "output_type": "stream",
     "text": [
      "check this: https://github.com/tableau/rest-api-samples\n"
     ]
    }
   ],
   "source": [
    "print('check this: https://github.com/tableau/rest-api-samples')\n",
    "import requests # Contains methods used to make HTTP requests\n",
    "import xml.etree.ElementTree as ET # Contains methods used to build and parse XML\n",
    "import sys\n",
    "import os\n",
    "import math\n",
    "import getpass\n",
    "\n",
    "# The following packages are used to build a multi-part/mixed request.\n",
    "# They are contained in the 'requests' library\n",
    "from requests.packages.urllib3.fields import RequestField\n",
    "from requests.packages.urllib3.filepost import encode_multipart_formdata\n",
    "\n",
    "# The namespace for the REST API is 'http://tableausoftware.com/api' for Tableau Server 9.0\n",
    "# or 'http://tableau.com/api' for Tableau Server 9.1 or later\n",
    "xmlns = {'t': 'http://tableau.com/api'}\n",
    "\n",
    "# The maximum size of a file that can be published in a single request is 64MB\n",
    "FILESIZE_LIMIT = 1024 * 1024 * 64   # 64MB\n",
    "\n",
    "# For when a workbook is over 64MB, break it into 5MB(standard chunk size) chunks\n",
    "CHUNK_SIZE = 1024 * 1024 * 5    # 5MB\n",
    "\n",
    "# If using python version 3.x, 'raw_input()' is changed to 'input()'\n",
    "if sys.version[0] == '3': raw_input=input\n",
    "\n",
    "\n",
    "\n",
    "class ApiCallError(Exception):\n",
    "    pass\n",
    "\n",
    "\n",
    "class UserDefinedFieldError(Exception):\n",
    "    pass\n",
    "\n",
    "\n",
    "def _encode_for_display(text):\n",
    "    \"\"\"\n",
    "    Encodes strings so they can display as ASCII in a Windows terminal window.\n",
    "    This function also encodes strings for processing by xml.etree.ElementTree functions. \n",
    "    \n",
    "    Returns an ASCII-encoded version of the text.\n",
    "    Unicode characters are converted to ASCII placeholders (for example, \"?\").\n",
    "    \"\"\"\n",
    "    return text.encode('ascii', errors=\"backslashreplace\").decode('utf-8')\n",
    "\n",
    "\n",
    "def _make_multipart(parts):\n",
    "    \"\"\"\n",
    "    Creates one \"chunk\" for a multi-part upload\n",
    "    'parts' is a dictionary that provides key-value pairs of the format name: (filename, body, content_type).\n",
    "    Returns the post body and the content type string.\n",
    "    For more information, see this post:\n",
    "        http://stackoverflow.com/questions/26299889/how-to-post-multipart-list-of-json-xml-files-using-python-requests\n",
    "    \"\"\"\n",
    "    mime_multipart_parts = []\n",
    "    for name, (filename, blob, content_type) in parts.items():\n",
    "        multipart_part = RequestField(name=name, data=blob, filename=filename)\n",
    "        multipart_part.make_multipart(content_type=content_type)\n",
    "        mime_multipart_parts.append(multipart_part)\n",
    "\n",
    "    post_body, content_type = encode_multipart_formdata(mime_multipart_parts)\n",
    "    content_type = ''.join(('multipart/mixed',) + content_type.partition(';')[1:])\n",
    "    return post_body, content_type\n",
    "\n",
    "\n",
    "def _check_status(server_response, success_code):\n",
    "    \"\"\"\n",
    "    Checks the server response for possible errors.\n",
    "    'server_response'       the response received from the server\n",
    "    'success_code'          the expected success code for the response\n",
    "    Throws an ApiCallError exception if the API call fails.\n",
    "    \"\"\"\n",
    "    if server_response.status_code != success_code:\n",
    "        parsed_response = ET.fromstring(server_response.text)\n",
    "\n",
    "        # Obtain the 3 xml tags from the response: error, summary, and detail tags\n",
    "        error_element = parsed_response.find('t:error', namespaces=xmlns)\n",
    "        summary_element = parsed_response.find('.//t:summary', namespaces=xmlns)\n",
    "        detail_element = parsed_response.find('.//t:detail', namespaces=xmlns)\n",
    "\n",
    "        # Retrieve the error code, summary, and detail if the response contains them\n",
    "        code = error_element.get('code', 'unknown') if error_element is not None else 'unknown code'\n",
    "        summary = summary_element.text if summary_element is not None else 'unknown summary'\n",
    "        detail = detail_element.text if detail_element is not None else 'unknown detail'\n",
    "        error_message = '{0}: {1} - {2}'.format(code, summary, detail)\n",
    "        raise ApiCallError(error_message)\n",
    "    return\n",
    "\n",
    "def sign_out(server, auth_token):\n",
    "    \"\"\"\n",
    "    Destroys the active session and invalidates authentication token.\n",
    "    'server'        specified server address\n",
    "    'auth_token'    authentication token that grants user access to API calls\n",
    "    \"\"\"\n",
    "    url = server + \"/api/{0}/auth/signout\".format(VERSION)\n",
    "    server_response = requests.post(url, headers={'x-tableau-auth': auth_token})\n",
    "    _check_status(server_response, 204)\n",
    "    return\n",
    "\n",
    "\n",
    "def start_upload_session(server, auth_token, site_id):\n",
    "    \"\"\"\n",
    "    Creates a POST request that initiates a file upload session.\n",
    "    'server'        specified server address\n",
    "    'auth_token'    authentication token that grants user access to API calls\n",
    "    'site_id'       ID of the site that the user is signed into\n",
    "    Returns a session ID that is used by subsequent functions to identify the upload session.\n",
    "    \"\"\"\n",
    "    url = server + \"/api/{0}/sites/{1}/fileUploads\".format(VERSION, site_id)\n",
    "    server_response = requests.post(url, headers={'x-tableau-auth': auth_token})\n",
    "    _check_status(server_response, 201)\n",
    "    xml_response = ET.fromstring(_encode_for_display(server_response.text))\n",
    "    return xml_response.find('t:fileUpload', namespaces=xmlns).get('uploadSessionId')\n",
    "\n",
    "\n",
    "def get_default_project_id(server, auth_token, site_id):\n",
    "    \"\"\"\n",
    "    Returns the project ID for the 'default' project on the Tableau server.\n",
    "    'server'        specified server address\n",
    "    'auth_token'    authentication token that grants user access to API calls\n",
    "    'site_id'       ID of the site that the user is signed into\n",
    "    \"\"\"\n",
    "    page_num, page_size = 1, 100   # Default paginating values\n",
    "\n",
    "    # Builds the request\n",
    "    url = server + \"/api/{0}/sites/{1}/projects\".format(VERSION, site_id)\n",
    "    paged_url = url + \"?pageSize={0}&pageNumber={1}\".format(page_size, page_num)\n",
    "    server_response = requests.get(paged_url, headers={'x-tableau-auth': auth_token})\n",
    "    _check_status(server_response, 200)\n",
    "    xml_response = ET.fromstring(_encode_for_display(server_response.text))\n",
    "\n",
    "    # Used to determine if more requests are required to find all projects on server\n",
    "    total_projects = int(xml_response.find('t:pagination', namespaces=xmlns).get('totalAvailable'))\n",
    "    max_page = int(math.ceil(total_projects / page_size))\n",
    "\n",
    "    projects = xml_response.findall('.//t:project', namespaces=xmlns)\n",
    "\n",
    "    # Continue querying if more projects exist on the server\n",
    "    for page in range(2, max_page + 1):\n",
    "        paged_url = url + \"?pageSize={0}&pageNumber={1}\".format(page_size, page)\n",
    "        server_response = requests.get(paged_url, headers={'x-tableau-auth': auth_token})\n",
    "        _check_status(server_response, 200)\n",
    "        xml_response = ET.fromstring(_encode_for_display(server_response.text))\n",
    "        projects.extend(xml_response.findall('.//t:project', namespaces=xmlns))\n",
    "\n",
    "    # Look through all projects to find the 'default' one\n",
    "    for project in projects:\n",
    "        if project.get('name') == 'default' or project.get('name') == 'Default':\n",
    "            return project.get('id')\n",
    "    raise LookupError(\"Project named 'default' was not found on server\")"
   ]
  },
  {
   "cell_type": "raw",
   "id": "9df1975c",
   "metadata": {},
   "source": [
    "# Create Project\n",
    "xml_request = ET.Element('tsRequest')\n",
    "project_element = ET.SubElement(xml_request, 'project', name=\"new-project-name\", description=\"This is a new project\")\n",
    "ET.tostring(xml_request)\n",
    "xml_request = ET.tostring(xml_request)\n",
    "xml_request\n",
    "server='http://203.205.27.73'\n",
    "username='admin'\n",
    "password='Merap@123'\n",
    "site=\"\"\n",
    "site_id='a4821863-b74a-4ab9-91be-dcbaf98b9583'\n",
    "token='hM9xhktVRyuL20FNosFhvQ|jEkdv46SwbJbwGH1zhN2cobX600Hh7tG'\n",
    "url = server + \"/api/{0}/sites/{1}/projects\".format(VERSION, site_id)\n",
    "print(url)\n",
    "requests.post(url, data=xml_request, headers={'x-tableau-auth': token})"
   ]
  },
  {
   "cell_type": "raw",
   "id": "6ec7a52b",
   "metadata": {},
   "source": [
    "# Sign in"
   ]
  },
  {
   "cell_type": "code",
   "execution_count": 6,
   "id": "21492e47",
   "metadata": {
    "scrolled": true
   },
   "outputs": [
    {
     "name": "stdout",
     "output_type": "stream",
     "text": [
      "1vnmcEwXToa2JMwDnM3_9w|4zt3Q6HZgXxlRtGZeqxiNX5VAoPpQh8P a4821863-b74a-4ab9-91be-dcbaf98b9583\n"
     ]
    }
   ],
   "source": [
    "server='http://203.205.27.73/'\n",
    "username='biteam'\n",
    "password='L,p7NE8a4B_)c`/RCk).'\n",
    "site=\"\"\n",
    "VERSION = '3.4'\n",
    "url = server + \"/api/{0}/auth/signin\".format(VERSION)\n",
    "\n",
    "# Builds the request\n",
    "xml_request = ET.Element('tsRequest')\n",
    "credentials_element = ET.SubElement(xml_request, 'credentials', name=username, password=password)\n",
    "ET.SubElement(credentials_element, 'site', contentUrl=site)\n",
    "xml_request = ET.tostring(xml_request)\n",
    "\n",
    "# Make the request to server\n",
    "server_response = requests.post(url, data=xml_request)\n",
    "_check_status(server_response, 200)\n",
    "\n",
    "# ASCII encode server response to enable displaying to console\n",
    "server_response = _encode_for_display(server_response.text)\n",
    "\n",
    "# Reads and parses the response\n",
    "parsed_response = ET.fromstring(server_response)\n",
    "\n",
    "# Gets the auth token and site ID\n",
    "token = parsed_response.find('t:credentials', namespaces=xmlns).get('token')\n",
    "site_id = parsed_response.find('.//t:site', namespaces=xmlns).get('id')\n",
    "print(token, site_id)"
   ]
  },
  {
   "cell_type": "code",
   "execution_count": 17,
   "id": "5d274285",
   "metadata": {},
   "outputs": [
    {
     "name": "stdout",
     "output_type": "stream",
     "text": [
      "<Element '{http://tableau.com/api}tsResponse' at 0x00000149A3373CC0>\n"
     ]
    }
   ],
   "source": [
    "print(parsed_response)"
   ]
  },
  {
   "cell_type": "code",
   "execution_count": 81,
   "id": "f1723429",
   "metadata": {},
   "outputs": [],
   "source": [
    "workbook_file_path = os.path.abspath('C:/Users/DELL/Downloads/test1.twbx')\n",
    "workbook_file = os.path.basename(workbook_file_path)\n",
    "workbook_filename, file_extension = workbook_file.split('.', 1)"
   ]
  },
  {
   "cell_type": "code",
   "execution_count": 70,
   "id": "831b34e4",
   "metadata": {},
   "outputs": [
    {
     "name": "stdout",
     "output_type": "stream",
     "text": [
      "\n",
      "*Publishing 'test1.twbx' to the default project as admin*\n"
     ]
    }
   ],
   "source": [
    "print(\"\\n*Publishing '{0}' to the default project as {1}*\".format(workbook_file, username))"
   ]
  },
  {
   "cell_type": "code",
   "execution_count": 72,
   "id": "2e0b52b0",
   "metadata": {},
   "outputs": [
    {
     "name": "stdout",
     "output_type": "stream",
     "text": [
      "533371\n",
      "False\n"
     ]
    }
   ],
   "source": [
    "workbook_size = os.path.getsize(workbook_file_path)\n",
    "chunked = workbook_size >= FILESIZE_LIMIT\n",
    "print(workbook_size)\n",
    "print(chunked)"
   ]
  },
  {
   "cell_type": "code",
   "execution_count": 73,
   "id": "5b8e26e7",
   "metadata": {},
   "outputs": [],
   "source": [
    "project_id=\"a2effea6-5c3c-40a7-ac6e-2870b4030c0d\""
   ]
  },
  {
   "cell_type": "code",
   "execution_count": 74,
   "id": "5caacc21",
   "metadata": {},
   "outputs": [],
   "source": [
    "xml_request = ET.Element('tsRequest')\n",
    "workbook_element = ET.SubElement(xml_request, 'workbook', name=\"workbook_filename_onserver\")\n",
    "ET.SubElement(workbook_element, 'project', id=project_id)\n",
    "xml_request = ET.tostring(xml_request)"
   ]
  },
  {
   "cell_type": "code",
   "execution_count": 75,
   "id": "54939772",
   "metadata": {},
   "outputs": [
    {
     "name": "stdout",
     "output_type": "stream",
     "text": [
      "b'<tsRequest><workbook name=\"workbook_filename\"><project id=\"a2effea6-5c3c-40a7-ac6e-2870b4030c0d\" /></workbook></tsRequest>'\n"
     ]
    }
   ],
   "source": [
    "print(xml_request)"
   ]
  },
  {
   "cell_type": "raw",
   "id": "cde5a924",
   "metadata": {},
   "source": [
    "### Debug multipart_request\n",
    "multipart_part = RequestField(name='request_payload', data=xml_request, filename='')\n",
    "multipart_part.make_multipart(content_type='text/xml')\n",
    "multipart_part2 = RequestField(name='tableau_workbook', data=xml_request, filename='test1')\n",
    "multipart_part2.make_multipart(content_type='text/xml')\n",
    "multipart_part3 =[]\n",
    "multipart_part3.append(multipart_part)\n",
    "multipart_part3.append(multipart_part2)\n",
    "post_body, content_type = encode_multipart_formdata(multipart_part3)\n",
    "print(post_body)\n",
    "print(content_type)"
   ]
  },
  {
   "cell_type": "code",
   "execution_count": 76,
   "id": "b5eaefa3",
   "metadata": {},
   "outputs": [
    {
     "name": "stdout",
     "output_type": "stream",
     "text": [
      "\n",
      "3. Publishing 'test1.twbx' using the all-in-one method (workbook under 64MB)\n"
     ]
    }
   ],
   "source": [
    "print(\"\\n3. Publishing '\" + workbook_file + \"' using the all-in-one method (workbook under 64MB)\")\n",
    "# Read the contents of the file to publish\n",
    "with open(workbook_file_path, 'rb') as f:\n",
    "    workbook_bytes = f.read()\n",
    "\n",
    "# Finish building request for all-in-one method\n",
    "parts = {'request_payload': ('', xml_request, 'text/xml'),\n",
    "         'tableau_workbook': (workbook_file, workbook_bytes, 'application/octet-stream')}\n",
    "payload, content_type = _make_multipart(parts)\n",
    "\n",
    "publish_url = server + \"/api/{0}/sites/{1}/workbooks\".format(VERSION, site_id)\n",
    "publish_url += \"?workbookType={0}&overwrite=true\".format(file_extension)"
   ]
  },
  {
   "cell_type": "code",
   "execution_count": 78,
   "id": "c54411e3",
   "metadata": {},
   "outputs": [
    {
     "name": "stdout",
     "output_type": "stream",
     "text": [
      "\tUploading...\n"
     ]
    }
   ],
   "source": [
    "print(\"\\tUploading...\")\n",
    "server_response = requests.post(publish_url, data=payload, headers={'x-tableau-auth': token, 'content-type': content_type})\n",
    "_check_status(server_response, 201)"
   ]
  },
  {
   "cell_type": "code",
   "execution_count": 95,
   "id": "4e018780",
   "metadata": {},
   "outputs": [],
   "source": [
    "# data source uploadd"
   ]
  },
  {
   "cell_type": "code",
   "execution_count": 96,
   "id": "fff1898b",
   "metadata": {},
   "outputs": [],
   "source": [
    "ds_file_path = os.path.abspath('C:/Users/DELL/Downloads/test.hyper')\n",
    "ds_file = os.path.basename(workbook_file_path)\n",
    "ds_filename, file_extension = workbook_file.split('.', 1)"
   ]
  },
  {
   "cell_type": "code",
   "execution_count": 97,
   "id": "f5dc341b",
   "metadata": {},
   "outputs": [
    {
     "name": "stdout",
     "output_type": "stream",
     "text": [
      "65536\n",
      "False\n"
     ]
    }
   ],
   "source": [
    "ds_size = os.path.getsize(workbook_file_path)\n",
    "chunked = ds_size >= FILESIZE_LIMIT\n",
    "print(ds_size)\n",
    "print(chunked)"
   ]
  },
  {
   "cell_type": "code",
   "execution_count": 98,
   "id": "0675e304",
   "metadata": {},
   "outputs": [],
   "source": [
    "project_id=\"a2effea6-5c3c-40a7-ac6e-2870b4030c0d\""
   ]
  },
  {
   "cell_type": "code",
   "execution_count": 99,
   "id": "501a2ae3",
   "metadata": {},
   "outputs": [
    {
     "data": {
      "text/plain": [
       "b'<tsRequest><datasource name=\"ds_filename_onserver\"><project id=\"a2effea6-5c3c-40a7-ac6e-2870b4030c0d\" /></datasource></tsRequest>'"
      ]
     },
     "execution_count": 99,
     "metadata": {},
     "output_type": "execute_result"
    }
   ],
   "source": [
    "xml_request = ET.Element('tsRequest')\n",
    "workbook_element = ET.SubElement(xml_request, 'datasource', name=\"ds_filename_onserver\")\n",
    "ET.SubElement(workbook_element, 'project', id=project_id)\n",
    "xml_request = ET.tostring(xml_request)\n",
    "xml_request"
   ]
  },
  {
   "cell_type": "code",
   "execution_count": 103,
   "id": "fa9c57ea",
   "metadata": {},
   "outputs": [
    {
     "name": "stdout",
     "output_type": "stream",
     "text": [
      "\n",
      "3. Publishing 'test.hyper' using the all-in-one method (ds under 64MB)\n",
      "http://203.205.27.73//api/3.4/sites/a4821863-b74a-4ab9-91be-dcbaf98b9583/datasources?datasourceType=hyper&overwrite=true\n"
     ]
    }
   ],
   "source": [
    "print(\"\\n3. Publishing '\" + ds_file + \"' using the all-in-one method (ds under 64MB)\")\n",
    "# Read the contents of the file to publish\n",
    "with open(ds_file_path, 'rb') as f:\n",
    "    ds_bytes = f.read()\n",
    "\n",
    "# Finish building request for all-in-one method\n",
    "parts = {'request_payload': ('', xml_request, 'text/xml'),\n",
    "         'tableau_datasource': (ds_file, ds_bytes, 'application/octet-stream')}\n",
    "payload, content_type = _make_multipart(parts)\n",
    "\n",
    "publish_url = server + \"/api/{0}/sites/{1}/datasources\".format(VERSION, site_id)\n",
    "publish_url += \"?datasourceType={0}&overwrite=true\".format(file_extension)\n",
    "print(publish_url)"
   ]
  },
  {
   "cell_type": "code",
   "execution_count": 104,
   "id": "e03e52bf",
   "metadata": {},
   "outputs": [
    {
     "name": "stdout",
     "output_type": "stream",
     "text": [
      "\tUploading...\n"
     ]
    }
   ],
   "source": [
    "print(\"\\tUploading...\")\n",
    "server_response = requests.post(publish_url, data=payload, headers={'x-tableau-auth': token, 'content-type': content_type})\n",
    "_check_status(server_response, 201)\n",
    "print(\"\\tDone\")"
   ]
  },
  {
   "cell_type": "code",
   "execution_count": 1,
   "id": "69bd720c",
   "metadata": {},
   "outputs": [],
   "source": [
    "# Run flow"
   ]
  },
  {
   "cell_type": "code",
   "execution_count": 2,
   "id": "21e7dd8f",
   "metadata": {},
   "outputs": [],
   "source": [
    "flow_id=\"64d49917-6560-4328-b765-5dfd34f48997\""
   ]
  },
  {
   "cell_type": "code",
   "execution_count": 7,
   "id": "e10efc4d",
   "metadata": {},
   "outputs": [
    {
     "data": {
      "text/plain": [
       "b'<tsRequest />'"
      ]
     },
     "execution_count": 7,
     "metadata": {},
     "output_type": "execute_result"
    }
   ],
   "source": [
    "xml_request = ET.Element('tsRequest')\n",
    "xml_request = ET.tostring(xml_request)\n",
    "xml_request"
   ]
  },
  {
   "cell_type": "code",
   "execution_count": 9,
   "id": "e90f9f35",
   "metadata": {},
   "outputs": [
    {
     "name": "stdout",
     "output_type": "stream",
     "text": [
      "http://203.205.27.73//api/3.4/sites/a4821863-b74a-4ab9-91be-dcbaf98b9583/flows/64d49917-6560-4328-b765-5dfd34f48997/run\n"
     ]
    }
   ],
   "source": [
    "publish_url = server + \"/api/{0}/sites/{1}/flows/{2}/run\".format(VERSION, site_id, flow_id)\n",
    "print(publish_url)"
   ]
  },
  {
   "cell_type": "code",
   "execution_count": 14,
   "id": "ffe2918a",
   "metadata": {},
   "outputs": [],
   "source": [
    "server_response = requests.post(publish_url, data=xml_request, headers={'x-tableau-auth': token})\n",
    "_check_status(server_response, 200)\n",
    "# ASCII encode server response to enable displaying to console\n",
    "server_response = _encode_for_display(server_response.text)\n",
    "# Reads and parses the response\n",
    "parsed_response = ET.fromstring(server_response)"
   ]
  },
  {
   "cell_type": "code",
   "execution_count": 29,
   "id": "db12168f",
   "metadata": {},
   "outputs": [
    {
     "name": "stdout",
     "output_type": "stream",
     "text": [
      "0ce5bde4-8068-48ac-b501-418bc0a36a5c---\n",
      "b'<ns0:tsResponse xmlns:ns0=\"http://tableau.com/api\" xmlns:xsi=\"http://www.w3.org/2001/XMLSchema-instance\" xsi:schemaLocation=\"http://tableau.com/api http://tableau.com/api/ts-api-3.4.xsd\"><ns0:job id=\"0ce5bde4-8068-48ac-b501-418bc0a36a5c\" mode=\"Asynchronous\" type=\"RunFlow\" createdAt=\"2021-08-13T08:39:30Z\"><ns0:runFlowJobType><ns0:flow id=\"64d49917-6560-4328-b765-5dfd34f48997\" name=\"F_raw_data_test\" /></ns0:runFlowJobType></ns0:job></ns0:tsResponse>'\n"
     ]
    }
   ],
   "source": [
    "jobid = parsed_response.find('t:job', namespaces=xmlns).get('id')\n",
    "print(jobid+'---')\n",
    "print(ET.tostring(parsed_response))"
   ]
  },
  {
   "cell_type": "code",
   "execution_count": null,
   "id": "88e1b16a",
   "metadata": {},
   "outputs": [],
   "source": []
  }
 ],
 "metadata": {
  "kernelspec": {
   "display_name": "Python 3 (ipykernel)",
   "language": "python",
   "name": "python3"
  },
  "language_info": {
   "codemirror_mode": {
    "name": "ipython",
    "version": 3
   },
   "file_extension": ".py",
   "mimetype": "text/x-python",
   "name": "python",
   "nbconvert_exporter": "python",
   "pygments_lexer": "ipython3",
   "version": "3.9.6"
  }
 },
 "nbformat": 4,
 "nbformat_minor": 5
}
